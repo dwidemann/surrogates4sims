{
 "cells": [
  {
   "cell_type": "markdown",
   "metadata": {},
   "source": [
    "## Latent Integration Network (LIN)\n",
    "This notebook gives an example of how to train a LIN on SVD vectors. Note: 05_experiment_SVD.ipynb created and saved the SVD Decomposition. "
   ]
  },
  {
   "cell_type": "markdown",
   "metadata": {},
   "source": [
    "## Imports"
   ]
  },
  {
   "cell_type": "code",
   "execution_count": null,
   "metadata": {},
   "outputs": [],
   "source": [
    "# EXPORT\n",
    "# --- Must haves ---\n",
    "import os, sys\n",
    "sys.path.append('..')\n",
    "\n",
    "import torch\n",
    "from torch.utils.data import Dataset, DataLoader\n",
    "from torch.utils.tensorboard import SummaryWriter\n",
    "import torch.cuda as cuda\n",
    "import torch.nn as nn\n",
    "import torchvision\n",
    "import torch.nn.functional as F\n",
    "\n",
    "from surrogates4sims.mantaflowDatasets import MantaFlowDataset, getSingleSim, createMantaFlowTrainTest\n",
    "\n",
    "from surrogates4sims.utils import create_opt, create_one_cycle, find_lr, printNumModelParams, \\\n",
    "                                    rmse, writeMessage, plotSampleWprediction, plotSampleWpredictionByChannel, \\\n",
    "                                    plotSample, curl, jacobian, stream2uv, create_movie, convertSimToImage, \\\n",
    "                                    pkl_save, pkl_load, reconFrame\n",
    "\n",
    "#from surrogates4sims.models import Generator, Encoder, AE_no_P, AE_xhat_z, AE_xhat_zV2\n",
    "\n",
    "from surrogates4sims.train import trainEpoch, validEpoch\n",
    "\n",
    "from surrogates4sims.svd import MantaFlowSVDDataset\n",
    "\n",
    "import numpy as np\n",
    "from tqdm import tqdm\n",
    "from copy import deepcopy\n",
    "import matplotlib.pyplot as plt\n",
    "import pickle"
   ]
  },
  {
   "cell_type": "markdown",
   "metadata": {},
   "source": [
    "## Settings"
   ]
  },
  {
   "cell_type": "code",
   "execution_count": null,
   "metadata": {},
   "outputs": [
    {
     "data": {
      "text/plain": [
       "'LIN_manta_SVD_MLP_GPUs0_w30_latentDim16_hd128_128_bz64_epochs1000'"
      ]
     },
     "execution_count": null,
     "metadata": {},
     "output_type": "execute_result"
    }
   ],
   "source": [
    "DEBUG = False\n",
    "# model name, for tensorboard recording and checkpointing purposes.\n",
    "versionName = \"LIN_manta_SVD_MLP\"\n",
    "\n",
    "# GPU Numbers to use. Comma seprate them for multi-GPUs.\n",
    "gpu_ids = \"0\"#,1,2,3\"\n",
    "versionName = versionName + '_GPUs{}'.format(gpu_ids.replace(',',''))\n",
    "# path to load model weights.\n",
    "pretrained_path = None\n",
    "\n",
    "# rate at which to record metrics. (number of batches to average over when recording metrics, e.g. \"every 5 batches\")\n",
    "tensorboard_rate = 5\n",
    "\n",
    "# number of epochs to train. This is defined here so we can use the OneCycle LR Scheduler.\n",
    "epochs = 1000\n",
    "\n",
    "# Data Directory\n",
    "dataDirec = '/data/mantaFlowSim/data/smoke_pos21_size5_f200/v'\n",
    "reverseXY = False \n",
    "SVDFn = '/data/mantaFlowSim/data/smoke_pos21_size5_f200/svd/svd.pkl'\n",
    "svd_vec_file = '/data/mantaFlowSim/data/smoke_pos21_size5_f200/svd/mantaSVDvecs.pkl'\n",
    "FakeData = False\n",
    "\n",
    "# checkpoint directory\n",
    "cps = 'cps'\n",
    "tensorboard_direc = \"tb\"\n",
    "\n",
    "findLRs = True  \n",
    "patience = 1\n",
    "\n",
    "# hyper-params\n",
    "seed = 1234\n",
    "np.random.seed(seed)\n",
    "testSplit = .1\n",
    "bz = 64\n",
    "numSamplesToKeep = np.infty #if not debugging\n",
    "latentDim = 512\n",
    "simLen = 200\n",
    "\n",
    "w = 30\n",
    "numComponents = 16 # this does not include p. so the vectors will be of size numComponents + len(p)\n",
    "hiddenLayers = [128,128]\n",
    "hd ='_'.join(map(str,hiddenLayers))\n",
    "activation = nn.Tanh()\n",
    "\n",
    "if DEBUG:\n",
    "    epochs = 2\n",
    "    numSamplesToKeep = 200\n",
    "    createDebugData = True\n",
    "    \n",
    "\n",
    "versionName = versionName + '_w{}_latentDim{}_hd{}_bz{}_epochs{}'.format(w,numComponents,hd,bz,epochs)\n",
    "versionName"
   ]
  },
  {
   "cell_type": "markdown",
   "metadata": {},
   "source": [
    "## Select Personal GPUs"
   ]
  },
  {
   "cell_type": "code",
   "execution_count": null,
   "metadata": {},
   "outputs": [
    {
     "name": "stdout",
     "output_type": "stream",
     "text": [
      "Mon Oct 12 18:08:19 2020       \n",
      "+-----------------------------------------------------------------------------+\n",
      "| NVIDIA-SMI 440.33.01    Driver Version: 440.33.01    CUDA Version: 10.2     |\n",
      "|-------------------------------+----------------------+----------------------+\n",
      "| GPU  Name        Persistence-M| Bus-Id        Disp.A | Volatile Uncorr. ECC |\n",
      "| Fan  Temp  Perf  Pwr:Usage/Cap|         Memory-Usage | GPU-Util  Compute M. |\n",
      "|===============================+======================+======================|\n",
      "|   0  TITAN Xp            Off  | 00000000:02:00.0 Off |                  N/A |\n",
      "| 23%   29C    P2    60W / 250W |    547MiB / 12196MiB |      0%      Default |\n",
      "+-------------------------------+----------------------+----------------------+\n",
      "|   1  TITAN Xp            Off  | 00000000:03:00.0 Off |                  N/A |\n",
      "| 17%   25C    P0    55W / 250W |      0MiB / 12196MiB |      0%      Default |\n",
      "+-------------------------------+----------------------+----------------------+\n",
      "|   2  TITAN Xp            Off  | 00000000:81:00.0 Off |                  N/A |\n",
      "| 54%   83C    P2   230W / 250W |   4533MiB / 12196MiB |     95%      Default |\n",
      "+-------------------------------+----------------------+----------------------+\n",
      "|   3  TITAN Xp            Off  | 00000000:82:00.0 Off |                  N/A |\n",
      "| 51%   79C    P2   225W / 250W |   4533MiB / 12196MiB |     83%      Default |\n",
      "+-------------------------------+----------------------+----------------------+\n",
      "                                                                               \n",
      "+-----------------------------------------------------------------------------+\n",
      "| Processes:                                                       GPU Memory |\n",
      "|  GPU       PID   Type   Process name                             Usage      |\n",
      "|=============================================================================|\n",
      "|    0     12584      C   ...emann1/anaconda3/envs/torch2/bin/python   537MiB |\n",
      "|    2     14711      C   python                                      4523MiB |\n",
      "|    3      1443      C   python                                      4523MiB |\n",
      "+-----------------------------------------------------------------------------+\n"
     ]
    }
   ],
   "source": [
    "!nvidia-smi"
   ]
  },
  {
   "cell_type": "code",
   "execution_count": null,
   "metadata": {},
   "outputs": [],
   "source": [
    "os.environ[\"CUDA_DEVICE_ORDER\"]=\"PCI_BUS_ID\"   # see issue #152\n",
    "os.environ[\"CUDA_VISIBLE_DEVICES\"]=gpu_ids"
   ]
  },
  {
   "cell_type": "code",
   "execution_count": null,
   "metadata": {},
   "outputs": [
    {
     "name": "stdout",
     "output_type": "stream",
     "text": [
      "Using device: cuda\n"
     ]
    }
   ],
   "source": [
    "device = torch.device('cuda' if torch.cuda.is_available() else 'cpu')\n",
    "print('Using device:', device)"
   ]
  },
  {
   "cell_type": "code",
   "execution_count": null,
   "metadata": {},
   "outputs": [
    {
     "name": "stdout",
     "output_type": "stream",
     "text": [
      "True\n",
      "1\n",
      "0\n",
      "TITAN Xp\n"
     ]
    }
   ],
   "source": [
    "if device.type == 'cuda':\n",
    "    print(cuda.is_available())\n",
    "    print(cuda.device_count())\n",
    "    print(cuda.current_device())\n",
    "    print(cuda.get_device_name())"
   ]
  },
  {
   "cell_type": "code",
   "execution_count": null,
   "metadata": {},
   "outputs": [
    {
     "name": "stdout",
     "output_type": "stream",
     "text": [
      "Mon Oct 12 18:08:20 2020       \n",
      "+-----------------------------------------------------------------------------+\n",
      "| NVIDIA-SMI 440.33.01    Driver Version: 440.33.01    CUDA Version: 10.2     |\n",
      "|-------------------------------+----------------------+----------------------+\n",
      "| GPU  Name        Persistence-M| Bus-Id        Disp.A | Volatile Uncorr. ECC |\n",
      "| Fan  Temp  Perf  Pwr:Usage/Cap|         Memory-Usage | GPU-Util  Compute M. |\n",
      "|===============================+======================+======================|\n",
      "|   0  TITAN Xp            Off  | 00000000:02:00.0 Off |                  N/A |\n",
      "| 23%   29C    P2    60W / 250W |    547MiB / 12196MiB |      0%      Default |\n",
      "+-------------------------------+----------------------+----------------------+\n",
      "|   1  TITAN Xp            Off  | 00000000:03:00.0 Off |                  N/A |\n",
      "| 17%   25C    P0    55W / 250W |      0MiB / 12196MiB |      0%      Default |\n",
      "+-------------------------------+----------------------+----------------------+\n",
      "|   2  TITAN Xp            Off  | 00000000:81:00.0 Off |                  N/A |\n",
      "| 54%   84C    P2   226W / 250W |   4533MiB / 12196MiB |     93%      Default |\n",
      "+-------------------------------+----------------------+----------------------+\n",
      "|   3  TITAN Xp            Off  | 00000000:82:00.0 Off |                  N/A |\n",
      "| 51%   79C    P2   214W / 250W |   4533MiB / 12196MiB |     94%      Default |\n",
      "+-------------------------------+----------------------+----------------------+\n",
      "                                                                               \n",
      "+-----------------------------------------------------------------------------+\n",
      "| Processes:                                                       GPU Memory |\n",
      "|  GPU       PID   Type   Process name                             Usage      |\n",
      "|=============================================================================|\n",
      "|    0     12584      C   ...emann1/anaconda3/envs/torch2/bin/python   537MiB |\n",
      "|    2     14711      C   python                                      4523MiB |\n",
      "|    3      1443      C   python                                      4523MiB |\n",
      "+-----------------------------------------------------------------------------+\n"
     ]
    }
   ],
   "source": [
    "a = torch.zeros(5, device=device.type)\n",
    "!nvidia-smi"
   ]
  },
  {
   "cell_type": "markdown",
   "metadata": {},
   "source": [
    "## Build Latent Vectors (Warning....)\n",
    "The computation of building the latent vectors takes a loooong time. \n",
    "This codes checks to see if svd_vec_file has been saved. If it has, \n",
    "it will reload them. "
   ]
  },
  {
   "cell_type": "code",
   "execution_count": null,
   "metadata": {},
   "outputs": [],
   "source": [
    "if FakeData:\n",
    "    numTrainSamps = 100\n",
    "    numTestSamps = 10\n",
    "    simLen\n",
    "    A = np.random.randn(numComponents,numComponents)\n",
    "    A = A/np.linalg.norm(A)\n",
    "    p = np.random.randn(simLen,3).astype('float32')\n",
    "    def makeSample(A,p,simLen=200):\n",
    "        x = np.random.randn(numComponents,)\n",
    "        X = [x.copy()]\n",
    "        for i in range(simLen):\n",
    "            x = np.matmul(A,x)\n",
    "            X.append(x.copy())\n",
    "        #p = np.zeros((simLen,3)).astype('float32')\n",
    "        X = np.array(X).astype('float32')\n",
    "        return X[:simLen], p\n",
    "\n",
    "    train_data = []\n",
    "    for i in range(numTrainSamps):\n",
    "        train_data.append(makeSample(A,p))\n",
    "    #train_data = np.array(train_data)\n",
    "    \n",
    "    test_data = []\n",
    "    for i in range(numTestSamps):\n",
    "        test_data.append(makeSample(A,p))\n",
    "    #test_data = np.array(test_data)\n",
    "    \n",
    "else:\n",
    "    if os.path.exists(svd_vec_file):\n",
    "        data = pkl_load(svd_vec_file)\n",
    "        train_data = data['train_data']\n",
    "        test_data = data['test_data']\n",
    "    else:\n",
    "        svd_data = pkl_load(SVDFn)\n",
    "        print(svd_data.keys())\n",
    "\n",
    "        svd_vecs = svd_data['spatialVecs'][:,:numComponents]\n",
    "        print(svd_vecs.shape)\n",
    "\n",
    "        trainData, testData = createMantaFlowTrainTest(dataDirec,simLen,testSplit,seed)\n",
    "        print((len(trainData),len(testData)))\n",
    "\n",
    "        def createSVDdataset(trainData):\n",
    "\n",
    "            # datasets may be smaller because: numSamplesToKeep \n",
    "            # Be careful the default is for the data to be preprocessed. Therefore, we have to invPrecprocess if \n",
    "            # we are looking at relative errors. \n",
    "            trainDataset = MantaFlowDataset(trainData, reverseXY=reverseXY,numToKeep=numSamplesToKeep, AE=False)\n",
    "            trainDataLoader = DataLoader(dataset=trainDataset, batch_size=len(trainDataset))\n",
    "            X_train,p_train = next(iter(trainDataLoader))\n",
    "            print(X_train.shape, p_train.shape)\n",
    "            z_train = list(map(lambda x: reconFrame(svd_vecs, x, numComponents),X_train.numpy()))\n",
    "\n",
    "            train_recons, latent_vec_train = zip(*z_train)\n",
    "            train_recons = np.array(train_recons)\n",
    "            latent_vec_train = np.array(latent_vec_train)\n",
    "\n",
    "            v = np.arange(0,len(latent_vec_train),simLen)\n",
    "\n",
    "            sims = []\n",
    "            for idx in v:\n",
    "                sims.append((latent_vec_train[idx:idx+simLen],p_train[idx:idx+simLen]))\n",
    "            sims = np.array(sims)\n",
    "            print('num_sims {}'.format(len(sims)))\n",
    "            return sims\n",
    "\n",
    "        train_data = createSVDdataset(trainData)\n",
    "        test_data = createSVDdataset(testData)\n",
    "        D = {'train_data':train_data,'test_data':test_data}\n",
    "        pkl_save(D,svd_vec_file)"
   ]
  },
  {
   "cell_type": "code",
   "execution_count": null,
   "metadata": {},
   "outputs": [
    {
     "data": {
      "text/plain": [
       "((200, 16), (200, 3))"
      ]
     },
     "execution_count": null,
     "metadata": {},
     "output_type": "execute_result"
    }
   ],
   "source": [
    "train_data[0][0].shape, train_data[0][1].shape"
   ]
  },
  {
   "cell_type": "code",
   "execution_count": null,
   "metadata": {},
   "outputs": [],
   "source": [
    "# reduce the dimensions of z down to the numComponents \n",
    "for idx,d in enumerate(train_data):\n",
    "    X = d[0][:,:numComponents]\n",
    "    p = d[1]\n",
    "    train_data[idx] = (X,p)\n",
    "    \n",
    "for idx,d in enumerate(test_data):\n",
    "    X = d[0][:,:numComponents]\n",
    "    p = d[1]\n",
    "    test_data[idx] = (X,p)"
   ]
  },
  {
   "cell_type": "markdown",
   "metadata": {},
   "source": [
    "## Investigate how to preprocess the data"
   ]
  },
  {
   "cell_type": "code",
   "execution_count": null,
   "metadata": {},
   "outputs": [
    {
     "data": {
      "text/plain": [
       "(100, 10)"
      ]
     },
     "execution_count": null,
     "metadata": {},
     "output_type": "execute_result"
    }
   ],
   "source": [
    "len(train_data), len(test_data)"
   ]
  },
  {
   "cell_type": "code",
   "execution_count": null,
   "metadata": {},
   "outputs": [
    {
     "data": {
      "text/plain": [
       "(20000, 19)"
      ]
     },
     "execution_count": null,
     "metadata": {},
     "output_type": "execute_result"
    }
   ],
   "source": [
    "D = []\n",
    "for d in train_data:\n",
    "    D.append(np.hstack(d))\n",
    "D = np.vstack(D)\n",
    "D.shape"
   ]
  },
  {
   "cell_type": "code",
   "execution_count": null,
   "metadata": {},
   "outputs": [
    {
     "data": {
      "text/plain": [
       "3.678587"
      ]
     },
     "execution_count": null,
     "metadata": {},
     "output_type": "execute_result"
    }
   ],
   "source": [
    "D.max()"
   ]
  },
  {
   "cell_type": "code",
   "execution_count": null,
   "metadata": {},
   "outputs": [
    {
     "data": {
      "image/png": "[encoded data removed]",
      "text/plain": [
       "<Figure size 432x288 with 1 Axes>"
      ]
     },
     "metadata": {
      "needs_background": "light"
     },
     "output_type": "display_data"
    }
   ],
   "source": [
    "x_mx = np.max(D,axis=0)\n",
    "x_mn = np.min(D,axis=0)\n",
    "plt.plot(x_mx)\n",
    "plt.plot(x_mn)\n",
    "plt.show()"
   ]
  },
  {
   "cell_type": "markdown",
   "metadata": {},
   "source": [
    "## Dataset and Dataloader"
   ]
  },
  {
   "cell_type": "code",
   "execution_count": null,
   "metadata": {},
   "outputs": [],
   "source": [
    "class LatentVectors(Dataset):\n",
    "    def __init__(self, data,doPreprocess=False,w=1,simLen=200,mx=x_mx,mn=x_mn):\n",
    "        self.data = data\n",
    "        self.doPreprocess = doPreprocess\n",
    "        self.simLen = simLen\n",
    "        self.w = w\n",
    "        self.mx = mx\n",
    "        self.mn = mn\n",
    "                 \n",
    "    def __len__(self):\n",
    "        return self.simLen*len(self.data)\n",
    "\n",
    "    def preprocess(self,x):\n",
    "        xnew = 2*((x-self.mn)/(self.mx-self.mn) - .5)\n",
    "        return xnew\n",
    "\n",
    "    def invPreprocess(self,xnew):\n",
    "        x = ((xnew/2)+.5)*(self.mx-self.mn) + self.mn\n",
    "        return x\n",
    "    \n",
    "    def __getitem__(self, idx):\n",
    "        q,r = np.divmod(idx,self.simLen)\n",
    "        X,p = self.data[q]\n",
    "        r_idx = np.random.randint(0,self.simLen-self.w)\n",
    "        x = np.hstack([X[r_idx:r_idx+1],p[r_idx:r_idx+1]])\n",
    "        #print(x.shape)\n",
    "        y = np.hstack([X[r_idx+1:r_idx+self.w+1],p[r_idx+1:r_idx+self.w+1]])\n",
    "        #print(y.shape)\n",
    "        if self.doPreprocess:\n",
    "            x = self.preprocess(x)\n",
    "            y = self.preprocess(y)\n",
    "        return x, y"
   ]
  },
  {
   "cell_type": "code",
   "execution_count": null,
   "metadata": {},
   "outputs": [],
   "source": [
    "trainDataset = LatentVectors(train_data,doPreprocess=True,w=w,simLen=200,mx=x_mx,mn=x_mn)\n",
    "testDataset = LatentVectors(test_data,doPreprocess=True,w=w,simLen=200,mx=x_mx,mn=x_mn)"
   ]
  },
  {
   "cell_type": "code",
   "execution_count": null,
   "metadata": {},
   "outputs": [
    {
     "data": {
      "text/plain": [
       "((1, 19), (30, 19))"
      ]
     },
     "execution_count": null,
     "metadata": {},
     "output_type": "execute_result"
    }
   ],
   "source": [
    "X,y = trainDataset[4]\n",
    "X.shape,y.shape"
   ]
  },
  {
   "cell_type": "code",
   "execution_count": null,
   "metadata": {},
   "outputs": [
    {
     "data": {
      "text/plain": [
       "(20000, 312, 2000, 32)"
      ]
     },
     "execution_count": null,
     "metadata": {},
     "output_type": "execute_result"
    }
   ],
   "source": [
    "trainDataLoader = DataLoader(dataset=trainDataset, batch_size=bz, shuffle=True, drop_last=True)\n",
    "testDataLoader = DataLoader(dataset=testDataset, batch_size=bz)\n",
    "len(trainDataset), len(trainDataLoader), len(testDataset), len(testDataLoader)"
   ]
  },
  {
   "cell_type": "code",
   "execution_count": null,
   "metadata": {},
   "outputs": [
    {
     "data": {
      "image/png": "[encoded data removed]",
      "text/plain": [
       "<Figure size 432x288 with 1 Axes>"
      ]
     },
     "metadata": {
      "needs_background": "light"
     },
     "output_type": "display_data"
    },
    {
     "data": {
      "image/png": "[encoded data removed]",
      "text/plain": [
       "<Figure size 432x288 with 1 Axes>"
      ]
     },
     "metadata": {
      "needs_background": "light"
     },
     "output_type": "display_data"
    },
    {
     "data": {
      "image/png": "[encoded data removed]",
      "text/plain": [
       "<Figure size 432x288 with 1 Axes>"
      ]
     },
     "metadata": {
      "needs_background": "light"
     },
     "output_type": "display_data"
    },
    {
     "data": {
      "image/png": "[encoded data removed]",
      "text/plain": [
       "<Figure size 432x288 with 1 Axes>"
      ]
     },
     "metadata": {
      "needs_background": "light"
     },
     "output_type": "display_data"
    },
    {
     "data": {
      "image/png": "[encoded data removed]",
      "text/plain": [
       "<Figure size 432x288 with 1 Axes>"
      ]
     },
     "metadata": {
      "needs_background": "light"
     },
     "output_type": "display_data"
    },
    {
     "data": {
      "image/png": "[encoded data removed]",
      "text/plain": [
       "<Figure size 432x288 with 1 Axes>"
      ]
     },
     "metadata": {
      "needs_background": "light"
     },
     "output_type": "display_data"
    },
    {
     "data": {
      "image/png": "[encoded data removed]",
      "text/plain": [
       "<Figure size 432x288 with 1 Axes>"
      ]
     },
     "metadata": {
      "needs_background": "light"
     },
     "output_type": "display_data"
    },
    {
     "data": {
      "image/png": "[encoded data removed]",
      "text/plain": [
       "<Figure size 432x288 with 1 Axes>"
      ]
     },
     "metadata": {
      "needs_background": "light"
     },
     "output_type": "display_data"
    },
    {
     "data": {
      "image/png": "[encoded data removed]",
      "text/plain": [
       "<Figure size 432x288 with 1 Axes>"
      ]
     },
     "metadata": {
      "needs_background": "light"
     },
     "output_type": "display_data"
    },
    {
     "data": {
      "image/png": "[encoded data removed]",
      "text/plain": [
       "<Figure size 432x288 with 1 Axes>"
      ]
     },
     "metadata": {
      "needs_background": "light"
     },
     "output_type": "display_data"
    },
    {
     "data": {
      "image/png": "[encoded data removed]",
      "text/plain": [
       "<Figure size 432x288 with 1 Axes>"
      ]
     },
     "metadata": {
      "needs_background": "light"
     },
     "output_type": "display_data"
    },
    {
     "data": {
      "image/png": "[encoded data removed]",
      "text/plain": [
       "<Figure size 432x288 with 1 Axes>"
      ]
     },
     "metadata": {
      "needs_background": "light"
     },
     "output_type": "display_data"
    },
    {
     "data": {
      "image/png": "[encoded data removed]",
      "text/plain": [
       "<Figure size 432x288 with 1 Axes>"
      ]
     },
     "metadata": {
      "needs_background": "light"
     },
     "output_type": "display_data"
    },
    {
     "data": {
      "image/png": "[encoded data removed]",
      "text/plain": [
       "<Figure size 432x288 with 1 Axes>"
      ]
     },
     "metadata": {
      "needs_background": "light"
     },
     "output_type": "display_data"
    },
    {
     "data": {
      "image/png": "[encoded data removed]",
      "text/plain": [
       "<Figure size 432x288 with 1 Axes>"
      ]
     },
     "metadata": {
      "needs_background": "light"
     },
     "output_type": "display_data"
    }
   ],
   "source": [
    "# plot the first 2 coordinates of the first 3 simulations\n",
    "# this makes me think that this is going to be a hard problem. \n",
    "Dplot = D.reshape(len(train_data),simLen,-1)\n",
    "colors = ['r','g','b','c','m','y','k']\n",
    "nc = len(colors)\n",
    "for sim in range(0,len(train_data),nc):\n",
    "    A = Dplot[sim:sim+nc]\n",
    "    for idx, x in enumerate(A):\n",
    "        plt.scatter(x[:,0],x[:,1],c=colors[idx],s=2)\n",
    "    plt.show()"
   ]
  },
  {
   "cell_type": "markdown",
   "metadata": {},
   "source": [
    "## Model"
   ]
  },
  {
   "cell_type": "code",
   "execution_count": null,
   "metadata": {},
   "outputs": [],
   "source": [
    "class MLP(nn.Module):\n",
    "    def __init__(self, X, hiddenLayerSizes = [1024], activation=nn.ELU()):\n",
    "        super(MLP,self).__init__()\n",
    "        \n",
    "        self.activation = activation\n",
    "        self.inputSize = X.shape[1:]\n",
    "        self.modules = []\n",
    "        self.modules.append(nn.Linear(np.prod(self.inputSize),hiddenLayerSizes[0]))\n",
    "        self.modules.append(self.activation)\n",
    "        for idx,sz in enumerate(hiddenLayerSizes[:-1]):\n",
    "            self.modules.append(nn.Linear(hiddenLayerSizes[idx],hiddenLayerSizes[idx+1]))\n",
    "            self.modules.append(self.activation)\n",
    "                               \n",
    "        self.modules.append(nn.Linear(hiddenLayerSizes[-1],np.prod(self.inputSize)))\n",
    "        self.layers = nn.Sequential(*self.modules)\n",
    "                                \n",
    "        \n",
    "    def forward(self,x):\n",
    "        x = self.layers(x)\n",
    "        return x"
   ]
  },
  {
   "cell_type": "code",
   "execution_count": null,
   "metadata": {},
   "outputs": [
    {
     "data": {
      "text/plain": [
       "(torch.Size([64, 1, 19]), torch.Size([64, 30, 19]))"
      ]
     },
     "execution_count": null,
     "metadata": {},
     "output_type": "execute_result"
    }
   ],
   "source": [
    "X,y = next(iter(trainDataLoader))\n",
    "X.shape, y.shape"
   ]
  },
  {
   "cell_type": "code",
   "execution_count": null,
   "metadata": {},
   "outputs": [
    {
     "data": {
      "text/plain": [
       "MLP(\n",
       "  (activation): Tanh()\n",
       "  (layers): Sequential(\n",
       "    (0): Linear(in_features=19, out_features=128, bias=True)\n",
       "    (1): Tanh()\n",
       "    (2): Linear(in_features=128, out_features=128, bias=True)\n",
       "    (3): Tanh()\n",
       "    (4): Linear(in_features=128, out_features=19, bias=True)\n",
       "  )\n",
       ")"
      ]
     },
     "execution_count": null,
     "metadata": {},
     "output_type": "execute_result"
    }
   ],
   "source": [
    "model = MLP(X, hiddenLayerSizes=hiddenLayers,activation=activation)\n",
    "model"
   ]
  },
  {
   "cell_type": "code",
   "execution_count": null,
   "metadata": {},
   "outputs": [
    {
     "data": {
      "text/plain": [
       "torch.Size([64, 1, 19])"
      ]
     },
     "execution_count": null,
     "metadata": {},
     "output_type": "execute_result"
    }
   ],
   "source": [
    "output = model(X)\n",
    "output.shape"
   ]
  },
  {
   "cell_type": "code",
   "execution_count": null,
   "metadata": {},
   "outputs": [],
   "source": [
    "if len(gpu_ids.split(',')) > 1:\n",
    "    model = nn.DataParallel(model)"
   ]
  },
  {
   "cell_type": "code",
   "execution_count": null,
   "metadata": {},
   "outputs": [
    {
     "name": "stdout",
     "output_type": "stream",
     "text": [
      "6 layers require gradients (unfrozen) out of 6 layers\n",
      "21,523 parameters require gradients (unfrozen) out of 21,523 parameters\n"
     ]
    }
   ],
   "source": [
    "printNumModelParams(model)"
   ]
  },
  {
   "cell_type": "markdown",
   "metadata": {},
   "source": [
    "## Loss Function"
   ]
  },
  {
   "cell_type": "code",
   "execution_count": null,
   "metadata": {},
   "outputs": [],
   "source": [
    "L = nn.MSELoss()"
   ]
  },
  {
   "cell_type": "code",
   "execution_count": null,
   "metadata": {},
   "outputs": [
    {
     "data": {
      "text/plain": [
       "tensor(0.0366, grad_fn=<MseLossBackward>)"
      ]
     },
     "execution_count": null,
     "metadata": {},
     "output_type": "execute_result"
    }
   ],
   "source": [
    "L(output,y[:,0:1,:])"
   ]
  },
  {
   "cell_type": "code",
   "execution_count": null,
   "metadata": {},
   "outputs": [
    {
     "data": {
      "text/plain": [
       "tensor(0.9860, grad_fn=<AddBackward0>)"
      ]
     },
     "execution_count": null,
     "metadata": {},
     "output_type": "execute_result"
    }
   ],
   "source": [
    "sum_loss = 0\n",
    "out = X.clone()\n",
    "for idx in range(w):\n",
    "    out = model(out).clone()\n",
    "    sum_loss += L(out,y[:,idx:idx+1,:])\n",
    "sum_loss"
   ]
  },
  {
   "cell_type": "code",
   "execution_count": null,
   "metadata": {},
   "outputs": [],
   "source": [
    "combined_loss = L(output,y)\n",
    "combined_loss.backward()"
   ]
  },
  {
   "cell_type": "markdown",
   "metadata": {},
   "source": [
    "## Set LR"
   ]
  },
  {
   "cell_type": "code",
   "execution_count": null,
   "metadata": {},
   "outputs": [
    {
     "data": {
      "application/vnd.jupyter.widget-view+json": {
       "model_id": "a236cce6c546437d8efec511b9310e2a",
       "version_major": 2,
       "version_minor": 0
      },
      "text/plain": [
       "HBox(children=(IntProgress(value=0, max=200), HTML(value='')))"
      ]
     },
     "metadata": {},
     "output_type": "display_data"
    },
    {
     "name": "stdout",
     "output_type": "stream",
     "text": [
      "Stopping early, the loss has diverged\n",
      "Learning rate search finished. See the graph with {finder_name}.plot()\n",
      "\n"
     ]
    },
    {
     "data": {
      "image/png": "[encoded data removed]",
      "text/plain": [
       "<Figure size 432x288 with 1 Axes>"
      ]
     },
     "metadata": {
      "needs_background": "light"
     },
     "output_type": "display_data"
    }
   ],
   "source": [
    "if findLRs and (len(gpu_ids.split(','))==1): # doesn't work for multigpu???\n",
    "    opt = create_opt(1e-7,model)\n",
    "    find_lr(model,opt,L,device,trainDataLoader)\n"
   ]
  },
  {
   "cell_type": "code",
   "execution_count": null,
   "metadata": {},
   "outputs": [],
   "source": [
    "max_lr = .001\n",
    "opt = torch.optim.Adam(model.parameters())\n",
    "lr_scheduler = torch.optim.lr_scheduler.ReduceLROnPlateau(opt,patience=patience)"
   ]
  },
  {
   "cell_type": "code",
   "execution_count": null,
   "metadata": {},
   "outputs": [],
   "source": [
    "versionName = versionName + '_lr{}'.format(str(max_lr))"
   ]
  },
  {
   "cell_type": "code",
   "execution_count": null,
   "metadata": {},
   "outputs": [
    {
     "data": {
      "text/plain": [
       "'LIN_manta_SVD_MLP_GPUs0_w30_latentDim16_hd128_128_bz64_epochs1000_lr0.001'"
      ]
     },
     "execution_count": null,
     "metadata": {},
     "output_type": "execute_result"
    }
   ],
   "source": [
    "versionName"
   ]
  },
  {
   "cell_type": "markdown",
   "metadata": {},
   "source": [
    "## Train"
   ]
  },
  {
   "cell_type": "code",
   "execution_count": null,
   "metadata": {},
   "outputs": [],
   "source": [
    "def trainEpoch(myDataLoader, tensorboard_writer, model, opt, loss,\n",
    "               metric, lr_scheduler, tensorboard_rate, device,\n",
    "               tensorboard_recorder_step, total_steps):\n",
    "    running_loss = 0.0\n",
    "    running_rmse = 0.0\n",
    "    total_loss = 0.0\n",
    "    for i, sampleBatch in enumerate(myDataLoader, start=1):\n",
    "\n",
    "        # --- Main Training ---\n",
    "        combined_loss = 0.\n",
    "        \n",
    "        # gpu\n",
    "        X,y = sampleBatch[0],sampleBatch[1]\n",
    "        X = X.to(device)\n",
    "        y = y.to(device)\n",
    "        \n",
    "        # zero the parameter gradients\n",
    "        opt.zero_grad()\n",
    "\n",
    "        y_hat = X.clone()\n",
    "        predictions = []\n",
    "        for w_idx in range(w):\n",
    "            y_hat = model(y_hat).clone()\n",
    "            y_hat[:,:,-p.shape[1]:] = y[:,w_idx:w_idx+1,-p.shape[1]:]\n",
    "            predictions.append(y_hat)\n",
    "            combined_loss += loss(y_hat,y[:,w_idx:w_idx+1,:])\n",
    "        combined_loss.backward()\n",
    "        opt.step()\n",
    "        \n",
    "        # loss\n",
    "        batch_loss = combined_loss.item()\n",
    "        running_loss += batch_loss\n",
    "        total_loss += batch_loss\n",
    "\n",
    "        # --- Metrics Recording ---\n",
    "\n",
    "        # metrics\n",
    "        predictions = torch.stack(predictions)\n",
    "        r = metric(y_hat, y)\n",
    "        running_rmse += r\n",
    "\n",
    "        # record lr change\n",
    "        total_steps += 1\n",
    "        tensorboard_writer.add_scalar(tag=\"LR\", scalar_value=opt.param_groups[0]['lr'], global_step=total_steps)\n",
    "\n",
    "        # tensorboard writes\n",
    "        if (i % tensorboard_rate == 0):\n",
    "            tensorboard_recorder_step += 1\n",
    "            avg_running_loss = running_loss/tensorboard_rate\n",
    "            avg_running_rmse = running_rmse/tensorboard_rate\n",
    "            tensorboard_writer.add_scalar(tag=\"Loss\", scalar_value=avg_running_loss, global_step=tensorboard_recorder_step)\n",
    "            tensorboard_writer.add_scalar(tag=metric.__name__, scalar_value=avg_running_rmse, global_step=tensorboard_recorder_step)\n",
    "            # reset running_loss for the next set of batches. (tensorboard_rate number of batches)\n",
    "            running_loss = 0.0\n",
    "            running_rmse = 0.0\n",
    "\n",
    "    return total_loss/len(myDataLoader), tensorboard_recorder_step, total_steps\n"
   ]
  },
  {
   "cell_type": "code",
   "execution_count": null,
   "metadata": {},
   "outputs": [],
   "source": [
    "def validEpoch(myDataLoader, tensorboard_writer, model, loss, metric,\n",
    "               device, tensorboard_recorder_step):\n",
    "    running_loss = 0.0\n",
    "    running_rmse = 0.0\n",
    "    for i, sampleBatch in enumerate(myDataLoader, start=1):\n",
    "\n",
    "        combined_loss = 0.\n",
    "        # --- Metrics Recording ---\n",
    "\n",
    "        # gpu\n",
    "        X,y = sampleBatch[0],sampleBatch[1]\n",
    "        X = X.to(device)\n",
    "        y = y.to(device)\n",
    "        \n",
    "        # forward, no gradient calculations\n",
    "        with torch.no_grad():\n",
    "            y_hat = X.clone()\n",
    "            predictions = []\n",
    "            for w_idx in range(w):\n",
    "                y_hat = model(y_hat).clone()\n",
    "                y_hat[:,:,-p.shape[1]:] = y[:,w_idx:w_idx+1,-p.shape[1]:]\n",
    "                predictions.append(y_hat)\n",
    "                combined_loss += loss(y_hat,y[:,w_idx:w_idx+1,:])\n",
    "\n",
    "        running_loss += combined_loss.item()\n",
    "\n",
    "        # metrics\n",
    "        predictions = torch.stack(predictions)\n",
    "        r = metric(y_hat, y)\n",
    "        running_rmse += r\n",
    "\n",
    "    avg_running_loss = running_loss/len(myDataLoader)\n",
    "    avg_running_rmse = running_rmse/len(myDataLoader)\n",
    "    tensorboard_writer.add_scalar(tag=\"Loss\", scalar_value=avg_running_loss, global_step=tensorboard_recorder_step)\n",
    "    tensorboard_writer.add_scalar(tag=metric.__name__, scalar_value=avg_running_rmse, global_step=tensorboard_recorder_step)\n",
    "\n",
    "    return avg_running_loss"
   ]
  },
  {
   "cell_type": "code",
   "execution_count": null,
   "metadata": {},
   "outputs": [
    {
     "name": "stdout",
     "output_type": "stream",
     "text": [
      "checkpoints directory already exists :)\n"
     ]
    }
   ],
   "source": [
    "try:\n",
    "    os.mkdir(cps)\n",
    "except:\n",
    "    print(\"checkpoints directory already exists :)\")"
   ]
  },
  {
   "cell_type": "code",
   "execution_count": null,
   "metadata": {},
   "outputs": [],
   "source": [
    "# create a summary writer.\n",
    "train_writer = SummaryWriter(os.path.join(tensorboard_direc, versionName,'train'))\n",
    "test_writer = SummaryWriter(os.path.join(tensorboard_direc, versionName,'valid'))\n",
    "tensorboard_recorder_step = 0\n",
    "total_steps = 0"
   ]
  },
  {
   "cell_type": "code",
   "execution_count": null,
   "metadata": {},
   "outputs": [
    {
     "name": "stderr",
     "output_type": "stream",
     "text": [
      "\n",
      "\n",
      "  0%|          | 0/1000 [00:00<?, ?it/s]\u001b[A\u001b[A"
     ]
    },
    {
     "name": "stdout",
     "output_type": "stream",
     "text": [
      "---------- Started Training ----------\n",
      "--- Epoch 1/1000 ---\n",
      "trainLoss: 3.5544e-03\n",
      "LR: 1.0000e-03\n",
      "Better trainLoss: 3.5544e-03, Saving models...\n"
     ]
    },
    {
     "name": "stderr",
     "output_type": "stream",
     "text": [
      "\n",
      "\n",
      "  0%|          | 1/1000 [00:11<3:14:01, 11.65s/it]\u001b[A\u001b[A"
     ]
    },
    {
     "name": "stdout",
     "output_type": "stream",
     "text": [
      "valLoss: 8.8249e-05\n",
      "Better valLoss: 8.8249e-05, Saving models...\n",
      "--- Epoch 2/1000 ---\n",
      "trainLoss: 7.2250e-05\n",
      "LR: 1.0000e-03\n",
      "Better trainLoss: 7.2250e-05, Saving models...\n"
     ]
    },
    {
     "name": "stderr",
     "output_type": "stream",
     "text": [
      "\n",
      "\n",
      "  0%|          | 2/1000 [00:22<3:10:53, 11.48s/it]\u001b[A\u001b[A"
     ]
    },
    {
     "name": "stdout",
     "output_type": "stream",
     "text": [
      "valLoss: 7.2371e-05\n",
      "--- Epoch 3/1000 ---\n",
      "trainLoss: 5.4795e-05\n",
      "LR: 1.0000e-03\n",
      "Better trainLoss: 5.4795e-05, Saving models...\n"
     ]
    },
    {
     "name": "stderr",
     "output_type": "stream",
     "text": [
      "\n",
      "\n",
      "  0%|          | 3/1000 [00:34<3:10:15, 11.45s/it]\u001b[A\u001b[A"
     ]
    },
    {
     "name": "stdout",
     "output_type": "stream",
     "text": [
      "valLoss: 4.8908e-05\n",
      "Better valLoss: 4.8908e-05, Saving models...\n",
      "--- Epoch 4/1000 ---\n",
      "trainLoss: 4.5670e-05\n",
      "LR: 1.0000e-03\n",
      "Better trainLoss: 4.5670e-05, Saving models...\n"
     ]
    },
    {
     "name": "stderr",
     "output_type": "stream",
     "text": [
      "\n",
      "\n",
      "  0%|          | 4/1000 [00:45<3:08:56, 11.38s/it]\u001b[A\u001b[A"
     ]
    },
    {
     "name": "stdout",
     "output_type": "stream",
     "text": [
      "valLoss: 3.3268e-05\n",
      "Better valLoss: 3.3268e-05, Saving models...\n",
      "--- Epoch 5/1000 ---\n",
      "trainLoss: 3.2007e-05\n",
      "LR: 1.0000e-03\n",
      "Better trainLoss: 3.2007e-05, Saving models...\n"
     ]
    },
    {
     "name": "stderr",
     "output_type": "stream",
     "text": [
      "\n",
      "\n",
      "  0%|          | 5/1000 [00:57<3:10:53, 11.51s/it]\u001b[A\u001b[A"
     ]
    },
    {
     "name": "stdout",
     "output_type": "stream",
     "text": [
      "valLoss: 2.5909e-05\n",
      "Better valLoss: 2.5909e-05, Saving models...\n",
      "--- Epoch 6/1000 ---\n",
      "trainLoss: 2.3230e-05\n",
      "LR: 1.0000e-03\n",
      "Better trainLoss: 2.3230e-05, Saving models...\n"
     ]
    },
    {
     "name": "stderr",
     "output_type": "stream",
     "text": [
      "\n",
      "\n",
      "  1%|          | 6/1000 [01:08<3:09:44, 11.45s/it]\u001b[A\u001b[A"
     ]
    },
    {
     "name": "stdout",
     "output_type": "stream",
     "text": [
      "valLoss: 1.4185e-05\n",
      "Better valLoss: 1.4185e-05, Saving models...\n",
      "--- Epoch 7/1000 ---\n",
      "trainLoss: 2.0404e-05\n",
      "LR: 1.0000e-03\n"
     ]
    },
    {
     "name": "stderr",
     "output_type": "stream",
     "text": [
      "\n",
      "\n",
      "  1%|          | 7/1000 [01:19<3:06:21, 11.26s/it]\u001b[A\u001b[A"
     ]
    },
    {
     "name": "stdout",
     "output_type": "stream",
     "text": [
      "valLoss: 1.7985e-05\n",
      "--- Epoch 8/1000 ---\n",
      "trainLoss: 2.3415e-05\n",
      "LR: 1.0000e-03\n"
     ]
    },
    {
     "name": "stderr",
     "output_type": "stream",
     "text": [
      "\n",
      "\n",
      "  1%|          | 8/1000 [01:30<3:08:02, 11.37s/it]\u001b[A\u001b[A"
     ]
    },
    {
     "name": "stdout",
     "output_type": "stream",
     "text": [
      "valLoss: 9.9071e-06\n",
      "Better valLoss: 9.9071e-06, Saving models...\n",
      "--- Epoch 9/1000 ---\n",
      "trainLoss: 1.7234e-05\n",
      "LR: 1.0000e-03\n"
     ]
    },
    {
     "name": "stderr",
     "output_type": "stream",
     "text": [
      "\n",
      "\n",
      "  1%|          | 9/1000 [01:42<3:06:29, 11.29s/it]\u001b[A\u001b[A"
     ]
    },
    {
     "name": "stdout",
     "output_type": "stream",
     "text": [
      "valLoss: 8.7660e-06\n",
      "Better valLoss: 8.7660e-06, Saving models...\n",
      "--- Epoch 10/1000 ---\n",
      "trainLoss: 1.7060e-05\n",
      "LR: 1.0000e-03\n"
     ]
    },
    {
     "name": "stderr",
     "output_type": "stream",
     "text": [
      "\n",
      "\n",
      "  1%|          | 10/1000 [01:53<3:06:16, 11.29s/it]\u001b[A\u001b[A"
     ]
    },
    {
     "name": "stdout",
     "output_type": "stream",
     "text": [
      "valLoss: 1.4635e-05\n",
      "--- Epoch 11/1000 ---\n",
      "trainLoss: 2.0531e-05\n",
      "LR: 1.0000e-03\n"
     ]
    },
    {
     "name": "stderr",
     "output_type": "stream",
     "text": [
      "\n",
      "\n",
      "  1%|          | 11/1000 [02:05<3:09:20, 11.49s/it]\u001b[A\u001b[A"
     ]
    },
    {
     "name": "stdout",
     "output_type": "stream",
     "text": [
      "valLoss: 8.1950e-06\n",
      "Better valLoss: 8.1950e-06, Saving models...\n",
      "--- Epoch 12/1000 ---\n",
      "trainLoss: 1.5993e-05\n",
      "LR: 1.0000e-03\n"
     ]
    },
    {
     "name": "stderr",
     "output_type": "stream",
     "text": [
      "\n",
      "\n",
      "  1%|          | 12/1000 [02:16<3:09:26, 11.50s/it]\u001b[A\u001b[A"
     ]
    },
    {
     "name": "stdout",
     "output_type": "stream",
     "text": [
      "valLoss: 2.6297e-05\n",
      "--- Epoch 13/1000 ---\n",
      "trainLoss: 1.8140e-05\n",
      "LR: 1.0000e-03\n"
     ]
    },
    {
     "name": "stderr",
     "output_type": "stream",
     "text": [
      "\n",
      "\n",
      "  1%|▏         | 13/1000 [02:27<3:04:58, 11.24s/it]\u001b[A\u001b[A"
     ]
    },
    {
     "name": "stdout",
     "output_type": "stream",
     "text": [
      "valLoss: 5.3290e-06\n",
      "Better valLoss: 5.3290e-06, Saving models...\n",
      "--- Epoch 14/1000 ---\n",
      "trainLoss: 1.6089e-05\n",
      "LR: 1.0000e-03\n"
     ]
    },
    {
     "name": "stderr",
     "output_type": "stream",
     "text": [
      "\n",
      "\n",
      "  1%|▏         | 14/1000 [02:38<3:04:53, 11.25s/it]\u001b[A\u001b[A"
     ]
    },
    {
     "name": "stdout",
     "output_type": "stream",
     "text": [
      "valLoss: 1.2988e-05\n",
      "--- Epoch 15/1000 ---\n",
      "trainLoss: 2.5573e-06\n",
      "LR: 1.0000e-04\n",
      "Better trainLoss: 2.5573e-06, Saving models...\n"
     ]
    },
    {
     "name": "stderr",
     "output_type": "stream",
     "text": [
      "\n",
      "\n",
      "  2%|▏         | 15/1000 [02:51<3:10:02, 11.58s/it]\u001b[A\u001b[A"
     ]
    },
    {
     "name": "stdout",
     "output_type": "stream",
     "text": [
      "valLoss: 1.7490e-06\n",
      "Better valLoss: 1.7490e-06, Saving models...\n",
      "--- Epoch 16/1000 ---\n",
      "trainLoss: 2.0936e-06\n",
      "LR: 1.0000e-04\n"
     ]
    },
    {
     "name": "stderr",
     "output_type": "stream",
     "text": [
      "\n",
      "\n",
      "  2%|▏         | 16/1000 [03:02<3:09:16, 11.54s/it]\u001b[A\u001b[A"
     ]
    },
    {
     "name": "stdout",
     "output_type": "stream",
     "text": [
      "valLoss: 2.2550e-06\n",
      "--- Epoch 17/1000 ---\n",
      "trainLoss: 1.9453e-06\n",
      "LR: 1.0000e-04\n"
     ]
    },
    {
     "name": "stderr",
     "output_type": "stream",
     "text": [
      "\n",
      "\n",
      "  2%|▏         | 17/1000 [03:13<3:06:34, 11.39s/it]\u001b[A\u001b[A"
     ]
    },
    {
     "name": "stdout",
     "output_type": "stream",
     "text": [
      "valLoss: 1.9737e-06\n",
      "--- Epoch 18/1000 ---\n",
      "trainLoss: 1.6587e-06\n",
      "LR: 1.0000e-04\n",
      "Better trainLoss: 1.6587e-06, Saving models...\n"
     ]
    },
    {
     "name": "stderr",
     "output_type": "stream",
     "text": [
      "\n",
      "\n",
      "  2%|▏         | 18/1000 [03:24<3:06:09, 11.37s/it]\u001b[A\u001b[A"
     ]
    },
    {
     "name": "stdout",
     "output_type": "stream",
     "text": [
      "valLoss: 2.0181e-06\n",
      "--- Epoch 19/1000 ---\n",
      "trainLoss: 1.8631e-06\n",
      "LR: 1.0000e-04\n"
     ]
    },
    {
     "name": "stderr",
     "output_type": "stream",
     "text": [
      "\n",
      "\n",
      "  2%|▏         | 19/1000 [03:36<3:08:35, 11.53s/it]\u001b[A\u001b[A"
     ]
    },
    {
     "name": "stdout",
     "output_type": "stream",
     "text": [
      "valLoss: 1.8958e-06\n",
      "--- Epoch 20/1000 ---\n",
      "trainLoss: 1.6750e-06\n",
      "LR: 1.0000e-04\n"
     ]
    },
    {
     "name": "stderr",
     "output_type": "stream",
     "text": [
      "\n",
      "\n",
      "  2%|▏         | 20/1000 [03:48<3:09:43, 11.62s/it]\u001b[A\u001b[A"
     ]
    },
    {
     "name": "stdout",
     "output_type": "stream",
     "text": [
      "valLoss: 1.4793e-06\n",
      "Better valLoss: 1.4793e-06, Saving models...\n",
      "--- Epoch 21/1000 ---\n",
      "trainLoss: 1.4219e-06\n",
      "LR: 1.0000e-05\n",
      "Better trainLoss: 1.4219e-06, Saving models...\n"
     ]
    },
    {
     "name": "stderr",
     "output_type": "stream",
     "text": [
      "\n",
      "\n",
      "  2%|▏         | 21/1000 [04:00<3:09:20, 11.60s/it]\u001b[A\u001b[A"
     ]
    },
    {
     "name": "stdout",
     "output_type": "stream",
     "text": [
      "valLoss: 1.5582e-06\n",
      "--- Epoch 22/1000 ---\n",
      "trainLoss: 1.5325e-06\n",
      "LR: 1.0000e-05\n"
     ]
    },
    {
     "name": "stderr",
     "output_type": "stream",
     "text": [
      "\n",
      "\n",
      "  2%|▏         | 22/1000 [04:11<3:06:57, 11.47s/it]\u001b[A\u001b[A"
     ]
    },
    {
     "name": "stdout",
     "output_type": "stream",
     "text": [
      "valLoss: 1.8506e-06\n",
      "--- Epoch 23/1000 ---\n",
      "trainLoss: 1.3985e-06\n",
      "LR: 1.0000e-05\n",
      "Better trainLoss: 1.3985e-06, Saving models...\n"
     ]
    },
    {
     "name": "stderr",
     "output_type": "stream",
     "text": [
      "\n",
      "\n",
      "  2%|▏         | 23/1000 [04:22<3:06:00, 11.42s/it]\u001b[A\u001b[A"
     ]
    },
    {
     "name": "stdout",
     "output_type": "stream",
     "text": [
      "valLoss: 2.1576e-06\n",
      "--- Epoch 24/1000 ---\n",
      "trainLoss: 1.5918e-06\n",
      "LR: 1.0000e-05\n"
     ]
    },
    {
     "name": "stderr",
     "output_type": "stream",
     "text": [
      "\n",
      "\n",
      "  2%|▏         | 24/1000 [04:33<3:02:43, 11.23s/it]\u001b[A\u001b[A"
     ]
    },
    {
     "name": "stdout",
     "output_type": "stream",
     "text": [
      "valLoss: 1.6301e-06\n",
      "--- Epoch 25/1000 ---\n",
      "trainLoss: 1.3670e-06\n",
      "LR: 1.0000e-05\n",
      "Better trainLoss: 1.3670e-06, Saving models...\n"
     ]
    },
    {
     "name": "stderr",
     "output_type": "stream",
     "text": [
      "\n",
      "\n",
      "  2%|▎         | 25/1000 [04:44<3:01:53, 11.19s/it]\u001b[A\u001b[A"
     ]
    },
    {
     "name": "stdout",
     "output_type": "stream",
     "text": [
      "valLoss: 1.3153e-06\n",
      "Better valLoss: 1.3153e-06, Saving models...\n",
      "--- Epoch 26/1000 ---\n",
      "trainLoss: 1.4973e-06\n",
      "LR: 1.0000e-05\n"
     ]
    },
    {
     "name": "stderr",
     "output_type": "stream",
     "text": [
      "\n",
      "\n",
      "  3%|▎         | 26/1000 [04:55<3:00:45, 11.14s/it]\u001b[A\u001b[A"
     ]
    },
    {
     "name": "stdout",
     "output_type": "stream",
     "text": [
      "valLoss: 1.5794e-06\n",
      "--- Epoch 27/1000 ---\n",
      "trainLoss: 1.3591e-06\n",
      "LR: 1.0000e-05\n"
     ]
    },
    {
     "name": "stderr",
     "output_type": "stream",
     "text": [
      "\n",
      "\n",
      "  3%|▎         | 27/1000 [05:06<3:01:57, 11.22s/it]\u001b[A\u001b[A"
     ]
    },
    {
     "name": "stdout",
     "output_type": "stream",
     "text": [
      "valLoss: 1.4519e-06\n",
      "--- Epoch 28/1000 ---\n",
      "trainLoss: 1.4763e-06\n",
      "LR: 1.0000e-05\n"
     ]
    },
    {
     "name": "stderr",
     "output_type": "stream",
     "text": [
      "\n",
      "\n",
      "  3%|▎         | 28/1000 [05:18<3:02:17, 11.25s/it]\u001b[A\u001b[A"
     ]
    },
    {
     "name": "stdout",
     "output_type": "stream",
     "text": [
      "valLoss: 1.3873e-06\n",
      "--- Epoch 29/1000 ---\n",
      "trainLoss: 1.2635e-06\n",
      "LR: 1.0000e-05\n",
      "Better trainLoss: 1.2635e-06, Saving models...\n"
     ]
    },
    {
     "name": "stderr",
     "output_type": "stream",
     "text": [
      "\n",
      "\n",
      "  3%|▎         | 29/1000 [05:29<2:59:51, 11.11s/it]\u001b[A\u001b[A"
     ]
    },
    {
     "name": "stdout",
     "output_type": "stream",
     "text": [
      "valLoss: 1.3348e-06\n",
      "--- Epoch 30/1000 ---\n",
      "trainLoss: 1.2532e-06\n",
      "LR: 1.0000e-05\n",
      "Better trainLoss: 1.2532e-06, Saving models...\n"
     ]
    },
    {
     "name": "stderr",
     "output_type": "stream",
     "text": [
      "\n",
      "\n",
      "  3%|▎         | 30/1000 [05:40<3:00:43, 11.18s/it]\u001b[A\u001b[A"
     ]
    },
    {
     "name": "stdout",
     "output_type": "stream",
     "text": [
      "valLoss: 1.1287e-06\n",
      "Better valLoss: 1.1287e-06, Saving models...\n",
      "--- Epoch 31/1000 ---\n",
      "trainLoss: 1.2304e-06\n",
      "LR: 1.0000e-05\n"
     ]
    },
    {
     "name": "stderr",
     "output_type": "stream",
     "text": [
      "\n",
      "\n",
      "  3%|▎         | 31/1000 [05:52<3:03:55, 11.39s/it]\u001b[A\u001b[A"
     ]
    },
    {
     "name": "stdout",
     "output_type": "stream",
     "text": [
      "valLoss: 1.5727e-06\n",
      "--- Epoch 32/1000 ---\n",
      "trainLoss: 1.1270e-06\n",
      "LR: 1.0000e-05\n",
      "Better trainLoss: 1.1270e-06, Saving models...\n"
     ]
    },
    {
     "name": "stderr",
     "output_type": "stream",
     "text": [
      "\n",
      "\n",
      "  3%|▎         | 32/1000 [06:03<3:03:35, 11.38s/it]\u001b[A\u001b[A"
     ]
    },
    {
     "name": "stdout",
     "output_type": "stream",
     "text": [
      "valLoss: 1.2651e-06\n",
      "--- Epoch 33/1000 ---\n",
      "trainLoss: 1.0740e-06\n",
      "LR: 1.0000e-05\n",
      "Better trainLoss: 1.0740e-06, Saving models...\n"
     ]
    },
    {
     "name": "stderr",
     "output_type": "stream",
     "text": [
      "\n",
      "\n",
      "  3%|▎         | 33/1000 [06:14<3:02:21, 11.32s/it]\u001b[A\u001b[A"
     ]
    },
    {
     "name": "stdout",
     "output_type": "stream",
     "text": [
      "valLoss: 1.3681e-06\n",
      "--- Epoch 34/1000 ---\n",
      "trainLoss: 1.1207e-06\n",
      "LR: 1.0000e-05\n"
     ]
    },
    {
     "name": "stderr",
     "output_type": "stream",
     "text": [
      "\n",
      "\n",
      "  3%|▎         | 34/1000 [06:25<2:59:09, 11.13s/it]\u001b[A\u001b[A"
     ]
    },
    {
     "name": "stdout",
     "output_type": "stream",
     "text": [
      "valLoss: 9.4379e-07\n",
      "Better valLoss: 9.4379e-07, Saving models...\n",
      "--- Epoch 35/1000 ---\n",
      "trainLoss: 1.0540e-06\n",
      "LR: 1.0000e-05\n"
     ]
    },
    {
     "name": "stderr",
     "output_type": "stream",
     "text": [
      "\n",
      "\n",
      "  4%|▎         | 35/1000 [06:36<2:59:48, 11.18s/it]\u001b[A\u001b[A"
     ]
    },
    {
     "name": "stdout",
     "output_type": "stream",
     "text": [
      "valLoss: 7.9787e-07\n",
      "Better valLoss: 7.9787e-07, Saving models...\n",
      "--- Epoch 36/1000 ---\n",
      "trainLoss: 1.0570e-06\n",
      "LR: 1.0000e-05\n"
     ]
    },
    {
     "name": "stderr",
     "output_type": "stream",
     "text": [
      "\n",
      "\n",
      "  4%|▎         | 36/1000 [06:47<2:58:33, 11.11s/it]\u001b[A\u001b[A"
     ]
    },
    {
     "name": "stdout",
     "output_type": "stream",
     "text": [
      "valLoss: 9.9018e-07\n",
      "--- Epoch 37/1000 ---\n",
      "trainLoss: 9.2699e-07\n",
      "LR: 1.0000e-05\n"
     ]
    },
    {
     "name": "stderr",
     "output_type": "stream",
     "text": [
      "\n",
      "\n",
      "  4%|▎         | 37/1000 [06:58<2:57:45, 11.08s/it]\u001b[A\u001b[A"
     ]
    },
    {
     "name": "stdout",
     "output_type": "stream",
     "text": [
      "valLoss: 9.0640e-07\n",
      "--- Epoch 38/1000 ---\n",
      "trainLoss: 8.6600e-07\n",
      "LR: 1.0000e-05\n"
     ]
    },
    {
     "name": "stderr",
     "output_type": "stream",
     "text": [
      "\n",
      "\n",
      "  4%|▍         | 38/1000 [07:09<2:56:44, 11.02s/it]\u001b[A\u001b[A"
     ]
    },
    {
     "name": "stdout",
     "output_type": "stream",
     "text": [
      "valLoss: 9.6829e-07\n",
      "--- Epoch 39/1000 ---\n",
      "trainLoss: 9.2590e-07\n",
      "LR: 1.0000e-05\n"
     ]
    },
    {
     "name": "stderr",
     "output_type": "stream",
     "text": [
      "\n",
      "\n",
      "  4%|▍         | 39/1000 [07:21<2:58:16, 11.13s/it]\u001b[A\u001b[A"
     ]
    },
    {
     "name": "stdout",
     "output_type": "stream",
     "text": [
      "valLoss: 8.6774e-07\n",
      "--- Epoch 40/1000 ---\n",
      "trainLoss: 8.3433e-07\n",
      "LR: 1.0000e-05\n"
     ]
    },
    {
     "name": "stderr",
     "output_type": "stream",
     "text": [
      "\n",
      "\n",
      "  4%|▍         | 40/1000 [07:31<2:55:34, 10.97s/it]\u001b[A\u001b[A"
     ]
    },
    {
     "name": "stdout",
     "output_type": "stream",
     "text": [
      "valLoss: 8.8194e-07\n",
      "--- Epoch 41/1000 ---\n",
      "trainLoss: 7.5269e-07\n",
      "LR: 1.0000e-05\n",
      "Better trainLoss: 7.5269e-07, Saving models...\n"
     ]
    },
    {
     "name": "stderr",
     "output_type": "stream",
     "text": [
      "\n",
      "\n",
      "  4%|▍         | 41/1000 [07:42<2:56:41, 11.06s/it]\u001b[A\u001b[A"
     ]
    },
    {
     "name": "stdout",
     "output_type": "stream",
     "text": [
      "valLoss: 8.0229e-07\n",
      "--- Epoch 42/1000 ---\n",
      "trainLoss: 7.7228e-07\n",
      "LR: 1.0000e-05\n"
     ]
    },
    {
     "name": "stderr",
     "output_type": "stream",
     "text": [
      "\n",
      "\n",
      "  4%|▍         | 42/1000 [07:53<2:56:54, 11.08s/it]\u001b[A\u001b[A"
     ]
    },
    {
     "name": "stdout",
     "output_type": "stream",
     "text": [
      "valLoss: 6.7854e-07\n",
      "Better valLoss: 6.7854e-07, Saving models...\n",
      "--- Epoch 43/1000 ---\n",
      "trainLoss: 6.8923e-07\n",
      "LR: 1.0000e-05\n"
     ]
    },
    {
     "name": "stderr",
     "output_type": "stream",
     "text": [
      "\n",
      "\n",
      "  4%|▍         | 43/1000 [08:05<2:58:02, 11.16s/it]\u001b[A\u001b[A"
     ]
    },
    {
     "name": "stdout",
     "output_type": "stream",
     "text": [
      "valLoss: 6.0734e-07\n",
      "Better valLoss: 6.0734e-07, Saving models...\n",
      "--- Epoch 44/1000 ---\n",
      "trainLoss: 6.4898e-07\n",
      "LR: 1.0000e-05\n"
     ]
    },
    {
     "name": "stderr",
     "output_type": "stream",
     "text": [
      "\n",
      "\n",
      "  4%|▍         | 44/1000 [08:16<2:56:37, 11.09s/it]\u001b[A\u001b[A"
     ]
    },
    {
     "name": "stdout",
     "output_type": "stream",
     "text": [
      "valLoss: 6.0731e-07\n",
      "Better valLoss: 6.0731e-07, Saving models...\n",
      "--- Epoch 45/1000 ---\n",
      "trainLoss: 5.9096e-07\n",
      "LR: 1.0000e-05\n",
      "Better trainLoss: 5.9096e-07, Saving models...\n"
     ]
    },
    {
     "name": "stderr",
     "output_type": "stream",
     "text": [
      "\n",
      "\n",
      "  4%|▍         | 45/1000 [08:27<2:56:21, 11.08s/it]\u001b[A\u001b[A"
     ]
    },
    {
     "name": "stdout",
     "output_type": "stream",
     "text": [
      "valLoss: 5.5534e-07\n",
      "Better valLoss: 5.5534e-07, Saving models...\n",
      "--- Epoch 46/1000 ---\n",
      "trainLoss: 5.4430e-07\n",
      "LR: 1.0000e-05\n",
      "Better trainLoss: 5.4430e-07, Saving models...\n"
     ]
    },
    {
     "name": "stderr",
     "output_type": "stream",
     "text": [
      "\n",
      "\n",
      "  5%|▍         | 46/1000 [08:38<2:56:57, 11.13s/it]\u001b[A\u001b[A"
     ]
    },
    {
     "name": "stdout",
     "output_type": "stream",
     "text": [
      "valLoss: 5.6150e-07\n",
      "--- Epoch 47/1000 ---\n",
      "trainLoss: 5.3257e-07\n",
      "LR: 1.0000e-05\n",
      "Better trainLoss: 5.3257e-07, Saving models...\n"
     ]
    },
    {
     "name": "stderr",
     "output_type": "stream",
     "text": [
      "\n",
      "\n",
      "  5%|▍         | 47/1000 [08:50<2:59:26, 11.30s/it]\u001b[A\u001b[A"
     ]
    },
    {
     "name": "stdout",
     "output_type": "stream",
     "text": [
      "valLoss: 5.0207e-07\n",
      "Better valLoss: 5.0207e-07, Saving models...\n",
      "--- Epoch 48/1000 ---\n",
      "trainLoss: 5.3744e-07\n",
      "LR: 1.0000e-05\n"
     ]
    },
    {
     "name": "stderr",
     "output_type": "stream",
     "text": [
      "\n",
      "\n",
      "  5%|▍         | 48/1000 [09:01<3:00:23, 11.37s/it]\u001b[A\u001b[A"
     ]
    },
    {
     "name": "stdout",
     "output_type": "stream",
     "text": [
      "valLoss: 5.0172e-07\n",
      "Better valLoss: 5.0172e-07, Saving models...\n",
      "--- Epoch 49/1000 ---\n",
      "trainLoss: 4.8629e-07\n",
      "LR: 1.0000e-05\n",
      "Better trainLoss: 4.8629e-07, Saving models...\n"
     ]
    },
    {
     "name": "stderr",
     "output_type": "stream",
     "text": [
      "\n",
      "\n",
      "  5%|▍         | 49/1000 [09:13<3:03:36, 11.58s/it]\u001b[A\u001b[A"
     ]
    },
    {
     "name": "stdout",
     "output_type": "stream",
     "text": [
      "valLoss: 6.2630e-07\n",
      "--- Epoch 50/1000 ---\n",
      "trainLoss: 4.5347e-07\n",
      "LR: 1.0000e-05\n",
      "Better trainLoss: 4.5347e-07, Saving models...\n"
     ]
    },
    {
     "name": "stderr",
     "output_type": "stream",
     "text": [
      "\n",
      "\n",
      "  5%|▌         | 50/1000 [09:25<3:02:28, 11.53s/it]\u001b[A\u001b[A"
     ]
    },
    {
     "name": "stdout",
     "output_type": "stream",
     "text": [
      "valLoss: 4.5302e-07\n",
      "Better valLoss: 4.5302e-07, Saving models...\n",
      "--- Epoch 51/1000 ---\n",
      "trainLoss: 4.6212e-07\n",
      "LR: 1.0000e-05\n"
     ]
    },
    {
     "name": "stderr",
     "output_type": "stream",
     "text": [
      "\n",
      "\n",
      "  5%|▌         | 51/1000 [09:36<3:01:44, 11.49s/it]\u001b[A\u001b[A"
     ]
    },
    {
     "name": "stdout",
     "output_type": "stream",
     "text": [
      "valLoss: 4.3094e-07\n",
      "Better valLoss: 4.3094e-07, Saving models...\n",
      "--- Epoch 52/1000 ---\n",
      "trainLoss: 4.4697e-07\n",
      "LR: 1.0000e-05\n"
     ]
    },
    {
     "name": "stderr",
     "output_type": "stream",
     "text": [
      "\n",
      "\n",
      "  5%|▌         | 52/1000 [09:48<3:03:17, 11.60s/it]\u001b[A\u001b[A"
     ]
    },
    {
     "name": "stdout",
     "output_type": "stream",
     "text": [
      "valLoss: 4.3632e-07\n",
      "--- Epoch 53/1000 ---\n",
      "trainLoss: 3.9794e-07\n",
      "LR: 1.0000e-05\n",
      "Better trainLoss: 3.9794e-07, Saving models...\n"
     ]
    },
    {
     "name": "stderr",
     "output_type": "stream",
     "text": [
      "\n",
      "\n",
      "  5%|▌         | 53/1000 [09:59<3:00:19, 11.43s/it]\u001b[A\u001b[A"
     ]
    },
    {
     "name": "stdout",
     "output_type": "stream",
     "text": [
      "valLoss: 4.3210e-07\n",
      "--- Epoch 54/1000 ---\n",
      "trainLoss: 3.7877e-07\n",
      "LR: 1.0000e-05\n",
      "Better trainLoss: 3.7877e-07, Saving models...\n"
     ]
    },
    {
     "name": "stderr",
     "output_type": "stream",
     "text": [
      "\n",
      "\n",
      "  5%|▌         | 54/1000 [10:10<2:57:48, 11.28s/it]\u001b[A\u001b[A"
     ]
    },
    {
     "name": "stdout",
     "output_type": "stream",
     "text": [
      "valLoss: 3.9542e-07\n",
      "--- Epoch 55/1000 ---\n",
      "trainLoss: 3.8424e-07\n",
      "LR: 1.0000e-05\n"
     ]
    },
    {
     "name": "stderr",
     "output_type": "stream",
     "text": [
      "\n",
      "\n",
      "  6%|▌         | 55/1000 [10:21<2:55:29, 11.14s/it]\u001b[A\u001b[A"
     ]
    },
    {
     "name": "stdout",
     "output_type": "stream",
     "text": [
      "valLoss: 3.4120e-07\n",
      "Better valLoss: 3.4120e-07, Saving models...\n",
      "--- Epoch 56/1000 ---\n",
      "trainLoss: 3.9736e-07\n",
      "LR: 1.0000e-05\n"
     ]
    },
    {
     "name": "stderr",
     "output_type": "stream",
     "text": [
      "\n",
      "\n",
      "  6%|▌         | 56/1000 [10:32<2:55:13, 11.14s/it]\u001b[A\u001b[A"
     ]
    },
    {
     "name": "stdout",
     "output_type": "stream",
     "text": [
      "valLoss: 4.6756e-07\n",
      "--- Epoch 57/1000 ---\n",
      "trainLoss: 3.3852e-07\n",
      "LR: 1.0000e-06\n",
      "Better trainLoss: 3.3852e-07, Saving models...\n"
     ]
    },
    {
     "name": "stderr",
     "output_type": "stream",
     "text": [
      "\n",
      "\n",
      "  6%|▌         | 57/1000 [10:43<2:53:58, 11.07s/it]\u001b[A\u001b[A"
     ]
    },
    {
     "name": "stdout",
     "output_type": "stream",
     "text": [
      "valLoss: 3.2806e-07\n",
      "Better valLoss: 3.2806e-07, Saving models...\n",
      "--- Epoch 58/1000 ---\n",
      "trainLoss: 3.3966e-07\n",
      "LR: 1.0000e-06\n"
     ]
    },
    {
     "name": "stderr",
     "output_type": "stream",
     "text": [
      "\n",
      "\n",
      "  6%|▌         | 58/1000 [10:54<2:56:03, 11.21s/it]\u001b[A\u001b[A"
     ]
    },
    {
     "name": "stdout",
     "output_type": "stream",
     "text": [
      "valLoss: 3.3489e-07\n",
      "--- Epoch 59/1000 ---\n",
      "trainLoss: 3.3040e-07\n",
      "LR: 1.0000e-06\n"
     ]
    },
    {
     "name": "stderr",
     "output_type": "stream",
     "text": [
      "\n",
      "\n",
      "  6%|▌         | 59/1000 [11:06<2:58:40, 11.39s/it]\u001b[A\u001b[A"
     ]
    },
    {
     "name": "stdout",
     "output_type": "stream",
     "text": [
      "valLoss: 3.6155e-07\n",
      "--- Epoch 60/1000 ---\n",
      "trainLoss: 3.4906e-07\n",
      "LR: 1.0000e-06\n"
     ]
    },
    {
     "name": "stderr",
     "output_type": "stream",
     "text": [
      "\n",
      "\n",
      "  6%|▌         | 60/1000 [11:18<3:00:43, 11.54s/it]\u001b[A\u001b[A"
     ]
    },
    {
     "name": "stdout",
     "output_type": "stream",
     "text": [
      "valLoss: 4.5058e-07\n",
      "--- Epoch 61/1000 ---\n",
      "trainLoss: 3.6800e-07\n",
      "LR: 1.0000e-06\n"
     ]
    },
    {
     "name": "stderr",
     "output_type": "stream",
     "text": [
      "\n",
      "\n",
      "  6%|▌         | 61/1000 [11:30<3:02:06, 11.64s/it]\u001b[A\u001b[A"
     ]
    },
    {
     "name": "stdout",
     "output_type": "stream",
     "text": [
      "valLoss: 3.5479e-07\n",
      "--- Epoch 62/1000 ---\n",
      "trainLoss: 3.3257e-07\n",
      "LR: 1.0000e-07\n"
     ]
    },
    {
     "name": "stderr",
     "output_type": "stream",
     "text": [
      "\n",
      "\n",
      "  6%|▌         | 62/1000 [11:41<3:00:55, 11.57s/it]\u001b[A\u001b[A"
     ]
    },
    {
     "name": "stdout",
     "output_type": "stream",
     "text": [
      "valLoss: 3.3759e-07\n",
      "--- Epoch 63/1000 ---\n",
      "trainLoss: 3.3702e-07\n",
      "LR: 1.0000e-07\n",
      "valLoss: 3.9123e-07\n",
      "---------- Finished Training ----------\n"
     ]
    }
   ],
   "source": [
    "model = model.to(device)\n",
    "writeMessage('---------- Started Training ----------', versionName)\n",
    "bestLoss = np.infty\n",
    "\n",
    "for epoch in tqdm(range(1, epochs+1)):  # loop over the dataset multiple times\n",
    "    \n",
    "    writeMessage(\"--- Epoch {0}/{1} ---\".format(epoch, epochs), versionName)\n",
    "    \n",
    "    model.train()\n",
    "    trainLoss, tensorboard_recorder_step, total_steps = trainEpoch(trainDataLoader, \n",
    "                                                                   train_writer, model, opt, L,\n",
    "                                                                   rmse, lr_scheduler, \n",
    "                                                                   tensorboard_rate, device,\n",
    "                                                                   tensorboard_recorder_step, total_steps)\n",
    "    \n",
    "    writeMessage(\"trainLoss: {:.4e}\".format(trainLoss),versionName)\n",
    "    writeMessage(\"LR: {:.4e}\".format(opt.param_groups[0]['lr']),versionName)\n",
    "    if trainLoss < bestLoss:\n",
    "        bestLoss = trainLoss\n",
    "        writeMessage(\"Better trainLoss: {:.4e}, Saving models...\".format(bestLoss),versionName)\n",
    "        torch.save(model.state_dict(), os.path.join(cps,versionName))\n",
    "        \n",
    "    model.eval()\n",
    "    valLoss = validEpoch(testDataLoader, test_writer, model, L, rmse, device, tensorboard_recorder_step)\n",
    "    writeMessage(\"valLoss: {:.4e}\".format(valLoss),versionName)\n",
    "\n",
    "    #checkpoint progress\n",
    "    if valLoss < bestLoss:\n",
    "        bestLoss = valLoss\n",
    "        writeMessage(\"Better valLoss: {:.4e}, Saving models...\".format(bestLoss),versionName)\n",
    "        torch.save(model.state_dict(), os.path.join(cps,versionName))\n",
    "\n",
    "    lr_scheduler.step(trainLoss)\n",
    "    #lr_scheduler.step(valLoss)\n",
    "    \n",
    "    if opt.param_groups[0]['lr'] < 5e-8:\n",
    "        break\n",
    "writeMessage('---------- Finished Training ----------', versionName)"
   ]
  },
  {
   "cell_type": "markdown",
   "metadata": {},
   "source": [
    "## Test on the last trained model on Full simLen"
   ]
  },
  {
   "cell_type": "code",
   "execution_count": null,
   "metadata": {},
   "outputs": [
    {
     "data": {
      "text/plain": [
       "MLP(\n",
       "  (activation): Tanh()\n",
       "  (layers): Sequential(\n",
       "    (0): Linear(in_features=19, out_features=128, bias=True)\n",
       "    (1): Tanh()\n",
       "    (2): Linear(in_features=128, out_features=128, bias=True)\n",
       "    (3): Tanh()\n",
       "    (4): Linear(in_features=128, out_features=19, bias=True)\n",
       "  )\n",
       ")"
      ]
     },
     "execution_count": null,
     "metadata": {},
     "output_type": "execute_result"
    }
   ],
   "source": [
    "model.eval()"
   ]
  },
  {
   "cell_type": "code",
   "execution_count": null,
   "metadata": {},
   "outputs": [],
   "source": [
    "def invPreprocess(xnew):\n",
    "    x = ((xnew/2)+.5)*(x_mx-x_mn) + x_mn\n",
    "    return x\n",
    "\n",
    "\n",
    "def test_model(model,test_ind,doPlot=False):\n",
    "    # last model\n",
    "    idx = test_ind # choose one of the test samples\n",
    "    testDataset = LatentVectors(test_data[idx:idx+1],doPreprocess=True,w=simLen-1,mx=x_mx,mn=x_mn)\n",
    "    testDataLoader = DataLoader(dataset=testDataset, batch_size=1)\n",
    "    X,y = next(iter(testDataLoader))\n",
    "    X.shape, y.shape\n",
    "\n",
    "    xhat = X.to(device).clone()\n",
    "    out = []\n",
    "    for idx in range(y.shape[1]):\n",
    "        xhat = model(xhat).clone()\n",
    "        xhat[:,:,-p.shape[1]:] = y[:,idx:idx+1,-p.shape[1]:]\n",
    "        out.append(xhat)\n",
    "    out = torch.stack(out).squeeze()\n",
    "\n",
    "    yy = y.squeeze().to(device)\n",
    "    err = []\n",
    "    for i in range(out.shape[0]):\n",
    "        e = invPreprocess(yy[i].detach().cpu().numpy()) - invPreprocess(out[i].detach().cpu().numpy())\n",
    "        err.append(np.linalg.norm(e))\n",
    "\n",
    "    if doPlot:\n",
    "        plt.plot(err)\n",
    "        plt.title('Test Sample'.format(test_ind))\n",
    "        \n",
    "    return err"
   ]
  },
  {
   "cell_type": "code",
   "execution_count": null,
   "metadata": {},
   "outputs": [
    {
     "data": {
      "image/png": "[encoded data removed]",
      "text/plain": [
       "<Figure size 432x288 with 1 Axes>"
      ]
     },
     "metadata": {
      "needs_background": "light"
     },
     "output_type": "display_data"
    }
   ],
   "source": [
    "Err = []\n",
    "for idx in range(len(test_data)):  \n",
    "    e = test_model(model,idx,True)\n",
    "    Err.append(e)"
   ]
  },
  {
   "cell_type": "code",
   "execution_count": null,
   "metadata": {},
   "outputs": [
    {
     "data": {
      "text/plain": [
       "0.0012500533"
      ]
     },
     "execution_count": null,
     "metadata": {},
     "output_type": "execute_result"
    }
   ],
   "source": [
    "np.mean(Err)"
   ]
  },
  {
   "cell_type": "code",
   "execution_count": null,
   "metadata": {},
   "outputs": [],
   "source": [
    "## Test on the best validation model on Full simLen"
   ]
  },
  {
   "cell_type": "code",
   "execution_count": null,
   "metadata": {},
   "outputs": [],
   "source": [
    "# best val loss model\n",
    "model.load_state_dict(torch.load(os.path.join(cps,versionName)))\n",
    "model = model.to(device)"
   ]
  },
  {
   "cell_type": "code",
   "execution_count": null,
   "metadata": {},
   "outputs": [
    {
     "data": {
      "image/png": "[encoded data removed]",
      "text/plain": [
       "<Figure size 432x288 with 1 Axes>"
      ]
     },
     "metadata": {
      "needs_background": "light"
     },
     "output_type": "display_data"
    }
   ],
   "source": [
    "Err = []\n",
    "for idx in range(len(test_data)):  \n",
    "    e = test_model(model,idx,True)\n",
    "    Err.append(e)"
   ]
  },
  {
   "cell_type": "code",
   "execution_count": null,
   "metadata": {},
   "outputs": [
    {
     "data": {
      "text/plain": [
       "0.0012621909"
      ]
     },
     "execution_count": null,
     "metadata": {},
     "output_type": "execute_result"
    }
   ],
   "source": [
    "np.mean(Err)"
   ]
  },
  {
   "cell_type": "code",
   "execution_count": null,
   "metadata": {},
   "outputs": [],
   "source": []
  }
 ],
 "metadata": {
  "kernelspec": {
   "display_name": "Python 3",
   "language": "python",
   "name": "python3"
  }
 },
 "nbformat": 4,
 "nbformat_minor": 2
}
