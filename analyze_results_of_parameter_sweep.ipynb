{
 "cells": [
  {
   "cell_type": "code",
   "execution_count": 5,
   "metadata": {
    "ExecuteTime": {
     "end_time": "2020-10-19T17:54:40.367939Z",
     "start_time": "2020-10-19T17:54:39.999293Z"
    }
   },
   "outputs": [],
   "source": [
    "import matplotlib.pyplot as plt\n",
    "import pickle\n",
    "import glob\n",
    "import pandas as pd\n",
    "import numpy as np\n",
    "import seaborn as sns"
   ]
  },
  {
   "cell_type": "code",
   "execution_count": 62,
   "metadata": {
    "ExecuteTime": {
     "end_time": "2020-10-19T19:35:36.865273Z",
     "start_time": "2020-10-19T19:35:36.729516Z"
    }
   },
   "outputs": [
    {
     "data": {
      "text/html": [
       "<div>\n",
       "<style scoped>\n",
       "    .dataframe tbody tr th:only-of-type {\n",
       "        vertical-align: middle;\n",
       "    }\n",
       "\n",
       "    .dataframe tbody tr th {\n",
       "        vertical-align: top;\n",
       "    }\n",
       "\n",
       "    .dataframe thead th {\n",
       "        text-align: right;\n",
       "    }\n",
       "</style>\n",
       "<table border=\"1\" class=\"dataframe\">\n",
       "  <thead>\n",
       "    <tr style=\"text-align: right;\">\n",
       "      <th></th>\n",
       "      <th>LIN_z_mean_rel_error</th>\n",
       "      <th>svd_rel_err</th>\n",
       "      <th>lin_rel_err</th>\n",
       "      <th>window</th>\n",
       "      <th>latentDim</th>\n",
       "    </tr>\n",
       "  </thead>\n",
       "  <tbody>\n",
       "    <tr>\n",
       "      <th>0</th>\n",
       "      <td>1.425343</td>\n",
       "      <td>0.477671</td>\n",
       "      <td>1.266604</td>\n",
       "      <td>1</td>\n",
       "      <td>8</td>\n",
       "    </tr>\n",
       "    <tr>\n",
       "      <th>1</th>\n",
       "      <td>1.607939</td>\n",
       "      <td>0.386641</td>\n",
       "      <td>1.366756</td>\n",
       "      <td>1</td>\n",
       "      <td>16</td>\n",
       "    </tr>\n",
       "    <tr>\n",
       "      <th>2</th>\n",
       "      <td>1.802175</td>\n",
       "      <td>0.314556</td>\n",
       "      <td>1.585935</td>\n",
       "      <td>1</td>\n",
       "      <td>32</td>\n",
       "    </tr>\n",
       "    <tr>\n",
       "      <th>3</th>\n",
       "      <td>2.377189</td>\n",
       "      <td>0.247330</td>\n",
       "      <td>2.119684</td>\n",
       "      <td>1</td>\n",
       "      <td>64</td>\n",
       "    </tr>\n",
       "    <tr>\n",
       "      <th>4</th>\n",
       "      <td>0.753809</td>\n",
       "      <td>0.477671</td>\n",
       "      <td>0.783792</td>\n",
       "      <td>10</td>\n",
       "      <td>8</td>\n",
       "    </tr>\n",
       "    <tr>\n",
       "      <th>5</th>\n",
       "      <td>1.307000</td>\n",
       "      <td>0.386641</td>\n",
       "      <td>1.276059</td>\n",
       "      <td>10</td>\n",
       "      <td>16</td>\n",
       "    </tr>\n",
       "    <tr>\n",
       "      <th>6</th>\n",
       "      <td>1.776670</td>\n",
       "      <td>0.314556</td>\n",
       "      <td>2.428062</td>\n",
       "      <td>10</td>\n",
       "      <td>32</td>\n",
       "    </tr>\n",
       "    <tr>\n",
       "      <th>7</th>\n",
       "      <td>1.801272</td>\n",
       "      <td>0.247330</td>\n",
       "      <td>1.846350</td>\n",
       "      <td>10</td>\n",
       "      <td>64</td>\n",
       "    </tr>\n",
       "    <tr>\n",
       "      <th>8</th>\n",
       "      <td>0.485781</td>\n",
       "      <td>0.477671</td>\n",
       "      <td>0.868410</td>\n",
       "      <td>20</td>\n",
       "      <td>8</td>\n",
       "    </tr>\n",
       "    <tr>\n",
       "      <th>9</th>\n",
       "      <td>0.506802</td>\n",
       "      <td>0.386641</td>\n",
       "      <td>0.820984</td>\n",
       "      <td>20</td>\n",
       "      <td>16</td>\n",
       "    </tr>\n",
       "    <tr>\n",
       "      <th>10</th>\n",
       "      <td>0.854913</td>\n",
       "      <td>0.314556</td>\n",
       "      <td>1.020129</td>\n",
       "      <td>20</td>\n",
       "      <td>32</td>\n",
       "    </tr>\n",
       "    <tr>\n",
       "      <th>11</th>\n",
       "      <td>1.126998</td>\n",
       "      <td>0.247330</td>\n",
       "      <td>1.314220</td>\n",
       "      <td>20</td>\n",
       "      <td>64</td>\n",
       "    </tr>\n",
       "    <tr>\n",
       "      <th>12</th>\n",
       "      <td>0.409765</td>\n",
       "      <td>0.477671</td>\n",
       "      <td>0.799294</td>\n",
       "      <td>30</td>\n",
       "      <td>8</td>\n",
       "    </tr>\n",
       "    <tr>\n",
       "      <th>13</th>\n",
       "      <td>0.470504</td>\n",
       "      <td>0.386641</td>\n",
       "      <td>0.888853</td>\n",
       "      <td>30</td>\n",
       "      <td>16</td>\n",
       "    </tr>\n",
       "    <tr>\n",
       "      <th>14</th>\n",
       "      <td>0.621769</td>\n",
       "      <td>0.314556</td>\n",
       "      <td>0.816322</td>\n",
       "      <td>30</td>\n",
       "      <td>32</td>\n",
       "    </tr>\n",
       "    <tr>\n",
       "      <th>15</th>\n",
       "      <td>0.713223</td>\n",
       "      <td>0.247330</td>\n",
       "      <td>0.964647</td>\n",
       "      <td>30</td>\n",
       "      <td>64</td>\n",
       "    </tr>\n",
       "    <tr>\n",
       "      <th>16</th>\n",
       "      <td>0.467712</td>\n",
       "      <td>0.477671</td>\n",
       "      <td>0.841099</td>\n",
       "      <td>50</td>\n",
       "      <td>8</td>\n",
       "    </tr>\n",
       "    <tr>\n",
       "      <th>17</th>\n",
       "      <td>0.569713</td>\n",
       "      <td>0.386641</td>\n",
       "      <td>0.872193</td>\n",
       "      <td>50</td>\n",
       "      <td>16</td>\n",
       "    </tr>\n",
       "    <tr>\n",
       "      <th>18</th>\n",
       "      <td>0.575769</td>\n",
       "      <td>0.314556</td>\n",
       "      <td>0.907698</td>\n",
       "      <td>50</td>\n",
       "      <td>32</td>\n",
       "    </tr>\n",
       "    <tr>\n",
       "      <th>19</th>\n",
       "      <td>0.662993</td>\n",
       "      <td>0.247330</td>\n",
       "      <td>0.884401</td>\n",
       "      <td>50</td>\n",
       "      <td>64</td>\n",
       "    </tr>\n",
       "    <tr>\n",
       "      <th>20</th>\n",
       "      <td>0.452603</td>\n",
       "      <td>0.477671</td>\n",
       "      <td>0.817085</td>\n",
       "      <td>100</td>\n",
       "      <td>8</td>\n",
       "    </tr>\n",
       "    <tr>\n",
       "      <th>21</th>\n",
       "      <td>0.580180</td>\n",
       "      <td>0.386641</td>\n",
       "      <td>0.852871</td>\n",
       "      <td>100</td>\n",
       "      <td>16</td>\n",
       "    </tr>\n",
       "    <tr>\n",
       "      <th>22</th>\n",
       "      <td>0.687718</td>\n",
       "      <td>0.314556</td>\n",
       "      <td>0.880407</td>\n",
       "      <td>100</td>\n",
       "      <td>32</td>\n",
       "    </tr>\n",
       "    <tr>\n",
       "      <th>23</th>\n",
       "      <td>0.677968</td>\n",
       "      <td>0.247330</td>\n",
       "      <td>0.923665</td>\n",
       "      <td>100</td>\n",
       "      <td>64</td>\n",
       "    </tr>\n",
       "    <tr>\n",
       "      <th>24</th>\n",
       "      <td>0.489104</td>\n",
       "      <td>0.477671</td>\n",
       "      <td>0.816200</td>\n",
       "      <td>150</td>\n",
       "      <td>8</td>\n",
       "    </tr>\n",
       "    <tr>\n",
       "      <th>25</th>\n",
       "      <td>0.502615</td>\n",
       "      <td>0.386641</td>\n",
       "      <td>0.836525</td>\n",
       "      <td>150</td>\n",
       "      <td>16</td>\n",
       "    </tr>\n",
       "    <tr>\n",
       "      <th>26</th>\n",
       "      <td>0.611157</td>\n",
       "      <td>0.314556</td>\n",
       "      <td>0.883148</td>\n",
       "      <td>150</td>\n",
       "      <td>32</td>\n",
       "    </tr>\n",
       "    <tr>\n",
       "      <th>27</th>\n",
       "      <td>0.598659</td>\n",
       "      <td>0.247330</td>\n",
       "      <td>0.894582</td>\n",
       "      <td>150</td>\n",
       "      <td>64</td>\n",
       "    </tr>\n",
       "  </tbody>\n",
       "</table>\n",
       "</div>"
      ],
      "text/plain": [
       "    LIN_z_mean_rel_error  svd_rel_err  lin_rel_err  window  latentDim\n",
       "0               1.425343     0.477671     1.266604       1          8\n",
       "1               1.607939     0.386641     1.366756       1         16\n",
       "2               1.802175     0.314556     1.585935       1         32\n",
       "3               2.377189     0.247330     2.119684       1         64\n",
       "4               0.753809     0.477671     0.783792      10          8\n",
       "5               1.307000     0.386641     1.276059      10         16\n",
       "6               1.776670     0.314556     2.428062      10         32\n",
       "7               1.801272     0.247330     1.846350      10         64\n",
       "8               0.485781     0.477671     0.868410      20          8\n",
       "9               0.506802     0.386641     0.820984      20         16\n",
       "10              0.854913     0.314556     1.020129      20         32\n",
       "11              1.126998     0.247330     1.314220      20         64\n",
       "12              0.409765     0.477671     0.799294      30          8\n",
       "13              0.470504     0.386641     0.888853      30         16\n",
       "14              0.621769     0.314556     0.816322      30         32\n",
       "15              0.713223     0.247330     0.964647      30         64\n",
       "16              0.467712     0.477671     0.841099      50          8\n",
       "17              0.569713     0.386641     0.872193      50         16\n",
       "18              0.575769     0.314556     0.907698      50         32\n",
       "19              0.662993     0.247330     0.884401      50         64\n",
       "20              0.452603     0.477671     0.817085     100          8\n",
       "21              0.580180     0.386641     0.852871     100         16\n",
       "22              0.687718     0.314556     0.880407     100         32\n",
       "23              0.677968     0.247330     0.923665     100         64\n",
       "24              0.489104     0.477671     0.816200     150          8\n",
       "25              0.502615     0.386641     0.836525     150         16\n",
       "26              0.611157     0.314556     0.883148     150         32\n",
       "27              0.598659     0.247330     0.894582     150         64"
      ]
     },
     "execution_count": 62,
     "metadata": {},
     "output_type": "execute_result"
    }
   ],
   "source": [
    "model_dirs = glob.glob('/home/bartoldson1/surrogates4sims/tb/*')\n",
    "def build_result_df(aggregator):\n",
    "    result = pd.read_pickle(model_dirs[0]+'/results.p')\n",
    "    result['window'] = int(model_dirs[0].split('_')[5][1:])\n",
    "    result['latentDim'] = int(model_dirs[0].split('_')[6][9:])\n",
    "    result['svd_rel_err'] = aggregator(result['svd_rel_err'])\n",
    "    result['LIN_z_mean_rel_error'] = aggregator(result['LIN_z_mean_rel_error'])\n",
    "    result['lin_rel_err'] = aggregator(result['lin_rel_err'])\n",
    "    results = pd.DataFrame(result,index=[0])\n",
    "    for i, m in enumerate(model_dirs[1:],1):\n",
    "        result = pd.read_pickle(m+'/results.p')\n",
    "        result['window'] = int(m.split('_')[5][1:])\n",
    "        result['latentDim'] = int(m.split('_')[6][9:])\n",
    "        result['svd_rel_err'] = aggregator(result['svd_rel_err'])\n",
    "        result['LIN_z_mean_rel_error'] = aggregator(result['LIN_z_mean_rel_error'])\n",
    "        result['lin_rel_err'] = aggregator(result['lin_rel_err'])\n",
    "        results=results.append(pd.DataFrame(result, index=[i]))\n",
    "    return results\n",
    "results = build_result_df(np.mean)\n",
    "results"
   ]
  },
  {
   "cell_type": "code",
   "execution_count": 63,
   "metadata": {
    "ExecuteTime": {
     "end_time": "2020-10-19T19:35:57.128992Z",
     "start_time": "2020-10-19T19:35:57.107973Z"
    }
   },
   "outputs": [
    {
     "data": {
      "text/html": [
       "<div>\n",
       "<style scoped>\n",
       "    .dataframe tbody tr th:only-of-type {\n",
       "        vertical-align: middle;\n",
       "    }\n",
       "\n",
       "    .dataframe tbody tr th {\n",
       "        vertical-align: top;\n",
       "    }\n",
       "\n",
       "    .dataframe thead th {\n",
       "        text-align: right;\n",
       "    }\n",
       "</style>\n",
       "<table border=\"1\" class=\"dataframe\">\n",
       "  <thead>\n",
       "    <tr style=\"text-align: right;\">\n",
       "      <th></th>\n",
       "      <th>LIN_z_mean_rel_error</th>\n",
       "      <th>svd_rel_err</th>\n",
       "      <th>lin_rel_err</th>\n",
       "      <th>latentDim</th>\n",
       "    </tr>\n",
       "    <tr>\n",
       "      <th>window</th>\n",
       "      <th></th>\n",
       "      <th></th>\n",
       "      <th></th>\n",
       "      <th></th>\n",
       "    </tr>\n",
       "  </thead>\n",
       "  <tbody>\n",
       "    <tr>\n",
       "      <th>1</th>\n",
       "      <td>1.803161</td>\n",
       "      <td>0.35655</td>\n",
       "      <td>1.584745</td>\n",
       "      <td>30</td>\n",
       "    </tr>\n",
       "    <tr>\n",
       "      <th>10</th>\n",
       "      <td>1.409688</td>\n",
       "      <td>0.35655</td>\n",
       "      <td>1.583566</td>\n",
       "      <td>30</td>\n",
       "    </tr>\n",
       "    <tr>\n",
       "      <th>20</th>\n",
       "      <td>0.743624</td>\n",
       "      <td>0.35655</td>\n",
       "      <td>1.005936</td>\n",
       "      <td>30</td>\n",
       "    </tr>\n",
       "    <tr>\n",
       "      <th>30</th>\n",
       "      <td>0.553815</td>\n",
       "      <td>0.35655</td>\n",
       "      <td>0.867279</td>\n",
       "      <td>30</td>\n",
       "    </tr>\n",
       "    <tr>\n",
       "      <th>50</th>\n",
       "      <td>0.569046</td>\n",
       "      <td>0.35655</td>\n",
       "      <td>0.876348</td>\n",
       "      <td>30</td>\n",
       "    </tr>\n",
       "    <tr>\n",
       "      <th>100</th>\n",
       "      <td>0.599617</td>\n",
       "      <td>0.35655</td>\n",
       "      <td>0.868507</td>\n",
       "      <td>30</td>\n",
       "    </tr>\n",
       "    <tr>\n",
       "      <th>150</th>\n",
       "      <td>0.550384</td>\n",
       "      <td>0.35655</td>\n",
       "      <td>0.857614</td>\n",
       "      <td>30</td>\n",
       "    </tr>\n",
       "  </tbody>\n",
       "</table>\n",
       "</div>"
      ],
      "text/plain": [
       "        LIN_z_mean_rel_error  svd_rel_err  lin_rel_err  latentDim\n",
       "window                                                           \n",
       "1                   1.803161      0.35655     1.584745         30\n",
       "10                  1.409688      0.35655     1.583566         30\n",
       "20                  0.743624      0.35655     1.005936         30\n",
       "30                  0.553815      0.35655     0.867279         30\n",
       "50                  0.569046      0.35655     0.876348         30\n",
       "100                 0.599617      0.35655     0.868507         30\n",
       "150                 0.550384      0.35655     0.857614         30"
      ]
     },
     "execution_count": 63,
     "metadata": {},
     "output_type": "execute_result"
    }
   ],
   "source": [
    "results.groupby('window').mean()"
   ]
  },
  {
   "cell_type": "code",
   "execution_count": 64,
   "metadata": {
    "ExecuteTime": {
     "end_time": "2020-10-19T19:36:02.919811Z",
     "start_time": "2020-10-19T19:36:02.899230Z"
    }
   },
   "outputs": [
    {
     "data": {
      "text/html": [
       "<div>\n",
       "<style scoped>\n",
       "    .dataframe tbody tr th:only-of-type {\n",
       "        vertical-align: middle;\n",
       "    }\n",
       "\n",
       "    .dataframe tbody tr th {\n",
       "        vertical-align: top;\n",
       "    }\n",
       "\n",
       "    .dataframe thead th {\n",
       "        text-align: right;\n",
       "    }\n",
       "</style>\n",
       "<table border=\"1\" class=\"dataframe\">\n",
       "  <thead>\n",
       "    <tr style=\"text-align: right;\">\n",
       "      <th></th>\n",
       "      <th>LIN_z_mean_rel_error</th>\n",
       "      <th>svd_rel_err</th>\n",
       "      <th>lin_rel_err</th>\n",
       "      <th>window</th>\n",
       "    </tr>\n",
       "    <tr>\n",
       "      <th>latentDim</th>\n",
       "      <th></th>\n",
       "      <th></th>\n",
       "      <th></th>\n",
       "      <th></th>\n",
       "    </tr>\n",
       "  </thead>\n",
       "  <tbody>\n",
       "    <tr>\n",
       "      <th>8</th>\n",
       "      <td>0.640588</td>\n",
       "      <td>0.477671</td>\n",
       "      <td>0.884641</td>\n",
       "      <td>51.571429</td>\n",
       "    </tr>\n",
       "    <tr>\n",
       "      <th>16</th>\n",
       "      <td>0.792108</td>\n",
       "      <td>0.386641</td>\n",
       "      <td>0.987749</td>\n",
       "      <td>51.571429</td>\n",
       "    </tr>\n",
       "    <tr>\n",
       "      <th>32</th>\n",
       "      <td>0.990024</td>\n",
       "      <td>0.314556</td>\n",
       "      <td>1.217386</td>\n",
       "      <td>51.571429</td>\n",
       "    </tr>\n",
       "    <tr>\n",
       "      <th>64</th>\n",
       "      <td>1.136900</td>\n",
       "      <td>0.247330</td>\n",
       "      <td>1.278221</td>\n",
       "      <td>51.571429</td>\n",
       "    </tr>\n",
       "  </tbody>\n",
       "</table>\n",
       "</div>"
      ],
      "text/plain": [
       "           LIN_z_mean_rel_error  svd_rel_err  lin_rel_err     window\n",
       "latentDim                                                           \n",
       "8                      0.640588     0.477671     0.884641  51.571429\n",
       "16                     0.792108     0.386641     0.987749  51.571429\n",
       "32                     0.990024     0.314556     1.217386  51.571429\n",
       "64                     1.136900     0.247330     1.278221  51.571429"
      ]
     },
     "execution_count": 64,
     "metadata": {},
     "output_type": "execute_result"
    }
   ],
   "source": [
    "results.groupby('latentDim').mean()"
   ]
  },
  {
   "cell_type": "code",
   "execution_count": 65,
   "metadata": {
    "ExecuteTime": {
     "end_time": "2020-10-19T19:36:42.584398Z",
     "start_time": "2020-10-19T19:36:42.567645Z"
    }
   },
   "outputs": [
    {
     "data": {
      "text/html": [
       "<div>\n",
       "<style scoped>\n",
       "    .dataframe tbody tr th:only-of-type {\n",
       "        vertical-align: middle;\n",
       "    }\n",
       "\n",
       "    .dataframe tbody tr th {\n",
       "        vertical-align: top;\n",
       "    }\n",
       "\n",
       "    .dataframe thead th {\n",
       "        text-align: right;\n",
       "    }\n",
       "</style>\n",
       "<table border=\"1\" class=\"dataframe\">\n",
       "  <thead>\n",
       "    <tr style=\"text-align: right;\">\n",
       "      <th>latentDim</th>\n",
       "      <th>8</th>\n",
       "      <th>16</th>\n",
       "      <th>32</th>\n",
       "      <th>64</th>\n",
       "    </tr>\n",
       "    <tr>\n",
       "      <th>window</th>\n",
       "      <th></th>\n",
       "      <th></th>\n",
       "      <th></th>\n",
       "      <th></th>\n",
       "    </tr>\n",
       "  </thead>\n",
       "  <tbody>\n",
       "    <tr>\n",
       "      <th>1</th>\n",
       "      <td>1.266604</td>\n",
       "      <td>1.366756</td>\n",
       "      <td>1.585935</td>\n",
       "      <td>2.119684</td>\n",
       "    </tr>\n",
       "    <tr>\n",
       "      <th>10</th>\n",
       "      <td>0.783792</td>\n",
       "      <td>1.276059</td>\n",
       "      <td>2.428062</td>\n",
       "      <td>1.846350</td>\n",
       "    </tr>\n",
       "    <tr>\n",
       "      <th>20</th>\n",
       "      <td>0.868410</td>\n",
       "      <td>0.820984</td>\n",
       "      <td>1.020129</td>\n",
       "      <td>1.314220</td>\n",
       "    </tr>\n",
       "    <tr>\n",
       "      <th>30</th>\n",
       "      <td>0.799294</td>\n",
       "      <td>0.888853</td>\n",
       "      <td>0.816322</td>\n",
       "      <td>0.964647</td>\n",
       "    </tr>\n",
       "    <tr>\n",
       "      <th>50</th>\n",
       "      <td>0.841099</td>\n",
       "      <td>0.872193</td>\n",
       "      <td>0.907698</td>\n",
       "      <td>0.884401</td>\n",
       "    </tr>\n",
       "    <tr>\n",
       "      <th>100</th>\n",
       "      <td>0.817085</td>\n",
       "      <td>0.852871</td>\n",
       "      <td>0.880407</td>\n",
       "      <td>0.923665</td>\n",
       "    </tr>\n",
       "    <tr>\n",
       "      <th>150</th>\n",
       "      <td>0.816200</td>\n",
       "      <td>0.836525</td>\n",
       "      <td>0.883148</td>\n",
       "      <td>0.894582</td>\n",
       "    </tr>\n",
       "  </tbody>\n",
       "</table>\n",
       "</div>"
      ],
      "text/plain": [
       "latentDim        8         16        32        64\n",
       "window                                           \n",
       "1          1.266604  1.366756  1.585935  2.119684\n",
       "10         0.783792  1.276059  2.428062  1.846350\n",
       "20         0.868410  0.820984  1.020129  1.314220\n",
       "30         0.799294  0.888853  0.816322  0.964647\n",
       "50         0.841099  0.872193  0.907698  0.884401\n",
       "100        0.817085  0.852871  0.880407  0.923665\n",
       "150        0.816200  0.836525  0.883148  0.894582"
      ]
     },
     "execution_count": 65,
     "metadata": {},
     "output_type": "execute_result"
    }
   ],
   "source": [
    "results.pivot('window','latentDim','lin_rel_err')"
   ]
  },
  {
   "cell_type": "code",
   "execution_count": 71,
   "metadata": {
    "ExecuteTime": {
     "end_time": "2020-10-19T19:40:21.757154Z",
     "start_time": "2020-10-19T19:40:21.516488Z"
    }
   },
   "outputs": [
    {
     "data": {
      "image/png": "[encoded data removed]",
      "text/plain": [
       "<Figure size 432x288 with 2 Axes>"
      ]
     },
     "metadata": {
      "needs_background": "light"
     },
     "output_type": "display_data"
    }
   ],
   "source": [
    "sns.heatmap(results.pivot('window','latentDim','lin_rel_err'),annot=True,center=2, vmin=0.5, vmax=3)\n",
    "plt.show()"
   ]
  },
  {
   "cell_type": "code",
   "execution_count": 72,
   "metadata": {
    "ExecuteTime": {
     "end_time": "2020-10-19T19:40:36.514521Z",
     "start_time": "2020-10-19T19:40:36.267212Z"
    }
   },
   "outputs": [
    {
     "data": {
      "image/png": "[encoded data removed]",
      "text/plain": [
       "<Figure size 432x288 with 2 Axes>"
      ]
     },
     "metadata": {
      "needs_background": "light"
     },
     "output_type": "display_data"
    }
   ],
   "source": [
    "sns.heatmap(build_result_df(np.median).pivot('window','latentDim','lin_rel_err'),annot=True,center=2, \n",
    "            vmin=0.5, vmax=3)\n",
    "plt.show()"
   ]
  },
  {
   "cell_type": "code",
   "execution_count": 73,
   "metadata": {
    "ExecuteTime": {
     "end_time": "2020-10-19T19:40:47.174411Z",
     "start_time": "2020-10-19T19:40:46.892888Z"
    }
   },
   "outputs": [
    {
     "data": {
      "image/png": "[encoded data removed]",
      "text/plain": [
       "<Figure size 432x288 with 2 Axes>"
      ]
     },
     "metadata": {
      "needs_background": "light"
     },
     "output_type": "display_data"
    }
   ],
   "source": [
    "sns.heatmap(build_result_df(np.min).pivot('window','latentDim','lin_rel_err'),annot=True,center=2, \n",
    "            vmin=0.5, vmax=3)\n",
    "plt.show()"
   ]
  },
  {
   "cell_type": "code",
   "execution_count": 74,
   "metadata": {
    "ExecuteTime": {
     "end_time": "2020-10-19T19:40:54.700144Z",
     "start_time": "2020-10-19T19:40:54.371875Z"
    }
   },
   "outputs": [
    {
     "data": {
      "image/png": "[encoded data removed]",
      "text/plain": [
       "<Figure size 432x288 with 2 Axes>"
      ]
     },
     "metadata": {
      "needs_background": "light"
     },
     "output_type": "display_data"
    }
   ],
   "source": [
    "sns.heatmap(build_result_df(np.max).pivot('window','latentDim','lin_rel_err'),annot=True,center=2, vmin=0.5, vmax=3)\n",
    "plt.show()"
   ]
  }
 ],
 "metadata": {
  "kernelspec": {
   "display_name": "Python 3",
   "language": "python",
   "name": "python3"
  },
  "language_info": {
   "codemirror_mode": {
    "name": "ipython",
    "version": 3
   },
   "file_extension": ".py",
   "mimetype": "text/x-python",
   "name": "python",
   "nbconvert_exporter": "python",
   "pygments_lexer": "ipython3",
   "version": "3.8.3"
  }
 },
 "nbformat": 4,
 "nbformat_minor": 4
}
