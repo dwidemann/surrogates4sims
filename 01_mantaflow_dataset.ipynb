{
 "cells": [
  {
   "cell_type": "code",
   "execution_count": null,
   "metadata": {},
   "outputs": [],
   "source": [
    "# default_exp mantaflowDatasets"
   ]
  },
  {
   "cell_type": "code",
   "execution_count": null,
   "metadata": {},
   "outputs": [],
   "source": [
    "# To Do: put a link for the mantaflow script that created this data "
   ]
  },
  {
   "cell_type": "markdown",
   "metadata": {},
   "source": [
    "## Import libraries"
   ]
  },
  {
   "cell_type": "markdown",
   "metadata": {},
   "source": [
    "This class reads in a dataset and does the necessary preprocessing for a pytorch model."
   ]
  },
  {
   "cell_type": "code",
   "execution_count": null,
   "metadata": {},
   "outputs": [],
   "source": [
    "#hide\n",
    "from nbdev.showdoc import *"
   ]
  },
  {
   "cell_type": "code",
   "execution_count": null,
   "metadata": {},
   "outputs": [],
   "source": [
    "# EXPORT\n",
    "#from torchvision import datasets, transforms\n",
    "import os, sys\n",
    "from glob import glob\n",
    "import pickle\n",
    "import numpy as np\n",
    "import torch\n",
    "from torch.utils.data import Dataset, DataLoader\n",
    "import matplotlib.pyplot as plt\n",
    "from random import shuffle\n",
    "from tqdm import tqdm"
   ]
  },
  {
   "cell_type": "markdown",
   "metadata": {},
   "source": [
    "## MantaFlow Dataset Class"
   ]
  },
  {
   "cell_type": "code",
   "execution_count": null,
   "metadata": {},
   "outputs": [],
   "source": [
    "dataDirec = '/data/mantaFlowSim/data/smoke_pos21_size5_f200'"
   ]
  },
  {
   "cell_type": "code",
   "execution_count": null,
   "metadata": {},
   "outputs": [],
   "source": [
    "files = glob(os.path.join(dataDirec,'v','*.npz'))\n",
    "files"
   ]
  },
  {
   "cell_type": "code",
   "execution_count": null,
   "metadata": {},
   "outputs": [],
   "source": [
    "# EXPORT\n",
    "def loadfile(fn):\n",
    "    A = np.load(fn)\n",
    "    X = A['x'].astype('float32')\n",
    "    X = np.rollaxis(X,-1)\n",
    "    y = A['y'].astype('float32')\n",
    "    return X,y"
   ]
  },
  {
   "cell_type": "code",
   "execution_count": null,
   "metadata": {},
   "outputs": [],
   "source": [
    "X,y = loadfile(files[100])\n",
    "X.shape, y.shape"
   ]
  },
  {
   "cell_type": "code",
   "execution_count": null,
   "metadata": {},
   "outputs": [],
   "source": [
    "# EXPORT\n",
    "class MantaFlowDataset(Dataset):\n",
    "    def __init__(self, \n",
    "                 dataDirec='/home/widemann1/carbon_capture/surrogate_nn_for_pde/deep-fluids/data/smoke_pos21_size5_f200/v',\n",
    "                 numToKeep=np.infty,transform=None, reverseXY=False, preprocess=True, AE=False): \n",
    "        if type(dataDirec) == list:\n",
    "            self.files = dataDirec\n",
    "        else:\n",
    "            self.files = glob(os.path.join(dataDirec,'*.npz'))\n",
    "        self.dataDirec = dataDirec\n",
    "        self.numToKeep = numToKeep\n",
    "        self.transform = transform\n",
    "        self.reverseXY = reverseXY\n",
    "        self.AE = AE\n",
    "        self.data = []\n",
    " \n",
    "        if numToKeep < len(self.files):\n",
    "            self.files = self.files[:numToKeep]\n",
    "        for f in tqdm(self.files):\n",
    "            X,y = self.loadfile(f)\n",
    "            \n",
    "            if preprocess:\n",
    "                X,y = self.preprocessFcn(X,y)\n",
    "                \n",
    "            if reverseXY:\n",
    "                self.data.append((y,X))\n",
    "            else:\n",
    "                self.data.append((X,y))\n",
    "\n",
    "    def loadfile(self,fn):\n",
    "        A = np.load(fn)\n",
    "        X = A['x'].astype('float32')\n",
    "        X = np.rollaxis(X,-1)\n",
    "        y = A['y'].astype('float32')\n",
    "        return X,y\n",
    "\n",
    "    def preprocessFcn(self,X,y):\n",
    "        x_range = 11.953\n",
    "        X /= x_range\n",
    "        y_range = [[0.2, 0.8], [0.04, 0.12], [0.0, 199.0]]\n",
    "        for i, ri in enumerate(y_range):\n",
    "            y[i] = (y[i]-ri[0]) / (ri[1]-ri[0]) * 2 - 1\n",
    "        return X,y\n",
    "    \n",
    "    def __len__(self):\n",
    "        return len(self.data)\n",
    "\n",
    "    def plot(self,idx,savefig=False):\n",
    "        X, label  = self.data[idx]\n",
    "        if self.reverseXY:\n",
    "            X = label\n",
    "            \n",
    "        plt.figure(figsize=(20,10))\n",
    "        \n",
    "        plt.subplot(211)\n",
    "        fn = self.files[idx].replace('.npz','')\n",
    "        title = '{} channel 0'.format(fn)\n",
    "        plt.title(title)\n",
    "        plt.imshow(X[0][::-1])\n",
    "        plt.colorbar()\n",
    "        \n",
    "        plt.subplot(212)\n",
    "        title = '{} channel 1'.format(fn)\n",
    "        plt.title(title)\n",
    "        plt.imshow(X[1][::-1])\n",
    "        plt.colorbar()\n",
    "        \n",
    "        if savefig:\n",
    "            title = title.replace(' ','_') + '.png'\n",
    "            plt.savefig(title, dpi=300)\n",
    "            plt.close()\n",
    "        else:\n",
    "            plt.show()\n",
    "\n",
    "    def __getitem__(self, idx):\n",
    "        X, y  = self.data[idx]\n",
    "        if self.transform:\n",
    "            X = self.transform(X)\n",
    "        if self.AE:\n",
    "            return X, X # looks crazy, but it's dirty fix to allow lr_finder to work \n",
    "        return X, y"
   ]
  },
  {
   "cell_type": "markdown",
   "metadata": {},
   "source": [
    "## Testing..."
   ]
  },
  {
   "cell_type": "code",
   "execution_count": null,
   "metadata": {},
   "outputs": [],
   "source": [
    "M = MantaFlowDataset(dataDirec='/home/widemann1/carbon_capture/surrogate_nn_for_pde/deep-fluids/data/smoke_pos21_size5_f200/v',\n",
    "                 numToKeep=100)"
   ]
  },
  {
   "cell_type": "code",
   "execution_count": null,
   "metadata": {},
   "outputs": [],
   "source": [
    "M = MantaFlowDataset(dataDirec='/home/widemann1/carbon_capture/surrogate_nn_for_pde/deep-fluids/data/smoke_pos21_size5_f200/v')"
   ]
  },
  {
   "cell_type": "code",
   "execution_count": null,
   "metadata": {},
   "outputs": [],
   "source": [
    "M.plot(54)"
   ]
  },
  {
   "cell_type": "code",
   "execution_count": null,
   "metadata": {},
   "outputs": [],
   "source": [
    "M.plot(54,savefig=True)"
   ]
  },
  {
   "cell_type": "code",
   "execution_count": null,
   "metadata": {},
   "outputs": [],
   "source": [
    "bz = 16\n",
    "dataLoader = DataLoader(M,batch_size=bz,shuffle=True)"
   ]
  },
  {
   "cell_type": "code",
   "execution_count": null,
   "metadata": {},
   "outputs": [],
   "source": [
    "X,y = next(iter(dataLoader))"
   ]
  },
  {
   "cell_type": "code",
   "execution_count": null,
   "metadata": {},
   "outputs": [],
   "source": [
    "X.shape\n",
    "X.dtype"
   ]
  },
  {
   "cell_type": "code",
   "execution_count": null,
   "metadata": {},
   "outputs": [],
   "source": [
    "y.shape\n",
    "y.dtype"
   ]
  },
  {
   "cell_type": "code",
   "execution_count": null,
   "metadata": {},
   "outputs": [],
   "source": [
    "# M = MantaFlowDataset(dataDirec='/home/widemann1/carbon_capture/surrogate_nn_for_pde/deep-fluids/data/smoke_pos21_size5_f200/v',\n",
    "#                  numToKeep=np.infty)"
   ]
  },
  {
   "cell_type": "code",
   "execution_count": null,
   "metadata": {},
   "outputs": [],
   "source": [
    "dataLoader = DataLoader(M,batch_size=bz,shuffle=True)"
   ]
  },
  {
   "cell_type": "code",
   "execution_count": null,
   "metadata": {},
   "outputs": [],
   "source": [
    "cnt = 1\n",
    "for batch in dataLoader:\n",
    "    cnt += 1"
   ]
  },
  {
   "cell_type": "code",
   "execution_count": null,
   "metadata": {},
   "outputs": [],
   "source": [
    "cnt"
   ]
  },
  {
   "cell_type": "code",
   "execution_count": null,
   "metadata": {},
   "outputs": [],
   "source": [
    "MfromList = MantaFlowDataset(files,numToKeep=100)"
   ]
  },
  {
   "cell_type": "code",
   "execution_count": null,
   "metadata": {},
   "outputs": [],
   "source": [
    "MfromList.plot(54)"
   ]
  },
  {
   "cell_type": "code",
   "execution_count": null,
   "metadata": {},
   "outputs": [],
   "source": [
    "MfromList = MantaFlowDataset(files,numToKeep=100,reverseXY=True)"
   ]
  },
  {
   "cell_type": "code",
   "execution_count": null,
   "metadata": {},
   "outputs": [],
   "source": [
    "MfromList.plot(3)"
   ]
  },
  {
   "cell_type": "code",
   "execution_count": null,
   "metadata": {},
   "outputs": [],
   "source": [
    "dataLoader = DataLoader(MfromList,batch_size=bz)"
   ]
  },
  {
   "cell_type": "code",
   "execution_count": null,
   "metadata": {},
   "outputs": [],
   "source": [
    "a,b = next(iter(dataLoader))\n",
    "a.shape\n",
    "b.shape"
   ]
  },
  {
   "cell_type": "code",
   "execution_count": null,
   "metadata": {},
   "outputs": [],
   "source": [
    "M = MantaFlowDataset(dataDirec='/home/widemann1/carbon_capture/surrogate_nn_for_pde/deep-fluids/data/smoke_pos21_size5_f200/v',\n",
    "                 numToKeep=100, AE=True)"
   ]
  },
  {
   "cell_type": "code",
   "execution_count": null,
   "metadata": {},
   "outputs": [],
   "source": [
    "A,B = M[10]"
   ]
  },
  {
   "cell_type": "code",
   "execution_count": null,
   "metadata": {},
   "outputs": [],
   "source": [
    "X,p = A\n",
    "X.shape, p.shape"
   ]
  },
  {
   "cell_type": "code",
   "execution_count": null,
   "metadata": {},
   "outputs": [],
   "source": [
    "B.shape"
   ]
  },
  {
   "cell_type": "code",
   "execution_count": null,
   "metadata": {},
   "outputs": [],
   "source": [
    "M.plot(10)"
   ]
  },
  {
   "cell_type": "code",
   "execution_count": null,
   "metadata": {},
   "outputs": [],
   "source": [
    "# EXPORT\n",
    "import os\n",
    "from glob import glob\n",
    "\n",
    "def getSingleSim(sim,\n",
    "                 dataDirec='/home/widemann1/carbon_capture/surrogate_nn_for_pde/deep-fluids/data/smoke_pos21_size5_f200/v',\n",
    "                 simLen=200):\n",
    "    if type(dataDirec) == str:\n",
    "        data = glob(os.path.join(dataDirec,'*.npz'))\n",
    "    else:\n",
    "        data = dataDirec\n",
    "    data = sorted(data)\n",
    "    out = data[sim*simLen:(sim+1)*simLen]\n",
    "    order = []\n",
    "    for fn in out:\n",
    "        a = os.path.basename(fn).replace('.npz','').split('_')\n",
    "        order.append(int(a[2]))\n",
    "    sorted_idx = np.argsort(order)\n",
    "    out = [out[i] for i in sorted_idx]\n",
    "    return out\n",
    "\n",
    "\n",
    "def createMantaFlowTrainTest(dataDirec='/home/widemann1/carbon_capture/surrogate_nn_for_pde/deep-fluids/data/smoke_pos21_size5_f200/v',\n",
    "                            simLen=200,\n",
    "                            testSplit=.1,\n",
    "                            seed=1234):\n",
    "    data = glob(os.path.join(dataDirec,'*.npz'))\n",
    "    data = sorted(data)\n",
    "    numSims = len(data)//simLen\n",
    "    numTestSamples = int(np.round(testSplit*numSims))\n",
    "    np.random.seed(seed)\n",
    "    perm = np.random.permutation(numSims)\n",
    "    testSims = perm[:numTestSamples]\n",
    "    trainSims = perm[numTestSamples:]\n",
    "    \n",
    "    def _getSimFrames(data, sim=0,simLen=200):\n",
    "        out = data[sim*simLen:(sim+1)*simLen]\n",
    "        order = []\n",
    "        for fn in out:\n",
    "            a = os.path.basename(fn).replace('.npz','').split('_')\n",
    "            order.append(int(a[2]))\n",
    "        sorted_idx = np.argsort(order)\n",
    "        out = [out[i] for i in sorted_idx]\n",
    "        return out\n",
    "    \n",
    "    def _buildDataset(simData, sims, simLen):\n",
    "        data = []\n",
    "        for i in sims:\n",
    "            sim = _getSimFrames(simData, i, simLen)\n",
    "            data.append(sim)\n",
    "        data = [i for sublist in data for i in sublist]\n",
    "        return data\n",
    "    \n",
    "    testData = _buildDataset(data, testSims, simLen)\n",
    "    trainData = _buildDataset(data, trainSims, simLen)\n",
    "    return trainData, testData"
   ]
  },
  {
   "cell_type": "code",
   "execution_count": null,
   "metadata": {},
   "outputs": [],
   "source": [
    "tr, te = createMantaFlowTrainTest()\n",
    "te"
   ]
  },
  {
   "cell_type": "code",
   "execution_count": null,
   "metadata": {},
   "outputs": [],
   "source": [
    "singleTestSim = getSingleSim(sim=5)\n",
    "singleTestSim"
   ]
  },
  {
   "cell_type": "code",
   "execution_count": null,
   "metadata": {},
   "outputs": [],
   "source": [
    "singleTestSim = getSingleSim(sim=5,dataDirec=te)\n",
    "singleTestSim"
   ]
  },
  {
   "cell_type": "code",
   "execution_count": null,
   "metadata": {},
   "outputs": [],
   "source": [
    "MantaFlowDataset(tr,numToKeep=1000)"
   ]
  }
 ],
 "metadata": {
  "kernelspec": {
   "display_name": "Python 3",
   "language": "python",
   "name": "python3"
  }
 },
 "nbformat": 4,
 "nbformat_minor": 2
}
