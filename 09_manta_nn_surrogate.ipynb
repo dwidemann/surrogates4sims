{
 "cells": [
  {
   "cell_type": "code",
   "execution_count": 1,
   "metadata": {
    "ExecuteTime": {
     "end_time": "2020-10-30T15:36:10.261034Z",
     "start_time": "2020-10-30T15:36:03.211026Z"
    }
   },
   "outputs": [],
   "source": [
    "# EXPORT\n",
    "# --- Must haves ---\n",
    "import os, sys\n",
    "sys.path.append('..')\n",
    "\n",
    "import matplotlib.pyplot as plt\n",
    "import torch\n",
    "from torch.utils.data import Dataset, DataLoader\n",
    "from torch.utils.tensorboard import SummaryWriter\n",
    "import torch.cuda as cuda\n",
    "import torch.nn as nn\n",
    "import torchvision\n",
    "import torch.nn.functional as F\n",
    "from copy import deepcopy\n",
    "\n",
    "from surrogates4sims.mantaflowDatasets import MantaFlowDataset, getSingleSim, createMantaFlowTrainTest\n",
    "\"\"\n",
    "from surrogates4sims.utils import create_opt, create_one_cycle, find_lr, printNumModelParams, \\\n",
    "                                    rmse, writeMessage, plotSampleWprediction, plotSampleWpredictionByChannel, \\\n",
    "                                    plotSample, curl, jacobian, stream2uv, create_movie, convertSimToImage\n",
    "\n",
    "from surrogates4sims.models import Generator, Encoder, AE_no_P, AE_xhat_z, AE_xhat_zV2\n",
    "\n",
    "from surrogates4sims.train import trainEpoch, validEpoch\n",
    "\n",
    "import numpy as np\n",
    "from tqdm import tqdm\n",
    "from copy import deepcopy"
   ]
  },
  {
   "cell_type": "code",
   "execution_count": 2,
   "metadata": {
    "ExecuteTime": {
     "end_time": "2020-10-30T15:36:10.281078Z",
     "start_time": "2020-10-30T15:36:10.264275Z"
    }
   },
   "outputs": [
    {
     "data": {
      "text/plain": [
       "'end_to_end_plateau_train_GPUs13_latentDim16_window_size10_filters128_bz20_numConv4_streamFalse_jacobianTrue_epochs1000_stackTrue'"
      ]
     },
     "execution_count": 2,
     "metadata": {},
     "output_type": "execute_result"
    }
   ],
   "source": [
    "# data \n",
    "eval_only=False\n",
    "DEBUG = False\n",
    "# model name, for tensorboard recording and checkpointing purposes.\n",
    "versionName = \"end_to_end_plateau_train\"\n",
    "\n",
    "# GPU Numbers to use. Comma seprate them for multi-GPUs.\n",
    "gpu_ids = \"1,3\"\n",
    "versionName = versionName + '_GPUs{}'.format(gpu_ids.replace(',',''))\n",
    "# path to load model weights.\n",
    "pretrained_path = None\n",
    "\n",
    "# rate at which to record metrics. (number of batches to average over when recording metrics, e.g. \"every 5 batches\")\n",
    "tensorboard_rate = 5\n",
    "\n",
    "# number of epochs to train. This is defined here so we can use the OneCycle LR Scheduler.\n",
    "epochs = 1000\n",
    "\n",
    "# Data Directory\n",
    "dataDirec = '/data/mantaFlowSim/data/smoke_pos21_size5_f200/v'\n",
    "reverseXY = False \n",
    "\n",
    "# checkpoint directory\n",
    "cps = 'cps'\n",
    "tensorboard_direc = \"tb\"\n",
    "\n",
    "findLRs = False  \n",
    "\n",
    "# hyper-params\n",
    "seed = 1234\n",
    "np.random.seed(seed)\n",
    "testSplit = .1\n",
    "bz = 20\n",
    "numSamplesToKeep = np.infty #if not debugging\n",
    "latentDim = 16\n",
    "window_size = 10 # to-do: have an increasing window size as training proceeds?\n",
    "filters = 128\n",
    "num_conv = 4 # breaks when less than 2\n",
    "simLen = 200\n",
    "stack = True\n",
    "simVizIndex = 0 # sim in the test set to visualize\n",
    "createStreamFcn = False\n",
    "doJacobian = True\n",
    "repeat = 0\n",
    "skip_connection = False\n",
    "patience = 2\n",
    "if DEBUG:\n",
    "    epochs = 10000\n",
    "    numSamplesToKeep = bz\n",
    "    \n",
    "versionName = versionName + '_latentDim{}_window_size{}_filters{}_bz{}_numConv{}_stream{}_jacobian{}_epochs{}_stack{}'.format(latentDim,window_size,filters,bz,num_conv,createStreamFcn,doJacobian,epochs,stack)\n",
    "versionName"
   ]
  },
  {
   "cell_type": "code",
   "execution_count": 3,
   "metadata": {
    "ExecuteTime": {
     "end_time": "2020-10-30T15:36:10.448585Z",
     "start_time": "2020-10-30T15:36:10.283042Z"
    }
   },
   "outputs": [
    {
     "name": "stdout",
     "output_type": "stream",
     "text": [
      "Using device: cuda\n",
      "(19000, 2000)\n"
     ]
    }
   ],
   "source": [
    "os.environ[\"CUDA_DEVICE_ORDER\"]=\"PCI_BUS_ID\"   # see issue #152\n",
    "os.environ[\"CUDA_VISIBLE_DEVICES\"]=gpu_ids\n",
    "device = torch.device('cuda' if torch.cuda.is_available() else 'cpu')\n",
    "print('Using device:', device)\n",
    "\n",
    "trainData, testData = createMantaFlowTrainTest(dataDirec,simLen,testSplit,seed)\n",
    "print((len(trainData),len(testData)))"
   ]
  },
  {
   "cell_type": "code",
   "execution_count": 4,
   "metadata": {
    "ExecuteTime": {
     "end_time": "2020-10-30T15:36:10.707828Z",
     "start_time": "2020-10-30T15:36:10.673865Z"
    }
   },
   "outputs": [],
   "source": [
    "class MantaFlowDataset(Dataset):\n",
    "    def __init__(self, \n",
    "                 dataDirec='/data/mantaFlowSim/data/smoke_pos21_size5_f200/v',\n",
    "                 numToKeep=np.infty,transform=None, reverseXY=False, preprocess=True, AE=False,\n",
    "                 w = 1, simLen = 200): \n",
    "        if type(dataDirec) == list:\n",
    "            self.files = dataDirec\n",
    "        else:\n",
    "            self.files = glob(os.path.join(dataDirec,'*.npz'))\n",
    "        self.dataDirec = dataDirec\n",
    "        self.numToKeep = numToKeep\n",
    "        self.transform = transform\n",
    "        self.reverseXY = reverseXY\n",
    "        self.AE = AE\n",
    "        self.w = w\n",
    "        self.simLen = simLen\n",
    "        self.data = []\n",
    " \n",
    "        if numToKeep < len(self.files):\n",
    "            self.files = self.files[:numToKeep]\n",
    "        for f in tqdm(self.files):\n",
    "            X,y = self.loadfile(f)\n",
    "            \n",
    "            if preprocess:\n",
    "                X,y = self.preprocessFcn(X,y)\n",
    "                \n",
    "            if reverseXY:\n",
    "                self.data.append((y,X))\n",
    "            else:\n",
    "                self.data.append((X,y))\n",
    "\n",
    "    def loadfile(self,fn):\n",
    "        A = np.load(fn)\n",
    "        X = A['x'].astype('float32')\n",
    "        X = np.rollaxis(X,-1)\n",
    "        y = A['y'].astype('float32')\n",
    "        return X,y\n",
    "\n",
    "    def preprocessFcn(self,X,y):\n",
    "        x_range = 11.953\n",
    "        X /= x_range\n",
    "        y_range = [[0.2, 0.8], [0.04, 0.12], [0.0, 199.0]]\n",
    "        for i, ri in enumerate(y_range):\n",
    "            y[i] = (y[i]-ri[0]) / (ri[1]-ri[0]) * 2 - 1\n",
    "        return X,y\n",
    "    \n",
    "    def __len__(self):\n",
    "        return len(self.data)\n",
    "\n",
    "    def plot(self,idx,savefig=False):\n",
    "        X, label  = self.data[idx]\n",
    "        if self.reverseXY:\n",
    "            X = label\n",
    "            \n",
    "        plt.figure(figsize=(20,10))\n",
    "        \n",
    "        plt.subplot(211)\n",
    "        fn = self.files[idx].replace('.npz','')\n",
    "        title = '{} channel 0'.format(fn)\n",
    "        plt.title(title)\n",
    "        plt.imshow(X[0][::-1])\n",
    "        plt.colorbar()\n",
    "        \n",
    "        plt.subplot(212)\n",
    "        title = '{} channel 1'.format(fn)\n",
    "        plt.title(title)\n",
    "        plt.imshow(X[1][::-1])\n",
    "        plt.colorbar()\n",
    "        \n",
    "        if savefig:\n",
    "            title = title.replace(' ','_') + '.png'\n",
    "            plt.savefig(title, dpi=300)\n",
    "            plt.close()\n",
    "        else:\n",
    "            plt.show()\n",
    "    \n",
    "    def __getitem__(self, idx):\n",
    "        q = idx // self.simLen\n",
    "        r_idx = np.random.randint(0,self.simLen-self.w)\n",
    "        x = self.data[q*simLen + r_idx : q*simLen + r_idx + 1]\n",
    "        y = self.data[q*simLen + r_idx + 1 : q*simLen + r_idx + 1 + self.w]\n",
    "        # to unpack this data into X (image) and p (cfg settings) arrays, use the following code\n",
    "        U_x, p_x = zip(*x)\n",
    "        U_y, p_y = zip(*y)\n",
    "        return np.array(U_x), np.array(U_y), np.array(p_x), np.array(p_y)"
   ]
  },
  {
   "cell_type": "code",
   "execution_count": 5,
   "metadata": {
    "ExecuteTime": {
     "end_time": "2020-10-30T15:36:48.438809Z",
     "start_time": "2020-10-30T15:36:11.649511Z"
    }
   },
   "outputs": [
    {
     "name": "stderr",
     "output_type": "stream",
     "text": [
      "100%|██████████| 2000/2000 [00:03<00:00, 529.43it/s]\n",
      "100%|██████████| 19000/19000 [00:32<00:00, 575.82it/s]\n"
     ]
    },
    {
     "data": {
      "text/plain": [
       "(19000, 2000)"
      ]
     },
     "execution_count": 5,
     "metadata": {},
     "output_type": "execute_result"
    }
   ],
   "source": [
    "# datasets may be smaller because: numSamplesToKeep \n",
    "testDataset = MantaFlowDataset(testData, reverseXY=reverseXY, numToKeep=numSamplesToKeep, AE=False,\n",
    "                               w=window_size, simLen=simLen)\n",
    "trainDataset = MantaFlowDataset(trainData, reverseXY=reverseXY,numToKeep=numSamplesToKeep, AE=False,\n",
    "                                w=window_size, simLen=simLen)\n",
    "len(trainDataset), len(testDataset)\n"
   ]
  },
  {
   "cell_type": "code",
   "execution_count": 6,
   "metadata": {
    "ExecuteTime": {
     "end_time": "2020-10-30T15:36:52.594399Z",
     "start_time": "2020-10-30T15:36:50.044095Z"
    }
   },
   "outputs": [
    {
     "name": "stdout",
     "output_type": "stream",
     "text": [
      "torch.Size([20, 1, 2, 128, 96]) torch.Size([20, 1, 3])\n"
     ]
    },
    {
     "data": {
      "text/plain": [
       "(torch.Size([20, 2, 128, 96]),\n",
       " torch.Size([20, 10, 2, 128, 96]),\n",
       " torch.Size([20, 3]),\n",
       " torch.Size([20, 10, 3]))"
      ]
     },
     "execution_count": 6,
     "metadata": {},
     "output_type": "execute_result"
    }
   ],
   "source": [
    "trainDataLoader = DataLoader(dataset=trainDataset, batch_size=bz, shuffle=True, drop_last=True, pin_memory = True)\n",
    "testDataLoader = DataLoader(dataset=testDataset, batch_size=bz, pin_memory=True)\n",
    "# only use the first frame of each simulation as the input (U_x) for the full simulation test dataloader, \n",
    "# the next 199 frames are stored in the targets (U_y).\n",
    "# added this on 10/27/2020\n",
    "testDataset_w_simLen = MantaFlowDataset(testData, reverseXY=reverseXY, numToKeep=numSamplesToKeep, AE=False,\n",
    "                               w=simLen-1, simLen=simLen)\n",
    "first_frame_testDataset = torch.utils.data.Subset(testDataset_w_simLen, range(0, len(testDataset), simLen))\n",
    "simulation_testDataLoader = DataLoader(dataset= first_frame_testDataset, batch_size=2)\n",
    "\n",
    "U_x, U_y, p_x, p_y = next(iter(trainDataLoader))\n",
    "print(U_x.shape, p_x.shape)\n",
    "U_x = U_x.squeeze(1) # squeeze away the window dimension for inputs, not targets (e.g., not U_y)\n",
    "p_x = p_x.squeeze(1) # squeeze away the window dimension for inputs, not targets (e.g., not U_y)\n",
    "U_x.shape, U_y.shape, p_x.shape, p_y.shape"
   ]
  },
  {
   "cell_type": "code",
   "execution_count": 7,
   "metadata": {
    "ExecuteTime": {
     "end_time": "2020-10-30T15:36:52.607224Z",
     "start_time": "2020-10-30T15:36:52.596762Z"
    }
   },
   "outputs": [
    {
     "data": {
      "text/plain": [
       "tensor([[ 65.0000,  66.0000,  67.0000,  68.0000,  69.0000,  70.0000,  71.0000,\n",
       "          72.0000,  73.0000,  74.0000],\n",
       "        [151.0000, 152.0000, 153.0000, 154.0000, 155.0000, 156.0000, 157.0000,\n",
       "         158.0000, 159.0000, 160.0000],\n",
       "        [185.0000, 186.0000, 187.0000, 188.0000, 189.0000, 190.0000, 191.0000,\n",
       "         192.0000, 193.0000, 194.0000],\n",
       "        [137.0000, 138.0000, 139.0000, 140.0000, 141.0000, 142.0000, 143.0000,\n",
       "         144.0000, 145.0000, 146.0000],\n",
       "        [173.0000, 174.0000, 175.0000, 176.0000, 177.0000, 178.0000, 179.0000,\n",
       "         180.0000, 181.0000, 182.0000],\n",
       "        [153.0000, 154.0000, 155.0000, 156.0000, 157.0000, 158.0000, 159.0000,\n",
       "         160.0000, 161.0000, 162.0000],\n",
       "        [ 16.0000,  17.0000,  18.0000,  19.0000,  20.0000,  21.0000,  22.0000,\n",
       "          23.0000,  24.0000,  25.0000],\n",
       "        [ 73.0000,  74.0000,  75.0000,  76.0000,  77.0000,  78.0000,  79.0000,\n",
       "          80.0000,  81.0000,  82.0000],\n",
       "        [131.0000, 132.0000, 133.0000, 134.0000, 135.0000, 136.0000, 137.0000,\n",
       "         138.0000, 139.0000, 140.0000],\n",
       "        [145.0000, 146.0000, 147.0000, 148.0000, 149.0000, 150.0000, 151.0000,\n",
       "         152.0000, 153.0000, 154.0000]])"
      ]
     },
     "execution_count": 7,
     "metadata": {},
     "output_type": "execute_result"
    }
   ],
   "source": [
    "# confirm that timestep number in p_y is contiguous within a window\n",
    "((p_y[:,:,2]+1)/2 * 199)[:10]"
   ]
  },
  {
   "cell_type": "code",
   "execution_count": 8,
   "metadata": {
    "ExecuteTime": {
     "end_time": "2020-10-30T15:36:52.767948Z",
     "start_time": "2020-10-30T15:36:52.609185Z"
    }
   },
   "outputs": [
    {
     "name": "stdout",
     "output_type": "stream",
     "text": [
      "5 10\n",
      "tensor([  1.0000,   2.0000,   3.0000,   4.0000,   5.0000,   6.0000,   7.0000,\n",
      "          8.0000,   9.0000,  10.0000,  11.0000,  12.0000,  13.0000,  14.0000,\n",
      "         15.0000,  16.0000,  17.0000,  18.0000,  19.0000,  20.0000,  21.0000,\n",
      "         22.0000,  23.0000,  24.0000,  25.0000,  26.0000,  27.0000,  28.0000,\n",
      "         29.0000,  30.0000,  31.0000,  32.0000,  33.0000,  34.0000,  35.0000,\n",
      "         36.0000,  37.0000,  38.0000,  39.0000,  40.0000,  41.0000,  42.0000,\n",
      "         43.0000,  44.0000,  45.0000,  46.0000,  47.0000,  48.0000,  49.0000,\n",
      "         50.0000,  51.0000,  52.0000,  53.0000,  54.0000,  55.0000,  56.0000,\n",
      "         57.0000,  58.0000,  59.0000,  60.0000,  61.0000,  62.0000,  63.0000,\n",
      "         64.0000,  65.0000,  66.0000,  67.0000,  68.0000,  69.0000,  70.0000,\n",
      "         71.0000,  72.0000,  73.0000,  74.0000,  75.0000,  76.0000,  77.0000,\n",
      "         78.0000,  79.0000,  80.0000,  81.0000,  82.0000,  83.0000,  84.0000,\n",
      "         85.0000,  86.0000,  87.0000,  88.0000,  89.0000,  90.0000,  91.0000,\n",
      "         92.0000,  93.0000,  94.0000,  95.0000,  96.0000,  97.0000,  98.0000,\n",
      "         99.0000, 100.0000, 101.0000, 102.0000, 103.0000, 104.0000, 105.0000,\n",
      "        106.0000, 107.0000, 108.0000, 109.0000, 110.0000, 111.0000, 112.0000,\n",
      "        113.0000, 114.0000, 115.0000, 116.0000, 117.0000, 118.0000, 119.0000,\n",
      "        120.0000, 121.0000, 122.0000, 123.0000, 124.0000, 125.0000, 126.0000,\n",
      "        127.0000, 128.0000, 129.0000, 130.0000, 131.0000, 132.0000, 133.0000,\n",
      "        134.0000, 135.0000, 136.0000, 137.0000, 138.0000, 139.0000, 140.0000,\n",
      "        141.0000, 142.0000, 143.0000, 144.0000, 145.0000, 146.0000, 147.0000,\n",
      "        148.0000, 149.0000, 150.0000, 151.0000, 152.0000, 153.0000, 154.0000,\n",
      "        155.0000, 156.0000, 157.0000, 158.0000, 159.0000, 160.0000, 161.0000,\n",
      "        162.0000, 163.0000, 164.0000, 165.0000, 166.0000, 167.0000, 168.0000,\n",
      "        169.0000, 170.0000, 171.0000, 172.0000, 173.0000, 174.0000, 175.0000,\n",
      "        176.0000, 177.0000, 178.0000, 179.0000, 180.0000, 181.0000, 182.0000,\n",
      "        183.0000, 184.0000, 185.0000, 186.0000, 187.0000, 188.0000, 189.0000,\n",
      "        190.0000, 191.0000, 192.0000, 193.0000, 194.0000, 195.0000, 196.0000,\n",
      "        197.0000, 198.0000, 199.0000])\n"
     ]
    },
    {
     "data": {
      "text/plain": [
       "(torch.Size([2, 1, 2, 128, 96]),\n",
       " torch.Size([2, 199, 2, 128, 96]),\n",
       " torch.Size([2, 1, 3]),\n",
       " torch.Size([2, 199, 3]))"
      ]
     },
     "execution_count": 8,
     "metadata": {},
     "output_type": "execute_result"
    }
   ],
   "source": [
    "# we are now subsetting this data to only include the first frame in each sim, p_y and U_y include next 199 frames\n",
    "print(len(simulation_testDataLoader), len(simulation_testDataLoader.dataset))\n",
    "for batch in simulation_testDataLoader:\n",
    "    test_U_x, test_U_y, test_p_x, test_p_y = batch\n",
    "    assert (test_p_x[0,:,2]+1)/2 * 199 == 0\n",
    "    assert (test_p_x[1,:,2]+1)/2 * 199 == 0\n",
    "\n",
    "print(((test_p_y[0,:,2]+1)/2 * 199))\n",
    "test_U_x.shape, test_U_y.shape, test_p_x.shape, test_p_y.shape"
   ]
  },
  {
   "cell_type": "code",
   "execution_count": 9,
   "metadata": {
    "ExecuteTime": {
     "end_time": "2020-10-30T15:36:57.247394Z",
     "start_time": "2020-10-30T15:36:52.770103Z"
    }
   },
   "outputs": [
    {
     "name": "stderr",
     "output_type": "stream",
     "text": [
      "/home/bartoldson1/anaconda3/lib/python3.8/site-packages/torch/nn/functional.py:3000: UserWarning: The default behavior for interpolate/upsample with float scale_factor changed in 1.6.0 to align with other frameworks/libraries, and uses scale_factor directly, instead of relying on the computed output size. If you wish to keep the old behavior, please set recompute_scale_factor=True. See the documentation of nn.Upsample for details. \n",
      "  warnings.warn(\"The default behavior for interpolate/upsample with float scale_factor changed \"\n"
     ]
    },
    {
     "name": "stdout",
     "output_type": "stream",
     "text": [
      "[128, 8, 6]\n"
     ]
    },
    {
     "data": {
      "text/plain": [
       "(torch.Size([20, 2, 128, 96]), torch.Size([20, 16]))"
      ]
     },
     "execution_count": 9,
     "metadata": {},
     "output_type": "execute_result"
    }
   ],
   "source": [
    "# Encoder \n",
    "\n",
    "AE_model = AE_xhat_zV2(U_x, filters, latentDim, num_conv, repeat, \n",
    "                 skip_connection, stack, conv_k=3, last_k=3, \n",
    "                 act=nn.LeakyReLU(), return_z=True, stream=createStreamFcn, device='cpu')\n",
    "\n",
    "'''\n",
    "if len(gpu_ids.split(',')) > 1:\n",
    "    AE_model = nn.DataParallel(AE_model)\n",
    "    \n",
    "'''\n",
    "Xhat,z = AE_model(U_x)\n",
    "Xhat.shape, z.shape"
   ]
  },
  {
   "cell_type": "code",
   "execution_count": 10,
   "metadata": {
    "ExecuteTime": {
     "end_time": "2020-10-30T15:36:57.251447Z",
     "start_time": "2020-10-30T15:36:57.248724Z"
    }
   },
   "outputs": [
    {
     "data": {
      "text/plain": [
       "'end_to_end_plateau_train_GPUs13_latentDim16_window_size10_filters128_bz20_numConv4_streamFalse_jacobianTrue_epochs1000_stackTrue'"
      ]
     },
     "execution_count": 10,
     "metadata": {},
     "output_type": "execute_result"
    }
   ],
   "source": [
    "versionName"
   ]
  },
  {
   "cell_type": "code",
   "execution_count": 11,
   "metadata": {
    "ExecuteTime": {
     "end_time": "2020-10-30T15:36:57.361497Z",
     "start_time": "2020-10-30T15:36:57.252621Z"
    }
   },
   "outputs": [
    {
     "data": {
      "text/plain": [
       "<All keys matched successfully>"
      ]
     },
     "execution_count": 11,
     "metadata": {},
     "output_type": "execute_result"
    }
   ],
   "source": [
    "AE_model.load_state_dict(torch.load(os.path.join('/home/widemann1/surrogates4sims/cps',\n",
    "'plateau_train_GPUs2_latentDim16_filters128_bz16_numConv4_streamFalse_jacobianFalse_epochs1000_stackTrue_lr0.0001')))\n",
    "# for 512 dim ? :\n",
    "#plateau_train_GPUs0_latentDim512_filters128_bz16_numConv4_streamFalse_jacobianFalse_epochs10000_stackTrue_lr0.0001"
   ]
  },
  {
   "cell_type": "code",
   "execution_count": 12,
   "metadata": {
    "ExecuteTime": {
     "end_time": "2020-10-30T15:36:57.379932Z",
     "start_time": "2020-10-30T15:36:57.363377Z"
    }
   },
   "outputs": [
    {
     "data": {
      "text/plain": [
       "\"\\nif len(gpu_ids.split(',')) > 1:\\n    LIN_model = nn.DataParallel(LIN_model)\\n\""
      ]
     },
     "execution_count": 12,
     "metadata": {},
     "output_type": "execute_result"
    }
   ],
   "source": [
    "# LIN Model\n",
    "class MLP(nn.Module):\n",
    "    def __init__(self, X, hiddenLayerSizes = [1024], activation=nn.ELU()):\n",
    "        super(MLP,self).__init__()\n",
    "        \n",
    "        self.activation = activation\n",
    "        self.inputSize = X.shape[1:]\n",
    "        self.modules = []\n",
    "        self.modules.append(nn.Linear(np.prod(self.inputSize),hiddenLayerSizes[0], bias=False))\n",
    "        self.modules.append(nn.BatchNorm1d(hiddenLayerSizes[0]))\n",
    "        self.modules.append(self.activation)\n",
    "        self.modules.append(nn.Dropout(p=0.1))\n",
    "        for idx,sz in enumerate(hiddenLayerSizes[:-1]):\n",
    "            self.modules.append(nn.Linear(hiddenLayerSizes[idx],hiddenLayerSizes[idx+1], bias=False))\n",
    "            self.modules.append(nn.BatchNorm1d(hiddenLayerSizes[0]))\n",
    "            self.modules.append(self.activation)\n",
    "            self.modules.append(nn.Dropout(p=0.1))\n",
    "                               \n",
    "        self.modules.append(nn.Linear(hiddenLayerSizes[-1],np.prod(self.inputSize)))\n",
    "        self.layers = nn.Sequential(*self.modules)\n",
    "                                \n",
    "        \n",
    "    def forward(self,x):\n",
    "        x = self.layers(x)\n",
    "        return x\n",
    "    \n",
    "hiddenLayers = [128,128]\n",
    "LIN_model = MLP(z, hiddenLayerSizes=hiddenLayers, activation=nn.ELU())\n",
    "'''\n",
    "if len(gpu_ids.split(',')) > 1:\n",
    "    LIN_model = nn.DataParallel(LIN_model)\n",
    "'''"
   ]
  },
  {
   "cell_type": "code",
   "execution_count": 13,
   "metadata": {
    "ExecuteTime": {
     "end_time": "2020-10-30T15:36:57.393787Z",
     "start_time": "2020-10-30T15:36:57.382033Z"
    }
   },
   "outputs": [],
   "source": [
    "# surrogate class\n",
    "\n",
    "class Surrogate(nn.Module):\n",
    "    \n",
    "    def __init__(self, window,\n",
    "                 z_size, p_size,\n",
    "                LIN, encoder, decoder):\n",
    "        super(Surrogate, self).__init__()\n",
    "        self.window = window\n",
    "        self.z_size = z_size # this does not include the size of p\n",
    "        self.p_size = p_size\n",
    "        self.c_size = z_size + p_size # this does include the size of p\n",
    "        self.LIN = LIN\n",
    "        self.encoder = encoder\n",
    "        self.decoder = decoder\n",
    "        \n",
    "    def encode(self, U):\n",
    "        \n",
    "        return self.encoder(U)\n",
    "        \n",
    "    def decode(self, encoding):\n",
    "        \n",
    "        return self.decoder(encoding)\n",
    "        \n",
    "    def predict_next_w_encodings(self, encoding, p_y, window):\n",
    "        '''\n",
    "        use the LIN to predict the next w encodings for each \n",
    "        encoded U in the batch\n",
    "        '''\n",
    "            \n",
    "        predicted_encodings = []\n",
    "            \n",
    "        # given a batch of encodings, advance each encoding window time steps.\n",
    "        # save the result at each time step\n",
    "        for i in range(window):\n",
    "            encoding = self.LIN(encoding) + encoding # use LIN to predict delta in encoding\n",
    "            # this was encoding[:,:,-self.p_size:] in 09_manta..., why the extra dimension?\n",
    "            encoding[:,-self.p_size:] = p_y[:, i]\n",
    "            predicted_encodings.append(encoding)\n",
    "            \n",
    "            \n",
    "        return torch.stack(predicted_encodings)\n",
    "    \n",
    "    def forward(self, U, p_x, p_y, window = None):\n",
    "        \n",
    "        if window == None:\n",
    "            window = self.window\n",
    "        assert p_y.size(1) == window\n",
    "            \n",
    "        encoding = self.encode(U)\n",
    "        encoding[:,-self.p_size:] = p_x # added this on 10/27/2020\n",
    "        encoding_w = self.predict_next_w_encodings(encoding, p_y, window)\n",
    "        # want to have this agree with U_y, which is [batch_size, window_size, channels, nx, ny]\n",
    "        # right now, it's [window_size, batch_size, c_size], so transpose dimensions 0 and 1\n",
    "        # print(encoding_w.shape)\n",
    "        U = torch.stack([self.decode(encoding_i) for encoding_i in encoding_w])\n",
    "        \n",
    "        return U.transpose(0,1)\n",
    "    \n",
    "    \n",
    "surrogate = Surrogate(window_size, latentDim - 3, 3, LIN_model, AE_model.encoder, AE_model.generator)"
   ]
  },
  {
   "cell_type": "code",
   "execution_count": 14,
   "metadata": {
    "ExecuteTime": {
     "end_time": "2020-10-30T15:37:02.005139Z",
     "start_time": "2020-10-30T15:37:01.996251Z"
    }
   },
   "outputs": [
    {
     "data": {
      "text/plain": [
       "(tensor([[1, 1],\n",
       "         [2, 2],\n",
       "         [3, 3]]),\n",
       " tensor([[1, 1, 2],\n",
       "         [2, 3, 3]]),\n",
       " tensor([[1, 2, 3],\n",
       "         [1, 2, 3]]))"
      ]
     },
     "execution_count": 14,
     "metadata": {},
     "output_type": "execute_result"
    }
   ],
   "source": [
    "# note the important difference here\n",
    "foo = torch.tensor([[1,1],[2,2],[3,3]])\n",
    "foo, foo.reshape(2,3), foo.transpose(0,1)"
   ]
  },
  {
   "cell_type": "code",
   "execution_count": 15,
   "metadata": {
    "ExecuteTime": {
     "end_time": "2020-10-30T15:37:05.162418Z",
     "start_time": "2020-10-30T15:37:02.166123Z"
    },
    "run_control": {
     "marked": true
    }
   },
   "outputs": [],
   "source": [
    "encoding = surrogate.encode(U_x)\n",
    "decoding = surrogate.decode(encoding)\n",
    "assert surrogate.c_size == latentDim\n",
    "assert surrogate.p_size == len(p_x[0])\n",
    "assert encoding.shape[-1] == surrogate.c_size\n",
    "assert decoding.shape == U_x.shape"
   ]
  },
  {
   "cell_type": "code",
   "execution_count": 16,
   "metadata": {
    "ExecuteTime": {
     "end_time": "2020-10-30T15:37:21.543966Z",
     "start_time": "2020-10-30T15:37:05.164400Z"
    }
   },
   "outputs": [
    {
     "data": {
      "text/plain": [
       "(torch.Size([20, 10, 2, 128, 96]),\n",
       " torch.Size([20, 10, 2, 128, 96]),\n",
       " tensor(972.3260, grad_fn=<DivBackward0>))"
      ]
     },
     "execution_count": 16,
     "metadata": {},
     "output_type": "execute_result"
    }
   ],
   "source": [
    "U_hat = surrogate.forward(U_x, p_x, p_y)\n",
    "U_hat.shape, U_y.shape, torch.norm(U_hat-U_y,p=1)/torch.norm(U_y)"
   ]
  },
  {
   "cell_type": "code",
   "execution_count": 17,
   "metadata": {
    "ExecuteTime": {
     "end_time": "2020-10-30T15:37:21.594437Z",
     "start_time": "2020-10-30T15:37:21.547082Z"
    }
   },
   "outputs": [],
   "source": [
    "del surrogate, encoding, decoding, U_hat\n",
    "\n",
    "surrogate = Surrogate(window_size, latentDim - 3, 3, LIN_model, AE_model.encoder, AE_model.generator).to(device)\n",
    "\n",
    "if len(gpu_ids.split(',')) > 1:\n",
    "    surrogate = nn.DataParallel(surrogate)"
   ]
  },
  {
   "cell_type": "code",
   "execution_count": 18,
   "metadata": {
    "ExecuteTime": {
     "end_time": "2020-10-29T19:36:48.662275Z",
     "start_time": "2020-10-29T19:36:48.655297Z"
    }
   },
   "outputs": [
    {
     "data": {
      "text/plain": [
       "tensor([[[-0.0615,  0.2370,  0.0193],\n",
       "         [-0.1209, -0.1067,  0.1109],\n",
       "         [-0.0105,  0.0456, -0.2153]],\n",
       "\n",
       "        [[-0.0179,  0.2263, -0.1354],\n",
       "         [ 0.0473, -0.0644, -0.1862],\n",
       "         [-0.0807,  0.0856,  0.0642]]], device='cuda:0',\n",
       "       grad_fn=<SelectBackward>)"
      ]
     },
     "execution_count": 18,
     "metadata": {},
     "output_type": "execute_result"
    }
   ],
   "source": [
    "surrogate.module.encoder.conv1.weight[-1]"
   ]
  },
  {
   "cell_type": "code",
   "execution_count": 19,
   "metadata": {
    "ExecuteTime": {
     "end_time": "2020-10-29T19:36:48.666845Z",
     "start_time": "2020-10-29T19:36:48.663483Z"
    }
   },
   "outputs": [],
   "source": [
    "max_lr = .0001\n",
    "start_lr = 5*max_lr/10\n",
    "#opt = create_opt(max_lr,model)\n",
    "#lr_scheduler = create_one_cycle(opt,max_lr,epochs,trainDataLoader)\n",
    "opt = torch.optim.Adam(surrogate.parameters(),lr=max_lr,betas=(.5,.999))\n",
    "lr_scheduler = torch.optim.lr_scheduler.ReduceLROnPlateau(opt, patience=patience)"
   ]
  },
  {
   "cell_type": "code",
   "execution_count": 20,
   "metadata": {
    "ExecuteTime": {
     "end_time": "2020-10-29T19:36:48.674062Z",
     "start_time": "2020-10-29T19:36:48.668029Z"
    }
   },
   "outputs": [],
   "source": [
    "def L1_loss(pred, target):\n",
    "    return torch.mean(torch.abs(pred - target))\n",
    "\n",
    "\n",
    "def jacobian_loss(pred, target, device='cpu'):\n",
    "    return L1_loss(\n",
    "        torch.stack([jacobian(pred_window_i, device) for pred_window_i in pred.transpose(0,1)]), \n",
    "        torch.stack([jacobian(target_window_i, device) for target_window_i in target.transpose(0,1)])\n",
    "        )\n",
    "\n",
    "\n",
    "def curl_loss(pred, target, device):\n",
    "    return L1_loss(curl(pred, device), curl(target, device))\n",
    "\n",
    "\n",
    "L = nn.MSELoss()\n",
    "\n",
    "\n",
    "def p_loss(pred, target):\n",
    "    return L(pred[:, -target.shape[1]:], target)\n",
    "\n",
    "\n",
    "def loss(pred, target, device):\n",
    "    \n",
    "    if createStreamFcn:\n",
    "        pred = stream2uv(pred, device)\n",
    "        \n",
    "    L1 = L1_loss(pred, target)\n",
    "    Lj = 0\n",
    "    if doJacobian:\n",
    "        Lj = jacobian_loss(pred, target, device)\n",
    "        \n",
    "    return L1 + Lj"
   ]
  },
  {
   "cell_type": "code",
   "execution_count": 21,
   "metadata": {
    "ExecuteTime": {
     "end_time": "2020-10-29T19:36:48.682137Z",
     "start_time": "2020-10-29T19:36:48.675198Z"
    }
   },
   "outputs": [],
   "source": [
    "def trainEpoch(myDataLoader, tensorboard_writer, model, opt, p_loss, loss,\n",
    "               metric, lr_scheduler, tensorboard_rate, device,\n",
    "               tensorboard_recorder_step, total_steps):\n",
    "    running_loss = 0.0\n",
    "    running_rmse = 0.0\n",
    "    total_loss = 0.0\n",
    "    running_ploss = 0.0\n",
    "    for i, sampleBatch in enumerate(myDataLoader, start=1):\n",
    "\n",
    "        # --- Main Training ---\n",
    "        \n",
    "        # gpu\n",
    "        U_x, U_y, p_x, p_y = sampleBatch\n",
    "        U_x = U_x.squeeze(1).to(device)\n",
    "        p_x = p_x.squeeze(1).to(device)\n",
    "        U_y = U_y.to(device)\n",
    "        p_y = p_y.to(device)\n",
    "            \n",
    "\n",
    "        # zero the parameter gradients\n",
    "        opt.zero_grad()\n",
    "\n",
    "        U_hat = model(U_x, p_x, p_y)\n",
    "        pl = 0\n",
    "        ll = loss(U_hat, U_y, device)\n",
    "        combined_loss = pl + ll\n",
    "        combined_loss.backward()\n",
    "        opt.step()\n",
    "        \n",
    "        # loss\n",
    "        batch_loss = combined_loss.item()\n",
    "        running_loss += batch_loss\n",
    "        total_loss += batch_loss\n",
    "        \n",
    "        batch_ploss = pl\n",
    "        running_ploss += batch_ploss\n",
    "\n",
    "        # --- Metrics Recording ---\n",
    "\n",
    "        # metrics\n",
    "        r = metric(U_hat, U_y)\n",
    "        running_rmse += r\n",
    "\n",
    "        total_steps += 1\n",
    "\n",
    "        # tensorboard writes\n",
    "        if (i % tensorboard_rate == 0):\n",
    "            tensorboard_recorder_step += 1\n",
    "            avg_running_loss = running_loss/tensorboard_rate\n",
    "            avg_running_rmse = running_rmse/tensorboard_rate\n",
    "            avg_running_ploss = running_ploss/tensorboard_rate\n",
    "            tensorboard_writer.add_scalar(tag=\"Loss\", scalar_value=avg_running_loss, global_step=tensorboard_recorder_step)\n",
    "            tensorboard_writer.add_scalar(tag=\"p_loss\", scalar_value=avg_running_ploss, global_step=tensorboard_recorder_step)\n",
    "            tensorboard_writer.add_scalar(tag=metric.__name__, scalar_value=avg_running_rmse, global_step=tensorboard_recorder_step)\n",
    "            # reset running_loss for the next set of batches. (tensorboard_rate number of batches)\n",
    "            running_loss = 0.0\n",
    "            running_rmse = 0.0\n",
    "            running_ploss = 0.0\n",
    "            tensorboard_writer.flush()\n",
    "\n",
    "    return total_loss/len(myDataLoader), tensorboard_recorder_step, total_steps"
   ]
  },
  {
   "cell_type": "code",
   "execution_count": 22,
   "metadata": {
    "ExecuteTime": {
     "end_time": "2020-10-29T19:36:48.690146Z",
     "start_time": "2020-10-29T19:36:48.683243Z"
    }
   },
   "outputs": [],
   "source": [
    "def relative_error_info(model, data, tensorboard_writer, tensorboard_recorder_step, quiet=False):\n",
    "    U_hats = []\n",
    "    Us = []\n",
    "    for i, sampleBatch in enumerate(data, start=1):\n",
    "        U_x, U_y, p_x, p_y = sampleBatch\n",
    "        U_x = U_x.squeeze(1).to(device)\n",
    "        p_x = p_x.squeeze(1).to(device)\n",
    "        U_y = U_y.to(device)\n",
    "        p_y = p_y.to(device)\n",
    "        with torch.no_grad():\n",
    "            Us.append(U_y.detach().cpu())\n",
    "            U_hat = model(U_x, p_x, p_y, window=simLen-1)\n",
    "            U_hats.append(U_hat.detach().cpu())\n",
    "            \n",
    "    Real_U = torch.stack(Us)\n",
    "    Surr_U = torch.stack(U_hats)\n",
    "    rel_error = torch.norm(Real_U - Surr_U)/torch.norm(Real_U)\n",
    "    writeMessage(\"Relative_Error: {:.4e}\".format(rel_error),versionName)\n",
    "    if not quiet:\n",
    "        tensorboard_writer.add_scalar(tag=\"Relative_Error\", scalar_value=rel_error,\n",
    "                                  global_step=tensorboard_recorder_step)\n",
    "\n",
    "    \n",
    "    sample_sim = U_hat[0].cpu()\n",
    "    sample_GT = U_y[0].cpu()\n",
    "    fig = plt.figure()\n",
    "    frame_error = torch.norm((sample_GT - sample_sim).view(simLen-1,-1), \n",
    "                                 dim=1)/torch.norm(sample_GT.view(simLen-1,-1), dim=1)\n",
    "    plt.plot(range(1,200),frame_error)\n",
    "    plt.title(\"Relative Error over Time for One Test Simulation\")\n",
    "    if not quiet:\n",
    "        tensorboard_writer.add_figure('test_rel_error_by_frame', fig, global_step=tensorboard_recorder_step,\n",
    "                                  close=True, walltime=None)\n",
    "    \n",
    "    return sample_sim, sample_GT, rel_error"
   ]
  },
  {
   "cell_type": "code",
   "execution_count": 23,
   "metadata": {
    "ExecuteTime": {
     "end_time": "2020-10-29T19:36:48.700996Z",
     "start_time": "2020-10-29T19:36:48.692276Z"
    }
   },
   "outputs": [],
   "source": [
    "def validEpoch(myDataLoader, tensorboard_writer, model, p_loss, loss, metric,\n",
    "               device, tensorboard_recorder_step, lr_scheduler):\n",
    "    running_loss = 0.0\n",
    "    running_rmse = 0.0\n",
    "    for i, sampleBatch in enumerate(myDataLoader, start=1):\n",
    "\n",
    "        # --- Metrics Recording ---\n",
    "\n",
    "        # gpu\n",
    "        U_x, U_y, p_x, p_y = sampleBatch\n",
    "        U_x = U_x.squeeze(1).to(device) # only squeeze away the window dimension (because batch size = 1)\n",
    "        p_x = p_x.squeeze(1).to(device) # only squeeze away the window dimension (because batch size = 1)\n",
    "        U_y = U_y.to(device)\n",
    "        p_y = p_y.to(device)\n",
    "        \n",
    "        perc = len(U_x)/len(myDataLoader.dataset)\n",
    "\n",
    "        # forward, no gradient calculations\n",
    "        with torch.no_grad():\n",
    "            U_hat = model(U_x, p_x, p_y, window = simLen-1)\n",
    "\n",
    "        # loss\n",
    "        combined_loss = loss(U_hat, U_y, device)\n",
    "        \n",
    "        running_loss += perc*(combined_loss.item())\n",
    "\n",
    "        # metrics\n",
    "        r = metric(U_hat, U_y)\n",
    "        running_rmse += perc*r\n",
    "\n",
    "    avg_running_loss = running_loss\n",
    "    avg_running_rmse = running_rmse\n",
    "    tensorboard_writer.add_scalar(tag=\"Loss\", scalar_value=avg_running_loss, global_step=tensorboard_recorder_step)\n",
    "    tensorboard_writer.add_scalar(tag=metric.__name__, scalar_value=avg_running_rmse, global_step=tensorboard_recorder_step)\n",
    "    \n",
    "    _, _, rel_error = relative_error_info(model, simulation_testDataLoader, \n",
    "                                          tensorboard_writer, tensorboard_recorder_step)\n",
    "    tensorboard_writer.flush()\n",
    "    lr_scheduler.step(rel_error)\n",
    "    \n",
    "    return running_loss"
   ]
  },
  {
   "cell_type": "code",
   "execution_count": 24,
   "metadata": {
    "ExecuteTime": {
     "end_time": "2020-10-29T19:36:51.362396Z",
     "start_time": "2020-10-29T19:36:48.702456Z"
    }
   },
   "outputs": [
    {
     "name": "stdout",
     "output_type": "stream",
     "text": [
      "checkpoints directory already exists :)\n"
     ]
    }
   ],
   "source": [
    "try:\n",
    "    os.mkdir(cps)\n",
    "except:\n",
    "    print(\"checkpoints directory already exists :)\")\n",
    "    \n",
    "# create a summary writer.\n",
    "train_writer = SummaryWriter(os.path.join(tensorboard_direc, versionName,'train'))\n",
    "test_writer = SummaryWriter(os.path.join(tensorboard_direc, versionName,'valid'))\n",
    "tensorboard_recorder_step = 0\n",
    "total_steps = 0"
   ]
  },
  {
   "cell_type": "code",
   "execution_count": 25,
   "metadata": {
    "ExecuteTime": {
     "end_time": "2020-10-30T00:42:04.397380Z",
     "start_time": "2020-10-29T19:36:51.365391Z"
    }
   },
   "outputs": [
    {
     "name": "stderr",
     "output_type": "stream",
     "text": [
      "\r",
      "  0%|          | 0/1000 [00:00<?, ?it/s]"
     ]
    },
    {
     "name": "stdout",
     "output_type": "stream",
     "text": [
      "---------- Started Training ----------\n",
      "--- Epoch 1/1000 ---\n"
     ]
    },
    {
     "name": "stderr",
     "output_type": "stream",
     "text": [
      "/home/bartoldson1/anaconda3/lib/python3.8/site-packages/torch/nn/functional.py:3000: UserWarning: The default behavior for interpolate/upsample with float scale_factor changed in 1.6.0 to align with other frameworks/libraries, and uses scale_factor directly, instead of relying on the computed output size. If you wish to keep the old behavior, please set recompute_scale_factor=True. See the documentation of nn.Upsample for details. \n",
      "  warnings.warn(\"The default behavior for interpolate/upsample with float scale_factor changed \"\n"
     ]
    },
    {
     "name": "stdout",
     "output_type": "stream",
     "text": [
      "trainLoss: 2.9175e-02\n",
      "LR: 1.0000e-04\n",
      "Relative_Error: 1.3890e+00\n",
      "valLoss: 1.1812e-01\n",
      "Better valLoss: 1.1812e-01, Saving models...\n"
     ]
    },
    {
     "name": "stderr",
     "output_type": "stream",
     "text": [
      "  0%|          | 1/1000 [19:08<318:40:53, 1148.40s/it]/home/bartoldson1/anaconda3/lib/python3.8/site-packages/torch/nn/functional.py:3000: UserWarning: The default behavior for interpolate/upsample with float scale_factor changed in 1.6.0 to align with other frameworks/libraries, and uses scale_factor directly, instead of relying on the computed output size. If you wish to keep the old behavior, please set recompute_scale_factor=True. See the documentation of nn.Upsample for details. \n",
      "  warnings.warn(\"The default behavior for interpolate/upsample with float scale_factor changed \"\n"
     ]
    },
    {
     "name": "stdout",
     "output_type": "stream",
     "text": [
      "--- Epoch 2/1000 ---\n",
      "trainLoss: 2.3977e-02\n",
      "LR: 1.0000e-04\n"
     ]
    },
    {
     "name": "stderr",
     "output_type": "stream",
     "text": [
      "\r",
      "  0%|          | 2/1000 [38:10<317:49:39, 1146.47s/it]"
     ]
    },
    {
     "name": "stdout",
     "output_type": "stream",
     "text": [
      "Relative_Error: 1.1494e+00\n",
      "valLoss: 1.0482e-01\n",
      "Better valLoss: 1.0482e-01, Saving models...\n",
      "--- Epoch 3/1000 ---\n"
     ]
    },
    {
     "name": "stderr",
     "output_type": "stream",
     "text": [
      "/home/bartoldson1/anaconda3/lib/python3.8/site-packages/torch/nn/functional.py:3000: UserWarning: The default behavior for interpolate/upsample with float scale_factor changed in 1.6.0 to align with other frameworks/libraries, and uses scale_factor directly, instead of relying on the computed output size. If you wish to keep the old behavior, please set recompute_scale_factor=True. See the documentation of nn.Upsample for details. \n",
      "  warnings.warn(\"The default behavior for interpolate/upsample with float scale_factor changed \"\n"
     ]
    },
    {
     "name": "stdout",
     "output_type": "stream",
     "text": [
      "trainLoss: 2.2357e-02\n",
      "LR: 1.0000e-04\n",
      "Relative_Error: 1.0906e+00\n",
      "valLoss: 9.4124e-02\n",
      "Better valLoss: 9.4124e-02, Saving models...\n"
     ]
    },
    {
     "name": "stderr",
     "output_type": "stream",
     "text": [
      "  0%|          | 3/1000 [57:14<317:20:09, 1145.85s/it]/home/bartoldson1/anaconda3/lib/python3.8/site-packages/torch/nn/functional.py:3000: UserWarning: The default behavior for interpolate/upsample with float scale_factor changed in 1.6.0 to align with other frameworks/libraries, and uses scale_factor directly, instead of relying on the computed output size. If you wish to keep the old behavior, please set recompute_scale_factor=True. See the documentation of nn.Upsample for details. \n",
      "  warnings.warn(\"The default behavior for interpolate/upsample with float scale_factor changed \"\n"
     ]
    },
    {
     "name": "stdout",
     "output_type": "stream",
     "text": [
      "--- Epoch 4/1000 ---\n",
      "trainLoss: 2.1017e-02\n",
      "LR: 1.0000e-04\n"
     ]
    },
    {
     "name": "stderr",
     "output_type": "stream",
     "text": [
      "\r",
      "  0%|          | 4/1000 [1:16:19<316:57:49, 1145.65s/it]"
     ]
    },
    {
     "name": "stdout",
     "output_type": "stream",
     "text": [
      "Relative_Error: 1.0851e+00\n",
      "valLoss: 1.0291e-01\n",
      "--- Epoch 5/1000 ---\n"
     ]
    },
    {
     "name": "stderr",
     "output_type": "stream",
     "text": [
      "/home/bartoldson1/anaconda3/lib/python3.8/site-packages/torch/nn/functional.py:3000: UserWarning: The default behavior for interpolate/upsample with float scale_factor changed in 1.6.0 to align with other frameworks/libraries, and uses scale_factor directly, instead of relying on the computed output size. If you wish to keep the old behavior, please set recompute_scale_factor=True. See the documentation of nn.Upsample for details. \n",
      "  warnings.warn(\"The default behavior for interpolate/upsample with float scale_factor changed \"\n"
     ]
    },
    {
     "name": "stdout",
     "output_type": "stream",
     "text": [
      "trainLoss: 2.0327e-02\n",
      "LR: 1.0000e-04\n"
     ]
    },
    {
     "name": "stderr",
     "output_type": "stream",
     "text": [
      "\r",
      "  0%|          | 5/1000 [1:35:22<316:23:23, 1144.73s/it]"
     ]
    },
    {
     "name": "stdout",
     "output_type": "stream",
     "text": [
      "Relative_Error: 1.1856e+00\n",
      "valLoss: 1.0885e-01\n",
      "--- Epoch 6/1000 ---\n"
     ]
    },
    {
     "name": "stderr",
     "output_type": "stream",
     "text": [
      "/home/bartoldson1/anaconda3/lib/python3.8/site-packages/torch/nn/functional.py:3000: UserWarning: The default behavior for interpolate/upsample with float scale_factor changed in 1.6.0 to align with other frameworks/libraries, and uses scale_factor directly, instead of relying on the computed output size. If you wish to keep the old behavior, please set recompute_scale_factor=True. See the documentation of nn.Upsample for details. \n",
      "  warnings.warn(\"The default behavior for interpolate/upsample with float scale_factor changed \"\n"
     ]
    },
    {
     "name": "stdout",
     "output_type": "stream",
     "text": [
      "trainLoss: 1.9384e-02\n",
      "LR: 1.0000e-04\n"
     ]
    },
    {
     "name": "stderr",
     "output_type": "stream",
     "text": [
      "\r",
      "  1%|          | 6/1000 [1:54:25<315:55:00, 1144.17s/it]"
     ]
    },
    {
     "name": "stdout",
     "output_type": "stream",
     "text": [
      "Relative_Error: 1.1680e+00\n",
      "valLoss: 1.1102e-01\n",
      "--- Epoch 7/1000 ---\n"
     ]
    },
    {
     "name": "stderr",
     "output_type": "stream",
     "text": [
      "/home/bartoldson1/anaconda3/lib/python3.8/site-packages/torch/nn/functional.py:3000: UserWarning: The default behavior for interpolate/upsample with float scale_factor changed in 1.6.0 to align with other frameworks/libraries, and uses scale_factor directly, instead of relying on the computed output size. If you wish to keep the old behavior, please set recompute_scale_factor=True. See the documentation of nn.Upsample for details. \n",
      "  warnings.warn(\"The default behavior for interpolate/upsample with float scale_factor changed \"\n"
     ]
    },
    {
     "name": "stdout",
     "output_type": "stream",
     "text": [
      "trainLoss: 1.8881e-02\n",
      "LR: 1.0000e-04\n"
     ]
    },
    {
     "name": "stderr",
     "output_type": "stream",
     "text": [
      "\r",
      "  1%|          | 7/1000 [2:13:30<315:43:04, 1144.60s/it]"
     ]
    },
    {
     "name": "stdout",
     "output_type": "stream",
     "text": [
      "Relative_Error: 1.2109e+00\n",
      "valLoss: 1.1364e-01\n",
      "--- Epoch 8/1000 ---\n"
     ]
    },
    {
     "name": "stderr",
     "output_type": "stream",
     "text": [
      "/home/bartoldson1/anaconda3/lib/python3.8/site-packages/torch/nn/functional.py:3000: UserWarning: The default behavior for interpolate/upsample with float scale_factor changed in 1.6.0 to align with other frameworks/libraries, and uses scale_factor directly, instead of relying on the computed output size. If you wish to keep the old behavior, please set recompute_scale_factor=True. See the documentation of nn.Upsample for details. \n",
      "  warnings.warn(\"The default behavior for interpolate/upsample with float scale_factor changed \"\n"
     ]
    },
    {
     "name": "stdout",
     "output_type": "stream",
     "text": [
      "trainLoss: 1.5201e-02\n",
      "LR: 1.0000e-05\n"
     ]
    },
    {
     "name": "stderr",
     "output_type": "stream",
     "text": [
      "\r",
      "  1%|          | 8/1000 [2:32:37<315:33:56, 1145.20s/it]"
     ]
    },
    {
     "name": "stdout",
     "output_type": "stream",
     "text": [
      "Relative_Error: 1.1895e+00\n",
      "valLoss: 1.1070e-01\n",
      "--- Epoch 9/1000 ---\n"
     ]
    },
    {
     "name": "stderr",
     "output_type": "stream",
     "text": [
      "/home/bartoldson1/anaconda3/lib/python3.8/site-packages/torch/nn/functional.py:3000: UserWarning: The default behavior for interpolate/upsample with float scale_factor changed in 1.6.0 to align with other frameworks/libraries, and uses scale_factor directly, instead of relying on the computed output size. If you wish to keep the old behavior, please set recompute_scale_factor=True. See the documentation of nn.Upsample for details. \n",
      "  warnings.warn(\"The default behavior for interpolate/upsample with float scale_factor changed \"\n"
     ]
    },
    {
     "name": "stdout",
     "output_type": "stream",
     "text": [
      "trainLoss: 1.4723e-02\n",
      "LR: 1.0000e-05\n"
     ]
    },
    {
     "name": "stderr",
     "output_type": "stream",
     "text": [
      "\r",
      "  1%|          | 9/1000 [2:51:43<315:16:39, 1145.31s/it]"
     ]
    },
    {
     "name": "stdout",
     "output_type": "stream",
     "text": [
      "Relative_Error: 1.1866e+00\n",
      "valLoss: 1.0826e-01\n",
      "--- Epoch 10/1000 ---\n"
     ]
    },
    {
     "name": "stderr",
     "output_type": "stream",
     "text": [
      "/home/bartoldson1/anaconda3/lib/python3.8/site-packages/torch/nn/functional.py:3000: UserWarning: The default behavior for interpolate/upsample with float scale_factor changed in 1.6.0 to align with other frameworks/libraries, and uses scale_factor directly, instead of relying on the computed output size. If you wish to keep the old behavior, please set recompute_scale_factor=True. See the documentation of nn.Upsample for details. \n",
      "  warnings.warn(\"The default behavior for interpolate/upsample with float scale_factor changed \"\n"
     ]
    },
    {
     "name": "stdout",
     "output_type": "stream",
     "text": [
      "trainLoss: 1.4521e-02\n",
      "LR: 1.0000e-05\n"
     ]
    },
    {
     "name": "stderr",
     "output_type": "stream",
     "text": [
      "\r",
      "  1%|          | 10/1000 [3:10:47<314:51:36, 1144.95s/it]"
     ]
    },
    {
     "name": "stdout",
     "output_type": "stream",
     "text": [
      "Relative_Error: 1.1697e+00\n",
      "valLoss: 1.0683e-01\n",
      "--- Epoch 11/1000 ---\n"
     ]
    },
    {
     "name": "stderr",
     "output_type": "stream",
     "text": [
      "/home/bartoldson1/anaconda3/lib/python3.8/site-packages/torch/nn/functional.py:3000: UserWarning: The default behavior for interpolate/upsample with float scale_factor changed in 1.6.0 to align with other frameworks/libraries, and uses scale_factor directly, instead of relying on the computed output size. If you wish to keep the old behavior, please set recompute_scale_factor=True. See the documentation of nn.Upsample for details. \n",
      "  warnings.warn(\"The default behavior for interpolate/upsample with float scale_factor changed \"\n"
     ]
    },
    {
     "name": "stdout",
     "output_type": "stream",
     "text": [
      "trainLoss: 1.3847e-02\n",
      "LR: 1.0000e-06\n"
     ]
    },
    {
     "name": "stderr",
     "output_type": "stream",
     "text": [
      "\r",
      "  1%|          | 11/1000 [3:29:50<314:25:22, 1144.51s/it]"
     ]
    },
    {
     "name": "stdout",
     "output_type": "stream",
     "text": [
      "Relative_Error: 1.1874e+00\n",
      "valLoss: 1.0805e-01\n",
      "--- Epoch 12/1000 ---\n"
     ]
    },
    {
     "name": "stderr",
     "output_type": "stream",
     "text": [
      "/home/bartoldson1/anaconda3/lib/python3.8/site-packages/torch/nn/functional.py:3000: UserWarning: The default behavior for interpolate/upsample with float scale_factor changed in 1.6.0 to align with other frameworks/libraries, and uses scale_factor directly, instead of relying on the computed output size. If you wish to keep the old behavior, please set recompute_scale_factor=True. See the documentation of nn.Upsample for details. \n",
      "  warnings.warn(\"The default behavior for interpolate/upsample with float scale_factor changed \"\n"
     ]
    },
    {
     "name": "stdout",
     "output_type": "stream",
     "text": [
      "trainLoss: 1.4037e-02\n",
      "LR: 1.0000e-06\n"
     ]
    },
    {
     "name": "stderr",
     "output_type": "stream",
     "text": [
      "\r",
      "  1%|          | 12/1000 [3:48:57<314:17:25, 1145.19s/it]"
     ]
    },
    {
     "name": "stdout",
     "output_type": "stream",
     "text": [
      "Relative_Error: 1.2275e+00\n",
      "valLoss: 1.1235e-01\n",
      "--- Epoch 13/1000 ---\n"
     ]
    },
    {
     "name": "stderr",
     "output_type": "stream",
     "text": [
      "/home/bartoldson1/anaconda3/lib/python3.8/site-packages/torch/nn/functional.py:3000: UserWarning: The default behavior for interpolate/upsample with float scale_factor changed in 1.6.0 to align with other frameworks/libraries, and uses scale_factor directly, instead of relying on the computed output size. If you wish to keep the old behavior, please set recompute_scale_factor=True. See the documentation of nn.Upsample for details. \n",
      "  warnings.warn(\"The default behavior for interpolate/upsample with float scale_factor changed \"\n"
     ]
    },
    {
     "name": "stdout",
     "output_type": "stream",
     "text": [
      "trainLoss: 1.3936e-02\n",
      "LR: 1.0000e-06\n"
     ]
    },
    {
     "name": "stderr",
     "output_type": "stream",
     "text": [
      "\r",
      "  1%|▏         | 13/1000 [4:08:01<313:50:41, 1144.72s/it]"
     ]
    },
    {
     "name": "stdout",
     "output_type": "stream",
     "text": [
      "Relative_Error: 1.1997e+00\n",
      "valLoss: 1.0889e-01\n",
      "--- Epoch 14/1000 ---\n"
     ]
    },
    {
     "name": "stderr",
     "output_type": "stream",
     "text": [
      "/home/bartoldson1/anaconda3/lib/python3.8/site-packages/torch/nn/functional.py:3000: UserWarning: The default behavior for interpolate/upsample with float scale_factor changed in 1.6.0 to align with other frameworks/libraries, and uses scale_factor directly, instead of relying on the computed output size. If you wish to keep the old behavior, please set recompute_scale_factor=True. See the documentation of nn.Upsample for details. \n",
      "  warnings.warn(\"The default behavior for interpolate/upsample with float scale_factor changed \"\n"
     ]
    },
    {
     "name": "stdout",
     "output_type": "stream",
     "text": [
      "trainLoss: 1.3915e-02\n",
      "LR: 1.0000e-07\n"
     ]
    },
    {
     "name": "stderr",
     "output_type": "stream",
     "text": [
      "\r",
      "  1%|▏         | 14/1000 [4:27:02<313:13:47, 1143.64s/it]"
     ]
    },
    {
     "name": "stdout",
     "output_type": "stream",
     "text": [
      "Relative_Error: 1.1997e+00\n",
      "valLoss: 1.0805e-01\n",
      "--- Epoch 15/1000 ---\n"
     ]
    },
    {
     "name": "stderr",
     "output_type": "stream",
     "text": [
      "/home/bartoldson1/anaconda3/lib/python3.8/site-packages/torch/nn/functional.py:3000: UserWarning: The default behavior for interpolate/upsample with float scale_factor changed in 1.6.0 to align with other frameworks/libraries, and uses scale_factor directly, instead of relying on the computed output size. If you wish to keep the old behavior, please set recompute_scale_factor=True. See the documentation of nn.Upsample for details. \n",
      "  warnings.warn(\"The default behavior for interpolate/upsample with float scale_factor changed \"\n"
     ]
    },
    {
     "name": "stdout",
     "output_type": "stream",
     "text": [
      "trainLoss: 1.4051e-02\n",
      "LR: 1.0000e-07\n"
     ]
    },
    {
     "name": "stderr",
     "output_type": "stream",
     "text": [
      "\r",
      "  2%|▏         | 15/1000 [4:46:10<313:15:14, 1144.89s/it]"
     ]
    },
    {
     "name": "stdout",
     "output_type": "stream",
     "text": [
      "Relative_Error: 1.1947e+00\n",
      "valLoss: 1.1084e-01\n",
      "--- Epoch 16/1000 ---\n"
     ]
    },
    {
     "name": "stderr",
     "output_type": "stream",
     "text": [
      "/home/bartoldson1/anaconda3/lib/python3.8/site-packages/torch/nn/functional.py:3000: UserWarning: The default behavior for interpolate/upsample with float scale_factor changed in 1.6.0 to align with other frameworks/libraries, and uses scale_factor directly, instead of relying on the computed output size. If you wish to keep the old behavior, please set recompute_scale_factor=True. See the documentation of nn.Upsample for details. \n",
      "  warnings.warn(\"The default behavior for interpolate/upsample with float scale_factor changed \"\n"
     ]
    },
    {
     "name": "stdout",
     "output_type": "stream",
     "text": [
      "trainLoss: 1.3902e-02\n",
      "LR: 1.0000e-07\n"
     ]
    },
    {
     "name": "stderr",
     "output_type": "stream",
     "text": [
      "\r",
      "  2%|▏         | 15/1000 [5:05:12<334:02:23, 1220.86s/it]"
     ]
    },
    {
     "name": "stdout",
     "output_type": "stream",
     "text": [
      "Relative_Error: 1.2360e+00\n",
      "valLoss: 1.1034e-01\n",
      "---------- Finished Training ----------\n"
     ]
    },
    {
     "name": "stderr",
     "output_type": "stream",
     "text": [
      "\n"
     ]
    }
   ],
   "source": [
    "writeMessage('---------- Started Training ----------', versionName)\n",
    "bestLoss = np.infty\n",
    "\n",
    "if not eval_only:\n",
    "    for epoch in tqdm(range(1, epochs+1)):  # loop over the dataset multiple times\n",
    "\n",
    "        writeMessage(\"--- Epoch {0}/{1} ---\".format(epoch, epochs), versionName)\n",
    "\n",
    "        surrogate.train()\n",
    "        trainLoss, tensorboard_recorder_step, total_steps = trainEpoch(trainDataLoader, \n",
    "                                                                       train_writer, surrogate,\n",
    "                                                                       opt, p_loss, loss,\n",
    "                                                                       rmse, lr_scheduler, \n",
    "                                                                       tensorboard_rate, device,\n",
    "                                                                       tensorboard_recorder_step, total_steps)\n",
    "\n",
    "        writeMessage(\"trainLoss: {:.4e}\".format(trainLoss),versionName)\n",
    "        writeMessage(\"LR: {:.4e}\".format(opt.param_groups[0]['lr']),versionName)\n",
    "#         if trainLoss < bestLoss:\n",
    "#             bestLoss = trainLoss\n",
    "#             writeMessage(\"Better trainLoss: {:.4e}, Saving models...\".format(bestLoss),versionName)\n",
    "#             torch.save(surrogate.state_dict(), os.path.join(cps,versionName))\n",
    "\n",
    "        surrogate.eval()\n",
    "        valLoss = validEpoch(testDataLoader, test_writer, surrogate, p_loss, loss, rmse, device,\n",
    "                             tensorboard_recorder_step, lr_scheduler)\n",
    "        writeMessage(\"valLoss: {:.4e}\".format(valLoss),versionName)\n",
    "\n",
    "        # checkpoint progress\n",
    "        if valLoss < bestLoss:\n",
    "            bestLoss = valLoss\n",
    "            writeMessage(\"Better valLoss: {:.4e}, Saving models...\".format(bestLoss),versionName)\n",
    "            torch.save(surrogate.state_dict(), os.path.join(cps,versionName))\n",
    "\n",
    "        # record lr change\n",
    "        train_writer.add_scalar(tag=\"LR\", scalar_value=opt.param_groups[0]['lr'], global_step=total_steps)\n",
    "\n",
    "        if opt.param_groups[0]['lr'] < 5e-8:\n",
    "            break\n",
    "    torch.save(surrogate.state_dict(), os.path.join(cps,versionName+'_final_model'))\n",
    "    writeMessage('---------- Finished Training ----------', versionName)"
   ]
  },
  {
   "cell_type": "code",
   "execution_count": 26,
   "metadata": {
    "ExecuteTime": {
     "end_time": "2020-10-30T00:42:04.406073Z",
     "start_time": "2020-10-30T00:42:04.398498Z"
    }
   },
   "outputs": [],
   "source": [
    "import matplotlib.animation as animation\n",
    "import matplotlib.gridspec as gridspec\n",
    "import matplotlib.animation as manimati\n",
    "from matplotlib import animation, rc\n",
    "from IPython.display import Video\n",
    "def create_1_channel_movie(im,outfile='sim.mp4',title='surrogate            simulation'):\n",
    "    ti = 0\n",
    "    u_mx = 255 #np.max(np.abs(Xrgb))\n",
    "    fig = plt.figure()\n",
    "    ax = fig.add_subplot(111)\n",
    "    plt.title(title)\n",
    "    #cmap = plt.cm.ocean\n",
    "    img = ax.imshow(im[0].squeeze(),  vmin=0, vmax=u_mx)\n",
    "    #plt.show()\n",
    "    \n",
    "    # initialization function: plot the background of each frame\n",
    "    def init():\n",
    "        img = ax.imshow(im[0].squeeze(),  vmin=0, vmax=u_mx)\n",
    "        return (fig,)\n",
    "\n",
    "    # animation function. This is called sequentially\n",
    "    def animate(i):\n",
    "        img = ax.imshow(im[i].squeeze(), vmin=0, vmax=u_mx)\n",
    "        return (fig,)\n",
    "\n",
    "\n",
    "    # call the animator. blit=True means only re-draw the parts that have changed.\n",
    "    anim = animation.FuncAnimation(fig, animate, init_func=init,\n",
    "                                   frames=len(im), interval=20, blit=True)\n",
    "    anim.save(outfile, fps=30, extra_args=['-vcodec', 'libx264'])\n",
    "    \n",
    "def get_img(X):\n",
    "    M = 255\n",
    "    mx = X.max()\n",
    "    mn = X.min()\n",
    "    X = (X - mn)/(mx - mn)\n",
    "    C = (M*X).type(torch.uint8)\n",
    "    return C\n",
    "\n",
    "def make_movie(sample_sim, sample_GT, ID = ''):\n",
    "    # get sample_sim and sample_GT from the relative_error_info function above\n",
    "    Xrgb = torch.cat([get_img(sample_sim), get_img(sample_GT)], dim=3)[:,0].detach().cpu().numpy()\n",
    "    Xrgb.shape\n",
    "    \n",
    "    video_name = versionName + ID\n",
    "    \n",
    "    # to-do: dave says we should flip vertically before making the mp4\n",
    "    outGif = '{}.mp4'.format(video_name)\n",
    "    create_1_channel_movie(Xrgb,outfile=outGif)"
   ]
  },
  {
   "cell_type": "code",
   "execution_count": 27,
   "metadata": {
    "ExecuteTime": {
     "end_time": "2020-10-30T00:42:05.084982Z",
     "start_time": "2020-10-30T00:42:04.407143Z"
    }
   },
   "outputs": [
    {
     "data": {
      "text/plain": [
       "(<All keys matched successfully>,\n",
       " DataParallel(\n",
       "   (module): Surrogate(\n",
       "     (LIN): MLP(\n",
       "       (activation): ELU(alpha=1.0)\n",
       "       (layers): Sequential(\n",
       "         (0): Linear(in_features=16, out_features=128, bias=False)\n",
       "         (1): BatchNorm1d(128, eps=1e-05, momentum=0.1, affine=True, track_running_stats=True)\n",
       "         (2): ELU(alpha=1.0)\n",
       "         (3): Dropout(p=0.1, inplace=False)\n",
       "         (4): Linear(in_features=128, out_features=128, bias=False)\n",
       "         (5): BatchNorm1d(128, eps=1e-05, momentum=0.1, affine=True, track_running_stats=True)\n",
       "         (6): ELU(alpha=1.0)\n",
       "         (7): Dropout(p=0.1, inplace=False)\n",
       "         (8): Linear(in_features=128, out_features=16, bias=True)\n",
       "       )\n",
       "     )\n",
       "     (encoder): Encoder(\n",
       "       (act): LeakyReLU(negative_slope=0.01)\n",
       "       (conv1): Conv2d(2, 128, kernel_size=(3, 3), stride=(1, 1), padding=(1, 1))\n",
       "       (convs): Sequential(\n",
       "         (0): convBlock(\n",
       "           (act): LeakyReLU(negative_slope=0.01)\n",
       "           (convs): Sequential(\n",
       "             (0): Conv2d(128, 128, kernel_size=(3, 3), stride=(1, 1), padding=(1, 1))\n",
       "             (1): BatchNorm2d(128, eps=1e-05, momentum=0.1, affine=True, track_running_stats=True)\n",
       "             (2): LeakyReLU(negative_slope=0.01)\n",
       "             (3): Conv2d(128, 128, kernel_size=(3, 3), stride=(1, 1), padding=(1, 1))\n",
       "             (4): BatchNorm2d(128, eps=1e-05, momentum=0.1, affine=True, track_running_stats=True)\n",
       "             (5): LeakyReLU(negative_slope=0.01)\n",
       "             (6): Conv2d(128, 128, kernel_size=(3, 3), stride=(1, 1), padding=(1, 1))\n",
       "             (7): BatchNorm2d(128, eps=1e-05, momentum=0.1, affine=True, track_running_stats=True)\n",
       "             (8): LeakyReLU(negative_slope=0.01)\n",
       "             (9): Conv2d(128, 128, kernel_size=(3, 3), stride=(1, 1), padding=(1, 1))\n",
       "             (10): BatchNorm2d(128, eps=1e-05, momentum=0.1, affine=True, track_running_stats=True)\n",
       "             (11): LeakyReLU(negative_slope=0.01)\n",
       "           )\n",
       "           (downSampleLayer): Conv2d(128, 128, kernel_size=(3, 3), stride=(2, 2), padding=(1, 1))\n",
       "         )\n",
       "         (1): convBlock(\n",
       "           (act): LeakyReLU(negative_slope=0.01)\n",
       "           (convs): Sequential(\n",
       "             (0): Conv2d(256, 128, kernel_size=(3, 3), stride=(1, 1), padding=(1, 1))\n",
       "             (1): BatchNorm2d(128, eps=1e-05, momentum=0.1, affine=True, track_running_stats=True)\n",
       "             (2): LeakyReLU(negative_slope=0.01)\n",
       "             (3): Conv2d(128, 128, kernel_size=(3, 3), stride=(1, 1), padding=(1, 1))\n",
       "             (4): BatchNorm2d(128, eps=1e-05, momentum=0.1, affine=True, track_running_stats=True)\n",
       "             (5): LeakyReLU(negative_slope=0.01)\n",
       "             (6): Conv2d(128, 128, kernel_size=(3, 3), stride=(1, 1), padding=(1, 1))\n",
       "             (7): BatchNorm2d(128, eps=1e-05, momentum=0.1, affine=True, track_running_stats=True)\n",
       "             (8): LeakyReLU(negative_slope=0.01)\n",
       "             (9): Conv2d(128, 128, kernel_size=(3, 3), stride=(1, 1), padding=(1, 1))\n",
       "             (10): BatchNorm2d(128, eps=1e-05, momentum=0.1, affine=True, track_running_stats=True)\n",
       "             (11): LeakyReLU(negative_slope=0.01)\n",
       "           )\n",
       "           (downSampleLayer): Conv2d(128, 128, kernel_size=(3, 3), stride=(2, 2), padding=(1, 1))\n",
       "         )\n",
       "         (2): convBlock(\n",
       "           (act): LeakyReLU(negative_slope=0.01)\n",
       "           (convs): Sequential(\n",
       "             (0): Conv2d(384, 128, kernel_size=(3, 3), stride=(1, 1), padding=(1, 1))\n",
       "             (1): BatchNorm2d(128, eps=1e-05, momentum=0.1, affine=True, track_running_stats=True)\n",
       "             (2): LeakyReLU(negative_slope=0.01)\n",
       "             (3): Conv2d(128, 128, kernel_size=(3, 3), stride=(1, 1), padding=(1, 1))\n",
       "             (4): BatchNorm2d(128, eps=1e-05, momentum=0.1, affine=True, track_running_stats=True)\n",
       "             (5): LeakyReLU(negative_slope=0.01)\n",
       "             (6): Conv2d(128, 128, kernel_size=(3, 3), stride=(1, 1), padding=(1, 1))\n",
       "             (7): BatchNorm2d(128, eps=1e-05, momentum=0.1, affine=True, track_running_stats=True)\n",
       "             (8): LeakyReLU(negative_slope=0.01)\n",
       "             (9): Conv2d(128, 128, kernel_size=(3, 3), stride=(1, 1), padding=(1, 1))\n",
       "             (10): BatchNorm2d(128, eps=1e-05, momentum=0.1, affine=True, track_running_stats=True)\n",
       "             (11): LeakyReLU(negative_slope=0.01)\n",
       "           )\n",
       "           (downSampleLayer): Conv2d(128, 128, kernel_size=(3, 3), stride=(2, 2), padding=(1, 1))\n",
       "         )\n",
       "         (3): convBlock(\n",
       "           (act): LeakyReLU(negative_slope=0.01)\n",
       "           (convs): Sequential(\n",
       "             (0): Conv2d(512, 128, kernel_size=(3, 3), stride=(1, 1), padding=(1, 1))\n",
       "             (1): BatchNorm2d(128, eps=1e-05, momentum=0.1, affine=True, track_running_stats=True)\n",
       "             (2): LeakyReLU(negative_slope=0.01)\n",
       "             (3): Conv2d(128, 128, kernel_size=(3, 3), stride=(1, 1), padding=(1, 1))\n",
       "             (4): BatchNorm2d(128, eps=1e-05, momentum=0.1, affine=True, track_running_stats=True)\n",
       "             (5): LeakyReLU(negative_slope=0.01)\n",
       "             (6): Conv2d(128, 128, kernel_size=(3, 3), stride=(1, 1), padding=(1, 1))\n",
       "             (7): BatchNorm2d(128, eps=1e-05, momentum=0.1, affine=True, track_running_stats=True)\n",
       "             (8): LeakyReLU(negative_slope=0.01)\n",
       "             (9): Conv2d(128, 128, kernel_size=(3, 3), stride=(1, 1), padding=(1, 1))\n",
       "             (10): BatchNorm2d(128, eps=1e-05, momentum=0.1, affine=True, track_running_stats=True)\n",
       "             (11): LeakyReLU(negative_slope=0.01)\n",
       "           )\n",
       "           (downSampleLayer): Conv2d(128, 128, kernel_size=(3, 3), stride=(2, 2), padding=(1, 1))\n",
       "         )\n",
       "         (4): convBlock(\n",
       "           (act): LeakyReLU(negative_slope=0.01)\n",
       "           (convs): Sequential(\n",
       "             (0): Conv2d(640, 128, kernel_size=(3, 3), stride=(1, 1), padding=(1, 1))\n",
       "             (1): BatchNorm2d(128, eps=1e-05, momentum=0.1, affine=True, track_running_stats=True)\n",
       "             (2): LeakyReLU(negative_slope=0.01)\n",
       "             (3): Conv2d(128, 128, kernel_size=(3, 3), stride=(1, 1), padding=(1, 1))\n",
       "             (4): BatchNorm2d(128, eps=1e-05, momentum=0.1, affine=True, track_running_stats=True)\n",
       "             (5): LeakyReLU(negative_slope=0.01)\n",
       "             (6): Conv2d(128, 128, kernel_size=(3, 3), stride=(1, 1), padding=(1, 1))\n",
       "             (7): BatchNorm2d(128, eps=1e-05, momentum=0.1, affine=True, track_running_stats=True)\n",
       "             (8): LeakyReLU(negative_slope=0.01)\n",
       "             (9): Conv2d(128, 128, kernel_size=(3, 3), stride=(1, 1), padding=(1, 1))\n",
       "             (10): BatchNorm2d(128, eps=1e-05, momentum=0.1, affine=True, track_running_stats=True)\n",
       "             (11): LeakyReLU(negative_slope=0.01)\n",
       "           )\n",
       "           (downSampleLayer): Conv2d(128, 128, kernel_size=(3, 3), stride=(2, 2), padding=(1, 1))\n",
       "         )\n",
       "       )\n",
       "       (linear): Linear(in_features=9216, out_features=16, bias=True)\n",
       "     )\n",
       "     (decoder): Generator(\n",
       "       (linear): Linear(in_features=16, out_features=6144, bias=True)\n",
       "       (convTransBlockLayers): Sequential(\n",
       "         (0): convTransBlock(\n",
       "           (act): LeakyReLU(negative_slope=0.01)\n",
       "           (upsample): Upsample(scale_factor=2.0, mode=nearest)\n",
       "           (seq): Sequential(\n",
       "             (0): ConvTranspose2d(128, 128, kernel_size=(3, 3), stride=(1, 1), padding=(1, 1))\n",
       "             (1): BatchNorm2d(128, eps=1e-05, momentum=0.1, affine=True, track_running_stats=True)\n",
       "             (2): LeakyReLU(negative_slope=0.01)\n",
       "             (3): ConvTranspose2d(128, 128, kernel_size=(3, 3), stride=(1, 1), padding=(1, 1))\n",
       "             (4): BatchNorm2d(128, eps=1e-05, momentum=0.1, affine=True, track_running_stats=True)\n",
       "             (5): LeakyReLU(negative_slope=0.01)\n",
       "             (6): ConvTranspose2d(128, 128, kernel_size=(3, 3), stride=(1, 1), padding=(1, 1))\n",
       "             (7): BatchNorm2d(128, eps=1e-05, momentum=0.1, affine=True, track_running_stats=True)\n",
       "             (8): LeakyReLU(negative_slope=0.01)\n",
       "             (9): ConvTranspose2d(128, 128, kernel_size=(3, 3), stride=(2, 2), padding=(1, 1), output_padding=(1, 1))\n",
       "             (10): LeakyReLU(negative_slope=0.01)\n",
       "           )\n",
       "         )\n",
       "         (1): convTransBlock(\n",
       "           (act): LeakyReLU(negative_slope=0.01)\n",
       "           (upsample): Upsample(scale_factor=2.0, mode=nearest)\n",
       "           (seq): Sequential(\n",
       "             (0): ConvTranspose2d(256, 128, kernel_size=(3, 3), stride=(1, 1), padding=(1, 1))\n",
       "             (1): BatchNorm2d(128, eps=1e-05, momentum=0.1, affine=True, track_running_stats=True)\n",
       "             (2): LeakyReLU(negative_slope=0.01)\n",
       "             (3): ConvTranspose2d(128, 128, kernel_size=(3, 3), stride=(1, 1), padding=(1, 1))\n",
       "             (4): BatchNorm2d(128, eps=1e-05, momentum=0.1, affine=True, track_running_stats=True)\n",
       "             (5): LeakyReLU(negative_slope=0.01)\n",
       "             (6): ConvTranspose2d(128, 128, kernel_size=(3, 3), stride=(1, 1), padding=(1, 1))\n",
       "             (7): BatchNorm2d(128, eps=1e-05, momentum=0.1, affine=True, track_running_stats=True)\n",
       "             (8): LeakyReLU(negative_slope=0.01)\n",
       "             (9): ConvTranspose2d(128, 128, kernel_size=(3, 3), stride=(2, 2), padding=(1, 1), output_padding=(1, 1))\n",
       "             (10): LeakyReLU(negative_slope=0.01)\n",
       "           )\n",
       "         )\n",
       "         (2): convTransBlock(\n",
       "           (act): LeakyReLU(negative_slope=0.01)\n",
       "           (upsample): Upsample(scale_factor=2.0, mode=nearest)\n",
       "           (seq): Sequential(\n",
       "             (0): ConvTranspose2d(384, 128, kernel_size=(3, 3), stride=(1, 1), padding=(1, 1))\n",
       "             (1): BatchNorm2d(128, eps=1e-05, momentum=0.1, affine=True, track_running_stats=True)\n",
       "             (2): LeakyReLU(negative_slope=0.01)\n",
       "             (3): ConvTranspose2d(128, 128, kernel_size=(3, 3), stride=(1, 1), padding=(1, 1))\n",
       "             (4): BatchNorm2d(128, eps=1e-05, momentum=0.1, affine=True, track_running_stats=True)\n",
       "             (5): LeakyReLU(negative_slope=0.01)\n",
       "             (6): ConvTranspose2d(128, 128, kernel_size=(3, 3), stride=(1, 1), padding=(1, 1))\n",
       "             (7): BatchNorm2d(128, eps=1e-05, momentum=0.1, affine=True, track_running_stats=True)\n",
       "             (8): LeakyReLU(negative_slope=0.01)\n",
       "             (9): ConvTranspose2d(128, 128, kernel_size=(3, 3), stride=(2, 2), padding=(1, 1), output_padding=(1, 1))\n",
       "             (10): LeakyReLU(negative_slope=0.01)\n",
       "           )\n",
       "         )\n",
       "         (3): convTransBlock(\n",
       "           (act): LeakyReLU(negative_slope=0.01)\n",
       "           (upsample): Upsample(scale_factor=2.0, mode=nearest)\n",
       "           (seq): Sequential(\n",
       "             (0): ConvTranspose2d(512, 128, kernel_size=(3, 3), stride=(1, 1), padding=(1, 1))\n",
       "             (1): BatchNorm2d(128, eps=1e-05, momentum=0.1, affine=True, track_running_stats=True)\n",
       "             (2): LeakyReLU(negative_slope=0.01)\n",
       "             (3): ConvTranspose2d(128, 128, kernel_size=(3, 3), stride=(1, 1), padding=(1, 1))\n",
       "             (4): BatchNorm2d(128, eps=1e-05, momentum=0.1, affine=True, track_running_stats=True)\n",
       "             (5): LeakyReLU(negative_slope=0.01)\n",
       "             (6): ConvTranspose2d(128, 128, kernel_size=(3, 3), stride=(1, 1), padding=(1, 1))\n",
       "             (7): BatchNorm2d(128, eps=1e-05, momentum=0.1, affine=True, track_running_stats=True)\n",
       "             (8): LeakyReLU(negative_slope=0.01)\n",
       "             (9): ConvTranspose2d(128, 128, kernel_size=(3, 3), stride=(2, 2), padding=(1, 1), output_padding=(1, 1))\n",
       "             (10): LeakyReLU(negative_slope=0.01)\n",
       "           )\n",
       "         )\n",
       "       )\n",
       "       (lastConv): Conv2d(640, 2, kernel_size=(3, 3), stride=(1, 1), padding=(1, 1))\n",
       "     )\n",
       "   )\n",
       " ))"
      ]
     },
     "execution_count": 27,
     "metadata": {},
     "output_type": "execute_result"
    }
   ],
   "source": [
    "# load surrogate\n",
    "surrogate.load_state_dict(torch.load(os.path.join(cps,versionName))), surrogate.eval()"
   ]
  },
  {
   "cell_type": "code",
   "execution_count": 28,
   "metadata": {
    "ExecuteTime": {
     "end_time": "2020-10-30T00:42:10.960922Z",
     "start_time": "2020-10-30T00:42:05.086803Z"
    }
   },
   "outputs": [
    {
     "name": "stderr",
     "output_type": "stream",
     "text": [
      "/home/bartoldson1/anaconda3/lib/python3.8/site-packages/torch/nn/functional.py:3000: UserWarning: The default behavior for interpolate/upsample with float scale_factor changed in 1.6.0 to align with other frameworks/libraries, and uses scale_factor directly, instead of relying on the computed output size. If you wish to keep the old behavior, please set recompute_scale_factor=True. See the documentation of nn.Upsample for details. \n",
      "  warnings.warn(\"The default behavior for interpolate/upsample with float scale_factor changed \"\n"
     ]
    },
    {
     "name": "stdout",
     "output_type": "stream",
     "text": [
      "Relative_Error: 1.0906e+00\n"
     ]
    },
    {
     "data": {
      "image/png": "[encoded data removed]",
      "text/plain": [
       "<Figure size 432x288 with 1 Axes>"
      ]
     },
     "metadata": {
      "needs_background": "light"
     },
     "output_type": "display_data"
    }
   ],
   "source": [
    "# bring in sample_sim and sample_GT \n",
    "sample_sim, sample_GT, rel_error = relative_error_info(surrogate, simulation_testDataLoader, \n",
    "                                                       None, None, quiet=True)"
   ]
  },
  {
   "cell_type": "code",
   "execution_count": 29,
   "metadata": {
    "ExecuteTime": {
     "end_time": "2020-10-30T00:46:21.392685Z",
     "start_time": "2020-10-30T00:42:10.962345Z"
    }
   },
   "outputs": [
    {
     "data": {
      "text/html": [
       "<video src=\"end_to_end_plateau_train_GPUs13_latentDim16_window_size10_filters128_bz20_numConv4_streamFalse_jacobianTrue_epochs1000_stackTrue.mp4\" controls  >\n",
       "      Your browser does not support the <code>video</code> element.\n",
       "    </video>"
      ],
      "text/plain": [
       "<IPython.core.display.Video object>"
      ]
     },
     "execution_count": 29,
     "metadata": {},
     "output_type": "execute_result"
    },
    {
     "data": {
      "image/png": "[encoded data removed]",
      "text/plain": [
       "<Figure size 432x288 with 1 Axes>"
      ]
     },
     "metadata": {
      "needs_background": "light"
     },
     "output_type": "display_data"
    }
   ],
   "source": [
    "# make movie\n",
    "make_movie(sample_sim, sample_GT)\n",
    "Video('{}.mp4'.format(versionName))"
   ]
  },
  {
   "cell_type": "code",
   "execution_count": 30,
   "metadata": {
    "ExecuteTime": {
     "end_time": "2020-10-30T00:46:23.693954Z",
     "start_time": "2020-10-30T00:46:21.394380Z"
    }
   },
   "outputs": [
    {
     "name": "stderr",
     "output_type": "stream",
     "text": [
      "/home/bartoldson1/anaconda3/lib/python3.8/site-packages/torch/nn/functional.py:3000: UserWarning: The default behavior for interpolate/upsample with float scale_factor changed in 1.6.0 to align with other frameworks/libraries, and uses scale_factor directly, instead of relying on the computed output size. If you wish to keep the old behavior, please set recompute_scale_factor=True. See the documentation of nn.Upsample for details. \n",
      "  warnings.warn(\"The default behavior for interpolate/upsample with float scale_factor changed \"\n"
     ]
    },
    {
     "name": "stdout",
     "output_type": "stream",
     "text": [
      "Relative_Error: 9.2834e-01\n"
     ]
    },
    {
     "data": {
      "image/png": "[encoded data removed]",
      "text/plain": [
       "<Figure size 432x288 with 1 Axes>"
      ]
     },
     "metadata": {
      "needs_background": "light"
     },
     "output_type": "display_data"
    }
   ],
   "source": [
    "train_w_199 = deepcopy(trainDataset)\n",
    "train_w_199.w = 199\n",
    "first_frame_trainDataset = torch.utils.data.Subset(train_w_199, range(4000, 4400, simLen))\n",
    "simulation_trainDataLoader = DataLoader(dataset= first_frame_trainDataset, batch_size=2)\n",
    "# bring in sample_sim and sample_GT from train data\n",
    "sample_sim, sample_GT, rel_error = relative_error_info(surrogate, simulation_trainDataLoader, \n",
    "                                                       None, None, quiet=True)"
   ]
  },
  {
   "cell_type": "code",
   "execution_count": 31,
   "metadata": {
    "ExecuteTime": {
     "end_time": "2020-10-30T00:50:31.237059Z",
     "start_time": "2020-10-30T00:46:23.695608Z"
    }
   },
   "outputs": [
    {
     "data": {
      "text/html": [
       "<video src=\"end_to_end_plateau_train_GPUs13_latentDim16_window_size10_filters128_bz20_numConv4_streamFalse_jacobianTrue_epochs1000_stackTrue_train.mp4\" controls  >\n",
       "      Your browser does not support the <code>video</code> element.\n",
       "    </video>"
      ],
      "text/plain": [
       "<IPython.core.display.Video object>"
      ]
     },
     "execution_count": 31,
     "metadata": {},
     "output_type": "execute_result"
    },
    {
     "data": {
      "image/png": "[encoded data removed]",
      "text/plain": [
       "<Figure size 432x288 with 1 Axes>"
      ]
     },
     "metadata": {
      "needs_background": "light"
     },
     "output_type": "display_data"
    }
   ],
   "source": [
    "make_movie(sample_sim, sample_GT, ID='_train')\n",
    "Video('{}.mp4'.format(versionName+'_train'))"
   ]
  },
  {
   "cell_type": "code",
   "execution_count": 18,
   "metadata": {
    "ExecuteTime": {
     "end_time": "2020-10-30T15:38:09.488186Z",
     "start_time": "2020-10-30T15:38:09.482911Z"
    }
   },
   "outputs": [
    {
     "data": {
      "text/plain": [
       "'end_to_end_plateau_train_GPUs13_latentDim16_window_size10_filters128_bz20_numConv4_streamFalse_jacobianTrue_epochs1000_stackTrue'"
      ]
     },
     "execution_count": 18,
     "metadata": {},
     "output_type": "execute_result"
    }
   ],
   "source": [
    "versionName"
   ]
  }
 ],
 "metadata": {
  "kernelspec": {
   "display_name": "Python 3",
   "language": "python",
   "name": "python3"
  },
  "language_info": {
   "codemirror_mode": {
    "name": "ipython",
    "version": 3
   },
   "file_extension": ".py",
   "mimetype": "text/x-python",
   "name": "python",
   "nbconvert_exporter": "python",
   "pygments_lexer": "ipython3",
   "version": "3.8.3"
  }
 },
 "nbformat": 4,
 "nbformat_minor": 4
}
