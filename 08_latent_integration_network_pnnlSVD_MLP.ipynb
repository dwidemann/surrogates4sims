{
 "cells": [
  {
   "cell_type": "markdown",
   "metadata": {},
   "source": [
    "## Latent Integration Network (LIN)\n",
    "This notebook gives an example of how to train a LIN on SVD vectors. Note: 05_experiment_SVD.ipynb created and saved the SVD Decomposition. "
   ]
  },
  {
   "cell_type": "markdown",
   "metadata": {},
   "source": [
    "## Imports"
   ]
  },
  {
   "cell_type": "code",
   "execution_count": 1,
   "metadata": {
    "ExecuteTime": {
     "end_time": "2020-11-17T20:24:28.677970Z",
     "start_time": "2020-11-17T20:24:22.232437Z"
    }
   },
   "outputs": [],
   "source": [
    "# EXPORT\n",
    "# --- Must haves ---\n",
    "import os, sys\n",
    "sys.path.append('..')\n",
    "\n",
    "import torch\n",
    "from torch.utils.data import Dataset, DataLoader\n",
    "from torch.utils.tensorboard import SummaryWriter\n",
    "import torch.cuda as cuda\n",
    "import torch.nn as nn\n",
    "import torchvision\n",
    "import torch.nn.functional as F\n",
    "\n",
    "from surrogates4sims.pnnlDatasets import CCSI_2D\n",
    "\n",
    "from surrogates4sims.utils import create_opt, create_one_cycle, find_lr, printNumModelParams, \\\n",
    "                                    rmse, writeMessage, plotSampleWprediction, plotSampleWpredictionByChannel, \\\n",
    "                                    plotSample, curl, jacobian, stream2uv, convertSimToImage, pkl_save, pkl_load, \\\n",
    "                                    create_1_channel_movie\n",
    "\n",
    "from surrogates4sims.models import Generator, Encoder, ConvDeconvFactor2\n",
    "\n",
    "from surrogates4sims.train import trainEpoch, validEpoch\n",
    "\n",
    "import numpy as np\n",
    "from tqdm import tqdm\n",
    "from copy import deepcopy\n",
    "import matplotlib.pyplot as plt\n",
    "from glob import glob"
   ]
  },
  {
   "cell_type": "code",
   "execution_count": 2,
   "metadata": {
    "ExecuteTime": {
     "end_time": "2020-11-17T20:24:28.804248Z",
     "start_time": "2020-11-17T20:24:28.679346Z"
    }
   },
   "outputs": [
    {
     "name": "stdout",
     "output_type": "stream",
     "text": [
      "gridsize_128  gridsize_512  svd_channel1_gridsize128.pkl\r\n"
     ]
    }
   ],
   "source": [
    "!ls /work/pnnl_liquid_inlet/channel_1"
   ]
  },
  {
   "cell_type": "markdown",
   "metadata": {},
   "source": [
    "## Settings"
   ]
  },
  {
   "cell_type": "code",
   "execution_count": 3,
   "metadata": {
    "ExecuteTime": {
     "end_time": "2020-11-17T20:24:28.823413Z",
     "start_time": "2020-11-17T20:24:28.806941Z"
    }
   },
   "outputs": [
    {
     "data": {
      "text/plain": [
       "'LIN_SVD_PNNL_MLP_GPUs3_w10_latentDim1024_hd128_128_bz32_epochs1000_memory1_WD0'"
      ]
     },
     "execution_count": 3,
     "metadata": {},
     "output_type": "execute_result"
    }
   ],
   "source": [
    "DEBUG = False\n",
    "# model name, for tensorboard recording and checkpointing purposes.\n",
    "versionName = \"LIN_SVD_PNNL_MLP\"\n",
    "\n",
    "# GPU Numbers to use. Comma seprate them for multi-GPUs.\n",
    "gpu_ids = \"3\"#,1,2,3\"\n",
    "versionName = versionName + '_GPUs{}'.format(gpu_ids.replace(',',''))\n",
    "# path to load model weights.\n",
    "pretrained_path = None\n",
    "\n",
    "# rate at which to record metrics. (number of batches to average over when recording metrics, e.g. \"every 5 batches\")\n",
    "tensorboard_rate = 5\n",
    "\n",
    "# number of epochs to train. This is defined here so we can use the OneCycle LR Scheduler.\n",
    "epochs = 1000\n",
    "\n",
    "# Data Directory\n",
    "channel = 1\n",
    "gridsize = 128\n",
    "dataDirec = '/work/pnnl_liquid_inlet/channel_{}/gridsize_{}'.format(channel,gridsize)\n",
    "build_vecs = True \n",
    "SVDFn = '/work/pnnl_liquid_inlet/channel_1/svd_channel1_gridsize128.pkl'\n",
    "preprocess = False\n",
    "AE = True\n",
    "\n",
    "# checkpoint directory\n",
    "cps = 'cps'\n",
    "tensorboard_direc = \"tb\"\n",
    "\n",
    "findLRs = True  \n",
    "patience = 1\n",
    "\n",
    "# hyper-params\n",
    "seed = 1234\n",
    "np.random.seed(seed)\n",
    "testSplit = .2\n",
    "bz = 32\n",
    "numSamplesToKeep = np.infty #if not debugging\n",
    "latentDim = 64\n",
    "simLen = 500\n",
    "\n",
    "w = 10\n",
    "memory_length = 1\n",
    "weight_decay = 0\n",
    "numComponents = 1024 # this does not include p. so the vectors will be of size numComponents + len(p)\n",
    "hiddenLayers =  [128, 128]\n",
    "hd ='_'.join(map(str,hiddenLayers))\n",
    "activation = nn.ELU()\n",
    "\n",
    "if DEBUG:\n",
    "    epochs = 2\n",
    "    numSamplesToKeep = 200\n",
    "    createDebugData = True\n",
    "    \n",
    "\n",
    "versionName = versionName + '_w{}_latentDim{}_hd{}_bz{}_epochs{}_memory{}_WD{}'.format(w,numComponents,hd,bz,epochs,\n",
    "                                                                                 memory_length,weight_decay)\n",
    "versionName"
   ]
  },
  {
   "cell_type": "markdown",
   "metadata": {},
   "source": [
    "## Select Personal GPUs"
   ]
  },
  {
   "cell_type": "code",
   "execution_count": 4,
   "metadata": {
    "ExecuteTime": {
     "end_time": "2020-11-17T20:24:29.024560Z",
     "start_time": "2020-11-17T20:24:28.825321Z"
    }
   },
   "outputs": [
    {
     "name": "stdout",
     "output_type": "stream",
     "text": [
      "Tue Nov 17 12:24:28 2020       \n",
      "+-----------------------------------------------------------------------------+\n",
      "| NVIDIA-SMI 440.33.01    Driver Version: 440.33.01    CUDA Version: 10.2     |\n",
      "|-------------------------------+----------------------+----------------------+\n",
      "| GPU  Name        Persistence-M| Bus-Id        Disp.A | Volatile Uncorr. ECC |\n",
      "| Fan  Temp  Perf  Pwr:Usage/Cap|         Memory-Usage | GPU-Util  Compute M. |\n",
      "|===============================+======================+======================|\n",
      "|   0  TITAN Xp            On   | 00000000:02:00.0 Off |                  N/A |\n",
      "| 43%   64C    P2   202W / 250W |   4667MiB / 12196MiB |     98%      Default |\n",
      "+-------------------------------+----------------------+----------------------+\n",
      "|   1  TITAN Xp            On   | 00000000:03:00.0 Off |                  N/A |\n",
      "| 23%   21C    P8     8W / 250W |   5890MiB / 12196MiB |      0%      Default |\n",
      "+-------------------------------+----------------------+----------------------+\n",
      "|   2  TITAN Xp            On   | 00000000:81:00.0 Off |                  N/A |\n",
      "| 49%   73C    P2   235W / 250W |  11471MiB / 12196MiB |     98%      Default |\n",
      "+-------------------------------+----------------------+----------------------+\n",
      "|   3  TITAN Xp            On   | 00000000:82:00.0 Off |                  N/A |\n",
      "| 46%   68C    P2   243W / 250W |   4715MiB / 12196MiB |     99%      Default |\n",
      "+-------------------------------+----------------------+----------------------+\n",
      "                                                                               \n",
      "+-----------------------------------------------------------------------------+\n",
      "| Processes:                                                       GPU Memory |\n",
      "|  GPU       PID   Type   Process name                             Usage      |\n",
      "|=============================================================================|\n",
      "|    0     23076      C   ...emann1/anaconda3/envs/torch2/bin/python  4655MiB |\n",
      "|    1     16287      C   ...emann1/anaconda3/envs/torch2/bin/python  2439MiB |\n",
      "|    1     16451      C   ...emann1/anaconda3/envs/torch2/bin/python  3439MiB |\n",
      "|    2      7427      C   /home/bartoldson1/anaconda3/bin/python     11459MiB |\n",
      "|    3      7427      C   /home/bartoldson1/anaconda3/bin/python      4703MiB |\n",
      "+-----------------------------------------------------------------------------+\n"
     ]
    }
   ],
   "source": [
    "!nvidia-smi"
   ]
  },
  {
   "cell_type": "code",
   "execution_count": 5,
   "metadata": {
    "ExecuteTime": {
     "end_time": "2020-11-17T20:24:29.030739Z",
     "start_time": "2020-11-17T20:24:29.026905Z"
    }
   },
   "outputs": [],
   "source": [
    "os.environ[\"CUDA_DEVICE_ORDER\"]=\"PCI_BUS_ID\"   # see issue #152\n",
    "os.environ[\"CUDA_VISIBLE_DEVICES\"]=gpu_ids"
   ]
  },
  {
   "cell_type": "code",
   "execution_count": 6,
   "metadata": {
    "ExecuteTime": {
     "end_time": "2020-11-17T20:24:29.062826Z",
     "start_time": "2020-11-17T20:24:29.032687Z"
    }
   },
   "outputs": [
    {
     "name": "stdout",
     "output_type": "stream",
     "text": [
      "Using device: cuda\n"
     ]
    }
   ],
   "source": [
    "device = torch.device('cuda' if torch.cuda.is_available() else 'cpu')\n",
    "print('Using device:', device)"
   ]
  },
  {
   "cell_type": "code",
   "execution_count": 7,
   "metadata": {
    "ExecuteTime": {
     "end_time": "2020-11-17T20:24:29.071665Z",
     "start_time": "2020-11-17T20:24:29.065655Z"
    }
   },
   "outputs": [
    {
     "name": "stdout",
     "output_type": "stream",
     "text": [
      "True\n",
      "1\n",
      "0\n",
      "TITAN Xp\n"
     ]
    }
   ],
   "source": [
    "if device.type == 'cuda':\n",
    "    print(cuda.is_available())\n",
    "    print(cuda.device_count())\n",
    "    print(cuda.current_device())\n",
    "    print(cuda.get_device_name())"
   ]
  },
  {
   "cell_type": "code",
   "execution_count": 8,
   "metadata": {
    "ExecuteTime": {
     "end_time": "2020-11-17T20:24:32.267296Z",
     "start_time": "2020-11-17T20:24:29.073036Z"
    }
   },
   "outputs": [
    {
     "name": "stdout",
     "output_type": "stream",
     "text": [
      "Tue Nov 17 12:24:32 2020       \n",
      "+-----------------------------------------------------------------------------+\n",
      "| NVIDIA-SMI 440.33.01    Driver Version: 440.33.01    CUDA Version: 10.2     |\n",
      "|-------------------------------+----------------------+----------------------+\n",
      "| GPU  Name        Persistence-M| Bus-Id        Disp.A | Volatile Uncorr. ECC |\n",
      "| Fan  Temp  Perf  Pwr:Usage/Cap|         Memory-Usage | GPU-Util  Compute M. |\n",
      "|===============================+======================+======================|\n",
      "|   0  TITAN Xp            On   | 00000000:02:00.0 Off |                  N/A |\n",
      "| 43%   65C    P2   160W / 250W |   4667MiB / 12196MiB |     97%      Default |\n",
      "+-------------------------------+----------------------+----------------------+\n",
      "|   1  TITAN Xp            On   | 00000000:03:00.0 Off |                  N/A |\n",
      "| 23%   21C    P8     8W / 250W |   5890MiB / 12196MiB |      0%      Default |\n",
      "+-------------------------------+----------------------+----------------------+\n",
      "|   2  TITAN Xp            On   | 00000000:81:00.0 Off |                  N/A |\n",
      "| 49%   73C    P2   238W / 250W |  11471MiB / 12196MiB |     98%      Default |\n",
      "+-------------------------------+----------------------+----------------------+\n",
      "|   3  TITAN Xp            On   | 00000000:82:00.0 Off |                  N/A |\n",
      "| 46%   68C    P2   248W / 250W |   5276MiB / 12196MiB |     99%      Default |\n",
      "+-------------------------------+----------------------+----------------------+\n",
      "                                                                               \n",
      "+-----------------------------------------------------------------------------+\n",
      "| Processes:                                                       GPU Memory |\n",
      "|  GPU       PID   Type   Process name                             Usage      |\n",
      "|=============================================================================|\n",
      "|    0     23076      C   ...emann1/anaconda3/envs/torch2/bin/python  4655MiB |\n",
      "|    1     16287      C   ...emann1/anaconda3/envs/torch2/bin/python  2439MiB |\n",
      "|    1     16451      C   ...emann1/anaconda3/envs/torch2/bin/python  3439MiB |\n",
      "|    2      7427      C   /home/bartoldson1/anaconda3/bin/python     11459MiB |\n",
      "|    3      7427      C   /home/bartoldson1/anaconda3/bin/python      4703MiB |\n",
      "|    3     29318      C   /home/bartoldson1/anaconda3/bin/python       561MiB |\n",
      "+-----------------------------------------------------------------------------+\n"
     ]
    }
   ],
   "source": [
    "a = torch.zeros(5, device=device.type)\n",
    "!nvidia-smi"
   ]
  },
  {
   "cell_type": "markdown",
   "metadata": {},
   "source": [
    "## Build Latent Vectors (Warning....)\n",
    "The computation of building the latent vectors takes a loooong time. \n",
    "This codes checks to see if svd_vec_file has been saved. If it has, \n",
    "it will reload them. "
   ]
  },
  {
   "cell_type": "code",
   "execution_count": 9,
   "metadata": {
    "ExecuteTime": {
     "end_time": "2020-11-17T20:24:32.282443Z",
     "start_time": "2020-11-17T20:24:32.271453Z"
    }
   },
   "outputs": [
    {
     "data": {
      "text/plain": [
       "(10, 40)"
      ]
     },
     "execution_count": 9,
     "metadata": {},
     "output_type": "execute_result"
    }
   ],
   "source": [
    "sims = glob(os.path.join(dataDirec,'*.pkl'))\n",
    "# uncomment the following eventually\n",
    "#sims = sorted(sims)\n",
    "numSims = len(sims)\n",
    "idx = int(testSplit*numSims)\n",
    "testInds = np.linspace(1,numSims-2,idx).astype('int')\n",
    "trainInds = list(set(np.arange(0,numSims)).difference(set(testInds)))\n",
    "# perm = np.random.permutation(numSims)\n",
    "# testInds = perm[:idx]\n",
    "# trainInds = perm[idx:]\n",
    "testSimFiles = [sims[idx] for idx in testInds]\n",
    "trainSimFiles = [sims[idx] for idx in trainInds]\n",
    "len(testSimFiles), len(trainSimFiles)"
   ]
  },
  {
   "cell_type": "code",
   "execution_count": 10,
   "metadata": {
    "ExecuteTime": {
     "end_time": "2020-11-17T20:24:32.306568Z",
     "start_time": "2020-11-17T20:24:32.284517Z"
    }
   },
   "outputs": [],
   "source": [
    "class CCSI_2D_one_of_each_getitem(Dataset):\n",
    "    def __init__(self, \n",
    "                 dataFiles,\n",
    "                 txtFile = '/data/ccsi/pnnl_liquid_inlet/liquid_inlet_velocity.txt',\n",
    "                 channel=1,\n",
    "                 gridSize=128,\n",
    "                 simLen = 500,\n",
    "                 w = 10, # this is the length of the Y output to predict\n",
    "                 AE = False, # this only return x,x, i.e. no y.\n",
    "                 numToKeep=np.infty,doPreprocess=False): \n",
    "        \n",
    "        self.dataFiles = dataFiles\n",
    "        if numToKeep < len(self.dataFiles):\n",
    "            self.dataFiles = self.dataFiles[:numToKeep]\n",
    "\n",
    "        self.channel = channel\n",
    "        self.gridSize = gridSize\n",
    "        self.numToKeep = numToKeep\n",
    "        self.simLen = simLen\n",
    "        self.t = np.linspace(0,1,simLen).astype('float32')\n",
    "        self.w = w\n",
    "        self.AE = AE\n",
    "        self.doPreprocess = doPreprocess\n",
    "        \n",
    "        # Get the inlet velocity\n",
    "        with open(txtFile) as fid:\n",
    "            txt = fid.read().splitlines()\n",
    "        inletVelocity = np.array(list(map(float,txt[1:]))).astype('float32')\n",
    "        self.inletMx = np.max(inletVelocity)\n",
    "        self.inletMn = np.min(inletVelocity)\n",
    "        \n",
    "        data = []\n",
    "        for fn in self.dataFiles:\n",
    "            idx = int(fn.split('/')[-1].replace('.pkl','')) - 1\n",
    "            D = pkl_load(fn)\n",
    "            data.append((D,inletVelocity[idx]))\n",
    "               \n",
    "        self.data = data\n",
    "    \n",
    "    def __len__(self):\n",
    "        return len(self.simLen*self.data)\n",
    "\n",
    "\n",
    "    def __getitem__(self, idx):\n",
    "        q,r = np.divmod(idx,self.simLen)\n",
    "        r_idx = r\n",
    "            \n",
    "        X,p = self.data[q]\n",
    "        x = X[r_idx:r_idx+1]\n",
    "        #print(x.shape)\n",
    "        y = X[r_idx+1:r_idx+self.w+1]\n",
    "        #print(y.shape)\n",
    "        if self.doPreprocess:\n",
    "            x = self.preprocessFcn(x)\n",
    "            y = self.preprocessFcn(y)\n",
    "        \n",
    "        y = np.expand_dims(y,1)\n",
    "        p_x = np.hstack([p,self.t[r_idx]])\n",
    "        p_y = np.vstack([p*np.ones((self.w,)),self.t[r_idx+1:r_idx+self.w+1]]).T\n",
    "        X = x.astype('float32')\n",
    "        Y = y.astype('float32')\n",
    "        if self.AE:\n",
    "            return X,X # this allows LR_finder to work\n",
    "        else:\n",
    "            return X, Y, p_x, p_y"
   ]
  },
  {
   "cell_type": "code",
   "execution_count": 11,
   "metadata": {
    "ExecuteTime": {
     "end_time": "2020-11-17T20:24:34.433615Z",
     "start_time": "2020-11-17T20:24:32.309106Z"
    }
   },
   "outputs": [
    {
     "data": {
      "text/plain": [
       "(20000, 5000)"
      ]
     },
     "execution_count": 11,
     "metadata": {},
     "output_type": "execute_result"
    }
   ],
   "source": [
    "testDataset = CCSI_2D_one_of_each_getitem(testSimFiles,doPreprocess=preprocess,\n",
    "                                          numToKeep=numSamplesToKeep,channel=channel,w=0,AE=False)\n",
    "trainDataset = CCSI_2D_one_of_each_getitem(trainSimFiles,doPreprocess=preprocess,\n",
    "                                           numToKeep=numSamplesToKeep,channel=channel,w=0,AE=False)\n",
    "len(trainDataset),len(testDataset)"
   ]
  },
  {
   "cell_type": "code",
   "execution_count": 12,
   "metadata": {
    "ExecuteTime": {
     "end_time": "2020-11-17T20:24:34.443028Z",
     "start_time": "2020-11-17T20:24:34.436217Z"
    }
   },
   "outputs": [
    {
     "data": {
      "text/plain": [
       "[0.0031,\n",
       " 0.00585,\n",
       " 0.00268,\n",
       " 0.00416,\n",
       " 0.00295,\n",
       " 0.00531,\n",
       " 0.00243,\n",
       " 0.002,\n",
       " 0.0021,\n",
       " 0.00255,\n",
       " 0.00281,\n",
       " 0.00342,\n",
       " 0.00221,\n",
       " 0.00557,\n",
       " 0.00481,\n",
       " 0.00614,\n",
       " 0.00437,\n",
       " 0.00505,\n",
       " 0.00359,\n",
       " 0.00645,\n",
       " 0.00677,\n",
       " 0.00711,\n",
       " 0.00908,\n",
       " 0.00864,\n",
       " 0.00747,\n",
       " 0.00823,\n",
       " 0.011,\n",
       " 0.0128,\n",
       " 0.0116,\n",
       " 0.0122,\n",
       " 0.0163,\n",
       " 0.0155,\n",
       " 0.0189,\n",
       " 0.0171,\n",
       " 0.0208,\n",
       " 0.0198,\n",
       " 0.0218,\n",
       " 0.018,\n",
       " 0.00953,\n",
       " 0.0141]"
      ]
     },
     "execution_count": 12,
     "metadata": {},
     "output_type": "execute_result"
    }
   ],
   "source": [
    "# is this inlet velocity supposed to be monotonic?\n",
    "[i for x,i in trainDataset.data]"
   ]
  },
  {
   "cell_type": "code",
   "execution_count": 13,
   "metadata": {
    "ExecuteTime": {
     "end_time": "2020-11-17T20:24:35.834549Z",
     "start_time": "2020-11-17T20:24:34.445478Z"
    }
   },
   "outputs": [
    {
     "name": "stdout",
     "output_type": "stream",
     "text": [
      "dict_keys(['spatialVecs', 'S', 'timeVecs_transpose'])\n",
      "(16384, 1024)\n"
     ]
    }
   ],
   "source": [
    "svd_data = pkl_load(SVDFn)\n",
    "print(svd_data.keys())\n",
    "\n",
    "svd_vecs = svd_data['spatialVecs'][:,:numComponents]\n",
    "print(svd_vecs.shape)"
   ]
  },
  {
   "cell_type": "code",
   "execution_count": 14,
   "metadata": {
    "ExecuteTime": {
     "end_time": "2020-11-17T20:24:35.850794Z",
     "start_time": "2020-11-17T20:24:35.835714Z"
    }
   },
   "outputs": [],
   "source": [
    "class SVD_Encoder(nn.Module):\n",
    "    def __init__(self, U):\n",
    "        super(SVD_Encoder,self).__init__()\n",
    "        self.U = U\n",
    "\n",
    "    def forward(self, frames):\n",
    "        # u is from u,s,vh = svd(data)\n",
    "        # frames = batch_size x channels x height x width\n",
    "        assert len(frames.shape)==4\n",
    "        x = frames.reshape(len(frames), -1)\n",
    "        coeffs = x.matmul(self.U)\n",
    "        # coeffs is now batch_size x numComp\n",
    "        return coeffs    \n",
    "    \n",
    "class SVD_Decoder(nn.Module):\n",
    "    def __init__(self, U):\n",
    "        super(SVD_Decoder,self).__init__()\n",
    "        self.U = U\n",
    "\n",
    "    def forward(self, coeffs, orig_shape):\n",
    "        # coeffs is now batch_size x numComp\n",
    "        R = self.U.matmul(coeffs.T)\n",
    "        R = R.T.reshape(orig_shape)\n",
    "        return R\n",
    "    \n",
    "class SVD_Autoencoder(nn.Module):\n",
    "\n",
    "    def __init__(self, svd_vectors, latentDim, allow_updates_to_U):\n",
    "        super(SVD_Autoencoder,self).__init__()\n",
    "        self.U = nn.Parameter(torch.tensor(svd_vectors[:,:latentDim]), requires_grad = allow_updates_to_U)\n",
    "        self.encoder=SVD_Encoder(self.U)\n",
    "        self.decoder=SVD_Decoder(self.U)\n",
    "        \n",
    "    def forward(self, frames):\n",
    "        return self.decoder(self.encoder(frames))\n",
    "\n",
    "SVD_autoencoder = SVD_Autoencoder(svd_vecs, latentDim, False).to(device)"
   ]
  },
  {
   "cell_type": "code",
   "execution_count": 15,
   "metadata": {
    "ExecuteTime": {
     "end_time": "2020-11-17T20:24:40.262259Z",
     "start_time": "2020-11-17T20:24:35.852665Z"
    }
   },
   "outputs": [
    {
     "name": "stdout",
     "output_type": "stream",
     "text": [
      "torch.Size([500, 1, 128, 128]) torch.Size([500, 0, 1, 128, 128]) torch.Size([500, 2]) torch.Size([500, 0, 2])\n",
      "num_sims 40\n",
      "torch.Size([500, 1, 128, 128]) torch.Size([500, 0, 1, 128, 128]) torch.Size([500, 2]) torch.Size([500, 0, 2])\n",
      "num_sims 10\n"
     ]
    }
   ],
   "source": [
    "def createSVDdataset(Dataset, latentDim):\n",
    "\n",
    "    # datasets may be smaller because: numSamplesToKeep \n",
    "    # Be careful the default is for the data to be preprocessed. Therefore, we have to invPrecprocess if \n",
    "    # we are looking at relative errors. \n",
    "    loader = DataLoader(dataset=Dataset, batch_size=simLen, shuffle=False, num_workers=4)\n",
    "    X, Y, p_x, p_y = next(iter(loader))\n",
    "    print(X.shape, Y.shape, p_x.shape, p_y.shape)\n",
    "    z = []\n",
    "    p = []\n",
    "    for batch in loader:\n",
    "        X, Y, p_x, p_y = batch\n",
    "        z.append(SVD_autoencoder.encoder(X.to(device)).cpu())\n",
    "        p.append(p_x.cpu())\n",
    "        \n",
    "    z = torch.stack(z).reshape(-1, latentDim)\n",
    "    p = torch.stack(p).reshape(-1, p_x.size(1))\n",
    "    \n",
    "\n",
    "    v = np.arange(0, len(z), simLen)\n",
    "\n",
    "    sims = []\n",
    "    for idx in v:\n",
    "        sims.append((z[idx:idx+simLen],p[idx:idx+simLen]))\n",
    "    print('num_sims {}'.format(len(sims)))\n",
    "    return sims\n",
    "\n",
    "train_data = createSVDdataset(trainDataset, latentDim)\n",
    "test_data = createSVDdataset(testDataset, latentDim)"
   ]
  },
  {
   "cell_type": "code",
   "execution_count": 16,
   "metadata": {
    "ExecuteTime": {
     "end_time": "2020-11-17T20:24:40.267993Z",
     "start_time": "2020-11-17T20:24:40.263791Z"
    }
   },
   "outputs": [
    {
     "data": {
      "text/plain": [
       "(torch.Size([500, 64]), torch.Size([500, 2]))"
      ]
     },
     "execution_count": 16,
     "metadata": {},
     "output_type": "execute_result"
    }
   ],
   "source": [
    "train_data[0][0].shape, train_data[0][1].shape"
   ]
  },
  {
   "cell_type": "code",
   "execution_count": 17,
   "metadata": {
    "ExecuteTime": {
     "end_time": "2020-11-17T20:24:40.282495Z",
     "start_time": "2020-11-17T20:24:40.269835Z"
    }
   },
   "outputs": [],
   "source": [
    "# reduce the dimensions of z down to the latentDim \n",
    "for idx,d in enumerate(train_data):\n",
    "    X = d[0][:,:latentDim]\n",
    "    p = d[1]\n",
    "    train_data[idx] = (X,p)\n",
    "    \n",
    "for idx,d in enumerate(test_data):\n",
    "    X = d[0][:,:latentDim]\n",
    "    p = d[1]\n",
    "    test_data[idx] = (X,p)"
   ]
  },
  {
   "cell_type": "code",
   "execution_count": 18,
   "metadata": {
    "ExecuteTime": {
     "end_time": "2020-11-17T20:24:40.303320Z",
     "start_time": "2020-11-17T20:24:40.284366Z"
    }
   },
   "outputs": [
    {
     "name": "stdout",
     "output_type": "stream",
     "text": [
      "tensor([[0.0031, 0.0000],\n",
      "        [0.0031, 0.0020],\n",
      "        [0.0031, 0.0040],\n",
      "        [0.0031, 0.0060],\n",
      "        [0.0031, 0.0080],\n",
      "        [0.0031, 0.0100],\n",
      "        [0.0031, 0.0120],\n",
      "        [0.0031, 0.0140],\n",
      "        [0.0031, 0.0160],\n",
      "        [0.0031, 0.0180],\n",
      "        [0.0031, 0.0200],\n",
      "        [0.0031, 0.0220],\n",
      "        [0.0031, 0.0240],\n",
      "        [0.0031, 0.0261],\n",
      "        [0.0031, 0.0281],\n",
      "        [0.0031, 0.0301],\n",
      "        [0.0031, 0.0321],\n",
      "        [0.0031, 0.0341],\n",
      "        [0.0031, 0.0361],\n",
      "        [0.0031, 0.0381],\n",
      "        [0.0031, 0.0401],\n",
      "        [0.0031, 0.0421],\n",
      "        [0.0031, 0.0441],\n",
      "        [0.0031, 0.0461],\n",
      "        [0.0031, 0.0481],\n",
      "        [0.0031, 0.0501],\n",
      "        [0.0031, 0.0521],\n",
      "        [0.0031, 0.0541],\n",
      "        [0.0031, 0.0561],\n",
      "        [0.0031, 0.0581],\n",
      "        [0.0031, 0.0601],\n",
      "        [0.0031, 0.0621],\n",
      "        [0.0031, 0.0641],\n",
      "        [0.0031, 0.0661],\n",
      "        [0.0031, 0.0681],\n",
      "        [0.0031, 0.0701],\n",
      "        [0.0031, 0.0721],\n",
      "        [0.0031, 0.0741],\n",
      "        [0.0031, 0.0762],\n",
      "        [0.0031, 0.0782],\n",
      "        [0.0031, 0.0802],\n",
      "        [0.0031, 0.0822],\n",
      "        [0.0031, 0.0842],\n",
      "        [0.0031, 0.0862],\n",
      "        [0.0031, 0.0882],\n",
      "        [0.0031, 0.0902],\n",
      "        [0.0031, 0.0922],\n",
      "        [0.0031, 0.0942],\n",
      "        [0.0031, 0.0962],\n",
      "        [0.0031, 0.0982],\n",
      "        [0.0031, 0.1002],\n",
      "        [0.0031, 0.1022],\n",
      "        [0.0031, 0.1042],\n",
      "        [0.0031, 0.1062],\n",
      "        [0.0031, 0.1082],\n",
      "        [0.0031, 0.1102],\n",
      "        [0.0031, 0.1122],\n",
      "        [0.0031, 0.1142],\n",
      "        [0.0031, 0.1162],\n",
      "        [0.0031, 0.1182],\n",
      "        [0.0031, 0.1202],\n",
      "        [0.0031, 0.1222],\n",
      "        [0.0031, 0.1242],\n",
      "        [0.0031, 0.1263],\n",
      "        [0.0031, 0.1283],\n",
      "        [0.0031, 0.1303],\n",
      "        [0.0031, 0.1323],\n",
      "        [0.0031, 0.1343],\n",
      "        [0.0031, 0.1363],\n",
      "        [0.0031, 0.1383],\n",
      "        [0.0031, 0.1403],\n",
      "        [0.0031, 0.1423],\n",
      "        [0.0031, 0.1443],\n",
      "        [0.0031, 0.1463],\n",
      "        [0.0031, 0.1483],\n",
      "        [0.0031, 0.1503],\n",
      "        [0.0031, 0.1523],\n",
      "        [0.0031, 0.1543],\n",
      "        [0.0031, 0.1563],\n",
      "        [0.0031, 0.1583],\n",
      "        [0.0031, 0.1603],\n",
      "        [0.0031, 0.1623],\n",
      "        [0.0031, 0.1643],\n",
      "        [0.0031, 0.1663],\n",
      "        [0.0031, 0.1683],\n",
      "        [0.0031, 0.1703],\n",
      "        [0.0031, 0.1723],\n",
      "        [0.0031, 0.1743],\n",
      "        [0.0031, 0.1764],\n",
      "        [0.0031, 0.1784],\n",
      "        [0.0031, 0.1804],\n",
      "        [0.0031, 0.1824],\n",
      "        [0.0031, 0.1844],\n",
      "        [0.0031, 0.1864],\n",
      "        [0.0031, 0.1884],\n",
      "        [0.0031, 0.1904],\n",
      "        [0.0031, 0.1924],\n",
      "        [0.0031, 0.1944],\n",
      "        [0.0031, 0.1964],\n",
      "        [0.0031, 0.1984],\n",
      "        [0.0031, 0.2004],\n",
      "        [0.0031, 0.2024],\n",
      "        [0.0031, 0.2044],\n",
      "        [0.0031, 0.2064],\n",
      "        [0.0031, 0.2084],\n",
      "        [0.0031, 0.2104],\n",
      "        [0.0031, 0.2124],\n",
      "        [0.0031, 0.2144],\n",
      "        [0.0031, 0.2164],\n",
      "        [0.0031, 0.2184],\n",
      "        [0.0031, 0.2204],\n",
      "        [0.0031, 0.2224],\n",
      "        [0.0031, 0.2244],\n",
      "        [0.0031, 0.2265],\n",
      "        [0.0031, 0.2285],\n",
      "        [0.0031, 0.2305],\n",
      "        [0.0031, 0.2325],\n",
      "        [0.0031, 0.2345],\n",
      "        [0.0031, 0.2365],\n",
      "        [0.0031, 0.2385],\n",
      "        [0.0031, 0.2405],\n",
      "        [0.0031, 0.2425],\n",
      "        [0.0031, 0.2445],\n",
      "        [0.0031, 0.2465],\n",
      "        [0.0031, 0.2485],\n",
      "        [0.0031, 0.2505],\n",
      "        [0.0031, 0.2525],\n",
      "        [0.0031, 0.2545],\n",
      "        [0.0031, 0.2565],\n",
      "        [0.0031, 0.2585],\n",
      "        [0.0031, 0.2605],\n",
      "        [0.0031, 0.2625],\n",
      "        [0.0031, 0.2645],\n",
      "        [0.0031, 0.2665],\n",
      "        [0.0031, 0.2685],\n",
      "        [0.0031, 0.2705],\n",
      "        [0.0031, 0.2725],\n",
      "        [0.0031, 0.2745],\n",
      "        [0.0031, 0.2766],\n",
      "        [0.0031, 0.2786],\n",
      "        [0.0031, 0.2806],\n",
      "        [0.0031, 0.2826],\n",
      "        [0.0031, 0.2846],\n",
      "        [0.0031, 0.2866],\n",
      "        [0.0031, 0.2886],\n",
      "        [0.0031, 0.2906],\n",
      "        [0.0031, 0.2926],\n",
      "        [0.0031, 0.2946],\n",
      "        [0.0031, 0.2966],\n",
      "        [0.0031, 0.2986],\n",
      "        [0.0031, 0.3006],\n",
      "        [0.0031, 0.3026],\n",
      "        [0.0031, 0.3046],\n",
      "        [0.0031, 0.3066],\n",
      "        [0.0031, 0.3086],\n",
      "        [0.0031, 0.3106],\n",
      "        [0.0031, 0.3126],\n",
      "        [0.0031, 0.3146],\n",
      "        [0.0031, 0.3166],\n",
      "        [0.0031, 0.3186],\n",
      "        [0.0031, 0.3206],\n",
      "        [0.0031, 0.3226],\n",
      "        [0.0031, 0.3246],\n",
      "        [0.0031, 0.3267],\n",
      "        [0.0031, 0.3287],\n",
      "        [0.0031, 0.3307],\n",
      "        [0.0031, 0.3327],\n",
      "        [0.0031, 0.3347],\n",
      "        [0.0031, 0.3367],\n",
      "        [0.0031, 0.3387],\n",
      "        [0.0031, 0.3407],\n",
      "        [0.0031, 0.3427],\n",
      "        [0.0031, 0.3447],\n",
      "        [0.0031, 0.3467],\n",
      "        [0.0031, 0.3487],\n",
      "        [0.0031, 0.3507],\n",
      "        [0.0031, 0.3527],\n",
      "        [0.0031, 0.3547],\n",
      "        [0.0031, 0.3567],\n",
      "        [0.0031, 0.3587],\n",
      "        [0.0031, 0.3607],\n",
      "        [0.0031, 0.3627],\n",
      "        [0.0031, 0.3647],\n",
      "        [0.0031, 0.3667],\n",
      "        [0.0031, 0.3687],\n",
      "        [0.0031, 0.3707],\n",
      "        [0.0031, 0.3727],\n",
      "        [0.0031, 0.3747],\n",
      "        [0.0031, 0.3768],\n",
      "        [0.0031, 0.3788],\n",
      "        [0.0031, 0.3808],\n",
      "        [0.0031, 0.3828],\n",
      "        [0.0031, 0.3848],\n",
      "        [0.0031, 0.3868],\n",
      "        [0.0031, 0.3888],\n",
      "        [0.0031, 0.3908],\n",
      "        [0.0031, 0.3928],\n",
      "        [0.0031, 0.3948],\n",
      "        [0.0031, 0.3968],\n",
      "        [0.0031, 0.3988],\n",
      "        [0.0031, 0.4008],\n",
      "        [0.0031, 0.4028],\n",
      "        [0.0031, 0.4048],\n",
      "        [0.0031, 0.4068],\n",
      "        [0.0031, 0.4088],\n",
      "        [0.0031, 0.4108],\n",
      "        [0.0031, 0.4128],\n",
      "        [0.0031, 0.4148],\n",
      "        [0.0031, 0.4168],\n",
      "        [0.0031, 0.4188],\n",
      "        [0.0031, 0.4208],\n",
      "        [0.0031, 0.4228],\n",
      "        [0.0031, 0.4248],\n",
      "        [0.0031, 0.4269],\n",
      "        [0.0031, 0.4289],\n",
      "        [0.0031, 0.4309],\n",
      "        [0.0031, 0.4329],\n",
      "        [0.0031, 0.4349],\n",
      "        [0.0031, 0.4369],\n",
      "        [0.0031, 0.4389],\n",
      "        [0.0031, 0.4409],\n",
      "        [0.0031, 0.4429],\n",
      "        [0.0031, 0.4449],\n",
      "        [0.0031, 0.4469],\n",
      "        [0.0031, 0.4489],\n",
      "        [0.0031, 0.4509],\n",
      "        [0.0031, 0.4529],\n",
      "        [0.0031, 0.4549],\n",
      "        [0.0031, 0.4569],\n",
      "        [0.0031, 0.4589],\n",
      "        [0.0031, 0.4609],\n",
      "        [0.0031, 0.4629],\n",
      "        [0.0031, 0.4649],\n",
      "        [0.0031, 0.4669],\n",
      "        [0.0031, 0.4689],\n",
      "        [0.0031, 0.4709],\n",
      "        [0.0031, 0.4729],\n",
      "        [0.0031, 0.4749],\n",
      "        [0.0031, 0.4770],\n",
      "        [0.0031, 0.4790],\n",
      "        [0.0031, 0.4810],\n",
      "        [0.0031, 0.4830],\n",
      "        [0.0031, 0.4850],\n",
      "        [0.0031, 0.4870],\n",
      "        [0.0031, 0.4890],\n",
      "        [0.0031, 0.4910],\n",
      "        [0.0031, 0.4930],\n",
      "        [0.0031, 0.4950],\n",
      "        [0.0031, 0.4970],\n",
      "        [0.0031, 0.4990],\n",
      "        [0.0031, 0.5010],\n",
      "        [0.0031, 0.5030],\n",
      "        [0.0031, 0.5050],\n",
      "        [0.0031, 0.5070],\n",
      "        [0.0031, 0.5090],\n",
      "        [0.0031, 0.5110],\n",
      "        [0.0031, 0.5130],\n",
      "        [0.0031, 0.5150],\n",
      "        [0.0031, 0.5170],\n",
      "        [0.0031, 0.5190],\n",
      "        [0.0031, 0.5210],\n",
      "        [0.0031, 0.5230],\n",
      "        [0.0031, 0.5251],\n",
      "        [0.0031, 0.5271],\n",
      "        [0.0031, 0.5291],\n",
      "        [0.0031, 0.5311],\n",
      "        [0.0031, 0.5331],\n",
      "        [0.0031, 0.5351],\n",
      "        [0.0031, 0.5371],\n",
      "        [0.0031, 0.5391],\n",
      "        [0.0031, 0.5411],\n",
      "        [0.0031, 0.5431],\n",
      "        [0.0031, 0.5451],\n",
      "        [0.0031, 0.5471],\n",
      "        [0.0031, 0.5491],\n",
      "        [0.0031, 0.5511],\n",
      "        [0.0031, 0.5531],\n",
      "        [0.0031, 0.5551],\n",
      "        [0.0031, 0.5571],\n",
      "        [0.0031, 0.5591],\n",
      "        [0.0031, 0.5611],\n",
      "        [0.0031, 0.5631],\n",
      "        [0.0031, 0.5651],\n",
      "        [0.0031, 0.5671],\n",
      "        [0.0031, 0.5691],\n",
      "        [0.0031, 0.5711],\n",
      "        [0.0031, 0.5731],\n",
      "        [0.0031, 0.5752],\n",
      "        [0.0031, 0.5772],\n",
      "        [0.0031, 0.5792],\n",
      "        [0.0031, 0.5812],\n",
      "        [0.0031, 0.5832],\n",
      "        [0.0031, 0.5852],\n",
      "        [0.0031, 0.5872],\n",
      "        [0.0031, 0.5892],\n",
      "        [0.0031, 0.5912],\n",
      "        [0.0031, 0.5932],\n",
      "        [0.0031, 0.5952],\n",
      "        [0.0031, 0.5972],\n",
      "        [0.0031, 0.5992],\n",
      "        [0.0031, 0.6012],\n",
      "        [0.0031, 0.6032],\n",
      "        [0.0031, 0.6052],\n",
      "        [0.0031, 0.6072],\n",
      "        [0.0031, 0.6092],\n",
      "        [0.0031, 0.6112],\n",
      "        [0.0031, 0.6132],\n",
      "        [0.0031, 0.6152],\n",
      "        [0.0031, 0.6172],\n",
      "        [0.0031, 0.6192],\n",
      "        [0.0031, 0.6212],\n",
      "        [0.0031, 0.6232],\n",
      "        [0.0031, 0.6253],\n",
      "        [0.0031, 0.6273],\n",
      "        [0.0031, 0.6293],\n",
      "        [0.0031, 0.6313],\n",
      "        [0.0031, 0.6333],\n",
      "        [0.0031, 0.6353],\n",
      "        [0.0031, 0.6373],\n",
      "        [0.0031, 0.6393],\n",
      "        [0.0031, 0.6413],\n",
      "        [0.0031, 0.6433],\n",
      "        [0.0031, 0.6453],\n",
      "        [0.0031, 0.6473],\n",
      "        [0.0031, 0.6493],\n",
      "        [0.0031, 0.6513],\n",
      "        [0.0031, 0.6533],\n",
      "        [0.0031, 0.6553],\n",
      "        [0.0031, 0.6573],\n",
      "        [0.0031, 0.6593],\n",
      "        [0.0031, 0.6613],\n",
      "        [0.0031, 0.6633],\n",
      "        [0.0031, 0.6653],\n",
      "        [0.0031, 0.6673],\n",
      "        [0.0031, 0.6693],\n",
      "        [0.0031, 0.6713],\n",
      "        [0.0031, 0.6733],\n",
      "        [0.0031, 0.6754],\n",
      "        [0.0031, 0.6774],\n",
      "        [0.0031, 0.6794],\n",
      "        [0.0031, 0.6814],\n",
      "        [0.0031, 0.6834],\n",
      "        [0.0031, 0.6854],\n",
      "        [0.0031, 0.6874],\n",
      "        [0.0031, 0.6894],\n",
      "        [0.0031, 0.6914],\n",
      "        [0.0031, 0.6934],\n",
      "        [0.0031, 0.6954],\n",
      "        [0.0031, 0.6974],\n",
      "        [0.0031, 0.6994],\n",
      "        [0.0031, 0.7014],\n",
      "        [0.0031, 0.7034],\n",
      "        [0.0031, 0.7054],\n",
      "        [0.0031, 0.7074],\n",
      "        [0.0031, 0.7094],\n",
      "        [0.0031, 0.7114],\n",
      "        [0.0031, 0.7134],\n",
      "        [0.0031, 0.7154],\n",
      "        [0.0031, 0.7174],\n",
      "        [0.0031, 0.7194],\n",
      "        [0.0031, 0.7214],\n",
      "        [0.0031, 0.7234],\n",
      "        [0.0031, 0.7255],\n",
      "        [0.0031, 0.7275],\n",
      "        [0.0031, 0.7295],\n",
      "        [0.0031, 0.7315],\n",
      "        [0.0031, 0.7335],\n",
      "        [0.0031, 0.7355],\n",
      "        [0.0031, 0.7375],\n",
      "        [0.0031, 0.7395],\n",
      "        [0.0031, 0.7415],\n",
      "        [0.0031, 0.7435],\n",
      "        [0.0031, 0.7455],\n",
      "        [0.0031, 0.7475],\n",
      "        [0.0031, 0.7495],\n",
      "        [0.0031, 0.7515],\n",
      "        [0.0031, 0.7535],\n",
      "        [0.0031, 0.7555],\n",
      "        [0.0031, 0.7575],\n",
      "        [0.0031, 0.7595],\n",
      "        [0.0031, 0.7615],\n",
      "        [0.0031, 0.7635],\n",
      "        [0.0031, 0.7655],\n",
      "        [0.0031, 0.7675],\n",
      "        [0.0031, 0.7695],\n",
      "        [0.0031, 0.7715],\n",
      "        [0.0031, 0.7735],\n",
      "        [0.0031, 0.7756],\n",
      "        [0.0031, 0.7776],\n",
      "        [0.0031, 0.7796],\n",
      "        [0.0031, 0.7816],\n",
      "        [0.0031, 0.7836],\n",
      "        [0.0031, 0.7856],\n",
      "        [0.0031, 0.7876],\n",
      "        [0.0031, 0.7896],\n",
      "        [0.0031, 0.7916],\n",
      "        [0.0031, 0.7936],\n",
      "        [0.0031, 0.7956],\n",
      "        [0.0031, 0.7976],\n",
      "        [0.0031, 0.7996],\n",
      "        [0.0031, 0.8016],\n",
      "        [0.0031, 0.8036],\n",
      "        [0.0031, 0.8056],\n",
      "        [0.0031, 0.8076],\n",
      "        [0.0031, 0.8096],\n",
      "        [0.0031, 0.8116],\n",
      "        [0.0031, 0.8136],\n",
      "        [0.0031, 0.8156],\n",
      "        [0.0031, 0.8176],\n",
      "        [0.0031, 0.8196],\n",
      "        [0.0031, 0.8216],\n",
      "        [0.0031, 0.8236],\n",
      "        [0.0031, 0.8257],\n",
      "        [0.0031, 0.8277],\n",
      "        [0.0031, 0.8297],\n",
      "        [0.0031, 0.8317],\n",
      "        [0.0031, 0.8337],\n",
      "        [0.0031, 0.8357],\n",
      "        [0.0031, 0.8377],\n",
      "        [0.0031, 0.8397],\n",
      "        [0.0031, 0.8417],\n",
      "        [0.0031, 0.8437],\n",
      "        [0.0031, 0.8457],\n",
      "        [0.0031, 0.8477],\n",
      "        [0.0031, 0.8497],\n",
      "        [0.0031, 0.8517],\n",
      "        [0.0031, 0.8537],\n",
      "        [0.0031, 0.8557],\n",
      "        [0.0031, 0.8577],\n",
      "        [0.0031, 0.8597],\n",
      "        [0.0031, 0.8617],\n",
      "        [0.0031, 0.8637],\n",
      "        [0.0031, 0.8657],\n",
      "        [0.0031, 0.8677],\n",
      "        [0.0031, 0.8697],\n",
      "        [0.0031, 0.8717],\n",
      "        [0.0031, 0.8737],\n",
      "        [0.0031, 0.8758],\n",
      "        [0.0031, 0.8778],\n",
      "        [0.0031, 0.8798],\n",
      "        [0.0031, 0.8818],\n",
      "        [0.0031, 0.8838],\n",
      "        [0.0031, 0.8858],\n",
      "        [0.0031, 0.8878],\n",
      "        [0.0031, 0.8898],\n",
      "        [0.0031, 0.8918],\n",
      "        [0.0031, 0.8938],\n",
      "        [0.0031, 0.8958],\n",
      "        [0.0031, 0.8978],\n",
      "        [0.0031, 0.8998],\n",
      "        [0.0031, 0.9018],\n",
      "        [0.0031, 0.9038],\n",
      "        [0.0031, 0.9058],\n",
      "        [0.0031, 0.9078],\n",
      "        [0.0031, 0.9098],\n",
      "        [0.0031, 0.9118],\n",
      "        [0.0031, 0.9138],\n",
      "        [0.0031, 0.9158],\n",
      "        [0.0031, 0.9178],\n",
      "        [0.0031, 0.9198],\n",
      "        [0.0031, 0.9218],\n",
      "        [0.0031, 0.9238],\n",
      "        [0.0031, 0.9259],\n",
      "        [0.0031, 0.9279],\n",
      "        [0.0031, 0.9299],\n",
      "        [0.0031, 0.9319],\n",
      "        [0.0031, 0.9339],\n",
      "        [0.0031, 0.9359],\n",
      "        [0.0031, 0.9379],\n",
      "        [0.0031, 0.9399],\n",
      "        [0.0031, 0.9419],\n",
      "        [0.0031, 0.9439],\n",
      "        [0.0031, 0.9459],\n",
      "        [0.0031, 0.9479],\n",
      "        [0.0031, 0.9499],\n",
      "        [0.0031, 0.9519],\n",
      "        [0.0031, 0.9539],\n",
      "        [0.0031, 0.9559],\n",
      "        [0.0031, 0.9579],\n",
      "        [0.0031, 0.9599],\n",
      "        [0.0031, 0.9619],\n",
      "        [0.0031, 0.9639],\n",
      "        [0.0031, 0.9659],\n",
      "        [0.0031, 0.9679],\n",
      "        [0.0031, 0.9699],\n",
      "        [0.0031, 0.9719],\n",
      "        [0.0031, 0.9739],\n",
      "        [0.0031, 0.9760],\n",
      "        [0.0031, 0.9780],\n",
      "        [0.0031, 0.9800],\n",
      "        [0.0031, 0.9820],\n",
      "        [0.0031, 0.9840],\n",
      "        [0.0031, 0.9860],\n",
      "        [0.0031, 0.9880],\n",
      "        [0.0031, 0.9900],\n",
      "        [0.0031, 0.9920],\n",
      "        [0.0031, 0.9940],\n",
      "        [0.0031, 0.9960],\n",
      "        [0.0031, 0.9980],\n",
      "        [0.0031, 1.0000]])\n"
     ]
    }
   ],
   "source": [
    "print(train_data[0][1])"
   ]
  },
  {
   "cell_type": "code",
   "execution_count": 19,
   "metadata": {
    "ExecuteTime": {
     "end_time": "2020-11-17T20:24:40.319712Z",
     "start_time": "2020-11-17T20:24:40.304774Z"
    }
   },
   "outputs": [
    {
     "name": "stdout",
     "output_type": "stream",
     "text": [
      "tensor([[0.0100, 0.0000],\n",
      "        [0.0100, 0.0020],\n",
      "        [0.0100, 0.0040],\n",
      "        [0.0100, 0.0060],\n",
      "        [0.0100, 0.0080],\n",
      "        [0.0100, 0.0100],\n",
      "        [0.0100, 0.0120],\n",
      "        [0.0100, 0.0140],\n",
      "        [0.0100, 0.0160],\n",
      "        [0.0100, 0.0180],\n",
      "        [0.0100, 0.0200],\n",
      "        [0.0100, 0.0220],\n",
      "        [0.0100, 0.0240],\n",
      "        [0.0100, 0.0261],\n",
      "        [0.0100, 0.0281],\n",
      "        [0.0100, 0.0301],\n",
      "        [0.0100, 0.0321],\n",
      "        [0.0100, 0.0341],\n",
      "        [0.0100, 0.0361],\n",
      "        [0.0100, 0.0381],\n",
      "        [0.0100, 0.0401],\n",
      "        [0.0100, 0.0421],\n",
      "        [0.0100, 0.0441],\n",
      "        [0.0100, 0.0461],\n",
      "        [0.0100, 0.0481],\n",
      "        [0.0100, 0.0501],\n",
      "        [0.0100, 0.0521],\n",
      "        [0.0100, 0.0541],\n",
      "        [0.0100, 0.0561],\n",
      "        [0.0100, 0.0581],\n",
      "        [0.0100, 0.0601],\n",
      "        [0.0100, 0.0621],\n",
      "        [0.0100, 0.0641],\n",
      "        [0.0100, 0.0661],\n",
      "        [0.0100, 0.0681],\n",
      "        [0.0100, 0.0701],\n",
      "        [0.0100, 0.0721],\n",
      "        [0.0100, 0.0741],\n",
      "        [0.0100, 0.0762],\n",
      "        [0.0100, 0.0782],\n",
      "        [0.0100, 0.0802],\n",
      "        [0.0100, 0.0822],\n",
      "        [0.0100, 0.0842],\n",
      "        [0.0100, 0.0862],\n",
      "        [0.0100, 0.0882],\n",
      "        [0.0100, 0.0902],\n",
      "        [0.0100, 0.0922],\n",
      "        [0.0100, 0.0942],\n",
      "        [0.0100, 0.0962],\n",
      "        [0.0100, 0.0982],\n",
      "        [0.0100, 0.1002],\n",
      "        [0.0100, 0.1022],\n",
      "        [0.0100, 0.1042],\n",
      "        [0.0100, 0.1062],\n",
      "        [0.0100, 0.1082],\n",
      "        [0.0100, 0.1102],\n",
      "        [0.0100, 0.1122],\n",
      "        [0.0100, 0.1142],\n",
      "        [0.0100, 0.1162],\n",
      "        [0.0100, 0.1182],\n",
      "        [0.0100, 0.1202],\n",
      "        [0.0100, 0.1222],\n",
      "        [0.0100, 0.1242],\n",
      "        [0.0100, 0.1263],\n",
      "        [0.0100, 0.1283],\n",
      "        [0.0100, 0.1303],\n",
      "        [0.0100, 0.1323],\n",
      "        [0.0100, 0.1343],\n",
      "        [0.0100, 0.1363],\n",
      "        [0.0100, 0.1383],\n",
      "        [0.0100, 0.1403],\n",
      "        [0.0100, 0.1423],\n",
      "        [0.0100, 0.1443],\n",
      "        [0.0100, 0.1463],\n",
      "        [0.0100, 0.1483],\n",
      "        [0.0100, 0.1503],\n",
      "        [0.0100, 0.1523],\n",
      "        [0.0100, 0.1543],\n",
      "        [0.0100, 0.1563],\n",
      "        [0.0100, 0.1583],\n",
      "        [0.0100, 0.1603],\n",
      "        [0.0100, 0.1623],\n",
      "        [0.0100, 0.1643],\n",
      "        [0.0100, 0.1663],\n",
      "        [0.0100, 0.1683],\n",
      "        [0.0100, 0.1703],\n",
      "        [0.0100, 0.1723],\n",
      "        [0.0100, 0.1743],\n",
      "        [0.0100, 0.1764],\n",
      "        [0.0100, 0.1784],\n",
      "        [0.0100, 0.1804],\n",
      "        [0.0100, 0.1824],\n",
      "        [0.0100, 0.1844],\n",
      "        [0.0100, 0.1864],\n",
      "        [0.0100, 0.1884],\n",
      "        [0.0100, 0.1904],\n",
      "        [0.0100, 0.1924],\n",
      "        [0.0100, 0.1944],\n",
      "        [0.0100, 0.1964],\n",
      "        [0.0100, 0.1984],\n",
      "        [0.0100, 0.2004],\n",
      "        [0.0100, 0.2024],\n",
      "        [0.0100, 0.2044],\n",
      "        [0.0100, 0.2064],\n",
      "        [0.0100, 0.2084],\n",
      "        [0.0100, 0.2104],\n",
      "        [0.0100, 0.2124],\n",
      "        [0.0100, 0.2144],\n",
      "        [0.0100, 0.2164],\n",
      "        [0.0100, 0.2184],\n",
      "        [0.0100, 0.2204],\n",
      "        [0.0100, 0.2224],\n",
      "        [0.0100, 0.2244],\n",
      "        [0.0100, 0.2265],\n",
      "        [0.0100, 0.2285],\n",
      "        [0.0100, 0.2305],\n",
      "        [0.0100, 0.2325],\n",
      "        [0.0100, 0.2345],\n",
      "        [0.0100, 0.2365],\n",
      "        [0.0100, 0.2385],\n",
      "        [0.0100, 0.2405],\n",
      "        [0.0100, 0.2425],\n",
      "        [0.0100, 0.2445],\n",
      "        [0.0100, 0.2465],\n",
      "        [0.0100, 0.2485],\n",
      "        [0.0100, 0.2505],\n",
      "        [0.0100, 0.2525],\n",
      "        [0.0100, 0.2545],\n",
      "        [0.0100, 0.2565],\n",
      "        [0.0100, 0.2585],\n",
      "        [0.0100, 0.2605],\n",
      "        [0.0100, 0.2625],\n",
      "        [0.0100, 0.2645],\n",
      "        [0.0100, 0.2665],\n",
      "        [0.0100, 0.2685],\n",
      "        [0.0100, 0.2705],\n",
      "        [0.0100, 0.2725],\n",
      "        [0.0100, 0.2745],\n",
      "        [0.0100, 0.2766],\n",
      "        [0.0100, 0.2786],\n",
      "        [0.0100, 0.2806],\n",
      "        [0.0100, 0.2826],\n",
      "        [0.0100, 0.2846],\n",
      "        [0.0100, 0.2866],\n",
      "        [0.0100, 0.2886],\n",
      "        [0.0100, 0.2906],\n",
      "        [0.0100, 0.2926],\n",
      "        [0.0100, 0.2946],\n",
      "        [0.0100, 0.2966],\n",
      "        [0.0100, 0.2986],\n",
      "        [0.0100, 0.3006],\n",
      "        [0.0100, 0.3026],\n",
      "        [0.0100, 0.3046],\n",
      "        [0.0100, 0.3066],\n",
      "        [0.0100, 0.3086],\n",
      "        [0.0100, 0.3106],\n",
      "        [0.0100, 0.3126],\n",
      "        [0.0100, 0.3146],\n",
      "        [0.0100, 0.3166],\n",
      "        [0.0100, 0.3186],\n",
      "        [0.0100, 0.3206],\n",
      "        [0.0100, 0.3226],\n",
      "        [0.0100, 0.3246],\n",
      "        [0.0100, 0.3267],\n",
      "        [0.0100, 0.3287],\n",
      "        [0.0100, 0.3307],\n",
      "        [0.0100, 0.3327],\n",
      "        [0.0100, 0.3347],\n",
      "        [0.0100, 0.3367],\n",
      "        [0.0100, 0.3387],\n",
      "        [0.0100, 0.3407],\n",
      "        [0.0100, 0.3427],\n",
      "        [0.0100, 0.3447],\n",
      "        [0.0100, 0.3467],\n",
      "        [0.0100, 0.3487],\n",
      "        [0.0100, 0.3507],\n",
      "        [0.0100, 0.3527],\n",
      "        [0.0100, 0.3547],\n",
      "        [0.0100, 0.3567],\n",
      "        [0.0100, 0.3587],\n",
      "        [0.0100, 0.3607],\n",
      "        [0.0100, 0.3627],\n",
      "        [0.0100, 0.3647],\n",
      "        [0.0100, 0.3667],\n",
      "        [0.0100, 0.3687],\n",
      "        [0.0100, 0.3707],\n",
      "        [0.0100, 0.3727],\n",
      "        [0.0100, 0.3747],\n",
      "        [0.0100, 0.3768],\n",
      "        [0.0100, 0.3788],\n",
      "        [0.0100, 0.3808],\n",
      "        [0.0100, 0.3828],\n",
      "        [0.0100, 0.3848],\n",
      "        [0.0100, 0.3868],\n",
      "        [0.0100, 0.3888],\n",
      "        [0.0100, 0.3908],\n",
      "        [0.0100, 0.3928],\n",
      "        [0.0100, 0.3948],\n",
      "        [0.0100, 0.3968],\n",
      "        [0.0100, 0.3988],\n",
      "        [0.0100, 0.4008],\n",
      "        [0.0100, 0.4028],\n",
      "        [0.0100, 0.4048],\n",
      "        [0.0100, 0.4068],\n",
      "        [0.0100, 0.4088],\n",
      "        [0.0100, 0.4108],\n",
      "        [0.0100, 0.4128],\n",
      "        [0.0100, 0.4148],\n",
      "        [0.0100, 0.4168],\n",
      "        [0.0100, 0.4188],\n",
      "        [0.0100, 0.4208],\n",
      "        [0.0100, 0.4228],\n",
      "        [0.0100, 0.4248],\n",
      "        [0.0100, 0.4269],\n",
      "        [0.0100, 0.4289],\n",
      "        [0.0100, 0.4309],\n",
      "        [0.0100, 0.4329],\n",
      "        [0.0100, 0.4349],\n",
      "        [0.0100, 0.4369],\n",
      "        [0.0100, 0.4389],\n",
      "        [0.0100, 0.4409],\n",
      "        [0.0100, 0.4429],\n",
      "        [0.0100, 0.4449],\n",
      "        [0.0100, 0.4469],\n",
      "        [0.0100, 0.4489],\n",
      "        [0.0100, 0.4509],\n",
      "        [0.0100, 0.4529],\n",
      "        [0.0100, 0.4549],\n",
      "        [0.0100, 0.4569],\n",
      "        [0.0100, 0.4589],\n",
      "        [0.0100, 0.4609],\n",
      "        [0.0100, 0.4629],\n",
      "        [0.0100, 0.4649],\n",
      "        [0.0100, 0.4669],\n",
      "        [0.0100, 0.4689],\n",
      "        [0.0100, 0.4709],\n",
      "        [0.0100, 0.4729],\n",
      "        [0.0100, 0.4749],\n",
      "        [0.0100, 0.4770],\n",
      "        [0.0100, 0.4790],\n",
      "        [0.0100, 0.4810],\n",
      "        [0.0100, 0.4830],\n",
      "        [0.0100, 0.4850],\n",
      "        [0.0100, 0.4870],\n",
      "        [0.0100, 0.4890],\n",
      "        [0.0100, 0.4910],\n",
      "        [0.0100, 0.4930],\n",
      "        [0.0100, 0.4950],\n",
      "        [0.0100, 0.4970],\n",
      "        [0.0100, 0.4990],\n",
      "        [0.0100, 0.5010],\n",
      "        [0.0100, 0.5030],\n",
      "        [0.0100, 0.5050],\n",
      "        [0.0100, 0.5070],\n",
      "        [0.0100, 0.5090],\n",
      "        [0.0100, 0.5110],\n",
      "        [0.0100, 0.5130],\n",
      "        [0.0100, 0.5150],\n",
      "        [0.0100, 0.5170],\n",
      "        [0.0100, 0.5190],\n",
      "        [0.0100, 0.5210],\n",
      "        [0.0100, 0.5230],\n",
      "        [0.0100, 0.5251],\n",
      "        [0.0100, 0.5271],\n",
      "        [0.0100, 0.5291],\n",
      "        [0.0100, 0.5311],\n",
      "        [0.0100, 0.5331],\n",
      "        [0.0100, 0.5351],\n",
      "        [0.0100, 0.5371],\n",
      "        [0.0100, 0.5391],\n",
      "        [0.0100, 0.5411],\n",
      "        [0.0100, 0.5431],\n",
      "        [0.0100, 0.5451],\n",
      "        [0.0100, 0.5471],\n",
      "        [0.0100, 0.5491],\n",
      "        [0.0100, 0.5511],\n",
      "        [0.0100, 0.5531],\n",
      "        [0.0100, 0.5551],\n",
      "        [0.0100, 0.5571],\n",
      "        [0.0100, 0.5591],\n",
      "        [0.0100, 0.5611],\n",
      "        [0.0100, 0.5631],\n",
      "        [0.0100, 0.5651],\n",
      "        [0.0100, 0.5671],\n",
      "        [0.0100, 0.5691],\n",
      "        [0.0100, 0.5711],\n",
      "        [0.0100, 0.5731],\n",
      "        [0.0100, 0.5752],\n",
      "        [0.0100, 0.5772],\n",
      "        [0.0100, 0.5792],\n",
      "        [0.0100, 0.5812],\n",
      "        [0.0100, 0.5832],\n",
      "        [0.0100, 0.5852],\n",
      "        [0.0100, 0.5872],\n",
      "        [0.0100, 0.5892],\n",
      "        [0.0100, 0.5912],\n",
      "        [0.0100, 0.5932],\n",
      "        [0.0100, 0.5952],\n",
      "        [0.0100, 0.5972],\n",
      "        [0.0100, 0.5992],\n",
      "        [0.0100, 0.6012],\n",
      "        [0.0100, 0.6032],\n",
      "        [0.0100, 0.6052],\n",
      "        [0.0100, 0.6072],\n",
      "        [0.0100, 0.6092],\n",
      "        [0.0100, 0.6112],\n",
      "        [0.0100, 0.6132],\n",
      "        [0.0100, 0.6152],\n",
      "        [0.0100, 0.6172],\n",
      "        [0.0100, 0.6192],\n",
      "        [0.0100, 0.6212],\n",
      "        [0.0100, 0.6232],\n",
      "        [0.0100, 0.6253],\n",
      "        [0.0100, 0.6273],\n",
      "        [0.0100, 0.6293],\n",
      "        [0.0100, 0.6313],\n",
      "        [0.0100, 0.6333],\n",
      "        [0.0100, 0.6353],\n",
      "        [0.0100, 0.6373],\n",
      "        [0.0100, 0.6393],\n",
      "        [0.0100, 0.6413],\n",
      "        [0.0100, 0.6433],\n",
      "        [0.0100, 0.6453],\n",
      "        [0.0100, 0.6473],\n",
      "        [0.0100, 0.6493],\n",
      "        [0.0100, 0.6513],\n",
      "        [0.0100, 0.6533],\n",
      "        [0.0100, 0.6553],\n",
      "        [0.0100, 0.6573],\n",
      "        [0.0100, 0.6593],\n",
      "        [0.0100, 0.6613],\n",
      "        [0.0100, 0.6633],\n",
      "        [0.0100, 0.6653],\n",
      "        [0.0100, 0.6673],\n",
      "        [0.0100, 0.6693],\n",
      "        [0.0100, 0.6713],\n",
      "        [0.0100, 0.6733],\n",
      "        [0.0100, 0.6754],\n",
      "        [0.0100, 0.6774],\n",
      "        [0.0100, 0.6794],\n",
      "        [0.0100, 0.6814],\n",
      "        [0.0100, 0.6834],\n",
      "        [0.0100, 0.6854],\n",
      "        [0.0100, 0.6874],\n",
      "        [0.0100, 0.6894],\n",
      "        [0.0100, 0.6914],\n",
      "        [0.0100, 0.6934],\n",
      "        [0.0100, 0.6954],\n",
      "        [0.0100, 0.6974],\n",
      "        [0.0100, 0.6994],\n",
      "        [0.0100, 0.7014],\n",
      "        [0.0100, 0.7034],\n",
      "        [0.0100, 0.7054],\n",
      "        [0.0100, 0.7074],\n",
      "        [0.0100, 0.7094],\n",
      "        [0.0100, 0.7114],\n",
      "        [0.0100, 0.7134],\n",
      "        [0.0100, 0.7154],\n",
      "        [0.0100, 0.7174],\n",
      "        [0.0100, 0.7194],\n",
      "        [0.0100, 0.7214],\n",
      "        [0.0100, 0.7234],\n",
      "        [0.0100, 0.7255],\n",
      "        [0.0100, 0.7275],\n",
      "        [0.0100, 0.7295],\n",
      "        [0.0100, 0.7315],\n",
      "        [0.0100, 0.7335],\n",
      "        [0.0100, 0.7355],\n",
      "        [0.0100, 0.7375],\n",
      "        [0.0100, 0.7395],\n",
      "        [0.0100, 0.7415],\n",
      "        [0.0100, 0.7435],\n",
      "        [0.0100, 0.7455],\n",
      "        [0.0100, 0.7475],\n",
      "        [0.0100, 0.7495],\n",
      "        [0.0100, 0.7515],\n",
      "        [0.0100, 0.7535],\n",
      "        [0.0100, 0.7555],\n",
      "        [0.0100, 0.7575],\n",
      "        [0.0100, 0.7595],\n",
      "        [0.0100, 0.7615],\n",
      "        [0.0100, 0.7635],\n",
      "        [0.0100, 0.7655],\n",
      "        [0.0100, 0.7675],\n",
      "        [0.0100, 0.7695],\n",
      "        [0.0100, 0.7715],\n",
      "        [0.0100, 0.7735],\n",
      "        [0.0100, 0.7756],\n",
      "        [0.0100, 0.7776],\n",
      "        [0.0100, 0.7796],\n",
      "        [0.0100, 0.7816],\n",
      "        [0.0100, 0.7836],\n",
      "        [0.0100, 0.7856],\n",
      "        [0.0100, 0.7876],\n",
      "        [0.0100, 0.7896],\n",
      "        [0.0100, 0.7916],\n",
      "        [0.0100, 0.7936],\n",
      "        [0.0100, 0.7956],\n",
      "        [0.0100, 0.7976],\n",
      "        [0.0100, 0.7996],\n",
      "        [0.0100, 0.8016],\n",
      "        [0.0100, 0.8036],\n",
      "        [0.0100, 0.8056],\n",
      "        [0.0100, 0.8076],\n",
      "        [0.0100, 0.8096],\n",
      "        [0.0100, 0.8116],\n",
      "        [0.0100, 0.8136],\n",
      "        [0.0100, 0.8156],\n",
      "        [0.0100, 0.8176],\n",
      "        [0.0100, 0.8196],\n",
      "        [0.0100, 0.8216],\n",
      "        [0.0100, 0.8236],\n",
      "        [0.0100, 0.8257],\n",
      "        [0.0100, 0.8277],\n",
      "        [0.0100, 0.8297],\n",
      "        [0.0100, 0.8317],\n",
      "        [0.0100, 0.8337],\n",
      "        [0.0100, 0.8357],\n",
      "        [0.0100, 0.8377],\n",
      "        [0.0100, 0.8397],\n",
      "        [0.0100, 0.8417],\n",
      "        [0.0100, 0.8437],\n",
      "        [0.0100, 0.8457],\n",
      "        [0.0100, 0.8477],\n",
      "        [0.0100, 0.8497],\n",
      "        [0.0100, 0.8517],\n",
      "        [0.0100, 0.8537],\n",
      "        [0.0100, 0.8557],\n",
      "        [0.0100, 0.8577],\n",
      "        [0.0100, 0.8597],\n",
      "        [0.0100, 0.8617],\n",
      "        [0.0100, 0.8637],\n",
      "        [0.0100, 0.8657],\n",
      "        [0.0100, 0.8677],\n",
      "        [0.0100, 0.8697],\n",
      "        [0.0100, 0.8717],\n",
      "        [0.0100, 0.8737],\n",
      "        [0.0100, 0.8758],\n",
      "        [0.0100, 0.8778],\n",
      "        [0.0100, 0.8798],\n",
      "        [0.0100, 0.8818],\n",
      "        [0.0100, 0.8838],\n",
      "        [0.0100, 0.8858],\n",
      "        [0.0100, 0.8878],\n",
      "        [0.0100, 0.8898],\n",
      "        [0.0100, 0.8918],\n",
      "        [0.0100, 0.8938],\n",
      "        [0.0100, 0.8958],\n",
      "        [0.0100, 0.8978],\n",
      "        [0.0100, 0.8998],\n",
      "        [0.0100, 0.9018],\n",
      "        [0.0100, 0.9038],\n",
      "        [0.0100, 0.9058],\n",
      "        [0.0100, 0.9078],\n",
      "        [0.0100, 0.9098],\n",
      "        [0.0100, 0.9118],\n",
      "        [0.0100, 0.9138],\n",
      "        [0.0100, 0.9158],\n",
      "        [0.0100, 0.9178],\n",
      "        [0.0100, 0.9198],\n",
      "        [0.0100, 0.9218],\n",
      "        [0.0100, 0.9238],\n",
      "        [0.0100, 0.9259],\n",
      "        [0.0100, 0.9279],\n",
      "        [0.0100, 0.9299],\n",
      "        [0.0100, 0.9319],\n",
      "        [0.0100, 0.9339],\n",
      "        [0.0100, 0.9359],\n",
      "        [0.0100, 0.9379],\n",
      "        [0.0100, 0.9399],\n",
      "        [0.0100, 0.9419],\n",
      "        [0.0100, 0.9439],\n",
      "        [0.0100, 0.9459],\n",
      "        [0.0100, 0.9479],\n",
      "        [0.0100, 0.9499],\n",
      "        [0.0100, 0.9519],\n",
      "        [0.0100, 0.9539],\n",
      "        [0.0100, 0.9559],\n",
      "        [0.0100, 0.9579],\n",
      "        [0.0100, 0.9599],\n",
      "        [0.0100, 0.9619],\n",
      "        [0.0100, 0.9639],\n",
      "        [0.0100, 0.9659],\n",
      "        [0.0100, 0.9679],\n",
      "        [0.0100, 0.9699],\n",
      "        [0.0100, 0.9719],\n",
      "        [0.0100, 0.9739],\n",
      "        [0.0100, 0.9760],\n",
      "        [0.0100, 0.9780],\n",
      "        [0.0100, 0.9800],\n",
      "        [0.0100, 0.9820],\n",
      "        [0.0100, 0.9840],\n",
      "        [0.0100, 0.9860],\n",
      "        [0.0100, 0.9880],\n",
      "        [0.0100, 0.9900],\n",
      "        [0.0100, 0.9920],\n",
      "        [0.0100, 0.9940],\n",
      "        [0.0100, 0.9960],\n",
      "        [0.0100, 0.9980],\n",
      "        [0.0100, 1.0000]])\n"
     ]
    }
   ],
   "source": [
    "print(test_data[-1][1])"
   ]
  },
  {
   "cell_type": "markdown",
   "metadata": {},
   "source": [
    "## Investigate how to preprocess the data"
   ]
  },
  {
   "cell_type": "code",
   "execution_count": 20,
   "metadata": {
    "ExecuteTime": {
     "end_time": "2020-11-17T20:24:40.324095Z",
     "start_time": "2020-11-17T20:24:40.320849Z"
    }
   },
   "outputs": [
    {
     "data": {
      "text/plain": [
       "(40, 10)"
      ]
     },
     "execution_count": 20,
     "metadata": {},
     "output_type": "execute_result"
    }
   ],
   "source": [
    "len(train_data), len(test_data)"
   ]
  },
  {
   "cell_type": "code",
   "execution_count": 21,
   "metadata": {
    "ExecuteTime": {
     "end_time": "2020-11-17T20:24:40.335437Z",
     "start_time": "2020-11-17T20:24:40.325291Z"
    }
   },
   "outputs": [
    {
     "data": {
      "text/plain": [
       "(20000, 66)"
      ]
     },
     "execution_count": 21,
     "metadata": {},
     "output_type": "execute_result"
    }
   ],
   "source": [
    "D = []\n",
    "for d in train_data:\n",
    "    D.append(np.hstack(d))\n",
    "D = np.vstack(D)\n",
    "D.shape"
   ]
  },
  {
   "cell_type": "code",
   "execution_count": 22,
   "metadata": {
    "ExecuteTime": {
     "end_time": "2020-11-17T20:24:40.339803Z",
     "start_time": "2020-11-17T20:24:40.336754Z"
    }
   },
   "outputs": [
    {
     "data": {
      "text/plain": [
       "-19.950754"
      ]
     },
     "execution_count": 22,
     "metadata": {},
     "output_type": "execute_result"
    }
   ],
   "source": [
    "D.min()"
   ]
  },
  {
   "cell_type": "code",
   "execution_count": 23,
   "metadata": {
    "ExecuteTime": {
     "end_time": "2020-11-17T20:24:40.469831Z",
     "start_time": "2020-11-17T20:24:40.341032Z"
    }
   },
   "outputs": [
    {
     "data": {
      "image/png": "[encoded data removed]",
      "text/plain": [
       "<Figure size 432x288 with 1 Axes>"
      ]
     },
     "metadata": {
      "needs_background": "light"
     },
     "output_type": "display_data"
    }
   ],
   "source": [
    "x_mx = np.max(D,axis=0)\n",
    "x_mn = np.min(D,axis=0)\n",
    "abs_x_mx = np.max(abs(D),axis=0)\n",
    "plt.plot(x_mx)\n",
    "plt.plot(x_mn)\n",
    "plt.plot(abs_x_mx)\n",
    "plt.show()"
   ]
  },
  {
   "cell_type": "markdown",
   "metadata": {},
   "source": [
    "## Dataset and Dataloader"
   ]
  },
  {
   "cell_type": "code",
   "execution_count": 24,
   "metadata": {
    "ExecuteTime": {
     "end_time": "2020-11-17T20:24:40.480148Z",
     "start_time": "2020-11-17T20:24:40.471148Z"
    }
   },
   "outputs": [],
   "source": [
    "class LatentVectors(Dataset):\n",
    "    def __init__(self, data,doPreprocess=False,w=1,simLen=200,abs_x_mx=abs_x_mx, memory=6):\n",
    "        self.data = data\n",
    "        self.doPreprocess = doPreprocess\n",
    "        self.simLen = simLen\n",
    "        self.w = w\n",
    "        self.abs_x_mx = abs_x_mx[:-2]\n",
    "        self.abs_p_mx = abs_x_mx[-2:]\n",
    "        self.memory= memory\n",
    "                 \n",
    "    def __len__(self):\n",
    "        return self.simLen*len(self.data)\n",
    "\n",
    "    def preprocess_x(self,x):\n",
    "        if x.shape[0] == self.abs_x_mx.shape[0]:\n",
    "            return x/self.abs_x_mx[:,None]\n",
    "        else:\n",
    "            return x/self.abs_x_mx\n",
    "\n",
    "    def preprocess_p(self,p):\n",
    "        if p.shape[0] == self.abs_p_mx.shape[0]:\n",
    "            return p/self.abs_p_mx[:,None]\n",
    "        else:\n",
    "            return p/self.abs_p_mx\n",
    "\n",
    "    def invPreprocess_x(self,xnew):\n",
    "        x = xnew*self.abs_x_mx\n",
    "        return x\n",
    "\n",
    "    def invPreprocess_p(self,pnew):\n",
    "        p = pnew*self.abs_p_mx\n",
    "        return p\n",
    "    \n",
    "    def __getitem__(self, idx):\n",
    "        q,r = np.divmod(idx,self.simLen)\n",
    "        X, p = self.data[q]\n",
    "        r_idx = np.random.randint(0,self.simLen-self.w)\n",
    "        \n",
    "        x = torch.zeros((latentDim, self.memory))\n",
    "        p_x = torch.zeros((2, self.memory))\n",
    "        \n",
    "        x[:,0] = X[r_idx:r_idx+1]\n",
    "        y = X[r_idx+1:r_idx+self.w+1]\n",
    "        \n",
    "        p_x[:,0] = p[r_idx:r_idx+1]\n",
    "        p_y = p[r_idx+1:r_idx+self.w+1]\n",
    "        \n",
    "        if self.doPreprocess:\n",
    "            x = self.preprocess_x(x)\n",
    "            y = self.preprocess_x(y)\n",
    "            p_x = self.preprocess_p(p_x)\n",
    "            p_y = self.preprocess_p(p_y)\n",
    "        \n",
    "        return x.squeeze(), y, p_x.squeeze(), p_y"
   ]
  },
  {
   "cell_type": "code",
   "execution_count": 25,
   "metadata": {
    "ExecuteTime": {
     "end_time": "2020-11-17T20:24:40.591679Z",
     "start_time": "2020-11-17T20:24:40.481440Z"
    }
   },
   "outputs": [
    {
     "data": {
      "text/plain": [
       "(torch.Size([64]), torch.Size([10, 64]), torch.Size([2]), torch.Size([10, 2]))"
      ]
     },
     "execution_count": 25,
     "metadata": {},
     "output_type": "execute_result"
    }
   ],
   "source": [
    "trainDataset = LatentVectors(train_data,doPreprocess=True,w=w,simLen=simLen,abs_x_mx=abs_x_mx,\n",
    "                             memory=memory_length)\n",
    "testDataset = LatentVectors(test_data,doPreprocess=True,w=w,simLen=simLen,abs_x_mx=abs_x_mx,memory=memory_length)\n",
    "X,y,p_x,p_y = trainDataset[-2000]\n",
    "X.shape,y.shape,p_x.shape,p_y.shape"
   ]
  },
  {
   "cell_type": "code",
   "execution_count": 26,
   "metadata": {
    "ExecuteTime": {
     "end_time": "2020-11-17T20:24:40.598568Z",
     "start_time": "2020-11-17T20:24:40.593099Z"
    }
   },
   "outputs": [
    {
     "data": {
      "text/plain": [
       "(20000, 625, 5000, 157)"
      ]
     },
     "execution_count": 26,
     "metadata": {},
     "output_type": "execute_result"
    }
   ],
   "source": [
    "trainDataLoader = DataLoader(dataset=trainDataset, batch_size=bz, shuffle=True, drop_last=True)\n",
    "testDataLoader = DataLoader(dataset=testDataset, batch_size=bz)\n",
    "len(trainDataset), len(trainDataLoader), len(testDataset), len(testDataLoader)"
   ]
  },
  {
   "cell_type": "code",
   "execution_count": 27,
   "metadata": {
    "ExecuteTime": {
     "end_time": "2020-11-17T20:24:40.615558Z",
     "start_time": "2020-11-17T20:24:40.599799Z"
    }
   },
   "outputs": [
    {
     "data": {
      "text/plain": [
       "(torch.Size([32, 64]),\n",
       " torch.Size([32, 10, 64]),\n",
       " torch.Size([32, 2]),\n",
       " torch.Size([32, 10, 2]))"
      ]
     },
     "execution_count": 27,
     "metadata": {},
     "output_type": "execute_result"
    }
   ],
   "source": [
    "X,y, p_x, p_y = next(iter(trainDataLoader))\n",
    "X = X.squeeze()\n",
    "p_x = p_x.squeeze()\n",
    "X.shape, y.shape, p_x.shape, p_y.shape"
   ]
  },
  {
   "cell_type": "code",
   "execution_count": 28,
   "metadata": {
    "ExecuteTime": {
     "end_time": "2020-11-17T20:24:40.626209Z",
     "start_time": "2020-11-17T20:24:40.616723Z"
    }
   },
   "outputs": [
    {
     "data": {
      "text/plain": [
       "tensor([[[0.3963, 0.4248],\n",
       "         [0.3963, 0.4269],\n",
       "         [0.3963, 0.4289],\n",
       "         [0.3963, 0.4309],\n",
       "         [0.3963, 0.4329],\n",
       "         [0.3963, 0.4349],\n",
       "         [0.3963, 0.4369],\n",
       "         [0.3963, 0.4389],\n",
       "         [0.3963, 0.4409],\n",
       "         [0.3963, 0.4429]],\n",
       "\n",
       "        [[0.5321, 0.5912],\n",
       "         [0.5321, 0.5932],\n",
       "         [0.5321, 0.5952],\n",
       "         [0.5321, 0.5972],\n",
       "         [0.5321, 0.5992],\n",
       "         [0.5321, 0.6012],\n",
       "         [0.5321, 0.6032],\n",
       "         [0.5321, 0.6052],\n",
       "         [0.5321, 0.6072],\n",
       "         [0.5321, 0.6092]],\n",
       "\n",
       "        [[0.7477, 0.1082],\n",
       "         [0.7477, 0.1102],\n",
       "         [0.7477, 0.1122],\n",
       "         [0.7477, 0.1142],\n",
       "         [0.7477, 0.1162],\n",
       "         [0.7477, 0.1182],\n",
       "         [0.7477, 0.1202],\n",
       "         [0.7477, 0.1222],\n",
       "         [0.7477, 0.1242],\n",
       "         [0.7477, 0.1263]],\n",
       "\n",
       "        [[0.1647, 0.4108],\n",
       "         [0.1647, 0.4128],\n",
       "         [0.1647, 0.4148],\n",
       "         [0.1647, 0.4168],\n",
       "         [0.1647, 0.4188],\n",
       "         [0.1647, 0.4208],\n",
       "         [0.1647, 0.4228],\n",
       "         [0.1647, 0.4248],\n",
       "         [0.1647, 0.4269],\n",
       "         [0.1647, 0.4289]],\n",
       "\n",
       "        [[0.2206, 0.7475],\n",
       "         [0.2206, 0.7495],\n",
       "         [0.2206, 0.7515],\n",
       "         [0.2206, 0.7535],\n",
       "         [0.2206, 0.7555],\n",
       "         [0.2206, 0.7575],\n",
       "         [0.2206, 0.7595],\n",
       "         [0.2206, 0.7615],\n",
       "         [0.2206, 0.7635],\n",
       "         [0.2206, 0.7655]],\n",
       "\n",
       "        [[0.1170, 0.3066],\n",
       "         [0.1170, 0.3086],\n",
       "         [0.1170, 0.3106],\n",
       "         [0.1170, 0.3126],\n",
       "         [0.1170, 0.3146],\n",
       "         [0.1170, 0.3166],\n",
       "         [0.1170, 0.3186],\n",
       "         [0.1170, 0.3206],\n",
       "         [0.1170, 0.3226],\n",
       "         [0.1170, 0.3246]],\n",
       "\n",
       "        [[0.3775, 0.2886],\n",
       "         [0.3775, 0.2906],\n",
       "         [0.3775, 0.2926],\n",
       "         [0.3775, 0.2946],\n",
       "         [0.3775, 0.2966],\n",
       "         [0.3775, 0.2986],\n",
       "         [0.3775, 0.3006],\n",
       "         [0.3775, 0.3026],\n",
       "         [0.3775, 0.3046],\n",
       "         [0.3775, 0.3066]],\n",
       "\n",
       "        [[0.8257, 0.3567],\n",
       "         [0.8257, 0.3587],\n",
       "         [0.8257, 0.3607],\n",
       "         [0.8257, 0.3627],\n",
       "         [0.8257, 0.3647],\n",
       "         [0.8257, 0.3667],\n",
       "         [0.8257, 0.3687],\n",
       "         [0.8257, 0.3707],\n",
       "         [0.8257, 0.3727],\n",
       "         [0.8257, 0.3747]],\n",
       "\n",
       "        [[0.1908, 0.5611],\n",
       "         [0.1908, 0.5631],\n",
       "         [0.1908, 0.5651],\n",
       "         [0.1908, 0.5671],\n",
       "         [0.1908, 0.5691],\n",
       "         [0.1908, 0.5711],\n",
       "         [0.1908, 0.5731],\n",
       "         [0.1908, 0.5752],\n",
       "         [0.1908, 0.5772],\n",
       "         [0.1908, 0.5792]],\n",
       "\n",
       "        [[0.0963, 0.4689],\n",
       "         [0.0963, 0.4709],\n",
       "         [0.0963, 0.4729],\n",
       "         [0.0963, 0.4749],\n",
       "         [0.0963, 0.4770],\n",
       "         [0.0963, 0.4790],\n",
       "         [0.0963, 0.4810],\n",
       "         [0.0963, 0.4830],\n",
       "         [0.0963, 0.4850],\n",
       "         [0.0963, 0.4870]],\n",
       "\n",
       "        [[0.2817, 0.3106],\n",
       "         [0.2817, 0.3126],\n",
       "         [0.2817, 0.3146],\n",
       "         [0.2817, 0.3166],\n",
       "         [0.2817, 0.3186],\n",
       "         [0.2817, 0.3206],\n",
       "         [0.2817, 0.3226],\n",
       "         [0.2817, 0.3246],\n",
       "         [0.2817, 0.3267],\n",
       "         [0.2817, 0.3287]],\n",
       "\n",
       "        [[0.3261, 0.0621],\n",
       "         [0.3261, 0.0641],\n",
       "         [0.3261, 0.0661],\n",
       "         [0.3261, 0.0681],\n",
       "         [0.3261, 0.0701],\n",
       "         [0.3261, 0.0721],\n",
       "         [0.3261, 0.0741],\n",
       "         [0.3261, 0.0762],\n",
       "         [0.3261, 0.0782],\n",
       "         [0.3261, 0.0802]],\n",
       "\n",
       "        [[0.3963, 0.3447],\n",
       "         [0.3963, 0.3467],\n",
       "         [0.3963, 0.3487],\n",
       "         [0.3963, 0.3507],\n",
       "         [0.3963, 0.3527],\n",
       "         [0.3963, 0.3547],\n",
       "         [0.3963, 0.3567],\n",
       "         [0.3963, 0.3587],\n",
       "         [0.3963, 0.3607],\n",
       "         [0.3963, 0.3627]],\n",
       "\n",
       "        [[0.1569, 0.3186],\n",
       "         [0.1569, 0.3206],\n",
       "         [0.1569, 0.3226],\n",
       "         [0.1569, 0.3246],\n",
       "         [0.1569, 0.3267],\n",
       "         [0.1569, 0.3287],\n",
       "         [0.1569, 0.3307],\n",
       "         [0.1569, 0.3327],\n",
       "         [0.1569, 0.3347],\n",
       "         [0.1569, 0.3367]],\n",
       "\n",
       "        [[0.7477, 0.4749],\n",
       "         [0.7477, 0.4770],\n",
       "         [0.7477, 0.4790],\n",
       "         [0.7477, 0.4810],\n",
       "         [0.7477, 0.4830],\n",
       "         [0.7477, 0.4850],\n",
       "         [0.7477, 0.4870],\n",
       "         [0.7477, 0.4890],\n",
       "         [0.7477, 0.4910],\n",
       "         [0.7477, 0.4930]],\n",
       "\n",
       "        [[0.2959, 0.7635],\n",
       "         [0.2959, 0.7655],\n",
       "         [0.2959, 0.7675],\n",
       "         [0.2959, 0.7695],\n",
       "         [0.2959, 0.7715],\n",
       "         [0.2959, 0.7735],\n",
       "         [0.2959, 0.7756],\n",
       "         [0.2959, 0.7776],\n",
       "         [0.2959, 0.7796],\n",
       "         [0.2959, 0.7816]],\n",
       "\n",
       "        [[0.2436, 0.5671],\n",
       "         [0.2436, 0.5691],\n",
       "         [0.2436, 0.5711],\n",
       "         [0.2436, 0.5731],\n",
       "         [0.2436, 0.5752],\n",
       "         [0.2436, 0.5772],\n",
       "         [0.2436, 0.5792],\n",
       "         [0.2436, 0.5812],\n",
       "         [0.2436, 0.5832],\n",
       "         [0.2436, 0.5852]],\n",
       "\n",
       "        [[0.6468, 0.7515],\n",
       "         [0.6468, 0.7535],\n",
       "         [0.6468, 0.7555],\n",
       "         [0.6468, 0.7575],\n",
       "         [0.6468, 0.7595],\n",
       "         [0.6468, 0.7615],\n",
       "         [0.6468, 0.7635],\n",
       "         [0.6468, 0.7655],\n",
       "         [0.6468, 0.7675],\n",
       "         [0.6468, 0.7695]],\n",
       "\n",
       "        [[0.1353, 0.8878],\n",
       "         [0.1353, 0.8898],\n",
       "         [0.1353, 0.8918],\n",
       "         [0.1353, 0.8938],\n",
       "         [0.1353, 0.8958],\n",
       "         [0.1353, 0.8978],\n",
       "         [0.1353, 0.8998],\n",
       "         [0.1353, 0.9018],\n",
       "         [0.1353, 0.9038],\n",
       "         [0.1353, 0.9058]],\n",
       "\n",
       "        [[0.5596, 0.2425],\n",
       "         [0.5596, 0.2445],\n",
       "         [0.5596, 0.2465],\n",
       "         [0.5596, 0.2485],\n",
       "         [0.5596, 0.2505],\n",
       "         [0.5596, 0.2525],\n",
       "         [0.5596, 0.2545],\n",
       "         [0.5596, 0.2565],\n",
       "         [0.5596, 0.2585],\n",
       "         [0.5596, 0.2605]],\n",
       "\n",
       "        [[0.5872, 0.7395],\n",
       "         [0.5872, 0.7415],\n",
       "         [0.5872, 0.7435],\n",
       "         [0.5872, 0.7455],\n",
       "         [0.5872, 0.7475],\n",
       "         [0.5872, 0.7495],\n",
       "         [0.5872, 0.7515],\n",
       "         [0.5872, 0.7535],\n",
       "         [0.5872, 0.7555],\n",
       "         [0.5872, 0.7575]],\n",
       "\n",
       "        [[0.1647, 0.9559],\n",
       "         [0.1647, 0.9579],\n",
       "         [0.1647, 0.9599],\n",
       "         [0.1647, 0.9619],\n",
       "         [0.1647, 0.9639],\n",
       "         [0.1647, 0.9659],\n",
       "         [0.1647, 0.9679],\n",
       "         [0.1647, 0.9699],\n",
       "         [0.1647, 0.9719],\n",
       "         [0.1647, 0.9739]],\n",
       "\n",
       "        [[0.7844, 0.6533],\n",
       "         [0.7844, 0.6553],\n",
       "         [0.7844, 0.6573],\n",
       "         [0.7844, 0.6593],\n",
       "         [0.7844, 0.6613],\n",
       "         [0.7844, 0.6633],\n",
       "         [0.7844, 0.6653],\n",
       "         [0.7844, 0.6673],\n",
       "         [0.7844, 0.6693],\n",
       "         [0.7844, 0.6713]],\n",
       "\n",
       "        [[0.3106, 0.6754],\n",
       "         [0.3106, 0.6774],\n",
       "         [0.3106, 0.6794],\n",
       "         [0.3106, 0.6814],\n",
       "         [0.3106, 0.6834],\n",
       "         [0.3106, 0.6854],\n",
       "         [0.3106, 0.6874],\n",
       "         [0.3106, 0.6894],\n",
       "         [0.3106, 0.6914],\n",
       "         [0.3106, 0.6934]],\n",
       "\n",
       "        [[0.1115, 0.9178],\n",
       "         [0.1115, 0.9198],\n",
       "         [0.1115, 0.9218],\n",
       "         [0.1115, 0.9238],\n",
       "         [0.1115, 0.9259],\n",
       "         [0.1115, 0.9279],\n",
       "         [0.1115, 0.9299],\n",
       "         [0.1115, 0.9319],\n",
       "         [0.1115, 0.9339],\n",
       "         [0.1115, 0.9359]],\n",
       "\n",
       "        [[0.7477, 0.7695],\n",
       "         [0.7477, 0.7715],\n",
       "         [0.7477, 0.7735],\n",
       "         [0.7477, 0.7756],\n",
       "         [0.7477, 0.7776],\n",
       "         [0.7477, 0.7796],\n",
       "         [0.7477, 0.7816],\n",
       "         [0.7477, 0.7836],\n",
       "         [0.7477, 0.7856],\n",
       "         [0.7477, 0.7876]],\n",
       "\n",
       "        [[0.1014, 0.4950],\n",
       "         [0.1014, 0.4970],\n",
       "         [0.1014, 0.4990],\n",
       "         [0.1014, 0.5010],\n",
       "         [0.1014, 0.5030],\n",
       "         [0.1014, 0.5050],\n",
       "         [0.1014, 0.5070],\n",
       "         [0.1014, 0.5090],\n",
       "         [0.1014, 0.5110],\n",
       "         [0.1014, 0.5130]],\n",
       "\n",
       "        [[0.4165, 0.8657],\n",
       "         [0.4165, 0.8677],\n",
       "         [0.4165, 0.8697],\n",
       "         [0.4165, 0.8717],\n",
       "         [0.4165, 0.8737],\n",
       "         [0.4165, 0.8758],\n",
       "         [0.4165, 0.8778],\n",
       "         [0.4165, 0.8798],\n",
       "         [0.4165, 0.8818],\n",
       "         [0.4165, 0.8838]],\n",
       "\n",
       "        [[0.6468, 0.1022],\n",
       "         [0.6468, 0.1042],\n",
       "         [0.6468, 0.1062],\n",
       "         [0.6468, 0.1082],\n",
       "         [0.6468, 0.1102],\n",
       "         [0.6468, 0.1122],\n",
       "         [0.6468, 0.1142],\n",
       "         [0.6468, 0.1162],\n",
       "         [0.6468, 0.1182],\n",
       "         [0.6468, 0.1202]],\n",
       "\n",
       "        [[0.4165, 0.4830],\n",
       "         [0.4165, 0.4850],\n",
       "         [0.4165, 0.4870],\n",
       "         [0.4165, 0.4890],\n",
       "         [0.4165, 0.4910],\n",
       "         [0.4165, 0.4930],\n",
       "         [0.4165, 0.4950],\n",
       "         [0.4165, 0.4970],\n",
       "         [0.4165, 0.4990],\n",
       "         [0.4165, 0.5010]],\n",
       "\n",
       "        [[0.1908, 0.5050],\n",
       "         [0.1908, 0.5070],\n",
       "         [0.1908, 0.5090],\n",
       "         [0.1908, 0.5110],\n",
       "         [0.1908, 0.5130],\n",
       "         [0.1908, 0.5150],\n",
       "         [0.1908, 0.5170],\n",
       "         [0.1908, 0.5190],\n",
       "         [0.1908, 0.5210],\n",
       "         [0.1908, 0.5230]],\n",
       "\n",
       "        [[0.4372, 0.1543],\n",
       "         [0.4372, 0.1563],\n",
       "         [0.4372, 0.1583],\n",
       "         [0.4372, 0.1603],\n",
       "         [0.4372, 0.1623],\n",
       "         [0.4372, 0.1643],\n",
       "         [0.4372, 0.1663],\n",
       "         [0.4372, 0.1683],\n",
       "         [0.4372, 0.1703],\n",
       "         [0.4372, 0.1723]]])"
      ]
     },
     "execution_count": 28,
     "metadata": {},
     "output_type": "execute_result"
    }
   ],
   "source": [
    "p_y"
   ]
  },
  {
   "cell_type": "markdown",
   "metadata": {},
   "source": [
    "## Model"
   ]
  },
  {
   "cell_type": "code",
   "execution_count": 29,
   "metadata": {
    "ExecuteTime": {
     "end_time": "2020-11-17T20:24:40.632585Z",
     "start_time": "2020-11-17T20:24:40.627418Z"
    }
   },
   "outputs": [],
   "source": [
    "class MLP(nn.Module):\n",
    "    def __init__(self, X, hiddenLayerSizes = [1024], activation=nn.ELU()):\n",
    "        super(MLP,self).__init__()\n",
    "        \n",
    "        self.activation = activation\n",
    "        self.inputSize = X.shape[1:]\n",
    "        self.modules = []\n",
    "        self.modules.append(nn.Linear(np.prod(self.inputSize),hiddenLayerSizes[0]))\n",
    "        self.modules.append(self.activation)\n",
    "        for idx,sz in enumerate(hiddenLayerSizes[:-1]):\n",
    "            self.modules.append(nn.Linear(hiddenLayerSizes[idx],hiddenLayerSizes[idx+1]))\n",
    "            self.modules.append(self.activation)\n",
    "                               \n",
    "        self.modules.append(nn.Linear(hiddenLayerSizes[-1],np.prod(self.inputSize)))\n",
    "        self.layers = nn.Sequential(*self.modules)\n",
    "                                \n",
    "        \n",
    "    def forward(self,x):\n",
    "        x = self.layers(x)\n",
    "        return x"
   ]
  },
  {
   "cell_type": "code",
   "execution_count": 30,
   "metadata": {
    "ExecuteTime": {
     "end_time": "2020-11-17T20:24:40.639446Z",
     "start_time": "2020-11-17T20:24:40.633856Z"
    }
   },
   "outputs": [
    {
     "data": {
      "text/plain": [
       "MLP(\n",
       "  (activation): ELU(alpha=1.0)\n",
       "  (layers): Sequential(\n",
       "    (0): Linear(in_features=64, out_features=128, bias=True)\n",
       "    (1): ELU(alpha=1.0)\n",
       "    (2): Linear(in_features=128, out_features=128, bias=True)\n",
       "    (3): ELU(alpha=1.0)\n",
       "    (4): Linear(in_features=128, out_features=64, bias=True)\n",
       "  )\n",
       ")"
      ]
     },
     "execution_count": 30,
     "metadata": {},
     "output_type": "execute_result"
    }
   ],
   "source": [
    "model = MLP(X, hiddenLayerSizes=hiddenLayers,activation=activation)\n",
    "model"
   ]
  },
  {
   "cell_type": "code",
   "execution_count": 31,
   "metadata": {
    "ExecuteTime": {
     "end_time": "2020-11-17T20:24:40.648115Z",
     "start_time": "2020-11-17T20:24:40.641138Z"
    }
   },
   "outputs": [
    {
     "data": {
      "text/plain": [
       "torch.Size([32, 64])"
      ]
     },
     "execution_count": 31,
     "metadata": {},
     "output_type": "execute_result"
    }
   ],
   "source": [
    "output = model(X.float())\n",
    "output.shape"
   ]
  },
  {
   "cell_type": "code",
   "execution_count": 32,
   "metadata": {
    "ExecuteTime": {
     "end_time": "2020-11-17T20:24:40.652694Z",
     "start_time": "2020-11-17T20:24:40.649617Z"
    }
   },
   "outputs": [],
   "source": [
    "if len(gpu_ids.split(',')) > 1:\n",
    "    model = nn.DataParallel(model)"
   ]
  },
  {
   "cell_type": "code",
   "execution_count": 33,
   "metadata": {
    "ExecuteTime": {
     "end_time": "2020-11-17T20:24:40.657469Z",
     "start_time": "2020-11-17T20:24:40.654447Z"
    }
   },
   "outputs": [
    {
     "name": "stdout",
     "output_type": "stream",
     "text": [
      "6 layers require gradients (unfrozen) out of 6 layers\n",
      "33,088 parameters require gradients (unfrozen) out of 33,088 parameters\n"
     ]
    }
   ],
   "source": [
    "printNumModelParams(model)"
   ]
  },
  {
   "cell_type": "code",
   "execution_count": 34,
   "metadata": {
    "ExecuteTime": {
     "end_time": "2020-11-17T20:24:40.663201Z",
     "start_time": "2020-11-17T20:24:40.659003Z"
    }
   },
   "outputs": [],
   "source": [
    "del SVD_autoencoder\n",
    "torch.cuda.empty_cache()"
   ]
  },
  {
   "cell_type": "code",
   "execution_count": 35,
   "metadata": {
    "ExecuteTime": {
     "end_time": "2020-11-17T20:24:40.678632Z",
     "start_time": "2020-11-17T20:24:40.664904Z"
    }
   },
   "outputs": [],
   "source": [
    "SVD_autoencoder = SVD_Autoencoder(svd_vecs, latentDim, False)"
   ]
  },
  {
   "cell_type": "code",
   "execution_count": 36,
   "metadata": {
    "ExecuteTime": {
     "end_time": "2020-11-17T20:24:40.695521Z",
     "start_time": "2020-11-17T20:24:40.680518Z"
    }
   },
   "outputs": [],
   "source": [
    "# surrogate class\n",
    "\n",
    "class Surrogate(nn.Module):\n",
    "    \n",
    "    def __init__(self, window,\n",
    "                 z_size, p_size,\n",
    "                LIN, encoder, decoder):\n",
    "        super(Surrogate, self).__init__()\n",
    "        self.window = window\n",
    "        self.z_size = z_size # this does not include the size of p\n",
    "        self.p_size = p_size\n",
    "        self.c_size = z_size + p_size # this does include the size of p\n",
    "        self.LIN = LIN\n",
    "        self.encoder = encoder\n",
    "        self.decoder = decoder\n",
    "        \n",
    "    def encode(self, U):\n",
    "        \n",
    "        self.shape_of_last_frames_encoded = U.shape\n",
    "        \n",
    "        return self.encoder(U)\n",
    "        \n",
    "    def decode(self, encoding):\n",
    "        \n",
    "        self.shape_of_last_frames_encoded = torch.Size([encoding.size(0), 1, 128, 128])\n",
    "        \n",
    "        return self.decoder(encoding, self.shape_of_last_frames_encoded)\n",
    "        \n",
    "    def predict_next_w_encodings(self, encoding, p_y, window):\n",
    "        '''\n",
    "        use the LIN to predict the next w encodings for each \n",
    "        encoded U in the batch\n",
    "        '''\n",
    "            \n",
    "        predicted_encodings = []\n",
    "            \n",
    "        # given a batch of encodings, advance each encoding window time steps.\n",
    "        # save the result at each time step\n",
    "        for i in range(window):\n",
    "            encoding = self.LIN(encoding) + encoding # use LIN to predict delta in encoding\n",
    "            # this was encoding[:,:,-self.p_size:] in 09_manta..., why the extra dimension?\n",
    "            encoding[:,-self.p_size:] = p_y[:, i]\n",
    "            predicted_encodings.append(encoding)\n",
    "            \n",
    "            \n",
    "        return torch.stack(predicted_encodings)\n",
    "    \n",
    "    def forward(self, U, p_x, p_y, window = None):\n",
    "        \n",
    "        if window == None:\n",
    "            window = self.window\n",
    "        assert p_y.size(1) == window\n",
    "            \n",
    "        #encoding = self.encode(U)\n",
    "        encoding = U\n",
    "        encoding[:,-self.p_size:] = p_x\n",
    "        encoding_w = self.predict_next_w_encodings(encoding, p_y, window)\n",
    "        # want to have this agree with U_y, which is [batch_size, window_size, channels, nx, ny]\n",
    "        # right now, it's [window_size, batch_size, c_size], so transpose dimensions 0 and 1\n",
    "        # print(encoding_w.shape)\n",
    "        U = torch.stack([self.decode(encoding_i) for encoding_i in encoding_w])\n",
    "        \n",
    "        return U.transpose(0,1), encoding_w.transpose(0,1)\n",
    "    \n",
    "    \n",
    "surrogate = Surrogate(w, latentDim - 2, 2, model, SVD_autoencoder.encoder, \n",
    "                      SVD_autoencoder.decoder)"
   ]
  },
  {
   "cell_type": "code",
   "execution_count": 37,
   "metadata": {
    "ExecuteTime": {
     "end_time": "2020-11-17T20:24:40.721489Z",
     "start_time": "2020-11-17T20:24:40.697381Z"
    }
   },
   "outputs": [
    {
     "data": {
      "text/plain": [
       "(torch.Size([32, 10, 1, 128, 128]), torch.Size([32, 10, 64]))"
      ]
     },
     "execution_count": 37,
     "metadata": {},
     "output_type": "execute_result"
    }
   ],
   "source": [
    "U, encoding_hat = surrogate(X.float(), p_x.float(), p_y.float())\n",
    "U.shape, encoding_hat.shape"
   ]
  },
  {
   "cell_type": "code",
   "execution_count": 38,
   "metadata": {
    "ExecuteTime": {
     "end_time": "2020-11-17T20:24:40.727946Z",
     "start_time": "2020-11-17T20:24:40.723258Z"
    }
   },
   "outputs": [
    {
     "data": {
      "text/plain": [
       "True"
      ]
     },
     "execution_count": 38,
     "metadata": {},
     "output_type": "execute_result"
    }
   ],
   "source": [
    "np.allclose(encoding_hat[:,:,-2:].detach().cpu(), p_y)"
   ]
  },
  {
   "cell_type": "code",
   "execution_count": 39,
   "metadata": {
    "ExecuteTime": {
     "end_time": "2020-11-17T20:24:40.740445Z",
     "start_time": "2020-11-17T20:24:40.729575Z"
    }
   },
   "outputs": [],
   "source": [
    "surrogate = Surrogate(w, latentDim - 2, 2, model, SVD_autoencoder.encoder, \n",
    "                      SVD_autoencoder.decoder).to(device)\n",
    "if len(gpu_ids.split(',')) > 1:\n",
    "    surrogate = nn.DataParallel(surrogate)"
   ]
  },
  {
   "cell_type": "markdown",
   "metadata": {},
   "source": [
    "## Loss Function"
   ]
  },
  {
   "cell_type": "code",
   "execution_count": 40,
   "metadata": {
    "ExecuteTime": {
     "end_time": "2020-11-17T20:24:40.748065Z",
     "start_time": "2020-11-17T20:24:40.742040Z"
    }
   },
   "outputs": [],
   "source": [
    "def L2_relative_loss(pred, target):\n",
    "    return torch.norm(pred - target)/torch.norm(target)\n",
    "\n",
    "\n",
    "def L1_loss(pred, target):\n",
    "    return torch.mean(torch.abs(pred - target))\n",
    "\n",
    "\n",
    "def jacobian_loss(pred, target, device='cpu'):\n",
    "    return L1_loss(jacobian(pred, device), jacobian(target, device))\n",
    "\n",
    "\n",
    "def curl_loss(pred, target, device):\n",
    "    return L1_loss(curl(pred, device), curl(target, device))\n",
    "\n",
    "\n",
    "def MSE(pred,target):\n",
    "    return nn.MSELoss()(pred, target)\n",
    "\n",
    "\n",
    "def p_loss(pred, target):\n",
    "    return L(pred[:, -target.shape[1]:], target)\n",
    "\n",
    "\n",
    "def loss(pred, target, device):\n",
    "        \n",
    "    L = MSE(pred, target)\n",
    "        \n",
    "    return L "
   ]
  },
  {
   "cell_type": "code",
   "execution_count": 41,
   "metadata": {
    "ExecuteTime": {
     "end_time": "2020-11-17T20:24:40.755778Z",
     "start_time": "2020-11-17T20:24:40.749294Z"
    }
   },
   "outputs": [
    {
     "data": {
      "text/plain": [
       "(torch.Size([32, 10, 64]), torch.Size([32, 10, 2]))"
      ]
     },
     "execution_count": 41,
     "metadata": {},
     "output_type": "execute_result"
    }
   ],
   "source": [
    "y[:,:,-2:] = p_y\n",
    "y.shape, p_y.shape"
   ]
  },
  {
   "cell_type": "code",
   "execution_count": 42,
   "metadata": {
    "ExecuteTime": {
     "end_time": "2020-11-17T20:24:40.760475Z",
     "start_time": "2020-11-17T20:24:40.756942Z"
    }
   },
   "outputs": [
    {
     "data": {
      "text/plain": [
       "tensor(0.3227, grad_fn=<MseLossBackward>)"
      ]
     },
     "execution_count": 42,
     "metadata": {},
     "output_type": "execute_result"
    }
   ],
   "source": [
    "loss(encoding_hat, y, device)"
   ]
  },
  {
   "cell_type": "markdown",
   "metadata": {},
   "source": [
    "## Set LR"
   ]
  },
  {
   "cell_type": "code",
   "execution_count": 43,
   "metadata": {
    "ExecuteTime": {
     "end_time": "2020-11-17T20:24:40.764083Z",
     "start_time": "2020-11-17T20:24:40.761681Z"
    }
   },
   "outputs": [
    {
     "data": {
      "text/plain": [
       "\"\\ndoesn't work with our dataloader\\nif findLRs and (len(gpu_ids.split(','))==1): # doesn't work for multigpu???\\n    opt = create_opt(1e-7,model)\\n    find_lr(model,opt,L,device,trainDataLoader)\\n\""
      ]
     },
     "execution_count": 43,
     "metadata": {},
     "output_type": "execute_result"
    }
   ],
   "source": [
    "'''\n",
    "doesn't work with our dataloader\n",
    "if findLRs and (len(gpu_ids.split(','))==1): # doesn't work for multigpu???\n",
    "    opt = create_opt(1e-7,model)\n",
    "    find_lr(model,opt,L,device,trainDataLoader)\n",
    "'''"
   ]
  },
  {
   "cell_type": "code",
   "execution_count": 44,
   "metadata": {
    "ExecuteTime": {
     "end_time": "2020-11-17T20:24:40.777331Z",
     "start_time": "2020-11-17T20:24:40.765220Z"
    }
   },
   "outputs": [],
   "source": [
    "max_lr = .001\n",
    "opt = torch.optim.Adam(model.parameters(),lr=max_lr,weight_decay=weight_decay)\n",
    "lr_scheduler = torch.optim.lr_scheduler.ReduceLROnPlateau(opt,patience=patience)"
   ]
  },
  {
   "cell_type": "code",
   "execution_count": 45,
   "metadata": {
    "ExecuteTime": {
     "end_time": "2020-11-17T20:24:40.780588Z",
     "start_time": "2020-11-17T20:24:40.778564Z"
    }
   },
   "outputs": [],
   "source": [
    "versionName = versionName + '_lr{}'.format(str(max_lr))"
   ]
  },
  {
   "cell_type": "code",
   "execution_count": 46,
   "metadata": {
    "ExecuteTime": {
     "end_time": "2020-11-17T20:24:40.784516Z",
     "start_time": "2020-11-17T20:24:40.781797Z"
    }
   },
   "outputs": [
    {
     "data": {
      "text/plain": [
       "'LIN_SVD_PNNL_MLP_GPUs3_w10_latentDim1024_hd128_128_bz32_epochs1000_memory1_WD0_lr0.001'"
      ]
     },
     "execution_count": 46,
     "metadata": {},
     "output_type": "execute_result"
    }
   ],
   "source": [
    "versionName"
   ]
  },
  {
   "cell_type": "markdown",
   "metadata": {},
   "source": [
    "## Train"
   ]
  },
  {
   "cell_type": "code",
   "execution_count": 47,
   "metadata": {
    "ExecuteTime": {
     "end_time": "2020-11-16T17:30:15.379753Z",
     "start_time": "2020-11-16T17:30:15.372560Z"
    }
   },
   "outputs": [],
   "source": [
    "def trainEpoch(myDataLoader, tensorboard_writer, model, opt, p_loss, loss,\n",
    "               metric, lr_scheduler, tensorboard_rate, device,\n",
    "               tensorboard_recorder_step, total_steps):\n",
    "    running_loss = 0.0\n",
    "    running_rmse = 0.0\n",
    "    total_loss = 0.0\n",
    "    running_ploss = 0.0\n",
    "    for i, sampleBatch in enumerate(myDataLoader, start=1):\n",
    "\n",
    "        # --- Main Training ---\n",
    "        \n",
    "        # gpu\n",
    "        Encoding_x, Encoding_y, p_x, p_y = sampleBatch\n",
    "        Encoding_x = Encoding_x.to(device)\n",
    "        p_x = p_x.to(device)\n",
    "        Encoding_y = Encoding_y.to(device)\n",
    "        p_y = p_y.to(device)\n",
    "            \n",
    "\n",
    "        # zero the parameter gradients\n",
    "        opt.zero_grad()\n",
    "\n",
    "        U_hat, encoding_hat = model(Encoding_x, p_x, p_y)\n",
    "        pl = 0\n",
    "        with torch.no_grad():\n",
    "            Encoding_y[:,:,-2:] = p_y \n",
    "        ll = loss(encoding_hat, Encoding_y, device)\n",
    "        combined_loss = pl + ll\n",
    "        combined_loss.backward()\n",
    "        opt.step()\n",
    "        \n",
    "        # loss\n",
    "        batch_loss = combined_loss.item()\n",
    "        running_loss += batch_loss\n",
    "        total_loss += batch_loss\n",
    "        \n",
    "        batch_ploss = pl\n",
    "        running_ploss += batch_ploss\n",
    "\n",
    "\n",
    "\n",
    "        # record lr change\n",
    "        total_steps += 1\n",
    "        tensorboard_writer.add_scalar(tag=\"LR\", scalar_value=opt.param_groups[0]['lr'], global_step=total_steps)\n",
    "        #lr_scheduler.step()\n",
    "\n",
    "        # tensorboard writes\n",
    "        if (i % tensorboard_rate == 0):\n",
    "            tensorboard_recorder_step += 1\n",
    "            avg_running_loss = running_loss/tensorboard_rate\n",
    "            avg_running_rmse = running_rmse/tensorboard_rate\n",
    "            avg_running_ploss = running_ploss/tensorboard_rate\n",
    "            tensorboard_writer.add_scalar(tag=\"Loss\", scalar_value=avg_running_loss, global_step=tensorboard_recorder_step)\n",
    "            tensorboard_writer.add_scalar(tag=\"p_loss\", scalar_value=avg_running_ploss, global_step=tensorboard_recorder_step)\n",
    "            # reset running_loss for the next set of batches. (tensorboard_rate number of batches)\n",
    "            running_loss = 0.0\n",
    "            running_rmse = 0.0\n",
    "            running_ploss = 0.0\n",
    "            tensorboard_writer.flush()\n",
    "\n",
    "    return total_loss/len(myDataLoader), tensorboard_recorder_step, total_steps"
   ]
  },
  {
   "cell_type": "code",
   "execution_count": 48,
   "metadata": {
    "ExecuteTime": {
     "end_time": "2020-11-16T17:30:15.385722Z",
     "start_time": "2020-11-16T17:30:15.380919Z"
    }
   },
   "outputs": [],
   "source": [
    "def validEpoch(myDataLoader, tensorboard_writer, model, p_loss, loss, metric,\n",
    "               device, tensorboard_recorder_step):\n",
    "    running_loss = 0.0\n",
    "    running_rmse = 0.0\n",
    "    for i, sampleBatch in enumerate(myDataLoader, start=1):\n",
    "\n",
    "        # --- Metrics Recording ---\n",
    "\n",
    "        # gpu\n",
    "        Encoding_x, Encoding_y, p_x, p_y = sampleBatch\n",
    "        Encoding_x = Encoding_x.to(device)\n",
    "        p_x = p_x.to(device)\n",
    "        Encoding_y = Encoding_y.to(device)\n",
    "        p_y = p_y.to(device)\n",
    "                \n",
    "        perc = len(Encoding_x)/len(myDataLoader.dataset)\n",
    "\n",
    "        # forward, no gradient calculations\n",
    "        with torch.no_grad():\n",
    "            U_hat, encoding_hat = model(Encoding_x, p_x, p_y)\n",
    "            \n",
    "        Encoding_y[:,:,-2:] = p_y \n",
    "\n",
    "        # loss\n",
    "        combined_loss = loss(encoding_hat, Encoding_y, device)\n",
    "        \n",
    "        running_loss += perc*(combined_loss.item())\n",
    "\n",
    "\n",
    "    avg_running_loss = running_loss\n",
    "    avg_running_rmse = running_rmse\n",
    "    tensorboard_writer.add_scalar(tag=\"Loss\", scalar_value=avg_running_loss, global_step=tensorboard_recorder_step)\n",
    "    tensorboard_writer.flush()\n",
    "    \n",
    "    return running_loss"
   ]
  },
  {
   "cell_type": "code",
   "execution_count": 49,
   "metadata": {
    "ExecuteTime": {
     "end_time": "2020-11-16T17:30:17.953301Z",
     "start_time": "2020-11-16T17:30:15.386851Z"
    }
   },
   "outputs": [
    {
     "name": "stdout",
     "output_type": "stream",
     "text": [
      "checkpoints directory already exists :)\n"
     ]
    }
   ],
   "source": [
    "try:\n",
    "    os.mkdir(cps)\n",
    "except:\n",
    "    print(\"checkpoints directory already exists :)\")\n",
    "    \n",
    "# create a summary writer.\n",
    "train_writer = SummaryWriter(os.path.join(tensorboard_direc, versionName,'train'))\n",
    "test_writer = SummaryWriter(os.path.join(tensorboard_direc, versionName,'valid'))\n",
    "tensorboard_recorder_step = 0\n",
    "total_steps = 0"
   ]
  },
  {
   "cell_type": "code",
   "execution_count": 50,
   "metadata": {
    "ExecuteTime": {
     "end_time": "2020-11-16T17:56:00.631976Z",
     "start_time": "2020-11-16T17:30:17.954383Z"
    }
   },
   "outputs": [
    {
     "name": "stderr",
     "output_type": "stream",
     "text": [
      "\r",
      "  0%|          | 0/1000 [00:00<?, ?it/s]"
     ]
    },
    {
     "name": "stdout",
     "output_type": "stream",
     "text": [
      "---------- Started Training ----------\n",
      "--- Epoch 1/1000 ---\n",
      "trainLoss: 2.9217e-02\n",
      "LR: 1.0000e-03\n"
     ]
    },
    {
     "name": "stderr",
     "output_type": "stream",
     "text": [
      "\r",
      "  0%|          | 1/1000 [01:15<20:54:56, 75.37s/it]"
     ]
    },
    {
     "name": "stdout",
     "output_type": "stream",
     "text": [
      "valLoss: 2.0601e-02\n",
      "Better valLoss: 2.0601e-02, Saving models...\n",
      "--- Epoch 2/1000 ---\n",
      "trainLoss: 2.3204e-02\n",
      "LR: 1.0000e-03\n"
     ]
    },
    {
     "name": "stderr",
     "output_type": "stream",
     "text": [
      "\r",
      "  0%|          | 2/1000 [02:29<20:47:54, 75.02s/it]"
     ]
    },
    {
     "name": "stdout",
     "output_type": "stream",
     "text": [
      "valLoss: 2.0108e-02\n",
      "Better valLoss: 2.0108e-02, Saving models...\n",
      "--- Epoch 3/1000 ---\n",
      "trainLoss: 2.3079e-02\n",
      "LR: 1.0000e-03\n"
     ]
    },
    {
     "name": "stderr",
     "output_type": "stream",
     "text": [
      "\r",
      "  0%|          | 3/1000 [03:45<20:49:03, 75.17s/it]"
     ]
    },
    {
     "name": "stdout",
     "output_type": "stream",
     "text": [
      "valLoss: 2.0084e-02\n",
      "Better valLoss: 2.0084e-02, Saving models...\n",
      "--- Epoch 4/1000 ---\n",
      "trainLoss: 2.3118e-02\n",
      "LR: 1.0000e-03\n"
     ]
    },
    {
     "name": "stderr",
     "output_type": "stream",
     "text": [
      "\r",
      "  0%|          | 4/1000 [04:58<20:41:07, 74.77s/it]"
     ]
    },
    {
     "name": "stdout",
     "output_type": "stream",
     "text": [
      "valLoss: 2.0084e-02\n",
      "Better valLoss: 2.0084e-02, Saving models...\n",
      "--- Epoch 5/1000 ---\n",
      "trainLoss: 2.3065e-02\n",
      "LR: 1.0000e-03\n"
     ]
    },
    {
     "name": "stderr",
     "output_type": "stream",
     "text": [
      "\r",
      "  0%|          | 5/1000 [06:15<20:49:44, 75.36s/it]"
     ]
    },
    {
     "name": "stdout",
     "output_type": "stream",
     "text": [
      "valLoss: 2.0070e-02\n",
      "Better valLoss: 2.0070e-02, Saving models...\n",
      "--- Epoch 6/1000 ---\n",
      "trainLoss: 2.3093e-02\n",
      "LR: 1.0000e-03\n"
     ]
    },
    {
     "name": "stderr",
     "output_type": "stream",
     "text": [
      "\r",
      "  1%|          | 6/1000 [07:33<21:02:38, 76.22s/it]"
     ]
    },
    {
     "name": "stdout",
     "output_type": "stream",
     "text": [
      "valLoss: 2.0283e-02\n",
      "--- Epoch 7/1000 ---\n",
      "trainLoss: 2.3008e-02\n",
      "LR: 1.0000e-03\n"
     ]
    },
    {
     "name": "stderr",
     "output_type": "stream",
     "text": [
      "\r",
      "  1%|          | 7/1000 [09:42<25:20:48, 91.89s/it]"
     ]
    },
    {
     "name": "stdout",
     "output_type": "stream",
     "text": [
      "valLoss: 2.0383e-02\n",
      "--- Epoch 8/1000 ---\n",
      "trainLoss: 2.2709e-02\n",
      "LR: 1.0000e-04\n"
     ]
    },
    {
     "name": "stderr",
     "output_type": "stream",
     "text": [
      "\r",
      "  1%|          | 8/1000 [11:08<24:50:52, 90.17s/it]"
     ]
    },
    {
     "name": "stdout",
     "output_type": "stream",
     "text": [
      "valLoss: 1.9751e-02\n",
      "Better valLoss: 1.9751e-02, Saving models...\n",
      "--- Epoch 9/1000 ---\n",
      "trainLoss: 2.2455e-02\n",
      "LR: 1.0000e-04\n"
     ]
    },
    {
     "name": "stderr",
     "output_type": "stream",
     "text": [
      "\r",
      "  1%|          | 9/1000 [12:27<23:54:58, 86.88s/it]"
     ]
    },
    {
     "name": "stdout",
     "output_type": "stream",
     "text": [
      "valLoss: 1.9884e-02\n",
      "--- Epoch 10/1000 ---\n",
      "trainLoss: 2.2522e-02\n",
      "LR: 1.0000e-04\n"
     ]
    },
    {
     "name": "stderr",
     "output_type": "stream",
     "text": [
      "\r",
      "  1%|          | 10/1000 [13:24<21:24:29, 77.85s/it]"
     ]
    },
    {
     "name": "stdout",
     "output_type": "stream",
     "text": [
      "valLoss: 1.9956e-02\n",
      "--- Epoch 11/1000 ---\n",
      "trainLoss: 2.2374e-02\n",
      "LR: 1.0000e-05\n"
     ]
    },
    {
     "name": "stderr",
     "output_type": "stream",
     "text": [
      "\r",
      "  1%|          | 11/1000 [14:41<21:19:31, 77.63s/it]"
     ]
    },
    {
     "name": "stdout",
     "output_type": "stream",
     "text": [
      "valLoss: 1.9652e-02\n",
      "Better valLoss: 1.9652e-02, Saving models...\n",
      "--- Epoch 12/1000 ---\n",
      "trainLoss: 2.2470e-02\n",
      "LR: 1.0000e-05\n"
     ]
    },
    {
     "name": "stderr",
     "output_type": "stream",
     "text": [
      "\r",
      "  1%|          | 12/1000 [15:55<20:57:58, 76.40s/it]"
     ]
    },
    {
     "name": "stdout",
     "output_type": "stream",
     "text": [
      "valLoss: 1.9607e-02\n",
      "Better valLoss: 1.9607e-02, Saving models...\n",
      "--- Epoch 13/1000 ---\n",
      "trainLoss: 2.2391e-02\n",
      "LR: 1.0000e-05\n"
     ]
    },
    {
     "name": "stderr",
     "output_type": "stream",
     "text": [
      "\r",
      "  1%|▏         | 13/1000 [16:57<19:49:30, 72.31s/it]"
     ]
    },
    {
     "name": "stdout",
     "output_type": "stream",
     "text": [
      "valLoss: 1.9684e-02\n",
      "--- Epoch 14/1000 ---\n",
      "trainLoss: 2.2545e-02\n",
      "LR: 1.0000e-05\n"
     ]
    },
    {
     "name": "stderr",
     "output_type": "stream",
     "text": [
      "\r",
      "  1%|▏         | 14/1000 [18:14<20:09:09, 73.58s/it]"
     ]
    },
    {
     "name": "stdout",
     "output_type": "stream",
     "text": [
      "valLoss: 1.9673e-02\n",
      "--- Epoch 15/1000 ---\n",
      "trainLoss: 2.2474e-02\n",
      "LR: 1.0000e-06\n"
     ]
    },
    {
     "name": "stderr",
     "output_type": "stream",
     "text": [
      "\r",
      "  2%|▏         | 15/1000 [19:34<20:40:33, 75.57s/it]"
     ]
    },
    {
     "name": "stdout",
     "output_type": "stream",
     "text": [
      "valLoss: 1.9898e-02\n",
      "--- Epoch 16/1000 ---\n",
      "trainLoss: 2.2435e-02\n",
      "LR: 1.0000e-06\n"
     ]
    },
    {
     "name": "stderr",
     "output_type": "stream",
     "text": [
      "\r",
      "  2%|▏         | 16/1000 [20:32<19:14:30, 70.40s/it]"
     ]
    },
    {
     "name": "stdout",
     "output_type": "stream",
     "text": [
      "valLoss: 1.9544e-02\n",
      "Better valLoss: 1.9544e-02, Saving models...\n",
      "--- Epoch 17/1000 ---\n",
      "trainLoss: 2.2377e-02\n",
      "LR: 1.0000e-06\n"
     ]
    },
    {
     "name": "stderr",
     "output_type": "stream",
     "text": [
      "\r",
      "  2%|▏         | 17/1000 [21:35<18:34:18, 68.01s/it]"
     ]
    },
    {
     "name": "stdout",
     "output_type": "stream",
     "text": [
      "valLoss: 1.9531e-02\n",
      "Better valLoss: 1.9531e-02, Saving models...\n",
      "--- Epoch 18/1000 ---\n",
      "trainLoss: 2.2475e-02\n",
      "LR: 1.0000e-06\n"
     ]
    },
    {
     "name": "stderr",
     "output_type": "stream",
     "text": [
      "\r",
      "  2%|▏         | 18/1000 [22:36<18:00:01, 65.99s/it]"
     ]
    },
    {
     "name": "stdout",
     "output_type": "stream",
     "text": [
      "valLoss: 1.9712e-02\n",
      "--- Epoch 19/1000 ---\n",
      "trainLoss: 2.2498e-02\n",
      "LR: 1.0000e-06\n"
     ]
    },
    {
     "name": "stderr",
     "output_type": "stream",
     "text": [
      "\r",
      "  2%|▏         | 19/1000 [23:39<17:43:12, 65.03s/it]"
     ]
    },
    {
     "name": "stdout",
     "output_type": "stream",
     "text": [
      "valLoss: 1.9720e-02\n",
      "--- Epoch 20/1000 ---\n",
      "trainLoss: 2.2358e-02\n",
      "LR: 1.0000e-07\n"
     ]
    },
    {
     "name": "stderr",
     "output_type": "stream",
     "text": [
      "\r",
      "  2%|▏         | 20/1000 [24:45<17:46:43, 65.31s/it]"
     ]
    },
    {
     "name": "stdout",
     "output_type": "stream",
     "text": [
      "valLoss: 1.9757e-02\n",
      "--- Epoch 21/1000 ---\n",
      "trainLoss: 2.2492e-02\n",
      "LR: 1.0000e-07\n"
     ]
    },
    {
     "name": "stderr",
     "output_type": "stream",
     "text": [
      "\r",
      "  2%|▏         | 20/1000 [25:42<20:59:50, 77.13s/it]"
     ]
    },
    {
     "name": "stdout",
     "output_type": "stream",
     "text": [
      "valLoss: 1.9668e-02\n",
      "---------- Finished Training ----------\n"
     ]
    },
    {
     "name": "stderr",
     "output_type": "stream",
     "text": [
      "\n"
     ]
    }
   ],
   "source": [
    "writeMessage('---------- Started Training ----------', versionName)\n",
    "bestLoss = np.infty\n",
    "torch.autograd.set_detect_anomaly(True)\n",
    "for epoch in tqdm(range(1, epochs+1)):  # loop over the dataset multiple times\n",
    "\n",
    "    writeMessage(\"--- Epoch {0}/{1} ---\".format(epoch, epochs), versionName)\n",
    "\n",
    "    surrogate.train()\n",
    "    trainLoss, tensorboard_recorder_step, total_steps = trainEpoch(trainDataLoader, \n",
    "                                                                   train_writer, surrogate,\n",
    "                                                                   opt, p_loss, loss,\n",
    "                                                                   rmse, lr_scheduler, \n",
    "                                                                   tensorboard_rate, device,\n",
    "                                                                   tensorboard_recorder_step, total_steps)\n",
    "\n",
    "    writeMessage(\"trainLoss: {:.4e}\".format(trainLoss),versionName)\n",
    "    writeMessage(\"LR: {:.4e}\".format(opt.param_groups[0]['lr']),versionName)\n",
    "#         if trainLoss < bestLoss:\n",
    "#             bestLoss = trainLoss\n",
    "#             writeMessage(\"Better trainLoss: {:.4e}, Saving models...\".format(bestLoss),versionName)\n",
    "#             torch.save(surrogate.state_dict(), os.path.join(cps,versionName))\n",
    "\n",
    "    surrogate.eval()\n",
    "    valLoss = validEpoch(testDataLoader, test_writer, surrogate, p_loss, loss, rmse, device, tensorboard_recorder_step)\n",
    "    writeMessage(\"valLoss: {:.4e}\".format(valLoss),versionName)\n",
    "\n",
    "    # checkpoint progress\n",
    "    if valLoss < bestLoss:\n",
    "        bestLoss = valLoss\n",
    "        writeMessage(\"Better valLoss: {:.4e}, Saving models...\".format(bestLoss),versionName)\n",
    "        torch.save(surrogate.state_dict(), os.path.join(cps,versionName))\n",
    "\n",
    "    lr_scheduler.step(valLoss)\n",
    "\n",
    "    if opt.param_groups[0]['lr'] < 5e-8:\n",
    "        break\n",
    "writeMessage('---------- Finished Training ----------', versionName)"
   ]
  },
  {
   "cell_type": "code",
   "execution_count": 47,
   "metadata": {
    "ExecuteTime": {
     "end_time": "2020-11-17T20:24:40.841262Z",
     "start_time": "2020-11-17T20:24:40.785635Z"
    }
   },
   "outputs": [
    {
     "data": {
      "text/plain": [
       "<All keys matched successfully>"
      ]
     },
     "execution_count": 47,
     "metadata": {},
     "output_type": "execute_result"
    }
   ],
   "source": [
    "surrogate.load_state_dict(torch.load(os.path.join(cps,'LIN_SVD_PNNL_MLP_GPUs3_w10_latentDim1024_hd128_128_bz32_epochs1000_memory1_WD0_lr0.001')))"
   ]
  },
  {
   "cell_type": "code",
   "execution_count": 48,
   "metadata": {
    "ExecuteTime": {
     "end_time": "2020-11-17T20:24:40.845506Z",
     "start_time": "2020-11-17T20:24:40.842443Z"
    }
   },
   "outputs": [],
   "source": [
    "testDataset_fullSim = LatentVectors(test_data,doPreprocess=True,w=simLen-1,\n",
    "                            simLen=simLen,abs_x_mx=abs_x_mx,memory=memory_length)\n",
    "first_frame_testDataset = torch.utils.data.Subset(testDataset_fullSim, range(0, len(testDataset), simLen))\n",
    "simulation_testDataLoader = DataLoader(dataset=first_frame_testDataset, batch_size=10)"
   ]
  },
  {
   "cell_type": "code",
   "execution_count": 49,
   "metadata": {
    "ExecuteTime": {
     "end_time": "2020-11-17T20:24:40.854789Z",
     "start_time": "2020-11-17T20:24:40.846697Z"
    }
   },
   "outputs": [
    {
     "data": {
      "text/plain": [
       "(torch.Size([10, 64]),\n",
       " torch.Size([10, 499, 64]),\n",
       " torch.Size([10, 2]),\n",
       " torch.Size([10, 499, 2]))"
      ]
     },
     "execution_count": 49,
     "metadata": {},
     "output_type": "execute_result"
    }
   ],
   "source": [
    "X, Y, p_x, p_y = next(iter(simulation_testDataLoader))\n",
    "X.shape,Y.shape, p_x.shape, p_y.shape"
   ]
  },
  {
   "cell_type": "code",
   "execution_count": 50,
   "metadata": {
    "ExecuteTime": {
     "end_time": "2020-11-17T20:24:40.862341Z",
     "start_time": "2020-11-17T20:24:40.856050Z"
    }
   },
   "outputs": [],
   "source": [
    "SVD_autoencoder_for_recon_without_physics_vars = SVD_Autoencoder(svd_vecs, latentDim-2, False).to(device)"
   ]
  },
  {
   "cell_type": "code",
   "execution_count": 51,
   "metadata": {
    "ExecuteTime": {
     "end_time": "2020-11-17T20:24:43.164199Z",
     "start_time": "2020-11-17T20:24:40.863594Z"
    }
   },
   "outputs": [],
   "source": [
    "surrogate.eval()\n",
    "U_hats = []\n",
    "Us = []\n",
    "for i, sampleBatch in enumerate(simulation_testDataLoader, start=1):\n",
    "\n",
    "    # gpu\n",
    "    Encoding_x, Encoding_y, p_x, p_y = sampleBatch\n",
    "    Encoding_x = Encoding_x.to(device)\n",
    "    p_x = p_x.to(device)\n",
    "    Encoding_y = Encoding_y.to(device)\n",
    "    p_y = p_y.to(device)\n",
    "    with torch.no_grad():\n",
    "        Encoding_y = testDataset_fullSim.invPreprocess_x(Encoding_y.clone().cpu()).to(device)\n",
    "        Us.append([SVD_autoencoder_for_recon_without_physics_vars.decoder(e,\n",
    "                       torch.Size((10,1,128,128))).detach().cpu() for e in Encoding_y[:,:,:-2].transpose(0,1)])\n",
    "        \n",
    "        \n",
    "        U_hat, encoding_hat = surrogate(Encoding_x, p_x, p_y, window=simLen-1)\n",
    "        encoding_hat = testDataset_fullSim.invPreprocess_x(encoding_hat.clone().cpu()).to(device)\n",
    "        \n",
    "        U_hat = [SVD_autoencoder_for_recon_without_physics_vars.decoder(e,\n",
    "                    torch.Size((10,1,128,128))).detach().cpu() for e in encoding_hat[:,:,:-2].transpose(0,1)]\n",
    "                    \n",
    "        U_hats.append(U_hat)\n",
    "        \n",
    "        \n",
    "Real_U = torch.stack(*Us).transpose(0,1)\n",
    "#Real_X_img = convertSimToImage(Real_X)\n",
    "\n",
    "Surr_U = torch.stack(*U_hats).transpose(0,1)\n",
    "#Surr_X_img = convertSimToImage(Surr_X)"
   ]
  },
  {
   "cell_type": "code",
   "execution_count": 52,
   "metadata": {
    "ExecuteTime": {
     "end_time": "2020-11-17T20:24:54.290940Z",
     "start_time": "2020-11-17T20:24:54.285412Z"
    }
   },
   "outputs": [
    {
     "data": {
      "text/plain": [
       "(torch.Size([10, 499, 1, 128, 128]), torch.Size([10, 499, 1, 128, 128]))"
      ]
     },
     "execution_count": 52,
     "metadata": {},
     "output_type": "execute_result"
    }
   ],
   "source": [
    "Real_U.shape, Surr_U.shape"
   ]
  },
  {
   "cell_type": "code",
   "execution_count": 53,
   "metadata": {
    "ExecuteTime": {
     "end_time": "2020-11-17T20:24:56.145796Z",
     "start_time": "2020-11-17T20:24:55.739141Z"
    }
   },
   "outputs": [
    {
     "name": "stdout",
     "output_type": "stream",
     "text": [
      "Relative_Error: 2.4000e-01\n",
      "Relative_Error: 3.4337e-01\n",
      "Relative_Error: 3.7387e-01\n",
      "Relative_Error: 4.0019e-01\n",
      "Relative_Error: 4.6884e-01\n",
      "Relative_Error: 5.6205e-01\n",
      "Relative_Error: 6.5159e-01\n",
      "Relative_Error: 7.3287e-01\n",
      "Relative_Error: 8.1746e-01\n",
      "Relative_Error: 8.9703e-01\n",
      "Relative_Error: 9.5700e-01\n",
      "Relative_Error: 1.0049e+00\n",
      "Relative_Error: 1.0453e+00\n",
      "Relative_Error: 1.0625e+00\n",
      "Relative_Error: 1.0708e+00\n",
      "Relative_Error: 1.0745e+00\n",
      "Relative_Error: 1.0730e+00\n",
      "Relative_Error: 1.0519e+00\n",
      "Relative_Error: 1.0153e+00\n",
      "Relative_Error: 9.5572e-01\n",
      "Relative_Error: 8.9029e-01\n",
      "Relative_Error: 8.5108e-01\n",
      "Relative_Error: 8.3398e-01\n",
      "Relative_Error: 8.1589e-01\n",
      "Relative_Error: 8.0615e-01\n",
      "Relative_Error: 8.0189e-01\n",
      "Relative_Error: 8.1619e-01\n",
      "Relative_Error: 8.2999e-01\n",
      "Relative_Error: 8.3339e-01\n",
      "Relative_Error: 8.2495e-01\n",
      "Relative_Error: 8.1961e-01\n",
      "Relative_Error: 8.1753e-01\n",
      "Relative_Error: 8.1839e-01\n",
      "Relative_Error: 8.0668e-01\n",
      "Relative_Error: 7.9500e-01\n",
      "Relative_Error: 7.8730e-01\n",
      "Relative_Error: 7.8499e-01\n",
      "Relative_Error: 7.8577e-01\n",
      "Relative_Error: 7.9536e-01\n",
      "Relative_Error: 7.8896e-01\n",
      "Relative_Error: 7.9229e-01\n",
      "Relative_Error: 8.0226e-01\n",
      "Relative_Error: 8.0523e-01\n",
      "Relative_Error: 8.2240e-01\n",
      "Relative_Error: 8.3016e-01\n",
      "Relative_Error: 8.2111e-01\n",
      "Relative_Error: 7.9694e-01\n",
      "Relative_Error: 7.7558e-01\n",
      "Relative_Error: 7.7451e-01\n",
      "Relative_Error: 7.8142e-01\n",
      "Relative_Error: 7.9708e-01\n",
      "Relative_Error: 8.0008e-01\n",
      "Relative_Error: 7.9925e-01\n",
      "Relative_Error: 7.9889e-01\n",
      "Relative_Error: 8.0216e-01\n",
      "Relative_Error: 8.0359e-01\n",
      "Relative_Error: 7.9929e-01\n",
      "Relative_Error: 7.9143e-01\n",
      "Relative_Error: 7.8283e-01\n",
      "Relative_Error: 7.7616e-01\n",
      "Relative_Error: 7.7250e-01\n",
      "Relative_Error: 7.7147e-01\n",
      "Relative_Error: 7.8032e-01\n",
      "Relative_Error: 7.8378e-01\n",
      "Relative_Error: 7.8353e-01\n",
      "Relative_Error: 7.9086e-01\n",
      "Relative_Error: 7.9583e-01\n",
      "Relative_Error: 7.9844e-01\n",
      "Relative_Error: 8.0202e-01\n",
      "Relative_Error: 8.0653e-01\n",
      "Relative_Error: 8.0361e-01\n",
      "Relative_Error: 8.1062e-01\n",
      "Relative_Error: 8.0821e-01\n",
      "Relative_Error: 8.0603e-01\n",
      "Relative_Error: 8.0251e-01\n",
      "Relative_Error: 7.9365e-01\n",
      "Relative_Error: 7.8518e-01\n",
      "Relative_Error: 7.6598e-01\n",
      "Relative_Error: 7.6618e-01\n",
      "Relative_Error: 7.6443e-01\n",
      "Relative_Error: 7.6298e-01\n",
      "Relative_Error: 7.8126e-01\n",
      "Relative_Error: 7.9272e-01\n",
      "Relative_Error: 7.9600e-01\n",
      "Relative_Error: 8.0157e-01\n",
      "Relative_Error: 7.9869e-01\n",
      "Relative_Error: 7.9195e-01\n",
      "Relative_Error: 7.9170e-01\n",
      "Relative_Error: 8.0171e-01\n",
      "Relative_Error: 8.0957e-01\n",
      "Relative_Error: 8.0806e-01\n",
      "Relative_Error: 8.0121e-01\n",
      "Relative_Error: 7.8963e-01\n",
      "Relative_Error: 7.8089e-01\n",
      "Relative_Error: 7.8153e-01\n",
      "Relative_Error: 7.8796e-01\n",
      "Relative_Error: 7.8436e-01\n",
      "Relative_Error: 7.8698e-01\n",
      "Relative_Error: 7.9663e-01\n",
      "Relative_Error: 8.0755e-01\n",
      "Relative_Error: 8.1104e-01\n",
      "Relative_Error: 8.0961e-01\n",
      "Relative_Error: 8.1046e-01\n",
      "Relative_Error: 8.0336e-01\n",
      "Relative_Error: 8.0219e-01\n",
      "Relative_Error: 8.0017e-01\n",
      "Relative_Error: 7.9816e-01\n",
      "Relative_Error: 7.9573e-01\n",
      "Relative_Error: 7.9763e-01\n",
      "Relative_Error: 8.0046e-01\n",
      "Relative_Error: 8.0307e-01\n",
      "Relative_Error: 8.0837e-01\n",
      "Relative_Error: 8.0691e-01\n",
      "Relative_Error: 7.8373e-01\n",
      "Relative_Error: 7.6804e-01\n",
      "Relative_Error: 7.5912e-01\n",
      "Relative_Error: 7.4489e-01\n",
      "Relative_Error: 7.4204e-01\n",
      "Relative_Error: 7.5366e-01\n",
      "Relative_Error: 7.5689e-01\n",
      "Relative_Error: 7.5137e-01\n",
      "Relative_Error: 7.5595e-01\n",
      "Relative_Error: 7.6823e-01\n",
      "Relative_Error: 7.8273e-01\n",
      "Relative_Error: 7.8116e-01\n",
      "Relative_Error: 7.7155e-01\n",
      "Relative_Error: 7.5995e-01\n",
      "Relative_Error: 7.5122e-01\n",
      "Relative_Error: 7.5825e-01\n",
      "Relative_Error: 7.6864e-01\n",
      "Relative_Error: 7.7049e-01\n",
      "Relative_Error: 7.7226e-01\n",
      "Relative_Error: 7.8080e-01\n",
      "Relative_Error: 7.9051e-01\n",
      "Relative_Error: 7.8701e-01\n",
      "Relative_Error: 7.8013e-01\n",
      "Relative_Error: 7.7048e-01\n",
      "Relative_Error: 7.7836e-01\n",
      "Relative_Error: 7.7763e-01\n",
      "Relative_Error: 7.7402e-01\n",
      "Relative_Error: 7.6717e-01\n",
      "Relative_Error: 7.6944e-01\n",
      "Relative_Error: 7.7091e-01\n",
      "Relative_Error: 7.8418e-01\n",
      "Relative_Error: 7.9725e-01\n",
      "Relative_Error: 7.9950e-01\n",
      "Relative_Error: 7.9779e-01\n",
      "Relative_Error: 7.9250e-01\n",
      "Relative_Error: 7.7715e-01\n",
      "Relative_Error: 7.7830e-01\n",
      "Relative_Error: 7.7519e-01\n",
      "Relative_Error: 7.7188e-01\n",
      "Relative_Error: 7.7024e-01\n",
      "Relative_Error: 7.7481e-01\n",
      "Relative_Error: 7.7755e-01\n",
      "Relative_Error: 7.8229e-01\n",
      "Relative_Error: 7.8156e-01\n",
      "Relative_Error: 7.8758e-01\n",
      "Relative_Error: 7.9516e-01\n",
      "Relative_Error: 7.9323e-01\n",
      "Relative_Error: 7.8910e-01\n",
      "Relative_Error: 7.7916e-01\n",
      "Relative_Error: 7.9056e-01\n",
      "Relative_Error: 8.0572e-01\n",
      "Relative_Error: 8.0543e-01\n",
      "Relative_Error: 7.9917e-01\n",
      "Relative_Error: 7.9000e-01\n",
      "Relative_Error: 7.6578e-01\n",
      "Relative_Error: 7.5941e-01\n",
      "Relative_Error: 7.5508e-01\n",
      "Relative_Error: 7.5782e-01\n",
      "Relative_Error: 7.6468e-01\n",
      "Relative_Error: 7.7349e-01\n",
      "Relative_Error: 7.6770e-01\n",
      "Relative_Error: 7.6383e-01\n",
      "Relative_Error: 7.5891e-01\n",
      "Relative_Error: 7.5333e-01\n",
      "Relative_Error: 7.5451e-01\n",
      "Relative_Error: 7.5048e-01\n",
      "Relative_Error: 7.5937e-01\n",
      "Relative_Error: 7.7174e-01\n",
      "Relative_Error: 7.7756e-01\n",
      "Relative_Error: 7.6978e-01\n",
      "Relative_Error: 7.7332e-01\n",
      "Relative_Error: 7.8178e-01\n",
      "Relative_Error: 7.8810e-01\n",
      "Relative_Error: 7.8606e-01\n",
      "Relative_Error: 7.9086e-01\n",
      "Relative_Error: 7.8962e-01\n",
      "Relative_Error: 7.8172e-01\n",
      "Relative_Error: 7.8653e-01\n",
      "Relative_Error: 7.8637e-01\n",
      "Relative_Error: 7.8713e-01\n",
      "Relative_Error: 7.9105e-01\n",
      "Relative_Error: 7.8888e-01\n",
      "Relative_Error: 7.7326e-01\n",
      "Relative_Error: 7.7104e-01\n",
      "Relative_Error: 7.8922e-01\n",
      "Relative_Error: 7.8917e-01\n",
      "Relative_Error: 7.9617e-01\n",
      "Relative_Error: 8.0934e-01\n",
      "Relative_Error: 8.0633e-01\n",
      "Relative_Error: 8.0544e-01\n",
      "Relative_Error: 7.9118e-01\n",
      "Relative_Error: 7.8731e-01\n",
      "Relative_Error: 7.8566e-01\n",
      "Relative_Error: 7.8609e-01\n",
      "Relative_Error: 7.8649e-01\n",
      "Relative_Error: 7.9839e-01\n",
      "Relative_Error: 7.9410e-01\n",
      "Relative_Error: 7.8675e-01\n",
      "Relative_Error: 7.8722e-01\n",
      "Relative_Error: 7.8812e-01\n",
      "Relative_Error: 7.8647e-01\n",
      "Relative_Error: 7.9005e-01\n",
      "Relative_Error: 7.9410e-01\n",
      "Relative_Error: 7.8979e-01\n",
      "Relative_Error: 7.9292e-01\n",
      "Relative_Error: 8.0464e-01\n",
      "Relative_Error: 8.0731e-01\n",
      "Relative_Error: 8.0412e-01\n",
      "Relative_Error: 8.0256e-01\n",
      "Relative_Error: 8.0315e-01\n",
      "Relative_Error: 8.0886e-01\n",
      "Relative_Error: 8.0568e-01\n",
      "Relative_Error: 8.0491e-01\n",
      "Relative_Error: 8.0297e-01\n",
      "Relative_Error: 7.9906e-01\n",
      "Relative_Error: 7.8724e-01\n",
      "Relative_Error: 7.8681e-01\n",
      "Relative_Error: 7.9992e-01\n",
      "Relative_Error: 8.1005e-01\n",
      "Relative_Error: 8.0983e-01\n",
      "Relative_Error: 8.1399e-01\n",
      "Relative_Error: 8.1713e-01\n",
      "Relative_Error: 8.2482e-01\n",
      "Relative_Error: 8.2065e-01\n",
      "Relative_Error: 8.1004e-01\n",
      "Relative_Error: 7.9506e-01\n",
      "Relative_Error: 7.8771e-01\n",
      "Relative_Error: 7.9547e-01\n",
      "Relative_Error: 7.9670e-01\n",
      "Relative_Error: 7.9560e-01\n",
      "Relative_Error: 8.0023e-01\n",
      "Relative_Error: 7.9457e-01\n",
      "Relative_Error: 7.9085e-01\n",
      "Relative_Error: 7.8952e-01\n",
      "Relative_Error: 7.9708e-01\n",
      "Relative_Error: 8.1595e-01\n",
      "Relative_Error: 8.2488e-01\n",
      "Relative_Error: 8.2864e-01\n",
      "Relative_Error: 8.2560e-01\n",
      "Relative_Error: 8.2492e-01\n",
      "Relative_Error: 8.1507e-01\n",
      "Relative_Error: 7.9044e-01\n",
      "Relative_Error: 7.7570e-01\n",
      "Relative_Error: 7.7717e-01\n",
      "Relative_Error: 7.9013e-01\n",
      "Relative_Error: 7.9735e-01\n",
      "Relative_Error: 8.0272e-01\n",
      "Relative_Error: 8.0708e-01\n",
      "Relative_Error: 8.1512e-01\n",
      "Relative_Error: 8.1603e-01\n",
      "Relative_Error: 8.0587e-01\n",
      "Relative_Error: 7.9915e-01\n",
      "Relative_Error: 7.9441e-01\n",
      "Relative_Error: 7.9246e-01\n",
      "Relative_Error: 7.9103e-01\n",
      "Relative_Error: 7.8998e-01\n",
      "Relative_Error: 7.9161e-01\n",
      "Relative_Error: 8.0038e-01\n",
      "Relative_Error: 8.0481e-01\n",
      "Relative_Error: 8.1388e-01\n",
      "Relative_Error: 8.3412e-01\n",
      "Relative_Error: 8.4155e-01\n",
      "Relative_Error: 8.3338e-01\n",
      "Relative_Error: 8.1081e-01\n",
      "Relative_Error: 7.8964e-01\n",
      "Relative_Error: 7.8764e-01\n",
      "Relative_Error: 7.9207e-01\n",
      "Relative_Error: 7.8778e-01\n",
      "Relative_Error: 7.8407e-01\n",
      "Relative_Error: 7.8635e-01\n",
      "Relative_Error: 7.8694e-01\n",
      "Relative_Error: 7.9139e-01\n",
      "Relative_Error: 7.9565e-01\n",
      "Relative_Error: 7.9153e-01\n",
      "Relative_Error: 7.8254e-01\n",
      "Relative_Error: 7.7763e-01\n",
      "Relative_Error: 7.8276e-01\n",
      "Relative_Error: 7.9782e-01\n",
      "Relative_Error: 8.0373e-01\n",
      "Relative_Error: 8.0800e-01\n",
      "Relative_Error: 7.9939e-01\n",
      "Relative_Error: 7.9117e-01\n",
      "Relative_Error: 7.9356e-01\n",
      "Relative_Error: 7.8893e-01\n",
      "Relative_Error: 7.8506e-01\n",
      "Relative_Error: 7.9185e-01\n",
      "Relative_Error: 8.1232e-01\n",
      "Relative_Error: 8.2329e-01\n",
      "Relative_Error: 8.2360e-01\n",
      "Relative_Error: 8.1902e-01\n",
      "Relative_Error: 8.1661e-01\n",
      "Relative_Error: 8.1301e-01\n",
      "Relative_Error: 8.1296e-01\n",
      "Relative_Error: 8.1261e-01\n",
      "Relative_Error: 8.1358e-01\n",
      "Relative_Error: 8.1457e-01\n",
      "Relative_Error: 8.1544e-01\n",
      "Relative_Error: 8.2133e-01\n",
      "Relative_Error: 8.1815e-01\n",
      "Relative_Error: 8.1317e-01\n",
      "Relative_Error: 7.9616e-01\n",
      "Relative_Error: 7.7844e-01\n",
      "Relative_Error: 7.7242e-01\n",
      "Relative_Error: 7.6689e-01\n",
      "Relative_Error: 7.6137e-01\n",
      "Relative_Error: 7.7121e-01\n",
      "Relative_Error: 7.7957e-01\n",
      "Relative_Error: 7.9908e-01\n",
      "Relative_Error: 8.1713e-01\n",
      "Relative_Error: 8.2251e-01\n",
      "Relative_Error: 8.3025e-01\n",
      "Relative_Error: 8.2818e-01\n",
      "Relative_Error: 8.2336e-01\n",
      "Relative_Error: 8.2248e-01\n",
      "Relative_Error: 8.2005e-01\n",
      "Relative_Error: 8.2058e-01\n",
      "Relative_Error: 8.1149e-01\n",
      "Relative_Error: 7.9778e-01\n",
      "Relative_Error: 7.7649e-01\n",
      "Relative_Error: 7.6766e-01\n",
      "Relative_Error: 7.7516e-01\n",
      "Relative_Error: 7.9219e-01\n",
      "Relative_Error: 8.1032e-01\n",
      "Relative_Error: 8.1499e-01\n",
      "Relative_Error: 8.1633e-01\n",
      "Relative_Error: 8.0973e-01\n",
      "Relative_Error: 8.0170e-01\n",
      "Relative_Error: 7.8867e-01\n",
      "Relative_Error: 7.7568e-01\n",
      "Relative_Error: 7.6621e-01\n",
      "Relative_Error: 7.5806e-01\n",
      "Relative_Error: 7.5228e-01\n",
      "Relative_Error: 7.5444e-01\n",
      "Relative_Error: 7.6249e-01\n",
      "Relative_Error: 7.6168e-01\n",
      "Relative_Error: 7.6659e-01\n",
      "Relative_Error: 7.7307e-01\n",
      "Relative_Error: 7.7722e-01\n",
      "Relative_Error: 7.8507e-01\n",
      "Relative_Error: 8.0599e-01\n",
      "Relative_Error: 8.0612e-01\n",
      "Relative_Error: 8.0162e-01\n",
      "Relative_Error: 8.0292e-01\n",
      "Relative_Error: 8.0056e-01\n",
      "Relative_Error: 7.8122e-01\n",
      "Relative_Error: 7.7739e-01\n",
      "Relative_Error: 7.8404e-01\n",
      "Relative_Error: 7.8647e-01\n",
      "Relative_Error: 7.7411e-01\n",
      "Relative_Error: 7.8390e-01\n",
      "Relative_Error: 8.0473e-01\n",
      "Relative_Error: 8.0842e-01\n",
      "Relative_Error: 8.0352e-01\n",
      "Relative_Error: 8.0103e-01\n",
      "Relative_Error: 8.1083e-01\n",
      "Relative_Error: 8.1593e-01\n",
      "Relative_Error: 8.1611e-01\n",
      "Relative_Error: 8.1352e-01\n",
      "Relative_Error: 8.0608e-01\n",
      "Relative_Error: 8.1252e-01\n",
      "Relative_Error: 8.1569e-01\n",
      "Relative_Error: 8.0668e-01\n",
      "Relative_Error: 8.0458e-01\n",
      "Relative_Error: 8.1199e-01\n",
      "Relative_Error: 8.2173e-01\n",
      "Relative_Error: 8.2114e-01\n",
      "Relative_Error: 8.1835e-01\n",
      "Relative_Error: 8.2026e-01\n",
      "Relative_Error: 8.0400e-01\n",
      "Relative_Error: 7.8586e-01\n",
      "Relative_Error: 7.7853e-01\n",
      "Relative_Error: 7.7695e-01\n",
      "Relative_Error: 7.7709e-01\n",
      "Relative_Error: 7.7866e-01\n",
      "Relative_Error: 7.7657e-01\n",
      "Relative_Error: 7.8255e-01\n",
      "Relative_Error: 7.9526e-01\n",
      "Relative_Error: 8.0705e-01\n",
      "Relative_Error: 7.9676e-01\n",
      "Relative_Error: 7.7772e-01\n",
      "Relative_Error: 7.6863e-01\n",
      "Relative_Error: 7.7768e-01\n",
      "Relative_Error: 7.8555e-01\n",
      "Relative_Error: 7.9594e-01\n",
      "Relative_Error: 8.0470e-01\n",
      "Relative_Error: 8.0768e-01\n",
      "Relative_Error: 8.1537e-01\n",
      "Relative_Error: 8.1780e-01\n",
      "Relative_Error: 8.0921e-01\n",
      "Relative_Error: 8.0169e-01\n",
      "Relative_Error: 7.9020e-01\n",
      "Relative_Error: 7.8247e-01\n",
      "Relative_Error: 7.8301e-01\n",
      "Relative_Error: 7.9158e-01\n",
      "Relative_Error: 8.0925e-01\n",
      "Relative_Error: 8.0354e-01\n",
      "Relative_Error: 8.0008e-01\n",
      "Relative_Error: 8.1344e-01\n",
      "Relative_Error: 8.2574e-01\n",
      "Relative_Error: 8.2266e-01\n",
      "Relative_Error: 8.3541e-01\n",
      "Relative_Error: 8.4248e-01\n",
      "Relative_Error: 8.3901e-01\n",
      "Relative_Error: 8.3945e-01\n",
      "Relative_Error: 8.3881e-01\n",
      "Relative_Error: 8.2889e-01\n",
      "Relative_Error: 8.1557e-01\n",
      "Relative_Error: 8.0789e-01\n",
      "Relative_Error: 8.0821e-01\n",
      "Relative_Error: 8.0032e-01\n",
      "Relative_Error: 7.8931e-01\n",
      "Relative_Error: 7.8923e-01\n",
      "Relative_Error: 7.8142e-01\n",
      "Relative_Error: 7.8296e-01\n",
      "Relative_Error: 7.8341e-01\n",
      "Relative_Error: 7.6915e-01\n",
      "Relative_Error: 7.5599e-01\n",
      "Relative_Error: 7.5872e-01\n",
      "Relative_Error: 7.6291e-01\n",
      "Relative_Error: 7.6801e-01\n",
      "Relative_Error: 7.7942e-01\n",
      "Relative_Error: 7.9240e-01\n",
      "Relative_Error: 8.1289e-01\n",
      "Relative_Error: 8.1920e-01\n",
      "Relative_Error: 8.1980e-01\n",
      "Relative_Error: 8.1021e-01\n",
      "Relative_Error: 7.9655e-01\n",
      "Relative_Error: 7.7967e-01\n",
      "Relative_Error: 7.7518e-01\n",
      "Relative_Error: 7.8573e-01\n",
      "Relative_Error: 7.8976e-01\n",
      "Relative_Error: 7.9027e-01\n",
      "Relative_Error: 7.9253e-01\n",
      "Relative_Error: 7.9025e-01\n",
      "Relative_Error: 7.9862e-01\n",
      "Relative_Error: 8.1306e-01\n",
      "Relative_Error: 8.0478e-01\n",
      "Relative_Error: 7.9623e-01\n",
      "Relative_Error: 7.8554e-01\n",
      "Relative_Error: 7.8096e-01\n",
      "Relative_Error: 7.7721e-01\n",
      "Relative_Error: 7.7146e-01\n",
      "Relative_Error: 7.8121e-01\n",
      "Relative_Error: 7.9533e-01\n",
      "Relative_Error: 8.0328e-01\n",
      "Relative_Error: 8.0490e-01\n",
      "Relative_Error: 7.9673e-01\n",
      "Relative_Error: 7.9366e-01\n",
      "Relative_Error: 8.0959e-01\n",
      "Relative_Error: 8.1556e-01\n",
      "Relative_Error: 8.1224e-01\n",
      "Relative_Error: 8.0057e-01\n",
      "Relative_Error: 8.0396e-01\n",
      "Relative_Error: 8.1433e-01\n",
      "Relative_Error: 8.0228e-01\n",
      "Relative_Error: 8.0443e-01\n",
      "Relative_Error: 8.0080e-01\n",
      "Relative_Error: 8.0228e-01\n",
      "Relative_Error: 8.1463e-01\n",
      "Relative_Error: 8.1309e-01\n",
      "Relative_Error: 8.0704e-01\n",
      "Relative_Error: 8.0682e-01\n",
      "Relative_Error: 7.9834e-01\n",
      "Relative_Error: 7.9231e-01\n",
      "Relative_Error: 7.9482e-01\n",
      "Relative_Error: 8.0215e-01\n",
      "Relative_Error: 7.9256e-01\n",
      "Relative_Error: 7.9106e-01\n",
      "Relative_Error: 7.9206e-01\n",
      "Relative_Error: 7.9694e-01\n",
      "Relative_Error: 7.9629e-01\n",
      "Relative_Error: 7.9755e-01\n",
      "Relative_Error: 7.8763e-01\n",
      "Relative_Error: 7.8497e-01\n",
      "Relative_Error: 7.8708e-01\n",
      "Relative_Error: 7.7936e-01\n",
      "Relative_Error: 7.7251e-01\n",
      "Relative_Error: 7.7362e-01\n",
      "Relative_Error: 7.7606e-01\n",
      "Relative_Error: 7.7465e-01\n",
      "Relative_Error: 7.8909e-01\n",
      "Relative_Error: 8.0618e-01\n",
      "Relative_Error: 8.0628e-01\n",
      "Relative_Error: 7.9158e-01\n",
      "Relative_Error: 7.8243e-01\n"
     ]
    },
    {
     "name": "stdout",
     "output_type": "stream",
     "text": [
      "Relative_Error: 7.8949e-01\n"
     ]
    }
   ],
   "source": [
    "for a,b in zip(*Us,*U_hats):\n",
    "    rel_error = torch.norm(a - b)/torch.norm(a)\n",
    "    writeMessage(\"Relative_Error: {:.4e}\".format(rel_error),versionName)"
   ]
  },
  {
   "cell_type": "code",
   "execution_count": 55,
   "metadata": {
    "ExecuteTime": {
     "end_time": "2020-11-17T20:26:10.149925Z",
     "start_time": "2020-11-17T20:26:09.596119Z"
    }
   },
   "outputs": [
    {
     "name": "stdout",
     "output_type": "stream",
     "text": [
      "9\n"
     ]
    }
   ],
   "source": [
    "sim = -1\n",
    "rel_error_by_sim_and_frame = []\n",
    "for batch_real, batch_surr in zip(Real_U,Surr_U):\n",
    "    sim+=1\n",
    "    rel_error_by_sim_and_frame.append([])\n",
    "    for frame_real, frame_surr in zip(batch_real, batch_surr):\n",
    "        assert frame_real.size()==torch.Size((1,128,128))\n",
    "        rel_error_by_sim_and_frame[sim].append( torch.norm(frame_surr - frame_real)/torch.norm(frame_real))\n",
    "print(sim)"
   ]
  },
  {
   "cell_type": "code",
   "execution_count": 56,
   "metadata": {
    "ExecuteTime": {
     "end_time": "2020-11-17T20:26:22.110563Z",
     "start_time": "2020-11-17T20:26:21.717869Z"
    }
   },
   "outputs": [
    {
     "data": {
      "image/png": "[encoded data removed]",
      "text/plain": [
       "<Figure size 432x288 with 1 Axes>"
      ]
     },
     "metadata": {
      "needs_background": "light"
     },
     "output_type": "display_data"
    },
    {
     "data": {
      "image/png": "[encoded data removed]",
      "text/plain": [
       "<Figure size 432x288 with 1 Axes>"
      ]
     },
     "metadata": {
      "needs_background": "light"
     },
     "output_type": "display_data"
    }
   ],
   "source": [
    "plt.plot(np.vstack(rel_error_by_sim_and_frame).T)\n",
    "plt.legend([i for i in range(len(testSimFiles))])\n",
    "plt.show()\n",
    "plt.plot(np.vstack(rel_error_by_sim_and_frame)[:,:50].T)\n",
    "plt.legend([i for i in range(len(testSimFiles))])\n",
    "plt.show()"
   ]
  },
  {
   "cell_type": "code",
   "execution_count": null,
   "metadata": {},
   "outputs": [],
   "source": []
  }
 ],
 "metadata": {
  "kernelspec": {
   "display_name": "Python 3",
   "language": "python",
   "name": "python3"
  },
  "language_info": {
   "codemirror_mode": {
    "name": "ipython",
    "version": 3
   },
   "file_extension": ".py",
   "mimetype": "text/x-python",
   "name": "python",
   "nbconvert_exporter": "python",
   "pygments_lexer": "ipython3",
   "version": "3.8.3"
  }
 },
 "nbformat": 4,
 "nbformat_minor": 2
}
