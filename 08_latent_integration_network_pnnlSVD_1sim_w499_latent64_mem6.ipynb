{
 "cells": [
  {
   "cell_type": "markdown",
   "metadata": {},
   "source": [
    "## Latent Integration Network (LIN)\n",
    "This notebook gives an example of how to train a LIN on SVD vectors. Note: 05_experiment_SVD.ipynb created and saved the SVD Decomposition. "
   ]
  },
  {
   "cell_type": "markdown",
   "metadata": {},
   "source": [
    "## Imports"
   ]
  },
  {
   "cell_type": "code",
   "execution_count": 1,
   "metadata": {
    "ExecuteTime": {
     "end_time": "2021-01-24T04:43:44.669751Z",
     "start_time": "2021-01-24T04:43:39.520387Z"
    }
   },
   "outputs": [],
   "source": [
    "# EXPORT\n",
    "# --- Must haves ---\n",
    "import os, sys\n",
    "sys.path.append('..')\n",
    "\n",
    "import torch\n",
    "from torch.utils.data import Dataset, DataLoader\n",
    "from torch.utils.tensorboard import SummaryWriter\n",
    "import torch.cuda as cuda\n",
    "import torch.nn as nn\n",
    "import torchvision\n",
    "import torch.nn.functional as F\n",
    "\n",
    "from surrogates4sims.pnnlDatasets import CCSI_2D\n",
    "\n",
    "from surrogates4sims.utils import create_opt, create_one_cycle, find_lr, printNumModelParams, \\\n",
    "                                    rmse, writeMessage, plotSampleWprediction, plotSampleWpredictionByChannel, \\\n",
    "                                    plotSample, curl, jacobian, stream2uv, convertSimToImage, pkl_save, pkl_load, \\\n",
    "                                    create_1_channel_movie\n",
    "\n",
    "from surrogates4sims.models import Generator, Encoder, ConvDeconvFactor2\n",
    "\n",
    "from surrogates4sims.train import trainEpoch, validEpoch\n",
    "\n",
    "import numpy as np\n",
    "from tqdm import tqdm\n",
    "from copy import deepcopy\n",
    "import matplotlib.pyplot as plt\n",
    "from glob import glob"
   ]
  },
  {
   "cell_type": "code",
   "execution_count": 2,
   "metadata": {
    "ExecuteTime": {
     "end_time": "2021-01-24T04:43:44.846151Z",
     "start_time": "2021-01-24T04:43:44.673962Z"
    }
   },
   "outputs": [
    {
     "name": "stdout",
     "output_type": "stream",
     "text": [
      "gridsize_128  gridsize_512  svd_channel1_gridsize128.pkl\r\n"
     ]
    }
   ],
   "source": [
    "!ls /work/pnnl_liquid_inlet/channel_1"
   ]
  },
  {
   "cell_type": "markdown",
   "metadata": {},
   "source": [
    "## Settings"
   ]
  },
  {
   "cell_type": "code",
   "execution_count": 3,
   "metadata": {
    "ExecuteTime": {
     "end_time": "2021-01-24T04:43:47.919336Z",
     "start_time": "2021-01-24T04:43:47.895488Z"
    }
   },
   "outputs": [
    {
     "data": {
      "text/plain": [
       "'LIN_SVD_PNNL_GPUs2_w499_latentDim64_hd128_128_128_bz1_epochs1000_memory6'"
      ]
     },
     "execution_count": 3,
     "metadata": {},
     "output_type": "execute_result"
    }
   ],
   "source": [
    "DEBUG = False\n",
    "# model name, for tensorboard recording and checkpointing purposes.\n",
    "versionName = \"LIN_SVD_PNNL\"\n",
    "\n",
    "# GPU Numbers to use. Comma seprate them for multi-GPUs.\n",
    "gpu_ids = \"2\"#,1,2,3\"\n",
    "versionName = versionName + '_GPUs{}'.format(gpu_ids.replace(',',''))\n",
    "# path to load model weights.\n",
    "pretrained_path = None\n",
    "\n",
    "# rate at which to record metrics. (number of batches to average over when recording metrics, e.g. \"every 5 batches\")\n",
    "tensorboard_rate = 5\n",
    "\n",
    "# number of epochs to train. This is defined here so we can use the OneCycle LR Scheduler.\n",
    "epochs = 1000\n",
    "\n",
    "# Data Directory\n",
    "channel = 2\n",
    "gridsize = 128\n",
    "dataDirec = '/work/pnnl_liquid_inlet/channel_{}/gridsize_{}'.format(channel,gridsize)\n",
    "build_vecs = True \n",
    "SVDFn = '/work/pnnl_liquid_inlet/channel_{}/svd_channel{}_gridsize{}.pkl'.format(channel,channel,gridsize)\n",
    "preprocess = False\n",
    "AE = True\n",
    "\n",
    "# checkpoint directory\n",
    "cps = 'cps'\n",
    "tensorboard_direc = \"tb\"\n",
    "\n",
    "findLRs = True  \n",
    "patience = 1\n",
    "\n",
    "# hyper-params\n",
    "seed = 1234\n",
    "np.random.seed(seed)\n",
    "testSplit = .2\n",
    "bz = 1\n",
    "numSamplesToKeep = np.infty #if not debugging\n",
    "latentDim = 64\n",
    "simLen = 500\n",
    "\n",
    "w = 499\n",
    "memory_length = 6\n",
    "hiddenLayers =  [128, 128, 128]\n",
    "hd ='_'.join(map(str,hiddenLayers))\n",
    "activation = nn.ELU()\n",
    "\n",
    "if DEBUG:\n",
    "    epochs = 2\n",
    "    numSamplesToKeep = 200\n",
    "    createDebugData = True\n",
    "    \n",
    "\n",
    "versionName = versionName + '_w{}_latentDim{}_hd{}_bz{}_epochs{}_memory{}'.format(w,latentDim,hd,bz,epochs,\n",
    "                                                                                 memory_length)\n",
    "versionName"
   ]
  },
  {
   "cell_type": "markdown",
   "metadata": {},
   "source": [
    "## Select Personal GPUs"
   ]
  },
  {
   "cell_type": "code",
   "execution_count": 4,
   "metadata": {
    "ExecuteTime": {
     "end_time": "2021-01-24T04:43:48.931254Z",
     "start_time": "2021-01-24T04:43:48.722117Z"
    }
   },
   "outputs": [
    {
     "name": "stdout",
     "output_type": "stream",
     "text": [
      "Sat Jan 23 20:43:48 2021       \n",
      "+-----------------------------------------------------------------------------+\n",
      "| NVIDIA-SMI 440.33.01    Driver Version: 440.33.01    CUDA Version: 10.2     |\n",
      "|-------------------------------+----------------------+----------------------+\n",
      "| GPU  Name        Persistence-M| Bus-Id        Disp.A | Volatile Uncorr. ECC |\n",
      "| Fan  Temp  Perf  Pwr:Usage/Cap|         Memory-Usage | GPU-Util  Compute M. |\n",
      "|===============================+======================+======================|\n",
      "|   0  TITAN Xp            On   | 00000000:02:00.0 Off |                  N/A |\n",
      "| 23%   18C    P8     8W / 250W |     12MiB / 12196MiB |      0%      Default |\n",
      "+-------------------------------+----------------------+----------------------+\n",
      "|   1  TITAN Xp            On   | 00000000:03:00.0 Off |                  N/A |\n",
      "| 23%   18C    P8     8W / 250W |     12MiB / 12196MiB |      0%      Default |\n",
      "+-------------------------------+----------------------+----------------------+\n",
      "|   2  TITAN Xp            On   | 00000000:81:00.0 Off |                  N/A |\n",
      "| 23%   20C    P8     8W / 250W |   8074MiB / 12196MiB |      0%      Default |\n",
      "+-------------------------------+----------------------+----------------------+\n",
      "|   3  TITAN Xp            On   | 00000000:82:00.0 Off |                  N/A |\n",
      "| 23%   19C    P8     9W / 250W |   1267MiB / 12196MiB |      0%      Default |\n",
      "+-------------------------------+----------------------+----------------------+\n",
      "                                                                               \n",
      "+-----------------------------------------------------------------------------+\n",
      "| Processes:                                                       GPU Memory |\n",
      "|  GPU       PID   Type   Process name                             Usage      |\n",
      "|=============================================================================|\n",
      "|    2      5231      C   /home/bartoldson1/anaconda3/bin/python      6775MiB |\n",
      "|    2     26541      C   /home/bartoldson1/anaconda3/bin/python      1287MiB |\n",
      "|    3      5231      C   /home/bartoldson1/anaconda3/bin/python      1255MiB |\n",
      "+-----------------------------------------------------------------------------+\n"
     ]
    }
   ],
   "source": [
    "!nvidia-smi"
   ]
  },
  {
   "cell_type": "code",
   "execution_count": 5,
   "metadata": {
    "ExecuteTime": {
     "end_time": "2021-01-24T04:43:48.940398Z",
     "start_time": "2021-01-24T04:43:48.935366Z"
    }
   },
   "outputs": [],
   "source": [
    "os.environ[\"CUDA_DEVICE_ORDER\"]=\"PCI_BUS_ID\"   # see issue #152\n",
    "os.environ[\"CUDA_VISIBLE_DEVICES\"]=gpu_ids"
   ]
  },
  {
   "cell_type": "code",
   "execution_count": 6,
   "metadata": {
    "ExecuteTime": {
     "end_time": "2021-01-24T04:43:49.106067Z",
     "start_time": "2021-01-24T04:43:49.063412Z"
    }
   },
   "outputs": [
    {
     "name": "stdout",
     "output_type": "stream",
     "text": [
      "Using device: cuda\n"
     ]
    }
   ],
   "source": [
    "device = torch.device('cuda' if torch.cuda.is_available() else 'cpu')\n",
    "print('Using device:', device)"
   ]
  },
  {
   "cell_type": "code",
   "execution_count": 7,
   "metadata": {
    "ExecuteTime": {
     "end_time": "2021-01-24T04:43:49.232346Z",
     "start_time": "2021-01-24T04:43:49.222774Z"
    }
   },
   "outputs": [
    {
     "name": "stdout",
     "output_type": "stream",
     "text": [
      "True\n",
      "1\n",
      "0\n",
      "TITAN Xp\n"
     ]
    }
   ],
   "source": [
    "if device.type == 'cuda':\n",
    "    print(cuda.is_available())\n",
    "    print(cuda.device_count())\n",
    "    print(cuda.current_device())\n",
    "    print(cuda.get_device_name())"
   ]
  },
  {
   "cell_type": "code",
   "execution_count": 8,
   "metadata": {
    "ExecuteTime": {
     "end_time": "2021-01-24T04:43:52.110255Z",
     "start_time": "2021-01-24T04:43:49.378344Z"
    }
   },
   "outputs": [
    {
     "name": "stdout",
     "output_type": "stream",
     "text": [
      "Sat Jan 23 20:43:51 2021       \n",
      "+-----------------------------------------------------------------------------+\n",
      "| NVIDIA-SMI 440.33.01    Driver Version: 440.33.01    CUDA Version: 10.2     |\n",
      "|-------------------------------+----------------------+----------------------+\n",
      "| GPU  Name        Persistence-M| Bus-Id        Disp.A | Volatile Uncorr. ECC |\n",
      "| Fan  Temp  Perf  Pwr:Usage/Cap|         Memory-Usage | GPU-Util  Compute M. |\n",
      "|===============================+======================+======================|\n",
      "|   0  TITAN Xp            On   | 00000000:02:00.0 Off |                  N/A |\n",
      "| 23%   18C    P8     8W / 250W |     12MiB / 12196MiB |      0%      Default |\n",
      "+-------------------------------+----------------------+----------------------+\n",
      "|   1  TITAN Xp            On   | 00000000:03:00.0 Off |                  N/A |\n",
      "| 23%   18C    P8     8W / 250W |     12MiB / 12196MiB |      0%      Default |\n",
      "+-------------------------------+----------------------+----------------------+\n",
      "|   2  TITAN Xp            On   | 00000000:81:00.0 Off |                  N/A |\n",
      "| 23%   23C    P2    59W / 250W |   8635MiB / 12196MiB |      3%      Default |\n",
      "+-------------------------------+----------------------+----------------------+\n",
      "|   3  TITAN Xp            On   | 00000000:82:00.0 Off |                  N/A |\n",
      "| 23%   19C    P8     9W / 250W |   1267MiB / 12196MiB |      0%      Default |\n",
      "+-------------------------------+----------------------+----------------------+\n",
      "                                                                               \n",
      "+-----------------------------------------------------------------------------+\n",
      "| Processes:                                                       GPU Memory |\n",
      "|  GPU       PID   Type   Process name                             Usage      |\n",
      "|=============================================================================|\n",
      "|    2      5231      C   /home/bartoldson1/anaconda3/bin/python      6775MiB |\n",
      "|    2     11605      C   /home/bartoldson1/anaconda3/bin/python       561MiB |\n",
      "|    2     26541      C   /home/bartoldson1/anaconda3/bin/python      1287MiB |\n",
      "|    3      5231      C   /home/bartoldson1/anaconda3/bin/python      1255MiB |\n",
      "+-----------------------------------------------------------------------------+\n"
     ]
    }
   ],
   "source": [
    "a = torch.zeros(5, device=device.type)\n",
    "!nvidia-smi"
   ]
  },
  {
   "cell_type": "markdown",
   "metadata": {},
   "source": [
    "## Build Latent Vectors (Warning....)\n",
    "The computation of building the latent vectors takes a loooong time. \n",
    "This codes checks to see if svd_vec_file has been saved. If it has, \n",
    "it will reload them. "
   ]
  },
  {
   "cell_type": "code",
   "execution_count": 9,
   "metadata": {
    "ExecuteTime": {
     "end_time": "2021-01-24T04:43:52.130450Z",
     "start_time": "2021-01-24T04:43:52.114295Z"
    }
   },
   "outputs": [
    {
     "data": {
      "text/plain": [
       "(10, 40)"
      ]
     },
     "execution_count": 9,
     "metadata": {},
     "output_type": "execute_result"
    }
   ],
   "source": [
    "sims = glob(os.path.join(dataDirec,'*.pkl'))\n",
    "sims = sorted(sims)\n",
    "numSims = len(sims)\n",
    "idx = int(testSplit*numSims)\n",
    "testInds = np.linspace(1,numSims-2,idx).astype('int')\n",
    "trainInds = list(set(np.arange(0,numSims)).difference(set(testInds)))\n",
    "# perm = np.random.permutation(numSims)\n",
    "# testInds = perm[:idx]\n",
    "# trainInds = perm[idx:]\n",
    "testSimFiles = [sims[idx] for idx in testInds]\n",
    "trainSimFiles = [sims[idx] for idx in trainInds]\n",
    "len(testSimFiles), len(trainSimFiles)"
   ]
  },
  {
   "cell_type": "code",
   "execution_count": 10,
   "metadata": {
    "ExecuteTime": {
     "end_time": "2021-01-24T04:43:52.137663Z",
     "start_time": "2021-01-24T04:43:52.133826Z"
    }
   },
   "outputs": [],
   "source": [
    "trainSimFiles = [trainSimFiles[0]]\n",
    "\n",
    "testSimFiles = trainSimFiles"
   ]
  },
  {
   "cell_type": "code",
   "execution_count": 11,
   "metadata": {
    "ExecuteTime": {
     "end_time": "2021-01-24T04:43:52.167523Z",
     "start_time": "2021-01-24T04:43:52.141007Z"
    }
   },
   "outputs": [],
   "source": [
    "class CCSI_2D_one_of_each_getitem(Dataset):\n",
    "    def __init__(self, \n",
    "                 dataFiles,\n",
    "                 txtFile = '/data/ccsi/pnnl_liquid_inlet/liquid_inlet_velocity.txt',\n",
    "                 channel=1,\n",
    "                 gridSize=128,\n",
    "                 simLen = 500,\n",
    "                 w = 10, # this is the length of the Y output to predict\n",
    "                 AE = False, # this only return x,x, i.e. no y.\n",
    "                 numToKeep=np.infty,doPreprocess=False): \n",
    "        \n",
    "        self.dataFiles = dataFiles\n",
    "        if numToKeep < len(self.dataFiles):\n",
    "            self.dataFiles = self.dataFiles[:numToKeep]\n",
    "\n",
    "        self.channel = channel\n",
    "        self.gridSize = gridSize\n",
    "        self.numToKeep = numToKeep\n",
    "        self.simLen = simLen\n",
    "        self.t = np.linspace(0,1,simLen).astype('float32')\n",
    "        self.w = w\n",
    "        self.AE = AE\n",
    "        self.doPreprocess = doPreprocess\n",
    "        \n",
    "        # Get the inlet velocity\n",
    "        with open(txtFile) as fid:\n",
    "            txt = fid.read().splitlines()\n",
    "        inletVelocity = np.array(list(map(float,txt[1:]))).astype('float32')\n",
    "        self.inletMx = np.max(inletVelocity)\n",
    "        self.inletMn = np.min(inletVelocity)\n",
    "        \n",
    "        data = []\n",
    "        for fn in self.dataFiles:\n",
    "            idx = int(fn.split('/')[-1].replace('.pkl','')) - 1\n",
    "            D = pkl_load(fn)\n",
    "            data.append((D,inletVelocity[idx]))\n",
    "               \n",
    "        self.data = data\n",
    "    \n",
    "    def __len__(self):\n",
    "        return len(self.simLen*self.data)\n",
    "\n",
    "\n",
    "    def __getitem__(self, idx):\n",
    "        q,r = np.divmod(idx,self.simLen)\n",
    "        r_idx = r\n",
    "            \n",
    "        X,p = self.data[q]\n",
    "        x = X[r_idx:r_idx+1]\n",
    "        #print(x.shape)\n",
    "        y = X[r_idx+1:r_idx+self.w+1]\n",
    "        #print(y.shape)\n",
    "        if self.doPreprocess:\n",
    "            x = self.preprocessFcn(x)\n",
    "            y = self.preprocessFcn(y)\n",
    "        \n",
    "        y = np.expand_dims(y,1)\n",
    "        p_x = np.hstack([p,self.t[r_idx]])\n",
    "        p_y = np.vstack([p*np.ones((self.w,)),self.t[r_idx+1:r_idx+self.w+1]]).T\n",
    "        X = x.astype('float32')\n",
    "        Y = y.astype('float32')\n",
    "        if self.AE:\n",
    "            return X,X # this allows LR_finder to work\n",
    "        else:\n",
    "            return X, Y, p_x, p_y"
   ]
  },
  {
   "cell_type": "code",
   "execution_count": 12,
   "metadata": {
    "ExecuteTime": {
     "end_time": "2021-01-24T04:43:52.252576Z",
     "start_time": "2021-01-24T04:43:52.170414Z"
    }
   },
   "outputs": [
    {
     "data": {
      "text/plain": [
       "(500, 500)"
      ]
     },
     "execution_count": 12,
     "metadata": {},
     "output_type": "execute_result"
    }
   ],
   "source": [
    "testDataset = CCSI_2D_one_of_each_getitem(testSimFiles,doPreprocess=preprocess,\n",
    "                                          numToKeep=numSamplesToKeep,channel=channel,w=0,AE=False)\n",
    "trainDataset = CCSI_2D_one_of_each_getitem(trainSimFiles,doPreprocess=preprocess,\n",
    "                                           numToKeep=numSamplesToKeep,channel=channel,w=0,AE=False)\n",
    "len(trainDataset),len(testDataset)"
   ]
  },
  {
   "cell_type": "code",
   "execution_count": 13,
   "metadata": {
    "ExecuteTime": {
     "end_time": "2021-01-24T04:43:52.259313Z",
     "start_time": "2021-01-24T04:43:52.254667Z"
    }
   },
   "outputs": [
    {
     "data": {
      "text/plain": [
       "[0.002]"
      ]
     },
     "execution_count": 13,
     "metadata": {},
     "output_type": "execute_result"
    }
   ],
   "source": [
    "# this is monotonic now because we set sims=sorted(sims)\n",
    "[i for x,i in trainDataset.data]"
   ]
  },
  {
   "cell_type": "code",
   "execution_count": 14,
   "metadata": {
    "ExecuteTime": {
     "end_time": "2021-01-24T04:43:54.251253Z",
     "start_time": "2021-01-24T04:43:52.261334Z"
    }
   },
   "outputs": [
    {
     "name": "stdout",
     "output_type": "stream",
     "text": [
      "dict_keys(['spatialVecs', 'S', 'timeVecs_transpose'])\n",
      "(16384, 64)\n"
     ]
    }
   ],
   "source": [
    "svd_data = pkl_load(SVDFn)\n",
    "print(svd_data.keys())\n",
    "\n",
    "svd_vecs = svd_data['spatialVecs'][:,:latentDim]\n",
    "print(svd_vecs.shape)"
   ]
  },
  {
   "cell_type": "code",
   "execution_count": 15,
   "metadata": {
    "ExecuteTime": {
     "end_time": "2021-01-24T04:43:54.267150Z",
     "start_time": "2021-01-24T04:43:54.253260Z"
    }
   },
   "outputs": [],
   "source": [
    "class SVD_Encoder(nn.Module):\n",
    "    def __init__(self, U):\n",
    "        super(SVD_Encoder,self).__init__()\n",
    "        self.U = U\n",
    "\n",
    "    def forward(self, frames):\n",
    "        # u is from u,s,vh = svd(data)\n",
    "        # frames = batch_size x channels x height x width\n",
    "        assert len(frames.shape)==4\n",
    "        x = frames.reshape(len(frames), -1)\n",
    "        coeffs = x.matmul(self.U)\n",
    "        # coeffs is now batch_size x numComp\n",
    "        return coeffs    \n",
    "    \n",
    "class SVD_Decoder(nn.Module):\n",
    "    def __init__(self, U):\n",
    "        super(SVD_Decoder,self).__init__()\n",
    "        self.U = U\n",
    "\n",
    "    def forward(self, coeffs, orig_shape):\n",
    "        # coeffs is now batch_size x numComp\n",
    "        R = self.U.matmul(coeffs.T)\n",
    "        R = R.T.reshape(orig_shape)\n",
    "        return R\n",
    "    \n",
    "class SVD_Autoencoder(nn.Module):\n",
    "\n",
    "    def __init__(self, svd_vectors, latentDim, allow_updates_to_U):\n",
    "        super(SVD_Autoencoder,self).__init__()\n",
    "        self.U = nn.Parameter(torch.tensor(svd_vectors[:,:latentDim]), requires_grad = allow_updates_to_U)\n",
    "        self.encoder=SVD_Encoder(self.U)\n",
    "        self.decoder=SVD_Decoder(self.U)\n",
    "        \n",
    "    def forward(self, frames):\n",
    "        return self.decoder(self.encoder(frames))\n",
    "\n",
    "SVD_autoencoder = SVD_Autoencoder(svd_vecs, latentDim, False).to(device)"
   ]
  },
  {
   "cell_type": "code",
   "execution_count": 16,
   "metadata": {
    "ExecuteTime": {
     "end_time": "2021-01-24T04:43:56.603510Z",
     "start_time": "2021-01-24T04:43:54.268868Z"
    }
   },
   "outputs": [
    {
     "name": "stdout",
     "output_type": "stream",
     "text": [
      "torch.Size([500, 1, 128, 128]) torch.Size([500, 0, 1, 128, 128]) torch.Size([500, 2]) torch.Size([500, 0, 2])\n",
      "num_sims 1\n",
      "torch.Size([500, 1, 128, 128]) torch.Size([500, 0, 1, 128, 128]) torch.Size([500, 2]) torch.Size([500, 0, 2])\n",
      "num_sims 1\n"
     ]
    }
   ],
   "source": [
    "def createSVDdataset(Dataset, latentDim):\n",
    "\n",
    "    # datasets may be smaller because: numSamplesToKeep \n",
    "    # Be careful the default is for the data to be preprocessed. Therefore, we have to invPrecprocess if \n",
    "    # we are looking at relative errors. \n",
    "    loader = DataLoader(dataset=Dataset, batch_size=simLen, shuffle=False, num_workers=4)\n",
    "    X, Y, p_x, p_y = next(iter(loader))\n",
    "    print(X.shape, Y.shape, p_x.shape, p_y.shape)\n",
    "    z = []\n",
    "    p = []\n",
    "    for batch in loader:\n",
    "        X, Y, p_x, p_y = batch\n",
    "        z.append(SVD_autoencoder.encoder(X.to(device)).cpu())\n",
    "        p.append(p_x.cpu())\n",
    "        \n",
    "    z = torch.stack(z).reshape(-1, latentDim)\n",
    "    p = torch.stack(p).reshape(-1, p_x.size(1))\n",
    "    \n",
    "\n",
    "    v = np.arange(0, len(z), simLen)\n",
    "\n",
    "    sims = []\n",
    "    for idx in v:\n",
    "        sims.append((z[idx:idx+simLen],p[idx:idx+simLen]))\n",
    "    print('num_sims {}'.format(len(sims)))\n",
    "    return sims\n",
    "\n",
    "train_data = createSVDdataset(trainDataset, latentDim)\n",
    "test_data = createSVDdataset(testDataset, latentDim)"
   ]
  },
  {
   "cell_type": "code",
   "execution_count": 17,
   "metadata": {
    "ExecuteTime": {
     "end_time": "2021-01-24T04:43:56.614580Z",
     "start_time": "2021-01-24T04:43:56.606508Z"
    }
   },
   "outputs": [
    {
     "data": {
      "text/plain": [
       "(torch.Size([500, 64]), torch.Size([500, 2]))"
      ]
     },
     "execution_count": 17,
     "metadata": {},
     "output_type": "execute_result"
    }
   ],
   "source": [
    "train_data[0][0].shape, train_data[0][1].shape"
   ]
  },
  {
   "cell_type": "code",
   "execution_count": 18,
   "metadata": {
    "ExecuteTime": {
     "end_time": "2021-01-24T04:43:56.624210Z",
     "start_time": "2021-01-24T04:43:56.617537Z"
    }
   },
   "outputs": [],
   "source": [
    "# reduce the dimensions of z down to the latentDim \n",
    "for idx,d in enumerate(train_data):\n",
    "    X = d[0][:,:latentDim]\n",
    "    p = d[1]\n",
    "    train_data[idx] = (X,p)\n",
    "    \n",
    "for idx,d in enumerate(test_data):\n",
    "    X = d[0][:,:latentDim]\n",
    "    p = d[1]\n",
    "    test_data[idx] = (X,p)"
   ]
  },
  {
   "cell_type": "code",
   "execution_count": 19,
   "metadata": {
    "ExecuteTime": {
     "end_time": "2021-01-24T04:43:56.697337Z",
     "start_time": "2021-01-24T04:43:56.626791Z"
    }
   },
   "outputs": [
    {
     "name": "stdout",
     "output_type": "stream",
     "text": [
      "tensor([[0.0020, 0.0000],\n",
      "        [0.0020, 0.0020],\n",
      "        [0.0020, 0.0040],\n",
      "        [0.0020, 0.0060],\n",
      "        [0.0020, 0.0080],\n",
      "        [0.0020, 0.0100],\n",
      "        [0.0020, 0.0120],\n",
      "        [0.0020, 0.0140],\n",
      "        [0.0020, 0.0160],\n",
      "        [0.0020, 0.0180],\n",
      "        [0.0020, 0.0200],\n",
      "        [0.0020, 0.0220],\n",
      "        [0.0020, 0.0240],\n",
      "        [0.0020, 0.0261],\n",
      "        [0.0020, 0.0281],\n",
      "        [0.0020, 0.0301],\n",
      "        [0.0020, 0.0321],\n",
      "        [0.0020, 0.0341],\n",
      "        [0.0020, 0.0361],\n",
      "        [0.0020, 0.0381],\n",
      "        [0.0020, 0.0401],\n",
      "        [0.0020, 0.0421],\n",
      "        [0.0020, 0.0441],\n",
      "        [0.0020, 0.0461],\n",
      "        [0.0020, 0.0481],\n",
      "        [0.0020, 0.0501],\n",
      "        [0.0020, 0.0521],\n",
      "        [0.0020, 0.0541],\n",
      "        [0.0020, 0.0561],\n",
      "        [0.0020, 0.0581],\n",
      "        [0.0020, 0.0601],\n",
      "        [0.0020, 0.0621],\n",
      "        [0.0020, 0.0641],\n",
      "        [0.0020, 0.0661],\n",
      "        [0.0020, 0.0681],\n",
      "        [0.0020, 0.0701],\n",
      "        [0.0020, 0.0721],\n",
      "        [0.0020, 0.0741],\n",
      "        [0.0020, 0.0762],\n",
      "        [0.0020, 0.0782],\n",
      "        [0.0020, 0.0802],\n",
      "        [0.0020, 0.0822],\n",
      "        [0.0020, 0.0842],\n",
      "        [0.0020, 0.0862],\n",
      "        [0.0020, 0.0882],\n",
      "        [0.0020, 0.0902],\n",
      "        [0.0020, 0.0922],\n",
      "        [0.0020, 0.0942],\n",
      "        [0.0020, 0.0962],\n",
      "        [0.0020, 0.0982],\n",
      "        [0.0020, 0.1002],\n",
      "        [0.0020, 0.1022],\n",
      "        [0.0020, 0.1042],\n",
      "        [0.0020, 0.1062],\n",
      "        [0.0020, 0.1082],\n",
      "        [0.0020, 0.1102],\n",
      "        [0.0020, 0.1122],\n",
      "        [0.0020, 0.1142],\n",
      "        [0.0020, 0.1162],\n",
      "        [0.0020, 0.1182],\n",
      "        [0.0020, 0.1202],\n",
      "        [0.0020, 0.1222],\n",
      "        [0.0020, 0.1242],\n",
      "        [0.0020, 0.1263],\n",
      "        [0.0020, 0.1283],\n",
      "        [0.0020, 0.1303],\n",
      "        [0.0020, 0.1323],\n",
      "        [0.0020, 0.1343],\n",
      "        [0.0020, 0.1363],\n",
      "        [0.0020, 0.1383],\n",
      "        [0.0020, 0.1403],\n",
      "        [0.0020, 0.1423],\n",
      "        [0.0020, 0.1443],\n",
      "        [0.0020, 0.1463],\n",
      "        [0.0020, 0.1483],\n",
      "        [0.0020, 0.1503],\n",
      "        [0.0020, 0.1523],\n",
      "        [0.0020, 0.1543],\n",
      "        [0.0020, 0.1563],\n",
      "        [0.0020, 0.1583],\n",
      "        [0.0020, 0.1603],\n",
      "        [0.0020, 0.1623],\n",
      "        [0.0020, 0.1643],\n",
      "        [0.0020, 0.1663],\n",
      "        [0.0020, 0.1683],\n",
      "        [0.0020, 0.1703],\n",
      "        [0.0020, 0.1723],\n",
      "        [0.0020, 0.1743],\n",
      "        [0.0020, 0.1764],\n",
      "        [0.0020, 0.1784],\n",
      "        [0.0020, 0.1804],\n",
      "        [0.0020, 0.1824],\n",
      "        [0.0020, 0.1844],\n",
      "        [0.0020, 0.1864],\n",
      "        [0.0020, 0.1884],\n",
      "        [0.0020, 0.1904],\n",
      "        [0.0020, 0.1924],\n",
      "        [0.0020, 0.1944],\n",
      "        [0.0020, 0.1964],\n",
      "        [0.0020, 0.1984],\n",
      "        [0.0020, 0.2004],\n",
      "        [0.0020, 0.2024],\n",
      "        [0.0020, 0.2044],\n",
      "        [0.0020, 0.2064],\n",
      "        [0.0020, 0.2084],\n",
      "        [0.0020, 0.2104],\n",
      "        [0.0020, 0.2124],\n",
      "        [0.0020, 0.2144],\n",
      "        [0.0020, 0.2164],\n",
      "        [0.0020, 0.2184],\n",
      "        [0.0020, 0.2204],\n",
      "        [0.0020, 0.2224],\n",
      "        [0.0020, 0.2244],\n",
      "        [0.0020, 0.2265],\n",
      "        [0.0020, 0.2285],\n",
      "        [0.0020, 0.2305],\n",
      "        [0.0020, 0.2325],\n",
      "        [0.0020, 0.2345],\n",
      "        [0.0020, 0.2365],\n",
      "        [0.0020, 0.2385],\n",
      "        [0.0020, 0.2405],\n",
      "        [0.0020, 0.2425],\n",
      "        [0.0020, 0.2445],\n",
      "        [0.0020, 0.2465],\n",
      "        [0.0020, 0.2485],\n",
      "        [0.0020, 0.2505],\n",
      "        [0.0020, 0.2525],\n",
      "        [0.0020, 0.2545],\n",
      "        [0.0020, 0.2565],\n",
      "        [0.0020, 0.2585],\n",
      "        [0.0020, 0.2605],\n",
      "        [0.0020, 0.2625],\n",
      "        [0.0020, 0.2645],\n",
      "        [0.0020, 0.2665],\n",
      "        [0.0020, 0.2685],\n",
      "        [0.0020, 0.2705],\n",
      "        [0.0020, 0.2725],\n",
      "        [0.0020, 0.2745],\n",
      "        [0.0020, 0.2766],\n",
      "        [0.0020, 0.2786],\n",
      "        [0.0020, 0.2806],\n",
      "        [0.0020, 0.2826],\n",
      "        [0.0020, 0.2846],\n",
      "        [0.0020, 0.2866],\n",
      "        [0.0020, 0.2886],\n",
      "        [0.0020, 0.2906],\n",
      "        [0.0020, 0.2926],\n",
      "        [0.0020, 0.2946],\n",
      "        [0.0020, 0.2966],\n",
      "        [0.0020, 0.2986],\n",
      "        [0.0020, 0.3006],\n",
      "        [0.0020, 0.3026],\n",
      "        [0.0020, 0.3046],\n",
      "        [0.0020, 0.3066],\n",
      "        [0.0020, 0.3086],\n",
      "        [0.0020, 0.3106],\n",
      "        [0.0020, 0.3126],\n",
      "        [0.0020, 0.3146],\n",
      "        [0.0020, 0.3166],\n",
      "        [0.0020, 0.3186],\n",
      "        [0.0020, 0.3206],\n",
      "        [0.0020, 0.3226],\n",
      "        [0.0020, 0.3246],\n",
      "        [0.0020, 0.3267],\n",
      "        [0.0020, 0.3287],\n",
      "        [0.0020, 0.3307],\n",
      "        [0.0020, 0.3327],\n",
      "        [0.0020, 0.3347],\n",
      "        [0.0020, 0.3367],\n",
      "        [0.0020, 0.3387],\n",
      "        [0.0020, 0.3407],\n",
      "        [0.0020, 0.3427],\n",
      "        [0.0020, 0.3447],\n",
      "        [0.0020, 0.3467],\n",
      "        [0.0020, 0.3487],\n",
      "        [0.0020, 0.3507],\n",
      "        [0.0020, 0.3527],\n",
      "        [0.0020, 0.3547],\n",
      "        [0.0020, 0.3567],\n",
      "        [0.0020, 0.3587],\n",
      "        [0.0020, 0.3607],\n",
      "        [0.0020, 0.3627],\n",
      "        [0.0020, 0.3647],\n",
      "        [0.0020, 0.3667],\n",
      "        [0.0020, 0.3687],\n",
      "        [0.0020, 0.3707],\n",
      "        [0.0020, 0.3727],\n",
      "        [0.0020, 0.3747],\n",
      "        [0.0020, 0.3768],\n",
      "        [0.0020, 0.3788],\n",
      "        [0.0020, 0.3808],\n",
      "        [0.0020, 0.3828],\n",
      "        [0.0020, 0.3848],\n",
      "        [0.0020, 0.3868],\n",
      "        [0.0020, 0.3888],\n",
      "        [0.0020, 0.3908],\n",
      "        [0.0020, 0.3928],\n",
      "        [0.0020, 0.3948],\n",
      "        [0.0020, 0.3968],\n",
      "        [0.0020, 0.3988],\n",
      "        [0.0020, 0.4008],\n",
      "        [0.0020, 0.4028],\n",
      "        [0.0020, 0.4048],\n",
      "        [0.0020, 0.4068],\n",
      "        [0.0020, 0.4088],\n",
      "        [0.0020, 0.4108],\n",
      "        [0.0020, 0.4128],\n",
      "        [0.0020, 0.4148],\n",
      "        [0.0020, 0.4168],\n",
      "        [0.0020, 0.4188],\n",
      "        [0.0020, 0.4208],\n",
      "        [0.0020, 0.4228],\n",
      "        [0.0020, 0.4248],\n",
      "        [0.0020, 0.4269],\n",
      "        [0.0020, 0.4289],\n",
      "        [0.0020, 0.4309],\n",
      "        [0.0020, 0.4329],\n",
      "        [0.0020, 0.4349],\n",
      "        [0.0020, 0.4369],\n",
      "        [0.0020, 0.4389],\n",
      "        [0.0020, 0.4409],\n",
      "        [0.0020, 0.4429],\n",
      "        [0.0020, 0.4449],\n",
      "        [0.0020, 0.4469],\n",
      "        [0.0020, 0.4489],\n",
      "        [0.0020, 0.4509],\n",
      "        [0.0020, 0.4529],\n",
      "        [0.0020, 0.4549],\n",
      "        [0.0020, 0.4569],\n",
      "        [0.0020, 0.4589],\n",
      "        [0.0020, 0.4609],\n",
      "        [0.0020, 0.4629],\n",
      "        [0.0020, 0.4649],\n",
      "        [0.0020, 0.4669],\n",
      "        [0.0020, 0.4689],\n",
      "        [0.0020, 0.4709],\n",
      "        [0.0020, 0.4729],\n",
      "        [0.0020, 0.4749],\n",
      "        [0.0020, 0.4770],\n",
      "        [0.0020, 0.4790],\n",
      "        [0.0020, 0.4810],\n",
      "        [0.0020, 0.4830],\n",
      "        [0.0020, 0.4850],\n",
      "        [0.0020, 0.4870],\n",
      "        [0.0020, 0.4890],\n",
      "        [0.0020, 0.4910],\n",
      "        [0.0020, 0.4930],\n",
      "        [0.0020, 0.4950],\n",
      "        [0.0020, 0.4970],\n",
      "        [0.0020, 0.4990],\n",
      "        [0.0020, 0.5010],\n",
      "        [0.0020, 0.5030],\n",
      "        [0.0020, 0.5050],\n",
      "        [0.0020, 0.5070],\n",
      "        [0.0020, 0.5090],\n",
      "        [0.0020, 0.5110],\n",
      "        [0.0020, 0.5130],\n",
      "        [0.0020, 0.5150],\n",
      "        [0.0020, 0.5170],\n",
      "        [0.0020, 0.5190],\n",
      "        [0.0020, 0.5210],\n",
      "        [0.0020, 0.5230],\n",
      "        [0.0020, 0.5251],\n",
      "        [0.0020, 0.5271],\n",
      "        [0.0020, 0.5291],\n",
      "        [0.0020, 0.5311],\n",
      "        [0.0020, 0.5331],\n",
      "        [0.0020, 0.5351],\n",
      "        [0.0020, 0.5371],\n",
      "        [0.0020, 0.5391],\n",
      "        [0.0020, 0.5411],\n",
      "        [0.0020, 0.5431],\n",
      "        [0.0020, 0.5451],\n",
      "        [0.0020, 0.5471],\n",
      "        [0.0020, 0.5491],\n",
      "        [0.0020, 0.5511],\n",
      "        [0.0020, 0.5531],\n",
      "        [0.0020, 0.5551],\n",
      "        [0.0020, 0.5571],\n",
      "        [0.0020, 0.5591],\n",
      "        [0.0020, 0.5611],\n",
      "        [0.0020, 0.5631],\n",
      "        [0.0020, 0.5651],\n",
      "        [0.0020, 0.5671],\n",
      "        [0.0020, 0.5691],\n",
      "        [0.0020, 0.5711],\n",
      "        [0.0020, 0.5731],\n",
      "        [0.0020, 0.5752],\n",
      "        [0.0020, 0.5772],\n",
      "        [0.0020, 0.5792],\n",
      "        [0.0020, 0.5812],\n",
      "        [0.0020, 0.5832],\n",
      "        [0.0020, 0.5852],\n",
      "        [0.0020, 0.5872],\n",
      "        [0.0020, 0.5892],\n",
      "        [0.0020, 0.5912],\n",
      "        [0.0020, 0.5932],\n",
      "        [0.0020, 0.5952],\n",
      "        [0.0020, 0.5972],\n",
      "        [0.0020, 0.5992],\n",
      "        [0.0020, 0.6012],\n",
      "        [0.0020, 0.6032],\n",
      "        [0.0020, 0.6052],\n",
      "        [0.0020, 0.6072],\n",
      "        [0.0020, 0.6092],\n",
      "        [0.0020, 0.6112],\n",
      "        [0.0020, 0.6132],\n",
      "        [0.0020, 0.6152],\n",
      "        [0.0020, 0.6172],\n",
      "        [0.0020, 0.6192],\n",
      "        [0.0020, 0.6212],\n",
      "        [0.0020, 0.6232],\n",
      "        [0.0020, 0.6253],\n",
      "        [0.0020, 0.6273],\n",
      "        [0.0020, 0.6293],\n",
      "        [0.0020, 0.6313],\n",
      "        [0.0020, 0.6333],\n",
      "        [0.0020, 0.6353],\n",
      "        [0.0020, 0.6373],\n",
      "        [0.0020, 0.6393],\n",
      "        [0.0020, 0.6413],\n",
      "        [0.0020, 0.6433],\n",
      "        [0.0020, 0.6453],\n",
      "        [0.0020, 0.6473],\n",
      "        [0.0020, 0.6493],\n",
      "        [0.0020, 0.6513],\n",
      "        [0.0020, 0.6533],\n",
      "        [0.0020, 0.6553],\n",
      "        [0.0020, 0.6573],\n",
      "        [0.0020, 0.6593],\n",
      "        [0.0020, 0.6613],\n",
      "        [0.0020, 0.6633],\n",
      "        [0.0020, 0.6653],\n",
      "        [0.0020, 0.6673],\n",
      "        [0.0020, 0.6693],\n",
      "        [0.0020, 0.6713],\n",
      "        [0.0020, 0.6733],\n",
      "        [0.0020, 0.6754],\n",
      "        [0.0020, 0.6774],\n",
      "        [0.0020, 0.6794],\n",
      "        [0.0020, 0.6814],\n",
      "        [0.0020, 0.6834],\n",
      "        [0.0020, 0.6854],\n",
      "        [0.0020, 0.6874],\n",
      "        [0.0020, 0.6894],\n",
      "        [0.0020, 0.6914],\n",
      "        [0.0020, 0.6934],\n",
      "        [0.0020, 0.6954],\n",
      "        [0.0020, 0.6974],\n",
      "        [0.0020, 0.6994],\n",
      "        [0.0020, 0.7014],\n",
      "        [0.0020, 0.7034],\n",
      "        [0.0020, 0.7054],\n",
      "        [0.0020, 0.7074],\n",
      "        [0.0020, 0.7094],\n",
      "        [0.0020, 0.7114],\n",
      "        [0.0020, 0.7134],\n",
      "        [0.0020, 0.7154],\n",
      "        [0.0020, 0.7174],\n",
      "        [0.0020, 0.7194],\n",
      "        [0.0020, 0.7214],\n",
      "        [0.0020, 0.7234],\n",
      "        [0.0020, 0.7255],\n",
      "        [0.0020, 0.7275],\n",
      "        [0.0020, 0.7295],\n",
      "        [0.0020, 0.7315],\n",
      "        [0.0020, 0.7335],\n",
      "        [0.0020, 0.7355],\n",
      "        [0.0020, 0.7375],\n",
      "        [0.0020, 0.7395],\n",
      "        [0.0020, 0.7415],\n",
      "        [0.0020, 0.7435],\n",
      "        [0.0020, 0.7455],\n",
      "        [0.0020, 0.7475],\n",
      "        [0.0020, 0.7495],\n",
      "        [0.0020, 0.7515],\n",
      "        [0.0020, 0.7535],\n",
      "        [0.0020, 0.7555],\n",
      "        [0.0020, 0.7575],\n",
      "        [0.0020, 0.7595],\n",
      "        [0.0020, 0.7615],\n",
      "        [0.0020, 0.7635],\n",
      "        [0.0020, 0.7655],\n",
      "        [0.0020, 0.7675],\n",
      "        [0.0020, 0.7695],\n",
      "        [0.0020, 0.7715],\n",
      "        [0.0020, 0.7735],\n",
      "        [0.0020, 0.7756],\n",
      "        [0.0020, 0.7776],\n",
      "        [0.0020, 0.7796],\n",
      "        [0.0020, 0.7816],\n",
      "        [0.0020, 0.7836],\n",
      "        [0.0020, 0.7856],\n",
      "        [0.0020, 0.7876],\n",
      "        [0.0020, 0.7896],\n",
      "        [0.0020, 0.7916],\n",
      "        [0.0020, 0.7936],\n",
      "        [0.0020, 0.7956],\n",
      "        [0.0020, 0.7976],\n",
      "        [0.0020, 0.7996],\n",
      "        [0.0020, 0.8016],\n",
      "        [0.0020, 0.8036],\n",
      "        [0.0020, 0.8056],\n",
      "        [0.0020, 0.8076],\n",
      "        [0.0020, 0.8096],\n",
      "        [0.0020, 0.8116],\n",
      "        [0.0020, 0.8136],\n",
      "        [0.0020, 0.8156],\n",
      "        [0.0020, 0.8176],\n",
      "        [0.0020, 0.8196],\n",
      "        [0.0020, 0.8216],\n",
      "        [0.0020, 0.8236],\n",
      "        [0.0020, 0.8257],\n",
      "        [0.0020, 0.8277],\n",
      "        [0.0020, 0.8297],\n",
      "        [0.0020, 0.8317],\n",
      "        [0.0020, 0.8337],\n",
      "        [0.0020, 0.8357],\n",
      "        [0.0020, 0.8377],\n",
      "        [0.0020, 0.8397],\n",
      "        [0.0020, 0.8417],\n",
      "        [0.0020, 0.8437],\n",
      "        [0.0020, 0.8457],\n",
      "        [0.0020, 0.8477],\n",
      "        [0.0020, 0.8497],\n",
      "        [0.0020, 0.8517],\n",
      "        [0.0020, 0.8537],\n",
      "        [0.0020, 0.8557],\n",
      "        [0.0020, 0.8577],\n",
      "        [0.0020, 0.8597],\n",
      "        [0.0020, 0.8617],\n",
      "        [0.0020, 0.8637],\n",
      "        [0.0020, 0.8657],\n",
      "        [0.0020, 0.8677],\n",
      "        [0.0020, 0.8697],\n",
      "        [0.0020, 0.8717],\n",
      "        [0.0020, 0.8737],\n",
      "        [0.0020, 0.8758],\n",
      "        [0.0020, 0.8778],\n",
      "        [0.0020, 0.8798],\n",
      "        [0.0020, 0.8818],\n",
      "        [0.0020, 0.8838],\n",
      "        [0.0020, 0.8858],\n",
      "        [0.0020, 0.8878],\n",
      "        [0.0020, 0.8898],\n",
      "        [0.0020, 0.8918],\n",
      "        [0.0020, 0.8938],\n",
      "        [0.0020, 0.8958],\n",
      "        [0.0020, 0.8978],\n",
      "        [0.0020, 0.8998],\n",
      "        [0.0020, 0.9018],\n",
      "        [0.0020, 0.9038],\n",
      "        [0.0020, 0.9058],\n",
      "        [0.0020, 0.9078],\n",
      "        [0.0020, 0.9098],\n",
      "        [0.0020, 0.9118],\n",
      "        [0.0020, 0.9138],\n",
      "        [0.0020, 0.9158],\n",
      "        [0.0020, 0.9178],\n",
      "        [0.0020, 0.9198],\n",
      "        [0.0020, 0.9218],\n",
      "        [0.0020, 0.9238],\n",
      "        [0.0020, 0.9259],\n",
      "        [0.0020, 0.9279],\n",
      "        [0.0020, 0.9299],\n",
      "        [0.0020, 0.9319],\n",
      "        [0.0020, 0.9339],\n",
      "        [0.0020, 0.9359],\n",
      "        [0.0020, 0.9379],\n",
      "        [0.0020, 0.9399],\n",
      "        [0.0020, 0.9419],\n",
      "        [0.0020, 0.9439],\n",
      "        [0.0020, 0.9459],\n",
      "        [0.0020, 0.9479],\n",
      "        [0.0020, 0.9499],\n",
      "        [0.0020, 0.9519],\n",
      "        [0.0020, 0.9539],\n",
      "        [0.0020, 0.9559],\n",
      "        [0.0020, 0.9579],\n",
      "        [0.0020, 0.9599],\n",
      "        [0.0020, 0.9619],\n",
      "        [0.0020, 0.9639],\n",
      "        [0.0020, 0.9659],\n",
      "        [0.0020, 0.9679],\n",
      "        [0.0020, 0.9699],\n",
      "        [0.0020, 0.9719],\n",
      "        [0.0020, 0.9739],\n",
      "        [0.0020, 0.9760],\n",
      "        [0.0020, 0.9780],\n",
      "        [0.0020, 0.9800],\n",
      "        [0.0020, 0.9820],\n",
      "        [0.0020, 0.9840],\n",
      "        [0.0020, 0.9860],\n",
      "        [0.0020, 0.9880],\n",
      "        [0.0020, 0.9900],\n",
      "        [0.0020, 0.9920],\n",
      "        [0.0020, 0.9940],\n",
      "        [0.0020, 0.9960],\n",
      "        [0.0020, 0.9980],\n",
      "        [0.0020, 1.0000]])\n"
     ]
    }
   ],
   "source": [
    "print(train_data[0][1])"
   ]
  },
  {
   "cell_type": "code",
   "execution_count": 20,
   "metadata": {
    "ExecuteTime": {
     "end_time": "2021-01-24T04:43:56.738507Z",
     "start_time": "2021-01-24T04:43:56.700182Z"
    }
   },
   "outputs": [
    {
     "name": "stdout",
     "output_type": "stream",
     "text": [
      "tensor([[0.0020, 0.0000],\n",
      "        [0.0020, 0.0020],\n",
      "        [0.0020, 0.0040],\n",
      "        [0.0020, 0.0060],\n",
      "        [0.0020, 0.0080],\n",
      "        [0.0020, 0.0100],\n",
      "        [0.0020, 0.0120],\n",
      "        [0.0020, 0.0140],\n",
      "        [0.0020, 0.0160],\n",
      "        [0.0020, 0.0180],\n",
      "        [0.0020, 0.0200],\n",
      "        [0.0020, 0.0220],\n",
      "        [0.0020, 0.0240],\n",
      "        [0.0020, 0.0261],\n",
      "        [0.0020, 0.0281],\n",
      "        [0.0020, 0.0301],\n",
      "        [0.0020, 0.0321],\n",
      "        [0.0020, 0.0341],\n",
      "        [0.0020, 0.0361],\n",
      "        [0.0020, 0.0381],\n",
      "        [0.0020, 0.0401],\n",
      "        [0.0020, 0.0421],\n",
      "        [0.0020, 0.0441],\n",
      "        [0.0020, 0.0461],\n",
      "        [0.0020, 0.0481],\n",
      "        [0.0020, 0.0501],\n",
      "        [0.0020, 0.0521],\n",
      "        [0.0020, 0.0541],\n",
      "        [0.0020, 0.0561],\n",
      "        [0.0020, 0.0581],\n",
      "        [0.0020, 0.0601],\n",
      "        [0.0020, 0.0621],\n",
      "        [0.0020, 0.0641],\n",
      "        [0.0020, 0.0661],\n",
      "        [0.0020, 0.0681],\n",
      "        [0.0020, 0.0701],\n",
      "        [0.0020, 0.0721],\n",
      "        [0.0020, 0.0741],\n",
      "        [0.0020, 0.0762],\n",
      "        [0.0020, 0.0782],\n",
      "        [0.0020, 0.0802],\n",
      "        [0.0020, 0.0822],\n",
      "        [0.0020, 0.0842],\n",
      "        [0.0020, 0.0862],\n",
      "        [0.0020, 0.0882],\n",
      "        [0.0020, 0.0902],\n",
      "        [0.0020, 0.0922],\n",
      "        [0.0020, 0.0942],\n",
      "        [0.0020, 0.0962],\n",
      "        [0.0020, 0.0982],\n",
      "        [0.0020, 0.1002],\n",
      "        [0.0020, 0.1022],\n",
      "        [0.0020, 0.1042],\n",
      "        [0.0020, 0.1062],\n",
      "        [0.0020, 0.1082],\n",
      "        [0.0020, 0.1102],\n",
      "        [0.0020, 0.1122],\n",
      "        [0.0020, 0.1142],\n",
      "        [0.0020, 0.1162],\n",
      "        [0.0020, 0.1182],\n",
      "        [0.0020, 0.1202],\n",
      "        [0.0020, 0.1222],\n",
      "        [0.0020, 0.1242],\n",
      "        [0.0020, 0.1263],\n",
      "        [0.0020, 0.1283],\n",
      "        [0.0020, 0.1303],\n",
      "        [0.0020, 0.1323],\n",
      "        [0.0020, 0.1343],\n",
      "        [0.0020, 0.1363],\n",
      "        [0.0020, 0.1383],\n",
      "        [0.0020, 0.1403],\n",
      "        [0.0020, 0.1423],\n",
      "        [0.0020, 0.1443],\n",
      "        [0.0020, 0.1463],\n",
      "        [0.0020, 0.1483],\n",
      "        [0.0020, 0.1503],\n",
      "        [0.0020, 0.1523],\n",
      "        [0.0020, 0.1543],\n",
      "        [0.0020, 0.1563],\n",
      "        [0.0020, 0.1583],\n",
      "        [0.0020, 0.1603],\n",
      "        [0.0020, 0.1623],\n",
      "        [0.0020, 0.1643],\n",
      "        [0.0020, 0.1663],\n",
      "        [0.0020, 0.1683],\n",
      "        [0.0020, 0.1703],\n",
      "        [0.0020, 0.1723],\n",
      "        [0.0020, 0.1743],\n",
      "        [0.0020, 0.1764],\n",
      "        [0.0020, 0.1784],\n",
      "        [0.0020, 0.1804],\n",
      "        [0.0020, 0.1824],\n",
      "        [0.0020, 0.1844],\n",
      "        [0.0020, 0.1864],\n",
      "        [0.0020, 0.1884],\n",
      "        [0.0020, 0.1904],\n",
      "        [0.0020, 0.1924],\n",
      "        [0.0020, 0.1944],\n",
      "        [0.0020, 0.1964],\n",
      "        [0.0020, 0.1984],\n",
      "        [0.0020, 0.2004],\n",
      "        [0.0020, 0.2024],\n",
      "        [0.0020, 0.2044],\n",
      "        [0.0020, 0.2064],\n",
      "        [0.0020, 0.2084],\n",
      "        [0.0020, 0.2104],\n",
      "        [0.0020, 0.2124],\n",
      "        [0.0020, 0.2144],\n",
      "        [0.0020, 0.2164],\n",
      "        [0.0020, 0.2184],\n",
      "        [0.0020, 0.2204],\n",
      "        [0.0020, 0.2224],\n",
      "        [0.0020, 0.2244],\n",
      "        [0.0020, 0.2265],\n",
      "        [0.0020, 0.2285],\n",
      "        [0.0020, 0.2305],\n",
      "        [0.0020, 0.2325],\n",
      "        [0.0020, 0.2345],\n",
      "        [0.0020, 0.2365],\n",
      "        [0.0020, 0.2385],\n",
      "        [0.0020, 0.2405],\n",
      "        [0.0020, 0.2425],\n",
      "        [0.0020, 0.2445],\n",
      "        [0.0020, 0.2465],\n",
      "        [0.0020, 0.2485],\n",
      "        [0.0020, 0.2505],\n",
      "        [0.0020, 0.2525],\n",
      "        [0.0020, 0.2545],\n",
      "        [0.0020, 0.2565],\n",
      "        [0.0020, 0.2585],\n",
      "        [0.0020, 0.2605],\n",
      "        [0.0020, 0.2625],\n",
      "        [0.0020, 0.2645],\n",
      "        [0.0020, 0.2665],\n",
      "        [0.0020, 0.2685],\n",
      "        [0.0020, 0.2705],\n",
      "        [0.0020, 0.2725],\n",
      "        [0.0020, 0.2745],\n",
      "        [0.0020, 0.2766],\n",
      "        [0.0020, 0.2786],\n",
      "        [0.0020, 0.2806],\n",
      "        [0.0020, 0.2826],\n",
      "        [0.0020, 0.2846],\n",
      "        [0.0020, 0.2866],\n",
      "        [0.0020, 0.2886],\n",
      "        [0.0020, 0.2906],\n",
      "        [0.0020, 0.2926],\n",
      "        [0.0020, 0.2946],\n",
      "        [0.0020, 0.2966],\n",
      "        [0.0020, 0.2986],\n",
      "        [0.0020, 0.3006],\n",
      "        [0.0020, 0.3026],\n",
      "        [0.0020, 0.3046],\n",
      "        [0.0020, 0.3066],\n",
      "        [0.0020, 0.3086],\n",
      "        [0.0020, 0.3106],\n",
      "        [0.0020, 0.3126],\n",
      "        [0.0020, 0.3146],\n",
      "        [0.0020, 0.3166],\n",
      "        [0.0020, 0.3186],\n",
      "        [0.0020, 0.3206],\n",
      "        [0.0020, 0.3226],\n",
      "        [0.0020, 0.3246],\n",
      "        [0.0020, 0.3267],\n",
      "        [0.0020, 0.3287],\n",
      "        [0.0020, 0.3307],\n",
      "        [0.0020, 0.3327],\n",
      "        [0.0020, 0.3347],\n",
      "        [0.0020, 0.3367],\n",
      "        [0.0020, 0.3387],\n",
      "        [0.0020, 0.3407],\n",
      "        [0.0020, 0.3427],\n",
      "        [0.0020, 0.3447],\n",
      "        [0.0020, 0.3467],\n",
      "        [0.0020, 0.3487],\n",
      "        [0.0020, 0.3507],\n",
      "        [0.0020, 0.3527],\n",
      "        [0.0020, 0.3547],\n",
      "        [0.0020, 0.3567],\n",
      "        [0.0020, 0.3587],\n",
      "        [0.0020, 0.3607],\n",
      "        [0.0020, 0.3627],\n",
      "        [0.0020, 0.3647],\n",
      "        [0.0020, 0.3667],\n",
      "        [0.0020, 0.3687],\n",
      "        [0.0020, 0.3707],\n",
      "        [0.0020, 0.3727],\n",
      "        [0.0020, 0.3747],\n",
      "        [0.0020, 0.3768],\n",
      "        [0.0020, 0.3788],\n",
      "        [0.0020, 0.3808],\n",
      "        [0.0020, 0.3828],\n",
      "        [0.0020, 0.3848],\n",
      "        [0.0020, 0.3868],\n",
      "        [0.0020, 0.3888],\n",
      "        [0.0020, 0.3908],\n",
      "        [0.0020, 0.3928],\n",
      "        [0.0020, 0.3948],\n",
      "        [0.0020, 0.3968],\n",
      "        [0.0020, 0.3988],\n",
      "        [0.0020, 0.4008],\n",
      "        [0.0020, 0.4028],\n",
      "        [0.0020, 0.4048],\n",
      "        [0.0020, 0.4068],\n",
      "        [0.0020, 0.4088],\n",
      "        [0.0020, 0.4108],\n",
      "        [0.0020, 0.4128],\n",
      "        [0.0020, 0.4148],\n",
      "        [0.0020, 0.4168],\n",
      "        [0.0020, 0.4188],\n",
      "        [0.0020, 0.4208],\n",
      "        [0.0020, 0.4228],\n",
      "        [0.0020, 0.4248],\n",
      "        [0.0020, 0.4269],\n",
      "        [0.0020, 0.4289],\n",
      "        [0.0020, 0.4309],\n",
      "        [0.0020, 0.4329],\n",
      "        [0.0020, 0.4349],\n",
      "        [0.0020, 0.4369],\n",
      "        [0.0020, 0.4389],\n",
      "        [0.0020, 0.4409],\n",
      "        [0.0020, 0.4429],\n",
      "        [0.0020, 0.4449],\n",
      "        [0.0020, 0.4469],\n",
      "        [0.0020, 0.4489],\n",
      "        [0.0020, 0.4509],\n",
      "        [0.0020, 0.4529],\n",
      "        [0.0020, 0.4549],\n",
      "        [0.0020, 0.4569],\n",
      "        [0.0020, 0.4589],\n",
      "        [0.0020, 0.4609],\n",
      "        [0.0020, 0.4629],\n",
      "        [0.0020, 0.4649],\n",
      "        [0.0020, 0.4669],\n",
      "        [0.0020, 0.4689],\n",
      "        [0.0020, 0.4709],\n",
      "        [0.0020, 0.4729],\n",
      "        [0.0020, 0.4749],\n",
      "        [0.0020, 0.4770],\n",
      "        [0.0020, 0.4790],\n",
      "        [0.0020, 0.4810],\n",
      "        [0.0020, 0.4830],\n",
      "        [0.0020, 0.4850],\n",
      "        [0.0020, 0.4870],\n",
      "        [0.0020, 0.4890],\n",
      "        [0.0020, 0.4910],\n",
      "        [0.0020, 0.4930],\n",
      "        [0.0020, 0.4950],\n",
      "        [0.0020, 0.4970],\n",
      "        [0.0020, 0.4990],\n",
      "        [0.0020, 0.5010],\n",
      "        [0.0020, 0.5030],\n",
      "        [0.0020, 0.5050],\n",
      "        [0.0020, 0.5070],\n",
      "        [0.0020, 0.5090],\n",
      "        [0.0020, 0.5110],\n",
      "        [0.0020, 0.5130],\n",
      "        [0.0020, 0.5150],\n",
      "        [0.0020, 0.5170],\n",
      "        [0.0020, 0.5190],\n",
      "        [0.0020, 0.5210],\n",
      "        [0.0020, 0.5230],\n",
      "        [0.0020, 0.5251],\n",
      "        [0.0020, 0.5271],\n",
      "        [0.0020, 0.5291],\n",
      "        [0.0020, 0.5311],\n",
      "        [0.0020, 0.5331],\n",
      "        [0.0020, 0.5351],\n",
      "        [0.0020, 0.5371],\n",
      "        [0.0020, 0.5391],\n",
      "        [0.0020, 0.5411],\n",
      "        [0.0020, 0.5431],\n",
      "        [0.0020, 0.5451],\n",
      "        [0.0020, 0.5471],\n",
      "        [0.0020, 0.5491],\n",
      "        [0.0020, 0.5511],\n",
      "        [0.0020, 0.5531],\n",
      "        [0.0020, 0.5551],\n",
      "        [0.0020, 0.5571],\n",
      "        [0.0020, 0.5591],\n",
      "        [0.0020, 0.5611],\n",
      "        [0.0020, 0.5631],\n",
      "        [0.0020, 0.5651],\n",
      "        [0.0020, 0.5671],\n",
      "        [0.0020, 0.5691],\n",
      "        [0.0020, 0.5711],\n",
      "        [0.0020, 0.5731],\n",
      "        [0.0020, 0.5752],\n",
      "        [0.0020, 0.5772],\n",
      "        [0.0020, 0.5792],\n",
      "        [0.0020, 0.5812],\n",
      "        [0.0020, 0.5832],\n",
      "        [0.0020, 0.5852],\n",
      "        [0.0020, 0.5872],\n",
      "        [0.0020, 0.5892],\n",
      "        [0.0020, 0.5912],\n",
      "        [0.0020, 0.5932],\n",
      "        [0.0020, 0.5952],\n",
      "        [0.0020, 0.5972],\n",
      "        [0.0020, 0.5992],\n",
      "        [0.0020, 0.6012],\n",
      "        [0.0020, 0.6032],\n",
      "        [0.0020, 0.6052],\n",
      "        [0.0020, 0.6072],\n",
      "        [0.0020, 0.6092],\n",
      "        [0.0020, 0.6112],\n",
      "        [0.0020, 0.6132],\n",
      "        [0.0020, 0.6152],\n",
      "        [0.0020, 0.6172],\n",
      "        [0.0020, 0.6192],\n",
      "        [0.0020, 0.6212],\n",
      "        [0.0020, 0.6232],\n",
      "        [0.0020, 0.6253],\n",
      "        [0.0020, 0.6273],\n",
      "        [0.0020, 0.6293],\n",
      "        [0.0020, 0.6313],\n",
      "        [0.0020, 0.6333],\n",
      "        [0.0020, 0.6353],\n",
      "        [0.0020, 0.6373],\n",
      "        [0.0020, 0.6393],\n",
      "        [0.0020, 0.6413],\n",
      "        [0.0020, 0.6433],\n",
      "        [0.0020, 0.6453],\n",
      "        [0.0020, 0.6473],\n",
      "        [0.0020, 0.6493],\n",
      "        [0.0020, 0.6513],\n",
      "        [0.0020, 0.6533],\n",
      "        [0.0020, 0.6553],\n",
      "        [0.0020, 0.6573],\n",
      "        [0.0020, 0.6593],\n",
      "        [0.0020, 0.6613],\n",
      "        [0.0020, 0.6633],\n",
      "        [0.0020, 0.6653],\n",
      "        [0.0020, 0.6673],\n",
      "        [0.0020, 0.6693],\n",
      "        [0.0020, 0.6713],\n",
      "        [0.0020, 0.6733],\n",
      "        [0.0020, 0.6754],\n",
      "        [0.0020, 0.6774],\n",
      "        [0.0020, 0.6794],\n",
      "        [0.0020, 0.6814],\n",
      "        [0.0020, 0.6834],\n",
      "        [0.0020, 0.6854],\n",
      "        [0.0020, 0.6874],\n",
      "        [0.0020, 0.6894],\n",
      "        [0.0020, 0.6914],\n",
      "        [0.0020, 0.6934],\n",
      "        [0.0020, 0.6954],\n",
      "        [0.0020, 0.6974],\n",
      "        [0.0020, 0.6994],\n",
      "        [0.0020, 0.7014],\n",
      "        [0.0020, 0.7034],\n",
      "        [0.0020, 0.7054],\n",
      "        [0.0020, 0.7074],\n",
      "        [0.0020, 0.7094],\n",
      "        [0.0020, 0.7114],\n",
      "        [0.0020, 0.7134],\n",
      "        [0.0020, 0.7154],\n",
      "        [0.0020, 0.7174],\n",
      "        [0.0020, 0.7194],\n",
      "        [0.0020, 0.7214],\n",
      "        [0.0020, 0.7234],\n",
      "        [0.0020, 0.7255],\n",
      "        [0.0020, 0.7275],\n",
      "        [0.0020, 0.7295],\n",
      "        [0.0020, 0.7315],\n",
      "        [0.0020, 0.7335],\n",
      "        [0.0020, 0.7355],\n",
      "        [0.0020, 0.7375],\n",
      "        [0.0020, 0.7395],\n",
      "        [0.0020, 0.7415],\n",
      "        [0.0020, 0.7435],\n",
      "        [0.0020, 0.7455],\n",
      "        [0.0020, 0.7475],\n",
      "        [0.0020, 0.7495],\n",
      "        [0.0020, 0.7515],\n",
      "        [0.0020, 0.7535],\n",
      "        [0.0020, 0.7555],\n",
      "        [0.0020, 0.7575],\n",
      "        [0.0020, 0.7595],\n",
      "        [0.0020, 0.7615],\n",
      "        [0.0020, 0.7635],\n",
      "        [0.0020, 0.7655],\n",
      "        [0.0020, 0.7675],\n",
      "        [0.0020, 0.7695],\n",
      "        [0.0020, 0.7715],\n",
      "        [0.0020, 0.7735],\n",
      "        [0.0020, 0.7756],\n",
      "        [0.0020, 0.7776],\n",
      "        [0.0020, 0.7796],\n",
      "        [0.0020, 0.7816],\n",
      "        [0.0020, 0.7836],\n",
      "        [0.0020, 0.7856],\n",
      "        [0.0020, 0.7876],\n",
      "        [0.0020, 0.7896],\n",
      "        [0.0020, 0.7916],\n",
      "        [0.0020, 0.7936],\n",
      "        [0.0020, 0.7956],\n",
      "        [0.0020, 0.7976],\n",
      "        [0.0020, 0.7996],\n",
      "        [0.0020, 0.8016],\n",
      "        [0.0020, 0.8036],\n",
      "        [0.0020, 0.8056],\n",
      "        [0.0020, 0.8076],\n",
      "        [0.0020, 0.8096],\n",
      "        [0.0020, 0.8116],\n",
      "        [0.0020, 0.8136],\n",
      "        [0.0020, 0.8156],\n",
      "        [0.0020, 0.8176],\n",
      "        [0.0020, 0.8196],\n",
      "        [0.0020, 0.8216],\n",
      "        [0.0020, 0.8236],\n",
      "        [0.0020, 0.8257],\n",
      "        [0.0020, 0.8277],\n",
      "        [0.0020, 0.8297],\n",
      "        [0.0020, 0.8317],\n",
      "        [0.0020, 0.8337],\n",
      "        [0.0020, 0.8357],\n",
      "        [0.0020, 0.8377],\n",
      "        [0.0020, 0.8397],\n",
      "        [0.0020, 0.8417],\n",
      "        [0.0020, 0.8437],\n",
      "        [0.0020, 0.8457],\n",
      "        [0.0020, 0.8477],\n",
      "        [0.0020, 0.8497],\n",
      "        [0.0020, 0.8517],\n",
      "        [0.0020, 0.8537],\n",
      "        [0.0020, 0.8557],\n",
      "        [0.0020, 0.8577],\n",
      "        [0.0020, 0.8597],\n",
      "        [0.0020, 0.8617],\n",
      "        [0.0020, 0.8637],\n",
      "        [0.0020, 0.8657],\n",
      "        [0.0020, 0.8677],\n",
      "        [0.0020, 0.8697],\n",
      "        [0.0020, 0.8717],\n",
      "        [0.0020, 0.8737],\n",
      "        [0.0020, 0.8758],\n",
      "        [0.0020, 0.8778],\n",
      "        [0.0020, 0.8798],\n",
      "        [0.0020, 0.8818],\n",
      "        [0.0020, 0.8838],\n",
      "        [0.0020, 0.8858],\n",
      "        [0.0020, 0.8878],\n",
      "        [0.0020, 0.8898],\n",
      "        [0.0020, 0.8918],\n",
      "        [0.0020, 0.8938],\n",
      "        [0.0020, 0.8958],\n",
      "        [0.0020, 0.8978],\n",
      "        [0.0020, 0.8998],\n",
      "        [0.0020, 0.9018],\n",
      "        [0.0020, 0.9038],\n",
      "        [0.0020, 0.9058],\n",
      "        [0.0020, 0.9078],\n",
      "        [0.0020, 0.9098],\n",
      "        [0.0020, 0.9118],\n",
      "        [0.0020, 0.9138],\n",
      "        [0.0020, 0.9158],\n",
      "        [0.0020, 0.9178],\n",
      "        [0.0020, 0.9198],\n",
      "        [0.0020, 0.9218],\n",
      "        [0.0020, 0.9238],\n",
      "        [0.0020, 0.9259],\n",
      "        [0.0020, 0.9279],\n",
      "        [0.0020, 0.9299],\n",
      "        [0.0020, 0.9319],\n",
      "        [0.0020, 0.9339],\n",
      "        [0.0020, 0.9359],\n",
      "        [0.0020, 0.9379],\n",
      "        [0.0020, 0.9399],\n",
      "        [0.0020, 0.9419],\n",
      "        [0.0020, 0.9439],\n",
      "        [0.0020, 0.9459],\n",
      "        [0.0020, 0.9479],\n",
      "        [0.0020, 0.9499],\n",
      "        [0.0020, 0.9519],\n",
      "        [0.0020, 0.9539],\n",
      "        [0.0020, 0.9559],\n",
      "        [0.0020, 0.9579],\n",
      "        [0.0020, 0.9599],\n",
      "        [0.0020, 0.9619],\n",
      "        [0.0020, 0.9639],\n",
      "        [0.0020, 0.9659],\n",
      "        [0.0020, 0.9679],\n",
      "        [0.0020, 0.9699],\n",
      "        [0.0020, 0.9719],\n",
      "        [0.0020, 0.9739],\n",
      "        [0.0020, 0.9760],\n",
      "        [0.0020, 0.9780],\n",
      "        [0.0020, 0.9800],\n",
      "        [0.0020, 0.9820],\n",
      "        [0.0020, 0.9840],\n",
      "        [0.0020, 0.9860],\n",
      "        [0.0020, 0.9880],\n",
      "        [0.0020, 0.9900],\n",
      "        [0.0020, 0.9920],\n",
      "        [0.0020, 0.9940],\n",
      "        [0.0020, 0.9960],\n",
      "        [0.0020, 0.9980],\n",
      "        [0.0020, 1.0000]])\n"
     ]
    }
   ],
   "source": [
    "print(test_data[-1][1])"
   ]
  },
  {
   "cell_type": "markdown",
   "metadata": {},
   "source": [
    "## Investigate how to preprocess the data"
   ]
  },
  {
   "cell_type": "code",
   "execution_count": 21,
   "metadata": {
    "ExecuteTime": {
     "end_time": "2021-01-24T04:43:56.747417Z",
     "start_time": "2021-01-24T04:43:56.742469Z"
    }
   },
   "outputs": [
    {
     "data": {
      "text/plain": [
       "(1, 1)"
      ]
     },
     "execution_count": 21,
     "metadata": {},
     "output_type": "execute_result"
    }
   ],
   "source": [
    "len(train_data), len(test_data)"
   ]
  },
  {
   "cell_type": "code",
   "execution_count": 22,
   "metadata": {
    "ExecuteTime": {
     "end_time": "2021-01-24T04:43:56.756297Z",
     "start_time": "2021-01-24T04:43:56.750049Z"
    }
   },
   "outputs": [
    {
     "data": {
      "text/plain": [
       "(500, 66)"
      ]
     },
     "execution_count": 22,
     "metadata": {},
     "output_type": "execute_result"
    }
   ],
   "source": [
    "D = []\n",
    "for d in train_data:\n",
    "    D.append(np.hstack(d))\n",
    "D = np.vstack(D)\n",
    "D.shape"
   ]
  },
  {
   "cell_type": "code",
   "execution_count": 23,
   "metadata": {
    "ExecuteTime": {
     "end_time": "2021-01-24T04:43:56.763369Z",
     "start_time": "2021-01-24T04:43:56.758578Z"
    }
   },
   "outputs": [
    {
     "data": {
      "text/plain": [
       "-22.716675"
      ]
     },
     "execution_count": 23,
     "metadata": {},
     "output_type": "execute_result"
    }
   ],
   "source": [
    "D.min()"
   ]
  },
  {
   "cell_type": "code",
   "execution_count": 24,
   "metadata": {
    "ExecuteTime": {
     "end_time": "2021-01-24T04:43:56.930887Z",
     "start_time": "2021-01-24T04:43:56.765711Z"
    }
   },
   "outputs": [
    {
     "data": {
      "image/png": "[encoded data removed]",
      "text/plain": [
       "<Figure size 432x288 with 1 Axes>"
      ]
     },
     "metadata": {
      "needs_background": "light"
     },
     "output_type": "display_data"
    }
   ],
   "source": [
    "x_mx = np.max(D,axis=0)\n",
    "x_mn = np.min(D,axis=0)\n",
    "abs_x_mx = np.max(abs(D),axis=0)\n",
    "plt.plot(x_mx)\n",
    "plt.plot(x_mn)\n",
    "plt.plot(abs_x_mx)\n",
    "plt.show()"
   ]
  },
  {
   "cell_type": "markdown",
   "metadata": {},
   "source": [
    "## Dataset and Dataloader"
   ]
  },
  {
   "cell_type": "code",
   "execution_count": 25,
   "metadata": {
    "ExecuteTime": {
     "end_time": "2021-01-24T04:43:56.941304Z",
     "start_time": "2021-01-24T04:43:56.932215Z"
    }
   },
   "outputs": [],
   "source": [
    "class LatentVectors(Dataset):\n",
    "    def __init__(self, data,doPreprocess=False,w=1,simLen=200,abs_x_mx=abs_x_mx, memory=6):\n",
    "        self.data = data\n",
    "        self.doPreprocess = doPreprocess\n",
    "        self.simLen = simLen\n",
    "        self.w = w\n",
    "        self.abs_x_mx = abs_x_mx[:-2]\n",
    "        self.abs_p_mx = abs_x_mx[-2:]\n",
    "        self.memory= memory\n",
    "                 \n",
    "    def __len__(self):\n",
    "        return self.simLen*len(self.data)\n",
    "\n",
    "    def preprocess_x(self,x):\n",
    "        if x.shape[0] == self.abs_x_mx.shape[0]:\n",
    "            return x/self.abs_x_mx[:,None]\n",
    "        else:\n",
    "            return x/self.abs_x_mx\n",
    "\n",
    "    def preprocess_p(self,p):\n",
    "        if p.shape[0] == self.abs_p_mx.shape[0]:\n",
    "            return p/self.abs_p_mx[:,None]\n",
    "        else:\n",
    "            return p/self.abs_p_mx\n",
    "\n",
    "    def invPreprocess_x(self,xnew):\n",
    "        x = xnew*self.abs_x_mx\n",
    "        return x\n",
    "\n",
    "    def invPreprocess_p(self,pnew):\n",
    "        p = pnew*self.abs_p_mx\n",
    "        return p\n",
    "    \n",
    "    def __getitem__(self, idx):\n",
    "        q,r = np.divmod(idx,self.simLen)\n",
    "        X, p = self.data[q]\n",
    "        r_idx = np.random.randint(0,self.simLen-self.w)\n",
    "        \n",
    "        x = torch.zeros((latentDim, self.memory))\n",
    "        p_x = torch.zeros((2, self.memory))\n",
    "        \n",
    "        x[:,0] = X[r_idx:r_idx+1]\n",
    "        y = X[r_idx+1:r_idx+self.w+1]\n",
    "        \n",
    "        p_x[:,0] = p[r_idx:r_idx+1]\n",
    "        p_y = p[r_idx+1:r_idx+self.w+1]\n",
    "        \n",
    "        if self.doPreprocess:\n",
    "            x = self.preprocess_x(x)\n",
    "            y = self.preprocess_x(y)\n",
    "            p_x = self.preprocess_p(p_x)\n",
    "            p_y = self.preprocess_p(p_y)\n",
    "        \n",
    "        return x, y, p_x, p_y"
   ]
  },
  {
   "cell_type": "code",
   "execution_count": 26,
   "metadata": {
    "ExecuteTime": {
     "end_time": "2021-01-24T04:43:56.955270Z",
     "start_time": "2021-01-24T04:43:56.942710Z"
    }
   },
   "outputs": [
    {
     "data": {
      "text/plain": [
       "(torch.Size([64, 6]),\n",
       " torch.Size([499, 64]),\n",
       " torch.Size([2, 6]),\n",
       " torch.Size([499, 2]))"
      ]
     },
     "execution_count": 26,
     "metadata": {},
     "output_type": "execute_result"
    }
   ],
   "source": [
    "trainDataset = LatentVectors(train_data,doPreprocess=True,w=w,simLen=simLen,abs_x_mx=abs_x_mx,\n",
    "                             memory=memory_length)\n",
    "testDataset = LatentVectors(test_data,doPreprocess=True,w=w,simLen=simLen,abs_x_mx=abs_x_mx,memory=memory_length)\n",
    "X,y,p_x,p_y = trainDataset[0]\n",
    "X.shape,y.shape,p_x.shape,p_y.shape"
   ]
  },
  {
   "cell_type": "code",
   "execution_count": 27,
   "metadata": {
    "ExecuteTime": {
     "end_time": "2021-01-24T04:43:56.960912Z",
     "start_time": "2021-01-24T04:43:56.956619Z"
    }
   },
   "outputs": [
    {
     "data": {
      "text/plain": [
       "(500, 500, 500, 500)"
      ]
     },
     "execution_count": 27,
     "metadata": {},
     "output_type": "execute_result"
    }
   ],
   "source": [
    "trainDataLoader = DataLoader(dataset=trainDataset, batch_size=bz, shuffle=True, drop_last=True)\n",
    "testDataLoader = DataLoader(dataset=testDataset, batch_size=bz)\n",
    "len(trainDataset), len(trainDataLoader), len(testDataset), len(testDataLoader)"
   ]
  },
  {
   "cell_type": "code",
   "execution_count": 28,
   "metadata": {
    "ExecuteTime": {
     "end_time": "2021-01-24T04:43:56.967052Z",
     "start_time": "2021-01-24T04:43:56.962048Z"
    }
   },
   "outputs": [
    {
     "data": {
      "text/plain": [
       "(torch.Size([1, 64, 6]),\n",
       " torch.Size([1, 499, 64]),\n",
       " torch.Size([1, 2, 6]),\n",
       " torch.Size([1, 499, 2]))"
      ]
     },
     "execution_count": 28,
     "metadata": {},
     "output_type": "execute_result"
    }
   ],
   "source": [
    "X,y, p_x, p_y = next(iter(trainDataLoader))\n",
    "X.shape, y.shape, p_x.shape, p_y.shape"
   ]
  },
  {
   "cell_type": "code",
   "execution_count": 29,
   "metadata": {
    "ExecuteTime": {
     "end_time": "2021-01-24T04:43:56.971998Z",
     "start_time": "2021-01-24T04:43:56.968183Z"
    }
   },
   "outputs": [
    {
     "data": {
      "text/plain": [
       "tensor([[[1., 0., 0., 0., 0., 0.],\n",
       "         [0., 0., 0., 0., 0., 0.]]])"
      ]
     },
     "execution_count": 29,
     "metadata": {},
     "output_type": "execute_result"
    }
   ],
   "source": [
    "p_x"
   ]
  },
  {
   "cell_type": "markdown",
   "metadata": {},
   "source": [
    "## Model"
   ]
  },
  {
   "cell_type": "code",
   "execution_count": 30,
   "metadata": {
    "ExecuteTime": {
     "end_time": "2021-01-24T04:43:56.979981Z",
     "start_time": "2021-01-24T04:43:56.973225Z"
    }
   },
   "outputs": [],
   "source": [
    "class Autoregressive_Conv_Net(nn.Module):\n",
    "    def __init__(self, X, hiddenLayerSizes = [128, 128, 128], activation=nn.ELU(), memory = 6):\n",
    "        super(Autoregressive_Conv_Net,self).__init__()\n",
    "        \n",
    "        self.memory = memory\n",
    "        self.activation = activation\n",
    "        if hiddenLayerSizes[-1] != 64:\n",
    "            hiddenLayerSizes.append(64)\n",
    "        self.modules = []\n",
    "        for idx,sz in enumerate(hiddenLayerSizes):\n",
    "            if idx == 0:\n",
    "                in_channels = latentDim\n",
    "            else:\n",
    "                in_channels = hiddenLayerSizes[idx-1]\n",
    "            # flip the channel_in-length order?\n",
    "            self.modules.append(nn.Conv1d(in_channels, hiddenLayerSizes[idx], 3, padding=1)) \n",
    "            self.modules.append(self.activation)\n",
    "            \n",
    "        self.layers = nn.Sequential(*self.modules)\n",
    "\n",
    "        self.output = nn.Conv1d(memory, 1, 1, padding=0)\n",
    "        \n",
    "        #self.output = nn.Linear(hiddenLayerSizes[-1]*memory, latentDim)\n",
    "                                \n",
    "        \n",
    "    def forward(self,x):\n",
    "        x = self.layers(x)\n",
    "        if type(self.output) == nn.Conv1d:\n",
    "            x = self.output(x.transpose(-1,-2)).squeeze()\n",
    "        else:\n",
    "            x = self.output(x.view(x.size(0), -1))\n",
    "        return x"
   ]
  },
  {
   "cell_type": "code",
   "execution_count": 31,
   "metadata": {
    "ExecuteTime": {
     "end_time": "2021-01-24T04:43:56.987697Z",
     "start_time": "2021-01-24T04:43:56.981460Z"
    }
   },
   "outputs": [
    {
     "data": {
      "text/plain": [
       "Autoregressive_Conv_Net(\n",
       "  (activation): ELU(alpha=1.0)\n",
       "  (layers): Sequential(\n",
       "    (0): Conv1d(64, 128, kernel_size=(3,), stride=(1,), padding=(1,))\n",
       "    (1): ELU(alpha=1.0)\n",
       "    (2): Conv1d(128, 128, kernel_size=(3,), stride=(1,), padding=(1,))\n",
       "    (3): ELU(alpha=1.0)\n",
       "    (4): Conv1d(128, 128, kernel_size=(3,), stride=(1,), padding=(1,))\n",
       "    (5): ELU(alpha=1.0)\n",
       "    (6): Conv1d(128, 64, kernel_size=(3,), stride=(1,), padding=(1,))\n",
       "    (7): ELU(alpha=1.0)\n",
       "  )\n",
       "  (output): Conv1d(6, 1, kernel_size=(1,), stride=(1,))\n",
       ")"
      ]
     },
     "execution_count": 31,
     "metadata": {},
     "output_type": "execute_result"
    }
   ],
   "source": [
    "model = Autoregressive_Conv_Net(X, hiddenLayerSizes=hiddenLayers,activation=activation,memory=memory_length)\n",
    "model"
   ]
  },
  {
   "cell_type": "code",
   "execution_count": 32,
   "metadata": {
    "ExecuteTime": {
     "end_time": "2021-01-24T04:43:57.149856Z",
     "start_time": "2021-01-24T04:43:56.989064Z"
    }
   },
   "outputs": [
    {
     "data": {
      "text/plain": [
       "torch.Size([64])"
      ]
     },
     "execution_count": 32,
     "metadata": {},
     "output_type": "execute_result"
    }
   ],
   "source": [
    "output = model(X.float())\n",
    "output.shape"
   ]
  },
  {
   "cell_type": "code",
   "execution_count": 33,
   "metadata": {
    "ExecuteTime": {
     "end_time": "2021-01-24T04:43:57.157340Z",
     "start_time": "2021-01-24T04:43:57.153260Z"
    }
   },
   "outputs": [],
   "source": [
    "if len(gpu_ids.split(',')) > 1:\n",
    "    model = nn.DataParallel(model)"
   ]
  },
  {
   "cell_type": "code",
   "execution_count": 34,
   "metadata": {
    "ExecuteTime": {
     "end_time": "2021-01-24T04:43:57.164783Z",
     "start_time": "2021-01-24T04:43:57.160053Z"
    }
   },
   "outputs": [
    {
     "name": "stdout",
     "output_type": "stream",
     "text": [
      "10 layers require gradients (unfrozen) out of 10 layers\n",
      "147,911 parameters require gradients (unfrozen) out of 147,911 parameters\n"
     ]
    }
   ],
   "source": [
    "printNumModelParams(model)"
   ]
  },
  {
   "cell_type": "code",
   "execution_count": 35,
   "metadata": {
    "ExecuteTime": {
     "end_time": "2021-01-24T04:44:02.426997Z",
     "start_time": "2021-01-24T04:44:02.421179Z"
    }
   },
   "outputs": [],
   "source": [
    "del SVD_autoencoder\n",
    "torch.cuda.empty_cache()"
   ]
  },
  {
   "cell_type": "code",
   "execution_count": 36,
   "metadata": {
    "ExecuteTime": {
     "end_time": "2021-01-24T04:44:04.079978Z",
     "start_time": "2021-01-24T04:44:04.067360Z"
    }
   },
   "outputs": [],
   "source": [
    "SVD_autoencoder = SVD_Autoencoder(svd_vecs, latentDim, False)"
   ]
  },
  {
   "cell_type": "code",
   "execution_count": 37,
   "metadata": {
    "ExecuteTime": {
     "end_time": "2021-01-24T04:44:07.522806Z",
     "start_time": "2021-01-24T04:44:07.497907Z"
    }
   },
   "outputs": [],
   "source": [
    "# surrogate class\n",
    "\n",
    "class Surrogate(nn.Module):\n",
    "    \n",
    "    def __init__(self, window,\n",
    "                 z_size, p_size,\n",
    "                LIN, encoder, decoder):\n",
    "        super(Surrogate, self).__init__()\n",
    "        self.window = window\n",
    "        self.z_size = z_size # this does not include the size of p\n",
    "        self.p_size = p_size\n",
    "        self.c_size = z_size + p_size # this does include the size of p\n",
    "        self.LIN = LIN\n",
    "        self.encoder = encoder\n",
    "        self.decoder = decoder\n",
    "        \n",
    "    def encode(self, U):\n",
    "        \n",
    "        self.shape_of_last_frames_encoded = U.shape\n",
    "        \n",
    "        return self.encoder(U)\n",
    "        \n",
    "    def decode(self, encoding):\n",
    "        \n",
    "        self.shape_of_last_frames_encoded = torch.Size([encoding.size(0), 1, 128, 128])\n",
    "        \n",
    "        return self.decoder(encoding, self.shape_of_last_frames_encoded)\n",
    "        \n",
    "    def predict_next_w_encodings(self, encoding, p_y, window):\n",
    "        '''\n",
    "        use the LIN to predict the next w encodings for each \n",
    "        encoded U in the batch\n",
    "        '''\n",
    "            \n",
    "        predicted_encodings = []\n",
    "            \n",
    "        # given a batch of encodings, advance each encoding window time steps.\n",
    "        # save the result at each time step\n",
    "        for i in range(window):\n",
    "            memory_to_save = encoding[:,:,0:-1].clone()\n",
    "            encoding[:,:,0] = self.LIN(encoding.clone()) + encoding[:,:,0] # use LIN to predict delta in encoding\n",
    "            encoding[:,:,1:] = memory_to_save\n",
    "            encoding[:,-self.p_size:,0] = p_y[:, i]\n",
    "                    \n",
    "            predicted_encodings.append(encoding[:,:,0].clone())\n",
    "            \n",
    "            \n",
    "        return torch.stack(predicted_encodings)\n",
    "    \n",
    "    def forward(self, U, p_x, p_y, window = None):\n",
    "        \n",
    "        if window == None:\n",
    "            window = self.window\n",
    "        assert p_y.size(1) == window\n",
    "            \n",
    "        #encoding = self.encode(U)\n",
    "        encoding = U\n",
    "        encoding[:,-self.p_size:] = p_x\n",
    "        encoding_w = self.predict_next_w_encodings(encoding, p_y, window)\n",
    "        # want to have this agree with U_y, which is [batch_size, window_size, channels, nx, ny]\n",
    "        # right now, it's [window_size, batch_size, c_size], so transpose dimensions 0 and 1\n",
    "        # print(encoding_w.shape)\n",
    "        U = torch.stack([self.decode(encoding_i) for encoding_i in encoding_w])\n",
    "        \n",
    "        return U.transpose(0,1), encoding_w.transpose(0,1)\n",
    "    \n",
    "    \n",
    "surrogate = Surrogate(w, latentDim - 2, 2, model, SVD_autoencoder.encoder, \n",
    "                      SVD_autoencoder.decoder)"
   ]
  },
  {
   "cell_type": "code",
   "execution_count": 38,
   "metadata": {
    "ExecuteTime": {
     "end_time": "2021-01-24T04:44:08.017932Z",
     "start_time": "2021-01-24T04:44:08.011798Z"
    }
   },
   "outputs": [
    {
     "data": {
      "text/plain": [
       "device(type='cpu')"
      ]
     },
     "execution_count": 38,
     "metadata": {},
     "output_type": "execute_result"
    }
   ],
   "source": [
    "model.output.weight.device"
   ]
  },
  {
   "cell_type": "code",
   "execution_count": 39,
   "metadata": {
    "ExecuteTime": {
     "end_time": "2021-01-24T04:44:09.156965Z",
     "start_time": "2021-01-24T04:44:08.286463Z"
    }
   },
   "outputs": [
    {
     "data": {
      "text/plain": [
       "(torch.Size([1, 499, 1, 128, 128]), torch.Size([1, 499, 64]))"
      ]
     },
     "execution_count": 39,
     "metadata": {},
     "output_type": "execute_result"
    }
   ],
   "source": [
    "U, encoding_hat = surrogate(X.float(), p_x.float(), p_y.float())\n",
    "U.shape, encoding_hat.shape"
   ]
  },
  {
   "cell_type": "code",
   "execution_count": 40,
   "metadata": {
    "ExecuteTime": {
     "end_time": "2021-01-24T04:44:09.162531Z",
     "start_time": "2021-01-24T04:44:09.158548Z"
    }
   },
   "outputs": [
    {
     "data": {
      "text/plain": [
       "True"
      ]
     },
     "execution_count": 40,
     "metadata": {},
     "output_type": "execute_result"
    }
   ],
   "source": [
    "np.allclose(encoding_hat[:,:,-2:].detach().cpu(), p_y)"
   ]
  },
  {
   "cell_type": "code",
   "execution_count": 41,
   "metadata": {
    "ExecuteTime": {
     "end_time": "2021-01-24T04:44:09.252265Z",
     "start_time": "2021-01-24T04:44:09.240779Z"
    }
   },
   "outputs": [],
   "source": [
    "surrogate = Surrogate(w, latentDim - 2, 2, model, SVD_autoencoder.encoder, \n",
    "                      SVD_autoencoder.decoder).to(device)\n",
    "if len(gpu_ids.split(',')) > 1:\n",
    "    surrogate = nn.DataParallel(surrogate)"
   ]
  },
  {
   "cell_type": "markdown",
   "metadata": {},
   "source": [
    "## Loss Function"
   ]
  },
  {
   "cell_type": "code",
   "execution_count": 42,
   "metadata": {
    "ExecuteTime": {
     "end_time": "2021-01-24T04:44:10.574712Z",
     "start_time": "2021-01-24T04:44:10.561547Z"
    }
   },
   "outputs": [],
   "source": [
    "def L2_relative_loss(pred, target):\n",
    "    return torch.norm(pred - target)/torch.norm(target)\n",
    "\n",
    "\n",
    "def L1_loss(pred, target):\n",
    "    return torch.mean(torch.abs(pred - target))\n",
    "\n",
    "\n",
    "def jacobian_loss(pred, target, device='cpu'):\n",
    "    return L1_loss(jacobian(pred, device), jacobian(target, device))\n",
    "\n",
    "\n",
    "def curl_loss(pred, target, device):\n",
    "    return L1_loss(curl(pred, device), curl(target, device))\n",
    "\n",
    "\n",
    "def MSE(pred,target):\n",
    "    return nn.MSELoss()(pred, target)\n",
    "\n",
    "\n",
    "def p_loss(pred, target):\n",
    "    return L(pred[:, -target.shape[1]:], target)\n",
    "\n",
    "\n",
    "def loss(pred, target, device):\n",
    "        \n",
    "    L = MSE(pred, target)\n",
    "        \n",
    "    return L "
   ]
  },
  {
   "cell_type": "code",
   "execution_count": 43,
   "metadata": {
    "ExecuteTime": {
     "end_time": "2021-01-24T04:44:11.270000Z",
     "start_time": "2021-01-24T04:44:11.263091Z"
    }
   },
   "outputs": [
    {
     "data": {
      "text/plain": [
       "(torch.Size([1, 499, 64]), torch.Size([1, 499, 2]))"
      ]
     },
     "execution_count": 43,
     "metadata": {},
     "output_type": "execute_result"
    }
   ],
   "source": [
    "y[:,:,-2:] = p_y\n",
    "y.shape, p_y.shape"
   ]
  },
  {
   "cell_type": "code",
   "execution_count": 44,
   "metadata": {
    "ExecuteTime": {
     "end_time": "2021-01-24T04:44:11.537769Z",
     "start_time": "2021-01-24T04:44:11.529792Z"
    }
   },
   "outputs": [
    {
     "data": {
      "text/plain": [
       "tensor(5413.9062, grad_fn=<MseLossBackward>)"
      ]
     },
     "execution_count": 44,
     "metadata": {},
     "output_type": "execute_result"
    }
   ],
   "source": [
    "loss(encoding_hat, y, device)"
   ]
  },
  {
   "cell_type": "markdown",
   "metadata": {},
   "source": [
    "## Set LR"
   ]
  },
  {
   "cell_type": "code",
   "execution_count": 45,
   "metadata": {
    "ExecuteTime": {
     "end_time": "2021-01-24T04:44:12.836790Z",
     "start_time": "2021-01-24T04:44:12.831274Z"
    }
   },
   "outputs": [
    {
     "data": {
      "text/plain": [
       "\"\\ndoesn't work with our dataloader\\nif findLRs and (len(gpu_ids.split(','))==1): # doesn't work for multigpu???\\n    opt = create_opt(1e-7,model)\\n    find_lr(model,opt,L,device,trainDataLoader)\\n\""
      ]
     },
     "execution_count": 45,
     "metadata": {},
     "output_type": "execute_result"
    }
   ],
   "source": [
    "'''\n",
    "doesn't work with our dataloader\n",
    "if findLRs and (len(gpu_ids.split(','))==1): # doesn't work for multigpu???\n",
    "    opt = create_opt(1e-7,model)\n",
    "    find_lr(model,opt,L,device,trainDataLoader)\n",
    "'''"
   ]
  },
  {
   "cell_type": "code",
   "execution_count": 46,
   "metadata": {
    "ExecuteTime": {
     "end_time": "2021-01-24T04:44:13.228736Z",
     "start_time": "2021-01-24T04:44:13.222701Z"
    }
   },
   "outputs": [],
   "source": [
    "max_lr = .001\n",
    "opt = torch.optim.Adam(model.parameters(),lr=max_lr)\n",
    "lr_scheduler = torch.optim.lr_scheduler.ReduceLROnPlateau(opt,patience=patience)"
   ]
  },
  {
   "cell_type": "code",
   "execution_count": 47,
   "metadata": {
    "ExecuteTime": {
     "end_time": "2021-01-24T04:44:13.810863Z",
     "start_time": "2021-01-24T04:44:13.806433Z"
    }
   },
   "outputs": [],
   "source": [
    "versionName = versionName + '_lr{}'.format(str(max_lr))"
   ]
  },
  {
   "cell_type": "code",
   "execution_count": 48,
   "metadata": {
    "ExecuteTime": {
     "end_time": "2021-01-24T04:44:14.273445Z",
     "start_time": "2021-01-24T04:44:14.269517Z"
    }
   },
   "outputs": [],
   "source": [
    "versionName = versionName + '_1sim'"
   ]
  },
  {
   "cell_type": "code",
   "execution_count": 49,
   "metadata": {
    "ExecuteTime": {
     "end_time": "2021-01-24T04:44:15.061589Z",
     "start_time": "2021-01-24T04:44:15.055972Z"
    }
   },
   "outputs": [
    {
     "data": {
      "text/plain": [
       "'LIN_SVD_PNNL_GPUs2_w499_latentDim64_hd128_128_128_bz1_epochs1000_memory6_lr0.001_1sim'"
      ]
     },
     "execution_count": 49,
     "metadata": {},
     "output_type": "execute_result"
    }
   ],
   "source": [
    "versionName"
   ]
  },
  {
   "cell_type": "markdown",
   "metadata": {},
   "source": [
    "## Train"
   ]
  },
  {
   "cell_type": "code",
   "execution_count": 67,
   "metadata": {
    "ExecuteTime": {
     "end_time": "2020-11-26T01:30:25.465913Z",
     "start_time": "2020-11-26T01:30:25.447764Z"
    }
   },
   "outputs": [],
   "source": [
    "def trainEpoch(myDataLoader, tensorboard_writer, model, opt, p_loss, loss,\n",
    "               metric, lr_scheduler, tensorboard_rate, device,\n",
    "               tensorboard_recorder_step, total_steps):\n",
    "    running_loss = 0.0\n",
    "    running_rmse = 0.0\n",
    "    total_loss = 0.0\n",
    "    running_ploss = 0.0\n",
    "    for i, sampleBatch in enumerate(myDataLoader, start=1):\n",
    "\n",
    "        # --- Main Training ---\n",
    "        \n",
    "        # gpu\n",
    "        Encoding_x, Encoding_y, p_x, p_y = sampleBatch\n",
    "        Encoding_x = Encoding_x.to(device)\n",
    "        p_x = p_x.to(device)\n",
    "        Encoding_y = Encoding_y.to(device)\n",
    "        p_y = p_y.to(device)\n",
    "            \n",
    "\n",
    "        # zero the parameter gradients\n",
    "        opt.zero_grad()\n",
    "\n",
    "        U_hat, encoding_hat = model(Encoding_x, p_x, p_y)\n",
    "        pl = 0\n",
    "        with torch.no_grad():\n",
    "            Encoding_y[:,:,-2:] = p_y \n",
    "        ll = loss(encoding_hat, Encoding_y, device)\n",
    "        combined_loss = pl + ll\n",
    "        combined_loss.backward()\n",
    "        opt.step()\n",
    "        \n",
    "        # loss\n",
    "        batch_loss = combined_loss.item()\n",
    "        running_loss += batch_loss\n",
    "        total_loss += batch_loss\n",
    "        \n",
    "        batch_ploss = pl\n",
    "        running_ploss += batch_ploss\n",
    "\n",
    "\n",
    "\n",
    "        # record lr change\n",
    "        total_steps += 1\n",
    "        tensorboard_writer.add_scalar(tag=\"LR\", scalar_value=opt.param_groups[0]['lr'], global_step=total_steps)\n",
    "        #lr_scheduler.step()\n",
    "\n",
    "        # tensorboard writes\n",
    "        if (i % tensorboard_rate == 0):\n",
    "            tensorboard_recorder_step += 1\n",
    "            avg_running_loss = running_loss/tensorboard_rate\n",
    "            avg_running_rmse = running_rmse/tensorboard_rate\n",
    "            avg_running_ploss = running_ploss/tensorboard_rate\n",
    "            tensorboard_writer.add_scalar(tag=\"Loss\", scalar_value=avg_running_loss, global_step=tensorboard_recorder_step)\n",
    "            tensorboard_writer.add_scalar(tag=\"p_loss\", scalar_value=avg_running_ploss, global_step=tensorboard_recorder_step)\n",
    "            # reset running_loss for the next set of batches. (tensorboard_rate number of batches)\n",
    "            running_loss = 0.0\n",
    "            running_rmse = 0.0\n",
    "            running_ploss = 0.0\n",
    "            tensorboard_writer.flush()\n",
    "\n",
    "    return total_loss/len(myDataLoader), tensorboard_recorder_step, total_steps"
   ]
  },
  {
   "cell_type": "code",
   "execution_count": 68,
   "metadata": {
    "ExecuteTime": {
     "end_time": "2020-11-26T01:30:26.472368Z",
     "start_time": "2020-11-26T01:30:26.460024Z"
    }
   },
   "outputs": [],
   "source": [
    "def validEpoch(myDataLoader, tensorboard_writer, model, p_loss, loss, metric,\n",
    "               device, tensorboard_recorder_step):\n",
    "    running_loss = 0.0\n",
    "    running_rmse = 0.0\n",
    "    for i, sampleBatch in enumerate(myDataLoader, start=1):\n",
    "\n",
    "        # --- Metrics Recording ---\n",
    "\n",
    "        # gpu\n",
    "        Encoding_x, Encoding_y, p_x, p_y = sampleBatch\n",
    "        Encoding_x = Encoding_x.to(device)\n",
    "        p_x = p_x.to(device)\n",
    "        Encoding_y = Encoding_y.to(device)\n",
    "        p_y = p_y.to(device)\n",
    "                \n",
    "        perc = len(Encoding_x)/len(myDataLoader.dataset)\n",
    "\n",
    "        # forward, no gradient calculations\n",
    "        with torch.no_grad():\n",
    "            U_hat, encoding_hat = model(Encoding_x, p_x, p_y)\n",
    "            \n",
    "        Encoding_y[:,:,-2:] = p_y \n",
    "\n",
    "        # loss\n",
    "        combined_loss = loss(encoding_hat, Encoding_y, device)\n",
    "        \n",
    "        running_loss += perc*(combined_loss.item())\n",
    "\n",
    "\n",
    "    avg_running_loss = running_loss\n",
    "    avg_running_rmse = running_rmse\n",
    "    tensorboard_writer.add_scalar(tag=\"Loss\", scalar_value=avg_running_loss, global_step=tensorboard_recorder_step)\n",
    "    tensorboard_writer.flush()\n",
    "    \n",
    "    return running_loss"
   ]
  },
  {
   "cell_type": "code",
   "execution_count": 69,
   "metadata": {
    "ExecuteTime": {
     "end_time": "2020-11-26T01:30:33.899738Z",
     "start_time": "2020-11-26T01:30:31.830652Z"
    }
   },
   "outputs": [
    {
     "name": "stdout",
     "output_type": "stream",
     "text": [
      "checkpoints directory already exists :)\n"
     ]
    }
   ],
   "source": [
    "try:\n",
    "    os.mkdir(cps)\n",
    "except:\n",
    "    print(\"checkpoints directory already exists :)\")\n",
    "    \n",
    "# create a summary writer.\n",
    "train_writer = SummaryWriter(os.path.join(tensorboard_direc, versionName,'train'))\n",
    "test_writer = SummaryWriter(os.path.join(tensorboard_direc, versionName,'valid'))\n",
    "tensorboard_recorder_step = 0\n",
    "total_steps = 0"
   ]
  },
  {
   "cell_type": "code",
   "execution_count": null,
   "metadata": {
    "ExecuteTime": {
     "start_time": "2020-11-26T01:30:51.061Z"
    }
   },
   "outputs": [
    {
     "name": "stderr",
     "output_type": "stream",
     "text": [
      "\r",
      "  0%|          | 0/1000 [00:00<?, ?it/s]"
     ]
    },
    {
     "name": "stdout",
     "output_type": "stream",
     "text": [
      "---------- Started Training ----------\n",
      "--- Epoch 1/1000 ---\n"
     ]
    }
   ],
   "source": [
    "writeMessage('---------- Started Training ----------', versionName)\n",
    "bestLoss = np.infty\n",
    "torch.autograd.set_detect_anomaly(True)\n",
    "for epoch in tqdm(range(1, epochs+1)):  # loop over the dataset multiple times\n",
    "\n",
    "    writeMessage(\"--- Epoch {0}/{1} ---\".format(epoch, epochs), versionName)\n",
    "\n",
    "    surrogate.train()\n",
    "    trainLoss, tensorboard_recorder_step, total_steps = trainEpoch(trainDataLoader, \n",
    "                                                                   train_writer, surrogate,\n",
    "                                                                   opt, p_loss, loss,\n",
    "                                                                   rmse, lr_scheduler, \n",
    "                                                                   tensorboard_rate, device,\n",
    "                                                                   tensorboard_recorder_step, total_steps)\n",
    "\n",
    "    writeMessage(\"trainLoss: {:.4e}\".format(trainLoss),versionName)\n",
    "    writeMessage(\"LR: {:.4e}\".format(opt.param_groups[0]['lr']),versionName)\n",
    "#         if trainLoss < bestLoss:\n",
    "#             bestLoss = trainLoss\n",
    "#             writeMessage(\"Better trainLoss: {:.4e}, Saving models...\".format(bestLoss),versionName)\n",
    "#             torch.save(surrogate.state_dict(), os.path.join(cps,versionName))\n",
    "\n",
    "    surrogate.eval()\n",
    "    valLoss = validEpoch(testDataLoader, test_writer, surrogate, p_loss, loss, rmse, device, tensorboard_recorder_step)\n",
    "    writeMessage(\"valLoss: {:.4e}\".format(valLoss),versionName)\n",
    "\n",
    "    # checkpoint progress\n",
    "    if valLoss < bestLoss:\n",
    "        bestLoss = valLoss\n",
    "        writeMessage(\"Better valLoss: {:.4e}, Saving models...\".format(bestLoss),versionName)\n",
    "        torch.save(surrogate.state_dict(), os.path.join(cps,versionName))\n",
    "\n",
    "    lr_scheduler.step(valLoss)\n",
    "\n",
    "    if opt.param_groups[0]['lr'] < 5e-8:\n",
    "        break\n",
    "writeMessage('---------- Finished Training ----------', versionName)"
   ]
  },
  {
   "cell_type": "code",
   "execution_count": 50,
   "metadata": {
    "ExecuteTime": {
     "end_time": "2021-01-24T04:44:27.730083Z",
     "start_time": "2021-01-24T04:44:27.585004Z"
    }
   },
   "outputs": [
    {
     "data": {
      "text/plain": [
       "<All keys matched successfully>"
      ]
     },
     "execution_count": 50,
     "metadata": {},
     "output_type": "execute_result"
    }
   ],
   "source": [
    "# note that I incorrectly said in the version name that latentDim was 1024\n",
    "surrogate.load_state_dict(torch.load(os.path.join(cps,'LIN_SVD_PNNL_GPUs2_w499_latentDim1024_hd128_128_128_bz1_epochs1000_memory6_lr0.001_1sim')))"
   ]
  },
  {
   "cell_type": "code",
   "execution_count": 51,
   "metadata": {
    "ExecuteTime": {
     "end_time": "2021-01-24T04:44:27.841347Z",
     "start_time": "2021-01-24T04:44:27.834509Z"
    }
   },
   "outputs": [],
   "source": [
    "testDataset_fullSim = LatentVectors(test_data,doPreprocess=True,w=simLen-1,\n",
    "                            simLen=simLen,abs_x_mx=abs_x_mx,memory=memory_length)\n",
    "first_frame_testDataset = torch.utils.data.Subset(testDataset_fullSim, range(0, len(testDataset), simLen))\n",
    "simulation_testDataLoader = DataLoader(dataset=first_frame_testDataset, batch_size=10)"
   ]
  },
  {
   "cell_type": "code",
   "execution_count": 52,
   "metadata": {
    "ExecuteTime": {
     "end_time": "2021-01-24T04:44:28.018836Z",
     "start_time": "2021-01-24T04:44:27.984341Z"
    }
   },
   "outputs": [],
   "source": [
    "SVD_autoencoder_for_recon_without_physics_vars = SVD_Autoencoder(svd_vecs, latentDim-2, False).to(device)"
   ]
  },
  {
   "cell_type": "code",
   "execution_count": 53,
   "metadata": {
    "ExecuteTime": {
     "end_time": "2021-01-24T04:44:29.454961Z",
     "start_time": "2021-01-24T04:44:28.554320Z"
    }
   },
   "outputs": [],
   "source": [
    "surrogate.eval()\n",
    "U_hats = []\n",
    "Us = []\n",
    "for i, sampleBatch in enumerate(simulation_testDataLoader, start=1):\n",
    "\n",
    "    # gpu\n",
    "    Encoding_x, Encoding_y, p_x, p_y = sampleBatch\n",
    "    Encoding_x = Encoding_x.to(device)\n",
    "    p_x = p_x.to(device)\n",
    "    Encoding_y = Encoding_y.to(device)\n",
    "    p_y = p_y.to(device)\n",
    "    with torch.no_grad():\n",
    "        Encoding_y = testDataset_fullSim.invPreprocess_x(Encoding_y.clone().cpu()).to(device)\n",
    "        Us.append([SVD_autoencoder_for_recon_without_physics_vars.decoder(e,\n",
    "                       torch.Size((1,1,128,128))).detach().cpu() for e in Encoding_y[:,:,:-2].transpose(0,1)])\n",
    "        \n",
    "        \n",
    "        U_hat, encoding_hat = surrogate(Encoding_x, p_x, p_y, window=simLen-1)\n",
    "        encoding_hat = testDataset_fullSim.invPreprocess_x(encoding_hat.clone().cpu()).to(device)\n",
    "        \n",
    "        U_hat = [SVD_autoencoder_for_recon_without_physics_vars.decoder(e,\n",
    "                    torch.Size((1,1,128,128))).detach().cpu() for e in encoding_hat[:,:,:-2].transpose(0,1)]\n",
    "                    \n",
    "        U_hats.append(U_hat)\n",
    "        \n",
    "        \n",
    "Real_U = torch.stack(*Us).transpose(0,1)\n",
    "#Real_X_img = convertSimToImage(Real_X)\n",
    "\n",
    "Surr_U = torch.stack(*U_hats).transpose(0,1)\n",
    "#Surr_X_img = convertSimToImage(Surr_X)"
   ]
  },
  {
   "cell_type": "code",
   "execution_count": 54,
   "metadata": {
    "ExecuteTime": {
     "end_time": "2021-01-24T04:44:31.048655Z",
     "start_time": "2021-01-24T04:44:30.917920Z"
    }
   },
   "outputs": [
    {
     "name": "stdout",
     "output_type": "stream",
     "text": [
      "0\n"
     ]
    }
   ],
   "source": [
    "sim = -1\n",
    "rel_error_by_sim_and_frame = []\n",
    "for batch_real, batch_surr in zip(Real_U,Surr_U):\n",
    "    sim+=1\n",
    "    rel_error_by_sim_and_frame.append([])\n",
    "    for frame_real, frame_surr in zip(batch_real, batch_surr):\n",
    "        assert frame_real.size()==torch.Size((1,128,128))\n",
    "        rel_error_by_sim_and_frame[sim].append( torch.norm(frame_surr - frame_real)/torch.norm(frame_real))\n",
    "print(sim)"
   ]
  },
  {
   "cell_type": "code",
   "execution_count": 55,
   "metadata": {
    "ExecuteTime": {
     "end_time": "2021-01-24T04:44:33.146726Z",
     "start_time": "2021-01-24T04:44:32.812747Z"
    }
   },
   "outputs": [
    {
     "data": {
      "image/png": "[encoded data removed]",
      "text/plain": [
       "<Figure size 432x288 with 1 Axes>"
      ]
     },
     "metadata": {
      "needs_background": "light"
     },
     "output_type": "display_data"
    },
    {
     "data": {
      "image/png": "[encoded data removed]",
      "text/plain": [
       "<Figure size 432x288 with 1 Axes>"
      ]
     },
     "metadata": {
      "needs_background": "light"
     },
     "output_type": "display_data"
    }
   ],
   "source": [
    "plt.plot(np.vstack(rel_error_by_sim_and_frame).T)\n",
    "plt.legend([i for i in range(len(testSimFiles))])\n",
    "plt.show()\n",
    "plt.plot(np.vstack(rel_error_by_sim_and_frame)[:,:50].T)\n",
    "plt.legend([i for i in range(len(testSimFiles))])\n",
    "plt.show()"
   ]
  },
  {
   "cell_type": "code",
   "execution_count": null,
   "metadata": {
    "ExecuteTime": {
     "start_time": "2020-11-26T01:30:55.734Z"
    }
   },
   "outputs": [],
   "source": [
    "import matplotlib.animation as animation\n",
    "def create_1_channel_movie(im,outfile='sim.mp4',title='surrogate            simulation'):\n",
    "    ti = 0\n",
    "    u_mx = 255 #np.max(np.abs(Xrgb))\n",
    "    fig = plt.figure()\n",
    "    ax = fig.add_subplot(111)\n",
    "    plt.title(title)\n",
    "    cmap = plt.cm.ocean\n",
    "    img = ax.imshow(im[0].squeeze(), cmap=cmap, vmin=0, vmax=u_mx)\n",
    "    #plt.show()\n",
    "    \n",
    "    # initialization function: plot the background of each frame\n",
    "    def init():\n",
    "        img = ax.imshow(im[0].squeeze(), cmap=cmap, vmin=0, vmax=u_mx)\n",
    "        return (fig,)\n",
    "\n",
    "    # animation function. This is called sequentially\n",
    "    def animate(i):\n",
    "        img = ax.imshow(im[i].squeeze(), cmap=cmap, vmin=0, vmax=u_mx)\n",
    "        return (fig,)\n",
    "\n",
    "\n",
    "    # call the animator. blit=True means only re-draw the parts that have changed.\n",
    "    anim = animation.FuncAnimation(fig, animate, init_func=init,\n",
    "                                   frames=len(im), interval=20, blit=True)\n",
    "    anim.save(outfile, fps=30, extra_args=['-vcodec', 'libx264'])"
   ]
  },
  {
   "cell_type": "code",
   "execution_count": 56,
   "metadata": {
    "ExecuteTime": {
     "end_time": "2021-01-24T04:44:44.917060Z",
     "start_time": "2021-01-24T04:44:44.687557Z"
    }
   },
   "outputs": [
    {
     "data": {
      "text/plain": [
       "torch.Size([1, 499, 1, 128, 256])"
      ]
     },
     "execution_count": 56,
     "metadata": {},
     "output_type": "execute_result"
    }
   ],
   "source": [
    "Real_U_img = [torch.rot90(convertSimToImage(r),1,dims=[2,3]) for row in [Real_U] for r in row]\n",
    "Surr_U_img = [torch.rot90(convertSimToImage(s),1,dims=[2,3]) for row in [Surr_U] for s in row]\n",
    "\n",
    "Xrgb = torch.cat([torch.stack(Surr_U_img), torch.stack(Real_U_img)], dim=4)\n",
    "Xrgb.shape"
   ]
  },
  {
   "cell_type": "code",
   "execution_count": null,
   "metadata": {
    "ExecuteTime": {
     "start_time": "2020-11-26T01:30:56.841Z"
    }
   },
   "outputs": [],
   "source": [
    "try:\n",
    "    gif = True\n",
    "    outGif = '{}.gif'.format(versionName)\n",
    "    create_1_channel_movie(Xrgb[0].detach().numpy(),outfile=outGif)\n",
    "except:\n",
    "    gif = False\n",
    "    outGif = '{}.mp4'.format(versionName)\n",
    "    create_1_channel_movie(Xrgb[0].detach().numpy(),outfile=outGif)"
   ]
  },
  {
   "cell_type": "code",
   "execution_count": 82,
   "metadata": {
    "ExecuteTime": {
     "end_time": "2020-11-30T22:05:29.947312Z",
     "start_time": "2020-11-30T22:05:29.699766Z"
    }
   },
   "outputs": [
    {
     "data": {
      "text/html": [
       "<video src=\"LIN_SVD_PNNL_GPUs2_w499_latentDim1024_hd128_128_128_bz1_epochs1000_memory6_lr0.001_1sim.mp4\" controls  >\n",
       "      Your browser does not support the <code>video</code> element.\n",
       "    </video>"
      ],
      "text/plain": [
       "<IPython.core.display.Video object>"
      ]
     },
     "execution_count": 82,
     "metadata": {},
     "output_type": "execute_result"
    }
   ],
   "source": [
    "from IPython.display import Video\n",
    "Video(outGif)"
   ]
  },
  {
   "cell_type": "code",
   "execution_count": 113,
   "metadata": {
    "ExecuteTime": {
     "end_time": "2021-01-26T01:00:31.845738Z",
     "start_time": "2021-01-26T01:00:31.830839Z"
    }
   },
   "outputs": [],
   "source": [
    "import matplotlib.animation as animation\n",
    "def create_1_channel_movie(im, outfile):\n",
    "    ti = 0\n",
    "    u_mx = 255 #np.max(np.abs(Xrgb))\n",
    "    fig = plt.figure()\n",
    "    #plt.axis('off')\n",
    "    ax = fig.add_subplot(111)\n",
    "    cmap = plt.cm.jet\n",
    "    img = ax.imshow(im[0].squeeze(), cmap=cmap, vmin=0, vmax=u_mx)\n",
    "    #plt.show()\n",
    "    \n",
    "    # initialization function: plot the background of each frame\n",
    "    def init():\n",
    "        img = ax.imshow(im[0].squeeze(), cmap=cmap, vmin=0, vmax=u_mx)\n",
    "        plt.title('Time = 1')\n",
    "        plt.axis('off')\n",
    "        return (fig,)\n",
    "\n",
    "    # animation function. This is called sequentially\n",
    "    def animate(i):\n",
    "        print(i)\n",
    "        img = ax.imshow(im[i].squeeze(), cmap=cmap, vmin=0, vmax=u_mx)\n",
    "        plt.title('Time = {}'.format(i+1))\n",
    "        plt.axis('off')\n",
    "        return (fig,)\n",
    "\n",
    "\n",
    "    # call the animator. blit=True means only re-draw the parts that have changed.\n",
    "    anim = animation.FuncAnimation(fig, animate, init_func=init,\n",
    "                                   frames=len(im), interval=20, blit=True)\n",
    "    anim.save(outfile, fps=30, extra_args=['-vcodec', 'libx264'], dpi=300)"
   ]
  },
  {
   "cell_type": "code",
   "execution_count": 102,
   "metadata": {
    "ExecuteTime": {
     "end_time": "2021-01-25T19:47:01.408152Z",
     "start_time": "2021-01-25T19:47:01.229484Z"
    }
   },
   "outputs": [
    {
     "data": {
      "text/plain": [
       "torch.Size([1, 499, 1, 128, 384])"
      ]
     },
     "execution_count": 102,
     "metadata": {},
     "output_type": "execute_result"
    }
   ],
   "source": [
    "#simulation list is created below\n",
    "actual_img = [torch.rot90(convertSimToImage(s),1,dims=[2,3]) for row in [simulation] for s in row]\n",
    "\n",
    "mlp_img = pkl_load('08_MLP_surr.pkl')\n",
    "\n",
    "Xrgb = torch.cat([torch.stack(mlp_img),torch.stack(Real_U_img),torch.stack(Surr_U_img)], dim=4)\n",
    "Xrgb.shape"
   ]
  },
  {
   "cell_type": "code",
   "execution_count": 114,
   "metadata": {
    "ExecuteTime": {
     "end_time": "2021-01-26T02:03:08.954740Z",
     "start_time": "2021-01-26T01:00:35.910859Z"
    }
   },
   "outputs": [
    {
     "name": "stdout",
     "output_type": "stream",
     "text": [
      "0\n",
      "1\n",
      "2\n",
      "3\n",
      "4\n",
      "5\n",
      "6\n",
      "7\n",
      "8\n",
      "9\n",
      "10\n",
      "11\n",
      "12\n",
      "13\n",
      "14\n",
      "15\n",
      "16\n",
      "17\n",
      "18\n",
      "19\n",
      "20\n",
      "21\n",
      "22\n",
      "23\n",
      "24\n",
      "25\n",
      "26\n",
      "27\n",
      "28\n",
      "29\n",
      "30\n",
      "31\n",
      "32\n",
      "33\n",
      "34\n",
      "35\n",
      "36\n",
      "37\n",
      "38\n",
      "39\n",
      "40\n",
      "41\n",
      "42\n",
      "43\n",
      "44\n",
      "45\n",
      "46\n",
      "47\n",
      "48\n",
      "49\n",
      "50\n",
      "51\n",
      "52\n",
      "53\n",
      "54\n",
      "55\n",
      "56\n",
      "57\n",
      "58\n",
      "59\n",
      "60\n",
      "61\n",
      "62\n",
      "63\n",
      "64\n",
      "65\n",
      "66\n",
      "67\n",
      "68\n",
      "69\n",
      "70\n",
      "71\n",
      "72\n",
      "73\n",
      "74\n",
      "75\n",
      "76\n",
      "77\n",
      "78\n",
      "79\n",
      "80\n",
      "81\n",
      "82\n",
      "83\n",
      "84\n",
      "85\n",
      "86\n",
      "87\n",
      "88\n",
      "89\n",
      "90\n",
      "91\n",
      "92\n",
      "93\n",
      "94\n",
      "95\n",
      "96\n",
      "97\n",
      "98\n",
      "99\n",
      "100\n",
      "101\n",
      "102\n",
      "103\n",
      "104\n",
      "105\n",
      "106\n",
      "107\n",
      "108\n",
      "109\n",
      "110\n",
      "111\n",
      "112\n",
      "113\n",
      "114\n",
      "115\n",
      "116\n",
      "117\n",
      "118\n",
      "119\n",
      "120\n",
      "121\n",
      "122\n",
      "123\n",
      "124\n",
      "125\n",
      "126\n",
      "127\n",
      "128\n",
      "129\n",
      "130\n",
      "131\n",
      "132\n",
      "133\n",
      "134\n",
      "135\n",
      "136\n",
      "137\n",
      "138\n",
      "139\n",
      "140\n",
      "141\n",
      "142\n",
      "143\n",
      "144\n",
      "145\n",
      "146\n",
      "147\n",
      "148\n",
      "149\n",
      "150\n",
      "151\n",
      "152\n",
      "153\n",
      "154\n",
      "155\n",
      "156\n",
      "157\n",
      "158\n",
      "159\n",
      "160\n",
      "161\n",
      "162\n",
      "163\n",
      "164\n",
      "165\n",
      "166\n",
      "167\n",
      "168\n",
      "169\n",
      "170\n",
      "171\n",
      "172\n",
      "173\n",
      "174\n",
      "175\n",
      "176\n",
      "177\n",
      "178\n",
      "179\n",
      "180\n",
      "181\n",
      "182\n",
      "183\n",
      "184\n",
      "185\n",
      "186\n",
      "187\n",
      "188\n",
      "189\n",
      "190\n",
      "191\n",
      "192\n",
      "193\n",
      "194\n",
      "195\n",
      "196\n",
      "197\n",
      "198\n",
      "199\n",
      "200\n",
      "201\n",
      "202\n",
      "203\n",
      "204\n",
      "205\n",
      "206\n",
      "207\n",
      "208\n",
      "209\n",
      "210\n",
      "211\n",
      "212\n",
      "213\n",
      "214\n",
      "215\n",
      "216\n",
      "217\n",
      "218\n",
      "219\n",
      "220\n",
      "221\n",
      "222\n",
      "223\n",
      "224\n",
      "225\n",
      "226\n",
      "227\n",
      "228\n",
      "229\n",
      "230\n",
      "231\n",
      "232\n",
      "233\n",
      "234\n",
      "235\n",
      "236\n",
      "237\n",
      "238\n",
      "239\n",
      "240\n",
      "241\n",
      "242\n",
      "243\n",
      "244\n",
      "245\n",
      "246\n",
      "247\n",
      "248\n",
      "249\n",
      "250\n",
      "251\n",
      "252\n",
      "253\n",
      "254\n",
      "255\n",
      "256\n",
      "257\n",
      "258\n",
      "259\n",
      "260\n",
      "261\n",
      "262\n",
      "263\n",
      "264\n",
      "265\n",
      "266\n",
      "267\n",
      "268\n",
      "269\n",
      "270\n",
      "271\n",
      "272\n",
      "273\n",
      "274\n",
      "275\n",
      "276\n",
      "277\n",
      "278\n",
      "279\n",
      "280\n",
      "281\n",
      "282\n",
      "283\n",
      "284\n",
      "285\n",
      "286\n",
      "287\n",
      "288\n",
      "289\n",
      "290\n",
      "291\n",
      "292\n",
      "293\n",
      "294\n",
      "295\n",
      "296\n",
      "297\n",
      "298\n",
      "299\n",
      "300\n",
      "301\n",
      "302\n",
      "303\n",
      "304\n",
      "305\n",
      "306\n",
      "307\n",
      "308\n",
      "309\n",
      "310\n",
      "311\n",
      "312\n",
      "313\n",
      "314\n",
      "315\n",
      "316\n",
      "317\n",
      "318\n",
      "319\n",
      "320\n",
      "321\n",
      "322\n",
      "323\n",
      "324\n",
      "325\n",
      "326\n",
      "327\n",
      "328\n",
      "329\n",
      "330\n",
      "331\n",
      "332\n",
      "333\n",
      "334\n",
      "335\n",
      "336\n",
      "337\n",
      "338\n",
      "339\n",
      "340\n",
      "341\n",
      "342\n",
      "343\n",
      "344\n",
      "345\n",
      "346\n",
      "347\n",
      "348\n",
      "349\n",
      "350\n",
      "351\n",
      "352\n",
      "353\n",
      "354\n",
      "355\n",
      "356\n",
      "357\n",
      "358\n",
      "359\n",
      "360\n",
      "361\n",
      "362\n",
      "363\n",
      "364\n",
      "365\n",
      "366\n",
      "367\n",
      "368\n",
      "369\n",
      "370\n",
      "371\n",
      "372\n",
      "373\n",
      "374\n",
      "375\n",
      "376\n",
      "377\n",
      "378\n",
      "379\n",
      "380\n",
      "381\n",
      "382\n",
      "383\n",
      "384\n",
      "385\n",
      "386\n",
      "387\n",
      "388\n",
      "389\n",
      "390\n",
      "391\n",
      "392\n",
      "393\n",
      "394\n",
      "395\n",
      "396\n",
      "397\n",
      "398\n",
      "399\n",
      "400\n",
      "401\n",
      "402\n",
      "403\n",
      "404\n",
      "405\n",
      "406\n",
      "407\n",
      "408\n",
      "409\n",
      "410\n",
      "411\n",
      "412\n",
      "413\n",
      "414\n",
      "415\n",
      "416\n",
      "417\n",
      "418\n",
      "419\n",
      "420\n",
      "421\n",
      "422\n",
      "423\n",
      "424\n",
      "425\n",
      "426\n",
      "427\n",
      "428\n",
      "429\n",
      "430\n",
      "431\n",
      "432\n",
      "433\n",
      "434\n",
      "435\n",
      "436\n",
      "437\n",
      "438\n",
      "439\n",
      "440\n",
      "441\n",
      "442\n",
      "443\n",
      "444\n",
      "445\n",
      "446\n",
      "447\n",
      "448\n",
      "449\n",
      "450\n",
      "451\n",
      "452\n",
      "453\n",
      "454\n",
      "455\n",
      "456\n",
      "457\n",
      "458\n",
      "459\n",
      "460\n",
      "461\n",
      "462\n",
      "463\n",
      "464\n",
      "465\n",
      "466\n",
      "467\n",
      "468\n",
      "469\n",
      "470\n",
      "471\n",
      "472\n",
      "473\n",
      "474\n",
      "475\n",
      "476\n",
      "477\n",
      "478\n",
      "479\n",
      "480\n",
      "481\n",
      "482\n",
      "483\n",
      "484\n",
      "485\n",
      "486\n",
      "487\n",
      "488\n",
      "489\n",
      "490\n",
      "491\n",
      "492\n",
      "493\n",
      "494\n",
      "495\n",
      "496\n",
      "497\n",
      "498\n"
     ]
    },
    {
     "data": {
      "image/png": "[encoded data removed]",
      "text/plain": [
       "<Figure size 432x288 with 1 Axes>"
      ]
     },
     "metadata": {
      "needs_background": "light"
     },
     "output_type": "display_data"
    }
   ],
   "source": [
    "outGif = '{}.mp4'.format('08_1_sim_train_compare')\n",
    "create_1_channel_movie(Xrgb[0].detach().numpy(),outfile=outGif)"
   ]
  },
  {
   "cell_type": "code",
   "execution_count": 100,
   "metadata": {
    "ExecuteTime": {
     "end_time": "2021-01-25T05:37:39.425142Z",
     "start_time": "2021-01-25T05:37:38.794438Z"
    }
   },
   "outputs": [],
   "source": [
    "\n",
    "test_img = torch.cat([torch.stack(mlp_img),torch.stack(Real_U_img),torch.stack(Surr_U_img)], dim=4)\n",
    "test_img=test_img[0].transpose(1,3)\n",
    "test_img=test_img.transpose(1,2)\n",
    "test_img.shape\n",
    "import imageio\n",
    "imageio.mimwrite('test_vid.mp4', test_img , fps = 60)"
   ]
  },
  {
   "cell_type": "markdown",
   "metadata": {},
   "source": [
    "### Some error metrics:"
   ]
  },
  {
   "cell_type": "code",
   "execution_count": 61,
   "metadata": {
    "ExecuteTime": {
     "end_time": "2021-01-24T05:12:19.655893Z",
     "start_time": "2021-01-24T05:12:19.607683Z"
    }
   },
   "outputs": [],
   "source": [
    "first_simulation = CCSI_2D_one_of_each_getitem(trainSimFiles,doPreprocess=preprocess,\n",
    "                                           numToKeep=numSamplesToKeep,channel=channel,w=0,AE=False)"
   ]
  },
  {
   "cell_type": "code",
   "execution_count": 62,
   "metadata": {
    "ExecuteTime": {
     "end_time": "2021-01-24T05:12:20.003693Z",
     "start_time": "2021-01-24T05:12:19.841133Z"
    }
   },
   "outputs": [
    {
     "data": {
      "text/plain": [
       "torch.Size([1, 499, 1, 128, 128])"
      ]
     },
     "execution_count": 62,
     "metadata": {},
     "output_type": "execute_result"
    }
   ],
   "source": [
    "simulation = torch.stack([torch.tensor(frame[0]) for frame in first_simulation])[1:].unsqueeze(0)\n",
    "simulation.shape"
   ]
  },
  {
   "cell_type": "code",
   "execution_count": 85,
   "metadata": {
    "ExecuteTime": {
     "end_time": "2020-11-30T22:07:51.775727Z",
     "start_time": "2020-11-30T22:07:50.959632Z"
    }
   },
   "outputs": [
    {
     "data": {
      "image/png": "[encoded data removed]",
      "text/plain": [
       "<Figure size 432x288 with 1 Axes>"
      ]
     },
     "metadata": {
      "needs_background": "light"
     },
     "output_type": "display_data"
    },
    {
     "data": {
      "image/png": "[encoded data removed]",
      "text/plain": [
       "<Figure size 432x288 with 1 Axes>"
      ]
     },
     "metadata": {
      "needs_background": "light"
     },
     "output_type": "display_data"
    },
    {
     "name": "stdout",
     "output_type": "stream",
     "text": [
      "mean relative error was: 0.4220230281352997\n"
     ]
    }
   ],
   "source": [
    "sim = -1\n",
    "rel_error_by_sim_and_frame = []\n",
    "for batch_real, batch_surr in zip(simulation,Surr_U):\n",
    "    sim+=1\n",
    "    rel_error_by_sim_and_frame.append([])\n",
    "    for frame_real, frame_surr in zip(batch_real, batch_surr):\n",
    "        assert frame_real.size()==torch.Size((1,128,128))\n",
    "        rel_error_by_sim_and_frame[sim].append( torch.norm(frame_surr - frame_real)/torch.norm(frame_real))\n",
    "\n",
    "# note that this relative error uses the SVD reconstruction as the baseline\n",
    "plt.plot(np.vstack(rel_error_by_sim_and_frame).T)\n",
    "plt.legend([i for i in range(len(testSimFiles))])\n",
    "plt.show()\n",
    "plt.plot(np.vstack(rel_error_by_sim_and_frame)[:,:50].T)\n",
    "plt.legend([i for i in range(len(testSimFiles))])\n",
    "plt.show()\n",
    "print('mean relative error was: {}'.format(torch.tensor(rel_error_by_sim_and_frame).mean()))"
   ]
  },
  {
   "cell_type": "code",
   "execution_count": 86,
   "metadata": {
    "ExecuteTime": {
     "end_time": "2020-11-30T22:09:14.834404Z",
     "start_time": "2020-11-30T22:09:14.472505Z"
    }
   },
   "outputs": [
    {
     "data": {
      "image/png": "[encoded data removed]",
      "text/plain": [
       "<Figure size 432x288 with 1 Axes>"
      ]
     },
     "metadata": {
      "needs_background": "light"
     },
     "output_type": "display_data"
    },
    {
     "data": {
      "image/png": "[encoded data removed]",
      "text/plain": [
       "<Figure size 432x288 with 1 Axes>"
      ]
     },
     "metadata": {
      "needs_background": "light"
     },
     "output_type": "display_data"
    },
    {
     "name": "stdout",
     "output_type": "stream",
     "text": [
      "mean relative error was: 0.4010922908782959\n"
     ]
    }
   ],
   "source": [
    "sim = -1\n",
    "rel_error_by_sim_and_frame = []\n",
    "for batch_real, batch_surr in zip(simulation,Real_U):\n",
    "    sim+=1\n",
    "    rel_error_by_sim_and_frame.append([])\n",
    "    for frame_real, frame_surr in zip(batch_real, batch_surr):\n",
    "        assert frame_real.size()==torch.Size((1,128,128))\n",
    "        rel_error_by_sim_and_frame[sim].append( torch.norm(frame_surr - frame_real)/torch.norm(frame_real))\n",
    "\n",
    "# note that this relative error uses the SVD reconstruction as the baseline\n",
    "plt.plot(np.vstack(rel_error_by_sim_and_frame).T)\n",
    "plt.legend([i for i in range(len(testSimFiles))])\n",
    "plt.show()\n",
    "plt.plot(np.vstack(rel_error_by_sim_and_frame)[:,:50].T)\n",
    "plt.legend([i for i in range(len(testSimFiles))])\n",
    "plt.show()\n",
    "print('mean relative error was: {}'.format(torch.tensor(rel_error_by_sim_and_frame).mean()))"
   ]
  },
  {
   "cell_type": "code",
   "execution_count": 87,
   "metadata": {
    "ExecuteTime": {
     "end_time": "2020-11-30T23:03:40.810384Z",
     "start_time": "2020-11-30T23:03:40.383616Z"
    }
   },
   "outputs": [
    {
     "name": "stdout",
     "output_type": "stream",
     "text": [
      "0\n"
     ]
    },
    {
     "data": {
      "image/png": "[encoded data removed]",
      "text/plain": [
       "<Figure size 432x288 with 1 Axes>"
      ]
     },
     "metadata": {
      "needs_background": "light"
     },
     "output_type": "display_data"
    },
    {
     "data": {
      "image/png": "[encoded data removed]",
      "text/plain": [
       "<Figure size 432x288 with 1 Axes>"
      ]
     },
     "metadata": {
      "needs_background": "light"
     },
     "output_type": "display_data"
    },
    {
     "name": "stdout",
     "output_type": "stream",
     "text": [
      "mean relative error was: 0.13639995455741882\n"
     ]
    }
   ],
   "source": [
    "sim = -1\n",
    "rel_error_by_sim_and_frame = []\n",
    "for batch_real, batch_surr in zip(Real_U,Surr_U):\n",
    "    sim+=1\n",
    "    rel_error_by_sim_and_frame.append([])\n",
    "    for frame_real, frame_surr in zip(batch_real, batch_surr):\n",
    "        assert frame_real.size()==torch.Size((1,128,128))\n",
    "        rel_error_by_sim_and_frame[sim].append( torch.norm(frame_surr - frame_real)/torch.norm(frame_real))\n",
    "print(sim)\n",
    "\n",
    "# note that this relative error uses the SVD reconstruction as the baseline\n",
    "plt.plot(np.vstack(rel_error_by_sim_and_frame).T)\n",
    "plt.legend([i for i in range(len(testSimFiles))])\n",
    "plt.show()\n",
    "plt.plot(np.vstack(rel_error_by_sim_and_frame)[:,:50].T)\n",
    "plt.legend([i for i in range(len(testSimFiles))])\n",
    "plt.show()\n",
    "print('mean relative error was: {}'.format(torch.tensor(rel_error_by_sim_and_frame).mean()))"
   ]
  },
  {
   "cell_type": "code",
   "execution_count": null,
   "metadata": {},
   "outputs": [],
   "source": []
  }
 ],
 "metadata": {
  "kernelspec": {
   "display_name": "Python 3",
   "language": "python",
   "name": "python3"
  },
  "language_info": {
   "codemirror_mode": {
    "name": "ipython",
    "version": 3
   },
   "file_extension": ".py",
   "mimetype": "text/x-python",
   "name": "python",
   "nbconvert_exporter": "python",
   "pygments_lexer": "ipython3",
   "version": "3.8.3"
  }
 },
 "nbformat": 4,
 "nbformat_minor": 2
}
