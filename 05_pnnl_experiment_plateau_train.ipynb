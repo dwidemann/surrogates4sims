{
 "cells": [
  {
   "cell_type": "markdown",
   "metadata": {},
   "source": [
    "## This code trains an encoder/decoder for 1 channel of the pnnl datasets.\n",
    "\n",
    "Make sure the channel is set:\n",
    "\n",
    "channel = 1,2 = velocity_y, volume_frac\n"
   ]
  },
  {
   "cell_type": "markdown",
   "metadata": {},
   "source": [
    "## Imports"
   ]
  },
  {
   "cell_type": "code",
   "execution_count": 1,
   "metadata": {
    "ExecuteTime": {
     "end_time": "2020-11-06T20:08:52.254842Z",
     "start_time": "2020-11-06T20:08:49.583799Z"
    }
   },
   "outputs": [],
   "source": [
    "# EXPORT\n",
    "# --- Must haves ---\n",
    "import os, sys\n",
    "sys.path.append('..')\n",
    "\n",
    "import torch\n",
    "from torch.utils.data import Dataset, DataLoader\n",
    "from torch.utils.tensorboard import SummaryWriter\n",
    "import torch.cuda as cuda\n",
    "import torch.nn as nn\n",
    "import torchvision\n",
    "import torch.nn.functional as F\n",
    "\n",
    "from surrogates4sims.pnnlDatasets import CCSI_2D\n",
    "\n",
    "from surrogates4sims.utils import create_opt, create_one_cycle, find_lr, printNumModelParams, \\\n",
    "                                    rmse, writeMessage, plotSampleWprediction, plotSampleWpredictionByChannel, \\\n",
    "                                    plotSample, curl, jacobian, stream2uv, convertSimToImage, pkl_save, pkl_load, \\\n",
    "                                    create_1_channel_movie\n",
    "\n",
    "from surrogates4sims.models import Generator, Encoder, AE_no_P, AE_xhat_z, AE_xhat_zV2\n",
    "\n",
    "from surrogates4sims.train import trainEpoch, validEpoch\n",
    "\n",
    "import numpy as np\n",
    "from tqdm import tqdm\n",
    "from copy import deepcopy\n",
    "import matplotlib.pyplot as plt\n",
    "from glob import glob"
   ]
  },
  {
   "cell_type": "markdown",
   "metadata": {},
   "source": [
    "## Settings"
   ]
  },
  {
   "cell_type": "code",
   "execution_count": 2,
   "metadata": {
    "ExecuteTime": {
     "end_time": "2020-11-06T20:08:52.272716Z",
     "start_time": "2020-11-06T20:08:52.257613Z"
    }
   },
   "outputs": [
    {
     "data": {
      "text/plain": [
       "'pnnl_plateau_train_GPUs0_channel1_gridsize128_latentDim256_filters128_bz16_numConv4_jacobianFalse_norm_layerIdentity_epochs1000_stackTrue'"
      ]
     },
     "execution_count": 2,
     "metadata": {},
     "output_type": "execute_result"
    }
   ],
   "source": [
    "DEBUG = False\n",
    "# model name, for tensorboard recording and checkpointing purposes.\n",
    "versionName = \"pnnl_plateau_train\"\n",
    "\n",
    "# GPU Numbers to use. Comma seprate them for multi-GPUs.\n",
    "gpu_ids = \"0\"\n",
    "versionName = versionName + '_GPUs{}'.format(gpu_ids.replace(',',''))\n",
    "# path to load model weights.\n",
    "pretrained_path = None\n",
    "\n",
    "# rate at which to record metrics. (number of batches to average over when recording metrics, e.g. \"every 5 batches\")\n",
    "tensorboard_rate = 5\n",
    "\n",
    "# number of epochs to train. This is defined here so we can use the OneCycle LR Scheduler.\n",
    "epochs = 1000\n",
    "\n",
    "# Data Directory\n",
    "channel = 1\n",
    "gridsize = 128\n",
    "dataDirec = '/data/ccsi/pnnl_liquid_inlet/channel_{}/gridsize_{}'.format(channel,gridsize)\n",
    "preprocess = False # keep this as false until using the long runtime loader\n",
    "testSplit = .2\n",
    "AE = False\n",
    "numWorkers = 2\n",
    "\n",
    "# checkpoint directory\n",
    "cps = 'cps'\n",
    "tensorboard_direc = \"tb\"\n",
    "\n",
    "findLRs = False  \n",
    "\n",
    "# hyper-params\n",
    "seed = 1234\n",
    "np.random.seed(seed)\n",
    "bz = 16\n",
    "window_size = 0 #important to set this to zero to prevent creation of window_size elements of Y for each X\n",
    "numSamplesToKeep = np.infty #if not debugging\n",
    "latentDim = 256\n",
    "filters = 128\n",
    "num_conv = 4 # breaks when less than 2\n",
    "simLen = 500\n",
    "stack = True\n",
    "doJacobian = False\n",
    "createStreamFcn = False\n",
    "repeat = 0\n",
    "skip_connection = False\n",
    "norm_layer = [nn.Identity, nn.BatchNorm2d, 'etc.'][0] # pick a norm layer to use for the autoencoder\n",
    "patience = 2\n",
    "if DEBUG:\n",
    "    epochs = 2\n",
    "    numSamplesToKeep = 2\n",
    "    \n",
    "versionName = versionName + '_channel{}_gridsize{}_latentDim{}_filters{}_bz{}_numConv{}_jacobian{}_norm_layer{}_epochs{}_stack{}'.format(channel,gridsize,latentDim,filters,bz,num_conv,doJacobian,repr(norm_layer).split('.')[-1][:-2],epochs,stack)\n",
    "versionName"
   ]
  },
  {
   "cell_type": "markdown",
   "metadata": {},
   "source": [
    "### Select Personal GPUs"
   ]
  },
  {
   "cell_type": "code",
   "execution_count": 3,
   "metadata": {
    "ExecuteTime": {
     "end_time": "2020-11-06T20:08:52.472330Z",
     "start_time": "2020-11-06T20:08:52.274654Z"
    }
   },
   "outputs": [
    {
     "name": "stdout",
     "output_type": "stream",
     "text": [
      "Fri Nov  6 12:08:52 2020       \n",
      "+-----------------------------------------------------------------------------+\n",
      "| NVIDIA-SMI 440.33.01    Driver Version: 440.33.01    CUDA Version: 10.2     |\n",
      "|-------------------------------+----------------------+----------------------+\n",
      "| GPU  Name        Persistence-M| Bus-Id        Disp.A | Volatile Uncorr. ECC |\n",
      "| Fan  Temp  Perf  Pwr:Usage/Cap|         Memory-Usage | GPU-Util  Compute M. |\n",
      "|===============================+======================+======================|\n",
      "|   0  TITAN Xp            On   | 00000000:02:00.0 Off |                  N/A |\n",
      "| 23%   35C    P0    78W / 250W |      1MiB / 12196MiB |      0%      Default |\n",
      "+-------------------------------+----------------------+----------------------+\n",
      "|   1  TITAN Xp            On   | 00000000:03:00.0 Off |                  N/A |\n",
      "| 23%   19C    P8     9W / 250W |    573MiB / 12196MiB |      0%      Default |\n",
      "+-------------------------------+----------------------+----------------------+\n",
      "|   2  TITAN Xp            On   | 00000000:81:00.0 Off |                  N/A |\n",
      "| 23%   20C    P8    10W / 250W |      1MiB / 12196MiB |      0%      Default |\n",
      "+-------------------------------+----------------------+----------------------+\n",
      "|   3  TITAN Xp            On   | 00000000:82:00.0 Off |                  N/A |\n",
      "| 23%   20C    P8     9W / 250W |      1MiB / 12196MiB |      0%      Default |\n",
      "+-------------------------------+----------------------+----------------------+\n",
      "                                                                               \n",
      "+-----------------------------------------------------------------------------+\n",
      "| Processes:                                                       GPU Memory |\n",
      "|  GPU       PID   Type   Process name                             Usage      |\n",
      "|=============================================================================|\n",
      "|    1     15508      C   /home/bartoldson1/anaconda3/bin/python       561MiB |\n",
      "+-----------------------------------------------------------------------------+\n"
     ]
    }
   ],
   "source": [
    "!nvidia-smi"
   ]
  },
  {
   "cell_type": "code",
   "execution_count": 4,
   "metadata": {
    "ExecuteTime": {
     "end_time": "2020-11-06T20:08:52.480598Z",
     "start_time": "2020-11-06T20:08:52.475768Z"
    }
   },
   "outputs": [],
   "source": [
    "os.environ[\"CUDA_DEVICE_ORDER\"]=\"PCI_BUS_ID\"   # see issue #152\n",
    "os.environ[\"CUDA_VISIBLE_DEVICES\"]=gpu_ids"
   ]
  },
  {
   "cell_type": "code",
   "execution_count": 5,
   "metadata": {
    "ExecuteTime": {
     "end_time": "2020-11-06T20:08:52.562430Z",
     "start_time": "2020-11-06T20:08:52.483367Z"
    }
   },
   "outputs": [
    {
     "name": "stdout",
     "output_type": "stream",
     "text": [
      "Using device: cuda\n"
     ]
    }
   ],
   "source": [
    "device = torch.device('cuda' if torch.cuda.is_available() else 'cpu')\n",
    "print('Using device:', device)"
   ]
  },
  {
   "cell_type": "code",
   "execution_count": 6,
   "metadata": {
    "ExecuteTime": {
     "end_time": "2020-11-06T20:08:52.576271Z",
     "start_time": "2020-11-06T20:08:52.567651Z"
    }
   },
   "outputs": [
    {
     "name": "stdout",
     "output_type": "stream",
     "text": [
      "True\n",
      "1\n",
      "0\n",
      "TITAN Xp\n"
     ]
    }
   ],
   "source": [
    "if device.type == 'cuda':\n",
    "    print(cuda.is_available())\n",
    "    print(cuda.device_count())\n",
    "    print(cuda.current_device())\n",
    "    print(cuda.get_device_name())"
   ]
  },
  {
   "cell_type": "code",
   "execution_count": 7,
   "metadata": {
    "ExecuteTime": {
     "end_time": "2020-11-06T20:08:54.494693Z",
     "start_time": "2020-11-06T20:08:52.579988Z"
    }
   },
   "outputs": [
    {
     "name": "stdout",
     "output_type": "stream",
     "text": [
      "Fri Nov  6 12:08:54 2020       \n",
      "+-----------------------------------------------------------------------------+\n",
      "| NVIDIA-SMI 440.33.01    Driver Version: 440.33.01    CUDA Version: 10.2     |\n",
      "|-------------------------------+----------------------+----------------------+\n",
      "| GPU  Name        Persistence-M| Bus-Id        Disp.A | Volatile Uncorr. ECC |\n",
      "| Fan  Temp  Perf  Pwr:Usage/Cap|         Memory-Usage | GPU-Util  Compute M. |\n",
      "|===============================+======================+======================|\n",
      "|   0  TITAN Xp            On   | 00000000:02:00.0 Off |                  N/A |\n",
      "| 23%   36C    P2    78W / 250W |    573MiB / 12196MiB |      3%      Default |\n",
      "+-------------------------------+----------------------+----------------------+\n",
      "|   1  TITAN Xp            On   | 00000000:03:00.0 Off |                  N/A |\n",
      "| 23%   19C    P8     8W / 250W |    573MiB / 12196MiB |      0%      Default |\n",
      "+-------------------------------+----------------------+----------------------+\n",
      "|   2  TITAN Xp            On   | 00000000:81:00.0 Off |                  N/A |\n",
      "| 23%   20C    P8     8W / 250W |      1MiB / 12196MiB |      0%      Default |\n",
      "+-------------------------------+----------------------+----------------------+\n",
      "|   3  TITAN Xp            On   | 00000000:82:00.0 Off |                  N/A |\n",
      "| 23%   20C    P8     9W / 250W |      1MiB / 12196MiB |      0%      Default |\n",
      "+-------------------------------+----------------------+----------------------+\n",
      "                                                                               \n",
      "+-----------------------------------------------------------------------------+\n",
      "| Processes:                                                       GPU Memory |\n",
      "|  GPU       PID   Type   Process name                             Usage      |\n",
      "|=============================================================================|\n",
      "|    0     21682      C   /home/bartoldson1/anaconda3/bin/python       561MiB |\n",
      "|    1     15508      C   /home/bartoldson1/anaconda3/bin/python       561MiB |\n",
      "+-----------------------------------------------------------------------------+\n"
     ]
    }
   ],
   "source": [
    "a = torch.zeros(5, device=device.type)\n",
    "!nvidia-smi"
   ]
  },
  {
   "cell_type": "markdown",
   "metadata": {},
   "source": [
    "## Datasets & Loaders"
   ]
  },
  {
   "cell_type": "code",
   "execution_count": 8,
   "metadata": {
    "ExecuteTime": {
     "end_time": "2020-11-06T20:08:54.523842Z",
     "start_time": "2020-11-06T20:08:54.498038Z"
    }
   },
   "outputs": [
    {
     "data": {
      "text/plain": [
       "(10, 40)"
      ]
     },
     "execution_count": 8,
     "metadata": {},
     "output_type": "execute_result"
    }
   ],
   "source": [
    "sims = glob(os.path.join(dataDirec,'*.pkl'))\n",
    "numSims = len(sims)\n",
    "idx = int(testSplit*numSims)\n",
    "testInds = np.linspace(1,numSims-2,idx).astype('int')\n",
    "trainInds = list(set(np.arange(0,numSims)).difference(set(testInds)))\n",
    "# perm = np.random.permutation(numSims)\n",
    "# testInds = perm[:idx]\n",
    "# trainInds = perm[idx:]\n",
    "testSimFiles = [sims[idx] for idx in testInds]\n",
    "trainSimFiles = [sims[idx] for idx in trainInds]\n",
    "len(testSimFiles), len(trainSimFiles)"
   ]
  },
  {
   "cell_type": "code",
   "execution_count": 9,
   "metadata": {
    "ExecuteTime": {
     "end_time": "2020-11-06T20:08:55.507798Z",
     "start_time": "2020-11-06T20:08:54.526360Z"
    }
   },
   "outputs": [],
   "source": [
    "testDataset = CCSI_2D(testSimFiles,doPreprocess=preprocess,numToKeep=numSamplesToKeep,channel=channel,AE=AE,\n",
    "                      w=window_size)\n",
    "trainDataset = CCSI_2D(trainSimFiles,doPreprocess=preprocess,numToKeep=numSamplesToKeep,channel=channel,AE=AE,\n",
    "                      w=window_size)"
   ]
  },
  {
   "cell_type": "code",
   "execution_count": 10,
   "metadata": {
    "ExecuteTime": {
     "end_time": "2020-11-06T20:08:55.515186Z",
     "start_time": "2020-11-06T20:08:55.509891Z"
    }
   },
   "outputs": [
    {
     "data": {
      "text/plain": [
       "(1250, 313)"
      ]
     },
     "execution_count": 10,
     "metadata": {},
     "output_type": "execute_result"
    }
   ],
   "source": [
    "trainDataLoader = DataLoader(dataset=trainDataset, batch_size=bz, shuffle=True, drop_last=True, num_workers=numWorkers)\n",
    "testDataLoader = DataLoader(dataset=testDataset, batch_size=bz, num_workers=numWorkers)\n",
    "len(trainDataLoader), len(testDataLoader)"
   ]
  },
  {
   "cell_type": "markdown",
   "metadata": {},
   "source": [
    "## Model"
   ]
  },
  {
   "cell_type": "markdown",
   "metadata": {},
   "source": [
    "Currently, the models need to take data to be built. It's kinda weird. I may look into fix this later. "
   ]
  },
  {
   "cell_type": "code",
   "execution_count": 11,
   "metadata": {
    "ExecuteTime": {
     "end_time": "2020-11-06T20:08:55.657335Z",
     "start_time": "2020-11-06T20:08:55.516768Z"
    }
   },
   "outputs": [
    {
     "data": {
      "text/plain": [
       "(torch.Size([16, 1, 128, 128]),\n",
       " torch.Size([16, 0, 1, 128, 128]),\n",
       " torch.Size([16, 2]),\n",
       " torch.Size([16, 0, 2]))"
      ]
     },
     "execution_count": 11,
     "metadata": {},
     "output_type": "execute_result"
    }
   ],
   "source": [
    "X, Y, p_x, p_y = next(iter(trainDataLoader))\n",
    "X, Y, p_x, p_y = X.to(device), Y.to(device), p_x.to(device), p_y.to(device)\n",
    "X.shape, Y.shape, p_x.shape, p_y.shape"
   ]
  },
  {
   "cell_type": "code",
   "execution_count": 12,
   "metadata": {
    "ExecuteTime": {
     "end_time": "2020-11-06T20:08:56.003976Z",
     "start_time": "2020-11-06T20:08:55.659766Z"
    }
   },
   "outputs": [
    {
     "name": "stdout",
     "output_type": "stream",
     "text": [
      "[128, 8, 8]\n"
     ]
    },
    {
     "name": "stderr",
     "output_type": "stream",
     "text": [
      "/home/bartoldson1/anaconda3/lib/python3.8/site-packages/torch/nn/functional.py:3000: UserWarning: The default behavior for interpolate/upsample with float scale_factor changed in 1.6.0 to align with other frameworks/libraries, and uses scale_factor directly, instead of relying on the computed output size. If you wish to keep the old behavior, please set recompute_scale_factor=True. See the documentation of nn.Upsample for details. \n",
      "  warnings.warn(\"The default behavior for interpolate/upsample with float scale_factor changed \"\n"
     ]
    }
   ],
   "source": [
    "model = AE_xhat_zV2(X, filters, latentDim, num_conv, repeat, \n",
    "                 skip_connection, stack, conv_k=3, last_k=3, \n",
    "                 act=nn.LeakyReLU(), return_z=True, stream=createStreamFcn, device=device, norm=norm_layer)\n",
    "\n",
    "if len(gpu_ids.split(',')) > 1:\n",
    "    model = nn.DataParallel(model)"
   ]
  },
  {
   "cell_type": "code",
   "execution_count": 13,
   "metadata": {
    "ExecuteTime": {
     "end_time": "2020-11-06T20:08:56.009556Z",
     "start_time": "2020-11-06T20:08:56.005672Z"
    }
   },
   "outputs": [
    {
     "name": "stdout",
     "output_type": "stream",
     "text": [
      "90 layers require gradients (unfrozen) out of 90 layers\n",
      "13,668,609 parameters require gradients (unfrozen) out of 13,668,609 parameters\n"
     ]
    }
   ],
   "source": [
    "printNumModelParams(model)"
   ]
  },
  {
   "cell_type": "code",
   "execution_count": 14,
   "metadata": {
    "ExecuteTime": {
     "end_time": "2020-11-06T20:08:56.032123Z",
     "start_time": "2020-11-06T20:08:56.011111Z"
    }
   },
   "outputs": [
    {
     "data": {
      "text/plain": [
       "(torch.Size([16, 1, 128, 128]), torch.Size([16, 256]))"
      ]
     },
     "execution_count": 14,
     "metadata": {},
     "output_type": "execute_result"
    }
   ],
   "source": [
    "Xhat,z = model(X, p_x)\n",
    "Xhat.shape, z.shape"
   ]
  },
  {
   "cell_type": "code",
   "execution_count": 15,
   "metadata": {
    "ExecuteTime": {
     "end_time": "2020-11-06T20:08:56.093169Z",
     "start_time": "2020-11-06T20:08:56.033434Z"
    }
   },
   "outputs": [
    {
     "data": {
      "text/plain": [
       "True"
      ]
     },
     "execution_count": 15,
     "metadata": {},
     "output_type": "execute_result"
    }
   ],
   "source": [
    "np.allclose(z[:,-2:].detach().cpu(),p_x.cpu())"
   ]
  },
  {
   "cell_type": "markdown",
   "metadata": {},
   "source": [
    "## Loss Function"
   ]
  },
  {
   "cell_type": "code",
   "execution_count": 16,
   "metadata": {
    "ExecuteTime": {
     "end_time": "2020-11-06T20:08:56.100597Z",
     "start_time": "2020-11-06T20:08:56.094893Z"
    }
   },
   "outputs": [],
   "source": [
    "def L2_relative_loss(pred, target):\n",
    "    return torch.norm(pred - target)/torch.norm(target)\n",
    "\n",
    "\n",
    "def L1_loss(pred, target):\n",
    "    return torch.mean(torch.abs(pred - target))\n",
    "\n",
    "\n",
    "def jacobian_loss(pred, target, device='cpu'):\n",
    "    return L1_loss(jacobian(pred, device), jacobian(target, device))\n",
    "\n",
    "\n",
    "def curl_loss(pred, target, device):\n",
    "    return L1_loss(curl(pred, device), curl(target, device))\n",
    "\n",
    "\n",
    "L = nn.MSELoss()\n",
    "\n",
    "\n",
    "def p_loss(pred, target):\n",
    "    return L(pred[:, -target.shape[1]:], target)\n",
    "\n",
    "\n",
    "def loss(pred, target, device):\n",
    "    \n",
    "    if createStreamFcn:\n",
    "        pred = stream2uv(pred, device)\n",
    "        \n",
    "    L = L2_relative_loss(pred, target)\n",
    "    Lj = 0\n",
    "    if doJacobian:\n",
    "        Lj = jacobian_loss(pred, target, device)\n",
    "        \n",
    "    return L + Lj"
   ]
  },
  {
   "cell_type": "code",
   "execution_count": 17,
   "metadata": {
    "ExecuteTime": {
     "end_time": "2020-11-06T20:08:56.109278Z",
     "start_time": "2020-11-06T20:08:56.102211Z"
    }
   },
   "outputs": [
    {
     "data": {
      "text/plain": [
       "torch.Size([16, 2, 128, 128])"
      ]
     },
     "execution_count": 17,
     "metadata": {},
     "output_type": "execute_result"
    }
   ],
   "source": [
    "pred = stream2uv(Xhat,device)\n",
    "pred.shape"
   ]
  },
  {
   "cell_type": "code",
   "execution_count": 18,
   "metadata": {
    "ExecuteTime": {
     "end_time": "2020-11-06T20:08:56.116583Z",
     "start_time": "2020-11-06T20:08:56.110749Z"
    }
   },
   "outputs": [
    {
     "data": {
      "text/plain": [
       "tensor(1.4147, device='cuda:0', grad_fn=<AddBackward0>)"
      ]
     },
     "execution_count": 18,
     "metadata": {},
     "output_type": "execute_result"
    }
   ],
   "source": [
    "loss(pred,X,device)"
   ]
  },
  {
   "cell_type": "markdown",
   "metadata": {},
   "source": [
    "## Set LR"
   ]
  },
  {
   "cell_type": "code",
   "execution_count": 19,
   "metadata": {
    "ExecuteTime": {
     "end_time": "2020-11-06T20:08:56.120874Z",
     "start_time": "2020-11-06T20:08:56.117948Z"
    }
   },
   "outputs": [],
   "source": [
    "# doesn't work with new forward, needs p_x\n",
    "if findLRs and (len(gpu_ids.split(','))==1): # doesn't work for multigpu???  \n",
    "    model.return_z = False\n",
    "    opt = create_opt(1e-7,model)\n",
    "    find_lr(model,opt,L,device,trainDataLoader)\n",
    "    model.return_z = True"
   ]
  },
  {
   "cell_type": "code",
   "execution_count": 20,
   "metadata": {
    "ExecuteTime": {
     "end_time": "2020-11-06T20:08:56.126172Z",
     "start_time": "2020-11-06T20:08:56.122345Z"
    }
   },
   "outputs": [],
   "source": [
    "max_lr = .0001\n",
    "start_lr = 5*max_lr/10\n",
    "#opt = create_opt(max_lr,model)\n",
    "#lr_scheduler = create_one_cycle(opt,max_lr,epochs,trainDataLoader)\n",
    "opt = torch.optim.Adam(model.parameters(),lr=max_lr,betas=(.5,.999))\n",
    "lr_scheduler = torch.optim.lr_scheduler.ReduceLROnPlateau(opt,patience=patience)"
   ]
  },
  {
   "cell_type": "code",
   "execution_count": 21,
   "metadata": {
    "ExecuteTime": {
     "end_time": "2020-11-06T20:08:56.131764Z",
     "start_time": "2020-11-06T20:08:56.127816Z"
    }
   },
   "outputs": [],
   "source": [
    "versionName = versionName + '_lr{}'.format(str(max_lr))"
   ]
  },
  {
   "cell_type": "markdown",
   "metadata": {},
   "source": [
    "## Train"
   ]
  },
  {
   "cell_type": "code",
   "execution_count": 22,
   "metadata": {
    "ExecuteTime": {
     "end_time": "2020-11-06T20:08:56.140918Z",
     "start_time": "2020-11-06T20:08:56.133419Z"
    }
   },
   "outputs": [],
   "source": [
    "def trainEpoch(myDataLoader, tensorboard_writer, model, opt, p_loss, loss,\n",
    "               metric, lr_scheduler, tensorboard_rate, device,\n",
    "               tensorboard_recorder_step, total_steps):\n",
    "    running_loss = 0.0\n",
    "    running_rmse = 0.0\n",
    "    total_loss = 0.0\n",
    "    running_ploss = 0.0\n",
    "    for i, sampleBatch in enumerate(myDataLoader, start=1):\n",
    "\n",
    "        # --- Main Training ---\n",
    "        \n",
    "        # gpu\n",
    "        X, Y, p_x, p_y = sampleBatch\n",
    "        X = X.to(device)\n",
    "        p_x = p_x.to(device)\n",
    "\n",
    "        # zero the parameter gradients\n",
    "        opt.zero_grad()\n",
    "\n",
    "        X_hat, z = model(X, p_x)\n",
    "        #pl = p_loss(z,p)\n",
    "        ll = loss(X_hat,X,device)\n",
    "        combined_loss = ll #pl + ll\n",
    "        combined_loss.backward()\n",
    "        opt.step()\n",
    "        \n",
    "        # loss\n",
    "        batch_loss = combined_loss.item()\n",
    "        running_loss += batch_loss\n",
    "        total_loss += batch_loss\n",
    "        \n",
    "        #batch_ploss = pl.item()\n",
    "        #running_ploss += batch_ploss\n",
    "\n",
    "        # --- Metrics Recording ---\n",
    "\n",
    "        # metrics\n",
    "        r = metric(X_hat, X)\n",
    "        running_rmse += r\n",
    "\n",
    "        # record lr change\n",
    "        total_steps += 1\n",
    "        tensorboard_writer.add_scalar(tag=\"LR\", scalar_value=opt.param_groups[0]['lr'], global_step=total_steps)\n",
    "        #lr_scheduler.step()\n",
    "\n",
    "        # tensorboard writes\n",
    "        if (i % tensorboard_rate == 0):\n",
    "            tensorboard_recorder_step += 1\n",
    "            avg_running_loss = running_loss/tensorboard_rate\n",
    "            avg_running_rmse = running_rmse/tensorboard_rate\n",
    "            #avg_running_ploss = running_ploss/tensorboard_rate\n",
    "            tensorboard_writer.add_scalar(tag=\"Loss\", scalar_value=avg_running_loss, global_step=tensorboard_recorder_step)\n",
    "            #tensorboard_writer.add_scalar(tag=\"p_loss\", scalar_value=avg_running_ploss, global_step=tensorboard_recorder_step)\n",
    "            tensorboard_writer.add_scalar(tag=metric.__name__, scalar_value=avg_running_rmse, global_step=tensorboard_recorder_step)\n",
    "            # reset running_loss for the next set of batches. (tensorboard_rate number of batches)\n",
    "            running_loss = 0.0\n",
    "            running_rmse = 0.0\n",
    "            #running_ploss = 0.0\n",
    "\n",
    "    return total_loss/len(myDataLoader), tensorboard_recorder_step, total_steps"
   ]
  },
  {
   "cell_type": "code",
   "execution_count": 23,
   "metadata": {
    "ExecuteTime": {
     "end_time": "2020-11-06T20:08:56.150098Z",
     "start_time": "2020-11-06T20:08:56.142473Z"
    }
   },
   "outputs": [],
   "source": [
    "# EXPORT\n",
    "def validEpoch(myDataLoader, tensorboard_writer, model, p_loss, loss, metric,\n",
    "               device, tensorboard_recorder_step):\n",
    "    running_loss = 0.0\n",
    "    running_rmse = 0.0\n",
    "    for i, sampleBatch in enumerate(myDataLoader, start=1):\n",
    "\n",
    "        # --- Metrics Recording ---\n",
    "\n",
    "        # gpu\n",
    "        X, Y, p_x, p_y = sampleBatch\n",
    "        X = X.to(device)\n",
    "        p_x = p_x.to(device)\n",
    "        \n",
    "        perc = len(X)/len(myDataLoader.dataset)\n",
    "\n",
    "        # forward, no gradient calculations\n",
    "        with torch.no_grad():\n",
    "            X_hat, z = model(X, p_x)\n",
    "\n",
    "        # loss\n",
    "        #combined_loss = p_loss(z,p) + loss(X_hat,X,device)\n",
    "        combined_loss = loss(X_hat,X,device)\n",
    "        \n",
    "        running_loss += perc*(combined_loss.item())\n",
    "\n",
    "        # metrics\n",
    "        r = metric(X_hat, X)\n",
    "        running_rmse += perc*r\n",
    "\n",
    "    avg_running_loss = running_loss\n",
    "    avg_running_rmse = running_rmse\n",
    "    tensorboard_writer.add_scalar(tag=\"Loss\", scalar_value=avg_running_loss, global_step=tensorboard_recorder_step)\n",
    "    tensorboard_writer.add_scalar(tag=metric.__name__, scalar_value=avg_running_rmse, global_step=tensorboard_recorder_step)\n",
    "\n",
    "    return running_loss"
   ]
  },
  {
   "cell_type": "code",
   "execution_count": 24,
   "metadata": {
    "ExecuteTime": {
     "end_time": "2020-11-06T20:08:56.155689Z",
     "start_time": "2020-11-06T20:08:56.151795Z"
    }
   },
   "outputs": [
    {
     "name": "stdout",
     "output_type": "stream",
     "text": [
      "checkpoints directory already exists :)\n"
     ]
    }
   ],
   "source": [
    "try:\n",
    "    os.mkdir(cps)\n",
    "except:\n",
    "    print(\"checkpoints directory already exists :)\")"
   ]
  },
  {
   "cell_type": "code",
   "execution_count": 25,
   "metadata": {
    "ExecuteTime": {
     "end_time": "2020-11-06T20:08:57.920524Z",
     "start_time": "2020-11-06T20:08:56.157177Z"
    }
   },
   "outputs": [],
   "source": [
    "# create a summary writer.\n",
    "train_writer = SummaryWriter(os.path.join(tensorboard_direc, versionName,'train'))\n",
    "test_writer = SummaryWriter(os.path.join(tensorboard_direc, versionName,'valid'))\n",
    "tensorboard_recorder_step = 0\n",
    "total_steps = 0"
   ]
  },
  {
   "cell_type": "code",
   "execution_count": null,
   "metadata": {
    "ExecuteTime": {
     "start_time": "2020-11-06T20:08:53.870Z"
    }
   },
   "outputs": [
    {
     "name": "stderr",
     "output_type": "stream",
     "text": [
      "\r",
      "  0%|          | 0/1000 [00:00<?, ?it/s]"
     ]
    },
    {
     "name": "stdout",
     "output_type": "stream",
     "text": [
      "---------- Started Training ----------\n",
      "--- Epoch 1/1000 ---\n"
     ]
    },
    {
     "name": "stderr",
     "output_type": "stream",
     "text": [
      "/home/bartoldson1/anaconda3/lib/python3.8/site-packages/torch/nn/functional.py:3000: UserWarning: The default behavior for interpolate/upsample with float scale_factor changed in 1.6.0 to align with other frameworks/libraries, and uses scale_factor directly, instead of relying on the computed output size. If you wish to keep the old behavior, please set recompute_scale_factor=True. See the documentation of nn.Upsample for details. \n",
      "  warnings.warn(\"The default behavior for interpolate/upsample with float scale_factor changed \"\n"
     ]
    },
    {
     "name": "stdout",
     "output_type": "stream",
     "text": [
      "trainLoss: 6.6047e-01\n",
      "LR: 1.0000e-04\n",
      "valLoss: 5.9070e-01\n",
      "Better valLoss: 5.9070e-01, Saving models...\n"
     ]
    },
    {
     "name": "stderr",
     "output_type": "stream",
     "text": [
      "\r",
      "  0%|          | 1/1000 [05:05<84:52:10, 305.84s/it]"
     ]
    },
    {
     "name": "stdout",
     "output_type": "stream",
     "text": [
      "--- Epoch 2/1000 ---\n"
     ]
    }
   ],
   "source": [
    "writeMessage('---------- Started Training ----------', versionName)\n",
    "bestLoss = np.infty\n",
    "\n",
    "for epoch in tqdm(range(1, epochs+1)):  # loop over the dataset multiple times\n",
    "    \n",
    "    writeMessage(\"--- Epoch {0}/{1} ---\".format(epoch, epochs), versionName)\n",
    "    \n",
    "    model.train()\n",
    "    trainLoss, tensorboard_recorder_step, total_steps = trainEpoch(trainDataLoader, \n",
    "                                                                   train_writer, model, opt, p_loss, loss,\n",
    "                                                                   rmse, lr_scheduler, \n",
    "                                                                   tensorboard_rate, device,\n",
    "                                                                   tensorboard_recorder_step, total_steps)\n",
    "    \n",
    "    writeMessage(\"trainLoss: {:.4e}\".format(trainLoss),versionName)\n",
    "    writeMessage(\"LR: {:.4e}\".format(opt.param_groups[0]['lr']),versionName)\n",
    "#     if trainLoss < bestLoss:\n",
    "#         bestLoss = trainLoss\n",
    "#         writeMessage(\"Better trainLoss: {:.4e}, Saving models...\".format(bestLoss),versionName)\n",
    "#         torch.save(model.state_dict(), os.path.join(cps,versionName))\n",
    "        \n",
    "    model.eval()\n",
    "    valLoss = validEpoch(testDataLoader, test_writer, model, p_loss, loss, rmse, device, tensorboard_recorder_step)\n",
    "    writeMessage(\"valLoss: {:.4e}\".format(valLoss),versionName)\n",
    "    \n",
    "    # checkpoint progress\n",
    "    if valLoss < bestLoss:\n",
    "        bestLoss = valLoss\n",
    "        writeMessage(\"Better valLoss: {:.4e}, Saving models...\".format(bestLoss),versionName)\n",
    "        torch.save(model.state_dict(), os.path.join(cps,versionName))\n",
    "\n",
    "    lr_scheduler.step(valLoss)\n",
    "    \n",
    "    if opt.param_groups[0]['lr'] < 5e-8:\n",
    "        break\n",
    "writeMessage('---------- Finished Training ----------', versionName)"
   ]
  },
  {
   "cell_type": "markdown",
   "metadata": {},
   "source": [
    "## Compare: Generated vs. Simulated"
   ]
  },
  {
   "cell_type": "code",
   "execution_count": null,
   "metadata": {
    "ExecuteTime": {
     "start_time": "2020-11-06T20:08:53.872Z"
    }
   },
   "outputs": [],
   "source": [
    "model.load_state_dict(torch.load(os.path.join(cps,versionName)))\n",
    "model = model.to(device)"
   ]
  },
  {
   "cell_type": "code",
   "execution_count": null,
   "metadata": {
    "ExecuteTime": {
     "start_time": "2020-11-06T20:08:53.874Z"
    }
   },
   "outputs": [],
   "source": [
    "model.eval()\n",
    "X, Y, p_x, p_y = next(iter(testDataLoader))\n",
    "X, Y, p_x, p_y = X.to(device), Y.to(device), p_x.to(device), p_y.to(device)\n",
    "\n",
    "with torch.no_grad():\n",
    "    X_hat, p = model(X, p_x)\n",
    "\n",
    "if createStreamFcn:\n",
    "    X_hat = stream2uv(X_hat,device)\n",
    "    \n",
    "X.shape, p_x.shape, X_hat.shape"
   ]
  },
  {
   "cell_type": "markdown",
   "metadata": {},
   "source": [
    "### Metrics"
   ]
  },
  {
   "cell_type": "code",
   "execution_count": null,
   "metadata": {
    "ExecuteTime": {
     "start_time": "2020-11-06T20:08:53.877Z"
    }
   },
   "outputs": [],
   "source": [
    "RMSE = []\n",
    "relErr = []\n",
    "frameRe = []\n",
    "print('RMSE \\t Rel Err')\n",
    "for idx in range(len(testSimFiles)):\n",
    "    # testDataset = CCSI_2D([testSimFiles[idx]],doPreprocess=preprocess,channel=channel,AE=False)\n",
    "    # simDataLoader = DataLoader(dataset=testDataset, batch_size=1)\n",
    "    # for X,Y in simDataLoader:\n",
    "    #     p = X[1]\n",
    "    #     t = X[2]\n",
    "    #     print(X[0].shape, p, t)\n",
    "\n",
    "    testDataset = CCSI_2D([testSimFiles[idx]],doPreprocess=preprocess,channel=channel,AE=AE,w=0)\n",
    "    simDataLoader = DataLoader(dataset=testDataset, batch_size=1)\n",
    "    XX = []\n",
    "    Real_X = []\n",
    "    model.eval()\n",
    "    for i, sampleBatch in enumerate(simDataLoader,start=1):\n",
    "        with torch.no_grad():\n",
    "            X, Y, p_x, p_y = sampleBatch\n",
    "            X, Y, p_x, p_y = X.to(device), Y.to(device), p_x.to(device), p_y.to(device)\n",
    "            Real_X.append(X)\n",
    "\n",
    "            X_hat,_ = model(X, p_x)\n",
    "\n",
    "            if createStreamFcn:\n",
    "                X_hat = stream2uv(X_hat,device)\n",
    "\n",
    "            XX.append(X_hat)\n",
    "\n",
    "            #X = X.detach().cpu().squeeze()\n",
    "            #X_hat = X_hat.detach().cpu().squeeze()\n",
    "            #plotSampleWprediction(X, X_hat)\n",
    "\n",
    "    Real_X = torch.cat(Real_X,axis=0).to('cpu')\n",
    "    Real_X_img = torch.rot90(convertSimToImage(Real_X),1,dims=[2,3])\n",
    "\n",
    "    Surr_X = torch.cat(XX,axis=0).to('cpu')\n",
    "    Surr_X_img = torch.rot90(convertSimToImage(Surr_X),1,dims=[2,3])\n",
    "    Real_X_img.shape, Surr_X_img.shape\n",
    "    \n",
    "    r = rmse(Real_X,Surr_X)\n",
    "    RMSE.append(r)\n",
    "    \n",
    "    rel_error = torch.norm(Real_X - Surr_X)/torch.norm(Real_X)\n",
    "    print('{}\\t{}'.format(r, rel_error))\n",
    "    relErr.append(rel_error)\n",
    "    \n",
    "    re = []\n",
    "    for x,y in zip(Real_X, Surr_X):\n",
    "        x = x.squeeze()\n",
    "        y = y.squeeze()\n",
    "        e = torch.norm(x - y)/torch.norm(x)\n",
    "        re.append(e)\n",
    "    frameRe.append(re)\n",
    "    #plt.plot(re)\n",
    "    \n",
    "print(np.mean(relErr))\n",
    "frameRe = np.vstack(frameRe)\n",
    "plt.plot(frameRe.T)\n",
    "plt.legend([i for i in range(len(testSimFiles))])\n",
    "plt.show()"
   ]
  },
  {
   "cell_type": "code",
   "execution_count": 40,
   "metadata": {
    "ExecuteTime": {
     "end_time": "2020-11-07T01:51:19.223836Z",
     "start_time": "2020-11-07T01:51:19.215155Z"
    }
   },
   "outputs": [
    {
     "name": "stdout",
     "output_type": "stream",
     "text": [
      "RMSE \t Rel Err\n",
      "0.04037671908736229\t0.45925164222717285\n",
      "0.05007310211658478\t0.4198736250400543\n",
      "0.04560021683573723\t0.4408715069293976\n",
      "0.04558948054909706\t0.45595496892929077\n",
      "0.046773869544267654\t0.4339592456817627\n",
      "0.058833226561546326\t0.40479418635368347\n",
      "0.06538234651088715\t0.39376240968704224\n",
      "0.076146200299263\t0.4106665253639221\n",
      "0.07803089171648026\t0.41228076815605164\n",
      "0.06311455368995667\t0.38563597202301025\n",
      "0.4217051\n"
     ]
    }
   ],
   "source": [
    "print('RMSE \\t Rel Err')\n",
    "for rm, re in zip(RMSE,relErr):\n",
    "    print('{}\\t{}'.format(rm, re))\n",
    "print(np.mean(relErr))\n",
    "    "
   ]
  },
  {
   "cell_type": "markdown",
   "metadata": {},
   "source": [
    "### Make Movie"
   ]
  },
  {
   "cell_type": "code",
   "execution_count": null,
   "metadata": {
    "ExecuteTime": {
     "start_time": "2020-11-06T20:08:53.878Z"
    }
   },
   "outputs": [],
   "source": [
    "import matplotlib.animation as animation\n",
    "import matplotlib.gridspec as gridspec\n",
    "import matplotlib.animation as manimati\n",
    "from matplotlib import animation, rc\n",
    "def create_1_channel_movie(im,outfile='sim.mp4',title='surrogate            simulation'):\n",
    "    ti = 0\n",
    "    u_mx = 255 #np.max(np.abs(Xrgb))\n",
    "    fig = plt.figure()\n",
    "    ax = fig.add_subplot(111)\n",
    "    plt.title(title)\n",
    "    cmap = plt.cm.ocean\n",
    "    img = ax.imshow(im[0].squeeze(), cmap=cmap, vmin=0, vmax=u_mx)\n",
    "    #plt.show()\n",
    "    \n",
    "    # initialization function: plot the background of each frame\n",
    "    def init():\n",
    "        img = ax.imshow(im[0].squeeze(), cmap=cmap, vmin=0, vmax=u_mx)\n",
    "        return (fig,)\n",
    "\n",
    "    # animation function. This is called sequentially\n",
    "    def animate(i):\n",
    "        img = ax.imshow(im[i].squeeze(), cmap=cmap, vmin=0, vmax=u_mx)\n",
    "        return (fig,)\n",
    "\n",
    "\n",
    "    # call the animator. blit=True means only re-draw the parts that have changed.\n",
    "    anim = animation.FuncAnimation(fig, animate, init_func=init,\n",
    "                                   frames=len(im), interval=20, blit=True)\n",
    "    anim.save(outfile, fps=30, extra_args=['-vcodec', 'libx264'])"
   ]
  },
  {
   "cell_type": "code",
   "execution_count": null,
   "metadata": {
    "ExecuteTime": {
     "start_time": "2020-11-06T20:08:53.881Z"
    }
   },
   "outputs": [],
   "source": [
    "Xrgb = torch.cat([Surr_X_img, Real_X_img], dim=3)\n",
    "Xrgb.shape"
   ]
  },
  {
   "cell_type": "code",
   "execution_count": null,
   "metadata": {
    "ExecuteTime": {
     "start_time": "2020-11-06T20:08:53.884Z"
    }
   },
   "outputs": [],
   "source": [
    "try:\n",
    "    gif = True\n",
    "    outGif = '{}.gif'.format(versionName)\n",
    "    create_1_channel_movie(Xrgb.detach().numpy(),outfile=outGif)\n",
    "except:\n",
    "    gif = False\n",
    "    outGif = '{}.mp4'.format(versionName)\n",
    "    create_1_channel_movie(Xrgb.detach().numpy(),outfile=outGif)"
   ]
  },
  {
   "cell_type": "code",
   "execution_count": null,
   "metadata": {
    "ExecuteTime": {
     "start_time": "2020-11-06T20:08:53.885Z"
    }
   },
   "outputs": [],
   "source": [
    "outGif"
   ]
  },
  {
   "cell_type": "code",
   "execution_count": null,
   "metadata": {
    "ExecuteTime": {
     "start_time": "2020-11-06T20:08:53.888Z"
    }
   },
   "outputs": [],
   "source": [
    "from IPython.display import Image, Video\n",
    "if gif:\n",
    "    Image(filename=outGif)\n",
    "else:\n",
    "    Video(outGif)"
   ]
  },
  {
   "cell_type": "code",
   "execution_count": 37,
   "metadata": {
    "ExecuteTime": {
     "end_time": "2020-11-07T01:49:25.271892Z",
     "start_time": "2020-11-07T01:49:25.265586Z"
    }
   },
   "outputs": [
    {
     "data": {
      "text/html": [
       "<video src=\"pnnl_plateau_train_GPUs0_channel1_gridsize128_latentDim256_filters128_bz16_numConv4_jacobianFalse_norm_layerIdentity_epochs1000_stackTrue_lr0.0001.mp4\" controls  >\n",
       "      Your browser does not support the <code>video</code> element.\n",
       "    </video>"
      ],
      "text/plain": [
       "<IPython.core.display.Video object>"
      ]
     },
     "execution_count": 37,
     "metadata": {},
     "output_type": "execute_result"
    }
   ],
   "source": [
    "Video(outGif)"
   ]
  },
  {
   "cell_type": "code",
   "execution_count": 38,
   "metadata": {
    "ExecuteTime": {
     "end_time": "2020-11-07T01:49:39.428284Z",
     "start_time": "2020-11-07T01:49:39.054850Z"
    }
   },
   "outputs": [
    {
     "data": {
      "application/javascript": [
       "/* Put everything inside the global mpl namespace */\n",
       "window.mpl = {};\n",
       "\n",
       "\n",
       "mpl.get_websocket_type = function() {\n",
       "    if (typeof(WebSocket) !== 'undefined') {\n",
       "        return WebSocket;\n",
       "    } else if (typeof(MozWebSocket) !== 'undefined') {\n",
       "        return MozWebSocket;\n",
       "    } else {\n",
       "        alert('Your browser does not have WebSocket support. ' +\n",
       "              'Please try Chrome, Safari or Firefox ≥ 6. ' +\n",
       "              'Firefox 4 and 5 are also supported but you ' +\n",
       "              'have to enable WebSockets in about:config.');\n",
       "    };\n",
       "}\n",
       "\n",
       "mpl.figure = function(figure_id, websocket, ondownload, parent_element) {\n",
       "    this.id = figure_id;\n",
       "\n",
       "    this.ws = websocket;\n",
       "\n",
       "    this.supports_binary = (this.ws.binaryType != undefined);\n",
       "\n",
       "    if (!this.supports_binary) {\n",
       "        var warnings = document.getElementById(\"mpl-warnings\");\n",
       "        if (warnings) {\n",
       "            warnings.style.display = 'block';\n",
       "            warnings.textContent = (\n",
       "                \"This browser does not support binary websocket messages. \" +\n",
       "                    \"Performance may be slow.\");\n",
       "        }\n",
       "    }\n",
       "\n",
       "    this.imageObj = new Image();\n",
       "\n",
       "    this.context = undefined;\n",
       "    this.message = undefined;\n",
       "    this.canvas = undefined;\n",
       "    this.rubberband_canvas = undefined;\n",
       "    this.rubberband_context = undefined;\n",
       "    this.format_dropdown = undefined;\n",
       "\n",
       "    this.image_mode = 'full';\n",
       "\n",
       "    this.root = $('<div/>');\n",
       "    this._root_extra_style(this.root)\n",
       "    this.root.attr('style', 'display: inline-block');\n",
       "\n",
       "    $(parent_element).append(this.root);\n",
       "\n",
       "    this._init_header(this);\n",
       "    this._init_canvas(this);\n",
       "    this._init_toolbar(this);\n",
       "\n",
       "    var fig = this;\n",
       "\n",
       "    this.waiting = false;\n",
       "\n",
       "    this.ws.onopen =  function () {\n",
       "            fig.send_message(\"supports_binary\", {value: fig.supports_binary});\n",
       "            fig.send_message(\"send_image_mode\", {});\n",
       "            if (mpl.ratio != 1) {\n",
       "                fig.send_message(\"set_dpi_ratio\", {'dpi_ratio': mpl.ratio});\n",
       "            }\n",
       "            fig.send_message(\"refresh\", {});\n",
       "        }\n",
       "\n",
       "    this.imageObj.onload = function() {\n",
       "            if (fig.image_mode == 'full') {\n",
       "                // Full images could contain transparency (where diff images\n",
       "                // almost always do), so we need to clear the canvas so that\n",
       "                // there is no ghosting.\n",
       "                fig.context.clearRect(0, 0, fig.canvas.width, fig.canvas.height);\n",
       "            }\n",
       "            fig.context.drawImage(fig.imageObj, 0, 0);\n",
       "        };\n",
       "\n",
       "    this.imageObj.onunload = function() {\n",
       "        fig.ws.close();\n",
       "    }\n",
       "\n",
       "    this.ws.onmessage = this._make_on_message_function(this);\n",
       "\n",
       "    this.ondownload = ondownload;\n",
       "}\n",
       "\n",
       "mpl.figure.prototype._init_header = function() {\n",
       "    var titlebar = $(\n",
       "        '<div class=\"ui-dialog-titlebar ui-widget-header ui-corner-all ' +\n",
       "        'ui-helper-clearfix\"/>');\n",
       "    var titletext = $(\n",
       "        '<div class=\"ui-dialog-title\" style=\"width: 100%; ' +\n",
       "        'text-align: center; padding: 3px;\"/>');\n",
       "    titlebar.append(titletext)\n",
       "    this.root.append(titlebar);\n",
       "    this.header = titletext[0];\n",
       "}\n",
       "\n",
       "\n",
       "\n",
       "mpl.figure.prototype._canvas_extra_style = function(canvas_div) {\n",
       "\n",
       "}\n",
       "\n",
       "\n",
       "mpl.figure.prototype._root_extra_style = function(canvas_div) {\n",
       "\n",
       "}\n",
       "\n",
       "mpl.figure.prototype._init_canvas = function() {\n",
       "    var fig = this;\n",
       "\n",
       "    var canvas_div = $('<div/>');\n",
       "\n",
       "    canvas_div.attr('style', 'position: relative; clear: both; outline: 0');\n",
       "\n",
       "    function canvas_keyboard_event(event) {\n",
       "        return fig.key_event(event, event['data']);\n",
       "    }\n",
       "\n",
       "    canvas_div.keydown('key_press', canvas_keyboard_event);\n",
       "    canvas_div.keyup('key_release', canvas_keyboard_event);\n",
       "    this.canvas_div = canvas_div\n",
       "    this._canvas_extra_style(canvas_div)\n",
       "    this.root.append(canvas_div);\n",
       "\n",
       "    var canvas = $('<canvas/>');\n",
       "    canvas.addClass('mpl-canvas');\n",
       "    canvas.attr('style', \"left: 0; top: 0; z-index: 0; outline: 0\")\n",
       "\n",
       "    this.canvas = canvas[0];\n",
       "    this.context = canvas[0].getContext(\"2d\");\n",
       "\n",
       "    var backingStore = this.context.backingStorePixelRatio ||\n",
       "\tthis.context.webkitBackingStorePixelRatio ||\n",
       "\tthis.context.mozBackingStorePixelRatio ||\n",
       "\tthis.context.msBackingStorePixelRatio ||\n",
       "\tthis.context.oBackingStorePixelRatio ||\n",
       "\tthis.context.backingStorePixelRatio || 1;\n",
       "\n",
       "    mpl.ratio = (window.devicePixelRatio || 1) / backingStore;\n",
       "\n",
       "    var rubberband = $('<canvas/>');\n",
       "    rubberband.attr('style', \"position: absolute; left: 0; top: 0; z-index: 1;\")\n",
       "\n",
       "    var pass_mouse_events = true;\n",
       "\n",
       "    canvas_div.resizable({\n",
       "        start: function(event, ui) {\n",
       "            pass_mouse_events = false;\n",
       "        },\n",
       "        resize: function(event, ui) {\n",
       "            fig.request_resize(ui.size.width, ui.size.height);\n",
       "        },\n",
       "        stop: function(event, ui) {\n",
       "            pass_mouse_events = true;\n",
       "            fig.request_resize(ui.size.width, ui.size.height);\n",
       "        },\n",
       "    });\n",
       "\n",
       "    function mouse_event_fn(event) {\n",
       "        if (pass_mouse_events)\n",
       "            return fig.mouse_event(event, event['data']);\n",
       "    }\n",
       "\n",
       "    rubberband.mousedown('button_press', mouse_event_fn);\n",
       "    rubberband.mouseup('button_release', mouse_event_fn);\n",
       "    // Throttle sequential mouse events to 1 every 20ms.\n",
       "    rubberband.mousemove('motion_notify', mouse_event_fn);\n",
       "\n",
       "    rubberband.mouseenter('figure_enter', mouse_event_fn);\n",
       "    rubberband.mouseleave('figure_leave', mouse_event_fn);\n",
       "\n",
       "    canvas_div.on(\"wheel\", function (event) {\n",
       "        event = event.originalEvent;\n",
       "        event['data'] = 'scroll'\n",
       "        if (event.deltaY < 0) {\n",
       "            event.step = 1;\n",
       "        } else {\n",
       "            event.step = -1;\n",
       "        }\n",
       "        mouse_event_fn(event);\n",
       "    });\n",
       "\n",
       "    canvas_div.append(canvas);\n",
       "    canvas_div.append(rubberband);\n",
       "\n",
       "    this.rubberband = rubberband;\n",
       "    this.rubberband_canvas = rubberband[0];\n",
       "    this.rubberband_context = rubberband[0].getContext(\"2d\");\n",
       "    this.rubberband_context.strokeStyle = \"#000000\";\n",
       "\n",
       "    this._resize_canvas = function(width, height) {\n",
       "        // Keep the size of the canvas, canvas container, and rubber band\n",
       "        // canvas in synch.\n",
       "        canvas_div.css('width', width)\n",
       "        canvas_div.css('height', height)\n",
       "\n",
       "        canvas.attr('width', width * mpl.ratio);\n",
       "        canvas.attr('height', height * mpl.ratio);\n",
       "        canvas.attr('style', 'width: ' + width + 'px; height: ' + height + 'px;');\n",
       "\n",
       "        rubberband.attr('width', width);\n",
       "        rubberband.attr('height', height);\n",
       "    }\n",
       "\n",
       "    // Set the figure to an initial 600x600px, this will subsequently be updated\n",
       "    // upon first draw.\n",
       "    this._resize_canvas(600, 600);\n",
       "\n",
       "    // Disable right mouse context menu.\n",
       "    $(this.rubberband_canvas).bind(\"contextmenu\",function(e){\n",
       "        return false;\n",
       "    });\n",
       "\n",
       "    function set_focus () {\n",
       "        canvas.focus();\n",
       "        canvas_div.focus();\n",
       "    }\n",
       "\n",
       "    window.setTimeout(set_focus, 100);\n",
       "}\n",
       "\n",
       "mpl.figure.prototype._init_toolbar = function() {\n",
       "    var fig = this;\n",
       "\n",
       "    var nav_element = $('<div/>');\n",
       "    nav_element.attr('style', 'width: 100%');\n",
       "    this.root.append(nav_element);\n",
       "\n",
       "    // Define a callback function for later on.\n",
       "    function toolbar_event(event) {\n",
       "        return fig.toolbar_button_onclick(event['data']);\n",
       "    }\n",
       "    function toolbar_mouse_event(event) {\n",
       "        return fig.toolbar_button_onmouseover(event['data']);\n",
       "    }\n",
       "\n",
       "    for(var toolbar_ind in mpl.toolbar_items) {\n",
       "        var name = mpl.toolbar_items[toolbar_ind][0];\n",
       "        var tooltip = mpl.toolbar_items[toolbar_ind][1];\n",
       "        var image = mpl.toolbar_items[toolbar_ind][2];\n",
       "        var method_name = mpl.toolbar_items[toolbar_ind][3];\n",
       "\n",
       "        if (!name) {\n",
       "            // put a spacer in here.\n",
       "            continue;\n",
       "        }\n",
       "        var button = $('<button/>');\n",
       "        button.addClass('ui-button ui-widget ui-state-default ui-corner-all ' +\n",
       "                        'ui-button-icon-only');\n",
       "        button.attr('role', 'button');\n",
       "        button.attr('aria-disabled', 'false');\n",
       "        button.click(method_name, toolbar_event);\n",
       "        button.mouseover(tooltip, toolbar_mouse_event);\n",
       "\n",
       "        var icon_img = $('<span/>');\n",
       "        icon_img.addClass('ui-button-icon-primary ui-icon');\n",
       "        icon_img.addClass(image);\n",
       "        icon_img.addClass('ui-corner-all');\n",
       "\n",
       "        var tooltip_span = $('<span/>');\n",
       "        tooltip_span.addClass('ui-button-text');\n",
       "        tooltip_span.html(tooltip);\n",
       "\n",
       "        button.append(icon_img);\n",
       "        button.append(tooltip_span);\n",
       "\n",
       "        nav_element.append(button);\n",
       "    }\n",
       "\n",
       "    var fmt_picker_span = $('<span/>');\n",
       "\n",
       "    var fmt_picker = $('<select/>');\n",
       "    fmt_picker.addClass('mpl-toolbar-option ui-widget ui-widget-content');\n",
       "    fmt_picker_span.append(fmt_picker);\n",
       "    nav_element.append(fmt_picker_span);\n",
       "    this.format_dropdown = fmt_picker[0];\n",
       "\n",
       "    for (var ind in mpl.extensions) {\n",
       "        var fmt = mpl.extensions[ind];\n",
       "        var option = $(\n",
       "            '<option/>', {selected: fmt === mpl.default_extension}).html(fmt);\n",
       "        fmt_picker.append(option);\n",
       "    }\n",
       "\n",
       "    // Add hover states to the ui-buttons\n",
       "    $( \".ui-button\" ).hover(\n",
       "        function() { $(this).addClass(\"ui-state-hover\");},\n",
       "        function() { $(this).removeClass(\"ui-state-hover\");}\n",
       "    );\n",
       "\n",
       "    var status_bar = $('<span class=\"mpl-message\"/>');\n",
       "    nav_element.append(status_bar);\n",
       "    this.message = status_bar[0];\n",
       "}\n",
       "\n",
       "mpl.figure.prototype.request_resize = function(x_pixels, y_pixels) {\n",
       "    // Request matplotlib to resize the figure. Matplotlib will then trigger a resize in the client,\n",
       "    // which will in turn request a refresh of the image.\n",
       "    this.send_message('resize', {'width': x_pixels, 'height': y_pixels});\n",
       "}\n",
       "\n",
       "mpl.figure.prototype.send_message = function(type, properties) {\n",
       "    properties['type'] = type;\n",
       "    properties['figure_id'] = this.id;\n",
       "    this.ws.send(JSON.stringify(properties));\n",
       "}\n",
       "\n",
       "mpl.figure.prototype.send_draw_message = function() {\n",
       "    if (!this.waiting) {\n",
       "        this.waiting = true;\n",
       "        this.ws.send(JSON.stringify({type: \"draw\", figure_id: this.id}));\n",
       "    }\n",
       "}\n",
       "\n",
       "\n",
       "mpl.figure.prototype.handle_save = function(fig, msg) {\n",
       "    var format_dropdown = fig.format_dropdown;\n",
       "    var format = format_dropdown.options[format_dropdown.selectedIndex].value;\n",
       "    fig.ondownload(fig, format);\n",
       "}\n",
       "\n",
       "\n",
       "mpl.figure.prototype.handle_resize = function(fig, msg) {\n",
       "    var size = msg['size'];\n",
       "    if (size[0] != fig.canvas.width || size[1] != fig.canvas.height) {\n",
       "        fig._resize_canvas(size[0], size[1]);\n",
       "        fig.send_message(\"refresh\", {});\n",
       "    };\n",
       "}\n",
       "\n",
       "mpl.figure.prototype.handle_rubberband = function(fig, msg) {\n",
       "    var x0 = msg['x0'] / mpl.ratio;\n",
       "    var y0 = (fig.canvas.height - msg['y0']) / mpl.ratio;\n",
       "    var x1 = msg['x1'] / mpl.ratio;\n",
       "    var y1 = (fig.canvas.height - msg['y1']) / mpl.ratio;\n",
       "    x0 = Math.floor(x0) + 0.5;\n",
       "    y0 = Math.floor(y0) + 0.5;\n",
       "    x1 = Math.floor(x1) + 0.5;\n",
       "    y1 = Math.floor(y1) + 0.5;\n",
       "    var min_x = Math.min(x0, x1);\n",
       "    var min_y = Math.min(y0, y1);\n",
       "    var width = Math.abs(x1 - x0);\n",
       "    var height = Math.abs(y1 - y0);\n",
       "\n",
       "    fig.rubberband_context.clearRect(\n",
       "        0, 0, fig.canvas.width / mpl.ratio, fig.canvas.height / mpl.ratio);\n",
       "\n",
       "    fig.rubberband_context.strokeRect(min_x, min_y, width, height);\n",
       "}\n",
       "\n",
       "mpl.figure.prototype.handle_figure_label = function(fig, msg) {\n",
       "    // Updates the figure title.\n",
       "    fig.header.textContent = msg['label'];\n",
       "}\n",
       "\n",
       "mpl.figure.prototype.handle_cursor = function(fig, msg) {\n",
       "    var cursor = msg['cursor'];\n",
       "    switch(cursor)\n",
       "    {\n",
       "    case 0:\n",
       "        cursor = 'pointer';\n",
       "        break;\n",
       "    case 1:\n",
       "        cursor = 'default';\n",
       "        break;\n",
       "    case 2:\n",
       "        cursor = 'crosshair';\n",
       "        break;\n",
       "    case 3:\n",
       "        cursor = 'move';\n",
       "        break;\n",
       "    }\n",
       "    fig.rubberband_canvas.style.cursor = cursor;\n",
       "}\n",
       "\n",
       "mpl.figure.prototype.handle_message = function(fig, msg) {\n",
       "    fig.message.textContent = msg['message'];\n",
       "}\n",
       "\n",
       "mpl.figure.prototype.handle_draw = function(fig, msg) {\n",
       "    // Request the server to send over a new figure.\n",
       "    fig.send_draw_message();\n",
       "}\n",
       "\n",
       "mpl.figure.prototype.handle_image_mode = function(fig, msg) {\n",
       "    fig.image_mode = msg['mode'];\n",
       "}\n",
       "\n",
       "mpl.figure.prototype.updated_canvas_event = function() {\n",
       "    // Called whenever the canvas gets updated.\n",
       "    this.send_message(\"ack\", {});\n",
       "}\n",
       "\n",
       "// A function to construct a web socket function for onmessage handling.\n",
       "// Called in the figure constructor.\n",
       "mpl.figure.prototype._make_on_message_function = function(fig) {\n",
       "    return function socket_on_message(evt) {\n",
       "        if (evt.data instanceof Blob) {\n",
       "            /* FIXME: We get \"Resource interpreted as Image but\n",
       "             * transferred with MIME type text/plain:\" errors on\n",
       "             * Chrome.  But how to set the MIME type?  It doesn't seem\n",
       "             * to be part of the websocket stream */\n",
       "            evt.data.type = \"image/png\";\n",
       "\n",
       "            /* Free the memory for the previous frames */\n",
       "            if (fig.imageObj.src) {\n",
       "                (window.URL || window.webkitURL).revokeObjectURL(\n",
       "                    fig.imageObj.src);\n",
       "            }\n",
       "\n",
       "            fig.imageObj.src = (window.URL || window.webkitURL).createObjectURL(\n",
       "                evt.data);\n",
       "            fig.updated_canvas_event();\n",
       "            fig.waiting = false;\n",
       "            return;\n",
       "        }\n",
       "        else if (typeof evt.data === 'string' && evt.data.slice(0, 21) == \"data:image/png;base64\") {\n",
       "            fig.imageObj.src = evt.data;\n",
       "            fig.updated_canvas_event();\n",
       "            fig.waiting = false;\n",
       "            return;\n",
       "        }\n",
       "\n",
       "        var msg = JSON.parse(evt.data);\n",
       "        var msg_type = msg['type'];\n",
       "\n",
       "        // Call the  \"handle_{type}\" callback, which takes\n",
       "        // the figure and JSON message as its only arguments.\n",
       "        try {\n",
       "            var callback = fig[\"handle_\" + msg_type];\n",
       "        } catch (e) {\n",
       "            console.log(\"No handler for the '\" + msg_type + \"' message type: \", msg);\n",
       "            return;\n",
       "        }\n",
       "\n",
       "        if (callback) {\n",
       "            try {\n",
       "                // console.log(\"Handling '\" + msg_type + \"' message: \", msg);\n",
       "                callback(fig, msg);\n",
       "            } catch (e) {\n",
       "                console.log(\"Exception inside the 'handler_\" + msg_type + \"' callback:\", e, e.stack, msg);\n",
       "            }\n",
       "        }\n",
       "    };\n",
       "}\n",
       "\n",
       "// from http://stackoverflow.com/questions/1114465/getting-mouse-location-in-canvas\n",
       "mpl.findpos = function(e) {\n",
       "    //this section is from http://www.quirksmode.org/js/events_properties.html\n",
       "    var targ;\n",
       "    if (!e)\n",
       "        e = window.event;\n",
       "    if (e.target)\n",
       "        targ = e.target;\n",
       "    else if (e.srcElement)\n",
       "        targ = e.srcElement;\n",
       "    if (targ.nodeType == 3) // defeat Safari bug\n",
       "        targ = targ.parentNode;\n",
       "\n",
       "    // jQuery normalizes the pageX and pageY\n",
       "    // pageX,Y are the mouse positions relative to the document\n",
       "    // offset() returns the position of the element relative to the document\n",
       "    var x = e.pageX - $(targ).offset().left;\n",
       "    var y = e.pageY - $(targ).offset().top;\n",
       "\n",
       "    return {\"x\": x, \"y\": y};\n",
       "};\n",
       "\n",
       "/*\n",
       " * return a copy of an object with only non-object keys\n",
       " * we need this to avoid circular references\n",
       " * http://stackoverflow.com/a/24161582/3208463\n",
       " */\n",
       "function simpleKeys (original) {\n",
       "  return Object.keys(original).reduce(function (obj, key) {\n",
       "    if (typeof original[key] !== 'object')\n",
       "        obj[key] = original[key]\n",
       "    return obj;\n",
       "  }, {});\n",
       "}\n",
       "\n",
       "mpl.figure.prototype.mouse_event = function(event, name) {\n",
       "    var canvas_pos = mpl.findpos(event)\n",
       "\n",
       "    if (name === 'button_press')\n",
       "    {\n",
       "        this.canvas.focus();\n",
       "        this.canvas_div.focus();\n",
       "    }\n",
       "\n",
       "    var x = canvas_pos.x * mpl.ratio;\n",
       "    var y = canvas_pos.y * mpl.ratio;\n",
       "\n",
       "    this.send_message(name, {x: x, y: y, button: event.button,\n",
       "                             step: event.step,\n",
       "                             guiEvent: simpleKeys(event)});\n",
       "\n",
       "    /* This prevents the web browser from automatically changing to\n",
       "     * the text insertion cursor when the button is pressed.  We want\n",
       "     * to control all of the cursor setting manually through the\n",
       "     * 'cursor' event from matplotlib */\n",
       "    event.preventDefault();\n",
       "    return false;\n",
       "}\n",
       "\n",
       "mpl.figure.prototype._key_event_extra = function(event, name) {\n",
       "    // Handle any extra behaviour associated with a key event\n",
       "}\n",
       "\n",
       "mpl.figure.prototype.key_event = function(event, name) {\n",
       "\n",
       "    // Prevent repeat events\n",
       "    if (name == 'key_press')\n",
       "    {\n",
       "        if (event.which === this._key)\n",
       "            return;\n",
       "        else\n",
       "            this._key = event.which;\n",
       "    }\n",
       "    if (name == 'key_release')\n",
       "        this._key = null;\n",
       "\n",
       "    var value = '';\n",
       "    if (event.ctrlKey && event.which != 17)\n",
       "        value += \"ctrl+\";\n",
       "    if (event.altKey && event.which != 18)\n",
       "        value += \"alt+\";\n",
       "    if (event.shiftKey && event.which != 16)\n",
       "        value += \"shift+\";\n",
       "\n",
       "    value += 'k';\n",
       "    value += event.which.toString();\n",
       "\n",
       "    this._key_event_extra(event, name);\n",
       "\n",
       "    this.send_message(name, {key: value,\n",
       "                             guiEvent: simpleKeys(event)});\n",
       "    return false;\n",
       "}\n",
       "\n",
       "mpl.figure.prototype.toolbar_button_onclick = function(name) {\n",
       "    if (name == 'download') {\n",
       "        this.handle_save(this, null);\n",
       "    } else {\n",
       "        this.send_message(\"toolbar_button\", {name: name});\n",
       "    }\n",
       "};\n",
       "\n",
       "mpl.figure.prototype.toolbar_button_onmouseover = function(tooltip) {\n",
       "    this.message.textContent = tooltip;\n",
       "};\n",
       "mpl.toolbar_items = [[\"Home\", \"Reset original view\", \"fa fa-home icon-home\", \"home\"], [\"Back\", \"Back to previous view\", \"fa fa-arrow-left icon-arrow-left\", \"back\"], [\"Forward\", \"Forward to next view\", \"fa fa-arrow-right icon-arrow-right\", \"forward\"], [\"\", \"\", \"\", \"\"], [\"Pan\", \"Pan axes with left mouse, zoom with right\", \"fa fa-arrows icon-move\", \"pan\"], [\"Zoom\", \"Zoom to rectangle\", \"fa fa-square-o icon-check-empty\", \"zoom\"], [\"\", \"\", \"\", \"\"], [\"Download\", \"Download plot\", \"fa fa-floppy-o icon-save\", \"download\"]];\n",
       "\n",
       "mpl.extensions = [\"eps\", \"jpeg\", \"pdf\", \"png\", \"ps\", \"raw\", \"svg\", \"tif\"];\n",
       "\n",
       "mpl.default_extension = \"png\";var comm_websocket_adapter = function(comm) {\n",
       "    // Create a \"websocket\"-like object which calls the given IPython comm\n",
       "    // object with the appropriate methods. Currently this is a non binary\n",
       "    // socket, so there is still some room for performance tuning.\n",
       "    var ws = {};\n",
       "\n",
       "    ws.close = function() {\n",
       "        comm.close()\n",
       "    };\n",
       "    ws.send = function(m) {\n",
       "        //console.log('sending', m);\n",
       "        comm.send(m);\n",
       "    };\n",
       "    // Register the callback with on_msg.\n",
       "    comm.on_msg(function(msg) {\n",
       "        //console.log('receiving', msg['content']['data'], msg);\n",
       "        // Pass the mpl event to the overridden (by mpl) onmessage function.\n",
       "        ws.onmessage(msg['content']['data'])\n",
       "    });\n",
       "    return ws;\n",
       "}\n",
       "\n",
       "mpl.mpl_figure_comm = function(comm, msg) {\n",
       "    // This is the function which gets called when the mpl process\n",
       "    // starts-up an IPython Comm through the \"matplotlib\" channel.\n",
       "\n",
       "    var id = msg.content.data.id;\n",
       "    // Get hold of the div created by the display call when the Comm\n",
       "    // socket was opened in Python.\n",
       "    var element = $(\"#\" + id);\n",
       "    var ws_proxy = comm_websocket_adapter(comm)\n",
       "\n",
       "    function ondownload(figure, format) {\n",
       "        window.open(figure.imageObj.src);\n",
       "    }\n",
       "\n",
       "    var fig = new mpl.figure(id, ws_proxy,\n",
       "                           ondownload,\n",
       "                           element.get(0));\n",
       "\n",
       "    // Call onopen now - mpl needs it, as it is assuming we've passed it a real\n",
       "    // web socket which is closed, not our websocket->open comm proxy.\n",
       "    ws_proxy.onopen();\n",
       "\n",
       "    fig.parent_element = element.get(0);\n",
       "    fig.cell_info = mpl.find_output_cell(\"<div id='\" + id + \"'></div>\");\n",
       "    if (!fig.cell_info) {\n",
       "        console.error(\"Failed to find cell for figure\", id, fig);\n",
       "        return;\n",
       "    }\n",
       "\n",
       "    var output_index = fig.cell_info[2]\n",
       "    var cell = fig.cell_info[0];\n",
       "\n",
       "};\n",
       "\n",
       "mpl.figure.prototype.handle_close = function(fig, msg) {\n",
       "    var width = fig.canvas.width/mpl.ratio\n",
       "    fig.root.unbind('remove')\n",
       "\n",
       "    // Update the output cell to use the data from the current canvas.\n",
       "    fig.push_to_output();\n",
       "    var dataURL = fig.canvas.toDataURL();\n",
       "    // Re-enable the keyboard manager in IPython - without this line, in FF,\n",
       "    // the notebook keyboard shortcuts fail.\n",
       "    IPython.keyboard_manager.enable()\n",
       "    $(fig.parent_element).html('<img src=\"' + dataURL + '\" width=\"' + width + '\">');\n",
       "    fig.close_ws(fig, msg);\n",
       "}\n",
       "\n",
       "mpl.figure.prototype.close_ws = function(fig, msg){\n",
       "    fig.send_message('closing', msg);\n",
       "    // fig.ws.close()\n",
       "}\n",
       "\n",
       "mpl.figure.prototype.push_to_output = function(remove_interactive) {\n",
       "    // Turn the data on the canvas into data in the output cell.\n",
       "    var width = this.canvas.width/mpl.ratio\n",
       "    var dataURL = this.canvas.toDataURL();\n",
       "    this.cell_info[1]['text/html'] = '<img src=\"' + dataURL + '\" width=\"' + width + '\">';\n",
       "}\n",
       "\n",
       "mpl.figure.prototype.updated_canvas_event = function() {\n",
       "    // Tell IPython that the notebook contents must change.\n",
       "    IPython.notebook.set_dirty(true);\n",
       "    this.send_message(\"ack\", {});\n",
       "    var fig = this;\n",
       "    // Wait a second, then push the new image to the DOM so\n",
       "    // that it is saved nicely (might be nice to debounce this).\n",
       "    setTimeout(function () { fig.push_to_output() }, 1000);\n",
       "}\n",
       "\n",
       "mpl.figure.prototype._init_toolbar = function() {\n",
       "    var fig = this;\n",
       "\n",
       "    var nav_element = $('<div/>');\n",
       "    nav_element.attr('style', 'width: 100%');\n",
       "    this.root.append(nav_element);\n",
       "\n",
       "    // Define a callback function for later on.\n",
       "    function toolbar_event(event) {\n",
       "        return fig.toolbar_button_onclick(event['data']);\n",
       "    }\n",
       "    function toolbar_mouse_event(event) {\n",
       "        return fig.toolbar_button_onmouseover(event['data']);\n",
       "    }\n",
       "\n",
       "    for(var toolbar_ind in mpl.toolbar_items){\n",
       "        var name = mpl.toolbar_items[toolbar_ind][0];\n",
       "        var tooltip = mpl.toolbar_items[toolbar_ind][1];\n",
       "        var image = mpl.toolbar_items[toolbar_ind][2];\n",
       "        var method_name = mpl.toolbar_items[toolbar_ind][3];\n",
       "\n",
       "        if (!name) { continue; };\n",
       "\n",
       "        var button = $('<button class=\"btn btn-default\" href=\"#\" title=\"' + name + '\"><i class=\"fa ' + image + ' fa-lg\"></i></button>');\n",
       "        button.click(method_name, toolbar_event);\n",
       "        button.mouseover(tooltip, toolbar_mouse_event);\n",
       "        nav_element.append(button);\n",
       "    }\n",
       "\n",
       "    // Add the status bar.\n",
       "    var status_bar = $('<span class=\"mpl-message\" style=\"text-align:right; float: right;\"/>');\n",
       "    nav_element.append(status_bar);\n",
       "    this.message = status_bar[0];\n",
       "\n",
       "    // Add the close button to the window.\n",
       "    var buttongrp = $('<div class=\"btn-group inline pull-right\"></div>');\n",
       "    var button = $('<button class=\"btn btn-mini btn-primary\" href=\"#\" title=\"Stop Interaction\"><i class=\"fa fa-power-off icon-remove icon-large\"></i></button>');\n",
       "    button.click(function (evt) { fig.handle_close(fig, {}); } );\n",
       "    button.mouseover('Stop Interaction', toolbar_mouse_event);\n",
       "    buttongrp.append(button);\n",
       "    var titlebar = this.root.find($('.ui-dialog-titlebar'));\n",
       "    titlebar.prepend(buttongrp);\n",
       "}\n",
       "\n",
       "mpl.figure.prototype._root_extra_style = function(el){\n",
       "    var fig = this\n",
       "    el.on(\"remove\", function(){\n",
       "\tfig.close_ws(fig, {});\n",
       "    });\n",
       "}\n",
       "\n",
       "mpl.figure.prototype._canvas_extra_style = function(el){\n",
       "    // this is important to make the div 'focusable\n",
       "    el.attr('tabindex', 0)\n",
       "    // reach out to IPython and tell the keyboard manager to turn it's self\n",
       "    // off when our div gets focus\n",
       "\n",
       "    // location in version 3\n",
       "    if (IPython.notebook.keyboard_manager) {\n",
       "        IPython.notebook.keyboard_manager.register_events(el);\n",
       "    }\n",
       "    else {\n",
       "        // location in version 2\n",
       "        IPython.keyboard_manager.register_events(el);\n",
       "    }\n",
       "\n",
       "}\n",
       "\n",
       "mpl.figure.prototype._key_event_extra = function(event, name) {\n",
       "    var manager = IPython.notebook.keyboard_manager;\n",
       "    if (!manager)\n",
       "        manager = IPython.keyboard_manager;\n",
       "\n",
       "    // Check for shift+enter\n",
       "    if (event.shiftKey && event.which == 13) {\n",
       "        this.canvas_div.blur();\n",
       "        // select the cell after this one\n",
       "        var index = IPython.notebook.find_cell_index(this.cell_info[0]);\n",
       "        IPython.notebook.select(index + 1);\n",
       "    }\n",
       "}\n",
       "\n",
       "mpl.figure.prototype.handle_save = function(fig, msg) {\n",
       "    fig.ondownload(fig, null);\n",
       "}\n",
       "\n",
       "\n",
       "mpl.find_output_cell = function(html_output) {\n",
       "    // Return the cell and output element which can be found *uniquely* in the notebook.\n",
       "    // Note - this is a bit hacky, but it is done because the \"notebook_saving.Notebook\"\n",
       "    // IPython event is triggered only after the cells have been serialised, which for\n",
       "    // our purposes (turning an active figure into a static one), is too late.\n",
       "    var cells = IPython.notebook.get_cells();\n",
       "    var ncells = cells.length;\n",
       "    for (var i=0; i<ncells; i++) {\n",
       "        var cell = cells[i];\n",
       "        if (cell.cell_type === 'code'){\n",
       "            for (var j=0; j<cell.output_area.outputs.length; j++) {\n",
       "                var data = cell.output_area.outputs[j];\n",
       "                if (data.data) {\n",
       "                    // IPython >= 3 moved mimebundle to data attribute of output\n",
       "                    data = data.data;\n",
       "                }\n",
       "                if (data['text/html'] == html_output) {\n",
       "                    return [cell, data, j];\n",
       "                }\n",
       "            }\n",
       "        }\n",
       "    }\n",
       "}\n",
       "\n",
       "// Register the function which deals with the matplotlib target/channel.\n",
       "// The kernel may be null if the page has been refreshed.\n",
       "if (IPython.notebook.kernel != null) {\n",
       "    IPython.notebook.kernel.comm_manager.register_target('matplotlib', mpl.mpl_figure_comm);\n",
       "}\n"
      ],
      "text/plain": [
       "<IPython.core.display.Javascript object>"
      ]
     },
     "metadata": {},
     "output_type": "display_data"
    },
    {
     "data": {
      "text/html": [
       "<img src=\"data:image/png;base64,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\" width=\"640\">"
      ],
      "text/plain": [
       "<IPython.core.display.HTML object>"
      ]
     },
     "metadata": {},
     "output_type": "display_data"
    }
   ],
   "source": [
    "%matplotlib notebook\n",
    "plt.hist(Surr_X.flatten(),bins=100)\n",
    "plt.hist(Real_X.flatten(),bins=100)\n",
    "plt.show()"
   ]
  }
 ],
 "metadata": {
  "kernelspec": {
   "display_name": "Python 3",
   "language": "python",
   "name": "python3"
  },
  "language_info": {
   "codemirror_mode": {
    "name": "ipython",
    "version": 3
   },
   "file_extension": ".py",
   "mimetype": "text/x-python",
   "name": "python",
   "nbconvert_exporter": "python",
   "pygments_lexer": "ipython3",
   "version": "3.8.3"
  }
 },
 "nbformat": 4,
 "nbformat_minor": 2
}
