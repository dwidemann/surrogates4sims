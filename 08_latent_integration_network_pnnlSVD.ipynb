{
 "cells": [
  {
   "cell_type": "markdown",
   "metadata": {},
   "source": [
    "## Latent Integration Network (LIN)\n",
    "This notebook gives an example of how to train a LIN on SVD vectors. Note: 05_experiment_SVD.ipynb created and saved the SVD Decomposition. "
   ]
  },
  {
   "cell_type": "markdown",
   "metadata": {},
   "source": [
    "## Imports"
   ]
  },
  {
   "cell_type": "code",
   "execution_count": 1,
   "metadata": {
    "ExecuteTime": {
     "end_time": "2020-11-13T03:17:43.541068Z",
     "start_time": "2020-11-13T03:17:17.253510Z"
    }
   },
   "outputs": [],
   "source": [
    "# EXPORT\n",
    "# --- Must haves ---\n",
    "import os, sys\n",
    "sys.path.append('..')\n",
    "\n",
    "import torch\n",
    "from torch.utils.data import Dataset, DataLoader\n",
    "from torch.utils.tensorboard import SummaryWriter\n",
    "import torch.cuda as cuda\n",
    "import torch.nn as nn\n",
    "import torchvision\n",
    "import torch.nn.functional as F\n",
    "\n",
    "from surrogates4sims.pnnlDatasets import CCSI_2D\n",
    "\n",
    "from surrogates4sims.utils import create_opt, create_one_cycle, find_lr, printNumModelParams, \\\n",
    "                                    rmse, writeMessage, plotSampleWprediction, plotSampleWpredictionByChannel, \\\n",
    "                                    plotSample, curl, jacobian, stream2uv, convertSimToImage, pkl_save, pkl_load, \\\n",
    "                                    create_1_channel_movie\n",
    "\n",
    "from surrogates4sims.models import Generator, Encoder, ConvDeconvFactor2\n",
    "\n",
    "from surrogates4sims.train import trainEpoch, validEpoch\n",
    "\n",
    "import numpy as np\n",
    "from tqdm import tqdm\n",
    "from copy import deepcopy\n",
    "import matplotlib.pyplot as plt\n",
    "from glob import glob"
   ]
  },
  {
   "cell_type": "code",
   "execution_count": 2,
   "metadata": {
    "ExecuteTime": {
     "end_time": "2020-11-13T03:17:43.673396Z",
     "start_time": "2020-11-13T03:17:43.544015Z"
    }
   },
   "outputs": [
    {
     "name": "stdout",
     "output_type": "stream",
     "text": [
      "gridsize_128  gridsize_512  svd_channel1_gridsize128.pkl\r\n"
     ]
    }
   ],
   "source": [
    "!ls /work/pnnl_liquid_inlet/channel_1"
   ]
  },
  {
   "cell_type": "markdown",
   "metadata": {},
   "source": [
    "## Settings"
   ]
  },
  {
   "cell_type": "code",
   "execution_count": 3,
   "metadata": {
    "ExecuteTime": {
     "end_time": "2020-11-13T03:17:43.697567Z",
     "start_time": "2020-11-13T03:17:43.677529Z"
    }
   },
   "outputs": [
    {
     "data": {
      "text/plain": [
       "'LIN_SVD_PNNL_GPUs1_w10_latentDim1024_hd128_128_bz64_epochs1000'"
      ]
     },
     "execution_count": 3,
     "metadata": {},
     "output_type": "execute_result"
    }
   ],
   "source": [
    "DEBUG = False\n",
    "# model name, for tensorboard recording and checkpointing purposes.\n",
    "versionName = \"LIN_SVD_PNNL\"\n",
    "\n",
    "# GPU Numbers to use. Comma seprate them for multi-GPUs.\n",
    "gpu_ids = \"1\"#,1,2,3\"\n",
    "versionName = versionName + '_GPUs{}'.format(gpu_ids.replace(',',''))\n",
    "# path to load model weights.\n",
    "pretrained_path = None\n",
    "\n",
    "# rate at which to record metrics. (number of batches to average over when recording metrics, e.g. \"every 5 batches\")\n",
    "tensorboard_rate = 5\n",
    "\n",
    "# number of epochs to train. This is defined here so we can use the OneCycle LR Scheduler.\n",
    "epochs = 1000\n",
    "\n",
    "# Data Directory\n",
    "channel = 1\n",
    "gridsize = 128\n",
    "dataDirec = '/work/pnnl_liquid_inlet/channel_{}/gridsize_{}'.format(channel,gridsize)\n",
    "build_vecs = True \n",
    "SVDFn = '/work/pnnl_liquid_inlet/channel_1/svd_channel1_gridsize128.pkl'\n",
    "preprocess = False\n",
    "AE = True\n",
    "\n",
    "# checkpoint directory\n",
    "cps = 'cps'\n",
    "tensorboard_direc = \"tb\"\n",
    "\n",
    "findLRs = True  \n",
    "patience = 1\n",
    "\n",
    "# hyper-params\n",
    "seed = 1234\n",
    "np.random.seed(seed)\n",
    "testSplit = .2\n",
    "bz = 64\n",
    "numSamplesToKeep = np.infty #if not debugging\n",
    "latentDim = 64\n",
    "simLen = 500\n",
    "\n",
    "w = 10\n",
    "numComponents = 1024 # this does not include p. so the vectors will be of size numComponents + len(p)\n",
    "hiddenLayers = [128,128]\n",
    "hd ='_'.join(map(str,hiddenLayers))\n",
    "activation = nn.Tanh()\n",
    "\n",
    "if DEBUG:\n",
    "    epochs = 2\n",
    "    numSamplesToKeep = 200\n",
    "    createDebugData = True\n",
    "    \n",
    "\n",
    "versionName = versionName + '_w{}_latentDim{}_hd{}_bz{}_epochs{}'.format(w,numComponents,hd,bz,epochs)\n",
    "versionName"
   ]
  },
  {
   "cell_type": "markdown",
   "metadata": {},
   "source": [
    "## Select Personal GPUs"
   ]
  },
  {
   "cell_type": "code",
   "execution_count": 4,
   "metadata": {
    "ExecuteTime": {
     "end_time": "2020-11-13T03:17:43.887110Z",
     "start_time": "2020-11-13T03:17:43.700109Z"
    }
   },
   "outputs": [
    {
     "name": "stdout",
     "output_type": "stream",
     "text": [
      "Thu Nov 12 19:17:43 2020       \n",
      "+-----------------------------------------------------------------------------+\n",
      "| NVIDIA-SMI 440.33.01    Driver Version: 440.33.01    CUDA Version: 10.2     |\n",
      "|-------------------------------+----------------------+----------------------+\n",
      "| GPU  Name        Persistence-M| Bus-Id        Disp.A | Volatile Uncorr. ECC |\n",
      "| Fan  Temp  Perf  Pwr:Usage/Cap|         Memory-Usage | GPU-Util  Compute M. |\n",
      "|===============================+======================+======================|\n",
      "|   0  TITAN Xp            On   | 00000000:02:00.0 Off |                  N/A |\n",
      "| 23%   18C    P8     8W / 250W |   4274MiB / 12196MiB |      0%      Default |\n",
      "+-------------------------------+----------------------+----------------------+\n",
      "|   1  TITAN Xp            On   | 00000000:03:00.0 Off |                  N/A |\n",
      "| 23%   21C    P8     8W / 250W |      1MiB / 12196MiB |      0%      Default |\n",
      "+-------------------------------+----------------------+----------------------+\n",
      "|   2  TITAN Xp            On   | 00000000:81:00.0 Off |                  N/A |\n",
      "| 23%   20C    P8     8W / 250W |   4689MiB / 12196MiB |      0%      Default |\n",
      "+-------------------------------+----------------------+----------------------+\n",
      "|   3  TITAN Xp            On   | 00000000:82:00.0 Off |                  N/A |\n",
      "| 23%   19C    P8     9W / 250W |   2757MiB / 12196MiB |      0%      Default |\n",
      "+-------------------------------+----------------------+----------------------+\n",
      "                                                                               \n",
      "+-----------------------------------------------------------------------------+\n",
      "| Processes:                                                       GPU Memory |\n",
      "|  GPU       PID   Type   Process name                             Usage      |\n",
      "|=============================================================================|\n",
      "|    0     16705      C   ...iverasoto1/repos/HP1/HP1_env/bin/python  2085MiB |\n",
      "|    0     26377      C   ...iverasoto1/repos/HP1/HP1_env/bin/python  2177MiB |\n",
      "|    2     28705      C   /home/bartoldson1/anaconda3/bin/python      4677MiB |\n",
      "|    3     28705      C   /home/bartoldson1/anaconda3/bin/python      2745MiB |\n",
      "+-----------------------------------------------------------------------------+\n"
     ]
    }
   ],
   "source": [
    "!nvidia-smi"
   ]
  },
  {
   "cell_type": "code",
   "execution_count": 5,
   "metadata": {
    "ExecuteTime": {
     "end_time": "2020-11-13T03:17:43.894832Z",
     "start_time": "2020-11-13T03:17:43.890274Z"
    }
   },
   "outputs": [],
   "source": [
    "os.environ[\"CUDA_DEVICE_ORDER\"]=\"PCI_BUS_ID\"   # see issue #152\n",
    "os.environ[\"CUDA_VISIBLE_DEVICES\"]=gpu_ids"
   ]
  },
  {
   "cell_type": "code",
   "execution_count": 6,
   "metadata": {
    "ExecuteTime": {
     "end_time": "2020-11-13T03:17:44.001186Z",
     "start_time": "2020-11-13T03:17:43.897603Z"
    }
   },
   "outputs": [
    {
     "name": "stdout",
     "output_type": "stream",
     "text": [
      "Using device: cuda\n"
     ]
    }
   ],
   "source": [
    "device = torch.device('cuda' if torch.cuda.is_available() else 'cpu')\n",
    "print('Using device:', device)"
   ]
  },
  {
   "cell_type": "code",
   "execution_count": 7,
   "metadata": {
    "ExecuteTime": {
     "end_time": "2020-11-13T03:17:44.011666Z",
     "start_time": "2020-11-13T03:17:44.003942Z"
    }
   },
   "outputs": [
    {
     "name": "stdout",
     "output_type": "stream",
     "text": [
      "True\n",
      "1\n",
      "0\n",
      "TITAN Xp\n"
     ]
    }
   ],
   "source": [
    "if device.type == 'cuda':\n",
    "    print(cuda.is_available())\n",
    "    print(cuda.device_count())\n",
    "    print(cuda.current_device())\n",
    "    print(cuda.get_device_name())"
   ]
  },
  {
   "cell_type": "code",
   "execution_count": 8,
   "metadata": {
    "ExecuteTime": {
     "end_time": "2020-11-13T03:17:46.004554Z",
     "start_time": "2020-11-13T03:17:44.013922Z"
    }
   },
   "outputs": [
    {
     "name": "stdout",
     "output_type": "stream",
     "text": [
      "Thu Nov 12 19:17:45 2020       \n",
      "+-----------------------------------------------------------------------------+\n",
      "| NVIDIA-SMI 440.33.01    Driver Version: 440.33.01    CUDA Version: 10.2     |\n",
      "|-------------------------------+----------------------+----------------------+\n",
      "| GPU  Name        Persistence-M| Bus-Id        Disp.A | Volatile Uncorr. ECC |\n",
      "| Fan  Temp  Perf  Pwr:Usage/Cap|         Memory-Usage | GPU-Util  Compute M. |\n",
      "|===============================+======================+======================|\n",
      "|   0  TITAN Xp            On   | 00000000:02:00.0 Off |                  N/A |\n",
      "| 23%   18C    P8     8W / 250W |   4274MiB / 12196MiB |      0%      Default |\n",
      "+-------------------------------+----------------------+----------------------+\n",
      "|   1  TITAN Xp            On   | 00000000:03:00.0 Off |                  N/A |\n",
      "| 23%   23C    P2    59W / 250W |    573MiB / 12196MiB |      3%      Default |\n",
      "+-------------------------------+----------------------+----------------------+\n",
      "|   2  TITAN Xp            On   | 00000000:81:00.0 Off |                  N/A |\n",
      "| 23%   20C    P8     8W / 250W |   4689MiB / 12196MiB |      0%      Default |\n",
      "+-------------------------------+----------------------+----------------------+\n",
      "|   3  TITAN Xp            On   | 00000000:82:00.0 Off |                  N/A |\n",
      "| 23%   19C    P8     9W / 250W |   2757MiB / 12196MiB |      0%      Default |\n",
      "+-------------------------------+----------------------+----------------------+\n",
      "                                                                               \n",
      "+-----------------------------------------------------------------------------+\n",
      "| Processes:                                                       GPU Memory |\n",
      "|  GPU       PID   Type   Process name                             Usage      |\n",
      "|=============================================================================|\n",
      "|    0     16705      C   ...iverasoto1/repos/HP1/HP1_env/bin/python  2085MiB |\n",
      "|    0     26377      C   ...iverasoto1/repos/HP1/HP1_env/bin/python  2177MiB |\n",
      "|    1      5372      C   /home/bartoldson1/anaconda3/bin/python       561MiB |\n",
      "|    2     28705      C   /home/bartoldson1/anaconda3/bin/python      4677MiB |\n",
      "|    3     28705      C   /home/bartoldson1/anaconda3/bin/python      2745MiB |\n",
      "+-----------------------------------------------------------------------------+\n"
     ]
    }
   ],
   "source": [
    "a = torch.zeros(5, device=device.type)\n",
    "!nvidia-smi"
   ]
  },
  {
   "cell_type": "markdown",
   "metadata": {},
   "source": [
    "## Build Latent Vectors (Warning....)\n",
    "The computation of building the latent vectors takes a loooong time. \n",
    "This codes checks to see if svd_vec_file has been saved. If it has, \n",
    "it will reload them. "
   ]
  },
  {
   "cell_type": "code",
   "execution_count": 9,
   "metadata": {
    "ExecuteTime": {
     "end_time": "2020-11-13T03:17:46.023672Z",
     "start_time": "2020-11-13T03:17:46.009590Z"
    }
   },
   "outputs": [
    {
     "data": {
      "text/plain": [
       "(10, 40)"
      ]
     },
     "execution_count": 9,
     "metadata": {},
     "output_type": "execute_result"
    }
   ],
   "source": [
    "sims = glob(os.path.join(dataDirec,'*.pkl'))\n",
    "numSims = len(sims)\n",
    "idx = int(testSplit*numSims)\n",
    "testInds = np.linspace(1,numSims-2,idx).astype('int')\n",
    "trainInds = list(set(np.arange(0,numSims)).difference(set(testInds)))\n",
    "# perm = np.random.permutation(numSims)\n",
    "# testInds = perm[:idx]\n",
    "# trainInds = perm[idx:]\n",
    "testSimFiles = [sims[idx] for idx in testInds]\n",
    "trainSimFiles = [sims[idx] for idx in trainInds]\n",
    "len(testSimFiles), len(trainSimFiles)"
   ]
  },
  {
   "cell_type": "code",
   "execution_count": 10,
   "metadata": {
    "ExecuteTime": {
     "end_time": "2020-11-13T03:17:46.050550Z",
     "start_time": "2020-11-13T03:17:46.026305Z"
    }
   },
   "outputs": [],
   "source": [
    "class CCSI_2D_one_of_each_getitem(Dataset):\n",
    "    def __init__(self, \n",
    "                 dataFiles,\n",
    "                 txtFile = '/data/ccsi/pnnl_liquid_inlet/liquid_inlet_velocity.txt',\n",
    "                 channel=1,\n",
    "                 gridSize=128,\n",
    "                 simLen = 500,\n",
    "                 w = 10, # this is the length of the Y output to predict\n",
    "                 AE = False, # this only return x,x, i.e. no y.\n",
    "                 numToKeep=np.infty,doPreprocess=False): \n",
    "        \n",
    "        self.dataFiles = dataFiles\n",
    "        if numToKeep < len(self.dataFiles):\n",
    "            self.dataFiles = self.dataFiles[:numToKeep]\n",
    "\n",
    "        self.channel = channel\n",
    "        self.gridSize = gridSize\n",
    "        self.numToKeep = numToKeep\n",
    "        self.simLen = simLen\n",
    "        self.t = np.linspace(0,1,simLen).astype('float32')\n",
    "        self.w = w\n",
    "        self.AE = AE\n",
    "        self.doPreprocess = doPreprocess\n",
    "        \n",
    "        # Get the inlet velocity\n",
    "        with open(txtFile) as fid:\n",
    "            txt = fid.read().splitlines()\n",
    "        inletVelocity = np.array(list(map(float,txt[1:]))).astype('float32')\n",
    "        self.inletMx = np.max(inletVelocity)\n",
    "        self.inletMn = np.min(inletVelocity)\n",
    "        \n",
    "        data = []\n",
    "        for fn in self.dataFiles:\n",
    "            idx = int(fn.split('/')[-1].replace('.pkl','')) - 1\n",
    "            D = pkl_load(fn)\n",
    "            data.append((D,inletVelocity[idx]))\n",
    "               \n",
    "        self.data = data\n",
    "    \n",
    "    def __len__(self):\n",
    "        return len(self.simLen*self.data)\n",
    "\n",
    "\n",
    "    def __getitem__(self, idx):\n",
    "        q,r = np.divmod(idx,self.simLen)\n",
    "        r_idx = r\n",
    "            \n",
    "        X,p = self.data[q]\n",
    "        x = X[r_idx:r_idx+1]\n",
    "        #print(x.shape)\n",
    "        y = X[r_idx+1:r_idx+self.w+1]\n",
    "        #print(y.shape)\n",
    "        if self.doPreprocess:\n",
    "            x = self.preprocessFcn(x)\n",
    "            y = self.preprocessFcn(y)\n",
    "        \n",
    "        y = np.expand_dims(y,1)\n",
    "        p_x = np.hstack([p,self.t[r_idx]])\n",
    "        p_y = np.vstack([p*np.ones((self.w,)),self.t[r_idx+1:r_idx+self.w+1]]).T\n",
    "        X = x.astype('float32')\n",
    "        Y = y.astype('float32')\n",
    "        if self.AE:\n",
    "            return X,X # this allows LR_finder to work\n",
    "        else:\n",
    "            return X, Y, p_x, p_y"
   ]
  },
  {
   "cell_type": "code",
   "execution_count": 11,
   "metadata": {
    "ExecuteTime": {
     "end_time": "2020-11-13T03:17:46.955906Z",
     "start_time": "2020-11-13T03:17:46.053277Z"
    }
   },
   "outputs": [
    {
     "data": {
      "text/plain": [
       "(20000, 5000)"
      ]
     },
     "execution_count": 11,
     "metadata": {},
     "output_type": "execute_result"
    }
   ],
   "source": [
    "testDataset = CCSI_2D_one_of_each_getitem(testSimFiles,doPreprocess=preprocess,\n",
    "                                          numToKeep=numSamplesToKeep,channel=channel,w=0,AE=False)\n",
    "trainDataset = CCSI_2D_one_of_each_getitem(trainSimFiles,doPreprocess=preprocess,\n",
    "                                           numToKeep=numSamplesToKeep,channel=channel,w=0,AE=False)\n",
    "len(trainDataset),len(testDataset)"
   ]
  },
  {
   "cell_type": "code",
   "execution_count": 12,
   "metadata": {
    "ExecuteTime": {
     "end_time": "2020-11-13T03:17:48.934679Z",
     "start_time": "2020-11-13T03:17:46.957670Z"
    }
   },
   "outputs": [
    {
     "name": "stdout",
     "output_type": "stream",
     "text": [
      "dict_keys(['spatialVecs', 'S', 'timeVecs_transpose'])\n",
      "(16384, 1024)\n"
     ]
    }
   ],
   "source": [
    "svd_data = pkl_load(SVDFn)\n",
    "print(svd_data.keys())\n",
    "\n",
    "svd_vecs = svd_data['spatialVecs'][:,:numComponents]\n",
    "print(svd_vecs.shape)"
   ]
  },
  {
   "cell_type": "code",
   "execution_count": 13,
   "metadata": {
    "ExecuteTime": {
     "end_time": "2020-11-13T03:17:48.982528Z",
     "start_time": "2020-11-13T03:17:48.938786Z"
    }
   },
   "outputs": [],
   "source": [
    "class SVD_Encoder(nn.Module):\n",
    "    def __init__(self, U):\n",
    "        super(SVD_Encoder,self).__init__()\n",
    "        self.U = U\n",
    "\n",
    "    def forward(self, frames):\n",
    "        # u is from u,s,vh = svd(data)\n",
    "        # frames = batch_size x channels x height x width\n",
    "        assert len(frames.shape)==4\n",
    "        x = frames.reshape(len(frames), -1)\n",
    "        coeffs = x.matmul(self.U)\n",
    "        # coeffs is now batch_size x numComp\n",
    "        return coeffs    \n",
    "    \n",
    "class SVD_Decoder(nn.Module):\n",
    "    def __init__(self, U):\n",
    "        super(SVD_Decoder,self).__init__()\n",
    "        self.U = U\n",
    "\n",
    "    def forward(self, coeffs, orig_shape):\n",
    "        # coeffs is now batch_size x numComp\n",
    "        R = self.U.matmul(coeffs.T)\n",
    "        R = R.T.reshape(orig_shape)\n",
    "        return R\n",
    "    \n",
    "class SVD_Autoencoder(nn.Module):\n",
    "\n",
    "    def __init__(self, svd_vectors, latentDim, allow_updates_to_U):\n",
    "        super(SVD_Autoencoder,self).__init__()\n",
    "        self.U = nn.Parameter(torch.tensor(svd_vectors[:,:latentDim]), requires_grad = allow_updates_to_U)\n",
    "        self.encoder=SVD_Encoder(self.U)\n",
    "        self.decoder=SVD_Decoder(self.U)\n",
    "        \n",
    "    def forward(self, frames):\n",
    "        return self.decoder(self.encoder(frames))\n",
    "\n",
    "SVD_autoencoder = SVD_Autoencoder(svd_vecs, numComponents, False).to(device)"
   ]
  },
  {
   "cell_type": "code",
   "execution_count": 45,
   "metadata": {
    "ExecuteTime": {
     "end_time": "2020-11-13T03:27:57.414777Z",
     "start_time": "2020-11-13T03:27:52.742985Z"
    }
   },
   "outputs": [
    {
     "name": "stdout",
     "output_type": "stream",
     "text": [
      "torch.Size([500, 1, 128, 128]) torch.Size([500, 0, 1, 128, 128]) torch.Size([500, 2]) torch.Size([500, 0, 2])\n",
      "num_sims 40\n",
      "torch.Size([500, 1, 128, 128]) torch.Size([500, 0, 1, 128, 128]) torch.Size([500, 2]) torch.Size([500, 0, 2])\n",
      "num_sims 10\n"
     ]
    }
   ],
   "source": [
    "def createSVDdataset(Dataset):\n",
    "\n",
    "    # datasets may be smaller because: numSamplesToKeep \n",
    "    # Be careful the default is for the data to be preprocessed. Therefore, we have to invPrecprocess if \n",
    "    # we are looking at relative errors. \n",
    "    loader = DataLoader(dataset=Dataset, batch_size=simLen, shuffle=False, num_workers=4)\n",
    "    X, Y, p_x, p_y = next(iter(loader))\n",
    "    print(X.shape, Y.shape, p_x.shape, p_y.shape)\n",
    "    z = []\n",
    "    p = []\n",
    "    for batch in loader:\n",
    "        X, Y, p_x, p_y = batch\n",
    "        z.append(SVD_autoencoder.encoder(X.to(device)).cpu().numpy())\n",
    "        p.append(p_x.cpu())\n",
    "        \n",
    "    z = np.array(z).reshape(-1, numComponents)\n",
    "    p = torch.stack(p).reshape(-1, p_x.size(1))\n",
    "    \n",
    "\n",
    "    v = np.arange(0, len(z), simLen)\n",
    "\n",
    "    sims = []\n",
    "    for idx in v:\n",
    "        sims.append((z[idx:idx+simLen],p[idx:idx+simLen]))\n",
    "    sims = np.array(sims)\n",
    "    print('num_sims {}'.format(len(sims)))\n",
    "    return sims\n",
    "\n",
    "train_data = createSVDdataset(trainDataset)\n",
    "test_data = createSVDdataset(testDataset)"
   ]
  },
  {
   "cell_type": "code",
   "execution_count": 46,
   "metadata": {
    "ExecuteTime": {
     "end_time": "2020-11-13T03:27:57.422257Z",
     "start_time": "2020-11-13T03:27:57.417304Z"
    }
   },
   "outputs": [
    {
     "data": {
      "text/plain": [
       "((500, 1024), torch.Size([500, 2]))"
      ]
     },
     "execution_count": 46,
     "metadata": {},
     "output_type": "execute_result"
    }
   ],
   "source": [
    "train_data[0][0].shape, train_data[0][1].shape"
   ]
  },
  {
   "cell_type": "code",
   "execution_count": 47,
   "metadata": {
    "ExecuteTime": {
     "end_time": "2020-11-13T03:27:57.428820Z",
     "start_time": "2020-11-13T03:27:57.424248Z"
    }
   },
   "outputs": [],
   "source": [
    "# reduce the dimensions of z down to the latentDim \n",
    "for idx,d in enumerate(train_data):\n",
    "    X = d[0][:,:latentDim]\n",
    "    p = d[1]\n",
    "    train_data[idx] = (X,p)\n",
    "    \n",
    "for idx,d in enumerate(test_data):\n",
    "    X = d[0][:,:latentDim]\n",
    "    p = d[1]\n",
    "    test_data[idx] = (X,p)"
   ]
  },
  {
   "cell_type": "code",
   "execution_count": 48,
   "metadata": {
    "ExecuteTime": {
     "end_time": "2020-11-13T03:28:02.214756Z",
     "start_time": "2020-11-13T03:28:02.183221Z"
    }
   },
   "outputs": [
    {
     "name": "stdout",
     "output_type": "stream",
     "text": [
      "tensor([[0.0031, 0.0000],\n",
      "        [0.0031, 0.0020],\n",
      "        [0.0031, 0.0040],\n",
      "        [0.0031, 0.0060],\n",
      "        [0.0031, 0.0080],\n",
      "        [0.0031, 0.0100],\n",
      "        [0.0031, 0.0120],\n",
      "        [0.0031, 0.0140],\n",
      "        [0.0031, 0.0160],\n",
      "        [0.0031, 0.0180],\n",
      "        [0.0031, 0.0200],\n",
      "        [0.0031, 0.0220],\n",
      "        [0.0031, 0.0240],\n",
      "        [0.0031, 0.0261],\n",
      "        [0.0031, 0.0281],\n",
      "        [0.0031, 0.0301],\n",
      "        [0.0031, 0.0321],\n",
      "        [0.0031, 0.0341],\n",
      "        [0.0031, 0.0361],\n",
      "        [0.0031, 0.0381],\n",
      "        [0.0031, 0.0401],\n",
      "        [0.0031, 0.0421],\n",
      "        [0.0031, 0.0441],\n",
      "        [0.0031, 0.0461],\n",
      "        [0.0031, 0.0481],\n",
      "        [0.0031, 0.0501],\n",
      "        [0.0031, 0.0521],\n",
      "        [0.0031, 0.0541],\n",
      "        [0.0031, 0.0561],\n",
      "        [0.0031, 0.0581],\n",
      "        [0.0031, 0.0601],\n",
      "        [0.0031, 0.0621],\n",
      "        [0.0031, 0.0641],\n",
      "        [0.0031, 0.0661],\n",
      "        [0.0031, 0.0681],\n",
      "        [0.0031, 0.0701],\n",
      "        [0.0031, 0.0721],\n",
      "        [0.0031, 0.0741],\n",
      "        [0.0031, 0.0762],\n",
      "        [0.0031, 0.0782],\n",
      "        [0.0031, 0.0802],\n",
      "        [0.0031, 0.0822],\n",
      "        [0.0031, 0.0842],\n",
      "        [0.0031, 0.0862],\n",
      "        [0.0031, 0.0882],\n",
      "        [0.0031, 0.0902],\n",
      "        [0.0031, 0.0922],\n",
      "        [0.0031, 0.0942],\n",
      "        [0.0031, 0.0962],\n",
      "        [0.0031, 0.0982],\n",
      "        [0.0031, 0.1002],\n",
      "        [0.0031, 0.1022],\n",
      "        [0.0031, 0.1042],\n",
      "        [0.0031, 0.1062],\n",
      "        [0.0031, 0.1082],\n",
      "        [0.0031, 0.1102],\n",
      "        [0.0031, 0.1122],\n",
      "        [0.0031, 0.1142],\n",
      "        [0.0031, 0.1162],\n",
      "        [0.0031, 0.1182],\n",
      "        [0.0031, 0.1202],\n",
      "        [0.0031, 0.1222],\n",
      "        [0.0031, 0.1242],\n",
      "        [0.0031, 0.1263],\n",
      "        [0.0031, 0.1283],\n",
      "        [0.0031, 0.1303],\n",
      "        [0.0031, 0.1323],\n",
      "        [0.0031, 0.1343],\n",
      "        [0.0031, 0.1363],\n",
      "        [0.0031, 0.1383],\n",
      "        [0.0031, 0.1403],\n",
      "        [0.0031, 0.1423],\n",
      "        [0.0031, 0.1443],\n",
      "        [0.0031, 0.1463],\n",
      "        [0.0031, 0.1483],\n",
      "        [0.0031, 0.1503],\n",
      "        [0.0031, 0.1523],\n",
      "        [0.0031, 0.1543],\n",
      "        [0.0031, 0.1563],\n",
      "        [0.0031, 0.1583],\n",
      "        [0.0031, 0.1603],\n",
      "        [0.0031, 0.1623],\n",
      "        [0.0031, 0.1643],\n",
      "        [0.0031, 0.1663],\n",
      "        [0.0031, 0.1683],\n",
      "        [0.0031, 0.1703],\n",
      "        [0.0031, 0.1723],\n",
      "        [0.0031, 0.1743],\n",
      "        [0.0031, 0.1764],\n",
      "        [0.0031, 0.1784],\n",
      "        [0.0031, 0.1804],\n",
      "        [0.0031, 0.1824],\n",
      "        [0.0031, 0.1844],\n",
      "        [0.0031, 0.1864],\n",
      "        [0.0031, 0.1884],\n",
      "        [0.0031, 0.1904],\n",
      "        [0.0031, 0.1924],\n",
      "        [0.0031, 0.1944],\n",
      "        [0.0031, 0.1964],\n",
      "        [0.0031, 0.1984],\n",
      "        [0.0031, 0.2004],\n",
      "        [0.0031, 0.2024],\n",
      "        [0.0031, 0.2044],\n",
      "        [0.0031, 0.2064],\n",
      "        [0.0031, 0.2084],\n",
      "        [0.0031, 0.2104],\n",
      "        [0.0031, 0.2124],\n",
      "        [0.0031, 0.2144],\n",
      "        [0.0031, 0.2164],\n",
      "        [0.0031, 0.2184],\n",
      "        [0.0031, 0.2204],\n",
      "        [0.0031, 0.2224],\n",
      "        [0.0031, 0.2244],\n",
      "        [0.0031, 0.2265],\n",
      "        [0.0031, 0.2285],\n",
      "        [0.0031, 0.2305],\n",
      "        [0.0031, 0.2325],\n",
      "        [0.0031, 0.2345],\n",
      "        [0.0031, 0.2365],\n",
      "        [0.0031, 0.2385],\n",
      "        [0.0031, 0.2405],\n",
      "        [0.0031, 0.2425],\n",
      "        [0.0031, 0.2445],\n",
      "        [0.0031, 0.2465],\n",
      "        [0.0031, 0.2485],\n",
      "        [0.0031, 0.2505],\n",
      "        [0.0031, 0.2525],\n",
      "        [0.0031, 0.2545],\n",
      "        [0.0031, 0.2565],\n",
      "        [0.0031, 0.2585],\n",
      "        [0.0031, 0.2605],\n",
      "        [0.0031, 0.2625],\n",
      "        [0.0031, 0.2645],\n",
      "        [0.0031, 0.2665],\n",
      "        [0.0031, 0.2685],\n",
      "        [0.0031, 0.2705],\n",
      "        [0.0031, 0.2725],\n",
      "        [0.0031, 0.2745],\n",
      "        [0.0031, 0.2766],\n",
      "        [0.0031, 0.2786],\n",
      "        [0.0031, 0.2806],\n",
      "        [0.0031, 0.2826],\n",
      "        [0.0031, 0.2846],\n",
      "        [0.0031, 0.2866],\n",
      "        [0.0031, 0.2886],\n",
      "        [0.0031, 0.2906],\n",
      "        [0.0031, 0.2926],\n",
      "        [0.0031, 0.2946],\n",
      "        [0.0031, 0.2966],\n",
      "        [0.0031, 0.2986],\n",
      "        [0.0031, 0.3006],\n",
      "        [0.0031, 0.3026],\n",
      "        [0.0031, 0.3046],\n",
      "        [0.0031, 0.3066],\n",
      "        [0.0031, 0.3086],\n",
      "        [0.0031, 0.3106],\n",
      "        [0.0031, 0.3126],\n",
      "        [0.0031, 0.3146],\n",
      "        [0.0031, 0.3166],\n",
      "        [0.0031, 0.3186],\n",
      "        [0.0031, 0.3206],\n",
      "        [0.0031, 0.3226],\n",
      "        [0.0031, 0.3246],\n",
      "        [0.0031, 0.3267],\n",
      "        [0.0031, 0.3287],\n",
      "        [0.0031, 0.3307],\n",
      "        [0.0031, 0.3327],\n",
      "        [0.0031, 0.3347],\n",
      "        [0.0031, 0.3367],\n",
      "        [0.0031, 0.3387],\n",
      "        [0.0031, 0.3407],\n",
      "        [0.0031, 0.3427],\n",
      "        [0.0031, 0.3447],\n",
      "        [0.0031, 0.3467],\n",
      "        [0.0031, 0.3487],\n",
      "        [0.0031, 0.3507],\n",
      "        [0.0031, 0.3527],\n",
      "        [0.0031, 0.3547],\n",
      "        [0.0031, 0.3567],\n",
      "        [0.0031, 0.3587],\n",
      "        [0.0031, 0.3607],\n",
      "        [0.0031, 0.3627],\n",
      "        [0.0031, 0.3647],\n",
      "        [0.0031, 0.3667],\n",
      "        [0.0031, 0.3687],\n",
      "        [0.0031, 0.3707],\n",
      "        [0.0031, 0.3727],\n",
      "        [0.0031, 0.3747],\n",
      "        [0.0031, 0.3768],\n",
      "        [0.0031, 0.3788],\n",
      "        [0.0031, 0.3808],\n",
      "        [0.0031, 0.3828],\n",
      "        [0.0031, 0.3848],\n",
      "        [0.0031, 0.3868],\n",
      "        [0.0031, 0.3888],\n",
      "        [0.0031, 0.3908],\n",
      "        [0.0031, 0.3928],\n",
      "        [0.0031, 0.3948],\n",
      "        [0.0031, 0.3968],\n",
      "        [0.0031, 0.3988],\n",
      "        [0.0031, 0.4008],\n",
      "        [0.0031, 0.4028],\n",
      "        [0.0031, 0.4048],\n",
      "        [0.0031, 0.4068],\n",
      "        [0.0031, 0.4088],\n",
      "        [0.0031, 0.4108],\n",
      "        [0.0031, 0.4128],\n",
      "        [0.0031, 0.4148],\n",
      "        [0.0031, 0.4168],\n",
      "        [0.0031, 0.4188],\n",
      "        [0.0031, 0.4208],\n",
      "        [0.0031, 0.4228],\n",
      "        [0.0031, 0.4248],\n",
      "        [0.0031, 0.4269],\n",
      "        [0.0031, 0.4289],\n",
      "        [0.0031, 0.4309],\n",
      "        [0.0031, 0.4329],\n",
      "        [0.0031, 0.4349],\n",
      "        [0.0031, 0.4369],\n",
      "        [0.0031, 0.4389],\n",
      "        [0.0031, 0.4409],\n",
      "        [0.0031, 0.4429],\n",
      "        [0.0031, 0.4449],\n",
      "        [0.0031, 0.4469],\n",
      "        [0.0031, 0.4489],\n",
      "        [0.0031, 0.4509],\n",
      "        [0.0031, 0.4529],\n",
      "        [0.0031, 0.4549],\n",
      "        [0.0031, 0.4569],\n",
      "        [0.0031, 0.4589],\n",
      "        [0.0031, 0.4609],\n",
      "        [0.0031, 0.4629],\n",
      "        [0.0031, 0.4649],\n",
      "        [0.0031, 0.4669],\n",
      "        [0.0031, 0.4689],\n",
      "        [0.0031, 0.4709],\n",
      "        [0.0031, 0.4729],\n",
      "        [0.0031, 0.4749],\n",
      "        [0.0031, 0.4770],\n",
      "        [0.0031, 0.4790],\n",
      "        [0.0031, 0.4810],\n",
      "        [0.0031, 0.4830],\n",
      "        [0.0031, 0.4850],\n",
      "        [0.0031, 0.4870],\n",
      "        [0.0031, 0.4890],\n",
      "        [0.0031, 0.4910],\n",
      "        [0.0031, 0.4930],\n",
      "        [0.0031, 0.4950],\n",
      "        [0.0031, 0.4970],\n",
      "        [0.0031, 0.4990],\n",
      "        [0.0031, 0.5010],\n",
      "        [0.0031, 0.5030],\n",
      "        [0.0031, 0.5050],\n",
      "        [0.0031, 0.5070],\n",
      "        [0.0031, 0.5090],\n",
      "        [0.0031, 0.5110],\n",
      "        [0.0031, 0.5130],\n",
      "        [0.0031, 0.5150],\n",
      "        [0.0031, 0.5170],\n",
      "        [0.0031, 0.5190],\n",
      "        [0.0031, 0.5210],\n",
      "        [0.0031, 0.5230],\n",
      "        [0.0031, 0.5251],\n",
      "        [0.0031, 0.5271],\n",
      "        [0.0031, 0.5291],\n",
      "        [0.0031, 0.5311],\n",
      "        [0.0031, 0.5331],\n",
      "        [0.0031, 0.5351],\n",
      "        [0.0031, 0.5371],\n",
      "        [0.0031, 0.5391],\n",
      "        [0.0031, 0.5411],\n",
      "        [0.0031, 0.5431],\n",
      "        [0.0031, 0.5451],\n",
      "        [0.0031, 0.5471],\n",
      "        [0.0031, 0.5491],\n",
      "        [0.0031, 0.5511],\n",
      "        [0.0031, 0.5531],\n",
      "        [0.0031, 0.5551],\n",
      "        [0.0031, 0.5571],\n",
      "        [0.0031, 0.5591],\n",
      "        [0.0031, 0.5611],\n",
      "        [0.0031, 0.5631],\n",
      "        [0.0031, 0.5651],\n",
      "        [0.0031, 0.5671],\n",
      "        [0.0031, 0.5691],\n",
      "        [0.0031, 0.5711],\n",
      "        [0.0031, 0.5731],\n",
      "        [0.0031, 0.5752],\n",
      "        [0.0031, 0.5772],\n",
      "        [0.0031, 0.5792],\n",
      "        [0.0031, 0.5812],\n",
      "        [0.0031, 0.5832],\n",
      "        [0.0031, 0.5852],\n",
      "        [0.0031, 0.5872],\n",
      "        [0.0031, 0.5892],\n",
      "        [0.0031, 0.5912],\n",
      "        [0.0031, 0.5932],\n",
      "        [0.0031, 0.5952],\n",
      "        [0.0031, 0.5972],\n",
      "        [0.0031, 0.5992],\n",
      "        [0.0031, 0.6012],\n",
      "        [0.0031, 0.6032],\n",
      "        [0.0031, 0.6052],\n",
      "        [0.0031, 0.6072],\n",
      "        [0.0031, 0.6092],\n",
      "        [0.0031, 0.6112],\n",
      "        [0.0031, 0.6132],\n",
      "        [0.0031, 0.6152],\n",
      "        [0.0031, 0.6172],\n",
      "        [0.0031, 0.6192],\n",
      "        [0.0031, 0.6212],\n",
      "        [0.0031, 0.6232],\n",
      "        [0.0031, 0.6253],\n",
      "        [0.0031, 0.6273],\n",
      "        [0.0031, 0.6293],\n",
      "        [0.0031, 0.6313],\n",
      "        [0.0031, 0.6333],\n",
      "        [0.0031, 0.6353],\n",
      "        [0.0031, 0.6373],\n",
      "        [0.0031, 0.6393],\n",
      "        [0.0031, 0.6413],\n",
      "        [0.0031, 0.6433],\n",
      "        [0.0031, 0.6453],\n",
      "        [0.0031, 0.6473],\n",
      "        [0.0031, 0.6493],\n",
      "        [0.0031, 0.6513],\n",
      "        [0.0031, 0.6533],\n",
      "        [0.0031, 0.6553],\n",
      "        [0.0031, 0.6573],\n",
      "        [0.0031, 0.6593],\n",
      "        [0.0031, 0.6613],\n",
      "        [0.0031, 0.6633],\n",
      "        [0.0031, 0.6653],\n",
      "        [0.0031, 0.6673],\n",
      "        [0.0031, 0.6693],\n",
      "        [0.0031, 0.6713],\n",
      "        [0.0031, 0.6733],\n",
      "        [0.0031, 0.6754],\n",
      "        [0.0031, 0.6774],\n",
      "        [0.0031, 0.6794],\n",
      "        [0.0031, 0.6814],\n",
      "        [0.0031, 0.6834],\n",
      "        [0.0031, 0.6854],\n",
      "        [0.0031, 0.6874],\n",
      "        [0.0031, 0.6894],\n",
      "        [0.0031, 0.6914],\n",
      "        [0.0031, 0.6934],\n",
      "        [0.0031, 0.6954],\n",
      "        [0.0031, 0.6974],\n",
      "        [0.0031, 0.6994],\n",
      "        [0.0031, 0.7014],\n",
      "        [0.0031, 0.7034],\n",
      "        [0.0031, 0.7054],\n",
      "        [0.0031, 0.7074],\n",
      "        [0.0031, 0.7094],\n",
      "        [0.0031, 0.7114],\n",
      "        [0.0031, 0.7134],\n",
      "        [0.0031, 0.7154],\n",
      "        [0.0031, 0.7174],\n",
      "        [0.0031, 0.7194],\n",
      "        [0.0031, 0.7214],\n",
      "        [0.0031, 0.7234],\n",
      "        [0.0031, 0.7255],\n",
      "        [0.0031, 0.7275],\n",
      "        [0.0031, 0.7295],\n",
      "        [0.0031, 0.7315],\n",
      "        [0.0031, 0.7335],\n",
      "        [0.0031, 0.7355],\n",
      "        [0.0031, 0.7375],\n",
      "        [0.0031, 0.7395],\n",
      "        [0.0031, 0.7415],\n",
      "        [0.0031, 0.7435],\n",
      "        [0.0031, 0.7455],\n",
      "        [0.0031, 0.7475],\n",
      "        [0.0031, 0.7495],\n",
      "        [0.0031, 0.7515],\n",
      "        [0.0031, 0.7535],\n",
      "        [0.0031, 0.7555],\n",
      "        [0.0031, 0.7575],\n",
      "        [0.0031, 0.7595],\n",
      "        [0.0031, 0.7615],\n",
      "        [0.0031, 0.7635],\n",
      "        [0.0031, 0.7655],\n",
      "        [0.0031, 0.7675],\n",
      "        [0.0031, 0.7695],\n",
      "        [0.0031, 0.7715],\n",
      "        [0.0031, 0.7735],\n",
      "        [0.0031, 0.7756],\n",
      "        [0.0031, 0.7776],\n",
      "        [0.0031, 0.7796],\n",
      "        [0.0031, 0.7816],\n",
      "        [0.0031, 0.7836],\n",
      "        [0.0031, 0.7856],\n",
      "        [0.0031, 0.7876],\n",
      "        [0.0031, 0.7896],\n",
      "        [0.0031, 0.7916],\n",
      "        [0.0031, 0.7936],\n",
      "        [0.0031, 0.7956],\n",
      "        [0.0031, 0.7976],\n",
      "        [0.0031, 0.7996],\n",
      "        [0.0031, 0.8016],\n",
      "        [0.0031, 0.8036],\n",
      "        [0.0031, 0.8056],\n",
      "        [0.0031, 0.8076],\n",
      "        [0.0031, 0.8096],\n",
      "        [0.0031, 0.8116],\n",
      "        [0.0031, 0.8136],\n",
      "        [0.0031, 0.8156],\n",
      "        [0.0031, 0.8176],\n",
      "        [0.0031, 0.8196],\n",
      "        [0.0031, 0.8216],\n",
      "        [0.0031, 0.8236],\n",
      "        [0.0031, 0.8257],\n",
      "        [0.0031, 0.8277],\n",
      "        [0.0031, 0.8297],\n",
      "        [0.0031, 0.8317],\n",
      "        [0.0031, 0.8337],\n",
      "        [0.0031, 0.8357],\n",
      "        [0.0031, 0.8377],\n",
      "        [0.0031, 0.8397],\n",
      "        [0.0031, 0.8417],\n",
      "        [0.0031, 0.8437],\n",
      "        [0.0031, 0.8457],\n",
      "        [0.0031, 0.8477],\n",
      "        [0.0031, 0.8497],\n",
      "        [0.0031, 0.8517],\n",
      "        [0.0031, 0.8537],\n",
      "        [0.0031, 0.8557],\n",
      "        [0.0031, 0.8577],\n",
      "        [0.0031, 0.8597],\n",
      "        [0.0031, 0.8617],\n",
      "        [0.0031, 0.8637],\n",
      "        [0.0031, 0.8657],\n",
      "        [0.0031, 0.8677],\n",
      "        [0.0031, 0.8697],\n",
      "        [0.0031, 0.8717],\n",
      "        [0.0031, 0.8737],\n",
      "        [0.0031, 0.8758],\n",
      "        [0.0031, 0.8778],\n",
      "        [0.0031, 0.8798],\n",
      "        [0.0031, 0.8818],\n",
      "        [0.0031, 0.8838],\n",
      "        [0.0031, 0.8858],\n",
      "        [0.0031, 0.8878],\n",
      "        [0.0031, 0.8898],\n",
      "        [0.0031, 0.8918],\n",
      "        [0.0031, 0.8938],\n",
      "        [0.0031, 0.8958],\n",
      "        [0.0031, 0.8978],\n",
      "        [0.0031, 0.8998],\n",
      "        [0.0031, 0.9018],\n",
      "        [0.0031, 0.9038],\n",
      "        [0.0031, 0.9058],\n",
      "        [0.0031, 0.9078],\n",
      "        [0.0031, 0.9098],\n",
      "        [0.0031, 0.9118],\n",
      "        [0.0031, 0.9138],\n",
      "        [0.0031, 0.9158],\n",
      "        [0.0031, 0.9178],\n",
      "        [0.0031, 0.9198],\n",
      "        [0.0031, 0.9218],\n",
      "        [0.0031, 0.9238],\n",
      "        [0.0031, 0.9259],\n",
      "        [0.0031, 0.9279],\n",
      "        [0.0031, 0.9299],\n",
      "        [0.0031, 0.9319],\n",
      "        [0.0031, 0.9339],\n",
      "        [0.0031, 0.9359],\n",
      "        [0.0031, 0.9379],\n",
      "        [0.0031, 0.9399],\n",
      "        [0.0031, 0.9419],\n",
      "        [0.0031, 0.9439],\n",
      "        [0.0031, 0.9459],\n",
      "        [0.0031, 0.9479],\n",
      "        [0.0031, 0.9499],\n",
      "        [0.0031, 0.9519],\n",
      "        [0.0031, 0.9539],\n",
      "        [0.0031, 0.9559],\n",
      "        [0.0031, 0.9579],\n",
      "        [0.0031, 0.9599],\n",
      "        [0.0031, 0.9619],\n",
      "        [0.0031, 0.9639],\n",
      "        [0.0031, 0.9659],\n",
      "        [0.0031, 0.9679],\n",
      "        [0.0031, 0.9699],\n",
      "        [0.0031, 0.9719],\n",
      "        [0.0031, 0.9739],\n",
      "        [0.0031, 0.9760],\n",
      "        [0.0031, 0.9780],\n",
      "        [0.0031, 0.9800],\n",
      "        [0.0031, 0.9820],\n",
      "        [0.0031, 0.9840],\n",
      "        [0.0031, 0.9860],\n",
      "        [0.0031, 0.9880],\n",
      "        [0.0031, 0.9900],\n",
      "        [0.0031, 0.9920],\n",
      "        [0.0031, 0.9940],\n",
      "        [0.0031, 0.9960],\n",
      "        [0.0031, 0.9980],\n",
      "        [0.0031, 1.0000]])\n"
     ]
    }
   ],
   "source": [
    "print(train_data[0][1])"
   ]
  },
  {
   "cell_type": "code",
   "execution_count": 49,
   "metadata": {
    "ExecuteTime": {
     "end_time": "2020-11-13T03:28:03.542716Z",
     "start_time": "2020-11-13T03:28:03.513555Z"
    }
   },
   "outputs": [
    {
     "name": "stdout",
     "output_type": "stream",
     "text": [
      "tensor([[0.0100, 0.0000],\n",
      "        [0.0100, 0.0020],\n",
      "        [0.0100, 0.0040],\n",
      "        [0.0100, 0.0060],\n",
      "        [0.0100, 0.0080],\n",
      "        [0.0100, 0.0100],\n",
      "        [0.0100, 0.0120],\n",
      "        [0.0100, 0.0140],\n",
      "        [0.0100, 0.0160],\n",
      "        [0.0100, 0.0180],\n",
      "        [0.0100, 0.0200],\n",
      "        [0.0100, 0.0220],\n",
      "        [0.0100, 0.0240],\n",
      "        [0.0100, 0.0261],\n",
      "        [0.0100, 0.0281],\n",
      "        [0.0100, 0.0301],\n",
      "        [0.0100, 0.0321],\n",
      "        [0.0100, 0.0341],\n",
      "        [0.0100, 0.0361],\n",
      "        [0.0100, 0.0381],\n",
      "        [0.0100, 0.0401],\n",
      "        [0.0100, 0.0421],\n",
      "        [0.0100, 0.0441],\n",
      "        [0.0100, 0.0461],\n",
      "        [0.0100, 0.0481],\n",
      "        [0.0100, 0.0501],\n",
      "        [0.0100, 0.0521],\n",
      "        [0.0100, 0.0541],\n",
      "        [0.0100, 0.0561],\n",
      "        [0.0100, 0.0581],\n",
      "        [0.0100, 0.0601],\n",
      "        [0.0100, 0.0621],\n",
      "        [0.0100, 0.0641],\n",
      "        [0.0100, 0.0661],\n",
      "        [0.0100, 0.0681],\n",
      "        [0.0100, 0.0701],\n",
      "        [0.0100, 0.0721],\n",
      "        [0.0100, 0.0741],\n",
      "        [0.0100, 0.0762],\n",
      "        [0.0100, 0.0782],\n",
      "        [0.0100, 0.0802],\n",
      "        [0.0100, 0.0822],\n",
      "        [0.0100, 0.0842],\n",
      "        [0.0100, 0.0862],\n",
      "        [0.0100, 0.0882],\n",
      "        [0.0100, 0.0902],\n",
      "        [0.0100, 0.0922],\n",
      "        [0.0100, 0.0942],\n",
      "        [0.0100, 0.0962],\n",
      "        [0.0100, 0.0982],\n",
      "        [0.0100, 0.1002],\n",
      "        [0.0100, 0.1022],\n",
      "        [0.0100, 0.1042],\n",
      "        [0.0100, 0.1062],\n",
      "        [0.0100, 0.1082],\n",
      "        [0.0100, 0.1102],\n",
      "        [0.0100, 0.1122],\n",
      "        [0.0100, 0.1142],\n",
      "        [0.0100, 0.1162],\n",
      "        [0.0100, 0.1182],\n",
      "        [0.0100, 0.1202],\n",
      "        [0.0100, 0.1222],\n",
      "        [0.0100, 0.1242],\n",
      "        [0.0100, 0.1263],\n",
      "        [0.0100, 0.1283],\n",
      "        [0.0100, 0.1303],\n",
      "        [0.0100, 0.1323],\n",
      "        [0.0100, 0.1343],\n",
      "        [0.0100, 0.1363],\n",
      "        [0.0100, 0.1383],\n",
      "        [0.0100, 0.1403],\n",
      "        [0.0100, 0.1423],\n",
      "        [0.0100, 0.1443],\n",
      "        [0.0100, 0.1463],\n",
      "        [0.0100, 0.1483],\n",
      "        [0.0100, 0.1503],\n",
      "        [0.0100, 0.1523],\n",
      "        [0.0100, 0.1543],\n",
      "        [0.0100, 0.1563],\n",
      "        [0.0100, 0.1583],\n",
      "        [0.0100, 0.1603],\n",
      "        [0.0100, 0.1623],\n",
      "        [0.0100, 0.1643],\n",
      "        [0.0100, 0.1663],\n",
      "        [0.0100, 0.1683],\n",
      "        [0.0100, 0.1703],\n",
      "        [0.0100, 0.1723],\n",
      "        [0.0100, 0.1743],\n",
      "        [0.0100, 0.1764],\n",
      "        [0.0100, 0.1784],\n",
      "        [0.0100, 0.1804],\n",
      "        [0.0100, 0.1824],\n",
      "        [0.0100, 0.1844],\n",
      "        [0.0100, 0.1864],\n",
      "        [0.0100, 0.1884],\n",
      "        [0.0100, 0.1904],\n",
      "        [0.0100, 0.1924],\n",
      "        [0.0100, 0.1944],\n",
      "        [0.0100, 0.1964],\n",
      "        [0.0100, 0.1984],\n",
      "        [0.0100, 0.2004],\n",
      "        [0.0100, 0.2024],\n",
      "        [0.0100, 0.2044],\n",
      "        [0.0100, 0.2064],\n",
      "        [0.0100, 0.2084],\n",
      "        [0.0100, 0.2104],\n",
      "        [0.0100, 0.2124],\n",
      "        [0.0100, 0.2144],\n",
      "        [0.0100, 0.2164],\n",
      "        [0.0100, 0.2184],\n",
      "        [0.0100, 0.2204],\n",
      "        [0.0100, 0.2224],\n",
      "        [0.0100, 0.2244],\n",
      "        [0.0100, 0.2265],\n",
      "        [0.0100, 0.2285],\n",
      "        [0.0100, 0.2305],\n",
      "        [0.0100, 0.2325],\n",
      "        [0.0100, 0.2345],\n",
      "        [0.0100, 0.2365],\n",
      "        [0.0100, 0.2385],\n",
      "        [0.0100, 0.2405],\n",
      "        [0.0100, 0.2425],\n",
      "        [0.0100, 0.2445],\n",
      "        [0.0100, 0.2465],\n",
      "        [0.0100, 0.2485],\n",
      "        [0.0100, 0.2505],\n",
      "        [0.0100, 0.2525],\n",
      "        [0.0100, 0.2545],\n",
      "        [0.0100, 0.2565],\n",
      "        [0.0100, 0.2585],\n",
      "        [0.0100, 0.2605],\n",
      "        [0.0100, 0.2625],\n",
      "        [0.0100, 0.2645],\n",
      "        [0.0100, 0.2665],\n",
      "        [0.0100, 0.2685],\n",
      "        [0.0100, 0.2705],\n",
      "        [0.0100, 0.2725],\n",
      "        [0.0100, 0.2745],\n",
      "        [0.0100, 0.2766],\n",
      "        [0.0100, 0.2786],\n",
      "        [0.0100, 0.2806],\n",
      "        [0.0100, 0.2826],\n",
      "        [0.0100, 0.2846],\n",
      "        [0.0100, 0.2866],\n",
      "        [0.0100, 0.2886],\n",
      "        [0.0100, 0.2906],\n",
      "        [0.0100, 0.2926],\n",
      "        [0.0100, 0.2946],\n",
      "        [0.0100, 0.2966],\n",
      "        [0.0100, 0.2986],\n",
      "        [0.0100, 0.3006],\n",
      "        [0.0100, 0.3026],\n",
      "        [0.0100, 0.3046],\n",
      "        [0.0100, 0.3066],\n",
      "        [0.0100, 0.3086],\n",
      "        [0.0100, 0.3106],\n",
      "        [0.0100, 0.3126],\n",
      "        [0.0100, 0.3146],\n",
      "        [0.0100, 0.3166],\n",
      "        [0.0100, 0.3186],\n",
      "        [0.0100, 0.3206],\n",
      "        [0.0100, 0.3226],\n",
      "        [0.0100, 0.3246],\n",
      "        [0.0100, 0.3267],\n",
      "        [0.0100, 0.3287],\n",
      "        [0.0100, 0.3307],\n",
      "        [0.0100, 0.3327],\n",
      "        [0.0100, 0.3347],\n",
      "        [0.0100, 0.3367],\n",
      "        [0.0100, 0.3387],\n",
      "        [0.0100, 0.3407],\n",
      "        [0.0100, 0.3427],\n",
      "        [0.0100, 0.3447],\n",
      "        [0.0100, 0.3467],\n",
      "        [0.0100, 0.3487],\n",
      "        [0.0100, 0.3507],\n",
      "        [0.0100, 0.3527],\n",
      "        [0.0100, 0.3547],\n",
      "        [0.0100, 0.3567],\n",
      "        [0.0100, 0.3587],\n",
      "        [0.0100, 0.3607],\n",
      "        [0.0100, 0.3627],\n",
      "        [0.0100, 0.3647],\n",
      "        [0.0100, 0.3667],\n",
      "        [0.0100, 0.3687],\n",
      "        [0.0100, 0.3707],\n",
      "        [0.0100, 0.3727],\n",
      "        [0.0100, 0.3747],\n",
      "        [0.0100, 0.3768],\n",
      "        [0.0100, 0.3788],\n",
      "        [0.0100, 0.3808],\n",
      "        [0.0100, 0.3828],\n",
      "        [0.0100, 0.3848],\n",
      "        [0.0100, 0.3868],\n",
      "        [0.0100, 0.3888],\n",
      "        [0.0100, 0.3908],\n",
      "        [0.0100, 0.3928],\n",
      "        [0.0100, 0.3948],\n",
      "        [0.0100, 0.3968],\n",
      "        [0.0100, 0.3988],\n",
      "        [0.0100, 0.4008],\n",
      "        [0.0100, 0.4028],\n",
      "        [0.0100, 0.4048],\n",
      "        [0.0100, 0.4068],\n",
      "        [0.0100, 0.4088],\n",
      "        [0.0100, 0.4108],\n",
      "        [0.0100, 0.4128],\n",
      "        [0.0100, 0.4148],\n",
      "        [0.0100, 0.4168],\n",
      "        [0.0100, 0.4188],\n",
      "        [0.0100, 0.4208],\n",
      "        [0.0100, 0.4228],\n",
      "        [0.0100, 0.4248],\n",
      "        [0.0100, 0.4269],\n",
      "        [0.0100, 0.4289],\n",
      "        [0.0100, 0.4309],\n",
      "        [0.0100, 0.4329],\n",
      "        [0.0100, 0.4349],\n",
      "        [0.0100, 0.4369],\n",
      "        [0.0100, 0.4389],\n",
      "        [0.0100, 0.4409],\n",
      "        [0.0100, 0.4429],\n",
      "        [0.0100, 0.4449],\n",
      "        [0.0100, 0.4469],\n",
      "        [0.0100, 0.4489],\n",
      "        [0.0100, 0.4509],\n",
      "        [0.0100, 0.4529],\n",
      "        [0.0100, 0.4549],\n",
      "        [0.0100, 0.4569],\n",
      "        [0.0100, 0.4589],\n",
      "        [0.0100, 0.4609],\n",
      "        [0.0100, 0.4629],\n",
      "        [0.0100, 0.4649],\n",
      "        [0.0100, 0.4669],\n",
      "        [0.0100, 0.4689],\n",
      "        [0.0100, 0.4709],\n",
      "        [0.0100, 0.4729],\n",
      "        [0.0100, 0.4749],\n",
      "        [0.0100, 0.4770],\n",
      "        [0.0100, 0.4790],\n",
      "        [0.0100, 0.4810],\n",
      "        [0.0100, 0.4830],\n",
      "        [0.0100, 0.4850],\n",
      "        [0.0100, 0.4870],\n",
      "        [0.0100, 0.4890],\n",
      "        [0.0100, 0.4910],\n",
      "        [0.0100, 0.4930],\n",
      "        [0.0100, 0.4950],\n",
      "        [0.0100, 0.4970],\n",
      "        [0.0100, 0.4990],\n",
      "        [0.0100, 0.5010],\n",
      "        [0.0100, 0.5030],\n",
      "        [0.0100, 0.5050],\n",
      "        [0.0100, 0.5070],\n",
      "        [0.0100, 0.5090],\n",
      "        [0.0100, 0.5110],\n",
      "        [0.0100, 0.5130],\n",
      "        [0.0100, 0.5150],\n",
      "        [0.0100, 0.5170],\n",
      "        [0.0100, 0.5190],\n",
      "        [0.0100, 0.5210],\n",
      "        [0.0100, 0.5230],\n",
      "        [0.0100, 0.5251],\n",
      "        [0.0100, 0.5271],\n",
      "        [0.0100, 0.5291],\n",
      "        [0.0100, 0.5311],\n",
      "        [0.0100, 0.5331],\n",
      "        [0.0100, 0.5351],\n",
      "        [0.0100, 0.5371],\n",
      "        [0.0100, 0.5391],\n",
      "        [0.0100, 0.5411],\n",
      "        [0.0100, 0.5431],\n",
      "        [0.0100, 0.5451],\n",
      "        [0.0100, 0.5471],\n",
      "        [0.0100, 0.5491],\n",
      "        [0.0100, 0.5511],\n",
      "        [0.0100, 0.5531],\n",
      "        [0.0100, 0.5551],\n",
      "        [0.0100, 0.5571],\n",
      "        [0.0100, 0.5591],\n",
      "        [0.0100, 0.5611],\n",
      "        [0.0100, 0.5631],\n",
      "        [0.0100, 0.5651],\n",
      "        [0.0100, 0.5671],\n",
      "        [0.0100, 0.5691],\n",
      "        [0.0100, 0.5711],\n",
      "        [0.0100, 0.5731],\n",
      "        [0.0100, 0.5752],\n",
      "        [0.0100, 0.5772],\n",
      "        [0.0100, 0.5792],\n",
      "        [0.0100, 0.5812],\n",
      "        [0.0100, 0.5832],\n",
      "        [0.0100, 0.5852],\n",
      "        [0.0100, 0.5872],\n",
      "        [0.0100, 0.5892],\n",
      "        [0.0100, 0.5912],\n",
      "        [0.0100, 0.5932],\n",
      "        [0.0100, 0.5952],\n",
      "        [0.0100, 0.5972],\n",
      "        [0.0100, 0.5992],\n",
      "        [0.0100, 0.6012],\n",
      "        [0.0100, 0.6032],\n",
      "        [0.0100, 0.6052],\n",
      "        [0.0100, 0.6072],\n",
      "        [0.0100, 0.6092],\n",
      "        [0.0100, 0.6112],\n",
      "        [0.0100, 0.6132],\n",
      "        [0.0100, 0.6152],\n",
      "        [0.0100, 0.6172],\n",
      "        [0.0100, 0.6192],\n",
      "        [0.0100, 0.6212],\n",
      "        [0.0100, 0.6232],\n",
      "        [0.0100, 0.6253],\n",
      "        [0.0100, 0.6273],\n",
      "        [0.0100, 0.6293],\n",
      "        [0.0100, 0.6313],\n",
      "        [0.0100, 0.6333],\n",
      "        [0.0100, 0.6353],\n",
      "        [0.0100, 0.6373],\n",
      "        [0.0100, 0.6393],\n",
      "        [0.0100, 0.6413],\n",
      "        [0.0100, 0.6433],\n",
      "        [0.0100, 0.6453],\n",
      "        [0.0100, 0.6473],\n",
      "        [0.0100, 0.6493],\n",
      "        [0.0100, 0.6513],\n",
      "        [0.0100, 0.6533],\n",
      "        [0.0100, 0.6553],\n",
      "        [0.0100, 0.6573],\n",
      "        [0.0100, 0.6593],\n",
      "        [0.0100, 0.6613],\n",
      "        [0.0100, 0.6633],\n",
      "        [0.0100, 0.6653],\n",
      "        [0.0100, 0.6673],\n",
      "        [0.0100, 0.6693],\n",
      "        [0.0100, 0.6713],\n",
      "        [0.0100, 0.6733],\n",
      "        [0.0100, 0.6754],\n",
      "        [0.0100, 0.6774],\n",
      "        [0.0100, 0.6794],\n",
      "        [0.0100, 0.6814],\n",
      "        [0.0100, 0.6834],\n",
      "        [0.0100, 0.6854],\n",
      "        [0.0100, 0.6874],\n",
      "        [0.0100, 0.6894],\n",
      "        [0.0100, 0.6914],\n",
      "        [0.0100, 0.6934],\n",
      "        [0.0100, 0.6954],\n",
      "        [0.0100, 0.6974],\n",
      "        [0.0100, 0.6994],\n",
      "        [0.0100, 0.7014],\n",
      "        [0.0100, 0.7034],\n",
      "        [0.0100, 0.7054],\n",
      "        [0.0100, 0.7074],\n",
      "        [0.0100, 0.7094],\n",
      "        [0.0100, 0.7114],\n",
      "        [0.0100, 0.7134],\n",
      "        [0.0100, 0.7154],\n",
      "        [0.0100, 0.7174],\n",
      "        [0.0100, 0.7194],\n",
      "        [0.0100, 0.7214],\n",
      "        [0.0100, 0.7234],\n",
      "        [0.0100, 0.7255],\n",
      "        [0.0100, 0.7275],\n",
      "        [0.0100, 0.7295],\n",
      "        [0.0100, 0.7315],\n",
      "        [0.0100, 0.7335],\n",
      "        [0.0100, 0.7355],\n",
      "        [0.0100, 0.7375],\n",
      "        [0.0100, 0.7395],\n",
      "        [0.0100, 0.7415],\n",
      "        [0.0100, 0.7435],\n",
      "        [0.0100, 0.7455],\n",
      "        [0.0100, 0.7475],\n",
      "        [0.0100, 0.7495],\n",
      "        [0.0100, 0.7515],\n",
      "        [0.0100, 0.7535],\n",
      "        [0.0100, 0.7555],\n",
      "        [0.0100, 0.7575],\n",
      "        [0.0100, 0.7595],\n",
      "        [0.0100, 0.7615],\n",
      "        [0.0100, 0.7635],\n",
      "        [0.0100, 0.7655],\n",
      "        [0.0100, 0.7675],\n",
      "        [0.0100, 0.7695],\n",
      "        [0.0100, 0.7715],\n",
      "        [0.0100, 0.7735],\n",
      "        [0.0100, 0.7756],\n",
      "        [0.0100, 0.7776],\n",
      "        [0.0100, 0.7796],\n",
      "        [0.0100, 0.7816],\n",
      "        [0.0100, 0.7836],\n",
      "        [0.0100, 0.7856],\n",
      "        [0.0100, 0.7876],\n",
      "        [0.0100, 0.7896],\n",
      "        [0.0100, 0.7916],\n",
      "        [0.0100, 0.7936],\n",
      "        [0.0100, 0.7956],\n",
      "        [0.0100, 0.7976],\n",
      "        [0.0100, 0.7996],\n",
      "        [0.0100, 0.8016],\n",
      "        [0.0100, 0.8036],\n",
      "        [0.0100, 0.8056],\n",
      "        [0.0100, 0.8076],\n",
      "        [0.0100, 0.8096],\n",
      "        [0.0100, 0.8116],\n",
      "        [0.0100, 0.8136],\n",
      "        [0.0100, 0.8156],\n",
      "        [0.0100, 0.8176],\n",
      "        [0.0100, 0.8196],\n",
      "        [0.0100, 0.8216],\n",
      "        [0.0100, 0.8236],\n",
      "        [0.0100, 0.8257],\n",
      "        [0.0100, 0.8277],\n",
      "        [0.0100, 0.8297],\n",
      "        [0.0100, 0.8317],\n",
      "        [0.0100, 0.8337],\n",
      "        [0.0100, 0.8357],\n",
      "        [0.0100, 0.8377],\n",
      "        [0.0100, 0.8397],\n",
      "        [0.0100, 0.8417],\n",
      "        [0.0100, 0.8437],\n",
      "        [0.0100, 0.8457],\n",
      "        [0.0100, 0.8477],\n",
      "        [0.0100, 0.8497],\n",
      "        [0.0100, 0.8517],\n",
      "        [0.0100, 0.8537],\n",
      "        [0.0100, 0.8557],\n",
      "        [0.0100, 0.8577],\n",
      "        [0.0100, 0.8597],\n",
      "        [0.0100, 0.8617],\n",
      "        [0.0100, 0.8637],\n",
      "        [0.0100, 0.8657],\n",
      "        [0.0100, 0.8677],\n",
      "        [0.0100, 0.8697],\n",
      "        [0.0100, 0.8717],\n",
      "        [0.0100, 0.8737],\n",
      "        [0.0100, 0.8758],\n",
      "        [0.0100, 0.8778],\n",
      "        [0.0100, 0.8798],\n",
      "        [0.0100, 0.8818],\n",
      "        [0.0100, 0.8838],\n",
      "        [0.0100, 0.8858],\n",
      "        [0.0100, 0.8878],\n",
      "        [0.0100, 0.8898],\n",
      "        [0.0100, 0.8918],\n",
      "        [0.0100, 0.8938],\n",
      "        [0.0100, 0.8958],\n",
      "        [0.0100, 0.8978],\n",
      "        [0.0100, 0.8998],\n",
      "        [0.0100, 0.9018],\n",
      "        [0.0100, 0.9038],\n",
      "        [0.0100, 0.9058],\n",
      "        [0.0100, 0.9078],\n",
      "        [0.0100, 0.9098],\n",
      "        [0.0100, 0.9118],\n",
      "        [0.0100, 0.9138],\n",
      "        [0.0100, 0.9158],\n",
      "        [0.0100, 0.9178],\n",
      "        [0.0100, 0.9198],\n",
      "        [0.0100, 0.9218],\n",
      "        [0.0100, 0.9238],\n",
      "        [0.0100, 0.9259],\n",
      "        [0.0100, 0.9279],\n",
      "        [0.0100, 0.9299],\n",
      "        [0.0100, 0.9319],\n",
      "        [0.0100, 0.9339],\n",
      "        [0.0100, 0.9359],\n",
      "        [0.0100, 0.9379],\n",
      "        [0.0100, 0.9399],\n",
      "        [0.0100, 0.9419],\n",
      "        [0.0100, 0.9439],\n",
      "        [0.0100, 0.9459],\n",
      "        [0.0100, 0.9479],\n",
      "        [0.0100, 0.9499],\n",
      "        [0.0100, 0.9519],\n",
      "        [0.0100, 0.9539],\n",
      "        [0.0100, 0.9559],\n",
      "        [0.0100, 0.9579],\n",
      "        [0.0100, 0.9599],\n",
      "        [0.0100, 0.9619],\n",
      "        [0.0100, 0.9639],\n",
      "        [0.0100, 0.9659],\n",
      "        [0.0100, 0.9679],\n",
      "        [0.0100, 0.9699],\n",
      "        [0.0100, 0.9719],\n",
      "        [0.0100, 0.9739],\n",
      "        [0.0100, 0.9760],\n",
      "        [0.0100, 0.9780],\n",
      "        [0.0100, 0.9800],\n",
      "        [0.0100, 0.9820],\n",
      "        [0.0100, 0.9840],\n",
      "        [0.0100, 0.9860],\n",
      "        [0.0100, 0.9880],\n",
      "        [0.0100, 0.9900],\n",
      "        [0.0100, 0.9920],\n",
      "        [0.0100, 0.9940],\n",
      "        [0.0100, 0.9960],\n",
      "        [0.0100, 0.9980],\n",
      "        [0.0100, 1.0000]])\n"
     ]
    }
   ],
   "source": [
    "print(test_data[-1][1])"
   ]
  },
  {
   "cell_type": "markdown",
   "metadata": {},
   "source": [
    "## Investigate how to preprocess the data"
   ]
  },
  {
   "cell_type": "code",
   "execution_count": 50,
   "metadata": {
    "ExecuteTime": {
     "end_time": "2020-11-13T03:28:08.402330Z",
     "start_time": "2020-11-13T03:28:08.396403Z"
    }
   },
   "outputs": [
    {
     "data": {
      "text/plain": [
       "(40, 10)"
      ]
     },
     "execution_count": 50,
     "metadata": {},
     "output_type": "execute_result"
    }
   ],
   "source": [
    "len(train_data), len(test_data)"
   ]
  },
  {
   "cell_type": "code",
   "execution_count": 51,
   "metadata": {
    "ExecuteTime": {
     "end_time": "2020-11-13T03:28:09.062997Z",
     "start_time": "2020-11-13T03:28:09.040963Z"
    }
   },
   "outputs": [
    {
     "data": {
      "text/plain": [
       "(20000, 66)"
      ]
     },
     "execution_count": 51,
     "metadata": {},
     "output_type": "execute_result"
    }
   ],
   "source": [
    "D = []\n",
    "for d in train_data:\n",
    "    D.append(np.hstack(d))\n",
    "D = np.vstack(D)\n",
    "D.shape"
   ]
  },
  {
   "cell_type": "code",
   "execution_count": 52,
   "metadata": {
    "ExecuteTime": {
     "end_time": "2020-11-13T03:28:09.771037Z",
     "start_time": "2020-11-13T03:28:09.764558Z"
    }
   },
   "outputs": [
    {
     "data": {
      "text/plain": [
       "-19.950752"
      ]
     },
     "execution_count": 52,
     "metadata": {},
     "output_type": "execute_result"
    }
   ],
   "source": [
    "D.min()"
   ]
  },
  {
   "cell_type": "code",
   "execution_count": 54,
   "metadata": {
    "ExecuteTime": {
     "end_time": "2020-11-13T03:28:24.250047Z",
     "start_time": "2020-11-13T03:28:24.029517Z"
    }
   },
   "outputs": [
    {
     "data": {
      "image/png": "[encoded data removed]",
      "text/plain": [
       "<Figure size 432x288 with 1 Axes>"
      ]
     },
     "metadata": {
      "needs_background": "light"
     },
     "output_type": "display_data"
    }
   ],
   "source": [
    "x_mx = np.max(D,axis=0)\n",
    "x_mn = np.min(D,axis=0)\n",
    "plt.plot(x_mx)\n",
    "plt.plot(x_mn)\n",
    "plt.show()"
   ]
  },
  {
   "cell_type": "markdown",
   "metadata": {},
   "source": [
    "## Dataset and Dataloader"
   ]
  },
  {
   "cell_type": "code",
   "execution_count": 56,
   "metadata": {
    "ExecuteTime": {
     "end_time": "2020-11-13T03:28:57.204487Z",
     "start_time": "2020-11-13T03:28:57.186896Z"
    }
   },
   "outputs": [],
   "source": [
    "class LatentVectors(Dataset):\n",
    "    def __init__(self, data,doPreprocess=False,w=1,simLen=200,mx=x_mx,mn=x_mn):\n",
    "        self.data = data\n",
    "        self.doPreprocess = doPreprocess\n",
    "        self.simLen = simLen\n",
    "        self.w = w\n",
    "        self.mx = mx\n",
    "        self.mn = mn\n",
    "                 \n",
    "    def __len__(self):\n",
    "        return self.simLen*len(self.data)\n",
    "\n",
    "    def preprocess(self,x):\n",
    "        xnew = 2*((x-self.mn)/(self.mx-self.mn) - .5)\n",
    "        return xnew\n",
    "\n",
    "    def invPreprocess(self,xnew):\n",
    "        x = ((xnew/2)+.5)*(self.mx-self.mn) + self.mn\n",
    "        return x\n",
    "    \n",
    "    def __getitem__(self, idx):\n",
    "        q,r = np.divmod(idx,self.simLen)\n",
    "        X,p = self.data[q,:latentDim]\n",
    "        r_idx = np.random.randint(0,self.simLen-self.w)\n",
    "        x = np.hstack([X[r_idx:r_idx+1],p[r_idx:r_idx+1]])\n",
    "        #print(x.shape)\n",
    "        y = np.hstack([X[r_idx+1:r_idx+self.w+1],p[r_idx+1:r_idx+self.w+1]])\n",
    "        #print(y.shape)\n",
    "        if self.doPreprocess:\n",
    "            x = self.preprocess(x)\n",
    "            y = self.preprocess(y)\n",
    "        return x, y"
   ]
  },
  {
   "cell_type": "code",
   "execution_count": 57,
   "metadata": {
    "ExecuteTime": {
     "end_time": "2020-11-13T03:28:57.999698Z",
     "start_time": "2020-11-13T03:28:57.933761Z"
    }
   },
   "outputs": [],
   "source": [
    "trainDataset = LatentVectors(train_data,doPreprocess=True,w=w,simLen=simLen,mx=x_mx,mn=x_mn)\n",
    "testDataset = LatentVectors(test_data,doPreprocess=True,w=w,simLen=simLen,mx=x_mx,mn=x_mn)"
   ]
  },
  {
   "cell_type": "code",
   "execution_count": 58,
   "metadata": {
    "ExecuteTime": {
     "end_time": "2020-11-13T03:29:00.578531Z",
     "start_time": "2020-11-13T03:29:00.571259Z"
    }
   },
   "outputs": [
    {
     "data": {
      "text/plain": [
       "((1, 66), (10, 66))"
      ]
     },
     "execution_count": 58,
     "metadata": {},
     "output_type": "execute_result"
    }
   ],
   "source": [
    "X,y = trainDataset[4]\n",
    "X.shape,y.shape"
   ]
  },
  {
   "cell_type": "code",
   "execution_count": null,
   "metadata": {},
   "outputs": [
    {
     "data": {
      "text/plain": [
       "(19000, 296, 2000, 32)"
      ]
     },
     "execution_count": null,
     "metadata": {},
     "output_type": "execute_result"
    }
   ],
   "source": [
    "trainDataLoader = DataLoader(dataset=trainDataset, batch_size=bz, shuffle=True, drop_last=True)\n",
    "testDataLoader = DataLoader(dataset=testDataset, batch_size=bz)\n",
    "len(trainDataset), len(trainDataLoader), len(testDataset), len(testDataLoader)"
   ]
  },
  {
   "cell_type": "code",
   "execution_count": null,
   "metadata": {},
   "outputs": [
    {
     "data": {
      "image/png": "[encoded data removed]",
      "text/plain": [
       "<Figure size 432x288 with 1 Axes>"
      ]
     },
     "metadata": {
      "needs_background": "light"
     },
     "output_type": "display_data"
    },
    {
     "data": {
      "image/png": "[encoded data removed]",
      "text/plain": [
       "<Figure size 432x288 with 1 Axes>"
      ]
     },
     "metadata": {
      "needs_background": "light"
     },
     "output_type": "display_data"
    },
    {
     "data": {
      "image/png": "[encoded data removed]",
      "text/plain": [
       "<Figure size 432x288 with 1 Axes>"
      ]
     },
     "metadata": {
      "needs_background": "light"
     },
     "output_type": "display_data"
    },
    {
     "data": {
      "image/png": "[encoded data removed]",
      "text/plain": [
       "<Figure size 432x288 with 1 Axes>"
      ]
     },
     "metadata": {
      "needs_background": "light"
     },
     "output_type": "display_data"
    },
    {
     "data": {
      "image/png": "[encoded data removed]",
      "text/plain": [
       "<Figure size 432x288 with 1 Axes>"
      ]
     },
     "metadata": {
      "needs_background": "light"
     },
     "output_type": "display_data"
    },
    {
     "data": {
      "image/png": "[encoded data removed]",
      "text/plain": [
       "<Figure size 432x288 with 1 Axes>"
      ]
     },
     "metadata": {
      "needs_background": "light"
     },
     "output_type": "display_data"
    },
    {
     "data": {
      "image/png": "[encoded data removed]",
      "text/plain": [
       "<Figure size 432x288 with 1 Axes>"
      ]
     },
     "metadata": {
      "needs_background": "light"
     },
     "output_type": "display_data"
    },
    {
     "data": {
      "image/png": "[encoded data removed]",
      "text/plain": [
       "<Figure size 432x288 with 1 Axes>"
      ]
     },
     "metadata": {
      "needs_background": "light"
     },
     "output_type": "display_data"
    },
    {
     "data": {
      "image/png": "[encoded data removed]",
      "text/plain": [
       "<Figure size 432x288 with 1 Axes>"
      ]
     },
     "metadata": {
      "needs_background": "light"
     },
     "output_type": "display_data"
    },
    {
     "data": {
      "image/png": "[encoded data removed]",
      "text/plain": [
       "<Figure size 432x288 with 1 Axes>"
      ]
     },
     "metadata": {
      "needs_background": "light"
     },
     "output_type": "display_data"
    },
    {
     "data": {
      "image/png": "[encoded data removed]",
      "text/plain": [
       "<Figure size 432x288 with 1 Axes>"
      ]
     },
     "metadata": {
      "needs_background": "light"
     },
     "output_type": "display_data"
    },
    {
     "data": {
      "image/png": "[encoded data removed]",
      "text/plain": [
       "<Figure size 432x288 with 1 Axes>"
      ]
     },
     "metadata": {
      "needs_background": "light"
     },
     "output_type": "display_data"
    },
    {
     "data": {
      "image/png": "[encoded data removed]",
      "text/plain": [
       "<Figure size 432x288 with 1 Axes>"
      ]
     },
     "metadata": {
      "needs_background": "light"
     },
     "output_type": "display_data"
    },
    {
     "data": {
      "image/png": "[encoded data removed]",
      "text/plain": [
       "<Figure size 432x288 with 1 Axes>"
      ]
     },
     "metadata": {
      "needs_background": "light"
     },
     "output_type": "display_data"
    }
   ],
   "source": [
    "# plot the first 2 coordinates of the first 3 simulations\n",
    "# this makes me think that this is going to be a hard problem. \n",
    "Dplot = D.reshape(len(train_data),simLen,-1)\n",
    "colors = ['r','g','b','c','m','y','k']\n",
    "nc = len(colors)\n",
    "for sim in range(0,len(train_data),nc):\n",
    "    A = Dplot[sim:sim+nc]\n",
    "    for idx, x in enumerate(A):\n",
    "        plt.scatter(x[:,0],x[:,1],c=colors[idx],s=2)\n",
    "    plt.show()"
   ]
  },
  {
   "cell_type": "markdown",
   "metadata": {},
   "source": [
    "## Model"
   ]
  },
  {
   "cell_type": "code",
   "execution_count": null,
   "metadata": {},
   "outputs": [],
   "source": [
    "class MLP(nn.Module):\n",
    "    def __init__(self, X, hiddenLayerSizes = [1024], activation=nn.ELU()):\n",
    "        super(MLP,self).__init__()\n",
    "        \n",
    "        self.activation = activation\n",
    "        self.inputSize = X.shape[1:]\n",
    "        self.modules = []\n",
    "        self.modules.append(nn.Linear(np.prod(self.inputSize),hiddenLayerSizes[0]))\n",
    "        self.modules.append(self.activation)\n",
    "        for idx,sz in enumerate(hiddenLayerSizes[:-1]):\n",
    "            self.modules.append(nn.Linear(hiddenLayerSizes[idx],hiddenLayerSizes[idx+1]))\n",
    "            self.modules.append(self.activation)\n",
    "                               \n",
    "        self.modules.append(nn.Linear(hiddenLayerSizes[-1],np.prod(self.inputSize)))\n",
    "        self.layers = nn.Sequential(*self.modules)\n",
    "                                \n",
    "        \n",
    "    def forward(self,x):\n",
    "        x = self.layers(x)\n",
    "        return x"
   ]
  },
  {
   "cell_type": "code",
   "execution_count": null,
   "metadata": {},
   "outputs": [
    {
     "data": {
      "text/plain": [
       "(torch.Size([64, 1, 19]), torch.Size([64, 10, 19]))"
      ]
     },
     "execution_count": null,
     "metadata": {},
     "output_type": "execute_result"
    }
   ],
   "source": [
    "X,y = next(iter(trainDataLoader))\n",
    "X.shape, y.shape"
   ]
  },
  {
   "cell_type": "code",
   "execution_count": null,
   "metadata": {},
   "outputs": [
    {
     "data": {
      "text/plain": [
       "MLP(\n",
       "  (activation): Tanh()\n",
       "  (layers): Sequential(\n",
       "    (0): Linear(in_features=19, out_features=128, bias=True)\n",
       "    (1): Tanh()\n",
       "    (2): Linear(in_features=128, out_features=128, bias=True)\n",
       "    (3): Tanh()\n",
       "    (4): Linear(in_features=128, out_features=19, bias=True)\n",
       "  )\n",
       ")"
      ]
     },
     "execution_count": null,
     "metadata": {},
     "output_type": "execute_result"
    }
   ],
   "source": [
    "model = MLP(X, hiddenLayerSizes=hiddenLayers,activation=activation)\n",
    "model"
   ]
  },
  {
   "cell_type": "code",
   "execution_count": null,
   "metadata": {},
   "outputs": [
    {
     "data": {
      "text/plain": [
       "torch.Size([64, 1, 19])"
      ]
     },
     "execution_count": null,
     "metadata": {},
     "output_type": "execute_result"
    }
   ],
   "source": [
    "output = model(X)\n",
    "output.shape"
   ]
  },
  {
   "cell_type": "code",
   "execution_count": null,
   "metadata": {},
   "outputs": [],
   "source": [
    "if len(gpu_ids.split(',')) > 1:\n",
    "    model = nn.DataParallel(model)"
   ]
  },
  {
   "cell_type": "code",
   "execution_count": null,
   "metadata": {},
   "outputs": [
    {
     "name": "stdout",
     "output_type": "stream",
     "text": [
      "6 layers require gradients (unfrozen) out of 6 layers\n",
      "21,523 parameters require gradients (unfrozen) out of 21,523 parameters\n"
     ]
    }
   ],
   "source": [
    "printNumModelParams(model)"
   ]
  },
  {
   "cell_type": "markdown",
   "metadata": {},
   "source": [
    "## Loss Function"
   ]
  },
  {
   "cell_type": "code",
   "execution_count": null,
   "metadata": {},
   "outputs": [],
   "source": [
    "L = nn.MSELoss()"
   ]
  },
  {
   "cell_type": "code",
   "execution_count": null,
   "metadata": {},
   "outputs": [
    {
     "data": {
      "text/plain": [
       "tensor(0.1352, grad_fn=<MseLossBackward>)"
      ]
     },
     "execution_count": null,
     "metadata": {},
     "output_type": "execute_result"
    }
   ],
   "source": [
    "L(output,y[:,0:1,:])"
   ]
  },
  {
   "cell_type": "code",
   "execution_count": null,
   "metadata": {},
   "outputs": [
    {
     "data": {
      "text/plain": [
       "tensor(1.3904, grad_fn=<AddBackward0>)"
      ]
     },
     "execution_count": null,
     "metadata": {},
     "output_type": "execute_result"
    }
   ],
   "source": [
    "sum_loss = 0\n",
    "out = X.clone()\n",
    "for idx in range(w):\n",
    "    out = model(out).clone()\n",
    "    sum_loss += L(out,y[:,idx:idx+1,:])\n",
    "sum_loss"
   ]
  },
  {
   "cell_type": "code",
   "execution_count": null,
   "metadata": {},
   "outputs": [],
   "source": [
    "combined_loss = L(output,y)\n",
    "combined_loss.backward()"
   ]
  },
  {
   "cell_type": "markdown",
   "metadata": {},
   "source": [
    "## Set LR"
   ]
  },
  {
   "cell_type": "code",
   "execution_count": null,
   "metadata": {},
   "outputs": [
    {
     "data": {
      "application/vnd.jupyter.widget-view+json": {
       "model_id": "97c00ecf29254fb1b849f8a3df4aab79",
       "version_major": 2,
       "version_minor": 0
      },
      "text/plain": [
       "HBox(children=(IntProgress(value=0, max=200), HTML(value='')))"
      ]
     },
     "metadata": {},
     "output_type": "display_data"
    },
    {
     "name": "stdout",
     "output_type": "stream",
     "text": [
      "Stopping early, the loss has diverged\n",
      "Learning rate search finished. See the graph with {finder_name}.plot()\n",
      "\n"
     ]
    },
    {
     "data": {
      "image/png": "[encoded data removed]",
      "text/plain": [
       "<Figure size 432x288 with 1 Axes>"
      ]
     },
     "metadata": {
      "needs_background": "light"
     },
     "output_type": "display_data"
    }
   ],
   "source": [
    "if findLRs and (len(gpu_ids.split(','))==1): # doesn't work for multigpu???\n",
    "    opt = create_opt(1e-7,model)\n",
    "    find_lr(model,opt,L,device,trainDataLoader)\n"
   ]
  },
  {
   "cell_type": "code",
   "execution_count": null,
   "metadata": {},
   "outputs": [],
   "source": [
    "max_lr = .005\n",
    "opt = torch.optim.Adam(model.parameters(),lr=max_lr)\n",
    "lr_scheduler = torch.optim.lr_scheduler.ReduceLROnPlateau(opt,patience=patience)"
   ]
  },
  {
   "cell_type": "code",
   "execution_count": null,
   "metadata": {},
   "outputs": [],
   "source": [
    "versionName = versionName + '_lr{}'.format(str(max_lr))"
   ]
  },
  {
   "cell_type": "code",
   "execution_count": null,
   "metadata": {},
   "outputs": [
    {
     "data": {
      "text/plain": [
       "'LIN_SVD_MLP_manta_w10_latentDim16_hd128_128_bz64_epochs1000_lr0.005'"
      ]
     },
     "execution_count": null,
     "metadata": {},
     "output_type": "execute_result"
    }
   ],
   "source": [
    "versionName"
   ]
  },
  {
   "cell_type": "markdown",
   "metadata": {},
   "source": [
    "## Train"
   ]
  },
  {
   "cell_type": "code",
   "execution_count": null,
   "metadata": {},
   "outputs": [],
   "source": [
    "def trainEpoch(myDataLoader, tensorboard_writer, model, opt, loss,\n",
    "               metric, lr_scheduler, tensorboard_rate, device,\n",
    "               tensorboard_recorder_step, total_steps):\n",
    "    running_loss = 0.0\n",
    "    running_rmse = 0.0\n",
    "    total_loss = 0.0\n",
    "    for i, sampleBatch in enumerate(myDataLoader, start=1):\n",
    "\n",
    "        # --- Main Training ---\n",
    "        combined_loss = 0.\n",
    "        \n",
    "        # gpu\n",
    "        X,y = sampleBatch[0],sampleBatch[1]\n",
    "        X = X.to(device)\n",
    "        y = y.to(device)\n",
    "        \n",
    "        # zero the parameter gradients\n",
    "        opt.zero_grad()\n",
    "\n",
    "        y_hat = X.clone()\n",
    "        predictions = []\n",
    "        for w_idx in range(w):\n",
    "            y_hat = model(y_hat).clone()\n",
    "            y_hat[:,:,-p.shape[1]:] = y[:,w_idx:w_idx+1,-p.shape[1]:]\n",
    "            predictions.append(y_hat)\n",
    "            combined_loss += loss(y_hat,y[:,w_idx:w_idx+1,:])\n",
    "        combined_loss.backward()\n",
    "        opt.step()\n",
    "        \n",
    "        # loss\n",
    "        batch_loss = combined_loss.item()\n",
    "        running_loss += batch_loss\n",
    "        total_loss += batch_loss\n",
    "\n",
    "        # --- Metrics Recording ---\n",
    "\n",
    "        # metrics\n",
    "        predictions = torch.stack(predictions)\n",
    "        r = metric(y_hat, y)\n",
    "        running_rmse += r\n",
    "\n",
    "        # record lr change\n",
    "        total_steps += 1\n",
    "        tensorboard_writer.add_scalar(tag=\"LR\", scalar_value=opt.param_groups[0]['lr'], global_step=total_steps)\n",
    "\n",
    "        # tensorboard writes\n",
    "        if (i % tensorboard_rate == 0):\n",
    "            tensorboard_recorder_step += 1\n",
    "            avg_running_loss = running_loss/tensorboard_rate\n",
    "            avg_running_rmse = running_rmse/tensorboard_rate\n",
    "            tensorboard_writer.add_scalar(tag=\"Loss\", scalar_value=avg_running_loss, global_step=tensorboard_recorder_step)\n",
    "            tensorboard_writer.add_scalar(tag=metric.__name__, scalar_value=avg_running_rmse, global_step=tensorboard_recorder_step)\n",
    "            # reset running_loss for the next set of batches. (tensorboard_rate number of batches)\n",
    "            running_loss = 0.0\n",
    "            running_rmse = 0.0\n",
    "\n",
    "    return total_loss/len(myDataLoader), tensorboard_recorder_step, total_steps\n"
   ]
  },
  {
   "cell_type": "code",
   "execution_count": null,
   "metadata": {},
   "outputs": [],
   "source": [
    "def validEpoch(myDataLoader, tensorboard_writer, model, loss, metric,\n",
    "               device, tensorboard_recorder_step):\n",
    "    running_loss = 0.0\n",
    "    running_rmse = 0.0\n",
    "    for i, sampleBatch in enumerate(myDataLoader, start=1):\n",
    "\n",
    "        combined_loss = 0.\n",
    "        # --- Metrics Recording ---\n",
    "\n",
    "        # gpu\n",
    "        X,y = sampleBatch[0],sampleBatch[1]\n",
    "        X = X.to(device)\n",
    "        y = y.to(device)\n",
    "        \n",
    "        # forward, no gradient calculations\n",
    "        with torch.no_grad():\n",
    "            y_hat = X.clone()\n",
    "            predictions = []\n",
    "            for w_idx in range(w):\n",
    "                y_hat = model(y_hat).clone()\n",
    "                y_hat[:,:,-p.shape[1]:] = y[:,w_idx:w_idx+1,-p.shape[1]:]\n",
    "                predictions.append(y_hat)\n",
    "                combined_loss += loss(y_hat,y[:,w_idx:w_idx+1,:])\n",
    "\n",
    "        running_loss += combined_loss.item()\n",
    "\n",
    "        # metrics\n",
    "        predictions = torch.stack(predictions)\n",
    "        r = metric(y_hat, y)\n",
    "        running_rmse += r\n",
    "\n",
    "    avg_running_loss = running_loss/len(myDataLoader)\n",
    "    avg_running_rmse = running_rmse/len(myDataLoader)\n",
    "    tensorboard_writer.add_scalar(tag=\"Loss\", scalar_value=avg_running_loss, global_step=tensorboard_recorder_step)\n",
    "    tensorboard_writer.add_scalar(tag=metric.__name__, scalar_value=avg_running_rmse, global_step=tensorboard_recorder_step)\n",
    "\n",
    "    return avg_running_loss"
   ]
  },
  {
   "cell_type": "code",
   "execution_count": null,
   "metadata": {},
   "outputs": [
    {
     "name": "stdout",
     "output_type": "stream",
     "text": [
      "checkpoints directory already exists :)\n"
     ]
    }
   ],
   "source": [
    "try:\n",
    "    os.mkdir(cps)\n",
    "except:\n",
    "    print(\"checkpoints directory already exists :)\")"
   ]
  },
  {
   "cell_type": "code",
   "execution_count": null,
   "metadata": {},
   "outputs": [],
   "source": [
    "# create a summary writer.\n",
    "train_writer = SummaryWriter(os.path.join(tensorboard_direc, versionName,'train'))\n",
    "test_writer = SummaryWriter(os.path.join(tensorboard_direc, versionName,'valid'))\n",
    "tensorboard_recorder_step = 0\n",
    "total_steps = 0"
   ]
  },
  {
   "cell_type": "code",
   "execution_count": null,
   "metadata": {},
   "outputs": [
    {
     "name": "stderr",
     "output_type": "stream",
     "text": [
      "\n",
      "\n",
      "\n",
      "\n",
      "  0%|          | 0/1000 [00:00<?, ?it/s]\u001b[A\u001b[A\u001b[A\u001b[A"
     ]
    },
    {
     "name": "stdout",
     "output_type": "stream",
     "text": [
      "---------- Started Training ----------\n",
      "--- Epoch 1/1000 ---\n",
      "trainLoss: 3.4074e-01\n",
      "LR: 5.0000e-03\n"
     ]
    },
    {
     "name": "stderr",
     "output_type": "stream",
     "text": [
      "\n",
      "\n",
      "\n",
      "\n",
      "  0%|          | 1/1000 [00:05<1:38:49,  5.94s/it]\u001b[A\u001b[A\u001b[A\u001b[A"
     ]
    },
    {
     "name": "stdout",
     "output_type": "stream",
     "text": [
      "valLoss: 1.7740e-01\n",
      "Better valLoss: 1.7740e-01, Saving models...\n",
      "--- Epoch 2/1000 ---\n",
      "trainLoss: 1.5189e-01\n",
      "LR: 5.0000e-03\n"
     ]
    },
    {
     "name": "stderr",
     "output_type": "stream",
     "text": [
      "\n",
      "\n",
      "\n",
      "\n",
      "  0%|          | 2/1000 [00:11<1:36:32,  5.80s/it]\u001b[A\u001b[A\u001b[A\u001b[A"
     ]
    },
    {
     "name": "stdout",
     "output_type": "stream",
     "text": [
      "valLoss: 1.3657e-01\n",
      "Better valLoss: 1.3657e-01, Saving models...\n",
      "--- Epoch 3/1000 ---\n",
      "trainLoss: 1.2331e-01\n",
      "LR: 5.0000e-03\n"
     ]
    },
    {
     "name": "stderr",
     "output_type": "stream",
     "text": [
      "\n",
      "\n",
      "\n",
      "\n",
      "  0%|          | 3/1000 [00:17<1:36:44,  5.82s/it]\u001b[A\u001b[A\u001b[A\u001b[A"
     ]
    },
    {
     "name": "stdout",
     "output_type": "stream",
     "text": [
      "valLoss: 1.2298e-01\n",
      "Better valLoss: 1.2298e-01, Saving models...\n",
      "--- Epoch 4/1000 ---\n",
      "trainLoss: 1.0686e-01\n",
      "LR: 5.0000e-03\n"
     ]
    },
    {
     "name": "stderr",
     "output_type": "stream",
     "text": [
      "\n",
      "\n",
      "\n",
      "\n",
      "  0%|          | 4/1000 [00:22<1:33:53,  5.66s/it]\u001b[A\u001b[A\u001b[A\u001b[A"
     ]
    },
    {
     "name": "stdout",
     "output_type": "stream",
     "text": [
      "valLoss: 1.2326e-01\n",
      "--- Epoch 5/1000 ---\n",
      "trainLoss: 1.0069e-01\n",
      "LR: 5.0000e-03\n"
     ]
    },
    {
     "name": "stderr",
     "output_type": "stream",
     "text": [
      "\n",
      "\n",
      "\n",
      "\n",
      "  0%|          | 5/1000 [00:28<1:35:05,  5.73s/it]\u001b[A\u001b[A\u001b[A\u001b[A"
     ]
    },
    {
     "name": "stdout",
     "output_type": "stream",
     "text": [
      "valLoss: 1.0934e-01\n",
      "Better valLoss: 1.0934e-01, Saving models...\n",
      "--- Epoch 6/1000 ---\n",
      "trainLoss: 9.2788e-02\n",
      "LR: 5.0000e-03\n"
     ]
    },
    {
     "name": "stderr",
     "output_type": "stream",
     "text": [
      "\n",
      "\n",
      "\n",
      "\n",
      "  1%|          | 6/1000 [00:34<1:37:30,  5.89s/it]\u001b[A\u001b[A\u001b[A\u001b[A"
     ]
    },
    {
     "name": "stdout",
     "output_type": "stream",
     "text": [
      "valLoss: 1.0865e-01\n",
      "Better valLoss: 1.0865e-01, Saving models...\n",
      "--- Epoch 7/1000 ---\n",
      "trainLoss: 9.1937e-02\n",
      "LR: 5.0000e-03\n"
     ]
    },
    {
     "name": "stderr",
     "output_type": "stream",
     "text": [
      "\n",
      "\n",
      "\n",
      "\n",
      "  1%|          | 7/1000 [00:40<1:36:53,  5.85s/it]\u001b[A\u001b[A\u001b[A\u001b[A"
     ]
    },
    {
     "name": "stdout",
     "output_type": "stream",
     "text": [
      "valLoss: 1.1598e-01\n",
      "--- Epoch 8/1000 ---\n",
      "trainLoss: 8.8360e-02\n",
      "LR: 5.0000e-03\n"
     ]
    },
    {
     "name": "stderr",
     "output_type": "stream",
     "text": [
      "\n",
      "\n",
      "\n",
      "\n",
      "  1%|          | 8/1000 [00:46<1:36:49,  5.86s/it]\u001b[A\u001b[A\u001b[A\u001b[A"
     ]
    },
    {
     "name": "stdout",
     "output_type": "stream",
     "text": [
      "valLoss: 1.1915e-01\n",
      "--- Epoch 9/1000 ---\n",
      "trainLoss: 8.6183e-02\n",
      "LR: 5.0000e-03\n"
     ]
    },
    {
     "name": "stderr",
     "output_type": "stream",
     "text": [
      "\n",
      "\n",
      "\n",
      "\n",
      "  1%|          | 9/1000 [00:52<1:35:39,  5.79s/it]\u001b[A\u001b[A\u001b[A\u001b[A"
     ]
    },
    {
     "name": "stdout",
     "output_type": "stream",
     "text": [
      "valLoss: 1.0834e-01\n",
      "Better valLoss: 1.0834e-01, Saving models...\n",
      "--- Epoch 10/1000 ---\n",
      "trainLoss: 7.7916e-02\n",
      "LR: 5.0000e-03\n"
     ]
    },
    {
     "name": "stderr",
     "output_type": "stream",
     "text": [
      "\n",
      "\n",
      "\n",
      "\n",
      "  1%|          | 10/1000 [00:57<1:34:22,  5.72s/it]\u001b[A\u001b[A\u001b[A\u001b[A"
     ]
    },
    {
     "name": "stdout",
     "output_type": "stream",
     "text": [
      "valLoss: 1.0022e-01\n",
      "Better valLoss: 1.0022e-01, Saving models...\n",
      "--- Epoch 11/1000 ---\n",
      "trainLoss: 8.0480e-02\n",
      "LR: 5.0000e-03\n"
     ]
    },
    {
     "name": "stderr",
     "output_type": "stream",
     "text": [
      "\n",
      "\n",
      "\n",
      "\n",
      "  1%|          | 11/1000 [01:04<1:39:26,  6.03s/it]\u001b[A\u001b[A\u001b[A\u001b[A"
     ]
    },
    {
     "name": "stdout",
     "output_type": "stream",
     "text": [
      "valLoss: 8.8773e-02\n",
      "Better valLoss: 8.8773e-02, Saving models...\n",
      "--- Epoch 12/1000 ---\n",
      "trainLoss: 7.4792e-02\n",
      "LR: 5.0000e-03\n"
     ]
    },
    {
     "name": "stderr",
     "output_type": "stream",
     "text": [
      "\n",
      "\n",
      "\n",
      "\n",
      "  1%|          | 12/1000 [01:09<1:36:22,  5.85s/it]\u001b[A\u001b[A\u001b[A\u001b[A"
     ]
    },
    {
     "name": "stdout",
     "output_type": "stream",
     "text": [
      "valLoss: 9.9288e-02\n",
      "--- Epoch 13/1000 ---\n",
      "trainLoss: 7.6943e-02\n",
      "LR: 5.0000e-03\n"
     ]
    },
    {
     "name": "stderr",
     "output_type": "stream",
     "text": [
      "\n",
      "\n",
      "\n",
      "\n",
      "  1%|▏         | 13/1000 [01:15<1:37:38,  5.94s/it]\u001b[A\u001b[A\u001b[A\u001b[A"
     ]
    },
    {
     "name": "stdout",
     "output_type": "stream",
     "text": [
      "valLoss: 9.7666e-02\n",
      "--- Epoch 14/1000 ---\n",
      "trainLoss: 7.1842e-02\n",
      "LR: 5.0000e-03\n"
     ]
    },
    {
     "name": "stderr",
     "output_type": "stream",
     "text": [
      "\n",
      "\n",
      "\n",
      "\n",
      "  1%|▏         | 14/1000 [01:21<1:33:45,  5.71s/it]\u001b[A\u001b[A\u001b[A\u001b[A"
     ]
    },
    {
     "name": "stdout",
     "output_type": "stream",
     "text": [
      "valLoss: 8.1691e-02\n",
      "Better valLoss: 8.1691e-02, Saving models...\n",
      "--- Epoch 15/1000 ---\n",
      "trainLoss: 6.7062e-02\n",
      "LR: 5.0000e-03\n"
     ]
    },
    {
     "name": "stderr",
     "output_type": "stream",
     "text": [
      "\n",
      "\n",
      "\n",
      "\n",
      "  2%|▏         | 15/1000 [01:26<1:33:23,  5.69s/it]\u001b[A\u001b[A\u001b[A\u001b[A"
     ]
    },
    {
     "name": "stdout",
     "output_type": "stream",
     "text": [
      "valLoss: 9.3076e-02\n",
      "--- Epoch 16/1000 ---\n",
      "trainLoss: 7.2486e-02\n",
      "LR: 5.0000e-03\n"
     ]
    },
    {
     "name": "stderr",
     "output_type": "stream",
     "text": [
      "\n",
      "\n",
      "\n",
      "\n",
      "  2%|▏         | 16/1000 [01:31<1:30:46,  5.53s/it]\u001b[A\u001b[A\u001b[A\u001b[A"
     ]
    },
    {
     "name": "stdout",
     "output_type": "stream",
     "text": [
      "valLoss: 7.7722e-02\n",
      "Better valLoss: 7.7722e-02, Saving models...\n",
      "--- Epoch 17/1000 ---\n",
      "trainLoss: 7.1969e-02\n",
      "LR: 5.0000e-03\n"
     ]
    },
    {
     "name": "stderr",
     "output_type": "stream",
     "text": [
      "\n",
      "\n",
      "\n",
      "\n",
      "  2%|▏         | 17/1000 [01:37<1:29:55,  5.49s/it]\u001b[A\u001b[A\u001b[A\u001b[A"
     ]
    },
    {
     "name": "stdout",
     "output_type": "stream",
     "text": [
      "valLoss: 8.0328e-02\n",
      "--- Epoch 18/1000 ---\n",
      "trainLoss: 3.1749e-02\n",
      "LR: 5.0000e-04\n"
     ]
    },
    {
     "name": "stderr",
     "output_type": "stream",
     "text": [
      "\n",
      "\n",
      "\n",
      "\n",
      "  2%|▏         | 18/1000 [01:42<1:30:42,  5.54s/it]\u001b[A\u001b[A\u001b[A\u001b[A"
     ]
    },
    {
     "name": "stdout",
     "output_type": "stream",
     "text": [
      "valLoss: 4.7122e-02\n",
      "Better valLoss: 4.7122e-02, Saving models...\n",
      "--- Epoch 19/1000 ---\n",
      "trainLoss: 3.0173e-02\n",
      "LR: 5.0000e-04\n"
     ]
    },
    {
     "name": "stderr",
     "output_type": "stream",
     "text": [
      "\n",
      "\n",
      "\n",
      "\n",
      "  2%|▏         | 19/1000 [01:49<1:36:43,  5.92s/it]\u001b[A\u001b[A\u001b[A\u001b[A"
     ]
    },
    {
     "name": "stdout",
     "output_type": "stream",
     "text": [
      "valLoss: 4.8280e-02\n",
      "--- Epoch 20/1000 ---\n",
      "trainLoss: 2.9710e-02\n",
      "LR: 5.0000e-04\n"
     ]
    },
    {
     "name": "stderr",
     "output_type": "stream",
     "text": [
      "\n",
      "\n",
      "\n",
      "\n",
      "  2%|▏         | 20/1000 [01:55<1:34:01,  5.76s/it]\u001b[A\u001b[A\u001b[A\u001b[A"
     ]
    },
    {
     "name": "stdout",
     "output_type": "stream",
     "text": [
      "valLoss: 4.5573e-02\n",
      "Better valLoss: 4.5573e-02, Saving models...\n",
      "--- Epoch 21/1000 ---\n",
      "trainLoss: 2.9397e-02\n",
      "LR: 5.0000e-04\n"
     ]
    },
    {
     "name": "stderr",
     "output_type": "stream",
     "text": [
      "\n",
      "\n",
      "\n",
      "\n",
      "  2%|▏         | 21/1000 [02:00<1:32:36,  5.68s/it]\u001b[A\u001b[A\u001b[A\u001b[A"
     ]
    },
    {
     "name": "stdout",
     "output_type": "stream",
     "text": [
      "valLoss: 4.3381e-02\n",
      "Better valLoss: 4.3381e-02, Saving models...\n",
      "--- Epoch 22/1000 ---\n",
      "trainLoss: 2.8807e-02\n",
      "LR: 5.0000e-04\n"
     ]
    },
    {
     "name": "stderr",
     "output_type": "stream",
     "text": [
      "\n",
      "\n",
      "\n",
      "\n",
      "  2%|▏         | 22/1000 [02:06<1:32:33,  5.68s/it]\u001b[A\u001b[A\u001b[A\u001b[A"
     ]
    },
    {
     "name": "stdout",
     "output_type": "stream",
     "text": [
      "valLoss: 4.4762e-02\n",
      "--- Epoch 23/1000 ---\n",
      "trainLoss: 2.8743e-02\n",
      "LR: 5.0000e-04\n"
     ]
    },
    {
     "name": "stderr",
     "output_type": "stream",
     "text": [
      "\n",
      "\n",
      "\n",
      "\n",
      "  2%|▏         | 23/1000 [02:11<1:32:03,  5.65s/it]\u001b[A\u001b[A\u001b[A\u001b[A"
     ]
    },
    {
     "name": "stdout",
     "output_type": "stream",
     "text": [
      "valLoss: 4.4338e-02\n",
      "--- Epoch 24/1000 ---\n",
      "trainLoss: 2.8077e-02\n",
      "LR: 5.0000e-04\n"
     ]
    },
    {
     "name": "stderr",
     "output_type": "stream",
     "text": [
      "\n",
      "\n",
      "\n",
      "\n",
      "  2%|▏         | 24/1000 [02:17<1:34:17,  5.80s/it]\u001b[A\u001b[A\u001b[A\u001b[A"
     ]
    },
    {
     "name": "stdout",
     "output_type": "stream",
     "text": [
      "valLoss: 4.2935e-02\n",
      "Better valLoss: 4.2935e-02, Saving models...\n",
      "--- Epoch 25/1000 ---\n",
      "trainLoss: 2.8216e-02\n",
      "LR: 5.0000e-04\n"
     ]
    },
    {
     "name": "stderr",
     "output_type": "stream",
     "text": [
      "\n",
      "\n",
      "\n",
      "\n",
      "  2%|▎         | 25/1000 [02:24<1:36:00,  5.91s/it]\u001b[A\u001b[A\u001b[A\u001b[A"
     ]
    },
    {
     "name": "stdout",
     "output_type": "stream",
     "text": [
      "valLoss: 4.1693e-02\n",
      "Better valLoss: 4.1693e-02, Saving models...\n",
      "--- Epoch 26/1000 ---\n",
      "trainLoss: 2.7993e-02\n",
      "LR: 5.0000e-04\n"
     ]
    },
    {
     "name": "stderr",
     "output_type": "stream",
     "text": [
      "\n",
      "\n",
      "\n",
      "\n",
      "  3%|▎         | 26/1000 [02:29<1:35:16,  5.87s/it]\u001b[A\u001b[A\u001b[A\u001b[A"
     ]
    },
    {
     "name": "stdout",
     "output_type": "stream",
     "text": [
      "valLoss: 4.3179e-02\n",
      "--- Epoch 27/1000 ---\n",
      "trainLoss: 2.7564e-02\n",
      "LR: 5.0000e-04\n"
     ]
    },
    {
     "name": "stderr",
     "output_type": "stream",
     "text": [
      "\n",
      "\n",
      "\n",
      "\n",
      "  3%|▎         | 27/1000 [02:34<1:30:58,  5.61s/it]\u001b[A\u001b[A\u001b[A\u001b[A"
     ]
    },
    {
     "name": "stdout",
     "output_type": "stream",
     "text": [
      "valLoss: 4.3551e-02\n",
      "--- Epoch 28/1000 ---\n",
      "trainLoss: 2.7303e-02\n",
      "LR: 5.0000e-04\n"
     ]
    },
    {
     "name": "stderr",
     "output_type": "stream",
     "text": [
      "\n",
      "\n",
      "\n",
      "\n",
      "  3%|▎         | 28/1000 [02:40<1:29:44,  5.54s/it]\u001b[A\u001b[A\u001b[A\u001b[A"
     ]
    },
    {
     "name": "stdout",
     "output_type": "stream",
     "text": [
      "valLoss: 4.1005e-02\n",
      "Better valLoss: 4.1005e-02, Saving models...\n",
      "--- Epoch 29/1000 ---\n",
      "trainLoss: 2.6772e-02\n",
      "LR: 5.0000e-04\n"
     ]
    },
    {
     "name": "stderr",
     "output_type": "stream",
     "text": [
      "\n",
      "\n",
      "\n",
      "\n",
      "  3%|▎         | 29/1000 [02:45<1:27:50,  5.43s/it]\u001b[A\u001b[A\u001b[A\u001b[A"
     ]
    },
    {
     "name": "stdout",
     "output_type": "stream",
     "text": [
      "valLoss: 4.0775e-02\n",
      "Better valLoss: 4.0775e-02, Saving models...\n",
      "--- Epoch 30/1000 ---\n",
      "trainLoss: 2.6675e-02\n",
      "LR: 5.0000e-04\n"
     ]
    },
    {
     "name": "stderr",
     "output_type": "stream",
     "text": [
      "\n",
      "\n",
      "\n",
      "\n",
      "  3%|▎         | 30/1000 [02:50<1:25:51,  5.31s/it]\u001b[A\u001b[A\u001b[A\u001b[A"
     ]
    },
    {
     "name": "stdout",
     "output_type": "stream",
     "text": [
      "valLoss: 4.2221e-02\n",
      "--- Epoch 31/1000 ---\n",
      "trainLoss: 2.6546e-02\n",
      "LR: 5.0000e-04\n"
     ]
    },
    {
     "name": "stderr",
     "output_type": "stream",
     "text": [
      "\n",
      "\n",
      "\n",
      "\n",
      "  3%|▎         | 31/1000 [02:55<1:25:42,  5.31s/it]\u001b[A\u001b[A\u001b[A\u001b[A"
     ]
    },
    {
     "name": "stdout",
     "output_type": "stream",
     "text": [
      "valLoss: 4.3684e-02\n",
      "--- Epoch 32/1000 ---\n",
      "trainLoss: 2.5897e-02\n",
      "LR: 5.0000e-04\n"
     ]
    },
    {
     "name": "stderr",
     "output_type": "stream",
     "text": [
      "\n",
      "\n",
      "\n",
      "\n",
      "  3%|▎         | 32/1000 [03:01<1:25:48,  5.32s/it]\u001b[A\u001b[A\u001b[A\u001b[A"
     ]
    },
    {
     "name": "stdout",
     "output_type": "stream",
     "text": [
      "valLoss: 4.1772e-02\n",
      "--- Epoch 33/1000 ---\n",
      "trainLoss: 2.5873e-02\n",
      "LR: 5.0000e-04\n"
     ]
    },
    {
     "name": "stderr",
     "output_type": "stream",
     "text": [
      "\n",
      "\n",
      "\n",
      "\n",
      "  3%|▎         | 33/1000 [03:06<1:25:11,  5.29s/it]\u001b[A\u001b[A\u001b[A\u001b[A"
     ]
    },
    {
     "name": "stdout",
     "output_type": "stream",
     "text": [
      "valLoss: 3.8558e-02\n",
      "Better valLoss: 3.8558e-02, Saving models...\n",
      "--- Epoch 34/1000 ---\n",
      "trainLoss: 2.5762e-02\n",
      "LR: 5.0000e-04\n"
     ]
    },
    {
     "name": "stderr",
     "output_type": "stream",
     "text": [
      "\n",
      "\n",
      "\n",
      "\n",
      "  3%|▎         | 34/1000 [03:11<1:23:43,  5.20s/it]\u001b[A\u001b[A\u001b[A\u001b[A"
     ]
    },
    {
     "name": "stdout",
     "output_type": "stream",
     "text": [
      "valLoss: 4.0418e-02\n",
      "--- Epoch 35/1000 ---\n",
      "trainLoss: 2.5507e-02\n",
      "LR: 5.0000e-04\n"
     ]
    },
    {
     "name": "stderr",
     "output_type": "stream",
     "text": [
      "\n",
      "\n",
      "\n",
      "\n",
      "  4%|▎         | 35/1000 [03:17<1:26:37,  5.39s/it]\u001b[A\u001b[A\u001b[A\u001b[A"
     ]
    },
    {
     "name": "stdout",
     "output_type": "stream",
     "text": [
      "valLoss: 3.5823e-02\n",
      "Better valLoss: 3.5823e-02, Saving models...\n",
      "--- Epoch 36/1000 ---\n",
      "trainLoss: 2.4876e-02\n",
      "LR: 5.0000e-04\n"
     ]
    },
    {
     "name": "stderr",
     "output_type": "stream",
     "text": [
      "\n",
      "\n",
      "\n",
      "\n",
      "  4%|▎         | 36/1000 [03:22<1:24:51,  5.28s/it]\u001b[A\u001b[A\u001b[A\u001b[A"
     ]
    },
    {
     "name": "stdout",
     "output_type": "stream",
     "text": [
      "valLoss: 4.1324e-02\n",
      "--- Epoch 37/1000 ---\n",
      "trainLoss: 2.5256e-02\n",
      "LR: 5.0000e-04\n"
     ]
    },
    {
     "name": "stderr",
     "output_type": "stream",
     "text": [
      "\n",
      "\n",
      "\n",
      "\n",
      "  4%|▎         | 37/1000 [03:28<1:27:53,  5.48s/it]\u001b[A\u001b[A\u001b[A\u001b[A"
     ]
    },
    {
     "name": "stdout",
     "output_type": "stream",
     "text": [
      "valLoss: 3.8960e-02\n",
      "--- Epoch 38/1000 ---\n",
      "trainLoss: 2.5246e-02\n",
      "LR: 5.0000e-04\n"
     ]
    },
    {
     "name": "stderr",
     "output_type": "stream",
     "text": [
      "\n",
      "\n",
      "\n",
      "\n",
      "  4%|▍         | 38/1000 [03:34<1:30:44,  5.66s/it]\u001b[A\u001b[A\u001b[A\u001b[A"
     ]
    },
    {
     "name": "stdout",
     "output_type": "stream",
     "text": [
      "valLoss: 3.7963e-02\n",
      "--- Epoch 39/1000 ---\n",
      "trainLoss: 2.1509e-02\n",
      "LR: 5.0000e-05\n"
     ]
    },
    {
     "name": "stderr",
     "output_type": "stream",
     "text": [
      "\n",
      "\n",
      "\n",
      "\n",
      "  4%|▍         | 39/1000 [03:40<1:33:33,  5.84s/it]\u001b[A\u001b[A\u001b[A\u001b[A"
     ]
    },
    {
     "name": "stdout",
     "output_type": "stream",
     "text": [
      "valLoss: 3.4367e-02\n",
      "Better valLoss: 3.4367e-02, Saving models...\n",
      "--- Epoch 40/1000 ---\n",
      "trainLoss: 2.1431e-02\n",
      "LR: 5.0000e-05\n"
     ]
    },
    {
     "name": "stderr",
     "output_type": "stream",
     "text": [
      "\n",
      "\n",
      "\n",
      "\n",
      "  4%|▍         | 40/1000 [03:46<1:32:56,  5.81s/it]\u001b[A\u001b[A\u001b[A\u001b[A"
     ]
    },
    {
     "name": "stdout",
     "output_type": "stream",
     "text": [
      "valLoss: 3.7172e-02\n",
      "--- Epoch 41/1000 ---\n",
      "trainLoss: 2.1668e-02\n",
      "LR: 5.0000e-05\n"
     ]
    },
    {
     "name": "stderr",
     "output_type": "stream",
     "text": [
      "\n",
      "\n",
      "\n",
      "\n",
      "  4%|▍         | 41/1000 [03:51<1:30:23,  5.66s/it]\u001b[A\u001b[A\u001b[A\u001b[A"
     ]
    },
    {
     "name": "stdout",
     "output_type": "stream",
     "text": [
      "valLoss: 3.4858e-02\n",
      "--- Epoch 42/1000 ---\n",
      "trainLoss: 2.1356e-02\n",
      "LR: 5.0000e-05\n"
     ]
    },
    {
     "name": "stderr",
     "output_type": "stream",
     "text": [
      "\n",
      "\n",
      "\n",
      "\n",
      "  4%|▍         | 42/1000 [03:56<1:28:23,  5.54s/it]\u001b[A\u001b[A\u001b[A\u001b[A"
     ]
    },
    {
     "name": "stdout",
     "output_type": "stream",
     "text": [
      "valLoss: 3.5421e-02\n",
      "--- Epoch 43/1000 ---\n",
      "trainLoss: 2.1454e-02\n",
      "LR: 5.0000e-05\n"
     ]
    },
    {
     "name": "stderr",
     "output_type": "stream",
     "text": [
      "\n",
      "\n",
      "\n",
      "\n",
      "  4%|▍         | 43/1000 [04:02<1:28:37,  5.56s/it]\u001b[A\u001b[A\u001b[A\u001b[A"
     ]
    },
    {
     "name": "stdout",
     "output_type": "stream",
     "text": [
      "valLoss: 3.5318e-02\n",
      "--- Epoch 44/1000 ---\n",
      "trainLoss: 2.1692e-02\n",
      "LR: 5.0000e-05\n"
     ]
    },
    {
     "name": "stderr",
     "output_type": "stream",
     "text": [
      "\n",
      "\n",
      "\n",
      "\n",
      "  4%|▍         | 44/1000 [04:09<1:33:42,  5.88s/it]\u001b[A\u001b[A\u001b[A\u001b[A"
     ]
    },
    {
     "name": "stdout",
     "output_type": "stream",
     "text": [
      "valLoss: 3.6176e-02\n",
      "--- Epoch 45/1000 ---\n",
      "trainLoss: 2.1303e-02\n",
      "LR: 5.0000e-06\n"
     ]
    },
    {
     "name": "stderr",
     "output_type": "stream",
     "text": [
      "\n",
      "\n",
      "\n",
      "\n",
      "  4%|▍         | 45/1000 [04:14<1:31:41,  5.76s/it]\u001b[A\u001b[A\u001b[A\u001b[A"
     ]
    },
    {
     "name": "stdout",
     "output_type": "stream",
     "text": [
      "valLoss: 3.3815e-02\n",
      "Better valLoss: 3.3815e-02, Saving models...\n",
      "--- Epoch 46/1000 ---\n",
      "trainLoss: 2.0924e-02\n",
      "LR: 5.0000e-06\n"
     ]
    },
    {
     "name": "stderr",
     "output_type": "stream",
     "text": [
      "\n",
      "\n",
      "\n",
      "\n",
      "  5%|▍         | 46/1000 [04:20<1:30:17,  5.68s/it]\u001b[A\u001b[A\u001b[A\u001b[A"
     ]
    },
    {
     "name": "stdout",
     "output_type": "stream",
     "text": [
      "valLoss: 3.6453e-02\n",
      "--- Epoch 47/1000 ---\n",
      "trainLoss: 2.0834e-02\n",
      "LR: 5.0000e-06\n"
     ]
    },
    {
     "name": "stderr",
     "output_type": "stream",
     "text": [
      "\n",
      "\n",
      "\n",
      "\n",
      "  5%|▍         | 47/1000 [04:26<1:31:58,  5.79s/it]\u001b[A\u001b[A\u001b[A\u001b[A"
     ]
    },
    {
     "name": "stdout",
     "output_type": "stream",
     "text": [
      "valLoss: 3.5246e-02\n",
      "--- Epoch 48/1000 ---\n",
      "trainLoss: 2.0967e-02\n",
      "LR: 5.0000e-06\n"
     ]
    },
    {
     "name": "stderr",
     "output_type": "stream",
     "text": [
      "\n",
      "\n",
      "\n",
      "\n",
      "  5%|▍         | 48/1000 [04:31<1:30:18,  5.69s/it]\u001b[A\u001b[A\u001b[A\u001b[A"
     ]
    },
    {
     "name": "stdout",
     "output_type": "stream",
     "text": [
      "valLoss: 3.5162e-02\n",
      "--- Epoch 49/1000 ---\n",
      "trainLoss: 2.0911e-02\n",
      "LR: 5.0000e-06\n"
     ]
    },
    {
     "name": "stderr",
     "output_type": "stream",
     "text": [
      "\n",
      "\n",
      "\n",
      "\n",
      "  5%|▍         | 49/1000 [04:36<1:29:02,  5.62s/it]\u001b[A\u001b[A\u001b[A\u001b[A"
     ]
    },
    {
     "name": "stdout",
     "output_type": "stream",
     "text": [
      "valLoss: 3.4974e-02\n",
      "--- Epoch 50/1000 ---\n",
      "trainLoss: 2.0892e-02\n",
      "LR: 5.0000e-07\n"
     ]
    },
    {
     "name": "stderr",
     "output_type": "stream",
     "text": [
      "\n",
      "\n",
      "\n",
      "\n",
      "  5%|▌         | 50/1000 [04:43<1:32:05,  5.82s/it]\u001b[A\u001b[A\u001b[A\u001b[A"
     ]
    },
    {
     "name": "stdout",
     "output_type": "stream",
     "text": [
      "valLoss: 3.4554e-02\n",
      "--- Epoch 51/1000 ---\n",
      "trainLoss: 2.1019e-02\n",
      "LR: 5.0000e-07\n"
     ]
    },
    {
     "name": "stderr",
     "output_type": "stream",
     "text": [
      "\n",
      "\n",
      "\n",
      "\n",
      "  5%|▌         | 51/1000 [04:48<1:29:17,  5.65s/it]\u001b[A\u001b[A\u001b[A\u001b[A"
     ]
    },
    {
     "name": "stdout",
     "output_type": "stream",
     "text": [
      "valLoss: 3.4256e-02\n",
      "--- Epoch 52/1000 ---\n",
      "trainLoss: 2.0670e-02\n",
      "LR: 5.0000e-08\n"
     ]
    },
    {
     "name": "stderr",
     "output_type": "stream",
     "text": [
      "\n",
      "\n",
      "\n",
      "\n",
      "  5%|▌         | 52/1000 [04:53<1:27:38,  5.55s/it]\u001b[A\u001b[A\u001b[A\u001b[A"
     ]
    },
    {
     "name": "stdout",
     "output_type": "stream",
     "text": [
      "valLoss: 3.4839e-02\n",
      "--- Epoch 53/1000 ---\n",
      "trainLoss: 2.0753e-02\n",
      "LR: 5.0000e-08\n"
     ]
    },
    {
     "name": "stderr",
     "output_type": "stream",
     "text": [
      "\n",
      "\n",
      "\n",
      "\n",
      "  5%|▌         | 53/1000 [04:59<1:26:14,  5.46s/it]\u001b[A\u001b[A\u001b[A\u001b[A"
     ]
    },
    {
     "name": "stdout",
     "output_type": "stream",
     "text": [
      "valLoss: 3.6328e-02\n",
      "--- Epoch 54/1000 ---\n",
      "trainLoss: 2.0696e-02\n",
      "LR: 5.0000e-08\n",
      "valLoss: 3.5448e-02\n",
      "---------- Finished Training ----------\n"
     ]
    }
   ],
   "source": [
    "model = model.to(device)\n",
    "writeMessage('---------- Started Training ----------', versionName)\n",
    "bestLoss = np.infty\n",
    "\n",
    "for epoch in tqdm(range(1, epochs+1)):  # loop over the dataset multiple times\n",
    "    \n",
    "    writeMessage(\"--- Epoch {0}/{1} ---\".format(epoch, epochs), versionName)\n",
    "    \n",
    "    model.train()\n",
    "    trainLoss, tensorboard_recorder_step, total_steps = trainEpoch(trainDataLoader, \n",
    "                                                                   train_writer, model, opt, L,\n",
    "                                                                   rmse, lr_scheduler, \n",
    "                                                                   tensorboard_rate, device,\n",
    "                                                                   tensorboard_recorder_step, total_steps)\n",
    "    \n",
    "    writeMessage(\"trainLoss: {:.4e}\".format(trainLoss),versionName)\n",
    "    writeMessage(\"LR: {:.4e}\".format(opt.param_groups[0]['lr']),versionName)\n",
    "#     if trainLoss < bestLoss:\n",
    "#         bestLoss = trainLoss\n",
    "#         writeMessage(\"Better trainLoss: {:.4e}, Saving models...\".format(bestLoss),versionName)\n",
    "#         torch.save(model.state_dict(), os.path.join(cps,versionName))\n",
    "        \n",
    "    model.eval()\n",
    "    valLoss = validEpoch(testDataLoader, test_writer, model, L, rmse, device, tensorboard_recorder_step)\n",
    "    writeMessage(\"valLoss: {:.4e}\".format(valLoss),versionName)\n",
    "\n",
    "    #checkpoint progress\n",
    "    if valLoss < bestLoss:\n",
    "        bestLoss = valLoss\n",
    "        writeMessage(\"Better valLoss: {:.4e}, Saving models...\".format(bestLoss),versionName)\n",
    "        torch.save(model.state_dict(), os.path.join(cps,versionName))\n",
    "\n",
    "    lr_scheduler.step(trainLoss)\n",
    "    #lr_scheduler.step(valLoss)\n",
    "    \n",
    "    if opt.param_groups[0]['lr'] < 5e-8:\n",
    "        break\n",
    "writeMessage('---------- Finished Training ----------', versionName)"
   ]
  },
  {
   "cell_type": "markdown",
   "metadata": {},
   "source": [
    "## Test on the last trained model on Full simLen"
   ]
  },
  {
   "cell_type": "code",
   "execution_count": null,
   "metadata": {},
   "outputs": [
    {
     "data": {
      "text/plain": [
       "MLP(\n",
       "  (activation): Tanh()\n",
       "  (layers): Sequential(\n",
       "    (0): Linear(in_features=19, out_features=128, bias=True)\n",
       "    (1): Tanh()\n",
       "    (2): Linear(in_features=128, out_features=128, bias=True)\n",
       "    (3): Tanh()\n",
       "    (4): Linear(in_features=128, out_features=19, bias=True)\n",
       "  )\n",
       ")"
      ]
     },
     "execution_count": null,
     "metadata": {},
     "output_type": "execute_result"
    }
   ],
   "source": [
    "model.eval()"
   ]
  },
  {
   "cell_type": "code",
   "execution_count": null,
   "metadata": {},
   "outputs": [],
   "source": [
    "def invPreprocess(xnew):\n",
    "    x = ((xnew/2)+.5)*(x_mx-x_mn) + x_mn\n",
    "    return x\n",
    "\n",
    "\n",
    "def test_model(model,test_ind,doPlot=False):\n",
    "    # last model\n",
    "    idx = test_ind # choose one of the test samples\n",
    "    testDataset = LatentVectors(test_data[idx:idx+1],doPreprocess=True,w=simLen-1,mx=x_mx,mn=x_mn)\n",
    "    testDataLoader = DataLoader(dataset=testDataset, batch_size=1)\n",
    "    X,y = next(iter(testDataLoader))\n",
    "    X.shape, y.shape\n",
    "\n",
    "    xhat = X.to(device).clone()\n",
    "    out = []\n",
    "    for idx in range(y.shape[1]):\n",
    "        xhat = model(xhat).clone()\n",
    "        xhat[:,:,-p.shape[1]:] = y[:,idx:idx+1,-p.shape[1]:]\n",
    "        out.append(xhat)\n",
    "    out = torch.stack(out).squeeze()\n",
    "\n",
    "    yy = y.squeeze().to(device)\n",
    "    err = []\n",
    "    for i in range(out.shape[0]):\n",
    "        e = invPreprocess(yy[i].detach().cpu().numpy()) - invPreprocess(out[i].detach().cpu().numpy())\n",
    "        err.append(np.linalg.norm(e))\n",
    "\n",
    "    if doPlot:\n",
    "        plt.plot(err)\n",
    "        plt.title('Test Sample'.format(test_ind))\n",
    "        \n",
    "    return err"
   ]
  },
  {
   "cell_type": "code",
   "execution_count": null,
   "metadata": {},
   "outputs": [
    {
     "data": {
      "image/png": "[encoded data removed]",
      "text/plain": [
       "<Figure size 432x288 with 1 Axes>"
      ]
     },
     "metadata": {
      "needs_background": "light"
     },
     "output_type": "display_data"
    }
   ],
   "source": [
    "Err = []\n",
    "for idx in range(len(test_data)):  \n",
    "    e = test_model(model,idx,True)\n",
    "    Err.append(e)"
   ]
  },
  {
   "cell_type": "code",
   "execution_count": null,
   "metadata": {},
   "outputs": [
    {
     "data": {
      "text/plain": [
       "17.54997"
      ]
     },
     "execution_count": null,
     "metadata": {},
     "output_type": "execute_result"
    }
   ],
   "source": [
    "np.mean(Err)"
   ]
  },
  {
   "cell_type": "markdown",
   "metadata": {},
   "source": [
    "## Test on the best validation model on Full simLen"
   ]
  },
  {
   "cell_type": "code",
   "execution_count": null,
   "metadata": {},
   "outputs": [],
   "source": [
    "# best val loss model\n",
    "model.load_state_dict(torch.load(os.path.join(cps,versionName)))\n",
    "model = model.to(device)"
   ]
  },
  {
   "cell_type": "code",
   "execution_count": null,
   "metadata": {},
   "outputs": [
    {
     "data": {
      "image/png": "[encoded data removed]",
      "text/plain": [
       "<Figure size 432x288 with 1 Axes>"
      ]
     },
     "metadata": {
      "needs_background": "light"
     },
     "output_type": "display_data"
    }
   ],
   "source": [
    "Err = []\n",
    "for idx in range(len(test_data)):  \n",
    "    e = test_model(model,idx,True)\n",
    "    Err.append(e)"
   ]
  },
  {
   "cell_type": "code",
   "execution_count": null,
   "metadata": {},
   "outputs": [
    {
     "data": {
      "text/plain": [
       "34.40713"
      ]
     },
     "execution_count": null,
     "metadata": {},
     "output_type": "execute_result"
    }
   ],
   "source": [
    "np.mean(Err)"
   ]
  },
  {
   "cell_type": "markdown",
   "metadata": {},
   "source": [
    "## Relative Error"
   ]
  },
  {
   "cell_type": "code",
   "execution_count": null,
   "metadata": {},
   "outputs": [],
   "source": [
    "def test_model_rel_err(model,test_ind,doPlot=False):\n",
    "    # last model\n",
    "    idx = test_ind # choose one of the test samples\n",
    "    testDataset = LatentVectors(test_data[idx:idx+1],doPreprocess=True,w=simLen-1,mx=x_mx,mn=x_mn)\n",
    "    testDataLoader = DataLoader(dataset=testDataset, batch_size=1)\n",
    "    X,y = next(iter(testDataLoader))\n",
    "    X.shape, y.shape\n",
    "\n",
    "    xhat = X.to(device).clone()\n",
    "    out = []\n",
    "    for idx in range(y.shape[1]):\n",
    "        xhat = model(xhat).clone()\n",
    "        xhat[:,:,-p.shape[1]:] = y[:,idx:idx+1,-p.shape[1]:]\n",
    "        out.append(xhat)\n",
    "    out = torch.stack(out).squeeze()\n",
    "\n",
    "    yy = y.squeeze().to(device)\n",
    "    err = []\n",
    "    for i in range(out.shape[0]):\n",
    "        label = invPreprocess(yy[i].detach().cpu().numpy())\n",
    "        e =  label - invPreprocess(out[i].detach().cpu().numpy())\n",
    "        err.append(np.linalg.norm(e)/np.linalg.norm(label))\n",
    "\n",
    "    if doPlot:\n",
    "        plt.plot(err)\n",
    "        plt.title('Test Samples Relative Errors'.format(test_ind))\n",
    "        \n",
    "    return err"
   ]
  },
  {
   "cell_type": "code",
   "execution_count": null,
   "metadata": {},
   "outputs": [
    {
     "data": {
      "image/png": "[encoded data removed]",
      "text/plain": [
       "<Figure size 432x288 with 1 Axes>"
      ]
     },
     "metadata": {
      "needs_background": "light"
     },
     "output_type": "display_data"
    }
   ],
   "source": [
    "Err = []\n",
    "for idx in range(len(test_data)):  \n",
    "    e = test_model_rel_err(model,idx,True)\n",
    "    Err.append(e)"
   ]
  },
  {
   "cell_type": "code",
   "execution_count": null,
   "metadata": {},
   "outputs": [],
   "source": []
  },
  {
   "cell_type": "code",
   "execution_count": null,
   "metadata": {},
   "outputs": [],
   "source": []
  }
 ],
 "metadata": {
  "kernelspec": {
   "display_name": "Python 3",
   "language": "python",
   "name": "python3"
  },
  "language_info": {
   "codemirror_mode": {
    "name": "ipython",
    "version": 3
   },
   "file_extension": ".py",
   "mimetype": "text/x-python",
   "name": "python",
   "nbconvert_exporter": "python",
   "pygments_lexer": "ipython3",
   "version": "3.8.3"
  }
 },
 "nbformat": 4,
 "nbformat_minor": 2
}
