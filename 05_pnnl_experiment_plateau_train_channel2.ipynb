{
 "cells": [
  {
   "cell_type": "markdown",
   "metadata": {},
   "source": [
    "## This code trains an encoder/decoder for 1 channel of the pnnl datasets.\n",
    "\n",
    "Make sure the channel is set:\n",
    "\n",
    "channel = 1,2 = velocity_y, volume_frac\n"
   ]
  },
  {
   "cell_type": "markdown",
   "metadata": {},
   "source": [
    "## Imports"
   ]
  },
  {
   "cell_type": "code",
   "execution_count": 1,
   "metadata": {
    "ExecuteTime": {
     "end_time": "2020-11-06T03:47:07.200262Z",
     "start_time": "2020-11-06T03:47:05.003710Z"
    }
   },
   "outputs": [],
   "source": [
    "# EXPORT\n",
    "# --- Must haves ---\n",
    "import os, sys\n",
    "sys.path.append('..')\n",
    "\n",
    "import torch\n",
    "from torch.utils.data import Dataset, DataLoader\n",
    "from torch.utils.tensorboard import SummaryWriter\n",
    "import torch.cuda as cuda\n",
    "import torch.nn as nn\n",
    "import torchvision\n",
    "import torch.nn.functional as F\n",
    "\n",
    "from surrogates4sims.pnnlDatasets import CCSI_2D\n",
    "\n",
    "from surrogates4sims.utils import create_opt, create_one_cycle, find_lr, printNumModelParams, \\\n",
    "                                    rmse, writeMessage, plotSampleWprediction, plotSampleWpredictionByChannel, \\\n",
    "                                    plotSample, curl, jacobian, stream2uv, convertSimToImage, pkl_save, pkl_load, \\\n",
    "                                    create_1_channel_movie\n",
    "\n",
    "from surrogates4sims.models import Generator, Encoder, AE_no_P, AE_xhat_z, AE_xhat_zV2\n",
    "\n",
    "from surrogates4sims.train import trainEpoch, validEpoch\n",
    "\n",
    "import numpy as np\n",
    "from tqdm import tqdm\n",
    "from copy import deepcopy\n",
    "import matplotlib.pyplot as plt\n",
    "from glob import glob"
   ]
  },
  {
   "cell_type": "markdown",
   "metadata": {},
   "source": [
    "## Settings"
   ]
  },
  {
   "cell_type": "code",
   "execution_count": 2,
   "metadata": {
    "ExecuteTime": {
     "end_time": "2020-11-06T03:47:07.225109Z",
     "start_time": "2020-11-06T03:47:07.204157Z"
    }
   },
   "outputs": [
    {
     "data": {
      "text/plain": [
       "'pnnl_plateau_train_GPUs23_channel2_gridsize128_latentDim256_filters128_bz32_numConv4_jacobianFalse_norm_layerIdentity_epochs1000_stackTrue'"
      ]
     },
     "execution_count": 2,
     "metadata": {},
     "output_type": "execute_result"
    }
   ],
   "source": [
    "DEBUG = False\n",
    "# model name, for tensorboard recording and checkpointing purposes.\n",
    "versionName = \"pnnl_plateau_train\"\n",
    "\n",
    "# GPU Numbers to use. Comma seprate them for multi-GPUs.\n",
    "gpu_ids = \"2,3\"\n",
    "versionName = versionName + '_GPUs{}'.format(gpu_ids.replace(',',''))\n",
    "# path to load model weights.\n",
    "pretrained_path = None\n",
    "\n",
    "# rate at which to record metrics. (number of batches to average over when recording metrics, e.g. \"every 5 batches\")\n",
    "tensorboard_rate = 5\n",
    "\n",
    "# number of epochs to train. This is defined here so we can use the OneCycle LR Scheduler.\n",
    "epochs = 1000\n",
    "\n",
    "# Data Directory\n",
    "channel = 2\n",
    "gridsize = 128\n",
    "dataDirec = '/data/ccsi/pnnl_liquid_inlet/channel_{}/gridsize_{}'.format(channel,gridsize)\n",
    "preprocess = False # keep this as false until using the long runtime loader\n",
    "testSplit = .2\n",
    "AE = False\n",
    "numWorkers = 2\n",
    "\n",
    "# checkpoint directory\n",
    "cps = 'cps'\n",
    "tensorboard_direc = \"tb\"\n",
    "\n",
    "findLRs = True  \n",
    "\n",
    "# hyper-params\n",
    "seed = 1234\n",
    "np.random.seed(seed)\n",
    "bz = 32\n",
    "window_size = 0 #important to set this to zero to prevent creation of window_size elements of Y for each X\n",
    "numSamplesToKeep = np.infty #if not debugging\n",
    "latentDim = 256\n",
    "filters = 128\n",
    "num_conv = 4 # breaks when less than 2\n",
    "simLen = 500\n",
    "stack = True\n",
    "doJacobian = False\n",
    "createStreamFcn = False\n",
    "repeat = 0\n",
    "skip_connection = False\n",
    "norm_layer = [nn.Identity, nn.BatchNorm2d, 'etc.'][0] # pick a norm layer to use for the autoencoder\n",
    "patience = 2\n",
    "if DEBUG:\n",
    "    epochs = 2\n",
    "    numSamplesToKeep = 2\n",
    "    \n",
    "versionName = versionName + '_channel{}_gridsize{}_latentDim{}_filters{}_bz{}_numConv{}_jacobian{}_norm_layer{}_epochs{}_stack{}'.format(channel,gridsize,latentDim,filters,bz,num_conv,doJacobian,repr(norm_layer).split('.')[-1][:-2],epochs,stack)\n",
    "versionName"
   ]
  },
  {
   "cell_type": "markdown",
   "metadata": {},
   "source": [
    "### Select Personal GPUs"
   ]
  },
  {
   "cell_type": "code",
   "execution_count": 3,
   "metadata": {
    "ExecuteTime": {
     "end_time": "2020-11-06T03:47:07.424096Z",
     "start_time": "2020-11-06T03:47:07.227987Z"
    }
   },
   "outputs": [
    {
     "name": "stdout",
     "output_type": "stream",
     "text": [
      "Thu Nov  5 19:47:07 2020       \n",
      "+-----------------------------------------------------------------------------+\n",
      "| NVIDIA-SMI 440.33.01    Driver Version: 440.33.01    CUDA Version: 10.2     |\n",
      "|-------------------------------+----------------------+----------------------+\n",
      "| GPU  Name        Persistence-M| Bus-Id        Disp.A | Volatile Uncorr. ECC |\n",
      "| Fan  Temp  Perf  Pwr:Usage/Cap|         Memory-Usage | GPU-Util  Compute M. |\n",
      "|===============================+======================+======================|\n",
      "|   0  TITAN Xp            On   | 00000000:02:00.0 Off |                  N/A |\n",
      "| 23%   18C    P8     8W / 250W |      1MiB / 12196MiB |      0%      Default |\n",
      "+-------------------------------+----------------------+----------------------+\n",
      "|   1  TITAN Xp            On   | 00000000:03:00.0 Off |                  N/A |\n",
      "| 23%   19C    P8     8W / 250W |      1MiB / 12196MiB |      0%      Default |\n",
      "+-------------------------------+----------------------+----------------------+\n",
      "|   2  TITAN Xp            On   | 00000000:81:00.0 Off |                  N/A |\n",
      "| 33%   44C    P8    11W / 250W |      1MiB / 12196MiB |      0%      Default |\n",
      "+-------------------------------+----------------------+----------------------+\n",
      "|   3  TITAN Xp            On   | 00000000:82:00.0 Off |                  N/A |\n",
      "| 32%   43C    P8    12W / 250W |      1MiB / 12196MiB |      0%      Default |\n",
      "+-------------------------------+----------------------+----------------------+\n",
      "                                                                               \n",
      "+-----------------------------------------------------------------------------+\n",
      "| Processes:                                                       GPU Memory |\n",
      "|  GPU       PID   Type   Process name                             Usage      |\n",
      "|=============================================================================|\n",
      "|  No running processes found                                                 |\n",
      "+-----------------------------------------------------------------------------+\n"
     ]
    }
   ],
   "source": [
    "!nvidia-smi"
   ]
  },
  {
   "cell_type": "code",
   "execution_count": 4,
   "metadata": {
    "ExecuteTime": {
     "end_time": "2020-11-06T03:47:07.432655Z",
     "start_time": "2020-11-06T03:47:07.427713Z"
    }
   },
   "outputs": [],
   "source": [
    "os.environ[\"CUDA_DEVICE_ORDER\"]=\"PCI_BUS_ID\"   # see issue #152\n",
    "os.environ[\"CUDA_VISIBLE_DEVICES\"]=gpu_ids"
   ]
  },
  {
   "cell_type": "code",
   "execution_count": 5,
   "metadata": {
    "ExecuteTime": {
     "end_time": "2020-11-06T03:47:07.540883Z",
     "start_time": "2020-11-06T03:47:07.435786Z"
    }
   },
   "outputs": [
    {
     "name": "stdout",
     "output_type": "stream",
     "text": [
      "Using device: cuda\n"
     ]
    }
   ],
   "source": [
    "device = torch.device('cuda' if torch.cuda.is_available() else 'cpu')\n",
    "print('Using device:', device)"
   ]
  },
  {
   "cell_type": "code",
   "execution_count": 6,
   "metadata": {
    "ExecuteTime": {
     "end_time": "2020-11-06T03:47:07.557134Z",
     "start_time": "2020-11-06T03:47:07.546105Z"
    }
   },
   "outputs": [
    {
     "name": "stdout",
     "output_type": "stream",
     "text": [
      "True\n",
      "2\n",
      "0\n",
      "TITAN Xp\n"
     ]
    }
   ],
   "source": [
    "if device.type == 'cuda':\n",
    "    print(cuda.is_available())\n",
    "    print(cuda.device_count())\n",
    "    print(cuda.current_device())\n",
    "    print(cuda.get_device_name())"
   ]
  },
  {
   "cell_type": "code",
   "execution_count": 7,
   "metadata": {
    "ExecuteTime": {
     "end_time": "2020-11-06T03:47:09.528290Z",
     "start_time": "2020-11-06T03:47:07.560596Z"
    }
   },
   "outputs": [
    {
     "name": "stdout",
     "output_type": "stream",
     "text": [
      "Thu Nov  5 19:47:09 2020       \n",
      "+-----------------------------------------------------------------------------+\n",
      "| NVIDIA-SMI 440.33.01    Driver Version: 440.33.01    CUDA Version: 10.2     |\n",
      "|-------------------------------+----------------------+----------------------+\n",
      "| GPU  Name        Persistence-M| Bus-Id        Disp.A | Volatile Uncorr. ECC |\n",
      "| Fan  Temp  Perf  Pwr:Usage/Cap|         Memory-Usage | GPU-Util  Compute M. |\n",
      "|===============================+======================+======================|\n",
      "|   0  TITAN Xp            On   | 00000000:02:00.0 Off |                  N/A |\n",
      "| 23%   19C    P8     8W / 250W |      1MiB / 12196MiB |      0%      Default |\n",
      "+-------------------------------+----------------------+----------------------+\n",
      "|   1  TITAN Xp            On   | 00000000:03:00.0 Off |                  N/A |\n",
      "| 23%   19C    P8     8W / 250W |      1MiB / 12196MiB |      0%      Default |\n",
      "+-------------------------------+----------------------+----------------------+\n",
      "|   2  TITAN Xp            On   | 00000000:81:00.0 Off |                  N/A |\n",
      "| 32%   46C    P2    61W / 250W |    573MiB / 12196MiB |      3%      Default |\n",
      "+-------------------------------+----------------------+----------------------+\n",
      "|   3  TITAN Xp            On   | 00000000:82:00.0 Off |                  N/A |\n",
      "| 32%   43C    P8    11W / 250W |     12MiB / 12196MiB |      0%      Default |\n",
      "+-------------------------------+----------------------+----------------------+\n",
      "                                                                               \n",
      "+-----------------------------------------------------------------------------+\n",
      "| Processes:                                                       GPU Memory |\n",
      "|  GPU       PID   Type   Process name                             Usage      |\n",
      "|=============================================================================|\n",
      "|    2     21824      C   /home/bartoldson1/anaconda3/bin/python       561MiB |\n",
      "+-----------------------------------------------------------------------------+\n"
     ]
    }
   ],
   "source": [
    "a = torch.zeros(5, device=device.type)\n",
    "!nvidia-smi"
   ]
  },
  {
   "cell_type": "markdown",
   "metadata": {},
   "source": [
    "## Datasets & Loaders"
   ]
  },
  {
   "cell_type": "code",
   "execution_count": 8,
   "metadata": {
    "ExecuteTime": {
     "end_time": "2020-11-06T03:47:09.553490Z",
     "start_time": "2020-11-06T03:47:09.531752Z"
    }
   },
   "outputs": [
    {
     "data": {
      "text/plain": [
       "(10, 40)"
      ]
     },
     "execution_count": 8,
     "metadata": {},
     "output_type": "execute_result"
    }
   ],
   "source": [
    "sims = glob(os.path.join(dataDirec,'*.pkl'))\n",
    "numSims = len(sims)\n",
    "idx = int(testSplit*numSims)\n",
    "testInds = np.linspace(1,numSims-2,idx).astype('int')\n",
    "trainInds = list(set(np.arange(0,numSims)).difference(set(testInds)))\n",
    "# perm = np.random.permutation(numSims)\n",
    "# testInds = perm[:idx]\n",
    "# trainInds = perm[idx:]\n",
    "testSimFiles = [sims[idx] for idx in testInds]\n",
    "trainSimFiles = [sims[idx] for idx in trainInds]\n",
    "len(testSimFiles), len(trainSimFiles)"
   ]
  },
  {
   "cell_type": "code",
   "execution_count": 9,
   "metadata": {
    "ExecuteTime": {
     "end_time": "2020-11-06T03:47:10.345522Z",
     "start_time": "2020-11-06T03:47:09.556157Z"
    }
   },
   "outputs": [],
   "source": [
    "testDataset = CCSI_2D(testSimFiles,doPreprocess=preprocess,numToKeep=numSamplesToKeep,channel=channel,AE=AE,\n",
    "                      w=window_size)\n",
    "trainDataset = CCSI_2D(trainSimFiles,doPreprocess=preprocess,numToKeep=numSamplesToKeep,channel=channel,AE=AE,\n",
    "                      w=window_size)"
   ]
  },
  {
   "cell_type": "code",
   "execution_count": 10,
   "metadata": {
    "ExecuteTime": {
     "end_time": "2020-11-06T03:47:10.351480Z",
     "start_time": "2020-11-06T03:47:10.347041Z"
    }
   },
   "outputs": [
    {
     "data": {
      "text/plain": [
       "(625, 157)"
      ]
     },
     "execution_count": 10,
     "metadata": {},
     "output_type": "execute_result"
    }
   ],
   "source": [
    "trainDataLoader = DataLoader(dataset=trainDataset, batch_size=bz, shuffle=True, drop_last=True, num_workers=numWorkers)\n",
    "testDataLoader = DataLoader(dataset=testDataset, batch_size=bz, num_workers=numWorkers)\n",
    "len(trainDataLoader), len(testDataLoader)"
   ]
  },
  {
   "cell_type": "markdown",
   "metadata": {},
   "source": [
    "## Model"
   ]
  },
  {
   "cell_type": "markdown",
   "metadata": {},
   "source": [
    "Currently, the models need to take data to be built. It's kinda weird. I may look into fix this later. "
   ]
  },
  {
   "cell_type": "code",
   "execution_count": 11,
   "metadata": {
    "ExecuteTime": {
     "end_time": "2020-11-06T03:47:10.497245Z",
     "start_time": "2020-11-06T03:47:10.352795Z"
    }
   },
   "outputs": [
    {
     "data": {
      "text/plain": [
       "(torch.Size([32, 1, 128, 128]),\n",
       " torch.Size([32, 0, 1, 128, 128]),\n",
       " torch.Size([32, 2]),\n",
       " torch.Size([32, 0, 2]))"
      ]
     },
     "execution_count": 11,
     "metadata": {},
     "output_type": "execute_result"
    }
   ],
   "source": [
    "X, Y, p_x, p_y = next(iter(trainDataLoader))\n",
    "X, Y, p_x, p_y = X.to(device), Y.to(device), p_x.to(device), p_y.to(device)\n",
    "X.shape, Y.shape, p_x.shape, p_y.shape"
   ]
  },
  {
   "cell_type": "code",
   "execution_count": 12,
   "metadata": {
    "ExecuteTime": {
     "end_time": "2020-11-06T03:47:10.917130Z",
     "start_time": "2020-11-06T03:47:10.499504Z"
    }
   },
   "outputs": [
    {
     "name": "stdout",
     "output_type": "stream",
     "text": [
      "[128, 8, 8]\n"
     ]
    },
    {
     "name": "stderr",
     "output_type": "stream",
     "text": [
      "/home/bartoldson1/anaconda3/lib/python3.8/site-packages/torch/nn/functional.py:3000: UserWarning: The default behavior for interpolate/upsample with float scale_factor changed in 1.6.0 to align with other frameworks/libraries, and uses scale_factor directly, instead of relying on the computed output size. If you wish to keep the old behavior, please set recompute_scale_factor=True. See the documentation of nn.Upsample for details. \n",
      "  warnings.warn(\"The default behavior for interpolate/upsample with float scale_factor changed \"\n"
     ]
    }
   ],
   "source": [
    "model = AE_xhat_zV2(X, filters, latentDim, num_conv, repeat, \n",
    "                 skip_connection, stack, conv_k=3, last_k=3, \n",
    "                 act=nn.LeakyReLU(), return_z=True, stream=createStreamFcn, device=device, norm=norm_layer)\n",
    "\n",
    "if len(gpu_ids.split(',')) > 1:\n",
    "    model = nn.DataParallel(model)"
   ]
  },
  {
   "cell_type": "code",
   "execution_count": 13,
   "metadata": {
    "ExecuteTime": {
     "end_time": "2020-11-06T03:47:10.921486Z",
     "start_time": "2020-11-06T03:47:10.918604Z"
    }
   },
   "outputs": [
    {
     "name": "stdout",
     "output_type": "stream",
     "text": [
      "90 layers require gradients (unfrozen) out of 90 layers\n",
      "13,668,609 parameters require gradients (unfrozen) out of 13,668,609 parameters\n"
     ]
    }
   ],
   "source": [
    "printNumModelParams(model)"
   ]
  },
  {
   "cell_type": "code",
   "execution_count": 14,
   "metadata": {
    "ExecuteTime": {
     "end_time": "2020-11-06T03:47:12.688498Z",
     "start_time": "2020-11-06T03:47:10.922874Z"
    }
   },
   "outputs": [
    {
     "data": {
      "text/plain": [
       "(torch.Size([32, 1, 128, 128]), torch.Size([32, 256]))"
      ]
     },
     "execution_count": 14,
     "metadata": {},
     "output_type": "execute_result"
    }
   ],
   "source": [
    "Xhat,z = model(X, p_x)\n",
    "Xhat.shape, z.shape"
   ]
  },
  {
   "cell_type": "code",
   "execution_count": 15,
   "metadata": {
    "ExecuteTime": {
     "end_time": "2020-11-06T03:47:12.707483Z",
     "start_time": "2020-11-06T03:47:12.691361Z"
    }
   },
   "outputs": [
    {
     "data": {
      "text/plain": [
       "True"
      ]
     },
     "execution_count": 15,
     "metadata": {},
     "output_type": "execute_result"
    }
   ],
   "source": [
    "np.allclose(z[:,-2:].detach().cpu(),p_x.cpu())"
   ]
  },
  {
   "cell_type": "markdown",
   "metadata": {},
   "source": [
    "## Loss Function"
   ]
  },
  {
   "cell_type": "code",
   "execution_count": 16,
   "metadata": {
    "ExecuteTime": {
     "end_time": "2020-11-06T03:47:12.720324Z",
     "start_time": "2020-11-06T03:47:12.709536Z"
    }
   },
   "outputs": [],
   "source": [
    "def L2_relative_loss(pred, target):\n",
    "    return torch.norm(pred - target)/torch.norm(target)\n",
    "\n",
    "\n",
    "def L1_loss(pred, target):\n",
    "    return torch.mean(torch.abs(pred - target))\n",
    "\n",
    "\n",
    "def jacobian_loss(pred, target, device='cpu'):\n",
    "    return L1_loss(jacobian(pred, device), jacobian(target, device))\n",
    "\n",
    "\n",
    "def curl_loss(pred, target, device):\n",
    "    return L1_loss(curl(pred, device), curl(target, device))\n",
    "\n",
    "\n",
    "L = nn.MSELoss()\n",
    "\n",
    "\n",
    "def p_loss(pred, target):\n",
    "    return L(pred[:, -target.shape[1]:], target)\n",
    "\n",
    "\n",
    "def loss(pred, target, device):\n",
    "    \n",
    "    if createStreamFcn:\n",
    "        pred = stream2uv(pred, device)\n",
    "        \n",
    "    L = L2_relative_loss(pred, target)\n",
    "    Lj = 0\n",
    "    if doJacobian:\n",
    "        Lj = jacobian_loss(pred, target, device)\n",
    "        \n",
    "    return L + Lj"
   ]
  },
  {
   "cell_type": "code",
   "execution_count": 17,
   "metadata": {
    "ExecuteTime": {
     "end_time": "2020-11-06T03:47:12.731737Z",
     "start_time": "2020-11-06T03:47:12.722350Z"
    }
   },
   "outputs": [
    {
     "data": {
      "text/plain": [
       "torch.Size([32, 2, 128, 128])"
      ]
     },
     "execution_count": 17,
     "metadata": {},
     "output_type": "execute_result"
    }
   ],
   "source": [
    "pred = stream2uv(Xhat,device)\n",
    "pred.shape"
   ]
  },
  {
   "cell_type": "code",
   "execution_count": 18,
   "metadata": {
    "ExecuteTime": {
     "end_time": "2020-11-06T03:47:12.743045Z",
     "start_time": "2020-11-06T03:47:12.734003Z"
    }
   },
   "outputs": [
    {
     "data": {
      "text/plain": [
       "tensor(1.4145, device='cuda:0', grad_fn=<AddBackward0>)"
      ]
     },
     "execution_count": 18,
     "metadata": {},
     "output_type": "execute_result"
    }
   ],
   "source": [
    "loss(pred,X,device)"
   ]
  },
  {
   "cell_type": "markdown",
   "metadata": {},
   "source": [
    "## Set LR"
   ]
  },
  {
   "cell_type": "code",
   "execution_count": 19,
   "metadata": {
    "ExecuteTime": {
     "end_time": "2020-11-06T03:47:12.749463Z",
     "start_time": "2020-11-06T03:47:12.745154Z"
    }
   },
   "outputs": [],
   "source": [
    "if findLRs and (len(gpu_ids.split(','))==1): # doesn't work for multigpu???\n",
    "    model.return_z = False\n",
    "    opt = create_opt(1e-7,model)\n",
    "    find_lr(model,opt,L,device,trainDataLoader)\n",
    "    model.return_z = True"
   ]
  },
  {
   "cell_type": "code",
   "execution_count": 20,
   "metadata": {
    "ExecuteTime": {
     "end_time": "2020-11-06T03:47:12.757182Z",
     "start_time": "2020-11-06T03:47:12.751625Z"
    }
   },
   "outputs": [],
   "source": [
    "max_lr = .0001\n",
    "start_lr = 5*max_lr/10\n",
    "#opt = create_opt(max_lr,model)\n",
    "#lr_scheduler = create_one_cycle(opt,max_lr,epochs,trainDataLoader)\n",
    "opt = torch.optim.Adam(model.parameters(),lr=max_lr,betas=(.5,.999))\n",
    "lr_scheduler = torch.optim.lr_scheduler.ReduceLROnPlateau(opt,patience=patience)"
   ]
  },
  {
   "cell_type": "code",
   "execution_count": 21,
   "metadata": {
    "ExecuteTime": {
     "end_time": "2020-11-06T03:47:12.762631Z",
     "start_time": "2020-11-06T03:47:12.759201Z"
    }
   },
   "outputs": [],
   "source": [
    "versionName = versionName + '_lr{}'.format(str(max_lr))"
   ]
  },
  {
   "cell_type": "markdown",
   "metadata": {},
   "source": [
    "## Train"
   ]
  },
  {
   "cell_type": "code",
   "execution_count": 22,
   "metadata": {
    "ExecuteTime": {
     "end_time": "2020-11-06T03:47:12.776651Z",
     "start_time": "2020-11-06T03:47:12.764956Z"
    }
   },
   "outputs": [],
   "source": [
    "def trainEpoch(myDataLoader, tensorboard_writer, model, opt, p_loss, loss,\n",
    "               metric, lr_scheduler, tensorboard_rate, device,\n",
    "               tensorboard_recorder_step, total_steps):\n",
    "    running_loss = 0.0\n",
    "    running_rmse = 0.0\n",
    "    total_loss = 0.0\n",
    "    running_ploss = 0.0\n",
    "    for i, sampleBatch in enumerate(myDataLoader, start=1):\n",
    "\n",
    "        # --- Main Training ---\n",
    "        \n",
    "        # gpu\n",
    "        X, Y, p_x, p_y = sampleBatch\n",
    "        X = X.to(device)\n",
    "        p_x = p_x.to(device)\n",
    "\n",
    "        # zero the parameter gradients\n",
    "        opt.zero_grad()\n",
    "\n",
    "        X_hat, z = model(X, p_x)\n",
    "        #pl = p_loss(z,p)\n",
    "        ll = loss(X_hat,X,device)\n",
    "        combined_loss = ll #pl + ll\n",
    "        combined_loss.backward()\n",
    "        opt.step()\n",
    "        \n",
    "        # loss\n",
    "        batch_loss = combined_loss.item()\n",
    "        running_loss += batch_loss\n",
    "        total_loss += batch_loss\n",
    "        \n",
    "        #batch_ploss = pl.item()\n",
    "        #running_ploss += batch_ploss\n",
    "\n",
    "        # --- Metrics Recording ---\n",
    "\n",
    "        # metrics\n",
    "        r = metric(X_hat, X)\n",
    "        running_rmse += r\n",
    "\n",
    "        # record lr change\n",
    "        total_steps += 1\n",
    "        tensorboard_writer.add_scalar(tag=\"LR\", scalar_value=opt.param_groups[0]['lr'], global_step=total_steps)\n",
    "        #lr_scheduler.step()\n",
    "\n",
    "        # tensorboard writes\n",
    "        if (i % tensorboard_rate == 0):\n",
    "            tensorboard_recorder_step += 1\n",
    "            avg_running_loss = running_loss/tensorboard_rate\n",
    "            avg_running_rmse = running_rmse/tensorboard_rate\n",
    "            #avg_running_ploss = running_ploss/tensorboard_rate\n",
    "            tensorboard_writer.add_scalar(tag=\"Loss\", scalar_value=avg_running_loss, global_step=tensorboard_recorder_step)\n",
    "            #tensorboard_writer.add_scalar(tag=\"p_loss\", scalar_value=avg_running_ploss, global_step=tensorboard_recorder_step)\n",
    "            tensorboard_writer.add_scalar(tag=metric.__name__, scalar_value=avg_running_rmse, global_step=tensorboard_recorder_step)\n",
    "            # reset running_loss for the next set of batches. (tensorboard_rate number of batches)\n",
    "            running_loss = 0.0\n",
    "            running_rmse = 0.0\n",
    "            #running_ploss = 0.0\n",
    "\n",
    "    return total_loss/len(myDataLoader), tensorboard_recorder_step, total_steps"
   ]
  },
  {
   "cell_type": "code",
   "execution_count": 23,
   "metadata": {
    "ExecuteTime": {
     "end_time": "2020-11-06T03:47:12.787190Z",
     "start_time": "2020-11-06T03:47:12.778821Z"
    }
   },
   "outputs": [],
   "source": [
    "# EXPORT\n",
    "def validEpoch(myDataLoader, tensorboard_writer, model, p_loss, loss, metric,\n",
    "               device, tensorboard_recorder_step):\n",
    "    running_loss = 0.0\n",
    "    running_rmse = 0.0\n",
    "    for i, sampleBatch in enumerate(myDataLoader, start=1):\n",
    "\n",
    "        # --- Metrics Recording ---\n",
    "\n",
    "        # gpu\n",
    "        X, Y, p_x, p_y = sampleBatch\n",
    "        X = X.to(device)\n",
    "        p_x = p_x.to(device)\n",
    "        \n",
    "        perc = len(X)/len(myDataLoader.dataset)\n",
    "\n",
    "        # forward, no gradient calculations\n",
    "        with torch.no_grad():\n",
    "            X_hat, z = model(X, p_x)\n",
    "\n",
    "        # loss\n",
    "        #combined_loss = p_loss(z,p) + loss(X_hat,X,device)\n",
    "        combined_loss = loss(X_hat,X,device)\n",
    "        \n",
    "        running_loss += perc*(combined_loss.item())\n",
    "\n",
    "        # metrics\n",
    "        r = metric(X_hat, X)\n",
    "        running_rmse += perc*r\n",
    "\n",
    "    avg_running_loss = running_loss\n",
    "    avg_running_rmse = running_rmse\n",
    "    tensorboard_writer.add_scalar(tag=\"Loss\", scalar_value=avg_running_loss, global_step=tensorboard_recorder_step)\n",
    "    tensorboard_writer.add_scalar(tag=metric.__name__, scalar_value=avg_running_rmse, global_step=tensorboard_recorder_step)\n",
    "\n",
    "    return running_loss"
   ]
  },
  {
   "cell_type": "code",
   "execution_count": 24,
   "metadata": {
    "ExecuteTime": {
     "end_time": "2020-11-06T03:47:12.793806Z",
     "start_time": "2020-11-06T03:47:12.789414Z"
    }
   },
   "outputs": [
    {
     "name": "stdout",
     "output_type": "stream",
     "text": [
      "checkpoints directory already exists :)\n"
     ]
    }
   ],
   "source": [
    "try:\n",
    "    os.mkdir(cps)\n",
    "except:\n",
    "    print(\"checkpoints directory already exists :)\")"
   ]
  },
  {
   "cell_type": "code",
   "execution_count": 25,
   "metadata": {
    "ExecuteTime": {
     "end_time": "2020-11-06T03:47:15.405850Z",
     "start_time": "2020-11-06T03:47:12.795819Z"
    }
   },
   "outputs": [],
   "source": [
    "# create a summary writer.\n",
    "train_writer = SummaryWriter(os.path.join(tensorboard_direc, versionName,'train'))\n",
    "test_writer = SummaryWriter(os.path.join(tensorboard_direc, versionName,'valid'))\n",
    "tensorboard_recorder_step = 0\n",
    "total_steps = 0"
   ]
  },
  {
   "cell_type": "code",
   "execution_count": null,
   "metadata": {
    "ExecuteTime": {
     "start_time": "2020-11-06T03:47:04.846Z"
    }
   },
   "outputs": [
    {
     "name": "stderr",
     "output_type": "stream",
     "text": [
      "\r",
      "  0%|          | 0/1000 [00:00<?, ?it/s]"
     ]
    },
    {
     "name": "stdout",
     "output_type": "stream",
     "text": [
      "---------- Started Training ----------\n",
      "--- Epoch 1/1000 ---\n"
     ]
    },
    {
     "name": "stderr",
     "output_type": "stream",
     "text": [
      "/home/bartoldson1/anaconda3/lib/python3.8/site-packages/torch/nn/functional.py:3000: UserWarning: The default behavior for interpolate/upsample with float scale_factor changed in 1.6.0 to align with other frameworks/libraries, and uses scale_factor directly, instead of relying on the computed output size. If you wish to keep the old behavior, please set recompute_scale_factor=True. See the documentation of nn.Upsample for details. \n",
      "  warnings.warn(\"The default behavior for interpolate/upsample with float scale_factor changed \"\n"
     ]
    },
    {
     "name": "stdout",
     "output_type": "stream",
     "text": [
      "trainLoss: 5.7496e-01\n",
      "LR: 1.0000e-04\n",
      "valLoss: 5.0461e-01\n",
      "Better valLoss: 5.0461e-01, Saving models...\n"
     ]
    },
    {
     "name": "stderr",
     "output_type": "stream",
     "text": [
      "\r",
      "  0%|          | 1/1000 [03:04<51:07:41, 184.25s/it]"
     ]
    },
    {
     "name": "stdout",
     "output_type": "stream",
     "text": [
      "--- Epoch 2/1000 ---\n",
      "trainLoss: 4.7735e-01\n",
      "LR: 1.0000e-04\n",
      "valLoss: 4.7351e-01\n",
      "Better valLoss: 4.7351e-01, Saving models...\n"
     ]
    },
    {
     "name": "stderr",
     "output_type": "stream",
     "text": [
      "\r",
      "  0%|          | 2/1000 [06:08<51:06:49, 184.38s/it]"
     ]
    },
    {
     "name": "stdout",
     "output_type": "stream",
     "text": [
      "--- Epoch 3/1000 ---\n",
      "trainLoss: 4.4090e-01\n",
      "LR: 1.0000e-04\n",
      "valLoss: 4.3043e-01\n",
      "Better valLoss: 4.3043e-01, Saving models...\n"
     ]
    },
    {
     "name": "stderr",
     "output_type": "stream",
     "text": [
      "\r",
      "  0%|          | 3/1000 [09:13<51:06:08, 184.52s/it]"
     ]
    },
    {
     "name": "stdout",
     "output_type": "stream",
     "text": [
      "--- Epoch 4/1000 ---\n",
      "trainLoss: 4.0924e-01\n",
      "LR: 1.0000e-04\n",
      "valLoss: 4.1208e-01\n",
      "Better valLoss: 4.1208e-01, Saving models...\n"
     ]
    },
    {
     "name": "stderr",
     "output_type": "stream",
     "text": [
      "\r",
      "  0%|          | 4/1000 [12:17<51:00:33, 184.37s/it]"
     ]
    },
    {
     "name": "stdout",
     "output_type": "stream",
     "text": [
      "--- Epoch 5/1000 ---\n",
      "trainLoss: 3.8466e-01\n",
      "LR: 1.0000e-04\n",
      "valLoss: 3.9126e-01\n",
      "Better valLoss: 3.9126e-01, Saving models...\n"
     ]
    },
    {
     "name": "stderr",
     "output_type": "stream",
     "text": [
      "\r",
      "  0%|          | 5/1000 [15:22<50:58:29, 184.43s/it]"
     ]
    },
    {
     "name": "stdout",
     "output_type": "stream",
     "text": [
      "--- Epoch 6/1000 ---\n",
      "trainLoss: 3.6525e-01\n",
      "LR: 1.0000e-04\n",
      "valLoss: 3.7862e-01\n",
      "Better valLoss: 3.7862e-01, Saving models...\n"
     ]
    },
    {
     "name": "stderr",
     "output_type": "stream",
     "text": [
      "\r",
      "  1%|          | 6/1000 [18:27<50:57:17, 184.54s/it]"
     ]
    },
    {
     "name": "stdout",
     "output_type": "stream",
     "text": [
      "--- Epoch 7/1000 ---\n",
      "trainLoss: 3.4985e-01\n",
      "LR: 1.0000e-04\n"
     ]
    },
    {
     "name": "stderr",
     "output_type": "stream",
     "text": [
      "\r",
      "  1%|          | 7/1000 [21:32<50:55:44, 184.64s/it]"
     ]
    },
    {
     "name": "stdout",
     "output_type": "stream",
     "text": [
      "valLoss: 3.6906e-01\n",
      "Better valLoss: 3.6906e-01, Saving models...\n",
      "--- Epoch 8/1000 ---\n"
     ]
    }
   ],
   "source": [
    "writeMessage('---------- Started Training ----------', versionName)\n",
    "bestLoss = np.infty\n",
    "\n",
    "for epoch in tqdm(range(1, epochs+1)):  # loop over the dataset multiple times\n",
    "    \n",
    "    writeMessage(\"--- Epoch {0}/{1} ---\".format(epoch, epochs), versionName)\n",
    "    \n",
    "    model.train()\n",
    "    trainLoss, tensorboard_recorder_step, total_steps = trainEpoch(trainDataLoader, \n",
    "                                                                   train_writer, model, opt, p_loss, loss,\n",
    "                                                                   rmse, lr_scheduler, \n",
    "                                                                   tensorboard_rate, device,\n",
    "                                                                   tensorboard_recorder_step, total_steps)\n",
    "    \n",
    "    writeMessage(\"trainLoss: {:.4e}\".format(trainLoss),versionName)\n",
    "    writeMessage(\"LR: {:.4e}\".format(opt.param_groups[0]['lr']),versionName)\n",
    "#     if trainLoss < bestLoss:\n",
    "#         bestLoss = trainLoss\n",
    "#         writeMessage(\"Better trainLoss: {:.4e}, Saving models...\".format(bestLoss),versionName)\n",
    "#         torch.save(model.state_dict(), os.path.join(cps,versionName))\n",
    "        \n",
    "    model.eval()\n",
    "    valLoss = validEpoch(testDataLoader, test_writer, model, p_loss, loss, rmse, device, tensorboard_recorder_step)\n",
    "    writeMessage(\"valLoss: {:.4e}\".format(valLoss),versionName)\n",
    "    \n",
    "    # checkpoint progress\n",
    "    if valLoss < bestLoss:\n",
    "        bestLoss = valLoss\n",
    "        writeMessage(\"Better valLoss: {:.4e}, Saving models...\".format(bestLoss),versionName)\n",
    "        torch.save(model.state_dict(), os.path.join(cps,versionName))\n",
    "\n",
    "    lr_scheduler.step(valLoss)\n",
    "    \n",
    "    if opt.param_groups[0]['lr'] < 5e-8:\n",
    "        break\n",
    "writeMessage('---------- Finished Training ----------', versionName)"
   ]
  },
  {
   "cell_type": "markdown",
   "metadata": {},
   "source": [
    "## Compare: Generated vs. Simulated"
   ]
  },
  {
   "cell_type": "code",
   "execution_count": 36,
   "metadata": {
    "ExecuteTime": {
     "end_time": "2020-11-06T17:20:30.476777Z",
     "start_time": "2020-11-06T17:20:30.330333Z"
    }
   },
   "outputs": [],
   "source": [
    "model.load_state_dict(torch.load(os.path.join(cps,versionName)))\n",
    "model = model.to(device)"
   ]
  },
  {
   "cell_type": "code",
   "execution_count": 37,
   "metadata": {
    "ExecuteTime": {
     "end_time": "2020-11-06T17:20:31.505126Z",
     "start_time": "2020-11-06T17:20:31.181947Z"
    }
   },
   "outputs": [
    {
     "name": "stderr",
     "output_type": "stream",
     "text": [
      "/home/bartoldson1/anaconda3/lib/python3.8/site-packages/torch/nn/functional.py:3000: UserWarning: The default behavior for interpolate/upsample with float scale_factor changed in 1.6.0 to align with other frameworks/libraries, and uses scale_factor directly, instead of relying on the computed output size. If you wish to keep the old behavior, please set recompute_scale_factor=True. See the documentation of nn.Upsample for details. \n",
      "  warnings.warn(\"The default behavior for interpolate/upsample with float scale_factor changed \"\n"
     ]
    },
    {
     "data": {
      "text/plain": [
       "(torch.Size([32, 1, 128, 128]),\n",
       " torch.Size([32, 2]),\n",
       " torch.Size([32, 1, 128, 128]))"
      ]
     },
     "execution_count": 37,
     "metadata": {},
     "output_type": "execute_result"
    }
   ],
   "source": [
    "model.eval()\n",
    "X, Y, p_x, p_y = next(iter(testDataLoader))\n",
    "X, Y, p_x, p_y = X.to(device), Y.to(device), p_x.to(device), p_y.to(device)\n",
    "\n",
    "with torch.no_grad():\n",
    "    X_hat, p = model(X, p_x)\n",
    "\n",
    "if createStreamFcn:\n",
    "    X_hat = stream2uv(X_hat,device)\n",
    "    \n",
    "X.shape, p_x.shape, X_hat.shape"
   ]
  },
  {
   "cell_type": "markdown",
   "metadata": {},
   "source": [
    "### Metrics"
   ]
  },
  {
   "cell_type": "code",
   "execution_count": 38,
   "metadata": {
    "ExecuteTime": {
     "end_time": "2020-11-06T17:21:31.047488Z",
     "start_time": "2020-11-06T17:20:35.586392Z"
    }
   },
   "outputs": [
    {
     "name": "stdout",
     "output_type": "stream",
     "text": [
      "RMSE \t Rel Err\n",
      "0.05709925293922424\t0.3235180377960205\n",
      "0.06534674763679504\t0.30776211619377136\n",
      "0.06441144645214081\t0.32111454010009766\n",
      "0.06842056661844254\t0.3060588538646698\n",
      "0.07069014757871628\t0.31599336862564087\n",
      "0.08128887414932251\t0.31329214572906494\n",
      "0.0910666286945343\t0.3202563524246216\n",
      "0.0975353866815567\t0.33296456933021545\n",
      "0.1241188794374466\t0.3791337311267853\n",
      "0.08489414304494858\t0.30921366810798645\n",
      "0.32293075\n"
     ]
    },
    {
     "data": {
      "image/png": "[encoded data removed]",
      "text/plain": [
       "<Figure size 432x288 with 1 Axes>"
      ]
     },
     "metadata": {
      "needs_background": "light"
     },
     "output_type": "display_data"
    }
   ],
   "source": [
    "RMSE = []\n",
    "relErr = []\n",
    "frameRe = []\n",
    "print('RMSE \\t Rel Err')\n",
    "for idx in range(len(testSimFiles)):\n",
    "    # testDataset = CCSI_2D([testSimFiles[idx]],doPreprocess=preprocess,channel=channel,AE=False)\n",
    "    # simDataLoader = DataLoader(dataset=testDataset, batch_size=1)\n",
    "    # for X,Y in simDataLoader:\n",
    "    #     p = X[1]\n",
    "    #     t = X[2]\n",
    "    #     print(X[0].shape, p, t)\n",
    "\n",
    "    testDataset = CCSI_2D([testSimFiles[idx]],doPreprocess=preprocess,channel=channel,AE=AE,w=0)\n",
    "    simDataLoader = DataLoader(dataset=testDataset, batch_size=1)\n",
    "    XX = []\n",
    "    Real_X = []\n",
    "    model.eval()\n",
    "    for i, sampleBatch in enumerate(simDataLoader,start=1):\n",
    "        with torch.no_grad():\n",
    "            X, Y, p_x, p_y = sampleBatch\n",
    "            X, Y, p_x, p_y = X.to(device), Y.to(device), p_x.to(device), p_y.to(device)\n",
    "            Real_X.append(X)\n",
    "\n",
    "            X_hat,_ = model(X, p_x)\n",
    "\n",
    "            if createStreamFcn:\n",
    "                X_hat = stream2uv(X_hat,device)\n",
    "\n",
    "            XX.append(X_hat)\n",
    "\n",
    "            #X = X.detach().cpu().squeeze()\n",
    "            #X_hat = X_hat.detach().cpu().squeeze()\n",
    "            #plotSampleWprediction(X, X_hat)\n",
    "\n",
    "    Real_X = torch.cat(Real_X,axis=0).to('cpu')\n",
    "    Real_X_img = torch.rot90(convertSimToImage(Real_X),1,dims=[2,3])\n",
    "\n",
    "    Surr_X = torch.cat(XX,axis=0).to('cpu')\n",
    "    Surr_X_img = torch.rot90(convertSimToImage(Surr_X),1,dims=[2,3])\n",
    "    Real_X_img.shape, Surr_X_img.shape\n",
    "    \n",
    "    r = rmse(Real_X,Surr_X)\n",
    "    RMSE.append(r)\n",
    "    \n",
    "    rel_error = torch.norm(Real_X - Surr_X)/torch.norm(Real_X)\n",
    "    print('{}\\t{}'.format(r, rel_error))\n",
    "    relErr.append(rel_error)\n",
    "    \n",
    "    re = []\n",
    "    for x,y in zip(Real_X, Surr_X):\n",
    "        x = x.squeeze()\n",
    "        y = y.squeeze()\n",
    "        e = torch.norm(x - y)/torch.norm(x)\n",
    "        re.append(e)\n",
    "    frameRe.append(re)\n",
    "    #plt.plot(re)\n",
    "    \n",
    "print(np.mean(relErr))\n",
    "frameRe = np.vstack(frameRe)\n",
    "plt.plot(frameRe.T)\n",
    "plt.legend([i for i in range(len(testSimFiles))])\n",
    "plt.show()"
   ]
  },
  {
   "cell_type": "markdown",
   "metadata": {},
   "source": [
    "### Make Movie"
   ]
  },
  {
   "cell_type": "code",
   "execution_count": 39,
   "metadata": {
    "ExecuteTime": {
     "end_time": "2020-11-06T17:22:58.149349Z",
     "start_time": "2020-11-06T17:22:58.133192Z"
    }
   },
   "outputs": [],
   "source": [
    "import matplotlib.animation as animation\n",
    "import matplotlib.gridspec as gridspec\n",
    "import matplotlib.animation as manimati\n",
    "from matplotlib import animation, rc\n",
    "def create_1_channel_movie(im,outfile='sim.mp4',title='surrogate            simulation'):\n",
    "    ti = 0\n",
    "    u_mx = 255 #np.max(np.abs(Xrgb))\n",
    "    fig = plt.figure()\n",
    "    ax = fig.add_subplot(111)\n",
    "    plt.title(title)\n",
    "    cmap = plt.cm.ocean\n",
    "    img = ax.imshow(im[0].squeeze(), cmap=cmap, vmin=0, vmax=u_mx)\n",
    "    #plt.show()\n",
    "    \n",
    "    # initialization function: plot the background of each frame\n",
    "    def init():\n",
    "        img = ax.imshow(im[0].squeeze(), cmap=cmap, vmin=0, vmax=u_mx)\n",
    "        return (fig,)\n",
    "\n",
    "    # animation function. This is called sequentially\n",
    "    def animate(i):\n",
    "        img = ax.imshow(im[i].squeeze(), cmap=cmap, vmin=0, vmax=u_mx)\n",
    "        return (fig,)\n",
    "\n",
    "\n",
    "    # call the animator. blit=True means only re-draw the parts that have changed.\n",
    "    anim = animation.FuncAnimation(fig, animate, init_func=init,\n",
    "                                   frames=len(im), interval=20, blit=True)\n",
    "    anim.save(outfile, fps=30, extra_args=['-vcodec', 'libx264'])"
   ]
  },
  {
   "cell_type": "code",
   "execution_count": 40,
   "metadata": {
    "ExecuteTime": {
     "end_time": "2020-11-06T17:22:58.444768Z",
     "start_time": "2020-11-06T17:22:58.429190Z"
    }
   },
   "outputs": [
    {
     "data": {
      "text/plain": [
       "torch.Size([500, 1, 128, 256])"
      ]
     },
     "execution_count": 40,
     "metadata": {},
     "output_type": "execute_result"
    }
   ],
   "source": [
    "Xrgb = torch.cat([Surr_X_img, Real_X_img], dim=3)\n",
    "Xrgb.shape"
   ]
  },
  {
   "cell_type": "code",
   "execution_count": 41,
   "metadata": {
    "ExecuteTime": {
     "end_time": "2020-11-06T17:44:13.458030Z",
     "start_time": "2020-11-06T17:22:58.776008Z"
    }
   },
   "outputs": [
    {
     "name": "stderr",
     "output_type": "stream",
     "text": [
      "MovieWriter stderr:\n",
      "[gif @ 0x55b45a320f00] GIF muxer supports only a single video GIF stream.\n",
      "Could not write header for output file #0 (incorrect codec parameters ?): Invalid argument\n",
      "Error initializing output stream 0:0 -- \n",
      "\n"
     ]
    },
    {
     "data": {
      "image/png": "[encoded data removed]",
      "text/plain": [
       "<Figure size 432x288 with 1 Axes>"
      ]
     },
     "metadata": {
      "needs_background": "light"
     },
     "output_type": "display_data"
    },
    {
     "data": {
      "image/png": "[encoded data removed]",
      "text/plain": [
       "<Figure size 432x288 with 1 Axes>"
      ]
     },
     "metadata": {
      "needs_background": "light"
     },
     "output_type": "display_data"
    }
   ],
   "source": [
    "try:\n",
    "    gif = True\n",
    "    outGif = '{}.gif'.format(versionName)\n",
    "    create_1_channel_movie(Xrgb.detach().numpy(),outfile=outGif)\n",
    "except:\n",
    "    gif = False\n",
    "    outGif = '{}.mp4'.format(versionName)\n",
    "    create_1_channel_movie(Xrgb.detach().numpy(),outfile=outGif)"
   ]
  },
  {
   "cell_type": "code",
   "execution_count": 42,
   "metadata": {
    "ExecuteTime": {
     "end_time": "2020-11-06T17:44:13.462624Z",
     "start_time": "2020-11-06T17:44:13.459517Z"
    }
   },
   "outputs": [
    {
     "data": {
      "text/plain": [
       "'pnnl_plateau_train_GPUs23_channel2_gridsize128_latentDim256_filters128_bz32_numConv4_jacobianFalse_norm_layerIdentity_epochs1000_stackTrue_lr0.0001.mp4'"
      ]
     },
     "execution_count": 42,
     "metadata": {},
     "output_type": "execute_result"
    }
   ],
   "source": [
    "outGif"
   ]
  },
  {
   "cell_type": "code",
   "execution_count": 43,
   "metadata": {
    "ExecuteTime": {
     "end_time": "2020-11-06T17:44:13.521109Z",
     "start_time": "2020-11-06T17:44:13.463852Z"
    }
   },
   "outputs": [],
   "source": [
    "from IPython.display import Image, Video\n",
    "if gif:\n",
    "    Image(filename=outGif)\n",
    "else:\n",
    "    Video(outGif)"
   ]
  },
  {
   "cell_type": "code",
   "execution_count": 44,
   "metadata": {
    "ExecuteTime": {
     "end_time": "2020-11-06T17:44:13.526770Z",
     "start_time": "2020-11-06T17:44:13.523124Z"
    }
   },
   "outputs": [
    {
     "data": {
      "text/html": [
       "<video src=\"pnnl_plateau_train_GPUs23_channel2_gridsize128_latentDim256_filters128_bz32_numConv4_jacobianFalse_norm_layerIdentity_epochs1000_stackTrue_lr0.0001.mp4\" controls  >\n",
       "      Your browser does not support the <code>video</code> element.\n",
       "    </video>"
      ],
      "text/plain": [
       "<IPython.core.display.Video object>"
      ]
     },
     "execution_count": 44,
     "metadata": {},
     "output_type": "execute_result"
    }
   ],
   "source": [
    "Video(outGif)"
   ]
  },
  {
   "cell_type": "code",
   "execution_count": 55,
   "metadata": {
    "ExecuteTime": {
     "end_time": "2020-11-06T19:24:59.183298Z",
     "start_time": "2020-11-06T19:24:58.630956Z"
    }
   },
   "outputs": [
    {
     "data": {
      "application/javascript": [
       "/* Put everything inside the global mpl namespace */\n",
       "window.mpl = {};\n",
       "\n",
       "\n",
       "mpl.get_websocket_type = function() {\n",
       "    if (typeof(WebSocket) !== 'undefined') {\n",
       "        return WebSocket;\n",
       "    } else if (typeof(MozWebSocket) !== 'undefined') {\n",
       "        return MozWebSocket;\n",
       "    } else {\n",
       "        alert('Your browser does not have WebSocket support. ' +\n",
       "              'Please try Chrome, Safari or Firefox ≥ 6. ' +\n",
       "              'Firefox 4 and 5 are also supported but you ' +\n",
       "              'have to enable WebSockets in about:config.');\n",
       "    };\n",
       "}\n",
       "\n",
       "mpl.figure = function(figure_id, websocket, ondownload, parent_element) {\n",
       "    this.id = figure_id;\n",
       "\n",
       "    this.ws = websocket;\n",
       "\n",
       "    this.supports_binary = (this.ws.binaryType != undefined);\n",
       "\n",
       "    if (!this.supports_binary) {\n",
       "        var warnings = document.getElementById(\"mpl-warnings\");\n",
       "        if (warnings) {\n",
       "            warnings.style.display = 'block';\n",
       "            warnings.textContent = (\n",
       "                \"This browser does not support binary websocket messages. \" +\n",
       "                    \"Performance may be slow.\");\n",
       "        }\n",
       "    }\n",
       "\n",
       "    this.imageObj = new Image();\n",
       "\n",
       "    this.context = undefined;\n",
       "    this.message = undefined;\n",
       "    this.canvas = undefined;\n",
       "    this.rubberband_canvas = undefined;\n",
       "    this.rubberband_context = undefined;\n",
       "    this.format_dropdown = undefined;\n",
       "\n",
       "    this.image_mode = 'full';\n",
       "\n",
       "    this.root = $('<div/>');\n",
       "    this._root_extra_style(this.root)\n",
       "    this.root.attr('style', 'display: inline-block');\n",
       "\n",
       "    $(parent_element).append(this.root);\n",
       "\n",
       "    this._init_header(this);\n",
       "    this._init_canvas(this);\n",
       "    this._init_toolbar(this);\n",
       "\n",
       "    var fig = this;\n",
       "\n",
       "    this.waiting = false;\n",
       "\n",
       "    this.ws.onopen =  function () {\n",
       "            fig.send_message(\"supports_binary\", {value: fig.supports_binary});\n",
       "            fig.send_message(\"send_image_mode\", {});\n",
       "            if (mpl.ratio != 1) {\n",
       "                fig.send_message(\"set_dpi_ratio\", {'dpi_ratio': mpl.ratio});\n",
       "            }\n",
       "            fig.send_message(\"refresh\", {});\n",
       "        }\n",
       "\n",
       "    this.imageObj.onload = function() {\n",
       "            if (fig.image_mode == 'full') {\n",
       "                // Full images could contain transparency (where diff images\n",
       "                // almost always do), so we need to clear the canvas so that\n",
       "                // there is no ghosting.\n",
       "                fig.context.clearRect(0, 0, fig.canvas.width, fig.canvas.height);\n",
       "            }\n",
       "            fig.context.drawImage(fig.imageObj, 0, 0);\n",
       "        };\n",
       "\n",
       "    this.imageObj.onunload = function() {\n",
       "        fig.ws.close();\n",
       "    }\n",
       "\n",
       "    this.ws.onmessage = this._make_on_message_function(this);\n",
       "\n",
       "    this.ondownload = ondownload;\n",
       "}\n",
       "\n",
       "mpl.figure.prototype._init_header = function() {\n",
       "    var titlebar = $(\n",
       "        '<div class=\"ui-dialog-titlebar ui-widget-header ui-corner-all ' +\n",
       "        'ui-helper-clearfix\"/>');\n",
       "    var titletext = $(\n",
       "        '<div class=\"ui-dialog-title\" style=\"width: 100%; ' +\n",
       "        'text-align: center; padding: 3px;\"/>');\n",
       "    titlebar.append(titletext)\n",
       "    this.root.append(titlebar);\n",
       "    this.header = titletext[0];\n",
       "}\n",
       "\n",
       "\n",
       "\n",
       "mpl.figure.prototype._canvas_extra_style = function(canvas_div) {\n",
       "\n",
       "}\n",
       "\n",
       "\n",
       "mpl.figure.prototype._root_extra_style = function(canvas_div) {\n",
       "\n",
       "}\n",
       "\n",
       "mpl.figure.prototype._init_canvas = function() {\n",
       "    var fig = this;\n",
       "\n",
       "    var canvas_div = $('<div/>');\n",
       "\n",
       "    canvas_div.attr('style', 'position: relative; clear: both; outline: 0');\n",
       "\n",
       "    function canvas_keyboard_event(event) {\n",
       "        return fig.key_event(event, event['data']);\n",
       "    }\n",
       "\n",
       "    canvas_div.keydown('key_press', canvas_keyboard_event);\n",
       "    canvas_div.keyup('key_release', canvas_keyboard_event);\n",
       "    this.canvas_div = canvas_div\n",
       "    this._canvas_extra_style(canvas_div)\n",
       "    this.root.append(canvas_div);\n",
       "\n",
       "    var canvas = $('<canvas/>');\n",
       "    canvas.addClass('mpl-canvas');\n",
       "    canvas.attr('style', \"left: 0; top: 0; z-index: 0; outline: 0\")\n",
       "\n",
       "    this.canvas = canvas[0];\n",
       "    this.context = canvas[0].getContext(\"2d\");\n",
       "\n",
       "    var backingStore = this.context.backingStorePixelRatio ||\n",
       "\tthis.context.webkitBackingStorePixelRatio ||\n",
       "\tthis.context.mozBackingStorePixelRatio ||\n",
       "\tthis.context.msBackingStorePixelRatio ||\n",
       "\tthis.context.oBackingStorePixelRatio ||\n",
       "\tthis.context.backingStorePixelRatio || 1;\n",
       "\n",
       "    mpl.ratio = (window.devicePixelRatio || 1) / backingStore;\n",
       "\n",
       "    var rubberband = $('<canvas/>');\n",
       "    rubberband.attr('style', \"position: absolute; left: 0; top: 0; z-index: 1;\")\n",
       "\n",
       "    var pass_mouse_events = true;\n",
       "\n",
       "    canvas_div.resizable({\n",
       "        start: function(event, ui) {\n",
       "            pass_mouse_events = false;\n",
       "        },\n",
       "        resize: function(event, ui) {\n",
       "            fig.request_resize(ui.size.width, ui.size.height);\n",
       "        },\n",
       "        stop: function(event, ui) {\n",
       "            pass_mouse_events = true;\n",
       "            fig.request_resize(ui.size.width, ui.size.height);\n",
       "        },\n",
       "    });\n",
       "\n",
       "    function mouse_event_fn(event) {\n",
       "        if (pass_mouse_events)\n",
       "            return fig.mouse_event(event, event['data']);\n",
       "    }\n",
       "\n",
       "    rubberband.mousedown('button_press', mouse_event_fn);\n",
       "    rubberband.mouseup('button_release', mouse_event_fn);\n",
       "    // Throttle sequential mouse events to 1 every 20ms.\n",
       "    rubberband.mousemove('motion_notify', mouse_event_fn);\n",
       "\n",
       "    rubberband.mouseenter('figure_enter', mouse_event_fn);\n",
       "    rubberband.mouseleave('figure_leave', mouse_event_fn);\n",
       "\n",
       "    canvas_div.on(\"wheel\", function (event) {\n",
       "        event = event.originalEvent;\n",
       "        event['data'] = 'scroll'\n",
       "        if (event.deltaY < 0) {\n",
       "            event.step = 1;\n",
       "        } else {\n",
       "            event.step = -1;\n",
       "        }\n",
       "        mouse_event_fn(event);\n",
       "    });\n",
       "\n",
       "    canvas_div.append(canvas);\n",
       "    canvas_div.append(rubberband);\n",
       "\n",
       "    this.rubberband = rubberband;\n",
       "    this.rubberband_canvas = rubberband[0];\n",
       "    this.rubberband_context = rubberband[0].getContext(\"2d\");\n",
       "    this.rubberband_context.strokeStyle = \"#000000\";\n",
       "\n",
       "    this._resize_canvas = function(width, height) {\n",
       "        // Keep the size of the canvas, canvas container, and rubber band\n",
       "        // canvas in synch.\n",
       "        canvas_div.css('width', width)\n",
       "        canvas_div.css('height', height)\n",
       "\n",
       "        canvas.attr('width', width * mpl.ratio);\n",
       "        canvas.attr('height', height * mpl.ratio);\n",
       "        canvas.attr('style', 'width: ' + width + 'px; height: ' + height + 'px;');\n",
       "\n",
       "        rubberband.attr('width', width);\n",
       "        rubberband.attr('height', height);\n",
       "    }\n",
       "\n",
       "    // Set the figure to an initial 600x600px, this will subsequently be updated\n",
       "    // upon first draw.\n",
       "    this._resize_canvas(600, 600);\n",
       "\n",
       "    // Disable right mouse context menu.\n",
       "    $(this.rubberband_canvas).bind(\"contextmenu\",function(e){\n",
       "        return false;\n",
       "    });\n",
       "\n",
       "    function set_focus () {\n",
       "        canvas.focus();\n",
       "        canvas_div.focus();\n",
       "    }\n",
       "\n",
       "    window.setTimeout(set_focus, 100);\n",
       "}\n",
       "\n",
       "mpl.figure.prototype._init_toolbar = function() {\n",
       "    var fig = this;\n",
       "\n",
       "    var nav_element = $('<div/>');\n",
       "    nav_element.attr('style', 'width: 100%');\n",
       "    this.root.append(nav_element);\n",
       "\n",
       "    // Define a callback function for later on.\n",
       "    function toolbar_event(event) {\n",
       "        return fig.toolbar_button_onclick(event['data']);\n",
       "    }\n",
       "    function toolbar_mouse_event(event) {\n",
       "        return fig.toolbar_button_onmouseover(event['data']);\n",
       "    }\n",
       "\n",
       "    for(var toolbar_ind in mpl.toolbar_items) {\n",
       "        var name = mpl.toolbar_items[toolbar_ind][0];\n",
       "        var tooltip = mpl.toolbar_items[toolbar_ind][1];\n",
       "        var image = mpl.toolbar_items[toolbar_ind][2];\n",
       "        var method_name = mpl.toolbar_items[toolbar_ind][3];\n",
       "\n",
       "        if (!name) {\n",
       "            // put a spacer in here.\n",
       "            continue;\n",
       "        }\n",
       "        var button = $('<button/>');\n",
       "        button.addClass('ui-button ui-widget ui-state-default ui-corner-all ' +\n",
       "                        'ui-button-icon-only');\n",
       "        button.attr('role', 'button');\n",
       "        button.attr('aria-disabled', 'false');\n",
       "        button.click(method_name, toolbar_event);\n",
       "        button.mouseover(tooltip, toolbar_mouse_event);\n",
       "\n",
       "        var icon_img = $('<span/>');\n",
       "        icon_img.addClass('ui-button-icon-primary ui-icon');\n",
       "        icon_img.addClass(image);\n",
       "        icon_img.addClass('ui-corner-all');\n",
       "\n",
       "        var tooltip_span = $('<span/>');\n",
       "        tooltip_span.addClass('ui-button-text');\n",
       "        tooltip_span.html(tooltip);\n",
       "\n",
       "        button.append(icon_img);\n",
       "        button.append(tooltip_span);\n",
       "\n",
       "        nav_element.append(button);\n",
       "    }\n",
       "\n",
       "    var fmt_picker_span = $('<span/>');\n",
       "\n",
       "    var fmt_picker = $('<select/>');\n",
       "    fmt_picker.addClass('mpl-toolbar-option ui-widget ui-widget-content');\n",
       "    fmt_picker_span.append(fmt_picker);\n",
       "    nav_element.append(fmt_picker_span);\n",
       "    this.format_dropdown = fmt_picker[0];\n",
       "\n",
       "    for (var ind in mpl.extensions) {\n",
       "        var fmt = mpl.extensions[ind];\n",
       "        var option = $(\n",
       "            '<option/>', {selected: fmt === mpl.default_extension}).html(fmt);\n",
       "        fmt_picker.append(option);\n",
       "    }\n",
       "\n",
       "    // Add hover states to the ui-buttons\n",
       "    $( \".ui-button\" ).hover(\n",
       "        function() { $(this).addClass(\"ui-state-hover\");},\n",
       "        function() { $(this).removeClass(\"ui-state-hover\");}\n",
       "    );\n",
       "\n",
       "    var status_bar = $('<span class=\"mpl-message\"/>');\n",
       "    nav_element.append(status_bar);\n",
       "    this.message = status_bar[0];\n",
       "}\n",
       "\n",
       "mpl.figure.prototype.request_resize = function(x_pixels, y_pixels) {\n",
       "    // Request matplotlib to resize the figure. Matplotlib will then trigger a resize in the client,\n",
       "    // which will in turn request a refresh of the image.\n",
       "    this.send_message('resize', {'width': x_pixels, 'height': y_pixels});\n",
       "}\n",
       "\n",
       "mpl.figure.prototype.send_message = function(type, properties) {\n",
       "    properties['type'] = type;\n",
       "    properties['figure_id'] = this.id;\n",
       "    this.ws.send(JSON.stringify(properties));\n",
       "}\n",
       "\n",
       "mpl.figure.prototype.send_draw_message = function() {\n",
       "    if (!this.waiting) {\n",
       "        this.waiting = true;\n",
       "        this.ws.send(JSON.stringify({type: \"draw\", figure_id: this.id}));\n",
       "    }\n",
       "}\n",
       "\n",
       "\n",
       "mpl.figure.prototype.handle_save = function(fig, msg) {\n",
       "    var format_dropdown = fig.format_dropdown;\n",
       "    var format = format_dropdown.options[format_dropdown.selectedIndex].value;\n",
       "    fig.ondownload(fig, format);\n",
       "}\n",
       "\n",
       "\n",
       "mpl.figure.prototype.handle_resize = function(fig, msg) {\n",
       "    var size = msg['size'];\n",
       "    if (size[0] != fig.canvas.width || size[1] != fig.canvas.height) {\n",
       "        fig._resize_canvas(size[0], size[1]);\n",
       "        fig.send_message(\"refresh\", {});\n",
       "    };\n",
       "}\n",
       "\n",
       "mpl.figure.prototype.handle_rubberband = function(fig, msg) {\n",
       "    var x0 = msg['x0'] / mpl.ratio;\n",
       "    var y0 = (fig.canvas.height - msg['y0']) / mpl.ratio;\n",
       "    var x1 = msg['x1'] / mpl.ratio;\n",
       "    var y1 = (fig.canvas.height - msg['y1']) / mpl.ratio;\n",
       "    x0 = Math.floor(x0) + 0.5;\n",
       "    y0 = Math.floor(y0) + 0.5;\n",
       "    x1 = Math.floor(x1) + 0.5;\n",
       "    y1 = Math.floor(y1) + 0.5;\n",
       "    var min_x = Math.min(x0, x1);\n",
       "    var min_y = Math.min(y0, y1);\n",
       "    var width = Math.abs(x1 - x0);\n",
       "    var height = Math.abs(y1 - y0);\n",
       "\n",
       "    fig.rubberband_context.clearRect(\n",
       "        0, 0, fig.canvas.width / mpl.ratio, fig.canvas.height / mpl.ratio);\n",
       "\n",
       "    fig.rubberband_context.strokeRect(min_x, min_y, width, height);\n",
       "}\n",
       "\n",
       "mpl.figure.prototype.handle_figure_label = function(fig, msg) {\n",
       "    // Updates the figure title.\n",
       "    fig.header.textContent = msg['label'];\n",
       "}\n",
       "\n",
       "mpl.figure.prototype.handle_cursor = function(fig, msg) {\n",
       "    var cursor = msg['cursor'];\n",
       "    switch(cursor)\n",
       "    {\n",
       "    case 0:\n",
       "        cursor = 'pointer';\n",
       "        break;\n",
       "    case 1:\n",
       "        cursor = 'default';\n",
       "        break;\n",
       "    case 2:\n",
       "        cursor = 'crosshair';\n",
       "        break;\n",
       "    case 3:\n",
       "        cursor = 'move';\n",
       "        break;\n",
       "    }\n",
       "    fig.rubberband_canvas.style.cursor = cursor;\n",
       "}\n",
       "\n",
       "mpl.figure.prototype.handle_message = function(fig, msg) {\n",
       "    fig.message.textContent = msg['message'];\n",
       "}\n",
       "\n",
       "mpl.figure.prototype.handle_draw = function(fig, msg) {\n",
       "    // Request the server to send over a new figure.\n",
       "    fig.send_draw_message();\n",
       "}\n",
       "\n",
       "mpl.figure.prototype.handle_image_mode = function(fig, msg) {\n",
       "    fig.image_mode = msg['mode'];\n",
       "}\n",
       "\n",
       "mpl.figure.prototype.updated_canvas_event = function() {\n",
       "    // Called whenever the canvas gets updated.\n",
       "    this.send_message(\"ack\", {});\n",
       "}\n",
       "\n",
       "// A function to construct a web socket function for onmessage handling.\n",
       "// Called in the figure constructor.\n",
       "mpl.figure.prototype._make_on_message_function = function(fig) {\n",
       "    return function socket_on_message(evt) {\n",
       "        if (evt.data instanceof Blob) {\n",
       "            /* FIXME: We get \"Resource interpreted as Image but\n",
       "             * transferred with MIME type text/plain:\" errors on\n",
       "             * Chrome.  But how to set the MIME type?  It doesn't seem\n",
       "             * to be part of the websocket stream */\n",
       "            evt.data.type = \"image/png\";\n",
       "\n",
       "            /* Free the memory for the previous frames */\n",
       "            if (fig.imageObj.src) {\n",
       "                (window.URL || window.webkitURL).revokeObjectURL(\n",
       "                    fig.imageObj.src);\n",
       "            }\n",
       "\n",
       "            fig.imageObj.src = (window.URL || window.webkitURL).createObjectURL(\n",
       "                evt.data);\n",
       "            fig.updated_canvas_event();\n",
       "            fig.waiting = false;\n",
       "            return;\n",
       "        }\n",
       "        else if (typeof evt.data === 'string' && evt.data.slice(0, 21) == \"data:image/png;base64\") {\n",
       "            fig.imageObj.src = evt.data;\n",
       "            fig.updated_canvas_event();\n",
       "            fig.waiting = false;\n",
       "            return;\n",
       "        }\n",
       "\n",
       "        var msg = JSON.parse(evt.data);\n",
       "        var msg_type = msg['type'];\n",
       "\n",
       "        // Call the  \"handle_{type}\" callback, which takes\n",
       "        // the figure and JSON message as its only arguments.\n",
       "        try {\n",
       "            var callback = fig[\"handle_\" + msg_type];\n",
       "        } catch (e) {\n",
       "            console.log(\"No handler for the '\" + msg_type + \"' message type: \", msg);\n",
       "            return;\n",
       "        }\n",
       "\n",
       "        if (callback) {\n",
       "            try {\n",
       "                // console.log(\"Handling '\" + msg_type + \"' message: \", msg);\n",
       "                callback(fig, msg);\n",
       "            } catch (e) {\n",
       "                console.log(\"Exception inside the 'handler_\" + msg_type + \"' callback:\", e, e.stack, msg);\n",
       "            }\n",
       "        }\n",
       "    };\n",
       "}\n",
       "\n",
       "// from http://stackoverflow.com/questions/1114465/getting-mouse-location-in-canvas\n",
       "mpl.findpos = function(e) {\n",
       "    //this section is from http://www.quirksmode.org/js/events_properties.html\n",
       "    var targ;\n",
       "    if (!e)\n",
       "        e = window.event;\n",
       "    if (e.target)\n",
       "        targ = e.target;\n",
       "    else if (e.srcElement)\n",
       "        targ = e.srcElement;\n",
       "    if (targ.nodeType == 3) // defeat Safari bug\n",
       "        targ = targ.parentNode;\n",
       "\n",
       "    // jQuery normalizes the pageX and pageY\n",
       "    // pageX,Y are the mouse positions relative to the document\n",
       "    // offset() returns the position of the element relative to the document\n",
       "    var x = e.pageX - $(targ).offset().left;\n",
       "    var y = e.pageY - $(targ).offset().top;\n",
       "\n",
       "    return {\"x\": x, \"y\": y};\n",
       "};\n",
       "\n",
       "/*\n",
       " * return a copy of an object with only non-object keys\n",
       " * we need this to avoid circular references\n",
       " * http://stackoverflow.com/a/24161582/3208463\n",
       " */\n",
       "function simpleKeys (original) {\n",
       "  return Object.keys(original).reduce(function (obj, key) {\n",
       "    if (typeof original[key] !== 'object')\n",
       "        obj[key] = original[key]\n",
       "    return obj;\n",
       "  }, {});\n",
       "}\n",
       "\n",
       "mpl.figure.prototype.mouse_event = function(event, name) {\n",
       "    var canvas_pos = mpl.findpos(event)\n",
       "\n",
       "    if (name === 'button_press')\n",
       "    {\n",
       "        this.canvas.focus();\n",
       "        this.canvas_div.focus();\n",
       "    }\n",
       "\n",
       "    var x = canvas_pos.x * mpl.ratio;\n",
       "    var y = canvas_pos.y * mpl.ratio;\n",
       "\n",
       "    this.send_message(name, {x: x, y: y, button: event.button,\n",
       "                             step: event.step,\n",
       "                             guiEvent: simpleKeys(event)});\n",
       "\n",
       "    /* This prevents the web browser from automatically changing to\n",
       "     * the text insertion cursor when the button is pressed.  We want\n",
       "     * to control all of the cursor setting manually through the\n",
       "     * 'cursor' event from matplotlib */\n",
       "    event.preventDefault();\n",
       "    return false;\n",
       "}\n",
       "\n",
       "mpl.figure.prototype._key_event_extra = function(event, name) {\n",
       "    // Handle any extra behaviour associated with a key event\n",
       "}\n",
       "\n",
       "mpl.figure.prototype.key_event = function(event, name) {\n",
       "\n",
       "    // Prevent repeat events\n",
       "    if (name == 'key_press')\n",
       "    {\n",
       "        if (event.which === this._key)\n",
       "            return;\n",
       "        else\n",
       "            this._key = event.which;\n",
       "    }\n",
       "    if (name == 'key_release')\n",
       "        this._key = null;\n",
       "\n",
       "    var value = '';\n",
       "    if (event.ctrlKey && event.which != 17)\n",
       "        value += \"ctrl+\";\n",
       "    if (event.altKey && event.which != 18)\n",
       "        value += \"alt+\";\n",
       "    if (event.shiftKey && event.which != 16)\n",
       "        value += \"shift+\";\n",
       "\n",
       "    value += 'k';\n",
       "    value += event.which.toString();\n",
       "\n",
       "    this._key_event_extra(event, name);\n",
       "\n",
       "    this.send_message(name, {key: value,\n",
       "                             guiEvent: simpleKeys(event)});\n",
       "    return false;\n",
       "}\n",
       "\n",
       "mpl.figure.prototype.toolbar_button_onclick = function(name) {\n",
       "    if (name == 'download') {\n",
       "        this.handle_save(this, null);\n",
       "    } else {\n",
       "        this.send_message(\"toolbar_button\", {name: name});\n",
       "    }\n",
       "};\n",
       "\n",
       "mpl.figure.prototype.toolbar_button_onmouseover = function(tooltip) {\n",
       "    this.message.textContent = tooltip;\n",
       "};\n",
       "mpl.toolbar_items = [[\"Home\", \"Reset original view\", \"fa fa-home icon-home\", \"home\"], [\"Back\", \"Back to previous view\", \"fa fa-arrow-left icon-arrow-left\", \"back\"], [\"Forward\", \"Forward to next view\", \"fa fa-arrow-right icon-arrow-right\", \"forward\"], [\"\", \"\", \"\", \"\"], [\"Pan\", \"Pan axes with left mouse, zoom with right\", \"fa fa-arrows icon-move\", \"pan\"], [\"Zoom\", \"Zoom to rectangle\", \"fa fa-square-o icon-check-empty\", \"zoom\"], [\"\", \"\", \"\", \"\"], [\"Download\", \"Download plot\", \"fa fa-floppy-o icon-save\", \"download\"]];\n",
       "\n",
       "mpl.extensions = [\"eps\", \"jpeg\", \"pdf\", \"png\", \"ps\", \"raw\", \"svg\", \"tif\"];\n",
       "\n",
       "mpl.default_extension = \"png\";var comm_websocket_adapter = function(comm) {\n",
       "    // Create a \"websocket\"-like object which calls the given IPython comm\n",
       "    // object with the appropriate methods. Currently this is a non binary\n",
       "    // socket, so there is still some room for performance tuning.\n",
       "    var ws = {};\n",
       "\n",
       "    ws.close = function() {\n",
       "        comm.close()\n",
       "    };\n",
       "    ws.send = function(m) {\n",
       "        //console.log('sending', m);\n",
       "        comm.send(m);\n",
       "    };\n",
       "    // Register the callback with on_msg.\n",
       "    comm.on_msg(function(msg) {\n",
       "        //console.log('receiving', msg['content']['data'], msg);\n",
       "        // Pass the mpl event to the overridden (by mpl) onmessage function.\n",
       "        ws.onmessage(msg['content']['data'])\n",
       "    });\n",
       "    return ws;\n",
       "}\n",
       "\n",
       "mpl.mpl_figure_comm = function(comm, msg) {\n",
       "    // This is the function which gets called when the mpl process\n",
       "    // starts-up an IPython Comm through the \"matplotlib\" channel.\n",
       "\n",
       "    var id = msg.content.data.id;\n",
       "    // Get hold of the div created by the display call when the Comm\n",
       "    // socket was opened in Python.\n",
       "    var element = $(\"#\" + id);\n",
       "    var ws_proxy = comm_websocket_adapter(comm)\n",
       "\n",
       "    function ondownload(figure, format) {\n",
       "        window.open(figure.imageObj.src);\n",
       "    }\n",
       "\n",
       "    var fig = new mpl.figure(id, ws_proxy,\n",
       "                           ondownload,\n",
       "                           element.get(0));\n",
       "\n",
       "    // Call onopen now - mpl needs it, as it is assuming we've passed it a real\n",
       "    // web socket which is closed, not our websocket->open comm proxy.\n",
       "    ws_proxy.onopen();\n",
       "\n",
       "    fig.parent_element = element.get(0);\n",
       "    fig.cell_info = mpl.find_output_cell(\"<div id='\" + id + \"'></div>\");\n",
       "    if (!fig.cell_info) {\n",
       "        console.error(\"Failed to find cell for figure\", id, fig);\n",
       "        return;\n",
       "    }\n",
       "\n",
       "    var output_index = fig.cell_info[2]\n",
       "    var cell = fig.cell_info[0];\n",
       "\n",
       "};\n",
       "\n",
       "mpl.figure.prototype.handle_close = function(fig, msg) {\n",
       "    var width = fig.canvas.width/mpl.ratio\n",
       "    fig.root.unbind('remove')\n",
       "\n",
       "    // Update the output cell to use the data from the current canvas.\n",
       "    fig.push_to_output();\n",
       "    var dataURL = fig.canvas.toDataURL();\n",
       "    // Re-enable the keyboard manager in IPython - without this line, in FF,\n",
       "    // the notebook keyboard shortcuts fail.\n",
       "    IPython.keyboard_manager.enable()\n",
       "    $(fig.parent_element).html('<img src=\"' + dataURL + '\" width=\"' + width + '\">');\n",
       "    fig.close_ws(fig, msg);\n",
       "}\n",
       "\n",
       "mpl.figure.prototype.close_ws = function(fig, msg){\n",
       "    fig.send_message('closing', msg);\n",
       "    // fig.ws.close()\n",
       "}\n",
       "\n",
       "mpl.figure.prototype.push_to_output = function(remove_interactive) {\n",
       "    // Turn the data on the canvas into data in the output cell.\n",
       "    var width = this.canvas.width/mpl.ratio\n",
       "    var dataURL = this.canvas.toDataURL();\n",
       "    this.cell_info[1]['text/html'] = '<img src=\"' + dataURL + '\" width=\"' + width + '\">';\n",
       "}\n",
       "\n",
       "mpl.figure.prototype.updated_canvas_event = function() {\n",
       "    // Tell IPython that the notebook contents must change.\n",
       "    IPython.notebook.set_dirty(true);\n",
       "    this.send_message(\"ack\", {});\n",
       "    var fig = this;\n",
       "    // Wait a second, then push the new image to the DOM so\n",
       "    // that it is saved nicely (might be nice to debounce this).\n",
       "    setTimeout(function () { fig.push_to_output() }, 1000);\n",
       "}\n",
       "\n",
       "mpl.figure.prototype._init_toolbar = function() {\n",
       "    var fig = this;\n",
       "\n",
       "    var nav_element = $('<div/>');\n",
       "    nav_element.attr('style', 'width: 100%');\n",
       "    this.root.append(nav_element);\n",
       "\n",
       "    // Define a callback function for later on.\n",
       "    function toolbar_event(event) {\n",
       "        return fig.toolbar_button_onclick(event['data']);\n",
       "    }\n",
       "    function toolbar_mouse_event(event) {\n",
       "        return fig.toolbar_button_onmouseover(event['data']);\n",
       "    }\n",
       "\n",
       "    for(var toolbar_ind in mpl.toolbar_items){\n",
       "        var name = mpl.toolbar_items[toolbar_ind][0];\n",
       "        var tooltip = mpl.toolbar_items[toolbar_ind][1];\n",
       "        var image = mpl.toolbar_items[toolbar_ind][2];\n",
       "        var method_name = mpl.toolbar_items[toolbar_ind][3];\n",
       "\n",
       "        if (!name) { continue; };\n",
       "\n",
       "        var button = $('<button class=\"btn btn-default\" href=\"#\" title=\"' + name + '\"><i class=\"fa ' + image + ' fa-lg\"></i></button>');\n",
       "        button.click(method_name, toolbar_event);\n",
       "        button.mouseover(tooltip, toolbar_mouse_event);\n",
       "        nav_element.append(button);\n",
       "    }\n",
       "\n",
       "    // Add the status bar.\n",
       "    var status_bar = $('<span class=\"mpl-message\" style=\"text-align:right; float: right;\"/>');\n",
       "    nav_element.append(status_bar);\n",
       "    this.message = status_bar[0];\n",
       "\n",
       "    // Add the close button to the window.\n",
       "    var buttongrp = $('<div class=\"btn-group inline pull-right\"></div>');\n",
       "    var button = $('<button class=\"btn btn-mini btn-primary\" href=\"#\" title=\"Stop Interaction\"><i class=\"fa fa-power-off icon-remove icon-large\"></i></button>');\n",
       "    button.click(function (evt) { fig.handle_close(fig, {}); } );\n",
       "    button.mouseover('Stop Interaction', toolbar_mouse_event);\n",
       "    buttongrp.append(button);\n",
       "    var titlebar = this.root.find($('.ui-dialog-titlebar'));\n",
       "    titlebar.prepend(buttongrp);\n",
       "}\n",
       "\n",
       "mpl.figure.prototype._root_extra_style = function(el){\n",
       "    var fig = this\n",
       "    el.on(\"remove\", function(){\n",
       "\tfig.close_ws(fig, {});\n",
       "    });\n",
       "}\n",
       "\n",
       "mpl.figure.prototype._canvas_extra_style = function(el){\n",
       "    // this is important to make the div 'focusable\n",
       "    el.attr('tabindex', 0)\n",
       "    // reach out to IPython and tell the keyboard manager to turn it's self\n",
       "    // off when our div gets focus\n",
       "\n",
       "    // location in version 3\n",
       "    if (IPython.notebook.keyboard_manager) {\n",
       "        IPython.notebook.keyboard_manager.register_events(el);\n",
       "    }\n",
       "    else {\n",
       "        // location in version 2\n",
       "        IPython.keyboard_manager.register_events(el);\n",
       "    }\n",
       "\n",
       "}\n",
       "\n",
       "mpl.figure.prototype._key_event_extra = function(event, name) {\n",
       "    var manager = IPython.notebook.keyboard_manager;\n",
       "    if (!manager)\n",
       "        manager = IPython.keyboard_manager;\n",
       "\n",
       "    // Check for shift+enter\n",
       "    if (event.shiftKey && event.which == 13) {\n",
       "        this.canvas_div.blur();\n",
       "        // select the cell after this one\n",
       "        var index = IPython.notebook.find_cell_index(this.cell_info[0]);\n",
       "        IPython.notebook.select(index + 1);\n",
       "    }\n",
       "}\n",
       "\n",
       "mpl.figure.prototype.handle_save = function(fig, msg) {\n",
       "    fig.ondownload(fig, null);\n",
       "}\n",
       "\n",
       "\n",
       "mpl.find_output_cell = function(html_output) {\n",
       "    // Return the cell and output element which can be found *uniquely* in the notebook.\n",
       "    // Note - this is a bit hacky, but it is done because the \"notebook_saving.Notebook\"\n",
       "    // IPython event is triggered only after the cells have been serialised, which for\n",
       "    // our purposes (turning an active figure into a static one), is too late.\n",
       "    var cells = IPython.notebook.get_cells();\n",
       "    var ncells = cells.length;\n",
       "    for (var i=0; i<ncells; i++) {\n",
       "        var cell = cells[i];\n",
       "        if (cell.cell_type === 'code'){\n",
       "            for (var j=0; j<cell.output_area.outputs.length; j++) {\n",
       "                var data = cell.output_area.outputs[j];\n",
       "                if (data.data) {\n",
       "                    // IPython >= 3 moved mimebundle to data attribute of output\n",
       "                    data = data.data;\n",
       "                }\n",
       "                if (data['text/html'] == html_output) {\n",
       "                    return [cell, data, j];\n",
       "                }\n",
       "            }\n",
       "        }\n",
       "    }\n",
       "}\n",
       "\n",
       "// Register the function which deals with the matplotlib target/channel.\n",
       "// The kernel may be null if the page has been refreshed.\n",
       "if (IPython.notebook.kernel != null) {\n",
       "    IPython.notebook.kernel.comm_manager.register_target('matplotlib', mpl.mpl_figure_comm);\n",
       "}\n"
      ],
      "text/plain": [
       "<IPython.core.display.Javascript object>"
      ]
     },
     "metadata": {},
     "output_type": "display_data"
    },
    {
     "data": {
      "text/html": [
       "<img src=\"data:image/png;base64,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\" width=\"640\">"
      ],
      "text/plain": [
       "<IPython.core.display.HTML object>"
      ]
     },
     "metadata": {},
     "output_type": "display_data"
    }
   ],
   "source": [
    "%matplotlib notebook\n",
    "plt.hist(Surr_X.flatten(),bins=100)\n",
    "plt.hist(Real_X.flatten(),bins=100)\n",
    "plt.show()"
   ]
  }
 ],
 "metadata": {
  "kernelspec": {
   "display_name": "Python 3",
   "language": "python",
   "name": "python3"
  },
  "language_info": {
   "codemirror_mode": {
    "name": "ipython",
    "version": 3
   },
   "file_extension": ".py",
   "mimetype": "text/x-python",
   "name": "python",
   "nbconvert_exporter": "python",
   "pygments_lexer": "ipython3",
   "version": "3.8.3"
  }
 },
 "nbformat": 4,
 "nbformat_minor": 2
}
