{
 "cells": [
  {
   "cell_type": "markdown",
   "metadata": {},
   "source": [
    "## This code trains an encoder/decoder for 1 channel of the pnnl datasets.\n",
    "\n",
    "Make sure the channel is set:\n",
    "\n",
    "channel = 1,2 = velocity_y, volume_frac\n"
   ]
  },
  {
   "cell_type": "markdown",
   "metadata": {},
   "source": [
    "## Imports"
   ]
  },
  {
   "cell_type": "code",
   "execution_count": 1,
   "metadata": {
    "ExecuteTime": {
     "end_time": "2020-11-07T01:42:48.553991Z",
     "start_time": "2020-11-07T01:42:46.517267Z"
    }
   },
   "outputs": [],
   "source": [
    "# EXPORT\n",
    "# --- Must haves ---\n",
    "import os, sys\n",
    "sys.path.append('..')\n",
    "\n",
    "import torch\n",
    "from torch.utils.data import Dataset, DataLoader\n",
    "from torch.utils.tensorboard import SummaryWriter\n",
    "import torch.cuda as cuda\n",
    "import torch.nn as nn\n",
    "import torchvision\n",
    "import torch.nn.functional as F\n",
    "\n",
    "from surrogates4sims.pnnlDatasets import CCSI_2D\n",
    "\n",
    "from surrogates4sims.utils import create_opt, create_one_cycle, find_lr, printNumModelParams, \\\n",
    "                                    rmse, writeMessage, plotSampleWprediction, plotSampleWpredictionByChannel, \\\n",
    "                                    plotSample, curl, jacobian, stream2uv, convertSimToImage, pkl_save, pkl_load, \\\n",
    "                                    create_1_channel_movie\n",
    "\n",
    "from surrogates4sims.models import Generator, Encoder, AE_no_P, AE_xhat_z, AE_xhat_zV2\n",
    "\n",
    "from surrogates4sims.train import trainEpoch, validEpoch\n",
    "\n",
    "import numpy as np\n",
    "from tqdm import tqdm\n",
    "from copy import deepcopy\n",
    "import matplotlib.pyplot as plt\n",
    "from glob import glob"
   ]
  },
  {
   "cell_type": "markdown",
   "metadata": {},
   "source": [
    "## Settings"
   ]
  },
  {
   "cell_type": "code",
   "execution_count": 2,
   "metadata": {
    "ExecuteTime": {
     "end_time": "2020-11-07T01:42:48.565948Z",
     "start_time": "2020-11-07T01:42:48.555849Z"
    }
   },
   "outputs": [
    {
     "data": {
      "text/plain": [
       "'pnnl_plateau_train_GPUs23_channel2_gridsize128_latentDim1024_filters128_bz32_numConv4_jacobianFalse_norm_layerIdentity_sigmoid_outTrue_epochs1000_stackTrue'"
      ]
     },
     "execution_count": 2,
     "metadata": {},
     "output_type": "execute_result"
    }
   ],
   "source": [
    "DEBUG = False\n",
    "# model name, for tensorboard recording and checkpointing purposes.\n",
    "versionName = \"pnnl_plateau_train\"\n",
    "\n",
    "# GPU Numbers to use. Comma seprate them for multi-GPUs.\n",
    "gpu_ids = \"2,3\"\n",
    "versionName = versionName + '_GPUs{}'.format(gpu_ids.replace(',',''))\n",
    "# path to load model weights.\n",
    "pretrained_path = None\n",
    "\n",
    "# rate at which to record metrics. (number of batches to average over when recording metrics, e.g. \"every 5 batches\")\n",
    "tensorboard_rate = 5\n",
    "\n",
    "# number of epochs to train. This is defined here so we can use the OneCycle LR Scheduler.\n",
    "epochs = 1000\n",
    "\n",
    "# Data Directory\n",
    "channel = 2\n",
    "gridsize = 128\n",
    "dataDirec = '/data/ccsi/pnnl_liquid_inlet/channel_{}/gridsize_{}'.format(channel,gridsize)\n",
    "preprocess = False # keep this as false until using the long runtime loader\n",
    "testSplit = .2\n",
    "AE = False\n",
    "numWorkers = 2\n",
    "\n",
    "# checkpoint directory\n",
    "cps = 'cps'\n",
    "tensorboard_direc = \"tb\"\n",
    "\n",
    "findLRs = True  \n",
    "\n",
    "# hyper-params\n",
    "seed = 1234\n",
    "np.random.seed(seed)\n",
    "bz = 32\n",
    "use_sigmoid_output_layer = True\n",
    "window_size = 0 #important to set this to zero to prevent creation of window_size elements of Y for each X\n",
    "numSamplesToKeep = np.infty #if not debugging\n",
    "latentDim = 1024\n",
    "filters = 128\n",
    "num_conv = 4 # breaks when less than 2\n",
    "simLen = 500\n",
    "stack = True\n",
    "doJacobian = False\n",
    "createStreamFcn = False\n",
    "repeat = 0\n",
    "skip_connection = False\n",
    "norm_layer = [nn.Identity, nn.BatchNorm2d, 'etc.'][0] # pick a norm layer to use for the autoencoder\n",
    "patience = 3\n",
    "if DEBUG:\n",
    "    epochs = 2\n",
    "    numSamplesToKeep = 2\n",
    "    \n",
    "versionName = versionName + '_channel{}_gridsize{}_latentDim{}_filters{}_bz{}_numConv{}_jacobian{}_norm_layer{}_sigmoid_out{}_epochs{}_stack{}'.format(\n",
    "    channel,gridsize,latentDim,filters,bz,num_conv,doJacobian,\n",
    "    repr(norm_layer).split('.')[-1][:-2],use_sigmoid_output_layer,epochs,stack)\n",
    "versionName"
   ]
  },
  {
   "cell_type": "markdown",
   "metadata": {},
   "source": [
    "### Select Personal GPUs"
   ]
  },
  {
   "cell_type": "code",
   "execution_count": 3,
   "metadata": {
    "ExecuteTime": {
     "end_time": "2020-11-07T01:42:48.759897Z",
     "start_time": "2020-11-07T01:42:48.567432Z"
    }
   },
   "outputs": [
    {
     "name": "stdout",
     "output_type": "stream",
     "text": [
      "Fri Nov  6 17:42:48 2020       \n",
      "+-----------------------------------------------------------------------------+\n",
      "| NVIDIA-SMI 440.33.01    Driver Version: 440.33.01    CUDA Version: 10.2     |\n",
      "|-------------------------------+----------------------+----------------------+\n",
      "| GPU  Name        Persistence-M| Bus-Id        Disp.A | Volatile Uncorr. ECC |\n",
      "| Fan  Temp  Perf  Pwr:Usage/Cap|         Memory-Usage | GPU-Util  Compute M. |\n",
      "|===============================+======================+======================|\n",
      "|   0  TITAN Xp            On   | 00000000:02:00.0 Off |                  N/A |\n",
      "| 23%   19C    P8     8W / 250W |   9813MiB / 12196MiB |      0%      Default |\n",
      "+-------------------------------+----------------------+----------------------+\n",
      "|   1  TITAN Xp            On   | 00000000:03:00.0 Off |                  N/A |\n",
      "| 23%   19C    P8     8W / 250W |    573MiB / 12196MiB |      0%      Default |\n",
      "+-------------------------------+----------------------+----------------------+\n",
      "|   2  TITAN Xp            On   | 00000000:81:00.0 Off |                  N/A |\n",
      "| 39%   63C    P0    66W / 250W |      1MiB / 12196MiB |      0%      Default |\n",
      "+-------------------------------+----------------------+----------------------+\n",
      "|   3  TITAN Xp            On   | 00000000:82:00.0 Off |                  N/A |\n",
      "| 34%   57C    P0    67W / 250W |      1MiB / 12196MiB |      0%      Default |\n",
      "+-------------------------------+----------------------+----------------------+\n",
      "                                                                               \n",
      "+-----------------------------------------------------------------------------+\n",
      "| Processes:                                                       GPU Memory |\n",
      "|  GPU       PID   Type   Process name                             Usage      |\n",
      "|=============================================================================|\n",
      "|    0     21682      C   /home/bartoldson1/anaconda3/bin/python      9801MiB |\n",
      "|    1     25136      C   /home/bartoldson1/anaconda3/bin/python       561MiB |\n",
      "+-----------------------------------------------------------------------------+\n"
     ]
    }
   ],
   "source": [
    "!nvidia-smi"
   ]
  },
  {
   "cell_type": "code",
   "execution_count": 4,
   "metadata": {
    "ExecuteTime": {
     "end_time": "2020-11-07T01:42:48.768437Z",
     "start_time": "2020-11-07T01:42:48.763515Z"
    }
   },
   "outputs": [],
   "source": [
    "os.environ[\"CUDA_DEVICE_ORDER\"]=\"PCI_BUS_ID\"   # see issue #152\n",
    "os.environ[\"CUDA_VISIBLE_DEVICES\"]=gpu_ids"
   ]
  },
  {
   "cell_type": "code",
   "execution_count": 5,
   "metadata": {
    "ExecuteTime": {
     "end_time": "2020-11-07T01:42:48.870347Z",
     "start_time": "2020-11-07T01:42:48.771274Z"
    }
   },
   "outputs": [
    {
     "name": "stdout",
     "output_type": "stream",
     "text": [
      "Using device: cuda\n"
     ]
    }
   ],
   "source": [
    "device = torch.device('cuda' if torch.cuda.is_available() else 'cpu')\n",
    "print('Using device:', device)"
   ]
  },
  {
   "cell_type": "code",
   "execution_count": 6,
   "metadata": {
    "ExecuteTime": {
     "end_time": "2020-11-07T01:42:48.881807Z",
     "start_time": "2020-11-07T01:42:48.873437Z"
    }
   },
   "outputs": [
    {
     "name": "stdout",
     "output_type": "stream",
     "text": [
      "True\n",
      "2\n",
      "0\n",
      "TITAN Xp\n"
     ]
    }
   ],
   "source": [
    "if device.type == 'cuda':\n",
    "    print(cuda.is_available())\n",
    "    print(cuda.device_count())\n",
    "    print(cuda.current_device())\n",
    "    print(cuda.get_device_name())"
   ]
  },
  {
   "cell_type": "code",
   "execution_count": 7,
   "metadata": {
    "ExecuteTime": {
     "end_time": "2020-11-07T01:42:50.795418Z",
     "start_time": "2020-11-07T01:42:48.886852Z"
    }
   },
   "outputs": [
    {
     "name": "stdout",
     "output_type": "stream",
     "text": [
      "Fri Nov  6 17:42:50 2020       \n",
      "+-----------------------------------------------------------------------------+\n",
      "| NVIDIA-SMI 440.33.01    Driver Version: 440.33.01    CUDA Version: 10.2     |\n",
      "|-------------------------------+----------------------+----------------------+\n",
      "| GPU  Name        Persistence-M| Bus-Id        Disp.A | Volatile Uncorr. ECC |\n",
      "| Fan  Temp  Perf  Pwr:Usage/Cap|         Memory-Usage | GPU-Util  Compute M. |\n",
      "|===============================+======================+======================|\n",
      "|   0  TITAN Xp            On   | 00000000:02:00.0 Off |                  N/A |\n",
      "| 23%   19C    P8     8W / 250W |   9813MiB / 12196MiB |      0%      Default |\n",
      "+-------------------------------+----------------------+----------------------+\n",
      "|   1  TITAN Xp            On   | 00000000:03:00.0 Off |                  N/A |\n",
      "| 23%   19C    P8     8W / 250W |    573MiB / 12196MiB |      0%      Default |\n",
      "+-------------------------------+----------------------+----------------------+\n",
      "|   2  TITAN Xp            On   | 00000000:81:00.0 Off |                  N/A |\n",
      "| 39%   62C    P2    65W / 250W |    573MiB / 12196MiB |      3%      Default |\n",
      "+-------------------------------+----------------------+----------------------+\n",
      "|   3  TITAN Xp            On   | 00000000:82:00.0 Off |                  N/A |\n",
      "| 34%   56C    P0    67W / 250W |     12MiB / 12196MiB |      0%      Default |\n",
      "+-------------------------------+----------------------+----------------------+\n",
      "                                                                               \n",
      "+-----------------------------------------------------------------------------+\n",
      "| Processes:                                                       GPU Memory |\n",
      "|  GPU       PID   Type   Process name                             Usage      |\n",
      "|=============================================================================|\n",
      "|    0     21682      C   /home/bartoldson1/anaconda3/bin/python      9801MiB |\n",
      "|    1     25136      C   /home/bartoldson1/anaconda3/bin/python       561MiB |\n",
      "|    2     27168      C   /home/bartoldson1/anaconda3/bin/python       561MiB |\n",
      "+-----------------------------------------------------------------------------+\n"
     ]
    }
   ],
   "source": [
    "a = torch.zeros(5, device=device.type)\n",
    "!nvidia-smi"
   ]
  },
  {
   "cell_type": "markdown",
   "metadata": {},
   "source": [
    "## Datasets & Loaders"
   ]
  },
  {
   "cell_type": "code",
   "execution_count": 8,
   "metadata": {
    "ExecuteTime": {
     "end_time": "2020-11-07T01:42:50.821594Z",
     "start_time": "2020-11-07T01:42:50.800129Z"
    }
   },
   "outputs": [
    {
     "data": {
      "text/plain": [
       "(10, 40)"
      ]
     },
     "execution_count": 8,
     "metadata": {},
     "output_type": "execute_result"
    }
   ],
   "source": [
    "sims = glob(os.path.join(dataDirec,'*.pkl'))\n",
    "numSims = len(sims)\n",
    "idx = int(testSplit*numSims)\n",
    "testInds = np.linspace(1,numSims-2,idx).astype('int')\n",
    "trainInds = list(set(np.arange(0,numSims)).difference(set(testInds)))\n",
    "# perm = np.random.permutation(numSims)\n",
    "# testInds = perm[:idx]\n",
    "# trainInds = perm[idx:]\n",
    "testSimFiles = [sims[idx] for idx in testInds]\n",
    "trainSimFiles = [sims[idx] for idx in trainInds]\n",
    "len(testSimFiles), len(trainSimFiles)"
   ]
  },
  {
   "cell_type": "code",
   "execution_count": 9,
   "metadata": {
    "ExecuteTime": {
     "end_time": "2020-11-07T01:42:51.504097Z",
     "start_time": "2020-11-07T01:42:50.825082Z"
    }
   },
   "outputs": [],
   "source": [
    "testDataset = CCSI_2D(testSimFiles,doPreprocess=preprocess,numToKeep=numSamplesToKeep,channel=channel,AE=AE,\n",
    "                      w=window_size)\n",
    "trainDataset = CCSI_2D(trainSimFiles,doPreprocess=preprocess,numToKeep=numSamplesToKeep,channel=channel,AE=AE,\n",
    "                      w=window_size)"
   ]
  },
  {
   "cell_type": "code",
   "execution_count": 10,
   "metadata": {
    "ExecuteTime": {
     "end_time": "2020-11-07T01:42:51.511011Z",
     "start_time": "2020-11-07T01:42:51.505885Z"
    }
   },
   "outputs": [
    {
     "data": {
      "text/plain": [
       "(625, 157)"
      ]
     },
     "execution_count": 10,
     "metadata": {},
     "output_type": "execute_result"
    }
   ],
   "source": [
    "trainDataLoader = DataLoader(dataset=trainDataset, batch_size=bz, shuffle=True, drop_last=True, num_workers=numWorkers)\n",
    "testDataLoader = DataLoader(dataset=testDataset, batch_size=bz, num_workers=numWorkers)\n",
    "len(trainDataLoader), len(testDataLoader)"
   ]
  },
  {
   "cell_type": "markdown",
   "metadata": {},
   "source": [
    "## Model"
   ]
  },
  {
   "cell_type": "markdown",
   "metadata": {},
   "source": [
    "Currently, the models need to take data to be built. It's kinda weird. I may look into fix this later. "
   ]
  },
  {
   "cell_type": "code",
   "execution_count": 11,
   "metadata": {
    "ExecuteTime": {
     "end_time": "2020-11-07T01:42:51.678812Z",
     "start_time": "2020-11-07T01:42:51.513941Z"
    }
   },
   "outputs": [
    {
     "data": {
      "text/plain": [
       "(torch.Size([32, 1, 128, 128]),\n",
       " torch.Size([32, 0, 1, 128, 128]),\n",
       " torch.Size([32, 2]),\n",
       " torch.Size([32, 0, 2]))"
      ]
     },
     "execution_count": 11,
     "metadata": {},
     "output_type": "execute_result"
    }
   ],
   "source": [
    "X, Y, p_x, p_y = next(iter(trainDataLoader))\n",
    "X, Y, p_x, p_y = X.to(device), Y.to(device), p_x.to(device), p_y.to(device)\n",
    "X.shape, Y.shape, p_x.shape, p_y.shape"
   ]
  },
  {
   "cell_type": "code",
   "execution_count": 12,
   "metadata": {
    "ExecuteTime": {
     "end_time": "2020-11-07T01:42:52.308010Z",
     "start_time": "2020-11-07T01:42:51.681207Z"
    }
   },
   "outputs": [
    {
     "name": "stderr",
     "output_type": "stream",
     "text": [
      "/home/bartoldson1/anaconda3/lib/python3.8/site-packages/torch/nn/functional.py:3000: UserWarning: The default behavior for interpolate/upsample with float scale_factor changed in 1.6.0 to align with other frameworks/libraries, and uses scale_factor directly, instead of relying on the computed output size. If you wish to keep the old behavior, please set recompute_scale_factor=True. See the documentation of nn.Upsample for details. \n",
      "  warnings.warn(\"The default behavior for interpolate/upsample with float scale_factor changed \"\n"
     ]
    },
    {
     "name": "stdout",
     "output_type": "stream",
     "text": [
      "[128, 8, 8]\n"
     ]
    }
   ],
   "source": [
    "model = AE_xhat_zV2(X, filters, latentDim, num_conv, repeat, \n",
    "                 skip_connection, stack, conv_k=3, last_k=3, \n",
    "                 act=nn.LeakyReLU(), return_z=True, stream=createStreamFcn, device=device, norm=norm_layer,\n",
    "                   sigmoid_out=use_sigmoid_output_layer)\n",
    "\n",
    "if len(gpu_ids.split(',')) > 1:\n",
    "    model = nn.DataParallel(model)"
   ]
  },
  {
   "cell_type": "code",
   "execution_count": 13,
   "metadata": {
    "ExecuteTime": {
     "end_time": "2020-11-07T01:42:52.316680Z",
     "start_time": "2020-11-07T01:42:52.310866Z"
    }
   },
   "outputs": [
    {
     "name": "stdout",
     "output_type": "stream",
     "text": [
      "90 layers require gradients (unfrozen) out of 90 layers\n",
      "29,398,017 parameters require gradients (unfrozen) out of 29,398,017 parameters\n"
     ]
    }
   ],
   "source": [
    "printNumModelParams(model)"
   ]
  },
  {
   "cell_type": "code",
   "execution_count": 14,
   "metadata": {
    "ExecuteTime": {
     "end_time": "2020-11-07T01:42:54.237933Z",
     "start_time": "2020-11-07T01:42:52.319589Z"
    }
   },
   "outputs": [
    {
     "data": {
      "text/plain": [
       "(torch.Size([32, 1, 128, 128]), torch.Size([32, 1024]))"
      ]
     },
     "execution_count": 14,
     "metadata": {},
     "output_type": "execute_result"
    }
   ],
   "source": [
    "Xhat,z = model(X, p_x)\n",
    "Xhat.shape, z.shape"
   ]
  },
  {
   "cell_type": "code",
   "execution_count": 15,
   "metadata": {
    "ExecuteTime": {
     "end_time": "2020-11-07T01:42:54.267649Z",
     "start_time": "2020-11-07T01:42:54.239383Z"
    }
   },
   "outputs": [
    {
     "data": {
      "text/plain": [
       "True"
      ]
     },
     "execution_count": 15,
     "metadata": {},
     "output_type": "execute_result"
    }
   ],
   "source": [
    "np.allclose(z[:,-2:].detach().cpu(),p_x.cpu())"
   ]
  },
  {
   "cell_type": "markdown",
   "metadata": {},
   "source": [
    "## Loss Function"
   ]
  },
  {
   "cell_type": "code",
   "execution_count": 16,
   "metadata": {
    "ExecuteTime": {
     "end_time": "2020-11-07T01:42:54.274369Z",
     "start_time": "2020-11-07T01:42:54.268937Z"
    }
   },
   "outputs": [],
   "source": [
    "def L2_relative_loss(pred, target):\n",
    "    return torch.norm(pred - target)/torch.norm(target)\n",
    "\n",
    "\n",
    "def L1_loss(pred, target):\n",
    "    return torch.mean(torch.abs(pred - target))\n",
    "\n",
    "\n",
    "def jacobian_loss(pred, target, device='cpu'):\n",
    "    return L1_loss(jacobian(pred, device), jacobian(target, device))\n",
    "\n",
    "\n",
    "def curl_loss(pred, target, device):\n",
    "    return L1_loss(curl(pred, device), curl(target, device))\n",
    "\n",
    "\n",
    "L = nn.MSELoss()\n",
    "\n",
    "\n",
    "def p_loss(pred, target):\n",
    "    return L(pred[:, -target.shape[1]:], target)\n",
    "\n",
    "\n",
    "def loss(pred, target, device):\n",
    "    \n",
    "    if createStreamFcn:\n",
    "        pred = stream2uv(pred, device)\n",
    "        \n",
    "    L = L2_relative_loss(pred, target)\n",
    "    Lj = 0\n",
    "    if doJacobian:\n",
    "        Lj = jacobian_loss(pred, target, device)\n",
    "        \n",
    "    return L + Lj"
   ]
  },
  {
   "cell_type": "code",
   "execution_count": 17,
   "metadata": {
    "ExecuteTime": {
     "end_time": "2020-11-07T01:42:54.281469Z",
     "start_time": "2020-11-07T01:42:54.275711Z"
    }
   },
   "outputs": [
    {
     "data": {
      "text/plain": [
       "torch.Size([32, 2, 128, 128])"
      ]
     },
     "execution_count": 17,
     "metadata": {},
     "output_type": "execute_result"
    }
   ],
   "source": [
    "pred = stream2uv(Xhat,device)\n",
    "pred.shape"
   ]
  },
  {
   "cell_type": "code",
   "execution_count": 18,
   "metadata": {
    "ExecuteTime": {
     "end_time": "2020-11-07T01:42:54.288463Z",
     "start_time": "2020-11-07T01:42:54.282557Z"
    }
   },
   "outputs": [
    {
     "data": {
      "text/plain": [
       "tensor(1.4142, device='cuda:0', grad_fn=<AddBackward0>)"
      ]
     },
     "execution_count": 18,
     "metadata": {},
     "output_type": "execute_result"
    }
   ],
   "source": [
    "loss(pred,X,device)"
   ]
  },
  {
   "cell_type": "markdown",
   "metadata": {},
   "source": [
    "## Set LR"
   ]
  },
  {
   "cell_type": "code",
   "execution_count": 19,
   "metadata": {
    "ExecuteTime": {
     "end_time": "2020-11-07T01:42:54.292286Z",
     "start_time": "2020-11-07T01:42:54.289705Z"
    }
   },
   "outputs": [],
   "source": [
    "if findLRs and (len(gpu_ids.split(','))==1): # doesn't work for multigpu???\n",
    "    model.return_z = False\n",
    "    opt = create_opt(1e-7,model)\n",
    "    find_lr(model,opt,L,device,trainDataLoader)\n",
    "    model.return_z = True"
   ]
  },
  {
   "cell_type": "code",
   "execution_count": 20,
   "metadata": {
    "ExecuteTime": {
     "end_time": "2020-11-07T01:42:54.297459Z",
     "start_time": "2020-11-07T01:42:54.293733Z"
    }
   },
   "outputs": [],
   "source": [
    "max_lr = .0001\n",
    "start_lr = 5*max_lr/10\n",
    "#opt = create_opt(max_lr,model)\n",
    "#lr_scheduler = create_one_cycle(opt,max_lr,epochs,trainDataLoader)\n",
    "opt = torch.optim.Adam(model.parameters(),lr=max_lr,betas=(.5,.999))\n",
    "lr_scheduler = torch.optim.lr_scheduler.ReduceLROnPlateau(opt,patience=patience)"
   ]
  },
  {
   "cell_type": "code",
   "execution_count": 21,
   "metadata": {
    "ExecuteTime": {
     "end_time": "2020-11-07T01:42:54.301455Z",
     "start_time": "2020-11-07T01:42:54.298756Z"
    }
   },
   "outputs": [],
   "source": [
    "versionName = versionName + '_lr{}'.format(str(max_lr))"
   ]
  },
  {
   "cell_type": "markdown",
   "metadata": {},
   "source": [
    "## Train"
   ]
  },
  {
   "cell_type": "code",
   "execution_count": 22,
   "metadata": {
    "ExecuteTime": {
     "end_time": "2020-11-07T01:42:54.309654Z",
     "start_time": "2020-11-07T01:42:54.302745Z"
    }
   },
   "outputs": [],
   "source": [
    "def trainEpoch(myDataLoader, tensorboard_writer, model, opt, p_loss, loss,\n",
    "               metric, lr_scheduler, tensorboard_rate, device,\n",
    "               tensorboard_recorder_step, total_steps):\n",
    "    running_loss = 0.0\n",
    "    running_rmse = 0.0\n",
    "    total_loss = 0.0\n",
    "    running_ploss = 0.0\n",
    "    for i, sampleBatch in enumerate(myDataLoader, start=1):\n",
    "\n",
    "        # --- Main Training ---\n",
    "        \n",
    "        # gpu\n",
    "        X, Y, p_x, p_y = sampleBatch\n",
    "        X = X.to(device)\n",
    "        p_x = p_x.to(device)\n",
    "\n",
    "        # zero the parameter gradients\n",
    "        opt.zero_grad()\n",
    "\n",
    "        X_hat, z = model(X, p_x)\n",
    "        #pl = p_loss(z,p)\n",
    "        ll = loss(X_hat,X,device)\n",
    "        combined_loss = ll #pl + ll\n",
    "        combined_loss.backward()\n",
    "        opt.step()\n",
    "        \n",
    "        # loss\n",
    "        batch_loss = combined_loss.item()\n",
    "        running_loss += batch_loss\n",
    "        total_loss += batch_loss\n",
    "        \n",
    "        #batch_ploss = pl.item()\n",
    "        #running_ploss += batch_ploss\n",
    "\n",
    "        # --- Metrics Recording ---\n",
    "\n",
    "        # metrics\n",
    "        r = metric(X_hat, X)\n",
    "        running_rmse += r\n",
    "\n",
    "        # record lr change\n",
    "        total_steps += 1\n",
    "        tensorboard_writer.add_scalar(tag=\"LR\", scalar_value=opt.param_groups[0]['lr'], global_step=total_steps)\n",
    "        #lr_scheduler.step()\n",
    "\n",
    "        # tensorboard writes\n",
    "        if (i % tensorboard_rate == 0):\n",
    "            tensorboard_recorder_step += 1\n",
    "            avg_running_loss = running_loss/tensorboard_rate\n",
    "            avg_running_rmse = running_rmse/tensorboard_rate\n",
    "            #avg_running_ploss = running_ploss/tensorboard_rate\n",
    "            tensorboard_writer.add_scalar(tag=\"Loss\", scalar_value=avg_running_loss, global_step=tensorboard_recorder_step)\n",
    "            #tensorboard_writer.add_scalar(tag=\"p_loss\", scalar_value=avg_running_ploss, global_step=tensorboard_recorder_step)\n",
    "            tensorboard_writer.add_scalar(tag=metric.__name__, scalar_value=avg_running_rmse, global_step=tensorboard_recorder_step)\n",
    "            # reset running_loss for the next set of batches. (tensorboard_rate number of batches)\n",
    "            running_loss = 0.0\n",
    "            running_rmse = 0.0\n",
    "            #running_ploss = 0.0\n",
    "\n",
    "    return total_loss/len(myDataLoader), tensorboard_recorder_step, total_steps"
   ]
  },
  {
   "cell_type": "code",
   "execution_count": 23,
   "metadata": {
    "ExecuteTime": {
     "end_time": "2020-11-07T01:42:54.316181Z",
     "start_time": "2020-11-07T01:42:54.310970Z"
    }
   },
   "outputs": [],
   "source": [
    "# EXPORT\n",
    "def validEpoch(myDataLoader, tensorboard_writer, model, p_loss, loss, metric,\n",
    "               device, tensorboard_recorder_step):\n",
    "    running_loss = 0.0\n",
    "    running_rmse = 0.0\n",
    "    for i, sampleBatch in enumerate(myDataLoader, start=1):\n",
    "\n",
    "        # --- Metrics Recording ---\n",
    "\n",
    "        # gpu\n",
    "        X, Y, p_x, p_y = sampleBatch\n",
    "        X = X.to(device)\n",
    "        p_x = p_x.to(device)\n",
    "        \n",
    "        perc = len(X)/len(myDataLoader.dataset)\n",
    "\n",
    "        # forward, no gradient calculations\n",
    "        with torch.no_grad():\n",
    "            X_hat, z = model(X, p_x)\n",
    "\n",
    "        # loss\n",
    "        #combined_loss = p_loss(z,p) + loss(X_hat,X,device)\n",
    "        combined_loss = loss(X_hat,X,device)\n",
    "        \n",
    "        running_loss += perc*(combined_loss.item())\n",
    "\n",
    "        # metrics\n",
    "        r = metric(X_hat, X)\n",
    "        running_rmse += perc*r\n",
    "\n",
    "    avg_running_loss = running_loss\n",
    "    avg_running_rmse = running_rmse\n",
    "    tensorboard_writer.add_scalar(tag=\"Loss\", scalar_value=avg_running_loss, global_step=tensorboard_recorder_step)\n",
    "    tensorboard_writer.add_scalar(tag=metric.__name__, scalar_value=avg_running_rmse, global_step=tensorboard_recorder_step)\n",
    "\n",
    "    return running_loss"
   ]
  },
  {
   "cell_type": "code",
   "execution_count": 24,
   "metadata": {
    "ExecuteTime": {
     "end_time": "2020-11-07T01:42:54.320896Z",
     "start_time": "2020-11-07T01:42:54.317505Z"
    }
   },
   "outputs": [
    {
     "name": "stdout",
     "output_type": "stream",
     "text": [
      "checkpoints directory already exists :)\n"
     ]
    }
   ],
   "source": [
    "try:\n",
    "    os.mkdir(cps)\n",
    "except:\n",
    "    print(\"checkpoints directory already exists :)\")"
   ]
  },
  {
   "cell_type": "code",
   "execution_count": 25,
   "metadata": {
    "ExecuteTime": {
     "end_time": "2020-11-07T01:42:56.571917Z",
     "start_time": "2020-11-07T01:42:54.322152Z"
    }
   },
   "outputs": [],
   "source": [
    "# create a summary writer.\n",
    "train_writer = SummaryWriter(os.path.join(tensorboard_direc, versionName,'train'))\n",
    "test_writer = SummaryWriter(os.path.join(tensorboard_direc, versionName,'valid'))\n",
    "tensorboard_recorder_step = 0\n",
    "total_steps = 0"
   ]
  },
  {
   "cell_type": "code",
   "execution_count": null,
   "metadata": {
    "ExecuteTime": {
     "start_time": "2020-11-07T01:42:58.398Z"
    }
   },
   "outputs": [
    {
     "name": "stderr",
     "output_type": "stream",
     "text": [
      "\r",
      "  0%|          | 0/1000 [00:00<?, ?it/s]"
     ]
    },
    {
     "name": "stdout",
     "output_type": "stream",
     "text": [
      "---------- Started Training ----------\n",
      "--- Epoch 1/1000 ---\n"
     ]
    },
    {
     "name": "stderr",
     "output_type": "stream",
     "text": [
      "/home/bartoldson1/anaconda3/lib/python3.8/site-packages/torch/nn/functional.py:3000: UserWarning: The default behavior for interpolate/upsample with float scale_factor changed in 1.6.0 to align with other frameworks/libraries, and uses scale_factor directly, instead of relying on the computed output size. If you wish to keep the old behavior, please set recompute_scale_factor=True. See the documentation of nn.Upsample for details. \n",
      "  warnings.warn(\"The default behavior for interpolate/upsample with float scale_factor changed \"\n"
     ]
    },
    {
     "name": "stdout",
     "output_type": "stream",
     "text": [
      "trainLoss: 6.0667e-01\n",
      "LR: 1.0000e-04\n",
      "valLoss: 5.1245e-01\n",
      "Better valLoss: 5.1245e-01, Saving models...\n"
     ]
    },
    {
     "name": "stderr",
     "output_type": "stream",
     "text": [
      "\r",
      "  0%|          | 1/1000 [03:19<55:23:42, 199.62s/it]"
     ]
    },
    {
     "name": "stdout",
     "output_type": "stream",
     "text": [
      "--- Epoch 2/1000 ---\n",
      "trainLoss: 4.7301e-01\n",
      "LR: 1.0000e-04\n",
      "valLoss: 4.4930e-01\n",
      "Better valLoss: 4.4930e-01, Saving models...\n"
     ]
    },
    {
     "name": "stderr",
     "output_type": "stream",
     "text": [
      "\r",
      "  0%|          | 2/1000 [06:38<55:15:01, 199.30s/it]"
     ]
    },
    {
     "name": "stdout",
     "output_type": "stream",
     "text": [
      "--- Epoch 3/1000 ---\n",
      "trainLoss: 4.2138e-01\n",
      "LR: 1.0000e-04\n",
      "valLoss: 4.1911e-01\n",
      "Better valLoss: 4.1911e-01, Saving models...\n"
     ]
    },
    {
     "name": "stderr",
     "output_type": "stream",
     "text": [
      "\r",
      "  0%|          | 3/1000 [09:57<55:12:17, 199.34s/it]"
     ]
    },
    {
     "name": "stdout",
     "output_type": "stream",
     "text": [
      "--- Epoch 4/1000 ---\n",
      "trainLoss: 3.8266e-01\n",
      "LR: 1.0000e-04\n",
      "valLoss: 3.9720e-01\n",
      "Better valLoss: 3.9720e-01, Saving models...\n"
     ]
    },
    {
     "name": "stderr",
     "output_type": "stream",
     "text": [
      "\r",
      "  0%|          | 4/1000 [13:16<55:06:02, 199.16s/it]"
     ]
    },
    {
     "name": "stdout",
     "output_type": "stream",
     "text": [
      "--- Epoch 5/1000 ---\n",
      "trainLoss: 3.5339e-01\n",
      "LR: 1.0000e-04\n",
      "valLoss: 3.8488e-01\n",
      "Better valLoss: 3.8488e-01, Saving models...\n"
     ]
    },
    {
     "name": "stderr",
     "output_type": "stream",
     "text": [
      "\r",
      "  0%|          | 5/1000 [16:35<55:03:47, 199.22s/it]"
     ]
    },
    {
     "name": "stdout",
     "output_type": "stream",
     "text": [
      "--- Epoch 6/1000 ---\n",
      "trainLoss: 3.3116e-01\n",
      "LR: 1.0000e-04\n",
      "valLoss: 3.7319e-01\n",
      "Better valLoss: 3.7319e-01, Saving models...\n"
     ]
    },
    {
     "name": "stderr",
     "output_type": "stream",
     "text": [
      "\r",
      "  1%|          | 6/1000 [19:54<54:58:25, 199.10s/it]"
     ]
    },
    {
     "name": "stdout",
     "output_type": "stream",
     "text": [
      "--- Epoch 7/1000 ---\n",
      "trainLoss: 3.1433e-01\n",
      "LR: 1.0000e-04\n",
      "valLoss: 3.6335e-01\n",
      "Better valLoss: 3.6335e-01, Saving models...\n"
     ]
    },
    {
     "name": "stderr",
     "output_type": "stream",
     "text": [
      "\r",
      "  1%|          | 7/1000 [23:13<54:55:38, 199.13s/it]"
     ]
    },
    {
     "name": "stdout",
     "output_type": "stream",
     "text": [
      "--- Epoch 8/1000 ---\n",
      "trainLoss: 2.9963e-01\n",
      "LR: 1.0000e-04\n",
      "valLoss: 3.6016e-01\n",
      "Better valLoss: 3.6016e-01, Saving models...\n"
     ]
    },
    {
     "name": "stderr",
     "output_type": "stream",
     "text": [
      "\r",
      "  1%|          | 8/1000 [26:32<54:51:09, 199.06s/it]"
     ]
    },
    {
     "name": "stdout",
     "output_type": "stream",
     "text": [
      "--- Epoch 9/1000 ---\n",
      "trainLoss: 2.8792e-01\n",
      "LR: 1.0000e-04\n",
      "valLoss: 3.5387e-01\n",
      "Better valLoss: 3.5387e-01, Saving models...\n"
     ]
    },
    {
     "name": "stderr",
     "output_type": "stream",
     "text": [
      "\r",
      "  1%|          | 9/1000 [29:51<54:48:15, 199.09s/it]"
     ]
    },
    {
     "name": "stdout",
     "output_type": "stream",
     "text": [
      "--- Epoch 10/1000 ---\n",
      "trainLoss: 2.7648e-01\n",
      "LR: 1.0000e-04\n",
      "valLoss: 3.4763e-01\n",
      "Better valLoss: 3.4763e-01, Saving models...\n"
     ]
    },
    {
     "name": "stderr",
     "output_type": "stream",
     "text": [
      "\r",
      "  1%|          | 10/1000 [33:10<54:42:49, 198.96s/it]"
     ]
    },
    {
     "name": "stdout",
     "output_type": "stream",
     "text": [
      "--- Epoch 11/1000 ---\n",
      "trainLoss: 2.6637e-01\n",
      "LR: 1.0000e-04\n",
      "valLoss: 3.4100e-01\n",
      "Better valLoss: 3.4100e-01, Saving models...\n"
     ]
    },
    {
     "name": "stderr",
     "output_type": "stream",
     "text": [
      "\r",
      "  1%|          | 11/1000 [36:29<54:40:26, 199.02s/it]"
     ]
    },
    {
     "name": "stdout",
     "output_type": "stream",
     "text": [
      "--- Epoch 12/1000 ---\n",
      "trainLoss: 2.5694e-01\n",
      "LR: 1.0000e-04\n",
      "valLoss: 3.3773e-01\n",
      "Better valLoss: 3.3773e-01, Saving models...\n"
     ]
    },
    {
     "name": "stderr",
     "output_type": "stream",
     "text": [
      "\r",
      "  1%|          | 12/1000 [39:48<54:36:40, 198.99s/it]"
     ]
    },
    {
     "name": "stdout",
     "output_type": "stream",
     "text": [
      "--- Epoch 13/1000 ---\n",
      "trainLoss: 2.4914e-01\n",
      "LR: 1.0000e-04\n",
      "valLoss: 3.3603e-01\n",
      "Better valLoss: 3.3603e-01, Saving models...\n"
     ]
    },
    {
     "name": "stderr",
     "output_type": "stream",
     "text": [
      "\r",
      "  1%|▏         | 13/1000 [43:07<54:33:46, 199.01s/it]"
     ]
    },
    {
     "name": "stdout",
     "output_type": "stream",
     "text": [
      "--- Epoch 14/1000 ---\n",
      "trainLoss: 2.4179e-01\n",
      "LR: 1.0000e-04\n",
      "valLoss: 3.2970e-01\n",
      "Better valLoss: 3.2970e-01, Saving models...\n"
     ]
    },
    {
     "name": "stderr",
     "output_type": "stream",
     "text": [
      "\r",
      "  1%|▏         | 14/1000 [46:25<54:26:53, 198.80s/it]"
     ]
    },
    {
     "name": "stdout",
     "output_type": "stream",
     "text": [
      "--- Epoch 15/1000 ---\n",
      "trainLoss: 2.3536e-01\n",
      "LR: 1.0000e-04\n",
      "valLoss: 3.2834e-01\n",
      "Better valLoss: 3.2834e-01, Saving models...\n"
     ]
    },
    {
     "name": "stderr",
     "output_type": "stream",
     "text": [
      "\r",
      "  2%|▏         | 15/1000 [49:43<54:19:48, 198.57s/it]"
     ]
    },
    {
     "name": "stdout",
     "output_type": "stream",
     "text": [
      "--- Epoch 16/1000 ---\n",
      "trainLoss: 2.2872e-01\n",
      "LR: 1.0000e-04\n",
      "valLoss: 3.2232e-01\n",
      "Better valLoss: 3.2232e-01, Saving models...\n"
     ]
    },
    {
     "name": "stderr",
     "output_type": "stream",
     "text": [
      "\r",
      "  2%|▏         | 16/1000 [53:02<54:16:02, 198.54s/it]"
     ]
    },
    {
     "name": "stdout",
     "output_type": "stream",
     "text": [
      "--- Epoch 17/1000 ---\n"
     ]
    }
   ],
   "source": [
    "writeMessage('---------- Started Training ----------', versionName)\n",
    "bestLoss = np.infty\n",
    "\n",
    "for epoch in tqdm(range(1, epochs+1)):  # loop over the dataset multiple times\n",
    "    \n",
    "    writeMessage(\"--- Epoch {0}/{1} ---\".format(epoch, epochs), versionName)\n",
    "    \n",
    "    model.train()\n",
    "    trainLoss, tensorboard_recorder_step, total_steps = trainEpoch(trainDataLoader, \n",
    "                                                                   train_writer, model, opt, p_loss, loss,\n",
    "                                                                   rmse, lr_scheduler, \n",
    "                                                                   tensorboard_rate, device,\n",
    "                                                                   tensorboard_recorder_step, total_steps)\n",
    "    \n",
    "    writeMessage(\"trainLoss: {:.4e}\".format(trainLoss),versionName)\n",
    "    writeMessage(\"LR: {:.4e}\".format(opt.param_groups[0]['lr']),versionName)\n",
    "#     if trainLoss < bestLoss:\n",
    "#         bestLoss = trainLoss\n",
    "#         writeMessage(\"Better trainLoss: {:.4e}, Saving models...\".format(bestLoss),versionName)\n",
    "#         torch.save(model.state_dict(), os.path.join(cps,versionName))\n",
    "        \n",
    "    model.eval()\n",
    "    valLoss = validEpoch(testDataLoader, test_writer, model, p_loss, loss, rmse, device, tensorboard_recorder_step)\n",
    "    writeMessage(\"valLoss: {:.4e}\".format(valLoss),versionName)\n",
    "    \n",
    "    # checkpoint progress\n",
    "    if valLoss < bestLoss:\n",
    "        bestLoss = valLoss\n",
    "        writeMessage(\"Better valLoss: {:.4e}, Saving models...\".format(bestLoss),versionName)\n",
    "        torch.save(model.state_dict(), os.path.join(cps,versionName))\n",
    "\n",
    "    lr_scheduler.step(valLoss)\n",
    "    \n",
    "    if opt.param_groups[0]['lr'] < 5e-8:\n",
    "        break\n",
    "writeMessage('---------- Finished Training ----------', versionName)"
   ]
  },
  {
   "cell_type": "markdown",
   "metadata": {},
   "source": [
    "## Compare: Generated vs. Simulated"
   ]
  },
  {
   "cell_type": "code",
   "execution_count": null,
   "metadata": {
    "ExecuteTime": {
     "start_time": "2020-11-07T01:42:58.400Z"
    }
   },
   "outputs": [],
   "source": [
    "model.load_state_dict(torch.load(os.path.join(cps,versionName)))\n",
    "model = model.to(device)"
   ]
  },
  {
   "cell_type": "code",
   "execution_count": null,
   "metadata": {
    "ExecuteTime": {
     "start_time": "2020-11-07T01:42:58.402Z"
    }
   },
   "outputs": [],
   "source": [
    "model.eval()\n",
    "X, Y, p_x, p_y = next(iter(testDataLoader))\n",
    "X, Y, p_x, p_y = X.to(device), Y.to(device), p_x.to(device), p_y.to(device)\n",
    "\n",
    "with torch.no_grad():\n",
    "    X_hat, p = model(X, p_x)\n",
    "\n",
    "if createStreamFcn:\n",
    "    X_hat = stream2uv(X_hat,device)\n",
    "    \n",
    "X.shape, p_x.shape, X_hat.shape"
   ]
  },
  {
   "cell_type": "markdown",
   "metadata": {},
   "source": [
    "### Metrics"
   ]
  },
  {
   "cell_type": "code",
   "execution_count": 41,
   "metadata": {
    "ExecuteTime": {
     "end_time": "2020-11-08T19:54:27.321329Z",
     "start_time": "2020-11-08T19:53:28.911101Z"
    }
   },
   "outputs": [
    {
     "name": "stdout",
     "output_type": "stream",
     "text": [
      "RMSE \t Rel Err\n"
     ]
    },
    {
     "name": "stderr",
     "output_type": "stream",
     "text": [
      "/home/bartoldson1/anaconda3/lib/python3.8/site-packages/torch/nn/functional.py:3000: UserWarning: The default behavior for interpolate/upsample with float scale_factor changed in 1.6.0 to align with other frameworks/libraries, and uses scale_factor directly, instead of relying on the computed output size. If you wish to keep the old behavior, please set recompute_scale_factor=True. See the documentation of nn.Upsample for details. \n",
      "  warnings.warn(\"The default behavior for interpolate/upsample with float scale_factor changed \"\n"
     ]
    },
    {
     "name": "stdout",
     "output_type": "stream",
     "text": [
      "0.0510513111948967\t0.2894526422023773\n",
      "0.059204500168561935\t0.27902278304100037\n",
      "0.05741140618920326\t0.2864120900630951\n",
      "0.06139127537608147\t0.2748013436794281\n",
      "0.06281598657369614\t0.2809756100177765\n",
      "0.0720706358551979\t0.27794286608695984\n",
      "0.08050138503313065\t0.2832842767238617\n",
      "0.08786144852638245\t0.3001275658607483\n",
      "0.1137864962220192\t0.3477751314640045\n",
      "0.0753839984536171\t0.2747536897659302\n",
      "0.2894548\n"
     ]
    }
   ],
   "source": [
    "RMSE = []\n",
    "relErr = []\n",
    "frameRe = []\n",
    "print('RMSE \\t Rel Err')\n",
    "for idx in range(len(testSimFiles)):\n",
    "    # testDataset = CCSI_2D([testSimFiles[idx]],doPreprocess=preprocess,channel=channel,AE=False)\n",
    "    # simDataLoader = DataLoader(dataset=testDataset, batch_size=1)\n",
    "    # for X,Y in simDataLoader:\n",
    "    #     p = X[1]\n",
    "    #     t = X[2]\n",
    "    #     print(X[0].shape, p, t)\n",
    "\n",
    "    testDataset = CCSI_2D([testSimFiles[idx]],doPreprocess=preprocess,channel=channel,AE=AE,w=0)\n",
    "    simDataLoader = DataLoader(dataset=testDataset, batch_size=1)\n",
    "    XX = []\n",
    "    Real_X = []\n",
    "    model.eval()\n",
    "    for i, sampleBatch in enumerate(simDataLoader,start=1):\n",
    "        with torch.no_grad():\n",
    "            X, Y, p_x, p_y = sampleBatch\n",
    "            X, Y, p_x, p_y = X.to(device), Y.to(device), p_x.to(device), p_y.to(device)\n",
    "            Real_X.append(X)\n",
    "\n",
    "            X_hat,_ = model(X, p_x)\n",
    "\n",
    "            if createStreamFcn:\n",
    "                X_hat = stream2uv(X_hat,device)\n",
    "\n",
    "            XX.append(X_hat)\n",
    "\n",
    "            #X = X.detach().cpu().squeeze()\n",
    "            #X_hat = X_hat.detach().cpu().squeeze()\n",
    "            #plotSampleWprediction(X, X_hat)\n",
    "\n",
    "    Real_X = torch.cat(Real_X,axis=0).to('cpu')\n",
    "    Real_X_img = torch.rot90(convertSimToImage(Real_X),1,dims=[2,3])\n",
    "\n",
    "    Surr_X = torch.cat(XX,axis=0).to('cpu')\n",
    "    Surr_X_img = torch.rot90(convertSimToImage(Surr_X),1,dims=[2,3])\n",
    "    Real_X_img.shape, Surr_X_img.shape\n",
    "    \n",
    "    r = rmse(Real_X,Surr_X)\n",
    "    RMSE.append(r)\n",
    "    \n",
    "    rel_error = torch.norm(Real_X - Surr_X)/torch.norm(Real_X)\n",
    "    print('{}\\t{}'.format(r, rel_error))\n",
    "    relErr.append(rel_error)\n",
    "    \n",
    "    re = []\n",
    "    for x,y in zip(Real_X, Surr_X):\n",
    "        x = x.squeeze()\n",
    "        y = y.squeeze()\n",
    "        e = torch.norm(x - y)/torch.norm(x)\n",
    "        re.append(e)\n",
    "    frameRe.append(re)\n",
    "    #plt.plot(re)\n",
    "    \n",
    "print(np.mean(relErr))\n",
    "frameRe = np.vstack(frameRe)\n",
    "plt.plot(frameRe.T)\n",
    "plt.legend([i for i in range(len(testSimFiles))])\n",
    "plt.show()"
   ]
  },
  {
   "cell_type": "markdown",
   "metadata": {},
   "source": [
    "### Make Movie"
   ]
  },
  {
   "cell_type": "code",
   "execution_count": null,
   "metadata": {
    "ExecuteTime": {
     "start_time": "2020-11-07T01:42:58.407Z"
    }
   },
   "outputs": [],
   "source": [
    "import matplotlib.animation as animation\n",
    "import matplotlib.gridspec as gridspec\n",
    "import matplotlib.animation as manimati\n",
    "from matplotlib import animation, rc\n",
    "def create_1_channel_movie(im,outfile='sim.mp4',title='surrogate            simulation'):\n",
    "    ti = 0\n",
    "    u_mx = 255 #np.max(np.abs(Xrgb))\n",
    "    fig = plt.figure()\n",
    "    ax = fig.add_subplot(111)\n",
    "    plt.title(title)\n",
    "    cmap = plt.cm.ocean\n",
    "    img = ax.imshow(im[0].squeeze(), cmap=cmap, vmin=0, vmax=u_mx)\n",
    "    #plt.show()\n",
    "    \n",
    "    # initialization function: plot the background of each frame\n",
    "    def init():\n",
    "        img = ax.imshow(im[0].squeeze(), cmap=cmap, vmin=0, vmax=u_mx)\n",
    "        return (fig,)\n",
    "\n",
    "    # animation function. This is called sequentially\n",
    "    def animate(i):\n",
    "        img = ax.imshow(im[i].squeeze(), cmap=cmap, vmin=0, vmax=u_mx)\n",
    "        return (fig,)\n",
    "\n",
    "\n",
    "    # call the animator. blit=True means only re-draw the parts that have changed.\n",
    "    anim = animation.FuncAnimation(fig, animate, init_func=init,\n",
    "                                   frames=len(im), interval=20, blit=True)\n",
    "    anim.save(outfile, fps=30, extra_args=['-vcodec', 'libx264'])"
   ]
  },
  {
   "cell_type": "code",
   "execution_count": null,
   "metadata": {
    "ExecuteTime": {
     "start_time": "2020-11-07T01:42:58.409Z"
    }
   },
   "outputs": [],
   "source": [
    "Xrgb = torch.cat([Surr_X_img, Real_X_img], dim=3)\n",
    "Xrgb.shape"
   ]
  },
  {
   "cell_type": "code",
   "execution_count": null,
   "metadata": {
    "ExecuteTime": {
     "start_time": "2020-11-07T01:42:58.411Z"
    }
   },
   "outputs": [],
   "source": [
    "try:\n",
    "    gif = True\n",
    "    outGif = '{}.gif'.format(versionName)\n",
    "    create_1_channel_movie(Xrgb.detach().numpy(),outfile=outGif)\n",
    "except:\n",
    "    gif = False\n",
    "    outGif = '{}.mp4'.format(versionName)\n",
    "    create_1_channel_movie(Xrgb.detach().numpy(),outfile=outGif)"
   ]
  },
  {
   "cell_type": "code",
   "execution_count": null,
   "metadata": {
    "ExecuteTime": {
     "start_time": "2020-11-07T01:42:58.412Z"
    }
   },
   "outputs": [],
   "source": [
    "outGif"
   ]
  },
  {
   "cell_type": "code",
   "execution_count": null,
   "metadata": {
    "ExecuteTime": {
     "start_time": "2020-11-07T01:42:58.414Z"
    }
   },
   "outputs": [],
   "source": [
    "from IPython.display import Image, Video\n",
    "if gif:\n",
    "    Image(filename=outGif)\n",
    "else:\n",
    "    Video(outGif)"
   ]
  },
  {
   "cell_type": "code",
   "execution_count": 37,
   "metadata": {
    "ExecuteTime": {
     "end_time": "2020-11-08T19:51:58.708843Z",
     "start_time": "2020-11-08T19:51:58.699965Z"
    }
   },
   "outputs": [
    {
     "data": {
      "text/html": [
       "<video src=\"pnnl_plateau_train_GPUs23_channel2_gridsize128_latentDim1024_filters128_bz32_numConv4_jacobianFalse_norm_layerIdentity_sigmoid_outTrue_epochs1000_stackTrue_lr0.0001.mp4\" controls  >\n",
       "      Your browser does not support the <code>video</code> element.\n",
       "    </video>"
      ],
      "text/plain": [
       "<IPython.core.display.Video object>"
      ]
     },
     "execution_count": 37,
     "metadata": {},
     "output_type": "execute_result"
    }
   ],
   "source": [
    "Video(outGif)"
   ]
  },
  {
   "cell_type": "code",
   "execution_count": 40,
   "metadata": {
    "ExecuteTime": {
     "end_time": "2020-11-08T19:53:02.923818Z",
     "start_time": "2020-11-08T19:53:02.521120Z"
    }
   },
   "outputs": [
    {
     "data": {
      "application/javascript": [
       "/* Put everything inside the global mpl namespace */\n",
       "window.mpl = {};\n",
       "\n",
       "\n",
       "mpl.get_websocket_type = function() {\n",
       "    if (typeof(WebSocket) !== 'undefined') {\n",
       "        return WebSocket;\n",
       "    } else if (typeof(MozWebSocket) !== 'undefined') {\n",
       "        return MozWebSocket;\n",
       "    } else {\n",
       "        alert('Your browser does not have WebSocket support. ' +\n",
       "              'Please try Chrome, Safari or Firefox ≥ 6. ' +\n",
       "              'Firefox 4 and 5 are also supported but you ' +\n",
       "              'have to enable WebSockets in about:config.');\n",
       "    };\n",
       "}\n",
       "\n",
       "mpl.figure = function(figure_id, websocket, ondownload, parent_element) {\n",
       "    this.id = figure_id;\n",
       "\n",
       "    this.ws = websocket;\n",
       "\n",
       "    this.supports_binary = (this.ws.binaryType != undefined);\n",
       "\n",
       "    if (!this.supports_binary) {\n",
       "        var warnings = document.getElementById(\"mpl-warnings\");\n",
       "        if (warnings) {\n",
       "            warnings.style.display = 'block';\n",
       "            warnings.textContent = (\n",
       "                \"This browser does not support binary websocket messages. \" +\n",
       "                    \"Performance may be slow.\");\n",
       "        }\n",
       "    }\n",
       "\n",
       "    this.imageObj = new Image();\n",
       "\n",
       "    this.context = undefined;\n",
       "    this.message = undefined;\n",
       "    this.canvas = undefined;\n",
       "    this.rubberband_canvas = undefined;\n",
       "    this.rubberband_context = undefined;\n",
       "    this.format_dropdown = undefined;\n",
       "\n",
       "    this.image_mode = 'full';\n",
       "\n",
       "    this.root = $('<div/>');\n",
       "    this._root_extra_style(this.root)\n",
       "    this.root.attr('style', 'display: inline-block');\n",
       "\n",
       "    $(parent_element).append(this.root);\n",
       "\n",
       "    this._init_header(this);\n",
       "    this._init_canvas(this);\n",
       "    this._init_toolbar(this);\n",
       "\n",
       "    var fig = this;\n",
       "\n",
       "    this.waiting = false;\n",
       "\n",
       "    this.ws.onopen =  function () {\n",
       "            fig.send_message(\"supports_binary\", {value: fig.supports_binary});\n",
       "            fig.send_message(\"send_image_mode\", {});\n",
       "            if (mpl.ratio != 1) {\n",
       "                fig.send_message(\"set_dpi_ratio\", {'dpi_ratio': mpl.ratio});\n",
       "            }\n",
       "            fig.send_message(\"refresh\", {});\n",
       "        }\n",
       "\n",
       "    this.imageObj.onload = function() {\n",
       "            if (fig.image_mode == 'full') {\n",
       "                // Full images could contain transparency (where diff images\n",
       "                // almost always do), so we need to clear the canvas so that\n",
       "                // there is no ghosting.\n",
       "                fig.context.clearRect(0, 0, fig.canvas.width, fig.canvas.height);\n",
       "            }\n",
       "            fig.context.drawImage(fig.imageObj, 0, 0);\n",
       "        };\n",
       "\n",
       "    this.imageObj.onunload = function() {\n",
       "        fig.ws.close();\n",
       "    }\n",
       "\n",
       "    this.ws.onmessage = this._make_on_message_function(this);\n",
       "\n",
       "    this.ondownload = ondownload;\n",
       "}\n",
       "\n",
       "mpl.figure.prototype._init_header = function() {\n",
       "    var titlebar = $(\n",
       "        '<div class=\"ui-dialog-titlebar ui-widget-header ui-corner-all ' +\n",
       "        'ui-helper-clearfix\"/>');\n",
       "    var titletext = $(\n",
       "        '<div class=\"ui-dialog-title\" style=\"width: 100%; ' +\n",
       "        'text-align: center; padding: 3px;\"/>');\n",
       "    titlebar.append(titletext)\n",
       "    this.root.append(titlebar);\n",
       "    this.header = titletext[0];\n",
       "}\n",
       "\n",
       "\n",
       "\n",
       "mpl.figure.prototype._canvas_extra_style = function(canvas_div) {\n",
       "\n",
       "}\n",
       "\n",
       "\n",
       "mpl.figure.prototype._root_extra_style = function(canvas_div) {\n",
       "\n",
       "}\n",
       "\n",
       "mpl.figure.prototype._init_canvas = function() {\n",
       "    var fig = this;\n",
       "\n",
       "    var canvas_div = $('<div/>');\n",
       "\n",
       "    canvas_div.attr('style', 'position: relative; clear: both; outline: 0');\n",
       "\n",
       "    function canvas_keyboard_event(event) {\n",
       "        return fig.key_event(event, event['data']);\n",
       "    }\n",
       "\n",
       "    canvas_div.keydown('key_press', canvas_keyboard_event);\n",
       "    canvas_div.keyup('key_release', canvas_keyboard_event);\n",
       "    this.canvas_div = canvas_div\n",
       "    this._canvas_extra_style(canvas_div)\n",
       "    this.root.append(canvas_div);\n",
       "\n",
       "    var canvas = $('<canvas/>');\n",
       "    canvas.addClass('mpl-canvas');\n",
       "    canvas.attr('style', \"left: 0; top: 0; z-index: 0; outline: 0\")\n",
       "\n",
       "    this.canvas = canvas[0];\n",
       "    this.context = canvas[0].getContext(\"2d\");\n",
       "\n",
       "    var backingStore = this.context.backingStorePixelRatio ||\n",
       "\tthis.context.webkitBackingStorePixelRatio ||\n",
       "\tthis.context.mozBackingStorePixelRatio ||\n",
       "\tthis.context.msBackingStorePixelRatio ||\n",
       "\tthis.context.oBackingStorePixelRatio ||\n",
       "\tthis.context.backingStorePixelRatio || 1;\n",
       "\n",
       "    mpl.ratio = (window.devicePixelRatio || 1) / backingStore;\n",
       "\n",
       "    var rubberband = $('<canvas/>');\n",
       "    rubberband.attr('style', \"position: absolute; left: 0; top: 0; z-index: 1;\")\n",
       "\n",
       "    var pass_mouse_events = true;\n",
       "\n",
       "    canvas_div.resizable({\n",
       "        start: function(event, ui) {\n",
       "            pass_mouse_events = false;\n",
       "        },\n",
       "        resize: function(event, ui) {\n",
       "            fig.request_resize(ui.size.width, ui.size.height);\n",
       "        },\n",
       "        stop: function(event, ui) {\n",
       "            pass_mouse_events = true;\n",
       "            fig.request_resize(ui.size.width, ui.size.height);\n",
       "        },\n",
       "    });\n",
       "\n",
       "    function mouse_event_fn(event) {\n",
       "        if (pass_mouse_events)\n",
       "            return fig.mouse_event(event, event['data']);\n",
       "    }\n",
       "\n",
       "    rubberband.mousedown('button_press', mouse_event_fn);\n",
       "    rubberband.mouseup('button_release', mouse_event_fn);\n",
       "    // Throttle sequential mouse events to 1 every 20ms.\n",
       "    rubberband.mousemove('motion_notify', mouse_event_fn);\n",
       "\n",
       "    rubberband.mouseenter('figure_enter', mouse_event_fn);\n",
       "    rubberband.mouseleave('figure_leave', mouse_event_fn);\n",
       "\n",
       "    canvas_div.on(\"wheel\", function (event) {\n",
       "        event = event.originalEvent;\n",
       "        event['data'] = 'scroll'\n",
       "        if (event.deltaY < 0) {\n",
       "            event.step = 1;\n",
       "        } else {\n",
       "            event.step = -1;\n",
       "        }\n",
       "        mouse_event_fn(event);\n",
       "    });\n",
       "\n",
       "    canvas_div.append(canvas);\n",
       "    canvas_div.append(rubberband);\n",
       "\n",
       "    this.rubberband = rubberband;\n",
       "    this.rubberband_canvas = rubberband[0];\n",
       "    this.rubberband_context = rubberband[0].getContext(\"2d\");\n",
       "    this.rubberband_context.strokeStyle = \"#000000\";\n",
       "\n",
       "    this._resize_canvas = function(width, height) {\n",
       "        // Keep the size of the canvas, canvas container, and rubber band\n",
       "        // canvas in synch.\n",
       "        canvas_div.css('width', width)\n",
       "        canvas_div.css('height', height)\n",
       "\n",
       "        canvas.attr('width', width * mpl.ratio);\n",
       "        canvas.attr('height', height * mpl.ratio);\n",
       "        canvas.attr('style', 'width: ' + width + 'px; height: ' + height + 'px;');\n",
       "\n",
       "        rubberband.attr('width', width);\n",
       "        rubberband.attr('height', height);\n",
       "    }\n",
       "\n",
       "    // Set the figure to an initial 600x600px, this will subsequently be updated\n",
       "    // upon first draw.\n",
       "    this._resize_canvas(600, 600);\n",
       "\n",
       "    // Disable right mouse context menu.\n",
       "    $(this.rubberband_canvas).bind(\"contextmenu\",function(e){\n",
       "        return false;\n",
       "    });\n",
       "\n",
       "    function set_focus () {\n",
       "        canvas.focus();\n",
       "        canvas_div.focus();\n",
       "    }\n",
       "\n",
       "    window.setTimeout(set_focus, 100);\n",
       "}\n",
       "\n",
       "mpl.figure.prototype._init_toolbar = function() {\n",
       "    var fig = this;\n",
       "\n",
       "    var nav_element = $('<div/>');\n",
       "    nav_element.attr('style', 'width: 100%');\n",
       "    this.root.append(nav_element);\n",
       "\n",
       "    // Define a callback function for later on.\n",
       "    function toolbar_event(event) {\n",
       "        return fig.toolbar_button_onclick(event['data']);\n",
       "    }\n",
       "    function toolbar_mouse_event(event) {\n",
       "        return fig.toolbar_button_onmouseover(event['data']);\n",
       "    }\n",
       "\n",
       "    for(var toolbar_ind in mpl.toolbar_items) {\n",
       "        var name = mpl.toolbar_items[toolbar_ind][0];\n",
       "        var tooltip = mpl.toolbar_items[toolbar_ind][1];\n",
       "        var image = mpl.toolbar_items[toolbar_ind][2];\n",
       "        var method_name = mpl.toolbar_items[toolbar_ind][3];\n",
       "\n",
       "        if (!name) {\n",
       "            // put a spacer in here.\n",
       "            continue;\n",
       "        }\n",
       "        var button = $('<button/>');\n",
       "        button.addClass('ui-button ui-widget ui-state-default ui-corner-all ' +\n",
       "                        'ui-button-icon-only');\n",
       "        button.attr('role', 'button');\n",
       "        button.attr('aria-disabled', 'false');\n",
       "        button.click(method_name, toolbar_event);\n",
       "        button.mouseover(tooltip, toolbar_mouse_event);\n",
       "\n",
       "        var icon_img = $('<span/>');\n",
       "        icon_img.addClass('ui-button-icon-primary ui-icon');\n",
       "        icon_img.addClass(image);\n",
       "        icon_img.addClass('ui-corner-all');\n",
       "\n",
       "        var tooltip_span = $('<span/>');\n",
       "        tooltip_span.addClass('ui-button-text');\n",
       "        tooltip_span.html(tooltip);\n",
       "\n",
       "        button.append(icon_img);\n",
       "        button.append(tooltip_span);\n",
       "\n",
       "        nav_element.append(button);\n",
       "    }\n",
       "\n",
       "    var fmt_picker_span = $('<span/>');\n",
       "\n",
       "    var fmt_picker = $('<select/>');\n",
       "    fmt_picker.addClass('mpl-toolbar-option ui-widget ui-widget-content');\n",
       "    fmt_picker_span.append(fmt_picker);\n",
       "    nav_element.append(fmt_picker_span);\n",
       "    this.format_dropdown = fmt_picker[0];\n",
       "\n",
       "    for (var ind in mpl.extensions) {\n",
       "        var fmt = mpl.extensions[ind];\n",
       "        var option = $(\n",
       "            '<option/>', {selected: fmt === mpl.default_extension}).html(fmt);\n",
       "        fmt_picker.append(option);\n",
       "    }\n",
       "\n",
       "    // Add hover states to the ui-buttons\n",
       "    $( \".ui-button\" ).hover(\n",
       "        function() { $(this).addClass(\"ui-state-hover\");},\n",
       "        function() { $(this).removeClass(\"ui-state-hover\");}\n",
       "    );\n",
       "\n",
       "    var status_bar = $('<span class=\"mpl-message\"/>');\n",
       "    nav_element.append(status_bar);\n",
       "    this.message = status_bar[0];\n",
       "}\n",
       "\n",
       "mpl.figure.prototype.request_resize = function(x_pixels, y_pixels) {\n",
       "    // Request matplotlib to resize the figure. Matplotlib will then trigger a resize in the client,\n",
       "    // which will in turn request a refresh of the image.\n",
       "    this.send_message('resize', {'width': x_pixels, 'height': y_pixels});\n",
       "}\n",
       "\n",
       "mpl.figure.prototype.send_message = function(type, properties) {\n",
       "    properties['type'] = type;\n",
       "    properties['figure_id'] = this.id;\n",
       "    this.ws.send(JSON.stringify(properties));\n",
       "}\n",
       "\n",
       "mpl.figure.prototype.send_draw_message = function() {\n",
       "    if (!this.waiting) {\n",
       "        this.waiting = true;\n",
       "        this.ws.send(JSON.stringify({type: \"draw\", figure_id: this.id}));\n",
       "    }\n",
       "}\n",
       "\n",
       "\n",
       "mpl.figure.prototype.handle_save = function(fig, msg) {\n",
       "    var format_dropdown = fig.format_dropdown;\n",
       "    var format = format_dropdown.options[format_dropdown.selectedIndex].value;\n",
       "    fig.ondownload(fig, format);\n",
       "}\n",
       "\n",
       "\n",
       "mpl.figure.prototype.handle_resize = function(fig, msg) {\n",
       "    var size = msg['size'];\n",
       "    if (size[0] != fig.canvas.width || size[1] != fig.canvas.height) {\n",
       "        fig._resize_canvas(size[0], size[1]);\n",
       "        fig.send_message(\"refresh\", {});\n",
       "    };\n",
       "}\n",
       "\n",
       "mpl.figure.prototype.handle_rubberband = function(fig, msg) {\n",
       "    var x0 = msg['x0'] / mpl.ratio;\n",
       "    var y0 = (fig.canvas.height - msg['y0']) / mpl.ratio;\n",
       "    var x1 = msg['x1'] / mpl.ratio;\n",
       "    var y1 = (fig.canvas.height - msg['y1']) / mpl.ratio;\n",
       "    x0 = Math.floor(x0) + 0.5;\n",
       "    y0 = Math.floor(y0) + 0.5;\n",
       "    x1 = Math.floor(x1) + 0.5;\n",
       "    y1 = Math.floor(y1) + 0.5;\n",
       "    var min_x = Math.min(x0, x1);\n",
       "    var min_y = Math.min(y0, y1);\n",
       "    var width = Math.abs(x1 - x0);\n",
       "    var height = Math.abs(y1 - y0);\n",
       "\n",
       "    fig.rubberband_context.clearRect(\n",
       "        0, 0, fig.canvas.width / mpl.ratio, fig.canvas.height / mpl.ratio);\n",
       "\n",
       "    fig.rubberband_context.strokeRect(min_x, min_y, width, height);\n",
       "}\n",
       "\n",
       "mpl.figure.prototype.handle_figure_label = function(fig, msg) {\n",
       "    // Updates the figure title.\n",
       "    fig.header.textContent = msg['label'];\n",
       "}\n",
       "\n",
       "mpl.figure.prototype.handle_cursor = function(fig, msg) {\n",
       "    var cursor = msg['cursor'];\n",
       "    switch(cursor)\n",
       "    {\n",
       "    case 0:\n",
       "        cursor = 'pointer';\n",
       "        break;\n",
       "    case 1:\n",
       "        cursor = 'default';\n",
       "        break;\n",
       "    case 2:\n",
       "        cursor = 'crosshair';\n",
       "        break;\n",
       "    case 3:\n",
       "        cursor = 'move';\n",
       "        break;\n",
       "    }\n",
       "    fig.rubberband_canvas.style.cursor = cursor;\n",
       "}\n",
       "\n",
       "mpl.figure.prototype.handle_message = function(fig, msg) {\n",
       "    fig.message.textContent = msg['message'];\n",
       "}\n",
       "\n",
       "mpl.figure.prototype.handle_draw = function(fig, msg) {\n",
       "    // Request the server to send over a new figure.\n",
       "    fig.send_draw_message();\n",
       "}\n",
       "\n",
       "mpl.figure.prototype.handle_image_mode = function(fig, msg) {\n",
       "    fig.image_mode = msg['mode'];\n",
       "}\n",
       "\n",
       "mpl.figure.prototype.updated_canvas_event = function() {\n",
       "    // Called whenever the canvas gets updated.\n",
       "    this.send_message(\"ack\", {});\n",
       "}\n",
       "\n",
       "// A function to construct a web socket function for onmessage handling.\n",
       "// Called in the figure constructor.\n",
       "mpl.figure.prototype._make_on_message_function = function(fig) {\n",
       "    return function socket_on_message(evt) {\n",
       "        if (evt.data instanceof Blob) {\n",
       "            /* FIXME: We get \"Resource interpreted as Image but\n",
       "             * transferred with MIME type text/plain:\" errors on\n",
       "             * Chrome.  But how to set the MIME type?  It doesn't seem\n",
       "             * to be part of the websocket stream */\n",
       "            evt.data.type = \"image/png\";\n",
       "\n",
       "            /* Free the memory for the previous frames */\n",
       "            if (fig.imageObj.src) {\n",
       "                (window.URL || window.webkitURL).revokeObjectURL(\n",
       "                    fig.imageObj.src);\n",
       "            }\n",
       "\n",
       "            fig.imageObj.src = (window.URL || window.webkitURL).createObjectURL(\n",
       "                evt.data);\n",
       "            fig.updated_canvas_event();\n",
       "            fig.waiting = false;\n",
       "            return;\n",
       "        }\n",
       "        else if (typeof evt.data === 'string' && evt.data.slice(0, 21) == \"data:image/png;base64\") {\n",
       "            fig.imageObj.src = evt.data;\n",
       "            fig.updated_canvas_event();\n",
       "            fig.waiting = false;\n",
       "            return;\n",
       "        }\n",
       "\n",
       "        var msg = JSON.parse(evt.data);\n",
       "        var msg_type = msg['type'];\n",
       "\n",
       "        // Call the  \"handle_{type}\" callback, which takes\n",
       "        // the figure and JSON message as its only arguments.\n",
       "        try {\n",
       "            var callback = fig[\"handle_\" + msg_type];\n",
       "        } catch (e) {\n",
       "            console.log(\"No handler for the '\" + msg_type + \"' message type: \", msg);\n",
       "            return;\n",
       "        }\n",
       "\n",
       "        if (callback) {\n",
       "            try {\n",
       "                // console.log(\"Handling '\" + msg_type + \"' message: \", msg);\n",
       "                callback(fig, msg);\n",
       "            } catch (e) {\n",
       "                console.log(\"Exception inside the 'handler_\" + msg_type + \"' callback:\", e, e.stack, msg);\n",
       "            }\n",
       "        }\n",
       "    };\n",
       "}\n",
       "\n",
       "// from http://stackoverflow.com/questions/1114465/getting-mouse-location-in-canvas\n",
       "mpl.findpos = function(e) {\n",
       "    //this section is from http://www.quirksmode.org/js/events_properties.html\n",
       "    var targ;\n",
       "    if (!e)\n",
       "        e = window.event;\n",
       "    if (e.target)\n",
       "        targ = e.target;\n",
       "    else if (e.srcElement)\n",
       "        targ = e.srcElement;\n",
       "    if (targ.nodeType == 3) // defeat Safari bug\n",
       "        targ = targ.parentNode;\n",
       "\n",
       "    // jQuery normalizes the pageX and pageY\n",
       "    // pageX,Y are the mouse positions relative to the document\n",
       "    // offset() returns the position of the element relative to the document\n",
       "    var x = e.pageX - $(targ).offset().left;\n",
       "    var y = e.pageY - $(targ).offset().top;\n",
       "\n",
       "    return {\"x\": x, \"y\": y};\n",
       "};\n",
       "\n",
       "/*\n",
       " * return a copy of an object with only non-object keys\n",
       " * we need this to avoid circular references\n",
       " * http://stackoverflow.com/a/24161582/3208463\n",
       " */\n",
       "function simpleKeys (original) {\n",
       "  return Object.keys(original).reduce(function (obj, key) {\n",
       "    if (typeof original[key] !== 'object')\n",
       "        obj[key] = original[key]\n",
       "    return obj;\n",
       "  }, {});\n",
       "}\n",
       "\n",
       "mpl.figure.prototype.mouse_event = function(event, name) {\n",
       "    var canvas_pos = mpl.findpos(event)\n",
       "\n",
       "    if (name === 'button_press')\n",
       "    {\n",
       "        this.canvas.focus();\n",
       "        this.canvas_div.focus();\n",
       "    }\n",
       "\n",
       "    var x = canvas_pos.x * mpl.ratio;\n",
       "    var y = canvas_pos.y * mpl.ratio;\n",
       "\n",
       "    this.send_message(name, {x: x, y: y, button: event.button,\n",
       "                             step: event.step,\n",
       "                             guiEvent: simpleKeys(event)});\n",
       "\n",
       "    /* This prevents the web browser from automatically changing to\n",
       "     * the text insertion cursor when the button is pressed.  We want\n",
       "     * to control all of the cursor setting manually through the\n",
       "     * 'cursor' event from matplotlib */\n",
       "    event.preventDefault();\n",
       "    return false;\n",
       "}\n",
       "\n",
       "mpl.figure.prototype._key_event_extra = function(event, name) {\n",
       "    // Handle any extra behaviour associated with a key event\n",
       "}\n",
       "\n",
       "mpl.figure.prototype.key_event = function(event, name) {\n",
       "\n",
       "    // Prevent repeat events\n",
       "    if (name == 'key_press')\n",
       "    {\n",
       "        if (event.which === this._key)\n",
       "            return;\n",
       "        else\n",
       "            this._key = event.which;\n",
       "    }\n",
       "    if (name == 'key_release')\n",
       "        this._key = null;\n",
       "\n",
       "    var value = '';\n",
       "    if (event.ctrlKey && event.which != 17)\n",
       "        value += \"ctrl+\";\n",
       "    if (event.altKey && event.which != 18)\n",
       "        value += \"alt+\";\n",
       "    if (event.shiftKey && event.which != 16)\n",
       "        value += \"shift+\";\n",
       "\n",
       "    value += 'k';\n",
       "    value += event.which.toString();\n",
       "\n",
       "    this._key_event_extra(event, name);\n",
       "\n",
       "    this.send_message(name, {key: value,\n",
       "                             guiEvent: simpleKeys(event)});\n",
       "    return false;\n",
       "}\n",
       "\n",
       "mpl.figure.prototype.toolbar_button_onclick = function(name) {\n",
       "    if (name == 'download') {\n",
       "        this.handle_save(this, null);\n",
       "    } else {\n",
       "        this.send_message(\"toolbar_button\", {name: name});\n",
       "    }\n",
       "};\n",
       "\n",
       "mpl.figure.prototype.toolbar_button_onmouseover = function(tooltip) {\n",
       "    this.message.textContent = tooltip;\n",
       "};\n",
       "mpl.toolbar_items = [[\"Home\", \"Reset original view\", \"fa fa-home icon-home\", \"home\"], [\"Back\", \"Back to previous view\", \"fa fa-arrow-left icon-arrow-left\", \"back\"], [\"Forward\", \"Forward to next view\", \"fa fa-arrow-right icon-arrow-right\", \"forward\"], [\"\", \"\", \"\", \"\"], [\"Pan\", \"Pan axes with left mouse, zoom with right\", \"fa fa-arrows icon-move\", \"pan\"], [\"Zoom\", \"Zoom to rectangle\", \"fa fa-square-o icon-check-empty\", \"zoom\"], [\"\", \"\", \"\", \"\"], [\"Download\", \"Download plot\", \"fa fa-floppy-o icon-save\", \"download\"]];\n",
       "\n",
       "mpl.extensions = [\"eps\", \"jpeg\", \"pdf\", \"png\", \"ps\", \"raw\", \"svg\", \"tif\"];\n",
       "\n",
       "mpl.default_extension = \"png\";var comm_websocket_adapter = function(comm) {\n",
       "    // Create a \"websocket\"-like object which calls the given IPython comm\n",
       "    // object with the appropriate methods. Currently this is a non binary\n",
       "    // socket, so there is still some room for performance tuning.\n",
       "    var ws = {};\n",
       "\n",
       "    ws.close = function() {\n",
       "        comm.close()\n",
       "    };\n",
       "    ws.send = function(m) {\n",
       "        //console.log('sending', m);\n",
       "        comm.send(m);\n",
       "    };\n",
       "    // Register the callback with on_msg.\n",
       "    comm.on_msg(function(msg) {\n",
       "        //console.log('receiving', msg['content']['data'], msg);\n",
       "        // Pass the mpl event to the overridden (by mpl) onmessage function.\n",
       "        ws.onmessage(msg['content']['data'])\n",
       "    });\n",
       "    return ws;\n",
       "}\n",
       "\n",
       "mpl.mpl_figure_comm = function(comm, msg) {\n",
       "    // This is the function which gets called when the mpl process\n",
       "    // starts-up an IPython Comm through the \"matplotlib\" channel.\n",
       "\n",
       "    var id = msg.content.data.id;\n",
       "    // Get hold of the div created by the display call when the Comm\n",
       "    // socket was opened in Python.\n",
       "    var element = $(\"#\" + id);\n",
       "    var ws_proxy = comm_websocket_adapter(comm)\n",
       "\n",
       "    function ondownload(figure, format) {\n",
       "        window.open(figure.imageObj.src);\n",
       "    }\n",
       "\n",
       "    var fig = new mpl.figure(id, ws_proxy,\n",
       "                           ondownload,\n",
       "                           element.get(0));\n",
       "\n",
       "    // Call onopen now - mpl needs it, as it is assuming we've passed it a real\n",
       "    // web socket which is closed, not our websocket->open comm proxy.\n",
       "    ws_proxy.onopen();\n",
       "\n",
       "    fig.parent_element = element.get(0);\n",
       "    fig.cell_info = mpl.find_output_cell(\"<div id='\" + id + \"'></div>\");\n",
       "    if (!fig.cell_info) {\n",
       "        console.error(\"Failed to find cell for figure\", id, fig);\n",
       "        return;\n",
       "    }\n",
       "\n",
       "    var output_index = fig.cell_info[2]\n",
       "    var cell = fig.cell_info[0];\n",
       "\n",
       "};\n",
       "\n",
       "mpl.figure.prototype.handle_close = function(fig, msg) {\n",
       "    var width = fig.canvas.width/mpl.ratio\n",
       "    fig.root.unbind('remove')\n",
       "\n",
       "    // Update the output cell to use the data from the current canvas.\n",
       "    fig.push_to_output();\n",
       "    var dataURL = fig.canvas.toDataURL();\n",
       "    // Re-enable the keyboard manager in IPython - without this line, in FF,\n",
       "    // the notebook keyboard shortcuts fail.\n",
       "    IPython.keyboard_manager.enable()\n",
       "    $(fig.parent_element).html('<img src=\"' + dataURL + '\" width=\"' + width + '\">');\n",
       "    fig.close_ws(fig, msg);\n",
       "}\n",
       "\n",
       "mpl.figure.prototype.close_ws = function(fig, msg){\n",
       "    fig.send_message('closing', msg);\n",
       "    // fig.ws.close()\n",
       "}\n",
       "\n",
       "mpl.figure.prototype.push_to_output = function(remove_interactive) {\n",
       "    // Turn the data on the canvas into data in the output cell.\n",
       "    var width = this.canvas.width/mpl.ratio\n",
       "    var dataURL = this.canvas.toDataURL();\n",
       "    this.cell_info[1]['text/html'] = '<img src=\"' + dataURL + '\" width=\"' + width + '\">';\n",
       "}\n",
       "\n",
       "mpl.figure.prototype.updated_canvas_event = function() {\n",
       "    // Tell IPython that the notebook contents must change.\n",
       "    IPython.notebook.set_dirty(true);\n",
       "    this.send_message(\"ack\", {});\n",
       "    var fig = this;\n",
       "    // Wait a second, then push the new image to the DOM so\n",
       "    // that it is saved nicely (might be nice to debounce this).\n",
       "    setTimeout(function () { fig.push_to_output() }, 1000);\n",
       "}\n",
       "\n",
       "mpl.figure.prototype._init_toolbar = function() {\n",
       "    var fig = this;\n",
       "\n",
       "    var nav_element = $('<div/>');\n",
       "    nav_element.attr('style', 'width: 100%');\n",
       "    this.root.append(nav_element);\n",
       "\n",
       "    // Define a callback function for later on.\n",
       "    function toolbar_event(event) {\n",
       "        return fig.toolbar_button_onclick(event['data']);\n",
       "    }\n",
       "    function toolbar_mouse_event(event) {\n",
       "        return fig.toolbar_button_onmouseover(event['data']);\n",
       "    }\n",
       "\n",
       "    for(var toolbar_ind in mpl.toolbar_items){\n",
       "        var name = mpl.toolbar_items[toolbar_ind][0];\n",
       "        var tooltip = mpl.toolbar_items[toolbar_ind][1];\n",
       "        var image = mpl.toolbar_items[toolbar_ind][2];\n",
       "        var method_name = mpl.toolbar_items[toolbar_ind][3];\n",
       "\n",
       "        if (!name) { continue; };\n",
       "\n",
       "        var button = $('<button class=\"btn btn-default\" href=\"#\" title=\"' + name + '\"><i class=\"fa ' + image + ' fa-lg\"></i></button>');\n",
       "        button.click(method_name, toolbar_event);\n",
       "        button.mouseover(tooltip, toolbar_mouse_event);\n",
       "        nav_element.append(button);\n",
       "    }\n",
       "\n",
       "    // Add the status bar.\n",
       "    var status_bar = $('<span class=\"mpl-message\" style=\"text-align:right; float: right;\"/>');\n",
       "    nav_element.append(status_bar);\n",
       "    this.message = status_bar[0];\n",
       "\n",
       "    // Add the close button to the window.\n",
       "    var buttongrp = $('<div class=\"btn-group inline pull-right\"></div>');\n",
       "    var button = $('<button class=\"btn btn-mini btn-primary\" href=\"#\" title=\"Stop Interaction\"><i class=\"fa fa-power-off icon-remove icon-large\"></i></button>');\n",
       "    button.click(function (evt) { fig.handle_close(fig, {}); } );\n",
       "    button.mouseover('Stop Interaction', toolbar_mouse_event);\n",
       "    buttongrp.append(button);\n",
       "    var titlebar = this.root.find($('.ui-dialog-titlebar'));\n",
       "    titlebar.prepend(buttongrp);\n",
       "}\n",
       "\n",
       "mpl.figure.prototype._root_extra_style = function(el){\n",
       "    var fig = this\n",
       "    el.on(\"remove\", function(){\n",
       "\tfig.close_ws(fig, {});\n",
       "    });\n",
       "}\n",
       "\n",
       "mpl.figure.prototype._canvas_extra_style = function(el){\n",
       "    // this is important to make the div 'focusable\n",
       "    el.attr('tabindex', 0)\n",
       "    // reach out to IPython and tell the keyboard manager to turn it's self\n",
       "    // off when our div gets focus\n",
       "\n",
       "    // location in version 3\n",
       "    if (IPython.notebook.keyboard_manager) {\n",
       "        IPython.notebook.keyboard_manager.register_events(el);\n",
       "    }\n",
       "    else {\n",
       "        // location in version 2\n",
       "        IPython.keyboard_manager.register_events(el);\n",
       "    }\n",
       "\n",
       "}\n",
       "\n",
       "mpl.figure.prototype._key_event_extra = function(event, name) {\n",
       "    var manager = IPython.notebook.keyboard_manager;\n",
       "    if (!manager)\n",
       "        manager = IPython.keyboard_manager;\n",
       "\n",
       "    // Check for shift+enter\n",
       "    if (event.shiftKey && event.which == 13) {\n",
       "        this.canvas_div.blur();\n",
       "        // select the cell after this one\n",
       "        var index = IPython.notebook.find_cell_index(this.cell_info[0]);\n",
       "        IPython.notebook.select(index + 1);\n",
       "    }\n",
       "}\n",
       "\n",
       "mpl.figure.prototype.handle_save = function(fig, msg) {\n",
       "    fig.ondownload(fig, null);\n",
       "}\n",
       "\n",
       "\n",
       "mpl.find_output_cell = function(html_output) {\n",
       "    // Return the cell and output element which can be found *uniquely* in the notebook.\n",
       "    // Note - this is a bit hacky, but it is done because the \"notebook_saving.Notebook\"\n",
       "    // IPython event is triggered only after the cells have been serialised, which for\n",
       "    // our purposes (turning an active figure into a static one), is too late.\n",
       "    var cells = IPython.notebook.get_cells();\n",
       "    var ncells = cells.length;\n",
       "    for (var i=0; i<ncells; i++) {\n",
       "        var cell = cells[i];\n",
       "        if (cell.cell_type === 'code'){\n",
       "            for (var j=0; j<cell.output_area.outputs.length; j++) {\n",
       "                var data = cell.output_area.outputs[j];\n",
       "                if (data.data) {\n",
       "                    // IPython >= 3 moved mimebundle to data attribute of output\n",
       "                    data = data.data;\n",
       "                }\n",
       "                if (data['text/html'] == html_output) {\n",
       "                    return [cell, data, j];\n",
       "                }\n",
       "            }\n",
       "        }\n",
       "    }\n",
       "}\n",
       "\n",
       "// Register the function which deals with the matplotlib target/channel.\n",
       "// The kernel may be null if the page has been refreshed.\n",
       "if (IPython.notebook.kernel != null) {\n",
       "    IPython.notebook.kernel.comm_manager.register_target('matplotlib', mpl.mpl_figure_comm);\n",
       "}\n"
      ],
      "text/plain": [
       "<IPython.core.display.Javascript object>"
      ]
     },
     "metadata": {},
     "output_type": "display_data"
    },
    {
     "data": {
      "text/html": [
       "<img src=\"data:image/png;base64,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\" width=\"640\">"
      ],
      "text/plain": [
       "<IPython.core.display.HTML object>"
      ]
     },
     "metadata": {},
     "output_type": "display_data"
    }
   ],
   "source": [
    "%matplotlib notebook\n",
    "plt.hist(Surr_X.flatten(),bins=100)\n",
    "plt.hist(Real_X.flatten(),bins=100)\n",
    "plt.show()"
   ]
  }
 ],
 "metadata": {
  "kernelspec": {
   "display_name": "Python 3",
   "language": "python",
   "name": "python3"
  },
  "language_info": {
   "codemirror_mode": {
    "name": "ipython",
    "version": 3
   },
   "file_extension": ".py",
   "mimetype": "text/x-python",
   "name": "python",
   "nbconvert_exporter": "python",
   "pygments_lexer": "ipython3",
   "version": "3.8.3"
  }
 },
 "nbformat": 4,
 "nbformat_minor": 2
}
