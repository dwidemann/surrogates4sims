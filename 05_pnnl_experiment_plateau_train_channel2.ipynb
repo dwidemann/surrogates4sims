{
 "cells": [
  {
   "cell_type": "markdown",
   "metadata": {},
   "source": [
    "## This code trains an encoder/decoder for 1 channel of the pnnl datasets.\n",
    "\n",
    "Make sure the channel is set:\n",
    "\n",
    "channel = 1,2 = velocity_y, volume_frac\n"
   ]
  },
  {
   "cell_type": "markdown",
   "metadata": {},
   "source": [
    "## Imports"
   ]
  },
  {
   "cell_type": "code",
   "execution_count": 1,
   "metadata": {
    "ExecuteTime": {
     "end_time": "2020-11-06T22:09:08.175588Z",
     "start_time": "2020-11-06T22:09:05.614316Z"
    }
   },
   "outputs": [],
   "source": [
    "# EXPORT\n",
    "# --- Must haves ---\n",
    "import os, sys\n",
    "sys.path.append('..')\n",
    "\n",
    "import torch\n",
    "from torch.utils.data import Dataset, DataLoader\n",
    "from torch.utils.tensorboard import SummaryWriter\n",
    "import torch.cuda as cuda\n",
    "import torch.nn as nn\n",
    "import torchvision\n",
    "import torch.nn.functional as F\n",
    "\n",
    "from surrogates4sims.pnnlDatasets import CCSI_2D\n",
    "\n",
    "from surrogates4sims.utils import create_opt, create_one_cycle, find_lr, printNumModelParams, \\\n",
    "                                    rmse, writeMessage, plotSampleWprediction, plotSampleWpredictionByChannel, \\\n",
    "                                    plotSample, curl, jacobian, stream2uv, convertSimToImage, pkl_save, pkl_load, \\\n",
    "                                    create_1_channel_movie\n",
    "\n",
    "from surrogates4sims.models import Generator, Encoder, AE_no_P, AE_xhat_z, AE_xhat_zV2\n",
    "\n",
    "from surrogates4sims.train import trainEpoch, validEpoch\n",
    "\n",
    "import numpy as np\n",
    "from tqdm import tqdm\n",
    "from copy import deepcopy\n",
    "import matplotlib.pyplot as plt\n",
    "from glob import glob"
   ]
  },
  {
   "cell_type": "markdown",
   "metadata": {},
   "source": [
    "## Settings"
   ]
  },
  {
   "cell_type": "code",
   "execution_count": 2,
   "metadata": {
    "ExecuteTime": {
     "end_time": "2020-11-06T22:09:08.188981Z",
     "start_time": "2020-11-06T22:09:08.177729Z"
    }
   },
   "outputs": [
    {
     "data": {
      "text/plain": [
       "'pnnl_plateau_train_GPUs23_channel2_gridsize128_latentDim256_filters128_bz32_numConv4_jacobianFalse_norm_layerIdentity_sigmoid_outTrue_epochs1000_stackTrue'"
      ]
     },
     "execution_count": 2,
     "metadata": {},
     "output_type": "execute_result"
    }
   ],
   "source": [
    "DEBUG = False\n",
    "# model name, for tensorboard recording and checkpointing purposes.\n",
    "versionName = \"pnnl_plateau_train\"\n",
    "\n",
    "# GPU Numbers to use. Comma seprate them for multi-GPUs.\n",
    "gpu_ids = \"2,3\"\n",
    "versionName = versionName + '_GPUs{}'.format(gpu_ids.replace(',',''))\n",
    "# path to load model weights.\n",
    "pretrained_path = None\n",
    "\n",
    "# rate at which to record metrics. (number of batches to average over when recording metrics, e.g. \"every 5 batches\")\n",
    "tensorboard_rate = 5\n",
    "\n",
    "# number of epochs to train. This is defined here so we can use the OneCycle LR Scheduler.\n",
    "epochs = 1000\n",
    "\n",
    "# Data Directory\n",
    "channel = 2\n",
    "gridsize = 128\n",
    "dataDirec = '/data/ccsi/pnnl_liquid_inlet/channel_{}/gridsize_{}'.format(channel,gridsize)\n",
    "preprocess = False # keep this as false until using the long runtime loader\n",
    "testSplit = .2\n",
    "AE = False\n",
    "numWorkers = 2\n",
    "\n",
    "# checkpoint directory\n",
    "cps = 'cps'\n",
    "tensorboard_direc = \"tb\"\n",
    "\n",
    "findLRs = True  \n",
    "\n",
    "# hyper-params\n",
    "seed = 1234\n",
    "np.random.seed(seed)\n",
    "bz = 32\n",
    "use_sigmoid_output_layer = True\n",
    "window_size = 0 #important to set this to zero to prevent creation of window_size elements of Y for each X\n",
    "numSamplesToKeep = np.infty #if not debugging\n",
    "latentDim = 256\n",
    "filters = 128\n",
    "num_conv = 4 # breaks when less than 2\n",
    "simLen = 500\n",
    "stack = True\n",
    "doJacobian = False\n",
    "createStreamFcn = False\n",
    "repeat = 0\n",
    "skip_connection = False\n",
    "norm_layer = [nn.Identity, nn.BatchNorm2d, 'etc.'][0] # pick a norm layer to use for the autoencoder\n",
    "patience = 2\n",
    "if DEBUG:\n",
    "    epochs = 2\n",
    "    numSamplesToKeep = 2\n",
    "    \n",
    "versionName = versionName + '_channel{}_gridsize{}_latentDim{}_filters{}_bz{}_numConv{}_jacobian{}_norm_layer{}_sigmoid_out{}_epochs{}_stack{}'.format(\n",
    "    channel,gridsize,latentDim,filters,bz,num_conv,doJacobian,\n",
    "    repr(norm_layer).split('.')[-1][:-2],use_sigmoid_output_layer,epochs,stack)\n",
    "versionName"
   ]
  },
  {
   "cell_type": "markdown",
   "metadata": {},
   "source": [
    "### Select Personal GPUs"
   ]
  },
  {
   "cell_type": "code",
   "execution_count": 3,
   "metadata": {
    "ExecuteTime": {
     "end_time": "2020-11-06T22:09:08.391194Z",
     "start_time": "2020-11-06T22:09:08.192163Z"
    }
   },
   "outputs": [
    {
     "name": "stdout",
     "output_type": "stream",
     "text": [
      "Fri Nov  6 14:09:08 2020       \n",
      "+-----------------------------------------------------------------------------+\n",
      "| NVIDIA-SMI 440.33.01    Driver Version: 440.33.01    CUDA Version: 10.2     |\n",
      "|-------------------------------+----------------------+----------------------+\n",
      "| GPU  Name        Persistence-M| Bus-Id        Disp.A | Volatile Uncorr. ECC |\n",
      "| Fan  Temp  Perf  Pwr:Usage/Cap|         Memory-Usage | GPU-Util  Compute M. |\n",
      "|===============================+======================+======================|\n",
      "|   0  TITAN Xp            On   | 00000000:02:00.0 Off |                  N/A |\n",
      "| 47%   74C    P2   237W / 250W |   9785MiB / 12196MiB |     98%      Default |\n",
      "+-------------------------------+----------------------+----------------------+\n",
      "|   1  TITAN Xp            On   | 00000000:03:00.0 Off |                  N/A |\n",
      "| 23%   22C    P8     8W / 250W |    573MiB / 12196MiB |      0%      Default |\n",
      "+-------------------------------+----------------------+----------------------+\n",
      "|   2  TITAN Xp            On   | 00000000:81:00.0 Off |                  N/A |\n",
      "| 23%   20C    P8     8W / 250W |      1MiB / 12196MiB |      0%      Default |\n",
      "+-------------------------------+----------------------+----------------------+\n",
      "|   3  TITAN Xp            On   | 00000000:82:00.0 Off |                  N/A |\n",
      "| 23%   20C    P8     9W / 250W |      1MiB / 12196MiB |      0%      Default |\n",
      "+-------------------------------+----------------------+----------------------+\n",
      "                                                                               \n",
      "+-----------------------------------------------------------------------------+\n",
      "| Processes:                                                       GPU Memory |\n",
      "|  GPU       PID   Type   Process name                             Usage      |\n",
      "|=============================================================================|\n",
      "|    0     21682      C   /home/bartoldson1/anaconda3/bin/python      9773MiB |\n",
      "|    1     15508      C   /home/bartoldson1/anaconda3/bin/python       561MiB |\n",
      "+-----------------------------------------------------------------------------+\n"
     ]
    }
   ],
   "source": [
    "!nvidia-smi"
   ]
  },
  {
   "cell_type": "code",
   "execution_count": 4,
   "metadata": {
    "ExecuteTime": {
     "end_time": "2020-11-06T22:09:08.399443Z",
     "start_time": "2020-11-06T22:09:08.395000Z"
    }
   },
   "outputs": [],
   "source": [
    "os.environ[\"CUDA_DEVICE_ORDER\"]=\"PCI_BUS_ID\"   # see issue #152\n",
    "os.environ[\"CUDA_VISIBLE_DEVICES\"]=gpu_ids"
   ]
  },
  {
   "cell_type": "code",
   "execution_count": 5,
   "metadata": {
    "ExecuteTime": {
     "end_time": "2020-11-06T22:09:08.486999Z",
     "start_time": "2020-11-06T22:09:08.401946Z"
    }
   },
   "outputs": [
    {
     "name": "stdout",
     "output_type": "stream",
     "text": [
      "Using device: cuda\n"
     ]
    }
   ],
   "source": [
    "device = torch.device('cuda' if torch.cuda.is_available() else 'cpu')\n",
    "print('Using device:', device)"
   ]
  },
  {
   "cell_type": "code",
   "execution_count": 6,
   "metadata": {
    "ExecuteTime": {
     "end_time": "2020-11-06T22:09:08.500318Z",
     "start_time": "2020-11-06T22:09:08.489212Z"
    }
   },
   "outputs": [
    {
     "name": "stdout",
     "output_type": "stream",
     "text": [
      "True\n",
      "2\n",
      "0\n",
      "TITAN Xp\n"
     ]
    }
   ],
   "source": [
    "if device.type == 'cuda':\n",
    "    print(cuda.is_available())\n",
    "    print(cuda.device_count())\n",
    "    print(cuda.current_device())\n",
    "    print(cuda.get_device_name())"
   ]
  },
  {
   "cell_type": "code",
   "execution_count": 7,
   "metadata": {
    "ExecuteTime": {
     "end_time": "2020-11-06T22:09:11.249453Z",
     "start_time": "2020-11-06T22:09:08.502208Z"
    }
   },
   "outputs": [
    {
     "name": "stdout",
     "output_type": "stream",
     "text": [
      "Fri Nov  6 14:09:11 2020       \n",
      "+-----------------------------------------------------------------------------+\n",
      "| NVIDIA-SMI 440.33.01    Driver Version: 440.33.01    CUDA Version: 10.2     |\n",
      "|-------------------------------+----------------------+----------------------+\n",
      "| GPU  Name        Persistence-M| Bus-Id        Disp.A | Volatile Uncorr. ECC |\n",
      "| Fan  Temp  Perf  Pwr:Usage/Cap|         Memory-Usage | GPU-Util  Compute M. |\n",
      "|===============================+======================+======================|\n",
      "|   0  TITAN Xp            On   | 00000000:02:00.0 Off |                  N/A |\n",
      "| 47%   74C    P2   242W / 250W |   9785MiB / 12196MiB |     97%      Default |\n",
      "+-------------------------------+----------------------+----------------------+\n",
      "|   1  TITAN Xp            On   | 00000000:03:00.0 Off |                  N/A |\n",
      "| 23%   22C    P8     9W / 250W |    573MiB / 12196MiB |      0%      Default |\n",
      "+-------------------------------+----------------------+----------------------+\n",
      "|   2  TITAN Xp            On   | 00000000:81:00.0 Off |                  N/A |\n",
      "| 23%   23C    P2    59W / 250W |    573MiB / 12196MiB |      2%      Default |\n",
      "+-------------------------------+----------------------+----------------------+\n",
      "|   3  TITAN Xp            On   | 00000000:82:00.0 Off |                  N/A |\n",
      "| 23%   20C    P8     8W / 250W |     12MiB / 12196MiB |      0%      Default |\n",
      "+-------------------------------+----------------------+----------------------+\n",
      "                                                                               \n",
      "+-----------------------------------------------------------------------------+\n",
      "| Processes:                                                       GPU Memory |\n",
      "|  GPU       PID   Type   Process name                             Usage      |\n",
      "|=============================================================================|\n",
      "|    0     21682      C   /home/bartoldson1/anaconda3/bin/python      9773MiB |\n",
      "|    1     15508      C   /home/bartoldson1/anaconda3/bin/python       561MiB |\n",
      "|    2     21073      C   /home/bartoldson1/anaconda3/bin/python       561MiB |\n",
      "+-----------------------------------------------------------------------------+\n"
     ]
    }
   ],
   "source": [
    "a = torch.zeros(5, device=device.type)\n",
    "!nvidia-smi"
   ]
  },
  {
   "cell_type": "markdown",
   "metadata": {},
   "source": [
    "## Datasets & Loaders"
   ]
  },
  {
   "cell_type": "code",
   "execution_count": 8,
   "metadata": {
    "ExecuteTime": {
     "end_time": "2020-11-06T22:09:11.271313Z",
     "start_time": "2020-11-06T22:09:11.253743Z"
    }
   },
   "outputs": [
    {
     "data": {
      "text/plain": [
       "(10, 40)"
      ]
     },
     "execution_count": 8,
     "metadata": {},
     "output_type": "execute_result"
    }
   ],
   "source": [
    "sims = glob(os.path.join(dataDirec,'*.pkl'))\n",
    "numSims = len(sims)\n",
    "idx = int(testSplit*numSims)\n",
    "testInds = np.linspace(1,numSims-2,idx).astype('int')\n",
    "trainInds = list(set(np.arange(0,numSims)).difference(set(testInds)))\n",
    "# perm = np.random.permutation(numSims)\n",
    "# testInds = perm[:idx]\n",
    "# trainInds = perm[idx:]\n",
    "testSimFiles = [sims[idx] for idx in testInds]\n",
    "trainSimFiles = [sims[idx] for idx in trainInds]\n",
    "len(testSimFiles), len(trainSimFiles)"
   ]
  },
  {
   "cell_type": "code",
   "execution_count": 9,
   "metadata": {
    "ExecuteTime": {
     "end_time": "2020-11-06T22:09:12.020051Z",
     "start_time": "2020-11-06T22:09:11.273707Z"
    }
   },
   "outputs": [],
   "source": [
    "testDataset = CCSI_2D(testSimFiles,doPreprocess=preprocess,numToKeep=numSamplesToKeep,channel=channel,AE=AE,\n",
    "                      w=window_size)\n",
    "trainDataset = CCSI_2D(trainSimFiles,doPreprocess=preprocess,numToKeep=numSamplesToKeep,channel=channel,AE=AE,\n",
    "                      w=window_size)"
   ]
  },
  {
   "cell_type": "code",
   "execution_count": 10,
   "metadata": {
    "ExecuteTime": {
     "end_time": "2020-11-06T22:09:12.026256Z",
     "start_time": "2020-11-06T22:09:12.021811Z"
    }
   },
   "outputs": [
    {
     "data": {
      "text/plain": [
       "(625, 157)"
      ]
     },
     "execution_count": 10,
     "metadata": {},
     "output_type": "execute_result"
    }
   ],
   "source": [
    "trainDataLoader = DataLoader(dataset=trainDataset, batch_size=bz, shuffle=True, drop_last=True, num_workers=numWorkers)\n",
    "testDataLoader = DataLoader(dataset=testDataset, batch_size=bz, num_workers=numWorkers)\n",
    "len(trainDataLoader), len(testDataLoader)"
   ]
  },
  {
   "cell_type": "markdown",
   "metadata": {},
   "source": [
    "## Model"
   ]
  },
  {
   "cell_type": "markdown",
   "metadata": {},
   "source": [
    "Currently, the models need to take data to be built. It's kinda weird. I may look into fix this later. "
   ]
  },
  {
   "cell_type": "code",
   "execution_count": 11,
   "metadata": {
    "ExecuteTime": {
     "end_time": "2020-11-06T22:09:12.154783Z",
     "start_time": "2020-11-06T22:09:12.027699Z"
    }
   },
   "outputs": [
    {
     "data": {
      "text/plain": [
       "(torch.Size([32, 1, 128, 128]),\n",
       " torch.Size([32, 0, 1, 128, 128]),\n",
       " torch.Size([32, 2]),\n",
       " torch.Size([32, 0, 2]))"
      ]
     },
     "execution_count": 11,
     "metadata": {},
     "output_type": "execute_result"
    }
   ],
   "source": [
    "X, Y, p_x, p_y = next(iter(trainDataLoader))\n",
    "X, Y, p_x, p_y = X.to(device), Y.to(device), p_x.to(device), p_y.to(device)\n",
    "X.shape, Y.shape, p_x.shape, p_y.shape"
   ]
  },
  {
   "cell_type": "code",
   "execution_count": 12,
   "metadata": {
    "ExecuteTime": {
     "end_time": "2020-11-06T22:09:12.694770Z",
     "start_time": "2020-11-06T22:09:12.156304Z"
    }
   },
   "outputs": [
    {
     "name": "stdout",
     "output_type": "stream",
     "text": [
      "[128, 8, 8]\n"
     ]
    },
    {
     "name": "stderr",
     "output_type": "stream",
     "text": [
      "/home/bartoldson1/anaconda3/lib/python3.8/site-packages/torch/nn/functional.py:3000: UserWarning: The default behavior for interpolate/upsample with float scale_factor changed in 1.6.0 to align with other frameworks/libraries, and uses scale_factor directly, instead of relying on the computed output size. If you wish to keep the old behavior, please set recompute_scale_factor=True. See the documentation of nn.Upsample for details. \n",
      "  warnings.warn(\"The default behavior for interpolate/upsample with float scale_factor changed \"\n"
     ]
    }
   ],
   "source": [
    "model = AE_xhat_zV2(X, filters, latentDim, num_conv, repeat, \n",
    "                 skip_connection, stack, conv_k=3, last_k=3, \n",
    "                 act=nn.LeakyReLU(), return_z=True, stream=createStreamFcn, device=device, norm=norm_layer,\n",
    "                   sigmoid_out=use_sigmoid_output_layer)\n",
    "\n",
    "if len(gpu_ids.split(',')) > 1:\n",
    "    model = nn.DataParallel(model)"
   ]
  },
  {
   "cell_type": "code",
   "execution_count": 13,
   "metadata": {
    "ExecuteTime": {
     "end_time": "2020-11-06T22:09:12.700996Z",
     "start_time": "2020-11-06T22:09:12.696856Z"
    }
   },
   "outputs": [
    {
     "name": "stdout",
     "output_type": "stream",
     "text": [
      "90 layers require gradients (unfrozen) out of 90 layers\n",
      "13,668,609 parameters require gradients (unfrozen) out of 13,668,609 parameters\n"
     ]
    }
   ],
   "source": [
    "printNumModelParams(model)"
   ]
  },
  {
   "cell_type": "code",
   "execution_count": 14,
   "metadata": {
    "ExecuteTime": {
     "end_time": "2020-11-06T22:09:15.619479Z",
     "start_time": "2020-11-06T22:09:12.702574Z"
    }
   },
   "outputs": [
    {
     "data": {
      "text/plain": [
       "(torch.Size([32, 1, 128, 128]), torch.Size([32, 256]))"
      ]
     },
     "execution_count": 14,
     "metadata": {},
     "output_type": "execute_result"
    }
   ],
   "source": [
    "Xhat,z = model(X, p_x)\n",
    "Xhat.shape, z.shape"
   ]
  },
  {
   "cell_type": "code",
   "execution_count": 15,
   "metadata": {
    "ExecuteTime": {
     "end_time": "2020-11-06T22:09:15.641193Z",
     "start_time": "2020-11-06T22:09:15.623256Z"
    }
   },
   "outputs": [
    {
     "data": {
      "text/plain": [
       "True"
      ]
     },
     "execution_count": 15,
     "metadata": {},
     "output_type": "execute_result"
    }
   ],
   "source": [
    "np.allclose(z[:,-2:].detach().cpu(),p_x.cpu())"
   ]
  },
  {
   "cell_type": "markdown",
   "metadata": {},
   "source": [
    "## Loss Function"
   ]
  },
  {
   "cell_type": "code",
   "execution_count": 16,
   "metadata": {
    "ExecuteTime": {
     "end_time": "2020-11-06T22:09:15.659069Z",
     "start_time": "2020-11-06T22:09:15.644150Z"
    }
   },
   "outputs": [],
   "source": [
    "def L2_relative_loss(pred, target):\n",
    "    return torch.norm(pred - target)/torch.norm(target)\n",
    "\n",
    "\n",
    "def L1_loss(pred, target):\n",
    "    return torch.mean(torch.abs(pred - target))\n",
    "\n",
    "\n",
    "def jacobian_loss(pred, target, device='cpu'):\n",
    "    return L1_loss(jacobian(pred, device), jacobian(target, device))\n",
    "\n",
    "\n",
    "def curl_loss(pred, target, device):\n",
    "    return L1_loss(curl(pred, device), curl(target, device))\n",
    "\n",
    "\n",
    "L = nn.MSELoss()\n",
    "\n",
    "\n",
    "def p_loss(pred, target):\n",
    "    return L(pred[:, -target.shape[1]:], target)\n",
    "\n",
    "\n",
    "def loss(pred, target, device):\n",
    "    \n",
    "    if createStreamFcn:\n",
    "        pred = stream2uv(pred, device)\n",
    "        \n",
    "    L = L2_relative_loss(pred, target)\n",
    "    Lj = 0\n",
    "    if doJacobian:\n",
    "        Lj = jacobian_loss(pred, target, device)\n",
    "        \n",
    "    return L + Lj"
   ]
  },
  {
   "cell_type": "code",
   "execution_count": 17,
   "metadata": {
    "ExecuteTime": {
     "end_time": "2020-11-06T22:09:15.676167Z",
     "start_time": "2020-11-06T22:09:15.661506Z"
    }
   },
   "outputs": [
    {
     "data": {
      "text/plain": [
       "torch.Size([32, 2, 128, 128])"
      ]
     },
     "execution_count": 17,
     "metadata": {},
     "output_type": "execute_result"
    }
   ],
   "source": [
    "pred = stream2uv(Xhat,device)\n",
    "pred.shape"
   ]
  },
  {
   "cell_type": "code",
   "execution_count": 18,
   "metadata": {
    "ExecuteTime": {
     "end_time": "2020-11-06T22:09:15.688069Z",
     "start_time": "2020-11-06T22:09:15.678775Z"
    }
   },
   "outputs": [
    {
     "data": {
      "text/plain": [
       "tensor(1.4142, device='cuda:0', grad_fn=<AddBackward0>)"
      ]
     },
     "execution_count": 18,
     "metadata": {},
     "output_type": "execute_result"
    }
   ],
   "source": [
    "loss(pred,X,device)"
   ]
  },
  {
   "cell_type": "markdown",
   "metadata": {},
   "source": [
    "## Set LR"
   ]
  },
  {
   "cell_type": "code",
   "execution_count": 19,
   "metadata": {
    "ExecuteTime": {
     "end_time": "2020-11-06T22:09:15.695544Z",
     "start_time": "2020-11-06T22:09:15.690586Z"
    }
   },
   "outputs": [],
   "source": [
    "if findLRs and (len(gpu_ids.split(','))==1): # doesn't work for multigpu???\n",
    "    model.return_z = False\n",
    "    opt = create_opt(1e-7,model)\n",
    "    find_lr(model,opt,L,device,trainDataLoader)\n",
    "    model.return_z = True"
   ]
  },
  {
   "cell_type": "code",
   "execution_count": 20,
   "metadata": {
    "ExecuteTime": {
     "end_time": "2020-11-06T22:09:15.705129Z",
     "start_time": "2020-11-06T22:09:15.697990Z"
    }
   },
   "outputs": [],
   "source": [
    "max_lr = .0001\n",
    "start_lr = 5*max_lr/10\n",
    "#opt = create_opt(max_lr,model)\n",
    "#lr_scheduler = create_one_cycle(opt,max_lr,epochs,trainDataLoader)\n",
    "opt = torch.optim.Adam(model.parameters(),lr=max_lr,betas=(.5,.999))\n",
    "lr_scheduler = torch.optim.lr_scheduler.ReduceLROnPlateau(opt,patience=patience)"
   ]
  },
  {
   "cell_type": "code",
   "execution_count": 21,
   "metadata": {
    "ExecuteTime": {
     "end_time": "2020-11-06T22:09:15.711098Z",
     "start_time": "2020-11-06T22:09:15.707187Z"
    }
   },
   "outputs": [],
   "source": [
    "versionName = versionName + '_lr{}'.format(str(max_lr))"
   ]
  },
  {
   "cell_type": "markdown",
   "metadata": {},
   "source": [
    "## Train"
   ]
  },
  {
   "cell_type": "code",
   "execution_count": 22,
   "metadata": {
    "ExecuteTime": {
     "end_time": "2020-11-06T22:09:15.724986Z",
     "start_time": "2020-11-06T22:09:15.713534Z"
    }
   },
   "outputs": [],
   "source": [
    "def trainEpoch(myDataLoader, tensorboard_writer, model, opt, p_loss, loss,\n",
    "               metric, lr_scheduler, tensorboard_rate, device,\n",
    "               tensorboard_recorder_step, total_steps):\n",
    "    running_loss = 0.0\n",
    "    running_rmse = 0.0\n",
    "    total_loss = 0.0\n",
    "    running_ploss = 0.0\n",
    "    for i, sampleBatch in enumerate(myDataLoader, start=1):\n",
    "\n",
    "        # --- Main Training ---\n",
    "        \n",
    "        # gpu\n",
    "        X, Y, p_x, p_y = sampleBatch\n",
    "        X = X.to(device)\n",
    "        p_x = p_x.to(device)\n",
    "\n",
    "        # zero the parameter gradients\n",
    "        opt.zero_grad()\n",
    "\n",
    "        X_hat, z = model(X, p_x)\n",
    "        #pl = p_loss(z,p)\n",
    "        ll = loss(X_hat,X,device)\n",
    "        combined_loss = ll #pl + ll\n",
    "        combined_loss.backward()\n",
    "        opt.step()\n",
    "        \n",
    "        # loss\n",
    "        batch_loss = combined_loss.item()\n",
    "        running_loss += batch_loss\n",
    "        total_loss += batch_loss\n",
    "        \n",
    "        #batch_ploss = pl.item()\n",
    "        #running_ploss += batch_ploss\n",
    "\n",
    "        # --- Metrics Recording ---\n",
    "\n",
    "        # metrics\n",
    "        r = metric(X_hat, X)\n",
    "        running_rmse += r\n",
    "\n",
    "        # record lr change\n",
    "        total_steps += 1\n",
    "        tensorboard_writer.add_scalar(tag=\"LR\", scalar_value=opt.param_groups[0]['lr'], global_step=total_steps)\n",
    "        #lr_scheduler.step()\n",
    "\n",
    "        # tensorboard writes\n",
    "        if (i % tensorboard_rate == 0):\n",
    "            tensorboard_recorder_step += 1\n",
    "            avg_running_loss = running_loss/tensorboard_rate\n",
    "            avg_running_rmse = running_rmse/tensorboard_rate\n",
    "            #avg_running_ploss = running_ploss/tensorboard_rate\n",
    "            tensorboard_writer.add_scalar(tag=\"Loss\", scalar_value=avg_running_loss, global_step=tensorboard_recorder_step)\n",
    "            #tensorboard_writer.add_scalar(tag=\"p_loss\", scalar_value=avg_running_ploss, global_step=tensorboard_recorder_step)\n",
    "            tensorboard_writer.add_scalar(tag=metric.__name__, scalar_value=avg_running_rmse, global_step=tensorboard_recorder_step)\n",
    "            # reset running_loss for the next set of batches. (tensorboard_rate number of batches)\n",
    "            running_loss = 0.0\n",
    "            running_rmse = 0.0\n",
    "            #running_ploss = 0.0\n",
    "\n",
    "    return total_loss/len(myDataLoader), tensorboard_recorder_step, total_steps"
   ]
  },
  {
   "cell_type": "code",
   "execution_count": 23,
   "metadata": {
    "ExecuteTime": {
     "end_time": "2020-11-06T22:09:15.738748Z",
     "start_time": "2020-11-06T22:09:15.726781Z"
    }
   },
   "outputs": [],
   "source": [
    "# EXPORT\n",
    "def validEpoch(myDataLoader, tensorboard_writer, model, p_loss, loss, metric,\n",
    "               device, tensorboard_recorder_step):\n",
    "    running_loss = 0.0\n",
    "    running_rmse = 0.0\n",
    "    for i, sampleBatch in enumerate(myDataLoader, start=1):\n",
    "\n",
    "        # --- Metrics Recording ---\n",
    "\n",
    "        # gpu\n",
    "        X, Y, p_x, p_y = sampleBatch\n",
    "        X = X.to(device)\n",
    "        p_x = p_x.to(device)\n",
    "        \n",
    "        perc = len(X)/len(myDataLoader.dataset)\n",
    "\n",
    "        # forward, no gradient calculations\n",
    "        with torch.no_grad():\n",
    "            X_hat, z = model(X, p_x)\n",
    "\n",
    "        # loss\n",
    "        #combined_loss = p_loss(z,p) + loss(X_hat,X,device)\n",
    "        combined_loss = loss(X_hat,X,device)\n",
    "        \n",
    "        running_loss += perc*(combined_loss.item())\n",
    "\n",
    "        # metrics\n",
    "        r = metric(X_hat, X)\n",
    "        running_rmse += perc*r\n",
    "\n",
    "    avg_running_loss = running_loss\n",
    "    avg_running_rmse = running_rmse\n",
    "    tensorboard_writer.add_scalar(tag=\"Loss\", scalar_value=avg_running_loss, global_step=tensorboard_recorder_step)\n",
    "    tensorboard_writer.add_scalar(tag=metric.__name__, scalar_value=avg_running_rmse, global_step=tensorboard_recorder_step)\n",
    "\n",
    "    return running_loss"
   ]
  },
  {
   "cell_type": "code",
   "execution_count": 24,
   "metadata": {
    "ExecuteTime": {
     "end_time": "2020-11-06T22:09:15.749888Z",
     "start_time": "2020-11-06T22:09:15.741300Z"
    }
   },
   "outputs": [
    {
     "name": "stdout",
     "output_type": "stream",
     "text": [
      "checkpoints directory already exists :)\n"
     ]
    }
   ],
   "source": [
    "try:\n",
    "    os.mkdir(cps)\n",
    "except:\n",
    "    print(\"checkpoints directory already exists :)\")"
   ]
  },
  {
   "cell_type": "code",
   "execution_count": 25,
   "metadata": {
    "ExecuteTime": {
     "end_time": "2020-11-06T22:09:19.071350Z",
     "start_time": "2020-11-06T22:09:15.752304Z"
    }
   },
   "outputs": [],
   "source": [
    "# create a summary writer.\n",
    "train_writer = SummaryWriter(os.path.join(tensorboard_direc, versionName,'train'))\n",
    "test_writer = SummaryWriter(os.path.join(tensorboard_direc, versionName,'valid'))\n",
    "tensorboard_recorder_step = 0\n",
    "total_steps = 0"
   ]
  },
  {
   "cell_type": "code",
   "execution_count": 26,
   "metadata": {
    "ExecuteTime": {
     "end_time": "2020-11-07T00:02:30.860710Z",
     "start_time": "2020-11-06T22:09:19.073910Z"
    }
   },
   "outputs": [
    {
     "name": "stderr",
     "output_type": "stream",
     "text": [
      "\r",
      "  0%|          | 0/1000 [00:00<?, ?it/s]"
     ]
    },
    {
     "name": "stdout",
     "output_type": "stream",
     "text": [
      "---------- Started Training ----------\n",
      "--- Epoch 1/1000 ---\n"
     ]
    },
    {
     "name": "stderr",
     "output_type": "stream",
     "text": [
      "/home/bartoldson1/anaconda3/lib/python3.8/site-packages/torch/nn/functional.py:3000: UserWarning: The default behavior for interpolate/upsample with float scale_factor changed in 1.6.0 to align with other frameworks/libraries, and uses scale_factor directly, instead of relying on the computed output size. If you wish to keep the old behavior, please set recompute_scale_factor=True. See the documentation of nn.Upsample for details. \n",
      "  warnings.warn(\"The default behavior for interpolate/upsample with float scale_factor changed \"\n"
     ]
    },
    {
     "name": "stdout",
     "output_type": "stream",
     "text": [
      "trainLoss: 6.3254e-01\n",
      "LR: 1.0000e-04\n",
      "valLoss: 5.0910e-01\n",
      "Better valLoss: 5.0910e-01, Saving models...\n"
     ]
    },
    {
     "name": "stderr",
     "output_type": "stream",
     "text": [
      "\r",
      "  0%|          | 1/1000 [03:04<51:12:24, 184.53s/it]"
     ]
    },
    {
     "name": "stdout",
     "output_type": "stream",
     "text": [
      "--- Epoch 2/1000 ---\n",
      "trainLoss: 4.8369e-01\n",
      "LR: 1.0000e-04\n"
     ]
    },
    {
     "name": "stderr",
     "output_type": "stream",
     "text": [
      "\r",
      "  0%|          | 2/1000 [06:09<51:11:53, 184.68s/it]"
     ]
    },
    {
     "name": "stdout",
     "output_type": "stream",
     "text": [
      "valLoss: 4.7931e-01\n",
      "Better valLoss: 4.7931e-01, Saving models...\n",
      "--- Epoch 3/1000 ---\n",
      "trainLoss: 4.4306e-01\n",
      "LR: 1.0000e-04\n"
     ]
    },
    {
     "name": "stderr",
     "output_type": "stream",
     "text": [
      "\r",
      "  0%|          | 3/1000 [09:14<51:10:52, 184.81s/it]"
     ]
    },
    {
     "name": "stdout",
     "output_type": "stream",
     "text": [
      "valLoss: 4.4077e-01\n",
      "Better valLoss: 4.4077e-01, Saving models...\n",
      "--- Epoch 4/1000 ---\n",
      "trainLoss: 4.0592e-01\n",
      "LR: 1.0000e-04\n",
      "valLoss: 4.1060e-01\n",
      "Better valLoss: 4.1060e-01, Saving models...\n"
     ]
    },
    {
     "name": "stderr",
     "output_type": "stream",
     "text": [
      "\r",
      "  0%|          | 4/1000 [12:20<51:15:00, 185.24s/it]"
     ]
    },
    {
     "name": "stdout",
     "output_type": "stream",
     "text": [
      "--- Epoch 5/1000 ---\n",
      "trainLoss: 3.7770e-01\n",
      "LR: 1.0000e-04\n",
      "valLoss: 4.0234e-01\n",
      "Better valLoss: 4.0234e-01, Saving models...\n"
     ]
    },
    {
     "name": "stderr",
     "output_type": "stream",
     "text": [
      "\r",
      "  0%|          | 5/1000 [15:26<51:14:32, 185.40s/it]"
     ]
    },
    {
     "name": "stdout",
     "output_type": "stream",
     "text": [
      "--- Epoch 6/1000 ---\n",
      "trainLoss: 3.5864e-01\n",
      "LR: 1.0000e-04\n",
      "valLoss: 3.8384e-01\n",
      "Better valLoss: 3.8384e-01, Saving models...\n"
     ]
    },
    {
     "name": "stderr",
     "output_type": "stream",
     "text": [
      "\r",
      "  1%|          | 6/1000 [18:33<51:16:02, 185.68s/it]"
     ]
    },
    {
     "name": "stdout",
     "output_type": "stream",
     "text": [
      "--- Epoch 7/1000 ---\n",
      "trainLoss: 3.4368e-01\n",
      "LR: 1.0000e-04\n"
     ]
    },
    {
     "name": "stderr",
     "output_type": "stream",
     "text": [
      "\r",
      "  1%|          | 7/1000 [21:38<51:12:09, 185.63s/it]"
     ]
    },
    {
     "name": "stdout",
     "output_type": "stream",
     "text": [
      "valLoss: 3.7514e-01\n",
      "Better valLoss: 3.7514e-01, Saving models...\n",
      "--- Epoch 8/1000 ---\n",
      "trainLoss: 3.3159e-01\n",
      "LR: 1.0000e-04\n"
     ]
    },
    {
     "name": "stderr",
     "output_type": "stream",
     "text": [
      "\r",
      "  1%|          | 8/1000 [24:43<51:06:47, 185.49s/it]"
     ]
    },
    {
     "name": "stdout",
     "output_type": "stream",
     "text": [
      "valLoss: 3.7069e-01\n",
      "Better valLoss: 3.7069e-01, Saving models...\n",
      "--- Epoch 9/1000 ---\n",
      "trainLoss: 3.2124e-01\n",
      "LR: 1.0000e-04\n",
      "valLoss: 3.6523e-01\n",
      "Better valLoss: 3.6523e-01, Saving models...\n"
     ]
    },
    {
     "name": "stderr",
     "output_type": "stream",
     "text": [
      "\r",
      "  1%|          | 9/1000 [27:51<51:15:26, 186.20s/it]"
     ]
    },
    {
     "name": "stdout",
     "output_type": "stream",
     "text": [
      "--- Epoch 10/1000 ---\n",
      "trainLoss: 3.1266e-01\n",
      "LR: 1.0000e-04\n",
      "valLoss: 3.6167e-01\n",
      "Better valLoss: 3.6167e-01, Saving models...\n"
     ]
    },
    {
     "name": "stderr",
     "output_type": "stream",
     "text": [
      "\r",
      "  1%|          | 10/1000 [30:57<51:09:15, 186.02s/it]"
     ]
    },
    {
     "name": "stdout",
     "output_type": "stream",
     "text": [
      "--- Epoch 11/1000 ---\n",
      "trainLoss: 3.0474e-01\n",
      "LR: 1.0000e-04\n",
      "valLoss: 3.5777e-01\n",
      "Better valLoss: 3.5777e-01, Saving models...\n"
     ]
    },
    {
     "name": "stderr",
     "output_type": "stream",
     "text": [
      "\r",
      "  1%|          | 11/1000 [34:04<51:13:41, 186.47s/it]"
     ]
    },
    {
     "name": "stdout",
     "output_type": "stream",
     "text": [
      "--- Epoch 12/1000 ---\n",
      "trainLoss: 2.9751e-01\n",
      "LR: 1.0000e-04\n",
      "valLoss: 3.5435e-01\n",
      "Better valLoss: 3.5435e-01, Saving models...\n"
     ]
    },
    {
     "name": "stderr",
     "output_type": "stream",
     "text": [
      "\r",
      "  1%|          | 12/1000 [37:11<51:14:03, 186.68s/it]"
     ]
    },
    {
     "name": "stdout",
     "output_type": "stream",
     "text": [
      "--- Epoch 13/1000 ---\n",
      "trainLoss: 2.9169e-01\n",
      "LR: 1.0000e-04\n",
      "valLoss: 3.5384e-01\n",
      "Better valLoss: 3.5384e-01, Saving models...\n"
     ]
    },
    {
     "name": "stderr",
     "output_type": "stream",
     "text": [
      "\r",
      "  1%|▏         | 13/1000 [40:16<51:01:17, 186.10s/it]"
     ]
    },
    {
     "name": "stdout",
     "output_type": "stream",
     "text": [
      "--- Epoch 14/1000 ---\n",
      "trainLoss: 2.8595e-01\n",
      "LR: 1.0000e-04\n",
      "valLoss: 3.5275e-01\n",
      "Better valLoss: 3.5275e-01, Saving models...\n"
     ]
    },
    {
     "name": "stderr",
     "output_type": "stream",
     "text": [
      "\r",
      "  1%|▏         | 14/1000 [43:23<51:01:28, 186.30s/it]"
     ]
    },
    {
     "name": "stdout",
     "output_type": "stream",
     "text": [
      "--- Epoch 15/1000 ---\n",
      "trainLoss: 2.8061e-01\n",
      "LR: 1.0000e-04\n",
      "valLoss: 3.4874e-01\n",
      "Better valLoss: 3.4874e-01, Saving models...\n"
     ]
    },
    {
     "name": "stderr",
     "output_type": "stream",
     "text": [
      "\r",
      "  2%|▏         | 15/1000 [46:31<51:05:29, 186.73s/it]"
     ]
    },
    {
     "name": "stdout",
     "output_type": "stream",
     "text": [
      "--- Epoch 16/1000 ---\n",
      "trainLoss: 2.7532e-01\n",
      "LR: 1.0000e-04\n",
      "valLoss: 3.4773e-01\n",
      "Better valLoss: 3.4773e-01, Saving models...\n"
     ]
    },
    {
     "name": "stderr",
     "output_type": "stream",
     "text": [
      "\r",
      "  2%|▏         | 16/1000 [49:41<51:20:33, 187.84s/it]"
     ]
    },
    {
     "name": "stdout",
     "output_type": "stream",
     "text": [
      "--- Epoch 17/1000 ---\n",
      "trainLoss: 2.7052e-01\n",
      "LR: 1.0000e-04\n",
      "valLoss: 3.4587e-01\n",
      "Better valLoss: 3.4587e-01, Saving models...\n"
     ]
    },
    {
     "name": "stderr",
     "output_type": "stream",
     "text": [
      "\r",
      "  2%|▏         | 17/1000 [52:51<51:28:12, 188.50s/it]"
     ]
    },
    {
     "name": "stdout",
     "output_type": "stream",
     "text": [
      "--- Epoch 18/1000 ---\n",
      "trainLoss: 2.6654e-01\n",
      "LR: 1.0000e-04\n"
     ]
    },
    {
     "name": "stderr",
     "output_type": "stream",
     "text": [
      "\r",
      "  2%|▏         | 18/1000 [56:01<51:33:46, 189.03s/it]"
     ]
    },
    {
     "name": "stdout",
     "output_type": "stream",
     "text": [
      "valLoss: 3.4629e-01\n",
      "--- Epoch 19/1000 ---\n",
      "trainLoss: 2.6200e-01\n",
      "LR: 1.0000e-04\n"
     ]
    },
    {
     "name": "stderr",
     "output_type": "stream",
     "text": [
      "\r",
      "  2%|▏         | 19/1000 [59:13<51:41:16, 189.68s/it]"
     ]
    },
    {
     "name": "stdout",
     "output_type": "stream",
     "text": [
      "valLoss: 3.4697e-01\n",
      "--- Epoch 20/1000 ---\n",
      "trainLoss: 2.5857e-01\n",
      "LR: 1.0000e-04\n",
      "valLoss: 3.4552e-01\n",
      "Better valLoss: 3.4552e-01, Saving models...\n"
     ]
    },
    {
     "name": "stderr",
     "output_type": "stream",
     "text": [
      "\r",
      "  2%|▏         | 20/1000 [1:02:24<51:46:09, 190.17s/it]"
     ]
    },
    {
     "name": "stdout",
     "output_type": "stream",
     "text": [
      "--- Epoch 21/1000 ---\n",
      "trainLoss: 2.5514e-01\n",
      "LR: 1.0000e-04\n"
     ]
    },
    {
     "name": "stderr",
     "output_type": "stream",
     "text": [
      "\r",
      "  2%|▏         | 21/1000 [1:05:35<51:45:56, 190.35s/it]"
     ]
    },
    {
     "name": "stdout",
     "output_type": "stream",
     "text": [
      "valLoss: 3.4412e-01\n",
      "Better valLoss: 3.4412e-01, Saving models...\n",
      "--- Epoch 22/1000 ---\n",
      "trainLoss: 2.5148e-01\n",
      "LR: 1.0000e-04\n"
     ]
    },
    {
     "name": "stderr",
     "output_type": "stream",
     "text": [
      "\r",
      "  2%|▏         | 22/1000 [1:08:45<51:42:38, 190.35s/it]"
     ]
    },
    {
     "name": "stdout",
     "output_type": "stream",
     "text": [
      "valLoss: 3.4433e-01\n",
      "--- Epoch 23/1000 ---\n",
      "trainLoss: 2.4817e-01\n",
      "LR: 1.0000e-04\n",
      "valLoss: 3.4333e-01\n",
      "Better valLoss: 3.4333e-01, Saving models...\n"
     ]
    },
    {
     "name": "stderr",
     "output_type": "stream",
     "text": [
      "\r",
      "  2%|▏         | 23/1000 [1:11:56<51:42:12, 190.51s/it]"
     ]
    },
    {
     "name": "stdout",
     "output_type": "stream",
     "text": [
      "--- Epoch 24/1000 ---\n",
      "trainLoss: 2.4522e-01\n",
      "LR: 1.0000e-04\n"
     ]
    },
    {
     "name": "stderr",
     "output_type": "stream",
     "text": [
      "\r",
      "  2%|▏         | 24/1000 [1:15:07<51:41:29, 190.67s/it]"
     ]
    },
    {
     "name": "stdout",
     "output_type": "stream",
     "text": [
      "valLoss: 3.4445e-01\n",
      "--- Epoch 25/1000 ---\n",
      "trainLoss: 2.4216e-01\n",
      "LR: 1.0000e-04\n"
     ]
    },
    {
     "name": "stderr",
     "output_type": "stream",
     "text": [
      "\r",
      "  2%|▎         | 25/1000 [1:18:18<51:38:17, 190.66s/it]"
     ]
    },
    {
     "name": "stdout",
     "output_type": "stream",
     "text": [
      "valLoss: 3.4380e-01\n",
      "--- Epoch 26/1000 ---\n",
      "trainLoss: 2.3988e-01\n",
      "LR: 1.0000e-04\n"
     ]
    },
    {
     "name": "stderr",
     "output_type": "stream",
     "text": [
      "\r",
      "  3%|▎         | 26/1000 [1:21:28<51:35:18, 190.68s/it]"
     ]
    },
    {
     "name": "stdout",
     "output_type": "stream",
     "text": [
      "valLoss: 3.4438e-01\n",
      "--- Epoch 27/1000 ---\n",
      "trainLoss: 2.2449e-01\n",
      "LR: 1.0000e-05\n",
      "valLoss: 3.3944e-01\n",
      "Better valLoss: 3.3944e-01, Saving models...\n"
     ]
    },
    {
     "name": "stderr",
     "output_type": "stream",
     "text": [
      "\r",
      "  3%|▎         | 27/1000 [1:24:39<51:31:16, 190.62s/it]"
     ]
    },
    {
     "name": "stdout",
     "output_type": "stream",
     "text": [
      "--- Epoch 28/1000 ---\n",
      "trainLoss: 2.2166e-01\n",
      "LR: 1.0000e-05\n"
     ]
    },
    {
     "name": "stderr",
     "output_type": "stream",
     "text": [
      "\r",
      "  3%|▎         | 28/1000 [1:27:48<51:23:40, 190.35s/it]"
     ]
    },
    {
     "name": "stdout",
     "output_type": "stream",
     "text": [
      "valLoss: 3.3980e-01\n",
      "--- Epoch 29/1000 ---\n",
      "trainLoss: 2.1998e-01\n",
      "LR: 1.0000e-05\n"
     ]
    },
    {
     "name": "stderr",
     "output_type": "stream",
     "text": [
      "\r",
      "  3%|▎         | 29/1000 [1:30:58<51:18:43, 190.24s/it]"
     ]
    },
    {
     "name": "stdout",
     "output_type": "stream",
     "text": [
      "valLoss: 3.4031e-01\n",
      "--- Epoch 30/1000 ---\n",
      "trainLoss: 2.1880e-01\n",
      "LR: 1.0000e-05\n"
     ]
    },
    {
     "name": "stderr",
     "output_type": "stream",
     "text": [
      "\r",
      "  3%|▎         | 30/1000 [1:34:09<51:19:04, 190.46s/it]"
     ]
    },
    {
     "name": "stdout",
     "output_type": "stream",
     "text": [
      "valLoss: 3.4088e-01\n",
      "--- Epoch 31/1000 ---\n",
      "trainLoss: 2.1773e-01\n",
      "LR: 1.0000e-06\n"
     ]
    },
    {
     "name": "stderr",
     "output_type": "stream",
     "text": [
      "\r",
      "  3%|▎         | 31/1000 [1:37:20<51:16:34, 190.50s/it]"
     ]
    },
    {
     "name": "stdout",
     "output_type": "stream",
     "text": [
      "valLoss: 3.4052e-01\n",
      "--- Epoch 32/1000 ---\n",
      "trainLoss: 2.1757e-01\n",
      "LR: 1.0000e-06\n"
     ]
    },
    {
     "name": "stderr",
     "output_type": "stream",
     "text": [
      "\r",
      "  3%|▎         | 32/1000 [1:40:31<51:15:15, 190.62s/it]"
     ]
    },
    {
     "name": "stdout",
     "output_type": "stream",
     "text": [
      "valLoss: 3.4050e-01\n",
      "--- Epoch 33/1000 ---\n",
      "trainLoss: 2.1716e-01\n",
      "LR: 1.0000e-06\n"
     ]
    },
    {
     "name": "stderr",
     "output_type": "stream",
     "text": [
      "\r",
      "  3%|▎         | 33/1000 [1:43:41<51:10:59, 190.55s/it]"
     ]
    },
    {
     "name": "stdout",
     "output_type": "stream",
     "text": [
      "valLoss: 3.4059e-01\n",
      "--- Epoch 34/1000 ---\n",
      "trainLoss: 2.1731e-01\n",
      "LR: 1.0000e-07\n"
     ]
    },
    {
     "name": "stderr",
     "output_type": "stream",
     "text": [
      "\r",
      "  3%|▎         | 34/1000 [1:46:51<51:01:29, 190.15s/it]"
     ]
    },
    {
     "name": "stdout",
     "output_type": "stream",
     "text": [
      "valLoss: 3.4056e-01\n",
      "--- Epoch 35/1000 ---\n",
      "trainLoss: 2.1742e-01\n",
      "LR: 1.0000e-07\n"
     ]
    },
    {
     "name": "stderr",
     "output_type": "stream",
     "text": [
      "\r",
      "  4%|▎         | 35/1000 [1:50:02<51:02:26, 190.41s/it]"
     ]
    },
    {
     "name": "stdout",
     "output_type": "stream",
     "text": [
      "valLoss: 3.4056e-01\n",
      "--- Epoch 36/1000 ---\n",
      "trainLoss: 2.1717e-01\n",
      "LR: 1.0000e-07\n"
     ]
    },
    {
     "name": "stderr",
     "output_type": "stream",
     "text": [
      "\r",
      "  4%|▎         | 35/1000 [1:53:11<52:00:58, 194.05s/it]"
     ]
    },
    {
     "name": "stdout",
     "output_type": "stream",
     "text": [
      "valLoss: 3.4059e-01\n",
      "---------- Finished Training ----------\n"
     ]
    },
    {
     "name": "stderr",
     "output_type": "stream",
     "text": [
      "\n"
     ]
    }
   ],
   "source": [
    "writeMessage('---------- Started Training ----------', versionName)\n",
    "bestLoss = np.infty\n",
    "\n",
    "for epoch in tqdm(range(1, epochs+1)):  # loop over the dataset multiple times\n",
    "    \n",
    "    writeMessage(\"--- Epoch {0}/{1} ---\".format(epoch, epochs), versionName)\n",
    "    \n",
    "    model.train()\n",
    "    trainLoss, tensorboard_recorder_step, total_steps = trainEpoch(trainDataLoader, \n",
    "                                                                   train_writer, model, opt, p_loss, loss,\n",
    "                                                                   rmse, lr_scheduler, \n",
    "                                                                   tensorboard_rate, device,\n",
    "                                                                   tensorboard_recorder_step, total_steps)\n",
    "    \n",
    "    writeMessage(\"trainLoss: {:.4e}\".format(trainLoss),versionName)\n",
    "    writeMessage(\"LR: {:.4e}\".format(opt.param_groups[0]['lr']),versionName)\n",
    "#     if trainLoss < bestLoss:\n",
    "#         bestLoss = trainLoss\n",
    "#         writeMessage(\"Better trainLoss: {:.4e}, Saving models...\".format(bestLoss),versionName)\n",
    "#         torch.save(model.state_dict(), os.path.join(cps,versionName))\n",
    "        \n",
    "    model.eval()\n",
    "    valLoss = validEpoch(testDataLoader, test_writer, model, p_loss, loss, rmse, device, tensorboard_recorder_step)\n",
    "    writeMessage(\"valLoss: {:.4e}\".format(valLoss),versionName)\n",
    "    \n",
    "    # checkpoint progress\n",
    "    if valLoss < bestLoss:\n",
    "        bestLoss = valLoss\n",
    "        writeMessage(\"Better valLoss: {:.4e}, Saving models...\".format(bestLoss),versionName)\n",
    "        torch.save(model.state_dict(), os.path.join(cps,versionName))\n",
    "\n",
    "    lr_scheduler.step(valLoss)\n",
    "    \n",
    "    if opt.param_groups[0]['lr'] < 5e-8:\n",
    "        break\n",
    "writeMessage('---------- Finished Training ----------', versionName)"
   ]
  },
  {
   "cell_type": "markdown",
   "metadata": {},
   "source": [
    "## Compare: Generated vs. Simulated"
   ]
  },
  {
   "cell_type": "code",
   "execution_count": 27,
   "metadata": {
    "ExecuteTime": {
     "end_time": "2020-11-07T00:02:33.094721Z",
     "start_time": "2020-11-07T00:02:30.863088Z"
    }
   },
   "outputs": [],
   "source": [
    "model.load_state_dict(torch.load(os.path.join(cps,versionName)))\n",
    "model = model.to(device)"
   ]
  },
  {
   "cell_type": "code",
   "execution_count": 28,
   "metadata": {
    "ExecuteTime": {
     "end_time": "2020-11-07T00:02:33.373761Z",
     "start_time": "2020-11-07T00:02:33.097455Z"
    }
   },
   "outputs": [
    {
     "data": {
      "text/plain": [
       "(torch.Size([32, 1, 128, 128]),\n",
       " torch.Size([32, 2]),\n",
       " torch.Size([32, 1, 128, 128]))"
      ]
     },
     "execution_count": 28,
     "metadata": {},
     "output_type": "execute_result"
    }
   ],
   "source": [
    "model.eval()\n",
    "X, Y, p_x, p_y = next(iter(testDataLoader))\n",
    "X, Y, p_x, p_y = X.to(device), Y.to(device), p_x.to(device), p_y.to(device)\n",
    "\n",
    "with torch.no_grad():\n",
    "    X_hat, p = model(X, p_x)\n",
    "\n",
    "if createStreamFcn:\n",
    "    X_hat = stream2uv(X_hat,device)\n",
    "    \n",
    "X.shape, p_x.shape, X_hat.shape"
   ]
  },
  {
   "cell_type": "markdown",
   "metadata": {},
   "source": [
    "### Metrics"
   ]
  },
  {
   "cell_type": "code",
   "execution_count": 29,
   "metadata": {
    "ExecuteTime": {
     "end_time": "2020-11-07T00:03:31.296834Z",
     "start_time": "2020-11-07T00:02:33.376438Z"
    }
   },
   "outputs": [
    {
     "name": "stdout",
     "output_type": "stream",
     "text": [
      "RMSE \t Rel Err\n",
      "0.06032617762684822\t0.34203848242759705\n",
      "0.06883223354816437\t0.3243931233882904\n",
      "0.0678662583231926\t0.3385648727416992\n",
      "0.07253128290176392\t0.32465896010398865\n",
      "0.0747397243976593\t0.3343028128147125\n",
      "0.08559126406908035\t0.3300682604312897\n",
      "0.0951504111289978\t0.33480966091156006\n",
      "0.10190251469612122\t0.3480680584907532\n",
      "0.12804898619651794\t0.39132097363471985\n",
      "0.08962646126747131\t0.32664474844932556\n",
      "0.339487\n"
     ]
    },
    {
     "data": {
      "image/png": "[encoded data removed]",
      "text/plain": [
       "<Figure size 432x288 with 1 Axes>"
      ]
     },
     "metadata": {
      "needs_background": "light"
     },
     "output_type": "display_data"
    }
   ],
   "source": [
    "RMSE = []\n",
    "relErr = []\n",
    "frameRe = []\n",
    "print('RMSE \\t Rel Err')\n",
    "for idx in range(len(testSimFiles)):\n",
    "    # testDataset = CCSI_2D([testSimFiles[idx]],doPreprocess=preprocess,channel=channel,AE=False)\n",
    "    # simDataLoader = DataLoader(dataset=testDataset, batch_size=1)\n",
    "    # for X,Y in simDataLoader:\n",
    "    #     p = X[1]\n",
    "    #     t = X[2]\n",
    "    #     print(X[0].shape, p, t)\n",
    "\n",
    "    testDataset = CCSI_2D([testSimFiles[idx]],doPreprocess=preprocess,channel=channel,AE=AE,w=0)\n",
    "    simDataLoader = DataLoader(dataset=testDataset, batch_size=1)\n",
    "    XX = []\n",
    "    Real_X = []\n",
    "    model.eval()\n",
    "    for i, sampleBatch in enumerate(simDataLoader,start=1):\n",
    "        with torch.no_grad():\n",
    "            X, Y, p_x, p_y = sampleBatch\n",
    "            X, Y, p_x, p_y = X.to(device), Y.to(device), p_x.to(device), p_y.to(device)\n",
    "            Real_X.append(X)\n",
    "\n",
    "            X_hat,_ = model(X, p_x)\n",
    "\n",
    "            if createStreamFcn:\n",
    "                X_hat = stream2uv(X_hat,device)\n",
    "\n",
    "            XX.append(X_hat)\n",
    "\n",
    "            #X = X.detach().cpu().squeeze()\n",
    "            #X_hat = X_hat.detach().cpu().squeeze()\n",
    "            #plotSampleWprediction(X, X_hat)\n",
    "\n",
    "    Real_X = torch.cat(Real_X,axis=0).to('cpu')\n",
    "    Real_X_img = torch.rot90(convertSimToImage(Real_X),1,dims=[2,3])\n",
    "\n",
    "    Surr_X = torch.cat(XX,axis=0).to('cpu')\n",
    "    Surr_X_img = torch.rot90(convertSimToImage(Surr_X),1,dims=[2,3])\n",
    "    Real_X_img.shape, Surr_X_img.shape\n",
    "    \n",
    "    r = rmse(Real_X,Surr_X)\n",
    "    RMSE.append(r)\n",
    "    \n",
    "    rel_error = torch.norm(Real_X - Surr_X)/torch.norm(Real_X)\n",
    "    print('{}\\t{}'.format(r, rel_error))\n",
    "    relErr.append(rel_error)\n",
    "    \n",
    "    re = []\n",
    "    for x,y in zip(Real_X, Surr_X):\n",
    "        x = x.squeeze()\n",
    "        y = y.squeeze()\n",
    "        e = torch.norm(x - y)/torch.norm(x)\n",
    "        re.append(e)\n",
    "    frameRe.append(re)\n",
    "    #plt.plot(re)\n",
    "    \n",
    "print(np.mean(relErr))\n",
    "frameRe = np.vstack(frameRe)\n",
    "plt.plot(frameRe.T)\n",
    "plt.legend([i for i in range(len(testSimFiles))])\n",
    "plt.show()"
   ]
  },
  {
   "cell_type": "markdown",
   "metadata": {},
   "source": [
    "### Make Movie"
   ]
  },
  {
   "cell_type": "code",
   "execution_count": 30,
   "metadata": {
    "ExecuteTime": {
     "end_time": "2020-11-07T00:03:31.306047Z",
     "start_time": "2020-11-07T00:03:31.298922Z"
    }
   },
   "outputs": [],
   "source": [
    "import matplotlib.animation as animation\n",
    "import matplotlib.gridspec as gridspec\n",
    "import matplotlib.animation as manimati\n",
    "from matplotlib import animation, rc\n",
    "def create_1_channel_movie(im,outfile='sim.mp4',title='surrogate            simulation'):\n",
    "    ti = 0\n",
    "    u_mx = 255 #np.max(np.abs(Xrgb))\n",
    "    fig = plt.figure()\n",
    "    ax = fig.add_subplot(111)\n",
    "    plt.title(title)\n",
    "    cmap = plt.cm.ocean\n",
    "    img = ax.imshow(im[0].squeeze(), cmap=cmap, vmin=0, vmax=u_mx)\n",
    "    #plt.show()\n",
    "    \n",
    "    # initialization function: plot the background of each frame\n",
    "    def init():\n",
    "        img = ax.imshow(im[0].squeeze(), cmap=cmap, vmin=0, vmax=u_mx)\n",
    "        return (fig,)\n",
    "\n",
    "    # animation function. This is called sequentially\n",
    "    def animate(i):\n",
    "        img = ax.imshow(im[i].squeeze(), cmap=cmap, vmin=0, vmax=u_mx)\n",
    "        return (fig,)\n",
    "\n",
    "\n",
    "    # call the animator. blit=True means only re-draw the parts that have changed.\n",
    "    anim = animation.FuncAnimation(fig, animate, init_func=init,\n",
    "                                   frames=len(im), interval=20, blit=True)\n",
    "    anim.save(outfile, fps=30, extra_args=['-vcodec', 'libx264'])"
   ]
  },
  {
   "cell_type": "code",
   "execution_count": 31,
   "metadata": {
    "ExecuteTime": {
     "end_time": "2020-11-07T00:03:31.365822Z",
     "start_time": "2020-11-07T00:03:31.307499Z"
    }
   },
   "outputs": [
    {
     "data": {
      "text/plain": [
       "torch.Size([500, 1, 128, 256])"
      ]
     },
     "execution_count": 31,
     "metadata": {},
     "output_type": "execute_result"
    }
   ],
   "source": [
    "Xrgb = torch.cat([Surr_X_img, Real_X_img], dim=3)\n",
    "Xrgb.shape"
   ]
  },
  {
   "cell_type": "code",
   "execution_count": 32,
   "metadata": {
    "ExecuteTime": {
     "end_time": "2020-11-07T00:24:59.689419Z",
     "start_time": "2020-11-07T00:03:31.367744Z"
    }
   },
   "outputs": [
    {
     "name": "stderr",
     "output_type": "stream",
     "text": [
      "MovieWriter stderr:\n",
      "[gif @ 0x55ee31066f00] GIF muxer supports only a single video GIF stream.\n",
      "Could not write header for output file #0 (incorrect codec parameters ?): Invalid argument\n",
      "Error initializing output stream 0:0 -- \n",
      "\n"
     ]
    },
    {
     "data": {
      "image/png": "[encoded data removed]",
      "text/plain": [
       "<Figure size 432x288 with 1 Axes>"
      ]
     },
     "metadata": {
      "needs_background": "light"
     },
     "output_type": "display_data"
    },
    {
     "data": {
      "image/png": "[encoded data removed]",
      "text/plain": [
       "<Figure size 432x288 with 1 Axes>"
      ]
     },
     "metadata": {
      "needs_background": "light"
     },
     "output_type": "display_data"
    }
   ],
   "source": [
    "try:\n",
    "    gif = True\n",
    "    outGif = '{}.gif'.format(versionName)\n",
    "    create_1_channel_movie(Xrgb.detach().numpy(),outfile=outGif)\n",
    "except:\n",
    "    gif = False\n",
    "    outGif = '{}.mp4'.format(versionName)\n",
    "    create_1_channel_movie(Xrgb.detach().numpy(),outfile=outGif)"
   ]
  },
  {
   "cell_type": "code",
   "execution_count": 33,
   "metadata": {
    "ExecuteTime": {
     "end_time": "2020-11-07T00:24:59.695979Z",
     "start_time": "2020-11-07T00:24:59.691653Z"
    }
   },
   "outputs": [
    {
     "data": {
      "text/plain": [
       "'pnnl_plateau_train_GPUs23_channel2_gridsize128_latentDim256_filters128_bz32_numConv4_jacobianFalse_norm_layerIdentity_sigmoid_outTrue_epochs1000_stackTrue_lr0.0001.mp4'"
      ]
     },
     "execution_count": 33,
     "metadata": {},
     "output_type": "execute_result"
    }
   ],
   "source": [
    "outGif"
   ]
  },
  {
   "cell_type": "code",
   "execution_count": 34,
   "metadata": {
    "ExecuteTime": {
     "end_time": "2020-11-07T00:24:59.787931Z",
     "start_time": "2020-11-07T00:24:59.698667Z"
    }
   },
   "outputs": [],
   "source": [
    "from IPython.display import Image, Video\n",
    "if gif:\n",
    "    Image(filename=outGif)\n",
    "else:\n",
    "    Video(outGif)"
   ]
  },
  {
   "cell_type": "code",
   "execution_count": 35,
   "metadata": {
    "ExecuteTime": {
     "end_time": "2020-11-07T00:24:59.797380Z",
     "start_time": "2020-11-07T00:24:59.790396Z"
    }
   },
   "outputs": [
    {
     "data": {
      "text/html": [
       "<video src=\"pnnl_plateau_train_GPUs23_channel2_gridsize128_latentDim256_filters128_bz32_numConv4_jacobianFalse_norm_layerIdentity_sigmoid_outTrue_epochs1000_stackTrue_lr0.0001.mp4\" controls  >\n",
       "      Your browser does not support the <code>video</code> element.\n",
       "    </video>"
      ],
      "text/plain": [
       "<IPython.core.display.Video object>"
      ]
     },
     "execution_count": 35,
     "metadata": {},
     "output_type": "execute_result"
    }
   ],
   "source": [
    "Video(outGif)"
   ]
  },
  {
   "cell_type": "code",
   "execution_count": 36,
   "metadata": {
    "ExecuteTime": {
     "end_time": "2020-11-07T00:25:00.404661Z",
     "start_time": "2020-11-07T00:24:59.800294Z"
    }
   },
   "outputs": [
    {
     "data": {
      "application/javascript": [
       "/* Put everything inside the global mpl namespace */\n",
       "window.mpl = {};\n",
       "\n",
       "\n",
       "mpl.get_websocket_type = function() {\n",
       "    if (typeof(WebSocket) !== 'undefined') {\n",
       "        return WebSocket;\n",
       "    } else if (typeof(MozWebSocket) !== 'undefined') {\n",
       "        return MozWebSocket;\n",
       "    } else {\n",
       "        alert('Your browser does not have WebSocket support. ' +\n",
       "              'Please try Chrome, Safari or Firefox ≥ 6. ' +\n",
       "              'Firefox 4 and 5 are also supported but you ' +\n",
       "              'have to enable WebSockets in about:config.');\n",
       "    };\n",
       "}\n",
       "\n",
       "mpl.figure = function(figure_id, websocket, ondownload, parent_element) {\n",
       "    this.id = figure_id;\n",
       "\n",
       "    this.ws = websocket;\n",
       "\n",
       "    this.supports_binary = (this.ws.binaryType != undefined);\n",
       "\n",
       "    if (!this.supports_binary) {\n",
       "        var warnings = document.getElementById(\"mpl-warnings\");\n",
       "        if (warnings) {\n",
       "            warnings.style.display = 'block';\n",
       "            warnings.textContent = (\n",
       "                \"This browser does not support binary websocket messages. \" +\n",
       "                    \"Performance may be slow.\");\n",
       "        }\n",
       "    }\n",
       "\n",
       "    this.imageObj = new Image();\n",
       "\n",
       "    this.context = undefined;\n",
       "    this.message = undefined;\n",
       "    this.canvas = undefined;\n",
       "    this.rubberband_canvas = undefined;\n",
       "    this.rubberband_context = undefined;\n",
       "    this.format_dropdown = undefined;\n",
       "\n",
       "    this.image_mode = 'full';\n",
       "\n",
       "    this.root = $('<div/>');\n",
       "    this._root_extra_style(this.root)\n",
       "    this.root.attr('style', 'display: inline-block');\n",
       "\n",
       "    $(parent_element).append(this.root);\n",
       "\n",
       "    this._init_header(this);\n",
       "    this._init_canvas(this);\n",
       "    this._init_toolbar(this);\n",
       "\n",
       "    var fig = this;\n",
       "\n",
       "    this.waiting = false;\n",
       "\n",
       "    this.ws.onopen =  function () {\n",
       "            fig.send_message(\"supports_binary\", {value: fig.supports_binary});\n",
       "            fig.send_message(\"send_image_mode\", {});\n",
       "            if (mpl.ratio != 1) {\n",
       "                fig.send_message(\"set_dpi_ratio\", {'dpi_ratio': mpl.ratio});\n",
       "            }\n",
       "            fig.send_message(\"refresh\", {});\n",
       "        }\n",
       "\n",
       "    this.imageObj.onload = function() {\n",
       "            if (fig.image_mode == 'full') {\n",
       "                // Full images could contain transparency (where diff images\n",
       "                // almost always do), so we need to clear the canvas so that\n",
       "                // there is no ghosting.\n",
       "                fig.context.clearRect(0, 0, fig.canvas.width, fig.canvas.height);\n",
       "            }\n",
       "            fig.context.drawImage(fig.imageObj, 0, 0);\n",
       "        };\n",
       "\n",
       "    this.imageObj.onunload = function() {\n",
       "        fig.ws.close();\n",
       "    }\n",
       "\n",
       "    this.ws.onmessage = this._make_on_message_function(this);\n",
       "\n",
       "    this.ondownload = ondownload;\n",
       "}\n",
       "\n",
       "mpl.figure.prototype._init_header = function() {\n",
       "    var titlebar = $(\n",
       "        '<div class=\"ui-dialog-titlebar ui-widget-header ui-corner-all ' +\n",
       "        'ui-helper-clearfix\"/>');\n",
       "    var titletext = $(\n",
       "        '<div class=\"ui-dialog-title\" style=\"width: 100%; ' +\n",
       "        'text-align: center; padding: 3px;\"/>');\n",
       "    titlebar.append(titletext)\n",
       "    this.root.append(titlebar);\n",
       "    this.header = titletext[0];\n",
       "}\n",
       "\n",
       "\n",
       "\n",
       "mpl.figure.prototype._canvas_extra_style = function(canvas_div) {\n",
       "\n",
       "}\n",
       "\n",
       "\n",
       "mpl.figure.prototype._root_extra_style = function(canvas_div) {\n",
       "\n",
       "}\n",
       "\n",
       "mpl.figure.prototype._init_canvas = function() {\n",
       "    var fig = this;\n",
       "\n",
       "    var canvas_div = $('<div/>');\n",
       "\n",
       "    canvas_div.attr('style', 'position: relative; clear: both; outline: 0');\n",
       "\n",
       "    function canvas_keyboard_event(event) {\n",
       "        return fig.key_event(event, event['data']);\n",
       "    }\n",
       "\n",
       "    canvas_div.keydown('key_press', canvas_keyboard_event);\n",
       "    canvas_div.keyup('key_release', canvas_keyboard_event);\n",
       "    this.canvas_div = canvas_div\n",
       "    this._canvas_extra_style(canvas_div)\n",
       "    this.root.append(canvas_div);\n",
       "\n",
       "    var canvas = $('<canvas/>');\n",
       "    canvas.addClass('mpl-canvas');\n",
       "    canvas.attr('style', \"left: 0; top: 0; z-index: 0; outline: 0\")\n",
       "\n",
       "    this.canvas = canvas[0];\n",
       "    this.context = canvas[0].getContext(\"2d\");\n",
       "\n",
       "    var backingStore = this.context.backingStorePixelRatio ||\n",
       "\tthis.context.webkitBackingStorePixelRatio ||\n",
       "\tthis.context.mozBackingStorePixelRatio ||\n",
       "\tthis.context.msBackingStorePixelRatio ||\n",
       "\tthis.context.oBackingStorePixelRatio ||\n",
       "\tthis.context.backingStorePixelRatio || 1;\n",
       "\n",
       "    mpl.ratio = (window.devicePixelRatio || 1) / backingStore;\n",
       "\n",
       "    var rubberband = $('<canvas/>');\n",
       "    rubberband.attr('style', \"position: absolute; left: 0; top: 0; z-index: 1;\")\n",
       "\n",
       "    var pass_mouse_events = true;\n",
       "\n",
       "    canvas_div.resizable({\n",
       "        start: function(event, ui) {\n",
       "            pass_mouse_events = false;\n",
       "        },\n",
       "        resize: function(event, ui) {\n",
       "            fig.request_resize(ui.size.width, ui.size.height);\n",
       "        },\n",
       "        stop: function(event, ui) {\n",
       "            pass_mouse_events = true;\n",
       "            fig.request_resize(ui.size.width, ui.size.height);\n",
       "        },\n",
       "    });\n",
       "\n",
       "    function mouse_event_fn(event) {\n",
       "        if (pass_mouse_events)\n",
       "            return fig.mouse_event(event, event['data']);\n",
       "    }\n",
       "\n",
       "    rubberband.mousedown('button_press', mouse_event_fn);\n",
       "    rubberband.mouseup('button_release', mouse_event_fn);\n",
       "    // Throttle sequential mouse events to 1 every 20ms.\n",
       "    rubberband.mousemove('motion_notify', mouse_event_fn);\n",
       "\n",
       "    rubberband.mouseenter('figure_enter', mouse_event_fn);\n",
       "    rubberband.mouseleave('figure_leave', mouse_event_fn);\n",
       "\n",
       "    canvas_div.on(\"wheel\", function (event) {\n",
       "        event = event.originalEvent;\n",
       "        event['data'] = 'scroll'\n",
       "        if (event.deltaY < 0) {\n",
       "            event.step = 1;\n",
       "        } else {\n",
       "            event.step = -1;\n",
       "        }\n",
       "        mouse_event_fn(event);\n",
       "    });\n",
       "\n",
       "    canvas_div.append(canvas);\n",
       "    canvas_div.append(rubberband);\n",
       "\n",
       "    this.rubberband = rubberband;\n",
       "    this.rubberband_canvas = rubberband[0];\n",
       "    this.rubberband_context = rubberband[0].getContext(\"2d\");\n",
       "    this.rubberband_context.strokeStyle = \"#000000\";\n",
       "\n",
       "    this._resize_canvas = function(width, height) {\n",
       "        // Keep the size of the canvas, canvas container, and rubber band\n",
       "        // canvas in synch.\n",
       "        canvas_div.css('width', width)\n",
       "        canvas_div.css('height', height)\n",
       "\n",
       "        canvas.attr('width', width * mpl.ratio);\n",
       "        canvas.attr('height', height * mpl.ratio);\n",
       "        canvas.attr('style', 'width: ' + width + 'px; height: ' + height + 'px;');\n",
       "\n",
       "        rubberband.attr('width', width);\n",
       "        rubberband.attr('height', height);\n",
       "    }\n",
       "\n",
       "    // Set the figure to an initial 600x600px, this will subsequently be updated\n",
       "    // upon first draw.\n",
       "    this._resize_canvas(600, 600);\n",
       "\n",
       "    // Disable right mouse context menu.\n",
       "    $(this.rubberband_canvas).bind(\"contextmenu\",function(e){\n",
       "        return false;\n",
       "    });\n",
       "\n",
       "    function set_focus () {\n",
       "        canvas.focus();\n",
       "        canvas_div.focus();\n",
       "    }\n",
       "\n",
       "    window.setTimeout(set_focus, 100);\n",
       "}\n",
       "\n",
       "mpl.figure.prototype._init_toolbar = function() {\n",
       "    var fig = this;\n",
       "\n",
       "    var nav_element = $('<div/>');\n",
       "    nav_element.attr('style', 'width: 100%');\n",
       "    this.root.append(nav_element);\n",
       "\n",
       "    // Define a callback function for later on.\n",
       "    function toolbar_event(event) {\n",
       "        return fig.toolbar_button_onclick(event['data']);\n",
       "    }\n",
       "    function toolbar_mouse_event(event) {\n",
       "        return fig.toolbar_button_onmouseover(event['data']);\n",
       "    }\n",
       "\n",
       "    for(var toolbar_ind in mpl.toolbar_items) {\n",
       "        var name = mpl.toolbar_items[toolbar_ind][0];\n",
       "        var tooltip = mpl.toolbar_items[toolbar_ind][1];\n",
       "        var image = mpl.toolbar_items[toolbar_ind][2];\n",
       "        var method_name = mpl.toolbar_items[toolbar_ind][3];\n",
       "\n",
       "        if (!name) {\n",
       "            // put a spacer in here.\n",
       "            continue;\n",
       "        }\n",
       "        var button = $('<button/>');\n",
       "        button.addClass('ui-button ui-widget ui-state-default ui-corner-all ' +\n",
       "                        'ui-button-icon-only');\n",
       "        button.attr('role', 'button');\n",
       "        button.attr('aria-disabled', 'false');\n",
       "        button.click(method_name, toolbar_event);\n",
       "        button.mouseover(tooltip, toolbar_mouse_event);\n",
       "\n",
       "        var icon_img = $('<span/>');\n",
       "        icon_img.addClass('ui-button-icon-primary ui-icon');\n",
       "        icon_img.addClass(image);\n",
       "        icon_img.addClass('ui-corner-all');\n",
       "\n",
       "        var tooltip_span = $('<span/>');\n",
       "        tooltip_span.addClass('ui-button-text');\n",
       "        tooltip_span.html(tooltip);\n",
       "\n",
       "        button.append(icon_img);\n",
       "        button.append(tooltip_span);\n",
       "\n",
       "        nav_element.append(button);\n",
       "    }\n",
       "\n",
       "    var fmt_picker_span = $('<span/>');\n",
       "\n",
       "    var fmt_picker = $('<select/>');\n",
       "    fmt_picker.addClass('mpl-toolbar-option ui-widget ui-widget-content');\n",
       "    fmt_picker_span.append(fmt_picker);\n",
       "    nav_element.append(fmt_picker_span);\n",
       "    this.format_dropdown = fmt_picker[0];\n",
       "\n",
       "    for (var ind in mpl.extensions) {\n",
       "        var fmt = mpl.extensions[ind];\n",
       "        var option = $(\n",
       "            '<option/>', {selected: fmt === mpl.default_extension}).html(fmt);\n",
       "        fmt_picker.append(option);\n",
       "    }\n",
       "\n",
       "    // Add hover states to the ui-buttons\n",
       "    $( \".ui-button\" ).hover(\n",
       "        function() { $(this).addClass(\"ui-state-hover\");},\n",
       "        function() { $(this).removeClass(\"ui-state-hover\");}\n",
       "    );\n",
       "\n",
       "    var status_bar = $('<span class=\"mpl-message\"/>');\n",
       "    nav_element.append(status_bar);\n",
       "    this.message = status_bar[0];\n",
       "}\n",
       "\n",
       "mpl.figure.prototype.request_resize = function(x_pixels, y_pixels) {\n",
       "    // Request matplotlib to resize the figure. Matplotlib will then trigger a resize in the client,\n",
       "    // which will in turn request a refresh of the image.\n",
       "    this.send_message('resize', {'width': x_pixels, 'height': y_pixels});\n",
       "}\n",
       "\n",
       "mpl.figure.prototype.send_message = function(type, properties) {\n",
       "    properties['type'] = type;\n",
       "    properties['figure_id'] = this.id;\n",
       "    this.ws.send(JSON.stringify(properties));\n",
       "}\n",
       "\n",
       "mpl.figure.prototype.send_draw_message = function() {\n",
       "    if (!this.waiting) {\n",
       "        this.waiting = true;\n",
       "        this.ws.send(JSON.stringify({type: \"draw\", figure_id: this.id}));\n",
       "    }\n",
       "}\n",
       "\n",
       "\n",
       "mpl.figure.prototype.handle_save = function(fig, msg) {\n",
       "    var format_dropdown = fig.format_dropdown;\n",
       "    var format = format_dropdown.options[format_dropdown.selectedIndex].value;\n",
       "    fig.ondownload(fig, format);\n",
       "}\n",
       "\n",
       "\n",
       "mpl.figure.prototype.handle_resize = function(fig, msg) {\n",
       "    var size = msg['size'];\n",
       "    if (size[0] != fig.canvas.width || size[1] != fig.canvas.height) {\n",
       "        fig._resize_canvas(size[0], size[1]);\n",
       "        fig.send_message(\"refresh\", {});\n",
       "    };\n",
       "}\n",
       "\n",
       "mpl.figure.prototype.handle_rubberband = function(fig, msg) {\n",
       "    var x0 = msg['x0'] / mpl.ratio;\n",
       "    var y0 = (fig.canvas.height - msg['y0']) / mpl.ratio;\n",
       "    var x1 = msg['x1'] / mpl.ratio;\n",
       "    var y1 = (fig.canvas.height - msg['y1']) / mpl.ratio;\n",
       "    x0 = Math.floor(x0) + 0.5;\n",
       "    y0 = Math.floor(y0) + 0.5;\n",
       "    x1 = Math.floor(x1) + 0.5;\n",
       "    y1 = Math.floor(y1) + 0.5;\n",
       "    var min_x = Math.min(x0, x1);\n",
       "    var min_y = Math.min(y0, y1);\n",
       "    var width = Math.abs(x1 - x0);\n",
       "    var height = Math.abs(y1 - y0);\n",
       "\n",
       "    fig.rubberband_context.clearRect(\n",
       "        0, 0, fig.canvas.width / mpl.ratio, fig.canvas.height / mpl.ratio);\n",
       "\n",
       "    fig.rubberband_context.strokeRect(min_x, min_y, width, height);\n",
       "}\n",
       "\n",
       "mpl.figure.prototype.handle_figure_label = function(fig, msg) {\n",
       "    // Updates the figure title.\n",
       "    fig.header.textContent = msg['label'];\n",
       "}\n",
       "\n",
       "mpl.figure.prototype.handle_cursor = function(fig, msg) {\n",
       "    var cursor = msg['cursor'];\n",
       "    switch(cursor)\n",
       "    {\n",
       "    case 0:\n",
       "        cursor = 'pointer';\n",
       "        break;\n",
       "    case 1:\n",
       "        cursor = 'default';\n",
       "        break;\n",
       "    case 2:\n",
       "        cursor = 'crosshair';\n",
       "        break;\n",
       "    case 3:\n",
       "        cursor = 'move';\n",
       "        break;\n",
       "    }\n",
       "    fig.rubberband_canvas.style.cursor = cursor;\n",
       "}\n",
       "\n",
       "mpl.figure.prototype.handle_message = function(fig, msg) {\n",
       "    fig.message.textContent = msg['message'];\n",
       "}\n",
       "\n",
       "mpl.figure.prototype.handle_draw = function(fig, msg) {\n",
       "    // Request the server to send over a new figure.\n",
       "    fig.send_draw_message();\n",
       "}\n",
       "\n",
       "mpl.figure.prototype.handle_image_mode = function(fig, msg) {\n",
       "    fig.image_mode = msg['mode'];\n",
       "}\n",
       "\n",
       "mpl.figure.prototype.updated_canvas_event = function() {\n",
       "    // Called whenever the canvas gets updated.\n",
       "    this.send_message(\"ack\", {});\n",
       "}\n",
       "\n",
       "// A function to construct a web socket function for onmessage handling.\n",
       "// Called in the figure constructor.\n",
       "mpl.figure.prototype._make_on_message_function = function(fig) {\n",
       "    return function socket_on_message(evt) {\n",
       "        if (evt.data instanceof Blob) {\n",
       "            /* FIXME: We get \"Resource interpreted as Image but\n",
       "             * transferred with MIME type text/plain:\" errors on\n",
       "             * Chrome.  But how to set the MIME type?  It doesn't seem\n",
       "             * to be part of the websocket stream */\n",
       "            evt.data.type = \"image/png\";\n",
       "\n",
       "            /* Free the memory for the previous frames */\n",
       "            if (fig.imageObj.src) {\n",
       "                (window.URL || window.webkitURL).revokeObjectURL(\n",
       "                    fig.imageObj.src);\n",
       "            }\n",
       "\n",
       "            fig.imageObj.src = (window.URL || window.webkitURL).createObjectURL(\n",
       "                evt.data);\n",
       "            fig.updated_canvas_event();\n",
       "            fig.waiting = false;\n",
       "            return;\n",
       "        }\n",
       "        else if (typeof evt.data === 'string' && evt.data.slice(0, 21) == \"data:image/png;base64\") {\n",
       "            fig.imageObj.src = evt.data;\n",
       "            fig.updated_canvas_event();\n",
       "            fig.waiting = false;\n",
       "            return;\n",
       "        }\n",
       "\n",
       "        var msg = JSON.parse(evt.data);\n",
       "        var msg_type = msg['type'];\n",
       "\n",
       "        // Call the  \"handle_{type}\" callback, which takes\n",
       "        // the figure and JSON message as its only arguments.\n",
       "        try {\n",
       "            var callback = fig[\"handle_\" + msg_type];\n",
       "        } catch (e) {\n",
       "            console.log(\"No handler for the '\" + msg_type + \"' message type: \", msg);\n",
       "            return;\n",
       "        }\n",
       "\n",
       "        if (callback) {\n",
       "            try {\n",
       "                // console.log(\"Handling '\" + msg_type + \"' message: \", msg);\n",
       "                callback(fig, msg);\n",
       "            } catch (e) {\n",
       "                console.log(\"Exception inside the 'handler_\" + msg_type + \"' callback:\", e, e.stack, msg);\n",
       "            }\n",
       "        }\n",
       "    };\n",
       "}\n",
       "\n",
       "// from http://stackoverflow.com/questions/1114465/getting-mouse-location-in-canvas\n",
       "mpl.findpos = function(e) {\n",
       "    //this section is from http://www.quirksmode.org/js/events_properties.html\n",
       "    var targ;\n",
       "    if (!e)\n",
       "        e = window.event;\n",
       "    if (e.target)\n",
       "        targ = e.target;\n",
       "    else if (e.srcElement)\n",
       "        targ = e.srcElement;\n",
       "    if (targ.nodeType == 3) // defeat Safari bug\n",
       "        targ = targ.parentNode;\n",
       "\n",
       "    // jQuery normalizes the pageX and pageY\n",
       "    // pageX,Y are the mouse positions relative to the document\n",
       "    // offset() returns the position of the element relative to the document\n",
       "    var x = e.pageX - $(targ).offset().left;\n",
       "    var y = e.pageY - $(targ).offset().top;\n",
       "\n",
       "    return {\"x\": x, \"y\": y};\n",
       "};\n",
       "\n",
       "/*\n",
       " * return a copy of an object with only non-object keys\n",
       " * we need this to avoid circular references\n",
       " * http://stackoverflow.com/a/24161582/3208463\n",
       " */\n",
       "function simpleKeys (original) {\n",
       "  return Object.keys(original).reduce(function (obj, key) {\n",
       "    if (typeof original[key] !== 'object')\n",
       "        obj[key] = original[key]\n",
       "    return obj;\n",
       "  }, {});\n",
       "}\n",
       "\n",
       "mpl.figure.prototype.mouse_event = function(event, name) {\n",
       "    var canvas_pos = mpl.findpos(event)\n",
       "\n",
       "    if (name === 'button_press')\n",
       "    {\n",
       "        this.canvas.focus();\n",
       "        this.canvas_div.focus();\n",
       "    }\n",
       "\n",
       "    var x = canvas_pos.x * mpl.ratio;\n",
       "    var y = canvas_pos.y * mpl.ratio;\n",
       "\n",
       "    this.send_message(name, {x: x, y: y, button: event.button,\n",
       "                             step: event.step,\n",
       "                             guiEvent: simpleKeys(event)});\n",
       "\n",
       "    /* This prevents the web browser from automatically changing to\n",
       "     * the text insertion cursor when the button is pressed.  We want\n",
       "     * to control all of the cursor setting manually through the\n",
       "     * 'cursor' event from matplotlib */\n",
       "    event.preventDefault();\n",
       "    return false;\n",
       "}\n",
       "\n",
       "mpl.figure.prototype._key_event_extra = function(event, name) {\n",
       "    // Handle any extra behaviour associated with a key event\n",
       "}\n",
       "\n",
       "mpl.figure.prototype.key_event = function(event, name) {\n",
       "\n",
       "    // Prevent repeat events\n",
       "    if (name == 'key_press')\n",
       "    {\n",
       "        if (event.which === this._key)\n",
       "            return;\n",
       "        else\n",
       "            this._key = event.which;\n",
       "    }\n",
       "    if (name == 'key_release')\n",
       "        this._key = null;\n",
       "\n",
       "    var value = '';\n",
       "    if (event.ctrlKey && event.which != 17)\n",
       "        value += \"ctrl+\";\n",
       "    if (event.altKey && event.which != 18)\n",
       "        value += \"alt+\";\n",
       "    if (event.shiftKey && event.which != 16)\n",
       "        value += \"shift+\";\n",
       "\n",
       "    value += 'k';\n",
       "    value += event.which.toString();\n",
       "\n",
       "    this._key_event_extra(event, name);\n",
       "\n",
       "    this.send_message(name, {key: value,\n",
       "                             guiEvent: simpleKeys(event)});\n",
       "    return false;\n",
       "}\n",
       "\n",
       "mpl.figure.prototype.toolbar_button_onclick = function(name) {\n",
       "    if (name == 'download') {\n",
       "        this.handle_save(this, null);\n",
       "    } else {\n",
       "        this.send_message(\"toolbar_button\", {name: name});\n",
       "    }\n",
       "};\n",
       "\n",
       "mpl.figure.prototype.toolbar_button_onmouseover = function(tooltip) {\n",
       "    this.message.textContent = tooltip;\n",
       "};\n",
       "mpl.toolbar_items = [[\"Home\", \"Reset original view\", \"fa fa-home icon-home\", \"home\"], [\"Back\", \"Back to previous view\", \"fa fa-arrow-left icon-arrow-left\", \"back\"], [\"Forward\", \"Forward to next view\", \"fa fa-arrow-right icon-arrow-right\", \"forward\"], [\"\", \"\", \"\", \"\"], [\"Pan\", \"Pan axes with left mouse, zoom with right\", \"fa fa-arrows icon-move\", \"pan\"], [\"Zoom\", \"Zoom to rectangle\", \"fa fa-square-o icon-check-empty\", \"zoom\"], [\"\", \"\", \"\", \"\"], [\"Download\", \"Download plot\", \"fa fa-floppy-o icon-save\", \"download\"]];\n",
       "\n",
       "mpl.extensions = [\"eps\", \"jpeg\", \"pdf\", \"png\", \"ps\", \"raw\", \"svg\", \"tif\"];\n",
       "\n",
       "mpl.default_extension = \"png\";var comm_websocket_adapter = function(comm) {\n",
       "    // Create a \"websocket\"-like object which calls the given IPython comm\n",
       "    // object with the appropriate methods. Currently this is a non binary\n",
       "    // socket, so there is still some room for performance tuning.\n",
       "    var ws = {};\n",
       "\n",
       "    ws.close = function() {\n",
       "        comm.close()\n",
       "    };\n",
       "    ws.send = function(m) {\n",
       "        //console.log('sending', m);\n",
       "        comm.send(m);\n",
       "    };\n",
       "    // Register the callback with on_msg.\n",
       "    comm.on_msg(function(msg) {\n",
       "        //console.log('receiving', msg['content']['data'], msg);\n",
       "        // Pass the mpl event to the overridden (by mpl) onmessage function.\n",
       "        ws.onmessage(msg['content']['data'])\n",
       "    });\n",
       "    return ws;\n",
       "}\n",
       "\n",
       "mpl.mpl_figure_comm = function(comm, msg) {\n",
       "    // This is the function which gets called when the mpl process\n",
       "    // starts-up an IPython Comm through the \"matplotlib\" channel.\n",
       "\n",
       "    var id = msg.content.data.id;\n",
       "    // Get hold of the div created by the display call when the Comm\n",
       "    // socket was opened in Python.\n",
       "    var element = $(\"#\" + id);\n",
       "    var ws_proxy = comm_websocket_adapter(comm)\n",
       "\n",
       "    function ondownload(figure, format) {\n",
       "        window.open(figure.imageObj.src);\n",
       "    }\n",
       "\n",
       "    var fig = new mpl.figure(id, ws_proxy,\n",
       "                           ondownload,\n",
       "                           element.get(0));\n",
       "\n",
       "    // Call onopen now - mpl needs it, as it is assuming we've passed it a real\n",
       "    // web socket which is closed, not our websocket->open comm proxy.\n",
       "    ws_proxy.onopen();\n",
       "\n",
       "    fig.parent_element = element.get(0);\n",
       "    fig.cell_info = mpl.find_output_cell(\"<div id='\" + id + \"'></div>\");\n",
       "    if (!fig.cell_info) {\n",
       "        console.error(\"Failed to find cell for figure\", id, fig);\n",
       "        return;\n",
       "    }\n",
       "\n",
       "    var output_index = fig.cell_info[2]\n",
       "    var cell = fig.cell_info[0];\n",
       "\n",
       "};\n",
       "\n",
       "mpl.figure.prototype.handle_close = function(fig, msg) {\n",
       "    var width = fig.canvas.width/mpl.ratio\n",
       "    fig.root.unbind('remove')\n",
       "\n",
       "    // Update the output cell to use the data from the current canvas.\n",
       "    fig.push_to_output();\n",
       "    var dataURL = fig.canvas.toDataURL();\n",
       "    // Re-enable the keyboard manager in IPython - without this line, in FF,\n",
       "    // the notebook keyboard shortcuts fail.\n",
       "    IPython.keyboard_manager.enable()\n",
       "    $(fig.parent_element).html('<img src=\"' + dataURL + '\" width=\"' + width + '\">');\n",
       "    fig.close_ws(fig, msg);\n",
       "}\n",
       "\n",
       "mpl.figure.prototype.close_ws = function(fig, msg){\n",
       "    fig.send_message('closing', msg);\n",
       "    // fig.ws.close()\n",
       "}\n",
       "\n",
       "mpl.figure.prototype.push_to_output = function(remove_interactive) {\n",
       "    // Turn the data on the canvas into data in the output cell.\n",
       "    var width = this.canvas.width/mpl.ratio\n",
       "    var dataURL = this.canvas.toDataURL();\n",
       "    this.cell_info[1]['text/html'] = '<img src=\"' + dataURL + '\" width=\"' + width + '\">';\n",
       "}\n",
       "\n",
       "mpl.figure.prototype.updated_canvas_event = function() {\n",
       "    // Tell IPython that the notebook contents must change.\n",
       "    IPython.notebook.set_dirty(true);\n",
       "    this.send_message(\"ack\", {});\n",
       "    var fig = this;\n",
       "    // Wait a second, then push the new image to the DOM so\n",
       "    // that it is saved nicely (might be nice to debounce this).\n",
       "    setTimeout(function () { fig.push_to_output() }, 1000);\n",
       "}\n",
       "\n",
       "mpl.figure.prototype._init_toolbar = function() {\n",
       "    var fig = this;\n",
       "\n",
       "    var nav_element = $('<div/>');\n",
       "    nav_element.attr('style', 'width: 100%');\n",
       "    this.root.append(nav_element);\n",
       "\n",
       "    // Define a callback function for later on.\n",
       "    function toolbar_event(event) {\n",
       "        return fig.toolbar_button_onclick(event['data']);\n",
       "    }\n",
       "    function toolbar_mouse_event(event) {\n",
       "        return fig.toolbar_button_onmouseover(event['data']);\n",
       "    }\n",
       "\n",
       "    for(var toolbar_ind in mpl.toolbar_items){\n",
       "        var name = mpl.toolbar_items[toolbar_ind][0];\n",
       "        var tooltip = mpl.toolbar_items[toolbar_ind][1];\n",
       "        var image = mpl.toolbar_items[toolbar_ind][2];\n",
       "        var method_name = mpl.toolbar_items[toolbar_ind][3];\n",
       "\n",
       "        if (!name) { continue; };\n",
       "\n",
       "        var button = $('<button class=\"btn btn-default\" href=\"#\" title=\"' + name + '\"><i class=\"fa ' + image + ' fa-lg\"></i></button>');\n",
       "        button.click(method_name, toolbar_event);\n",
       "        button.mouseover(tooltip, toolbar_mouse_event);\n",
       "        nav_element.append(button);\n",
       "    }\n",
       "\n",
       "    // Add the status bar.\n",
       "    var status_bar = $('<span class=\"mpl-message\" style=\"text-align:right; float: right;\"/>');\n",
       "    nav_element.append(status_bar);\n",
       "    this.message = status_bar[0];\n",
       "\n",
       "    // Add the close button to the window.\n",
       "    var buttongrp = $('<div class=\"btn-group inline pull-right\"></div>');\n",
       "    var button = $('<button class=\"btn btn-mini btn-primary\" href=\"#\" title=\"Stop Interaction\"><i class=\"fa fa-power-off icon-remove icon-large\"></i></button>');\n",
       "    button.click(function (evt) { fig.handle_close(fig, {}); } );\n",
       "    button.mouseover('Stop Interaction', toolbar_mouse_event);\n",
       "    buttongrp.append(button);\n",
       "    var titlebar = this.root.find($('.ui-dialog-titlebar'));\n",
       "    titlebar.prepend(buttongrp);\n",
       "}\n",
       "\n",
       "mpl.figure.prototype._root_extra_style = function(el){\n",
       "    var fig = this\n",
       "    el.on(\"remove\", function(){\n",
       "\tfig.close_ws(fig, {});\n",
       "    });\n",
       "}\n",
       "\n",
       "mpl.figure.prototype._canvas_extra_style = function(el){\n",
       "    // this is important to make the div 'focusable\n",
       "    el.attr('tabindex', 0)\n",
       "    // reach out to IPython and tell the keyboard manager to turn it's self\n",
       "    // off when our div gets focus\n",
       "\n",
       "    // location in version 3\n",
       "    if (IPython.notebook.keyboard_manager) {\n",
       "        IPython.notebook.keyboard_manager.register_events(el);\n",
       "    }\n",
       "    else {\n",
       "        // location in version 2\n",
       "        IPython.keyboard_manager.register_events(el);\n",
       "    }\n",
       "\n",
       "}\n",
       "\n",
       "mpl.figure.prototype._key_event_extra = function(event, name) {\n",
       "    var manager = IPython.notebook.keyboard_manager;\n",
       "    if (!manager)\n",
       "        manager = IPython.keyboard_manager;\n",
       "\n",
       "    // Check for shift+enter\n",
       "    if (event.shiftKey && event.which == 13) {\n",
       "        this.canvas_div.blur();\n",
       "        // select the cell after this one\n",
       "        var index = IPython.notebook.find_cell_index(this.cell_info[0]);\n",
       "        IPython.notebook.select(index + 1);\n",
       "    }\n",
       "}\n",
       "\n",
       "mpl.figure.prototype.handle_save = function(fig, msg) {\n",
       "    fig.ondownload(fig, null);\n",
       "}\n",
       "\n",
       "\n",
       "mpl.find_output_cell = function(html_output) {\n",
       "    // Return the cell and output element which can be found *uniquely* in the notebook.\n",
       "    // Note - this is a bit hacky, but it is done because the \"notebook_saving.Notebook\"\n",
       "    // IPython event is triggered only after the cells have been serialised, which for\n",
       "    // our purposes (turning an active figure into a static one), is too late.\n",
       "    var cells = IPython.notebook.get_cells();\n",
       "    var ncells = cells.length;\n",
       "    for (var i=0; i<ncells; i++) {\n",
       "        var cell = cells[i];\n",
       "        if (cell.cell_type === 'code'){\n",
       "            for (var j=0; j<cell.output_area.outputs.length; j++) {\n",
       "                var data = cell.output_area.outputs[j];\n",
       "                if (data.data) {\n",
       "                    // IPython >= 3 moved mimebundle to data attribute of output\n",
       "                    data = data.data;\n",
       "                }\n",
       "                if (data['text/html'] == html_output) {\n",
       "                    return [cell, data, j];\n",
       "                }\n",
       "            }\n",
       "        }\n",
       "    }\n",
       "}\n",
       "\n",
       "// Register the function which deals with the matplotlib target/channel.\n",
       "// The kernel may be null if the page has been refreshed.\n",
       "if (IPython.notebook.kernel != null) {\n",
       "    IPython.notebook.kernel.comm_manager.register_target('matplotlib', mpl.mpl_figure_comm);\n",
       "}\n"
      ],
      "text/plain": [
       "<IPython.core.display.Javascript object>"
      ]
     },
     "metadata": {},
     "output_type": "display_data"
    },
    {
     "data": {
      "text/html": [
       "<img src=\"data:image/png;base64,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\" width=\"640\">"
      ],
      "text/plain": [
       "<IPython.core.display.HTML object>"
      ]
     },
     "metadata": {},
     "output_type": "display_data"
    }
   ],
   "source": [
    "%matplotlib notebook\n",
    "plt.hist(Surr_X.flatten(),bins=100)\n",
    "plt.hist(Real_X.flatten(),bins=100)\n",
    "plt.show()"
   ]
  }
 ],
 "metadata": {
  "kernelspec": {
   "display_name": "Python 3",
   "language": "python",
   "name": "python3"
  },
  "language_info": {
   "codemirror_mode": {
    "name": "ipython",
    "version": 3
   },
   "file_extension": ".py",
   "mimetype": "text/x-python",
   "name": "python",
   "nbconvert_exporter": "python",
   "pygments_lexer": "ipython3",
   "version": "3.8.3"
  }
 },
 "nbformat": 4,
 "nbformat_minor": 2
}
