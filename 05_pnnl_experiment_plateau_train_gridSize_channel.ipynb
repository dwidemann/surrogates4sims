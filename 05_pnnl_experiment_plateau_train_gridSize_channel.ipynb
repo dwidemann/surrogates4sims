{
 "cells": [
  {
   "cell_type": "markdown",
   "metadata": {},
   "source": [
    "## This code trains an encoder/decoder for 1 channel of the pnnl datasets.\n",
    "\n",
    "Make sure the channel is set:\n",
    "\n",
    "channel = 0,1,2,3 = velocity_x, velocity_y, volume_frac, pressure\n",
    "\n",
    "train/test sets can be any ordering of these. \n",
    "\n",
    "trainSims = ['001', '050']\n",
    "\n",
    "testSims = ['025']\n"
   ]
  },
  {
   "cell_type": "markdown",
   "metadata": {},
   "source": [
    "## Imports"
   ]
  },
  {
   "cell_type": "code",
   "execution_count": null,
   "metadata": {},
   "outputs": [],
   "source": [
    "# EXPORT\n",
    "# --- Must haves ---\n",
    "import os, sys\n",
    "sys.path.append('..')\n",
    "\n",
    "import torch\n",
    "from torch.utils.data import Dataset, DataLoader\n",
    "from torch.utils.tensorboard import SummaryWriter\n",
    "import torch.cuda as cuda\n",
    "import torch.nn as nn\n",
    "import torchvision\n",
    "import torch.nn.functional as F\n",
    "\n",
    "from surrogates4sims.pnnlDatasets import CCSI_2D\n",
    "\n",
    "from surrogates4sims.utils import create_opt, create_one_cycle, find_lr, printNumModelParams, \\\n",
    "                                    rmse, writeMessage, plotSampleWprediction, plotSampleWpredictionByChannel, \\\n",
    "                                    plotSample, curl, jacobian, stream2uv, convertSimToImage, pkl_save, pkl_load\n",
    "\n",
    "from surrogates4sims.models import Generator, Encoder, AE_no_P, AE_xhat_z, AE_xhat_zV2\n",
    "\n",
    "import numpy as np\n",
    "from tqdm import tqdm\n",
    "from copy import deepcopy\n",
    "import matplotlib.pyplot as plt"
   ]
  },
  {
   "cell_type": "markdown",
   "metadata": {},
   "source": [
    "## Settings"
   ]
  },
  {
   "cell_type": "code",
   "execution_count": null,
   "metadata": {},
   "outputs": [
    {
     "data": {
      "text/plain": [
       "'pnnl_plateau_train_GPUs1_channel1_gridSize128_latentDim1000_filters128_bz16_numConv2_jacobianFalse_epochs1000_stackTrue'"
      ]
     },
     "execution_count": null,
     "metadata": {},
     "output_type": "execute_result"
    }
   ],
   "source": [
    "DEBUG = False\n",
    "# model name, for tensorboard recording and checkpointing purposes.\n",
    "versionName = \"pnnl_plateau_train\"\n",
    "\n",
    "# GPU Numbers to use. Comma seprate them for multi-GPUs.\n",
    "gpu_ids = \"1\"\n",
    "versionName = versionName + '_GPUs{}'.format(gpu_ids.replace(',',''))\n",
    "# path to load model weights.\n",
    "pretrained_path = None\n",
    "\n",
    "# rate at which to record metrics. (number of batches to average over when recording metrics, e.g. \"every 5 batches\")\n",
    "tensorboard_rate = 5\n",
    "\n",
    "# number of epochs to train. This is defined here so we can use the OneCycle LR Scheduler.\n",
    "epochs = 1000\n",
    "\n",
    "# Data Directory\n",
    "dataDirec = '/data/ccsi/PNNLTimeStepData/'\n",
    "channel = 1\n",
    "gridSize = 128\n",
    "interpMethod = 'linear'\n",
    "trainSims = ['001', '050']\n",
    "testSims = ['025']\n",
    "preprocess = False # keep this as false until using the long runtime loader\n",
    "\n",
    "# checkpoint directory\n",
    "cps = 'cps'\n",
    "tensorboard_direc = \"tb\"\n",
    "\n",
    "findLRs = True  \n",
    "\n",
    "# hyper-params\n",
    "seed = 1234\n",
    "np.random.seed(seed)\n",
    "bz = 16\n",
    "numSamplesToKeep = np.infty #if not debugging\n",
    "latentDim = 1000\n",
    "filters = 128\n",
    "num_conv = 2 # breaks when less than 2\n",
    "simLen = 500\n",
    "stack = True\n",
    "doJacobian = False\n",
    "createStreamFcn = False\n",
    "repeat = 0\n",
    "skip_connection = False\n",
    "patience = 2\n",
    "if DEBUG:\n",
    "    epochs = 2\n",
    "    numSamplesToKeep = bz\n",
    "    \n",
    "versionName = versionName + '_channel{}_gridSize{}_latentDim{}_filters{}_bz{}_numConv{}_jacobian{}_epochs{}_stack{}'.format(channel,gridSize,latentDim,filters,bz,num_conv,doJacobian,epochs,stack)\n",
    "versionName"
   ]
  },
  {
   "cell_type": "markdown",
   "metadata": {},
   "source": [
    "### Select Personal GPUs"
   ]
  },
  {
   "cell_type": "code",
   "execution_count": null,
   "metadata": {},
   "outputs": [
    {
     "name": "stdout",
     "output_type": "stream",
     "text": [
      "Sun Sep 20 15:13:58 2020       \r\n",
      "+-----------------------------------------------------------------------------+\r\n",
      "| NVIDIA-SMI 430.40       Driver Version: 430.40       CUDA Version: 10.1     |\r\n",
      "|-------------------------------+----------------------+----------------------+\r\n",
      "| GPU  Name        Persistence-M| Bus-Id        Disp.A | Volatile Uncorr. ECC |\r\n",
      "| Fan  Temp  Perf  Pwr:Usage/Cap|         Memory-Usage | GPU-Util  Compute M. |\r\n",
      "|===============================+======================+======================|\r\n",
      "|   0  TITAN Xp            On   | 00000000:02:00.0 Off |                  N/A |\r\n",
      "| 23%   18C    P8     8W / 250W |   2571MiB / 12196MiB |      0%      Default |\r\n",
      "+-------------------------------+----------------------+----------------------+\r\n",
      "|   1  TITAN Xp            On   | 00000000:03:00.0 Off |                  N/A |\r\n",
      "| 23%   18C    P8     8W / 250W |     11MiB / 12196MiB |      0%      Default |\r\n",
      "+-------------------------------+----------------------+----------------------+\r\n",
      "|   2  TITAN Xp            On   | 00000000:81:00.0 Off |                  N/A |\r\n",
      "| 23%   19C    P8     8W / 250W |     11MiB / 12196MiB |      0%      Default |\r\n",
      "+-------------------------------+----------------------+----------------------+\r\n",
      "|   3  TITAN Xp            On   | 00000000:82:00.0 Off |                  N/A |\r\n",
      "| 23%   18C    P8     8W / 250W |     11MiB / 12196MiB |      0%      Default |\r\n",
      "+-------------------------------+----------------------+----------------------+\r\n",
      "                                                                               \r\n",
      "+-----------------------------------------------------------------------------+\r\n",
      "| Processes:                                                       GPU Memory |\r\n",
      "|  GPU       PID   Type   Process name                             Usage      |\r\n",
      "|=============================================================================|\r\n",
      "|    0      2810      C   ...iverasoto1/repos/HP1/HP1_env/bin/python  2061MiB |\r\n",
      "|    0      9718      C   ...emann1/anaconda3/envs/torch2/bin/python   499MiB |\r\n",
      "+-----------------------------------------------------------------------------+\r\n"
     ]
    }
   ],
   "source": [
    "!nvidia-smi"
   ]
  },
  {
   "cell_type": "code",
   "execution_count": null,
   "metadata": {},
   "outputs": [],
   "source": [
    "os.environ[\"CUDA_DEVICE_ORDER\"]=\"PCI_BUS_ID\"   # see issue #152\n",
    "os.environ[\"CUDA_VISIBLE_DEVICES\"]=gpu_ids"
   ]
  },
  {
   "cell_type": "code",
   "execution_count": null,
   "metadata": {},
   "outputs": [
    {
     "name": "stdout",
     "output_type": "stream",
     "text": [
      "Using device: cuda\n"
     ]
    }
   ],
   "source": [
    "device = torch.device('cuda' if torch.cuda.is_available() else 'cpu')\n",
    "print('Using device:', device)"
   ]
  },
  {
   "cell_type": "code",
   "execution_count": null,
   "metadata": {},
   "outputs": [
    {
     "name": "stdout",
     "output_type": "stream",
     "text": [
      "True\n",
      "1\n",
      "0\n",
      "TITAN Xp\n"
     ]
    }
   ],
   "source": [
    "if device.type == 'cuda':\n",
    "    print(cuda.is_available())\n",
    "    print(cuda.device_count())\n",
    "    print(cuda.current_device())\n",
    "    print(cuda.get_device_name())"
   ]
  },
  {
   "cell_type": "code",
   "execution_count": null,
   "metadata": {},
   "outputs": [
    {
     "name": "stdout",
     "output_type": "stream",
     "text": [
      "Sun Sep 20 15:14:30 2020       \r\n",
      "+-----------------------------------------------------------------------------+\r\n",
      "| NVIDIA-SMI 430.40       Driver Version: 430.40       CUDA Version: 10.1     |\r\n",
      "|-------------------------------+----------------------+----------------------+\r\n",
      "| GPU  Name        Persistence-M| Bus-Id        Disp.A | Volatile Uncorr. ECC |\r\n",
      "| Fan  Temp  Perf  Pwr:Usage/Cap|         Memory-Usage | GPU-Util  Compute M. |\r\n",
      "|===============================+======================+======================|\r\n",
      "|   0  TITAN Xp            On   | 00000000:02:00.0 Off |                  N/A |\r\n",
      "| 23%   18C    P8     8W / 250W |   2571MiB / 12196MiB |      0%      Default |\r\n",
      "+-------------------------------+----------------------+----------------------+\r\n",
      "|   1  TITAN Xp            On   | 00000000:03:00.0 Off |                  N/A |\r\n",
      "| 23%   21C    P2    59W / 250W |    510MiB / 12196MiB |      7%      Default |\r\n",
      "+-------------------------------+----------------------+----------------------+\r\n",
      "|   2  TITAN Xp            On   | 00000000:81:00.0 Off |                  N/A |\r\n",
      "| 23%   19C    P8     8W / 250W |     11MiB / 12196MiB |      0%      Default |\r\n",
      "+-------------------------------+----------------------+----------------------+\r\n",
      "|   3  TITAN Xp            On   | 00000000:82:00.0 Off |                  N/A |\r\n",
      "| 23%   18C    P8     8W / 250W |     11MiB / 12196MiB |      0%      Default |\r\n",
      "+-------------------------------+----------------------+----------------------+\r\n",
      "                                                                               \r\n",
      "+-----------------------------------------------------------------------------+\r\n",
      "| Processes:                                                       GPU Memory |\r\n",
      "|  GPU       PID   Type   Process name                             Usage      |\r\n",
      "|=============================================================================|\r\n",
      "|    0      2810      C   ...iverasoto1/repos/HP1/HP1_env/bin/python  2061MiB |\r\n",
      "|    0      9718      C   ...emann1/anaconda3/envs/torch2/bin/python   499MiB |\r\n",
      "|    1      9378      C   ...emann1/anaconda3/envs/torch2/bin/python   499MiB |\r\n",
      "+-----------------------------------------------------------------------------+\r\n"
     ]
    }
   ],
   "source": [
    "a = torch.zeros(5, device=device.type)\n",
    "!nvidia-smi"
   ]
  },
  {
   "cell_type": "markdown",
   "metadata": {},
   "source": [
    "## Datasets & Loaders"
   ]
  },
  {
   "cell_type": "code",
   "execution_count": null,
   "metadata": {},
   "outputs": [
    {
     "name": "stdout",
     "output_type": "stream",
     "text": [
      "001\n",
      "050\n",
      "(1000, 1, 128, 128) (128, 128) (128, 128)\n"
     ]
    },
    {
     "data": {
      "text/plain": [
       "1000"
      ]
     },
     "execution_count": null,
     "metadata": {},
     "output_type": "execute_result"
    }
   ],
   "source": [
    "# get the training data\n",
    "data = []\n",
    "for s in trainSims:\n",
    "    print(s)\n",
    "    fn = os.path.join(dataDirec,'data_{}x{}_{}'.format(gridSize,gridSize,interpMethod),s+'.pkl')\n",
    "    D = CCSI_2D(fn,preprocess=preprocess,channel=channel)\n",
    "    dl = DataLoader(D,batch_size=len(D))\n",
    "    X,X = next(iter(dl))\n",
    "    data.append(X)\n",
    "data = np.concatenate(data)\n",
    "print(data.shape, D.grid_x.shape, D.grid_y.shape)\n",
    "trainDataset = {'data':data, 'grid_x':D.grid_x, 'grid_y':D.grid_y}\n",
    "pkl_save(trainDataset,'tmp.pkl')\n",
    "trainDataset = CCSI_2D('tmp.pkl',numToKeep=numSamplesToKeep, preprocess=preprocess) \n",
    "len(trainDataset)"
   ]
  },
  {
   "cell_type": "code",
   "execution_count": null,
   "metadata": {},
   "outputs": [
    {
     "data": {
      "text/plain": [
       "500"
      ]
     },
     "execution_count": null,
     "metadata": {},
     "output_type": "execute_result"
    }
   ],
   "source": [
    "# get the test data\n",
    "fn = os.path.join(dataDirec,'data_{}x{}_{}'.format(gridSize,gridSize,interpMethod),testSims[0]+'.pkl')\n",
    "testDataset =  CCSI_2D(fn,preprocess=preprocess,numToKeep=numSamplesToKeep,channel=channel)\n",
    "len(testDataset)"
   ]
  },
  {
   "cell_type": "code",
   "execution_count": null,
   "metadata": {},
   "outputs": [
    {
     "data": {
      "text/plain": [
       "(62, 32)"
      ]
     },
     "execution_count": null,
     "metadata": {},
     "output_type": "execute_result"
    }
   ],
   "source": [
    "trainDataLoader = DataLoader(dataset=trainDataset, batch_size=bz, shuffle=True, drop_last=True)\n",
    "testDataLoader = DataLoader(dataset=testDataset, batch_size=bz)\n",
    "len(trainDataLoader), len(testDataLoader)"
   ]
  },
  {
   "cell_type": "markdown",
   "metadata": {},
   "source": [
    "## Model"
   ]
  },
  {
   "cell_type": "markdown",
   "metadata": {},
   "source": [
    "Currently, the models need to take data to be built. It's kinda weird. I may look into fix this later. "
   ]
  },
  {
   "cell_type": "code",
   "execution_count": null,
   "metadata": {},
   "outputs": [
    {
     "data": {
      "text/plain": [
       "torch.Size([16, 1, 128, 128])"
      ]
     },
     "execution_count": null,
     "metadata": {},
     "output_type": "execute_result"
    }
   ],
   "source": [
    "X,X = next(iter(trainDataLoader))\n",
    "X = X.to(device)\n",
    "X.shape"
   ]
  },
  {
   "cell_type": "code",
   "execution_count": null,
   "metadata": {},
   "outputs": [],
   "source": [
    "model = AE_xhat_zV2(X, filters, latentDim, num_conv, repeat, \n",
    "                 skip_connection, stack, conv_k=3, last_k=3, \n",
    "                 act=nn.LeakyReLU(), return_z=True, stream=createStreamFcn, device=device)\n",
    "\n",
    "if len(gpu_ids.split(',')) > 1:\n",
    "    model = nn.DataParallel(model)"
   ]
  },
  {
   "cell_type": "code",
   "execution_count": null,
   "metadata": {},
   "outputs": [
    {
     "name": "stdout",
     "output_type": "stream",
     "text": [
      "82 layers require gradients (unfrozen) out of 82 layers\n",
      "26,253,545 parameters require gradients (unfrozen) out of 26,253,545 parameters\n"
     ]
    }
   ],
   "source": [
    "printNumModelParams(model)"
   ]
  },
  {
   "cell_type": "code",
   "execution_count": null,
   "metadata": {},
   "outputs": [
    {
     "data": {
      "text/plain": [
       "(torch.Size([16, 1, 128, 128]), torch.Size([16, 1000]))"
      ]
     },
     "execution_count": null,
     "metadata": {},
     "output_type": "execute_result"
    }
   ],
   "source": [
    "Xhat,z = model(X)\n",
    "Xhat.shape, z.shape"
   ]
  },
  {
   "cell_type": "markdown",
   "metadata": {},
   "source": [
    "## Loss Function"
   ]
  },
  {
   "cell_type": "code",
   "execution_count": null,
   "metadata": {},
   "outputs": [],
   "source": [
    "def L1_loss(pred, target):\n",
    "    return torch.mean(torch.abs(pred - target))\n",
    "\n",
    "\n",
    "def jacobian_loss(pred, target, device='cpu'):\n",
    "    return L1_loss(jacobian(pred, device), jacobian(target, device))\n",
    "\n",
    "\n",
    "def curl_loss(pred, target, device):\n",
    "    return L1_loss(curl(pred, device), curl(target, device))\n",
    "\n",
    "\n",
    "L = nn.MSELoss()\n",
    "\n",
    "\n",
    "def p_loss(pred, target):\n",
    "    return L(pred[:, -target.shape[1]:], target)\n",
    "\n",
    "\n",
    "def loss(pred, target, device):\n",
    "    \n",
    "    if createStreamFcn:\n",
    "        pred = stream2uv(pred, device)\n",
    "        \n",
    "    L1 = L1_loss(pred, target)\n",
    "    Lj = 0\n",
    "    if doJacobian:\n",
    "        Lj = jacobian_loss(pred, target, device)\n",
    "        \n",
    "    return L1 + Lj"
   ]
  },
  {
   "cell_type": "code",
   "execution_count": null,
   "metadata": {},
   "outputs": [
    {
     "data": {
      "text/plain": [
       "torch.Size([16, 2, 128, 128])"
      ]
     },
     "execution_count": null,
     "metadata": {},
     "output_type": "execute_result"
    }
   ],
   "source": [
    "pred = stream2uv(Xhat,device)\n",
    "pred.shape"
   ]
  },
  {
   "cell_type": "code",
   "execution_count": null,
   "metadata": {},
   "outputs": [
    {
     "data": {
      "text/plain": [
       "tensor(0.0679, device='cuda:0', grad_fn=<AddBackward0>)"
      ]
     },
     "execution_count": null,
     "metadata": {},
     "output_type": "execute_result"
    }
   ],
   "source": [
    "loss(pred,X,device)"
   ]
  },
  {
   "cell_type": "markdown",
   "metadata": {},
   "source": [
    "## Set LR"
   ]
  },
  {
   "cell_type": "code",
   "execution_count": null,
   "metadata": {},
   "outputs": [
    {
     "data": {
      "application/vnd.jupyter.widget-view+json": {
       "model_id": "4eed08bdba424fb0abd931fe15215260",
       "version_major": 2,
       "version_minor": 0
      },
      "text/plain": [
       "HBox(children=(IntProgress(value=0, max=200), HTML(value='')))"
      ]
     },
     "metadata": {},
     "output_type": "display_data"
    },
    {
     "name": "stdout",
     "output_type": "stream",
     "text": [
      "Stopping early, the loss has diverged\n",
      "Learning rate search finished. See the graph with {finder_name}.plot()\n"
     ]
    },
    {
     "data": {
      "image/png": "[encoded data removed]",
      "text/plain": [
       "<Figure size 432x288 with 1 Axes>"
      ]
     },
     "metadata": {
      "needs_background": "light"
     },
     "output_type": "display_data"
    }
   ],
   "source": [
    "if findLRs and (len(gpu_ids.split(','))==1): # doesn't work for multigpu???\n",
    "    model.return_z = False\n",
    "    opt = create_opt(1e-7,model)\n",
    "    find_lr(model,opt,L,device,trainDataLoader)\n",
    "    model.return_z = True"
   ]
  },
  {
   "cell_type": "code",
   "execution_count": null,
   "metadata": {},
   "outputs": [],
   "source": [
    "max_lr = .0001\n",
    "start_lr = 5*max_lr/10\n",
    "#opt = create_opt(max_lr,model)\n",
    "#lr_scheduler = create_one_cycle(opt,max_lr,epochs,trainDataLoader)\n",
    "opt = torch.optim.Adam(model.parameters(),lr=max_lr,betas=(.5,.999))\n",
    "lr_scheduler = torch.optim.lr_scheduler.ReduceLROnPlateau(opt,patience=patience)"
   ]
  },
  {
   "cell_type": "code",
   "execution_count": null,
   "metadata": {},
   "outputs": [],
   "source": [
    "versionName = versionName + '_lr{}'.format(str(max_lr))"
   ]
  },
  {
   "cell_type": "markdown",
   "metadata": {},
   "source": [
    "## Train"
   ]
  },
  {
   "cell_type": "code",
   "execution_count": null,
   "metadata": {},
   "outputs": [],
   "source": [
    "def trainEpoch(myDataLoader, tensorboard_writer, model, opt, p_loss, loss,\n",
    "               metric, lr_scheduler, tensorboard_rate, device,\n",
    "               tensorboard_recorder_step, total_steps):\n",
    "    running_loss = 0.0\n",
    "    running_rmse = 0.0\n",
    "    total_loss = 0.0\n",
    "    running_ploss = 0.0\n",
    "    for i, sampleBatch in enumerate(myDataLoader, start=1):\n",
    "\n",
    "        # --- Main Training ---\n",
    "        \n",
    "        # gpu\n",
    "        #X,p = sampleBatch[0],sampleBatch[1]\n",
    "        X = sampleBatch[0]\n",
    "        X = X.to(device)\n",
    "        #p = p.to(device)\n",
    "\n",
    "        # zero the parameter gradients\n",
    "        opt.zero_grad()\n",
    "\n",
    "        X_hat, z = model(X)\n",
    "        #pl = p_loss(z,p)\n",
    "        ll = loss(X_hat,X,device)\n",
    "        combined_loss = ll #pl + ll\n",
    "        combined_loss.backward()\n",
    "        opt.step()\n",
    "        \n",
    "        # loss\n",
    "        batch_loss = combined_loss.item()\n",
    "        running_loss += batch_loss\n",
    "        total_loss += batch_loss\n",
    "        \n",
    "        #batch_ploss = pl.item()\n",
    "        #running_ploss += batch_ploss\n",
    "\n",
    "        # --- Metrics Recording ---\n",
    "\n",
    "        # metrics\n",
    "        r = metric(X_hat, X)\n",
    "        running_rmse += r\n",
    "\n",
    "        # record lr change\n",
    "        total_steps += 1\n",
    "        tensorboard_writer.add_scalar(tag=\"LR\", scalar_value=opt.param_groups[0]['lr'], global_step=total_steps)\n",
    "        #lr_scheduler.step()\n",
    "\n",
    "        # tensorboard writes\n",
    "        if (i % tensorboard_rate == 0):\n",
    "            tensorboard_recorder_step += 1\n",
    "            avg_running_loss = running_loss/tensorboard_rate\n",
    "            avg_running_rmse = running_rmse/tensorboard_rate\n",
    "            #avg_running_ploss = running_ploss/tensorboard_rate\n",
    "            tensorboard_writer.add_scalar(tag=\"Loss\", scalar_value=avg_running_loss, global_step=tensorboard_recorder_step)\n",
    "            #tensorboard_writer.add_scalar(tag=\"p_loss\", scalar_value=avg_running_ploss, global_step=tensorboard_recorder_step)\n",
    "            tensorboard_writer.add_scalar(tag=metric.__name__, scalar_value=avg_running_rmse, global_step=tensorboard_recorder_step)\n",
    "            # reset running_loss for the next set of batches. (tensorboard_rate number of batches)\n",
    "            running_loss = 0.0\n",
    "            running_rmse = 0.0\n",
    "            #running_ploss = 0.0\n",
    "\n",
    "    return total_loss, tensorboard_recorder_step, total_steps"
   ]
  },
  {
   "cell_type": "code",
   "execution_count": null,
   "metadata": {},
   "outputs": [],
   "source": [
    "# EXPORT\n",
    "def validEpoch(myDataLoader, tensorboard_writer, model, p_loss, loss, metric,\n",
    "               device, tensorboard_recorder_step):\n",
    "    running_loss = 0.0\n",
    "    running_rmse = 0.0\n",
    "    for i, sampleBatch in enumerate(myDataLoader, start=1):\n",
    "\n",
    "        # --- Metrics Recording ---\n",
    "\n",
    "        # gpu\n",
    "        #X,p = sampleBatch[0],sampleBatch[1]\n",
    "        X = sampleBatch[0]\n",
    "        X = X.to(device)\n",
    "        #p = p.to(device)\n",
    "        \n",
    "        perc = len(X)/len(myDataLoader.dataset)\n",
    "\n",
    "        # forward, no gradient calculations\n",
    "        with torch.no_grad():\n",
    "            X_hat, z = model(X)\n",
    "\n",
    "        # loss\n",
    "        #combined_loss = p_loss(z,p) + loss(X_hat,X,device)\n",
    "        combined_loss = loss(X_hat,X,device)\n",
    "        \n",
    "        running_loss += perc*(combined_loss.item())\n",
    "\n",
    "        # metrics\n",
    "        r = metric(X_hat, X)\n",
    "        running_rmse += perc*r\n",
    "\n",
    "    avg_running_loss = running_loss\n",
    "    avg_running_rmse = running_rmse\n",
    "    tensorboard_writer.add_scalar(tag=\"Loss\", scalar_value=avg_running_loss, global_step=tensorboard_recorder_step)\n",
    "    tensorboard_writer.add_scalar(tag=metric.__name__, scalar_value=avg_running_rmse, global_step=tensorboard_recorder_step)\n",
    "\n",
    "    return running_loss"
   ]
  },
  {
   "cell_type": "code",
   "execution_count": null,
   "metadata": {},
   "outputs": [
    {
     "name": "stdout",
     "output_type": "stream",
     "text": [
      "checkpoints directory already exists :)\n"
     ]
    }
   ],
   "source": [
    "try:\n",
    "    os.mkdir(cps)\n",
    "except:\n",
    "    print(\"checkpoints directory already exists :)\")"
   ]
  },
  {
   "cell_type": "code",
   "execution_count": null,
   "metadata": {},
   "outputs": [],
   "source": [
    "# create a summary writer.\n",
    "train_writer = SummaryWriter(os.path.join(tensorboard_direc, versionName,'train'))\n",
    "test_writer = SummaryWriter(os.path.join(tensorboard_direc, versionName,'valid'))\n",
    "tensorboard_recorder_step = 0\n",
    "total_steps = 0"
   ]
  },
  {
   "cell_type": "code",
   "execution_count": null,
   "metadata": {},
   "outputs": [
    {
     "name": "stderr",
     "output_type": "stream",
     "text": [
      "\r",
      "  0%|          | 0/1000 [00:00<?, ?it/s]"
     ]
    },
    {
     "name": "stdout",
     "output_type": "stream",
     "text": [
      "---------- Started Training ----------\n",
      "--- Epoch 1/1000 ---\n",
      "trainLoss: 3.0188e+00\n",
      "LR: 1.0000e-04\n",
      "valLoss: 4.1003e-02\n",
      "Better valLoss: 4.1003e-02, Saving models...\n"
     ]
    },
    {
     "name": "stderr",
     "output_type": "stream",
     "text": [
      "\r",
      "  0%|          | 1/1000 [00:12<3:31:07, 12.68s/it]"
     ]
    },
    {
     "name": "stdout",
     "output_type": "stream",
     "text": [
      "--- Epoch 2/1000 ---\n",
      "trainLoss: 2.1769e+00\n",
      "LR: 1.0000e-04\n",
      "valLoss: 3.2036e-02\n",
      "Better valLoss: 3.2036e-02, Saving models...\n"
     ]
    },
    {
     "name": "stderr",
     "output_type": "stream",
     "text": [
      "\r",
      "  0%|          | 2/1000 [00:25<3:31:00, 12.69s/it]"
     ]
    },
    {
     "name": "stdout",
     "output_type": "stream",
     "text": [
      "--- Epoch 3/1000 ---\n",
      "trainLoss: 1.9314e+00\n",
      "LR: 1.0000e-04\n",
      "valLoss: 2.8456e-02\n",
      "Better valLoss: 2.8456e-02, Saving models...\n"
     ]
    },
    {
     "name": "stderr",
     "output_type": "stream",
     "text": [
      "\r",
      "  0%|          | 3/1000 [00:38<3:31:06, 12.70s/it]"
     ]
    },
    {
     "name": "stdout",
     "output_type": "stream",
     "text": [
      "--- Epoch 4/1000 ---\n",
      "trainLoss: 1.7821e+00\n",
      "LR: 1.0000e-04\n",
      "valLoss: 2.5897e-02\n",
      "Better valLoss: 2.5897e-02, Saving models...\n"
     ]
    },
    {
     "name": "stderr",
     "output_type": "stream",
     "text": [
      "\r",
      "  0%|          | 4/1000 [00:50<3:31:12, 12.72s/it]"
     ]
    },
    {
     "name": "stdout",
     "output_type": "stream",
     "text": [
      "--- Epoch 5/1000 ---\n",
      "trainLoss: 1.6610e+00\n",
      "LR: 1.0000e-04\n",
      "valLoss: 2.4035e-02\n",
      "Better valLoss: 2.4035e-02, Saving models...\n"
     ]
    },
    {
     "name": "stderr",
     "output_type": "stream",
     "text": [
      "\r",
      "  0%|          | 5/1000 [01:03<3:31:14, 12.74s/it]"
     ]
    },
    {
     "name": "stdout",
     "output_type": "stream",
     "text": [
      "--- Epoch 6/1000 ---\n",
      "trainLoss: 1.5333e+00\n",
      "LR: 1.0000e-04\n",
      "valLoss: 2.2464e-02\n",
      "Better valLoss: 2.2464e-02, Saving models...\n"
     ]
    },
    {
     "name": "stderr",
     "output_type": "stream",
     "text": [
      "\r",
      "  1%|          | 6/1000 [01:16<3:31:21, 12.76s/it]"
     ]
    },
    {
     "name": "stdout",
     "output_type": "stream",
     "text": [
      "--- Epoch 7/1000 ---\n",
      "trainLoss: 1.5010e+00\n",
      "LR: 1.0000e-04\n"
     ]
    },
    {
     "name": "stderr",
     "output_type": "stream",
     "text": [
      "\r",
      "  1%|          | 7/1000 [01:29<3:30:22, 12.71s/it]"
     ]
    },
    {
     "name": "stdout",
     "output_type": "stream",
     "text": [
      "valLoss: 2.5446e-02\n",
      "--- Epoch 8/1000 ---\n",
      "trainLoss: 1.5571e+00\n",
      "LR: 1.0000e-04\n"
     ]
    },
    {
     "name": "stderr",
     "output_type": "stream",
     "text": [
      "\r",
      "  1%|          | 8/1000 [01:41<3:29:34, 12.68s/it]"
     ]
    },
    {
     "name": "stdout",
     "output_type": "stream",
     "text": [
      "valLoss: 4.5678e-02\n",
      "--- Epoch 9/1000 ---\n",
      "trainLoss: 4.7330e+00\n",
      "LR: 1.0000e-04\n"
     ]
    },
    {
     "name": "stderr",
     "output_type": "stream",
     "text": [
      "\r",
      "  1%|          | 9/1000 [01:54<3:29:01, 12.66s/it]"
     ]
    },
    {
     "name": "stdout",
     "output_type": "stream",
     "text": [
      "valLoss: 2.9261e-02\n",
      "--- Epoch 10/1000 ---\n",
      "trainLoss: 1.7262e+00\n",
      "LR: 1.0000e-04\n"
     ]
    },
    {
     "name": "stderr",
     "output_type": "stream",
     "text": [
      "\r",
      "  1%|          | 10/1000 [02:06<3:28:40, 12.65s/it]"
     ]
    },
    {
     "name": "stdout",
     "output_type": "stream",
     "text": [
      "valLoss: 2.6735e-02\n",
      "--- Epoch 11/1000 ---\n",
      "trainLoss: 1.5513e+00\n",
      "LR: 1.0000e-05\n"
     ]
    },
    {
     "name": "stderr",
     "output_type": "stream",
     "text": [
      "\r",
      "  1%|          | 11/1000 [02:19<3:28:21, 12.64s/it]"
     ]
    },
    {
     "name": "stdout",
     "output_type": "stream",
     "text": [
      "valLoss: 2.4013e-02\n",
      "--- Epoch 12/1000 ---\n",
      "trainLoss: 1.5070e+00\n",
      "LR: 1.0000e-05\n"
     ]
    },
    {
     "name": "stderr",
     "output_type": "stream",
     "text": [
      "\r",
      "  1%|          | 12/1000 [02:32<3:28:08, 12.64s/it]"
     ]
    },
    {
     "name": "stdout",
     "output_type": "stream",
     "text": [
      "valLoss: 2.3512e-02\n",
      "--- Epoch 13/1000 ---\n",
      "trainLoss: 1.4710e+00\n",
      "LR: 1.0000e-05\n"
     ]
    },
    {
     "name": "stderr",
     "output_type": "stream",
     "text": [
      "\r",
      "  1%|▏         | 13/1000 [02:44<3:27:52, 12.64s/it]"
     ]
    },
    {
     "name": "stdout",
     "output_type": "stream",
     "text": [
      "valLoss: 2.2966e-02\n",
      "--- Epoch 14/1000 ---\n",
      "trainLoss: 1.4378e+00\n",
      "LR: 1.0000e-05\n",
      "valLoss: 2.2348e-02\n",
      "Better valLoss: 2.2348e-02, Saving models...\n"
     ]
    },
    {
     "name": "stderr",
     "output_type": "stream",
     "text": [
      "\r",
      "  1%|▏         | 14/1000 [02:57<3:28:57, 12.72s/it]"
     ]
    },
    {
     "name": "stdout",
     "output_type": "stream",
     "text": [
      "--- Epoch 15/1000 ---\n",
      "trainLoss: 1.4026e+00\n",
      "LR: 1.0000e-05\n",
      "valLoss: 2.1758e-02\n",
      "Better valLoss: 2.1758e-02, Saving models...\n"
     ]
    },
    {
     "name": "stderr",
     "output_type": "stream",
     "text": [
      "\r",
      "  2%|▏         | 15/1000 [03:10<3:29:33, 12.77s/it]"
     ]
    },
    {
     "name": "stdout",
     "output_type": "stream",
     "text": [
      "--- Epoch 16/1000 ---\n",
      "trainLoss: 1.3744e+00\n",
      "LR: 1.0000e-05\n",
      "valLoss: 2.1334e-02\n",
      "Better valLoss: 2.1334e-02, Saving models...\n"
     ]
    },
    {
     "name": "stderr",
     "output_type": "stream",
     "text": [
      "\r",
      "  2%|▏         | 16/1000 [03:23<3:29:56, 12.80s/it]"
     ]
    },
    {
     "name": "stdout",
     "output_type": "stream",
     "text": [
      "--- Epoch 17/1000 ---\n",
      "trainLoss: 1.3472e+00\n",
      "LR: 1.0000e-05\n",
      "valLoss: 2.0879e-02\n",
      "Better valLoss: 2.0879e-02, Saving models...\n"
     ]
    },
    {
     "name": "stderr",
     "output_type": "stream",
     "text": [
      "\r",
      "  2%|▏         | 17/1000 [03:36<3:30:12, 12.83s/it]"
     ]
    },
    {
     "name": "stdout",
     "output_type": "stream",
     "text": [
      "--- Epoch 18/1000 ---\n",
      "trainLoss: 1.3264e+00\n",
      "LR: 1.0000e-05\n",
      "valLoss: 2.0448e-02\n",
      "Better valLoss: 2.0448e-02, Saving models...\n"
     ]
    },
    {
     "name": "stderr",
     "output_type": "stream",
     "text": [
      "\r",
      "  2%|▏         | 18/1000 [03:49<3:30:24, 12.86s/it]"
     ]
    },
    {
     "name": "stdout",
     "output_type": "stream",
     "text": [
      "--- Epoch 19/1000 ---\n",
      "trainLoss: 1.3016e+00\n",
      "LR: 1.0000e-05\n",
      "valLoss: 2.0183e-02\n",
      "Better valLoss: 2.0183e-02, Saving models...\n"
     ]
    },
    {
     "name": "stderr",
     "output_type": "stream",
     "text": [
      "\r",
      "  2%|▏         | 19/1000 [04:02<3:30:27, 12.87s/it]"
     ]
    },
    {
     "name": "stdout",
     "output_type": "stream",
     "text": [
      "--- Epoch 20/1000 ---\n",
      "trainLoss: 1.2696e+00\n",
      "LR: 1.0000e-05\n",
      "valLoss: 1.9809e-02\n",
      "Better valLoss: 1.9809e-02, Saving models...\n"
     ]
    },
    {
     "name": "stderr",
     "output_type": "stream",
     "text": [
      "\r",
      "  2%|▏         | 20/1000 [04:15<3:30:29, 12.89s/it]"
     ]
    },
    {
     "name": "stdout",
     "output_type": "stream",
     "text": [
      "--- Epoch 21/1000 ---\n",
      "trainLoss: 1.2527e+00\n",
      "LR: 1.0000e-05\n",
      "valLoss: 1.9468e-02\n",
      "Better valLoss: 1.9468e-02, Saving models...\n"
     ]
    },
    {
     "name": "stderr",
     "output_type": "stream",
     "text": [
      "\r",
      "  2%|▏         | 21/1000 [04:28<3:30:26, 12.90s/it]"
     ]
    },
    {
     "name": "stdout",
     "output_type": "stream",
     "text": [
      "--- Epoch 22/1000 ---\n",
      "trainLoss: 1.2313e+00\n",
      "LR: 1.0000e-05\n",
      "valLoss: 1.9157e-02\n",
      "Better valLoss: 1.9157e-02, Saving models...\n"
     ]
    },
    {
     "name": "stderr",
     "output_type": "stream",
     "text": [
      "\r",
      "  2%|▏         | 22/1000 [04:40<3:30:21, 12.91s/it]"
     ]
    },
    {
     "name": "stdout",
     "output_type": "stream",
     "text": [
      "--- Epoch 23/1000 ---\n",
      "trainLoss: 1.2141e+00\n",
      "LR: 1.0000e-05\n",
      "valLoss: 1.8905e-02\n",
      "Better valLoss: 1.8905e-02, Saving models...\n"
     ]
    },
    {
     "name": "stderr",
     "output_type": "stream",
     "text": [
      "\r",
      "  2%|▏         | 23/1000 [04:53<3:30:12, 12.91s/it]"
     ]
    },
    {
     "name": "stdout",
     "output_type": "stream",
     "text": [
      "--- Epoch 24/1000 ---\n",
      "trainLoss: 1.2064e+00\n",
      "LR: 1.0000e-05\n",
      "valLoss: 1.8674e-02\n",
      "Better valLoss: 1.8674e-02, Saving models...\n"
     ]
    },
    {
     "name": "stderr",
     "output_type": "stream",
     "text": [
      "\r",
      "  2%|▏         | 24/1000 [05:06<3:30:00, 12.91s/it]"
     ]
    },
    {
     "name": "stdout",
     "output_type": "stream",
     "text": [
      "--- Epoch 25/1000 ---\n",
      "trainLoss: 1.1837e+00\n",
      "LR: 1.0000e-05\n",
      "valLoss: 1.8518e-02\n",
      "Better valLoss: 1.8518e-02, Saving models...\n"
     ]
    },
    {
     "name": "stderr",
     "output_type": "stream",
     "text": [
      "\r",
      "  2%|▎         | 25/1000 [05:19<3:29:54, 12.92s/it]"
     ]
    },
    {
     "name": "stdout",
     "output_type": "stream",
     "text": [
      "--- Epoch 26/1000 ---\n",
      "trainLoss: 1.1779e+00\n",
      "LR: 1.0000e-05\n",
      "valLoss: 1.8380e-02\n",
      "Better valLoss: 1.8380e-02, Saving models...\n"
     ]
    },
    {
     "name": "stderr",
     "output_type": "stream",
     "text": [
      "\r",
      "  3%|▎         | 26/1000 [05:32<3:29:46, 12.92s/it]"
     ]
    },
    {
     "name": "stdout",
     "output_type": "stream",
     "text": [
      "--- Epoch 27/1000 ---\n",
      "trainLoss: 1.1681e+00\n",
      "LR: 1.0000e-05\n",
      "valLoss: 1.8359e-02\n",
      "Better valLoss: 1.8359e-02, Saving models...\n"
     ]
    },
    {
     "name": "stderr",
     "output_type": "stream",
     "text": [
      "\r",
      "  3%|▎         | 27/1000 [05:45<3:29:38, 12.93s/it]"
     ]
    },
    {
     "name": "stdout",
     "output_type": "stream",
     "text": [
      "--- Epoch 28/1000 ---\n",
      "trainLoss: 1.1695e+00\n",
      "LR: 1.0000e-05\n",
      "valLoss: 1.8300e-02\n",
      "Better valLoss: 1.8300e-02, Saving models...\n"
     ]
    },
    {
     "name": "stderr",
     "output_type": "stream",
     "text": [
      "\r",
      "  3%|▎         | 28/1000 [05:58<3:29:32, 12.94s/it]"
     ]
    },
    {
     "name": "stdout",
     "output_type": "stream",
     "text": [
      "--- Epoch 29/1000 ---\n",
      "trainLoss: 1.1662e+00\n",
      "LR: 1.0000e-05\n",
      "valLoss: 1.8249e-02\n",
      "Better valLoss: 1.8249e-02, Saving models...\n"
     ]
    },
    {
     "name": "stderr",
     "output_type": "stream",
     "text": [
      "\r",
      "  3%|▎         | 29/1000 [06:11<3:29:27, 12.94s/it]"
     ]
    },
    {
     "name": "stdout",
     "output_type": "stream",
     "text": [
      "--- Epoch 30/1000 ---\n",
      "trainLoss: 1.1551e+00\n",
      "LR: 1.0000e-05\n",
      "valLoss: 1.8100e-02\n",
      "Better valLoss: 1.8100e-02, Saving models...\n"
     ]
    },
    {
     "name": "stderr",
     "output_type": "stream",
     "text": [
      "\r",
      "  3%|▎         | 30/1000 [06:24<3:29:15, 12.94s/it]"
     ]
    },
    {
     "name": "stdout",
     "output_type": "stream",
     "text": [
      "--- Epoch 31/1000 ---\n",
      "trainLoss: 1.1616e+00\n",
      "LR: 1.0000e-05\n",
      "valLoss: 1.7949e-02\n",
      "Better valLoss: 1.7949e-02, Saving models...\n"
     ]
    },
    {
     "name": "stderr",
     "output_type": "stream",
     "text": [
      "\r",
      "  3%|▎         | 31/1000 [06:37<3:29:03, 12.94s/it]"
     ]
    },
    {
     "name": "stdout",
     "output_type": "stream",
     "text": [
      "--- Epoch 32/1000 ---\n",
      "trainLoss: 1.1351e+00\n",
      "LR: 1.0000e-05\n",
      "valLoss: 1.7719e-02\n",
      "Better valLoss: 1.7719e-02, Saving models...\n"
     ]
    },
    {
     "name": "stderr",
     "output_type": "stream",
     "text": [
      "\r",
      "  3%|▎         | 32/1000 [06:50<3:28:52, 12.95s/it]"
     ]
    },
    {
     "name": "stdout",
     "output_type": "stream",
     "text": [
      "--- Epoch 33/1000 ---\n",
      "trainLoss: 1.1242e+00\n",
      "LR: 1.0000e-05\n",
      "valLoss: 1.7599e-02\n",
      "Better valLoss: 1.7599e-02, Saving models...\n"
     ]
    },
    {
     "name": "stderr",
     "output_type": "stream",
     "text": [
      "\r",
      "  3%|▎         | 33/1000 [07:03<3:28:39, 12.95s/it]"
     ]
    },
    {
     "name": "stdout",
     "output_type": "stream",
     "text": [
      "--- Epoch 34/1000 ---\n",
      "trainLoss: 1.1137e+00\n",
      "LR: 1.0000e-05\n",
      "valLoss: 1.7239e-02\n",
      "Better valLoss: 1.7239e-02, Saving models...\n"
     ]
    },
    {
     "name": "stderr",
     "output_type": "stream",
     "text": [
      "\r",
      "  3%|▎         | 34/1000 [07:16<3:28:30, 12.95s/it]"
     ]
    },
    {
     "name": "stdout",
     "output_type": "stream",
     "text": [
      "--- Epoch 35/1000 ---\n",
      "trainLoss: 1.0953e+00\n",
      "LR: 1.0000e-05\n",
      "valLoss: 1.7016e-02\n",
      "Better valLoss: 1.7016e-02, Saving models...\n"
     ]
    },
    {
     "name": "stderr",
     "output_type": "stream",
     "text": [
      "\r",
      "  4%|▎         | 35/1000 [07:29<3:28:17, 12.95s/it]"
     ]
    },
    {
     "name": "stdout",
     "output_type": "stream",
     "text": [
      "--- Epoch 36/1000 ---\n",
      "trainLoss: 1.0813e+00\n",
      "LR: 1.0000e-05\n",
      "valLoss: 1.6816e-02\n",
      "Better valLoss: 1.6816e-02, Saving models...\n"
     ]
    },
    {
     "name": "stderr",
     "output_type": "stream",
     "text": [
      "\r",
      "  4%|▎         | 36/1000 [07:42<3:28:03, 12.95s/it]"
     ]
    },
    {
     "name": "stdout",
     "output_type": "stream",
     "text": [
      "--- Epoch 37/1000 ---\n",
      "trainLoss: 1.0750e+00\n",
      "LR: 1.0000e-05\n",
      "valLoss: 1.6597e-02\n",
      "Better valLoss: 1.6597e-02, Saving models...\n"
     ]
    },
    {
     "name": "stderr",
     "output_type": "stream",
     "text": [
      "\r",
      "  4%|▎         | 37/1000 [07:55<3:27:47, 12.95s/it]"
     ]
    },
    {
     "name": "stdout",
     "output_type": "stream",
     "text": [
      "--- Epoch 38/1000 ---\n",
      "trainLoss: 1.0597e+00\n",
      "LR: 1.0000e-05\n",
      "valLoss: 1.6454e-02\n",
      "Better valLoss: 1.6454e-02, Saving models...\n"
     ]
    },
    {
     "name": "stderr",
     "output_type": "stream",
     "text": [
      "\r",
      "  4%|▍         | 38/1000 [08:08<3:27:34, 12.95s/it]"
     ]
    },
    {
     "name": "stdout",
     "output_type": "stream",
     "text": [
      "--- Epoch 39/1000 ---\n",
      "trainLoss: 1.0453e+00\n",
      "LR: 1.0000e-05\n",
      "valLoss: 1.6225e-02\n",
      "Better valLoss: 1.6225e-02, Saving models...\n"
     ]
    },
    {
     "name": "stderr",
     "output_type": "stream",
     "text": [
      "\r",
      "  4%|▍         | 39/1000 [08:21<3:27:27, 12.95s/it]"
     ]
    },
    {
     "name": "stdout",
     "output_type": "stream",
     "text": [
      "--- Epoch 40/1000 ---\n",
      "trainLoss: 1.0325e+00\n",
      "LR: 1.0000e-05\n",
      "valLoss: 1.6119e-02\n",
      "Better valLoss: 1.6119e-02, Saving models...\n"
     ]
    },
    {
     "name": "stderr",
     "output_type": "stream",
     "text": [
      "\r",
      "  4%|▍         | 40/1000 [08:33<3:27:13, 12.95s/it]"
     ]
    },
    {
     "name": "stdout",
     "output_type": "stream",
     "text": [
      "--- Epoch 41/1000 ---\n",
      "trainLoss: 1.0162e+00\n",
      "LR: 1.0000e-05\n",
      "valLoss: 1.5880e-02\n",
      "Better valLoss: 1.5880e-02, Saving models...\n"
     ]
    },
    {
     "name": "stderr",
     "output_type": "stream",
     "text": [
      "\r",
      "  4%|▍         | 41/1000 [08:46<3:27:03, 12.95s/it]"
     ]
    },
    {
     "name": "stdout",
     "output_type": "stream",
     "text": [
      "--- Epoch 42/1000 ---\n",
      "trainLoss: 1.0136e+00\n",
      "LR: 1.0000e-05\n",
      "valLoss: 1.5691e-02\n",
      "Better valLoss: 1.5691e-02, Saving models...\n"
     ]
    },
    {
     "name": "stderr",
     "output_type": "stream",
     "text": [
      "\r",
      "  4%|▍         | 42/1000 [08:59<3:26:47, 12.95s/it]"
     ]
    },
    {
     "name": "stdout",
     "output_type": "stream",
     "text": [
      "--- Epoch 43/1000 ---\n",
      "trainLoss: 9.9828e-01\n",
      "LR: 1.0000e-05\n",
      "valLoss: 1.5536e-02\n",
      "Better valLoss: 1.5536e-02, Saving models...\n"
     ]
    },
    {
     "name": "stderr",
     "output_type": "stream",
     "text": [
      "\r",
      "  4%|▍         | 43/1000 [09:12<3:26:37, 12.95s/it]"
     ]
    },
    {
     "name": "stdout",
     "output_type": "stream",
     "text": [
      "--- Epoch 44/1000 ---\n",
      "trainLoss: 9.8870e-01\n",
      "LR: 1.0000e-05\n",
      "valLoss: 1.5361e-02\n",
      "Better valLoss: 1.5361e-02, Saving models...\n"
     ]
    },
    {
     "name": "stderr",
     "output_type": "stream",
     "text": [
      "\r",
      "  4%|▍         | 44/1000 [09:25<3:26:25, 12.96s/it]"
     ]
    },
    {
     "name": "stdout",
     "output_type": "stream",
     "text": [
      "--- Epoch 45/1000 ---\n",
      "trainLoss: 9.7705e-01\n",
      "LR: 1.0000e-05\n",
      "valLoss: 1.5223e-02\n",
      "Better valLoss: 1.5223e-02, Saving models...\n"
     ]
    },
    {
     "name": "stderr",
     "output_type": "stream",
     "text": [
      "\r",
      "  4%|▍         | 45/1000 [09:38<3:26:10, 12.95s/it]"
     ]
    },
    {
     "name": "stdout",
     "output_type": "stream",
     "text": [
      "--- Epoch 46/1000 ---\n",
      "trainLoss: 9.6519e-01\n",
      "LR: 1.0000e-05\n",
      "valLoss: 1.5045e-02\n",
      "Better valLoss: 1.5045e-02, Saving models...\n"
     ]
    },
    {
     "name": "stderr",
     "output_type": "stream",
     "text": [
      "\r",
      "  5%|▍         | 46/1000 [09:51<3:26:02, 12.96s/it]"
     ]
    },
    {
     "name": "stdout",
     "output_type": "stream",
     "text": [
      "--- Epoch 47/1000 ---\n",
      "trainLoss: 9.5977e-01\n",
      "LR: 1.0000e-05\n",
      "valLoss: 1.4884e-02\n",
      "Better valLoss: 1.4884e-02, Saving models...\n"
     ]
    },
    {
     "name": "stderr",
     "output_type": "stream",
     "text": [
      "\r",
      "  5%|▍         | 47/1000 [10:04<3:25:49, 12.96s/it]"
     ]
    },
    {
     "name": "stdout",
     "output_type": "stream",
     "text": [
      "--- Epoch 48/1000 ---\n",
      "trainLoss: 9.5425e-01\n",
      "LR: 1.0000e-05\n",
      "valLoss: 1.4779e-02\n",
      "Better valLoss: 1.4779e-02, Saving models...\n"
     ]
    },
    {
     "name": "stderr",
     "output_type": "stream",
     "text": [
      "\r",
      "  5%|▍         | 48/1000 [10:17<3:25:37, 12.96s/it]"
     ]
    },
    {
     "name": "stdout",
     "output_type": "stream",
     "text": [
      "--- Epoch 49/1000 ---\n",
      "trainLoss: 9.3782e-01\n",
      "LR: 1.0000e-05\n",
      "valLoss: 1.4710e-02\n",
      "Better valLoss: 1.4710e-02, Saving models...\n"
     ]
    },
    {
     "name": "stderr",
     "output_type": "stream",
     "text": [
      "\r",
      "  5%|▍         | 49/1000 [10:30<3:25:21, 12.96s/it]"
     ]
    },
    {
     "name": "stdout",
     "output_type": "stream",
     "text": [
      "--- Epoch 50/1000 ---\n",
      "trainLoss: 9.3798e-01\n",
      "LR: 1.0000e-05\n",
      "valLoss: 1.4541e-02\n",
      "Better valLoss: 1.4541e-02, Saving models...\n"
     ]
    },
    {
     "name": "stderr",
     "output_type": "stream",
     "text": [
      "\r",
      "  5%|▌         | 50/1000 [10:43<3:25:12, 12.96s/it]"
     ]
    },
    {
     "name": "stdout",
     "output_type": "stream",
     "text": [
      "--- Epoch 51/1000 ---\n",
      "trainLoss: 9.2734e-01\n",
      "LR: 1.0000e-05\n",
      "valLoss: 1.4301e-02\n",
      "Better valLoss: 1.4301e-02, Saving models...\n"
     ]
    },
    {
     "name": "stderr",
     "output_type": "stream",
     "text": [
      "\r",
      "  5%|▌         | 51/1000 [10:56<3:24:54, 12.96s/it]"
     ]
    },
    {
     "name": "stdout",
     "output_type": "stream",
     "text": [
      "--- Epoch 52/1000 ---\n",
      "trainLoss: 9.1458e-01\n",
      "LR: 1.0000e-05\n",
      "valLoss: 1.4270e-02\n",
      "Better valLoss: 1.4270e-02, Saving models...\n"
     ]
    },
    {
     "name": "stderr",
     "output_type": "stream",
     "text": [
      "\r",
      "  5%|▌         | 52/1000 [11:09<3:24:41, 12.95s/it]"
     ]
    },
    {
     "name": "stdout",
     "output_type": "stream",
     "text": [
      "--- Epoch 53/1000 ---\n",
      "trainLoss: 9.0909e-01\n",
      "LR: 1.0000e-05\n",
      "valLoss: 1.4214e-02\n",
      "Better valLoss: 1.4214e-02, Saving models...\n"
     ]
    },
    {
     "name": "stderr",
     "output_type": "stream",
     "text": [
      "\r",
      "  5%|▌         | 53/1000 [11:22<3:24:30, 12.96s/it]"
     ]
    },
    {
     "name": "stdout",
     "output_type": "stream",
     "text": [
      "--- Epoch 54/1000 ---\n",
      "trainLoss: 9.0075e-01\n",
      "LR: 1.0000e-05\n",
      "valLoss: 1.4028e-02\n",
      "Better valLoss: 1.4028e-02, Saving models...\n"
     ]
    },
    {
     "name": "stderr",
     "output_type": "stream",
     "text": [
      "\r",
      "  5%|▌         | 54/1000 [11:35<3:24:17, 12.96s/it]"
     ]
    },
    {
     "name": "stdout",
     "output_type": "stream",
     "text": [
      "--- Epoch 55/1000 ---\n",
      "trainLoss: 8.9721e-01\n",
      "LR: 1.0000e-05\n",
      "valLoss: 1.3915e-02\n",
      "Better valLoss: 1.3915e-02, Saving models...\n"
     ]
    },
    {
     "name": "stderr",
     "output_type": "stream",
     "text": [
      "\r",
      "  6%|▌         | 55/1000 [11:48<3:24:04, 12.96s/it]"
     ]
    },
    {
     "name": "stdout",
     "output_type": "stream",
     "text": [
      "--- Epoch 56/1000 ---\n",
      "trainLoss: 8.8916e-01\n",
      "LR: 1.0000e-05\n",
      "valLoss: 1.3770e-02\n",
      "Better valLoss: 1.3770e-02, Saving models...\n"
     ]
    },
    {
     "name": "stderr",
     "output_type": "stream",
     "text": [
      "\r",
      "  6%|▌         | 56/1000 [12:01<3:23:49, 12.95s/it]"
     ]
    },
    {
     "name": "stdout",
     "output_type": "stream",
     "text": [
      "--- Epoch 57/1000 ---\n",
      "trainLoss: 8.8196e-01\n",
      "LR: 1.0000e-05\n"
     ]
    },
    {
     "name": "stderr",
     "output_type": "stream",
     "text": [
      "\r",
      "  6%|▌         | 57/1000 [12:13<3:22:25, 12.88s/it]"
     ]
    },
    {
     "name": "stdout",
     "output_type": "stream",
     "text": [
      "valLoss: 1.3878e-02\n",
      "--- Epoch 58/1000 ---\n",
      "trainLoss: 8.8490e-01\n",
      "LR: 1.0000e-05\n",
      "valLoss: 1.3718e-02\n",
      "Better valLoss: 1.3718e-02, Saving models...\n"
     ]
    },
    {
     "name": "stderr",
     "output_type": "stream",
     "text": [
      "\r",
      "  6%|▌         | 58/1000 [12:26<3:22:35, 12.90s/it]"
     ]
    },
    {
     "name": "stdout",
     "output_type": "stream",
     "text": [
      "--- Epoch 59/1000 ---\n",
      "trainLoss: 8.7200e-01\n",
      "LR: 1.0000e-05\n",
      "valLoss: 1.3562e-02\n",
      "Better valLoss: 1.3562e-02, Saving models...\n"
     ]
    },
    {
     "name": "stderr",
     "output_type": "stream",
     "text": [
      "\r",
      "  6%|▌         | 59/1000 [12:39<3:22:33, 12.92s/it]"
     ]
    },
    {
     "name": "stdout",
     "output_type": "stream",
     "text": [
      "--- Epoch 60/1000 ---\n",
      "trainLoss: 8.6490e-01\n",
      "LR: 1.0000e-05\n",
      "valLoss: 1.3513e-02\n",
      "Better valLoss: 1.3513e-02, Saving models...\n"
     ]
    },
    {
     "name": "stderr",
     "output_type": "stream",
     "text": [
      "\r",
      "  6%|▌         | 60/1000 [12:52<3:22:24, 12.92s/it]"
     ]
    },
    {
     "name": "stdout",
     "output_type": "stream",
     "text": [
      "--- Epoch 61/1000 ---\n",
      "trainLoss: 8.6073e-01\n",
      "LR: 1.0000e-05\n",
      "valLoss: 1.3323e-02\n",
      "Better valLoss: 1.3323e-02, Saving models...\n"
     ]
    },
    {
     "name": "stderr",
     "output_type": "stream",
     "text": [
      "\r",
      "  6%|▌         | 61/1000 [13:05<3:22:22, 12.93s/it]"
     ]
    },
    {
     "name": "stdout",
     "output_type": "stream",
     "text": [
      "--- Epoch 62/1000 ---\n",
      "trainLoss: 8.5460e-01\n",
      "LR: 1.0000e-05\n"
     ]
    },
    {
     "name": "stderr",
     "output_type": "stream",
     "text": [
      "\r",
      "  6%|▌         | 62/1000 [13:18<3:21:10, 12.87s/it]"
     ]
    },
    {
     "name": "stdout",
     "output_type": "stream",
     "text": [
      "valLoss: 1.3677e-02\n",
      "--- Epoch 63/1000 ---\n",
      "trainLoss: 8.5145e-01\n",
      "LR: 1.0000e-05\n",
      "valLoss: 1.3191e-02\n",
      "Better valLoss: 1.3191e-02, Saving models...\n"
     ]
    },
    {
     "name": "stderr",
     "output_type": "stream",
     "text": [
      "\r",
      "  6%|▋         | 63/1000 [13:31<3:21:18, 12.89s/it]"
     ]
    },
    {
     "name": "stdout",
     "output_type": "stream",
     "text": [
      "--- Epoch 64/1000 ---\n",
      "trainLoss: 8.3968e-01\n",
      "LR: 1.0000e-05\n",
      "valLoss: 1.2974e-02\n",
      "Better valLoss: 1.2974e-02, Saving models...\n"
     ]
    },
    {
     "name": "stderr",
     "output_type": "stream",
     "text": [
      "\r",
      "  6%|▋         | 64/1000 [13:44<3:21:27, 12.91s/it]"
     ]
    },
    {
     "name": "stdout",
     "output_type": "stream",
     "text": [
      "--- Epoch 65/1000 ---\n",
      "trainLoss: 8.3417e-01\n",
      "LR: 1.0000e-05\n"
     ]
    },
    {
     "name": "stderr",
     "output_type": "stream",
     "text": [
      "\r",
      "  6%|▋         | 65/1000 [13:57<3:20:21, 12.86s/it]"
     ]
    },
    {
     "name": "stdout",
     "output_type": "stream",
     "text": [
      "valLoss: 1.3071e-02\n",
      "--- Epoch 66/1000 ---\n",
      "trainLoss: 8.3219e-01\n",
      "LR: 1.0000e-05\n"
     ]
    },
    {
     "name": "stderr",
     "output_type": "stream",
     "text": [
      "\r",
      "  7%|▋         | 66/1000 [14:09<3:19:31, 12.82s/it]"
     ]
    },
    {
     "name": "stdout",
     "output_type": "stream",
     "text": [
      "valLoss: 1.3063e-02\n",
      "--- Epoch 67/1000 ---\n",
      "trainLoss: 8.2707e-01\n",
      "LR: 1.0000e-05\n",
      "valLoss: 1.2887e-02\n",
      "Better valLoss: 1.2887e-02, Saving models...\n"
     ]
    },
    {
     "name": "stderr",
     "output_type": "stream",
     "text": [
      "\r",
      "  7%|▋         | 67/1000 [14:22<3:19:57, 12.86s/it]"
     ]
    },
    {
     "name": "stdout",
     "output_type": "stream",
     "text": [
      "--- Epoch 68/1000 ---\n",
      "trainLoss: 8.3017e-01\n",
      "LR: 1.0000e-05\n"
     ]
    },
    {
     "name": "stderr",
     "output_type": "stream",
     "text": [
      "\r",
      "  7%|▋         | 68/1000 [14:35<3:19:05, 12.82s/it]"
     ]
    },
    {
     "name": "stdout",
     "output_type": "stream",
     "text": [
      "valLoss: 1.3071e-02\n",
      "--- Epoch 69/1000 ---\n",
      "trainLoss: 8.2004e-01\n",
      "LR: 1.0000e-05\n",
      "valLoss: 1.2757e-02\n",
      "Better valLoss: 1.2757e-02, Saving models...\n"
     ]
    },
    {
     "name": "stderr",
     "output_type": "stream",
     "text": [
      "\r",
      "  7%|▋         | 69/1000 [14:48<3:19:38, 12.87s/it]"
     ]
    },
    {
     "name": "stdout",
     "output_type": "stream",
     "text": [
      "--- Epoch 70/1000 ---\n",
      "trainLoss: 8.0985e-01\n",
      "LR: 1.0000e-05\n",
      "valLoss: 1.2633e-02\n",
      "Better valLoss: 1.2633e-02, Saving models...\n"
     ]
    },
    {
     "name": "stderr",
     "output_type": "stream",
     "text": [
      "\r",
      "  7%|▋         | 70/1000 [15:01<3:19:51, 12.89s/it]"
     ]
    },
    {
     "name": "stdout",
     "output_type": "stream",
     "text": [
      "--- Epoch 71/1000 ---\n",
      "trainLoss: 8.0783e-01\n",
      "LR: 1.0000e-05\n",
      "valLoss: 1.2615e-02\n",
      "Better valLoss: 1.2615e-02, Saving models...\n"
     ]
    },
    {
     "name": "stderr",
     "output_type": "stream",
     "text": [
      "\r",
      "  7%|▋         | 71/1000 [15:14<3:19:51, 12.91s/it]"
     ]
    },
    {
     "name": "stdout",
     "output_type": "stream",
     "text": [
      "--- Epoch 72/1000 ---\n",
      "trainLoss: 8.0389e-01\n",
      "LR: 1.0000e-05\n",
      "valLoss: 1.2554e-02\n",
      "Better valLoss: 1.2554e-02, Saving models...\n"
     ]
    },
    {
     "name": "stderr",
     "output_type": "stream",
     "text": [
      "\r",
      "  7%|▋         | 72/1000 [15:27<3:19:56, 12.93s/it]"
     ]
    },
    {
     "name": "stdout",
     "output_type": "stream",
     "text": [
      "--- Epoch 73/1000 ---\n",
      "trainLoss: 7.9884e-01\n",
      "LR: 1.0000e-05\n",
      "valLoss: 1.2359e-02\n",
      "Better valLoss: 1.2359e-02, Saving models...\n"
     ]
    },
    {
     "name": "stderr",
     "output_type": "stream",
     "text": [
      "\r",
      "  7%|▋         | 73/1000 [15:40<3:19:55, 12.94s/it]"
     ]
    },
    {
     "name": "stdout",
     "output_type": "stream",
     "text": [
      "--- Epoch 74/1000 ---\n",
      "trainLoss: 7.9637e-01\n",
      "LR: 1.0000e-05\n"
     ]
    },
    {
     "name": "stderr",
     "output_type": "stream",
     "text": [
      "\r",
      "  7%|▋         | 74/1000 [15:53<3:18:37, 12.87s/it]"
     ]
    },
    {
     "name": "stdout",
     "output_type": "stream",
     "text": [
      "valLoss: 1.2390e-02\n",
      "--- Epoch 75/1000 ---\n",
      "trainLoss: 7.8793e-01\n",
      "LR: 1.0000e-05\n"
     ]
    },
    {
     "name": "stderr",
     "output_type": "stream",
     "text": [
      "\r",
      "  8%|▊         | 75/1000 [16:05<3:17:42, 12.82s/it]"
     ]
    },
    {
     "name": "stdout",
     "output_type": "stream",
     "text": [
      "valLoss: 1.2499e-02\n",
      "--- Epoch 76/1000 ---\n",
      "trainLoss: 7.9064e-01\n",
      "LR: 1.0000e-05\n",
      "valLoss: 1.2235e-02\n",
      "Better valLoss: 1.2235e-02, Saving models...\n"
     ]
    },
    {
     "name": "stderr",
     "output_type": "stream",
     "text": [
      "\r",
      "  8%|▊         | 76/1000 [16:18<3:18:09, 12.87s/it]"
     ]
    },
    {
     "name": "stdout",
     "output_type": "stream",
     "text": [
      "--- Epoch 77/1000 ---\n",
      "trainLoss: 7.9032e-01\n",
      "LR: 1.0000e-05\n",
      "valLoss: 1.2122e-02\n",
      "Better valLoss: 1.2122e-02, Saving models...\n"
     ]
    },
    {
     "name": "stderr",
     "output_type": "stream",
     "text": [
      "\r",
      "  8%|▊         | 77/1000 [16:31<3:18:39, 12.91s/it]"
     ]
    },
    {
     "name": "stdout",
     "output_type": "stream",
     "text": [
      "--- Epoch 78/1000 ---\n",
      "trainLoss: 7.8601e-01\n",
      "LR: 1.0000e-05\n"
     ]
    },
    {
     "name": "stderr",
     "output_type": "stream",
     "text": [
      "\r",
      "  8%|▊         | 78/1000 [16:44<3:17:28, 12.85s/it]"
     ]
    },
    {
     "name": "stdout",
     "output_type": "stream",
     "text": [
      "valLoss: 1.2126e-02\n",
      "--- Epoch 79/1000 ---\n",
      "trainLoss: 7.8557e-01\n",
      "LR: 1.0000e-05\n",
      "valLoss: 1.2108e-02\n",
      "Better valLoss: 1.2108e-02, Saving models...\n"
     ]
    },
    {
     "name": "stderr",
     "output_type": "stream",
     "text": [
      "\r",
      "  8%|▊         | 79/1000 [16:57<3:17:43, 12.88s/it]"
     ]
    },
    {
     "name": "stdout",
     "output_type": "stream",
     "text": [
      "--- Epoch 80/1000 ---\n",
      "trainLoss: 8.0165e-01\n",
      "LR: 1.0000e-05\n"
     ]
    },
    {
     "name": "stderr",
     "output_type": "stream",
     "text": [
      "\r",
      "  8%|▊         | 80/1000 [17:10<3:16:46, 12.83s/it]"
     ]
    },
    {
     "name": "stdout",
     "output_type": "stream",
     "text": [
      "valLoss: 1.3196e-02\n",
      "--- Epoch 81/1000 ---\n",
      "trainLoss: 9.3017e-01\n",
      "LR: 1.0000e-05\n"
     ]
    },
    {
     "name": "stderr",
     "output_type": "stream",
     "text": [
      "\r",
      "  8%|▊         | 81/1000 [17:22<3:16:01, 12.80s/it]"
     ]
    },
    {
     "name": "stdout",
     "output_type": "stream",
     "text": [
      "valLoss: 1.4785e-02\n",
      "--- Epoch 82/1000 ---\n",
      "trainLoss: 9.0797e-01\n",
      "LR: 1.0000e-05\n"
     ]
    },
    {
     "name": "stderr",
     "output_type": "stream",
     "text": [
      "\r",
      "  8%|▊         | 82/1000 [17:35<3:15:25, 12.77s/it]"
     ]
    },
    {
     "name": "stdout",
     "output_type": "stream",
     "text": [
      "valLoss: 1.3610e-02\n",
      "--- Epoch 83/1000 ---\n",
      "trainLoss: 8.1108e-01\n",
      "LR: 1.0000e-06\n"
     ]
    },
    {
     "name": "stderr",
     "output_type": "stream",
     "text": [
      "\r",
      "  8%|▊         | 83/1000 [17:48<3:14:58, 12.76s/it]"
     ]
    },
    {
     "name": "stdout",
     "output_type": "stream",
     "text": [
      "valLoss: 1.2575e-02\n",
      "--- Epoch 84/1000 ---\n",
      "trainLoss: 7.9774e-01\n",
      "LR: 1.0000e-06\n"
     ]
    },
    {
     "name": "stderr",
     "output_type": "stream",
     "text": [
      "\r",
      "  8%|▊         | 84/1000 [18:00<3:14:33, 12.74s/it]"
     ]
    },
    {
     "name": "stdout",
     "output_type": "stream",
     "text": [
      "valLoss: 1.2470e-02\n",
      "--- Epoch 85/1000 ---\n",
      "trainLoss: 7.9105e-01\n",
      "LR: 1.0000e-06\n"
     ]
    },
    {
     "name": "stderr",
     "output_type": "stream",
     "text": [
      "\r",
      "  8%|▊         | 85/1000 [18:13<3:14:10, 12.73s/it]"
     ]
    },
    {
     "name": "stdout",
     "output_type": "stream",
     "text": [
      "valLoss: 1.2403e-02\n",
      "--- Epoch 86/1000 ---\n",
      "trainLoss: 7.8951e-01\n",
      "LR: 1.0000e-07\n"
     ]
    },
    {
     "name": "stderr",
     "output_type": "stream",
     "text": [
      "\r",
      "  9%|▊         | 86/1000 [18:26<3:13:52, 12.73s/it]"
     ]
    },
    {
     "name": "stdout",
     "output_type": "stream",
     "text": [
      "valLoss: 1.2382e-02\n",
      "--- Epoch 87/1000 ---\n",
      "trainLoss: 7.8281e-01\n",
      "LR: 1.0000e-07\n"
     ]
    },
    {
     "name": "stderr",
     "output_type": "stream",
     "text": [
      "\r",
      "  9%|▊         | 87/1000 [18:39<3:13:42, 12.73s/it]"
     ]
    },
    {
     "name": "stdout",
     "output_type": "stream",
     "text": [
      "valLoss: 1.2376e-02\n",
      "--- Epoch 88/1000 ---\n",
      "trainLoss: 7.8825e-01\n",
      "LR: 1.0000e-07\n"
     ]
    },
    {
     "name": "stderr",
     "output_type": "stream",
     "text": [
      "\r",
      "  9%|▉         | 88/1000 [18:51<3:13:23, 12.72s/it]"
     ]
    },
    {
     "name": "stdout",
     "output_type": "stream",
     "text": [
      "valLoss: 1.2378e-02\n",
      "--- Epoch 89/1000 ---\n",
      "trainLoss: 7.8774e-01\n",
      "LR: 1.0000e-07\n"
     ]
    },
    {
     "name": "stderr",
     "output_type": "stream",
     "text": [
      "\r",
      "  9%|▉         | 89/1000 [19:04<3:13:08, 12.72s/it]"
     ]
    },
    {
     "name": "stdout",
     "output_type": "stream",
     "text": [
      "valLoss: 1.2352e-02\n",
      "--- Epoch 90/1000 ---\n",
      "trainLoss: 7.8564e-01\n",
      "LR: 1.0000e-07\n",
      "valLoss: 1.2347e-02\n",
      "---------- Finished Training ----------\n"
     ]
    }
   ],
   "source": [
    "writeMessage('---------- Started Training ----------', versionName)\n",
    "bestLoss = np.infty\n",
    "\n",
    "for epoch in tqdm(range(1, epochs+1)):  # loop over the dataset multiple times\n",
    "    \n",
    "    writeMessage(\"--- Epoch {0}/{1} ---\".format(epoch, epochs), versionName)\n",
    "    \n",
    "    model.train()\n",
    "    trainLoss, tensorboard_recorder_step, total_steps = trainEpoch(trainDataLoader, \n",
    "                                                                   train_writer, model, opt, p_loss, loss,\n",
    "                                                                   rmse, lr_scheduler, \n",
    "                                                                   tensorboard_rate, device,\n",
    "                                                                   tensorboard_recorder_step, total_steps)\n",
    "    \n",
    "    writeMessage(\"trainLoss: {:.4e}\".format(trainLoss),versionName)\n",
    "    writeMessage(\"LR: {:.4e}\".format(opt.param_groups[0]['lr']),versionName)\n",
    "#     if trainLoss < bestLoss:\n",
    "#         bestLoss = trainLoss\n",
    "#         writeMessage(\"Better trainLoss: {:.4e}, Saving models...\".format(bestLoss),versionName)\n",
    "#         torch.save(model.state_dict(), os.path.join(cps,versionName))\n",
    "        \n",
    "    model.eval()\n",
    "    valLoss = validEpoch(testDataLoader, test_writer, model, p_loss, loss, rmse, device, tensorboard_recorder_step)\n",
    "    writeMessage(\"valLoss: {:.4e}\".format(valLoss),versionName)\n",
    "    \n",
    "    # checkpoint progress\n",
    "    if valLoss < bestLoss:\n",
    "        bestLoss = valLoss\n",
    "        writeMessage(\"Better valLoss: {:.4e}, Saving models...\".format(bestLoss),versionName)\n",
    "        torch.save(model.state_dict(), os.path.join(cps,versionName))\n",
    "\n",
    "    lr_scheduler.step(trainLoss)\n",
    "    \n",
    "    if opt.param_groups[0]['lr'] < 5e-8:\n",
    "        break\n",
    "writeMessage('---------- Finished Training ----------', versionName)"
   ]
  },
  {
   "cell_type": "markdown",
   "metadata": {},
   "source": [
    "## Compare: Generated vs. Simulated"
   ]
  },
  {
   "cell_type": "code",
   "execution_count": null,
   "metadata": {},
   "outputs": [],
   "source": [
    "model.load_state_dict(torch.load(os.path.join(cps,versionName)))\n",
    "model = model.to(device)"
   ]
  },
  {
   "cell_type": "code",
   "execution_count": null,
   "metadata": {},
   "outputs": [
    {
     "data": {
      "text/plain": [
       "(torch.Size([16, 1, 128, 128]),\n",
       " torch.Size([16, 1000]),\n",
       " torch.Size([16, 1, 128, 128]))"
      ]
     },
     "execution_count": null,
     "metadata": {},
     "output_type": "execute_result"
    }
   ],
   "source": [
    "model.eval()\n",
    "sampleBatch = next(iter(testDataLoader))\n",
    "X,p = sampleBatch\n",
    "X = X.to(device)\n",
    "\n",
    "with torch.no_grad():\n",
    "    X_hat, p = model(X)\n",
    "\n",
    "if createStreamFcn:\n",
    "    X_hat = stream2uv(X_hat,device)\n",
    "    \n",
    "X.shape, p.shape, X_hat.shape"
   ]
  },
  {
   "cell_type": "markdown",
   "metadata": {},
   "source": [
    "### Visualize full simulation"
   ]
  },
  {
   "cell_type": "code",
   "execution_count": null,
   "metadata": {},
   "outputs": [
    {
     "data": {
      "text/plain": [
       "(torch.Size([500, 1, 128, 128]), torch.Size([500, 1, 128, 128]))"
      ]
     },
     "execution_count": null,
     "metadata": {},
     "output_type": "execute_result"
    }
   ],
   "source": [
    "simDataLoader = DataLoader(dataset=testDataset, batch_size=1)\n",
    "XX = []\n",
    "Real_X = []\n",
    "model.eval()\n",
    "for i, sampleBatch in enumerate(simDataLoader,start=1):\n",
    "    with torch.no_grad():\n",
    "        X,p = sampleBatch\n",
    "        X = X.to(device)\n",
    "        p = p.to(device)\n",
    "        Real_X.append(X)\n",
    "        \n",
    "        X_hat,_ = model(X)\n",
    "        \n",
    "        if createStreamFcn:\n",
    "            X_hat = stream2uv(X_hat,device)\n",
    "            \n",
    "        XX.append(X_hat)\n",
    "        \n",
    "        #X = X.detach().cpu().squeeze()\n",
    "        #X_hat = X_hat.detach().cpu().squeeze()\n",
    "        #plotSampleWprediction(X, X_hat)\n",
    "\n",
    "Real_X = torch.cat(Real_X,axis=0).to('cpu')\n",
    "Real_X_img = torch.rot90(convertSimToImage(Real_X),1,dims=[2,3])\n",
    "\n",
    "Surr_X = torch.cat(XX,axis=0).to('cpu')\n",
    "Surr_X_img = torch.rot90(convertSimToImage(Surr_X),1,dims=[2,3])\n",
    "Real_X_img.shape, Surr_X_img.shape"
   ]
  },
  {
   "cell_type": "markdown",
   "metadata": {},
   "source": [
    "### Metrics"
   ]
  },
  {
   "cell_type": "code",
   "execution_count": null,
   "metadata": {},
   "outputs": [
    {
     "data": {
      "text/plain": [
       "tensor(0.0312)"
      ]
     },
     "execution_count": null,
     "metadata": {},
     "output_type": "execute_result"
    }
   ],
   "source": [
    "rmse(Real_X,Surr_X)"
   ]
  },
  {
   "cell_type": "code",
   "execution_count": null,
   "metadata": {},
   "outputs": [
    {
     "data": {
      "text/plain": [
       "tensor(0.3641)"
      ]
     },
     "execution_count": null,
     "metadata": {},
     "output_type": "execute_result"
    }
   ],
   "source": [
    "rel_error = torch.norm(Real_X - Surr_X)/torch.norm(Real_X)\n",
    "rel_error"
   ]
  },
  {
   "cell_type": "code",
   "execution_count": null,
   "metadata": {},
   "outputs": [
    {
     "data": {
      "text/plain": [
       "[<matplotlib.lines.Line2D at 0x7f773474ff90>]"
      ]
     },
     "execution_count": null,
     "metadata": {},
     "output_type": "execute_result"
    },
    {
     "data": {
      "image/png": "[encoded data removed]",
      "text/plain": [
       "<Figure size 432x288 with 1 Axes>"
      ]
     },
     "metadata": {
      "needs_background": "light"
     },
     "output_type": "display_data"
    }
   ],
   "source": [
    "re = []\n",
    "for x,y in zip(Real_X, Surr_X):\n",
    "    x = x.squeeze()\n",
    "    y = y.squeeze()\n",
    "    e = torch.norm(x - y)/torch.norm(x)\n",
    "    re.append(e)\n",
    "plt.plot(re)"
   ]
  },
  {
   "cell_type": "markdown",
   "metadata": {},
   "source": [
    "### Make Movie"
   ]
  },
  {
   "cell_type": "code",
   "execution_count": null,
   "metadata": {},
   "outputs": [],
   "source": [
    "import matplotlib.animation as animation\n",
    "import matplotlib.gridspec as gridspec\n",
    "import matplotlib.animation as manimati\n",
    "from matplotlib import animation, rc\n",
    "def create_1_channel_movie(im,outfile='sim.mp4',title='surrogate            simulation'):\n",
    "    ti = 0\n",
    "    u_mx = 255 #np.max(np.abs(Xrgb))\n",
    "    fig = plt.figure()\n",
    "    ax = fig.add_subplot(111)\n",
    "    plt.title(title)\n",
    "    cmap = plt.cm.ocean\n",
    "    img = ax.imshow(im[0].squeeze(), cmap=cmap, vmin=0, vmax=u_mx)\n",
    "    #plt.show()\n",
    "    \n",
    "    # initialization function: plot the background of each frame\n",
    "    def init():\n",
    "        img = ax.imshow(im[0].squeeze(), cmap=cmap, vmin=0, vmax=u_mx)\n",
    "        return (fig,)\n",
    "\n",
    "    # animation function. This is called sequentially\n",
    "    def animate(i):\n",
    "        img = ax.imshow(im[i].squeeze(), cmap=cmap, vmin=0, vmax=u_mx)\n",
    "        return (fig,)\n",
    "\n",
    "\n",
    "    # call the animator. blit=True means only re-draw the parts that have changed.\n",
    "    anim = animation.FuncAnimation(fig, animate, init_func=init,\n",
    "                                   frames=len(im), interval=20, blit=True)\n",
    "    anim.save(outfile, fps=30, extra_args=['-vcodec', 'libx264'])"
   ]
  },
  {
   "cell_type": "code",
   "execution_count": null,
   "metadata": {},
   "outputs": [],
   "source": [
    "Xrgb = torch.cat([Surr_X_img, Real_X_img], dim=3)\n",
    "Xrgb.shape"
   ]
  },
  {
   "cell_type": "code",
   "execution_count": null,
   "metadata": {},
   "outputs": [],
   "source": [
    "outGif = '{}.gif'.format(versionName)\n",
    "create_1_channel_movie(Xrgb.detach().numpy(),outfile=outGif)"
   ]
  },
  {
   "cell_type": "code",
   "execution_count": null,
   "metadata": {},
   "outputs": [],
   "source": [
    "from IPython.display import Image\n",
    "Image(filename=outGif)"
   ]
  },
  {
   "cell_type": "code",
   "execution_count": null,
   "metadata": {},
   "outputs": [
    {
     "data": {
      "text/plain": [
       "tensor(15)"
      ]
     },
     "execution_count": null,
     "metadata": {},
     "output_type": "execute_result"
    }
   ],
   "source": [
    "torch.prod(torch.tensor([3,5]))"
   ]
  },
  {
   "cell_type": "markdown",
   "metadata": {},
   "source": [
    "## Stats"
   ]
  },
  {
   "cell_type": "code",
   "execution_count": null,
   "metadata": {},
   "outputs": [
    {
     "name": "stderr",
     "output_type": "stream",
     "text": [
      "/home/widemann1/anaconda3/envs/torch2/lib/python3.7/site-packages/ipykernel_launcher.py:5: MatplotlibDeprecationWarning: \n",
      "The 'normed' kwarg was deprecated in Matplotlib 2.1 and will be removed in 3.1. Use 'density' instead.\n",
      "  \"\"\"\n",
      "/home/widemann1/anaconda3/envs/torch2/lib/python3.7/site-packages/ipykernel_launcher.py:6: MatplotlibDeprecationWarning: \n",
      "The 'normed' kwarg was deprecated in Matplotlib 2.1 and will be removed in 3.1. Use 'density' instead.\n",
      "  \n"
     ]
    },
    {
     "data": {
      "image/png": "[encoded data removed]",
      "text/plain": [
       "<Figure size 720x720 with 1 Axes>"
      ]
     },
     "metadata": {
      "needs_background": "light"
     },
     "output_type": "display_data"
    }
   ],
   "source": [
    "x = Real_X.flatten()\n",
    "y = Surr_X.flatten()\n",
    "bins = np.linspace(x.min(), x.max(), 1000)\n",
    "plt.figure(figsize=(10,10))\n",
    "plt.hist(x, bins, alpha=0.5, label='x', normed=True)\n",
    "plt.hist(y, bins, alpha=0.5, label='y', normed=True)\n",
    "plt.legend(loc='upper right')\n",
    "plt.show()"
   ]
  },
  {
   "cell_type": "code",
   "execution_count": null,
   "metadata": {},
   "outputs": [],
   "source": [
    "def printStats(X):\n",
    "    X  = np.array(X)\n",
    "    mu = X.mean()\n",
    "    sig = X.std()\n",
    "    mx = X.max()\n",
    "    mn = X.min()\n",
    "    print('mu: {}, std: {}, mx: {}, mn: {}'.format(mu,sig,mx,mn))\n",
    "    return mu,sig,mx,mn"
   ]
  },
  {
   "cell_type": "code",
   "execution_count": null,
   "metadata": {},
   "outputs": [
    {
     "name": "stdout",
     "output_type": "stream",
     "text": [
      "mu: 0.008976921439170837, std: 0.08528874814510345, mx: 2.051384449005127, mn: -3.421556234359741\n",
      "mu: 0.009030378423631191, std: 0.07568173855543137, mx: 1.1899173259735107, mn: -1.4470993280410767\n"
     ]
    }
   ],
   "source": [
    "a = printStats(Real_X.flatten())\n",
    "b = printStats(Surr_X.flatten())"
   ]
  },
  {
   "cell_type": "code",
   "execution_count": null,
   "metadata": {},
   "outputs": [],
   "source": []
  }
 ],
 "metadata": {
  "kernelspec": {
   "display_name": "Python 3",
   "language": "python",
   "name": "python3"
  }
 },
 "nbformat": 4,
 "nbformat_minor": 2
}
