{
 "cells": [
  {
   "cell_type": "code",
   "execution_count": 1,
   "metadata": {
    "ExecuteTime": {
     "end_time": "2020-11-06T00:23:09.496832Z",
     "start_time": "2020-11-06T00:23:09.491295Z"
    }
   },
   "outputs": [],
   "source": [
    "# default_exp pnnlDatasets"
   ]
  },
  {
   "cell_type": "markdown",
   "metadata": {},
   "source": [
    "## Import libraries"
   ]
  },
  {
   "cell_type": "markdown",
   "metadata": {},
   "source": [
    "This class reads in a dataset and does the necessary preprocessing for a pytorch model.\n",
    "\n",
    "There are 3 pnnl datasets: 001, 025, 050\n",
    "\n",
    "The liquid velocity at the top boundary is different for the three cases.\n",
    "001: 2e-3m/s\n",
    "025: 6.45e-3m/s\n",
    "050: 2.18e-2m/s"
   ]
  },
  {
   "cell_type": "code",
   "execution_count": 2,
   "metadata": {
    "ExecuteTime": {
     "end_time": "2020-11-06T00:23:13.292782Z",
     "start_time": "2020-11-06T00:23:10.573913Z"
    }
   },
   "outputs": [],
   "source": [
    "#hide\n",
    "from nbdev.showdoc import *"
   ]
  },
  {
   "cell_type": "code",
   "execution_count": 3,
   "metadata": {
    "ExecuteTime": {
     "end_time": "2020-11-06T00:23:21.575586Z",
     "start_time": "2020-11-06T00:23:13.295794Z"
    }
   },
   "outputs": [],
   "source": [
    "# EXPORT\n",
    "#from torchvision import datasets, transforms\n",
    "import os, sys\n",
    "from glob import glob\n",
    "import pickle\n",
    "import numpy as np\n",
    "import torch\n",
    "from torch.utils.data import Dataset, DataLoader\n",
    "import matplotlib.pyplot as plt\n",
    "from random import shuffle\n",
    "from tqdm import tqdm\n",
    "import pandas as pd\n",
    "from scipy.interpolate import interp2d, griddata\n",
    "from mpl_toolkits.axes_grid1 import make_axes_locatable\n",
    "import re\n",
    "from surrogates4sims.utils import pkl_load, pkl_save"
   ]
  },
  {
   "cell_type": "markdown",
   "metadata": {},
   "source": [
    "## PNNL CCSI_2D Dataset Class"
   ]
  },
  {
   "cell_type": "code",
   "execution_count": 4,
   "metadata": {
    "ExecuteTime": {
     "end_time": "2020-11-06T00:57:35.616671Z",
     "start_time": "2020-11-06T00:57:35.532109Z"
    }
   },
   "outputs": [],
   "source": [
    "# EXPORT\n",
    "def plotData(grid_x, grid_y, grid_z, title, pngFile=None):\n",
    "    plt.figure()\n",
    "    ax = plt.gca()\n",
    "    im = ax.pcolormesh(grid_y,grid_x, grid_z, cmap='RdYlBu')\n",
    "    plt.axes().set_aspect('equal')\n",
    "    plt.title(title)\n",
    "    divider = make_axes_locatable(ax)\n",
    "    cax = divider.append_axes(\"right\", size=\"5%\", pad=0.05)\n",
    "    plt.colorbar(im, cax=cax)\n",
    "    plt.show()\n",
    "    if pngFile:\n",
    "        plt.savefig(pngFile, dpi=300)\n",
    "        plt.close()\n",
    "        \n",
    "def interpData(x,y,z,Nx=None,Ny=None,delta_x=None,nextPow2=False,method='linear'):\n",
    "    '''\n",
    "    This function takes 3 lists of points (x,y,z) and maps them to a \n",
    "    rectangular grid. Either Nx or Ny must be set or delta_x must be set. \n",
    "    e.g. \n",
    "    \n",
    "    x = y = z = np.random.rand(30)\n",
    "    grid_x, grid_y, grid_z = interpData(x,y,z,Nx=128,Ny=128)\n",
    "    \n",
    "    or \n",
    "    \n",
    "    grid_x, grid_y, grid_z = interpData(x,y,z,delta_x=1e-3,nextPow2=True)\n",
    "    '''\n",
    "    \n",
    "    eps = 1e-4 # needed to make sure that the interpolation does not have nans. \n",
    "    def _NextPowerOfTwo(number):\n",
    "        # Returns next power of two following 'number'\n",
    "        return np.ceil(np.log2(number))\n",
    "    \n",
    "    if Nx == None and Ny == None:\n",
    "        assert delta_x != None\n",
    "        delta_y = delta_x\n",
    "        Nx = int((x.max() - x.min())/delta_x)\n",
    "        Ny = int((y.max() - y.min())/delta_y)\n",
    "\n",
    "    if nextPow2:\n",
    "        Nx = 2**_NextPowerOfTwo(Nx)\n",
    "        Ny = 2**_NextPowerOfTwo(Ny)\n",
    "        \n",
    "    grid_x, grid_y = np.mgrid[x.min()+eps:x.max()-eps:Nx*1j,y.min()+eps:y.max()-eps:Ny*1j]\n",
    "    grid_z = griddata(np.array([x,y]).T, z, (grid_x, grid_y), method=method)\n",
    "    return grid_x, grid_y, grid_z\n",
    "\n",
    "def plotFrame(fn):\n",
    "    D = pd.read_csv(fn)\n",
    "    x = D['X (m)']\n",
    "    y = D['Y (m)']\n",
    "    for d in D.columns[:4]:\n",
    "        z = D[d]\n",
    "        grid_x, grid_y, grid_z = interpData(x.values,y.values,z.values,delta_x=1e-4)\n",
    "        idx = getInt(fn)\n",
    "        d = d.replace(' ','_')\n",
    "        d = re.sub(r'[^A-Za-z0-9 ]+', '_', d)[:-1]\n",
    "        title = '{}, Time Step: {}'.format(d,idx)\n",
    "        pngFile = '{}_{}.png'.format(d,idx)\n",
    "        plotData(grid_y, grid_x, grid_z, title, pngFile)\n",
    "\n",
    "\n",
    "class CCSI_2D(Dataset):\n",
    "    def __init__(self, \n",
    "                 dataFiles,\n",
    "                 txtFile = '/data/ccsi/pnnl_liquid_inlet/liquid_inlet_velocity.txt',\n",
    "                 channel=1,\n",
    "                 gridSize=128,\n",
    "                 simLen = 500,\n",
    "                 w = 10, # this is the length of the Y output to predict\n",
    "                 AE = False, # this only return x,x, i.e. no y.\n",
    "                 numToKeep=np.infty,doPreprocess=False): \n",
    "        \n",
    "        self.dataFiles = dataFiles\n",
    "        if numToKeep < len(self.dataFiles):\n",
    "            self.dataFiles = self.dataFiles[:numToKeep]\n",
    "\n",
    "        self.channel = channel\n",
    "        self.gridSize = gridSize\n",
    "        self.numToKeep = numToKeep\n",
    "        self.simLen = simLen\n",
    "        self.t = np.linspace(0,1,simLen).astype('float32')\n",
    "        self.w = w\n",
    "        self.AE = AE\n",
    "        self.doPreprocess = doPreprocess\n",
    "        \n",
    "        # Get the inlet velocity\n",
    "        with open(txtFile) as fid:\n",
    "            txt = fid.read().splitlines()\n",
    "        inletVelocity = np.array(list(map(float,txt[1:]))).astype('float32')\n",
    "        self.inletMx = np.max(inletVelocity)\n",
    "        self.inletMn = np.min(inletVelocity)\n",
    "#         inds = list(map(lambda x: int(x.split('/')[-1].replace('.pkl','')) - 1,self.dataFiles))\n",
    "#         self.inletVelocity = inletVelocity[inds]\n",
    "        \n",
    "        data = []\n",
    "        for fn in self.dataFiles:\n",
    "            idx = int(fn.split('/')[-1].replace('.pkl','')) - 1\n",
    "            D = pkl_load(fn)\n",
    "            data.append((D,inletVelocity[idx]))\n",
    "               \n",
    "        self.data = data\n",
    "#         if preprocess:\n",
    "#             for i, d in enumerate(self.data):\n",
    "#                 self.data[i] = self.preprocessFcn(d)\n",
    "    \n",
    "#     def preprocessFcn(self, X,mx=[5.46,4.1,1.,2012.],\n",
    "#                       mn=[-4.8, -8.8,0.,-1725.]):\n",
    "#         # mx and mn are the maximums and minimums\n",
    "#         # of the original data's 4 channels.\n",
    "#         Xnew = np.empty_like(X)\n",
    "#         cnt = 0\n",
    "#         for x,M,m in zip(X,mx,mn):\n",
    "#             Xnew[cnt] = 2*((x-m)/(M-m) - .5) \n",
    "#             cnt += 1\n",
    "#         return Xnew\n",
    "\n",
    "#     def inversePreprocessFcn(self, X,mx=[5.46,4.1,1.,2012.],\n",
    "#                              mn=[-4.8, -8.8,0.,-1725.]):\n",
    "#         Xnew = np.empty_like(X)\n",
    "#         cnt = 0\n",
    "#         for x,M,m in zip(X,mx,mn):\n",
    "#             Xnew[cnt] = (M - m)*((x/2) + .5) + m \n",
    "#             cnt += 1\n",
    "#         return Xnew\n",
    "    \n",
    "    def __len__(self):\n",
    "        return len(self.simLen*self.data)\n",
    "\n",
    "\n",
    "#     def plotData(self,idx,pngFile=None):\n",
    "#         D = self.data[idx]\n",
    "#         for i in range(4):\n",
    "#             grid_z = D[i]\n",
    "#             plt.figure()\n",
    "#             ax = plt.gca()\n",
    "#             im = ax.pcolormesh(self.grid_x,self.grid_y, grid_z, cmap='RdYlBu')\n",
    "#             plt.axes().set_aspect('equal')\n",
    "#             plt.title('Sample {}, {}'.format(idx,self.column[i]))\n",
    "#             divider = make_axes_locatable(ax)\n",
    "#             cax = divider.append_axes(\"right\", size=\"5%\", pad=0.05)\n",
    "#             plt.colorbar(im, cax=cax)\n",
    "#             if pngFile:\n",
    "#                 plt.savefig(pngFile, dpi=300)\n",
    "#                 plt.close()\n",
    "\n",
    "    def __getitem__(self, idx):\n",
    "        if len(self.data) == 1:\n",
    "            q = 0\n",
    "            r_idx = idx\n",
    "        else:\n",
    "            q,r = np.divmod(idx,self.simLen)\n",
    "            r_idx = np.random.randint(0,self.simLen-self.w)\n",
    "            \n",
    "        X,p = self.data[q]\n",
    "        x = X[r_idx:r_idx+1]\n",
    "        #print(x.shape)\n",
    "        y = X[r_idx+1:r_idx+self.w+1]\n",
    "        #print(y.shape)\n",
    "        if self.doPreprocess:\n",
    "            x = self.preprocessFcn(x)\n",
    "            y = self.preprocessFcn(y)\n",
    "        \n",
    "        y = np.expand_dims(y,1)\n",
    "        p_x = np.hstack([p,self.t[r_idx]])\n",
    "        p_y = np.vstack([p*np.ones((self.w,)),self.t[r_idx+1:r_idx+self.w+1]]).T\n",
    "        X = x.astype('float32')\n",
    "        Y = y.astype('float32')\n",
    "        if self.AE:\n",
    "            return X,X # this allows LR_finder to work\n",
    "        else:\n",
    "            return X, Y, p_x, p_y\n",
    "\n",
    "\n",
    "        \n",
    "class CCSI_2D_old(Dataset):\n",
    "    def __init__(self, \n",
    "                 dataDirec='/data/ccsi/PNNLTimeStepData/001a/',\n",
    "                 numToKeep=np.infty,transform=None,preprocess=True,\n",
    "                 Nx=None,Ny=None,delta_x=None,nextPow2=True,interpMethod='linear',\n",
    "                 channel=None): \n",
    "        \n",
    "        self.data = []\n",
    "        self.files = []\n",
    "        self.delta_x = delta_x\n",
    "        self.nextPow2 = nextPow2\n",
    "        self.Nx = Nx\n",
    "        self.Ny = Ny\n",
    "        self.grid_x = []\n",
    "        self.grid_y = []\n",
    "        self.preprocess = preprocess\n",
    "        self.interpMethod = interpMethod\n",
    "        self.channel = channel\n",
    "        \n",
    "        if type(dataDirec) == list:\n",
    "            self.files = dataDirec\n",
    "        elif 'pkl' in dataDirec:\n",
    "            with open(dataDirec,'rb') as fid:\n",
    "                D = pickle.load(fid)\n",
    "                self.data = np.array(D['data'])\n",
    "                self.grid_x = D['grid_x']\n",
    "                self.grid_y = D['grid_y']\n",
    "                if numToKeep < len(self.data):\n",
    "                     self.data = self.data[:numToKeep]\n",
    "        else:\n",
    "            files = glob(os.path.join(dataDirec,'*.csv'))       \n",
    "            L = np.argsort(list(map(getInt,files)))\n",
    "            self.files = [files[i] for i in L]\n",
    "            \n",
    "        self.dataDirec = dataDirec\n",
    "        self.numToKeep = numToKeep\n",
    "        self.transform = transform\n",
    "        self.preprocess = preprocess\n",
    "        self.column = []\n",
    "\n",
    "        \n",
    "        if self.files is not []:\n",
    "            if numToKeep < len(self.files):\n",
    "                self.files = self.files[:numToKeep]\n",
    "\n",
    "            for f in self.files:\n",
    "                self.data.append(self.loadfile(f)) \n",
    "                \n",
    "        if preprocess:\n",
    "            for i, d in enumerate(self.data):\n",
    "                self.data[i] = self.preprocessFcn(d)\n",
    "\n",
    "    def loadfile(self,fn):\n",
    "        D = pd.read_csv(fn)\n",
    "        x = D['X (m)'].values.astype('float32')\n",
    "        y = D['Y (m)'].values.astype('float32')\n",
    "        X = []\n",
    "        for d in D.columns[:4]:\n",
    "            z = D[d].values.astype('float32')\n",
    "            grid_x, grid_y, grid_z = interpData(x,y,z,\n",
    "                                                self.Nx,self.Ny,\n",
    "                                                self.delta_x,self.nextPow2,\n",
    "                                                self.interpMethod)\n",
    "            X.append(grid_z)\n",
    "            \n",
    "        self.grid_x = grid_x\n",
    "        self.grid_y = grid_y\n",
    "        self.column = D.columns[:4]\n",
    "        return np.array(X).astype('float32')\n",
    "\n",
    "    \n",
    "    def preprocessFcn(self, X,mx=[5.46,4.1,1.,2012.],\n",
    "                      mn=[-4.8, -8.8,0.,-1725.]):\n",
    "        # mx and mn are the maximums and minimums\n",
    "        # of the original data's 4 channels.\n",
    "        assert len(X) == 4\n",
    "        Xnew = np.empty_like(X)\n",
    "        cnt = 0\n",
    "        for x,M,m in zip(X,mx,mn):\n",
    "            Xnew[cnt] = 2*((x-m)/(M-m) - .5) \n",
    "            cnt += 1\n",
    "        return Xnew\n",
    "\n",
    "    def inversePreprocessFcn(self, X,mx=[5.46,4.1,1.,2012.],\n",
    "                             mn=[-4.8, -8.8,0.,-1725.]):\n",
    "        assert len(X) == 4\n",
    "        Xnew = np.empty_like(X)\n",
    "        cnt = 0\n",
    "        for x,M,m in zip(X,mx,mn):\n",
    "            Xnew[cnt] = (M - m)*((x/2) + .5) + m \n",
    "            cnt += 1\n",
    "        return Xnew\n",
    "    \n",
    "    def __len__(self):\n",
    "        return len(self.data)\n",
    "\n",
    "\n",
    "    def plotData(self,idx,pngFile=None):\n",
    "        D = self.data[idx]\n",
    "        for i in range(4):\n",
    "            grid_z = D[i]\n",
    "            plt.figure()\n",
    "            ax = plt.gca()\n",
    "            im = ax.pcolormesh(self.grid_x,self.grid_y, grid_z, cmap='RdYlBu')\n",
    "            plt.axes().set_aspect('equal')\n",
    "            plt.title('Sample {}, {}'.format(idx,self.column[i]))\n",
    "            divider = make_axes_locatable(ax)\n",
    "            cax = divider.append_axes(\"right\", size=\"5%\", pad=0.05)\n",
    "            plt.colorbar(im, cax=cax)\n",
    "            if pngFile:\n",
    "                plt.savefig(pngFile, dpi=300)\n",
    "                plt.close()\n",
    "\n",
    "    def __getitem__(self, idx):\n",
    "        X  = self.data[idx].astype('float32')\n",
    "        if self.channel is not None:\n",
    "            X = X[self.channel,:,:]\n",
    "            X = X[np.newaxis]\n",
    "        \n",
    "        if self.transform is not None:\n",
    "            X = self.transform(X)\n",
    "        return X,X # this allows LR_finder to work\n",
    "\n",
    "\n",
    "# these functions are in the class too\n",
    "def preprocessFcn(X,mx=[5.46,4.1,1.,2012.],\n",
    "                 mn=[-4.8, -8.8,0.,-1725.]):\n",
    "    # maps the X to [-1,1]\n",
    "    assert len(X) == 4\n",
    "    Xnew = np.empty_like(X)\n",
    "    cnt = 0\n",
    "    for x,M,m in zip(X,mx,mn):\n",
    "        Xnew[cnt] = 2*((x-m)/(M-m) - .5) \n",
    "        cnt += 1\n",
    "    return Xnew\n",
    "\n",
    "def inversePreprocessFcn(X,mx=[5.46,4.1,1.,2012.],\n",
    "                 mn=[-4.8, -8.8,0.,-1725.]):\n",
    "    Xnew = np.empty_like(X)\n",
    "    cnt = 0\n",
    "    for x,M,m in zip(X,mx,mn):\n",
    "        Xnew[cnt] = (M - m)*((x/2) + .5) + m \n",
    "        cnt += 1\n",
    "    return Xnew\n",
    "\n",
    "\n",
    "def getInt(f):\n",
    "    return int(f.split('_')[-1].replace('.csv',''))"
   ]
  },
  {
   "cell_type": "markdown",
   "metadata": {},
   "source": [
    "## Testing PNNL Large Dataset"
   ]
  },
  {
   "cell_type": "code",
   "execution_count": 5,
   "metadata": {
    "ExecuteTime": {
     "end_time": "2020-11-06T00:57:40.251600Z",
     "start_time": "2020-11-06T00:57:40.246043Z"
    }
   },
   "outputs": [],
   "source": [
    "seed = 1235\n",
    "np.random.seed(seed=seed)\n",
    "test_split = .2\n",
    "channel = 2\n",
    "gridsize = 128"
   ]
  },
  {
   "cell_type": "code",
   "execution_count": 6,
   "metadata": {
    "ExecuteTime": {
     "end_time": "2020-11-06T00:58:24.053130Z",
     "start_time": "2020-11-06T00:58:24.045385Z"
    }
   },
   "outputs": [
    {
     "name": "stdout",
     "output_type": "stream",
     "text": [
      "['023.pkl', '005.pkl', '016.pkl', '004.pkl', '002.pkl', '021.pkl', '014.pkl', '006.pkl', '009.pkl', '007.pkl', '008.pkl', '010.pkl', '001.pkl', '012.pkl', '003.pkl', '022.pkl', '018.pkl', '013.pkl', '024.pkl', '019.pkl', '011.pkl', '017.pkl', '015.pkl', '020.pkl', '025.pkl', '026.pkl', '027.pkl', '028.pkl', '032.pkl', '029.pkl', '031.pkl', '030.pkl', '036.pkl', '037.pkl', '035.pkl', '039.pkl', '040.pkl', '038.pkl', '044.pkl', '043.pkl', '045.pkl', '042.pkl', '048.pkl', '047.pkl', '049.pkl', '050.pkl', '046.pkl', '033.pkl', '034.pkl', '041.pkl'] 50\n"
     ]
    }
   ],
   "source": [
    "raw_data = '/data/ccsi/pnnl_liquid_inlet/channel_{}/gridsize_{}'.format(channel,gridsize)\n",
    "sims = os.listdir(raw_data)\n",
    "# removeMe = ['041.pkl', '040.pkl', '029.pkl']\n",
    "# for r in removeMe:\n",
    "#     sims.remove(r) # fix later\n",
    "print(sims, len(sims))"
   ]
  },
  {
   "cell_type": "code",
   "execution_count": 7,
   "metadata": {
    "ExecuteTime": {
     "end_time": "2020-11-06T00:58:30.503839Z",
     "start_time": "2020-11-06T00:58:30.489960Z"
    }
   },
   "outputs": [
    {
     "data": {
      "text/plain": [
       "(10, 40)"
      ]
     },
     "execution_count": 7,
     "metadata": {},
     "output_type": "execute_result"
    }
   ],
   "source": [
    "numSims = len(sims)\n",
    "perm = np.random.permutation(numSims)\n",
    "idx = int(test_split*numSims)\n",
    "testInds = perm[:idx]\n",
    "trainInds = perm[idx:]\n",
    "testSimFiles = [os.path.join(raw_data,sims[idx]) for idx in testInds]\n",
    "trainSimFiles = [os.path.join(raw_data,sims[idx]) for idx in trainInds]\n",
    "len(testSimFiles), len(trainSimFiles)"
   ]
  },
  {
   "cell_type": "code",
   "execution_count": 8,
   "metadata": {
    "ExecuteTime": {
     "end_time": "2020-11-06T00:58:46.951700Z",
     "start_time": "2020-11-06T00:58:46.938276Z"
    }
   },
   "outputs": [
    {
     "data": {
      "text/plain": [
       "(array([0.002  , 0.0021 , 0.00221, 0.00232, 0.00243, 0.00255, 0.00268,\n",
       "        0.00281, 0.00295, 0.0031 , 0.00326, 0.00342, 0.00359, 0.00377,\n",
       "        0.00396, 0.00416, 0.00437, 0.00458, 0.00481, 0.00505, 0.00531,\n",
       "        0.00557, 0.00585, 0.00614, 0.00645, 0.00677, 0.00711, 0.00747,\n",
       "        0.00784, 0.00823, 0.00864, 0.00908, 0.00953, 0.01   , 0.0105 ,\n",
       "        0.011  , 0.0116 , 0.0122 , 0.0128 , 0.0134 , 0.0141 , 0.0148 ,\n",
       "        0.0155 , 0.0163 , 0.0171 , 0.018  , 0.0189 , 0.0198 , 0.0208 ,\n",
       "        0.0218 ]),\n",
       " (50,))"
      ]
     },
     "execution_count": 8,
     "metadata": {},
     "output_type": "execute_result"
    }
   ],
   "source": [
    "txtFile = '/data/ccsi/pnnl_liquid_inlet/liquid_inlet_velocity.txt'\n",
    "with open(txtFile) as fid:\n",
    "    txt = fid.read().splitlines()\n",
    "inletVelocity = np.array(list(map(float,txt[1:])))\n",
    "inletVelocity, inletVelocity.shape"
   ]
  },
  {
   "cell_type": "code",
   "execution_count": 9,
   "metadata": {
    "ExecuteTime": {
     "end_time": "2020-11-06T01:00:19.262051Z",
     "start_time": "2020-11-06T01:00:19.253301Z"
    }
   },
   "outputs": [
    {
     "data": {
      "text/plain": [
       "array([ 1,  6, 11, 16, 21, 27, 32, 37, 42, 48])"
      ]
     },
     "execution_count": 9,
     "metadata": {},
     "output_type": "execute_result"
    }
   ],
   "source": [
    "np.linspace(1,numSims-2,idx).astype('int')"
   ]
  },
  {
   "cell_type": "code",
   "execution_count": 10,
   "metadata": {
    "ExecuteTime": {
     "end_time": "2020-11-06T01:00:25.612351Z",
     "start_time": "2020-11-06T01:00:25.604772Z"
    }
   },
   "outputs": [
    {
     "data": {
      "text/plain": [
       "(array([36,  9, 27,  8, 37,  6, 23, 43,  4,  1]),\n",
       " array([21, 26, 13, 38, 48, 22, 29, 17, 25, 10, 46, 41, 19, 33, 28, 18, 45,\n",
       "         0, 32, 12,  5, 24, 30, 31, 49, 39, 44, 14, 20, 15, 47, 42, 16, 40,\n",
       "        35,  7,  3,  2, 34, 11]))"
      ]
     },
     "execution_count": 10,
     "metadata": {},
     "output_type": "execute_result"
    }
   ],
   "source": [
    "testInds, trainInds"
   ]
  },
  {
   "cell_type": "code",
   "execution_count": 11,
   "metadata": {
    "ExecuteTime": {
     "end_time": "2020-11-06T01:00:31.196990Z",
     "start_time": "2020-11-06T01:00:30.916624Z"
    }
   },
   "outputs": [
    {
     "data": {
      "text/plain": [
       "[<matplotlib.lines.Line2D at 0x7f17b77e51c0>]"
      ]
     },
     "execution_count": 11,
     "metadata": {},
     "output_type": "execute_result"
    },
    {
     "data": {
      "image/png": "[encoded data removed]",
      "text/plain": [
       "<Figure size 432x288 with 1 Axes>"
      ]
     },
     "metadata": {
      "needs_background": "light"
     },
     "output_type": "display_data"
    }
   ],
   "source": [
    "plt.plot(inletVelocity)"
   ]
  },
  {
   "cell_type": "code",
   "execution_count": 12,
   "metadata": {
    "ExecuteTime": {
     "end_time": "2020-11-06T01:00:35.690961Z",
     "start_time": "2020-11-06T01:00:35.486856Z"
    }
   },
   "outputs": [
    {
     "data": {
      "text/plain": [
       "[<matplotlib.lines.Line2D at 0x7f17b76f3130>]"
      ]
     },
     "execution_count": 12,
     "metadata": {},
     "output_type": "execute_result"
    },
    {
     "data": {
      "image/png": "[encoded data removed]",
      "text/plain": [
       "<Figure size 432x288 with 1 Axes>"
      ]
     },
     "metadata": {
      "needs_background": "light"
     },
     "output_type": "display_data"
    }
   ],
   "source": [
    "plt.plot(inletVelocity)\n",
    "plt.plot(testInds, inletVelocity[testInds], '.r')\n",
    "plt.plot(trainInds, inletVelocity[trainInds], '.g')"
   ]
  },
  {
   "cell_type": "code",
   "execution_count": 13,
   "metadata": {
    "ExecuteTime": {
     "end_time": "2020-11-06T01:00:47.172840Z",
     "start_time": "2020-11-06T01:00:47.163695Z"
    }
   },
   "outputs": [
    {
     "name": "stdout",
     "output_type": "stream",
     "text": [
      "[ 1  6 11 16 21 27 32 37 42 48] [0, 2, 3, 4, 5, 7, 8, 9, 10, 12, 13, 14, 15, 17, 18, 19, 20, 22, 23, 24, 25, 26, 28, 29, 30, 31, 33, 34, 35, 36, 38, 39, 40, 41, 43, 44, 45, 46, 47, 49]\n"
     ]
    }
   ],
   "source": [
    "testInds = np.linspace(1,numSims-2,idx).astype('int')\n",
    "trainInds = list(set(np.arange(0,numSims)).difference(set(testInds)))\n",
    "print(testInds,trainInds)"
   ]
  },
  {
   "cell_type": "code",
   "execution_count": 14,
   "metadata": {
    "ExecuteTime": {
     "end_time": "2020-11-06T01:01:00.130869Z",
     "start_time": "2020-11-06T01:00:59.925221Z"
    }
   },
   "outputs": [
    {
     "data": {
      "text/plain": [
       "[<matplotlib.lines.Line2D at 0x7f17b76d17f0>]"
      ]
     },
     "execution_count": 14,
     "metadata": {},
     "output_type": "execute_result"
    },
    {
     "data": {
      "image/png": "[encoded data removed]",
      "text/plain": [
       "<Figure size 432x288 with 1 Axes>"
      ]
     },
     "metadata": {
      "needs_background": "light"
     },
     "output_type": "display_data"
    }
   ],
   "source": [
    "plt.plot(inletVelocity)\n",
    "plt.plot(testInds, inletVelocity[testInds], '.r')\n",
    "plt.plot(trainInds, inletVelocity[trainInds], '.g')"
   ]
  },
  {
   "cell_type": "code",
   "execution_count": 15,
   "metadata": {
    "ExecuteTime": {
     "end_time": "2020-11-06T01:01:06.663659Z",
     "start_time": "2020-11-06T01:01:06.470657Z"
    }
   },
   "outputs": [
    {
     "name": "stdout",
     "output_type": "stream",
     "text": [
      "0.0083742 0.005633231076389464\n"
     ]
    },
    {
     "data": {
      "text/plain": [
       "[<matplotlib.lines.Line2D at 0x7f17b762e190>]"
      ]
     },
     "execution_count": 15,
     "metadata": {},
     "output_type": "execute_result"
    },
    {
     "data": {
      "image/png": "[encoded data removed]",
      "text/plain": [
       "<Figure size 432x288 with 1 Axes>"
      ]
     },
     "metadata": {
      "needs_background": "light"
     },
     "output_type": "display_data"
    }
   ],
   "source": [
    "mu = np.mean(inletVelocity)\n",
    "sig = np.std(inletVelocity)\n",
    "print(mu, sig)\n",
    "normalized_inletVelocity = (inletVelocity - mu)/sig\n",
    "plt.plot(normalized_inletVelocity)"
   ]
  },
  {
   "cell_type": "code",
   "execution_count": 16,
   "metadata": {
    "ExecuteTime": {
     "end_time": "2020-11-06T01:01:08.818916Z",
     "start_time": "2020-11-06T01:01:08.562445Z"
    }
   },
   "outputs": [
    {
     "name": "stdout",
     "output_type": "stream",
     "text": [
      "0.0218 0.002\n"
     ]
    },
    {
     "data": {
      "text/plain": [
       "[<matplotlib.lines.Line2D at 0x7f17b77326d0>]"
      ]
     },
     "execution_count": 16,
     "metadata": {},
     "output_type": "execute_result"
    },
    {
     "data": {
      "image/png": "[encoded data removed]",
      "text/plain": [
       "<Figure size 432x288 with 1 Axes>"
      ]
     },
     "metadata": {
      "needs_background": "light"
     },
     "output_type": "display_data"
    }
   ],
   "source": [
    "mx = np.max(inletVelocity)\n",
    "mn = np.min(inletVelocity)\n",
    "print(mx,mn)\n",
    "normalized_inletVelocity = (inletVelocity - mn)/(mx - mn)\n",
    "plt.plot(normalized_inletVelocity)"
   ]
  },
  {
   "cell_type": "code",
   "execution_count": 17,
   "metadata": {
    "ExecuteTime": {
     "end_time": "2020-11-06T01:01:15.571885Z",
     "start_time": "2020-11-06T01:01:15.365123Z"
    }
   },
   "outputs": [
    {
     "data": {
      "text/plain": [
       "5000"
      ]
     },
     "execution_count": 17,
     "metadata": {},
     "output_type": "execute_result"
    }
   ],
   "source": [
    "D = CCSI_2D(testSimFiles)\n",
    "len(D)"
   ]
  },
  {
   "cell_type": "code",
   "execution_count": 20,
   "metadata": {
    "ExecuteTime": {
     "end_time": "2020-11-06T01:04:05.890194Z",
     "start_time": "2020-11-06T01:04:05.881960Z"
    }
   },
   "outputs": [
    {
     "data": {
      "text/plain": [
       "(1, 10, 2, 10)"
      ]
     },
     "execution_count": 20,
     "metadata": {},
     "output_type": "execute_result"
    }
   ],
   "source": [
    "X,Y,p_x, p_y = D[10]\n",
    "len(X), len(Y), len(p_x), len(p_y)"
   ]
  },
  {
   "cell_type": "code",
   "execution_count": 23,
   "metadata": {
    "ExecuteTime": {
     "end_time": "2020-11-06T01:05:05.589110Z",
     "start_time": "2020-11-06T01:05:05.582609Z"
    }
   },
   "outputs": [
    {
     "data": {
      "text/plain": [
       "((1, 128, 128), array([0.0134    , 0.20841683], dtype=float32))"
      ]
     },
     "execution_count": 23,
     "metadata": {},
     "output_type": "execute_result"
    }
   ],
   "source": [
    "X.shape, p_x"
   ]
  },
  {
   "cell_type": "code",
   "execution_count": 24,
   "metadata": {
    "ExecuteTime": {
     "end_time": "2020-11-06T01:05:20.230058Z",
     "start_time": "2020-11-06T01:05:20.222495Z"
    }
   },
   "outputs": [
    {
     "data": {
      "text/plain": [
       "((10, 1, 128, 128),\n",
       " array([[0.0134    , 0.21042085],\n",
       "        [0.0134    , 0.21242484],\n",
       "        [0.0134    , 0.21442886],\n",
       "        [0.0134    , 0.21643287],\n",
       "        [0.0134    , 0.21843687],\n",
       "        [0.0134    , 0.22044088],\n",
       "        [0.0134    , 0.22244489],\n",
       "        [0.0134    , 0.2244489 ],\n",
       "        [0.0134    , 0.2264529 ],\n",
       "        [0.0134    , 0.22845691]]))"
      ]
     },
     "execution_count": 24,
     "metadata": {},
     "output_type": "execute_result"
    }
   ],
   "source": [
    "Y.shape, p_y"
   ]
  },
  {
   "cell_type": "code",
   "execution_count": 25,
   "metadata": {
    "ExecuteTime": {
     "end_time": "2020-11-06T01:05:41.728321Z",
     "start_time": "2020-11-06T01:05:41.507856Z"
    }
   },
   "outputs": [
    {
     "data": {
      "text/plain": [
       "((1, 128, 128), (1, 128, 128))"
      ]
     },
     "execution_count": 25,
     "metadata": {},
     "output_type": "execute_result"
    }
   ],
   "source": [
    "D = CCSI_2D(testSimFiles,AE=True)\n",
    "X,Y = D[10]\n",
    "X.shape, Y.shape"
   ]
  },
  {
   "cell_type": "code",
   "execution_count": 28,
   "metadata": {
    "ExecuteTime": {
     "end_time": "2020-11-06T02:19:03.717701Z",
     "start_time": "2020-11-06T02:19:03.519010Z"
    }
   },
   "outputs": [
    {
     "name": "stdout",
     "output_type": "stream",
     "text": [
      "0.0\n",
      "0.002004008\n",
      "0.004008016\n",
      "0.006012024\n",
      "0.008016032\n",
      "0.01002004\n",
      "0.012024048\n",
      "0.0140280565\n",
      "0.016032064\n",
      "0.018036073\n",
      "0.02004008\n",
      "0.022044089\n",
      "0.024048096\n",
      "0.026052104\n",
      "0.028056113\n",
      "0.03006012\n",
      "0.03206413\n",
      "0.034068137\n",
      "0.036072146\n",
      "0.03807615\n",
      "0.04008016\n",
      "0.04208417\n",
      "0.044088177\n",
      "0.046092186\n",
      "0.04809619\n",
      "0.0501002\n",
      "0.05210421\n",
      "0.054108217\n",
      "0.056112226\n",
      "0.05811623\n",
      "0.06012024\n",
      "0.06212425\n",
      "0.06412826\n",
      "0.06613226\n",
      "0.068136275\n",
      "0.07014028\n",
      "0.07214429\n",
      "0.0741483\n",
      "0.0761523\n",
      "0.078156315\n",
      "0.08016032\n",
      "0.08216433\n",
      "0.08416834\n",
      "0.08617234\n",
      "0.088176355\n",
      "0.09018036\n",
      "0.09218437\n",
      "0.09418838\n",
      "0.09619238\n",
      "0.098196395\n",
      "0.1002004\n",
      "0.10220441\n",
      "0.10420842\n",
      "0.10621242\n",
      "0.108216435\n",
      "0.11022044\n",
      "0.11222445\n",
      "0.11422846\n",
      "0.11623246\n",
      "0.118236475\n",
      "0.12024048\n",
      "0.12224449\n",
      "0.1242485\n",
      "0.1262525\n",
      "0.12825651\n",
      "0.13026053\n",
      "0.13226452\n",
      "0.13426854\n",
      "0.13627255\n",
      "0.13827655\n",
      "0.14028056\n",
      "0.14228457\n",
      "0.14428858\n",
      "0.14629258\n",
      "0.1482966\n",
      "0.1503006\n",
      "0.1523046\n",
      "0.15430862\n",
      "0.15631263\n",
      "0.15831663\n",
      "0.16032064\n",
      "0.16232465\n",
      "0.16432866\n",
      "0.16633266\n",
      "0.16833667\n",
      "0.17034069\n",
      "0.17234468\n",
      "0.1743487\n",
      "0.17635271\n",
      "0.1783567\n",
      "0.18036072\n",
      "0.18236473\n",
      "0.18436874\n",
      "0.18637274\n",
      "0.18837675\n",
      "0.19038077\n",
      "0.19238476\n",
      "0.19438878\n",
      "0.19639279\n",
      "0.19839679\n",
      "0.2004008\n",
      "0.20240481\n",
      "0.20440882\n",
      "0.20641282\n",
      "0.20841683\n",
      "0.21042085\n",
      "0.21242484\n",
      "0.21442886\n",
      "0.21643287\n",
      "0.21843687\n",
      "0.22044088\n",
      "0.22244489\n",
      "0.2244489\n",
      "0.2264529\n",
      "0.22845691\n",
      "0.23046093\n",
      "0.23246492\n",
      "0.23446894\n",
      "0.23647295\n",
      "0.23847695\n",
      "0.24048096\n",
      "0.24248497\n",
      "0.24448898\n",
      "0.24649298\n",
      "0.248497\n",
      "0.250501\n",
      "0.252505\n",
      "0.25450903\n",
      "0.25651303\n",
      "0.25851703\n",
      "0.26052105\n",
      "0.26252505\n",
      "0.26452905\n",
      "0.26653308\n",
      "0.26853707\n",
      "0.27054107\n",
      "0.2725451\n",
      "0.2745491\n",
      "0.2765531\n",
      "0.27855712\n",
      "0.28056112\n",
      "0.28256512\n",
      "0.28456914\n",
      "0.28657314\n",
      "0.28857717\n",
      "0.29058117\n",
      "0.29258516\n",
      "0.2945892\n",
      "0.2965932\n",
      "0.2985972\n",
      "0.3006012\n",
      "0.3026052\n",
      "0.3046092\n",
      "0.30661324\n",
      "0.30861723\n",
      "0.31062123\n",
      "0.31262526\n",
      "0.31462926\n",
      "0.31663325\n",
      "0.31863728\n",
      "0.32064128\n",
      "0.32264528\n",
      "0.3246493\n",
      "0.3266533\n",
      "0.32865733\n",
      "0.33066133\n",
      "0.33266532\n",
      "0.33466935\n",
      "0.33667335\n",
      "0.33867735\n",
      "0.34068137\n",
      "0.34268537\n",
      "0.34468937\n",
      "0.3466934\n",
      "0.3486974\n",
      "0.3507014\n",
      "0.35270542\n",
      "0.35470942\n",
      "0.3567134\n",
      "0.35871744\n",
      "0.36072144\n",
      "0.36272544\n",
      "0.36472946\n",
      "0.36673346\n",
      "0.3687375\n",
      "0.3707415\n",
      "0.37274548\n",
      "0.3747495\n",
      "0.3767535\n",
      "0.3787575\n",
      "0.38076153\n",
      "0.38276553\n",
      "0.38476953\n",
      "0.38677356\n",
      "0.38877755\n",
      "0.39078155\n",
      "0.39278558\n",
      "0.39478958\n",
      "0.39679357\n",
      "0.3987976\n",
      "0.4008016\n",
      "0.4028056\n",
      "0.40480962\n",
      "0.40681362\n",
      "0.40881765\n",
      "0.41082165\n",
      "0.41282564\n",
      "0.41482967\n",
      "0.41683367\n",
      "0.41883767\n",
      "0.4208417\n",
      "0.4228457\n",
      "0.4248497\n",
      "0.42685372\n",
      "0.4288577\n",
      "0.4308617\n",
      "0.43286574\n",
      "0.43486974\n",
      "0.43687373\n",
      "0.43887776\n",
      "0.44088176\n",
      "0.4428858\n",
      "0.44488978\n",
      "0.44689378\n",
      "0.4488978\n",
      "0.4509018\n",
      "0.4529058\n",
      "0.45490983\n",
      "0.45691383\n",
      "0.45891783\n",
      "0.46092185\n",
      "0.46292585\n",
      "0.46492985\n",
      "0.46693388\n",
      "0.46893787\n",
      "0.47094187\n",
      "0.4729459\n",
      "0.4749499\n",
      "0.4769539\n",
      "0.47895792\n",
      "0.48096192\n",
      "0.48296595\n",
      "0.48496994\n",
      "0.48697394\n",
      "0.48897797\n",
      "0.49098197\n",
      "0.49298596\n",
      "0.49499\n",
      "0.496994\n",
      "0.498998\n",
      "0.501002\n",
      "0.50300604\n",
      "0.50501\n",
      "0.50701404\n",
      "0.50901806\n",
      "0.51102203\n",
      "0.51302606\n",
      "0.5150301\n",
      "0.51703405\n",
      "0.5190381\n",
      "0.5210421\n",
      "0.5230461\n",
      "0.5250501\n",
      "0.52705413\n",
      "0.5290581\n",
      "0.5310621\n",
      "0.53306615\n",
      "0.5350701\n",
      "0.53707415\n",
      "0.5390782\n",
      "0.54108214\n",
      "0.5430862\n",
      "0.5450902\n",
      "0.54709417\n",
      "0.5490982\n",
      "0.5511022\n",
      "0.5531062\n",
      "0.5551102\n",
      "0.55711424\n",
      "0.5591182\n",
      "0.56112224\n",
      "0.56312627\n",
      "0.56513023\n",
      "0.56713426\n",
      "0.5691383\n",
      "0.57114226\n",
      "0.5731463\n",
      "0.5751503\n",
      "0.57715434\n",
      "0.5791583\n",
      "0.58116233\n",
      "0.58316636\n",
      "0.5851703\n",
      "0.58717436\n",
      "0.5891784\n",
      "0.59118235\n",
      "0.5931864\n",
      "0.5951904\n",
      "0.5971944\n",
      "0.5991984\n",
      "0.6012024\n",
      "0.6032064\n",
      "0.6052104\n",
      "0.60721445\n",
      "0.6092184\n",
      "0.61122245\n",
      "0.6132265\n",
      "0.61523044\n",
      "0.61723447\n",
      "0.6192385\n",
      "0.62124246\n",
      "0.6232465\n",
      "0.6252505\n",
      "0.6272545\n",
      "0.6292585\n",
      "0.63126254\n",
      "0.6332665\n",
      "0.63527054\n",
      "0.63727456\n",
      "0.63927853\n",
      "0.64128256\n",
      "0.6432866\n",
      "0.64529055\n",
      "0.6472946\n",
      "0.6492986\n",
      "0.6513026\n",
      "0.6533066\n",
      "0.65531063\n",
      "0.65731466\n",
      "0.6593186\n",
      "0.66132265\n",
      "0.6633267\n",
      "0.66533065\n",
      "0.6673347\n",
      "0.6693387\n",
      "0.6713427\n",
      "0.6733467\n",
      "0.6753507\n",
      "0.6773547\n",
      "0.6793587\n",
      "0.68136275\n",
      "0.6833667\n",
      "0.68537074\n",
      "0.6873748\n",
      "0.68937874\n",
      "0.69138277\n",
      "0.6933868\n",
      "0.69539076\n",
      "0.6973948\n",
      "0.6993988\n",
      "0.7014028\n",
      "0.7034068\n",
      "0.70541084\n",
      "0.7074148\n",
      "0.70941883\n",
      "0.71142286\n",
      "0.7134268\n",
      "0.71543086\n",
      "0.7174349\n",
      "0.71943885\n",
      "0.7214429\n",
      "0.7234469\n",
      "0.7254509\n",
      "0.7274549\n",
      "0.7294589\n",
      "0.73146296\n",
      "0.7334669\n",
      "0.73547095\n",
      "0.737475\n",
      "0.73947895\n",
      "0.741483\n",
      "0.743487\n",
      "0.74549097\n",
      "0.747495\n",
      "0.749499\n",
      "0.751503\n",
      "0.753507\n",
      "0.75551105\n",
      "0.757515\n",
      "0.75951904\n",
      "0.76152307\n",
      "0.76352704\n",
      "0.76553106\n",
      "0.7675351\n",
      "0.76953906\n",
      "0.7715431\n",
      "0.7735471\n",
      "0.7755511\n",
      "0.7775551\n",
      "0.77955914\n",
      "0.7815631\n",
      "0.78356713\n",
      "0.78557116\n",
      "0.7875751\n",
      "0.78957915\n",
      "0.7915832\n",
      "0.79358715\n",
      "0.7955912\n",
      "0.7975952\n",
      "0.7995992\n",
      "0.8016032\n",
      "0.8036072\n",
      "0.8056112\n",
      "0.8076152\n",
      "0.80961925\n",
      "0.8116233\n",
      "0.81362724\n",
      "0.8156313\n",
      "0.8176353\n",
      "0.81963927\n",
      "0.8216433\n",
      "0.8236473\n",
      "0.8256513\n",
      "0.8276553\n",
      "0.82965934\n",
      "0.8316633\n",
      "0.83366734\n",
      "0.83567137\n",
      "0.83767533\n",
      "0.83967936\n",
      "0.8416834\n",
      "0.84368736\n",
      "0.8456914\n",
      "0.8476954\n",
      "0.8496994\n",
      "0.8517034\n",
      "0.85370743\n",
      "0.8557114\n",
      "0.8577154\n",
      "0.85971946\n",
      "0.8617234\n",
      "0.86372745\n",
      "0.8657315\n",
      "0.86773545\n",
      "0.8697395\n",
      "0.8717435\n",
      "0.87374747\n",
      "0.8757515\n",
      "0.8777555\n",
      "0.8797595\n",
      "0.8817635\n",
      "0.88376755\n",
      "0.8857716\n",
      "0.88777554\n",
      "0.88977957\n",
      "0.8917836\n",
      "0.89378756\n",
      "0.8957916\n",
      "0.8977956\n",
      "0.8997996\n",
      "0.9018036\n",
      "0.90380764\n",
      "0.9058116\n",
      "0.90781564\n",
      "0.90981966\n",
      "0.91182363\n",
      "0.91382766\n",
      "0.9158317\n",
      "0.91783565\n",
      "0.9198397\n",
      "0.9218437\n",
      "0.9238477\n",
      "0.9258517\n",
      "0.92785573\n",
      "0.9298597\n",
      "0.9318637\n",
      "0.93386775\n",
      "0.9358717\n",
      "0.93787575\n",
      "0.9398798\n",
      "0.94188374\n",
      "0.94388777\n",
      "0.9458918\n",
      "0.94789577\n",
      "0.9498998\n",
      "0.9519038\n",
      "0.9539078\n",
      "0.9559118\n",
      "0.95791584\n",
      "0.9599198\n",
      "0.96192384\n",
      "0.96392787\n",
      "0.9659319\n",
      "0.96793586\n",
      "0.9699399\n",
      "0.9719439\n",
      "0.9739479\n",
      "0.9759519\n",
      "0.97795594\n",
      "0.9799599\n",
      "0.98196393\n",
      "0.98396796\n",
      "0.9859719\n",
      "0.98797596\n",
      "0.98998\n",
      "0.99198395\n",
      "0.993988\n",
      "0.995992\n",
      "0.997996\n",
      "1.0\n"
     ]
    }
   ],
   "source": [
    "D = CCSI_2D([testSimFiles[0]],AE=False, w=0) #w=0 needed to prevent an error with y, which grabs future indexes\n",
    "for idx in range(len(D)):\n",
    "    X,Y,p_x,p_y = D[idx]\n",
    "    print(p_x[1])"
   ]
  },
  {
   "cell_type": "code",
   "execution_count": 29,
   "metadata": {
    "ExecuteTime": {
     "end_time": "2020-11-06T02:19:34.794483Z",
     "start_time": "2020-11-06T02:19:33.358736Z"
    }
   },
   "outputs": [
    {
     "name": "stdout",
     "output_type": "stream",
     "text": [
      "023.pkl\n",
      "1.0\n",
      "0.0\n",
      "005.pkl\n",
      "016.pkl\n",
      "004.pkl\n",
      "002.pkl\n",
      "021.pkl\n",
      "014.pkl\n",
      "006.pkl\n",
      "009.pkl\n",
      "007.pkl\n",
      "008.pkl\n",
      "010.pkl\n",
      "001.pkl\n",
      "012.pkl\n",
      "003.pkl\n",
      "022.pkl\n",
      "018.pkl\n",
      "013.pkl\n",
      "024.pkl\n",
      "019.pkl\n",
      "011.pkl\n",
      "017.pkl\n",
      "015.pkl\n",
      "020.pkl\n",
      "025.pkl\n",
      "026.pkl\n",
      "027.pkl\n",
      "028.pkl\n",
      "032.pkl\n",
      "029.pkl\n",
      "031.pkl\n",
      "030.pkl\n",
      "036.pkl\n",
      "037.pkl\n",
      "035.pkl\n",
      "039.pkl\n",
      "040.pkl\n",
      "038.pkl\n",
      "044.pkl\n",
      "043.pkl\n",
      "045.pkl\n",
      "042.pkl\n",
      "048.pkl\n",
      "047.pkl\n",
      "049.pkl\n",
      "050.pkl\n",
      "046.pkl\n",
      "033.pkl\n",
      "034.pkl\n",
      "041.pkl\n",
      "0.0 1.0\n"
     ]
    }
   ],
   "source": [
    "mx = 0.\n",
    "mn = np.infty\n",
    "for s in sims:\n",
    "    print(s)\n",
    "    fn = os.path.join(raw_data,s)\n",
    "    D = pkl_load(fn)\n",
    "    haveNans = np.any(np.isnan(D))\n",
    "    if ~haveNans:\n",
    "        m = D.max()\n",
    "        n = D.min()\n",
    "        if m > mx:\n",
    "            mx = m\n",
    "            print(mx)\n",
    "        if n < mn:\n",
    "            mn = n\n",
    "            print(mn)\n",
    "    else:\n",
    "        print(fn)\n",
    "print(mn,mx)"
   ]
  },
  {
   "cell_type": "code",
   "execution_count": 30,
   "metadata": {
    "ExecuteTime": {
     "end_time": "2020-11-06T02:19:53.735276Z",
     "start_time": "2020-11-06T02:19:53.018638Z"
    }
   },
   "outputs": [
    {
     "data": {
      "text/plain": [
       "array([0.0000000e+00, 1.4012985e-45, 2.8025969e-45, ..., 9.9999988e-01,\n",
       "       9.9999994e-01, 1.0000000e+00], dtype=float32)"
      ]
     },
     "execution_count": 30,
     "metadata": {},
     "output_type": "execute_result"
    }
   ],
   "source": [
    "u = np.unique(D.flatten())\n",
    "u"
   ]
  },
  {
   "cell_type": "code",
   "execution_count": 31,
   "metadata": {
    "ExecuteTime": {
     "end_time": "2020-11-06T02:20:13.849317Z",
     "start_time": "2020-11-06T02:20:04.106741Z"
    }
   },
   "outputs": [
    {
     "data": {
      "text/plain": [
       "[<matplotlib.lines.Line2D at 0x7f17a30dd670>]"
      ]
     },
     "execution_count": 31,
     "metadata": {},
     "output_type": "execute_result"
    },
    {
     "data": {
      "image/png": "[encoded data removed]",
      "text/plain": [
       "<Figure size 432x288 with 1 Axes>"
      ]
     },
     "metadata": {
      "needs_background": "light"
     },
     "output_type": "display_data"
    }
   ],
   "source": [
    "us = sorted(D.flatten())\n",
    "plt.plot(us)"
   ]
  },
  {
   "cell_type": "code",
   "execution_count": 33,
   "metadata": {
    "ExecuteTime": {
     "end_time": "2020-11-06T02:20:56.828901Z",
     "start_time": "2020-11-06T02:20:56.055722Z"
    }
   },
   "outputs": [
    {
     "data": {
      "image/png": "[encoded data removed]",
      "text/plain": [
       "<Figure size 432x288 with 1 Axes>"
      ]
     },
     "metadata": {
      "needs_background": "light"
     },
     "output_type": "display_data"
    }
   ],
   "source": [
    "h = plt.hist(D.flatten(),bins=np.linspace(mn,mx,100))"
   ]
  },
  {
   "cell_type": "code",
   "execution_count": 34,
   "metadata": {
    "ExecuteTime": {
     "end_time": "2020-11-06T02:21:10.583552Z",
     "start_time": "2020-11-06T02:21:09.816813Z"
    }
   },
   "outputs": [],
   "source": [
    "badData = []\n",
    "for s in sims:\n",
    "    fn = os.path.join(raw_data,s)\n",
    "    D = pkl_load(fn)\n",
    "    haveNans = np.any(np.isnan(D))\n",
    "    badData.append(s)\n",
    "    if haveNans:\n",
    "        print(fn)\n",
    "        break"
   ]
  },
  {
   "cell_type": "code",
   "execution_count": 35,
   "metadata": {
    "ExecuteTime": {
     "end_time": "2020-11-06T02:21:15.587586Z",
     "start_time": "2020-11-06T02:21:15.556826Z"
    }
   },
   "outputs": [
    {
     "data": {
      "text/plain": [
       "False"
      ]
     },
     "execution_count": 35,
     "metadata": {},
     "output_type": "execute_result"
    }
   ],
   "source": [
    "fn = os.path.join(raw_data,'040.pkl')\n",
    "D = pkl_load(fn)\n",
    "haveNans = np.any(np.isnan(D))\n",
    "haveNans"
   ]
  },
  {
   "cell_type": "code",
   "execution_count": 36,
   "metadata": {
    "ExecuteTime": {
     "end_time": "2020-11-06T02:21:27.786639Z",
     "start_time": "2020-11-06T02:21:27.725938Z"
    }
   },
   "outputs": [
    {
     "data": {
      "text/plain": [
       "(array([], dtype=int64), array([], dtype=int64), array([], dtype=int64))"
      ]
     },
     "execution_count": 36,
     "metadata": {},
     "output_type": "execute_result"
    }
   ],
   "source": [
    "A = np.where(np.isnan(D))\n",
    "A"
   ]
  },
  {
   "cell_type": "code",
   "execution_count": 37,
   "metadata": {
    "ExecuteTime": {
     "end_time": "2020-11-06T02:21:28.964324Z",
     "start_time": "2020-11-06T02:21:28.958096Z"
    }
   },
   "outputs": [
    {
     "data": {
      "text/plain": [
       "array([], dtype=int64)"
      ]
     },
     "execution_count": 37,
     "metadata": {},
     "output_type": "execute_result"
    }
   ],
   "source": [
    "frame = A[0]\n",
    "frame"
   ]
  },
  {
   "cell_type": "markdown",
   "metadata": {},
   "source": [
    "## Testing Interpolation Error"
   ]
  },
  {
   "cell_type": "code",
   "execution_count": 39,
   "metadata": {
    "ExecuteTime": {
     "end_time": "2020-11-06T02:21:38.175137Z",
     "start_time": "2020-11-06T02:21:38.158316Z"
    }
   },
   "outputs": [
    {
     "data": {
      "text/plain": [
       "(1.0, 0.0)"
      ]
     },
     "execution_count": 39,
     "metadata": {},
     "output_type": "execute_result"
    }
   ],
   "source": [
    "D.max(),D.min()"
   ]
  },
  {
   "cell_type": "code",
   "execution_count": 40,
   "metadata": {
    "ExecuteTime": {
     "end_time": "2020-11-06T02:21:42.123861Z",
     "start_time": "2020-11-06T02:21:42.119280Z"
    }
   },
   "outputs": [],
   "source": [
    "idx = 0\n",
    "gridsize = 128\n",
    "interpolated_data = '/data/ccsi/pnnl_liquid_inlet/channel_1/gridsize_{}'.format(gridsize)"
   ]
  },
  {
   "cell_type": "code",
   "execution_count": 42,
   "metadata": {
    "ExecuteTime": {
     "end_time": "2020-11-06T02:21:53.680823Z",
     "start_time": "2020-11-06T02:21:53.657320Z"
    }
   },
   "outputs": [
    {
     "data": {
      "text/plain": [
       "(500, 128, 128)"
      ]
     },
     "execution_count": 42,
     "metadata": {},
     "output_type": "execute_result"
    }
   ],
   "source": [
    "interpolated_sim_fn = os.path.join(interpolated_data,sims[idx])\n",
    "interpolated_sim_fn\n",
    "interpolated_data = pkl_load(interpolated_sim_fn)\n",
    "interpolated_data.shape"
   ]
  },
  {
   "cell_type": "code",
   "execution_count": 43,
   "metadata": {
    "ExecuteTime": {
     "end_time": "2020-11-06T02:21:58.902839Z",
     "start_time": "2020-11-06T02:21:58.872727Z"
    }
   },
   "outputs": [],
   "source": [
    "interpolated_grid_fn = '/data/ccsi/pnnl_liquid_inlet/grid_x_grid_y_{}.pkl'.format(gridsize)\n",
    "gridDict = pkl_load(interpolated_grid_fn)\n",
    "gridDict.keys()\n",
    "locals().update(gridDict)"
   ]
  },
  {
   "cell_type": "code",
   "execution_count": 44,
   "metadata": {
    "ExecuteTime": {
     "end_time": "2020-11-06T02:21:59.766425Z",
     "start_time": "2020-11-06T02:21:59.760276Z"
    }
   },
   "outputs": [
    {
     "data": {
      "text/plain": [
       "((128, 128), (128, 128))"
      ]
     },
     "execution_count": 44,
     "metadata": {},
     "output_type": "execute_result"
    }
   ],
   "source": [
    "grid_x.shape, grid_y.shape"
   ]
  },
  {
   "cell_type": "code",
   "execution_count": 45,
   "metadata": {
    "ExecuteTime": {
     "end_time": "2020-11-06T02:22:03.580837Z",
     "start_time": "2020-11-06T02:22:03.572663Z"
    }
   },
   "outputs": [
    {
     "data": {
      "text/plain": [
       "((16384,), (16384,))"
      ]
     },
     "execution_count": 45,
     "metadata": {},
     "output_type": "execute_result"
    }
   ],
   "source": [
    "G = np.array([grid_x.flatten(), grid_y.flatten()])\n",
    "X = G[0]\n",
    "Y = G[1]\n",
    "X.shape, Y.shape"
   ]
  },
  {
   "cell_type": "code",
   "execution_count": 55,
   "metadata": {
    "ExecuteTime": {
     "end_time": "2020-11-06T02:29:04.000279Z",
     "start_time": "2020-11-06T02:29:03.876210Z"
    }
   },
   "outputs": [
    {
     "data": {
      "text/plain": [
       "['/data/ccsi/pnnl_liquid_inlet/data/001/XYZ_Internal_Table_table_1000.csv',\n",
       " '/data/ccsi/pnnl_liquid_inlet/data/001/XYZ_Internal_Table_table_100.csv',\n",
       " '/data/ccsi/pnnl_liquid_inlet/data/001/XYZ_Internal_Table_table_1010.csv',\n",
       " '/data/ccsi/pnnl_liquid_inlet/data/001/XYZ_Internal_Table_table_1020.csv',\n",
       " '/data/ccsi/pnnl_liquid_inlet/data/001/XYZ_Internal_Table_table_1030.csv',\n",
       " '/data/ccsi/pnnl_liquid_inlet/data/001/XYZ_Internal_Table_table_1040.csv',\n",
       " '/data/ccsi/pnnl_liquid_inlet/data/001/XYZ_Internal_Table_table_1050.csv',\n",
       " '/data/ccsi/pnnl_liquid_inlet/data/001/XYZ_Internal_Table_table_1060.csv',\n",
       " '/data/ccsi/pnnl_liquid_inlet/data/001/XYZ_Internal_Table_table_1070.csv',\n",
       " '/data/ccsi/pnnl_liquid_inlet/data/001/XYZ_Internal_Table_table_1080.csv',\n",
       " '/data/ccsi/pnnl_liquid_inlet/data/001/XYZ_Internal_Table_table_1090.csv',\n",
       " '/data/ccsi/pnnl_liquid_inlet/data/001/XYZ_Internal_Table_table_10.csv',\n",
       " '/data/ccsi/pnnl_liquid_inlet/data/001/XYZ_Internal_Table_table_1100.csv',\n",
       " '/data/ccsi/pnnl_liquid_inlet/data/001/XYZ_Internal_Table_table_110.csv',\n",
       " '/data/ccsi/pnnl_liquid_inlet/data/001/XYZ_Internal_Table_table_1110.csv',\n",
       " '/data/ccsi/pnnl_liquid_inlet/data/001/XYZ_Internal_Table_table_1120.csv',\n",
       " '/data/ccsi/pnnl_liquid_inlet/data/001/XYZ_Internal_Table_table_1130.csv',\n",
       " '/data/ccsi/pnnl_liquid_inlet/data/001/XYZ_Internal_Table_table_1140.csv',\n",
       " '/data/ccsi/pnnl_liquid_inlet/data/001/XYZ_Internal_Table_table_1150.csv',\n",
       " '/data/ccsi/pnnl_liquid_inlet/data/001/XYZ_Internal_Table_table_1160.csv',\n",
       " '/data/ccsi/pnnl_liquid_inlet/data/001/XYZ_Internal_Table_table_1170.csv',\n",
       " '/data/ccsi/pnnl_liquid_inlet/data/001/XYZ_Internal_Table_table_1180.csv',\n",
       " '/data/ccsi/pnnl_liquid_inlet/data/001/XYZ_Internal_Table_table_1190.csv',\n",
       " '/data/ccsi/pnnl_liquid_inlet/data/001/XYZ_Internal_Table_table_1200.csv',\n",
       " '/data/ccsi/pnnl_liquid_inlet/data/001/XYZ_Internal_Table_table_120.csv',\n",
       " '/data/ccsi/pnnl_liquid_inlet/data/001/XYZ_Internal_Table_table_1210.csv',\n",
       " '/data/ccsi/pnnl_liquid_inlet/data/001/XYZ_Internal_Table_table_1220.csv',\n",
       " '/data/ccsi/pnnl_liquid_inlet/data/001/XYZ_Internal_Table_table_1230.csv',\n",
       " '/data/ccsi/pnnl_liquid_inlet/data/001/XYZ_Internal_Table_table_1240.csv',\n",
       " '/data/ccsi/pnnl_liquid_inlet/data/001/XYZ_Internal_Table_table_1250.csv',\n",
       " '/data/ccsi/pnnl_liquid_inlet/data/001/XYZ_Internal_Table_table_1260.csv',\n",
       " '/data/ccsi/pnnl_liquid_inlet/data/001/XYZ_Internal_Table_table_1270.csv',\n",
       " '/data/ccsi/pnnl_liquid_inlet/data/001/XYZ_Internal_Table_table_1280.csv',\n",
       " '/data/ccsi/pnnl_liquid_inlet/data/001/XYZ_Internal_Table_table_1290.csv',\n",
       " '/data/ccsi/pnnl_liquid_inlet/data/001/XYZ_Internal_Table_table_1300.csv',\n",
       " '/data/ccsi/pnnl_liquid_inlet/data/001/XYZ_Internal_Table_table_130.csv',\n",
       " '/data/ccsi/pnnl_liquid_inlet/data/001/XYZ_Internal_Table_table_1310.csv',\n",
       " '/data/ccsi/pnnl_liquid_inlet/data/001/XYZ_Internal_Table_table_1320.csv',\n",
       " '/data/ccsi/pnnl_liquid_inlet/data/001/XYZ_Internal_Table_table_1330.csv',\n",
       " '/data/ccsi/pnnl_liquid_inlet/data/001/XYZ_Internal_Table_table_1340.csv',\n",
       " '/data/ccsi/pnnl_liquid_inlet/data/001/XYZ_Internal_Table_table_140.csv',\n",
       " '/data/ccsi/pnnl_liquid_inlet/data/001/XYZ_Internal_Table_table_1350.csv',\n",
       " '/data/ccsi/pnnl_liquid_inlet/data/001/XYZ_Internal_Table_table_1360.csv',\n",
       " '/data/ccsi/pnnl_liquid_inlet/data/001/XYZ_Internal_Table_table_1370.csv',\n",
       " '/data/ccsi/pnnl_liquid_inlet/data/001/XYZ_Internal_Table_table_1380.csv',\n",
       " '/data/ccsi/pnnl_liquid_inlet/data/001/XYZ_Internal_Table_table_1390.csv',\n",
       " '/data/ccsi/pnnl_liquid_inlet/data/001/XYZ_Internal_Table_table_1400.csv',\n",
       " '/data/ccsi/pnnl_liquid_inlet/data/001/XYZ_Internal_Table_table_1410.csv',\n",
       " '/data/ccsi/pnnl_liquid_inlet/data/001/XYZ_Internal_Table_table_1420.csv',\n",
       " '/data/ccsi/pnnl_liquid_inlet/data/001/XYZ_Internal_Table_table_1430.csv',\n",
       " '/data/ccsi/pnnl_liquid_inlet/data/001/XYZ_Internal_Table_table_1440.csv',\n",
       " '/data/ccsi/pnnl_liquid_inlet/data/001/XYZ_Internal_Table_table_1450.csv',\n",
       " '/data/ccsi/pnnl_liquid_inlet/data/001/XYZ_Internal_Table_table_1460.csv',\n",
       " '/data/ccsi/pnnl_liquid_inlet/data/001/XYZ_Internal_Table_table_1470.csv',\n",
       " '/data/ccsi/pnnl_liquid_inlet/data/001/XYZ_Internal_Table_table_1480.csv',\n",
       " '/data/ccsi/pnnl_liquid_inlet/data/001/XYZ_Internal_Table_table_1490.csv',\n",
       " '/data/ccsi/pnnl_liquid_inlet/data/001/XYZ_Internal_Table_table_1500.csv',\n",
       " '/data/ccsi/pnnl_liquid_inlet/data/001/XYZ_Internal_Table_table_150.csv',\n",
       " '/data/ccsi/pnnl_liquid_inlet/data/001/XYZ_Internal_Table_table_1510.csv',\n",
       " '/data/ccsi/pnnl_liquid_inlet/data/001/XYZ_Internal_Table_table_1520.csv',\n",
       " '/data/ccsi/pnnl_liquid_inlet/data/001/XYZ_Internal_Table_table_1530.csv',\n",
       " '/data/ccsi/pnnl_liquid_inlet/data/001/XYZ_Internal_Table_table_1540.csv',\n",
       " '/data/ccsi/pnnl_liquid_inlet/data/001/XYZ_Internal_Table_table_1550.csv',\n",
       " '/data/ccsi/pnnl_liquid_inlet/data/001/XYZ_Internal_Table_table_1560.csv',\n",
       " '/data/ccsi/pnnl_liquid_inlet/data/001/XYZ_Internal_Table_table_1570.csv',\n",
       " '/data/ccsi/pnnl_liquid_inlet/data/001/XYZ_Internal_Table_table_1580.csv',\n",
       " '/data/ccsi/pnnl_liquid_inlet/data/001/XYZ_Internal_Table_table_1590.csv',\n",
       " '/data/ccsi/pnnl_liquid_inlet/data/001/XYZ_Internal_Table_table_1600.csv',\n",
       " '/data/ccsi/pnnl_liquid_inlet/data/001/XYZ_Internal_Table_table_160.csv',\n",
       " '/data/ccsi/pnnl_liquid_inlet/data/001/XYZ_Internal_Table_table_1610.csv',\n",
       " '/data/ccsi/pnnl_liquid_inlet/data/001/XYZ_Internal_Table_table_1620.csv',\n",
       " '/data/ccsi/pnnl_liquid_inlet/data/001/XYZ_Internal_Table_table_1630.csv',\n",
       " '/data/ccsi/pnnl_liquid_inlet/data/001/XYZ_Internal_Table_table_1640.csv',\n",
       " '/data/ccsi/pnnl_liquid_inlet/data/001/XYZ_Internal_Table_table_1650.csv',\n",
       " '/data/ccsi/pnnl_liquid_inlet/data/001/XYZ_Internal_Table_table_1660.csv',\n",
       " '/data/ccsi/pnnl_liquid_inlet/data/001/XYZ_Internal_Table_table_1670.csv',\n",
       " '/data/ccsi/pnnl_liquid_inlet/data/001/XYZ_Internal_Table_table_1680.csv',\n",
       " '/data/ccsi/pnnl_liquid_inlet/data/001/XYZ_Internal_Table_table_1690.csv',\n",
       " '/data/ccsi/pnnl_liquid_inlet/data/001/XYZ_Internal_Table_table_1700.csv',\n",
       " '/data/ccsi/pnnl_liquid_inlet/data/001/XYZ_Internal_Table_table_170.csv',\n",
       " '/data/ccsi/pnnl_liquid_inlet/data/001/XYZ_Internal_Table_table_1710.csv',\n",
       " '/data/ccsi/pnnl_liquid_inlet/data/001/XYZ_Internal_Table_table_180.csv',\n",
       " '/data/ccsi/pnnl_liquid_inlet/data/001/XYZ_Internal_Table_table_1720.csv',\n",
       " '/data/ccsi/pnnl_liquid_inlet/data/001/XYZ_Internal_Table_table_1730.csv',\n",
       " '/data/ccsi/pnnl_liquid_inlet/data/001/XYZ_Internal_Table_table_1740.csv',\n",
       " '/data/ccsi/pnnl_liquid_inlet/data/001/XYZ_Internal_Table_table_1750.csv',\n",
       " '/data/ccsi/pnnl_liquid_inlet/data/001/XYZ_Internal_Table_table_1760.csv',\n",
       " '/data/ccsi/pnnl_liquid_inlet/data/001/XYZ_Internal_Table_table_1770.csv',\n",
       " '/data/ccsi/pnnl_liquid_inlet/data/001/XYZ_Internal_Table_table_1780.csv',\n",
       " '/data/ccsi/pnnl_liquid_inlet/data/001/XYZ_Internal_Table_table_1790.csv',\n",
       " '/data/ccsi/pnnl_liquid_inlet/data/001/XYZ_Internal_Table_table_1800.csv',\n",
       " '/data/ccsi/pnnl_liquid_inlet/data/001/XYZ_Internal_Table_table_1810.csv',\n",
       " '/data/ccsi/pnnl_liquid_inlet/data/001/XYZ_Internal_Table_table_1820.csv',\n",
       " '/data/ccsi/pnnl_liquid_inlet/data/001/XYZ_Internal_Table_table_1830.csv',\n",
       " '/data/ccsi/pnnl_liquid_inlet/data/001/XYZ_Internal_Table_table_1840.csv',\n",
       " '/data/ccsi/pnnl_liquid_inlet/data/001/XYZ_Internal_Table_table_1850.csv',\n",
       " '/data/ccsi/pnnl_liquid_inlet/data/001/XYZ_Internal_Table_table_1860.csv',\n",
       " '/data/ccsi/pnnl_liquid_inlet/data/001/XYZ_Internal_Table_table_1870.csv',\n",
       " '/data/ccsi/pnnl_liquid_inlet/data/001/XYZ_Internal_Table_table_1880.csv',\n",
       " '/data/ccsi/pnnl_liquid_inlet/data/001/XYZ_Internal_Table_table_1890.csv',\n",
       " '/data/ccsi/pnnl_liquid_inlet/data/001/XYZ_Internal_Table_table_1900.csv',\n",
       " '/data/ccsi/pnnl_liquid_inlet/data/001/XYZ_Internal_Table_table_190.csv',\n",
       " '/data/ccsi/pnnl_liquid_inlet/data/001/XYZ_Internal_Table_table_1910.csv',\n",
       " '/data/ccsi/pnnl_liquid_inlet/data/001/XYZ_Internal_Table_table_1920.csv',\n",
       " '/data/ccsi/pnnl_liquid_inlet/data/001/XYZ_Internal_Table_table_1930.csv',\n",
       " '/data/ccsi/pnnl_liquid_inlet/data/001/XYZ_Internal_Table_table_1940.csv',\n",
       " '/data/ccsi/pnnl_liquid_inlet/data/001/XYZ_Internal_Table_table_1950.csv',\n",
       " '/data/ccsi/pnnl_liquid_inlet/data/001/XYZ_Internal_Table_table_1960.csv',\n",
       " '/data/ccsi/pnnl_liquid_inlet/data/001/XYZ_Internal_Table_table_1970.csv',\n",
       " '/data/ccsi/pnnl_liquid_inlet/data/001/XYZ_Internal_Table_table_1980.csv',\n",
       " '/data/ccsi/pnnl_liquid_inlet/data/001/XYZ_Internal_Table_table_1990.csv',\n",
       " '/data/ccsi/pnnl_liquid_inlet/data/001/XYZ_Internal_Table_table_2000.csv',\n",
       " '/data/ccsi/pnnl_liquid_inlet/data/001/XYZ_Internal_Table_table_200.csv',\n",
       " '/data/ccsi/pnnl_liquid_inlet/data/001/XYZ_Internal_Table_table_2010.csv',\n",
       " '/data/ccsi/pnnl_liquid_inlet/data/001/XYZ_Internal_Table_table_2020.csv',\n",
       " '/data/ccsi/pnnl_liquid_inlet/data/001/XYZ_Internal_Table_table_2030.csv',\n",
       " '/data/ccsi/pnnl_liquid_inlet/data/001/XYZ_Internal_Table_table_2040.csv',\n",
       " '/data/ccsi/pnnl_liquid_inlet/data/001/XYZ_Internal_Table_table_2050.csv',\n",
       " '/data/ccsi/pnnl_liquid_inlet/data/001/XYZ_Internal_Table_table_2060.csv',\n",
       " '/data/ccsi/pnnl_liquid_inlet/data/001/XYZ_Internal_Table_table_2070.csv',\n",
       " '/data/ccsi/pnnl_liquid_inlet/data/001/XYZ_Internal_Table_table_2080.csv',\n",
       " '/data/ccsi/pnnl_liquid_inlet/data/001/XYZ_Internal_Table_table_2090.csv',\n",
       " '/data/ccsi/pnnl_liquid_inlet/data/001/XYZ_Internal_Table_table_20.csv',\n",
       " '/data/ccsi/pnnl_liquid_inlet/data/001/XYZ_Internal_Table_table_2100.csv',\n",
       " '/data/ccsi/pnnl_liquid_inlet/data/001/XYZ_Internal_Table_table_210.csv',\n",
       " '/data/ccsi/pnnl_liquid_inlet/data/001/XYZ_Internal_Table_table_2110.csv',\n",
       " '/data/ccsi/pnnl_liquid_inlet/data/001/XYZ_Internal_Table_table_2120.csv',\n",
       " '/data/ccsi/pnnl_liquid_inlet/data/001/XYZ_Internal_Table_table_2130.csv',\n",
       " '/data/ccsi/pnnl_liquid_inlet/data/001/XYZ_Internal_Table_table_2140.csv',\n",
       " '/data/ccsi/pnnl_liquid_inlet/data/001/XYZ_Internal_Table_table_2150.csv',\n",
       " '/data/ccsi/pnnl_liquid_inlet/data/001/XYZ_Internal_Table_table_2160.csv',\n",
       " '/data/ccsi/pnnl_liquid_inlet/data/001/XYZ_Internal_Table_table_2170.csv',\n",
       " '/data/ccsi/pnnl_liquid_inlet/data/001/XYZ_Internal_Table_table_2180.csv',\n",
       " '/data/ccsi/pnnl_liquid_inlet/data/001/XYZ_Internal_Table_table_2190.csv',\n",
       " '/data/ccsi/pnnl_liquid_inlet/data/001/XYZ_Internal_Table_table_2200.csv',\n",
       " '/data/ccsi/pnnl_liquid_inlet/data/001/XYZ_Internal_Table_table_220.csv',\n",
       " '/data/ccsi/pnnl_liquid_inlet/data/001/XYZ_Internal_Table_table_2210.csv',\n",
       " '/data/ccsi/pnnl_liquid_inlet/data/001/XYZ_Internal_Table_table_2220.csv',\n",
       " '/data/ccsi/pnnl_liquid_inlet/data/001/XYZ_Internal_Table_table_2230.csv',\n",
       " '/data/ccsi/pnnl_liquid_inlet/data/001/XYZ_Internal_Table_table_2240.csv',\n",
       " '/data/ccsi/pnnl_liquid_inlet/data/001/XYZ_Internal_Table_table_2250.csv',\n",
       " '/data/ccsi/pnnl_liquid_inlet/data/001/XYZ_Internal_Table_table_2260.csv',\n",
       " '/data/ccsi/pnnl_liquid_inlet/data/001/XYZ_Internal_Table_table_2270.csv',\n",
       " '/data/ccsi/pnnl_liquid_inlet/data/001/XYZ_Internal_Table_table_2280.csv',\n",
       " '/data/ccsi/pnnl_liquid_inlet/data/001/XYZ_Internal_Table_table_2290.csv',\n",
       " '/data/ccsi/pnnl_liquid_inlet/data/001/XYZ_Internal_Table_table_2300.csv',\n",
       " '/data/ccsi/pnnl_liquid_inlet/data/001/XYZ_Internal_Table_table_230.csv',\n",
       " '/data/ccsi/pnnl_liquid_inlet/data/001/XYZ_Internal_Table_table_2310.csv',\n",
       " '/data/ccsi/pnnl_liquid_inlet/data/001/XYZ_Internal_Table_table_2320.csv',\n",
       " '/data/ccsi/pnnl_liquid_inlet/data/001/XYZ_Internal_Table_table_2330.csv',\n",
       " '/data/ccsi/pnnl_liquid_inlet/data/001/XYZ_Internal_Table_table_2340.csv',\n",
       " '/data/ccsi/pnnl_liquid_inlet/data/001/XYZ_Internal_Table_table_2350.csv',\n",
       " '/data/ccsi/pnnl_liquid_inlet/data/001/XYZ_Internal_Table_table_2360.csv',\n",
       " '/data/ccsi/pnnl_liquid_inlet/data/001/XYZ_Internal_Table_table_2370.csv',\n",
       " '/data/ccsi/pnnl_liquid_inlet/data/001/XYZ_Internal_Table_table_2380.csv',\n",
       " '/data/ccsi/pnnl_liquid_inlet/data/001/XYZ_Internal_Table_table_2390.csv',\n",
       " '/data/ccsi/pnnl_liquid_inlet/data/001/XYZ_Internal_Table_table_2400.csv',\n",
       " '/data/ccsi/pnnl_liquid_inlet/data/001/XYZ_Internal_Table_table_240.csv',\n",
       " '/data/ccsi/pnnl_liquid_inlet/data/001/XYZ_Internal_Table_table_2410.csv',\n",
       " '/data/ccsi/pnnl_liquid_inlet/data/001/XYZ_Internal_Table_table_2420.csv',\n",
       " '/data/ccsi/pnnl_liquid_inlet/data/001/XYZ_Internal_Table_table_2430.csv',\n",
       " '/data/ccsi/pnnl_liquid_inlet/data/001/XYZ_Internal_Table_table_2440.csv',\n",
       " '/data/ccsi/pnnl_liquid_inlet/data/001/XYZ_Internal_Table_table_2450.csv',\n",
       " '/data/ccsi/pnnl_liquid_inlet/data/001/XYZ_Internal_Table_table_2460.csv',\n",
       " '/data/ccsi/pnnl_liquid_inlet/data/001/XYZ_Internal_Table_table_2470.csv',\n",
       " '/data/ccsi/pnnl_liquid_inlet/data/001/XYZ_Internal_Table_table_2480.csv',\n",
       " '/data/ccsi/pnnl_liquid_inlet/data/001/XYZ_Internal_Table_table_2490.csv',\n",
       " '/data/ccsi/pnnl_liquid_inlet/data/001/XYZ_Internal_Table_table_2500.csv',\n",
       " '/data/ccsi/pnnl_liquid_inlet/data/001/XYZ_Internal_Table_table_250.csv',\n",
       " '/data/ccsi/pnnl_liquid_inlet/data/001/XYZ_Internal_Table_table_2510.csv',\n",
       " '/data/ccsi/pnnl_liquid_inlet/data/001/XYZ_Internal_Table_table_2520.csv',\n",
       " '/data/ccsi/pnnl_liquid_inlet/data/001/XYZ_Internal_Table_table_2530.csv',\n",
       " '/data/ccsi/pnnl_liquid_inlet/data/001/XYZ_Internal_Table_table_2540.csv',\n",
       " '/data/ccsi/pnnl_liquid_inlet/data/001/XYZ_Internal_Table_table_2550.csv',\n",
       " '/data/ccsi/pnnl_liquid_inlet/data/001/XYZ_Internal_Table_table_2560.csv',\n",
       " '/data/ccsi/pnnl_liquid_inlet/data/001/XYZ_Internal_Table_table_2570.csv',\n",
       " '/data/ccsi/pnnl_liquid_inlet/data/001/XYZ_Internal_Table_table_2580.csv',\n",
       " '/data/ccsi/pnnl_liquid_inlet/data/001/XYZ_Internal_Table_table_2590.csv',\n",
       " '/data/ccsi/pnnl_liquid_inlet/data/001/XYZ_Internal_Table_table_2600.csv',\n",
       " '/data/ccsi/pnnl_liquid_inlet/data/001/XYZ_Internal_Table_table_260.csv',\n",
       " '/data/ccsi/pnnl_liquid_inlet/data/001/XYZ_Internal_Table_table_2610.csv',\n",
       " '/data/ccsi/pnnl_liquid_inlet/data/001/XYZ_Internal_Table_table_2620.csv',\n",
       " '/data/ccsi/pnnl_liquid_inlet/data/001/XYZ_Internal_Table_table_2630.csv',\n",
       " '/data/ccsi/pnnl_liquid_inlet/data/001/XYZ_Internal_Table_table_2640.csv',\n",
       " '/data/ccsi/pnnl_liquid_inlet/data/001/XYZ_Internal_Table_table_2650.csv',\n",
       " '/data/ccsi/pnnl_liquid_inlet/data/001/XYZ_Internal_Table_table_2660.csv',\n",
       " '/data/ccsi/pnnl_liquid_inlet/data/001/XYZ_Internal_Table_table_2670.csv',\n",
       " '/data/ccsi/pnnl_liquid_inlet/data/001/XYZ_Internal_Table_table_2680.csv',\n",
       " '/data/ccsi/pnnl_liquid_inlet/data/001/XYZ_Internal_Table_table_2690.csv',\n",
       " '/data/ccsi/pnnl_liquid_inlet/data/001/XYZ_Internal_Table_table_2700.csv',\n",
       " '/data/ccsi/pnnl_liquid_inlet/data/001/XYZ_Internal_Table_table_270.csv',\n",
       " '/data/ccsi/pnnl_liquid_inlet/data/001/XYZ_Internal_Table_table_2710.csv',\n",
       " '/data/ccsi/pnnl_liquid_inlet/data/001/XYZ_Internal_Table_table_2720.csv',\n",
       " '/data/ccsi/pnnl_liquid_inlet/data/001/XYZ_Internal_Table_table_2730.csv',\n",
       " '/data/ccsi/pnnl_liquid_inlet/data/001/XYZ_Internal_Table_table_2740.csv',\n",
       " '/data/ccsi/pnnl_liquid_inlet/data/001/XYZ_Internal_Table_table_2750.csv',\n",
       " '/data/ccsi/pnnl_liquid_inlet/data/001/XYZ_Internal_Table_table_2760.csv',\n",
       " '/data/ccsi/pnnl_liquid_inlet/data/001/XYZ_Internal_Table_table_2770.csv',\n",
       " '/data/ccsi/pnnl_liquid_inlet/data/001/XYZ_Internal_Table_table_2780.csv',\n",
       " '/data/ccsi/pnnl_liquid_inlet/data/001/XYZ_Internal_Table_table_2790.csv',\n",
       " '/data/ccsi/pnnl_liquid_inlet/data/001/XYZ_Internal_Table_table_2800.csv',\n",
       " '/data/ccsi/pnnl_liquid_inlet/data/001/XYZ_Internal_Table_table_280.csv',\n",
       " '/data/ccsi/pnnl_liquid_inlet/data/001/XYZ_Internal_Table_table_2810.csv',\n",
       " '/data/ccsi/pnnl_liquid_inlet/data/001/XYZ_Internal_Table_table_2820.csv',\n",
       " '/data/ccsi/pnnl_liquid_inlet/data/001/XYZ_Internal_Table_table_2830.csv',\n",
       " '/data/ccsi/pnnl_liquid_inlet/data/001/XYZ_Internal_Table_table_2840.csv',\n",
       " '/data/ccsi/pnnl_liquid_inlet/data/001/XYZ_Internal_Table_table_2850.csv',\n",
       " '/data/ccsi/pnnl_liquid_inlet/data/001/XYZ_Internal_Table_table_2860.csv',\n",
       " '/data/ccsi/pnnl_liquid_inlet/data/001/XYZ_Internal_Table_table_2870.csv',\n",
       " '/data/ccsi/pnnl_liquid_inlet/data/001/XYZ_Internal_Table_table_2880.csv',\n",
       " '/data/ccsi/pnnl_liquid_inlet/data/001/XYZ_Internal_Table_table_2890.csv',\n",
       " '/data/ccsi/pnnl_liquid_inlet/data/001/XYZ_Internal_Table_table_2900.csv',\n",
       " '/data/ccsi/pnnl_liquid_inlet/data/001/XYZ_Internal_Table_table_290.csv',\n",
       " '/data/ccsi/pnnl_liquid_inlet/data/001/XYZ_Internal_Table_table_2910.csv',\n",
       " '/data/ccsi/pnnl_liquid_inlet/data/001/XYZ_Internal_Table_table_2920.csv',\n",
       " '/data/ccsi/pnnl_liquid_inlet/data/001/XYZ_Internal_Table_table_2930.csv',\n",
       " '/data/ccsi/pnnl_liquid_inlet/data/001/XYZ_Internal_Table_table_2940.csv',\n",
       " '/data/ccsi/pnnl_liquid_inlet/data/001/XYZ_Internal_Table_table_2950.csv',\n",
       " '/data/ccsi/pnnl_liquid_inlet/data/001/XYZ_Internal_Table_table_2960.csv',\n",
       " '/data/ccsi/pnnl_liquid_inlet/data/001/XYZ_Internal_Table_table_2970.csv',\n",
       " '/data/ccsi/pnnl_liquid_inlet/data/001/XYZ_Internal_Table_table_2980.csv',\n",
       " '/data/ccsi/pnnl_liquid_inlet/data/001/XYZ_Internal_Table_table_2990.csv',\n",
       " '/data/ccsi/pnnl_liquid_inlet/data/001/XYZ_Internal_Table_table_3000.csv',\n",
       " '/data/ccsi/pnnl_liquid_inlet/data/001/XYZ_Internal_Table_table_300.csv',\n",
       " '/data/ccsi/pnnl_liquid_inlet/data/001/XYZ_Internal_Table_table_3010.csv',\n",
       " '/data/ccsi/pnnl_liquid_inlet/data/001/XYZ_Internal_Table_table_3020.csv',\n",
       " '/data/ccsi/pnnl_liquid_inlet/data/001/XYZ_Internal_Table_table_3030.csv',\n",
       " '/data/ccsi/pnnl_liquid_inlet/data/001/XYZ_Internal_Table_table_3040.csv',\n",
       " '/data/ccsi/pnnl_liquid_inlet/data/001/XYZ_Internal_Table_table_3050.csv',\n",
       " '/data/ccsi/pnnl_liquid_inlet/data/001/XYZ_Internal_Table_table_3060.csv',\n",
       " '/data/ccsi/pnnl_liquid_inlet/data/001/XYZ_Internal_Table_table_3070.csv',\n",
       " '/data/ccsi/pnnl_liquid_inlet/data/001/XYZ_Internal_Table_table_3080.csv',\n",
       " '/data/ccsi/pnnl_liquid_inlet/data/001/XYZ_Internal_Table_table_3090.csv',\n",
       " '/data/ccsi/pnnl_liquid_inlet/data/001/XYZ_Internal_Table_table_30.csv',\n",
       " '/data/ccsi/pnnl_liquid_inlet/data/001/XYZ_Internal_Table_table_3100.csv',\n",
       " '/data/ccsi/pnnl_liquid_inlet/data/001/XYZ_Internal_Table_table_310.csv',\n",
       " '/data/ccsi/pnnl_liquid_inlet/data/001/XYZ_Internal_Table_table_3110.csv',\n",
       " '/data/ccsi/pnnl_liquid_inlet/data/001/XYZ_Internal_Table_table_3120.csv',\n",
       " '/data/ccsi/pnnl_liquid_inlet/data/001/XYZ_Internal_Table_table_3130.csv',\n",
       " '/data/ccsi/pnnl_liquid_inlet/data/001/XYZ_Internal_Table_table_3140.csv',\n",
       " '/data/ccsi/pnnl_liquid_inlet/data/001/XYZ_Internal_Table_table_3150.csv',\n",
       " '/data/ccsi/pnnl_liquid_inlet/data/001/XYZ_Internal_Table_table_3160.csv',\n",
       " '/data/ccsi/pnnl_liquid_inlet/data/001/XYZ_Internal_Table_table_3170.csv',\n",
       " '/data/ccsi/pnnl_liquid_inlet/data/001/XYZ_Internal_Table_table_3180.csv',\n",
       " '/data/ccsi/pnnl_liquid_inlet/data/001/XYZ_Internal_Table_table_3190.csv',\n",
       " '/data/ccsi/pnnl_liquid_inlet/data/001/XYZ_Internal_Table_table_3200.csv',\n",
       " '/data/ccsi/pnnl_liquid_inlet/data/001/XYZ_Internal_Table_table_320.csv',\n",
       " '/data/ccsi/pnnl_liquid_inlet/data/001/XYZ_Internal_Table_table_3210.csv',\n",
       " '/data/ccsi/pnnl_liquid_inlet/data/001/XYZ_Internal_Table_table_3220.csv',\n",
       " '/data/ccsi/pnnl_liquid_inlet/data/001/XYZ_Internal_Table_table_3230.csv',\n",
       " '/data/ccsi/pnnl_liquid_inlet/data/001/XYZ_Internal_Table_table_3240.csv',\n",
       " '/data/ccsi/pnnl_liquid_inlet/data/001/XYZ_Internal_Table_table_3250.csv',\n",
       " '/data/ccsi/pnnl_liquid_inlet/data/001/XYZ_Internal_Table_table_3260.csv',\n",
       " '/data/ccsi/pnnl_liquid_inlet/data/001/XYZ_Internal_Table_table_3270.csv',\n",
       " '/data/ccsi/pnnl_liquid_inlet/data/001/XYZ_Internal_Table_table_3280.csv',\n",
       " '/data/ccsi/pnnl_liquid_inlet/data/001/XYZ_Internal_Table_table_3290.csv',\n",
       " '/data/ccsi/pnnl_liquid_inlet/data/001/XYZ_Internal_Table_table_3300.csv',\n",
       " '/data/ccsi/pnnl_liquid_inlet/data/001/XYZ_Internal_Table_table_330.csv',\n",
       " '/data/ccsi/pnnl_liquid_inlet/data/001/XYZ_Internal_Table_table_3310.csv',\n",
       " '/data/ccsi/pnnl_liquid_inlet/data/001/XYZ_Internal_Table_table_3320.csv',\n",
       " '/data/ccsi/pnnl_liquid_inlet/data/001/XYZ_Internal_Table_table_3330.csv',\n",
       " '/data/ccsi/pnnl_liquid_inlet/data/001/XYZ_Internal_Table_table_3340.csv',\n",
       " '/data/ccsi/pnnl_liquid_inlet/data/001/XYZ_Internal_Table_table_3350.csv',\n",
       " '/data/ccsi/pnnl_liquid_inlet/data/001/XYZ_Internal_Table_table_3360.csv',\n",
       " '/data/ccsi/pnnl_liquid_inlet/data/001/XYZ_Internal_Table_table_3370.csv',\n",
       " '/data/ccsi/pnnl_liquid_inlet/data/001/XYZ_Internal_Table_table_3380.csv',\n",
       " '/data/ccsi/pnnl_liquid_inlet/data/001/XYZ_Internal_Table_table_3390.csv',\n",
       " '/data/ccsi/pnnl_liquid_inlet/data/001/XYZ_Internal_Table_table_3400.csv',\n",
       " '/data/ccsi/pnnl_liquid_inlet/data/001/XYZ_Internal_Table_table_340.csv',\n",
       " '/data/ccsi/pnnl_liquid_inlet/data/001/XYZ_Internal_Table_table_3410.csv',\n",
       " '/data/ccsi/pnnl_liquid_inlet/data/001/XYZ_Internal_Table_table_3420.csv',\n",
       " '/data/ccsi/pnnl_liquid_inlet/data/001/XYZ_Internal_Table_table_3430.csv',\n",
       " '/data/ccsi/pnnl_liquid_inlet/data/001/XYZ_Internal_Table_table_3440.csv',\n",
       " '/data/ccsi/pnnl_liquid_inlet/data/001/XYZ_Internal_Table_table_3450.csv',\n",
       " '/data/ccsi/pnnl_liquid_inlet/data/001/XYZ_Internal_Table_table_3460.csv',\n",
       " '/data/ccsi/pnnl_liquid_inlet/data/001/XYZ_Internal_Table_table_3470.csv',\n",
       " '/data/ccsi/pnnl_liquid_inlet/data/001/XYZ_Internal_Table_table_3480.csv',\n",
       " '/data/ccsi/pnnl_liquid_inlet/data/001/XYZ_Internal_Table_table_3490.csv',\n",
       " '/data/ccsi/pnnl_liquid_inlet/data/001/XYZ_Internal_Table_table_3500.csv',\n",
       " '/data/ccsi/pnnl_liquid_inlet/data/001/XYZ_Internal_Table_table_350.csv',\n",
       " '/data/ccsi/pnnl_liquid_inlet/data/001/XYZ_Internal_Table_table_3510.csv',\n",
       " '/data/ccsi/pnnl_liquid_inlet/data/001/XYZ_Internal_Table_table_3520.csv',\n",
       " '/data/ccsi/pnnl_liquid_inlet/data/001/XYZ_Internal_Table_table_3530.csv',\n",
       " '/data/ccsi/pnnl_liquid_inlet/data/001/XYZ_Internal_Table_table_3540.csv',\n",
       " '/data/ccsi/pnnl_liquid_inlet/data/001/XYZ_Internal_Table_table_3550.csv',\n",
       " '/data/ccsi/pnnl_liquid_inlet/data/001/XYZ_Internal_Table_table_3560.csv',\n",
       " '/data/ccsi/pnnl_liquid_inlet/data/001/XYZ_Internal_Table_table_3570.csv',\n",
       " '/data/ccsi/pnnl_liquid_inlet/data/001/XYZ_Internal_Table_table_3580.csv',\n",
       " '/data/ccsi/pnnl_liquid_inlet/data/001/XYZ_Internal_Table_table_3590.csv',\n",
       " '/data/ccsi/pnnl_liquid_inlet/data/001/XYZ_Internal_Table_table_3600.csv',\n",
       " '/data/ccsi/pnnl_liquid_inlet/data/001/XYZ_Internal_Table_table_360.csv',\n",
       " '/data/ccsi/pnnl_liquid_inlet/data/001/XYZ_Internal_Table_table_3610.csv',\n",
       " '/data/ccsi/pnnl_liquid_inlet/data/001/XYZ_Internal_Table_table_3620.csv',\n",
       " '/data/ccsi/pnnl_liquid_inlet/data/001/XYZ_Internal_Table_table_3630.csv',\n",
       " '/data/ccsi/pnnl_liquid_inlet/data/001/XYZ_Internal_Table_table_3640.csv',\n",
       " '/data/ccsi/pnnl_liquid_inlet/data/001/XYZ_Internal_Table_table_3650.csv',\n",
       " '/data/ccsi/pnnl_liquid_inlet/data/001/XYZ_Internal_Table_table_3660.csv',\n",
       " '/data/ccsi/pnnl_liquid_inlet/data/001/XYZ_Internal_Table_table_3670.csv',\n",
       " '/data/ccsi/pnnl_liquid_inlet/data/001/XYZ_Internal_Table_table_3680.csv',\n",
       " '/data/ccsi/pnnl_liquid_inlet/data/001/XYZ_Internal_Table_table_3690.csv',\n",
       " '/data/ccsi/pnnl_liquid_inlet/data/001/XYZ_Internal_Table_table_3700.csv',\n",
       " '/data/ccsi/pnnl_liquid_inlet/data/001/XYZ_Internal_Table_table_370.csv',\n",
       " '/data/ccsi/pnnl_liquid_inlet/data/001/XYZ_Internal_Table_table_3710.csv',\n",
       " '/data/ccsi/pnnl_liquid_inlet/data/001/XYZ_Internal_Table_table_3720.csv',\n",
       " '/data/ccsi/pnnl_liquid_inlet/data/001/XYZ_Internal_Table_table_3730.csv',\n",
       " '/data/ccsi/pnnl_liquid_inlet/data/001/XYZ_Internal_Table_table_3740.csv',\n",
       " '/data/ccsi/pnnl_liquid_inlet/data/001/XYZ_Internal_Table_table_3750.csv',\n",
       " '/data/ccsi/pnnl_liquid_inlet/data/001/XYZ_Internal_Table_table_3760.csv',\n",
       " '/data/ccsi/pnnl_liquid_inlet/data/001/XYZ_Internal_Table_table_3770.csv',\n",
       " '/data/ccsi/pnnl_liquid_inlet/data/001/XYZ_Internal_Table_table_3780.csv',\n",
       " '/data/ccsi/pnnl_liquid_inlet/data/001/XYZ_Internal_Table_table_3790.csv',\n",
       " '/data/ccsi/pnnl_liquid_inlet/data/001/XYZ_Internal_Table_table_3800.csv',\n",
       " '/data/ccsi/pnnl_liquid_inlet/data/001/XYZ_Internal_Table_table_380.csv',\n",
       " '/data/ccsi/pnnl_liquid_inlet/data/001/XYZ_Internal_Table_table_3810.csv',\n",
       " '/data/ccsi/pnnl_liquid_inlet/data/001/XYZ_Internal_Table_table_3820.csv',\n",
       " '/data/ccsi/pnnl_liquid_inlet/data/001/XYZ_Internal_Table_table_3830.csv',\n",
       " '/data/ccsi/pnnl_liquid_inlet/data/001/XYZ_Internal_Table_table_3840.csv',\n",
       " '/data/ccsi/pnnl_liquid_inlet/data/001/XYZ_Internal_Table_table_3850.csv',\n",
       " '/data/ccsi/pnnl_liquid_inlet/data/001/XYZ_Internal_Table_table_3860.csv',\n",
       " '/data/ccsi/pnnl_liquid_inlet/data/001/XYZ_Internal_Table_table_3870.csv',\n",
       " '/data/ccsi/pnnl_liquid_inlet/data/001/XYZ_Internal_Table_table_3880.csv',\n",
       " '/data/ccsi/pnnl_liquid_inlet/data/001/XYZ_Internal_Table_table_3890.csv',\n",
       " '/data/ccsi/pnnl_liquid_inlet/data/001/XYZ_Internal_Table_table_3900.csv',\n",
       " '/data/ccsi/pnnl_liquid_inlet/data/001/XYZ_Internal_Table_table_390.csv',\n",
       " '/data/ccsi/pnnl_liquid_inlet/data/001/XYZ_Internal_Table_table_3910.csv',\n",
       " '/data/ccsi/pnnl_liquid_inlet/data/001/XYZ_Internal_Table_table_3920.csv',\n",
       " '/data/ccsi/pnnl_liquid_inlet/data/001/XYZ_Internal_Table_table_3930.csv',\n",
       " '/data/ccsi/pnnl_liquid_inlet/data/001/XYZ_Internal_Table_table_3940.csv',\n",
       " '/data/ccsi/pnnl_liquid_inlet/data/001/XYZ_Internal_Table_table_3950.csv',\n",
       " '/data/ccsi/pnnl_liquid_inlet/data/001/XYZ_Internal_Table_table_3960.csv',\n",
       " '/data/ccsi/pnnl_liquid_inlet/data/001/XYZ_Internal_Table_table_3970.csv',\n",
       " '/data/ccsi/pnnl_liquid_inlet/data/001/XYZ_Internal_Table_table_3980.csv',\n",
       " '/data/ccsi/pnnl_liquid_inlet/data/001/XYZ_Internal_Table_table_3990.csv',\n",
       " '/data/ccsi/pnnl_liquid_inlet/data/001/XYZ_Internal_Table_table_4000.csv',\n",
       " '/data/ccsi/pnnl_liquid_inlet/data/001/XYZ_Internal_Table_table_400.csv',\n",
       " '/data/ccsi/pnnl_liquid_inlet/data/001/XYZ_Internal_Table_table_4010.csv',\n",
       " '/data/ccsi/pnnl_liquid_inlet/data/001/XYZ_Internal_Table_table_4020.csv',\n",
       " '/data/ccsi/pnnl_liquid_inlet/data/001/XYZ_Internal_Table_table_4030.csv',\n",
       " '/data/ccsi/pnnl_liquid_inlet/data/001/XYZ_Internal_Table_table_4040.csv',\n",
       " '/data/ccsi/pnnl_liquid_inlet/data/001/XYZ_Internal_Table_table_4050.csv',\n",
       " '/data/ccsi/pnnl_liquid_inlet/data/001/XYZ_Internal_Table_table_4060.csv',\n",
       " '/data/ccsi/pnnl_liquid_inlet/data/001/XYZ_Internal_Table_table_4070.csv',\n",
       " '/data/ccsi/pnnl_liquid_inlet/data/001/XYZ_Internal_Table_table_4080.csv',\n",
       " '/data/ccsi/pnnl_liquid_inlet/data/001/XYZ_Internal_Table_table_4090.csv',\n",
       " '/data/ccsi/pnnl_liquid_inlet/data/001/XYZ_Internal_Table_table_40.csv',\n",
       " '/data/ccsi/pnnl_liquid_inlet/data/001/XYZ_Internal_Table_table_4100.csv',\n",
       " '/data/ccsi/pnnl_liquid_inlet/data/001/XYZ_Internal_Table_table_410.csv',\n",
       " '/data/ccsi/pnnl_liquid_inlet/data/001/XYZ_Internal_Table_table_4110.csv',\n",
       " '/data/ccsi/pnnl_liquid_inlet/data/001/XYZ_Internal_Table_table_4120.csv',\n",
       " '/data/ccsi/pnnl_liquid_inlet/data/001/XYZ_Internal_Table_table_4130.csv',\n",
       " '/data/ccsi/pnnl_liquid_inlet/data/001/XYZ_Internal_Table_table_4140.csv',\n",
       " '/data/ccsi/pnnl_liquid_inlet/data/001/XYZ_Internal_Table_table_4150.csv',\n",
       " '/data/ccsi/pnnl_liquid_inlet/data/001/XYZ_Internal_Table_table_4160.csv',\n",
       " '/data/ccsi/pnnl_liquid_inlet/data/001/XYZ_Internal_Table_table_4170.csv',\n",
       " '/data/ccsi/pnnl_liquid_inlet/data/001/XYZ_Internal_Table_table_4180.csv',\n",
       " '/data/ccsi/pnnl_liquid_inlet/data/001/XYZ_Internal_Table_table_4190.csv',\n",
       " '/data/ccsi/pnnl_liquid_inlet/data/001/XYZ_Internal_Table_table_4200.csv',\n",
       " '/data/ccsi/pnnl_liquid_inlet/data/001/XYZ_Internal_Table_table_420.csv',\n",
       " '/data/ccsi/pnnl_liquid_inlet/data/001/XYZ_Internal_Table_table_4210.csv',\n",
       " '/data/ccsi/pnnl_liquid_inlet/data/001/XYZ_Internal_Table_table_4220.csv',\n",
       " '/data/ccsi/pnnl_liquid_inlet/data/001/XYZ_Internal_Table_table_4230.csv',\n",
       " '/data/ccsi/pnnl_liquid_inlet/data/001/XYZ_Internal_Table_table_4240.csv',\n",
       " '/data/ccsi/pnnl_liquid_inlet/data/001/XYZ_Internal_Table_table_4250.csv',\n",
       " '/data/ccsi/pnnl_liquid_inlet/data/001/XYZ_Internal_Table_table_4260.csv',\n",
       " '/data/ccsi/pnnl_liquid_inlet/data/001/XYZ_Internal_Table_table_4270.csv',\n",
       " '/data/ccsi/pnnl_liquid_inlet/data/001/XYZ_Internal_Table_table_4280.csv',\n",
       " '/data/ccsi/pnnl_liquid_inlet/data/001/XYZ_Internal_Table_table_4290.csv',\n",
       " '/data/ccsi/pnnl_liquid_inlet/data/001/XYZ_Internal_Table_table_4300.csv',\n",
       " '/data/ccsi/pnnl_liquid_inlet/data/001/XYZ_Internal_Table_table_430.csv',\n",
       " '/data/ccsi/pnnl_liquid_inlet/data/001/XYZ_Internal_Table_table_4310.csv',\n",
       " '/data/ccsi/pnnl_liquid_inlet/data/001/XYZ_Internal_Table_table_4320.csv',\n",
       " '/data/ccsi/pnnl_liquid_inlet/data/001/XYZ_Internal_Table_table_4330.csv',\n",
       " '/data/ccsi/pnnl_liquid_inlet/data/001/XYZ_Internal_Table_table_4340.csv',\n",
       " '/data/ccsi/pnnl_liquid_inlet/data/001/XYZ_Internal_Table_table_4350.csv',\n",
       " '/data/ccsi/pnnl_liquid_inlet/data/001/XYZ_Internal_Table_table_4360.csv',\n",
       " '/data/ccsi/pnnl_liquid_inlet/data/001/XYZ_Internal_Table_table_4370.csv',\n",
       " '/data/ccsi/pnnl_liquid_inlet/data/001/XYZ_Internal_Table_table_4380.csv',\n",
       " '/data/ccsi/pnnl_liquid_inlet/data/001/XYZ_Internal_Table_table_4390.csv',\n",
       " '/data/ccsi/pnnl_liquid_inlet/data/001/XYZ_Internal_Table_table_4400.csv',\n",
       " '/data/ccsi/pnnl_liquid_inlet/data/001/XYZ_Internal_Table_table_440.csv',\n",
       " '/data/ccsi/pnnl_liquid_inlet/data/001/XYZ_Internal_Table_table_4410.csv',\n",
       " '/data/ccsi/pnnl_liquid_inlet/data/001/XYZ_Internal_Table_table_4420.csv',\n",
       " '/data/ccsi/pnnl_liquid_inlet/data/001/XYZ_Internal_Table_table_4430.csv',\n",
       " '/data/ccsi/pnnl_liquid_inlet/data/001/XYZ_Internal_Table_table_4440.csv',\n",
       " '/data/ccsi/pnnl_liquid_inlet/data/001/XYZ_Internal_Table_table_4450.csv',\n",
       " '/data/ccsi/pnnl_liquid_inlet/data/001/XYZ_Internal_Table_table_4460.csv',\n",
       " '/data/ccsi/pnnl_liquid_inlet/data/001/XYZ_Internal_Table_table_4470.csv',\n",
       " '/data/ccsi/pnnl_liquid_inlet/data/001/XYZ_Internal_Table_table_4480.csv',\n",
       " '/data/ccsi/pnnl_liquid_inlet/data/001/XYZ_Internal_Table_table_4490.csv',\n",
       " '/data/ccsi/pnnl_liquid_inlet/data/001/XYZ_Internal_Table_table_4500.csv',\n",
       " '/data/ccsi/pnnl_liquid_inlet/data/001/XYZ_Internal_Table_table_450.csv',\n",
       " '/data/ccsi/pnnl_liquid_inlet/data/001/XYZ_Internal_Table_table_4510.csv',\n",
       " '/data/ccsi/pnnl_liquid_inlet/data/001/XYZ_Internal_Table_table_4520.csv',\n",
       " '/data/ccsi/pnnl_liquid_inlet/data/001/XYZ_Internal_Table_table_4530.csv',\n",
       " '/data/ccsi/pnnl_liquid_inlet/data/001/XYZ_Internal_Table_table_4540.csv',\n",
       " '/data/ccsi/pnnl_liquid_inlet/data/001/XYZ_Internal_Table_table_4550.csv',\n",
       " '/data/ccsi/pnnl_liquid_inlet/data/001/XYZ_Internal_Table_table_4560.csv',\n",
       " '/data/ccsi/pnnl_liquid_inlet/data/001/XYZ_Internal_Table_table_4570.csv',\n",
       " '/data/ccsi/pnnl_liquid_inlet/data/001/XYZ_Internal_Table_table_4580.csv',\n",
       " '/data/ccsi/pnnl_liquid_inlet/data/001/XYZ_Internal_Table_table_4590.csv',\n",
       " '/data/ccsi/pnnl_liquid_inlet/data/001/XYZ_Internal_Table_table_4600.csv',\n",
       " '/data/ccsi/pnnl_liquid_inlet/data/001/XYZ_Internal_Table_table_460.csv',\n",
       " '/data/ccsi/pnnl_liquid_inlet/data/001/XYZ_Internal_Table_table_4610.csv',\n",
       " '/data/ccsi/pnnl_liquid_inlet/data/001/XYZ_Internal_Table_table_4620.csv',\n",
       " '/data/ccsi/pnnl_liquid_inlet/data/001/XYZ_Internal_Table_table_4630.csv',\n",
       " '/data/ccsi/pnnl_liquid_inlet/data/001/XYZ_Internal_Table_table_4640.csv',\n",
       " '/data/ccsi/pnnl_liquid_inlet/data/001/XYZ_Internal_Table_table_4650.csv',\n",
       " '/data/ccsi/pnnl_liquid_inlet/data/001/XYZ_Internal_Table_table_4660.csv',\n",
       " '/data/ccsi/pnnl_liquid_inlet/data/001/XYZ_Internal_Table_table_4670.csv',\n",
       " '/data/ccsi/pnnl_liquid_inlet/data/001/XYZ_Internal_Table_table_4680.csv',\n",
       " '/data/ccsi/pnnl_liquid_inlet/data/001/XYZ_Internal_Table_table_4690.csv',\n",
       " '/data/ccsi/pnnl_liquid_inlet/data/001/XYZ_Internal_Table_table_4700.csv',\n",
       " '/data/ccsi/pnnl_liquid_inlet/data/001/XYZ_Internal_Table_table_470.csv',\n",
       " '/data/ccsi/pnnl_liquid_inlet/data/001/XYZ_Internal_Table_table_4710.csv',\n",
       " '/data/ccsi/pnnl_liquid_inlet/data/001/XYZ_Internal_Table_table_4720.csv',\n",
       " '/data/ccsi/pnnl_liquid_inlet/data/001/XYZ_Internal_Table_table_4730.csv',\n",
       " '/data/ccsi/pnnl_liquid_inlet/data/001/XYZ_Internal_Table_table_4740.csv',\n",
       " '/data/ccsi/pnnl_liquid_inlet/data/001/XYZ_Internal_Table_table_4750.csv',\n",
       " '/data/ccsi/pnnl_liquid_inlet/data/001/XYZ_Internal_Table_table_4760.csv',\n",
       " '/data/ccsi/pnnl_liquid_inlet/data/001/XYZ_Internal_Table_table_4770.csv',\n",
       " '/data/ccsi/pnnl_liquid_inlet/data/001/XYZ_Internal_Table_table_4780.csv',\n",
       " '/data/ccsi/pnnl_liquid_inlet/data/001/XYZ_Internal_Table_table_4790.csv',\n",
       " '/data/ccsi/pnnl_liquid_inlet/data/001/XYZ_Internal_Table_table_4800.csv',\n",
       " '/data/ccsi/pnnl_liquid_inlet/data/001/XYZ_Internal_Table_table_480.csv',\n",
       " '/data/ccsi/pnnl_liquid_inlet/data/001/XYZ_Internal_Table_table_4810.csv',\n",
       " '/data/ccsi/pnnl_liquid_inlet/data/001/XYZ_Internal_Table_table_4820.csv',\n",
       " '/data/ccsi/pnnl_liquid_inlet/data/001/XYZ_Internal_Table_table_4830.csv',\n",
       " '/data/ccsi/pnnl_liquid_inlet/data/001/XYZ_Internal_Table_table_4840.csv',\n",
       " '/data/ccsi/pnnl_liquid_inlet/data/001/XYZ_Internal_Table_table_4850.csv',\n",
       " '/data/ccsi/pnnl_liquid_inlet/data/001/XYZ_Internal_Table_table_4860.csv',\n",
       " '/data/ccsi/pnnl_liquid_inlet/data/001/XYZ_Internal_Table_table_4870.csv',\n",
       " '/data/ccsi/pnnl_liquid_inlet/data/001/XYZ_Internal_Table_table_4880.csv',\n",
       " '/data/ccsi/pnnl_liquid_inlet/data/001/XYZ_Internal_Table_table_4890.csv',\n",
       " '/data/ccsi/pnnl_liquid_inlet/data/001/XYZ_Internal_Table_table_4900.csv',\n",
       " '/data/ccsi/pnnl_liquid_inlet/data/001/XYZ_Internal_Table_table_490.csv',\n",
       " '/data/ccsi/pnnl_liquid_inlet/data/001/XYZ_Internal_Table_table_4910.csv',\n",
       " '/data/ccsi/pnnl_liquid_inlet/data/001/XYZ_Internal_Table_table_4920.csv',\n",
       " '/data/ccsi/pnnl_liquid_inlet/data/001/XYZ_Internal_Table_table_4930.csv',\n",
       " '/data/ccsi/pnnl_liquid_inlet/data/001/XYZ_Internal_Table_table_4940.csv',\n",
       " '/data/ccsi/pnnl_liquid_inlet/data/001/XYZ_Internal_Table_table_4950.csv',\n",
       " '/data/ccsi/pnnl_liquid_inlet/data/001/XYZ_Internal_Table_table_4960.csv',\n",
       " '/data/ccsi/pnnl_liquid_inlet/data/001/XYZ_Internal_Table_table_4970.csv',\n",
       " '/data/ccsi/pnnl_liquid_inlet/data/001/XYZ_Internal_Table_table_4980.csv',\n",
       " '/data/ccsi/pnnl_liquid_inlet/data/001/XYZ_Internal_Table_table_4990.csv',\n",
       " '/data/ccsi/pnnl_liquid_inlet/data/001/XYZ_Internal_Table_table_5000.csv',\n",
       " '/data/ccsi/pnnl_liquid_inlet/data/001/XYZ_Internal_Table_table_500.csv',\n",
       " '/data/ccsi/pnnl_liquid_inlet/data/001/XYZ_Internal_Table_table_50.csv',\n",
       " '/data/ccsi/pnnl_liquid_inlet/data/001/XYZ_Internal_Table_table_510.csv',\n",
       " '/data/ccsi/pnnl_liquid_inlet/data/001/XYZ_Internal_Table_table_520.csv',\n",
       " '/data/ccsi/pnnl_liquid_inlet/data/001/XYZ_Internal_Table_table_530.csv',\n",
       " '/data/ccsi/pnnl_liquid_inlet/data/001/XYZ_Internal_Table_table_540.csv',\n",
       " '/data/ccsi/pnnl_liquid_inlet/data/001/XYZ_Internal_Table_table_550.csv',\n",
       " '/data/ccsi/pnnl_liquid_inlet/data/001/XYZ_Internal_Table_table_560.csv',\n",
       " '/data/ccsi/pnnl_liquid_inlet/data/001/XYZ_Internal_Table_table_570.csv',\n",
       " '/data/ccsi/pnnl_liquid_inlet/data/001/XYZ_Internal_Table_table_580.csv',\n",
       " '/data/ccsi/pnnl_liquid_inlet/data/001/XYZ_Internal_Table_table_590.csv',\n",
       " '/data/ccsi/pnnl_liquid_inlet/data/001/XYZ_Internal_Table_table_600.csv',\n",
       " '/data/ccsi/pnnl_liquid_inlet/data/001/XYZ_Internal_Table_table_60.csv',\n",
       " '/data/ccsi/pnnl_liquid_inlet/data/001/XYZ_Internal_Table_table_610.csv',\n",
       " '/data/ccsi/pnnl_liquid_inlet/data/001/XYZ_Internal_Table_table_620.csv',\n",
       " '/data/ccsi/pnnl_liquid_inlet/data/001/XYZ_Internal_Table_table_630.csv',\n",
       " '/data/ccsi/pnnl_liquid_inlet/data/001/XYZ_Internal_Table_table_640.csv',\n",
       " '/data/ccsi/pnnl_liquid_inlet/data/001/XYZ_Internal_Table_table_650.csv',\n",
       " '/data/ccsi/pnnl_liquid_inlet/data/001/XYZ_Internal_Table_table_660.csv',\n",
       " '/data/ccsi/pnnl_liquid_inlet/data/001/XYZ_Internal_Table_table_670.csv',\n",
       " '/data/ccsi/pnnl_liquid_inlet/data/001/XYZ_Internal_Table_table_680.csv',\n",
       " '/data/ccsi/pnnl_liquid_inlet/data/001/XYZ_Internal_Table_table_690.csv',\n",
       " '/data/ccsi/pnnl_liquid_inlet/data/001/XYZ_Internal_Table_table_700.csv',\n",
       " '/data/ccsi/pnnl_liquid_inlet/data/001/XYZ_Internal_Table_table_70.csv',\n",
       " '/data/ccsi/pnnl_liquid_inlet/data/001/XYZ_Internal_Table_table_710.csv',\n",
       " '/data/ccsi/pnnl_liquid_inlet/data/001/XYZ_Internal_Table_table_720.csv',\n",
       " '/data/ccsi/pnnl_liquid_inlet/data/001/XYZ_Internal_Table_table_730.csv',\n",
       " '/data/ccsi/pnnl_liquid_inlet/data/001/XYZ_Internal_Table_table_740.csv',\n",
       " '/data/ccsi/pnnl_liquid_inlet/data/001/XYZ_Internal_Table_table_750.csv',\n",
       " '/data/ccsi/pnnl_liquid_inlet/data/001/XYZ_Internal_Table_table_760.csv',\n",
       " '/data/ccsi/pnnl_liquid_inlet/data/001/XYZ_Internal_Table_table_770.csv',\n",
       " '/data/ccsi/pnnl_liquid_inlet/data/001/XYZ_Internal_Table_table_780.csv',\n",
       " '/data/ccsi/pnnl_liquid_inlet/data/001/XYZ_Internal_Table_table_790.csv',\n",
       " '/data/ccsi/pnnl_liquid_inlet/data/001/XYZ_Internal_Table_table_800.csv',\n",
       " '/data/ccsi/pnnl_liquid_inlet/data/001/XYZ_Internal_Table_table_80.csv',\n",
       " '/data/ccsi/pnnl_liquid_inlet/data/001/XYZ_Internal_Table_table_810.csv',\n",
       " '/data/ccsi/pnnl_liquid_inlet/data/001/XYZ_Internal_Table_table_820.csv',\n",
       " '/data/ccsi/pnnl_liquid_inlet/data/001/XYZ_Internal_Table_table_830.csv',\n",
       " '/data/ccsi/pnnl_liquid_inlet/data/001/XYZ_Internal_Table_table_840.csv',\n",
       " '/data/ccsi/pnnl_liquid_inlet/data/001/XYZ_Internal_Table_table_850.csv',\n",
       " '/data/ccsi/pnnl_liquid_inlet/data/001/XYZ_Internal_Table_table_860.csv',\n",
       " '/data/ccsi/pnnl_liquid_inlet/data/001/XYZ_Internal_Table_table_870.csv',\n",
       " '/data/ccsi/pnnl_liquid_inlet/data/001/XYZ_Internal_Table_table_880.csv',\n",
       " '/data/ccsi/pnnl_liquid_inlet/data/001/XYZ_Internal_Table_table_890.csv',\n",
       " '/data/ccsi/pnnl_liquid_inlet/data/001/XYZ_Internal_Table_table_900.csv',\n",
       " '/data/ccsi/pnnl_liquid_inlet/data/001/XYZ_Internal_Table_table_90.csv',\n",
       " '/data/ccsi/pnnl_liquid_inlet/data/001/XYZ_Internal_Table_table_910.csv',\n",
       " '/data/ccsi/pnnl_liquid_inlet/data/001/XYZ_Internal_Table_table_920.csv',\n",
       " '/data/ccsi/pnnl_liquid_inlet/data/001/XYZ_Internal_Table_table_930.csv',\n",
       " '/data/ccsi/pnnl_liquid_inlet/data/001/XYZ_Internal_Table_table_940.csv',\n",
       " '/data/ccsi/pnnl_liquid_inlet/data/001/XYZ_Internal_Table_table_950.csv',\n",
       " '/data/ccsi/pnnl_liquid_inlet/data/001/XYZ_Internal_Table_table_960.csv',\n",
       " '/data/ccsi/pnnl_liquid_inlet/data/001/XYZ_Internal_Table_table_970.csv',\n",
       " '/data/ccsi/pnnl_liquid_inlet/data/001/XYZ_Internal_Table_table_980.csv',\n",
       " '/data/ccsi/pnnl_liquid_inlet/data/001/XYZ_Internal_Table_table_990.csv']"
      ]
     },
     "execution_count": 55,
     "metadata": {},
     "output_type": "execute_result"
    }
   ],
   "source": [
    "csvFiles = glob(os.path.join('/data/ccsi/pnnl_liquid_inlet/data/001','*.csv'))\n",
    "csvFiles"
   ]
  },
  {
   "cell_type": "code",
   "execution_count": 56,
   "metadata": {
    "ExecuteTime": {
     "end_time": "2020-11-06T02:29:19.938436Z",
     "start_time": "2020-11-06T02:29:19.916269Z"
    }
   },
   "outputs": [
    {
     "data": {
      "text/plain": [
       "['/data/ccsi/pnnl_liquid_inlet/data/001/XYZ_Internal_Table_table_10.csv',\n",
       " '/data/ccsi/pnnl_liquid_inlet/data/001/XYZ_Internal_Table_table_20.csv',\n",
       " '/data/ccsi/pnnl_liquid_inlet/data/001/XYZ_Internal_Table_table_30.csv',\n",
       " '/data/ccsi/pnnl_liquid_inlet/data/001/XYZ_Internal_Table_table_40.csv',\n",
       " '/data/ccsi/pnnl_liquid_inlet/data/001/XYZ_Internal_Table_table_50.csv',\n",
       " '/data/ccsi/pnnl_liquid_inlet/data/001/XYZ_Internal_Table_table_60.csv',\n",
       " '/data/ccsi/pnnl_liquid_inlet/data/001/XYZ_Internal_Table_table_70.csv',\n",
       " '/data/ccsi/pnnl_liquid_inlet/data/001/XYZ_Internal_Table_table_80.csv',\n",
       " '/data/ccsi/pnnl_liquid_inlet/data/001/XYZ_Internal_Table_table_90.csv',\n",
       " '/data/ccsi/pnnl_liquid_inlet/data/001/XYZ_Internal_Table_table_100.csv',\n",
       " '/data/ccsi/pnnl_liquid_inlet/data/001/XYZ_Internal_Table_table_110.csv',\n",
       " '/data/ccsi/pnnl_liquid_inlet/data/001/XYZ_Internal_Table_table_120.csv',\n",
       " '/data/ccsi/pnnl_liquid_inlet/data/001/XYZ_Internal_Table_table_130.csv',\n",
       " '/data/ccsi/pnnl_liquid_inlet/data/001/XYZ_Internal_Table_table_140.csv',\n",
       " '/data/ccsi/pnnl_liquid_inlet/data/001/XYZ_Internal_Table_table_150.csv',\n",
       " '/data/ccsi/pnnl_liquid_inlet/data/001/XYZ_Internal_Table_table_160.csv',\n",
       " '/data/ccsi/pnnl_liquid_inlet/data/001/XYZ_Internal_Table_table_170.csv',\n",
       " '/data/ccsi/pnnl_liquid_inlet/data/001/XYZ_Internal_Table_table_180.csv',\n",
       " '/data/ccsi/pnnl_liquid_inlet/data/001/XYZ_Internal_Table_table_190.csv',\n",
       " '/data/ccsi/pnnl_liquid_inlet/data/001/XYZ_Internal_Table_table_200.csv',\n",
       " '/data/ccsi/pnnl_liquid_inlet/data/001/XYZ_Internal_Table_table_210.csv',\n",
       " '/data/ccsi/pnnl_liquid_inlet/data/001/XYZ_Internal_Table_table_220.csv',\n",
       " '/data/ccsi/pnnl_liquid_inlet/data/001/XYZ_Internal_Table_table_230.csv',\n",
       " '/data/ccsi/pnnl_liquid_inlet/data/001/XYZ_Internal_Table_table_240.csv',\n",
       " '/data/ccsi/pnnl_liquid_inlet/data/001/XYZ_Internal_Table_table_250.csv',\n",
       " '/data/ccsi/pnnl_liquid_inlet/data/001/XYZ_Internal_Table_table_260.csv',\n",
       " '/data/ccsi/pnnl_liquid_inlet/data/001/XYZ_Internal_Table_table_270.csv',\n",
       " '/data/ccsi/pnnl_liquid_inlet/data/001/XYZ_Internal_Table_table_280.csv',\n",
       " '/data/ccsi/pnnl_liquid_inlet/data/001/XYZ_Internal_Table_table_290.csv',\n",
       " '/data/ccsi/pnnl_liquid_inlet/data/001/XYZ_Internal_Table_table_300.csv',\n",
       " '/data/ccsi/pnnl_liquid_inlet/data/001/XYZ_Internal_Table_table_310.csv',\n",
       " '/data/ccsi/pnnl_liquid_inlet/data/001/XYZ_Internal_Table_table_320.csv',\n",
       " '/data/ccsi/pnnl_liquid_inlet/data/001/XYZ_Internal_Table_table_330.csv',\n",
       " '/data/ccsi/pnnl_liquid_inlet/data/001/XYZ_Internal_Table_table_340.csv',\n",
       " '/data/ccsi/pnnl_liquid_inlet/data/001/XYZ_Internal_Table_table_350.csv',\n",
       " '/data/ccsi/pnnl_liquid_inlet/data/001/XYZ_Internal_Table_table_360.csv',\n",
       " '/data/ccsi/pnnl_liquid_inlet/data/001/XYZ_Internal_Table_table_370.csv',\n",
       " '/data/ccsi/pnnl_liquid_inlet/data/001/XYZ_Internal_Table_table_380.csv',\n",
       " '/data/ccsi/pnnl_liquid_inlet/data/001/XYZ_Internal_Table_table_390.csv',\n",
       " '/data/ccsi/pnnl_liquid_inlet/data/001/XYZ_Internal_Table_table_400.csv',\n",
       " '/data/ccsi/pnnl_liquid_inlet/data/001/XYZ_Internal_Table_table_410.csv',\n",
       " '/data/ccsi/pnnl_liquid_inlet/data/001/XYZ_Internal_Table_table_420.csv',\n",
       " '/data/ccsi/pnnl_liquid_inlet/data/001/XYZ_Internal_Table_table_430.csv',\n",
       " '/data/ccsi/pnnl_liquid_inlet/data/001/XYZ_Internal_Table_table_440.csv',\n",
       " '/data/ccsi/pnnl_liquid_inlet/data/001/XYZ_Internal_Table_table_450.csv',\n",
       " '/data/ccsi/pnnl_liquid_inlet/data/001/XYZ_Internal_Table_table_460.csv',\n",
       " '/data/ccsi/pnnl_liquid_inlet/data/001/XYZ_Internal_Table_table_470.csv',\n",
       " '/data/ccsi/pnnl_liquid_inlet/data/001/XYZ_Internal_Table_table_480.csv',\n",
       " '/data/ccsi/pnnl_liquid_inlet/data/001/XYZ_Internal_Table_table_490.csv',\n",
       " '/data/ccsi/pnnl_liquid_inlet/data/001/XYZ_Internal_Table_table_500.csv',\n",
       " '/data/ccsi/pnnl_liquid_inlet/data/001/XYZ_Internal_Table_table_510.csv',\n",
       " '/data/ccsi/pnnl_liquid_inlet/data/001/XYZ_Internal_Table_table_520.csv',\n",
       " '/data/ccsi/pnnl_liquid_inlet/data/001/XYZ_Internal_Table_table_530.csv',\n",
       " '/data/ccsi/pnnl_liquid_inlet/data/001/XYZ_Internal_Table_table_540.csv',\n",
       " '/data/ccsi/pnnl_liquid_inlet/data/001/XYZ_Internal_Table_table_550.csv',\n",
       " '/data/ccsi/pnnl_liquid_inlet/data/001/XYZ_Internal_Table_table_560.csv',\n",
       " '/data/ccsi/pnnl_liquid_inlet/data/001/XYZ_Internal_Table_table_570.csv',\n",
       " '/data/ccsi/pnnl_liquid_inlet/data/001/XYZ_Internal_Table_table_580.csv',\n",
       " '/data/ccsi/pnnl_liquid_inlet/data/001/XYZ_Internal_Table_table_590.csv',\n",
       " '/data/ccsi/pnnl_liquid_inlet/data/001/XYZ_Internal_Table_table_600.csv',\n",
       " '/data/ccsi/pnnl_liquid_inlet/data/001/XYZ_Internal_Table_table_610.csv',\n",
       " '/data/ccsi/pnnl_liquid_inlet/data/001/XYZ_Internal_Table_table_620.csv',\n",
       " '/data/ccsi/pnnl_liquid_inlet/data/001/XYZ_Internal_Table_table_630.csv',\n",
       " '/data/ccsi/pnnl_liquid_inlet/data/001/XYZ_Internal_Table_table_640.csv',\n",
       " '/data/ccsi/pnnl_liquid_inlet/data/001/XYZ_Internal_Table_table_650.csv',\n",
       " '/data/ccsi/pnnl_liquid_inlet/data/001/XYZ_Internal_Table_table_660.csv',\n",
       " '/data/ccsi/pnnl_liquid_inlet/data/001/XYZ_Internal_Table_table_670.csv',\n",
       " '/data/ccsi/pnnl_liquid_inlet/data/001/XYZ_Internal_Table_table_680.csv',\n",
       " '/data/ccsi/pnnl_liquid_inlet/data/001/XYZ_Internal_Table_table_690.csv',\n",
       " '/data/ccsi/pnnl_liquid_inlet/data/001/XYZ_Internal_Table_table_700.csv',\n",
       " '/data/ccsi/pnnl_liquid_inlet/data/001/XYZ_Internal_Table_table_710.csv',\n",
       " '/data/ccsi/pnnl_liquid_inlet/data/001/XYZ_Internal_Table_table_720.csv',\n",
       " '/data/ccsi/pnnl_liquid_inlet/data/001/XYZ_Internal_Table_table_730.csv',\n",
       " '/data/ccsi/pnnl_liquid_inlet/data/001/XYZ_Internal_Table_table_740.csv',\n",
       " '/data/ccsi/pnnl_liquid_inlet/data/001/XYZ_Internal_Table_table_750.csv',\n",
       " '/data/ccsi/pnnl_liquid_inlet/data/001/XYZ_Internal_Table_table_760.csv',\n",
       " '/data/ccsi/pnnl_liquid_inlet/data/001/XYZ_Internal_Table_table_770.csv',\n",
       " '/data/ccsi/pnnl_liquid_inlet/data/001/XYZ_Internal_Table_table_780.csv',\n",
       " '/data/ccsi/pnnl_liquid_inlet/data/001/XYZ_Internal_Table_table_790.csv',\n",
       " '/data/ccsi/pnnl_liquid_inlet/data/001/XYZ_Internal_Table_table_800.csv',\n",
       " '/data/ccsi/pnnl_liquid_inlet/data/001/XYZ_Internal_Table_table_810.csv',\n",
       " '/data/ccsi/pnnl_liquid_inlet/data/001/XYZ_Internal_Table_table_820.csv',\n",
       " '/data/ccsi/pnnl_liquid_inlet/data/001/XYZ_Internal_Table_table_830.csv',\n",
       " '/data/ccsi/pnnl_liquid_inlet/data/001/XYZ_Internal_Table_table_840.csv',\n",
       " '/data/ccsi/pnnl_liquid_inlet/data/001/XYZ_Internal_Table_table_850.csv',\n",
       " '/data/ccsi/pnnl_liquid_inlet/data/001/XYZ_Internal_Table_table_860.csv',\n",
       " '/data/ccsi/pnnl_liquid_inlet/data/001/XYZ_Internal_Table_table_870.csv',\n",
       " '/data/ccsi/pnnl_liquid_inlet/data/001/XYZ_Internal_Table_table_880.csv',\n",
       " '/data/ccsi/pnnl_liquid_inlet/data/001/XYZ_Internal_Table_table_890.csv',\n",
       " '/data/ccsi/pnnl_liquid_inlet/data/001/XYZ_Internal_Table_table_900.csv',\n",
       " '/data/ccsi/pnnl_liquid_inlet/data/001/XYZ_Internal_Table_table_910.csv',\n",
       " '/data/ccsi/pnnl_liquid_inlet/data/001/XYZ_Internal_Table_table_920.csv',\n",
       " '/data/ccsi/pnnl_liquid_inlet/data/001/XYZ_Internal_Table_table_930.csv',\n",
       " '/data/ccsi/pnnl_liquid_inlet/data/001/XYZ_Internal_Table_table_940.csv',\n",
       " '/data/ccsi/pnnl_liquid_inlet/data/001/XYZ_Internal_Table_table_950.csv',\n",
       " '/data/ccsi/pnnl_liquid_inlet/data/001/XYZ_Internal_Table_table_960.csv',\n",
       " '/data/ccsi/pnnl_liquid_inlet/data/001/XYZ_Internal_Table_table_970.csv',\n",
       " '/data/ccsi/pnnl_liquid_inlet/data/001/XYZ_Internal_Table_table_980.csv',\n",
       " '/data/ccsi/pnnl_liquid_inlet/data/001/XYZ_Internal_Table_table_990.csv',\n",
       " '/data/ccsi/pnnl_liquid_inlet/data/001/XYZ_Internal_Table_table_1000.csv',\n",
       " '/data/ccsi/pnnl_liquid_inlet/data/001/XYZ_Internal_Table_table_1010.csv',\n",
       " '/data/ccsi/pnnl_liquid_inlet/data/001/XYZ_Internal_Table_table_1020.csv',\n",
       " '/data/ccsi/pnnl_liquid_inlet/data/001/XYZ_Internal_Table_table_1030.csv',\n",
       " '/data/ccsi/pnnl_liquid_inlet/data/001/XYZ_Internal_Table_table_1040.csv',\n",
       " '/data/ccsi/pnnl_liquid_inlet/data/001/XYZ_Internal_Table_table_1050.csv',\n",
       " '/data/ccsi/pnnl_liquid_inlet/data/001/XYZ_Internal_Table_table_1060.csv',\n",
       " '/data/ccsi/pnnl_liquid_inlet/data/001/XYZ_Internal_Table_table_1070.csv',\n",
       " '/data/ccsi/pnnl_liquid_inlet/data/001/XYZ_Internal_Table_table_1080.csv',\n",
       " '/data/ccsi/pnnl_liquid_inlet/data/001/XYZ_Internal_Table_table_1090.csv',\n",
       " '/data/ccsi/pnnl_liquid_inlet/data/001/XYZ_Internal_Table_table_1100.csv',\n",
       " '/data/ccsi/pnnl_liquid_inlet/data/001/XYZ_Internal_Table_table_1110.csv',\n",
       " '/data/ccsi/pnnl_liquid_inlet/data/001/XYZ_Internal_Table_table_1120.csv',\n",
       " '/data/ccsi/pnnl_liquid_inlet/data/001/XYZ_Internal_Table_table_1130.csv',\n",
       " '/data/ccsi/pnnl_liquid_inlet/data/001/XYZ_Internal_Table_table_1140.csv',\n",
       " '/data/ccsi/pnnl_liquid_inlet/data/001/XYZ_Internal_Table_table_1150.csv',\n",
       " '/data/ccsi/pnnl_liquid_inlet/data/001/XYZ_Internal_Table_table_1160.csv',\n",
       " '/data/ccsi/pnnl_liquid_inlet/data/001/XYZ_Internal_Table_table_1170.csv',\n",
       " '/data/ccsi/pnnl_liquid_inlet/data/001/XYZ_Internal_Table_table_1180.csv',\n",
       " '/data/ccsi/pnnl_liquid_inlet/data/001/XYZ_Internal_Table_table_1190.csv',\n",
       " '/data/ccsi/pnnl_liquid_inlet/data/001/XYZ_Internal_Table_table_1200.csv',\n",
       " '/data/ccsi/pnnl_liquid_inlet/data/001/XYZ_Internal_Table_table_1210.csv',\n",
       " '/data/ccsi/pnnl_liquid_inlet/data/001/XYZ_Internal_Table_table_1220.csv',\n",
       " '/data/ccsi/pnnl_liquid_inlet/data/001/XYZ_Internal_Table_table_1230.csv',\n",
       " '/data/ccsi/pnnl_liquid_inlet/data/001/XYZ_Internal_Table_table_1240.csv',\n",
       " '/data/ccsi/pnnl_liquid_inlet/data/001/XYZ_Internal_Table_table_1250.csv',\n",
       " '/data/ccsi/pnnl_liquid_inlet/data/001/XYZ_Internal_Table_table_1260.csv',\n",
       " '/data/ccsi/pnnl_liquid_inlet/data/001/XYZ_Internal_Table_table_1270.csv',\n",
       " '/data/ccsi/pnnl_liquid_inlet/data/001/XYZ_Internal_Table_table_1280.csv',\n",
       " '/data/ccsi/pnnl_liquid_inlet/data/001/XYZ_Internal_Table_table_1290.csv',\n",
       " '/data/ccsi/pnnl_liquid_inlet/data/001/XYZ_Internal_Table_table_1300.csv',\n",
       " '/data/ccsi/pnnl_liquid_inlet/data/001/XYZ_Internal_Table_table_1310.csv',\n",
       " '/data/ccsi/pnnl_liquid_inlet/data/001/XYZ_Internal_Table_table_1320.csv',\n",
       " '/data/ccsi/pnnl_liquid_inlet/data/001/XYZ_Internal_Table_table_1330.csv',\n",
       " '/data/ccsi/pnnl_liquid_inlet/data/001/XYZ_Internal_Table_table_1340.csv',\n",
       " '/data/ccsi/pnnl_liquid_inlet/data/001/XYZ_Internal_Table_table_1350.csv',\n",
       " '/data/ccsi/pnnl_liquid_inlet/data/001/XYZ_Internal_Table_table_1360.csv',\n",
       " '/data/ccsi/pnnl_liquid_inlet/data/001/XYZ_Internal_Table_table_1370.csv',\n",
       " '/data/ccsi/pnnl_liquid_inlet/data/001/XYZ_Internal_Table_table_1380.csv',\n",
       " '/data/ccsi/pnnl_liquid_inlet/data/001/XYZ_Internal_Table_table_1390.csv',\n",
       " '/data/ccsi/pnnl_liquid_inlet/data/001/XYZ_Internal_Table_table_1400.csv',\n",
       " '/data/ccsi/pnnl_liquid_inlet/data/001/XYZ_Internal_Table_table_1410.csv',\n",
       " '/data/ccsi/pnnl_liquid_inlet/data/001/XYZ_Internal_Table_table_1420.csv',\n",
       " '/data/ccsi/pnnl_liquid_inlet/data/001/XYZ_Internal_Table_table_1430.csv',\n",
       " '/data/ccsi/pnnl_liquid_inlet/data/001/XYZ_Internal_Table_table_1440.csv',\n",
       " '/data/ccsi/pnnl_liquid_inlet/data/001/XYZ_Internal_Table_table_1450.csv',\n",
       " '/data/ccsi/pnnl_liquid_inlet/data/001/XYZ_Internal_Table_table_1460.csv',\n",
       " '/data/ccsi/pnnl_liquid_inlet/data/001/XYZ_Internal_Table_table_1470.csv',\n",
       " '/data/ccsi/pnnl_liquid_inlet/data/001/XYZ_Internal_Table_table_1480.csv',\n",
       " '/data/ccsi/pnnl_liquid_inlet/data/001/XYZ_Internal_Table_table_1490.csv',\n",
       " '/data/ccsi/pnnl_liquid_inlet/data/001/XYZ_Internal_Table_table_1500.csv',\n",
       " '/data/ccsi/pnnl_liquid_inlet/data/001/XYZ_Internal_Table_table_1510.csv',\n",
       " '/data/ccsi/pnnl_liquid_inlet/data/001/XYZ_Internal_Table_table_1520.csv',\n",
       " '/data/ccsi/pnnl_liquid_inlet/data/001/XYZ_Internal_Table_table_1530.csv',\n",
       " '/data/ccsi/pnnl_liquid_inlet/data/001/XYZ_Internal_Table_table_1540.csv',\n",
       " '/data/ccsi/pnnl_liquid_inlet/data/001/XYZ_Internal_Table_table_1550.csv',\n",
       " '/data/ccsi/pnnl_liquid_inlet/data/001/XYZ_Internal_Table_table_1560.csv',\n",
       " '/data/ccsi/pnnl_liquid_inlet/data/001/XYZ_Internal_Table_table_1570.csv',\n",
       " '/data/ccsi/pnnl_liquid_inlet/data/001/XYZ_Internal_Table_table_1580.csv',\n",
       " '/data/ccsi/pnnl_liquid_inlet/data/001/XYZ_Internal_Table_table_1590.csv',\n",
       " '/data/ccsi/pnnl_liquid_inlet/data/001/XYZ_Internal_Table_table_1600.csv',\n",
       " '/data/ccsi/pnnl_liquid_inlet/data/001/XYZ_Internal_Table_table_1610.csv',\n",
       " '/data/ccsi/pnnl_liquid_inlet/data/001/XYZ_Internal_Table_table_1620.csv',\n",
       " '/data/ccsi/pnnl_liquid_inlet/data/001/XYZ_Internal_Table_table_1630.csv',\n",
       " '/data/ccsi/pnnl_liquid_inlet/data/001/XYZ_Internal_Table_table_1640.csv',\n",
       " '/data/ccsi/pnnl_liquid_inlet/data/001/XYZ_Internal_Table_table_1650.csv',\n",
       " '/data/ccsi/pnnl_liquid_inlet/data/001/XYZ_Internal_Table_table_1660.csv',\n",
       " '/data/ccsi/pnnl_liquid_inlet/data/001/XYZ_Internal_Table_table_1670.csv',\n",
       " '/data/ccsi/pnnl_liquid_inlet/data/001/XYZ_Internal_Table_table_1680.csv',\n",
       " '/data/ccsi/pnnl_liquid_inlet/data/001/XYZ_Internal_Table_table_1690.csv',\n",
       " '/data/ccsi/pnnl_liquid_inlet/data/001/XYZ_Internal_Table_table_1700.csv',\n",
       " '/data/ccsi/pnnl_liquid_inlet/data/001/XYZ_Internal_Table_table_1710.csv',\n",
       " '/data/ccsi/pnnl_liquid_inlet/data/001/XYZ_Internal_Table_table_1720.csv',\n",
       " '/data/ccsi/pnnl_liquid_inlet/data/001/XYZ_Internal_Table_table_1730.csv',\n",
       " '/data/ccsi/pnnl_liquid_inlet/data/001/XYZ_Internal_Table_table_1740.csv',\n",
       " '/data/ccsi/pnnl_liquid_inlet/data/001/XYZ_Internal_Table_table_1750.csv',\n",
       " '/data/ccsi/pnnl_liquid_inlet/data/001/XYZ_Internal_Table_table_1760.csv',\n",
       " '/data/ccsi/pnnl_liquid_inlet/data/001/XYZ_Internal_Table_table_1770.csv',\n",
       " '/data/ccsi/pnnl_liquid_inlet/data/001/XYZ_Internal_Table_table_1780.csv',\n",
       " '/data/ccsi/pnnl_liquid_inlet/data/001/XYZ_Internal_Table_table_1790.csv',\n",
       " '/data/ccsi/pnnl_liquid_inlet/data/001/XYZ_Internal_Table_table_1800.csv',\n",
       " '/data/ccsi/pnnl_liquid_inlet/data/001/XYZ_Internal_Table_table_1810.csv',\n",
       " '/data/ccsi/pnnl_liquid_inlet/data/001/XYZ_Internal_Table_table_1820.csv',\n",
       " '/data/ccsi/pnnl_liquid_inlet/data/001/XYZ_Internal_Table_table_1830.csv',\n",
       " '/data/ccsi/pnnl_liquid_inlet/data/001/XYZ_Internal_Table_table_1840.csv',\n",
       " '/data/ccsi/pnnl_liquid_inlet/data/001/XYZ_Internal_Table_table_1850.csv',\n",
       " '/data/ccsi/pnnl_liquid_inlet/data/001/XYZ_Internal_Table_table_1860.csv',\n",
       " '/data/ccsi/pnnl_liquid_inlet/data/001/XYZ_Internal_Table_table_1870.csv',\n",
       " '/data/ccsi/pnnl_liquid_inlet/data/001/XYZ_Internal_Table_table_1880.csv',\n",
       " '/data/ccsi/pnnl_liquid_inlet/data/001/XYZ_Internal_Table_table_1890.csv',\n",
       " '/data/ccsi/pnnl_liquid_inlet/data/001/XYZ_Internal_Table_table_1900.csv',\n",
       " '/data/ccsi/pnnl_liquid_inlet/data/001/XYZ_Internal_Table_table_1910.csv',\n",
       " '/data/ccsi/pnnl_liquid_inlet/data/001/XYZ_Internal_Table_table_1920.csv',\n",
       " '/data/ccsi/pnnl_liquid_inlet/data/001/XYZ_Internal_Table_table_1930.csv',\n",
       " '/data/ccsi/pnnl_liquid_inlet/data/001/XYZ_Internal_Table_table_1940.csv',\n",
       " '/data/ccsi/pnnl_liquid_inlet/data/001/XYZ_Internal_Table_table_1950.csv',\n",
       " '/data/ccsi/pnnl_liquid_inlet/data/001/XYZ_Internal_Table_table_1960.csv',\n",
       " '/data/ccsi/pnnl_liquid_inlet/data/001/XYZ_Internal_Table_table_1970.csv',\n",
       " '/data/ccsi/pnnl_liquid_inlet/data/001/XYZ_Internal_Table_table_1980.csv',\n",
       " '/data/ccsi/pnnl_liquid_inlet/data/001/XYZ_Internal_Table_table_1990.csv',\n",
       " '/data/ccsi/pnnl_liquid_inlet/data/001/XYZ_Internal_Table_table_2000.csv',\n",
       " '/data/ccsi/pnnl_liquid_inlet/data/001/XYZ_Internal_Table_table_2010.csv',\n",
       " '/data/ccsi/pnnl_liquid_inlet/data/001/XYZ_Internal_Table_table_2020.csv',\n",
       " '/data/ccsi/pnnl_liquid_inlet/data/001/XYZ_Internal_Table_table_2030.csv',\n",
       " '/data/ccsi/pnnl_liquid_inlet/data/001/XYZ_Internal_Table_table_2040.csv',\n",
       " '/data/ccsi/pnnl_liquid_inlet/data/001/XYZ_Internal_Table_table_2050.csv',\n",
       " '/data/ccsi/pnnl_liquid_inlet/data/001/XYZ_Internal_Table_table_2060.csv',\n",
       " '/data/ccsi/pnnl_liquid_inlet/data/001/XYZ_Internal_Table_table_2070.csv',\n",
       " '/data/ccsi/pnnl_liquid_inlet/data/001/XYZ_Internal_Table_table_2080.csv',\n",
       " '/data/ccsi/pnnl_liquid_inlet/data/001/XYZ_Internal_Table_table_2090.csv',\n",
       " '/data/ccsi/pnnl_liquid_inlet/data/001/XYZ_Internal_Table_table_2100.csv',\n",
       " '/data/ccsi/pnnl_liquid_inlet/data/001/XYZ_Internal_Table_table_2110.csv',\n",
       " '/data/ccsi/pnnl_liquid_inlet/data/001/XYZ_Internal_Table_table_2120.csv',\n",
       " '/data/ccsi/pnnl_liquid_inlet/data/001/XYZ_Internal_Table_table_2130.csv',\n",
       " '/data/ccsi/pnnl_liquid_inlet/data/001/XYZ_Internal_Table_table_2140.csv',\n",
       " '/data/ccsi/pnnl_liquid_inlet/data/001/XYZ_Internal_Table_table_2150.csv',\n",
       " '/data/ccsi/pnnl_liquid_inlet/data/001/XYZ_Internal_Table_table_2160.csv',\n",
       " '/data/ccsi/pnnl_liquid_inlet/data/001/XYZ_Internal_Table_table_2170.csv',\n",
       " '/data/ccsi/pnnl_liquid_inlet/data/001/XYZ_Internal_Table_table_2180.csv',\n",
       " '/data/ccsi/pnnl_liquid_inlet/data/001/XYZ_Internal_Table_table_2190.csv',\n",
       " '/data/ccsi/pnnl_liquid_inlet/data/001/XYZ_Internal_Table_table_2200.csv',\n",
       " '/data/ccsi/pnnl_liquid_inlet/data/001/XYZ_Internal_Table_table_2210.csv',\n",
       " '/data/ccsi/pnnl_liquid_inlet/data/001/XYZ_Internal_Table_table_2220.csv',\n",
       " '/data/ccsi/pnnl_liquid_inlet/data/001/XYZ_Internal_Table_table_2230.csv',\n",
       " '/data/ccsi/pnnl_liquid_inlet/data/001/XYZ_Internal_Table_table_2240.csv',\n",
       " '/data/ccsi/pnnl_liquid_inlet/data/001/XYZ_Internal_Table_table_2250.csv',\n",
       " '/data/ccsi/pnnl_liquid_inlet/data/001/XYZ_Internal_Table_table_2260.csv',\n",
       " '/data/ccsi/pnnl_liquid_inlet/data/001/XYZ_Internal_Table_table_2270.csv',\n",
       " '/data/ccsi/pnnl_liquid_inlet/data/001/XYZ_Internal_Table_table_2280.csv',\n",
       " '/data/ccsi/pnnl_liquid_inlet/data/001/XYZ_Internal_Table_table_2290.csv',\n",
       " '/data/ccsi/pnnl_liquid_inlet/data/001/XYZ_Internal_Table_table_2300.csv',\n",
       " '/data/ccsi/pnnl_liquid_inlet/data/001/XYZ_Internal_Table_table_2310.csv',\n",
       " '/data/ccsi/pnnl_liquid_inlet/data/001/XYZ_Internal_Table_table_2320.csv',\n",
       " '/data/ccsi/pnnl_liquid_inlet/data/001/XYZ_Internal_Table_table_2330.csv',\n",
       " '/data/ccsi/pnnl_liquid_inlet/data/001/XYZ_Internal_Table_table_2340.csv',\n",
       " '/data/ccsi/pnnl_liquid_inlet/data/001/XYZ_Internal_Table_table_2350.csv',\n",
       " '/data/ccsi/pnnl_liquid_inlet/data/001/XYZ_Internal_Table_table_2360.csv',\n",
       " '/data/ccsi/pnnl_liquid_inlet/data/001/XYZ_Internal_Table_table_2370.csv',\n",
       " '/data/ccsi/pnnl_liquid_inlet/data/001/XYZ_Internal_Table_table_2380.csv',\n",
       " '/data/ccsi/pnnl_liquid_inlet/data/001/XYZ_Internal_Table_table_2390.csv',\n",
       " '/data/ccsi/pnnl_liquid_inlet/data/001/XYZ_Internal_Table_table_2400.csv',\n",
       " '/data/ccsi/pnnl_liquid_inlet/data/001/XYZ_Internal_Table_table_2410.csv',\n",
       " '/data/ccsi/pnnl_liquid_inlet/data/001/XYZ_Internal_Table_table_2420.csv',\n",
       " '/data/ccsi/pnnl_liquid_inlet/data/001/XYZ_Internal_Table_table_2430.csv',\n",
       " '/data/ccsi/pnnl_liquid_inlet/data/001/XYZ_Internal_Table_table_2440.csv',\n",
       " '/data/ccsi/pnnl_liquid_inlet/data/001/XYZ_Internal_Table_table_2450.csv',\n",
       " '/data/ccsi/pnnl_liquid_inlet/data/001/XYZ_Internal_Table_table_2460.csv',\n",
       " '/data/ccsi/pnnl_liquid_inlet/data/001/XYZ_Internal_Table_table_2470.csv',\n",
       " '/data/ccsi/pnnl_liquid_inlet/data/001/XYZ_Internal_Table_table_2480.csv',\n",
       " '/data/ccsi/pnnl_liquid_inlet/data/001/XYZ_Internal_Table_table_2490.csv',\n",
       " '/data/ccsi/pnnl_liquid_inlet/data/001/XYZ_Internal_Table_table_2500.csv',\n",
       " '/data/ccsi/pnnl_liquid_inlet/data/001/XYZ_Internal_Table_table_2510.csv',\n",
       " '/data/ccsi/pnnl_liquid_inlet/data/001/XYZ_Internal_Table_table_2520.csv',\n",
       " '/data/ccsi/pnnl_liquid_inlet/data/001/XYZ_Internal_Table_table_2530.csv',\n",
       " '/data/ccsi/pnnl_liquid_inlet/data/001/XYZ_Internal_Table_table_2540.csv',\n",
       " '/data/ccsi/pnnl_liquid_inlet/data/001/XYZ_Internal_Table_table_2550.csv',\n",
       " '/data/ccsi/pnnl_liquid_inlet/data/001/XYZ_Internal_Table_table_2560.csv',\n",
       " '/data/ccsi/pnnl_liquid_inlet/data/001/XYZ_Internal_Table_table_2570.csv',\n",
       " '/data/ccsi/pnnl_liquid_inlet/data/001/XYZ_Internal_Table_table_2580.csv',\n",
       " '/data/ccsi/pnnl_liquid_inlet/data/001/XYZ_Internal_Table_table_2590.csv',\n",
       " '/data/ccsi/pnnl_liquid_inlet/data/001/XYZ_Internal_Table_table_2600.csv',\n",
       " '/data/ccsi/pnnl_liquid_inlet/data/001/XYZ_Internal_Table_table_2610.csv',\n",
       " '/data/ccsi/pnnl_liquid_inlet/data/001/XYZ_Internal_Table_table_2620.csv',\n",
       " '/data/ccsi/pnnl_liquid_inlet/data/001/XYZ_Internal_Table_table_2630.csv',\n",
       " '/data/ccsi/pnnl_liquid_inlet/data/001/XYZ_Internal_Table_table_2640.csv',\n",
       " '/data/ccsi/pnnl_liquid_inlet/data/001/XYZ_Internal_Table_table_2650.csv',\n",
       " '/data/ccsi/pnnl_liquid_inlet/data/001/XYZ_Internal_Table_table_2660.csv',\n",
       " '/data/ccsi/pnnl_liquid_inlet/data/001/XYZ_Internal_Table_table_2670.csv',\n",
       " '/data/ccsi/pnnl_liquid_inlet/data/001/XYZ_Internal_Table_table_2680.csv',\n",
       " '/data/ccsi/pnnl_liquid_inlet/data/001/XYZ_Internal_Table_table_2690.csv',\n",
       " '/data/ccsi/pnnl_liquid_inlet/data/001/XYZ_Internal_Table_table_2700.csv',\n",
       " '/data/ccsi/pnnl_liquid_inlet/data/001/XYZ_Internal_Table_table_2710.csv',\n",
       " '/data/ccsi/pnnl_liquid_inlet/data/001/XYZ_Internal_Table_table_2720.csv',\n",
       " '/data/ccsi/pnnl_liquid_inlet/data/001/XYZ_Internal_Table_table_2730.csv',\n",
       " '/data/ccsi/pnnl_liquid_inlet/data/001/XYZ_Internal_Table_table_2740.csv',\n",
       " '/data/ccsi/pnnl_liquid_inlet/data/001/XYZ_Internal_Table_table_2750.csv',\n",
       " '/data/ccsi/pnnl_liquid_inlet/data/001/XYZ_Internal_Table_table_2760.csv',\n",
       " '/data/ccsi/pnnl_liquid_inlet/data/001/XYZ_Internal_Table_table_2770.csv',\n",
       " '/data/ccsi/pnnl_liquid_inlet/data/001/XYZ_Internal_Table_table_2780.csv',\n",
       " '/data/ccsi/pnnl_liquid_inlet/data/001/XYZ_Internal_Table_table_2790.csv',\n",
       " '/data/ccsi/pnnl_liquid_inlet/data/001/XYZ_Internal_Table_table_2800.csv',\n",
       " '/data/ccsi/pnnl_liquid_inlet/data/001/XYZ_Internal_Table_table_2810.csv',\n",
       " '/data/ccsi/pnnl_liquid_inlet/data/001/XYZ_Internal_Table_table_2820.csv',\n",
       " '/data/ccsi/pnnl_liquid_inlet/data/001/XYZ_Internal_Table_table_2830.csv',\n",
       " '/data/ccsi/pnnl_liquid_inlet/data/001/XYZ_Internal_Table_table_2840.csv',\n",
       " '/data/ccsi/pnnl_liquid_inlet/data/001/XYZ_Internal_Table_table_2850.csv',\n",
       " '/data/ccsi/pnnl_liquid_inlet/data/001/XYZ_Internal_Table_table_2860.csv',\n",
       " '/data/ccsi/pnnl_liquid_inlet/data/001/XYZ_Internal_Table_table_2870.csv',\n",
       " '/data/ccsi/pnnl_liquid_inlet/data/001/XYZ_Internal_Table_table_2880.csv',\n",
       " '/data/ccsi/pnnl_liquid_inlet/data/001/XYZ_Internal_Table_table_2890.csv',\n",
       " '/data/ccsi/pnnl_liquid_inlet/data/001/XYZ_Internal_Table_table_2900.csv',\n",
       " '/data/ccsi/pnnl_liquid_inlet/data/001/XYZ_Internal_Table_table_2910.csv',\n",
       " '/data/ccsi/pnnl_liquid_inlet/data/001/XYZ_Internal_Table_table_2920.csv',\n",
       " '/data/ccsi/pnnl_liquid_inlet/data/001/XYZ_Internal_Table_table_2930.csv',\n",
       " '/data/ccsi/pnnl_liquid_inlet/data/001/XYZ_Internal_Table_table_2940.csv',\n",
       " '/data/ccsi/pnnl_liquid_inlet/data/001/XYZ_Internal_Table_table_2950.csv',\n",
       " '/data/ccsi/pnnl_liquid_inlet/data/001/XYZ_Internal_Table_table_2960.csv',\n",
       " '/data/ccsi/pnnl_liquid_inlet/data/001/XYZ_Internal_Table_table_2970.csv',\n",
       " '/data/ccsi/pnnl_liquid_inlet/data/001/XYZ_Internal_Table_table_2980.csv',\n",
       " '/data/ccsi/pnnl_liquid_inlet/data/001/XYZ_Internal_Table_table_2990.csv',\n",
       " '/data/ccsi/pnnl_liquid_inlet/data/001/XYZ_Internal_Table_table_3000.csv',\n",
       " '/data/ccsi/pnnl_liquid_inlet/data/001/XYZ_Internal_Table_table_3010.csv',\n",
       " '/data/ccsi/pnnl_liquid_inlet/data/001/XYZ_Internal_Table_table_3020.csv',\n",
       " '/data/ccsi/pnnl_liquid_inlet/data/001/XYZ_Internal_Table_table_3030.csv',\n",
       " '/data/ccsi/pnnl_liquid_inlet/data/001/XYZ_Internal_Table_table_3040.csv',\n",
       " '/data/ccsi/pnnl_liquid_inlet/data/001/XYZ_Internal_Table_table_3050.csv',\n",
       " '/data/ccsi/pnnl_liquid_inlet/data/001/XYZ_Internal_Table_table_3060.csv',\n",
       " '/data/ccsi/pnnl_liquid_inlet/data/001/XYZ_Internal_Table_table_3070.csv',\n",
       " '/data/ccsi/pnnl_liquid_inlet/data/001/XYZ_Internal_Table_table_3080.csv',\n",
       " '/data/ccsi/pnnl_liquid_inlet/data/001/XYZ_Internal_Table_table_3090.csv',\n",
       " '/data/ccsi/pnnl_liquid_inlet/data/001/XYZ_Internal_Table_table_3100.csv',\n",
       " '/data/ccsi/pnnl_liquid_inlet/data/001/XYZ_Internal_Table_table_3110.csv',\n",
       " '/data/ccsi/pnnl_liquid_inlet/data/001/XYZ_Internal_Table_table_3120.csv',\n",
       " '/data/ccsi/pnnl_liquid_inlet/data/001/XYZ_Internal_Table_table_3130.csv',\n",
       " '/data/ccsi/pnnl_liquid_inlet/data/001/XYZ_Internal_Table_table_3140.csv',\n",
       " '/data/ccsi/pnnl_liquid_inlet/data/001/XYZ_Internal_Table_table_3150.csv',\n",
       " '/data/ccsi/pnnl_liquid_inlet/data/001/XYZ_Internal_Table_table_3160.csv',\n",
       " '/data/ccsi/pnnl_liquid_inlet/data/001/XYZ_Internal_Table_table_3170.csv',\n",
       " '/data/ccsi/pnnl_liquid_inlet/data/001/XYZ_Internal_Table_table_3180.csv',\n",
       " '/data/ccsi/pnnl_liquid_inlet/data/001/XYZ_Internal_Table_table_3190.csv',\n",
       " '/data/ccsi/pnnl_liquid_inlet/data/001/XYZ_Internal_Table_table_3200.csv',\n",
       " '/data/ccsi/pnnl_liquid_inlet/data/001/XYZ_Internal_Table_table_3210.csv',\n",
       " '/data/ccsi/pnnl_liquid_inlet/data/001/XYZ_Internal_Table_table_3220.csv',\n",
       " '/data/ccsi/pnnl_liquid_inlet/data/001/XYZ_Internal_Table_table_3230.csv',\n",
       " '/data/ccsi/pnnl_liquid_inlet/data/001/XYZ_Internal_Table_table_3240.csv',\n",
       " '/data/ccsi/pnnl_liquid_inlet/data/001/XYZ_Internal_Table_table_3250.csv',\n",
       " '/data/ccsi/pnnl_liquid_inlet/data/001/XYZ_Internal_Table_table_3260.csv',\n",
       " '/data/ccsi/pnnl_liquid_inlet/data/001/XYZ_Internal_Table_table_3270.csv',\n",
       " '/data/ccsi/pnnl_liquid_inlet/data/001/XYZ_Internal_Table_table_3280.csv',\n",
       " '/data/ccsi/pnnl_liquid_inlet/data/001/XYZ_Internal_Table_table_3290.csv',\n",
       " '/data/ccsi/pnnl_liquid_inlet/data/001/XYZ_Internal_Table_table_3300.csv',\n",
       " '/data/ccsi/pnnl_liquid_inlet/data/001/XYZ_Internal_Table_table_3310.csv',\n",
       " '/data/ccsi/pnnl_liquid_inlet/data/001/XYZ_Internal_Table_table_3320.csv',\n",
       " '/data/ccsi/pnnl_liquid_inlet/data/001/XYZ_Internal_Table_table_3330.csv',\n",
       " '/data/ccsi/pnnl_liquid_inlet/data/001/XYZ_Internal_Table_table_3340.csv',\n",
       " '/data/ccsi/pnnl_liquid_inlet/data/001/XYZ_Internal_Table_table_3350.csv',\n",
       " '/data/ccsi/pnnl_liquid_inlet/data/001/XYZ_Internal_Table_table_3360.csv',\n",
       " '/data/ccsi/pnnl_liquid_inlet/data/001/XYZ_Internal_Table_table_3370.csv',\n",
       " '/data/ccsi/pnnl_liquid_inlet/data/001/XYZ_Internal_Table_table_3380.csv',\n",
       " '/data/ccsi/pnnl_liquid_inlet/data/001/XYZ_Internal_Table_table_3390.csv',\n",
       " '/data/ccsi/pnnl_liquid_inlet/data/001/XYZ_Internal_Table_table_3400.csv',\n",
       " '/data/ccsi/pnnl_liquid_inlet/data/001/XYZ_Internal_Table_table_3410.csv',\n",
       " '/data/ccsi/pnnl_liquid_inlet/data/001/XYZ_Internal_Table_table_3420.csv',\n",
       " '/data/ccsi/pnnl_liquid_inlet/data/001/XYZ_Internal_Table_table_3430.csv',\n",
       " '/data/ccsi/pnnl_liquid_inlet/data/001/XYZ_Internal_Table_table_3440.csv',\n",
       " '/data/ccsi/pnnl_liquid_inlet/data/001/XYZ_Internal_Table_table_3450.csv',\n",
       " '/data/ccsi/pnnl_liquid_inlet/data/001/XYZ_Internal_Table_table_3460.csv',\n",
       " '/data/ccsi/pnnl_liquid_inlet/data/001/XYZ_Internal_Table_table_3470.csv',\n",
       " '/data/ccsi/pnnl_liquid_inlet/data/001/XYZ_Internal_Table_table_3480.csv',\n",
       " '/data/ccsi/pnnl_liquid_inlet/data/001/XYZ_Internal_Table_table_3490.csv',\n",
       " '/data/ccsi/pnnl_liquid_inlet/data/001/XYZ_Internal_Table_table_3500.csv',\n",
       " '/data/ccsi/pnnl_liquid_inlet/data/001/XYZ_Internal_Table_table_3510.csv',\n",
       " '/data/ccsi/pnnl_liquid_inlet/data/001/XYZ_Internal_Table_table_3520.csv',\n",
       " '/data/ccsi/pnnl_liquid_inlet/data/001/XYZ_Internal_Table_table_3530.csv',\n",
       " '/data/ccsi/pnnl_liquid_inlet/data/001/XYZ_Internal_Table_table_3540.csv',\n",
       " '/data/ccsi/pnnl_liquid_inlet/data/001/XYZ_Internal_Table_table_3550.csv',\n",
       " '/data/ccsi/pnnl_liquid_inlet/data/001/XYZ_Internal_Table_table_3560.csv',\n",
       " '/data/ccsi/pnnl_liquid_inlet/data/001/XYZ_Internal_Table_table_3570.csv',\n",
       " '/data/ccsi/pnnl_liquid_inlet/data/001/XYZ_Internal_Table_table_3580.csv',\n",
       " '/data/ccsi/pnnl_liquid_inlet/data/001/XYZ_Internal_Table_table_3590.csv',\n",
       " '/data/ccsi/pnnl_liquid_inlet/data/001/XYZ_Internal_Table_table_3600.csv',\n",
       " '/data/ccsi/pnnl_liquid_inlet/data/001/XYZ_Internal_Table_table_3610.csv',\n",
       " '/data/ccsi/pnnl_liquid_inlet/data/001/XYZ_Internal_Table_table_3620.csv',\n",
       " '/data/ccsi/pnnl_liquid_inlet/data/001/XYZ_Internal_Table_table_3630.csv',\n",
       " '/data/ccsi/pnnl_liquid_inlet/data/001/XYZ_Internal_Table_table_3640.csv',\n",
       " '/data/ccsi/pnnl_liquid_inlet/data/001/XYZ_Internal_Table_table_3650.csv',\n",
       " '/data/ccsi/pnnl_liquid_inlet/data/001/XYZ_Internal_Table_table_3660.csv',\n",
       " '/data/ccsi/pnnl_liquid_inlet/data/001/XYZ_Internal_Table_table_3670.csv',\n",
       " '/data/ccsi/pnnl_liquid_inlet/data/001/XYZ_Internal_Table_table_3680.csv',\n",
       " '/data/ccsi/pnnl_liquid_inlet/data/001/XYZ_Internal_Table_table_3690.csv',\n",
       " '/data/ccsi/pnnl_liquid_inlet/data/001/XYZ_Internal_Table_table_3700.csv',\n",
       " '/data/ccsi/pnnl_liquid_inlet/data/001/XYZ_Internal_Table_table_3710.csv',\n",
       " '/data/ccsi/pnnl_liquid_inlet/data/001/XYZ_Internal_Table_table_3720.csv',\n",
       " '/data/ccsi/pnnl_liquid_inlet/data/001/XYZ_Internal_Table_table_3730.csv',\n",
       " '/data/ccsi/pnnl_liquid_inlet/data/001/XYZ_Internal_Table_table_3740.csv',\n",
       " '/data/ccsi/pnnl_liquid_inlet/data/001/XYZ_Internal_Table_table_3750.csv',\n",
       " '/data/ccsi/pnnl_liquid_inlet/data/001/XYZ_Internal_Table_table_3760.csv',\n",
       " '/data/ccsi/pnnl_liquid_inlet/data/001/XYZ_Internal_Table_table_3770.csv',\n",
       " '/data/ccsi/pnnl_liquid_inlet/data/001/XYZ_Internal_Table_table_3780.csv',\n",
       " '/data/ccsi/pnnl_liquid_inlet/data/001/XYZ_Internal_Table_table_3790.csv',\n",
       " '/data/ccsi/pnnl_liquid_inlet/data/001/XYZ_Internal_Table_table_3800.csv',\n",
       " '/data/ccsi/pnnl_liquid_inlet/data/001/XYZ_Internal_Table_table_3810.csv',\n",
       " '/data/ccsi/pnnl_liquid_inlet/data/001/XYZ_Internal_Table_table_3820.csv',\n",
       " '/data/ccsi/pnnl_liquid_inlet/data/001/XYZ_Internal_Table_table_3830.csv',\n",
       " '/data/ccsi/pnnl_liquid_inlet/data/001/XYZ_Internal_Table_table_3840.csv',\n",
       " '/data/ccsi/pnnl_liquid_inlet/data/001/XYZ_Internal_Table_table_3850.csv',\n",
       " '/data/ccsi/pnnl_liquid_inlet/data/001/XYZ_Internal_Table_table_3860.csv',\n",
       " '/data/ccsi/pnnl_liquid_inlet/data/001/XYZ_Internal_Table_table_3870.csv',\n",
       " '/data/ccsi/pnnl_liquid_inlet/data/001/XYZ_Internal_Table_table_3880.csv',\n",
       " '/data/ccsi/pnnl_liquid_inlet/data/001/XYZ_Internal_Table_table_3890.csv',\n",
       " '/data/ccsi/pnnl_liquid_inlet/data/001/XYZ_Internal_Table_table_3900.csv',\n",
       " '/data/ccsi/pnnl_liquid_inlet/data/001/XYZ_Internal_Table_table_3910.csv',\n",
       " '/data/ccsi/pnnl_liquid_inlet/data/001/XYZ_Internal_Table_table_3920.csv',\n",
       " '/data/ccsi/pnnl_liquid_inlet/data/001/XYZ_Internal_Table_table_3930.csv',\n",
       " '/data/ccsi/pnnl_liquid_inlet/data/001/XYZ_Internal_Table_table_3940.csv',\n",
       " '/data/ccsi/pnnl_liquid_inlet/data/001/XYZ_Internal_Table_table_3950.csv',\n",
       " '/data/ccsi/pnnl_liquid_inlet/data/001/XYZ_Internal_Table_table_3960.csv',\n",
       " '/data/ccsi/pnnl_liquid_inlet/data/001/XYZ_Internal_Table_table_3970.csv',\n",
       " '/data/ccsi/pnnl_liquid_inlet/data/001/XYZ_Internal_Table_table_3980.csv',\n",
       " '/data/ccsi/pnnl_liquid_inlet/data/001/XYZ_Internal_Table_table_3990.csv',\n",
       " '/data/ccsi/pnnl_liquid_inlet/data/001/XYZ_Internal_Table_table_4000.csv',\n",
       " '/data/ccsi/pnnl_liquid_inlet/data/001/XYZ_Internal_Table_table_4010.csv',\n",
       " '/data/ccsi/pnnl_liquid_inlet/data/001/XYZ_Internal_Table_table_4020.csv',\n",
       " '/data/ccsi/pnnl_liquid_inlet/data/001/XYZ_Internal_Table_table_4030.csv',\n",
       " '/data/ccsi/pnnl_liquid_inlet/data/001/XYZ_Internal_Table_table_4040.csv',\n",
       " '/data/ccsi/pnnl_liquid_inlet/data/001/XYZ_Internal_Table_table_4050.csv',\n",
       " '/data/ccsi/pnnl_liquid_inlet/data/001/XYZ_Internal_Table_table_4060.csv',\n",
       " '/data/ccsi/pnnl_liquid_inlet/data/001/XYZ_Internal_Table_table_4070.csv',\n",
       " '/data/ccsi/pnnl_liquid_inlet/data/001/XYZ_Internal_Table_table_4080.csv',\n",
       " '/data/ccsi/pnnl_liquid_inlet/data/001/XYZ_Internal_Table_table_4090.csv',\n",
       " '/data/ccsi/pnnl_liquid_inlet/data/001/XYZ_Internal_Table_table_4100.csv',\n",
       " '/data/ccsi/pnnl_liquid_inlet/data/001/XYZ_Internal_Table_table_4110.csv',\n",
       " '/data/ccsi/pnnl_liquid_inlet/data/001/XYZ_Internal_Table_table_4120.csv',\n",
       " '/data/ccsi/pnnl_liquid_inlet/data/001/XYZ_Internal_Table_table_4130.csv',\n",
       " '/data/ccsi/pnnl_liquid_inlet/data/001/XYZ_Internal_Table_table_4140.csv',\n",
       " '/data/ccsi/pnnl_liquid_inlet/data/001/XYZ_Internal_Table_table_4150.csv',\n",
       " '/data/ccsi/pnnl_liquid_inlet/data/001/XYZ_Internal_Table_table_4160.csv',\n",
       " '/data/ccsi/pnnl_liquid_inlet/data/001/XYZ_Internal_Table_table_4170.csv',\n",
       " '/data/ccsi/pnnl_liquid_inlet/data/001/XYZ_Internal_Table_table_4180.csv',\n",
       " '/data/ccsi/pnnl_liquid_inlet/data/001/XYZ_Internal_Table_table_4190.csv',\n",
       " '/data/ccsi/pnnl_liquid_inlet/data/001/XYZ_Internal_Table_table_4200.csv',\n",
       " '/data/ccsi/pnnl_liquid_inlet/data/001/XYZ_Internal_Table_table_4210.csv',\n",
       " '/data/ccsi/pnnl_liquid_inlet/data/001/XYZ_Internal_Table_table_4220.csv',\n",
       " '/data/ccsi/pnnl_liquid_inlet/data/001/XYZ_Internal_Table_table_4230.csv',\n",
       " '/data/ccsi/pnnl_liquid_inlet/data/001/XYZ_Internal_Table_table_4240.csv',\n",
       " '/data/ccsi/pnnl_liquid_inlet/data/001/XYZ_Internal_Table_table_4250.csv',\n",
       " '/data/ccsi/pnnl_liquid_inlet/data/001/XYZ_Internal_Table_table_4260.csv',\n",
       " '/data/ccsi/pnnl_liquid_inlet/data/001/XYZ_Internal_Table_table_4270.csv',\n",
       " '/data/ccsi/pnnl_liquid_inlet/data/001/XYZ_Internal_Table_table_4280.csv',\n",
       " '/data/ccsi/pnnl_liquid_inlet/data/001/XYZ_Internal_Table_table_4290.csv',\n",
       " '/data/ccsi/pnnl_liquid_inlet/data/001/XYZ_Internal_Table_table_4300.csv',\n",
       " '/data/ccsi/pnnl_liquid_inlet/data/001/XYZ_Internal_Table_table_4310.csv',\n",
       " '/data/ccsi/pnnl_liquid_inlet/data/001/XYZ_Internal_Table_table_4320.csv',\n",
       " '/data/ccsi/pnnl_liquid_inlet/data/001/XYZ_Internal_Table_table_4330.csv',\n",
       " '/data/ccsi/pnnl_liquid_inlet/data/001/XYZ_Internal_Table_table_4340.csv',\n",
       " '/data/ccsi/pnnl_liquid_inlet/data/001/XYZ_Internal_Table_table_4350.csv',\n",
       " '/data/ccsi/pnnl_liquid_inlet/data/001/XYZ_Internal_Table_table_4360.csv',\n",
       " '/data/ccsi/pnnl_liquid_inlet/data/001/XYZ_Internal_Table_table_4370.csv',\n",
       " '/data/ccsi/pnnl_liquid_inlet/data/001/XYZ_Internal_Table_table_4380.csv',\n",
       " '/data/ccsi/pnnl_liquid_inlet/data/001/XYZ_Internal_Table_table_4390.csv',\n",
       " '/data/ccsi/pnnl_liquid_inlet/data/001/XYZ_Internal_Table_table_4400.csv',\n",
       " '/data/ccsi/pnnl_liquid_inlet/data/001/XYZ_Internal_Table_table_4410.csv',\n",
       " '/data/ccsi/pnnl_liquid_inlet/data/001/XYZ_Internal_Table_table_4420.csv',\n",
       " '/data/ccsi/pnnl_liquid_inlet/data/001/XYZ_Internal_Table_table_4430.csv',\n",
       " '/data/ccsi/pnnl_liquid_inlet/data/001/XYZ_Internal_Table_table_4440.csv',\n",
       " '/data/ccsi/pnnl_liquid_inlet/data/001/XYZ_Internal_Table_table_4450.csv',\n",
       " '/data/ccsi/pnnl_liquid_inlet/data/001/XYZ_Internal_Table_table_4460.csv',\n",
       " '/data/ccsi/pnnl_liquid_inlet/data/001/XYZ_Internal_Table_table_4470.csv',\n",
       " '/data/ccsi/pnnl_liquid_inlet/data/001/XYZ_Internal_Table_table_4480.csv',\n",
       " '/data/ccsi/pnnl_liquid_inlet/data/001/XYZ_Internal_Table_table_4490.csv',\n",
       " '/data/ccsi/pnnl_liquid_inlet/data/001/XYZ_Internal_Table_table_4500.csv',\n",
       " '/data/ccsi/pnnl_liquid_inlet/data/001/XYZ_Internal_Table_table_4510.csv',\n",
       " '/data/ccsi/pnnl_liquid_inlet/data/001/XYZ_Internal_Table_table_4520.csv',\n",
       " '/data/ccsi/pnnl_liquid_inlet/data/001/XYZ_Internal_Table_table_4530.csv',\n",
       " '/data/ccsi/pnnl_liquid_inlet/data/001/XYZ_Internal_Table_table_4540.csv',\n",
       " '/data/ccsi/pnnl_liquid_inlet/data/001/XYZ_Internal_Table_table_4550.csv',\n",
       " '/data/ccsi/pnnl_liquid_inlet/data/001/XYZ_Internal_Table_table_4560.csv',\n",
       " '/data/ccsi/pnnl_liquid_inlet/data/001/XYZ_Internal_Table_table_4570.csv',\n",
       " '/data/ccsi/pnnl_liquid_inlet/data/001/XYZ_Internal_Table_table_4580.csv',\n",
       " '/data/ccsi/pnnl_liquid_inlet/data/001/XYZ_Internal_Table_table_4590.csv',\n",
       " '/data/ccsi/pnnl_liquid_inlet/data/001/XYZ_Internal_Table_table_4600.csv',\n",
       " '/data/ccsi/pnnl_liquid_inlet/data/001/XYZ_Internal_Table_table_4610.csv',\n",
       " '/data/ccsi/pnnl_liquid_inlet/data/001/XYZ_Internal_Table_table_4620.csv',\n",
       " '/data/ccsi/pnnl_liquid_inlet/data/001/XYZ_Internal_Table_table_4630.csv',\n",
       " '/data/ccsi/pnnl_liquid_inlet/data/001/XYZ_Internal_Table_table_4640.csv',\n",
       " '/data/ccsi/pnnl_liquid_inlet/data/001/XYZ_Internal_Table_table_4650.csv',\n",
       " '/data/ccsi/pnnl_liquid_inlet/data/001/XYZ_Internal_Table_table_4660.csv',\n",
       " '/data/ccsi/pnnl_liquid_inlet/data/001/XYZ_Internal_Table_table_4670.csv',\n",
       " '/data/ccsi/pnnl_liquid_inlet/data/001/XYZ_Internal_Table_table_4680.csv',\n",
       " '/data/ccsi/pnnl_liquid_inlet/data/001/XYZ_Internal_Table_table_4690.csv',\n",
       " '/data/ccsi/pnnl_liquid_inlet/data/001/XYZ_Internal_Table_table_4700.csv',\n",
       " '/data/ccsi/pnnl_liquid_inlet/data/001/XYZ_Internal_Table_table_4710.csv',\n",
       " '/data/ccsi/pnnl_liquid_inlet/data/001/XYZ_Internal_Table_table_4720.csv',\n",
       " '/data/ccsi/pnnl_liquid_inlet/data/001/XYZ_Internal_Table_table_4730.csv',\n",
       " '/data/ccsi/pnnl_liquid_inlet/data/001/XYZ_Internal_Table_table_4740.csv',\n",
       " '/data/ccsi/pnnl_liquid_inlet/data/001/XYZ_Internal_Table_table_4750.csv',\n",
       " '/data/ccsi/pnnl_liquid_inlet/data/001/XYZ_Internal_Table_table_4760.csv',\n",
       " '/data/ccsi/pnnl_liquid_inlet/data/001/XYZ_Internal_Table_table_4770.csv',\n",
       " '/data/ccsi/pnnl_liquid_inlet/data/001/XYZ_Internal_Table_table_4780.csv',\n",
       " '/data/ccsi/pnnl_liquid_inlet/data/001/XYZ_Internal_Table_table_4790.csv',\n",
       " '/data/ccsi/pnnl_liquid_inlet/data/001/XYZ_Internal_Table_table_4800.csv',\n",
       " '/data/ccsi/pnnl_liquid_inlet/data/001/XYZ_Internal_Table_table_4810.csv',\n",
       " '/data/ccsi/pnnl_liquid_inlet/data/001/XYZ_Internal_Table_table_4820.csv',\n",
       " '/data/ccsi/pnnl_liquid_inlet/data/001/XYZ_Internal_Table_table_4830.csv',\n",
       " '/data/ccsi/pnnl_liquid_inlet/data/001/XYZ_Internal_Table_table_4840.csv',\n",
       " '/data/ccsi/pnnl_liquid_inlet/data/001/XYZ_Internal_Table_table_4850.csv',\n",
       " '/data/ccsi/pnnl_liquid_inlet/data/001/XYZ_Internal_Table_table_4860.csv',\n",
       " '/data/ccsi/pnnl_liquid_inlet/data/001/XYZ_Internal_Table_table_4870.csv',\n",
       " '/data/ccsi/pnnl_liquid_inlet/data/001/XYZ_Internal_Table_table_4880.csv',\n",
       " '/data/ccsi/pnnl_liquid_inlet/data/001/XYZ_Internal_Table_table_4890.csv',\n",
       " '/data/ccsi/pnnl_liquid_inlet/data/001/XYZ_Internal_Table_table_4900.csv',\n",
       " '/data/ccsi/pnnl_liquid_inlet/data/001/XYZ_Internal_Table_table_4910.csv',\n",
       " '/data/ccsi/pnnl_liquid_inlet/data/001/XYZ_Internal_Table_table_4920.csv',\n",
       " '/data/ccsi/pnnl_liquid_inlet/data/001/XYZ_Internal_Table_table_4930.csv',\n",
       " '/data/ccsi/pnnl_liquid_inlet/data/001/XYZ_Internal_Table_table_4940.csv',\n",
       " '/data/ccsi/pnnl_liquid_inlet/data/001/XYZ_Internal_Table_table_4950.csv',\n",
       " '/data/ccsi/pnnl_liquid_inlet/data/001/XYZ_Internal_Table_table_4960.csv',\n",
       " '/data/ccsi/pnnl_liquid_inlet/data/001/XYZ_Internal_Table_table_4970.csv',\n",
       " '/data/ccsi/pnnl_liquid_inlet/data/001/XYZ_Internal_Table_table_4980.csv',\n",
       " '/data/ccsi/pnnl_liquid_inlet/data/001/XYZ_Internal_Table_table_4990.csv',\n",
       " '/data/ccsi/pnnl_liquid_inlet/data/001/XYZ_Internal_Table_table_5000.csv']"
      ]
     },
     "execution_count": 56,
     "metadata": {},
     "output_type": "execute_result"
    }
   ],
   "source": [
    "L = np.argsort(list(map(getInt,csvFiles)))\n",
    "orderedFiles = [csvFiles[i] for i in L]\n",
    "orderedFiles"
   ]
  },
  {
   "cell_type": "code",
   "execution_count": 57,
   "metadata": {
    "ExecuteTime": {
     "end_time": "2020-11-06T02:29:23.779531Z",
     "start_time": "2020-11-06T02:29:23.402759Z"
    }
   },
   "outputs": [
    {
     "data": {
      "text/plain": [
       "((150073, 7),\n",
       " Index(['Velocity[i] (m/s)', 'Velocity[j] (m/s)', 'Volume Fraction of Liq',\n",
       "        'Pressure (Pa)', 'X (m)', 'Y (m)', 'Z (m)'],\n",
       "       dtype='object'))"
      ]
     },
     "execution_count": 57,
     "metadata": {},
     "output_type": "execute_result"
    }
   ],
   "source": [
    "raw_sim = pd.read_csv(orderedFiles[0])\n",
    "raw_sim.shape, raw_sim.columns"
   ]
  },
  {
   "cell_type": "code",
   "execution_count": 58,
   "metadata": {
    "ExecuteTime": {
     "end_time": "2020-11-06T02:29:59.850036Z",
     "start_time": "2020-11-06T02:29:59.844648Z"
    }
   },
   "outputs": [],
   "source": [
    "simX = raw_sim['X (m)']\n",
    "simY = raw_sim['Y (m)']\n",
    "vVert = raw_sim['Velocity[j] (m/s)']"
   ]
  },
  {
   "cell_type": "code",
   "execution_count": 59,
   "metadata": {
    "ExecuteTime": {
     "end_time": "2020-11-06T02:30:00.878783Z",
     "start_time": "2020-11-06T02:30:00.492659Z"
    }
   },
   "outputs": [
    {
     "data": {
      "image/png": "[encoded data removed]",
      "text/plain": [
       "<Figure size 432x288 with 1 Axes>"
      ]
     },
     "metadata": {
      "needs_background": "light"
     },
     "output_type": "display_data"
    }
   ],
   "source": [
    "plt.scatter(simX,simY,s=.01)\n",
    "plt.show()"
   ]
  },
  {
   "cell_type": "code",
   "execution_count": 60,
   "metadata": {
    "ExecuteTime": {
     "end_time": "2020-11-06T02:30:08.631894Z",
     "start_time": "2020-11-06T02:30:08.440151Z"
    }
   },
   "outputs": [
    {
     "data": {
      "image/png": "[encoded data removed]",
      "text/plain": [
       "<Figure size 432x288 with 1 Axes>"
      ]
     },
     "metadata": {
      "needs_background": "light"
     },
     "output_type": "display_data"
    }
   ],
   "source": [
    "plt.scatter(G[0],G[1],s=.01)\n",
    "plt.show()"
   ]
  },
  {
   "cell_type": "code",
   "execution_count": 61,
   "metadata": {
    "ExecuteTime": {
     "end_time": "2020-11-06T02:30:15.168391Z",
     "start_time": "2020-11-06T02:30:14.946521Z"
    }
   },
   "outputs": [
    {
     "data": {
      "text/plain": [
       "[<matplotlib.lines.Line2D at 0x7f179cd5b3d0>]"
      ]
     },
     "execution_count": 61,
     "metadata": {},
     "output_type": "execute_result"
    },
    {
     "data": {
      "image/png": "[encoded data removed]",
      "text/plain": [
       "<Figure size 432x288 with 1 Axes>"
      ]
     },
     "metadata": {
      "needs_background": "light"
     },
     "output_type": "display_data"
    }
   ],
   "source": [
    "plt.plot(vVert.values)"
   ]
  },
  {
   "cell_type": "code",
   "execution_count": null,
   "metadata": {
    "ExecuteTime": {
     "start_time": "2020-11-06T02:30:17.920Z"
    }
   },
   "outputs": [],
   "source": [
    "f = interp2d(simX, simY, vVert, kind='linear', bounds_error=False)"
   ]
  },
  {
   "cell_type": "code",
   "execution_count": null,
   "metadata": {
    "ExecuteTime": {
     "start_time": "2020-11-06T02:30:18.159Z"
    }
   },
   "outputs": [],
   "source": [
    "I = f(X,Y)\n",
    "I.shape"
   ]
  },
  {
   "cell_type": "code",
   "execution_count": null,
   "metadata": {
    "ExecuteTime": {
     "start_time": "2020-11-06T02:30:18.890Z"
    }
   },
   "outputs": [],
   "source": [
    "invf = interp2d(X, Y, I, kind='linear', bounds_error=False)"
   ]
  },
  {
   "cell_type": "code",
   "execution_count": null,
   "metadata": {
    "ExecuteTime": {
     "start_time": "2020-11-06T02:30:24.742Z"
    }
   },
   "outputs": [],
   "source": [
    "vVertApprox = invf(simX,simY)\n",
    "vVertApprox.shape"
   ]
  },
  {
   "cell_type": "markdown",
   "metadata": {},
   "source": [
    "### Scipy interpn"
   ]
  },
  {
   "cell_type": "code",
   "execution_count": null,
   "metadata": {},
   "outputs": [],
   "source": [
    "from scipy.interpolate import interpn"
   ]
  },
  {
   "cell_type": "code",
   "execution_count": null,
   "metadata": {},
   "outputs": [],
   "source": [
    "def value_func_3d(x, y, z):\n",
    "    return 2 * x + 3 * y - z\n",
    "x = np.linspace(0, 5)\n",
    "y = np.linspace(0, 5)\n",
    "z = np.linspace(0, 5)\n",
    "points = (x, y, z)\n",
    "values = value_func_3d(*np.meshgrid(*points))\n",
    "point = np.array([2.21, 3.12, 1.15])\n",
    "print(interpn(points, values, point))\n",
    "values.shape, x.shape\n",
    "#[11.72]"
   ]
  },
  {
   "cell_type": "code",
   "execution_count": null,
   "metadata": {},
   "outputs": [],
   "source": [
    "A = np.meshgrid(*points)\n",
    "len(A), A[0].shape"
   ]
  },
  {
   "cell_type": "code",
   "execution_count": null,
   "metadata": {},
   "outputs": [],
   "source": [
    "# points = np.array((simX,simY))\n",
    "# points.shape\n",
    "points = (simX.values,simY.values)\n"
   ]
  },
  {
   "cell_type": "code",
   "execution_count": null,
   "metadata": {},
   "outputs": [],
   "source": [
    "G.shape"
   ]
  },
  {
   "cell_type": "code",
   "execution_count": null,
   "metadata": {},
   "outputs": [],
   "source": [
    "simZ.shape"
   ]
  },
  {
   "cell_type": "code",
   "execution_count": null,
   "metadata": {},
   "outputs": [],
   "source": [
    "xx = np.unique(grid_x)\n",
    "yy = np.unique(grid_y)\n",
    "xx.shape, yy.shape"
   ]
  },
  {
   "cell_type": "code",
   "execution_count": null,
   "metadata": {},
   "outputs": [],
   "source": [
    "P = np.array([simX,simY])\n",
    "P = P.T\n",
    "P.shape"
   ]
  },
  {
   "cell_type": "code",
   "execution_count": null,
   "metadata": {},
   "outputs": [],
   "source": [
    "invInterpolatedData = interpn((xx,yy), interpolated_data[0], P, bounds_error=False, fill_value=3)\n",
    "invInterpolatedData.shape"
   ]
  },
  {
   "cell_type": "code",
   "execution_count": null,
   "metadata": {},
   "outputs": [],
   "source": [
    "invInterpolatedData, simZ.values"
   ]
  },
  {
   "cell_type": "code",
   "execution_count": null,
   "metadata": {},
   "outputs": [],
   "source": [
    "inds = np.arange(150073)\n",
    "plt.plot(inds, invInterpolatedData, inds, simZ.values)"
   ]
  },
  {
   "cell_type": "code",
   "execution_count": null,
   "metadata": {},
   "outputs": [],
   "source": [
    "plt.plot(inds, simZ.values)"
   ]
  },
  {
   "cell_type": "code",
   "execution_count": null,
   "metadata": {},
   "outputs": [],
   "source": [
    "interpolatedData = interpn(points, simZ, G, bounds_error=False, fill_value=3)\n",
    "interpolatedData.shape"
   ]
  },
  {
   "cell_type": "code",
   "execution_count": null,
   "metadata": {},
   "outputs": [],
   "source": [
    "simZ.shape, points.shape"
   ]
  },
  {
   "cell_type": "code",
   "execution_count": null,
   "metadata": {},
   "outputs": [],
   "source": []
  },
  {
   "cell_type": "code",
   "execution_count": null,
   "metadata": {},
   "outputs": [],
   "source": []
  },
  {
   "cell_type": "code",
   "execution_count": null,
   "metadata": {},
   "outputs": [],
   "source": []
  },
  {
   "cell_type": "code",
   "execution_count": null,
   "metadata": {},
   "outputs": [],
   "source": []
  },
  {
   "cell_type": "code",
   "execution_count": null,
   "metadata": {},
   "outputs": [],
   "source": [
    "interpn?"
   ]
  },
  {
   "cell_type": "code",
   "execution_count": null,
   "metadata": {},
   "outputs": [],
   "source": [
    "    bounds_error=True,\n",
    "    fill_value=nan,"
   ]
  },
  {
   "cell_type": "code",
   "execution_count": null,
   "metadata": {},
   "outputs": [],
   "source": [
    "interp2d?"
   ]
  },
  {
   "cell_type": "code",
   "execution_count": null,
   "metadata": {},
   "outputs": [],
   "source": []
  },
  {
   "cell_type": "code",
   "execution_count": null,
   "metadata": {},
   "outputs": [],
   "source": []
  },
  {
   "cell_type": "markdown",
   "metadata": {},
   "source": [
    "## Playground test the CCSI_2D class"
   ]
  },
  {
   "cell_type": "code",
   "execution_count": null,
   "metadata": {},
   "outputs": [],
   "source": [
    "# each sim is broken into two directories 'a' and 'b'\n",
    "dataDirec = '/data/ccsi/PNNLTimeStepData/rars/'\n",
    "sims = ['001','025','050']\n",
    "simIdx = 0\n",
    "files = []\n",
    "for i in ['a','b']:\n",
    "    pth = os.path.join(dataDirec,sims[simIdx] + i)\n",
    "    files.append(glob(os.path.join(pth,'*.csv')))\n",
    "files = [i for sublist in files for i in sublist]\n",
    "len(files)"
   ]
  },
  {
   "cell_type": "code",
   "execution_count": null,
   "metadata": {},
   "outputs": [],
   "source": []
  },
  {
   "cell_type": "code",
   "execution_count": null,
   "metadata": {},
   "outputs": [],
   "source": [
    "L = np.argsort(list(map(getInt,files)))\n",
    "L"
   ]
  },
  {
   "cell_type": "code",
   "execution_count": null,
   "metadata": {},
   "outputs": [],
   "source": [
    "orderedFiles = [files[i] for i in L]\n",
    "orderedFiles"
   ]
  },
  {
   "cell_type": "code",
   "execution_count": null,
   "metadata": {},
   "outputs": [],
   "source": [
    "D = pd.read_csv(orderedFiles[0])\n",
    "x = D['X (m)']\n",
    "y = D['Y (m)']\n",
    "vj = D['Velocity[j] (m/s)']"
   ]
  },
  {
   "cell_type": "code",
   "execution_count": null,
   "metadata": {},
   "outputs": [],
   "source": [
    "plt.scatter(x,y,s=.01)\n",
    "plt.show()"
   ]
  },
  {
   "cell_type": "code",
   "execution_count": null,
   "metadata": {},
   "outputs": [],
   "source": [
    "Nx = Ny = 128\n",
    "grid_x, grid_y, grid_z = interpData(x.values,y.values,vj.values,Nx=Nx,Ny=Ny)\n",
    "grid_x.shape, grid_y.shape, grid_z.shape"
   ]
  },
  {
   "cell_type": "code",
   "execution_count": null,
   "metadata": {},
   "outputs": [],
   "source": [
    "len(x), grid_x.size # the original dataset vs. interpolated"
   ]
  },
  {
   "cell_type": "markdown",
   "metadata": {},
   "source": [
    "## Re-interpolation error"
   ]
  },
  {
   "cell_type": "code",
   "execution_count": null,
   "metadata": {},
   "outputs": [],
   "source": [
    "points = np.array([grid_x.flatten(), grid_y.flatten()])\n",
    "print(points.shape)\n",
    "plt.scatter(points[0],points[1],s=.01)\n",
    "plt.show()"
   ]
  },
  {
   "cell_type": "code",
   "execution_count": null,
   "metadata": {},
   "outputs": [],
   "source": [
    "f = interp2d(grid_x.flatten(), grid_y.flatten(), grid_z.flatten())"
   ]
  },
  {
   "cell_type": "code",
   "execution_count": null,
   "metadata": {},
   "outputs": [],
   "source": [
    "vj_recon = f(x,y)"
   ]
  },
  {
   "cell_type": "code",
   "execution_count": null,
   "metadata": {},
   "outputs": [],
   "source": [
    "m = 10000\n",
    "vj_recon = f(x[:m],y[:m])"
   ]
  },
  {
   "cell_type": "code",
   "execution_count": null,
   "metadata": {},
   "outputs": [],
   "source": [
    "vj_recon.shape"
   ]
  },
  {
   "cell_type": "code",
   "execution_count": null,
   "metadata": {},
   "outputs": [],
   "source": [
    "grid_x1, grid_y1 = np.mgrid[0:1:100j, 0:1:200j]\n",
    "grid_x1.shape, grid_y1.shape"
   ]
  },
  {
   "cell_type": "code",
   "execution_count": null,
   "metadata": {},
   "outputs": [],
   "source": []
  },
  {
   "cell_type": "code",
   "execution_count": null,
   "metadata": {},
   "outputs": [],
   "source": [
    "grid_x, grid_y, grid_z = interpData(x.values,y.values,vj.values,delta_x=1e-3,nextPow2=True)\n",
    "grid_x.shape, grid_y.shape, grid_z.shape"
   ]
  },
  {
   "cell_type": "code",
   "execution_count": null,
   "metadata": {},
   "outputs": [],
   "source": [
    "len(x), grid_x.size # the original dataset vs. interpolated"
   ]
  },
  {
   "cell_type": "code",
   "execution_count": null,
   "metadata": {},
   "outputs": [],
   "source": [
    "512**2"
   ]
  },
  {
   "cell_type": "code",
   "execution_count": null,
   "metadata": {},
   "outputs": [],
   "source": [
    "112*64*32"
   ]
  },
  {
   "cell_type": "code",
   "execution_count": null,
   "metadata": {},
   "outputs": [],
   "source": [
    "64*96*64"
   ]
  },
  {
   "cell_type": "code",
   "execution_count": null,
   "metadata": {},
   "outputs": [],
   "source": [
    "48*72*48"
   ]
  },
  {
   "cell_type": "code",
   "execution_count": null,
   "metadata": {},
   "outputs": [],
   "source": [
    "plotFrame(orderedFiles[100])"
   ]
  },
  {
   "cell_type": "code",
   "execution_count": null,
   "metadata": {},
   "outputs": [],
   "source": [
    "D = CCSI_2D(orderedFiles,Nx=128,Ny=128,numToKeep=1,interpMethod='cubic')"
   ]
  },
  {
   "cell_type": "code",
   "execution_count": null,
   "metadata": {},
   "outputs": [],
   "source": [
    "np.any(np.isnan(D.data))"
   ]
  },
  {
   "cell_type": "code",
   "execution_count": null,
   "metadata": {},
   "outputs": [],
   "source": [
    "D.plotData(0)"
   ]
  },
  {
   "cell_type": "code",
   "execution_count": null,
   "metadata": {},
   "outputs": [],
   "source": [
    "D = CCSI_2D(orderedFiles,delta_x=1e-4,nextPow2=True,numToKeep=1)"
   ]
  },
  {
   "cell_type": "code",
   "execution_count": null,
   "metadata": {},
   "outputs": [],
   "source": [
    "print(np.any(np.isnan(D.data)))\n",
    "D.plotData(0)"
   ]
  },
  {
   "cell_type": "markdown",
   "metadata": {},
   "source": [
    "### Create the 128x128 dataset"
   ]
  },
  {
   "cell_type": "code",
   "execution_count": null,
   "metadata": {},
   "outputs": [],
   "source": [
    "# from surrogates4sims.utils import pkl_save\n",
    "# outdirec = '/data/ccsi/PNNLTimeStepData/data_128x128_linear'\n",
    "# if not os.path.exists(outdirec):\n",
    "#     os.makedirs(outdirec)\n",
    "    \n",
    "# dataDirec = '/data/ccsi/PNNLTimeStepData/rars/'\n",
    "# sims = ['001','025','050']\n",
    "# for s in tqdm(sims):\n",
    "#     files = []\n",
    "#     for i in ['a','b']:\n",
    "#         pth = os.path.join(dataDirec,sims[simIdx] + i)\n",
    "#         files.append(glob(os.path.join(pth,'*.csv')))\n",
    "#     files = [i for sublist in files for i in sublist]\n",
    "#     L = np.argsort(list(map(getInt,files)))\n",
    "#     orderedFiles = [files[i] for i in L]\n",
    "#     D = CCSI_2D(orderedFiles,Nx=128,Ny=128)\n",
    "#     data = {'grid_x':D.grid_x, 'grid_y': D.grid_y, 'data':D.data}\n",
    "#     s = os.path.join(outdirec,s + '.pkl')\n",
    "#     pkl_save(data,s)"
   ]
  },
  {
   "cell_type": "code",
   "execution_count": null,
   "metadata": {},
   "outputs": [],
   "source": [
    "## cubic dataset \n",
    "# D = CCSI_2D(orderedFiles,Nx=128,Ny=128,interpMethod='cubic') # takes 1.5 hours\n",
    "# data = {'grid_x':D.grid_x, 'grid_y': D.grid_y, 'data':D.data}\n",
    "# s = os.path.join('/data/ccsi/PNNLTimeStepData/data_128x128_cubic',sims[simIdx] + '.pkl')\n",
    "# with open(s,'wb') as fid:\n",
    "#     pickle.dump(data,fid)"
   ]
  },
  {
   "cell_type": "markdown",
   "metadata": {},
   "source": [
    "### Create the 512x512 dataset"
   ]
  },
  {
   "cell_type": "code",
   "execution_count": null,
   "metadata": {},
   "outputs": [],
   "source": [
    "# from surrogates4sims.utils import pkl_save\n",
    "# n = 512\n",
    "# outdirec = '/data/ccsi/PNNLTimeStepData/data_{}x{}_linear'.format(n,n)\n",
    "# if not os.path.exists(outdirec):\n",
    "#     os.makedirs(outdirec)\n",
    "    \n",
    "# dataDirec = '/data/ccsi/PNNLTimeStepData/rars/'\n",
    "# sims = ['001','025','050']\n",
    "# for s in tqdm(sims):\n",
    "#     files = []\n",
    "#     for i in ['a','b']:\n",
    "#         pth = os.path.join(dataDirec,sims[simIdx] + i)\n",
    "#         files.append(glob(os.path.join(pth,'*.csv')))\n",
    "#     files = [i for sublist in files for i in sublist]\n",
    "#     L = np.argsort(list(map(getInt,files)))\n",
    "#     orderedFiles = [files[i] for i in L]\n",
    "#     D = CCSI_2D(orderedFiles,Nx=n,Ny=n)\n",
    "#     data = {'grid_x':D.grid_x, 'grid_y': D.grid_y, 'data':D.data}\n",
    "#     s = os.path.join(outdirec,s + '.pkl')\n",
    "#     pkl_save(data,s)"
   ]
  },
  {
   "cell_type": "markdown",
   "metadata": {},
   "source": [
    "### Read in the saved dataset above"
   ]
  },
  {
   "cell_type": "code",
   "execution_count": null,
   "metadata": {},
   "outputs": [],
   "source": [
    "D = CCSI_2D('/data/ccsi/PNNLTimeStepData/data_128x128_cubic/025.pkl',preprocess=False)\n",
    "len(D)"
   ]
  },
  {
   "cell_type": "code",
   "execution_count": null,
   "metadata": {},
   "outputs": [],
   "source": [
    "a = D.preprocessFcn(D[0][0])\n",
    "a.shape"
   ]
  },
  {
   "cell_type": "code",
   "execution_count": null,
   "metadata": {},
   "outputs": [],
   "source": [
    "b = D.inversePreprocessFcn(a)\n",
    "b.shape"
   ]
  },
  {
   "cell_type": "code",
   "execution_count": null,
   "metadata": {},
   "outputs": [],
   "source": [
    "np.max(np.abs(b-D[0][0]))"
   ]
  },
  {
   "cell_type": "markdown",
   "metadata": {},
   "source": [
    "### Create the preprocessing function"
   ]
  },
  {
   "cell_type": "code",
   "execution_count": null,
   "metadata": {},
   "outputs": [],
   "source": [
    "dataDirec = '/data/ccsi/PNNLTimeStepData/rars/'\n",
    "sims = ['001','025','050']\n",
    "\n",
    "files = []\n",
    "for s in sims:\n",
    "    for i in ['a','b']:\n",
    "        pth = os.path.join(dataDirec,s + i)\n",
    "        files.append(glob(os.path.join(pth,'*.csv')))\n",
    "files = [i for sublist in files for i in sublist]\n",
    "len(files)"
   ]
  },
  {
   "cell_type": "code",
   "execution_count": null,
   "metadata": {},
   "outputs": [],
   "source": [
    "x = D.max().values\n",
    "x.shape"
   ]
  },
  {
   "cell_type": "code",
   "execution_count": null,
   "metadata": {},
   "outputs": [],
   "source": [
    "mx = -100*np.zeros((1,n))\n",
    "mx.shape"
   ]
  },
  {
   "cell_type": "code",
   "execution_count": null,
   "metadata": {},
   "outputs": [],
   "source": [
    "n = 4\n",
    "mx = -100*np.zeros((1,n))\n",
    "mn = 100*np.zeros((1,n))\n",
    "for f in files:\n",
    "    D = pd.read_csv(f)\n",
    "    \n",
    "    M = D.max().values[:4].reshape(1,n)\n",
    "    out = np.concatenate([mx,M])\n",
    "    mx = np.max(out,axis=0).reshape(1,n)\n",
    "    \n",
    "    m = D.min().values[:4].reshape(1,n)\n",
    "    out = np.concatenate([mn,m])\n",
    "    mn = np.min(out,axis=0).reshape(1,n)\n",
    "\n",
    "print(mx,mn)"
   ]
  },
  {
   "cell_type": "code",
   "execution_count": null,
   "metadata": {},
   "outputs": [],
   "source": [
    "def preprocess(X,mx=[5.46,4.1,1.,2012.],\n",
    "                 mn=[-4.8, -8.8,0.,-1725.]):\n",
    "    Xnew = np.empty_like(X)\n",
    "    cnt = 0\n",
    "    for x,M,m in zip(X,mx,mn):\n",
    "        Xnew[cnt] = 2*((x-m)/(M-m) - .5) \n",
    "        cnt += 1\n",
    "    return Xnew\n"
   ]
  },
  {
   "cell_type": "markdown",
   "metadata": {},
   "source": [
    "## Histograms"
   ]
  },
  {
   "cell_type": "code",
   "execution_count": null,
   "metadata": {},
   "outputs": [],
   "source": [
    "D = CCSI_2D('/data/ccsi/PNNLTimeStepData/data_128x128_linear/025.pkl',preprocess=False)\n",
    "X = D.data\n",
    "for i in range(X.shape[1]):\n",
    "    E = X[:,i]\n",
    "    E = E.flatten()\n",
    "    mn, mx = E.min(),E.max()\n",
    "    print(mn,mx)\n",
    "    bins = np.linspace(mn,mx,1000)\n",
    "    plt.hist(E,bins)\n",
    "    plt.show()"
   ]
  },
  {
   "cell_type": "code",
   "execution_count": null,
   "metadata": {},
   "outputs": [],
   "source": [
    "D = CCSI_2D('/data/ccsi/PNNLTimeStepData/data_128x128_linear/025.pkl',preprocess=True)\n",
    "X = D.data\n",
    "for i in range(X.shape[1]):\n",
    "    E = X[:,i]\n",
    "    E = E.flatten()\n",
    "    bins = np.linspace(E.min(),E.max(),1000)\n",
    "    plt.hist(E,bins)\n",
    "    plt.show()"
   ]
  },
  {
   "cell_type": "code",
   "execution_count": null,
   "metadata": {},
   "outputs": [],
   "source": [
    "E.max()"
   ]
  },
  {
   "cell_type": "code",
   "execution_count": null,
   "metadata": {},
   "outputs": [],
   "source": [
    "E.min()"
   ]
  },
  {
   "cell_type": "code",
   "execution_count": null,
   "metadata": {},
   "outputs": [],
   "source": [
    "E = X[:,2]\n",
    "E = E.flatten()"
   ]
  },
  {
   "cell_type": "code",
   "execution_count": null,
   "metadata": {},
   "outputs": [],
   "source": [
    "E"
   ]
  },
  {
   "cell_type": "code",
   "execution_count": null,
   "metadata": {},
   "outputs": [],
   "source": [
    "E.max(), E.min(), np.mean(E), np.median(E)"
   ]
  },
  {
   "cell_type": "code",
   "execution_count": null,
   "metadata": {},
   "outputs": [],
   "source": [
    "mu = E.mean()\n",
    "sig = E.std()\n",
    "sig"
   ]
  },
  {
   "cell_type": "code",
   "execution_count": null,
   "metadata": {},
   "outputs": [],
   "source": [
    "En = (E - mu)/sig"
   ]
  },
  {
   "cell_type": "code",
   "execution_count": null,
   "metadata": {},
   "outputs": [],
   "source": [
    "bins = np.linspace(E.min(),E.max(),1000)\n",
    "plt.hist(En,bins)\n",
    "plt.show()"
   ]
  },
  {
   "cell_type": "code",
   "execution_count": null,
   "metadata": {},
   "outputs": [],
   "source": [
    "bins = np.linspace(E.min(),-.99,1000)\n",
    "plt.hist(E,bins)\n",
    "plt.show()"
   ]
  },
  {
   "cell_type": "code",
   "execution_count": null,
   "metadata": {},
   "outputs": [],
   "source": [
    "En.min(),mu + 1*sig"
   ]
  },
  {
   "cell_type": "code",
   "execution_count": null,
   "metadata": {},
   "outputs": [],
   "source": [
    "En"
   ]
  },
  {
   "cell_type": "code",
   "execution_count": null,
   "metadata": {},
   "outputs": [],
   "source": [
    "plt.plot(sorted(E),'.')"
   ]
  },
  {
   "cell_type": "code",
   "execution_count": null,
   "metadata": {},
   "outputs": [],
   "source": [
    "np.sum(E==-1.)/len(E)"
   ]
  },
  {
   "cell_type": "code",
   "execution_count": null,
   "metadata": {},
   "outputs": [],
   "source": [
    "np.sum(E==1.)/len(E)"
   ]
  },
  {
   "cell_type": "code",
   "execution_count": null,
   "metadata": {},
   "outputs": [],
   "source": [
    "np.sum(E > -1.)/len(E)"
   ]
  },
  {
   "cell_type": "code",
   "execution_count": null,
   "metadata": {},
   "outputs": [],
   "source": [
    "A = X[:,2]\n",
    "for a in A[400:]:\n",
    "    plt.imshow(a.T)\n",
    "    plt.show()"
   ]
  },
  {
   "cell_type": "code",
   "execution_count": null,
   "metadata": {},
   "outputs": [],
   "source": []
  },
  {
   "cell_type": "code",
   "execution_count": null,
   "metadata": {},
   "outputs": [],
   "source": []
  }
 ],
 "metadata": {
  "kernelspec": {
   "display_name": "Python 3",
   "language": "python",
   "name": "python3"
  },
  "language_info": {
   "codemirror_mode": {
    "name": "ipython",
    "version": 3
   },
   "file_extension": ".py",
   "mimetype": "text/x-python",
   "name": "python",
   "nbconvert_exporter": "python",
   "pygments_lexer": "ipython3",
   "version": "3.8.3"
  }
 },
 "nbformat": 4,
 "nbformat_minor": 2
}
