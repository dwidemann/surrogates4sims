{
 "cells": [
  {
   "cell_type": "markdown",
   "metadata": {},
   "source": [
    "## End to End PNNL Surrogate Model Training and Testing"
   ]
  },
  {
   "cell_type": "markdown",
   "metadata": {},
   "source": [
    "Important parameters:\n",
    "\n",
    "channel = 1 or 2 # do others later\n",
    "\n",
    "gridsize = 128 or 512 \n",
    "\n",
    "w = 10 # anything from 1 to 499 (simLen) is okay. \n",
    "\n",
    "latentDim = 16 "
   ]
  },
  {
   "cell_type": "markdown",
   "metadata": {},
   "source": [
    "## Imports"
   ]
  },
  {
   "cell_type": "code",
   "execution_count": 1,
   "metadata": {
    "ExecuteTime": {
     "end_time": "2020-11-07T02:34:25.542154Z",
     "start_time": "2020-11-07T02:34:23.528223Z"
    }
   },
   "outputs": [],
   "source": [
    "# EXPORT\n",
    "# --- Must haves ---\n",
    "import os, sys\n",
    "sys.path.append('..')\n",
    "\n",
    "import matplotlib.pyplot as plt\n",
    "import torch\n",
    "from torch.utils.data import Dataset, DataLoader\n",
    "from torch.utils.tensorboard import SummaryWriter\n",
    "import torch.cuda as cuda\n",
    "import torch.nn as nn\n",
    "import torchvision\n",
    "import torch.nn.functional as F\n",
    "\n",
    "from surrogates4sims.pnnlDatasets import CCSI_2D\n",
    "\n",
    "from surrogates4sims.utils import create_opt, create_one_cycle, find_lr, printNumModelParams, \\\n",
    "                                    rmse, writeMessage, plotSampleWprediction, plotSampleWpredictionByChannel, \\\n",
    "                                    plotSample, curl, jacobian, stream2uv, create_movie, convertSimToImage, \\\n",
    "                                    pkl_save, pkl_load, create_1_channel_movie\n",
    "\n",
    "from surrogates4sims.models import Generator, Encoder, AE_no_P, AE_xhat_z, AE_xhat_zV2\n",
    "\n",
    "import numpy as np\n",
    "from tqdm import tqdm\n",
    "from copy import deepcopy\n",
    "from glob import glob"
   ]
  },
  {
   "cell_type": "markdown",
   "metadata": {},
   "source": [
    "## Settings"
   ]
  },
  {
   "cell_type": "code",
   "execution_count": 2,
   "metadata": {
    "ExecuteTime": {
     "end_time": "2020-11-07T02:34:25.564808Z",
     "start_time": "2020-11-07T02:34:25.546416Z"
    }
   },
   "outputs": [
    {
     "data": {
      "text/plain": [
       "'pnnl_end2end_plateau_train_GPUs1_channel2_gridsize128_latentDim256_Samples2Keep1'"
      ]
     },
     "execution_count": 2,
     "metadata": {},
     "output_type": "execute_result"
    }
   ],
   "source": [
    "# data \n",
    "eval_only=False\n",
    "DEBUG = False\n",
    "# model name, for tensorboard recording and checkpointing purposes.\n",
    "versionName = \"pnnl_end2end_plateau_train\"\n",
    "\n",
    "# GPU Numbers to use. Comma seprate them for multi-GPUs.\n",
    "gpu_ids = \"1\"\n",
    "versionName = versionName + '_GPUs{}'.format(gpu_ids.replace(',',''))\n",
    "# path to load model weights.\n",
    "pretrained_path = None\n",
    "\n",
    "# rate at which to record metrics. (number of batches to average over when recording metrics, e.g. \"every 5 batches\")\n",
    "tensorboard_rate = 5\n",
    "\n",
    "# number of epochs to train. This is defined here so we can use the OneCycle LR Scheduler.\n",
    "epochs = 1000\n",
    "\n",
    "# Data Directory\n",
    "channel = 2\n",
    "gridsize = 128\n",
    "dataDirec = '/data/ccsi/pnnl_liquid_inlet/channel_{}/gridsize_{}'.format(channel,gridsize)\n",
    "preprocess = False # keep this as false until using the long runtime loader\n",
    "testSplit = .2 # don't change this for now. \n",
    "AE = False\n",
    "numWorkers = 2\n",
    "physicsDim = 2 # inlet velocity and time sample\n",
    "\n",
    "# checkpoint directory\n",
    "cps = 'cps'\n",
    "tensorboard_direc = \"tb\"\n",
    "\n",
    "findLRs = False  \n",
    "\n",
    "# LIN parameters\n",
    "hiddenLayers = [128,128]\n",
    "activation = nn.ELU()\n",
    "\n",
    "# hyper-params\n",
    "seed = 1234\n",
    "np.random.seed(seed)\n",
    "bz = 3\n",
    "use_sigmoid_output = True\n",
    "numSamplesToKeep = 1 #if not debugging\n",
    "latentDim = 256\n",
    "window_size = 5\n",
    "filters = 128\n",
    "num_conv = 4 # breaks when less than 2\n",
    "simLen = 6\n",
    "stack = True\n",
    "simVizIndex = 0 # sim in the test set to visualize\n",
    "createStreamFcn = False\n",
    "doJacobian = False\n",
    "repeat = 0\n",
    "skip_connection = False\n",
    "norm_layer = [torch.nn.Identity][0]\n",
    "patience = 1\n",
    "if DEBUG:\n",
    "    epochs = 10000\n",
    "    numSamplesToKeep = 2 # 1 simulation\n",
    "    \n",
    "versionName = versionName + '_channel{}_gridsize{}_latentDim{}_Samples2Keep{}'.format(channel, gridsize, latentDim,1)\n",
    "versionName"
   ]
  },
  {
   "cell_type": "markdown",
   "metadata": {},
   "source": [
    "## Select GPUs"
   ]
  },
  {
   "cell_type": "code",
   "execution_count": 3,
   "metadata": {
    "ExecuteTime": {
     "end_time": "2020-11-07T02:34:25.784166Z",
     "start_time": "2020-11-07T02:34:25.567260Z"
    }
   },
   "outputs": [
    {
     "name": "stdout",
     "output_type": "stream",
     "text": [
      "Fri Nov  6 18:34:25 2020       \n",
      "+-----------------------------------------------------------------------------+\n",
      "| NVIDIA-SMI 440.33.01    Driver Version: 440.33.01    CUDA Version: 10.2     |\n",
      "|-------------------------------+----------------------+----------------------+\n",
      "| GPU  Name        Persistence-M| Bus-Id        Disp.A | Volatile Uncorr. ECC |\n",
      "| Fan  Temp  Perf  Pwr:Usage/Cap|         Memory-Usage | GPU-Util  Compute M. |\n",
      "|===============================+======================+======================|\n",
      "|   0  TITAN Xp            On   | 00000000:02:00.0 Off |                  N/A |\n",
      "| 23%   19C    P8     8W / 250W |      1MiB / 12196MiB |      0%      Default |\n",
      "+-------------------------------+----------------------+----------------------+\n",
      "|   1  TITAN Xp            On   | 00000000:03:00.0 Off |                  N/A |\n",
      "| 23%   24C    P8     9W / 250W |      1MiB / 12196MiB |      0%      Default |\n",
      "+-------------------------------+----------------------+----------------------+\n",
      "|   2  TITAN Xp            On   | 00000000:81:00.0 Off |                  N/A |\n",
      "| 53%   82C    P2   205W / 250W |   9853MiB / 12196MiB |     96%      Default |\n",
      "+-------------------------------+----------------------+----------------------+\n",
      "|   3  TITAN Xp            On   | 00000000:82:00.0 Off |                  N/A |\n",
      "| 49%   76C    P2   205W / 250W |   9895MiB / 12196MiB |     92%      Default |\n",
      "+-------------------------------+----------------------+----------------------+\n",
      "                                                                               \n",
      "+-----------------------------------------------------------------------------+\n",
      "| Processes:                                                       GPU Memory |\n",
      "|  GPU       PID   Type   Process name                             Usage      |\n",
      "|=============================================================================|\n",
      "|    2     27168      C   /home/bartoldson1/anaconda3/bin/python      9841MiB |\n",
      "|    3     27168      C   /home/bartoldson1/anaconda3/bin/python      9883MiB |\n",
      "+-----------------------------------------------------------------------------+\n"
     ]
    }
   ],
   "source": [
    "!nvidia-smi"
   ]
  },
  {
   "cell_type": "code",
   "execution_count": 4,
   "metadata": {
    "ExecuteTime": {
     "end_time": "2020-11-07T02:34:25.792265Z",
     "start_time": "2020-11-07T02:34:25.787600Z"
    }
   },
   "outputs": [],
   "source": [
    "os.environ[\"CUDA_DEVICE_ORDER\"]=\"PCI_BUS_ID\"   # see issue #152\n",
    "os.environ[\"CUDA_VISIBLE_DEVICES\"]=gpu_ids"
   ]
  },
  {
   "cell_type": "code",
   "execution_count": 5,
   "metadata": {
    "ExecuteTime": {
     "end_time": "2020-11-07T02:34:25.863722Z",
     "start_time": "2020-11-07T02:34:25.794576Z"
    }
   },
   "outputs": [
    {
     "name": "stdout",
     "output_type": "stream",
     "text": [
      "Using device: cuda\n"
     ]
    }
   ],
   "source": [
    "device = torch.device('cuda' if torch.cuda.is_available() else 'cpu')\n",
    "print('Using device:', device)"
   ]
  },
  {
   "cell_type": "code",
   "execution_count": 6,
   "metadata": {
    "ExecuteTime": {
     "end_time": "2020-11-07T02:34:25.873757Z",
     "start_time": "2020-11-07T02:34:25.866076Z"
    }
   },
   "outputs": [
    {
     "name": "stdout",
     "output_type": "stream",
     "text": [
      "True\n",
      "1\n",
      "0\n",
      "TITAN Xp\n"
     ]
    }
   ],
   "source": [
    "if device.type == 'cuda':\n",
    "    print(cuda.is_available())\n",
    "    print(cuda.device_count())\n",
    "    print(cuda.current_device())\n",
    "    print(cuda.get_device_name())"
   ]
  },
  {
   "cell_type": "code",
   "execution_count": 7,
   "metadata": {
    "ExecuteTime": {
     "end_time": "2020-11-07T02:34:28.278736Z",
     "start_time": "2020-11-07T02:34:25.877455Z"
    }
   },
   "outputs": [
    {
     "name": "stdout",
     "output_type": "stream",
     "text": [
      "Fri Nov  6 18:34:28 2020       \n",
      "+-----------------------------------------------------------------------------+\n",
      "| NVIDIA-SMI 440.33.01    Driver Version: 440.33.01    CUDA Version: 10.2     |\n",
      "|-------------------------------+----------------------+----------------------+\n",
      "| GPU  Name        Persistence-M| Bus-Id        Disp.A | Volatile Uncorr. ECC |\n",
      "| Fan  Temp  Perf  Pwr:Usage/Cap|         Memory-Usage | GPU-Util  Compute M. |\n",
      "|===============================+======================+======================|\n",
      "|   0  TITAN Xp            On   | 00000000:02:00.0 Off |                  N/A |\n",
      "| 23%   19C    P8     8W / 250W |      1MiB / 12196MiB |      0%      Default |\n",
      "+-------------------------------+----------------------+----------------------+\n",
      "|   1  TITAN Xp            On   | 00000000:03:00.0 Off |                  N/A |\n",
      "| 23%   26C    P2    59W / 250W |    573MiB / 12196MiB |      2%      Default |\n",
      "+-------------------------------+----------------------+----------------------+\n",
      "|   2  TITAN Xp            On   | 00000000:81:00.0 Off |                  N/A |\n",
      "| 53%   82C    P2   127W / 250W |   9853MiB / 12196MiB |     95%      Default |\n",
      "+-------------------------------+----------------------+----------------------+\n",
      "|   3  TITAN Xp            On   | 00000000:82:00.0 Off |                  N/A |\n",
      "| 49%   76C    P2    97W / 250W |   9895MiB / 12196MiB |     90%      Default |\n",
      "+-------------------------------+----------------------+----------------------+\n",
      "                                                                               \n",
      "+-----------------------------------------------------------------------------+\n",
      "| Processes:                                                       GPU Memory |\n",
      "|  GPU       PID   Type   Process name                             Usage      |\n",
      "|=============================================================================|\n",
      "|    1     23515      C   /home/bartoldson1/anaconda3/bin/python       561MiB |\n",
      "|    2     27168      C   /home/bartoldson1/anaconda3/bin/python      9841MiB |\n",
      "|    3     27168      C   /home/bartoldson1/anaconda3/bin/python      9883MiB |\n",
      "+-----------------------------------------------------------------------------+\n"
     ]
    }
   ],
   "source": [
    "a = torch.zeros(5, device=device.type)\n",
    "!nvidia-smi"
   ]
  },
  {
   "cell_type": "markdown",
   "metadata": {},
   "source": [
    "## Datasets & Loaders"
   ]
  },
  {
   "cell_type": "code",
   "execution_count": 8,
   "metadata": {
    "ExecuteTime": {
     "end_time": "2020-11-07T02:34:28.313856Z",
     "start_time": "2020-11-07T02:34:28.282569Z"
    }
   },
   "outputs": [
    {
     "data": {
      "text/plain": [
       "(10, 40)"
      ]
     },
     "execution_count": 8,
     "metadata": {},
     "output_type": "execute_result"
    }
   ],
   "source": [
    "sims = glob(os.path.join(dataDirec,'*.pkl'))\n",
    "numSims = len(sims)\n",
    "idx = int(testSplit*numSims)\n",
    "testInds = np.linspace(1,numSims-2,idx).astype('int')\n",
    "trainInds = list(set(np.arange(0,numSims)).difference(set(testInds)))\n",
    "# perm = np.random.permutation(numSims)\n",
    "# testInds = perm[:idx]\n",
    "# trainInds = perm[idx:]\n",
    "testSimFiles = [sims[idx] for idx in testInds]\n",
    "trainSimFiles = [sims[idx] for idx in trainInds]\n",
    "len(testSimFiles), len(trainSimFiles)"
   ]
  },
  {
   "cell_type": "code",
   "execution_count": 9,
   "metadata": {
    "ExecuteTime": {
     "end_time": "2020-11-07T02:34:28.373110Z",
     "start_time": "2020-11-07T02:34:28.316044Z"
    }
   },
   "outputs": [
    {
     "data": {
      "text/plain": [
       "(6, 6, 1)"
      ]
     },
     "execution_count": 9,
     "metadata": {},
     "output_type": "execute_result"
    }
   ],
   "source": [
    "testDataset = CCSI_2D(testSimFiles,doPreprocess=preprocess,numToKeep=numSamplesToKeep,channel=channel,AE=AE,\n",
    "                      w=window_size, simLen=simLen)\n",
    "trainDataset = CCSI_2D(trainSimFiles,doPreprocess=preprocess,numToKeep=numSamplesToKeep,channel=channel,AE=AE,\n",
    "                      w=window_size, simLen=simLen)\n",
    "# subset data to just first 6 frames (one input and 5 to predict)\n",
    "x_data, physics_var = trainDataset.data[0]\n",
    "trainDataset.data[0] = x_data[:6], physics_var\n",
    "trainDataset.t = np.linspace(0,1,500).astype('float32')\n",
    "testDataset = trainDataset\n",
    "len(testDataset), len(trainDataset), len(trainDataset.data)"
   ]
  },
  {
   "cell_type": "code",
   "execution_count": 10,
   "metadata": {
    "ExecuteTime": {
     "end_time": "2020-11-07T02:34:28.382193Z",
     "start_time": "2020-11-07T02:34:28.375273Z"
    }
   },
   "outputs": [
    {
     "data": {
      "text/plain": [
       "((1, 128, 128), (5, 1, 128, 128), (2,), (5, 2))"
      ]
     },
     "execution_count": 10,
     "metadata": {},
     "output_type": "execute_result"
    }
   ],
   "source": [
    "trainDataset[0][0].shape, trainDataset[0][1].shape, trainDataset[0][2].shape, trainDataset[0][3].shape"
   ]
  },
  {
   "cell_type": "code",
   "execution_count": 11,
   "metadata": {
    "ExecuteTime": {
     "end_time": "2020-11-07T02:34:28.391462Z",
     "start_time": "2020-11-07T02:34:28.383995Z"
    }
   },
   "outputs": [
    {
     "data": {
      "text/plain": [
       "(2, 2)"
      ]
     },
     "execution_count": 11,
     "metadata": {},
     "output_type": "execute_result"
    }
   ],
   "source": [
    "trainDataLoader = DataLoader(dataset=trainDataset, batch_size=bz, drop_last=True, \n",
    "                             num_workers=numWorkers, pin_memory=True, \n",
    "                             sampler=torch.utils.data.SubsetRandomSampler([0]*6))\n",
    "testDataLoader = DataLoader(dataset=testDataset, batch_size=bz, num_workers=numWorkers, pin_memory=True, \n",
    "                             sampler=torch.utils.data.SubsetRandomSampler([0]*6))\n",
    "len(trainDataLoader), len(testDataLoader)"
   ]
  },
  {
   "cell_type": "code",
   "execution_count": 12,
   "metadata": {
    "ExecuteTime": {
     "end_time": "2020-11-07T02:34:28.509416Z",
     "start_time": "2020-11-07T02:34:28.393391Z"
    }
   },
   "outputs": [
    {
     "name": "stdout",
     "output_type": "stream",
     "text": [
      "0 torch.Size([3, 1, 128, 128])\n",
      "1 torch.Size([3, 1, 128, 128])\n"
     ]
    }
   ],
   "source": [
    "for i, x in enumerate(trainDataLoader):\n",
    "    print(i, x[0].shape)"
   ]
  },
  {
   "cell_type": "code",
   "execution_count": 13,
   "metadata": {
    "ExecuteTime": {
     "end_time": "2020-11-07T02:34:28.601593Z",
     "start_time": "2020-11-07T02:34:28.511173Z"
    }
   },
   "outputs": [
    {
     "name": "stdout",
     "output_type": "stream",
     "text": [
      "torch.Size([3, 1, 128, 128]) torch.Size([3, 5, 1, 128, 128]) torch.Size([3, 2]) torch.Size([3, 5, 2])\n"
     ]
    }
   ],
   "source": [
    "X,Y,p_x, p_y = next(iter(trainDataLoader))\n",
    "print(X.shape,Y.shape,p_x.shape, p_y.shape)"
   ]
  },
  {
   "cell_type": "markdown",
   "metadata": {},
   "source": [
    "## Model"
   ]
  },
  {
   "cell_type": "code",
   "execution_count": 14,
   "metadata": {
    "ExecuteTime": {
     "end_time": "2020-11-07T02:34:28.948168Z",
     "start_time": "2020-11-07T02:34:28.603351Z"
    }
   },
   "outputs": [
    {
     "name": "stdout",
     "output_type": "stream",
     "text": [
      "[128, 8, 8]\n"
     ]
    },
    {
     "name": "stderr",
     "output_type": "stream",
     "text": [
      "/home/bartoldson1/anaconda3/lib/python3.8/site-packages/torch/nn/functional.py:3000: UserWarning: The default behavior for interpolate/upsample with float scale_factor changed in 1.6.0 to align with other frameworks/libraries, and uses scale_factor directly, instead of relying on the computed output size. If you wish to keep the old behavior, please set recompute_scale_factor=True. See the documentation of nn.Upsample for details. \n",
      "  warnings.warn(\"The default behavior for interpolate/upsample with float scale_factor changed \"\n"
     ]
    }
   ],
   "source": [
    "X = X.to(device)\n",
    "AE_model = AE_xhat_zV2(X, filters, latentDim, num_conv, repeat, \n",
    "                 skip_connection, stack, conv_k=3, last_k=3, \n",
    "                 act=nn.LeakyReLU(), return_z=True, stream=createStreamFcn, device=device, norm=norm_layer,\n",
    "                      sigmoid_out=True)\n",
    "\n",
    "AE_model = nn.DataParallel(AE_model)"
   ]
  },
  {
   "cell_type": "code",
   "execution_count": 15,
   "metadata": {
    "ExecuteTime": {
     "end_time": "2020-11-07T02:34:28.952480Z",
     "start_time": "2020-11-07T02:34:28.949660Z"
    }
   },
   "outputs": [
    {
     "name": "stdout",
     "output_type": "stream",
     "text": [
      "90 layers require gradients (unfrozen) out of 90 layers\n",
      "13,668,609 parameters require gradients (unfrozen) out of 13,668,609 parameters\n"
     ]
    }
   ],
   "source": [
    "printNumModelParams(AE_model)"
   ]
  },
  {
   "cell_type": "code",
   "execution_count": 16,
   "metadata": {
    "ExecuteTime": {
     "end_time": "2020-11-07T02:34:28.972240Z",
     "start_time": "2020-11-07T02:34:28.953555Z"
    }
   },
   "outputs": [
    {
     "data": {
      "text/plain": [
       "(torch.Size([3, 1, 128, 128]), torch.Size([3, 256]))"
      ]
     },
     "execution_count": 16,
     "metadata": {},
     "output_type": "execute_result"
    }
   ],
   "source": [
    "Xhat,z = AE_model(X,p_x)\n",
    "Xhat.shape, z.shape"
   ]
  },
  {
   "cell_type": "code",
   "execution_count": 17,
   "metadata": {
    "ExecuteTime": {
     "end_time": "2020-11-07T02:34:29.031457Z",
     "start_time": "2020-11-07T02:34:28.973308Z"
    }
   },
   "outputs": [
    {
     "data": {
      "text/plain": [
       "<All keys matched successfully>"
      ]
     },
     "execution_count": 17,
     "metadata": {},
     "output_type": "execute_result"
    }
   ],
   "source": [
    "AE_model.load_state_dict(torch.load(os.path.join('/home/bartoldson1/surrogates4sims/cps',\n",
    " 'pnnl_plateau_train_GPUs23_channel2_gridsize128_latentDim256_filters128_bz32_numConv4_jacobianFalse_norm_layerIdentity_sigmoid_outTrue_epochs1000_stackTrue_lr0.0001')))"
   ]
  },
  {
   "cell_type": "code",
   "execution_count": 18,
   "metadata": {
    "ExecuteTime": {
     "end_time": "2020-11-07T02:34:29.037923Z",
     "start_time": "2020-11-07T02:34:29.032616Z"
    }
   },
   "outputs": [],
   "source": [
    "# LIN Model\n",
    "class MLP(nn.Module):\n",
    "    def __init__(self, X, hiddenLayerSizes = [1024], activation=nn.ELU()):\n",
    "        super(MLP,self).__init__()\n",
    "        \n",
    "        self.activation = activation\n",
    "        self.inputSize = X.shape[1:]\n",
    "        self.modules = []\n",
    "        self.modules.append(nn.Linear(np.prod(self.inputSize),hiddenLayerSizes[0]))\n",
    "        self.modules.append(self.activation)\n",
    "        for idx,sz in enumerate(hiddenLayerSizes[:-1]):\n",
    "            self.modules.append(nn.Linear(hiddenLayerSizes[idx],hiddenLayerSizes[idx+1]))\n",
    "            self.modules.append(self.activation)\n",
    "                               \n",
    "        self.modules.append(nn.Linear(hiddenLayerSizes[-1],np.prod(self.inputSize)))\n",
    "        self.layers = nn.Sequential(*self.modules)\n",
    "                                \n",
    "        \n",
    "    def forward(self,x):\n",
    "        x = self.layers(x)\n",
    "        return x"
   ]
  },
  {
   "cell_type": "code",
   "execution_count": 19,
   "metadata": {
    "ExecuteTime": {
     "end_time": "2020-11-07T02:34:29.045150Z",
     "start_time": "2020-11-07T02:34:29.038982Z"
    }
   },
   "outputs": [
    {
     "data": {
      "text/plain": [
       "MLP(\n",
       "  (activation): ELU(alpha=1.0)\n",
       "  (layers): Sequential(\n",
       "    (0): Linear(in_features=256, out_features=128, bias=True)\n",
       "    (1): ELU(alpha=1.0)\n",
       "    (2): Linear(in_features=128, out_features=128, bias=True)\n",
       "    (3): ELU(alpha=1.0)\n",
       "    (4): Linear(in_features=128, out_features=256, bias=True)\n",
       "  )\n",
       ")"
      ]
     },
     "execution_count": 19,
     "metadata": {},
     "output_type": "execute_result"
    }
   ],
   "source": [
    "LIN_model = MLP(z, hiddenLayerSizes=hiddenLayers, activation=activation)\n",
    "LIN_model"
   ]
  },
  {
   "cell_type": "code",
   "execution_count": 20,
   "metadata": {
    "ExecuteTime": {
     "end_time": "2020-11-07T02:34:29.057007Z",
     "start_time": "2020-11-07T02:34:29.046262Z"
    }
   },
   "outputs": [],
   "source": [
    "# surrogate class\n",
    "class Surrogate(nn.Module):\n",
    "    \n",
    "    def __init__(self, window,\n",
    "                 z_size, p_size,\n",
    "                LIN, encoder, decoder):\n",
    "        super(Surrogate, self).__init__()\n",
    "        self.window = window\n",
    "        self.z_size = z_size # this does not include the size of p\n",
    "        self.p_size = p_size\n",
    "        self.c_size = z_size + p_size # this does include the size of p\n",
    "        self.LIN = LIN\n",
    "        self.encoder = encoder\n",
    "        self.decoder = decoder\n",
    "        \n",
    "    def encode(self, U):\n",
    "        \n",
    "        return self.encoder(U)\n",
    "        \n",
    "    def decode(self, encoding):\n",
    "        \n",
    "        return self.decoder(encoding)\n",
    "        \n",
    "    def predict_next_w_encodings(self, encoding, p_y, window):\n",
    "        '''\n",
    "        use the LIN to predict the next w encodings for each \n",
    "        encoded U in the batch\n",
    "        '''\n",
    "            \n",
    "        predicted_encodings = []\n",
    "            \n",
    "        # given a batch of encodings, advance each encoding window time steps.\n",
    "        # save the result at each time step\n",
    "        for i in range(window):\n",
    "            encoding = self.LIN(encoding) + encoding # use LIN to predict delta in encoding\n",
    "            # this was encoding[:,:,-self.p_size:] in 09_manta..., why the extra dimension?\n",
    "            encoding[:,-self.p_size:] = p_y[:, i]\n",
    "            predicted_encodings.append(encoding)\n",
    "            \n",
    "            \n",
    "        return torch.stack(predicted_encodings)\n",
    "    \n",
    "    def forward(self, U, p_x, p_y, window = None):\n",
    "        \n",
    "        if window == None:\n",
    "            window = self.window\n",
    "        assert p_y.size(1) == window\n",
    "            \n",
    "        encoding = self.encode(U)\n",
    "        encoding[:,-self.p_size:] = p_x # added this on 10/27/2020\n",
    "        encoding_w = self.predict_next_w_encodings(encoding, p_y, window)\n",
    "        # want to have this agree with U_y, which is [batch_size, window_size, channels, nx, ny]\n",
    "        # right now, it's [window_size, batch_size, c_size], so transpose dimensions 0 and 1\n",
    "        #print(encoding_w.shape)\n",
    "        U = torch.stack([self.decode(encoding_i) for encoding_i in encoding_w])\n",
    "        return U.transpose(0,1)\n",
    "    "
   ]
  },
  {
   "cell_type": "code",
   "execution_count": 21,
   "metadata": {
    "ExecuteTime": {
     "end_time": "2020-11-07T02:34:29.063563Z",
     "start_time": "2020-11-07T02:34:29.058190Z"
    }
   },
   "outputs": [],
   "source": [
    "surrogate = Surrogate(window_size, latentDim - physicsDim, physicsDim, LIN_model, AE_model.module.encoder, \n",
    "                      AE_model.module.generator)"
   ]
  },
  {
   "cell_type": "code",
   "execution_count": 22,
   "metadata": {
    "ExecuteTime": {
     "end_time": "2020-11-07T02:34:29.071368Z",
     "start_time": "2020-11-07T02:34:29.064653Z"
    }
   },
   "outputs": [],
   "source": [
    "surrogate = surrogate.to(device)"
   ]
  },
  {
   "cell_type": "code",
   "execution_count": 23,
   "metadata": {
    "ExecuteTime": {
     "end_time": "2020-11-07T02:34:29.083347Z",
     "start_time": "2020-11-07T02:34:29.072646Z"
    }
   },
   "outputs": [
    {
     "data": {
      "text/plain": [
       "torch.Size([3, 256])"
      ]
     },
     "execution_count": 23,
     "metadata": {},
     "output_type": "execute_result"
    }
   ],
   "source": [
    "encoding = surrogate.encode(X)\n",
    "encoding.shape"
   ]
  },
  {
   "cell_type": "code",
   "execution_count": 24,
   "metadata": {
    "ExecuteTime": {
     "end_time": "2020-11-07T02:34:29.095239Z",
     "start_time": "2020-11-07T02:34:29.084357Z"
    }
   },
   "outputs": [
    {
     "data": {
      "text/plain": [
       "torch.Size([3, 1, 128, 128])"
      ]
     },
     "execution_count": 24,
     "metadata": {},
     "output_type": "execute_result"
    }
   ],
   "source": [
    "decoding = surrogate.decode(encoding)\n",
    "decoding.shape"
   ]
  },
  {
   "cell_type": "code",
   "execution_count": 25,
   "metadata": {
    "ExecuteTime": {
     "end_time": "2020-11-07T02:34:29.099100Z",
     "start_time": "2020-11-07T02:34:29.096344Z"
    }
   },
   "outputs": [],
   "source": [
    "assert surrogate.c_size == latentDim\n",
    "assert surrogate.p_size == physicsDim\n",
    "assert encoding.shape[-1] == surrogate.c_size\n",
    "assert decoding.shape == X.shape"
   ]
  },
  {
   "cell_type": "code",
   "execution_count": 26,
   "metadata": {
    "ExecuteTime": {
     "end_time": "2020-11-07T02:34:29.147534Z",
     "start_time": "2020-11-07T02:34:29.100219Z"
    }
   },
   "outputs": [
    {
     "data": {
      "text/plain": [
       "torch.Size([3, 5, 1, 128, 128])"
      ]
     },
     "execution_count": 26,
     "metadata": {},
     "output_type": "execute_result"
    }
   ],
   "source": [
    "Xhat = surrogate.forward(X, p_x, p_y)\n",
    "Xhat.shape"
   ]
  },
  {
   "cell_type": "code",
   "execution_count": 27,
   "metadata": {
    "ExecuteTime": {
     "end_time": "2020-11-07T02:34:29.158456Z",
     "start_time": "2020-11-07T02:34:29.149899Z"
    }
   },
   "outputs": [],
   "source": [
    "del surrogate, encoding, decoding, X, Y\n",
    "\n",
    "surrogate = Surrogate(window_size, latentDim - physicsDim, physicsDim, LIN_model, \n",
    "                      AE_model.module.encoder, AE_model.module.generator).to(device)\n",
    "\n",
    "if len(gpu_ids.split(',')) > 1:\n",
    "    surrogate = nn.DataParallel(surrogate)"
   ]
  },
  {
   "cell_type": "code",
   "execution_count": 28,
   "metadata": {
    "ExecuteTime": {
     "end_time": "2020-11-07T02:34:29.166349Z",
     "start_time": "2020-11-07T02:34:29.160507Z"
    }
   },
   "outputs": [],
   "source": [
    "max_lr = .0001\n",
    "start_lr = 5*max_lr/10\n",
    "#opt = create_opt(max_lr,model)\n",
    "#lr_scheduler = create_one_cycle(opt,max_lr,epochs,trainDataLoader)\n",
    "opt = torch.optim.Adam(surrogate.parameters(),lr=max_lr,betas=(.5,.999))\n",
    "lr_scheduler = torch.optim.lr_scheduler.ReduceLROnPlateau(opt,patience=patience)"
   ]
  },
  {
   "cell_type": "code",
   "execution_count": 29,
   "metadata": {
    "ExecuteTime": {
     "end_time": "2020-11-07T02:34:29.177440Z",
     "start_time": "2020-11-07T02:34:29.168307Z"
    }
   },
   "outputs": [],
   "source": [
    "def L1_loss(pred, target):\n",
    "    return torch.norm(pred - target)/torch.norm(target)\n",
    "\n",
    "\n",
    "def jacobian_loss(pred, target, device='cpu'):\n",
    "    return L1_loss(jacobian(pred, device), jacobian(target, device))\n",
    "\n",
    "\n",
    "def curl_loss(pred, target, device):\n",
    "    return L1_loss(curl(pred, device), curl(target, device))\n",
    "\n",
    "\n",
    "L = nn.MSELoss()\n",
    "\n",
    "\n",
    "def p_loss(pred, target):\n",
    "    return L(pred[:, -target.shape[1]:], target)\n",
    "\n",
    "\n",
    "def loss(pred, target, device):\n",
    "    \n",
    "    if createStreamFcn:\n",
    "        pred = stream2uv(pred, device)\n",
    "        \n",
    "    L1 = L1_loss(pred, target)\n",
    "    Lj = 0\n",
    "    if doJacobian:\n",
    "        Lj = jacobian_loss(pred, target, device)\n",
    "        \n",
    "    return L1 + Lj"
   ]
  },
  {
   "cell_type": "code",
   "execution_count": 30,
   "metadata": {
    "ExecuteTime": {
     "end_time": "2020-11-07T02:34:29.192921Z",
     "start_time": "2020-11-07T02:34:29.179274Z"
    }
   },
   "outputs": [],
   "source": [
    "def trainEpoch(myDataLoader, tensorboard_writer, model, opt, p_loss, loss,\n",
    "               metric, lr_scheduler, tensorboard_rate, device,\n",
    "               tensorboard_recorder_step, total_steps):\n",
    "    running_loss = 0.0\n",
    "    running_rmse = 0.0\n",
    "    total_loss = 0.0\n",
    "    running_ploss = 0.0\n",
    "    for i, sampleBatch in enumerate(myDataLoader, start=1):\n",
    "\n",
    "        # --- Main Training ---\n",
    "        \n",
    "        # gpu\n",
    "        U_x, U_y, p_x, p_y = sampleBatch\n",
    "        U_x = U_x.to(device)\n",
    "        p_x = p_x.to(device)\n",
    "        U_y = U_y.to(device)\n",
    "        p_y = p_y.to(device)\n",
    "            \n",
    "\n",
    "        # zero the parameter gradients\n",
    "        opt.zero_grad()\n",
    "\n",
    "        U_hat = model(U_x, p_x, p_y)\n",
    "        pl = 0\n",
    "        ll = loss(U_hat, U_y, device)\n",
    "        combined_loss = pl + ll\n",
    "        combined_loss.backward()\n",
    "        opt.step()\n",
    "        \n",
    "        # loss\n",
    "        batch_loss = combined_loss.item()\n",
    "        running_loss += batch_loss\n",
    "        total_loss += batch_loss\n",
    "        \n",
    "        batch_ploss = pl\n",
    "        running_ploss += batch_ploss\n",
    "\n",
    "        # --- Metrics Recording ---\n",
    "\n",
    "        # metrics\n",
    "        r = metric(U_hat, U_y)\n",
    "        running_rmse += r\n",
    "\n",
    "        # record lr change\n",
    "        total_steps += 1\n",
    "        tensorboard_writer.add_scalar(tag=\"LR\", scalar_value=opt.param_groups[0]['lr'], global_step=total_steps)\n",
    "        #lr_scheduler.step()\n",
    "\n",
    "        # tensorboard writes\n",
    "        if (i % tensorboard_rate == 0):\n",
    "            tensorboard_recorder_step += 1\n",
    "            avg_running_loss = running_loss/tensorboard_rate\n",
    "            avg_running_rmse = running_rmse/tensorboard_rate\n",
    "            avg_running_ploss = running_ploss/tensorboard_rate\n",
    "            tensorboard_writer.add_scalar(tag=\"Loss\", scalar_value=avg_running_loss, global_step=tensorboard_recorder_step)\n",
    "            tensorboard_writer.add_scalar(tag=\"p_loss\", scalar_value=avg_running_ploss, global_step=tensorboard_recorder_step)\n",
    "            tensorboard_writer.add_scalar(tag=metric.__name__, scalar_value=avg_running_rmse, global_step=tensorboard_recorder_step)\n",
    "            # reset running_loss for the next set of batches. (tensorboard_rate number of batches)\n",
    "            running_loss = 0.0\n",
    "            running_rmse = 0.0\n",
    "            running_ploss = 0.0\n",
    "            tensorboard_writer.flush()\n",
    "\n",
    "    return total_loss/len(myDataLoader), tensorboard_recorder_step, total_steps"
   ]
  },
  {
   "cell_type": "code",
   "execution_count": 31,
   "metadata": {
    "ExecuteTime": {
     "end_time": "2020-11-07T02:34:29.205247Z",
     "start_time": "2020-11-07T02:34:29.194667Z"
    }
   },
   "outputs": [],
   "source": [
    "def validEpoch(myDataLoader, tensorboard_writer, model, p_loss, loss, metric,\n",
    "               device, tensorboard_recorder_step):\n",
    "    running_loss = 0.0\n",
    "    running_rmse = 0.0\n",
    "    for i, sampleBatch in enumerate(myDataLoader, start=1):\n",
    "\n",
    "        # --- Metrics Recording ---\n",
    "\n",
    "        # gpu\n",
    "        U_x, U_y, p_x, p_y = sampleBatch\n",
    "        U_x = U_x.to(device) # only squeeze away the window dimension (because batch size = 1)\n",
    "        p_x = p_x.to(device) # only squeeze away the window dimension (because batch size = 1)\n",
    "        U_y = U_y.to(device)\n",
    "        p_y = p_y.to(device)\n",
    "        \n",
    "        perc = len(U_x)/len(myDataLoader.dataset)\n",
    "\n",
    "        # forward, no gradient calculations\n",
    "        with torch.no_grad():\n",
    "            U_hat = model(U_x, p_x, p_y, window = window_size)\n",
    "\n",
    "        # loss\n",
    "        combined_loss = loss(U_hat, U_y, device)\n",
    "        \n",
    "        running_loss += perc*(combined_loss.item())\n",
    "\n",
    "        # metrics\n",
    "        r = metric(U_hat, U_y)\n",
    "        running_rmse += perc*r\n",
    "\n",
    "    avg_running_loss = running_loss\n",
    "    avg_running_rmse = running_rmse\n",
    "    tensorboard_writer.add_scalar(tag=\"Loss\", scalar_value=avg_running_loss, global_step=tensorboard_recorder_step)\n",
    "    tensorboard_writer.add_scalar(tag=metric.__name__, scalar_value=avg_running_rmse, global_step=tensorboard_recorder_step)\n",
    "    tensorboard_writer.flush()\n",
    "    \n",
    "    return running_loss"
   ]
  },
  {
   "cell_type": "code",
   "execution_count": 32,
   "metadata": {
    "ExecuteTime": {
     "end_time": "2020-11-07T02:34:31.512324Z",
     "start_time": "2020-11-07T02:34:29.206832Z"
    }
   },
   "outputs": [
    {
     "name": "stdout",
     "output_type": "stream",
     "text": [
      "checkpoints directory already exists :)\n"
     ]
    }
   ],
   "source": [
    "try:\n",
    "    os.mkdir(cps)\n",
    "except:\n",
    "    print(\"checkpoints directory already exists :)\")\n",
    "    \n",
    "# create a summary writer.\n",
    "train_writer = SummaryWriter(os.path.join(tensorboard_direc, versionName,'train'))\n",
    "test_writer = SummaryWriter(os.path.join(tensorboard_direc, versionName,'valid'))\n",
    "tensorboard_recorder_step = 0\n",
    "total_steps = 0"
   ]
  },
  {
   "cell_type": "code",
   "execution_count": 47,
   "metadata": {
    "ExecuteTime": {
     "end_time": "2020-11-08T19:44:58.330327Z",
     "start_time": "2020-11-08T19:37:23.327582Z"
    }
   },
   "outputs": [
    {
     "name": "stderr",
     "output_type": "stream",
     "text": [
      "\r",
      "  0%|          | 0/1000 [00:00<?, ?it/s]"
     ]
    },
    {
     "name": "stdout",
     "output_type": "stream",
     "text": [
      "---------- Started Training ----------\n",
      "--- Epoch 1/1000 ---\n",
      "trainLoss: 1.1807e-02\n",
      "LR: 1.0000e-07\n",
      "valLoss: 1.1804e-02\n",
      "Better valLoss: 1.1804e-02, Saving models...\n"
     ]
    },
    {
     "name": "stderr",
     "output_type": "stream",
     "text": [
      "\r",
      "  0%|          | 1/1000 [00:01<17:34,  1.06s/it]"
     ]
    },
    {
     "name": "stdout",
     "output_type": "stream",
     "text": [
      "--- Epoch 2/1000 ---\n",
      "trainLoss: 1.1803e-02\n",
      "LR: 1.0000e-07\n",
      "valLoss: 1.1800e-02\n",
      "Better valLoss: 1.1800e-02, Saving models...\n"
     ]
    },
    {
     "name": "stderr",
     "output_type": "stream",
     "text": [
      "\r",
      "  0%|          | 2/1000 [00:02<17:23,  1.05s/it]"
     ]
    },
    {
     "name": "stdout",
     "output_type": "stream",
     "text": [
      "--- Epoch 3/1000 ---\n",
      "trainLoss: 1.1799e-02\n",
      "LR: 1.0000e-07\n",
      "valLoss: 1.1796e-02\n",
      "Better valLoss: 1.1796e-02, Saving models...\n"
     ]
    },
    {
     "name": "stderr",
     "output_type": "stream",
     "text": [
      "\r",
      "  0%|          | 3/1000 [00:03<17:13,  1.04s/it]"
     ]
    },
    {
     "name": "stdout",
     "output_type": "stream",
     "text": [
      "--- Epoch 4/1000 ---\n",
      "trainLoss: 1.1794e-02\n",
      "LR: 1.0000e-07\n",
      "valLoss: 1.1791e-02\n",
      "Better valLoss: 1.1791e-02, Saving models...\n"
     ]
    },
    {
     "name": "stderr",
     "output_type": "stream",
     "text": [
      "\r",
      "  0%|          | 4/1000 [00:04<17:00,  1.02s/it]"
     ]
    },
    {
     "name": "stdout",
     "output_type": "stream",
     "text": [
      "--- Epoch 5/1000 ---\n",
      "trainLoss: 1.1790e-02\n",
      "LR: 1.0000e-07\n",
      "valLoss: 1.1787e-02\n",
      "Better valLoss: 1.1787e-02, Saving models...\n"
     ]
    },
    {
     "name": "stderr",
     "output_type": "stream",
     "text": [
      "\r",
      "  0%|          | 5/1000 [00:05<16:48,  1.01s/it]"
     ]
    },
    {
     "name": "stdout",
     "output_type": "stream",
     "text": [
      "--- Epoch 6/1000 ---\n",
      "trainLoss: 1.1786e-02\n",
      "LR: 1.0000e-07\n",
      "valLoss: 1.1783e-02\n",
      "Better valLoss: 1.1783e-02, Saving models...\n"
     ]
    },
    {
     "name": "stderr",
     "output_type": "stream",
     "text": [
      "\r",
      "  1%|          | 6/1000 [00:06<16:46,  1.01s/it]"
     ]
    },
    {
     "name": "stdout",
     "output_type": "stream",
     "text": [
      "--- Epoch 7/1000 ---\n",
      "trainLoss: 1.1782e-02\n",
      "LR: 1.0000e-07\n",
      "valLoss: 1.1779e-02\n",
      "Better valLoss: 1.1779e-02, Saving models...\n"
     ]
    },
    {
     "name": "stderr",
     "output_type": "stream",
     "text": [
      "\r",
      "  1%|          | 7/1000 [00:07<16:54,  1.02s/it]"
     ]
    },
    {
     "name": "stdout",
     "output_type": "stream",
     "text": [
      "--- Epoch 8/1000 ---\n",
      "trainLoss: 1.1778e-02\n",
      "LR: 1.0000e-07\n",
      "valLoss: 1.1775e-02\n",
      "Better valLoss: 1.1775e-02, Saving models...\n"
     ]
    },
    {
     "name": "stderr",
     "output_type": "stream",
     "text": [
      "\r",
      "  1%|          | 8/1000 [00:08<16:34,  1.00s/it]"
     ]
    },
    {
     "name": "stdout",
     "output_type": "stream",
     "text": [
      "--- Epoch 9/1000 ---\n",
      "trainLoss: 1.1774e-02\n",
      "LR: 1.0000e-07\n",
      "valLoss: 1.1771e-02\n",
      "Better valLoss: 1.1771e-02, Saving models...\n"
     ]
    },
    {
     "name": "stderr",
     "output_type": "stream",
     "text": [
      "\r",
      "  1%|          | 9/1000 [00:09<16:35,  1.00s/it]"
     ]
    },
    {
     "name": "stdout",
     "output_type": "stream",
     "text": [
      "--- Epoch 10/1000 ---\n",
      "trainLoss: 1.1769e-02\n",
      "LR: 1.0000e-07\n",
      "valLoss: 1.1766e-02\n",
      "Better valLoss: 1.1766e-02, Saving models...\n"
     ]
    },
    {
     "name": "stderr",
     "output_type": "stream",
     "text": [
      "\r",
      "  1%|          | 10/1000 [00:10<16:39,  1.01s/it]"
     ]
    },
    {
     "name": "stdout",
     "output_type": "stream",
     "text": [
      "--- Epoch 11/1000 ---\n",
      "trainLoss: 1.1765e-02\n",
      "LR: 1.0000e-07\n",
      "valLoss: 1.1762e-02\n",
      "Better valLoss: 1.1762e-02, Saving models...\n"
     ]
    },
    {
     "name": "stderr",
     "output_type": "stream",
     "text": [
      "\r",
      "  1%|          | 11/1000 [00:11<16:34,  1.01s/it]"
     ]
    },
    {
     "name": "stdout",
     "output_type": "stream",
     "text": [
      "--- Epoch 12/1000 ---\n",
      "trainLoss: 1.1761e-02\n",
      "LR: 1.0000e-07\n",
      "valLoss: 1.1758e-02\n",
      "Better valLoss: 1.1758e-02, Saving models...\n"
     ]
    },
    {
     "name": "stderr",
     "output_type": "stream",
     "text": [
      "\r",
      "  1%|          | 12/1000 [00:12<16:13,  1.02it/s]"
     ]
    },
    {
     "name": "stdout",
     "output_type": "stream",
     "text": [
      "--- Epoch 13/1000 ---\n",
      "trainLoss: 1.1757e-02\n",
      "LR: 1.0000e-07\n",
      "valLoss: 1.1754e-02\n",
      "Better valLoss: 1.1754e-02, Saving models...\n"
     ]
    },
    {
     "name": "stderr",
     "output_type": "stream",
     "text": [
      "\r",
      "  1%|▏         | 13/1000 [00:13<16:04,  1.02it/s]"
     ]
    },
    {
     "name": "stdout",
     "output_type": "stream",
     "text": [
      "--- Epoch 14/1000 ---\n",
      "trainLoss: 1.1753e-02\n",
      "LR: 1.0000e-07\n",
      "valLoss: 1.1750e-02\n",
      "Better valLoss: 1.1750e-02, Saving models...\n"
     ]
    },
    {
     "name": "stderr",
     "output_type": "stream",
     "text": [
      "\r",
      "  1%|▏         | 14/1000 [00:13<15:55,  1.03it/s]"
     ]
    },
    {
     "name": "stdout",
     "output_type": "stream",
     "text": [
      "--- Epoch 15/1000 ---\n",
      "trainLoss: 1.1749e-02\n",
      "LR: 1.0000e-07\n",
      "valLoss: 1.1745e-02\n",
      "Better valLoss: 1.1745e-02, Saving models...\n"
     ]
    },
    {
     "name": "stderr",
     "output_type": "stream",
     "text": [
      "\r",
      "  2%|▏         | 15/1000 [00:14<15:59,  1.03it/s]"
     ]
    },
    {
     "name": "stdout",
     "output_type": "stream",
     "text": [
      "--- Epoch 16/1000 ---\n",
      "trainLoss: 1.1744e-02\n",
      "LR: 1.0000e-07\n",
      "valLoss: 1.1741e-02\n",
      "Better valLoss: 1.1741e-02, Saving models...\n"
     ]
    },
    {
     "name": "stderr",
     "output_type": "stream",
     "text": [
      "\r",
      "  2%|▏         | 16/1000 [00:16<16:25,  1.00s/it]"
     ]
    },
    {
     "name": "stdout",
     "output_type": "stream",
     "text": [
      "--- Epoch 17/1000 ---\n",
      "trainLoss: 1.1740e-02\n",
      "LR: 1.0000e-07\n",
      "valLoss: 1.1737e-02\n",
      "Better valLoss: 1.1737e-02, Saving models...\n"
     ]
    },
    {
     "name": "stderr",
     "output_type": "stream",
     "text": [
      "\r",
      "  2%|▏         | 17/1000 [00:17<16:53,  1.03s/it]"
     ]
    },
    {
     "name": "stdout",
     "output_type": "stream",
     "text": [
      "--- Epoch 18/1000 ---\n",
      "trainLoss: 1.1736e-02\n",
      "LR: 1.0000e-07\n",
      "valLoss: 1.1733e-02\n",
      "Better valLoss: 1.1733e-02, Saving models...\n"
     ]
    },
    {
     "name": "stderr",
     "output_type": "stream",
     "text": [
      "\r",
      "  2%|▏         | 18/1000 [00:18<16:42,  1.02s/it]"
     ]
    },
    {
     "name": "stdout",
     "output_type": "stream",
     "text": [
      "--- Epoch 19/1000 ---\n",
      "trainLoss: 1.1732e-02\n",
      "LR: 1.0000e-07\n",
      "valLoss: 1.1729e-02\n",
      "Better valLoss: 1.1729e-02, Saving models...\n"
     ]
    },
    {
     "name": "stderr",
     "output_type": "stream",
     "text": [
      "\r",
      "  2%|▏         | 19/1000 [00:19<16:53,  1.03s/it]"
     ]
    },
    {
     "name": "stdout",
     "output_type": "stream",
     "text": [
      "--- Epoch 20/1000 ---\n",
      "trainLoss: 1.1728e-02\n",
      "LR: 1.0000e-07\n",
      "valLoss: 1.1725e-02\n",
      "Better valLoss: 1.1725e-02, Saving models...\n"
     ]
    },
    {
     "name": "stderr",
     "output_type": "stream",
     "text": [
      "\r",
      "  2%|▏         | 20/1000 [00:20<17:10,  1.05s/it]"
     ]
    },
    {
     "name": "stdout",
     "output_type": "stream",
     "text": [
      "--- Epoch 21/1000 ---\n",
      "trainLoss: 1.1724e-02\n",
      "LR: 1.0000e-07\n",
      "valLoss: 1.1720e-02\n",
      "Better valLoss: 1.1720e-02, Saving models...\n"
     ]
    },
    {
     "name": "stderr",
     "output_type": "stream",
     "text": [
      "\r",
      "  2%|▏         | 21/1000 [00:21<17:12,  1.05s/it]"
     ]
    },
    {
     "name": "stdout",
     "output_type": "stream",
     "text": [
      "--- Epoch 22/1000 ---\n",
      "trainLoss: 1.1719e-02\n",
      "LR: 1.0000e-07\n",
      "valLoss: 1.1716e-02\n",
      "Better valLoss: 1.1716e-02, Saving models...\n"
     ]
    },
    {
     "name": "stderr",
     "output_type": "stream",
     "text": [
      "\r",
      "  2%|▏         | 22/1000 [00:22<16:44,  1.03s/it]"
     ]
    },
    {
     "name": "stdout",
     "output_type": "stream",
     "text": [
      "--- Epoch 23/1000 ---\n",
      "trainLoss: 1.1715e-02\n",
      "LR: 1.0000e-07\n",
      "valLoss: 1.1712e-02\n",
      "Better valLoss: 1.1712e-02, Saving models...\n"
     ]
    },
    {
     "name": "stderr",
     "output_type": "stream",
     "text": [
      "\r",
      "  2%|▏         | 23/1000 [00:23<16:40,  1.02s/it]"
     ]
    },
    {
     "name": "stdout",
     "output_type": "stream",
     "text": [
      "--- Epoch 24/1000 ---\n",
      "trainLoss: 1.1711e-02\n",
      "LR: 1.0000e-07\n",
      "valLoss: 1.1708e-02\n",
      "Better valLoss: 1.1708e-02, Saving models...\n"
     ]
    },
    {
     "name": "stderr",
     "output_type": "stream",
     "text": [
      "\r",
      "  2%|▏         | 24/1000 [00:24<16:54,  1.04s/it]"
     ]
    },
    {
     "name": "stdout",
     "output_type": "stream",
     "text": [
      "--- Epoch 25/1000 ---\n",
      "trainLoss: 1.1707e-02\n",
      "LR: 1.0000e-07\n",
      "valLoss: 1.1704e-02\n",
      "Better valLoss: 1.1704e-02, Saving models...\n"
     ]
    },
    {
     "name": "stderr",
     "output_type": "stream",
     "text": [
      "\r",
      "  2%|▎         | 25/1000 [00:25<16:42,  1.03s/it]"
     ]
    },
    {
     "name": "stdout",
     "output_type": "stream",
     "text": [
      "--- Epoch 26/1000 ---\n",
      "trainLoss: 1.1703e-02\n",
      "LR: 1.0000e-07\n",
      "valLoss: 1.1700e-02\n",
      "Better valLoss: 1.1700e-02, Saving models...\n"
     ]
    },
    {
     "name": "stderr",
     "output_type": "stream",
     "text": [
      "\r",
      "  3%|▎         | 26/1000 [00:26<16:19,  1.01s/it]"
     ]
    },
    {
     "name": "stdout",
     "output_type": "stream",
     "text": [
      "--- Epoch 27/1000 ---\n",
      "trainLoss: 1.1699e-02\n",
      "LR: 1.0000e-07\n",
      "valLoss: 1.1695e-02\n",
      "Better valLoss: 1.1695e-02, Saving models...\n"
     ]
    },
    {
     "name": "stderr",
     "output_type": "stream",
     "text": [
      "\r",
      "  3%|▎         | 27/1000 [00:27<16:20,  1.01s/it]"
     ]
    },
    {
     "name": "stdout",
     "output_type": "stream",
     "text": [
      "--- Epoch 28/1000 ---\n",
      "trainLoss: 1.1694e-02\n",
      "LR: 1.0000e-07\n",
      "valLoss: 1.1691e-02\n",
      "Better valLoss: 1.1691e-02, Saving models...\n"
     ]
    },
    {
     "name": "stderr",
     "output_type": "stream",
     "text": [
      "\r",
      "  3%|▎         | 28/1000 [00:28<15:39,  1.03it/s]"
     ]
    },
    {
     "name": "stdout",
     "output_type": "stream",
     "text": [
      "--- Epoch 29/1000 ---\n",
      "trainLoss: 1.1690e-02\n",
      "LR: 1.0000e-07\n",
      "valLoss: 1.1687e-02\n",
      "Better valLoss: 1.1687e-02, Saving models...\n"
     ]
    },
    {
     "name": "stderr",
     "output_type": "stream",
     "text": [
      "\r",
      "  3%|▎         | 29/1000 [00:29<15:49,  1.02it/s]"
     ]
    },
    {
     "name": "stdout",
     "output_type": "stream",
     "text": [
      "--- Epoch 30/1000 ---\n",
      "trainLoss: 1.1686e-02\n",
      "LR: 1.0000e-07\n",
      "valLoss: 1.1683e-02\n",
      "Better valLoss: 1.1683e-02, Saving models...\n"
     ]
    },
    {
     "name": "stderr",
     "output_type": "stream",
     "text": [
      "\r",
      "  3%|▎         | 30/1000 [00:30<15:50,  1.02it/s]"
     ]
    },
    {
     "name": "stdout",
     "output_type": "stream",
     "text": [
      "--- Epoch 31/1000 ---\n",
      "trainLoss: 1.1682e-02\n",
      "LR: 1.0000e-07\n",
      "valLoss: 1.1679e-02\n",
      "Better valLoss: 1.1679e-02, Saving models...\n"
     ]
    },
    {
     "name": "stderr",
     "output_type": "stream",
     "text": [
      "\r",
      "  3%|▎         | 31/1000 [00:31<16:01,  1.01it/s]"
     ]
    },
    {
     "name": "stdout",
     "output_type": "stream",
     "text": [
      "--- Epoch 32/1000 ---\n",
      "trainLoss: 1.1678e-02\n",
      "LR: 1.0000e-07\n",
      "valLoss: 1.1674e-02\n",
      "Better valLoss: 1.1674e-02, Saving models...\n"
     ]
    },
    {
     "name": "stderr",
     "output_type": "stream",
     "text": [
      "\r",
      "  3%|▎         | 32/1000 [00:32<15:45,  1.02it/s]"
     ]
    },
    {
     "name": "stdout",
     "output_type": "stream",
     "text": [
      "--- Epoch 33/1000 ---\n",
      "trainLoss: 1.1673e-02\n",
      "LR: 1.0000e-07\n",
      "valLoss: 1.1670e-02\n",
      "Better valLoss: 1.1670e-02, Saving models...\n"
     ]
    },
    {
     "name": "stderr",
     "output_type": "stream",
     "text": [
      "\r",
      "  3%|▎         | 33/1000 [00:33<15:51,  1.02it/s]"
     ]
    },
    {
     "name": "stdout",
     "output_type": "stream",
     "text": [
      "--- Epoch 34/1000 ---\n",
      "trainLoss: 1.1669e-02\n",
      "LR: 1.0000e-07\n",
      "valLoss: 1.1666e-02\n",
      "Better valLoss: 1.1666e-02, Saving models...\n"
     ]
    },
    {
     "name": "stderr",
     "output_type": "stream",
     "text": [
      "\r",
      "  3%|▎         | 34/1000 [00:34<16:20,  1.01s/it]"
     ]
    },
    {
     "name": "stdout",
     "output_type": "stream",
     "text": [
      "--- Epoch 35/1000 ---\n",
      "trainLoss: 1.1665e-02\n",
      "LR: 1.0000e-07\n",
      "valLoss: 1.1662e-02\n",
      "Better valLoss: 1.1662e-02, Saving models...\n"
     ]
    },
    {
     "name": "stderr",
     "output_type": "stream",
     "text": [
      "\r",
      "  4%|▎         | 35/1000 [00:35<16:07,  1.00s/it]"
     ]
    },
    {
     "name": "stdout",
     "output_type": "stream",
     "text": [
      "--- Epoch 36/1000 ---\n",
      "trainLoss: 1.1661e-02\n",
      "LR: 1.0000e-07\n",
      "valLoss: 1.1658e-02\n",
      "Better valLoss: 1.1658e-02, Saving models...\n"
     ]
    },
    {
     "name": "stderr",
     "output_type": "stream",
     "text": [
      "\r",
      "  4%|▎         | 36/1000 [00:36<16:22,  1.02s/it]"
     ]
    },
    {
     "name": "stdout",
     "output_type": "stream",
     "text": [
      "--- Epoch 37/1000 ---\n",
      "trainLoss: 1.1657e-02\n",
      "LR: 1.0000e-07\n",
      "valLoss: 1.1653e-02\n",
      "Better valLoss: 1.1653e-02, Saving models...\n"
     ]
    },
    {
     "name": "stderr",
     "output_type": "stream",
     "text": [
      "\r",
      "  4%|▎         | 37/1000 [00:37<16:35,  1.03s/it]"
     ]
    },
    {
     "name": "stdout",
     "output_type": "stream",
     "text": [
      "--- Epoch 38/1000 ---\n",
      "trainLoss: 1.1652e-02\n",
      "LR: 1.0000e-07\n",
      "valLoss: 1.1649e-02\n",
      "Better valLoss: 1.1649e-02, Saving models...\n"
     ]
    },
    {
     "name": "stderr",
     "output_type": "stream",
     "text": [
      "\r",
      "  4%|▍         | 38/1000 [00:38<16:09,  1.01s/it]"
     ]
    },
    {
     "name": "stdout",
     "output_type": "stream",
     "text": [
      "--- Epoch 39/1000 ---\n",
      "trainLoss: 1.1648e-02\n",
      "LR: 1.0000e-07\n",
      "valLoss: 1.1645e-02\n",
      "Better valLoss: 1.1645e-02, Saving models...\n"
     ]
    },
    {
     "name": "stderr",
     "output_type": "stream",
     "text": [
      "\r",
      "  4%|▍         | 39/1000 [00:39<16:17,  1.02s/it]"
     ]
    },
    {
     "name": "stdout",
     "output_type": "stream",
     "text": [
      "--- Epoch 40/1000 ---\n",
      "trainLoss: 1.1644e-02\n",
      "LR: 1.0000e-07\n",
      "valLoss: 1.1641e-02\n",
      "Better valLoss: 1.1641e-02, Saving models...\n"
     ]
    },
    {
     "name": "stderr",
     "output_type": "stream",
     "text": [
      "\r",
      "  4%|▍         | 40/1000 [00:40<16:27,  1.03s/it]"
     ]
    },
    {
     "name": "stdout",
     "output_type": "stream",
     "text": [
      "--- Epoch 41/1000 ---\n",
      "trainLoss: 1.1640e-02\n",
      "LR: 1.0000e-07\n",
      "valLoss: 1.1637e-02\n",
      "Better valLoss: 1.1637e-02, Saving models...\n"
     ]
    },
    {
     "name": "stderr",
     "output_type": "stream",
     "text": [
      "\r",
      "  4%|▍         | 41/1000 [00:41<16:33,  1.04s/it]"
     ]
    },
    {
     "name": "stdout",
     "output_type": "stream",
     "text": [
      "--- Epoch 42/1000 ---\n",
      "trainLoss: 1.1636e-02\n",
      "LR: 1.0000e-07\n",
      "valLoss: 1.1632e-02\n",
      "Better valLoss: 1.1632e-02, Saving models...\n"
     ]
    },
    {
     "name": "stderr",
     "output_type": "stream",
     "text": [
      "\r",
      "  4%|▍         | 42/1000 [00:42<16:19,  1.02s/it]"
     ]
    },
    {
     "name": "stdout",
     "output_type": "stream",
     "text": [
      "--- Epoch 43/1000 ---\n",
      "trainLoss: 1.1631e-02\n",
      "LR: 1.0000e-07\n",
      "valLoss: 1.1628e-02\n",
      "Better valLoss: 1.1628e-02, Saving models...\n"
     ]
    },
    {
     "name": "stderr",
     "output_type": "stream",
     "text": [
      "\r",
      "  4%|▍         | 43/1000 [00:43<16:10,  1.01s/it]"
     ]
    },
    {
     "name": "stdout",
     "output_type": "stream",
     "text": [
      "--- Epoch 44/1000 ---\n",
      "trainLoss: 1.1627e-02\n",
      "LR: 1.0000e-07\n",
      "valLoss: 1.1624e-02\n",
      "Better valLoss: 1.1624e-02, Saving models...\n"
     ]
    },
    {
     "name": "stderr",
     "output_type": "stream",
     "text": [
      "\r",
      "  4%|▍         | 44/1000 [00:44<16:09,  1.01s/it]"
     ]
    },
    {
     "name": "stdout",
     "output_type": "stream",
     "text": [
      "--- Epoch 45/1000 ---\n",
      "trainLoss: 1.1623e-02\n",
      "LR: 1.0000e-07\n",
      "valLoss: 1.1620e-02\n",
      "Better valLoss: 1.1620e-02, Saving models...\n"
     ]
    },
    {
     "name": "stderr",
     "output_type": "stream",
     "text": [
      "\r",
      "  4%|▍         | 45/1000 [00:45<15:54,  1.00it/s]"
     ]
    },
    {
     "name": "stdout",
     "output_type": "stream",
     "text": [
      "--- Epoch 46/1000 ---\n",
      "trainLoss: 1.1619e-02\n",
      "LR: 1.0000e-07\n",
      "valLoss: 1.1616e-02\n",
      "Better valLoss: 1.1616e-02, Saving models...\n"
     ]
    },
    {
     "name": "stderr",
     "output_type": "stream",
     "text": [
      "\r",
      "  5%|▍         | 46/1000 [00:46<16:14,  1.02s/it]"
     ]
    },
    {
     "name": "stdout",
     "output_type": "stream",
     "text": [
      "--- Epoch 47/1000 ---\n",
      "trainLoss: 1.1615e-02\n",
      "LR: 1.0000e-07\n",
      "valLoss: 1.1611e-02\n",
      "Better valLoss: 1.1611e-02, Saving models...\n"
     ]
    },
    {
     "name": "stderr",
     "output_type": "stream",
     "text": [
      "\r",
      "  5%|▍         | 47/1000 [00:47<16:01,  1.01s/it]"
     ]
    },
    {
     "name": "stdout",
     "output_type": "stream",
     "text": [
      "--- Epoch 48/1000 ---\n",
      "trainLoss: 1.1610e-02\n",
      "LR: 1.0000e-07\n",
      "valLoss: 1.1607e-02\n",
      "Better valLoss: 1.1607e-02, Saving models...\n"
     ]
    },
    {
     "name": "stderr",
     "output_type": "stream",
     "text": [
      "\r",
      "  5%|▍         | 48/1000 [00:48<15:50,  1.00it/s]"
     ]
    },
    {
     "name": "stdout",
     "output_type": "stream",
     "text": [
      "--- Epoch 49/1000 ---\n",
      "trainLoss: 1.1606e-02\n",
      "LR: 1.0000e-07\n",
      "valLoss: 1.1603e-02\n",
      "Better valLoss: 1.1603e-02, Saving models...\n"
     ]
    },
    {
     "name": "stderr",
     "output_type": "stream",
     "text": [
      "\r",
      "  5%|▍         | 49/1000 [00:49<15:54,  1.00s/it]"
     ]
    },
    {
     "name": "stdout",
     "output_type": "stream",
     "text": [
      "--- Epoch 50/1000 ---\n",
      "trainLoss: 1.1602e-02\n",
      "LR: 1.0000e-07\n",
      "valLoss: 1.1599e-02\n",
      "Better valLoss: 1.1599e-02, Saving models...\n"
     ]
    },
    {
     "name": "stderr",
     "output_type": "stream",
     "text": [
      "\r",
      "  5%|▌         | 50/1000 [00:50<15:56,  1.01s/it]"
     ]
    },
    {
     "name": "stdout",
     "output_type": "stream",
     "text": [
      "--- Epoch 51/1000 ---\n",
      "trainLoss: 1.1598e-02\n",
      "LR: 1.0000e-07\n",
      "valLoss: 1.1595e-02\n",
      "Better valLoss: 1.1595e-02, Saving models...\n"
     ]
    },
    {
     "name": "stderr",
     "output_type": "stream",
     "text": [
      "\r",
      "  5%|▌         | 51/1000 [00:51<15:55,  1.01s/it]"
     ]
    },
    {
     "name": "stdout",
     "output_type": "stream",
     "text": [
      "--- Epoch 52/1000 ---\n",
      "trainLoss: 1.1594e-02\n",
      "LR: 1.0000e-07\n",
      "valLoss: 1.1590e-02\n",
      "Better valLoss: 1.1590e-02, Saving models...\n"
     ]
    },
    {
     "name": "stderr",
     "output_type": "stream",
     "text": [
      "\r",
      "  5%|▌         | 52/1000 [00:52<15:46,  1.00it/s]"
     ]
    },
    {
     "name": "stdout",
     "output_type": "stream",
     "text": [
      "--- Epoch 53/1000 ---\n",
      "trainLoss: 1.1589e-02\n",
      "LR: 1.0000e-07\n",
      "valLoss: 1.1586e-02\n",
      "Better valLoss: 1.1586e-02, Saving models...\n"
     ]
    },
    {
     "name": "stderr",
     "output_type": "stream",
     "text": [
      "\r",
      "  5%|▌         | 53/1000 [00:53<15:47,  1.00s/it]"
     ]
    },
    {
     "name": "stdout",
     "output_type": "stream",
     "text": [
      "--- Epoch 54/1000 ---\n",
      "trainLoss: 1.1585e-02\n",
      "LR: 1.0000e-07\n",
      "valLoss: 1.1582e-02\n",
      "Better valLoss: 1.1582e-02, Saving models...\n"
     ]
    },
    {
     "name": "stderr",
     "output_type": "stream",
     "text": [
      "\r",
      "  5%|▌         | 54/1000 [00:54<16:02,  1.02s/it]"
     ]
    },
    {
     "name": "stdout",
     "output_type": "stream",
     "text": [
      "--- Epoch 55/1000 ---\n",
      "trainLoss: 1.1581e-02\n",
      "LR: 1.0000e-07\n",
      "valLoss: 1.1578e-02\n",
      "Better valLoss: 1.1578e-02, Saving models...\n"
     ]
    },
    {
     "name": "stderr",
     "output_type": "stream",
     "text": [
      "\r",
      "  6%|▌         | 55/1000 [00:55<15:40,  1.00it/s]"
     ]
    },
    {
     "name": "stdout",
     "output_type": "stream",
     "text": [
      "--- Epoch 56/1000 ---\n",
      "trainLoss: 1.1577e-02\n",
      "LR: 1.0000e-07\n",
      "valLoss: 1.1574e-02\n",
      "Better valLoss: 1.1574e-02, Saving models...\n"
     ]
    },
    {
     "name": "stderr",
     "output_type": "stream",
     "text": [
      "\r",
      "  6%|▌         | 56/1000 [00:56<15:53,  1.01s/it]"
     ]
    },
    {
     "name": "stdout",
     "output_type": "stream",
     "text": [
      "--- Epoch 57/1000 ---\n",
      "trainLoss: 1.1573e-02\n",
      "LR: 1.0000e-07\n",
      "valLoss: 1.1569e-02\n",
      "Better valLoss: 1.1569e-02, Saving models...\n"
     ]
    },
    {
     "name": "stderr",
     "output_type": "stream",
     "text": [
      "\r",
      "  6%|▌         | 57/1000 [00:57<15:40,  1.00it/s]"
     ]
    },
    {
     "name": "stdout",
     "output_type": "stream",
     "text": [
      "--- Epoch 58/1000 ---\n",
      "trainLoss: 1.1568e-02\n",
      "LR: 1.0000e-07\n",
      "valLoss: 1.1565e-02\n",
      "Better valLoss: 1.1565e-02, Saving models...\n"
     ]
    },
    {
     "name": "stderr",
     "output_type": "stream",
     "text": [
      "\r",
      "  6%|▌         | 58/1000 [00:58<15:24,  1.02it/s]"
     ]
    },
    {
     "name": "stdout",
     "output_type": "stream",
     "text": [
      "--- Epoch 59/1000 ---\n",
      "trainLoss: 1.1564e-02\n",
      "LR: 1.0000e-07\n",
      "valLoss: 1.1561e-02\n",
      "Better valLoss: 1.1561e-02, Saving models...\n"
     ]
    },
    {
     "name": "stderr",
     "output_type": "stream",
     "text": [
      "\r",
      "  6%|▌         | 59/1000 [00:59<15:26,  1.02it/s]"
     ]
    },
    {
     "name": "stdout",
     "output_type": "stream",
     "text": [
      "--- Epoch 60/1000 ---\n",
      "trainLoss: 1.1560e-02\n",
      "LR: 1.0000e-07\n",
      "valLoss: 1.1557e-02\n",
      "Better valLoss: 1.1557e-02, Saving models...\n"
     ]
    },
    {
     "name": "stderr",
     "output_type": "stream",
     "text": [
      "\r",
      "  6%|▌         | 60/1000 [01:00<15:47,  1.01s/it]"
     ]
    },
    {
     "name": "stdout",
     "output_type": "stream",
     "text": [
      "--- Epoch 61/1000 ---\n",
      "trainLoss: 1.1556e-02\n",
      "LR: 1.0000e-07\n",
      "valLoss: 1.1553e-02\n",
      "Better valLoss: 1.1553e-02, Saving models...\n"
     ]
    },
    {
     "name": "stderr",
     "output_type": "stream",
     "text": [
      "\r",
      "  6%|▌         | 61/1000 [01:01<15:32,  1.01it/s]"
     ]
    },
    {
     "name": "stdout",
     "output_type": "stream",
     "text": [
      "--- Epoch 62/1000 ---\n",
      "trainLoss: 1.1551e-02\n",
      "LR: 1.0000e-07\n",
      "valLoss: 1.1548e-02\n",
      "Better valLoss: 1.1548e-02, Saving models...\n"
     ]
    },
    {
     "name": "stderr",
     "output_type": "stream",
     "text": [
      "\r",
      "  6%|▌         | 62/1000 [01:02<15:05,  1.04it/s]"
     ]
    },
    {
     "name": "stdout",
     "output_type": "stream",
     "text": [
      "--- Epoch 63/1000 ---\n",
      "trainLoss: 1.1547e-02\n",
      "LR: 1.0000e-07\n",
      "valLoss: 1.1544e-02\n",
      "Better valLoss: 1.1544e-02, Saving models...\n"
     ]
    },
    {
     "name": "stderr",
     "output_type": "stream",
     "text": [
      "\r",
      "  6%|▋         | 63/1000 [01:03<15:08,  1.03it/s]"
     ]
    },
    {
     "name": "stdout",
     "output_type": "stream",
     "text": [
      "--- Epoch 64/1000 ---\n",
      "trainLoss: 1.1543e-02\n",
      "LR: 1.0000e-07\n",
      "valLoss: 1.1540e-02\n",
      "Better valLoss: 1.1540e-02, Saving models...\n"
     ]
    },
    {
     "name": "stderr",
     "output_type": "stream",
     "text": [
      "\r",
      "  6%|▋         | 64/1000 [01:04<15:25,  1.01it/s]"
     ]
    },
    {
     "name": "stdout",
     "output_type": "stream",
     "text": [
      "--- Epoch 65/1000 ---\n",
      "trainLoss: 1.1539e-02\n",
      "LR: 1.0000e-07\n"
     ]
    },
    {
     "name": "stderr",
     "output_type": "stream",
     "text": [
      "\r",
      "  6%|▋         | 65/1000 [01:05<15:01,  1.04it/s]"
     ]
    },
    {
     "name": "stdout",
     "output_type": "stream",
     "text": [
      "valLoss: 1.1536e-02\n",
      "Better valLoss: 1.1536e-02, Saving models...\n",
      "--- Epoch 66/1000 ---\n",
      "trainLoss: 1.1535e-02\n",
      "LR: 1.0000e-07\n",
      "valLoss: 1.1531e-02\n",
      "Better valLoss: 1.1531e-02, Saving models...\n"
     ]
    },
    {
     "name": "stderr",
     "output_type": "stream",
     "text": [
      "\r",
      "  7%|▋         | 66/1000 [01:06<15:04,  1.03it/s]"
     ]
    },
    {
     "name": "stdout",
     "output_type": "stream",
     "text": [
      "--- Epoch 67/1000 ---\n",
      "trainLoss: 1.1530e-02\n",
      "LR: 1.0000e-07\n",
      "valLoss: 1.1527e-02\n",
      "Better valLoss: 1.1527e-02, Saving models...\n"
     ]
    },
    {
     "name": "stderr",
     "output_type": "stream",
     "text": [
      "\r",
      "  7%|▋         | 67/1000 [01:07<15:30,  1.00it/s]"
     ]
    },
    {
     "name": "stdout",
     "output_type": "stream",
     "text": [
      "--- Epoch 68/1000 ---\n",
      "trainLoss: 1.1526e-02\n",
      "LR: 1.0000e-07\n",
      "valLoss: 1.1523e-02\n",
      "Better valLoss: 1.1523e-02, Saving models...\n"
     ]
    },
    {
     "name": "stderr",
     "output_type": "stream",
     "text": [
      "\r",
      "  7%|▋         | 68/1000 [01:08<15:27,  1.01it/s]"
     ]
    },
    {
     "name": "stdout",
     "output_type": "stream",
     "text": [
      "--- Epoch 69/1000 ---\n",
      "trainLoss: 1.1522e-02\n",
      "LR: 1.0000e-07\n",
      "valLoss: 1.1519e-02\n",
      "Better valLoss: 1.1519e-02, Saving models...\n"
     ]
    },
    {
     "name": "stderr",
     "output_type": "stream",
     "text": [
      "\r",
      "  7%|▋         | 69/1000 [01:09<15:35,  1.00s/it]"
     ]
    },
    {
     "name": "stdout",
     "output_type": "stream",
     "text": [
      "--- Epoch 70/1000 ---\n",
      "trainLoss: 1.1518e-02\n",
      "LR: 1.0000e-07\n",
      "valLoss: 1.1515e-02\n",
      "Better valLoss: 1.1515e-02, Saving models...\n"
     ]
    },
    {
     "name": "stderr",
     "output_type": "stream",
     "text": [
      "\r",
      "  7%|▋         | 70/1000 [01:10<15:44,  1.02s/it]"
     ]
    },
    {
     "name": "stdout",
     "output_type": "stream",
     "text": [
      "--- Epoch 71/1000 ---\n",
      "trainLoss: 1.1513e-02\n",
      "LR: 1.0000e-07\n",
      "valLoss: 1.1510e-02\n",
      "Better valLoss: 1.1510e-02, Saving models...\n"
     ]
    },
    {
     "name": "stderr",
     "output_type": "stream",
     "text": [
      "\r",
      "  7%|▋         | 71/1000 [01:11<15:34,  1.01s/it]"
     ]
    },
    {
     "name": "stdout",
     "output_type": "stream",
     "text": [
      "--- Epoch 72/1000 ---\n",
      "trainLoss: 1.1509e-02\n",
      "LR: 1.0000e-07\n",
      "valLoss: 1.1506e-02\n",
      "Better valLoss: 1.1506e-02, Saving models...\n"
     ]
    },
    {
     "name": "stderr",
     "output_type": "stream",
     "text": [
      "\r",
      "  7%|▋         | 72/1000 [01:12<15:31,  1.00s/it]"
     ]
    },
    {
     "name": "stdout",
     "output_type": "stream",
     "text": [
      "--- Epoch 73/1000 ---\n",
      "trainLoss: 1.1505e-02\n",
      "LR: 1.0000e-07\n",
      "valLoss: 1.1502e-02\n",
      "Better valLoss: 1.1502e-02, Saving models...\n"
     ]
    },
    {
     "name": "stderr",
     "output_type": "stream",
     "text": [
      "\r",
      "  7%|▋         | 73/1000 [01:13<15:16,  1.01it/s]"
     ]
    },
    {
     "name": "stdout",
     "output_type": "stream",
     "text": [
      "--- Epoch 74/1000 ---\n",
      "trainLoss: 1.1501e-02\n",
      "LR: 1.0000e-07\n",
      "valLoss: 1.1498e-02\n",
      "Better valLoss: 1.1498e-02, Saving models...\n"
     ]
    },
    {
     "name": "stderr",
     "output_type": "stream",
     "text": [
      "\r",
      "  7%|▋         | 74/1000 [01:14<15:17,  1.01it/s]"
     ]
    },
    {
     "name": "stdout",
     "output_type": "stream",
     "text": [
      "--- Epoch 75/1000 ---\n",
      "trainLoss: 1.1497e-02\n",
      "LR: 1.0000e-07\n",
      "valLoss: 1.1493e-02\n",
      "Better valLoss: 1.1493e-02, Saving models...\n"
     ]
    },
    {
     "name": "stderr",
     "output_type": "stream",
     "text": [
      "\r",
      "  8%|▊         | 75/1000 [01:15<15:20,  1.01it/s]"
     ]
    },
    {
     "name": "stdout",
     "output_type": "stream",
     "text": [
      "--- Epoch 76/1000 ---\n",
      "trainLoss: 1.1492e-02\n",
      "LR: 1.0000e-07\n",
      "valLoss: 1.1489e-02\n",
      "Better valLoss: 1.1489e-02, Saving models...\n"
     ]
    },
    {
     "name": "stderr",
     "output_type": "stream",
     "text": [
      "\r",
      "  8%|▊         | 76/1000 [01:16<15:11,  1.01it/s]"
     ]
    },
    {
     "name": "stdout",
     "output_type": "stream",
     "text": [
      "--- Epoch 77/1000 ---\n",
      "trainLoss: 1.1488e-02\n",
      "LR: 1.0000e-07\n",
      "valLoss: 1.1485e-02\n",
      "Better valLoss: 1.1485e-02, Saving models...\n"
     ]
    },
    {
     "name": "stderr",
     "output_type": "stream",
     "text": [
      "\r",
      "  8%|▊         | 77/1000 [01:17<15:14,  1.01it/s]"
     ]
    },
    {
     "name": "stdout",
     "output_type": "stream",
     "text": [
      "--- Epoch 78/1000 ---\n",
      "trainLoss: 1.1484e-02\n",
      "LR: 1.0000e-07\n",
      "valLoss: 1.1481e-02\n",
      "Better valLoss: 1.1481e-02, Saving models...\n"
     ]
    },
    {
     "name": "stderr",
     "output_type": "stream",
     "text": [
      "\r",
      "  8%|▊         | 78/1000 [01:18<14:53,  1.03it/s]"
     ]
    },
    {
     "name": "stdout",
     "output_type": "stream",
     "text": [
      "--- Epoch 79/1000 ---\n",
      "trainLoss: 1.1480e-02\n",
      "LR: 1.0000e-07\n",
      "valLoss: 1.1477e-02\n",
      "Better valLoss: 1.1477e-02, Saving models...\n"
     ]
    },
    {
     "name": "stderr",
     "output_type": "stream",
     "text": [
      "\r",
      "  8%|▊         | 79/1000 [01:19<15:03,  1.02it/s]"
     ]
    },
    {
     "name": "stdout",
     "output_type": "stream",
     "text": [
      "--- Epoch 80/1000 ---\n",
      "trainLoss: 1.1476e-02\n",
      "LR: 1.0000e-07\n",
      "valLoss: 1.1472e-02\n",
      "Better valLoss: 1.1472e-02, Saving models...\n"
     ]
    },
    {
     "name": "stderr",
     "output_type": "stream",
     "text": [
      "\r",
      "  8%|▊         | 80/1000 [01:20<15:22,  1.00s/it]"
     ]
    },
    {
     "name": "stdout",
     "output_type": "stream",
     "text": [
      "--- Epoch 81/1000 ---\n",
      "trainLoss: 1.1471e-02\n",
      "LR: 1.0000e-07\n",
      "valLoss: 1.1468e-02\n",
      "Better valLoss: 1.1468e-02, Saving models...\n"
     ]
    },
    {
     "name": "stderr",
     "output_type": "stream",
     "text": [
      "\r",
      "  8%|▊         | 81/1000 [01:21<15:22,  1.00s/it]"
     ]
    },
    {
     "name": "stdout",
     "output_type": "stream",
     "text": [
      "--- Epoch 82/1000 ---\n",
      "trainLoss: 1.1467e-02\n",
      "LR: 1.0000e-07\n",
      "valLoss: 1.1464e-02\n",
      "Better valLoss: 1.1464e-02, Saving models...\n"
     ]
    },
    {
     "name": "stderr",
     "output_type": "stream",
     "text": [
      "\r",
      "  8%|▊         | 82/1000 [01:22<15:07,  1.01it/s]"
     ]
    },
    {
     "name": "stdout",
     "output_type": "stream",
     "text": [
      "--- Epoch 83/1000 ---\n",
      "trainLoss: 1.1463e-02\n",
      "LR: 1.0000e-07\n",
      "valLoss: 1.1460e-02\n",
      "Better valLoss: 1.1460e-02, Saving models...\n"
     ]
    },
    {
     "name": "stderr",
     "output_type": "stream",
     "text": [
      "\r",
      "  8%|▊         | 83/1000 [01:23<15:07,  1.01it/s]"
     ]
    },
    {
     "name": "stdout",
     "output_type": "stream",
     "text": [
      "--- Epoch 84/1000 ---\n",
      "trainLoss: 1.1459e-02\n",
      "LR: 1.0000e-07\n",
      "valLoss: 1.1456e-02\n",
      "Better valLoss: 1.1456e-02, Saving models...\n"
     ]
    },
    {
     "name": "stderr",
     "output_type": "stream",
     "text": [
      "\r",
      "  8%|▊         | 84/1000 [01:24<15:10,  1.01it/s]"
     ]
    },
    {
     "name": "stdout",
     "output_type": "stream",
     "text": [
      "--- Epoch 85/1000 ---\n",
      "trainLoss: 1.1455e-02\n",
      "LR: 1.0000e-07\n",
      "valLoss: 1.1451e-02\n",
      "Better valLoss: 1.1451e-02, Saving models...\n"
     ]
    },
    {
     "name": "stderr",
     "output_type": "stream",
     "text": [
      "\r",
      "  8%|▊         | 85/1000 [01:25<14:54,  1.02it/s]"
     ]
    },
    {
     "name": "stdout",
     "output_type": "stream",
     "text": [
      "--- Epoch 86/1000 ---\n",
      "trainLoss: 1.1450e-02\n",
      "LR: 1.0000e-07\n",
      "valLoss: 1.1447e-02\n",
      "Better valLoss: 1.1447e-02, Saving models...\n"
     ]
    },
    {
     "name": "stderr",
     "output_type": "stream",
     "text": [
      "\r",
      "  9%|▊         | 86/1000 [01:26<15:09,  1.00it/s]"
     ]
    },
    {
     "name": "stdout",
     "output_type": "stream",
     "text": [
      "--- Epoch 87/1000 ---\n",
      "trainLoss: 1.1446e-02\n",
      "LR: 1.0000e-07\n",
      "valLoss: 1.1443e-02\n",
      "Better valLoss: 1.1443e-02, Saving models...\n"
     ]
    },
    {
     "name": "stderr",
     "output_type": "stream",
     "text": [
      "\r",
      "  9%|▊         | 87/1000 [01:27<14:48,  1.03it/s]"
     ]
    },
    {
     "name": "stdout",
     "output_type": "stream",
     "text": [
      "--- Epoch 88/1000 ---\n",
      "trainLoss: 1.1442e-02\n",
      "LR: 1.0000e-07\n",
      "valLoss: 1.1439e-02\n",
      "Better valLoss: 1.1439e-02, Saving models...\n"
     ]
    },
    {
     "name": "stderr",
     "output_type": "stream",
     "text": [
      "\r",
      "  9%|▉         | 88/1000 [01:28<14:40,  1.04it/s]"
     ]
    },
    {
     "name": "stdout",
     "output_type": "stream",
     "text": [
      "--- Epoch 89/1000 ---\n",
      "trainLoss: 1.1438e-02\n",
      "LR: 1.0000e-07\n",
      "valLoss: 1.1435e-02\n",
      "Better valLoss: 1.1435e-02, Saving models...\n"
     ]
    },
    {
     "name": "stderr",
     "output_type": "stream",
     "text": [
      "\r",
      "  9%|▉         | 89/1000 [01:29<15:03,  1.01it/s]"
     ]
    },
    {
     "name": "stdout",
     "output_type": "stream",
     "text": [
      "--- Epoch 90/1000 ---\n",
      "trainLoss: 1.1434e-02\n",
      "LR: 1.0000e-07\n",
      "valLoss: 1.1430e-02\n",
      "Better valLoss: 1.1430e-02, Saving models...\n"
     ]
    },
    {
     "name": "stderr",
     "output_type": "stream",
     "text": [
      "\r",
      "  9%|▉         | 90/1000 [01:30<15:18,  1.01s/it]"
     ]
    },
    {
     "name": "stdout",
     "output_type": "stream",
     "text": [
      "--- Epoch 91/1000 ---\n",
      "trainLoss: 1.1429e-02\n",
      "LR: 1.0000e-07\n",
      "valLoss: 1.1426e-02\n",
      "Better valLoss: 1.1426e-02, Saving models...\n"
     ]
    },
    {
     "name": "stderr",
     "output_type": "stream",
     "text": [
      "\r",
      "  9%|▉         | 91/1000 [01:31<15:30,  1.02s/it]"
     ]
    },
    {
     "name": "stdout",
     "output_type": "stream",
     "text": [
      "--- Epoch 92/1000 ---\n",
      "trainLoss: 1.1425e-02\n",
      "LR: 1.0000e-07\n",
      "valLoss: 1.1422e-02\n",
      "Better valLoss: 1.1422e-02, Saving models...\n"
     ]
    },
    {
     "name": "stderr",
     "output_type": "stream",
     "text": [
      "\r",
      "  9%|▉         | 92/1000 [01:32<15:35,  1.03s/it]"
     ]
    },
    {
     "name": "stdout",
     "output_type": "stream",
     "text": [
      "--- Epoch 93/1000 ---\n",
      "trainLoss: 1.1421e-02\n",
      "LR: 1.0000e-07\n",
      "valLoss: 1.1418e-02\n",
      "Better valLoss: 1.1418e-02, Saving models...\n"
     ]
    },
    {
     "name": "stderr",
     "output_type": "stream",
     "text": [
      "\r",
      "  9%|▉         | 93/1000 [01:33<15:29,  1.02s/it]"
     ]
    },
    {
     "name": "stdout",
     "output_type": "stream",
     "text": [
      "--- Epoch 94/1000 ---\n",
      "trainLoss: 1.1417e-02\n",
      "LR: 1.0000e-07\n",
      "valLoss: 1.1414e-02\n",
      "Better valLoss: 1.1414e-02, Saving models...\n"
     ]
    },
    {
     "name": "stderr",
     "output_type": "stream",
     "text": [
      "\r",
      "  9%|▉         | 94/1000 [01:34<15:22,  1.02s/it]"
     ]
    },
    {
     "name": "stdout",
     "output_type": "stream",
     "text": [
      "--- Epoch 95/1000 ---\n",
      "trainLoss: 1.1413e-02\n",
      "LR: 1.0000e-07\n",
      "valLoss: 1.1409e-02\n",
      "Better valLoss: 1.1409e-02, Saving models...\n"
     ]
    },
    {
     "name": "stderr",
     "output_type": "stream",
     "text": [
      "\r",
      " 10%|▉         | 95/1000 [01:35<15:03,  1.00it/s]"
     ]
    },
    {
     "name": "stdout",
     "output_type": "stream",
     "text": [
      "--- Epoch 96/1000 ---\n",
      "trainLoss: 1.1408e-02\n",
      "LR: 1.0000e-07\n",
      "valLoss: 1.1405e-02\n",
      "Better valLoss: 1.1405e-02, Saving models...\n"
     ]
    },
    {
     "name": "stderr",
     "output_type": "stream",
     "text": [
      "\r",
      " 10%|▉         | 96/1000 [01:36<14:59,  1.00it/s]"
     ]
    },
    {
     "name": "stdout",
     "output_type": "stream",
     "text": [
      "--- Epoch 97/1000 ---\n",
      "trainLoss: 1.1404e-02\n",
      "LR: 1.0000e-07\n",
      "valLoss: 1.1401e-02\n",
      "Better valLoss: 1.1401e-02, Saving models...\n"
     ]
    },
    {
     "name": "stderr",
     "output_type": "stream",
     "text": [
      "\r",
      " 10%|▉         | 97/1000 [01:37<15:14,  1.01s/it]"
     ]
    },
    {
     "name": "stdout",
     "output_type": "stream",
     "text": [
      "--- Epoch 98/1000 ---\n",
      "trainLoss: 1.1400e-02\n",
      "LR: 1.0000e-07\n",
      "valLoss: 1.1397e-02\n",
      "Better valLoss: 1.1397e-02, Saving models...\n"
     ]
    },
    {
     "name": "stderr",
     "output_type": "stream",
     "text": [
      "\r",
      " 10%|▉         | 98/1000 [01:38<15:09,  1.01s/it]"
     ]
    },
    {
     "name": "stdout",
     "output_type": "stream",
     "text": [
      "--- Epoch 99/1000 ---\n",
      "trainLoss: 1.1396e-02\n",
      "LR: 1.0000e-07\n",
      "valLoss: 1.1393e-02\n",
      "Better valLoss: 1.1393e-02, Saving models...\n"
     ]
    },
    {
     "name": "stderr",
     "output_type": "stream",
     "text": [
      "\r",
      " 10%|▉         | 99/1000 [01:39<15:15,  1.02s/it]"
     ]
    },
    {
     "name": "stdout",
     "output_type": "stream",
     "text": [
      "--- Epoch 100/1000 ---\n",
      "trainLoss: 1.1392e-02\n",
      "LR: 1.0000e-07\n",
      "valLoss: 1.1388e-02\n",
      "Better valLoss: 1.1388e-02, Saving models...\n"
     ]
    },
    {
     "name": "stderr",
     "output_type": "stream",
     "text": [
      "\r",
      " 10%|█         | 100/1000 [01:40<15:23,  1.03s/it]"
     ]
    },
    {
     "name": "stdout",
     "output_type": "stream",
     "text": [
      "--- Epoch 101/1000 ---\n",
      "trainLoss: 1.1387e-02\n",
      "LR: 1.0000e-07\n",
      "valLoss: 1.1384e-02\n",
      "Better valLoss: 1.1384e-02, Saving models...\n"
     ]
    },
    {
     "name": "stderr",
     "output_type": "stream",
     "text": [
      "\r",
      " 10%|█         | 101/1000 [01:41<15:15,  1.02s/it]"
     ]
    },
    {
     "name": "stdout",
     "output_type": "stream",
     "text": [
      "--- Epoch 102/1000 ---\n",
      "trainLoss: 1.1383e-02\n",
      "LR: 1.0000e-07\n",
      "valLoss: 1.1380e-02\n",
      "Better valLoss: 1.1380e-02, Saving models...\n"
     ]
    },
    {
     "name": "stderr",
     "output_type": "stream",
     "text": [
      "\r",
      " 10%|█         | 102/1000 [01:42<14:56,  1.00it/s]"
     ]
    },
    {
     "name": "stdout",
     "output_type": "stream",
     "text": [
      "--- Epoch 103/1000 ---\n",
      "trainLoss: 1.1379e-02\n",
      "LR: 1.0000e-07\n",
      "valLoss: 1.1376e-02\n",
      "Better valLoss: 1.1376e-02, Saving models...\n"
     ]
    },
    {
     "name": "stderr",
     "output_type": "stream",
     "text": [
      "\r",
      " 10%|█         | 103/1000 [01:43<14:58,  1.00s/it]"
     ]
    },
    {
     "name": "stdout",
     "output_type": "stream",
     "text": [
      "--- Epoch 104/1000 ---\n",
      "trainLoss: 1.1375e-02\n",
      "LR: 1.0000e-07\n",
      "valLoss: 1.1372e-02\n",
      "Better valLoss: 1.1372e-02, Saving models...\n"
     ]
    },
    {
     "name": "stderr",
     "output_type": "stream",
     "text": [
      "\r",
      " 10%|█         | 104/1000 [01:44<15:05,  1.01s/it]"
     ]
    },
    {
     "name": "stdout",
     "output_type": "stream",
     "text": [
      "--- Epoch 105/1000 ---\n",
      "trainLoss: 1.1371e-02\n",
      "LR: 1.0000e-07\n",
      "valLoss: 1.1367e-02\n",
      "Better valLoss: 1.1367e-02, Saving models...\n"
     ]
    },
    {
     "name": "stderr",
     "output_type": "stream",
     "text": [
      "\r",
      " 10%|█         | 105/1000 [01:45<14:57,  1.00s/it]"
     ]
    },
    {
     "name": "stdout",
     "output_type": "stream",
     "text": [
      "--- Epoch 106/1000 ---\n",
      "trainLoss: 1.1366e-02\n",
      "LR: 1.0000e-07\n",
      "valLoss: 1.1363e-02\n",
      "Better valLoss: 1.1363e-02, Saving models...\n"
     ]
    },
    {
     "name": "stderr",
     "output_type": "stream",
     "text": [
      "\r",
      " 11%|█         | 106/1000 [01:46<14:48,  1.01it/s]"
     ]
    },
    {
     "name": "stdout",
     "output_type": "stream",
     "text": [
      "--- Epoch 107/1000 ---\n",
      "trainLoss: 1.1362e-02\n",
      "LR: 1.0000e-07\n",
      "valLoss: 1.1359e-02\n",
      "Better valLoss: 1.1359e-02, Saving models...\n"
     ]
    },
    {
     "name": "stderr",
     "output_type": "stream",
     "text": [
      "\r",
      " 11%|█         | 107/1000 [01:47<15:08,  1.02s/it]"
     ]
    },
    {
     "name": "stdout",
     "output_type": "stream",
     "text": [
      "--- Epoch 108/1000 ---\n",
      "trainLoss: 1.1358e-02\n",
      "LR: 1.0000e-07\n",
      "valLoss: 1.1355e-02\n",
      "Better valLoss: 1.1355e-02, Saving models...\n"
     ]
    },
    {
     "name": "stderr",
     "output_type": "stream",
     "text": [
      "\r",
      " 11%|█         | 108/1000 [01:48<15:18,  1.03s/it]"
     ]
    },
    {
     "name": "stdout",
     "output_type": "stream",
     "text": [
      "--- Epoch 109/1000 ---\n",
      "trainLoss: 1.1354e-02\n",
      "LR: 1.0000e-07\n",
      "valLoss: 1.1351e-02\n",
      "Better valLoss: 1.1351e-02, Saving models...\n"
     ]
    },
    {
     "name": "stderr",
     "output_type": "stream",
     "text": [
      "\r",
      " 11%|█         | 109/1000 [01:49<15:10,  1.02s/it]"
     ]
    },
    {
     "name": "stdout",
     "output_type": "stream",
     "text": [
      "--- Epoch 110/1000 ---\n",
      "trainLoss: 1.1350e-02\n",
      "LR: 1.0000e-07\n",
      "valLoss: 1.1347e-02\n",
      "Better valLoss: 1.1347e-02, Saving models...\n"
     ]
    },
    {
     "name": "stderr",
     "output_type": "stream",
     "text": [
      "\r",
      " 11%|█         | 110/1000 [01:50<15:05,  1.02s/it]"
     ]
    },
    {
     "name": "stdout",
     "output_type": "stream",
     "text": [
      "--- Epoch 111/1000 ---\n",
      "trainLoss: 1.1346e-02\n",
      "LR: 1.0000e-07\n",
      "valLoss: 1.1342e-02\n",
      "Better valLoss: 1.1342e-02, Saving models...\n"
     ]
    },
    {
     "name": "stderr",
     "output_type": "stream",
     "text": [
      "\r",
      " 11%|█         | 111/1000 [01:51<14:57,  1.01s/it]"
     ]
    },
    {
     "name": "stdout",
     "output_type": "stream",
     "text": [
      "--- Epoch 112/1000 ---\n",
      "trainLoss: 1.1341e-02\n",
      "LR: 1.0000e-07\n",
      "valLoss: 1.1338e-02\n",
      "Better valLoss: 1.1338e-02, Saving models...\n"
     ]
    },
    {
     "name": "stderr",
     "output_type": "stream",
     "text": [
      "\r",
      " 11%|█         | 112/1000 [01:52<14:53,  1.01s/it]"
     ]
    },
    {
     "name": "stdout",
     "output_type": "stream",
     "text": [
      "--- Epoch 113/1000 ---\n",
      "trainLoss: 1.1337e-02\n",
      "LR: 1.0000e-07\n",
      "valLoss: 1.1334e-02\n",
      "Better valLoss: 1.1334e-02, Saving models...\n"
     ]
    },
    {
     "name": "stderr",
     "output_type": "stream",
     "text": [
      "\r",
      " 11%|█▏        | 113/1000 [01:53<14:43,  1.00it/s]"
     ]
    },
    {
     "name": "stdout",
     "output_type": "stream",
     "text": [
      "--- Epoch 114/1000 ---\n",
      "trainLoss: 1.1333e-02\n",
      "LR: 1.0000e-07\n",
      "valLoss: 1.1330e-02\n",
      "Better valLoss: 1.1330e-02, Saving models...\n"
     ]
    },
    {
     "name": "stderr",
     "output_type": "stream",
     "text": [
      "\r",
      " 11%|█▏        | 114/1000 [01:54<14:21,  1.03it/s]"
     ]
    },
    {
     "name": "stdout",
     "output_type": "stream",
     "text": [
      "--- Epoch 115/1000 ---\n",
      "trainLoss: 1.1329e-02\n",
      "LR: 1.0000e-07\n",
      "valLoss: 1.1326e-02\n",
      "Better valLoss: 1.1326e-02, Saving models...\n"
     ]
    },
    {
     "name": "stderr",
     "output_type": "stream",
     "text": [
      "\r",
      " 12%|█▏        | 115/1000 [01:55<14:36,  1.01it/s]"
     ]
    },
    {
     "name": "stdout",
     "output_type": "stream",
     "text": [
      "--- Epoch 116/1000 ---\n",
      "trainLoss: 1.1325e-02\n",
      "LR: 1.0000e-07\n",
      "valLoss: 1.1322e-02\n",
      "Better valLoss: 1.1322e-02, Saving models...\n"
     ]
    },
    {
     "name": "stderr",
     "output_type": "stream",
     "text": [
      "\r",
      " 12%|█▏        | 116/1000 [01:56<14:38,  1.01it/s]"
     ]
    },
    {
     "name": "stdout",
     "output_type": "stream",
     "text": [
      "--- Epoch 117/1000 ---\n",
      "trainLoss: 1.1320e-02\n",
      "LR: 1.0000e-07\n",
      "valLoss: 1.1317e-02\n",
      "Better valLoss: 1.1317e-02, Saving models...\n"
     ]
    },
    {
     "name": "stderr",
     "output_type": "stream",
     "text": [
      "\r",
      " 12%|█▏        | 117/1000 [01:57<14:40,  1.00it/s]"
     ]
    },
    {
     "name": "stdout",
     "output_type": "stream",
     "text": [
      "--- Epoch 118/1000 ---\n",
      "trainLoss: 1.1316e-02\n",
      "LR: 1.0000e-07\n",
      "valLoss: 1.1313e-02\n",
      "Better valLoss: 1.1313e-02, Saving models...\n"
     ]
    },
    {
     "name": "stderr",
     "output_type": "stream",
     "text": [
      "\r",
      " 12%|█▏        | 118/1000 [01:58<14:45,  1.00s/it]"
     ]
    },
    {
     "name": "stdout",
     "output_type": "stream",
     "text": [
      "--- Epoch 119/1000 ---\n",
      "trainLoss: 1.1312e-02\n",
      "LR: 1.0000e-07\n",
      "valLoss: 1.1309e-02\n",
      "Better valLoss: 1.1309e-02, Saving models...\n"
     ]
    },
    {
     "name": "stderr",
     "output_type": "stream",
     "text": [
      "\r",
      " 12%|█▏        | 119/1000 [01:59<14:36,  1.01it/s]"
     ]
    },
    {
     "name": "stdout",
     "output_type": "stream",
     "text": [
      "--- Epoch 120/1000 ---\n",
      "trainLoss: 1.1308e-02\n",
      "LR: 1.0000e-07\n",
      "valLoss: 1.1305e-02\n",
      "Better valLoss: 1.1305e-02, Saving models...\n"
     ]
    },
    {
     "name": "stderr",
     "output_type": "stream",
     "text": [
      "\r",
      " 12%|█▏        | 120/1000 [02:00<14:38,  1.00it/s]"
     ]
    },
    {
     "name": "stdout",
     "output_type": "stream",
     "text": [
      "--- Epoch 121/1000 ---\n",
      "trainLoss: 1.1304e-02\n",
      "LR: 1.0000e-07\n",
      "valLoss: 1.1301e-02\n",
      "Better valLoss: 1.1301e-02, Saving models...\n"
     ]
    },
    {
     "name": "stderr",
     "output_type": "stream",
     "text": [
      "\r",
      " 12%|█▏        | 121/1000 [02:01<14:31,  1.01it/s]"
     ]
    },
    {
     "name": "stdout",
     "output_type": "stream",
     "text": [
      "--- Epoch 122/1000 ---\n",
      "trainLoss: 1.1300e-02\n",
      "LR: 1.0000e-07\n",
      "valLoss: 1.1296e-02\n",
      "Better valLoss: 1.1296e-02, Saving models...\n"
     ]
    },
    {
     "name": "stderr",
     "output_type": "stream",
     "text": [
      "\r",
      " 12%|█▏        | 122/1000 [02:02<14:40,  1.00s/it]"
     ]
    },
    {
     "name": "stdout",
     "output_type": "stream",
     "text": [
      "--- Epoch 123/1000 ---\n",
      "trainLoss: 1.1295e-02\n",
      "LR: 1.0000e-07\n",
      "valLoss: 1.1292e-02\n",
      "Better valLoss: 1.1292e-02, Saving models...\n"
     ]
    },
    {
     "name": "stderr",
     "output_type": "stream",
     "text": [
      "\r",
      " 12%|█▏        | 123/1000 [02:03<14:22,  1.02it/s]"
     ]
    },
    {
     "name": "stdout",
     "output_type": "stream",
     "text": [
      "--- Epoch 124/1000 ---\n",
      "trainLoss: 1.1291e-02\n",
      "LR: 1.0000e-07\n",
      "valLoss: 1.1288e-02\n",
      "Better valLoss: 1.1288e-02, Saving models...\n"
     ]
    },
    {
     "name": "stderr",
     "output_type": "stream",
     "text": [
      "\r",
      " 12%|█▏        | 124/1000 [02:04<14:22,  1.02it/s]"
     ]
    },
    {
     "name": "stdout",
     "output_type": "stream",
     "text": [
      "--- Epoch 125/1000 ---\n",
      "trainLoss: 1.1287e-02\n",
      "LR: 1.0000e-07\n",
      "valLoss: 1.1284e-02\n",
      "Better valLoss: 1.1284e-02, Saving models...\n"
     ]
    },
    {
     "name": "stderr",
     "output_type": "stream",
     "text": [
      "\r",
      " 12%|█▎        | 125/1000 [02:05<14:24,  1.01it/s]"
     ]
    },
    {
     "name": "stdout",
     "output_type": "stream",
     "text": [
      "--- Epoch 126/1000 ---\n",
      "trainLoss: 1.1283e-02\n",
      "LR: 1.0000e-07\n",
      "valLoss: 1.1280e-02\n",
      "Better valLoss: 1.1280e-02, Saving models...\n"
     ]
    },
    {
     "name": "stderr",
     "output_type": "stream",
     "text": [
      "\r",
      " 13%|█▎        | 126/1000 [02:06<14:34,  1.00s/it]"
     ]
    },
    {
     "name": "stdout",
     "output_type": "stream",
     "text": [
      "--- Epoch 127/1000 ---\n",
      "trainLoss: 1.1279e-02\n",
      "LR: 1.0000e-07\n",
      "valLoss: 1.1275e-02\n",
      "Better valLoss: 1.1275e-02, Saving models...\n"
     ]
    },
    {
     "name": "stderr",
     "output_type": "stream",
     "text": [
      "\r",
      " 13%|█▎        | 127/1000 [02:07<14:32,  1.00it/s]"
     ]
    },
    {
     "name": "stdout",
     "output_type": "stream",
     "text": [
      "--- Epoch 128/1000 ---\n",
      "trainLoss: 1.1274e-02\n",
      "LR: 1.0000e-07\n",
      "valLoss: 1.1271e-02\n",
      "Better valLoss: 1.1271e-02, Saving models...\n"
     ]
    },
    {
     "name": "stderr",
     "output_type": "stream",
     "text": [
      "\r",
      " 13%|█▎        | 128/1000 [02:08<14:30,  1.00it/s]"
     ]
    },
    {
     "name": "stdout",
     "output_type": "stream",
     "text": [
      "--- Epoch 129/1000 ---\n",
      "trainLoss: 1.1270e-02\n",
      "LR: 1.0000e-07\n",
      "valLoss: 1.1267e-02\n",
      "Better valLoss: 1.1267e-02, Saving models...\n"
     ]
    },
    {
     "name": "stderr",
     "output_type": "stream",
     "text": [
      "\r",
      " 13%|█▎        | 129/1000 [02:09<14:26,  1.00it/s]"
     ]
    },
    {
     "name": "stdout",
     "output_type": "stream",
     "text": [
      "--- Epoch 130/1000 ---\n",
      "trainLoss: 1.1266e-02\n",
      "LR: 1.0000e-07\n",
      "valLoss: 1.1263e-02\n",
      "Better valLoss: 1.1263e-02, Saving models...\n"
     ]
    },
    {
     "name": "stderr",
     "output_type": "stream",
     "text": [
      "\r",
      " 13%|█▎        | 130/1000 [02:10<14:17,  1.01it/s]"
     ]
    },
    {
     "name": "stdout",
     "output_type": "stream",
     "text": [
      "--- Epoch 131/1000 ---\n",
      "trainLoss: 1.1262e-02\n",
      "LR: 1.0000e-07\n",
      "valLoss: 1.1259e-02\n",
      "Better valLoss: 1.1259e-02, Saving models...\n"
     ]
    },
    {
     "name": "stderr",
     "output_type": "stream",
     "text": [
      "\r",
      " 13%|█▎        | 131/1000 [02:11<14:21,  1.01it/s]"
     ]
    },
    {
     "name": "stdout",
     "output_type": "stream",
     "text": [
      "--- Epoch 132/1000 ---\n",
      "trainLoss: 1.1258e-02\n",
      "LR: 1.0000e-07\n",
      "valLoss: 1.1254e-02\n",
      "Better valLoss: 1.1254e-02, Saving models...\n"
     ]
    },
    {
     "name": "stderr",
     "output_type": "stream",
     "text": [
      "\r",
      " 13%|█▎        | 132/1000 [02:12<14:21,  1.01it/s]"
     ]
    },
    {
     "name": "stdout",
     "output_type": "stream",
     "text": [
      "--- Epoch 133/1000 ---\n",
      "trainLoss: 1.1253e-02\n",
      "LR: 1.0000e-07\n",
      "valLoss: 1.1250e-02\n",
      "Better valLoss: 1.1250e-02, Saving models...\n"
     ]
    },
    {
     "name": "stderr",
     "output_type": "stream",
     "text": [
      "\r",
      " 13%|█▎        | 133/1000 [02:13<14:27,  1.00s/it]"
     ]
    },
    {
     "name": "stdout",
     "output_type": "stream",
     "text": [
      "--- Epoch 134/1000 ---\n",
      "trainLoss: 1.1249e-02\n",
      "LR: 1.0000e-07\n",
      "valLoss: 1.1246e-02\n",
      "Better valLoss: 1.1246e-02, Saving models...\n"
     ]
    },
    {
     "name": "stderr",
     "output_type": "stream",
     "text": [
      "\r",
      " 13%|█▎        | 134/1000 [02:14<14:14,  1.01it/s]"
     ]
    },
    {
     "name": "stdout",
     "output_type": "stream",
     "text": [
      "--- Epoch 135/1000 ---\n",
      "trainLoss: 1.1245e-02\n",
      "LR: 1.0000e-07\n",
      "valLoss: 1.1242e-02\n",
      "Better valLoss: 1.1242e-02, Saving models...\n"
     ]
    },
    {
     "name": "stderr",
     "output_type": "stream",
     "text": [
      "\r",
      " 14%|█▎        | 135/1000 [02:15<14:34,  1.01s/it]"
     ]
    },
    {
     "name": "stdout",
     "output_type": "stream",
     "text": [
      "--- Epoch 136/1000 ---\n",
      "trainLoss: 1.1241e-02\n",
      "LR: 1.0000e-07\n",
      "valLoss: 1.1238e-02\n",
      "Better valLoss: 1.1238e-02, Saving models...\n"
     ]
    },
    {
     "name": "stderr",
     "output_type": "stream",
     "text": [
      "\r",
      " 14%|█▎        | 136/1000 [02:16<14:28,  1.00s/it]"
     ]
    },
    {
     "name": "stdout",
     "output_type": "stream",
     "text": [
      "--- Epoch 137/1000 ---\n",
      "trainLoss: 1.1237e-02\n",
      "LR: 1.0000e-07\n",
      "valLoss: 1.1234e-02\n",
      "Better valLoss: 1.1234e-02, Saving models...\n"
     ]
    },
    {
     "name": "stderr",
     "output_type": "stream",
     "text": [
      "\r",
      " 14%|█▎        | 137/1000 [02:17<14:25,  1.00s/it]"
     ]
    },
    {
     "name": "stdout",
     "output_type": "stream",
     "text": [
      "--- Epoch 138/1000 ---\n",
      "trainLoss: 1.1232e-02\n",
      "LR: 1.0000e-07\n",
      "valLoss: 1.1229e-02\n",
      "Better valLoss: 1.1229e-02, Saving models...\n"
     ]
    },
    {
     "name": "stderr",
     "output_type": "stream",
     "text": [
      "\r",
      " 14%|█▍        | 138/1000 [02:18<14:41,  1.02s/it]"
     ]
    },
    {
     "name": "stdout",
     "output_type": "stream",
     "text": [
      "--- Epoch 139/1000 ---\n",
      "trainLoss: 1.1228e-02\n",
      "LR: 1.0000e-07\n",
      "valLoss: 1.1225e-02\n",
      "Better valLoss: 1.1225e-02, Saving models...\n"
     ]
    },
    {
     "name": "stderr",
     "output_type": "stream",
     "text": [
      "\r",
      " 14%|█▍        | 139/1000 [02:19<14:29,  1.01s/it]"
     ]
    },
    {
     "name": "stdout",
     "output_type": "stream",
     "text": [
      "--- Epoch 140/1000 ---\n",
      "trainLoss: 1.1224e-02\n",
      "LR: 1.0000e-07\n",
      "valLoss: 1.1221e-02\n",
      "Better valLoss: 1.1221e-02, Saving models...\n"
     ]
    },
    {
     "name": "stderr",
     "output_type": "stream",
     "text": [
      "\r",
      " 14%|█▍        | 140/1000 [02:20<14:31,  1.01s/it]"
     ]
    },
    {
     "name": "stdout",
     "output_type": "stream",
     "text": [
      "--- Epoch 141/1000 ---\n",
      "trainLoss: 1.1220e-02\n",
      "LR: 1.0000e-07\n",
      "valLoss: 1.1217e-02\n",
      "Better valLoss: 1.1217e-02, Saving models...\n"
     ]
    },
    {
     "name": "stderr",
     "output_type": "stream",
     "text": [
      "\r",
      " 14%|█▍        | 141/1000 [02:21<14:27,  1.01s/it]"
     ]
    },
    {
     "name": "stdout",
     "output_type": "stream",
     "text": [
      "--- Epoch 142/1000 ---\n",
      "trainLoss: 1.1216e-02\n",
      "LR: 1.0000e-07\n",
      "valLoss: 1.1213e-02\n",
      "Better valLoss: 1.1213e-02, Saving models...\n"
     ]
    },
    {
     "name": "stderr",
     "output_type": "stream",
     "text": [
      "\r",
      " 14%|█▍        | 142/1000 [02:22<14:25,  1.01s/it]"
     ]
    },
    {
     "name": "stdout",
     "output_type": "stream",
     "text": [
      "--- Epoch 143/1000 ---\n",
      "trainLoss: 1.1211e-02\n",
      "LR: 1.0000e-07\n",
      "valLoss: 1.1208e-02\n",
      "Better valLoss: 1.1208e-02, Saving models...\n"
     ]
    },
    {
     "name": "stderr",
     "output_type": "stream",
     "text": [
      "\r",
      " 14%|█▍        | 143/1000 [02:23<13:59,  1.02it/s]"
     ]
    },
    {
     "name": "stdout",
     "output_type": "stream",
     "text": [
      "--- Epoch 144/1000 ---\n",
      "trainLoss: 1.1207e-02\n",
      "LR: 1.0000e-07\n",
      "valLoss: 1.1204e-02\n",
      "Better valLoss: 1.1204e-02, Saving models...\n"
     ]
    },
    {
     "name": "stderr",
     "output_type": "stream",
     "text": [
      "\r",
      " 14%|█▍        | 144/1000 [02:24<13:56,  1.02it/s]"
     ]
    },
    {
     "name": "stdout",
     "output_type": "stream",
     "text": [
      "--- Epoch 145/1000 ---\n",
      "trainLoss: 1.1203e-02\n",
      "LR: 1.0000e-07\n",
      "valLoss: 1.1200e-02\n",
      "Better valLoss: 1.1200e-02, Saving models...\n"
     ]
    },
    {
     "name": "stderr",
     "output_type": "stream",
     "text": [
      "\r",
      " 14%|█▍        | 145/1000 [02:25<13:58,  1.02it/s]"
     ]
    },
    {
     "name": "stdout",
     "output_type": "stream",
     "text": [
      "--- Epoch 146/1000 ---\n",
      "trainLoss: 1.1199e-02\n",
      "LR: 1.0000e-07\n",
      "valLoss: 1.1196e-02\n",
      "Better valLoss: 1.1196e-02, Saving models...\n"
     ]
    },
    {
     "name": "stderr",
     "output_type": "stream",
     "text": [
      "\r",
      " 15%|█▍        | 146/1000 [02:26<13:55,  1.02it/s]"
     ]
    },
    {
     "name": "stdout",
     "output_type": "stream",
     "text": [
      "--- Epoch 147/1000 ---\n",
      "trainLoss: 1.1195e-02\n",
      "LR: 1.0000e-07\n",
      "valLoss: 1.1192e-02\n",
      "Better valLoss: 1.1192e-02, Saving models...\n"
     ]
    },
    {
     "name": "stderr",
     "output_type": "stream",
     "text": [
      "\r",
      " 15%|█▍        | 147/1000 [02:27<14:08,  1.01it/s]"
     ]
    },
    {
     "name": "stdout",
     "output_type": "stream",
     "text": [
      "--- Epoch 148/1000 ---\n",
      "trainLoss: 1.1191e-02\n",
      "LR: 1.0000e-07\n",
      "valLoss: 1.1187e-02\n",
      "Better valLoss: 1.1187e-02, Saving models...\n"
     ]
    },
    {
     "name": "stderr",
     "output_type": "stream",
     "text": [
      "\r",
      " 15%|█▍        | 148/1000 [02:28<14:21,  1.01s/it]"
     ]
    },
    {
     "name": "stdout",
     "output_type": "stream",
     "text": [
      "--- Epoch 149/1000 ---\n",
      "trainLoss: 1.1186e-02\n",
      "LR: 1.0000e-07\n",
      "valLoss: 1.1183e-02\n",
      "Better valLoss: 1.1183e-02, Saving models...\n"
     ]
    },
    {
     "name": "stderr",
     "output_type": "stream",
     "text": [
      "\r",
      " 15%|█▍        | 149/1000 [02:29<14:16,  1.01s/it]"
     ]
    },
    {
     "name": "stdout",
     "output_type": "stream",
     "text": [
      "--- Epoch 150/1000 ---\n",
      "trainLoss: 1.1182e-02\n",
      "LR: 1.0000e-07\n",
      "valLoss: 1.1179e-02\n",
      "Better valLoss: 1.1179e-02, Saving models...\n"
     ]
    },
    {
     "name": "stderr",
     "output_type": "stream",
     "text": [
      "\r",
      " 15%|█▌        | 150/1000 [02:30<14:44,  1.04s/it]"
     ]
    },
    {
     "name": "stdout",
     "output_type": "stream",
     "text": [
      "--- Epoch 151/1000 ---\n",
      "trainLoss: 1.1178e-02\n",
      "LR: 1.0000e-07\n",
      "valLoss: 1.1175e-02\n",
      "Better valLoss: 1.1175e-02, Saving models...\n"
     ]
    },
    {
     "name": "stderr",
     "output_type": "stream",
     "text": [
      "\r",
      " 15%|█▌        | 151/1000 [02:31<14:36,  1.03s/it]"
     ]
    },
    {
     "name": "stdout",
     "output_type": "stream",
     "text": [
      "--- Epoch 152/1000 ---\n",
      "trainLoss: 1.1174e-02\n",
      "LR: 1.0000e-07\n",
      "valLoss: 1.1171e-02\n",
      "Better valLoss: 1.1171e-02, Saving models...\n"
     ]
    },
    {
     "name": "stderr",
     "output_type": "stream",
     "text": [
      "\r",
      " 15%|█▌        | 152/1000 [02:32<14:24,  1.02s/it]"
     ]
    },
    {
     "name": "stdout",
     "output_type": "stream",
     "text": [
      "--- Epoch 153/1000 ---\n",
      "trainLoss: 1.1170e-02\n",
      "LR: 1.0000e-07\n",
      "valLoss: 1.1167e-02\n",
      "Better valLoss: 1.1167e-02, Saving models...\n"
     ]
    },
    {
     "name": "stderr",
     "output_type": "stream",
     "text": [
      "\r",
      " 15%|█▌        | 153/1000 [02:33<14:16,  1.01s/it]"
     ]
    },
    {
     "name": "stdout",
     "output_type": "stream",
     "text": [
      "--- Epoch 154/1000 ---\n",
      "trainLoss: 1.1166e-02\n",
      "LR: 1.0000e-07\n",
      "valLoss: 1.1162e-02\n",
      "Better valLoss: 1.1162e-02, Saving models...\n"
     ]
    },
    {
     "name": "stderr",
     "output_type": "stream",
     "text": [
      "\r",
      " 15%|█▌        | 154/1000 [02:34<14:09,  1.00s/it]"
     ]
    },
    {
     "name": "stdout",
     "output_type": "stream",
     "text": [
      "--- Epoch 155/1000 ---\n",
      "trainLoss: 1.1161e-02\n",
      "LR: 1.0000e-07\n",
      "valLoss: 1.1158e-02\n",
      "Better valLoss: 1.1158e-02, Saving models...\n"
     ]
    },
    {
     "name": "stderr",
     "output_type": "stream",
     "text": [
      "\r",
      " 16%|█▌        | 155/1000 [02:35<13:53,  1.01it/s]"
     ]
    },
    {
     "name": "stdout",
     "output_type": "stream",
     "text": [
      "--- Epoch 156/1000 ---\n",
      "trainLoss: 1.1157e-02\n",
      "LR: 1.0000e-07\n",
      "valLoss: 1.1154e-02\n",
      "Better valLoss: 1.1154e-02, Saving models...\n"
     ]
    },
    {
     "name": "stderr",
     "output_type": "stream",
     "text": [
      "\r",
      " 16%|█▌        | 156/1000 [02:36<13:57,  1.01it/s]"
     ]
    },
    {
     "name": "stdout",
     "output_type": "stream",
     "text": [
      "--- Epoch 157/1000 ---\n",
      "trainLoss: 1.1153e-02\n",
      "LR: 1.0000e-07\n",
      "valLoss: 1.1150e-02\n",
      "Better valLoss: 1.1150e-02, Saving models...\n"
     ]
    },
    {
     "name": "stderr",
     "output_type": "stream",
     "text": [
      "\r",
      " 16%|█▌        | 157/1000 [02:37<14:16,  1.02s/it]"
     ]
    },
    {
     "name": "stdout",
     "output_type": "stream",
     "text": [
      "--- Epoch 158/1000 ---\n",
      "trainLoss: 1.1149e-02\n",
      "LR: 1.0000e-07\n",
      "valLoss: 1.1146e-02\n",
      "Better valLoss: 1.1146e-02, Saving models...\n"
     ]
    },
    {
     "name": "stderr",
     "output_type": "stream",
     "text": [
      "\r",
      " 16%|█▌        | 158/1000 [02:38<14:31,  1.04s/it]"
     ]
    },
    {
     "name": "stdout",
     "output_type": "stream",
     "text": [
      "--- Epoch 159/1000 ---\n",
      "trainLoss: 1.1145e-02\n",
      "LR: 1.0000e-07\n",
      "valLoss: 1.1142e-02\n",
      "Better valLoss: 1.1142e-02, Saving models...\n"
     ]
    },
    {
     "name": "stderr",
     "output_type": "stream",
     "text": [
      "\r",
      " 16%|█▌        | 159/1000 [02:39<14:15,  1.02s/it]"
     ]
    },
    {
     "name": "stdout",
     "output_type": "stream",
     "text": [
      "--- Epoch 160/1000 ---\n",
      "trainLoss: 1.1140e-02\n",
      "LR: 1.0000e-07\n",
      "valLoss: 1.1137e-02\n",
      "Better valLoss: 1.1137e-02, Saving models...\n"
     ]
    },
    {
     "name": "stderr",
     "output_type": "stream",
     "text": [
      "\r",
      " 16%|█▌        | 160/1000 [02:40<14:12,  1.01s/it]"
     ]
    },
    {
     "name": "stdout",
     "output_type": "stream",
     "text": [
      "--- Epoch 161/1000 ---\n",
      "trainLoss: 1.1136e-02\n",
      "LR: 1.0000e-07\n",
      "valLoss: 1.1133e-02\n",
      "Better valLoss: 1.1133e-02, Saving models...\n"
     ]
    },
    {
     "name": "stderr",
     "output_type": "stream",
     "text": [
      "\r",
      " 16%|█▌        | 161/1000 [02:41<13:59,  1.00s/it]"
     ]
    },
    {
     "name": "stdout",
     "output_type": "stream",
     "text": [
      "--- Epoch 162/1000 ---\n",
      "trainLoss: 1.1132e-02\n",
      "LR: 1.0000e-07\n",
      "valLoss: 1.1129e-02\n",
      "Better valLoss: 1.1129e-02, Saving models...\n"
     ]
    },
    {
     "name": "stderr",
     "output_type": "stream",
     "text": [
      "\r",
      " 16%|█▌        | 162/1000 [02:42<14:07,  1.01s/it]"
     ]
    },
    {
     "name": "stdout",
     "output_type": "stream",
     "text": [
      "--- Epoch 163/1000 ---\n",
      "trainLoss: 1.1128e-02\n",
      "LR: 1.0000e-07\n",
      "valLoss: 1.1125e-02\n",
      "Better valLoss: 1.1125e-02, Saving models...\n"
     ]
    },
    {
     "name": "stderr",
     "output_type": "stream",
     "text": [
      "\r",
      " 16%|█▋        | 163/1000 [02:43<14:06,  1.01s/it]"
     ]
    },
    {
     "name": "stdout",
     "output_type": "stream",
     "text": [
      "--- Epoch 164/1000 ---\n",
      "trainLoss: 1.1124e-02\n",
      "LR: 1.0000e-07\n",
      "valLoss: 1.1121e-02\n",
      "Better valLoss: 1.1121e-02, Saving models...\n"
     ]
    },
    {
     "name": "stderr",
     "output_type": "stream",
     "text": [
      "\r",
      " 16%|█▋        | 164/1000 [02:44<14:14,  1.02s/it]"
     ]
    },
    {
     "name": "stdout",
     "output_type": "stream",
     "text": [
      "--- Epoch 165/1000 ---\n",
      "trainLoss: 1.1120e-02\n",
      "LR: 1.0000e-07\n",
      "valLoss: 1.1116e-02\n",
      "Better valLoss: 1.1116e-02, Saving models...\n"
     ]
    },
    {
     "name": "stderr",
     "output_type": "stream",
     "text": [
      "\r",
      " 16%|█▋        | 165/1000 [02:45<14:13,  1.02s/it]"
     ]
    },
    {
     "name": "stdout",
     "output_type": "stream",
     "text": [
      "--- Epoch 166/1000 ---\n",
      "trainLoss: 1.1115e-02\n",
      "LR: 1.0000e-07\n",
      "valLoss: 1.1112e-02\n",
      "Better valLoss: 1.1112e-02, Saving models...\n"
     ]
    },
    {
     "name": "stderr",
     "output_type": "stream",
     "text": [
      "\r",
      " 17%|█▋        | 166/1000 [02:46<13:48,  1.01it/s]"
     ]
    },
    {
     "name": "stdout",
     "output_type": "stream",
     "text": [
      "--- Epoch 167/1000 ---\n",
      "trainLoss: 1.1111e-02\n",
      "LR: 1.0000e-07\n",
      "valLoss: 1.1108e-02\n",
      "Better valLoss: 1.1108e-02, Saving models...\n"
     ]
    },
    {
     "name": "stderr",
     "output_type": "stream",
     "text": [
      "\r",
      " 17%|█▋        | 167/1000 [02:47<13:55,  1.00s/it]"
     ]
    },
    {
     "name": "stdout",
     "output_type": "stream",
     "text": [
      "--- Epoch 168/1000 ---\n",
      "trainLoss: 1.1107e-02\n",
      "LR: 1.0000e-07\n",
      "valLoss: 1.1104e-02\n",
      "Better valLoss: 1.1104e-02, Saving models...\n"
     ]
    },
    {
     "name": "stderr",
     "output_type": "stream",
     "text": [
      "\r",
      " 17%|█▋        | 168/1000 [02:48<14:02,  1.01s/it]"
     ]
    },
    {
     "name": "stdout",
     "output_type": "stream",
     "text": [
      "--- Epoch 169/1000 ---\n",
      "trainLoss: 1.1103e-02\n",
      "LR: 1.0000e-07\n",
      "valLoss: 1.1100e-02\n",
      "Better valLoss: 1.1100e-02, Saving models...\n"
     ]
    },
    {
     "name": "stderr",
     "output_type": "stream",
     "text": [
      "\r",
      " 17%|█▋        | 169/1000 [02:49<13:56,  1.01s/it]"
     ]
    },
    {
     "name": "stdout",
     "output_type": "stream",
     "text": [
      "--- Epoch 170/1000 ---\n",
      "trainLoss: 1.1099e-02\n",
      "LR: 1.0000e-07\n",
      "valLoss: 1.1096e-02\n",
      "Better valLoss: 1.1096e-02, Saving models...\n"
     ]
    },
    {
     "name": "stderr",
     "output_type": "stream",
     "text": [
      "\r",
      " 17%|█▋        | 170/1000 [02:50<13:46,  1.00it/s]"
     ]
    },
    {
     "name": "stdout",
     "output_type": "stream",
     "text": [
      "--- Epoch 171/1000 ---\n",
      "trainLoss: 1.1095e-02\n",
      "LR: 1.0000e-07\n",
      "valLoss: 1.1091e-02\n",
      "Better valLoss: 1.1091e-02, Saving models...\n"
     ]
    },
    {
     "name": "stderr",
     "output_type": "stream",
     "text": [
      "\r",
      " 17%|█▋        | 171/1000 [02:51<14:05,  1.02s/it]"
     ]
    },
    {
     "name": "stdout",
     "output_type": "stream",
     "text": [
      "--- Epoch 172/1000 ---\n",
      "trainLoss: 1.1090e-02\n",
      "LR: 1.0000e-07\n",
      "valLoss: 1.1087e-02\n",
      "Better valLoss: 1.1087e-02, Saving models...\n"
     ]
    },
    {
     "name": "stderr",
     "output_type": "stream",
     "text": [
      "\r",
      " 17%|█▋        | 172/1000 [02:52<13:53,  1.01s/it]"
     ]
    },
    {
     "name": "stdout",
     "output_type": "stream",
     "text": [
      "--- Epoch 173/1000 ---\n",
      "trainLoss: 1.1086e-02\n",
      "LR: 1.0000e-07\n",
      "valLoss: 1.1083e-02\n",
      "Better valLoss: 1.1083e-02, Saving models...\n"
     ]
    },
    {
     "name": "stderr",
     "output_type": "stream",
     "text": [
      "\r",
      " 17%|█▋        | 173/1000 [02:53<13:29,  1.02it/s]"
     ]
    },
    {
     "name": "stdout",
     "output_type": "stream",
     "text": [
      "--- Epoch 174/1000 ---\n",
      "trainLoss: 1.1082e-02\n",
      "LR: 1.0000e-07\n",
      "valLoss: 1.1079e-02\n",
      "Better valLoss: 1.1079e-02, Saving models...\n"
     ]
    },
    {
     "name": "stderr",
     "output_type": "stream",
     "text": [
      "\r",
      " 17%|█▋        | 174/1000 [02:54<13:25,  1.03it/s]"
     ]
    },
    {
     "name": "stdout",
     "output_type": "stream",
     "text": [
      "--- Epoch 175/1000 ---\n",
      "trainLoss: 1.1078e-02\n",
      "LR: 1.0000e-07\n",
      "valLoss: 1.1075e-02\n",
      "Better valLoss: 1.1075e-02, Saving models...\n"
     ]
    },
    {
     "name": "stderr",
     "output_type": "stream",
     "text": [
      "\r",
      " 18%|█▊        | 175/1000 [02:55<13:41,  1.00it/s]"
     ]
    },
    {
     "name": "stdout",
     "output_type": "stream",
     "text": [
      "--- Epoch 176/1000 ---\n",
      "trainLoss: 1.1074e-02\n",
      "LR: 1.0000e-07\n",
      "valLoss: 1.1071e-02\n",
      "Better valLoss: 1.1071e-02, Saving models...\n"
     ]
    },
    {
     "name": "stderr",
     "output_type": "stream",
     "text": [
      "\r",
      " 18%|█▊        | 176/1000 [02:56<13:32,  1.01it/s]"
     ]
    },
    {
     "name": "stdout",
     "output_type": "stream",
     "text": [
      "--- Epoch 177/1000 ---\n",
      "trainLoss: 1.1070e-02\n",
      "LR: 1.0000e-07\n",
      "valLoss: 1.1066e-02\n",
      "Better valLoss: 1.1066e-02, Saving models...\n"
     ]
    },
    {
     "name": "stderr",
     "output_type": "stream",
     "text": [
      "\r",
      " 18%|█▊        | 177/1000 [02:57<14:07,  1.03s/it]"
     ]
    },
    {
     "name": "stdout",
     "output_type": "stream",
     "text": [
      "--- Epoch 178/1000 ---\n",
      "trainLoss: 1.1065e-02\n",
      "LR: 1.0000e-07\n",
      "valLoss: 1.1062e-02\n",
      "Better valLoss: 1.1062e-02, Saving models...\n"
     ]
    },
    {
     "name": "stderr",
     "output_type": "stream",
     "text": [
      "\r",
      " 18%|█▊        | 178/1000 [02:58<14:03,  1.03s/it]"
     ]
    },
    {
     "name": "stdout",
     "output_type": "stream",
     "text": [
      "--- Epoch 179/1000 ---\n",
      "trainLoss: 1.1061e-02\n",
      "LR: 1.0000e-07\n",
      "valLoss: 1.1058e-02\n",
      "Better valLoss: 1.1058e-02, Saving models...\n"
     ]
    },
    {
     "name": "stderr",
     "output_type": "stream",
     "text": [
      "\r",
      " 18%|█▊        | 179/1000 [02:59<14:19,  1.05s/it]"
     ]
    },
    {
     "name": "stdout",
     "output_type": "stream",
     "text": [
      "--- Epoch 180/1000 ---\n",
      "trainLoss: 1.1057e-02\n",
      "LR: 1.0000e-07\n",
      "valLoss: 1.1054e-02\n",
      "Better valLoss: 1.1054e-02, Saving models...\n"
     ]
    },
    {
     "name": "stderr",
     "output_type": "stream",
     "text": [
      "\r",
      " 18%|█▊        | 180/1000 [03:00<14:15,  1.04s/it]"
     ]
    },
    {
     "name": "stdout",
     "output_type": "stream",
     "text": [
      "--- Epoch 181/1000 ---\n",
      "trainLoss: 1.1053e-02\n",
      "LR: 1.0000e-07\n",
      "valLoss: 1.1050e-02\n",
      "Better valLoss: 1.1050e-02, Saving models...\n"
     ]
    },
    {
     "name": "stderr",
     "output_type": "stream",
     "text": [
      "\r",
      " 18%|█▊        | 181/1000 [03:01<14:09,  1.04s/it]"
     ]
    },
    {
     "name": "stdout",
     "output_type": "stream",
     "text": [
      "--- Epoch 182/1000 ---\n",
      "trainLoss: 1.1049e-02\n",
      "LR: 1.0000e-07\n",
      "valLoss: 1.1046e-02\n",
      "Better valLoss: 1.1046e-02, Saving models...\n"
     ]
    },
    {
     "name": "stderr",
     "output_type": "stream",
     "text": [
      "\r",
      " 18%|█▊        | 182/1000 [03:02<14:00,  1.03s/it]"
     ]
    },
    {
     "name": "stdout",
     "output_type": "stream",
     "text": [
      "--- Epoch 183/1000 ---\n",
      "trainLoss: 1.1045e-02\n",
      "LR: 1.0000e-07\n",
      "valLoss: 1.1042e-02\n",
      "Better valLoss: 1.1042e-02, Saving models...\n"
     ]
    },
    {
     "name": "stderr",
     "output_type": "stream",
     "text": [
      "\r",
      " 18%|█▊        | 183/1000 [03:03<13:58,  1.03s/it]"
     ]
    },
    {
     "name": "stdout",
     "output_type": "stream",
     "text": [
      "--- Epoch 184/1000 ---\n",
      "trainLoss: 1.1041e-02\n",
      "LR: 1.0000e-07\n",
      "valLoss: 1.1037e-02\n",
      "Better valLoss: 1.1037e-02, Saving models...\n"
     ]
    },
    {
     "name": "stderr",
     "output_type": "stream",
     "text": [
      "\r",
      " 18%|█▊        | 184/1000 [03:04<13:51,  1.02s/it]"
     ]
    },
    {
     "name": "stdout",
     "output_type": "stream",
     "text": [
      "--- Epoch 185/1000 ---\n",
      "trainLoss: 1.1036e-02\n",
      "LR: 1.0000e-07\n",
      "valLoss: 1.1033e-02\n",
      "Better valLoss: 1.1033e-02, Saving models...\n"
     ]
    },
    {
     "name": "stderr",
     "output_type": "stream",
     "text": [
      "\r",
      " 18%|█▊        | 185/1000 [03:05<13:55,  1.03s/it]"
     ]
    },
    {
     "name": "stdout",
     "output_type": "stream",
     "text": [
      "--- Epoch 186/1000 ---\n",
      "trainLoss: 1.1032e-02\n",
      "LR: 1.0000e-07\n",
      "valLoss: 1.1029e-02\n",
      "Better valLoss: 1.1029e-02, Saving models...\n"
     ]
    },
    {
     "name": "stderr",
     "output_type": "stream",
     "text": [
      "\r",
      " 19%|█▊        | 186/1000 [03:06<13:40,  1.01s/it]"
     ]
    },
    {
     "name": "stdout",
     "output_type": "stream",
     "text": [
      "--- Epoch 187/1000 ---\n",
      "trainLoss: 1.1028e-02\n",
      "LR: 1.0000e-07\n",
      "valLoss: 1.1025e-02\n",
      "Better valLoss: 1.1025e-02, Saving models...\n"
     ]
    },
    {
     "name": "stderr",
     "output_type": "stream",
     "text": [
      "\r",
      " 19%|█▊        | 187/1000 [03:07<13:45,  1.01s/it]"
     ]
    },
    {
     "name": "stdout",
     "output_type": "stream",
     "text": [
      "--- Epoch 188/1000 ---\n",
      "trainLoss: 1.1024e-02\n",
      "LR: 1.0000e-07\n",
      "valLoss: 1.1021e-02\n",
      "Better valLoss: 1.1021e-02, Saving models...\n"
     ]
    },
    {
     "name": "stderr",
     "output_type": "stream",
     "text": [
      "\r",
      " 19%|█▉        | 188/1000 [03:08<13:37,  1.01s/it]"
     ]
    },
    {
     "name": "stdout",
     "output_type": "stream",
     "text": [
      "--- Epoch 189/1000 ---\n",
      "trainLoss: 1.1020e-02\n",
      "LR: 1.0000e-07\n",
      "valLoss: 1.1017e-02\n",
      "Better valLoss: 1.1017e-02, Saving models...\n"
     ]
    },
    {
     "name": "stderr",
     "output_type": "stream",
     "text": [
      "\r",
      " 19%|█▉        | 189/1000 [03:09<13:43,  1.01s/it]"
     ]
    },
    {
     "name": "stdout",
     "output_type": "stream",
     "text": [
      "--- Epoch 190/1000 ---\n",
      "trainLoss: 1.1016e-02\n",
      "LR: 1.0000e-07\n",
      "valLoss: 1.1012e-02\n",
      "Better valLoss: 1.1012e-02, Saving models...\n"
     ]
    },
    {
     "name": "stderr",
     "output_type": "stream",
     "text": [
      "\r",
      " 19%|█▉        | 190/1000 [03:10<13:36,  1.01s/it]"
     ]
    },
    {
     "name": "stdout",
     "output_type": "stream",
     "text": [
      "--- Epoch 191/1000 ---\n",
      "trainLoss: 1.1011e-02\n",
      "LR: 1.0000e-07\n",
      "valLoss: 1.1008e-02\n",
      "Better valLoss: 1.1008e-02, Saving models...\n"
     ]
    },
    {
     "name": "stderr",
     "output_type": "stream",
     "text": [
      "\r",
      " 19%|█▉        | 191/1000 [03:11<13:39,  1.01s/it]"
     ]
    },
    {
     "name": "stdout",
     "output_type": "stream",
     "text": [
      "--- Epoch 192/1000 ---\n",
      "trainLoss: 1.1007e-02\n",
      "LR: 1.0000e-07\n",
      "valLoss: 1.1004e-02\n",
      "Better valLoss: 1.1004e-02, Saving models...\n"
     ]
    },
    {
     "name": "stderr",
     "output_type": "stream",
     "text": [
      "\r",
      " 19%|█▉        | 192/1000 [03:12<13:27,  1.00it/s]"
     ]
    },
    {
     "name": "stdout",
     "output_type": "stream",
     "text": [
      "--- Epoch 193/1000 ---\n",
      "trainLoss: 1.1003e-02\n",
      "LR: 1.0000e-07\n",
      "valLoss: 1.1000e-02\n",
      "Better valLoss: 1.1000e-02, Saving models...\n"
     ]
    },
    {
     "name": "stderr",
     "output_type": "stream",
     "text": [
      "\r",
      " 19%|█▉        | 193/1000 [03:13<13:14,  1.02it/s]"
     ]
    },
    {
     "name": "stdout",
     "output_type": "stream",
     "text": [
      "--- Epoch 194/1000 ---\n",
      "trainLoss: 1.0999e-02\n",
      "LR: 1.0000e-07\n",
      "valLoss: 1.0996e-02\n",
      "Better valLoss: 1.0996e-02, Saving models...\n"
     ]
    },
    {
     "name": "stderr",
     "output_type": "stream",
     "text": [
      "\r",
      " 19%|█▉        | 194/1000 [03:14<13:26,  1.00s/it]"
     ]
    },
    {
     "name": "stdout",
     "output_type": "stream",
     "text": [
      "--- Epoch 195/1000 ---\n",
      "trainLoss: 1.0995e-02\n",
      "LR: 1.0000e-07\n",
      "valLoss: 1.0992e-02\n",
      "Better valLoss: 1.0992e-02, Saving models...\n"
     ]
    },
    {
     "name": "stderr",
     "output_type": "stream",
     "text": [
      "\r",
      " 20%|█▉        | 195/1000 [03:15<13:31,  1.01s/it]"
     ]
    },
    {
     "name": "stdout",
     "output_type": "stream",
     "text": [
      "--- Epoch 196/1000 ---\n",
      "trainLoss: 1.0991e-02\n",
      "LR: 1.0000e-07\n",
      "valLoss: 1.0987e-02\n",
      "Better valLoss: 1.0987e-02, Saving models...\n"
     ]
    },
    {
     "name": "stderr",
     "output_type": "stream",
     "text": [
      "\r",
      " 20%|█▉        | 196/1000 [03:16<13:33,  1.01s/it]"
     ]
    },
    {
     "name": "stdout",
     "output_type": "stream",
     "text": [
      "--- Epoch 197/1000 ---\n",
      "trainLoss: 1.0986e-02\n",
      "LR: 1.0000e-07\n",
      "valLoss: 1.0983e-02\n",
      "Better valLoss: 1.0983e-02, Saving models...\n"
     ]
    },
    {
     "name": "stderr",
     "output_type": "stream",
     "text": [
      "\r",
      " 20%|█▉        | 197/1000 [03:17<13:39,  1.02s/it]"
     ]
    },
    {
     "name": "stdout",
     "output_type": "stream",
     "text": [
      "--- Epoch 198/1000 ---\n",
      "trainLoss: 1.0982e-02\n",
      "LR: 1.0000e-07\n",
      "valLoss: 1.0979e-02\n",
      "Better valLoss: 1.0979e-02, Saving models...\n"
     ]
    },
    {
     "name": "stderr",
     "output_type": "stream",
     "text": [
      "\r",
      " 20%|█▉        | 198/1000 [03:18<13:40,  1.02s/it]"
     ]
    },
    {
     "name": "stdout",
     "output_type": "stream",
     "text": [
      "--- Epoch 199/1000 ---\n",
      "trainLoss: 1.0978e-02\n",
      "LR: 1.0000e-07\n",
      "valLoss: 1.0975e-02\n",
      "Better valLoss: 1.0975e-02, Saving models...\n"
     ]
    },
    {
     "name": "stderr",
     "output_type": "stream",
     "text": [
      "\r",
      " 20%|█▉        | 199/1000 [03:19<13:41,  1.03s/it]"
     ]
    },
    {
     "name": "stdout",
     "output_type": "stream",
     "text": [
      "--- Epoch 200/1000 ---\n",
      "trainLoss: 1.0974e-02\n",
      "LR: 1.0000e-07\n",
      "valLoss: 1.0971e-02\n",
      "Better valLoss: 1.0971e-02, Saving models...\n"
     ]
    },
    {
     "name": "stderr",
     "output_type": "stream",
     "text": [
      "\r",
      " 20%|██        | 200/1000 [03:20<13:35,  1.02s/it]"
     ]
    },
    {
     "name": "stdout",
     "output_type": "stream",
     "text": [
      "--- Epoch 201/1000 ---\n",
      "trainLoss: 1.0970e-02\n",
      "LR: 1.0000e-07\n",
      "valLoss: 1.0967e-02\n",
      "Better valLoss: 1.0967e-02, Saving models...\n"
     ]
    },
    {
     "name": "stderr",
     "output_type": "stream",
     "text": [
      "\r",
      " 20%|██        | 201/1000 [03:22<13:39,  1.03s/it]"
     ]
    },
    {
     "name": "stdout",
     "output_type": "stream",
     "text": [
      "--- Epoch 202/1000 ---\n",
      "trainLoss: 1.0966e-02\n",
      "LR: 1.0000e-07\n",
      "valLoss: 1.0963e-02\n",
      "Better valLoss: 1.0963e-02, Saving models...\n"
     ]
    },
    {
     "name": "stderr",
     "output_type": "stream",
     "text": [
      "\r",
      " 20%|██        | 202/1000 [03:23<13:37,  1.02s/it]"
     ]
    },
    {
     "name": "stdout",
     "output_type": "stream",
     "text": [
      "--- Epoch 203/1000 ---\n",
      "trainLoss: 1.0961e-02\n",
      "LR: 1.0000e-07\n",
      "valLoss: 1.0958e-02\n",
      "Better valLoss: 1.0958e-02, Saving models...\n"
     ]
    },
    {
     "name": "stderr",
     "output_type": "stream",
     "text": [
      "\r",
      " 20%|██        | 203/1000 [03:24<13:31,  1.02s/it]"
     ]
    },
    {
     "name": "stdout",
     "output_type": "stream",
     "text": [
      "--- Epoch 204/1000 ---\n",
      "trainLoss: 1.0957e-02\n",
      "LR: 1.0000e-07\n",
      "valLoss: 1.0954e-02\n",
      "Better valLoss: 1.0954e-02, Saving models...\n"
     ]
    },
    {
     "name": "stderr",
     "output_type": "stream",
     "text": [
      "\r",
      " 20%|██        | 204/1000 [03:25<13:41,  1.03s/it]"
     ]
    },
    {
     "name": "stdout",
     "output_type": "stream",
     "text": [
      "--- Epoch 205/1000 ---\n",
      "trainLoss: 1.0953e-02\n",
      "LR: 1.0000e-07\n",
      "valLoss: 1.0950e-02\n",
      "Better valLoss: 1.0950e-02, Saving models...\n"
     ]
    },
    {
     "name": "stderr",
     "output_type": "stream",
     "text": [
      "\r",
      " 20%|██        | 205/1000 [03:26<13:39,  1.03s/it]"
     ]
    },
    {
     "name": "stdout",
     "output_type": "stream",
     "text": [
      "--- Epoch 206/1000 ---\n",
      "trainLoss: 1.0949e-02\n",
      "LR: 1.0000e-07\n",
      "valLoss: 1.0946e-02\n",
      "Better valLoss: 1.0946e-02, Saving models...\n"
     ]
    },
    {
     "name": "stderr",
     "output_type": "stream",
     "text": [
      "\r",
      " 21%|██        | 206/1000 [03:27<13:29,  1.02s/it]"
     ]
    },
    {
     "name": "stdout",
     "output_type": "stream",
     "text": [
      "--- Epoch 207/1000 ---\n",
      "trainLoss: 1.0945e-02\n",
      "LR: 1.0000e-07\n",
      "valLoss: 1.0942e-02\n",
      "Better valLoss: 1.0942e-02, Saving models...\n"
     ]
    },
    {
     "name": "stderr",
     "output_type": "stream",
     "text": [
      "\r",
      " 21%|██        | 207/1000 [03:28<13:35,  1.03s/it]"
     ]
    },
    {
     "name": "stdout",
     "output_type": "stream",
     "text": [
      "--- Epoch 208/1000 ---\n",
      "trainLoss: 1.0941e-02\n",
      "LR: 1.0000e-07\n",
      "valLoss: 1.0938e-02\n",
      "Better valLoss: 1.0938e-02, Saving models...\n"
     ]
    },
    {
     "name": "stderr",
     "output_type": "stream",
     "text": [
      "\r",
      " 21%|██        | 208/1000 [03:29<13:28,  1.02s/it]"
     ]
    },
    {
     "name": "stdout",
     "output_type": "stream",
     "text": [
      "--- Epoch 209/1000 ---\n",
      "trainLoss: 1.0937e-02\n",
      "LR: 1.0000e-07\n",
      "valLoss: 1.0933e-02\n",
      "Better valLoss: 1.0933e-02, Saving models...\n"
     ]
    },
    {
     "name": "stderr",
     "output_type": "stream",
     "text": [
      "\r",
      " 21%|██        | 209/1000 [03:30<13:29,  1.02s/it]"
     ]
    },
    {
     "name": "stdout",
     "output_type": "stream",
     "text": [
      "--- Epoch 210/1000 ---\n",
      "trainLoss: 1.0932e-02\n",
      "LR: 1.0000e-07\n",
      "valLoss: 1.0929e-02\n",
      "Better valLoss: 1.0929e-02, Saving models...\n"
     ]
    },
    {
     "name": "stderr",
     "output_type": "stream",
     "text": [
      "\r",
      " 21%|██        | 210/1000 [03:31<13:25,  1.02s/it]"
     ]
    },
    {
     "name": "stdout",
     "output_type": "stream",
     "text": [
      "--- Epoch 211/1000 ---\n",
      "trainLoss: 1.0928e-02\n",
      "LR: 1.0000e-07\n",
      "valLoss: 1.0925e-02\n",
      "Better valLoss: 1.0925e-02, Saving models...\n"
     ]
    },
    {
     "name": "stderr",
     "output_type": "stream",
     "text": [
      "\r",
      " 21%|██        | 211/1000 [03:32<13:25,  1.02s/it]"
     ]
    },
    {
     "name": "stdout",
     "output_type": "stream",
     "text": [
      "--- Epoch 212/1000 ---\n",
      "trainLoss: 1.0924e-02\n",
      "LR: 1.0000e-07\n",
      "valLoss: 1.0921e-02\n",
      "Better valLoss: 1.0921e-02, Saving models...\n"
     ]
    },
    {
     "name": "stderr",
     "output_type": "stream",
     "text": [
      "\r",
      " 21%|██        | 212/1000 [03:33<13:16,  1.01s/it]"
     ]
    },
    {
     "name": "stdout",
     "output_type": "stream",
     "text": [
      "--- Epoch 213/1000 ---\n",
      "trainLoss: 1.0920e-02\n",
      "LR: 1.0000e-07\n",
      "valLoss: 1.0917e-02\n",
      "Better valLoss: 1.0917e-02, Saving models...\n"
     ]
    },
    {
     "name": "stderr",
     "output_type": "stream",
     "text": [
      "\r",
      " 21%|██▏       | 213/1000 [03:34<13:07,  1.00s/it]"
     ]
    },
    {
     "name": "stdout",
     "output_type": "stream",
     "text": [
      "--- Epoch 214/1000 ---\n",
      "trainLoss: 1.0916e-02\n",
      "LR: 1.0000e-07\n",
      "valLoss: 1.0913e-02\n",
      "Better valLoss: 1.0913e-02, Saving models...\n"
     ]
    },
    {
     "name": "stderr",
     "output_type": "stream",
     "text": [
      "\r",
      " 21%|██▏       | 214/1000 [03:35<13:10,  1.01s/it]"
     ]
    },
    {
     "name": "stdout",
     "output_type": "stream",
     "text": [
      "--- Epoch 215/1000 ---\n",
      "trainLoss: 1.0912e-02\n",
      "LR: 1.0000e-07\n",
      "valLoss: 1.0909e-02\n",
      "Better valLoss: 1.0909e-02, Saving models...\n"
     ]
    },
    {
     "name": "stderr",
     "output_type": "stream",
     "text": [
      "\r",
      " 22%|██▏       | 215/1000 [03:36<13:14,  1.01s/it]"
     ]
    },
    {
     "name": "stdout",
     "output_type": "stream",
     "text": [
      "--- Epoch 216/1000 ---\n",
      "trainLoss: 1.0908e-02\n",
      "LR: 1.0000e-07\n",
      "valLoss: 1.0904e-02\n",
      "Better valLoss: 1.0904e-02, Saving models...\n"
     ]
    },
    {
     "name": "stderr",
     "output_type": "stream",
     "text": [
      "\r",
      " 22%|██▏       | 216/1000 [03:37<13:04,  1.00s/it]"
     ]
    },
    {
     "name": "stdout",
     "output_type": "stream",
     "text": [
      "--- Epoch 217/1000 ---\n",
      "trainLoss: 1.0903e-02\n",
      "LR: 1.0000e-07\n",
      "valLoss: 1.0900e-02\n",
      "Better valLoss: 1.0900e-02, Saving models...\n"
     ]
    },
    {
     "name": "stderr",
     "output_type": "stream",
     "text": [
      "\r",
      " 22%|██▏       | 217/1000 [03:38<13:07,  1.01s/it]"
     ]
    },
    {
     "name": "stdout",
     "output_type": "stream",
     "text": [
      "--- Epoch 218/1000 ---\n",
      "trainLoss: 1.0899e-02\n",
      "LR: 1.0000e-07\n",
      "valLoss: 1.0896e-02\n",
      "Better valLoss: 1.0896e-02, Saving models...\n"
     ]
    },
    {
     "name": "stderr",
     "output_type": "stream",
     "text": [
      "\r",
      " 22%|██▏       | 218/1000 [03:39<12:57,  1.01it/s]"
     ]
    },
    {
     "name": "stdout",
     "output_type": "stream",
     "text": [
      "--- Epoch 219/1000 ---\n",
      "trainLoss: 1.0895e-02\n",
      "LR: 1.0000e-07\n",
      "valLoss: 1.0892e-02\n",
      "Better valLoss: 1.0892e-02, Saving models...\n"
     ]
    },
    {
     "name": "stderr",
     "output_type": "stream",
     "text": [
      "\r",
      " 22%|██▏       | 219/1000 [03:40<13:11,  1.01s/it]"
     ]
    },
    {
     "name": "stdout",
     "output_type": "stream",
     "text": [
      "--- Epoch 220/1000 ---\n",
      "trainLoss: 1.0891e-02\n",
      "LR: 1.0000e-07\n",
      "valLoss: 1.0888e-02\n",
      "Better valLoss: 1.0888e-02, Saving models...\n"
     ]
    },
    {
     "name": "stderr",
     "output_type": "stream",
     "text": [
      "\r",
      " 22%|██▏       | 220/1000 [03:41<12:59,  1.00it/s]"
     ]
    },
    {
     "name": "stdout",
     "output_type": "stream",
     "text": [
      "--- Epoch 221/1000 ---\n",
      "trainLoss: 1.0887e-02\n",
      "LR: 1.0000e-07\n",
      "valLoss: 1.0884e-02\n",
      "Better valLoss: 1.0884e-02, Saving models...\n"
     ]
    },
    {
     "name": "stderr",
     "output_type": "stream",
     "text": [
      "\r",
      " 22%|██▏       | 221/1000 [03:42<12:53,  1.01it/s]"
     ]
    },
    {
     "name": "stdout",
     "output_type": "stream",
     "text": [
      "--- Epoch 222/1000 ---\n",
      "trainLoss: 1.0883e-02\n",
      "LR: 1.0000e-07\n",
      "valLoss: 1.0880e-02\n",
      "Better valLoss: 1.0880e-02, Saving models...\n"
     ]
    },
    {
     "name": "stderr",
     "output_type": "stream",
     "text": [
      "\r",
      " 22%|██▏       | 222/1000 [03:43<12:45,  1.02it/s]"
     ]
    },
    {
     "name": "stdout",
     "output_type": "stream",
     "text": [
      "--- Epoch 223/1000 ---\n",
      "trainLoss: 1.0879e-02\n",
      "LR: 1.0000e-07\n",
      "valLoss: 1.0875e-02\n",
      "Better valLoss: 1.0875e-02, Saving models...\n"
     ]
    },
    {
     "name": "stderr",
     "output_type": "stream",
     "text": [
      "\r",
      " 22%|██▏       | 223/1000 [03:44<12:27,  1.04it/s]"
     ]
    },
    {
     "name": "stdout",
     "output_type": "stream",
     "text": [
      "--- Epoch 224/1000 ---\n",
      "trainLoss: 1.0874e-02\n",
      "LR: 1.0000e-07\n",
      "valLoss: 1.0871e-02\n",
      "Better valLoss: 1.0871e-02, Saving models...\n"
     ]
    },
    {
     "name": "stderr",
     "output_type": "stream",
     "text": [
      "\r",
      " 22%|██▏       | 224/1000 [03:45<12:32,  1.03it/s]"
     ]
    },
    {
     "name": "stdout",
     "output_type": "stream",
     "text": [
      "--- Epoch 225/1000 ---\n",
      "trainLoss: 1.0870e-02\n",
      "LR: 1.0000e-07\n",
      "valLoss: 1.0867e-02\n",
      "Better valLoss: 1.0867e-02, Saving models...\n"
     ]
    },
    {
     "name": "stderr",
     "output_type": "stream",
     "text": [
      "\r",
      " 22%|██▎       | 225/1000 [03:46<12:58,  1.01s/it]"
     ]
    },
    {
     "name": "stdout",
     "output_type": "stream",
     "text": [
      "--- Epoch 226/1000 ---\n",
      "trainLoss: 1.0866e-02\n",
      "LR: 1.0000e-07\n",
      "valLoss: 1.0863e-02\n",
      "Better valLoss: 1.0863e-02, Saving models...\n"
     ]
    },
    {
     "name": "stderr",
     "output_type": "stream",
     "text": [
      "\r",
      " 23%|██▎       | 226/1000 [03:47<12:46,  1.01it/s]"
     ]
    },
    {
     "name": "stdout",
     "output_type": "stream",
     "text": [
      "--- Epoch 227/1000 ---\n",
      "trainLoss: 1.0862e-02\n",
      "LR: 1.0000e-07\n",
      "valLoss: 1.0859e-02\n",
      "Better valLoss: 1.0859e-02, Saving models...\n"
     ]
    },
    {
     "name": "stderr",
     "output_type": "stream",
     "text": [
      "\r",
      " 23%|██▎       | 227/1000 [03:48<12:55,  1.00s/it]"
     ]
    },
    {
     "name": "stdout",
     "output_type": "stream",
     "text": [
      "--- Epoch 228/1000 ---\n",
      "trainLoss: 1.0858e-02\n",
      "LR: 1.0000e-07\n",
      "valLoss: 1.0855e-02\n",
      "Better valLoss: 1.0855e-02, Saving models...\n"
     ]
    },
    {
     "name": "stderr",
     "output_type": "stream",
     "text": [
      "\r",
      " 23%|██▎       | 228/1000 [03:49<13:03,  1.01s/it]"
     ]
    },
    {
     "name": "stdout",
     "output_type": "stream",
     "text": [
      "--- Epoch 229/1000 ---\n",
      "trainLoss: 1.0854e-02\n",
      "LR: 1.0000e-07\n",
      "valLoss: 1.0851e-02\n",
      "Better valLoss: 1.0851e-02, Saving models...\n"
     ]
    },
    {
     "name": "stderr",
     "output_type": "stream",
     "text": [
      "\r",
      " 23%|██▎       | 229/1000 [03:50<13:07,  1.02s/it]"
     ]
    },
    {
     "name": "stdout",
     "output_type": "stream",
     "text": [
      "--- Epoch 230/1000 ---\n",
      "trainLoss: 1.0850e-02\n",
      "LR: 1.0000e-07\n",
      "valLoss: 1.0846e-02\n",
      "Better valLoss: 1.0846e-02, Saving models...\n"
     ]
    },
    {
     "name": "stderr",
     "output_type": "stream",
     "text": [
      "\r",
      " 23%|██▎       | 230/1000 [03:51<13:01,  1.02s/it]"
     ]
    },
    {
     "name": "stdout",
     "output_type": "stream",
     "text": [
      "--- Epoch 231/1000 ---\n",
      "trainLoss: 1.0845e-02\n",
      "LR: 1.0000e-07\n",
      "valLoss: 1.0842e-02\n",
      "Better valLoss: 1.0842e-02, Saving models...\n"
     ]
    },
    {
     "name": "stderr",
     "output_type": "stream",
     "text": [
      "\r",
      " 23%|██▎       | 231/1000 [03:52<13:08,  1.03s/it]"
     ]
    },
    {
     "name": "stdout",
     "output_type": "stream",
     "text": [
      "--- Epoch 232/1000 ---\n",
      "trainLoss: 1.0841e-02\n",
      "LR: 1.0000e-07\n",
      "valLoss: 1.0838e-02\n",
      "Better valLoss: 1.0838e-02, Saving models...\n"
     ]
    },
    {
     "name": "stderr",
     "output_type": "stream",
     "text": [
      "\r",
      " 23%|██▎       | 232/1000 [03:53<13:09,  1.03s/it]"
     ]
    },
    {
     "name": "stdout",
     "output_type": "stream",
     "text": [
      "--- Epoch 233/1000 ---\n",
      "trainLoss: 1.0837e-02\n",
      "LR: 1.0000e-07\n",
      "valLoss: 1.0834e-02\n",
      "Better valLoss: 1.0834e-02, Saving models...\n"
     ]
    },
    {
     "name": "stderr",
     "output_type": "stream",
     "text": [
      "\r",
      " 23%|██▎       | 233/1000 [03:54<13:16,  1.04s/it]"
     ]
    },
    {
     "name": "stdout",
     "output_type": "stream",
     "text": [
      "--- Epoch 234/1000 ---\n",
      "trainLoss: 1.0833e-02\n",
      "LR: 1.0000e-07\n",
      "valLoss: 1.0830e-02\n",
      "Better valLoss: 1.0830e-02, Saving models...\n"
     ]
    },
    {
     "name": "stderr",
     "output_type": "stream",
     "text": [
      "\r",
      " 23%|██▎       | 234/1000 [03:55<13:10,  1.03s/it]"
     ]
    },
    {
     "name": "stdout",
     "output_type": "stream",
     "text": [
      "--- Epoch 235/1000 ---\n",
      "trainLoss: 1.0829e-02\n",
      "LR: 1.0000e-07\n",
      "valLoss: 1.0826e-02\n",
      "Better valLoss: 1.0826e-02, Saving models...\n"
     ]
    },
    {
     "name": "stderr",
     "output_type": "stream",
     "text": [
      "\r",
      " 24%|██▎       | 235/1000 [03:56<13:20,  1.05s/it]"
     ]
    },
    {
     "name": "stdout",
     "output_type": "stream",
     "text": [
      "--- Epoch 236/1000 ---\n",
      "trainLoss: 1.0825e-02\n",
      "LR: 1.0000e-07\n",
      "valLoss: 1.0822e-02\n",
      "Better valLoss: 1.0822e-02, Saving models...\n"
     ]
    },
    {
     "name": "stderr",
     "output_type": "stream",
     "text": [
      "\r",
      " 24%|██▎       | 236/1000 [03:57<12:54,  1.01s/it]"
     ]
    },
    {
     "name": "stdout",
     "output_type": "stream",
     "text": [
      "--- Epoch 237/1000 ---\n",
      "trainLoss: 1.0821e-02\n",
      "LR: 1.0000e-07\n",
      "valLoss: 1.0817e-02\n",
      "Better valLoss: 1.0817e-02, Saving models...\n"
     ]
    },
    {
     "name": "stderr",
     "output_type": "stream",
     "text": [
      "\r",
      " 24%|██▎       | 237/1000 [03:58<12:48,  1.01s/it]"
     ]
    },
    {
     "name": "stdout",
     "output_type": "stream",
     "text": [
      "--- Epoch 238/1000 ---\n",
      "trainLoss: 1.0816e-02\n",
      "LR: 1.0000e-07\n",
      "valLoss: 1.0813e-02\n",
      "Better valLoss: 1.0813e-02, Saving models...\n"
     ]
    },
    {
     "name": "stderr",
     "output_type": "stream",
     "text": [
      "\r",
      " 24%|██▍       | 238/1000 [03:59<13:00,  1.02s/it]"
     ]
    },
    {
     "name": "stdout",
     "output_type": "stream",
     "text": [
      "--- Epoch 239/1000 ---\n",
      "trainLoss: 1.0812e-02\n",
      "LR: 1.0000e-07\n",
      "valLoss: 1.0809e-02\n",
      "Better valLoss: 1.0809e-02, Saving models...\n"
     ]
    },
    {
     "name": "stderr",
     "output_type": "stream",
     "text": [
      "\r",
      " 24%|██▍       | 239/1000 [04:00<12:51,  1.01s/it]"
     ]
    },
    {
     "name": "stdout",
     "output_type": "stream",
     "text": [
      "--- Epoch 240/1000 ---\n",
      "trainLoss: 1.0808e-02\n",
      "LR: 1.0000e-07\n",
      "valLoss: 1.0805e-02\n",
      "Better valLoss: 1.0805e-02, Saving models...\n"
     ]
    },
    {
     "name": "stderr",
     "output_type": "stream",
     "text": [
      "\r",
      " 24%|██▍       | 240/1000 [04:01<12:44,  1.01s/it]"
     ]
    },
    {
     "name": "stdout",
     "output_type": "stream",
     "text": [
      "--- Epoch 241/1000 ---\n",
      "trainLoss: 1.0804e-02\n",
      "LR: 1.0000e-07\n",
      "valLoss: 1.0801e-02\n",
      "Better valLoss: 1.0801e-02, Saving models...\n"
     ]
    },
    {
     "name": "stderr",
     "output_type": "stream",
     "text": [
      "\r",
      " 24%|██▍       | 241/1000 [04:02<12:34,  1.01it/s]"
     ]
    },
    {
     "name": "stdout",
     "output_type": "stream",
     "text": [
      "--- Epoch 242/1000 ---\n",
      "trainLoss: 1.0800e-02\n",
      "LR: 1.0000e-07\n",
      "valLoss: 1.0797e-02\n",
      "Better valLoss: 1.0797e-02, Saving models...\n"
     ]
    },
    {
     "name": "stderr",
     "output_type": "stream",
     "text": [
      "\r",
      " 24%|██▍       | 242/1000 [04:03<12:37,  1.00it/s]"
     ]
    },
    {
     "name": "stdout",
     "output_type": "stream",
     "text": [
      "--- Epoch 243/1000 ---\n",
      "trainLoss: 1.0796e-02\n",
      "LR: 1.0000e-07\n",
      "valLoss: 1.0793e-02\n",
      "Better valLoss: 1.0793e-02, Saving models...\n"
     ]
    },
    {
     "name": "stderr",
     "output_type": "stream",
     "text": [
      "\r",
      " 24%|██▍       | 243/1000 [04:04<12:06,  1.04it/s]"
     ]
    },
    {
     "name": "stdout",
     "output_type": "stream",
     "text": [
      "--- Epoch 244/1000 ---\n",
      "trainLoss: 1.0792e-02\n",
      "LR: 1.0000e-07\n",
      "valLoss: 1.0789e-02\n",
      "Better valLoss: 1.0789e-02, Saving models...\n"
     ]
    },
    {
     "name": "stderr",
     "output_type": "stream",
     "text": [
      "\r",
      " 24%|██▍       | 244/1000 [04:05<12:17,  1.03it/s]"
     ]
    },
    {
     "name": "stdout",
     "output_type": "stream",
     "text": [
      "--- Epoch 245/1000 ---\n",
      "trainLoss: 1.0788e-02\n",
      "LR: 1.0000e-07\n",
      "valLoss: 1.0785e-02\n",
      "Better valLoss: 1.0785e-02, Saving models...\n"
     ]
    },
    {
     "name": "stderr",
     "output_type": "stream",
     "text": [
      "\r",
      " 24%|██▍       | 245/1000 [04:06<12:15,  1.03it/s]"
     ]
    },
    {
     "name": "stdout",
     "output_type": "stream",
     "text": [
      "--- Epoch 246/1000 ---\n",
      "trainLoss: 1.0784e-02\n",
      "LR: 1.0000e-07\n",
      "valLoss: 1.0780e-02\n",
      "Better valLoss: 1.0780e-02, Saving models...\n"
     ]
    },
    {
     "name": "stderr",
     "output_type": "stream",
     "text": [
      "\r",
      " 25%|██▍       | 246/1000 [04:07<12:10,  1.03it/s]"
     ]
    },
    {
     "name": "stdout",
     "output_type": "stream",
     "text": [
      "--- Epoch 247/1000 ---\n",
      "trainLoss: 1.0779e-02\n",
      "LR: 1.0000e-07\n",
      "valLoss: 1.0776e-02\n",
      "Better valLoss: 1.0776e-02, Saving models...\n"
     ]
    },
    {
     "name": "stderr",
     "output_type": "stream",
     "text": [
      "\r",
      " 25%|██▍       | 247/1000 [04:08<12:27,  1.01it/s]"
     ]
    },
    {
     "name": "stdout",
     "output_type": "stream",
     "text": [
      "--- Epoch 248/1000 ---\n",
      "trainLoss: 1.0775e-02\n",
      "LR: 1.0000e-07\n",
      "valLoss: 1.0772e-02\n",
      "Better valLoss: 1.0772e-02, Saving models...\n"
     ]
    },
    {
     "name": "stderr",
     "output_type": "stream",
     "text": [
      "\r",
      " 25%|██▍       | 248/1000 [04:09<12:36,  1.01s/it]"
     ]
    },
    {
     "name": "stdout",
     "output_type": "stream",
     "text": [
      "--- Epoch 249/1000 ---\n",
      "trainLoss: 1.0771e-02\n",
      "LR: 1.0000e-07\n",
      "valLoss: 1.0768e-02\n",
      "Better valLoss: 1.0768e-02, Saving models...\n"
     ]
    },
    {
     "name": "stderr",
     "output_type": "stream",
     "text": [
      "\r",
      " 25%|██▍       | 249/1000 [04:10<12:38,  1.01s/it]"
     ]
    },
    {
     "name": "stdout",
     "output_type": "stream",
     "text": [
      "--- Epoch 250/1000 ---\n",
      "trainLoss: 1.0767e-02\n",
      "LR: 1.0000e-07\n",
      "valLoss: 1.0764e-02\n",
      "Better valLoss: 1.0764e-02, Saving models...\n"
     ]
    },
    {
     "name": "stderr",
     "output_type": "stream",
     "text": [
      "\r",
      " 25%|██▌       | 250/1000 [04:11<12:33,  1.00s/it]"
     ]
    },
    {
     "name": "stdout",
     "output_type": "stream",
     "text": [
      "--- Epoch 251/1000 ---\n",
      "trainLoss: 1.0763e-02\n",
      "LR: 1.0000e-07\n",
      "valLoss: 1.0760e-02\n",
      "Better valLoss: 1.0760e-02, Saving models...\n"
     ]
    },
    {
     "name": "stderr",
     "output_type": "stream",
     "text": [
      "\r",
      " 25%|██▌       | 251/1000 [04:12<12:37,  1.01s/it]"
     ]
    },
    {
     "name": "stdout",
     "output_type": "stream",
     "text": [
      "--- Epoch 252/1000 ---\n",
      "trainLoss: 1.0759e-02\n",
      "LR: 1.0000e-07\n",
      "valLoss: 1.0756e-02\n",
      "Better valLoss: 1.0756e-02, Saving models...\n"
     ]
    },
    {
     "name": "stderr",
     "output_type": "stream",
     "text": [
      "\r",
      " 25%|██▌       | 252/1000 [04:13<12:45,  1.02s/it]"
     ]
    },
    {
     "name": "stdout",
     "output_type": "stream",
     "text": [
      "--- Epoch 253/1000 ---\n",
      "trainLoss: 1.0755e-02\n",
      "LR: 1.0000e-07\n",
      "valLoss: 1.0751e-02\n",
      "Better valLoss: 1.0751e-02, Saving models...\n"
     ]
    },
    {
     "name": "stderr",
     "output_type": "stream",
     "text": [
      "\r",
      " 25%|██▌       | 253/1000 [04:14<12:33,  1.01s/it]"
     ]
    },
    {
     "name": "stdout",
     "output_type": "stream",
     "text": [
      "--- Epoch 254/1000 ---\n",
      "trainLoss: 1.0750e-02\n",
      "LR: 1.0000e-07\n",
      "valLoss: 1.0747e-02\n",
      "Better valLoss: 1.0747e-02, Saving models...\n"
     ]
    },
    {
     "name": "stderr",
     "output_type": "stream",
     "text": [
      "\r",
      " 25%|██▌       | 254/1000 [04:15<12:35,  1.01s/it]"
     ]
    },
    {
     "name": "stdout",
     "output_type": "stream",
     "text": [
      "--- Epoch 255/1000 ---\n",
      "trainLoss: 1.0746e-02\n",
      "LR: 1.0000e-07\n",
      "valLoss: 1.0743e-02\n",
      "Better valLoss: 1.0743e-02, Saving models...\n"
     ]
    },
    {
     "name": "stderr",
     "output_type": "stream",
     "text": [
      "\r",
      " 26%|██▌       | 255/1000 [04:16<12:31,  1.01s/it]"
     ]
    },
    {
     "name": "stdout",
     "output_type": "stream",
     "text": [
      "--- Epoch 256/1000 ---\n",
      "trainLoss: 1.0742e-02\n",
      "LR: 1.0000e-07\n",
      "valLoss: 1.0739e-02\n",
      "Better valLoss: 1.0739e-02, Saving models...\n"
     ]
    },
    {
     "name": "stderr",
     "output_type": "stream",
     "text": [
      "\r",
      " 26%|██▌       | 256/1000 [04:17<12:41,  1.02s/it]"
     ]
    },
    {
     "name": "stdout",
     "output_type": "stream",
     "text": [
      "--- Epoch 257/1000 ---\n",
      "trainLoss: 1.0738e-02\n",
      "LR: 1.0000e-07\n",
      "valLoss: 1.0735e-02\n",
      "Better valLoss: 1.0735e-02, Saving models...\n"
     ]
    },
    {
     "name": "stderr",
     "output_type": "stream",
     "text": [
      "\r",
      " 26%|██▌       | 257/1000 [04:18<12:51,  1.04s/it]"
     ]
    },
    {
     "name": "stdout",
     "output_type": "stream",
     "text": [
      "--- Epoch 258/1000 ---\n",
      "trainLoss: 1.0734e-02\n",
      "LR: 1.0000e-07\n",
      "valLoss: 1.0731e-02\n",
      "Better valLoss: 1.0731e-02, Saving models...\n"
     ]
    },
    {
     "name": "stderr",
     "output_type": "stream",
     "text": [
      "\r",
      " 26%|██▌       | 258/1000 [04:19<12:52,  1.04s/it]"
     ]
    },
    {
     "name": "stdout",
     "output_type": "stream",
     "text": [
      "--- Epoch 259/1000 ---\n",
      "trainLoss: 1.0730e-02\n",
      "LR: 1.0000e-07\n",
      "valLoss: 1.0727e-02\n",
      "Better valLoss: 1.0727e-02, Saving models...\n"
     ]
    },
    {
     "name": "stderr",
     "output_type": "stream",
     "text": [
      "\r",
      " 26%|██▌       | 259/1000 [04:20<12:50,  1.04s/it]"
     ]
    },
    {
     "name": "stdout",
     "output_type": "stream",
     "text": [
      "--- Epoch 260/1000 ---\n",
      "trainLoss: 1.0726e-02\n",
      "LR: 1.0000e-07\n",
      "valLoss: 1.0723e-02\n",
      "Better valLoss: 1.0723e-02, Saving models...\n"
     ]
    },
    {
     "name": "stderr",
     "output_type": "stream",
     "text": [
      "\r",
      " 26%|██▌       | 260/1000 [04:21<12:33,  1.02s/it]"
     ]
    },
    {
     "name": "stdout",
     "output_type": "stream",
     "text": [
      "--- Epoch 261/1000 ---\n",
      "trainLoss: 1.0722e-02\n",
      "LR: 1.0000e-07\n",
      "valLoss: 1.0719e-02\n",
      "Better valLoss: 1.0719e-02, Saving models...\n"
     ]
    },
    {
     "name": "stderr",
     "output_type": "stream",
     "text": [
      "\r",
      " 26%|██▌       | 261/1000 [04:22<12:24,  1.01s/it]"
     ]
    },
    {
     "name": "stdout",
     "output_type": "stream",
     "text": [
      "--- Epoch 262/1000 ---\n",
      "trainLoss: 1.0718e-02\n",
      "LR: 1.0000e-07\n",
      "valLoss: 1.0715e-02\n",
      "Better valLoss: 1.0715e-02, Saving models...\n"
     ]
    },
    {
     "name": "stderr",
     "output_type": "stream",
     "text": [
      "\r",
      " 26%|██▌       | 262/1000 [04:23<12:29,  1.02s/it]"
     ]
    },
    {
     "name": "stdout",
     "output_type": "stream",
     "text": [
      "--- Epoch 263/1000 ---\n",
      "trainLoss: 1.0714e-02\n",
      "LR: 1.0000e-07\n",
      "valLoss: 1.0711e-02\n",
      "Better valLoss: 1.0711e-02, Saving models...\n"
     ]
    },
    {
     "name": "stderr",
     "output_type": "stream",
     "text": [
      "\r",
      " 26%|██▋       | 263/1000 [04:24<12:02,  1.02it/s]"
     ]
    },
    {
     "name": "stdout",
     "output_type": "stream",
     "text": [
      "--- Epoch 264/1000 ---\n",
      "trainLoss: 1.0709e-02\n",
      "LR: 1.0000e-07\n",
      "valLoss: 1.0706e-02\n",
      "Better valLoss: 1.0706e-02, Saving models...\n"
     ]
    },
    {
     "name": "stderr",
     "output_type": "stream",
     "text": [
      "\r",
      " 26%|██▋       | 264/1000 [04:25<11:58,  1.02it/s]"
     ]
    },
    {
     "name": "stdout",
     "output_type": "stream",
     "text": [
      "--- Epoch 265/1000 ---\n",
      "trainLoss: 1.0705e-02\n",
      "LR: 1.0000e-07\n",
      "valLoss: 1.0702e-02\n",
      "Better valLoss: 1.0702e-02, Saving models...\n"
     ]
    },
    {
     "name": "stderr",
     "output_type": "stream",
     "text": [
      "\r",
      " 26%|██▋       | 265/1000 [04:26<12:04,  1.01it/s]"
     ]
    },
    {
     "name": "stdout",
     "output_type": "stream",
     "text": [
      "--- Epoch 266/1000 ---\n",
      "trainLoss: 1.0701e-02\n",
      "LR: 1.0000e-07\n",
      "valLoss: 1.0698e-02\n",
      "Better valLoss: 1.0698e-02, Saving models...\n"
     ]
    },
    {
     "name": "stderr",
     "output_type": "stream",
     "text": [
      "\r",
      " 27%|██▋       | 266/1000 [04:27<12:04,  1.01it/s]"
     ]
    },
    {
     "name": "stdout",
     "output_type": "stream",
     "text": [
      "--- Epoch 267/1000 ---\n",
      "trainLoss: 1.0697e-02\n",
      "LR: 1.0000e-07\n",
      "valLoss: 1.0694e-02\n",
      "Better valLoss: 1.0694e-02, Saving models...\n"
     ]
    },
    {
     "name": "stderr",
     "output_type": "stream",
     "text": [
      "\r",
      " 27%|██▋       | 267/1000 [04:28<12:00,  1.02it/s]"
     ]
    },
    {
     "name": "stdout",
     "output_type": "stream",
     "text": [
      "--- Epoch 268/1000 ---\n",
      "trainLoss: 1.0693e-02\n",
      "LR: 1.0000e-07\n",
      "valLoss: 1.0690e-02\n",
      "Better valLoss: 1.0690e-02, Saving models...\n"
     ]
    },
    {
     "name": "stderr",
     "output_type": "stream",
     "text": [
      "\r",
      " 27%|██▋       | 268/1000 [04:29<11:57,  1.02it/s]"
     ]
    },
    {
     "name": "stdout",
     "output_type": "stream",
     "text": [
      "--- Epoch 269/1000 ---\n",
      "trainLoss: 1.0689e-02\n",
      "LR: 1.0000e-07\n",
      "valLoss: 1.0686e-02\n",
      "Better valLoss: 1.0686e-02, Saving models...\n"
     ]
    },
    {
     "name": "stderr",
     "output_type": "stream",
     "text": [
      "\r",
      " 27%|██▋       | 269/1000 [04:30<12:02,  1.01it/s]"
     ]
    },
    {
     "name": "stdout",
     "output_type": "stream",
     "text": [
      "--- Epoch 270/1000 ---\n",
      "trainLoss: 1.0685e-02\n",
      "LR: 1.0000e-07\n",
      "valLoss: 1.0682e-02\n",
      "Better valLoss: 1.0682e-02, Saving models...\n"
     ]
    },
    {
     "name": "stderr",
     "output_type": "stream",
     "text": [
      "\r",
      " 27%|██▋       | 270/1000 [04:31<11:54,  1.02it/s]"
     ]
    },
    {
     "name": "stdout",
     "output_type": "stream",
     "text": [
      "--- Epoch 271/1000 ---\n",
      "trainLoss: 1.0681e-02\n",
      "LR: 1.0000e-07\n",
      "valLoss: 1.0678e-02\n",
      "Better valLoss: 1.0678e-02, Saving models...\n"
     ]
    },
    {
     "name": "stderr",
     "output_type": "stream",
     "text": [
      "\r",
      " 27%|██▋       | 271/1000 [04:32<12:15,  1.01s/it]"
     ]
    },
    {
     "name": "stdout",
     "output_type": "stream",
     "text": [
      "--- Epoch 272/1000 ---\n",
      "trainLoss: 1.0677e-02\n",
      "LR: 1.0000e-07\n",
      "valLoss: 1.0674e-02\n",
      "Better valLoss: 1.0674e-02, Saving models...\n"
     ]
    },
    {
     "name": "stderr",
     "output_type": "stream",
     "text": [
      "\r",
      " 27%|██▋       | 272/1000 [04:33<12:12,  1.01s/it]"
     ]
    },
    {
     "name": "stdout",
     "output_type": "stream",
     "text": [
      "--- Epoch 273/1000 ---\n",
      "trainLoss: 1.0673e-02\n",
      "LR: 1.0000e-07\n",
      "valLoss: 1.0670e-02\n",
      "Better valLoss: 1.0670e-02, Saving models...\n"
     ]
    },
    {
     "name": "stderr",
     "output_type": "stream",
     "text": [
      "\r",
      " 27%|██▋       | 273/1000 [04:34<12:02,  1.01it/s]"
     ]
    },
    {
     "name": "stdout",
     "output_type": "stream",
     "text": [
      "--- Epoch 274/1000 ---\n",
      "trainLoss: 1.0669e-02\n",
      "LR: 1.0000e-07\n",
      "valLoss: 1.0666e-02\n",
      "Better valLoss: 1.0666e-02, Saving models...\n"
     ]
    },
    {
     "name": "stderr",
     "output_type": "stream",
     "text": [
      "\r",
      " 27%|██▋       | 274/1000 [04:35<12:16,  1.01s/it]"
     ]
    },
    {
     "name": "stdout",
     "output_type": "stream",
     "text": [
      "--- Epoch 275/1000 ---\n",
      "trainLoss: 1.0665e-02\n",
      "LR: 1.0000e-07\n",
      "valLoss: 1.0662e-02\n",
      "Better valLoss: 1.0662e-02, Saving models...\n"
     ]
    },
    {
     "name": "stderr",
     "output_type": "stream",
     "text": [
      "\r",
      " 28%|██▊       | 275/1000 [04:36<12:23,  1.03s/it]"
     ]
    },
    {
     "name": "stdout",
     "output_type": "stream",
     "text": [
      "--- Epoch 276/1000 ---\n",
      "trainLoss: 1.0661e-02\n",
      "LR: 1.0000e-07\n",
      "valLoss: 1.0657e-02\n",
      "Better valLoss: 1.0657e-02, Saving models...\n"
     ]
    },
    {
     "name": "stderr",
     "output_type": "stream",
     "text": [
      "\r",
      " 28%|██▊       | 276/1000 [04:37<12:24,  1.03s/it]"
     ]
    },
    {
     "name": "stdout",
     "output_type": "stream",
     "text": [
      "--- Epoch 277/1000 ---\n",
      "trainLoss: 1.0656e-02\n",
      "LR: 1.0000e-07\n",
      "valLoss: 1.0653e-02\n",
      "Better valLoss: 1.0653e-02, Saving models...\n"
     ]
    },
    {
     "name": "stderr",
     "output_type": "stream",
     "text": [
      "\r",
      " 28%|██▊       | 277/1000 [04:38<12:25,  1.03s/it]"
     ]
    },
    {
     "name": "stdout",
     "output_type": "stream",
     "text": [
      "--- Epoch 278/1000 ---\n",
      "trainLoss: 1.0652e-02\n",
      "LR: 1.0000e-07\n",
      "valLoss: 1.0649e-02\n",
      "Better valLoss: 1.0649e-02, Saving models...\n"
     ]
    },
    {
     "name": "stderr",
     "output_type": "stream",
     "text": [
      "\r",
      " 28%|██▊       | 278/1000 [04:39<12:22,  1.03s/it]"
     ]
    },
    {
     "name": "stdout",
     "output_type": "stream",
     "text": [
      "--- Epoch 279/1000 ---\n",
      "trainLoss: 1.0648e-02\n",
      "LR: 1.0000e-07\n",
      "valLoss: 1.0645e-02\n",
      "Better valLoss: 1.0645e-02, Saving models...\n"
     ]
    },
    {
     "name": "stderr",
     "output_type": "stream",
     "text": [
      "\r",
      " 28%|██▊       | 279/1000 [04:40<12:28,  1.04s/it]"
     ]
    },
    {
     "name": "stdout",
     "output_type": "stream",
     "text": [
      "--- Epoch 280/1000 ---\n",
      "trainLoss: 1.0644e-02\n",
      "LR: 1.0000e-07\n",
      "valLoss: 1.0641e-02\n",
      "Better valLoss: 1.0641e-02, Saving models...\n"
     ]
    },
    {
     "name": "stderr",
     "output_type": "stream",
     "text": [
      "\r",
      " 28%|██▊       | 280/1000 [04:41<12:14,  1.02s/it]"
     ]
    },
    {
     "name": "stdout",
     "output_type": "stream",
     "text": [
      "--- Epoch 281/1000 ---\n",
      "trainLoss: 1.0640e-02\n",
      "LR: 1.0000e-07\n",
      "valLoss: 1.0637e-02\n",
      "Better valLoss: 1.0637e-02, Saving models...\n"
     ]
    },
    {
     "name": "stderr",
     "output_type": "stream",
     "text": [
      "\r",
      " 28%|██▊       | 281/1000 [04:42<12:17,  1.03s/it]"
     ]
    },
    {
     "name": "stdout",
     "output_type": "stream",
     "text": [
      "--- Epoch 282/1000 ---\n",
      "trainLoss: 1.0636e-02\n",
      "LR: 1.0000e-07\n",
      "valLoss: 1.0633e-02\n",
      "Better valLoss: 1.0633e-02, Saving models...\n"
     ]
    },
    {
     "name": "stderr",
     "output_type": "stream",
     "text": [
      "\r",
      " 28%|██▊       | 282/1000 [04:43<12:08,  1.02s/it]"
     ]
    },
    {
     "name": "stdout",
     "output_type": "stream",
     "text": [
      "--- Epoch 283/1000 ---\n",
      "trainLoss: 1.0632e-02\n",
      "LR: 1.0000e-07\n",
      "valLoss: 1.0629e-02\n",
      "Better valLoss: 1.0629e-02, Saving models...\n"
     ]
    },
    {
     "name": "stderr",
     "output_type": "stream",
     "text": [
      "\r",
      " 28%|██▊       | 283/1000 [04:44<12:06,  1.01s/it]"
     ]
    },
    {
     "name": "stdout",
     "output_type": "stream",
     "text": [
      "--- Epoch 284/1000 ---\n",
      "trainLoss: 1.0628e-02\n",
      "LR: 1.0000e-07\n",
      "valLoss: 1.0625e-02\n",
      "Better valLoss: 1.0625e-02, Saving models...\n"
     ]
    },
    {
     "name": "stderr",
     "output_type": "stream",
     "text": [
      "\r",
      " 28%|██▊       | 284/1000 [04:45<12:20,  1.03s/it]"
     ]
    },
    {
     "name": "stdout",
     "output_type": "stream",
     "text": [
      "--- Epoch 285/1000 ---\n",
      "trainLoss: 1.0624e-02\n",
      "LR: 1.0000e-07\n",
      "valLoss: 1.0621e-02\n",
      "Better valLoss: 1.0621e-02, Saving models...\n"
     ]
    },
    {
     "name": "stderr",
     "output_type": "stream",
     "text": [
      "\r",
      " 28%|██▊       | 285/1000 [04:46<12:22,  1.04s/it]"
     ]
    },
    {
     "name": "stdout",
     "output_type": "stream",
     "text": [
      "--- Epoch 286/1000 ---\n",
      "trainLoss: 1.0620e-02\n",
      "LR: 1.0000e-07\n",
      "valLoss: 1.0617e-02\n",
      "Better valLoss: 1.0617e-02, Saving models...\n"
     ]
    },
    {
     "name": "stderr",
     "output_type": "stream",
     "text": [
      "\r",
      " 29%|██▊       | 286/1000 [04:47<11:56,  1.00s/it]"
     ]
    },
    {
     "name": "stdout",
     "output_type": "stream",
     "text": [
      "--- Epoch 287/1000 ---\n",
      "trainLoss: 1.0616e-02\n",
      "LR: 1.0000e-07\n",
      "valLoss: 1.0613e-02\n",
      "Better valLoss: 1.0613e-02, Saving models...\n"
     ]
    },
    {
     "name": "stderr",
     "output_type": "stream",
     "text": [
      "\r",
      " 29%|██▊       | 287/1000 [04:48<12:08,  1.02s/it]"
     ]
    },
    {
     "name": "stdout",
     "output_type": "stream",
     "text": [
      "--- Epoch 288/1000 ---\n",
      "trainLoss: 1.0612e-02\n",
      "LR: 1.0000e-07\n",
      "valLoss: 1.0609e-02\n",
      "Better valLoss: 1.0609e-02, Saving models...\n"
     ]
    },
    {
     "name": "stderr",
     "output_type": "stream",
     "text": [
      "\r",
      " 29%|██▉       | 288/1000 [04:49<11:59,  1.01s/it]"
     ]
    },
    {
     "name": "stdout",
     "output_type": "stream",
     "text": [
      "--- Epoch 289/1000 ---\n",
      "trainLoss: 1.0608e-02\n",
      "LR: 1.0000e-07\n",
      "valLoss: 1.0605e-02\n",
      "Better valLoss: 1.0605e-02, Saving models...\n"
     ]
    },
    {
     "name": "stderr",
     "output_type": "stream",
     "text": [
      "\r",
      " 29%|██▉       | 289/1000 [04:50<11:48,  1.00it/s]"
     ]
    },
    {
     "name": "stdout",
     "output_type": "stream",
     "text": [
      "--- Epoch 290/1000 ---\n",
      "trainLoss: 1.0604e-02\n",
      "LR: 1.0000e-07\n",
      "valLoss: 1.0601e-02\n",
      "Better valLoss: 1.0601e-02, Saving models...\n"
     ]
    },
    {
     "name": "stderr",
     "output_type": "stream",
     "text": [
      "\r",
      " 29%|██▉       | 290/1000 [04:51<11:59,  1.01s/it]"
     ]
    },
    {
     "name": "stdout",
     "output_type": "stream",
     "text": [
      "--- Epoch 291/1000 ---\n",
      "trainLoss: 1.0600e-02\n",
      "LR: 1.0000e-07\n",
      "valLoss: 1.0597e-02\n",
      "Better valLoss: 1.0597e-02, Saving models...\n"
     ]
    },
    {
     "name": "stderr",
     "output_type": "stream",
     "text": [
      "\r",
      " 29%|██▉       | 291/1000 [04:52<11:56,  1.01s/it]"
     ]
    },
    {
     "name": "stdout",
     "output_type": "stream",
     "text": [
      "--- Epoch 292/1000 ---\n",
      "trainLoss: 1.0596e-02\n",
      "LR: 1.0000e-07\n",
      "valLoss: 1.0593e-02\n",
      "Better valLoss: 1.0593e-02, Saving models...\n"
     ]
    },
    {
     "name": "stderr",
     "output_type": "stream",
     "text": [
      "\r",
      " 29%|██▉       | 292/1000 [04:53<11:56,  1.01s/it]"
     ]
    },
    {
     "name": "stdout",
     "output_type": "stream",
     "text": [
      "--- Epoch 293/1000 ---\n",
      "trainLoss: 1.0592e-02\n",
      "LR: 1.0000e-07\n",
      "valLoss: 1.0588e-02\n",
      "Better valLoss: 1.0588e-02, Saving models...\n"
     ]
    },
    {
     "name": "stderr",
     "output_type": "stream",
     "text": [
      "\r",
      " 29%|██▉       | 293/1000 [04:54<11:54,  1.01s/it]"
     ]
    },
    {
     "name": "stdout",
     "output_type": "stream",
     "text": [
      "--- Epoch 294/1000 ---\n",
      "trainLoss: 1.0587e-02\n",
      "LR: 1.0000e-07\n",
      "valLoss: 1.0584e-02\n",
      "Better valLoss: 1.0584e-02, Saving models...\n"
     ]
    },
    {
     "name": "stderr",
     "output_type": "stream",
     "text": [
      "\r",
      " 29%|██▉       | 294/1000 [04:55<11:57,  1.02s/it]"
     ]
    },
    {
     "name": "stdout",
     "output_type": "stream",
     "text": [
      "--- Epoch 295/1000 ---\n",
      "trainLoss: 1.0583e-02\n",
      "LR: 1.0000e-07\n",
      "valLoss: 1.0580e-02\n",
      "Better valLoss: 1.0580e-02, Saving models...\n"
     ]
    },
    {
     "name": "stderr",
     "output_type": "stream",
     "text": [
      "\r",
      " 30%|██▉       | 295/1000 [04:56<11:54,  1.01s/it]"
     ]
    },
    {
     "name": "stdout",
     "output_type": "stream",
     "text": [
      "--- Epoch 296/1000 ---\n",
      "trainLoss: 1.0579e-02\n",
      "LR: 1.0000e-07\n",
      "valLoss: 1.0576e-02\n",
      "Better valLoss: 1.0576e-02, Saving models...\n"
     ]
    },
    {
     "name": "stderr",
     "output_type": "stream",
     "text": [
      "\r",
      " 30%|██▉       | 296/1000 [04:57<11:43,  1.00it/s]"
     ]
    },
    {
     "name": "stdout",
     "output_type": "stream",
     "text": [
      "--- Epoch 297/1000 ---\n",
      "trainLoss: 1.0575e-02\n",
      "LR: 1.0000e-07\n",
      "valLoss: 1.0572e-02\n",
      "Better valLoss: 1.0572e-02, Saving models...\n"
     ]
    },
    {
     "name": "stderr",
     "output_type": "stream",
     "text": [
      "\r",
      " 30%|██▉       | 297/1000 [04:58<11:54,  1.02s/it]"
     ]
    },
    {
     "name": "stdout",
     "output_type": "stream",
     "text": [
      "--- Epoch 298/1000 ---\n",
      "trainLoss: 1.0571e-02\n",
      "LR: 1.0000e-07\n",
      "valLoss: 1.0568e-02\n",
      "Better valLoss: 1.0568e-02, Saving models...\n"
     ]
    },
    {
     "name": "stderr",
     "output_type": "stream",
     "text": [
      "\r",
      " 30%|██▉       | 298/1000 [04:59<11:58,  1.02s/it]"
     ]
    },
    {
     "name": "stdout",
     "output_type": "stream",
     "text": [
      "--- Epoch 299/1000 ---\n",
      "trainLoss: 1.0567e-02\n",
      "LR: 1.0000e-07\n",
      "valLoss: 1.0564e-02\n",
      "Better valLoss: 1.0564e-02, Saving models...\n"
     ]
    },
    {
     "name": "stderr",
     "output_type": "stream",
     "text": [
      "\r",
      " 30%|██▉       | 299/1000 [05:00<11:55,  1.02s/it]"
     ]
    },
    {
     "name": "stdout",
     "output_type": "stream",
     "text": [
      "--- Epoch 300/1000 ---\n",
      "trainLoss: 1.0563e-02\n",
      "LR: 1.0000e-07\n",
      "valLoss: 1.0560e-02\n",
      "Better valLoss: 1.0560e-02, Saving models...\n"
     ]
    },
    {
     "name": "stderr",
     "output_type": "stream",
     "text": [
      "\r",
      " 30%|███       | 300/1000 [05:01<11:36,  1.00it/s]"
     ]
    },
    {
     "name": "stdout",
     "output_type": "stream",
     "text": [
      "--- Epoch 301/1000 ---\n",
      "trainLoss: 1.0559e-02\n",
      "LR: 1.0000e-07\n",
      "valLoss: 1.0556e-02\n",
      "Better valLoss: 1.0556e-02, Saving models...\n"
     ]
    },
    {
     "name": "stderr",
     "output_type": "stream",
     "text": [
      "\r",
      " 30%|███       | 301/1000 [05:02<11:44,  1.01s/it]"
     ]
    },
    {
     "name": "stdout",
     "output_type": "stream",
     "text": [
      "--- Epoch 302/1000 ---\n",
      "trainLoss: 1.0555e-02\n",
      "LR: 1.0000e-07\n",
      "valLoss: 1.0552e-02\n",
      "Better valLoss: 1.0552e-02, Saving models...\n"
     ]
    },
    {
     "name": "stderr",
     "output_type": "stream",
     "text": [
      "\r",
      " 30%|███       | 302/1000 [05:03<11:39,  1.00s/it]"
     ]
    },
    {
     "name": "stdout",
     "output_type": "stream",
     "text": [
      "--- Epoch 303/1000 ---\n",
      "trainLoss: 1.0551e-02\n",
      "LR: 1.0000e-07\n",
      "valLoss: 1.0548e-02\n",
      "Better valLoss: 1.0548e-02, Saving models...\n"
     ]
    },
    {
     "name": "stderr",
     "output_type": "stream",
     "text": [
      "\r",
      " 30%|███       | 303/1000 [05:04<11:23,  1.02it/s]"
     ]
    },
    {
     "name": "stdout",
     "output_type": "stream",
     "text": [
      "--- Epoch 304/1000 ---\n",
      "trainLoss: 1.0547e-02\n",
      "LR: 1.0000e-07\n",
      "valLoss: 1.0544e-02\n",
      "Better valLoss: 1.0544e-02, Saving models...\n"
     ]
    },
    {
     "name": "stderr",
     "output_type": "stream",
     "text": [
      "\r",
      " 30%|███       | 304/1000 [05:05<11:26,  1.01it/s]"
     ]
    },
    {
     "name": "stdout",
     "output_type": "stream",
     "text": [
      "--- Epoch 305/1000 ---\n",
      "trainLoss: 1.0543e-02\n",
      "LR: 1.0000e-07\n",
      "valLoss: 1.0540e-02\n",
      "Better valLoss: 1.0540e-02, Saving models...\n"
     ]
    },
    {
     "name": "stderr",
     "output_type": "stream",
     "text": [
      "\r",
      " 30%|███       | 305/1000 [05:06<11:32,  1.00it/s]"
     ]
    },
    {
     "name": "stdout",
     "output_type": "stream",
     "text": [
      "--- Epoch 306/1000 ---\n",
      "trainLoss: 1.0539e-02\n",
      "LR: 1.0000e-07\n",
      "valLoss: 1.0536e-02\n",
      "Better valLoss: 1.0536e-02, Saving models...\n"
     ]
    },
    {
     "name": "stderr",
     "output_type": "stream",
     "text": [
      "\r",
      " 31%|███       | 306/1000 [05:07<11:38,  1.01s/it]"
     ]
    },
    {
     "name": "stdout",
     "output_type": "stream",
     "text": [
      "--- Epoch 307/1000 ---\n",
      "trainLoss: 1.0535e-02\n",
      "LR: 1.0000e-07\n",
      "valLoss: 1.0532e-02\n",
      "Better valLoss: 1.0532e-02, Saving models...\n"
     ]
    },
    {
     "name": "stderr",
     "output_type": "stream",
     "text": [
      "\r",
      " 31%|███       | 307/1000 [05:08<11:34,  1.00s/it]"
     ]
    },
    {
     "name": "stdout",
     "output_type": "stream",
     "text": [
      "--- Epoch 308/1000 ---\n",
      "trainLoss: 1.0531e-02\n",
      "LR: 1.0000e-07\n",
      "valLoss: 1.0528e-02\n",
      "Better valLoss: 1.0528e-02, Saving models...\n"
     ]
    },
    {
     "name": "stderr",
     "output_type": "stream",
     "text": [
      "\r",
      " 31%|███       | 308/1000 [05:09<11:33,  1.00s/it]"
     ]
    },
    {
     "name": "stdout",
     "output_type": "stream",
     "text": [
      "--- Epoch 309/1000 ---\n",
      "trainLoss: 1.0527e-02\n",
      "LR: 1.0000e-07\n",
      "valLoss: 1.0524e-02\n",
      "Better valLoss: 1.0524e-02, Saving models...\n"
     ]
    },
    {
     "name": "stderr",
     "output_type": "stream",
     "text": [
      "\r",
      " 31%|███       | 309/1000 [05:10<11:33,  1.00s/it]"
     ]
    },
    {
     "name": "stdout",
     "output_type": "stream",
     "text": [
      "--- Epoch 310/1000 ---\n",
      "trainLoss: 1.0523e-02\n",
      "LR: 1.0000e-07\n",
      "valLoss: 1.0520e-02\n",
      "Better valLoss: 1.0520e-02, Saving models...\n"
     ]
    },
    {
     "name": "stderr",
     "output_type": "stream",
     "text": [
      "\r",
      " 31%|███       | 310/1000 [05:11<11:19,  1.01it/s]"
     ]
    },
    {
     "name": "stdout",
     "output_type": "stream",
     "text": [
      "--- Epoch 311/1000 ---\n",
      "trainLoss: 1.0519e-02\n",
      "LR: 1.0000e-07\n",
      "valLoss: 1.0516e-02\n",
      "Better valLoss: 1.0516e-02, Saving models...\n"
     ]
    },
    {
     "name": "stderr",
     "output_type": "stream",
     "text": [
      "\r",
      " 31%|███       | 311/1000 [05:12<11:22,  1.01it/s]"
     ]
    },
    {
     "name": "stdout",
     "output_type": "stream",
     "text": [
      "--- Epoch 312/1000 ---\n",
      "trainLoss: 1.0515e-02\n",
      "LR: 1.0000e-07\n",
      "valLoss: 1.0512e-02\n",
      "Better valLoss: 1.0512e-02, Saving models...\n"
     ]
    },
    {
     "name": "stderr",
     "output_type": "stream",
     "text": [
      "\r",
      " 31%|███       | 312/1000 [05:13<11:21,  1.01it/s]"
     ]
    },
    {
     "name": "stdout",
     "output_type": "stream",
     "text": [
      "--- Epoch 313/1000 ---\n",
      "trainLoss: 1.0511e-02\n",
      "LR: 1.0000e-07\n",
      "valLoss: 1.0508e-02\n",
      "Better valLoss: 1.0508e-02, Saving models...\n"
     ]
    },
    {
     "name": "stderr",
     "output_type": "stream",
     "text": [
      "\r",
      " 31%|███▏      | 313/1000 [05:14<11:22,  1.01it/s]"
     ]
    },
    {
     "name": "stdout",
     "output_type": "stream",
     "text": [
      "--- Epoch 314/1000 ---\n",
      "trainLoss: 1.0507e-02\n",
      "LR: 1.0000e-07\n",
      "valLoss: 1.0504e-02\n",
      "Better valLoss: 1.0504e-02, Saving models...\n"
     ]
    },
    {
     "name": "stderr",
     "output_type": "stream",
     "text": [
      "\r",
      " 31%|███▏      | 314/1000 [05:15<11:25,  1.00it/s]"
     ]
    },
    {
     "name": "stdout",
     "output_type": "stream",
     "text": [
      "--- Epoch 315/1000 ---\n",
      "trainLoss: 1.0503e-02\n",
      "LR: 1.0000e-07\n",
      "valLoss: 1.0500e-02\n",
      "Better valLoss: 1.0500e-02, Saving models...\n"
     ]
    },
    {
     "name": "stderr",
     "output_type": "stream",
     "text": [
      "\r",
      " 32%|███▏      | 315/1000 [05:17<12:24,  1.09s/it]"
     ]
    },
    {
     "name": "stdout",
     "output_type": "stream",
     "text": [
      "--- Epoch 316/1000 ---\n",
      "trainLoss: 1.0499e-02\n",
      "LR: 1.0000e-07\n",
      "valLoss: 1.0495e-02\n",
      "Better valLoss: 1.0495e-02, Saving models...\n"
     ]
    },
    {
     "name": "stderr",
     "output_type": "stream",
     "text": [
      "\r",
      " 32%|███▏      | 316/1000 [05:18<12:03,  1.06s/it]"
     ]
    },
    {
     "name": "stdout",
     "output_type": "stream",
     "text": [
      "--- Epoch 317/1000 ---\n",
      "trainLoss: 1.0494e-02\n",
      "LR: 1.0000e-07\n",
      "valLoss: 1.0491e-02\n",
      "Better valLoss: 1.0491e-02, Saving models...\n"
     ]
    },
    {
     "name": "stderr",
     "output_type": "stream",
     "text": [
      "\r",
      " 32%|███▏      | 317/1000 [05:19<11:58,  1.05s/it]"
     ]
    },
    {
     "name": "stdout",
     "output_type": "stream",
     "text": [
      "--- Epoch 318/1000 ---\n",
      "trainLoss: 1.0490e-02\n",
      "LR: 1.0000e-07\n",
      "valLoss: 1.0487e-02\n",
      "Better valLoss: 1.0487e-02, Saving models...\n"
     ]
    },
    {
     "name": "stderr",
     "output_type": "stream",
     "text": [
      "\r",
      " 32%|███▏      | 318/1000 [05:20<11:58,  1.05s/it]"
     ]
    },
    {
     "name": "stdout",
     "output_type": "stream",
     "text": [
      "--- Epoch 319/1000 ---\n",
      "trainLoss: 1.0486e-02\n",
      "LR: 1.0000e-07\n",
      "valLoss: 1.0483e-02\n",
      "Better valLoss: 1.0483e-02, Saving models...\n"
     ]
    },
    {
     "name": "stderr",
     "output_type": "stream",
     "text": [
      "\r",
      " 32%|███▏      | 319/1000 [05:21<11:52,  1.05s/it]"
     ]
    },
    {
     "name": "stdout",
     "output_type": "stream",
     "text": [
      "--- Epoch 320/1000 ---\n",
      "trainLoss: 1.0482e-02\n",
      "LR: 1.0000e-07\n",
      "valLoss: 1.0479e-02\n",
      "Better valLoss: 1.0479e-02, Saving models...\n"
     ]
    },
    {
     "name": "stderr",
     "output_type": "stream",
     "text": [
      "\r",
      " 32%|███▏      | 320/1000 [05:22<11:47,  1.04s/it]"
     ]
    },
    {
     "name": "stdout",
     "output_type": "stream",
     "text": [
      "--- Epoch 321/1000 ---\n",
      "trainLoss: 1.0478e-02\n",
      "LR: 1.0000e-07\n"
     ]
    },
    {
     "name": "stderr",
     "output_type": "stream",
     "text": [
      "\r",
      " 32%|███▏      | 321/1000 [05:23<11:16,  1.00it/s]"
     ]
    },
    {
     "name": "stdout",
     "output_type": "stream",
     "text": [
      "valLoss: 1.0475e-02\n",
      "Better valLoss: 1.0475e-02, Saving models...\n",
      "--- Epoch 322/1000 ---\n",
      "trainLoss: 1.0474e-02\n",
      "LR: 1.0000e-07\n",
      "valLoss: 1.0471e-02\n",
      "Better valLoss: 1.0471e-02, Saving models...\n"
     ]
    },
    {
     "name": "stderr",
     "output_type": "stream",
     "text": [
      "\r",
      " 32%|███▏      | 322/1000 [05:24<11:19,  1.00s/it]"
     ]
    },
    {
     "name": "stdout",
     "output_type": "stream",
     "text": [
      "--- Epoch 323/1000 ---\n",
      "trainLoss: 1.0470e-02\n",
      "LR: 1.0000e-07\n",
      "valLoss: 1.0467e-02\n",
      "Better valLoss: 1.0467e-02, Saving models...\n"
     ]
    },
    {
     "name": "stderr",
     "output_type": "stream",
     "text": [
      "\r",
      " 32%|███▏      | 323/1000 [05:25<11:17,  1.00s/it]"
     ]
    },
    {
     "name": "stdout",
     "output_type": "stream",
     "text": [
      "--- Epoch 324/1000 ---\n",
      "trainLoss: 1.0466e-02\n",
      "LR: 1.0000e-07\n",
      "valLoss: 1.0463e-02\n",
      "Better valLoss: 1.0463e-02, Saving models...\n"
     ]
    },
    {
     "name": "stderr",
     "output_type": "stream",
     "text": [
      "\r",
      " 32%|███▏      | 324/1000 [05:26<11:07,  1.01it/s]"
     ]
    },
    {
     "name": "stdout",
     "output_type": "stream",
     "text": [
      "--- Epoch 325/1000 ---\n",
      "trainLoss: 1.0462e-02\n",
      "LR: 1.0000e-07\n",
      "valLoss: 1.0459e-02\n",
      "Better valLoss: 1.0459e-02, Saving models...\n"
     ]
    },
    {
     "name": "stderr",
     "output_type": "stream",
     "text": [
      "\r",
      " 32%|███▎      | 325/1000 [05:27<11:14,  1.00it/s]"
     ]
    },
    {
     "name": "stdout",
     "output_type": "stream",
     "text": [
      "--- Epoch 326/1000 ---\n",
      "trainLoss: 1.0458e-02\n",
      "LR: 1.0000e-07\n",
      "valLoss: 1.0455e-02\n",
      "Better valLoss: 1.0455e-02, Saving models...\n"
     ]
    },
    {
     "name": "stderr",
     "output_type": "stream",
     "text": [
      "\r",
      " 33%|███▎      | 326/1000 [05:28<11:11,  1.00it/s]"
     ]
    },
    {
     "name": "stdout",
     "output_type": "stream",
     "text": [
      "--- Epoch 327/1000 ---\n",
      "trainLoss: 1.0454e-02\n",
      "LR: 1.0000e-07\n",
      "valLoss: 1.0451e-02\n",
      "Better valLoss: 1.0451e-02, Saving models...\n"
     ]
    },
    {
     "name": "stderr",
     "output_type": "stream",
     "text": [
      "\r",
      " 33%|███▎      | 327/1000 [05:29<11:06,  1.01it/s]"
     ]
    },
    {
     "name": "stdout",
     "output_type": "stream",
     "text": [
      "--- Epoch 328/1000 ---\n",
      "trainLoss: 1.0450e-02\n",
      "LR: 1.0000e-07\n",
      "valLoss: 1.0447e-02\n",
      "Better valLoss: 1.0447e-02, Saving models...\n"
     ]
    },
    {
     "name": "stderr",
     "output_type": "stream",
     "text": [
      "\r",
      " 33%|███▎      | 328/1000 [05:30<11:09,  1.00it/s]"
     ]
    },
    {
     "name": "stdout",
     "output_type": "stream",
     "text": [
      "--- Epoch 329/1000 ---\n",
      "trainLoss: 1.0446e-02\n",
      "LR: 1.0000e-07\n",
      "valLoss: 1.0443e-02\n",
      "Better valLoss: 1.0443e-02, Saving models...\n"
     ]
    },
    {
     "name": "stderr",
     "output_type": "stream",
     "text": [
      "\r",
      " 33%|███▎      | 329/1000 [05:31<11:13,  1.00s/it]"
     ]
    },
    {
     "name": "stdout",
     "output_type": "stream",
     "text": [
      "--- Epoch 330/1000 ---\n",
      "trainLoss: 1.0442e-02\n",
      "LR: 1.0000e-07\n",
      "valLoss: 1.0439e-02\n",
      "Better valLoss: 1.0439e-02, Saving models...\n"
     ]
    },
    {
     "name": "stderr",
     "output_type": "stream",
     "text": [
      "\r",
      " 33%|███▎      | 330/1000 [05:32<11:02,  1.01it/s]"
     ]
    },
    {
     "name": "stdout",
     "output_type": "stream",
     "text": [
      "--- Epoch 331/1000 ---\n",
      "trainLoss: 1.0438e-02\n",
      "LR: 1.0000e-07\n",
      "valLoss: 1.0435e-02\n",
      "Better valLoss: 1.0435e-02, Saving models...\n"
     ]
    },
    {
     "name": "stderr",
     "output_type": "stream",
     "text": [
      "\r",
      " 33%|███▎      | 331/1000 [05:33<11:01,  1.01it/s]"
     ]
    },
    {
     "name": "stdout",
     "output_type": "stream",
     "text": [
      "--- Epoch 332/1000 ---\n",
      "trainLoss: 1.0434e-02\n",
      "LR: 1.0000e-07\n",
      "valLoss: 1.0431e-02\n",
      "Better valLoss: 1.0431e-02, Saving models...\n"
     ]
    },
    {
     "name": "stderr",
     "output_type": "stream",
     "text": [
      "\r",
      " 33%|███▎      | 332/1000 [05:34<11:09,  1.00s/it]"
     ]
    },
    {
     "name": "stdout",
     "output_type": "stream",
     "text": [
      "--- Epoch 333/1000 ---\n",
      "trainLoss: 1.0430e-02\n",
      "LR: 1.0000e-07\n",
      "valLoss: 1.0427e-02\n",
      "Better valLoss: 1.0427e-02, Saving models...\n"
     ]
    },
    {
     "name": "stderr",
     "output_type": "stream",
     "text": [
      "\r",
      " 33%|███▎      | 333/1000 [05:35<11:05,  1.00it/s]"
     ]
    },
    {
     "name": "stdout",
     "output_type": "stream",
     "text": [
      "--- Epoch 334/1000 ---\n",
      "trainLoss: 1.0426e-02\n",
      "LR: 1.0000e-07\n",
      "valLoss: 1.0423e-02\n",
      "Better valLoss: 1.0423e-02, Saving models...\n"
     ]
    },
    {
     "name": "stderr",
     "output_type": "stream",
     "text": [
      "\r",
      " 33%|███▎      | 334/1000 [05:36<10:48,  1.03it/s]"
     ]
    },
    {
     "name": "stdout",
     "output_type": "stream",
     "text": [
      "--- Epoch 335/1000 ---\n",
      "trainLoss: 1.0422e-02\n",
      "LR: 1.0000e-07\n",
      "valLoss: 1.0419e-02\n",
      "Better valLoss: 1.0419e-02, Saving models...\n"
     ]
    },
    {
     "name": "stderr",
     "output_type": "stream",
     "text": [
      "\r",
      " 34%|███▎      | 335/1000 [05:37<10:46,  1.03it/s]"
     ]
    },
    {
     "name": "stdout",
     "output_type": "stream",
     "text": [
      "--- Epoch 336/1000 ---\n",
      "trainLoss: 1.0418e-02\n",
      "LR: 1.0000e-07\n",
      "valLoss: 1.0415e-02\n",
      "Better valLoss: 1.0415e-02, Saving models...\n"
     ]
    },
    {
     "name": "stderr",
     "output_type": "stream",
     "text": [
      "\r",
      " 34%|███▎      | 336/1000 [05:37<10:48,  1.02it/s]"
     ]
    },
    {
     "name": "stdout",
     "output_type": "stream",
     "text": [
      "--- Epoch 337/1000 ---\n",
      "trainLoss: 1.0414e-02\n",
      "LR: 1.0000e-07\n",
      "valLoss: 1.0411e-02\n",
      "Better valLoss: 1.0411e-02, Saving models...\n"
     ]
    },
    {
     "name": "stderr",
     "output_type": "stream",
     "text": [
      "\r",
      " 34%|███▎      | 337/1000 [05:39<12:25,  1.12s/it]"
     ]
    },
    {
     "name": "stdout",
     "output_type": "stream",
     "text": [
      "--- Epoch 338/1000 ---\n",
      "trainLoss: 1.0410e-02\n",
      "LR: 1.0000e-07\n",
      "valLoss: 1.0407e-02\n",
      "Better valLoss: 1.0407e-02, Saving models...\n"
     ]
    },
    {
     "name": "stderr",
     "output_type": "stream",
     "text": [
      "\r",
      " 34%|███▍      | 338/1000 [05:40<12:00,  1.09s/it]"
     ]
    },
    {
     "name": "stdout",
     "output_type": "stream",
     "text": [
      "--- Epoch 339/1000 ---\n",
      "trainLoss: 1.0406e-02\n",
      "LR: 1.0000e-07\n",
      "valLoss: 1.0403e-02\n",
      "Better valLoss: 1.0403e-02, Saving models...\n"
     ]
    },
    {
     "name": "stderr",
     "output_type": "stream",
     "text": [
      "\r",
      " 34%|███▍      | 339/1000 [05:41<11:36,  1.05s/it]"
     ]
    },
    {
     "name": "stdout",
     "output_type": "stream",
     "text": [
      "--- Epoch 340/1000 ---\n",
      "trainLoss: 1.0402e-02\n",
      "LR: 1.0000e-07\n",
      "valLoss: 1.0399e-02\n",
      "Better valLoss: 1.0399e-02, Saving models...\n"
     ]
    },
    {
     "name": "stderr",
     "output_type": "stream",
     "text": [
      "\r",
      " 34%|███▍      | 340/1000 [05:42<11:19,  1.03s/it]"
     ]
    },
    {
     "name": "stdout",
     "output_type": "stream",
     "text": [
      "--- Epoch 341/1000 ---\n",
      "trainLoss: 1.0398e-02\n",
      "LR: 1.0000e-07\n",
      "valLoss: 1.0395e-02\n",
      "Better valLoss: 1.0395e-02, Saving models...\n"
     ]
    },
    {
     "name": "stderr",
     "output_type": "stream",
     "text": [
      "\r",
      " 34%|███▍      | 341/1000 [05:43<11:01,  1.00s/it]"
     ]
    },
    {
     "name": "stdout",
     "output_type": "stream",
     "text": [
      "--- Epoch 342/1000 ---\n",
      "trainLoss: 1.0394e-02\n",
      "LR: 1.0000e-07\n",
      "valLoss: 1.0391e-02\n",
      "Better valLoss: 1.0391e-02, Saving models...\n"
     ]
    },
    {
     "name": "stderr",
     "output_type": "stream",
     "text": [
      "\r",
      " 34%|███▍      | 342/1000 [05:44<11:15,  1.03s/it]"
     ]
    },
    {
     "name": "stdout",
     "output_type": "stream",
     "text": [
      "--- Epoch 343/1000 ---\n",
      "trainLoss: 1.0390e-02\n",
      "LR: 1.0000e-07\n",
      "valLoss: 1.0387e-02\n",
      "Better valLoss: 1.0387e-02, Saving models...\n"
     ]
    },
    {
     "name": "stderr",
     "output_type": "stream",
     "text": [
      "\r",
      " 34%|███▍      | 343/1000 [05:45<11:23,  1.04s/it]"
     ]
    },
    {
     "name": "stdout",
     "output_type": "stream",
     "text": [
      "--- Epoch 344/1000 ---\n",
      "trainLoss: 1.0386e-02\n",
      "LR: 1.0000e-07\n",
      "valLoss: 1.0383e-02\n",
      "Better valLoss: 1.0383e-02, Saving models...\n"
     ]
    },
    {
     "name": "stderr",
     "output_type": "stream",
     "text": [
      "\r",
      " 34%|███▍      | 344/1000 [05:46<11:09,  1.02s/it]"
     ]
    },
    {
     "name": "stdout",
     "output_type": "stream",
     "text": [
      "--- Epoch 345/1000 ---\n",
      "trainLoss: 1.0382e-02\n",
      "LR: 1.0000e-07\n",
      "valLoss: 1.0379e-02\n",
      "Better valLoss: 1.0379e-02, Saving models...\n"
     ]
    },
    {
     "name": "stderr",
     "output_type": "stream",
     "text": [
      "\r",
      " 34%|███▍      | 345/1000 [05:47<11:03,  1.01s/it]"
     ]
    },
    {
     "name": "stdout",
     "output_type": "stream",
     "text": [
      "--- Epoch 346/1000 ---\n",
      "trainLoss: 1.0378e-02\n",
      "LR: 1.0000e-07\n",
      "valLoss: 1.0375e-02\n",
      "Better valLoss: 1.0375e-02, Saving models...\n"
     ]
    },
    {
     "name": "stderr",
     "output_type": "stream",
     "text": [
      "\r",
      " 35%|███▍      | 346/1000 [05:48<10:57,  1.01s/it]"
     ]
    },
    {
     "name": "stdout",
     "output_type": "stream",
     "text": [
      "--- Epoch 347/1000 ---\n",
      "trainLoss: 1.0374e-02\n",
      "LR: 1.0000e-07\n",
      "valLoss: 1.0371e-02\n",
      "Better valLoss: 1.0371e-02, Saving models...\n"
     ]
    },
    {
     "name": "stderr",
     "output_type": "stream",
     "text": [
      "\r",
      " 35%|███▍      | 347/1000 [05:49<10:58,  1.01s/it]"
     ]
    },
    {
     "name": "stdout",
     "output_type": "stream",
     "text": [
      "--- Epoch 348/1000 ---\n",
      "trainLoss: 1.0370e-02\n",
      "LR: 1.0000e-07\n",
      "valLoss: 1.0367e-02\n",
      "Better valLoss: 1.0367e-02, Saving models...\n"
     ]
    },
    {
     "name": "stderr",
     "output_type": "stream",
     "text": [
      "\r",
      " 35%|███▍      | 348/1000 [05:50<10:46,  1.01it/s]"
     ]
    },
    {
     "name": "stdout",
     "output_type": "stream",
     "text": [
      "--- Epoch 349/1000 ---\n",
      "trainLoss: 1.0366e-02\n",
      "LR: 1.0000e-07\n",
      "valLoss: 1.0363e-02\n",
      "Better valLoss: 1.0363e-02, Saving models...\n"
     ]
    },
    {
     "name": "stderr",
     "output_type": "stream",
     "text": [
      "\r",
      " 35%|███▍      | 349/1000 [05:51<10:54,  1.01s/it]"
     ]
    },
    {
     "name": "stdout",
     "output_type": "stream",
     "text": [
      "--- Epoch 350/1000 ---\n",
      "trainLoss: 1.0362e-02\n",
      "LR: 1.0000e-07\n",
      "valLoss: 1.0359e-02\n",
      "Better valLoss: 1.0359e-02, Saving models...\n"
     ]
    },
    {
     "name": "stderr",
     "output_type": "stream",
     "text": [
      "\r",
      " 35%|███▌      | 350/1000 [05:52<10:50,  1.00s/it]"
     ]
    },
    {
     "name": "stdout",
     "output_type": "stream",
     "text": [
      "--- Epoch 351/1000 ---\n",
      "trainLoss: 1.0358e-02\n",
      "LR: 1.0000e-07\n",
      "valLoss: 1.0355e-02\n",
      "Better valLoss: 1.0355e-02, Saving models...\n"
     ]
    },
    {
     "name": "stderr",
     "output_type": "stream",
     "text": [
      "\r",
      " 35%|███▌      | 351/1000 [05:53<10:41,  1.01it/s]"
     ]
    },
    {
     "name": "stdout",
     "output_type": "stream",
     "text": [
      "--- Epoch 352/1000 ---\n",
      "trainLoss: 1.0354e-02\n",
      "LR: 1.0000e-07\n",
      "valLoss: 1.0351e-02\n",
      "Better valLoss: 1.0351e-02, Saving models...\n"
     ]
    },
    {
     "name": "stderr",
     "output_type": "stream",
     "text": [
      "\r",
      " 35%|███▌      | 352/1000 [05:54<10:46,  1.00it/s]"
     ]
    },
    {
     "name": "stdout",
     "output_type": "stream",
     "text": [
      "--- Epoch 353/1000 ---\n",
      "trainLoss: 1.0350e-02\n",
      "LR: 1.0000e-07\n",
      "valLoss: 1.0347e-02\n",
      "Better valLoss: 1.0347e-02, Saving models...\n"
     ]
    },
    {
     "name": "stderr",
     "output_type": "stream",
     "text": [
      "\r",
      " 35%|███▌      | 353/1000 [05:55<10:41,  1.01it/s]"
     ]
    },
    {
     "name": "stdout",
     "output_type": "stream",
     "text": [
      "--- Epoch 354/1000 ---\n",
      "trainLoss: 1.0346e-02\n",
      "LR: 1.0000e-07\n",
      "valLoss: 1.0343e-02\n",
      "Better valLoss: 1.0343e-02, Saving models...\n"
     ]
    },
    {
     "name": "stderr",
     "output_type": "stream",
     "text": [
      "\r",
      " 35%|███▌      | 354/1000 [05:56<10:38,  1.01it/s]"
     ]
    },
    {
     "name": "stdout",
     "output_type": "stream",
     "text": [
      "--- Epoch 355/1000 ---\n",
      "trainLoss: 1.0342e-02\n",
      "LR: 1.0000e-07\n",
      "valLoss: 1.0339e-02\n",
      "Better valLoss: 1.0339e-02, Saving models...\n"
     ]
    },
    {
     "name": "stderr",
     "output_type": "stream",
     "text": [
      "\r",
      " 36%|███▌      | 355/1000 [05:57<10:51,  1.01s/it]"
     ]
    },
    {
     "name": "stdout",
     "output_type": "stream",
     "text": [
      "--- Epoch 356/1000 ---\n",
      "trainLoss: 1.0338e-02\n",
      "LR: 1.0000e-07\n",
      "valLoss: 1.0335e-02\n",
      "Better valLoss: 1.0335e-02, Saving models...\n"
     ]
    },
    {
     "name": "stderr",
     "output_type": "stream",
     "text": [
      "\r",
      " 36%|███▌      | 356/1000 [05:58<10:50,  1.01s/it]"
     ]
    },
    {
     "name": "stdout",
     "output_type": "stream",
     "text": [
      "--- Epoch 357/1000 ---\n",
      "trainLoss: 1.0334e-02\n",
      "LR: 1.0000e-07\n",
      "valLoss: 1.0331e-02\n",
      "Better valLoss: 1.0331e-02, Saving models...\n"
     ]
    },
    {
     "name": "stderr",
     "output_type": "stream",
     "text": [
      "\r",
      " 36%|███▌      | 357/1000 [05:59<11:08,  1.04s/it]"
     ]
    },
    {
     "name": "stdout",
     "output_type": "stream",
     "text": [
      "--- Epoch 358/1000 ---\n",
      "trainLoss: 1.0330e-02\n",
      "LR: 1.0000e-07\n",
      "valLoss: 1.0327e-02\n",
      "Better valLoss: 1.0327e-02, Saving models...\n"
     ]
    },
    {
     "name": "stderr",
     "output_type": "stream",
     "text": [
      "\r",
      " 36%|███▌      | 358/1000 [06:00<11:00,  1.03s/it]"
     ]
    },
    {
     "name": "stdout",
     "output_type": "stream",
     "text": [
      "--- Epoch 359/1000 ---\n",
      "trainLoss: 1.0326e-02\n",
      "LR: 1.0000e-07\n",
      "valLoss: 1.0323e-02\n",
      "Better valLoss: 1.0323e-02, Saving models...\n"
     ]
    },
    {
     "name": "stderr",
     "output_type": "stream",
     "text": [
      "\r",
      " 36%|███▌      | 359/1000 [06:01<10:50,  1.01s/it]"
     ]
    },
    {
     "name": "stdout",
     "output_type": "stream",
     "text": [
      "--- Epoch 360/1000 ---\n",
      "trainLoss: 1.0322e-02\n",
      "LR: 1.0000e-07\n",
      "valLoss: 1.0319e-02\n",
      "Better valLoss: 1.0319e-02, Saving models...\n"
     ]
    },
    {
     "name": "stderr",
     "output_type": "stream",
     "text": [
      "\r",
      " 36%|███▌      | 360/1000 [06:02<10:46,  1.01s/it]"
     ]
    },
    {
     "name": "stdout",
     "output_type": "stream",
     "text": [
      "--- Epoch 361/1000 ---\n",
      "trainLoss: 1.0318e-02\n",
      "LR: 1.0000e-07\n",
      "valLoss: 1.0315e-02\n",
      "Better valLoss: 1.0315e-02, Saving models...\n"
     ]
    },
    {
     "name": "stderr",
     "output_type": "stream",
     "text": [
      "\r",
      " 36%|███▌      | 361/1000 [06:03<10:39,  1.00s/it]"
     ]
    },
    {
     "name": "stdout",
     "output_type": "stream",
     "text": [
      "--- Epoch 362/1000 ---\n",
      "trainLoss: 1.0314e-02\n",
      "LR: 1.0000e-07\n",
      "valLoss: 1.0311e-02\n",
      "Better valLoss: 1.0311e-02, Saving models...\n"
     ]
    },
    {
     "name": "stderr",
     "output_type": "stream",
     "text": [
      "\r",
      " 36%|███▌      | 362/1000 [06:04<10:47,  1.01s/it]"
     ]
    },
    {
     "name": "stdout",
     "output_type": "stream",
     "text": [
      "--- Epoch 363/1000 ---\n",
      "trainLoss: 1.0310e-02\n",
      "LR: 1.0000e-07\n",
      "valLoss: 1.0307e-02\n",
      "Better valLoss: 1.0307e-02, Saving models...\n"
     ]
    },
    {
     "name": "stderr",
     "output_type": "stream",
     "text": [
      "\r",
      " 36%|███▋      | 363/1000 [06:05<10:46,  1.02s/it]"
     ]
    },
    {
     "name": "stdout",
     "output_type": "stream",
     "text": [
      "--- Epoch 364/1000 ---\n",
      "trainLoss: 1.0306e-02\n",
      "LR: 1.0000e-07\n",
      "valLoss: 1.0303e-02\n",
      "Better valLoss: 1.0303e-02, Saving models...\n"
     ]
    },
    {
     "name": "stderr",
     "output_type": "stream",
     "text": [
      "\r",
      " 36%|███▋      | 364/1000 [06:06<10:32,  1.01it/s]"
     ]
    },
    {
     "name": "stdout",
     "output_type": "stream",
     "text": [
      "--- Epoch 365/1000 ---\n",
      "trainLoss: 1.0302e-02\n",
      "LR: 1.0000e-07\n",
      "valLoss: 1.0299e-02\n",
      "Better valLoss: 1.0299e-02, Saving models...\n"
     ]
    },
    {
     "name": "stderr",
     "output_type": "stream",
     "text": [
      "\r",
      " 36%|███▋      | 365/1000 [06:07<10:24,  1.02it/s]"
     ]
    },
    {
     "name": "stdout",
     "output_type": "stream",
     "text": [
      "--- Epoch 366/1000 ---\n",
      "trainLoss: 1.0298e-02\n",
      "LR: 1.0000e-07\n",
      "valLoss: 1.0295e-02\n",
      "Better valLoss: 1.0295e-02, Saving models...\n"
     ]
    },
    {
     "name": "stderr",
     "output_type": "stream",
     "text": [
      "\r",
      " 37%|███▋      | 366/1000 [06:08<10:19,  1.02it/s]"
     ]
    },
    {
     "name": "stdout",
     "output_type": "stream",
     "text": [
      "--- Epoch 367/1000 ---\n",
      "trainLoss: 1.0294e-02\n",
      "LR: 1.0000e-07\n",
      "valLoss: 1.0291e-02\n",
      "Better valLoss: 1.0291e-02, Saving models...\n"
     ]
    },
    {
     "name": "stderr",
     "output_type": "stream",
     "text": [
      "\r",
      " 37%|███▋      | 367/1000 [06:09<10:09,  1.04it/s]"
     ]
    },
    {
     "name": "stdout",
     "output_type": "stream",
     "text": [
      "--- Epoch 368/1000 ---\n",
      "trainLoss: 1.0290e-02\n",
      "LR: 1.0000e-07\n",
      "valLoss: 1.0287e-02\n",
      "Better valLoss: 1.0287e-02, Saving models...\n"
     ]
    },
    {
     "name": "stderr",
     "output_type": "stream",
     "text": [
      "\r",
      " 37%|███▋      | 368/1000 [06:10<10:15,  1.03it/s]"
     ]
    },
    {
     "name": "stdout",
     "output_type": "stream",
     "text": [
      "--- Epoch 369/1000 ---\n",
      "trainLoss: 1.0286e-02\n",
      "LR: 1.0000e-07\n",
      "valLoss: 1.0283e-02\n",
      "Better valLoss: 1.0283e-02, Saving models...\n"
     ]
    },
    {
     "name": "stderr",
     "output_type": "stream",
     "text": [
      "\r",
      " 37%|███▋      | 369/1000 [06:11<10:23,  1.01it/s]"
     ]
    },
    {
     "name": "stdout",
     "output_type": "stream",
     "text": [
      "--- Epoch 370/1000 ---\n",
      "trainLoss: 1.0282e-02\n",
      "LR: 1.0000e-07\n",
      "valLoss: 1.0279e-02\n",
      "Better valLoss: 1.0279e-02, Saving models...\n"
     ]
    },
    {
     "name": "stderr",
     "output_type": "stream",
     "text": [
      "\r",
      " 37%|███▋      | 370/1000 [06:12<10:31,  1.00s/it]"
     ]
    },
    {
     "name": "stdout",
     "output_type": "stream",
     "text": [
      "--- Epoch 371/1000 ---\n",
      "trainLoss: 1.0278e-02\n",
      "LR: 1.0000e-07\n",
      "valLoss: 1.0275e-02\n",
      "Better valLoss: 1.0275e-02, Saving models...\n"
     ]
    },
    {
     "name": "stderr",
     "output_type": "stream",
     "text": [
      "\r",
      " 37%|███▋      | 371/1000 [06:13<10:27,  1.00it/s]"
     ]
    },
    {
     "name": "stdout",
     "output_type": "stream",
     "text": [
      "--- Epoch 372/1000 ---\n",
      "trainLoss: 1.0274e-02\n",
      "LR: 1.0000e-07\n",
      "valLoss: 1.0271e-02\n",
      "Better valLoss: 1.0271e-02, Saving models...\n"
     ]
    },
    {
     "name": "stderr",
     "output_type": "stream",
     "text": [
      "\r",
      " 37%|███▋      | 372/1000 [06:14<10:24,  1.01it/s]"
     ]
    },
    {
     "name": "stdout",
     "output_type": "stream",
     "text": [
      "--- Epoch 373/1000 ---\n",
      "trainLoss: 1.0270e-02\n",
      "LR: 1.0000e-07\n",
      "valLoss: 1.0267e-02\n",
      "Better valLoss: 1.0267e-02, Saving models...\n"
     ]
    },
    {
     "name": "stderr",
     "output_type": "stream",
     "text": [
      "\r",
      " 37%|███▋      | 373/1000 [06:15<10:24,  1.00it/s]"
     ]
    },
    {
     "name": "stdout",
     "output_type": "stream",
     "text": [
      "--- Epoch 374/1000 ---\n",
      "trainLoss: 1.0266e-02\n",
      "LR: 1.0000e-07\n",
      "valLoss: 1.0263e-02\n",
      "Better valLoss: 1.0263e-02, Saving models...\n"
     ]
    },
    {
     "name": "stderr",
     "output_type": "stream",
     "text": [
      "\r",
      " 37%|███▋      | 374/1000 [06:16<10:16,  1.01it/s]"
     ]
    },
    {
     "name": "stdout",
     "output_type": "stream",
     "text": [
      "--- Epoch 375/1000 ---\n",
      "trainLoss: 1.0262e-02\n",
      "LR: 1.0000e-07\n",
      "valLoss: 1.0259e-02\n",
      "Better valLoss: 1.0259e-02, Saving models...\n"
     ]
    },
    {
     "name": "stderr",
     "output_type": "stream",
     "text": [
      "\r",
      " 38%|███▊      | 375/1000 [06:17<10:27,  1.00s/it]"
     ]
    },
    {
     "name": "stdout",
     "output_type": "stream",
     "text": [
      "--- Epoch 376/1000 ---\n",
      "trainLoss: 1.0258e-02\n",
      "LR: 1.0000e-07\n",
      "valLoss: 1.0255e-02\n",
      "Better valLoss: 1.0255e-02, Saving models...\n"
     ]
    },
    {
     "name": "stderr",
     "output_type": "stream",
     "text": [
      "\r",
      " 38%|███▊      | 376/1000 [06:18<10:23,  1.00it/s]"
     ]
    },
    {
     "name": "stdout",
     "output_type": "stream",
     "text": [
      "--- Epoch 377/1000 ---\n",
      "trainLoss: 1.0254e-02\n",
      "LR: 1.0000e-07\n",
      "valLoss: 1.0251e-02\n",
      "Better valLoss: 1.0251e-02, Saving models...\n"
     ]
    },
    {
     "name": "stderr",
     "output_type": "stream",
     "text": [
      "\r",
      " 38%|███▊      | 377/1000 [06:19<10:34,  1.02s/it]"
     ]
    },
    {
     "name": "stdout",
     "output_type": "stream",
     "text": [
      "--- Epoch 378/1000 ---\n",
      "trainLoss: 1.0250e-02\n",
      "LR: 1.0000e-07\n",
      "valLoss: 1.0247e-02\n",
      "Better valLoss: 1.0247e-02, Saving models...\n"
     ]
    },
    {
     "name": "stderr",
     "output_type": "stream",
     "text": [
      "\r",
      " 38%|███▊      | 378/1000 [06:20<10:13,  1.01it/s]"
     ]
    },
    {
     "name": "stdout",
     "output_type": "stream",
     "text": [
      "--- Epoch 379/1000 ---\n",
      "trainLoss: 1.0246e-02\n",
      "LR: 1.0000e-07\n",
      "valLoss: 1.0244e-02\n",
      "Better valLoss: 1.0244e-02, Saving models...\n"
     ]
    },
    {
     "name": "stderr",
     "output_type": "stream",
     "text": [
      "\r",
      " 38%|███▊      | 379/1000 [06:21<09:57,  1.04it/s]"
     ]
    },
    {
     "name": "stdout",
     "output_type": "stream",
     "text": [
      "--- Epoch 380/1000 ---\n",
      "trainLoss: 1.0242e-02\n",
      "LR: 1.0000e-07\n",
      "valLoss: 1.0239e-02\n",
      "Better valLoss: 1.0239e-02, Saving models...\n"
     ]
    },
    {
     "name": "stderr",
     "output_type": "stream",
     "text": [
      "\r",
      " 38%|███▊      | 380/1000 [06:22<09:57,  1.04it/s]"
     ]
    },
    {
     "name": "stdout",
     "output_type": "stream",
     "text": [
      "--- Epoch 381/1000 ---\n",
      "trainLoss: 1.0238e-02\n",
      "LR: 1.0000e-07\n",
      "valLoss: 1.0235e-02\n",
      "Better valLoss: 1.0235e-02, Saving models...\n"
     ]
    },
    {
     "name": "stderr",
     "output_type": "stream",
     "text": [
      "\r",
      " 38%|███▊      | 381/1000 [06:23<09:50,  1.05it/s]"
     ]
    },
    {
     "name": "stdout",
     "output_type": "stream",
     "text": [
      "--- Epoch 382/1000 ---\n",
      "trainLoss: 1.0234e-02\n",
      "LR: 1.0000e-07\n",
      "valLoss: 1.0231e-02\n",
      "Better valLoss: 1.0231e-02, Saving models...\n"
     ]
    },
    {
     "name": "stderr",
     "output_type": "stream",
     "text": [
      "\r",
      " 38%|███▊      | 382/1000 [06:24<10:01,  1.03it/s]"
     ]
    },
    {
     "name": "stdout",
     "output_type": "stream",
     "text": [
      "--- Epoch 383/1000 ---\n",
      "trainLoss: 1.0230e-02\n",
      "LR: 1.0000e-07\n",
      "valLoss: 1.0228e-02\n",
      "Better valLoss: 1.0228e-02, Saving models...\n"
     ]
    },
    {
     "name": "stderr",
     "output_type": "stream",
     "text": [
      "\r",
      " 38%|███▊      | 383/1000 [06:25<09:51,  1.04it/s]"
     ]
    },
    {
     "name": "stdout",
     "output_type": "stream",
     "text": [
      "--- Epoch 384/1000 ---\n",
      "trainLoss: 1.0227e-02\n",
      "LR: 1.0000e-07\n",
      "valLoss: 1.0223e-02\n",
      "Better valLoss: 1.0223e-02, Saving models...\n"
     ]
    },
    {
     "name": "stderr",
     "output_type": "stream",
     "text": [
      "\r",
      " 38%|███▊      | 384/1000 [06:26<09:51,  1.04it/s]"
     ]
    },
    {
     "name": "stdout",
     "output_type": "stream",
     "text": [
      "--- Epoch 385/1000 ---\n",
      "trainLoss: 1.0222e-02\n",
      "LR: 1.0000e-07\n",
      "valLoss: 1.0219e-02\n",
      "Better valLoss: 1.0219e-02, Saving models...\n"
     ]
    },
    {
     "name": "stderr",
     "output_type": "stream",
     "text": [
      "\r",
      " 38%|███▊      | 385/1000 [06:27<10:05,  1.01it/s]"
     ]
    },
    {
     "name": "stdout",
     "output_type": "stream",
     "text": [
      "--- Epoch 386/1000 ---\n",
      "trainLoss: 1.0218e-02\n",
      "LR: 1.0000e-07\n",
      "valLoss: 1.0215e-02\n",
      "Better valLoss: 1.0215e-02, Saving models...\n"
     ]
    },
    {
     "name": "stderr",
     "output_type": "stream",
     "text": [
      "\r",
      " 39%|███▊      | 386/1000 [06:28<10:13,  1.00it/s]"
     ]
    },
    {
     "name": "stdout",
     "output_type": "stream",
     "text": [
      "--- Epoch 387/1000 ---\n",
      "trainLoss: 1.0214e-02\n",
      "LR: 1.0000e-07\n",
      "valLoss: 1.0211e-02\n",
      "Better valLoss: 1.0211e-02, Saving models...\n"
     ]
    },
    {
     "name": "stderr",
     "output_type": "stream",
     "text": [
      "\r",
      " 39%|███▊      | 387/1000 [06:29<10:11,  1.00it/s]"
     ]
    },
    {
     "name": "stdout",
     "output_type": "stream",
     "text": [
      "--- Epoch 388/1000 ---\n",
      "trainLoss: 1.0210e-02\n",
      "LR: 1.0000e-07\n"
     ]
    },
    {
     "name": "stderr",
     "output_type": "stream",
     "text": [
      "\r",
      " 39%|███▉      | 388/1000 [06:30<10:00,  1.02it/s]"
     ]
    },
    {
     "name": "stdout",
     "output_type": "stream",
     "text": [
      "valLoss: 1.0208e-02\n",
      "Better valLoss: 1.0208e-02, Saving models...\n",
      "--- Epoch 389/1000 ---\n",
      "trainLoss: 1.0207e-02\n",
      "LR: 1.0000e-07\n",
      "valLoss: 1.0204e-02\n",
      "Better valLoss: 1.0204e-02, Saving models...\n"
     ]
    },
    {
     "name": "stderr",
     "output_type": "stream",
     "text": [
      "\r",
      " 39%|███▉      | 389/1000 [06:31<09:53,  1.03it/s]"
     ]
    },
    {
     "name": "stdout",
     "output_type": "stream",
     "text": [
      "--- Epoch 390/1000 ---\n",
      "trainLoss: 1.0203e-02\n",
      "LR: 1.0000e-07\n",
      "valLoss: 1.0199e-02\n",
      "Better valLoss: 1.0199e-02, Saving models...\n"
     ]
    },
    {
     "name": "stderr",
     "output_type": "stream",
     "text": [
      "\r",
      " 39%|███▉      | 390/1000 [06:32<09:46,  1.04it/s]"
     ]
    },
    {
     "name": "stdout",
     "output_type": "stream",
     "text": [
      "--- Epoch 391/1000 ---\n",
      "trainLoss: 1.0198e-02\n",
      "LR: 1.0000e-07\n",
      "valLoss: 1.0195e-02\n",
      "Better valLoss: 1.0195e-02, Saving models...\n"
     ]
    },
    {
     "name": "stderr",
     "output_type": "stream",
     "text": [
      "\r",
      " 39%|███▉      | 391/1000 [06:33<09:55,  1.02it/s]"
     ]
    },
    {
     "name": "stdout",
     "output_type": "stream",
     "text": [
      "--- Epoch 392/1000 ---\n",
      "trainLoss: 1.0194e-02\n",
      "LR: 1.0000e-07\n",
      "valLoss: 1.0192e-02\n",
      "Better valLoss: 1.0192e-02, Saving models...\n"
     ]
    },
    {
     "name": "stderr",
     "output_type": "stream",
     "text": [
      "\r",
      " 39%|███▉      | 392/1000 [06:34<10:06,  1.00it/s]"
     ]
    },
    {
     "name": "stdout",
     "output_type": "stream",
     "text": [
      "--- Epoch 393/1000 ---\n",
      "trainLoss: 1.0191e-02\n",
      "LR: 1.0000e-07\n",
      "valLoss: 1.0188e-02\n",
      "Better valLoss: 1.0188e-02, Saving models...\n"
     ]
    },
    {
     "name": "stderr",
     "output_type": "stream",
     "text": [
      "\r",
      " 39%|███▉      | 393/1000 [06:35<10:05,  1.00it/s]"
     ]
    },
    {
     "name": "stdout",
     "output_type": "stream",
     "text": [
      "--- Epoch 394/1000 ---\n",
      "trainLoss: 1.0187e-02\n",
      "LR: 1.0000e-07\n",
      "valLoss: 1.0184e-02\n",
      "Better valLoss: 1.0184e-02, Saving models...\n"
     ]
    },
    {
     "name": "stderr",
     "output_type": "stream",
     "text": [
      "\r",
      " 39%|███▉      | 394/1000 [06:36<09:56,  1.02it/s]"
     ]
    },
    {
     "name": "stdout",
     "output_type": "stream",
     "text": [
      "--- Epoch 395/1000 ---\n",
      "trainLoss: 1.0183e-02\n",
      "LR: 1.0000e-07\n",
      "valLoss: 1.0180e-02\n",
      "Better valLoss: 1.0180e-02, Saving models...\n"
     ]
    },
    {
     "name": "stderr",
     "output_type": "stream",
     "text": [
      "\r",
      " 40%|███▉      | 395/1000 [06:37<10:07,  1.00s/it]"
     ]
    },
    {
     "name": "stdout",
     "output_type": "stream",
     "text": [
      "--- Epoch 396/1000 ---\n",
      "trainLoss: 1.0179e-02\n",
      "LR: 1.0000e-07\n",
      "valLoss: 1.0176e-02\n",
      "Better valLoss: 1.0176e-02, Saving models...\n"
     ]
    },
    {
     "name": "stderr",
     "output_type": "stream",
     "text": [
      "\r",
      " 40%|███▉      | 396/1000 [06:38<10:07,  1.01s/it]"
     ]
    },
    {
     "name": "stdout",
     "output_type": "stream",
     "text": [
      "--- Epoch 397/1000 ---\n",
      "trainLoss: 1.0175e-02\n",
      "LR: 1.0000e-07\n",
      "valLoss: 1.0172e-02\n",
      "Better valLoss: 1.0172e-02, Saving models...\n"
     ]
    },
    {
     "name": "stderr",
     "output_type": "stream",
     "text": [
      "\r",
      " 40%|███▉      | 397/1000 [06:39<10:08,  1.01s/it]"
     ]
    },
    {
     "name": "stdout",
     "output_type": "stream",
     "text": [
      "--- Epoch 398/1000 ---\n",
      "trainLoss: 1.0171e-02\n",
      "LR: 1.0000e-07\n",
      "valLoss: 1.0168e-02\n",
      "Better valLoss: 1.0168e-02, Saving models...\n"
     ]
    },
    {
     "name": "stderr",
     "output_type": "stream",
     "text": [
      "\r",
      " 40%|███▉      | 398/1000 [06:40<10:13,  1.02s/it]"
     ]
    },
    {
     "name": "stdout",
     "output_type": "stream",
     "text": [
      "--- Epoch 399/1000 ---\n",
      "trainLoss: 1.0167e-02\n",
      "LR: 1.0000e-07\n",
      "valLoss: 1.0164e-02\n",
      "Better valLoss: 1.0164e-02, Saving models...\n"
     ]
    },
    {
     "name": "stderr",
     "output_type": "stream",
     "text": [
      "\r",
      " 40%|███▉      | 399/1000 [06:41<10:12,  1.02s/it]"
     ]
    },
    {
     "name": "stdout",
     "output_type": "stream",
     "text": [
      "--- Epoch 400/1000 ---\n",
      "trainLoss: 1.0163e-02\n",
      "LR: 1.0000e-07\n",
      "valLoss: 1.0160e-02\n",
      "Better valLoss: 1.0160e-02, Saving models...\n"
     ]
    },
    {
     "name": "stderr",
     "output_type": "stream",
     "text": [
      "\r",
      " 40%|████      | 400/1000 [06:42<10:16,  1.03s/it]"
     ]
    },
    {
     "name": "stdout",
     "output_type": "stream",
     "text": [
      "--- Epoch 401/1000 ---\n",
      "trainLoss: 1.0159e-02\n",
      "LR: 1.0000e-07\n",
      "valLoss: 1.0156e-02\n",
      "Better valLoss: 1.0156e-02, Saving models...\n"
     ]
    },
    {
     "name": "stderr",
     "output_type": "stream",
     "text": [
      "\r",
      " 40%|████      | 401/1000 [06:43<10:10,  1.02s/it]"
     ]
    },
    {
     "name": "stdout",
     "output_type": "stream",
     "text": [
      "--- Epoch 402/1000 ---\n",
      "trainLoss: 1.0155e-02\n",
      "LR: 1.0000e-07\n",
      "valLoss: 1.0152e-02\n",
      "Better valLoss: 1.0152e-02, Saving models...\n"
     ]
    },
    {
     "name": "stderr",
     "output_type": "stream",
     "text": [
      "\r",
      " 40%|████      | 402/1000 [06:44<10:07,  1.02s/it]"
     ]
    },
    {
     "name": "stdout",
     "output_type": "stream",
     "text": [
      "--- Epoch 403/1000 ---\n",
      "trainLoss: 1.0151e-02\n",
      "LR: 1.0000e-07\n",
      "valLoss: 1.0148e-02\n",
      "Better valLoss: 1.0148e-02, Saving models...\n"
     ]
    },
    {
     "name": "stderr",
     "output_type": "stream",
     "text": [
      "\r",
      " 40%|████      | 403/1000 [06:45<10:05,  1.01s/it]"
     ]
    },
    {
     "name": "stdout",
     "output_type": "stream",
     "text": [
      "--- Epoch 404/1000 ---\n",
      "trainLoss: 1.0147e-02\n",
      "LR: 1.0000e-07\n",
      "valLoss: 1.0144e-02\n",
      "Better valLoss: 1.0144e-02, Saving models...\n"
     ]
    },
    {
     "name": "stderr",
     "output_type": "stream",
     "text": [
      "\r",
      " 40%|████      | 404/1000 [06:46<09:49,  1.01it/s]"
     ]
    },
    {
     "name": "stdout",
     "output_type": "stream",
     "text": [
      "--- Epoch 405/1000 ---\n",
      "trainLoss: 1.0143e-02\n",
      "LR: 1.0000e-07\n",
      "valLoss: 1.0140e-02\n",
      "Better valLoss: 1.0140e-02, Saving models...\n"
     ]
    },
    {
     "name": "stderr",
     "output_type": "stream",
     "text": [
      "\r",
      " 40%|████      | 405/1000 [06:47<09:53,  1.00it/s]"
     ]
    },
    {
     "name": "stdout",
     "output_type": "stream",
     "text": [
      "--- Epoch 406/1000 ---\n",
      "trainLoss: 1.0139e-02\n",
      "LR: 1.0000e-07\n",
      "valLoss: 1.0136e-02\n",
      "Better valLoss: 1.0136e-02, Saving models...\n"
     ]
    },
    {
     "name": "stderr",
     "output_type": "stream",
     "text": [
      "\r",
      " 41%|████      | 406/1000 [06:48<09:54,  1.00s/it]"
     ]
    },
    {
     "name": "stdout",
     "output_type": "stream",
     "text": [
      "--- Epoch 407/1000 ---\n",
      "trainLoss: 1.0135e-02\n",
      "LR: 1.0000e-07\n",
      "valLoss: 1.0132e-02\n",
      "Better valLoss: 1.0132e-02, Saving models...\n"
     ]
    },
    {
     "name": "stderr",
     "output_type": "stream",
     "text": [
      "\r",
      " 41%|████      | 407/1000 [06:49<09:58,  1.01s/it]"
     ]
    },
    {
     "name": "stdout",
     "output_type": "stream",
     "text": [
      "--- Epoch 408/1000 ---\n",
      "trainLoss: 1.0131e-02\n",
      "LR: 1.0000e-07\n",
      "valLoss: 1.0128e-02\n",
      "Better valLoss: 1.0128e-02, Saving models...\n"
     ]
    },
    {
     "name": "stderr",
     "output_type": "stream",
     "text": [
      "\r",
      " 41%|████      | 408/1000 [06:50<09:50,  1.00it/s]"
     ]
    },
    {
     "name": "stdout",
     "output_type": "stream",
     "text": [
      "--- Epoch 409/1000 ---\n",
      "trainLoss: 1.0127e-02\n",
      "LR: 1.0000e-07\n",
      "valLoss: 1.0124e-02\n",
      "Better valLoss: 1.0124e-02, Saving models...\n"
     ]
    },
    {
     "name": "stderr",
     "output_type": "stream",
     "text": [
      "\r",
      " 41%|████      | 409/1000 [06:51<09:53,  1.00s/it]"
     ]
    },
    {
     "name": "stdout",
     "output_type": "stream",
     "text": [
      "--- Epoch 410/1000 ---\n",
      "trainLoss: 1.0123e-02\n",
      "LR: 1.0000e-07\n",
      "valLoss: 1.0120e-02\n",
      "Better valLoss: 1.0120e-02, Saving models...\n"
     ]
    },
    {
     "name": "stderr",
     "output_type": "stream",
     "text": [
      "\r",
      " 41%|████      | 410/1000 [06:52<09:47,  1.00it/s]"
     ]
    },
    {
     "name": "stdout",
     "output_type": "stream",
     "text": [
      "--- Epoch 411/1000 ---\n",
      "trainLoss: 1.0119e-02\n",
      "LR: 1.0000e-07\n",
      "valLoss: 1.0116e-02\n",
      "Better valLoss: 1.0116e-02, Saving models...\n"
     ]
    },
    {
     "name": "stderr",
     "output_type": "stream",
     "text": [
      "\r",
      " 41%|████      | 411/1000 [06:53<09:36,  1.02it/s]"
     ]
    },
    {
     "name": "stdout",
     "output_type": "stream",
     "text": [
      "--- Epoch 412/1000 ---\n",
      "trainLoss: 1.0115e-02\n",
      "LR: 1.0000e-07\n",
      "valLoss: 1.0112e-02\n",
      "Better valLoss: 1.0112e-02, Saving models...\n"
     ]
    },
    {
     "name": "stderr",
     "output_type": "stream",
     "text": [
      "\r",
      " 41%|████      | 412/1000 [06:54<09:54,  1.01s/it]"
     ]
    },
    {
     "name": "stdout",
     "output_type": "stream",
     "text": [
      "--- Epoch 413/1000 ---\n",
      "trainLoss: 1.0111e-02\n",
      "LR: 1.0000e-07\n",
      "valLoss: 1.0108e-02\n",
      "Better valLoss: 1.0108e-02, Saving models...\n"
     ]
    },
    {
     "name": "stderr",
     "output_type": "stream",
     "text": [
      "\r",
      " 41%|████▏     | 413/1000 [06:55<09:56,  1.02s/it]"
     ]
    },
    {
     "name": "stdout",
     "output_type": "stream",
     "text": [
      "--- Epoch 414/1000 ---\n",
      "trainLoss: 1.0107e-02\n",
      "LR: 1.0000e-07\n",
      "valLoss: 1.0104e-02\n",
      "Better valLoss: 1.0104e-02, Saving models...\n"
     ]
    },
    {
     "name": "stderr",
     "output_type": "stream",
     "text": [
      "\r",
      " 41%|████▏     | 414/1000 [06:56<09:52,  1.01s/it]"
     ]
    },
    {
     "name": "stdout",
     "output_type": "stream",
     "text": [
      "--- Epoch 415/1000 ---\n",
      "trainLoss: 1.0103e-02\n",
      "LR: 1.0000e-07\n",
      "valLoss: 1.0100e-02\n",
      "Better valLoss: 1.0100e-02, Saving models...\n"
     ]
    },
    {
     "name": "stderr",
     "output_type": "stream",
     "text": [
      "\r",
      " 42%|████▏     | 415/1000 [06:57<09:55,  1.02s/it]"
     ]
    },
    {
     "name": "stdout",
     "output_type": "stream",
     "text": [
      "--- Epoch 416/1000 ---\n",
      "trainLoss: 1.0099e-02\n",
      "LR: 1.0000e-07\n",
      "valLoss: 1.0096e-02\n",
      "Better valLoss: 1.0096e-02, Saving models...\n"
     ]
    },
    {
     "name": "stderr",
     "output_type": "stream",
     "text": [
      "\r",
      " 42%|████▏     | 416/1000 [06:58<09:50,  1.01s/it]"
     ]
    },
    {
     "name": "stdout",
     "output_type": "stream",
     "text": [
      "--- Epoch 417/1000 ---\n",
      "trainLoss: 1.0095e-02\n",
      "LR: 1.0000e-07\n",
      "valLoss: 1.0092e-02\n",
      "Better valLoss: 1.0092e-02, Saving models...\n"
     ]
    },
    {
     "name": "stderr",
     "output_type": "stream",
     "text": [
      "\r",
      " 42%|████▏     | 417/1000 [06:59<09:45,  1.00s/it]"
     ]
    },
    {
     "name": "stdout",
     "output_type": "stream",
     "text": [
      "--- Epoch 418/1000 ---\n",
      "trainLoss: 1.0091e-02\n",
      "LR: 1.0000e-07\n",
      "valLoss: 1.0088e-02\n",
      "Better valLoss: 1.0088e-02, Saving models...\n"
     ]
    },
    {
     "name": "stderr",
     "output_type": "stream",
     "text": [
      "\r",
      " 42%|████▏     | 418/1000 [07:00<09:40,  1.00it/s]"
     ]
    },
    {
     "name": "stdout",
     "output_type": "stream",
     "text": [
      "--- Epoch 419/1000 ---\n",
      "trainLoss: 1.0087e-02\n",
      "LR: 1.0000e-07\n",
      "valLoss: 1.0084e-02\n",
      "Better valLoss: 1.0084e-02, Saving models...\n"
     ]
    },
    {
     "name": "stderr",
     "output_type": "stream",
     "text": [
      "\r",
      " 42%|████▏     | 419/1000 [07:01<09:38,  1.00it/s]"
     ]
    },
    {
     "name": "stdout",
     "output_type": "stream",
     "text": [
      "--- Epoch 420/1000 ---\n",
      "trainLoss: 1.0083e-02\n",
      "LR: 1.0000e-07\n",
      "valLoss: 1.0080e-02\n",
      "Better valLoss: 1.0080e-02, Saving models...\n"
     ]
    },
    {
     "name": "stderr",
     "output_type": "stream",
     "text": [
      "\r",
      " 42%|████▏     | 420/1000 [07:02<09:36,  1.01it/s]"
     ]
    },
    {
     "name": "stdout",
     "output_type": "stream",
     "text": [
      "--- Epoch 421/1000 ---\n",
      "trainLoss: 1.0079e-02\n",
      "LR: 1.0000e-07\n",
      "valLoss: 1.0076e-02\n",
      "Better valLoss: 1.0076e-02, Saving models...\n"
     ]
    },
    {
     "name": "stderr",
     "output_type": "stream",
     "text": [
      "\r",
      " 42%|████▏     | 421/1000 [07:03<09:28,  1.02it/s]"
     ]
    },
    {
     "name": "stdout",
     "output_type": "stream",
     "text": [
      "--- Epoch 422/1000 ---\n",
      "trainLoss: 1.0076e-02\n",
      "LR: 1.0000e-07\n",
      "valLoss: 1.0073e-02\n",
      "Better valLoss: 1.0073e-02, Saving models...\n"
     ]
    },
    {
     "name": "stderr",
     "output_type": "stream",
     "text": [
      "\r",
      " 42%|████▏     | 422/1000 [07:04<09:25,  1.02it/s]"
     ]
    },
    {
     "name": "stdout",
     "output_type": "stream",
     "text": [
      "--- Epoch 423/1000 ---\n",
      "trainLoss: 1.0072e-02\n",
      "LR: 1.0000e-07\n",
      "valLoss: 1.0069e-02\n",
      "Better valLoss: 1.0069e-02, Saving models...\n"
     ]
    },
    {
     "name": "stderr",
     "output_type": "stream",
     "text": [
      "\r",
      " 42%|████▏     | 423/1000 [07:05<09:08,  1.05it/s]"
     ]
    },
    {
     "name": "stdout",
     "output_type": "stream",
     "text": [
      "--- Epoch 424/1000 ---\n",
      "trainLoss: 1.0068e-02\n",
      "LR: 1.0000e-07\n",
      "valLoss: 1.0065e-02\n",
      "Better valLoss: 1.0065e-02, Saving models...\n"
     ]
    },
    {
     "name": "stderr",
     "output_type": "stream",
     "text": [
      "\r",
      " 42%|████▏     | 424/1000 [07:05<08:58,  1.07it/s]"
     ]
    },
    {
     "name": "stdout",
     "output_type": "stream",
     "text": [
      "--- Epoch 425/1000 ---\n",
      "trainLoss: 1.0064e-02\n",
      "LR: 1.0000e-07\n",
      "valLoss: 1.0061e-02\n",
      "Better valLoss: 1.0061e-02, Saving models...\n"
     ]
    },
    {
     "name": "stderr",
     "output_type": "stream",
     "text": [
      "\r",
      " 42%|████▎     | 425/1000 [07:06<08:53,  1.08it/s]"
     ]
    },
    {
     "name": "stdout",
     "output_type": "stream",
     "text": [
      "--- Epoch 426/1000 ---\n",
      "trainLoss: 1.0060e-02\n",
      "LR: 1.0000e-07\n",
      "valLoss: 1.0057e-02\n",
      "Better valLoss: 1.0057e-02, Saving models...\n"
     ]
    },
    {
     "name": "stderr",
     "output_type": "stream",
     "text": [
      "\r",
      " 43%|████▎     | 426/1000 [07:07<09:10,  1.04it/s]"
     ]
    },
    {
     "name": "stdout",
     "output_type": "stream",
     "text": [
      "--- Epoch 427/1000 ---\n",
      "trainLoss: 1.0056e-02\n",
      "LR: 1.0000e-07\n",
      "valLoss: 1.0053e-02\n",
      "Better valLoss: 1.0053e-02, Saving models...\n"
     ]
    },
    {
     "name": "stderr",
     "output_type": "stream",
     "text": [
      "\r",
      " 43%|████▎     | 427/1000 [07:08<09:15,  1.03it/s]"
     ]
    },
    {
     "name": "stdout",
     "output_type": "stream",
     "text": [
      "--- Epoch 428/1000 ---\n",
      "trainLoss: 1.0052e-02\n",
      "LR: 1.0000e-07\n",
      "valLoss: 1.0049e-02\n",
      "Better valLoss: 1.0049e-02, Saving models...\n"
     ]
    },
    {
     "name": "stderr",
     "output_type": "stream",
     "text": [
      "\r",
      " 43%|████▎     | 428/1000 [07:09<09:15,  1.03it/s]"
     ]
    },
    {
     "name": "stdout",
     "output_type": "stream",
     "text": [
      "--- Epoch 429/1000 ---\n",
      "trainLoss: 1.0048e-02\n",
      "LR: 1.0000e-07\n",
      "valLoss: 1.0045e-02\n",
      "Better valLoss: 1.0045e-02, Saving models...\n"
     ]
    },
    {
     "name": "stderr",
     "output_type": "stream",
     "text": [
      "\r",
      " 43%|████▎     | 429/1000 [07:10<09:21,  1.02it/s]"
     ]
    },
    {
     "name": "stdout",
     "output_type": "stream",
     "text": [
      "--- Epoch 430/1000 ---\n",
      "trainLoss: 1.0044e-02\n",
      "LR: 1.0000e-07\n",
      "valLoss: 1.0041e-02\n",
      "Better valLoss: 1.0041e-02, Saving models...\n"
     ]
    },
    {
     "name": "stderr",
     "output_type": "stream",
     "text": [
      "\r",
      " 43%|████▎     | 430/1000 [07:11<09:24,  1.01it/s]"
     ]
    },
    {
     "name": "stdout",
     "output_type": "stream",
     "text": [
      "--- Epoch 431/1000 ---\n",
      "trainLoss: 1.0040e-02\n",
      "LR: 1.0000e-07\n",
      "valLoss: 1.0037e-02\n",
      "Better valLoss: 1.0037e-02, Saving models...\n"
     ]
    },
    {
     "name": "stderr",
     "output_type": "stream",
     "text": [
      "\r",
      " 43%|████▎     | 431/1000 [07:12<09:13,  1.03it/s]"
     ]
    },
    {
     "name": "stdout",
     "output_type": "stream",
     "text": [
      "--- Epoch 432/1000 ---\n",
      "trainLoss: 1.0036e-02\n",
      "LR: 1.0000e-07\n",
      "valLoss: 1.0033e-02\n",
      "Better valLoss: 1.0033e-02, Saving models...\n"
     ]
    },
    {
     "name": "stderr",
     "output_type": "stream",
     "text": [
      "\r",
      " 43%|████▎     | 432/1000 [07:13<09:16,  1.02it/s]"
     ]
    },
    {
     "name": "stdout",
     "output_type": "stream",
     "text": [
      "--- Epoch 433/1000 ---\n",
      "trainLoss: 1.0032e-02\n",
      "LR: 1.0000e-07\n",
      "valLoss: 1.0029e-02\n",
      "Better valLoss: 1.0029e-02, Saving models...\n"
     ]
    },
    {
     "name": "stderr",
     "output_type": "stream",
     "text": [
      "\r",
      " 43%|████▎     | 433/1000 [07:14<09:06,  1.04it/s]"
     ]
    },
    {
     "name": "stdout",
     "output_type": "stream",
     "text": [
      "--- Epoch 434/1000 ---\n",
      "trainLoss: 1.0028e-02\n",
      "LR: 1.0000e-07\n",
      "valLoss: 1.0025e-02\n",
      "Better valLoss: 1.0025e-02, Saving models...\n"
     ]
    },
    {
     "name": "stderr",
     "output_type": "stream",
     "text": [
      "\r",
      " 43%|████▎     | 434/1000 [07:15<08:54,  1.06it/s]"
     ]
    },
    {
     "name": "stdout",
     "output_type": "stream",
     "text": [
      "--- Epoch 435/1000 ---\n",
      "trainLoss: 1.0024e-02\n",
      "LR: 1.0000e-07\n",
      "valLoss: 1.0021e-02\n",
      "Better valLoss: 1.0021e-02, Saving models...\n"
     ]
    },
    {
     "name": "stderr",
     "output_type": "stream",
     "text": [
      "\r",
      " 44%|████▎     | 435/1000 [07:16<08:43,  1.08it/s]"
     ]
    },
    {
     "name": "stdout",
     "output_type": "stream",
     "text": [
      "--- Epoch 436/1000 ---\n",
      "trainLoss: 1.0020e-02\n",
      "LR: 1.0000e-07\n",
      "valLoss: 1.0017e-02\n",
      "Better valLoss: 1.0017e-02, Saving models...\n"
     ]
    },
    {
     "name": "stderr",
     "output_type": "stream",
     "text": [
      "\r",
      " 44%|████▎     | 436/1000 [07:17<08:43,  1.08it/s]"
     ]
    },
    {
     "name": "stdout",
     "output_type": "stream",
     "text": [
      "--- Epoch 437/1000 ---\n",
      "trainLoss: 1.0016e-02\n",
      "LR: 1.0000e-07\n",
      "valLoss: 1.0013e-02\n",
      "Better valLoss: 1.0013e-02, Saving models...\n"
     ]
    },
    {
     "name": "stderr",
     "output_type": "stream",
     "text": [
      "\r",
      " 44%|████▎     | 437/1000 [07:18<08:57,  1.05it/s]"
     ]
    },
    {
     "name": "stdout",
     "output_type": "stream",
     "text": [
      "--- Epoch 438/1000 ---\n",
      "trainLoss: 1.0012e-02\n",
      "LR: 1.0000e-07\n",
      "valLoss: 1.0009e-02\n",
      "Better valLoss: 1.0009e-02, Saving models...\n"
     ]
    },
    {
     "name": "stderr",
     "output_type": "stream",
     "text": [
      "\r",
      " 44%|████▍     | 438/1000 [07:19<09:01,  1.04it/s]"
     ]
    },
    {
     "name": "stdout",
     "output_type": "stream",
     "text": [
      "--- Epoch 439/1000 ---\n",
      "trainLoss: 1.0008e-02\n",
      "LR: 1.0000e-07\n",
      "valLoss: 1.0005e-02\n",
      "Better valLoss: 1.0005e-02, Saving models...\n"
     ]
    },
    {
     "name": "stderr",
     "output_type": "stream",
     "text": [
      "\r",
      " 44%|████▍     | 439/1000 [07:20<09:21,  1.00s/it]"
     ]
    },
    {
     "name": "stdout",
     "output_type": "stream",
     "text": [
      "--- Epoch 440/1000 ---\n",
      "trainLoss: 1.0004e-02\n",
      "LR: 1.0000e-07\n",
      "valLoss: 1.0001e-02\n",
      "Better valLoss: 1.0001e-02, Saving models...\n"
     ]
    },
    {
     "name": "stderr",
     "output_type": "stream",
     "text": [
      "\r",
      " 44%|████▍     | 440/1000 [07:21<09:20,  1.00s/it]"
     ]
    },
    {
     "name": "stdout",
     "output_type": "stream",
     "text": [
      "--- Epoch 441/1000 ---\n",
      "trainLoss: 1.0000e-02\n",
      "LR: 1.0000e-07\n",
      "valLoss: 9.9973e-03\n",
      "Better valLoss: 9.9973e-03, Saving models...\n"
     ]
    },
    {
     "name": "stderr",
     "output_type": "stream",
     "text": [
      "\r",
      " 44%|████▍     | 441/1000 [07:22<09:10,  1.02it/s]"
     ]
    },
    {
     "name": "stdout",
     "output_type": "stream",
     "text": [
      "--- Epoch 442/1000 ---\n",
      "trainLoss: 9.9964e-03\n",
      "LR: 1.0000e-07\n",
      "valLoss: 9.9935e-03\n",
      "Better valLoss: 9.9935e-03, Saving models...\n"
     ]
    },
    {
     "name": "stderr",
     "output_type": "stream",
     "text": [
      "\r",
      " 44%|████▍     | 442/1000 [07:23<09:16,  1.00it/s]"
     ]
    },
    {
     "name": "stdout",
     "output_type": "stream",
     "text": [
      "--- Epoch 443/1000 ---\n"
     ]
    },
    {
     "name": "stderr",
     "output_type": "stream",
     "text": [
      " 44%|████▍     | 442/1000 [07:23<09:20,  1.00s/it]\n"
     ]
    },
    {
     "ename": "KeyboardInterrupt",
     "evalue": "",
     "output_type": "error",
     "traceback": [
      "\u001b[0;31m---------------------------------------------------------------------------\u001b[0m",
      "\u001b[0;31mKeyboardInterrupt\u001b[0m                         Traceback (most recent call last)",
      "\u001b[0;32m<ipython-input-47-b90c80405622>\u001b[0m in \u001b[0;36m<module>\u001b[0;34m\u001b[0m\n\u001b[1;32m      8\u001b[0m \u001b[0;34m\u001b[0m\u001b[0m\n\u001b[1;32m      9\u001b[0m         \u001b[0msurrogate\u001b[0m\u001b[0;34m.\u001b[0m\u001b[0mtrain\u001b[0m\u001b[0;34m(\u001b[0m\u001b[0;34m)\u001b[0m\u001b[0;34m\u001b[0m\u001b[0;34m\u001b[0m\u001b[0m\n\u001b[0;32m---> 10\u001b[0;31m         trainLoss, tensorboard_recorder_step, total_steps = trainEpoch(trainDataLoader, \n\u001b[0m\u001b[1;32m     11\u001b[0m                                                                        \u001b[0mtrain_writer\u001b[0m\u001b[0;34m,\u001b[0m \u001b[0msurrogate\u001b[0m\u001b[0;34m,\u001b[0m\u001b[0;34m\u001b[0m\u001b[0;34m\u001b[0m\u001b[0m\n\u001b[1;32m     12\u001b[0m                                                                        \u001b[0mopt\u001b[0m\u001b[0;34m,\u001b[0m \u001b[0mp_loss\u001b[0m\u001b[0;34m,\u001b[0m \u001b[0mloss\u001b[0m\u001b[0;34m,\u001b[0m\u001b[0;34m\u001b[0m\u001b[0;34m\u001b[0m\u001b[0m\n",
      "\u001b[0;32m<ipython-input-30-14493d80322e>\u001b[0m in \u001b[0;36mtrainEpoch\u001b[0;34m(myDataLoader, tensorboard_writer, model, opt, p_loss, loss, metric, lr_scheduler, tensorboard_rate, device, tensorboard_recorder_step, total_steps)\u001b[0m\n\u001b[1;32m      6\u001b[0m     \u001b[0mtotal_loss\u001b[0m \u001b[0;34m=\u001b[0m \u001b[0;36m0.0\u001b[0m\u001b[0;34m\u001b[0m\u001b[0;34m\u001b[0m\u001b[0m\n\u001b[1;32m      7\u001b[0m     \u001b[0mrunning_ploss\u001b[0m \u001b[0;34m=\u001b[0m \u001b[0;36m0.0\u001b[0m\u001b[0;34m\u001b[0m\u001b[0;34m\u001b[0m\u001b[0m\n\u001b[0;32m----> 8\u001b[0;31m     \u001b[0;32mfor\u001b[0m \u001b[0mi\u001b[0m\u001b[0;34m,\u001b[0m \u001b[0msampleBatch\u001b[0m \u001b[0;32min\u001b[0m \u001b[0menumerate\u001b[0m\u001b[0;34m(\u001b[0m\u001b[0mmyDataLoader\u001b[0m\u001b[0;34m,\u001b[0m \u001b[0mstart\u001b[0m\u001b[0;34m=\u001b[0m\u001b[0;36m1\u001b[0m\u001b[0;34m)\u001b[0m\u001b[0;34m:\u001b[0m\u001b[0;34m\u001b[0m\u001b[0;34m\u001b[0m\u001b[0m\n\u001b[0m\u001b[1;32m      9\u001b[0m \u001b[0;34m\u001b[0m\u001b[0m\n\u001b[1;32m     10\u001b[0m         \u001b[0;31m# --- Main Training ---\u001b[0m\u001b[0;34m\u001b[0m\u001b[0;34m\u001b[0m\u001b[0;34m\u001b[0m\u001b[0m\n",
      "\u001b[0;32m~/anaconda3/lib/python3.8/site-packages/torch/utils/data/dataloader.py\u001b[0m in \u001b[0;36m__next__\u001b[0;34m(self)\u001b[0m\n\u001b[1;32m    361\u001b[0m \u001b[0;34m\u001b[0m\u001b[0m\n\u001b[1;32m    362\u001b[0m     \u001b[0;32mdef\u001b[0m \u001b[0m__next__\u001b[0m\u001b[0;34m(\u001b[0m\u001b[0mself\u001b[0m\u001b[0;34m)\u001b[0m\u001b[0;34m:\u001b[0m\u001b[0;34m\u001b[0m\u001b[0;34m\u001b[0m\u001b[0m\n\u001b[0;32m--> 363\u001b[0;31m         \u001b[0mdata\u001b[0m \u001b[0;34m=\u001b[0m \u001b[0mself\u001b[0m\u001b[0;34m.\u001b[0m\u001b[0m_next_data\u001b[0m\u001b[0;34m(\u001b[0m\u001b[0;34m)\u001b[0m\u001b[0;34m\u001b[0m\u001b[0;34m\u001b[0m\u001b[0m\n\u001b[0m\u001b[1;32m    364\u001b[0m         \u001b[0mself\u001b[0m\u001b[0;34m.\u001b[0m\u001b[0m_num_yielded\u001b[0m \u001b[0;34m+=\u001b[0m \u001b[0;36m1\u001b[0m\u001b[0;34m\u001b[0m\u001b[0;34m\u001b[0m\u001b[0m\n\u001b[1;32m    365\u001b[0m         \u001b[0;32mif\u001b[0m \u001b[0mself\u001b[0m\u001b[0;34m.\u001b[0m\u001b[0m_dataset_kind\u001b[0m \u001b[0;34m==\u001b[0m \u001b[0m_DatasetKind\u001b[0m\u001b[0;34m.\u001b[0m\u001b[0mIterable\u001b[0m \u001b[0;32mand\u001b[0m\u001b[0;31m \u001b[0m\u001b[0;31m\\\u001b[0m\u001b[0;34m\u001b[0m\u001b[0;34m\u001b[0m\u001b[0m\n",
      "\u001b[0;32m~/anaconda3/lib/python3.8/site-packages/torch/utils/data/dataloader.py\u001b[0m in \u001b[0;36m_next_data\u001b[0;34m(self)\u001b[0m\n\u001b[1;32m    961\u001b[0m             \u001b[0;32melse\u001b[0m\u001b[0;34m:\u001b[0m\u001b[0;34m\u001b[0m\u001b[0;34m\u001b[0m\u001b[0m\n\u001b[1;32m    962\u001b[0m                 \u001b[0;31m# no valid `self._rcvd_idx` is found (i.e., didn't break)\u001b[0m\u001b[0;34m\u001b[0m\u001b[0;34m\u001b[0m\u001b[0;34m\u001b[0m\u001b[0m\n\u001b[0;32m--> 963\u001b[0;31m                 \u001b[0mself\u001b[0m\u001b[0;34m.\u001b[0m\u001b[0m_shutdown_workers\u001b[0m\u001b[0;34m(\u001b[0m\u001b[0;34m)\u001b[0m\u001b[0;34m\u001b[0m\u001b[0;34m\u001b[0m\u001b[0m\n\u001b[0m\u001b[1;32m    964\u001b[0m                 \u001b[0;32mraise\u001b[0m \u001b[0mStopIteration\u001b[0m\u001b[0;34m\u001b[0m\u001b[0;34m\u001b[0m\u001b[0m\n\u001b[1;32m    965\u001b[0m \u001b[0;34m\u001b[0m\u001b[0m\n",
      "\u001b[0;32m~/anaconda3/lib/python3.8/site-packages/torch/utils/data/dataloader.py\u001b[0m in \u001b[0;36m_shutdown_workers\u001b[0;34m(self)\u001b[0m\n\u001b[1;32m   1073\u001b[0m                         \u001b[0mself\u001b[0m\u001b[0;34m.\u001b[0m\u001b[0m_shutdown_worker\u001b[0m\u001b[0;34m(\u001b[0m\u001b[0mworker_id\u001b[0m\u001b[0;34m)\u001b[0m\u001b[0;34m\u001b[0m\u001b[0;34m\u001b[0m\u001b[0m\n\u001b[1;32m   1074\u001b[0m                 \u001b[0;32mfor\u001b[0m \u001b[0mw\u001b[0m \u001b[0;32min\u001b[0m \u001b[0mself\u001b[0m\u001b[0;34m.\u001b[0m\u001b[0m_workers\u001b[0m\u001b[0;34m:\u001b[0m\u001b[0;34m\u001b[0m\u001b[0;34m\u001b[0m\u001b[0m\n\u001b[0;32m-> 1075\u001b[0;31m                     \u001b[0mw\u001b[0m\u001b[0;34m.\u001b[0m\u001b[0mjoin\u001b[0m\u001b[0;34m(\u001b[0m\u001b[0mtimeout\u001b[0m\u001b[0;34m=\u001b[0m\u001b[0m_utils\u001b[0m\u001b[0;34m.\u001b[0m\u001b[0mMP_STATUS_CHECK_INTERVAL\u001b[0m\u001b[0;34m)\u001b[0m\u001b[0;34m\u001b[0m\u001b[0;34m\u001b[0m\u001b[0m\n\u001b[0m\u001b[1;32m   1076\u001b[0m                     \u001b[0;32mif\u001b[0m \u001b[0mw\u001b[0m\u001b[0;34m.\u001b[0m\u001b[0mis_alive\u001b[0m\u001b[0;34m(\u001b[0m\u001b[0;34m)\u001b[0m\u001b[0;34m:\u001b[0m\u001b[0;34m\u001b[0m\u001b[0;34m\u001b[0m\u001b[0m\n\u001b[1;32m   1077\u001b[0m                         \u001b[0;31m# Existing mechanisms try to make the workers exit\u001b[0m\u001b[0;34m\u001b[0m\u001b[0;34m\u001b[0m\u001b[0;34m\u001b[0m\u001b[0m\n",
      "\u001b[0;32m~/anaconda3/lib/python3.8/multiprocessing/process.py\u001b[0m in \u001b[0;36mjoin\u001b[0;34m(self, timeout)\u001b[0m\n\u001b[1;32m    147\u001b[0m         \u001b[0;32massert\u001b[0m \u001b[0mself\u001b[0m\u001b[0;34m.\u001b[0m\u001b[0m_parent_pid\u001b[0m \u001b[0;34m==\u001b[0m \u001b[0mos\u001b[0m\u001b[0;34m.\u001b[0m\u001b[0mgetpid\u001b[0m\u001b[0;34m(\u001b[0m\u001b[0;34m)\u001b[0m\u001b[0;34m,\u001b[0m \u001b[0;34m'can only join a child process'\u001b[0m\u001b[0;34m\u001b[0m\u001b[0;34m\u001b[0m\u001b[0m\n\u001b[1;32m    148\u001b[0m         \u001b[0;32massert\u001b[0m \u001b[0mself\u001b[0m\u001b[0;34m.\u001b[0m\u001b[0m_popen\u001b[0m \u001b[0;32mis\u001b[0m \u001b[0;32mnot\u001b[0m \u001b[0;32mNone\u001b[0m\u001b[0;34m,\u001b[0m \u001b[0;34m'can only join a started process'\u001b[0m\u001b[0;34m\u001b[0m\u001b[0;34m\u001b[0m\u001b[0m\n\u001b[0;32m--> 149\u001b[0;31m         \u001b[0mres\u001b[0m \u001b[0;34m=\u001b[0m \u001b[0mself\u001b[0m\u001b[0;34m.\u001b[0m\u001b[0m_popen\u001b[0m\u001b[0;34m.\u001b[0m\u001b[0mwait\u001b[0m\u001b[0;34m(\u001b[0m\u001b[0mtimeout\u001b[0m\u001b[0;34m)\u001b[0m\u001b[0;34m\u001b[0m\u001b[0;34m\u001b[0m\u001b[0m\n\u001b[0m\u001b[1;32m    150\u001b[0m         \u001b[0;32mif\u001b[0m \u001b[0mres\u001b[0m \u001b[0;32mis\u001b[0m \u001b[0;32mnot\u001b[0m \u001b[0;32mNone\u001b[0m\u001b[0;34m:\u001b[0m\u001b[0;34m\u001b[0m\u001b[0;34m\u001b[0m\u001b[0m\n\u001b[1;32m    151\u001b[0m             \u001b[0m_children\u001b[0m\u001b[0;34m.\u001b[0m\u001b[0mdiscard\u001b[0m\u001b[0;34m(\u001b[0m\u001b[0mself\u001b[0m\u001b[0;34m)\u001b[0m\u001b[0;34m\u001b[0m\u001b[0;34m\u001b[0m\u001b[0m\n",
      "\u001b[0;32m~/anaconda3/lib/python3.8/multiprocessing/popen_fork.py\u001b[0m in \u001b[0;36mwait\u001b[0;34m(self, timeout)\u001b[0m\n\u001b[1;32m     42\u001b[0m             \u001b[0;32mif\u001b[0m \u001b[0mtimeout\u001b[0m \u001b[0;32mis\u001b[0m \u001b[0;32mnot\u001b[0m \u001b[0;32mNone\u001b[0m\u001b[0;34m:\u001b[0m\u001b[0;34m\u001b[0m\u001b[0;34m\u001b[0m\u001b[0m\n\u001b[1;32m     43\u001b[0m                 \u001b[0;32mfrom\u001b[0m \u001b[0mmultiprocessing\u001b[0m\u001b[0;34m.\u001b[0m\u001b[0mconnection\u001b[0m \u001b[0;32mimport\u001b[0m \u001b[0mwait\u001b[0m\u001b[0;34m\u001b[0m\u001b[0;34m\u001b[0m\u001b[0m\n\u001b[0;32m---> 44\u001b[0;31m                 \u001b[0;32mif\u001b[0m \u001b[0;32mnot\u001b[0m \u001b[0mwait\u001b[0m\u001b[0;34m(\u001b[0m\u001b[0;34m[\u001b[0m\u001b[0mself\u001b[0m\u001b[0;34m.\u001b[0m\u001b[0msentinel\u001b[0m\u001b[0;34m]\u001b[0m\u001b[0;34m,\u001b[0m \u001b[0mtimeout\u001b[0m\u001b[0;34m)\u001b[0m\u001b[0;34m:\u001b[0m\u001b[0;34m\u001b[0m\u001b[0;34m\u001b[0m\u001b[0m\n\u001b[0m\u001b[1;32m     45\u001b[0m                     \u001b[0;32mreturn\u001b[0m \u001b[0;32mNone\u001b[0m\u001b[0;34m\u001b[0m\u001b[0;34m\u001b[0m\u001b[0m\n\u001b[1;32m     46\u001b[0m             \u001b[0;31m# This shouldn't block if wait() returned successfully.\u001b[0m\u001b[0;34m\u001b[0m\u001b[0;34m\u001b[0m\u001b[0;34m\u001b[0m\u001b[0m\n",
      "\u001b[0;32m~/anaconda3/lib/python3.8/multiprocessing/connection.py\u001b[0m in \u001b[0;36mwait\u001b[0;34m(object_list, timeout)\u001b[0m\n\u001b[1;32m    929\u001b[0m \u001b[0;34m\u001b[0m\u001b[0m\n\u001b[1;32m    930\u001b[0m             \u001b[0;32mwhile\u001b[0m \u001b[0;32mTrue\u001b[0m\u001b[0;34m:\u001b[0m\u001b[0;34m\u001b[0m\u001b[0;34m\u001b[0m\u001b[0m\n\u001b[0;32m--> 931\u001b[0;31m                 \u001b[0mready\u001b[0m \u001b[0;34m=\u001b[0m \u001b[0mselector\u001b[0m\u001b[0;34m.\u001b[0m\u001b[0mselect\u001b[0m\u001b[0;34m(\u001b[0m\u001b[0mtimeout\u001b[0m\u001b[0;34m)\u001b[0m\u001b[0;34m\u001b[0m\u001b[0;34m\u001b[0m\u001b[0m\n\u001b[0m\u001b[1;32m    932\u001b[0m                 \u001b[0;32mif\u001b[0m \u001b[0mready\u001b[0m\u001b[0;34m:\u001b[0m\u001b[0;34m\u001b[0m\u001b[0;34m\u001b[0m\u001b[0m\n\u001b[1;32m    933\u001b[0m                     \u001b[0;32mreturn\u001b[0m \u001b[0;34m[\u001b[0m\u001b[0mkey\u001b[0m\u001b[0;34m.\u001b[0m\u001b[0mfileobj\u001b[0m \u001b[0;32mfor\u001b[0m \u001b[0;34m(\u001b[0m\u001b[0mkey\u001b[0m\u001b[0;34m,\u001b[0m \u001b[0mevents\u001b[0m\u001b[0;34m)\u001b[0m \u001b[0;32min\u001b[0m \u001b[0mready\u001b[0m\u001b[0;34m]\u001b[0m\u001b[0;34m\u001b[0m\u001b[0;34m\u001b[0m\u001b[0m\n",
      "\u001b[0;32m~/anaconda3/lib/python3.8/selectors.py\u001b[0m in \u001b[0;36mselect\u001b[0;34m(self, timeout)\u001b[0m\n\u001b[1;32m    413\u001b[0m         \u001b[0mready\u001b[0m \u001b[0;34m=\u001b[0m \u001b[0;34m[\u001b[0m\u001b[0;34m]\u001b[0m\u001b[0;34m\u001b[0m\u001b[0;34m\u001b[0m\u001b[0m\n\u001b[1;32m    414\u001b[0m         \u001b[0;32mtry\u001b[0m\u001b[0;34m:\u001b[0m\u001b[0;34m\u001b[0m\u001b[0;34m\u001b[0m\u001b[0m\n\u001b[0;32m--> 415\u001b[0;31m             \u001b[0mfd_event_list\u001b[0m \u001b[0;34m=\u001b[0m \u001b[0mself\u001b[0m\u001b[0;34m.\u001b[0m\u001b[0m_selector\u001b[0m\u001b[0;34m.\u001b[0m\u001b[0mpoll\u001b[0m\u001b[0;34m(\u001b[0m\u001b[0mtimeout\u001b[0m\u001b[0;34m)\u001b[0m\u001b[0;34m\u001b[0m\u001b[0;34m\u001b[0m\u001b[0m\n\u001b[0m\u001b[1;32m    416\u001b[0m         \u001b[0;32mexcept\u001b[0m \u001b[0mInterruptedError\u001b[0m\u001b[0;34m:\u001b[0m\u001b[0;34m\u001b[0m\u001b[0;34m\u001b[0m\u001b[0m\n\u001b[1;32m    417\u001b[0m             \u001b[0;32mreturn\u001b[0m \u001b[0mready\u001b[0m\u001b[0;34m\u001b[0m\u001b[0;34m\u001b[0m\u001b[0m\n",
      "\u001b[0;31mKeyboardInterrupt\u001b[0m: "
     ]
    }
   ],
   "source": [
    "writeMessage('---------- Started Training ----------', versionName)\n",
    "bestLoss = np.infty\n",
    "\n",
    "if not eval_only:\n",
    "    for epoch in tqdm(range(1, epochs+1)):  # loop over the dataset multiple times\n",
    "\n",
    "        writeMessage(\"--- Epoch {0}/{1} ---\".format(epoch, epochs), versionName)\n",
    "\n",
    "        surrogate.train()\n",
    "        trainLoss, tensorboard_recorder_step, total_steps = trainEpoch(trainDataLoader, \n",
    "                                                                       train_writer, surrogate,\n",
    "                                                                       opt, p_loss, loss,\n",
    "                                                                       rmse, lr_scheduler, \n",
    "                                                                       tensorboard_rate, device,\n",
    "                                                                       tensorboard_recorder_step, total_steps)\n",
    "\n",
    "        writeMessage(\"trainLoss: {:.4e}\".format(trainLoss),versionName)\n",
    "        writeMessage(\"LR: {:.4e}\".format(opt.param_groups[0]['lr']),versionName)\n",
    "#         if trainLoss < bestLoss:\n",
    "#             bestLoss = trainLoss\n",
    "#             writeMessage(\"Better trainLoss: {:.4e}, Saving models...\".format(bestLoss),versionName)\n",
    "#             torch.save(surrogate.state_dict(), os.path.join(cps,versionName))\n",
    "\n",
    "        surrogate.eval()\n",
    "        valLoss = validEpoch(testDataLoader, test_writer, surrogate, p_loss, loss, rmse, device, tensorboard_recorder_step)\n",
    "        writeMessage(\"valLoss: {:.4e}\".format(valLoss),versionName)\n",
    "\n",
    "        # checkpoint progress\n",
    "        if valLoss < bestLoss:\n",
    "            bestLoss = valLoss\n",
    "            writeMessage(\"Better valLoss: {:.4e}, Saving models...\".format(bestLoss),versionName)\n",
    "            torch.save(surrogate.state_dict(), os.path.join(cps,versionName))\n",
    "\n",
    "        lr_scheduler.step(trainLoss)\n",
    "\n",
    "        if opt.param_groups[0]['lr'] < 5e-8:\n",
    "            break\n",
    "    writeMessage('---------- Finished Training ----------', versionName)"
   ]
  },
  {
   "cell_type": "code",
   "execution_count": null,
   "metadata": {
    "ExecuteTime": {
     "start_time": "2020-11-07T02:34:36.801Z"
    }
   },
   "outputs": [],
   "source": [
    "def relative_error_info(model, data, tensorboard_writer, tensorboard_recorder_step, quiet=False):\n",
    "    U_hats = []\n",
    "    Us = []\n",
    "    for i, sampleBatch in enumerate(data, start=1):\n",
    "        U_x, U_y, p_x, p_y = sampleBatch\n",
    "        U_x = U_x.to(device)\n",
    "        p_x = p_x.to(device)\n",
    "        U_y = U_y.to(device)\n",
    "        p_y = p_y.to(device)\n",
    "        with torch.no_grad():\n",
    "            Us.append(U_y.detach().cpu())\n",
    "            U_hat = model(U_x, p_x, p_y, window=simLen-1)\n",
    "            U_hats.append(U_hat.detach().cpu())\n",
    "            \n",
    "    Real_U = torch.stack(Us)\n",
    "    Surr_U = torch.stack(U_hats)\n",
    "    rel_error = torch.norm(Real_U - Surr_U)/torch.norm(Real_U)\n",
    "    writeMessage(\"Relative_Error: {:.4e}\".format(rel_error),versionName)\n",
    "    if not quiet:\n",
    "        tensorboard_writer.add_scalar(tag=\"Relative_Error\", scalar_value=rel_error,\n",
    "                                  global_step=tensorboard_recorder_step)\n",
    "\n",
    "    \n",
    "    sample_sim = U_hat[0].cpu()\n",
    "    sample_GT = U_y[0].cpu()\n",
    "    fig = plt.figure()\n",
    "    frame_error = torch.norm((sample_GT - sample_sim).view(simLen-1,-1), \n",
    "                                 dim=1)/torch.norm(sample_GT.view(simLen-1,-1), dim=1)\n",
    "    plt.plot(range(1,simLen),frame_error)\n",
    "    plt.title(\"Relative Error over Time for One Test Simulation\")\n",
    "    if not quiet:\n",
    "        tensorboard_writer.add_figure('test_rel_error_by_frame', fig, global_step=tensorboard_recorder_step,\n",
    "                                  close=True, walltime=None)\n",
    "    \n",
    "    return sample_sim, sample_GT, rel_error"
   ]
  },
  {
   "cell_type": "code",
   "execution_count": null,
   "metadata": {
    "ExecuteTime": {
     "start_time": "2020-11-07T02:34:36.804Z"
    }
   },
   "outputs": [],
   "source": [
    "sample_sim, sample_GT, rel_error = relative_error_info(surrogate, trainDataLoader, \n",
    "                                                       None, None, quiet=True)"
   ]
  },
  {
   "cell_type": "code",
   "execution_count": null,
   "metadata": {
    "ExecuteTime": {
     "start_time": "2020-11-07T02:34:36.807Z"
    }
   },
   "outputs": [],
   "source": [
    "import matplotlib.animation as animation\n",
    "import matplotlib.gridspec as gridspec\n",
    "import matplotlib.animation as manimati\n",
    "from matplotlib import animation, rc\n",
    "from IPython.display import Video\n",
    "def create_1_channel_movie(im,outfile='sim.mp4',title='surrogate            simulation'):\n",
    "    ti = 0\n",
    "    u_mx = 255 #np.max(np.abs(Xrgb))\n",
    "    fig = plt.figure()\n",
    "    ax = fig.add_subplot(111)\n",
    "    plt.title(title)\n",
    "    #cmap = plt.cm.ocean\n",
    "    img = ax.imshow(im[0].squeeze(), cmap=plt.cm.viridis, vmin=0, vmax=u_mx)\n",
    "    #plt.show()\n",
    "    \n",
    "    # initialization function: plot the background of each frame\n",
    "    def init():\n",
    "        img = ax.imshow(im[0].squeeze(),  vmin=0, vmax=u_mx)\n",
    "        return (fig,)\n",
    "\n",
    "    # animation function. This is called sequentially\n",
    "    def animate(i):\n",
    "        img = ax.imshow(im[i].squeeze(), vmin=0, vmax=u_mx)\n",
    "        return (fig,)\n",
    "\n",
    "\n",
    "    # call the animator. blit=True means only re-draw the parts that have changed.\n",
    "    anim = animation.FuncAnimation(fig, animate, init_func=init,\n",
    "                                   frames=len(im), interval=100, blit=True)\n",
    "    anim.save(outfile, fps=1, extra_args=['-vcodec', 'libx264'])\n",
    "    \n",
    "def get_img(X):\n",
    "    M = 255\n",
    "    mx = X.max()\n",
    "    mn = X.min()\n",
    "    X = (X - mn)/(mx - mn)\n",
    "    C = (M*X).type(torch.uint8)\n",
    "    return C\n",
    "\n",
    "def make_movie(sample_sim, sample_GT, ID = ''):\n",
    "    # get sample_sim and sample_GT from the relative_error_info function above\n",
    "    Xrgb = torch.cat([get_img(sample_sim), get_img(sample_GT)], dim=3)[:,0].detach().cpu().numpy()\n",
    "    Xrgb.shape\n",
    "    \n",
    "    video_name = versionName + ID\n",
    "    \n",
    "    # to-do: dave says we should flip vertically before making the mp4\n",
    "    outGif = '{}.mp4'.format(video_name)\n",
    "    create_1_channel_movie(Xrgb,outfile=outGif)"
   ]
  },
  {
   "cell_type": "code",
   "execution_count": null,
   "metadata": {
    "ExecuteTime": {
     "start_time": "2020-11-07T02:34:36.812Z"
    }
   },
   "outputs": [],
   "source": [
    "make_movie(sample_sim, sample_GT, ID='_train')\n",
    "Video('{}.mp4'.format(versionName+'_train'))"
   ]
  },
  {
   "cell_type": "code",
   "execution_count": 44,
   "metadata": {
    "ExecuteTime": {
     "end_time": "2020-11-08T19:36:21.591977Z",
     "start_time": "2020-11-08T19:36:21.582986Z"
    }
   },
   "outputs": [
    {
     "data": {
      "text/html": [
       "<video src=\"pnnl_end2end_plateau_train_GPUs1_channel2_gridsize128_latentDim256_Samples2Keep1_train.mp4\" controls  >\n",
       "      Your browser does not support the <code>video</code> element.\n",
       "    </video>"
      ],
      "text/plain": [
       "<IPython.core.display.Video object>"
      ]
     },
     "execution_count": 44,
     "metadata": {},
     "output_type": "execute_result"
    }
   ],
   "source": [
    "\n",
    "Video('{}.mp4'.format(versionName+'_train'))"
   ]
  },
  {
   "cell_type": "code",
   "execution_count": 49,
   "metadata": {
    "ExecuteTime": {
     "end_time": "2020-11-08T19:45:02.655812Z",
     "start_time": "2020-11-08T19:45:02.551787Z"
    }
   },
   "outputs": [
    {
     "data": {
      "text/plain": [
       "<All keys matched successfully>"
      ]
     },
     "execution_count": 49,
     "metadata": {},
     "output_type": "execute_result"
    }
   ],
   "source": [
    "surrogate.load_state_dict(torch.load(os.path.join(cps,versionName)))"
   ]
  },
  {
   "cell_type": "code",
   "execution_count": 52,
   "metadata": {
    "ExecuteTime": {
     "end_time": "2020-11-08T19:46:03.724477Z",
     "start_time": "2020-11-08T19:46:03.526343Z"
    }
   },
   "outputs": [
    {
     "data": {
      "text/plain": [
       "(torch.Size([3, 1, 128, 128]),\n",
       " torch.Size([3, 5, 1, 128, 128]),\n",
       " torch.Size([3, 2]),\n",
       " torch.Size([3, 5, 2]),\n",
       " 2)"
      ]
     },
     "execution_count": 52,
     "metadata": {},
     "output_type": "execute_result"
    }
   ],
   "source": [
    "X,Y, p_x, p_y = next(iter(testDataLoader))\n",
    "X.shape,Y.shape, p_x.shape, p_y.shape, len(testDataLoader)"
   ]
  },
  {
   "cell_type": "code",
   "execution_count": 53,
   "metadata": {
    "ExecuteTime": {
     "end_time": "2020-11-08T19:46:04.082606Z",
     "start_time": "2020-11-08T19:46:03.762340Z"
    }
   },
   "outputs": [],
   "source": [
    "surrogate.eval()\n",
    "U_hats = []\n",
    "Us = []\n",
    "for i, sampleBatch in enumerate(testDataLoader, start=1):\n",
    "\n",
    "    # gpu\n",
    "    U_x, U_y, p_x, p_y = sampleBatch\n",
    "    U_x = U_x.to(device)\n",
    "    p_x = p_x.to(device)\n",
    "    U_y = U_y.to(device)\n",
    "    p_y = p_y.to(device)\n",
    "    with torch.no_grad():\n",
    "        Us.append(U_y.detach().cpu())\n",
    "        \n",
    "        U_hat = surrogate(U_x, p_x, p_y, window=simLen-1)\n",
    "                    \n",
    "        U_hats.append(U_hat.detach().cpu())\n",
    "        \n",
    "        \n",
    "Real_U = torch.stack(Us)\n",
    "#Real_X_img = convertSimToImage(Real_X)\n",
    "\n",
    "Surr_U = torch.stack(U_hats)\n",
    "#Surr_X_img = convertSimToImage(Surr_X)"
   ]
  },
  {
   "cell_type": "code",
   "execution_count": 54,
   "metadata": {
    "ExecuteTime": {
     "end_time": "2020-11-08T19:46:06.131109Z",
     "start_time": "2020-11-08T19:46:06.114682Z"
    }
   },
   "outputs": [
    {
     "name": "stdout",
     "output_type": "stream",
     "text": [
      "Relative_Error: 9.9929e-03\n",
      "Relative_Error: 9.9929e-03\n"
     ]
    }
   ],
   "source": [
    "for a,b in zip(Us,U_hats):\n",
    "    rel_error = torch.norm(a - b)/torch.norm(a)\n",
    "    writeMessage(\"Relative_Error: {:.4e}\".format(rel_error),versionName)"
   ]
  },
  {
   "cell_type": "code",
   "execution_count": 55,
   "metadata": {
    "ExecuteTime": {
     "end_time": "2020-11-08T19:46:07.833227Z",
     "start_time": "2020-11-08T19:46:07.816139Z"
    }
   },
   "outputs": [
    {
     "name": "stdout",
     "output_type": "stream",
     "text": [
      "Relative_Error: 9.9926e-03\n"
     ]
    }
   ],
   "source": [
    "rel_error = torch.norm(Real_U - Surr_U)/torch.norm(Real_U)\n",
    "writeMessage(\"Relative_Error: {:.4e}\".format(rel_error),versionName)\n",
    "test_writer.add_scalar(tag=\"Relative_Error\", scalar_value=rel_error, global_step=tensorboard_recorder_step)\n",
    "test_writer.flush()"
   ]
  }
 ],
 "metadata": {
  "kernelspec": {
   "display_name": "Python 3",
   "language": "python",
   "name": "python3"
  },
  "language_info": {
   "codemirror_mode": {
    "name": "ipython",
    "version": 3
   },
   "file_extension": ".py",
   "mimetype": "text/x-python",
   "name": "python",
   "nbconvert_exporter": "python",
   "pygments_lexer": "ipython3",
   "version": "3.8.3"
  }
 },
 "nbformat": 4,
 "nbformat_minor": 4
}
