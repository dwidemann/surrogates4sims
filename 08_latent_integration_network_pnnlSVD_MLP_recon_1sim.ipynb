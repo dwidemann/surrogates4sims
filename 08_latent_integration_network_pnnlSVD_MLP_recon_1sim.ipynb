{
 "cells": [
  {
   "cell_type": "markdown",
   "metadata": {},
   "source": [
    "## Latent Integration Network (LIN)\n",
    "This notebook gives an example of how to train a LIN on SVD vectors. Note: 05_experiment_SVD.ipynb created and saved the SVD Decomposition. "
   ]
  },
  {
   "cell_type": "markdown",
   "metadata": {},
   "source": [
    "## Imports"
   ]
  },
  {
   "cell_type": "code",
   "execution_count": 1,
   "metadata": {
    "ExecuteTime": {
     "end_time": "2021-01-25T05:48:12.779046Z",
     "start_time": "2021-01-25T05:48:11.046067Z"
    }
   },
   "outputs": [],
   "source": [
    "# EXPORT\n",
    "# --- Must haves ---\n",
    "import os, sys\n",
    "sys.path.append('..')\n",
    "\n",
    "import torch\n",
    "from torch.utils.data import Dataset, DataLoader\n",
    "from torch.utils.tensorboard import SummaryWriter\n",
    "import torch.cuda as cuda\n",
    "import torch.nn as nn\n",
    "import torchvision\n",
    "import torch.nn.functional as F\n",
    "\n",
    "from surrogates4sims.pnnlDatasets import CCSI_2D\n",
    "\n",
    "from surrogates4sims.utils import create_opt, create_one_cycle, find_lr, printNumModelParams, \\\n",
    "                                    rmse, writeMessage, plotSampleWprediction, plotSampleWpredictionByChannel, \\\n",
    "                                    plotSample, curl, jacobian, stream2uv, convertSimToImage, pkl_save, pkl_load, \\\n",
    "                                    create_1_channel_movie\n",
    "\n",
    "from surrogates4sims.models import Generator, Encoder, ConvDeconvFactor2\n",
    "\n",
    "from surrogates4sims.train import trainEpoch, validEpoch\n",
    "\n",
    "import numpy as np\n",
    "from tqdm import tqdm\n",
    "from copy import deepcopy\n",
    "import matplotlib.pyplot as plt\n",
    "from glob import glob"
   ]
  },
  {
   "cell_type": "code",
   "execution_count": 2,
   "metadata": {
    "ExecuteTime": {
     "end_time": "2021-01-25T05:48:12.906110Z",
     "start_time": "2021-01-25T05:48:12.780729Z"
    }
   },
   "outputs": [
    {
     "name": "stdout",
     "output_type": "stream",
     "text": [
      "gridsize_128  gridsize_512  svd_channel1_gridsize128.pkl\r\n"
     ]
    }
   ],
   "source": [
    "!ls /work/pnnl_liquid_inlet/channel_1"
   ]
  },
  {
   "cell_type": "markdown",
   "metadata": {},
   "source": [
    "## Settings"
   ]
  },
  {
   "cell_type": "code",
   "execution_count": 3,
   "metadata": {
    "ExecuteTime": {
     "end_time": "2021-01-25T05:48:12.925043Z",
     "start_time": "2021-01-25T05:48:12.909009Z"
    }
   },
   "outputs": [
    {
     "data": {
      "text/plain": [
       "'LIN_SVD_PNNL_MLP_GPUs3_w499_latentDim64_hd128_128_bz1_epochs1000_memory1_WD0_reconLossFalse'"
      ]
     },
     "execution_count": 3,
     "metadata": {},
     "output_type": "execute_result"
    }
   ],
   "source": [
    "DEBUG = False\n",
    "# model name, for tensorboard recording and checkpointing purposes.\n",
    "versionName = \"LIN_SVD_PNNL_MLP\"\n",
    "\n",
    "# GPU Numbers to use. Comma seprate them for multi-GPUs.\n",
    "gpu_ids = \"3\"#,1,2,3\"\n",
    "versionName = versionName + '_GPUs{}'.format(gpu_ids.replace(',',''))\n",
    "# path to load model weights.\n",
    "pretrained_path = None\n",
    "\n",
    "# rate at which to record metrics. (number of batches to average over when recording metrics, e.g. \"every 5 batches\")\n",
    "tensorboard_rate = 5\n",
    "\n",
    "# number of epochs to train. This is defined here so we can use the OneCycle LR Scheduler.\n",
    "epochs = 1000\n",
    "\n",
    "# Data Directory\n",
    "channel = 2\n",
    "gridsize = 128\n",
    "dataDirec = '/work/pnnl_liquid_inlet/channel_{}/gridsize_{}'.format(channel,gridsize)\n",
    "build_vecs = True \n",
    "SVDFn = '/work/pnnl_liquid_inlet/channel_2/svd_channel2_gridsize128.pkl'\n",
    "preprocess = False\n",
    "AE = True\n",
    "\n",
    "# checkpoint directory\n",
    "cps = 'cps'\n",
    "tensorboard_direc = \"tb\"\n",
    "\n",
    "findLRs = True  \n",
    "patience = 1\n",
    "\n",
    "# hyper-params\n",
    "seed = 1234\n",
    "np.random.seed(seed)\n",
    "testSplit = .2\n",
    "bz = 1\n",
    "numSamplesToKeep = np.infty #if not debugging\n",
    "latentDim = 64\n",
    "simLen = 500\n",
    "\n",
    "w = 499\n",
    "memory_length = 1\n",
    "weight_decay = 0\n",
    "hiddenLayers =  [128, 128]\n",
    "hd ='_'.join(map(str,hiddenLayers))\n",
    "activation = nn.ELU()\n",
    "reconLoss = False\n",
    "\n",
    "if DEBUG:\n",
    "    epochs = 2\n",
    "    numSamplesToKeep = 200\n",
    "    createDebugData = True\n",
    "    \n",
    "\n",
    "versionName = versionName + '_w{}_latentDim{}_hd{}_bz{}_epochs{}_memory{}_WD{}_reconLoss{}'.format(w,latentDim,hd,bz,epochs,\n",
    "                                                             memory_length,weight_decay,reconLoss)\n",
    "versionName"
   ]
  },
  {
   "cell_type": "markdown",
   "metadata": {},
   "source": [
    "## Select Personal GPUs"
   ]
  },
  {
   "cell_type": "code",
   "execution_count": 4,
   "metadata": {
    "ExecuteTime": {
     "end_time": "2021-01-25T05:48:13.117531Z",
     "start_time": "2021-01-25T05:48:12.926905Z"
    }
   },
   "outputs": [
    {
     "name": "stdout",
     "output_type": "stream",
     "text": [
      "Sun Jan 24 21:48:12 2021       \n",
      "+-----------------------------------------------------------------------------+\n",
      "| NVIDIA-SMI 440.33.01    Driver Version: 440.33.01    CUDA Version: 10.2     |\n",
      "|-------------------------------+----------------------+----------------------+\n",
      "| GPU  Name        Persistence-M| Bus-Id        Disp.A | Volatile Uncorr. ECC |\n",
      "| Fan  Temp  Perf  Pwr:Usage/Cap|         Memory-Usage | GPU-Util  Compute M. |\n",
      "|===============================+======================+======================|\n",
      "|   0  TITAN Xp            On   | 00000000:02:00.0 Off |                  N/A |\n",
      "| 23%   17C    P8     8W / 250W |     12MiB / 12196MiB |      0%      Default |\n",
      "+-------------------------------+----------------------+----------------------+\n",
      "|   1  TITAN Xp            On   | 00000000:03:00.0 Off |                  N/A |\n",
      "| 23%   17C    P8     8W / 250W |     12MiB / 12196MiB |      0%      Default |\n",
      "+-------------------------------+----------------------+----------------------+\n",
      "|   2  TITAN Xp            On   | 00000000:81:00.0 Off |                  N/A |\n",
      "| 23%   19C    P8     8W / 250W |   8759MiB / 12196MiB |      0%      Default |\n",
      "+-------------------------------+----------------------+----------------------+\n",
      "|   3  TITAN Xp            On   | 00000000:82:00.0 Off |                  N/A |\n",
      "| 23%   37C    P2    61W / 250W |   1267MiB / 12196MiB |      0%      Default |\n",
      "+-------------------------------+----------------------+----------------------+\n",
      "                                                                               \n",
      "+-----------------------------------------------------------------------------+\n",
      "| Processes:                                                       GPU Memory |\n",
      "|  GPU       PID   Type   Process name                             Usage      |\n",
      "|=============================================================================|\n",
      "|    2      5231      C   /home/bartoldson1/anaconda3/bin/python      6775MiB |\n",
      "|    2     11605      C   /home/bartoldson1/anaconda3/bin/python       685MiB |\n",
      "|    2     26541      C   /home/bartoldson1/anaconda3/bin/python      1287MiB |\n",
      "|    3      5231      C   /home/bartoldson1/anaconda3/bin/python      1255MiB |\n",
      "+-----------------------------------------------------------------------------+\n"
     ]
    }
   ],
   "source": [
    "!nvidia-smi"
   ]
  },
  {
   "cell_type": "code",
   "execution_count": 5,
   "metadata": {
    "ExecuteTime": {
     "end_time": "2021-01-25T05:48:13.123712Z",
     "start_time": "2021-01-25T05:48:13.119820Z"
    }
   },
   "outputs": [],
   "source": [
    "os.environ[\"CUDA_DEVICE_ORDER\"]=\"PCI_BUS_ID\"   # see issue #152\n",
    "os.environ[\"CUDA_VISIBLE_DEVICES\"]=gpu_ids"
   ]
  },
  {
   "cell_type": "code",
   "execution_count": 6,
   "metadata": {
    "ExecuteTime": {
     "end_time": "2021-01-25T05:48:13.154812Z",
     "start_time": "2021-01-25T05:48:13.126648Z"
    }
   },
   "outputs": [
    {
     "name": "stdout",
     "output_type": "stream",
     "text": [
      "Using device: cuda\n"
     ]
    }
   ],
   "source": [
    "device = torch.device('cuda' if torch.cuda.is_available() else 'cpu')\n",
    "print('Using device:', device)"
   ]
  },
  {
   "cell_type": "code",
   "execution_count": 7,
   "metadata": {
    "ExecuteTime": {
     "end_time": "2021-01-25T05:48:13.167584Z",
     "start_time": "2021-01-25T05:48:13.159554Z"
    }
   },
   "outputs": [
    {
     "name": "stdout",
     "output_type": "stream",
     "text": [
      "True\n",
      "1\n",
      "0\n",
      "TITAN Xp\n"
     ]
    }
   ],
   "source": [
    "if device.type == 'cuda':\n",
    "    print(cuda.is_available())\n",
    "    print(cuda.device_count())\n",
    "    print(cuda.current_device())\n",
    "    print(cuda.get_device_name())"
   ]
  },
  {
   "cell_type": "code",
   "execution_count": 8,
   "metadata": {
    "ExecuteTime": {
     "end_time": "2021-01-25T05:48:15.283769Z",
     "start_time": "2021-01-25T05:48:13.170343Z"
    }
   },
   "outputs": [
    {
     "name": "stdout",
     "output_type": "stream",
     "text": [
      "Sun Jan 24 21:48:15 2021       \n",
      "+-----------------------------------------------------------------------------+\n",
      "| NVIDIA-SMI 440.33.01    Driver Version: 440.33.01    CUDA Version: 10.2     |\n",
      "|-------------------------------+----------------------+----------------------+\n",
      "| GPU  Name        Persistence-M| Bus-Id        Disp.A | Volatile Uncorr. ECC |\n",
      "| Fan  Temp  Perf  Pwr:Usage/Cap|         Memory-Usage | GPU-Util  Compute M. |\n",
      "|===============================+======================+======================|\n",
      "|   0  TITAN Xp            On   | 00000000:02:00.0 Off |                  N/A |\n",
      "| 23%   18C    P8    11W / 250W |     12MiB / 12196MiB |      0%      Default |\n",
      "+-------------------------------+----------------------+----------------------+\n",
      "|   1  TITAN Xp            On   | 00000000:03:00.0 Off |                  N/A |\n",
      "| 23%   17C    P8     9W / 250W |     12MiB / 12196MiB |      0%      Default |\n",
      "+-------------------------------+----------------------+----------------------+\n",
      "|   2  TITAN Xp            On   | 00000000:81:00.0 Off |                  N/A |\n",
      "| 23%   19C    P8     9W / 250W |   8759MiB / 12196MiB |      0%      Default |\n",
      "+-------------------------------+----------------------+----------------------+\n",
      "|   3  TITAN Xp            On   | 00000000:82:00.0 Off |                  N/A |\n",
      "| 23%   36C    P2    61W / 250W |   1828MiB / 12196MiB |      2%      Default |\n",
      "+-------------------------------+----------------------+----------------------+\n",
      "                                                                               \n",
      "+-----------------------------------------------------------------------------+\n",
      "| Processes:                                                       GPU Memory |\n",
      "|  GPU       PID   Type   Process name                             Usage      |\n",
      "|=============================================================================|\n",
      "|    2      5231      C   /home/bartoldson1/anaconda3/bin/python      6775MiB |\n",
      "|    2     11605      C   /home/bartoldson1/anaconda3/bin/python       685MiB |\n",
      "|    2     26541      C   /home/bartoldson1/anaconda3/bin/python      1287MiB |\n",
      "|    3      5231      C   /home/bartoldson1/anaconda3/bin/python      1255MiB |\n",
      "|    3     28080      C   /home/bartoldson1/anaconda3/bin/python       561MiB |\n",
      "+-----------------------------------------------------------------------------+\n"
     ]
    }
   ],
   "source": [
    "a = torch.zeros(5, device=device.type)\n",
    "!nvidia-smi"
   ]
  },
  {
   "cell_type": "markdown",
   "metadata": {},
   "source": [
    "## Build Latent Vectors (Warning....)\n",
    "The computation of building the latent vectors takes a loooong time. \n",
    "This codes checks to see if svd_vec_file has been saved. If it has, \n",
    "it will reload them. "
   ]
  },
  {
   "cell_type": "code",
   "execution_count": 9,
   "metadata": {
    "ExecuteTime": {
     "end_time": "2021-01-25T05:48:15.305806Z",
     "start_time": "2021-01-25T05:48:15.287115Z"
    }
   },
   "outputs": [
    {
     "data": {
      "text/plain": [
       "(10, 40)"
      ]
     },
     "execution_count": 9,
     "metadata": {},
     "output_type": "execute_result"
    }
   ],
   "source": [
    "sims = glob(os.path.join(dataDirec,'*.pkl'))\n",
    "sims = sorted(sims)\n",
    "numSims = len(sims)\n",
    "idx = int(testSplit*numSims)\n",
    "testInds = np.linspace(1,numSims-2,idx).astype('int')\n",
    "trainInds = list(set(np.arange(0,numSims)).difference(set(testInds)))\n",
    "# perm = np.random.permutation(numSims)\n",
    "# testInds = perm[:idx]\n",
    "# trainInds = perm[idx:]\n",
    "testSimFiles = [sims[idx] for idx in testInds]\n",
    "trainSimFiles = [sims[idx] for idx in trainInds]\n",
    "len(testSimFiles), len(trainSimFiles)"
   ]
  },
  {
   "cell_type": "code",
   "execution_count": 10,
   "metadata": {
    "ExecuteTime": {
     "end_time": "2021-01-25T05:48:15.312362Z",
     "start_time": "2021-01-25T05:48:15.309054Z"
    }
   },
   "outputs": [],
   "source": [
    "trainSimFiles=[trainSimFiles[0]]\n",
    "testSimFiles=trainSimFiles"
   ]
  },
  {
   "cell_type": "code",
   "execution_count": 11,
   "metadata": {
    "ExecuteTime": {
     "end_time": "2021-01-25T05:48:15.337213Z",
     "start_time": "2021-01-25T05:48:15.314720Z"
    }
   },
   "outputs": [],
   "source": [
    "class CCSI_2D_one_of_each_getitem(Dataset):\n",
    "    def __init__(self, \n",
    "                 dataFiles,\n",
    "                 txtFile = '/data/ccsi/pnnl_liquid_inlet/liquid_inlet_velocity.txt',\n",
    "                 channel=1,\n",
    "                 gridSize=128,\n",
    "                 simLen = 500,\n",
    "                 w = 10, # this is the length of the Y output to predict\n",
    "                 AE = False, # this only return x,x, i.e. no y.\n",
    "                 numToKeep=np.infty,doPreprocess=False): \n",
    "        \n",
    "        self.dataFiles = dataFiles\n",
    "        if numToKeep < len(self.dataFiles):\n",
    "            self.dataFiles = self.dataFiles[:numToKeep]\n",
    "\n",
    "        self.channel = channel\n",
    "        self.gridSize = gridSize\n",
    "        self.numToKeep = numToKeep\n",
    "        self.simLen = simLen\n",
    "        self.t = np.linspace(0,1,simLen).astype('float32')\n",
    "        self.w = w\n",
    "        self.AE = AE\n",
    "        self.doPreprocess = doPreprocess\n",
    "        \n",
    "        # Get the inlet velocity\n",
    "        with open(txtFile) as fid:\n",
    "            txt = fid.read().splitlines()\n",
    "        inletVelocity = np.array(list(map(float,txt[1:]))).astype('float32')\n",
    "        self.inletMx = np.max(inletVelocity)\n",
    "        self.inletMn = np.min(inletVelocity)\n",
    "        \n",
    "        data = []\n",
    "        for fn in self.dataFiles:\n",
    "            idx = int(fn.split('/')[-1].replace('.pkl','')) - 1\n",
    "            D = pkl_load(fn)\n",
    "            data.append((D,inletVelocity[idx]))\n",
    "               \n",
    "        self.data = data\n",
    "    \n",
    "    def __len__(self):\n",
    "        return len(self.simLen*self.data)\n",
    "\n",
    "\n",
    "    def __getitem__(self, idx):\n",
    "        q,r = np.divmod(idx,self.simLen)\n",
    "        r_idx = r\n",
    "            \n",
    "        X,p = self.data[q]\n",
    "        x = X[r_idx:r_idx+1]\n",
    "        #print(x.shape)\n",
    "        y = X[r_idx+1:r_idx+self.w+1]\n",
    "        #print(y.shape)\n",
    "        if self.doPreprocess:\n",
    "            x = self.preprocessFcn(x)\n",
    "            y = self.preprocessFcn(y)\n",
    "        \n",
    "        y = np.expand_dims(y,1)\n",
    "        p_x = np.hstack([p,self.t[r_idx]])\n",
    "        p_y = np.vstack([p*np.ones((self.w,)),self.t[r_idx+1:r_idx+self.w+1]]).T\n",
    "        X = x.astype('float32')\n",
    "        Y = y.astype('float32')\n",
    "        if self.AE:\n",
    "            return X,X # this allows LR_finder to work\n",
    "        else:\n",
    "            return X, Y, p_x, p_y"
   ]
  },
  {
   "cell_type": "code",
   "execution_count": 12,
   "metadata": {
    "ExecuteTime": {
     "end_time": "2021-01-25T05:48:15.395385Z",
     "start_time": "2021-01-25T05:48:15.339369Z"
    }
   },
   "outputs": [
    {
     "data": {
      "text/plain": [
       "(500, 500)"
      ]
     },
     "execution_count": 12,
     "metadata": {},
     "output_type": "execute_result"
    }
   ],
   "source": [
    "testDataset = CCSI_2D_one_of_each_getitem(testSimFiles,doPreprocess=preprocess,\n",
    "                                          numToKeep=numSamplesToKeep,channel=channel,w=0,AE=False)\n",
    "trainDataset = CCSI_2D_one_of_each_getitem(trainSimFiles,doPreprocess=preprocess,\n",
    "                                           numToKeep=numSamplesToKeep,channel=channel,w=0,AE=False)\n",
    "len(trainDataset),len(testDataset)"
   ]
  },
  {
   "cell_type": "code",
   "execution_count": 13,
   "metadata": {
    "ExecuteTime": {
     "end_time": "2021-01-25T05:48:15.402040Z",
     "start_time": "2021-01-25T05:48:15.397183Z"
    }
   },
   "outputs": [
    {
     "data": {
      "text/plain": [
       "[0.002]"
      ]
     },
     "execution_count": 13,
     "metadata": {},
     "output_type": "execute_result"
    }
   ],
   "source": [
    "# is this inlet velocity supposed to be monotonic?\n",
    "[i for x,i in trainDataset.data]"
   ]
  },
  {
   "cell_type": "code",
   "execution_count": 14,
   "metadata": {
    "ExecuteTime": {
     "end_time": "2021-01-25T05:48:16.198990Z",
     "start_time": "2021-01-25T05:48:15.404773Z"
    }
   },
   "outputs": [
    {
     "name": "stdout",
     "output_type": "stream",
     "text": [
      "dict_keys(['spatialVecs', 'S', 'timeVecs_transpose'])\n",
      "(16384, 64)\n"
     ]
    }
   ],
   "source": [
    "svd_data = pkl_load(SVDFn)\n",
    "print(svd_data.keys())\n",
    "\n",
    "svd_vecs = svd_data['spatialVecs'][:,:latentDim]\n",
    "print(svd_vecs.shape)"
   ]
  },
  {
   "cell_type": "code",
   "execution_count": 15,
   "metadata": {
    "ExecuteTime": {
     "end_time": "2021-01-25T05:48:16.218519Z",
     "start_time": "2021-01-25T05:48:16.201089Z"
    }
   },
   "outputs": [],
   "source": [
    "class SVD_Encoder(nn.Module):\n",
    "    def __init__(self, U):\n",
    "        super(SVD_Encoder,self).__init__()\n",
    "        self.U = U\n",
    "\n",
    "    def forward(self, frames):\n",
    "        # u is from u,s,vh = svd(data)\n",
    "        # frames = batch_size x channels x height x width\n",
    "        assert len(frames.shape)==4\n",
    "        x = frames.reshape(len(frames), -1)\n",
    "        coeffs = x.matmul(self.U)\n",
    "        # coeffs is now batch_size x numComp\n",
    "        return coeffs    \n",
    "    \n",
    "class SVD_Decoder(nn.Module):\n",
    "    def __init__(self, U):\n",
    "        super(SVD_Decoder,self).__init__()\n",
    "        self.U = U\n",
    "\n",
    "    def forward(self, coeffs, orig_shape):\n",
    "        # coeffs is now batch_size x numComp\n",
    "        R = self.U.matmul(coeffs.T)\n",
    "        R = R.T.reshape(orig_shape)\n",
    "        return R\n",
    "    \n",
    "class SVD_Autoencoder(nn.Module):\n",
    "\n",
    "    def __init__(self, svd_vectors, latentDim, allow_updates_to_U):\n",
    "        super(SVD_Autoencoder,self).__init__()\n",
    "        self.U = nn.Parameter(torch.tensor(svd_vectors[:,:latentDim]), requires_grad = allow_updates_to_U)\n",
    "        self.encoder=SVD_Encoder(self.U)\n",
    "        self.decoder=SVD_Decoder(self.U)\n",
    "        \n",
    "    def forward(self, frames):\n",
    "        return self.decoder(self.encoder(frames))\n",
    "\n",
    "SVD_autoencoder = SVD_Autoencoder(svd_vecs, latentDim, False).to(device)"
   ]
  },
  {
   "cell_type": "code",
   "execution_count": 16,
   "metadata": {
    "ExecuteTime": {
     "end_time": "2021-01-25T05:48:18.447108Z",
     "start_time": "2021-01-25T05:48:16.220381Z"
    }
   },
   "outputs": [
    {
     "name": "stdout",
     "output_type": "stream",
     "text": [
      "torch.Size([500, 1, 128, 128]) torch.Size([500, 0, 1, 128, 128]) torch.Size([500, 2]) torch.Size([500, 0, 2])\n",
      "num_sims 1\n",
      "torch.Size([500, 1, 128, 128]) torch.Size([500, 0, 1, 128, 128]) torch.Size([500, 2]) torch.Size([500, 0, 2])\n",
      "num_sims 1\n"
     ]
    }
   ],
   "source": [
    "def createSVDdataset(Dataset, latentDim):\n",
    "\n",
    "    # datasets may be smaller because: numSamplesToKeep \n",
    "    # Be careful the default is for the data to be preprocessed. Therefore, we have to invPrecprocess if \n",
    "    # we are looking at relative errors. \n",
    "    loader = DataLoader(dataset=Dataset, batch_size=simLen, shuffle=False, num_workers=4)\n",
    "    X, Y, p_x, p_y = next(iter(loader))\n",
    "    print(X.shape, Y.shape, p_x.shape, p_y.shape)\n",
    "    z = []\n",
    "    p = []\n",
    "    x = []\n",
    "    for batch in loader:\n",
    "        X, Y, p_x, p_y = batch\n",
    "        x.append(X)\n",
    "        z.append(SVD_autoencoder.encoder(X.to(device)).cpu())\n",
    "        p.append(p_x.cpu())\n",
    "        \n",
    "    z = torch.stack(z).reshape(-1, latentDim)\n",
    "    p = torch.stack(p).reshape(-1, p_x.size(1))\n",
    "    \n",
    "\n",
    "    v = np.arange(0, len(z), simLen)\n",
    "\n",
    "    sims = []\n",
    "    for idx in v:\n",
    "        sims.append((z[idx:idx+simLen],p[idx:idx+simLen]))\n",
    "    print('num_sims {}'.format(len(sims)))\n",
    "    return sims\n",
    "\n",
    "train_data = createSVDdataset(trainDataset, latentDim)\n",
    "test_data = createSVDdataset(testDataset, latentDim)"
   ]
  },
  {
   "cell_type": "code",
   "execution_count": 17,
   "metadata": {
    "ExecuteTime": {
     "end_time": "2021-01-25T05:48:18.456637Z",
     "start_time": "2021-01-25T05:48:18.449834Z"
    }
   },
   "outputs": [
    {
     "data": {
      "text/plain": [
       "(torch.Size([500, 64]), torch.Size([500, 2]))"
      ]
     },
     "execution_count": 17,
     "metadata": {},
     "output_type": "execute_result"
    }
   ],
   "source": [
    "train_data[0][0].shape, train_data[0][1].shape"
   ]
  },
  {
   "cell_type": "code",
   "execution_count": 18,
   "metadata": {
    "ExecuteTime": {
     "end_time": "2021-01-25T05:48:18.464997Z",
     "start_time": "2021-01-25T05:48:18.459263Z"
    }
   },
   "outputs": [],
   "source": [
    "# reduce the dimensions of z down to the latentDim \n",
    "for idx,d in enumerate(train_data):\n",
    "    X = d[0][:,:latentDim]\n",
    "    p = d[1]\n",
    "    train_data[idx] = (X,p)\n",
    "    \n",
    "for idx,d in enumerate(test_data):\n",
    "    X = d[0][:,:latentDim]\n",
    "    p = d[1]\n",
    "    test_data[idx] = (X,p)"
   ]
  },
  {
   "cell_type": "code",
   "execution_count": 19,
   "metadata": {
    "ExecuteTime": {
     "end_time": "2021-01-25T05:48:18.499541Z",
     "start_time": "2021-01-25T05:48:18.467694Z"
    }
   },
   "outputs": [
    {
     "name": "stdout",
     "output_type": "stream",
     "text": [
      "tensor([[0.0020, 0.0000],\n",
      "        [0.0020, 0.0020],\n",
      "        [0.0020, 0.0040],\n",
      "        [0.0020, 0.0060],\n",
      "        [0.0020, 0.0080],\n",
      "        [0.0020, 0.0100],\n",
      "        [0.0020, 0.0120],\n",
      "        [0.0020, 0.0140],\n",
      "        [0.0020, 0.0160],\n",
      "        [0.0020, 0.0180],\n",
      "        [0.0020, 0.0200],\n",
      "        [0.0020, 0.0220],\n",
      "        [0.0020, 0.0240],\n",
      "        [0.0020, 0.0261],\n",
      "        [0.0020, 0.0281],\n",
      "        [0.0020, 0.0301],\n",
      "        [0.0020, 0.0321],\n",
      "        [0.0020, 0.0341],\n",
      "        [0.0020, 0.0361],\n",
      "        [0.0020, 0.0381],\n",
      "        [0.0020, 0.0401],\n",
      "        [0.0020, 0.0421],\n",
      "        [0.0020, 0.0441],\n",
      "        [0.0020, 0.0461],\n",
      "        [0.0020, 0.0481],\n",
      "        [0.0020, 0.0501],\n",
      "        [0.0020, 0.0521],\n",
      "        [0.0020, 0.0541],\n",
      "        [0.0020, 0.0561],\n",
      "        [0.0020, 0.0581],\n",
      "        [0.0020, 0.0601],\n",
      "        [0.0020, 0.0621],\n",
      "        [0.0020, 0.0641],\n",
      "        [0.0020, 0.0661],\n",
      "        [0.0020, 0.0681],\n",
      "        [0.0020, 0.0701],\n",
      "        [0.0020, 0.0721],\n",
      "        [0.0020, 0.0741],\n",
      "        [0.0020, 0.0762],\n",
      "        [0.0020, 0.0782],\n",
      "        [0.0020, 0.0802],\n",
      "        [0.0020, 0.0822],\n",
      "        [0.0020, 0.0842],\n",
      "        [0.0020, 0.0862],\n",
      "        [0.0020, 0.0882],\n",
      "        [0.0020, 0.0902],\n",
      "        [0.0020, 0.0922],\n",
      "        [0.0020, 0.0942],\n",
      "        [0.0020, 0.0962],\n",
      "        [0.0020, 0.0982],\n",
      "        [0.0020, 0.1002],\n",
      "        [0.0020, 0.1022],\n",
      "        [0.0020, 0.1042],\n",
      "        [0.0020, 0.1062],\n",
      "        [0.0020, 0.1082],\n",
      "        [0.0020, 0.1102],\n",
      "        [0.0020, 0.1122],\n",
      "        [0.0020, 0.1142],\n",
      "        [0.0020, 0.1162],\n",
      "        [0.0020, 0.1182],\n",
      "        [0.0020, 0.1202],\n",
      "        [0.0020, 0.1222],\n",
      "        [0.0020, 0.1242],\n",
      "        [0.0020, 0.1263],\n",
      "        [0.0020, 0.1283],\n",
      "        [0.0020, 0.1303],\n",
      "        [0.0020, 0.1323],\n",
      "        [0.0020, 0.1343],\n",
      "        [0.0020, 0.1363],\n",
      "        [0.0020, 0.1383],\n",
      "        [0.0020, 0.1403],\n",
      "        [0.0020, 0.1423],\n",
      "        [0.0020, 0.1443],\n",
      "        [0.0020, 0.1463],\n",
      "        [0.0020, 0.1483],\n",
      "        [0.0020, 0.1503],\n",
      "        [0.0020, 0.1523],\n",
      "        [0.0020, 0.1543],\n",
      "        [0.0020, 0.1563],\n",
      "        [0.0020, 0.1583],\n",
      "        [0.0020, 0.1603],\n",
      "        [0.0020, 0.1623],\n",
      "        [0.0020, 0.1643],\n",
      "        [0.0020, 0.1663],\n",
      "        [0.0020, 0.1683],\n",
      "        [0.0020, 0.1703],\n",
      "        [0.0020, 0.1723],\n",
      "        [0.0020, 0.1743],\n",
      "        [0.0020, 0.1764],\n",
      "        [0.0020, 0.1784],\n",
      "        [0.0020, 0.1804],\n",
      "        [0.0020, 0.1824],\n",
      "        [0.0020, 0.1844],\n",
      "        [0.0020, 0.1864],\n",
      "        [0.0020, 0.1884],\n",
      "        [0.0020, 0.1904],\n",
      "        [0.0020, 0.1924],\n",
      "        [0.0020, 0.1944],\n",
      "        [0.0020, 0.1964],\n",
      "        [0.0020, 0.1984],\n",
      "        [0.0020, 0.2004],\n",
      "        [0.0020, 0.2024],\n",
      "        [0.0020, 0.2044],\n",
      "        [0.0020, 0.2064],\n",
      "        [0.0020, 0.2084],\n",
      "        [0.0020, 0.2104],\n",
      "        [0.0020, 0.2124],\n",
      "        [0.0020, 0.2144],\n",
      "        [0.0020, 0.2164],\n",
      "        [0.0020, 0.2184],\n",
      "        [0.0020, 0.2204],\n",
      "        [0.0020, 0.2224],\n",
      "        [0.0020, 0.2244],\n",
      "        [0.0020, 0.2265],\n",
      "        [0.0020, 0.2285],\n",
      "        [0.0020, 0.2305],\n",
      "        [0.0020, 0.2325],\n",
      "        [0.0020, 0.2345],\n",
      "        [0.0020, 0.2365],\n",
      "        [0.0020, 0.2385],\n",
      "        [0.0020, 0.2405],\n",
      "        [0.0020, 0.2425],\n",
      "        [0.0020, 0.2445],\n",
      "        [0.0020, 0.2465],\n",
      "        [0.0020, 0.2485],\n",
      "        [0.0020, 0.2505],\n",
      "        [0.0020, 0.2525],\n",
      "        [0.0020, 0.2545],\n",
      "        [0.0020, 0.2565],\n",
      "        [0.0020, 0.2585],\n",
      "        [0.0020, 0.2605],\n",
      "        [0.0020, 0.2625],\n",
      "        [0.0020, 0.2645],\n",
      "        [0.0020, 0.2665],\n",
      "        [0.0020, 0.2685],\n",
      "        [0.0020, 0.2705],\n",
      "        [0.0020, 0.2725],\n",
      "        [0.0020, 0.2745],\n",
      "        [0.0020, 0.2766],\n",
      "        [0.0020, 0.2786],\n",
      "        [0.0020, 0.2806],\n",
      "        [0.0020, 0.2826],\n",
      "        [0.0020, 0.2846],\n",
      "        [0.0020, 0.2866],\n",
      "        [0.0020, 0.2886],\n",
      "        [0.0020, 0.2906],\n",
      "        [0.0020, 0.2926],\n",
      "        [0.0020, 0.2946],\n",
      "        [0.0020, 0.2966],\n",
      "        [0.0020, 0.2986],\n",
      "        [0.0020, 0.3006],\n",
      "        [0.0020, 0.3026],\n",
      "        [0.0020, 0.3046],\n",
      "        [0.0020, 0.3066],\n",
      "        [0.0020, 0.3086],\n",
      "        [0.0020, 0.3106],\n",
      "        [0.0020, 0.3126],\n",
      "        [0.0020, 0.3146],\n",
      "        [0.0020, 0.3166],\n",
      "        [0.0020, 0.3186],\n",
      "        [0.0020, 0.3206],\n",
      "        [0.0020, 0.3226],\n",
      "        [0.0020, 0.3246],\n",
      "        [0.0020, 0.3267],\n",
      "        [0.0020, 0.3287],\n",
      "        [0.0020, 0.3307],\n",
      "        [0.0020, 0.3327],\n",
      "        [0.0020, 0.3347],\n",
      "        [0.0020, 0.3367],\n",
      "        [0.0020, 0.3387],\n",
      "        [0.0020, 0.3407],\n",
      "        [0.0020, 0.3427],\n",
      "        [0.0020, 0.3447],\n",
      "        [0.0020, 0.3467],\n",
      "        [0.0020, 0.3487],\n",
      "        [0.0020, 0.3507],\n",
      "        [0.0020, 0.3527],\n",
      "        [0.0020, 0.3547],\n",
      "        [0.0020, 0.3567],\n",
      "        [0.0020, 0.3587],\n",
      "        [0.0020, 0.3607],\n",
      "        [0.0020, 0.3627],\n",
      "        [0.0020, 0.3647],\n",
      "        [0.0020, 0.3667],\n",
      "        [0.0020, 0.3687],\n",
      "        [0.0020, 0.3707],\n",
      "        [0.0020, 0.3727],\n",
      "        [0.0020, 0.3747],\n",
      "        [0.0020, 0.3768],\n",
      "        [0.0020, 0.3788],\n",
      "        [0.0020, 0.3808],\n",
      "        [0.0020, 0.3828],\n",
      "        [0.0020, 0.3848],\n",
      "        [0.0020, 0.3868],\n",
      "        [0.0020, 0.3888],\n",
      "        [0.0020, 0.3908],\n",
      "        [0.0020, 0.3928],\n",
      "        [0.0020, 0.3948],\n",
      "        [0.0020, 0.3968],\n",
      "        [0.0020, 0.3988],\n",
      "        [0.0020, 0.4008],\n",
      "        [0.0020, 0.4028],\n",
      "        [0.0020, 0.4048],\n",
      "        [0.0020, 0.4068],\n",
      "        [0.0020, 0.4088],\n",
      "        [0.0020, 0.4108],\n",
      "        [0.0020, 0.4128],\n",
      "        [0.0020, 0.4148],\n",
      "        [0.0020, 0.4168],\n",
      "        [0.0020, 0.4188],\n",
      "        [0.0020, 0.4208],\n",
      "        [0.0020, 0.4228],\n",
      "        [0.0020, 0.4248],\n",
      "        [0.0020, 0.4269],\n",
      "        [0.0020, 0.4289],\n",
      "        [0.0020, 0.4309],\n",
      "        [0.0020, 0.4329],\n",
      "        [0.0020, 0.4349],\n",
      "        [0.0020, 0.4369],\n",
      "        [0.0020, 0.4389],\n",
      "        [0.0020, 0.4409],\n",
      "        [0.0020, 0.4429],\n",
      "        [0.0020, 0.4449],\n",
      "        [0.0020, 0.4469],\n",
      "        [0.0020, 0.4489],\n",
      "        [0.0020, 0.4509],\n",
      "        [0.0020, 0.4529],\n",
      "        [0.0020, 0.4549],\n",
      "        [0.0020, 0.4569],\n",
      "        [0.0020, 0.4589],\n",
      "        [0.0020, 0.4609],\n",
      "        [0.0020, 0.4629],\n",
      "        [0.0020, 0.4649],\n",
      "        [0.0020, 0.4669],\n",
      "        [0.0020, 0.4689],\n",
      "        [0.0020, 0.4709],\n",
      "        [0.0020, 0.4729],\n",
      "        [0.0020, 0.4749],\n",
      "        [0.0020, 0.4770],\n",
      "        [0.0020, 0.4790],\n",
      "        [0.0020, 0.4810],\n",
      "        [0.0020, 0.4830],\n",
      "        [0.0020, 0.4850],\n",
      "        [0.0020, 0.4870],\n",
      "        [0.0020, 0.4890],\n",
      "        [0.0020, 0.4910],\n",
      "        [0.0020, 0.4930],\n",
      "        [0.0020, 0.4950],\n",
      "        [0.0020, 0.4970],\n",
      "        [0.0020, 0.4990],\n",
      "        [0.0020, 0.5010],\n",
      "        [0.0020, 0.5030],\n",
      "        [0.0020, 0.5050],\n",
      "        [0.0020, 0.5070],\n",
      "        [0.0020, 0.5090],\n",
      "        [0.0020, 0.5110],\n",
      "        [0.0020, 0.5130],\n",
      "        [0.0020, 0.5150],\n",
      "        [0.0020, 0.5170],\n",
      "        [0.0020, 0.5190],\n",
      "        [0.0020, 0.5210],\n",
      "        [0.0020, 0.5230],\n",
      "        [0.0020, 0.5251],\n",
      "        [0.0020, 0.5271],\n",
      "        [0.0020, 0.5291],\n",
      "        [0.0020, 0.5311],\n",
      "        [0.0020, 0.5331],\n",
      "        [0.0020, 0.5351],\n",
      "        [0.0020, 0.5371],\n",
      "        [0.0020, 0.5391],\n",
      "        [0.0020, 0.5411],\n",
      "        [0.0020, 0.5431],\n",
      "        [0.0020, 0.5451],\n",
      "        [0.0020, 0.5471],\n",
      "        [0.0020, 0.5491],\n",
      "        [0.0020, 0.5511],\n",
      "        [0.0020, 0.5531],\n",
      "        [0.0020, 0.5551],\n",
      "        [0.0020, 0.5571],\n",
      "        [0.0020, 0.5591],\n",
      "        [0.0020, 0.5611],\n",
      "        [0.0020, 0.5631],\n",
      "        [0.0020, 0.5651],\n",
      "        [0.0020, 0.5671],\n",
      "        [0.0020, 0.5691],\n",
      "        [0.0020, 0.5711],\n",
      "        [0.0020, 0.5731],\n",
      "        [0.0020, 0.5752],\n",
      "        [0.0020, 0.5772],\n",
      "        [0.0020, 0.5792],\n",
      "        [0.0020, 0.5812],\n",
      "        [0.0020, 0.5832],\n",
      "        [0.0020, 0.5852],\n",
      "        [0.0020, 0.5872],\n",
      "        [0.0020, 0.5892],\n",
      "        [0.0020, 0.5912],\n",
      "        [0.0020, 0.5932],\n",
      "        [0.0020, 0.5952],\n",
      "        [0.0020, 0.5972],\n",
      "        [0.0020, 0.5992],\n",
      "        [0.0020, 0.6012],\n",
      "        [0.0020, 0.6032],\n",
      "        [0.0020, 0.6052],\n",
      "        [0.0020, 0.6072],\n",
      "        [0.0020, 0.6092],\n",
      "        [0.0020, 0.6112],\n",
      "        [0.0020, 0.6132],\n",
      "        [0.0020, 0.6152],\n",
      "        [0.0020, 0.6172],\n",
      "        [0.0020, 0.6192],\n",
      "        [0.0020, 0.6212],\n",
      "        [0.0020, 0.6232],\n",
      "        [0.0020, 0.6253],\n",
      "        [0.0020, 0.6273],\n",
      "        [0.0020, 0.6293],\n",
      "        [0.0020, 0.6313],\n",
      "        [0.0020, 0.6333],\n",
      "        [0.0020, 0.6353],\n",
      "        [0.0020, 0.6373],\n",
      "        [0.0020, 0.6393],\n",
      "        [0.0020, 0.6413],\n",
      "        [0.0020, 0.6433],\n",
      "        [0.0020, 0.6453],\n",
      "        [0.0020, 0.6473],\n",
      "        [0.0020, 0.6493],\n",
      "        [0.0020, 0.6513],\n",
      "        [0.0020, 0.6533],\n",
      "        [0.0020, 0.6553],\n",
      "        [0.0020, 0.6573],\n",
      "        [0.0020, 0.6593],\n",
      "        [0.0020, 0.6613],\n",
      "        [0.0020, 0.6633],\n",
      "        [0.0020, 0.6653],\n",
      "        [0.0020, 0.6673],\n",
      "        [0.0020, 0.6693],\n",
      "        [0.0020, 0.6713],\n",
      "        [0.0020, 0.6733],\n",
      "        [0.0020, 0.6754],\n",
      "        [0.0020, 0.6774],\n",
      "        [0.0020, 0.6794],\n",
      "        [0.0020, 0.6814],\n",
      "        [0.0020, 0.6834],\n",
      "        [0.0020, 0.6854],\n",
      "        [0.0020, 0.6874],\n",
      "        [0.0020, 0.6894],\n",
      "        [0.0020, 0.6914],\n",
      "        [0.0020, 0.6934],\n",
      "        [0.0020, 0.6954],\n",
      "        [0.0020, 0.6974],\n",
      "        [0.0020, 0.6994],\n",
      "        [0.0020, 0.7014],\n",
      "        [0.0020, 0.7034],\n",
      "        [0.0020, 0.7054],\n",
      "        [0.0020, 0.7074],\n",
      "        [0.0020, 0.7094],\n",
      "        [0.0020, 0.7114],\n",
      "        [0.0020, 0.7134],\n",
      "        [0.0020, 0.7154],\n",
      "        [0.0020, 0.7174],\n",
      "        [0.0020, 0.7194],\n",
      "        [0.0020, 0.7214],\n",
      "        [0.0020, 0.7234],\n",
      "        [0.0020, 0.7255],\n",
      "        [0.0020, 0.7275],\n",
      "        [0.0020, 0.7295],\n",
      "        [0.0020, 0.7315],\n",
      "        [0.0020, 0.7335],\n",
      "        [0.0020, 0.7355],\n",
      "        [0.0020, 0.7375],\n",
      "        [0.0020, 0.7395],\n",
      "        [0.0020, 0.7415],\n",
      "        [0.0020, 0.7435],\n",
      "        [0.0020, 0.7455],\n",
      "        [0.0020, 0.7475],\n",
      "        [0.0020, 0.7495],\n",
      "        [0.0020, 0.7515],\n",
      "        [0.0020, 0.7535],\n",
      "        [0.0020, 0.7555],\n",
      "        [0.0020, 0.7575],\n",
      "        [0.0020, 0.7595],\n",
      "        [0.0020, 0.7615],\n",
      "        [0.0020, 0.7635],\n",
      "        [0.0020, 0.7655],\n",
      "        [0.0020, 0.7675],\n",
      "        [0.0020, 0.7695],\n",
      "        [0.0020, 0.7715],\n",
      "        [0.0020, 0.7735],\n",
      "        [0.0020, 0.7756],\n",
      "        [0.0020, 0.7776],\n",
      "        [0.0020, 0.7796],\n",
      "        [0.0020, 0.7816],\n",
      "        [0.0020, 0.7836],\n",
      "        [0.0020, 0.7856],\n",
      "        [0.0020, 0.7876],\n",
      "        [0.0020, 0.7896],\n",
      "        [0.0020, 0.7916],\n",
      "        [0.0020, 0.7936],\n",
      "        [0.0020, 0.7956],\n",
      "        [0.0020, 0.7976],\n",
      "        [0.0020, 0.7996],\n",
      "        [0.0020, 0.8016],\n",
      "        [0.0020, 0.8036],\n",
      "        [0.0020, 0.8056],\n",
      "        [0.0020, 0.8076],\n",
      "        [0.0020, 0.8096],\n",
      "        [0.0020, 0.8116],\n",
      "        [0.0020, 0.8136],\n",
      "        [0.0020, 0.8156],\n",
      "        [0.0020, 0.8176],\n",
      "        [0.0020, 0.8196],\n",
      "        [0.0020, 0.8216],\n",
      "        [0.0020, 0.8236],\n",
      "        [0.0020, 0.8257],\n",
      "        [0.0020, 0.8277],\n",
      "        [0.0020, 0.8297],\n",
      "        [0.0020, 0.8317],\n",
      "        [0.0020, 0.8337],\n",
      "        [0.0020, 0.8357],\n",
      "        [0.0020, 0.8377],\n",
      "        [0.0020, 0.8397],\n",
      "        [0.0020, 0.8417],\n",
      "        [0.0020, 0.8437],\n",
      "        [0.0020, 0.8457],\n",
      "        [0.0020, 0.8477],\n",
      "        [0.0020, 0.8497],\n",
      "        [0.0020, 0.8517],\n",
      "        [0.0020, 0.8537],\n",
      "        [0.0020, 0.8557],\n",
      "        [0.0020, 0.8577],\n",
      "        [0.0020, 0.8597],\n",
      "        [0.0020, 0.8617],\n",
      "        [0.0020, 0.8637],\n",
      "        [0.0020, 0.8657],\n",
      "        [0.0020, 0.8677],\n",
      "        [0.0020, 0.8697],\n",
      "        [0.0020, 0.8717],\n",
      "        [0.0020, 0.8737],\n",
      "        [0.0020, 0.8758],\n",
      "        [0.0020, 0.8778],\n",
      "        [0.0020, 0.8798],\n",
      "        [0.0020, 0.8818],\n",
      "        [0.0020, 0.8838],\n",
      "        [0.0020, 0.8858],\n",
      "        [0.0020, 0.8878],\n",
      "        [0.0020, 0.8898],\n",
      "        [0.0020, 0.8918],\n",
      "        [0.0020, 0.8938],\n",
      "        [0.0020, 0.8958],\n",
      "        [0.0020, 0.8978],\n",
      "        [0.0020, 0.8998],\n",
      "        [0.0020, 0.9018],\n",
      "        [0.0020, 0.9038],\n",
      "        [0.0020, 0.9058],\n",
      "        [0.0020, 0.9078],\n",
      "        [0.0020, 0.9098],\n",
      "        [0.0020, 0.9118],\n",
      "        [0.0020, 0.9138],\n",
      "        [0.0020, 0.9158],\n",
      "        [0.0020, 0.9178],\n",
      "        [0.0020, 0.9198],\n",
      "        [0.0020, 0.9218],\n",
      "        [0.0020, 0.9238],\n",
      "        [0.0020, 0.9259],\n",
      "        [0.0020, 0.9279],\n",
      "        [0.0020, 0.9299],\n",
      "        [0.0020, 0.9319],\n",
      "        [0.0020, 0.9339],\n",
      "        [0.0020, 0.9359],\n",
      "        [0.0020, 0.9379],\n",
      "        [0.0020, 0.9399],\n",
      "        [0.0020, 0.9419],\n",
      "        [0.0020, 0.9439],\n",
      "        [0.0020, 0.9459],\n",
      "        [0.0020, 0.9479],\n",
      "        [0.0020, 0.9499],\n",
      "        [0.0020, 0.9519],\n",
      "        [0.0020, 0.9539],\n",
      "        [0.0020, 0.9559],\n",
      "        [0.0020, 0.9579],\n",
      "        [0.0020, 0.9599],\n",
      "        [0.0020, 0.9619],\n",
      "        [0.0020, 0.9639],\n",
      "        [0.0020, 0.9659],\n",
      "        [0.0020, 0.9679],\n",
      "        [0.0020, 0.9699],\n",
      "        [0.0020, 0.9719],\n",
      "        [0.0020, 0.9739],\n",
      "        [0.0020, 0.9760],\n",
      "        [0.0020, 0.9780],\n",
      "        [0.0020, 0.9800],\n",
      "        [0.0020, 0.9820],\n",
      "        [0.0020, 0.9840],\n",
      "        [0.0020, 0.9860],\n",
      "        [0.0020, 0.9880],\n",
      "        [0.0020, 0.9900],\n",
      "        [0.0020, 0.9920],\n",
      "        [0.0020, 0.9940],\n",
      "        [0.0020, 0.9960],\n",
      "        [0.0020, 0.9980],\n",
      "        [0.0020, 1.0000]])\n"
     ]
    }
   ],
   "source": [
    "print(train_data[0][1])"
   ]
  },
  {
   "cell_type": "code",
   "execution_count": 20,
   "metadata": {
    "ExecuteTime": {
     "end_time": "2021-01-25T05:48:18.527681Z",
     "start_time": "2021-01-25T05:48:18.501357Z"
    }
   },
   "outputs": [
    {
     "name": "stdout",
     "output_type": "stream",
     "text": [
      "tensor([[0.0020, 0.0000],\n",
      "        [0.0020, 0.0020],\n",
      "        [0.0020, 0.0040],\n",
      "        [0.0020, 0.0060],\n",
      "        [0.0020, 0.0080],\n",
      "        [0.0020, 0.0100],\n",
      "        [0.0020, 0.0120],\n",
      "        [0.0020, 0.0140],\n",
      "        [0.0020, 0.0160],\n",
      "        [0.0020, 0.0180],\n",
      "        [0.0020, 0.0200],\n",
      "        [0.0020, 0.0220],\n",
      "        [0.0020, 0.0240],\n",
      "        [0.0020, 0.0261],\n",
      "        [0.0020, 0.0281],\n",
      "        [0.0020, 0.0301],\n",
      "        [0.0020, 0.0321],\n",
      "        [0.0020, 0.0341],\n",
      "        [0.0020, 0.0361],\n",
      "        [0.0020, 0.0381],\n",
      "        [0.0020, 0.0401],\n",
      "        [0.0020, 0.0421],\n",
      "        [0.0020, 0.0441],\n",
      "        [0.0020, 0.0461],\n",
      "        [0.0020, 0.0481],\n",
      "        [0.0020, 0.0501],\n",
      "        [0.0020, 0.0521],\n",
      "        [0.0020, 0.0541],\n",
      "        [0.0020, 0.0561],\n",
      "        [0.0020, 0.0581],\n",
      "        [0.0020, 0.0601],\n",
      "        [0.0020, 0.0621],\n",
      "        [0.0020, 0.0641],\n",
      "        [0.0020, 0.0661],\n",
      "        [0.0020, 0.0681],\n",
      "        [0.0020, 0.0701],\n",
      "        [0.0020, 0.0721],\n",
      "        [0.0020, 0.0741],\n",
      "        [0.0020, 0.0762],\n",
      "        [0.0020, 0.0782],\n",
      "        [0.0020, 0.0802],\n",
      "        [0.0020, 0.0822],\n",
      "        [0.0020, 0.0842],\n",
      "        [0.0020, 0.0862],\n",
      "        [0.0020, 0.0882],\n",
      "        [0.0020, 0.0902],\n",
      "        [0.0020, 0.0922],\n",
      "        [0.0020, 0.0942],\n",
      "        [0.0020, 0.0962],\n",
      "        [0.0020, 0.0982],\n",
      "        [0.0020, 0.1002],\n",
      "        [0.0020, 0.1022],\n",
      "        [0.0020, 0.1042],\n",
      "        [0.0020, 0.1062],\n",
      "        [0.0020, 0.1082],\n",
      "        [0.0020, 0.1102],\n",
      "        [0.0020, 0.1122],\n",
      "        [0.0020, 0.1142],\n",
      "        [0.0020, 0.1162],\n",
      "        [0.0020, 0.1182],\n",
      "        [0.0020, 0.1202],\n",
      "        [0.0020, 0.1222],\n",
      "        [0.0020, 0.1242],\n",
      "        [0.0020, 0.1263],\n",
      "        [0.0020, 0.1283],\n",
      "        [0.0020, 0.1303],\n",
      "        [0.0020, 0.1323],\n",
      "        [0.0020, 0.1343],\n",
      "        [0.0020, 0.1363],\n",
      "        [0.0020, 0.1383],\n",
      "        [0.0020, 0.1403],\n",
      "        [0.0020, 0.1423],\n",
      "        [0.0020, 0.1443],\n",
      "        [0.0020, 0.1463],\n",
      "        [0.0020, 0.1483],\n",
      "        [0.0020, 0.1503],\n",
      "        [0.0020, 0.1523],\n",
      "        [0.0020, 0.1543],\n",
      "        [0.0020, 0.1563],\n",
      "        [0.0020, 0.1583],\n",
      "        [0.0020, 0.1603],\n",
      "        [0.0020, 0.1623],\n",
      "        [0.0020, 0.1643],\n",
      "        [0.0020, 0.1663],\n",
      "        [0.0020, 0.1683],\n",
      "        [0.0020, 0.1703],\n",
      "        [0.0020, 0.1723],\n",
      "        [0.0020, 0.1743],\n",
      "        [0.0020, 0.1764],\n",
      "        [0.0020, 0.1784],\n",
      "        [0.0020, 0.1804],\n",
      "        [0.0020, 0.1824],\n",
      "        [0.0020, 0.1844],\n",
      "        [0.0020, 0.1864],\n",
      "        [0.0020, 0.1884],\n",
      "        [0.0020, 0.1904],\n",
      "        [0.0020, 0.1924],\n",
      "        [0.0020, 0.1944],\n",
      "        [0.0020, 0.1964],\n",
      "        [0.0020, 0.1984],\n",
      "        [0.0020, 0.2004],\n",
      "        [0.0020, 0.2024],\n",
      "        [0.0020, 0.2044],\n",
      "        [0.0020, 0.2064],\n",
      "        [0.0020, 0.2084],\n",
      "        [0.0020, 0.2104],\n",
      "        [0.0020, 0.2124],\n",
      "        [0.0020, 0.2144],\n",
      "        [0.0020, 0.2164],\n",
      "        [0.0020, 0.2184],\n",
      "        [0.0020, 0.2204],\n",
      "        [0.0020, 0.2224],\n",
      "        [0.0020, 0.2244],\n",
      "        [0.0020, 0.2265],\n",
      "        [0.0020, 0.2285],\n",
      "        [0.0020, 0.2305],\n",
      "        [0.0020, 0.2325],\n",
      "        [0.0020, 0.2345],\n",
      "        [0.0020, 0.2365],\n",
      "        [0.0020, 0.2385],\n",
      "        [0.0020, 0.2405],\n",
      "        [0.0020, 0.2425],\n",
      "        [0.0020, 0.2445],\n",
      "        [0.0020, 0.2465],\n",
      "        [0.0020, 0.2485],\n",
      "        [0.0020, 0.2505],\n",
      "        [0.0020, 0.2525],\n",
      "        [0.0020, 0.2545],\n",
      "        [0.0020, 0.2565],\n",
      "        [0.0020, 0.2585],\n",
      "        [0.0020, 0.2605],\n",
      "        [0.0020, 0.2625],\n",
      "        [0.0020, 0.2645],\n",
      "        [0.0020, 0.2665],\n",
      "        [0.0020, 0.2685],\n",
      "        [0.0020, 0.2705],\n",
      "        [0.0020, 0.2725],\n",
      "        [0.0020, 0.2745],\n",
      "        [0.0020, 0.2766],\n",
      "        [0.0020, 0.2786],\n",
      "        [0.0020, 0.2806],\n",
      "        [0.0020, 0.2826],\n",
      "        [0.0020, 0.2846],\n",
      "        [0.0020, 0.2866],\n",
      "        [0.0020, 0.2886],\n",
      "        [0.0020, 0.2906],\n",
      "        [0.0020, 0.2926],\n",
      "        [0.0020, 0.2946],\n",
      "        [0.0020, 0.2966],\n",
      "        [0.0020, 0.2986],\n",
      "        [0.0020, 0.3006],\n",
      "        [0.0020, 0.3026],\n",
      "        [0.0020, 0.3046],\n",
      "        [0.0020, 0.3066],\n",
      "        [0.0020, 0.3086],\n",
      "        [0.0020, 0.3106],\n",
      "        [0.0020, 0.3126],\n",
      "        [0.0020, 0.3146],\n",
      "        [0.0020, 0.3166],\n",
      "        [0.0020, 0.3186],\n",
      "        [0.0020, 0.3206],\n",
      "        [0.0020, 0.3226],\n",
      "        [0.0020, 0.3246],\n",
      "        [0.0020, 0.3267],\n",
      "        [0.0020, 0.3287],\n",
      "        [0.0020, 0.3307],\n",
      "        [0.0020, 0.3327],\n",
      "        [0.0020, 0.3347],\n",
      "        [0.0020, 0.3367],\n",
      "        [0.0020, 0.3387],\n",
      "        [0.0020, 0.3407],\n",
      "        [0.0020, 0.3427],\n",
      "        [0.0020, 0.3447],\n",
      "        [0.0020, 0.3467],\n",
      "        [0.0020, 0.3487],\n",
      "        [0.0020, 0.3507],\n",
      "        [0.0020, 0.3527],\n",
      "        [0.0020, 0.3547],\n",
      "        [0.0020, 0.3567],\n",
      "        [0.0020, 0.3587],\n",
      "        [0.0020, 0.3607],\n",
      "        [0.0020, 0.3627],\n",
      "        [0.0020, 0.3647],\n",
      "        [0.0020, 0.3667],\n",
      "        [0.0020, 0.3687],\n",
      "        [0.0020, 0.3707],\n",
      "        [0.0020, 0.3727],\n",
      "        [0.0020, 0.3747],\n",
      "        [0.0020, 0.3768],\n",
      "        [0.0020, 0.3788],\n",
      "        [0.0020, 0.3808],\n",
      "        [0.0020, 0.3828],\n",
      "        [0.0020, 0.3848],\n",
      "        [0.0020, 0.3868],\n",
      "        [0.0020, 0.3888],\n",
      "        [0.0020, 0.3908],\n",
      "        [0.0020, 0.3928],\n",
      "        [0.0020, 0.3948],\n",
      "        [0.0020, 0.3968],\n",
      "        [0.0020, 0.3988],\n",
      "        [0.0020, 0.4008],\n",
      "        [0.0020, 0.4028],\n",
      "        [0.0020, 0.4048],\n",
      "        [0.0020, 0.4068],\n",
      "        [0.0020, 0.4088],\n",
      "        [0.0020, 0.4108],\n",
      "        [0.0020, 0.4128],\n",
      "        [0.0020, 0.4148],\n",
      "        [0.0020, 0.4168],\n",
      "        [0.0020, 0.4188],\n",
      "        [0.0020, 0.4208],\n",
      "        [0.0020, 0.4228],\n",
      "        [0.0020, 0.4248],\n",
      "        [0.0020, 0.4269],\n",
      "        [0.0020, 0.4289],\n",
      "        [0.0020, 0.4309],\n",
      "        [0.0020, 0.4329],\n",
      "        [0.0020, 0.4349],\n",
      "        [0.0020, 0.4369],\n",
      "        [0.0020, 0.4389],\n",
      "        [0.0020, 0.4409],\n",
      "        [0.0020, 0.4429],\n",
      "        [0.0020, 0.4449],\n",
      "        [0.0020, 0.4469],\n",
      "        [0.0020, 0.4489],\n",
      "        [0.0020, 0.4509],\n",
      "        [0.0020, 0.4529],\n",
      "        [0.0020, 0.4549],\n",
      "        [0.0020, 0.4569],\n",
      "        [0.0020, 0.4589],\n",
      "        [0.0020, 0.4609],\n",
      "        [0.0020, 0.4629],\n",
      "        [0.0020, 0.4649],\n",
      "        [0.0020, 0.4669],\n",
      "        [0.0020, 0.4689],\n",
      "        [0.0020, 0.4709],\n",
      "        [0.0020, 0.4729],\n",
      "        [0.0020, 0.4749],\n",
      "        [0.0020, 0.4770],\n",
      "        [0.0020, 0.4790],\n",
      "        [0.0020, 0.4810],\n",
      "        [0.0020, 0.4830],\n",
      "        [0.0020, 0.4850],\n",
      "        [0.0020, 0.4870],\n",
      "        [0.0020, 0.4890],\n",
      "        [0.0020, 0.4910],\n",
      "        [0.0020, 0.4930],\n",
      "        [0.0020, 0.4950],\n",
      "        [0.0020, 0.4970],\n",
      "        [0.0020, 0.4990],\n",
      "        [0.0020, 0.5010],\n",
      "        [0.0020, 0.5030],\n",
      "        [0.0020, 0.5050],\n",
      "        [0.0020, 0.5070],\n",
      "        [0.0020, 0.5090],\n",
      "        [0.0020, 0.5110],\n",
      "        [0.0020, 0.5130],\n",
      "        [0.0020, 0.5150],\n",
      "        [0.0020, 0.5170],\n",
      "        [0.0020, 0.5190],\n",
      "        [0.0020, 0.5210],\n",
      "        [0.0020, 0.5230],\n",
      "        [0.0020, 0.5251],\n",
      "        [0.0020, 0.5271],\n",
      "        [0.0020, 0.5291],\n",
      "        [0.0020, 0.5311],\n",
      "        [0.0020, 0.5331],\n",
      "        [0.0020, 0.5351],\n",
      "        [0.0020, 0.5371],\n",
      "        [0.0020, 0.5391],\n",
      "        [0.0020, 0.5411],\n",
      "        [0.0020, 0.5431],\n",
      "        [0.0020, 0.5451],\n",
      "        [0.0020, 0.5471],\n",
      "        [0.0020, 0.5491],\n",
      "        [0.0020, 0.5511],\n",
      "        [0.0020, 0.5531],\n",
      "        [0.0020, 0.5551],\n",
      "        [0.0020, 0.5571],\n",
      "        [0.0020, 0.5591],\n",
      "        [0.0020, 0.5611],\n",
      "        [0.0020, 0.5631],\n",
      "        [0.0020, 0.5651],\n",
      "        [0.0020, 0.5671],\n",
      "        [0.0020, 0.5691],\n",
      "        [0.0020, 0.5711],\n",
      "        [0.0020, 0.5731],\n",
      "        [0.0020, 0.5752],\n",
      "        [0.0020, 0.5772],\n",
      "        [0.0020, 0.5792],\n",
      "        [0.0020, 0.5812],\n",
      "        [0.0020, 0.5832],\n",
      "        [0.0020, 0.5852],\n",
      "        [0.0020, 0.5872],\n",
      "        [0.0020, 0.5892],\n",
      "        [0.0020, 0.5912],\n",
      "        [0.0020, 0.5932],\n",
      "        [0.0020, 0.5952],\n",
      "        [0.0020, 0.5972],\n",
      "        [0.0020, 0.5992],\n",
      "        [0.0020, 0.6012],\n",
      "        [0.0020, 0.6032],\n",
      "        [0.0020, 0.6052],\n",
      "        [0.0020, 0.6072],\n",
      "        [0.0020, 0.6092],\n",
      "        [0.0020, 0.6112],\n",
      "        [0.0020, 0.6132],\n",
      "        [0.0020, 0.6152],\n",
      "        [0.0020, 0.6172],\n",
      "        [0.0020, 0.6192],\n",
      "        [0.0020, 0.6212],\n",
      "        [0.0020, 0.6232],\n",
      "        [0.0020, 0.6253],\n",
      "        [0.0020, 0.6273],\n",
      "        [0.0020, 0.6293],\n",
      "        [0.0020, 0.6313],\n",
      "        [0.0020, 0.6333],\n",
      "        [0.0020, 0.6353],\n",
      "        [0.0020, 0.6373],\n",
      "        [0.0020, 0.6393],\n",
      "        [0.0020, 0.6413],\n",
      "        [0.0020, 0.6433],\n",
      "        [0.0020, 0.6453],\n",
      "        [0.0020, 0.6473],\n",
      "        [0.0020, 0.6493],\n",
      "        [0.0020, 0.6513],\n",
      "        [0.0020, 0.6533],\n",
      "        [0.0020, 0.6553],\n",
      "        [0.0020, 0.6573],\n",
      "        [0.0020, 0.6593],\n",
      "        [0.0020, 0.6613],\n",
      "        [0.0020, 0.6633],\n",
      "        [0.0020, 0.6653],\n",
      "        [0.0020, 0.6673],\n",
      "        [0.0020, 0.6693],\n",
      "        [0.0020, 0.6713],\n",
      "        [0.0020, 0.6733],\n",
      "        [0.0020, 0.6754],\n",
      "        [0.0020, 0.6774],\n",
      "        [0.0020, 0.6794],\n",
      "        [0.0020, 0.6814],\n",
      "        [0.0020, 0.6834],\n",
      "        [0.0020, 0.6854],\n",
      "        [0.0020, 0.6874],\n",
      "        [0.0020, 0.6894],\n",
      "        [0.0020, 0.6914],\n",
      "        [0.0020, 0.6934],\n",
      "        [0.0020, 0.6954],\n",
      "        [0.0020, 0.6974],\n",
      "        [0.0020, 0.6994],\n",
      "        [0.0020, 0.7014],\n",
      "        [0.0020, 0.7034],\n",
      "        [0.0020, 0.7054],\n",
      "        [0.0020, 0.7074],\n",
      "        [0.0020, 0.7094],\n",
      "        [0.0020, 0.7114],\n",
      "        [0.0020, 0.7134],\n",
      "        [0.0020, 0.7154],\n",
      "        [0.0020, 0.7174],\n",
      "        [0.0020, 0.7194],\n",
      "        [0.0020, 0.7214],\n",
      "        [0.0020, 0.7234],\n",
      "        [0.0020, 0.7255],\n",
      "        [0.0020, 0.7275],\n",
      "        [0.0020, 0.7295],\n",
      "        [0.0020, 0.7315],\n",
      "        [0.0020, 0.7335],\n",
      "        [0.0020, 0.7355],\n",
      "        [0.0020, 0.7375],\n",
      "        [0.0020, 0.7395],\n",
      "        [0.0020, 0.7415],\n",
      "        [0.0020, 0.7435],\n",
      "        [0.0020, 0.7455],\n",
      "        [0.0020, 0.7475],\n",
      "        [0.0020, 0.7495],\n",
      "        [0.0020, 0.7515],\n",
      "        [0.0020, 0.7535],\n",
      "        [0.0020, 0.7555],\n",
      "        [0.0020, 0.7575],\n",
      "        [0.0020, 0.7595],\n",
      "        [0.0020, 0.7615],\n",
      "        [0.0020, 0.7635],\n",
      "        [0.0020, 0.7655],\n",
      "        [0.0020, 0.7675],\n",
      "        [0.0020, 0.7695],\n",
      "        [0.0020, 0.7715],\n",
      "        [0.0020, 0.7735],\n",
      "        [0.0020, 0.7756],\n",
      "        [0.0020, 0.7776],\n",
      "        [0.0020, 0.7796],\n",
      "        [0.0020, 0.7816],\n",
      "        [0.0020, 0.7836],\n",
      "        [0.0020, 0.7856],\n",
      "        [0.0020, 0.7876],\n",
      "        [0.0020, 0.7896],\n",
      "        [0.0020, 0.7916],\n",
      "        [0.0020, 0.7936],\n",
      "        [0.0020, 0.7956],\n",
      "        [0.0020, 0.7976],\n",
      "        [0.0020, 0.7996],\n",
      "        [0.0020, 0.8016],\n",
      "        [0.0020, 0.8036],\n",
      "        [0.0020, 0.8056],\n",
      "        [0.0020, 0.8076],\n",
      "        [0.0020, 0.8096],\n",
      "        [0.0020, 0.8116],\n",
      "        [0.0020, 0.8136],\n",
      "        [0.0020, 0.8156],\n",
      "        [0.0020, 0.8176],\n",
      "        [0.0020, 0.8196],\n",
      "        [0.0020, 0.8216],\n",
      "        [0.0020, 0.8236],\n",
      "        [0.0020, 0.8257],\n",
      "        [0.0020, 0.8277],\n",
      "        [0.0020, 0.8297],\n",
      "        [0.0020, 0.8317],\n",
      "        [0.0020, 0.8337],\n",
      "        [0.0020, 0.8357],\n",
      "        [0.0020, 0.8377],\n",
      "        [0.0020, 0.8397],\n",
      "        [0.0020, 0.8417],\n",
      "        [0.0020, 0.8437],\n",
      "        [0.0020, 0.8457],\n",
      "        [0.0020, 0.8477],\n",
      "        [0.0020, 0.8497],\n",
      "        [0.0020, 0.8517],\n",
      "        [0.0020, 0.8537],\n",
      "        [0.0020, 0.8557],\n",
      "        [0.0020, 0.8577],\n",
      "        [0.0020, 0.8597],\n",
      "        [0.0020, 0.8617],\n",
      "        [0.0020, 0.8637],\n",
      "        [0.0020, 0.8657],\n",
      "        [0.0020, 0.8677],\n",
      "        [0.0020, 0.8697],\n",
      "        [0.0020, 0.8717],\n",
      "        [0.0020, 0.8737],\n",
      "        [0.0020, 0.8758],\n",
      "        [0.0020, 0.8778],\n",
      "        [0.0020, 0.8798],\n",
      "        [0.0020, 0.8818],\n",
      "        [0.0020, 0.8838],\n",
      "        [0.0020, 0.8858],\n",
      "        [0.0020, 0.8878],\n",
      "        [0.0020, 0.8898],\n",
      "        [0.0020, 0.8918],\n",
      "        [0.0020, 0.8938],\n",
      "        [0.0020, 0.8958],\n",
      "        [0.0020, 0.8978],\n",
      "        [0.0020, 0.8998],\n",
      "        [0.0020, 0.9018],\n",
      "        [0.0020, 0.9038],\n",
      "        [0.0020, 0.9058],\n",
      "        [0.0020, 0.9078],\n",
      "        [0.0020, 0.9098],\n",
      "        [0.0020, 0.9118],\n",
      "        [0.0020, 0.9138],\n",
      "        [0.0020, 0.9158],\n",
      "        [0.0020, 0.9178],\n",
      "        [0.0020, 0.9198],\n",
      "        [0.0020, 0.9218],\n",
      "        [0.0020, 0.9238],\n",
      "        [0.0020, 0.9259],\n",
      "        [0.0020, 0.9279],\n",
      "        [0.0020, 0.9299],\n",
      "        [0.0020, 0.9319],\n",
      "        [0.0020, 0.9339],\n",
      "        [0.0020, 0.9359],\n",
      "        [0.0020, 0.9379],\n",
      "        [0.0020, 0.9399],\n",
      "        [0.0020, 0.9419],\n",
      "        [0.0020, 0.9439],\n",
      "        [0.0020, 0.9459],\n",
      "        [0.0020, 0.9479],\n",
      "        [0.0020, 0.9499],\n",
      "        [0.0020, 0.9519],\n",
      "        [0.0020, 0.9539],\n",
      "        [0.0020, 0.9559],\n",
      "        [0.0020, 0.9579],\n",
      "        [0.0020, 0.9599],\n",
      "        [0.0020, 0.9619],\n",
      "        [0.0020, 0.9639],\n",
      "        [0.0020, 0.9659],\n",
      "        [0.0020, 0.9679],\n",
      "        [0.0020, 0.9699],\n",
      "        [0.0020, 0.9719],\n",
      "        [0.0020, 0.9739],\n",
      "        [0.0020, 0.9760],\n",
      "        [0.0020, 0.9780],\n",
      "        [0.0020, 0.9800],\n",
      "        [0.0020, 0.9820],\n",
      "        [0.0020, 0.9840],\n",
      "        [0.0020, 0.9860],\n",
      "        [0.0020, 0.9880],\n",
      "        [0.0020, 0.9900],\n",
      "        [0.0020, 0.9920],\n",
      "        [0.0020, 0.9940],\n",
      "        [0.0020, 0.9960],\n",
      "        [0.0020, 0.9980],\n",
      "        [0.0020, 1.0000]])\n"
     ]
    }
   ],
   "source": [
    "print(test_data[-1][1])"
   ]
  },
  {
   "cell_type": "markdown",
   "metadata": {},
   "source": [
    "## Investigate how to preprocess the data"
   ]
  },
  {
   "cell_type": "code",
   "execution_count": 21,
   "metadata": {
    "ExecuteTime": {
     "end_time": "2021-01-25T05:48:18.533830Z",
     "start_time": "2021-01-25T05:48:18.529541Z"
    }
   },
   "outputs": [
    {
     "data": {
      "text/plain": [
       "(1, 1)"
      ]
     },
     "execution_count": 21,
     "metadata": {},
     "output_type": "execute_result"
    }
   ],
   "source": [
    "len(train_data), len(test_data)"
   ]
  },
  {
   "cell_type": "code",
   "execution_count": 22,
   "metadata": {
    "ExecuteTime": {
     "end_time": "2021-01-25T05:48:18.543594Z",
     "start_time": "2021-01-25T05:48:18.536399Z"
    }
   },
   "outputs": [
    {
     "data": {
      "text/plain": [
       "(500, 66)"
      ]
     },
     "execution_count": 22,
     "metadata": {},
     "output_type": "execute_result"
    }
   ],
   "source": [
    "D = []\n",
    "for d in train_data:\n",
    "    D.append(np.hstack(d))\n",
    "D = np.vstack(D)\n",
    "D.shape"
   ]
  },
  {
   "cell_type": "code",
   "execution_count": 23,
   "metadata": {
    "ExecuteTime": {
     "end_time": "2021-01-25T05:48:18.550671Z",
     "start_time": "2021-01-25T05:48:18.545784Z"
    }
   },
   "outputs": [
    {
     "data": {
      "text/plain": [
       "-22.716675"
      ]
     },
     "execution_count": 23,
     "metadata": {},
     "output_type": "execute_result"
    }
   ],
   "source": [
    "D.min()"
   ]
  },
  {
   "cell_type": "code",
   "execution_count": 24,
   "metadata": {
    "ExecuteTime": {
     "end_time": "2021-01-25T05:48:18.763908Z",
     "start_time": "2021-01-25T05:48:18.552873Z"
    }
   },
   "outputs": [
    {
     "data": {
      "image/png": "[encoded data removed]",
      "text/plain": [
       "<Figure size 432x288 with 1 Axes>"
      ]
     },
     "metadata": {
      "needs_background": "light"
     },
     "output_type": "display_data"
    }
   ],
   "source": [
    "x_mx = np.max(D,axis=0)\n",
    "x_mn = np.min(D,axis=0)\n",
    "abs_x_mx = np.max(abs(D),axis=0)\n",
    "plt.plot(x_mx)\n",
    "plt.plot(x_mn)\n",
    "plt.plot(abs_x_mx)\n",
    "plt.show()"
   ]
  },
  {
   "cell_type": "markdown",
   "metadata": {},
   "source": [
    "## Dataset and Dataloader"
   ]
  },
  {
   "cell_type": "code",
   "execution_count": 25,
   "metadata": {
    "ExecuteTime": {
     "end_time": "2021-01-25T05:48:18.787584Z",
     "start_time": "2021-01-25T05:48:18.766470Z"
    }
   },
   "outputs": [],
   "source": [
    "class LatentVectors(Dataset):\n",
    "    def __init__(self, data,doPreprocess=False,w=1,simLen=200,abs_x_mx=abs_x_mx, memory=6):\n",
    "        self.data = data\n",
    "        self.doPreprocess = doPreprocess\n",
    "        self.simLen = simLen\n",
    "        self.w = w\n",
    "        self.abs_x_mx = abs_x_mx[:-2]\n",
    "        self.abs_p_mx = abs_x_mx[-2:]\n",
    "        self.memory= memory\n",
    "                 \n",
    "    def __len__(self):\n",
    "        return self.simLen*len(self.data)\n",
    "\n",
    "    def preprocess_x(self,x):\n",
    "        if x.shape[0] == self.abs_x_mx.shape[0]:\n",
    "            return x/self.abs_x_mx[:,None]\n",
    "        else:\n",
    "            return x/self.abs_x_mx\n",
    "\n",
    "    def preprocess_p(self,p):\n",
    "        if p.shape[0] == self.abs_p_mx.shape[0]:\n",
    "            return p/self.abs_p_mx[:,None]\n",
    "        else:\n",
    "            return p/self.abs_p_mx\n",
    "\n",
    "    def invPreprocess_x(self,xnew):\n",
    "        x = xnew*self.abs_x_mx\n",
    "        return x\n",
    "\n",
    "    def invPreprocess_p(self,pnew):\n",
    "        p = pnew*self.abs_p_mx\n",
    "        return p\n",
    "    \n",
    "    def __getitem__(self, idx):\n",
    "        q,r = np.divmod(idx,self.simLen)\n",
    "        X, p = self.data[q]\n",
    "        r_idx = np.random.randint(0,self.simLen-self.w)\n",
    "        \n",
    "        x = torch.zeros((latentDim, self.memory))\n",
    "        p_x = torch.zeros((2, self.memory))\n",
    "        \n",
    "        x[:,0] = X[r_idx:r_idx+1]\n",
    "        y = X[r_idx+1:r_idx+self.w+1]\n",
    "        \n",
    "        p_x[:,0] = p[r_idx:r_idx+1]\n",
    "        p_y = p[r_idx+1:r_idx+self.w+1]\n",
    "        \n",
    "        if self.doPreprocess:\n",
    "            x = self.preprocess_x(x)\n",
    "            y = self.preprocess_x(y)\n",
    "            p_x = self.preprocess_p(p_x)\n",
    "            p_y = self.preprocess_p(p_y)\n",
    "        \n",
    "        return x.squeeze(), y, p_x.squeeze(), p_y"
   ]
  },
  {
   "cell_type": "code",
   "execution_count": 26,
   "metadata": {
    "ExecuteTime": {
     "end_time": "2021-01-25T05:48:18.806758Z",
     "start_time": "2021-01-25T05:48:18.790088Z"
    }
   },
   "outputs": [
    {
     "data": {
      "text/plain": [
       "(torch.Size([64]),\n",
       " torch.Size([499, 64]),\n",
       " torch.Size([2]),\n",
       " torch.Size([499, 2]))"
      ]
     },
     "execution_count": 26,
     "metadata": {},
     "output_type": "execute_result"
    }
   ],
   "source": [
    "trainDataset = LatentVectors(train_data,doPreprocess=True,w=w,simLen=simLen,abs_x_mx=abs_x_mx,\n",
    "                             memory=memory_length)\n",
    "testDataset = LatentVectors(test_data,doPreprocess=True,w=w,simLen=simLen,abs_x_mx=abs_x_mx,memory=memory_length)\n",
    "X,y,p_x,p_y = trainDataset[0]\n",
    "X.shape,y.shape,p_x.shape,p_y.shape"
   ]
  },
  {
   "cell_type": "code",
   "execution_count": 27,
   "metadata": {
    "ExecuteTime": {
     "end_time": "2021-01-25T05:48:18.814559Z",
     "start_time": "2021-01-25T05:48:18.808644Z"
    }
   },
   "outputs": [
    {
     "data": {
      "text/plain": [
       "(500, 500, 500, 500)"
      ]
     },
     "execution_count": 27,
     "metadata": {},
     "output_type": "execute_result"
    }
   ],
   "source": [
    "trainDataLoader = DataLoader(dataset=trainDataset, batch_size=bz, shuffle=True, drop_last=True)\n",
    "testDataLoader = DataLoader(dataset=testDataset, batch_size=bz)\n",
    "len(trainDataset), len(trainDataLoader), len(testDataset), len(testDataLoader)"
   ]
  },
  {
   "cell_type": "code",
   "execution_count": 28,
   "metadata": {
    "ExecuteTime": {
     "end_time": "2021-01-25T05:48:18.822671Z",
     "start_time": "2021-01-25T05:48:18.816552Z"
    }
   },
   "outputs": [
    {
     "data": {
      "text/plain": [
       "(torch.Size([1, 64]),\n",
       " torch.Size([1, 499, 64]),\n",
       " torch.Size([1, 2]),\n",
       " torch.Size([1, 499, 2]))"
      ]
     },
     "execution_count": 28,
     "metadata": {},
     "output_type": "execute_result"
    }
   ],
   "source": [
    "X,y, p_x, p_y = next(iter(trainDataLoader))\n",
    "X.shape, y.shape, p_x.shape, p_y.shape"
   ]
  },
  {
   "cell_type": "code",
   "execution_count": 29,
   "metadata": {
    "ExecuteTime": {
     "end_time": "2021-01-25T05:48:18.849118Z",
     "start_time": "2021-01-25T05:48:18.824438Z"
    }
   },
   "outputs": [
    {
     "data": {
      "text/plain": [
       "tensor([[[1.0000, 0.0020],\n",
       "         [1.0000, 0.0040],\n",
       "         [1.0000, 0.0060],\n",
       "         [1.0000, 0.0080],\n",
       "         [1.0000, 0.0100],\n",
       "         [1.0000, 0.0120],\n",
       "         [1.0000, 0.0140],\n",
       "         [1.0000, 0.0160],\n",
       "         [1.0000, 0.0180],\n",
       "         [1.0000, 0.0200],\n",
       "         [1.0000, 0.0220],\n",
       "         [1.0000, 0.0240],\n",
       "         [1.0000, 0.0261],\n",
       "         [1.0000, 0.0281],\n",
       "         [1.0000, 0.0301],\n",
       "         [1.0000, 0.0321],\n",
       "         [1.0000, 0.0341],\n",
       "         [1.0000, 0.0361],\n",
       "         [1.0000, 0.0381],\n",
       "         [1.0000, 0.0401],\n",
       "         [1.0000, 0.0421],\n",
       "         [1.0000, 0.0441],\n",
       "         [1.0000, 0.0461],\n",
       "         [1.0000, 0.0481],\n",
       "         [1.0000, 0.0501],\n",
       "         [1.0000, 0.0521],\n",
       "         [1.0000, 0.0541],\n",
       "         [1.0000, 0.0561],\n",
       "         [1.0000, 0.0581],\n",
       "         [1.0000, 0.0601],\n",
       "         [1.0000, 0.0621],\n",
       "         [1.0000, 0.0641],\n",
       "         [1.0000, 0.0661],\n",
       "         [1.0000, 0.0681],\n",
       "         [1.0000, 0.0701],\n",
       "         [1.0000, 0.0721],\n",
       "         [1.0000, 0.0741],\n",
       "         [1.0000, 0.0762],\n",
       "         [1.0000, 0.0782],\n",
       "         [1.0000, 0.0802],\n",
       "         [1.0000, 0.0822],\n",
       "         [1.0000, 0.0842],\n",
       "         [1.0000, 0.0862],\n",
       "         [1.0000, 0.0882],\n",
       "         [1.0000, 0.0902],\n",
       "         [1.0000, 0.0922],\n",
       "         [1.0000, 0.0942],\n",
       "         [1.0000, 0.0962],\n",
       "         [1.0000, 0.0982],\n",
       "         [1.0000, 0.1002],\n",
       "         [1.0000, 0.1022],\n",
       "         [1.0000, 0.1042],\n",
       "         [1.0000, 0.1062],\n",
       "         [1.0000, 0.1082],\n",
       "         [1.0000, 0.1102],\n",
       "         [1.0000, 0.1122],\n",
       "         [1.0000, 0.1142],\n",
       "         [1.0000, 0.1162],\n",
       "         [1.0000, 0.1182],\n",
       "         [1.0000, 0.1202],\n",
       "         [1.0000, 0.1222],\n",
       "         [1.0000, 0.1242],\n",
       "         [1.0000, 0.1263],\n",
       "         [1.0000, 0.1283],\n",
       "         [1.0000, 0.1303],\n",
       "         [1.0000, 0.1323],\n",
       "         [1.0000, 0.1343],\n",
       "         [1.0000, 0.1363],\n",
       "         [1.0000, 0.1383],\n",
       "         [1.0000, 0.1403],\n",
       "         [1.0000, 0.1423],\n",
       "         [1.0000, 0.1443],\n",
       "         [1.0000, 0.1463],\n",
       "         [1.0000, 0.1483],\n",
       "         [1.0000, 0.1503],\n",
       "         [1.0000, 0.1523],\n",
       "         [1.0000, 0.1543],\n",
       "         [1.0000, 0.1563],\n",
       "         [1.0000, 0.1583],\n",
       "         [1.0000, 0.1603],\n",
       "         [1.0000, 0.1623],\n",
       "         [1.0000, 0.1643],\n",
       "         [1.0000, 0.1663],\n",
       "         [1.0000, 0.1683],\n",
       "         [1.0000, 0.1703],\n",
       "         [1.0000, 0.1723],\n",
       "         [1.0000, 0.1743],\n",
       "         [1.0000, 0.1764],\n",
       "         [1.0000, 0.1784],\n",
       "         [1.0000, 0.1804],\n",
       "         [1.0000, 0.1824],\n",
       "         [1.0000, 0.1844],\n",
       "         [1.0000, 0.1864],\n",
       "         [1.0000, 0.1884],\n",
       "         [1.0000, 0.1904],\n",
       "         [1.0000, 0.1924],\n",
       "         [1.0000, 0.1944],\n",
       "         [1.0000, 0.1964],\n",
       "         [1.0000, 0.1984],\n",
       "         [1.0000, 0.2004],\n",
       "         [1.0000, 0.2024],\n",
       "         [1.0000, 0.2044],\n",
       "         [1.0000, 0.2064],\n",
       "         [1.0000, 0.2084],\n",
       "         [1.0000, 0.2104],\n",
       "         [1.0000, 0.2124],\n",
       "         [1.0000, 0.2144],\n",
       "         [1.0000, 0.2164],\n",
       "         [1.0000, 0.2184],\n",
       "         [1.0000, 0.2204],\n",
       "         [1.0000, 0.2224],\n",
       "         [1.0000, 0.2244],\n",
       "         [1.0000, 0.2265],\n",
       "         [1.0000, 0.2285],\n",
       "         [1.0000, 0.2305],\n",
       "         [1.0000, 0.2325],\n",
       "         [1.0000, 0.2345],\n",
       "         [1.0000, 0.2365],\n",
       "         [1.0000, 0.2385],\n",
       "         [1.0000, 0.2405],\n",
       "         [1.0000, 0.2425],\n",
       "         [1.0000, 0.2445],\n",
       "         [1.0000, 0.2465],\n",
       "         [1.0000, 0.2485],\n",
       "         [1.0000, 0.2505],\n",
       "         [1.0000, 0.2525],\n",
       "         [1.0000, 0.2545],\n",
       "         [1.0000, 0.2565],\n",
       "         [1.0000, 0.2585],\n",
       "         [1.0000, 0.2605],\n",
       "         [1.0000, 0.2625],\n",
       "         [1.0000, 0.2645],\n",
       "         [1.0000, 0.2665],\n",
       "         [1.0000, 0.2685],\n",
       "         [1.0000, 0.2705],\n",
       "         [1.0000, 0.2725],\n",
       "         [1.0000, 0.2745],\n",
       "         [1.0000, 0.2766],\n",
       "         [1.0000, 0.2786],\n",
       "         [1.0000, 0.2806],\n",
       "         [1.0000, 0.2826],\n",
       "         [1.0000, 0.2846],\n",
       "         [1.0000, 0.2866],\n",
       "         [1.0000, 0.2886],\n",
       "         [1.0000, 0.2906],\n",
       "         [1.0000, 0.2926],\n",
       "         [1.0000, 0.2946],\n",
       "         [1.0000, 0.2966],\n",
       "         [1.0000, 0.2986],\n",
       "         [1.0000, 0.3006],\n",
       "         [1.0000, 0.3026],\n",
       "         [1.0000, 0.3046],\n",
       "         [1.0000, 0.3066],\n",
       "         [1.0000, 0.3086],\n",
       "         [1.0000, 0.3106],\n",
       "         [1.0000, 0.3126],\n",
       "         [1.0000, 0.3146],\n",
       "         [1.0000, 0.3166],\n",
       "         [1.0000, 0.3186],\n",
       "         [1.0000, 0.3206],\n",
       "         [1.0000, 0.3226],\n",
       "         [1.0000, 0.3246],\n",
       "         [1.0000, 0.3267],\n",
       "         [1.0000, 0.3287],\n",
       "         [1.0000, 0.3307],\n",
       "         [1.0000, 0.3327],\n",
       "         [1.0000, 0.3347],\n",
       "         [1.0000, 0.3367],\n",
       "         [1.0000, 0.3387],\n",
       "         [1.0000, 0.3407],\n",
       "         [1.0000, 0.3427],\n",
       "         [1.0000, 0.3447],\n",
       "         [1.0000, 0.3467],\n",
       "         [1.0000, 0.3487],\n",
       "         [1.0000, 0.3507],\n",
       "         [1.0000, 0.3527],\n",
       "         [1.0000, 0.3547],\n",
       "         [1.0000, 0.3567],\n",
       "         [1.0000, 0.3587],\n",
       "         [1.0000, 0.3607],\n",
       "         [1.0000, 0.3627],\n",
       "         [1.0000, 0.3647],\n",
       "         [1.0000, 0.3667],\n",
       "         [1.0000, 0.3687],\n",
       "         [1.0000, 0.3707],\n",
       "         [1.0000, 0.3727],\n",
       "         [1.0000, 0.3747],\n",
       "         [1.0000, 0.3768],\n",
       "         [1.0000, 0.3788],\n",
       "         [1.0000, 0.3808],\n",
       "         [1.0000, 0.3828],\n",
       "         [1.0000, 0.3848],\n",
       "         [1.0000, 0.3868],\n",
       "         [1.0000, 0.3888],\n",
       "         [1.0000, 0.3908],\n",
       "         [1.0000, 0.3928],\n",
       "         [1.0000, 0.3948],\n",
       "         [1.0000, 0.3968],\n",
       "         [1.0000, 0.3988],\n",
       "         [1.0000, 0.4008],\n",
       "         [1.0000, 0.4028],\n",
       "         [1.0000, 0.4048],\n",
       "         [1.0000, 0.4068],\n",
       "         [1.0000, 0.4088],\n",
       "         [1.0000, 0.4108],\n",
       "         [1.0000, 0.4128],\n",
       "         [1.0000, 0.4148],\n",
       "         [1.0000, 0.4168],\n",
       "         [1.0000, 0.4188],\n",
       "         [1.0000, 0.4208],\n",
       "         [1.0000, 0.4228],\n",
       "         [1.0000, 0.4248],\n",
       "         [1.0000, 0.4269],\n",
       "         [1.0000, 0.4289],\n",
       "         [1.0000, 0.4309],\n",
       "         [1.0000, 0.4329],\n",
       "         [1.0000, 0.4349],\n",
       "         [1.0000, 0.4369],\n",
       "         [1.0000, 0.4389],\n",
       "         [1.0000, 0.4409],\n",
       "         [1.0000, 0.4429],\n",
       "         [1.0000, 0.4449],\n",
       "         [1.0000, 0.4469],\n",
       "         [1.0000, 0.4489],\n",
       "         [1.0000, 0.4509],\n",
       "         [1.0000, 0.4529],\n",
       "         [1.0000, 0.4549],\n",
       "         [1.0000, 0.4569],\n",
       "         [1.0000, 0.4589],\n",
       "         [1.0000, 0.4609],\n",
       "         [1.0000, 0.4629],\n",
       "         [1.0000, 0.4649],\n",
       "         [1.0000, 0.4669],\n",
       "         [1.0000, 0.4689],\n",
       "         [1.0000, 0.4709],\n",
       "         [1.0000, 0.4729],\n",
       "         [1.0000, 0.4749],\n",
       "         [1.0000, 0.4770],\n",
       "         [1.0000, 0.4790],\n",
       "         [1.0000, 0.4810],\n",
       "         [1.0000, 0.4830],\n",
       "         [1.0000, 0.4850],\n",
       "         [1.0000, 0.4870],\n",
       "         [1.0000, 0.4890],\n",
       "         [1.0000, 0.4910],\n",
       "         [1.0000, 0.4930],\n",
       "         [1.0000, 0.4950],\n",
       "         [1.0000, 0.4970],\n",
       "         [1.0000, 0.4990],\n",
       "         [1.0000, 0.5010],\n",
       "         [1.0000, 0.5030],\n",
       "         [1.0000, 0.5050],\n",
       "         [1.0000, 0.5070],\n",
       "         [1.0000, 0.5090],\n",
       "         [1.0000, 0.5110],\n",
       "         [1.0000, 0.5130],\n",
       "         [1.0000, 0.5150],\n",
       "         [1.0000, 0.5170],\n",
       "         [1.0000, 0.5190],\n",
       "         [1.0000, 0.5210],\n",
       "         [1.0000, 0.5230],\n",
       "         [1.0000, 0.5251],\n",
       "         [1.0000, 0.5271],\n",
       "         [1.0000, 0.5291],\n",
       "         [1.0000, 0.5311],\n",
       "         [1.0000, 0.5331],\n",
       "         [1.0000, 0.5351],\n",
       "         [1.0000, 0.5371],\n",
       "         [1.0000, 0.5391],\n",
       "         [1.0000, 0.5411],\n",
       "         [1.0000, 0.5431],\n",
       "         [1.0000, 0.5451],\n",
       "         [1.0000, 0.5471],\n",
       "         [1.0000, 0.5491],\n",
       "         [1.0000, 0.5511],\n",
       "         [1.0000, 0.5531],\n",
       "         [1.0000, 0.5551],\n",
       "         [1.0000, 0.5571],\n",
       "         [1.0000, 0.5591],\n",
       "         [1.0000, 0.5611],\n",
       "         [1.0000, 0.5631],\n",
       "         [1.0000, 0.5651],\n",
       "         [1.0000, 0.5671],\n",
       "         [1.0000, 0.5691],\n",
       "         [1.0000, 0.5711],\n",
       "         [1.0000, 0.5731],\n",
       "         [1.0000, 0.5752],\n",
       "         [1.0000, 0.5772],\n",
       "         [1.0000, 0.5792],\n",
       "         [1.0000, 0.5812],\n",
       "         [1.0000, 0.5832],\n",
       "         [1.0000, 0.5852],\n",
       "         [1.0000, 0.5872],\n",
       "         [1.0000, 0.5892],\n",
       "         [1.0000, 0.5912],\n",
       "         [1.0000, 0.5932],\n",
       "         [1.0000, 0.5952],\n",
       "         [1.0000, 0.5972],\n",
       "         [1.0000, 0.5992],\n",
       "         [1.0000, 0.6012],\n",
       "         [1.0000, 0.6032],\n",
       "         [1.0000, 0.6052],\n",
       "         [1.0000, 0.6072],\n",
       "         [1.0000, 0.6092],\n",
       "         [1.0000, 0.6112],\n",
       "         [1.0000, 0.6132],\n",
       "         [1.0000, 0.6152],\n",
       "         [1.0000, 0.6172],\n",
       "         [1.0000, 0.6192],\n",
       "         [1.0000, 0.6212],\n",
       "         [1.0000, 0.6232],\n",
       "         [1.0000, 0.6253],\n",
       "         [1.0000, 0.6273],\n",
       "         [1.0000, 0.6293],\n",
       "         [1.0000, 0.6313],\n",
       "         [1.0000, 0.6333],\n",
       "         [1.0000, 0.6353],\n",
       "         [1.0000, 0.6373],\n",
       "         [1.0000, 0.6393],\n",
       "         [1.0000, 0.6413],\n",
       "         [1.0000, 0.6433],\n",
       "         [1.0000, 0.6453],\n",
       "         [1.0000, 0.6473],\n",
       "         [1.0000, 0.6493],\n",
       "         [1.0000, 0.6513],\n",
       "         [1.0000, 0.6533],\n",
       "         [1.0000, 0.6553],\n",
       "         [1.0000, 0.6573],\n",
       "         [1.0000, 0.6593],\n",
       "         [1.0000, 0.6613],\n",
       "         [1.0000, 0.6633],\n",
       "         [1.0000, 0.6653],\n",
       "         [1.0000, 0.6673],\n",
       "         [1.0000, 0.6693],\n",
       "         [1.0000, 0.6713],\n",
       "         [1.0000, 0.6733],\n",
       "         [1.0000, 0.6754],\n",
       "         [1.0000, 0.6774],\n",
       "         [1.0000, 0.6794],\n",
       "         [1.0000, 0.6814],\n",
       "         [1.0000, 0.6834],\n",
       "         [1.0000, 0.6854],\n",
       "         [1.0000, 0.6874],\n",
       "         [1.0000, 0.6894],\n",
       "         [1.0000, 0.6914],\n",
       "         [1.0000, 0.6934],\n",
       "         [1.0000, 0.6954],\n",
       "         [1.0000, 0.6974],\n",
       "         [1.0000, 0.6994],\n",
       "         [1.0000, 0.7014],\n",
       "         [1.0000, 0.7034],\n",
       "         [1.0000, 0.7054],\n",
       "         [1.0000, 0.7074],\n",
       "         [1.0000, 0.7094],\n",
       "         [1.0000, 0.7114],\n",
       "         [1.0000, 0.7134],\n",
       "         [1.0000, 0.7154],\n",
       "         [1.0000, 0.7174],\n",
       "         [1.0000, 0.7194],\n",
       "         [1.0000, 0.7214],\n",
       "         [1.0000, 0.7234],\n",
       "         [1.0000, 0.7255],\n",
       "         [1.0000, 0.7275],\n",
       "         [1.0000, 0.7295],\n",
       "         [1.0000, 0.7315],\n",
       "         [1.0000, 0.7335],\n",
       "         [1.0000, 0.7355],\n",
       "         [1.0000, 0.7375],\n",
       "         [1.0000, 0.7395],\n",
       "         [1.0000, 0.7415],\n",
       "         [1.0000, 0.7435],\n",
       "         [1.0000, 0.7455],\n",
       "         [1.0000, 0.7475],\n",
       "         [1.0000, 0.7495],\n",
       "         [1.0000, 0.7515],\n",
       "         [1.0000, 0.7535],\n",
       "         [1.0000, 0.7555],\n",
       "         [1.0000, 0.7575],\n",
       "         [1.0000, 0.7595],\n",
       "         [1.0000, 0.7615],\n",
       "         [1.0000, 0.7635],\n",
       "         [1.0000, 0.7655],\n",
       "         [1.0000, 0.7675],\n",
       "         [1.0000, 0.7695],\n",
       "         [1.0000, 0.7715],\n",
       "         [1.0000, 0.7735],\n",
       "         [1.0000, 0.7756],\n",
       "         [1.0000, 0.7776],\n",
       "         [1.0000, 0.7796],\n",
       "         [1.0000, 0.7816],\n",
       "         [1.0000, 0.7836],\n",
       "         [1.0000, 0.7856],\n",
       "         [1.0000, 0.7876],\n",
       "         [1.0000, 0.7896],\n",
       "         [1.0000, 0.7916],\n",
       "         [1.0000, 0.7936],\n",
       "         [1.0000, 0.7956],\n",
       "         [1.0000, 0.7976],\n",
       "         [1.0000, 0.7996],\n",
       "         [1.0000, 0.8016],\n",
       "         [1.0000, 0.8036],\n",
       "         [1.0000, 0.8056],\n",
       "         [1.0000, 0.8076],\n",
       "         [1.0000, 0.8096],\n",
       "         [1.0000, 0.8116],\n",
       "         [1.0000, 0.8136],\n",
       "         [1.0000, 0.8156],\n",
       "         [1.0000, 0.8176],\n",
       "         [1.0000, 0.8196],\n",
       "         [1.0000, 0.8216],\n",
       "         [1.0000, 0.8236],\n",
       "         [1.0000, 0.8257],\n",
       "         [1.0000, 0.8277],\n",
       "         [1.0000, 0.8297],\n",
       "         [1.0000, 0.8317],\n",
       "         [1.0000, 0.8337],\n",
       "         [1.0000, 0.8357],\n",
       "         [1.0000, 0.8377],\n",
       "         [1.0000, 0.8397],\n",
       "         [1.0000, 0.8417],\n",
       "         [1.0000, 0.8437],\n",
       "         [1.0000, 0.8457],\n",
       "         [1.0000, 0.8477],\n",
       "         [1.0000, 0.8497],\n",
       "         [1.0000, 0.8517],\n",
       "         [1.0000, 0.8537],\n",
       "         [1.0000, 0.8557],\n",
       "         [1.0000, 0.8577],\n",
       "         [1.0000, 0.8597],\n",
       "         [1.0000, 0.8617],\n",
       "         [1.0000, 0.8637],\n",
       "         [1.0000, 0.8657],\n",
       "         [1.0000, 0.8677],\n",
       "         [1.0000, 0.8697],\n",
       "         [1.0000, 0.8717],\n",
       "         [1.0000, 0.8737],\n",
       "         [1.0000, 0.8758],\n",
       "         [1.0000, 0.8778],\n",
       "         [1.0000, 0.8798],\n",
       "         [1.0000, 0.8818],\n",
       "         [1.0000, 0.8838],\n",
       "         [1.0000, 0.8858],\n",
       "         [1.0000, 0.8878],\n",
       "         [1.0000, 0.8898],\n",
       "         [1.0000, 0.8918],\n",
       "         [1.0000, 0.8938],\n",
       "         [1.0000, 0.8958],\n",
       "         [1.0000, 0.8978],\n",
       "         [1.0000, 0.8998],\n",
       "         [1.0000, 0.9018],\n",
       "         [1.0000, 0.9038],\n",
       "         [1.0000, 0.9058],\n",
       "         [1.0000, 0.9078],\n",
       "         [1.0000, 0.9098],\n",
       "         [1.0000, 0.9118],\n",
       "         [1.0000, 0.9138],\n",
       "         [1.0000, 0.9158],\n",
       "         [1.0000, 0.9178],\n",
       "         [1.0000, 0.9198],\n",
       "         [1.0000, 0.9218],\n",
       "         [1.0000, 0.9238],\n",
       "         [1.0000, 0.9259],\n",
       "         [1.0000, 0.9279],\n",
       "         [1.0000, 0.9299],\n",
       "         [1.0000, 0.9319],\n",
       "         [1.0000, 0.9339],\n",
       "         [1.0000, 0.9359],\n",
       "         [1.0000, 0.9379],\n",
       "         [1.0000, 0.9399],\n",
       "         [1.0000, 0.9419],\n",
       "         [1.0000, 0.9439],\n",
       "         [1.0000, 0.9459],\n",
       "         [1.0000, 0.9479],\n",
       "         [1.0000, 0.9499],\n",
       "         [1.0000, 0.9519],\n",
       "         [1.0000, 0.9539],\n",
       "         [1.0000, 0.9559],\n",
       "         [1.0000, 0.9579],\n",
       "         [1.0000, 0.9599],\n",
       "         [1.0000, 0.9619],\n",
       "         [1.0000, 0.9639],\n",
       "         [1.0000, 0.9659],\n",
       "         [1.0000, 0.9679],\n",
       "         [1.0000, 0.9699],\n",
       "         [1.0000, 0.9719],\n",
       "         [1.0000, 0.9739],\n",
       "         [1.0000, 0.9760],\n",
       "         [1.0000, 0.9780],\n",
       "         [1.0000, 0.9800],\n",
       "         [1.0000, 0.9820],\n",
       "         [1.0000, 0.9840],\n",
       "         [1.0000, 0.9860],\n",
       "         [1.0000, 0.9880],\n",
       "         [1.0000, 0.9900],\n",
       "         [1.0000, 0.9920],\n",
       "         [1.0000, 0.9940],\n",
       "         [1.0000, 0.9960],\n",
       "         [1.0000, 0.9980],\n",
       "         [1.0000, 1.0000]]])"
      ]
     },
     "execution_count": 29,
     "metadata": {},
     "output_type": "execute_result"
    }
   ],
   "source": [
    "p_y"
   ]
  },
  {
   "cell_type": "markdown",
   "metadata": {},
   "source": [
    "## Model"
   ]
  },
  {
   "cell_type": "code",
   "execution_count": 30,
   "metadata": {
    "ExecuteTime": {
     "end_time": "2021-01-25T05:48:18.858948Z",
     "start_time": "2021-01-25T05:48:18.850736Z"
    }
   },
   "outputs": [],
   "source": [
    "class MLP(nn.Module):\n",
    "    def __init__(self, X, hiddenLayerSizes = [1024], activation=nn.ELU()):\n",
    "        super(MLP,self).__init__()\n",
    "        \n",
    "        self.activation = activation\n",
    "        self.inputSize = X.shape[1:]\n",
    "        self.modules = []\n",
    "        self.modules.append(nn.Linear(np.prod(self.inputSize),hiddenLayerSizes[0]))\n",
    "        self.modules.append(self.activation)\n",
    "        for idx,sz in enumerate(hiddenLayerSizes[:-1]):\n",
    "            self.modules.append(nn.Linear(hiddenLayerSizes[idx],hiddenLayerSizes[idx+1]))\n",
    "            self.modules.append(self.activation)\n",
    "                               \n",
    "        self.modules.append(nn.Linear(hiddenLayerSizes[-1],np.prod(self.inputSize)))\n",
    "        self.layers = nn.Sequential(*self.modules)\n",
    "                                \n",
    "        \n",
    "    def forward(self,x):\n",
    "        x = self.layers(x)\n",
    "        return x"
   ]
  },
  {
   "cell_type": "code",
   "execution_count": 31,
   "metadata": {
    "ExecuteTime": {
     "end_time": "2021-01-25T05:48:18.864937Z",
     "start_time": "2021-01-25T05:48:18.860362Z"
    }
   },
   "outputs": [
    {
     "data": {
      "text/plain": [
       "MLP(\n",
       "  (activation): ELU(alpha=1.0)\n",
       "  (layers): Sequential(\n",
       "    (0): Linear(in_features=64, out_features=128, bias=True)\n",
       "    (1): ELU(alpha=1.0)\n",
       "    (2): Linear(in_features=128, out_features=128, bias=True)\n",
       "    (3): ELU(alpha=1.0)\n",
       "    (4): Linear(in_features=128, out_features=64, bias=True)\n",
       "  )\n",
       ")"
      ]
     },
     "execution_count": 31,
     "metadata": {},
     "output_type": "execute_result"
    }
   ],
   "source": [
    "model = MLP(X, hiddenLayerSizes=hiddenLayers,activation=activation)\n",
    "model"
   ]
  },
  {
   "cell_type": "code",
   "execution_count": 32,
   "metadata": {
    "ExecuteTime": {
     "end_time": "2021-01-25T05:48:18.871484Z",
     "start_time": "2021-01-25T05:48:18.866318Z"
    }
   },
   "outputs": [
    {
     "data": {
      "text/plain": [
       "torch.Size([1, 64])"
      ]
     },
     "execution_count": 32,
     "metadata": {},
     "output_type": "execute_result"
    }
   ],
   "source": [
    "output = model(X.float())\n",
    "output.shape"
   ]
  },
  {
   "cell_type": "code",
   "execution_count": 33,
   "metadata": {
    "ExecuteTime": {
     "end_time": "2021-01-25T05:48:18.875161Z",
     "start_time": "2021-01-25T05:48:18.872767Z"
    }
   },
   "outputs": [],
   "source": [
    "if len(gpu_ids.split(',')) > 1:\n",
    "    model = nn.DataParallel(model)"
   ]
  },
  {
   "cell_type": "code",
   "execution_count": 34,
   "metadata": {
    "ExecuteTime": {
     "end_time": "2021-01-25T05:48:18.879345Z",
     "start_time": "2021-01-25T05:48:18.876584Z"
    }
   },
   "outputs": [
    {
     "name": "stdout",
     "output_type": "stream",
     "text": [
      "6 layers require gradients (unfrozen) out of 6 layers\n",
      "33,088 parameters require gradients (unfrozen) out of 33,088 parameters\n"
     ]
    }
   ],
   "source": [
    "printNumModelParams(model)"
   ]
  },
  {
   "cell_type": "code",
   "execution_count": 35,
   "metadata": {
    "ExecuteTime": {
     "end_time": "2021-01-25T05:48:18.890383Z",
     "start_time": "2021-01-25T05:48:18.880546Z"
    }
   },
   "outputs": [],
   "source": [
    "del SVD_autoencoder\n",
    "torch.cuda.empty_cache()"
   ]
  },
  {
   "cell_type": "code",
   "execution_count": 36,
   "metadata": {
    "ExecuteTime": {
     "end_time": "2021-01-25T05:48:18.896604Z",
     "start_time": "2021-01-25T05:48:18.892129Z"
    }
   },
   "outputs": [],
   "source": [
    "SVD_autoencoder = SVD_Autoencoder(svd_vecs, latentDim, False)"
   ]
  },
  {
   "cell_type": "code",
   "execution_count": 37,
   "metadata": {
    "ExecuteTime": {
     "end_time": "2021-01-25T05:48:18.914305Z",
     "start_time": "2021-01-25T05:48:18.898889Z"
    }
   },
   "outputs": [],
   "source": [
    "# surrogate class\n",
    "\n",
    "class Surrogate(nn.Module):\n",
    "    \n",
    "    def __init__(self, window,\n",
    "                 z_size, p_size,\n",
    "                LIN, encoder, decoder):\n",
    "        super(Surrogate, self).__init__()\n",
    "        self.window = window\n",
    "        self.z_size = z_size # this does not include the size of p\n",
    "        self.p_size = p_size\n",
    "        self.c_size = z_size + p_size # this does include the size of p\n",
    "        self.LIN = LIN\n",
    "        self.encoder = encoder\n",
    "        self.decoder = decoder\n",
    "        \n",
    "    def encode(self, U):\n",
    "        \n",
    "        self.shape_of_last_frames_encoded = U.shape\n",
    "        \n",
    "        return self.encoder(U)\n",
    "        \n",
    "    def decode(self, encoding):\n",
    "        \n",
    "        self.shape_of_last_frames_encoded = torch.Size([encoding.size(0), 1, 128, 128])\n",
    "        \n",
    "        return self.decoder(encoding, self.shape_of_last_frames_encoded)\n",
    "        \n",
    "    def predict_next_w_encodings(self, encoding, p_y, window):\n",
    "        '''\n",
    "        use the LIN to predict the next w encodings for each \n",
    "        encoded U in the batch\n",
    "        '''\n",
    "            \n",
    "        predicted_encodings = []\n",
    "            \n",
    "        # given a batch of encodings, advance each encoding window time steps.\n",
    "        # save the result at each time step\n",
    "        for i in range(window):\n",
    "            encoding = self.LIN(encoding) + encoding # use LIN to predict delta in encoding\n",
    "            # this was encoding[:,:,-self.p_size:] in 09_manta..., why the extra dimension?\n",
    "            encoding[:,-self.p_size:] = p_y[:, i]\n",
    "            predicted_encodings.append(encoding)\n",
    "            \n",
    "            \n",
    "        return torch.stack(predicted_encodings)\n",
    "    \n",
    "    def forward(self, U, p_x, p_y, window = None):\n",
    "        \n",
    "        if window == None:\n",
    "            window = self.window\n",
    "        assert p_y.size(1) == window\n",
    "            \n",
    "        #encoding = self.encode(U)\n",
    "        encoding = U\n",
    "        encoding[:,-self.p_size:] = p_x\n",
    "        encoding_w = self.predict_next_w_encodings(encoding, p_y, window)\n",
    "        # want to have this agree with U_y, which is [batch_size, window_size, channels, nx, ny]\n",
    "        # right now, it's [window_size, batch_size, c_size], so transpose dimensions 0 and 1\n",
    "        # print(encoding_w.shape)\n",
    "        U = torch.stack([self.decode(encoding_i) for encoding_i in encoding_w])\n",
    "        \n",
    "        return U.transpose(0,1), encoding_w.transpose(0,1)\n",
    "    \n",
    "    \n",
    "surrogate = Surrogate(w, latentDim - 2, 2, model, SVD_autoencoder.encoder, \n",
    "                      SVD_autoencoder.decoder)"
   ]
  },
  {
   "cell_type": "code",
   "execution_count": 38,
   "metadata": {
    "ExecuteTime": {
     "end_time": "2021-01-25T05:48:19.118847Z",
     "start_time": "2021-01-25T05:48:18.916094Z"
    }
   },
   "outputs": [
    {
     "data": {
      "text/plain": [
       "(torch.Size([1, 499, 1, 128, 128]), torch.Size([1, 499, 64]))"
      ]
     },
     "execution_count": 38,
     "metadata": {},
     "output_type": "execute_result"
    }
   ],
   "source": [
    "U, encoding_hat = surrogate(X.float(), p_x.float(), p_y.float())\n",
    "U.shape, encoding_hat.shape"
   ]
  },
  {
   "cell_type": "code",
   "execution_count": 39,
   "metadata": {
    "ExecuteTime": {
     "end_time": "2021-01-25T05:48:19.123441Z",
     "start_time": "2021-01-25T05:48:19.120161Z"
    }
   },
   "outputs": [
    {
     "data": {
      "text/plain": [
       "True"
      ]
     },
     "execution_count": 39,
     "metadata": {},
     "output_type": "execute_result"
    }
   ],
   "source": [
    "np.allclose(encoding_hat[:,:,-2:].detach().cpu(), p_y)"
   ]
  },
  {
   "cell_type": "code",
   "execution_count": 40,
   "metadata": {
    "ExecuteTime": {
     "end_time": "2021-01-25T05:48:19.131484Z",
     "start_time": "2021-01-25T05:48:19.124476Z"
    }
   },
   "outputs": [],
   "source": [
    "surrogate = Surrogate(w, latentDim - 2, 2, model, SVD_autoencoder.encoder, \n",
    "                      SVD_autoencoder.decoder).to(device)\n",
    "if len(gpu_ids.split(',')) > 1:\n",
    "    surrogate = nn.DataParallel(surrogate)"
   ]
  },
  {
   "cell_type": "markdown",
   "metadata": {},
   "source": [
    "## Loss Function"
   ]
  },
  {
   "cell_type": "code",
   "execution_count": 41,
   "metadata": {
    "ExecuteTime": {
     "end_time": "2021-01-25T05:48:19.137087Z",
     "start_time": "2021-01-25T05:48:19.132455Z"
    }
   },
   "outputs": [],
   "source": [
    "def L2_relative_loss(pred, target):\n",
    "    return torch.norm(pred - target)/torch.norm(target)\n",
    "\n",
    "\n",
    "def L1_loss(pred, target):\n",
    "    return torch.mean(torch.abs(pred - target))\n",
    "\n",
    "\n",
    "def jacobian_loss(pred, target, device='cpu'):\n",
    "    return L1_loss(jacobian(pred, device), jacobian(target, device))\n",
    "\n",
    "\n",
    "def curl_loss(pred, target, device):\n",
    "    return L1_loss(curl(pred, device), curl(target, device))\n",
    "\n",
    "\n",
    "def MSE(pred,target):\n",
    "    return nn.MSELoss()(pred, target)\n",
    "\n",
    "\n",
    "def p_loss(pred, target):\n",
    "    return L(pred[:, -target.shape[1]:], target)\n",
    "\n",
    "\n",
    "def loss(pred, target, device):\n",
    "        \n",
    "    L = MSE(pred, target)\n",
    "        \n",
    "    return L "
   ]
  },
  {
   "cell_type": "code",
   "execution_count": 42,
   "metadata": {
    "ExecuteTime": {
     "end_time": "2021-01-25T05:48:19.141544Z",
     "start_time": "2021-01-25T05:48:19.138258Z"
    }
   },
   "outputs": [
    {
     "data": {
      "text/plain": [
       "(torch.Size([1, 499, 64]), torch.Size([1, 499, 2]))"
      ]
     },
     "execution_count": 42,
     "metadata": {},
     "output_type": "execute_result"
    }
   ],
   "source": [
    "y[:,:,-2:] = p_y\n",
    "y.shape, p_y.shape"
   ]
  },
  {
   "cell_type": "code",
   "execution_count": 43,
   "metadata": {
    "ExecuteTime": {
     "end_time": "2021-01-25T05:48:19.147002Z",
     "start_time": "2021-01-25T05:48:19.142617Z"
    }
   },
   "outputs": [
    {
     "data": {
      "text/plain": [
       "tensor(4.5527e+29, grad_fn=<MseLossBackward>)"
      ]
     },
     "execution_count": 43,
     "metadata": {},
     "output_type": "execute_result"
    }
   ],
   "source": [
    "loss(encoding_hat, y, device)"
   ]
  },
  {
   "cell_type": "markdown",
   "metadata": {},
   "source": [
    "## Set LR"
   ]
  },
  {
   "cell_type": "code",
   "execution_count": 44,
   "metadata": {
    "ExecuteTime": {
     "end_time": "2021-01-25T05:48:19.150458Z",
     "start_time": "2021-01-25T05:48:19.148133Z"
    }
   },
   "outputs": [
    {
     "data": {
      "text/plain": [
       "\"\\ndoesn't work with our dataloader\\nif findLRs and (len(gpu_ids.split(','))==1): # doesn't work for multigpu???\\n    opt = create_opt(1e-7,model)\\n    find_lr(model,opt,L,device,trainDataLoader)\\n\""
      ]
     },
     "execution_count": 44,
     "metadata": {},
     "output_type": "execute_result"
    }
   ],
   "source": [
    "'''\n",
    "doesn't work with our dataloader\n",
    "if findLRs and (len(gpu_ids.split(','))==1): # doesn't work for multigpu???\n",
    "    opt = create_opt(1e-7,model)\n",
    "    find_lr(model,opt,L,device,trainDataLoader)\n",
    "'''"
   ]
  },
  {
   "cell_type": "code",
   "execution_count": 45,
   "metadata": {
    "ExecuteTime": {
     "end_time": "2021-01-25T05:48:19.154502Z",
     "start_time": "2021-01-25T05:48:19.151566Z"
    }
   },
   "outputs": [],
   "source": [
    "max_lr = .001\n",
    "opt = torch.optim.Adam(model.parameters(),lr=max_lr,weight_decay=weight_decay)\n",
    "lr_scheduler = torch.optim.lr_scheduler.ReduceLROnPlateau(opt,patience=patience)"
   ]
  },
  {
   "cell_type": "code",
   "execution_count": 46,
   "metadata": {
    "ExecuteTime": {
     "end_time": "2021-01-25T05:48:19.158676Z",
     "start_time": "2021-01-25T05:48:19.155613Z"
    }
   },
   "outputs": [],
   "source": [
    "versionName = versionName + '_lr{}'.format(str(max_lr)) + '_1sim'"
   ]
  },
  {
   "cell_type": "code",
   "execution_count": 64,
   "metadata": {
    "ExecuteTime": {
     "end_time": "2021-01-25T19:46:05.158867Z",
     "start_time": "2021-01-25T19:46:05.152549Z"
    }
   },
   "outputs": [
    {
     "data": {
      "text/plain": [
       "'LIN_SVD_PNNL_MLP_GPUs3_w499_latentDim64_hd128_128_bz1_epochs1000_memory1_WD0_reconLossFalse_lr0.001_1sim'"
      ]
     },
     "execution_count": 64,
     "metadata": {},
     "output_type": "execute_result"
    }
   ],
   "source": [
    "versionName"
   ]
  },
  {
   "cell_type": "markdown",
   "metadata": {},
   "source": [
    "## Train"
   ]
  },
  {
   "cell_type": "code",
   "execution_count": 48,
   "metadata": {
    "ExecuteTime": {
     "end_time": "2021-01-25T05:48:19.172823Z",
     "start_time": "2021-01-25T05:48:19.165499Z"
    }
   },
   "outputs": [],
   "source": [
    "def trainEpoch(myDataLoader, tensorboard_writer, model, opt, p_loss, loss,\n",
    "               metric, lr_scheduler, tensorboard_rate, device,\n",
    "               tensorboard_recorder_step, total_steps):\n",
    "    running_loss = 0.0\n",
    "    running_rmse = 0.0\n",
    "    total_loss = 0.0\n",
    "    running_ploss = 0.0\n",
    "    for i, sampleBatch in enumerate(myDataLoader, start=1):\n",
    "\n",
    "        # --- Main Training ---\n",
    "        \n",
    "        # gpu\n",
    "        Encoding_x, Encoding_y, p_x, p_y = sampleBatch\n",
    "        Encoding_x = Encoding_x.to(device)\n",
    "        p_x = p_x.to(device)\n",
    "        Encoding_y = Encoding_y.to(device)\n",
    "        p_y = p_y.to(device)\n",
    "            \n",
    "\n",
    "        # zero the parameter gradients\n",
    "        opt.zero_grad()\n",
    "\n",
    "        U_hat, encoding_hat = model(Encoding_x, p_x, p_y)\n",
    "        pl = 0\n",
    "        with torch.no_grad():\n",
    "            Encoding_y[:,:,-2:] = p_y \n",
    "        ll = loss(encoding_hat, Encoding_y, device)\n",
    "        combined_loss = pl + ll\n",
    "        combined_loss.backward()\n",
    "        opt.step()\n",
    "        \n",
    "        # loss\n",
    "        batch_loss = combined_loss.item()\n",
    "        running_loss += batch_loss\n",
    "        total_loss += batch_loss\n",
    "        \n",
    "        batch_ploss = pl\n",
    "        running_ploss += batch_ploss\n",
    "\n",
    "\n",
    "\n",
    "        # record lr change\n",
    "        total_steps += 1\n",
    "        tensorboard_writer.add_scalar(tag=\"LR\", scalar_value=opt.param_groups[0]['lr'], global_step=total_steps)\n",
    "        #lr_scheduler.step()\n",
    "\n",
    "        # tensorboard writes\n",
    "        if (i % tensorboard_rate == 0):\n",
    "            tensorboard_recorder_step += 1\n",
    "            avg_running_loss = running_loss/tensorboard_rate\n",
    "            avg_running_rmse = running_rmse/tensorboard_rate\n",
    "            avg_running_ploss = running_ploss/tensorboard_rate\n",
    "            tensorboard_writer.add_scalar(tag=\"Loss\", scalar_value=avg_running_loss, global_step=tensorboard_recorder_step)\n",
    "            tensorboard_writer.add_scalar(tag=\"p_loss\", scalar_value=avg_running_ploss, global_step=tensorboard_recorder_step)\n",
    "            # reset running_loss for the next set of batches. (tensorboard_rate number of batches)\n",
    "            running_loss = 0.0\n",
    "            running_rmse = 0.0\n",
    "            running_ploss = 0.0\n",
    "            tensorboard_writer.flush()\n",
    "\n",
    "    return total_loss/len(myDataLoader), tensorboard_recorder_step, total_steps"
   ]
  },
  {
   "cell_type": "code",
   "execution_count": 49,
   "metadata": {
    "ExecuteTime": {
     "end_time": "2021-01-25T05:48:19.178823Z",
     "start_time": "2021-01-25T05:48:19.173960Z"
    }
   },
   "outputs": [],
   "source": [
    "def validEpoch(myDataLoader, tensorboard_writer, model, p_loss, loss, metric,\n",
    "               device, tensorboard_recorder_step):\n",
    "    running_loss = 0.0\n",
    "    running_rmse = 0.0\n",
    "    for i, sampleBatch in enumerate(myDataLoader, start=1):\n",
    "\n",
    "        # --- Metrics Recording ---\n",
    "\n",
    "        # gpu\n",
    "        Encoding_x, Encoding_y, p_x, p_y = sampleBatch\n",
    "        Encoding_x = Encoding_x.to(device)\n",
    "        p_x = p_x.to(device)\n",
    "        Encoding_y = Encoding_y.to(device)\n",
    "        p_y = p_y.to(device)\n",
    "                \n",
    "        perc = len(Encoding_x)/len(myDataLoader.dataset)\n",
    "\n",
    "        # forward, no gradient calculations\n",
    "        with torch.no_grad():\n",
    "            U_hat, encoding_hat = model(Encoding_x, p_x, p_y)\n",
    "            \n",
    "        Encoding_y[:,:,-2:] = p_y \n",
    "\n",
    "        # loss\n",
    "        combined_loss = loss(encoding_hat, Encoding_y, device)\n",
    "        \n",
    "        running_loss += perc*(combined_loss.item())\n",
    "\n",
    "\n",
    "    avg_running_loss = running_loss\n",
    "    avg_running_rmse = running_rmse\n",
    "    tensorboard_writer.add_scalar(tag=\"Loss\", scalar_value=avg_running_loss, global_step=tensorboard_recorder_step)\n",
    "    tensorboard_writer.flush()\n",
    "    \n",
    "    return running_loss"
   ]
  },
  {
   "cell_type": "code",
   "execution_count": 50,
   "metadata": {
    "ExecuteTime": {
     "end_time": "2021-01-25T05:48:21.659632Z",
     "start_time": "2021-01-25T05:48:19.179962Z"
    }
   },
   "outputs": [
    {
     "name": "stdout",
     "output_type": "stream",
     "text": [
      "checkpoints directory already exists :)\n"
     ]
    }
   ],
   "source": [
    "try:\n",
    "    os.mkdir(cps)\n",
    "except:\n",
    "    print(\"checkpoints directory already exists :)\")\n",
    "    \n",
    "# create a summary writer.\n",
    "train_writer = SummaryWriter(os.path.join(tensorboard_direc, versionName,'train'))\n",
    "test_writer = SummaryWriter(os.path.join(tensorboard_direc, versionName,'valid'))\n",
    "tensorboard_recorder_step = 0\n",
    "total_steps = 0"
   ]
  },
  {
   "cell_type": "code",
   "execution_count": null,
   "metadata": {
    "ExecuteTime": {
     "start_time": "2021-01-25T05:48:10.994Z"
    }
   },
   "outputs": [
    {
     "name": "stderr",
     "output_type": "stream",
     "text": [
      "\r",
      "  0%|          | 0/1000 [00:00<?, ?it/s]"
     ]
    },
    {
     "name": "stdout",
     "output_type": "stream",
     "text": [
      "---------- Started Training ----------\n",
      "--- Epoch 1/1000 ---\n"
     ]
    }
   ],
   "source": [
    "writeMessage('---------- Started Training ----------', versionName)\n",
    "bestLoss = np.infty\n",
    "torch.autograd.set_detect_anomaly(True)\n",
    "for epoch in tqdm(range(1, epochs+1)):  # loop over the dataset multiple times\n",
    "\n",
    "    writeMessage(\"--- Epoch {0}/{1} ---\".format(epoch, epochs), versionName)\n",
    "\n",
    "    surrogate.train()\n",
    "    trainLoss, tensorboard_recorder_step, total_steps = trainEpoch(trainDataLoader, \n",
    "                                                                   train_writer, surrogate,\n",
    "                                                                   opt, p_loss, loss,\n",
    "                                                                   rmse, lr_scheduler, \n",
    "                                                                   tensorboard_rate, device,\n",
    "                                                                   tensorboard_recorder_step, total_steps)\n",
    "\n",
    "    writeMessage(\"trainLoss: {:.4e}\".format(trainLoss),versionName)\n",
    "    writeMessage(\"LR: {:.4e}\".format(opt.param_groups[0]['lr']),versionName)\n",
    "#         if trainLoss < bestLoss:\n",
    "#             bestLoss = trainLoss\n",
    "#             writeMessage(\"Better trainLoss: {:.4e}, Saving models...\".format(bestLoss),versionName)\n",
    "#             torch.save(surrogate.state_dict(), os.path.join(cps,versionName))\n",
    "\n",
    "    surrogate.eval()\n",
    "    valLoss = validEpoch(testDataLoader, test_writer, surrogate, p_loss, loss, rmse, device, tensorboard_recorder_step)\n",
    "    writeMessage(\"valLoss: {:.4e}\".format(valLoss),versionName)\n",
    "\n",
    "    # checkpoint progress\n",
    "    if valLoss < bestLoss:\n",
    "        bestLoss = valLoss\n",
    "        writeMessage(\"Better valLoss: {:.4e}, Saving models...\".format(bestLoss),versionName)\n",
    "        torch.save(surrogate.state_dict(), os.path.join(cps,versionName))\n",
    "\n",
    "    lr_scheduler.step(valLoss)\n",
    "\n",
    "    if opt.param_groups[0]['lr'] < 5e-8:\n",
    "        break\n",
    "writeMessage('---------- Finished Training ----------', versionName)"
   ]
  },
  {
   "cell_type": "code",
   "execution_count": 74,
   "metadata": {
    "ExecuteTime": {
     "end_time": "2021-01-25T22:28:08.626492Z",
     "start_time": "2021-01-25T22:28:08.588634Z"
    }
   },
   "outputs": [
    {
     "data": {
      "text/plain": [
       "<All keys matched successfully>"
      ]
     },
     "execution_count": 74,
     "metadata": {},
     "output_type": "execute_result"
    }
   ],
   "source": [
    "#see note in Roam, this is labeled reconLossFalse, but we made the video and 08_MLP_surr.pkl file with\n",
    "#reconLossTrue, which didn't actually use reconLoss.\n",
    "surrogate.load_state_dict(torch.load(os.path.join(cps,'LIN_SVD_PNNL_MLP_GPUs3_w499_latentDim64_hd128_128_bz1_epochs1000_memory1_WD0_reconLossFalse_lr0.001_1sim')))"
   ]
  },
  {
   "cell_type": "code",
   "execution_count": 65,
   "metadata": {
    "ExecuteTime": {
     "end_time": "2021-01-25T19:55:53.704628Z",
     "start_time": "2021-01-25T19:55:53.410337Z"
    }
   },
   "outputs": [
    {
     "name": "stdout",
     "output_type": "stream",
     "text": [
      "cps/LIN_SVD_PNNL_MLP_GPUs0_w10_latentDim1024_hd128_128_bz32_epochs1000_memory1_WD0_lr0.001\r\n",
      "cps/LIN_SVD_PNNL_MLP_GPUs0_w10_latentDim1024_hd128_128_bz32_epochs1000_memory1_WD0_weightedLossTrue_lr0.001\r\n",
      "cps/LIN_SVD_PNNL_MLP_GPUs3_w10_latentDim1024_hd128_128_bz32_epochs1000_memory1_WD0_lr0.001\r\n",
      "cps/LIN_SVD_PNNL_MLP_GPUs3_w10_latentDim1024_hd128_128_bz32_epochs1000_memory1_WD0_weightedLossTrue_lr0.001\r\n",
      "cps/LIN_SVD_PNNL_MLP_GPUs3_w150_latentDim1024_hd128_128_bz32_epochs1000_memory1_WD0_lr0.001\r\n",
      "cps/LIN_SVD_PNNL_MLP_GPUs3_w499_latentDim64_hd128_128_bz1_epochs1000_memory1_WD0_reconLossFalse_lr0.001_1sim\r\n",
      "cps/LIN_SVD_PNNL_MLP_GPUs3_w499_latentDim64_hd128_128_bz1_epochs1000_memory1_WD0_reconLossTrue_lr0.001_1sim\r\n"
     ]
    }
   ],
   "source": [
    "!ls cps/*PNNL_MLP*"
   ]
  },
  {
   "cell_type": "code",
   "execution_count": 75,
   "metadata": {
    "ExecuteTime": {
     "end_time": "2021-01-25T22:28:11.794726Z",
     "start_time": "2021-01-25T22:28:11.787342Z"
    }
   },
   "outputs": [],
   "source": [
    "testDataset_fullSim = LatentVectors(test_data,doPreprocess=True,w=simLen-1,\n",
    "                            simLen=simLen,abs_x_mx=abs_x_mx,memory=memory_length)\n",
    "first_frame_testDataset = torch.utils.data.Subset(testDataset_fullSim, range(0, len(testDataset), simLen))\n",
    "simulation_testDataLoader = DataLoader(dataset=first_frame_testDataset, batch_size=10)"
   ]
  },
  {
   "cell_type": "code",
   "execution_count": 76,
   "metadata": {
    "ExecuteTime": {
     "end_time": "2021-01-25T22:28:12.064118Z",
     "start_time": "2021-01-25T22:28:12.053796Z"
    }
   },
   "outputs": [
    {
     "data": {
      "text/plain": [
       "(torch.Size([1, 64]),\n",
       " torch.Size([1, 499, 64]),\n",
       " torch.Size([1, 2]),\n",
       " torch.Size([1, 499, 2]))"
      ]
     },
     "execution_count": 76,
     "metadata": {},
     "output_type": "execute_result"
    }
   ],
   "source": [
    "X, Y, p_x, p_y = next(iter(simulation_testDataLoader))\n",
    "X.shape,Y.shape, p_x.shape, p_y.shape"
   ]
  },
  {
   "cell_type": "code",
   "execution_count": 77,
   "metadata": {
    "ExecuteTime": {
     "end_time": "2021-01-25T22:28:12.280575Z",
     "start_time": "2021-01-25T22:28:12.266303Z"
    }
   },
   "outputs": [],
   "source": [
    "SVD_autoencoder_for_recon_without_physics_vars = SVD_Autoencoder(svd_vecs, latentDim-2, False).to(device)"
   ]
  },
  {
   "cell_type": "code",
   "execution_count": 78,
   "metadata": {
    "ExecuteTime": {
     "end_time": "2021-01-25T22:28:13.164460Z",
     "start_time": "2021-01-25T22:28:12.605518Z"
    }
   },
   "outputs": [],
   "source": [
    "surrogate.eval()\n",
    "U_hats = []\n",
    "Us = []\n",
    "for i, sampleBatch in enumerate(simulation_testDataLoader, start=1):\n",
    "\n",
    "    # gpu\n",
    "    Encoding_x, Encoding_y, p_x, p_y = sampleBatch\n",
    "    Encoding_x = Encoding_x.to(device)\n",
    "    p_x = p_x.to(device)\n",
    "    Encoding_y = Encoding_y.to(device)\n",
    "    p_y = p_y.to(device)\n",
    "    with torch.no_grad():\n",
    "        Encoding_y = testDataset_fullSim.invPreprocess_x(Encoding_y.clone().cpu()).to(device)\n",
    "        Us.append([SVD_autoencoder_for_recon_without_physics_vars.decoder(e,\n",
    "                       torch.Size((1,1,128,128))).detach().cpu() for e in Encoding_y[:,:,:-2].transpose(0,1)])\n",
    "        \n",
    "        \n",
    "        U_hat, encoding_hat = surrogate(Encoding_x, p_x, p_y, window=simLen-1)\n",
    "        encoding_hat = testDataset_fullSim.invPreprocess_x(encoding_hat.clone().cpu()).to(device)\n",
    "        \n",
    "        U_hat = [SVD_autoencoder_for_recon_without_physics_vars.decoder(e,\n",
    "                    torch.Size((1,1,128,128))).detach().cpu() for e in encoding_hat[:,:,:-2].transpose(0,1)]\n",
    "                    \n",
    "        U_hats.append(U_hat)\n",
    "        \n",
    "        \n",
    "Real_U = torch.stack(*Us).transpose(0,1)\n",
    "#Real_X_img = convertSimToImage(Real_X)\n",
    "\n",
    "Surr_U = torch.stack(*U_hats).transpose(0,1)\n",
    "#Surr_X_img = convertSimToImage(Surr_X)"
   ]
  },
  {
   "cell_type": "code",
   "execution_count": 79,
   "metadata": {
    "ExecuteTime": {
     "end_time": "2021-01-25T22:28:13.169397Z",
     "start_time": "2021-01-25T22:28:13.166197Z"
    }
   },
   "outputs": [
    {
     "data": {
      "text/plain": [
       "(torch.Size([1, 499, 1, 128, 128]), torch.Size([1, 499, 1, 128, 128]))"
      ]
     },
     "execution_count": 79,
     "metadata": {},
     "output_type": "execute_result"
    }
   ],
   "source": [
    "Real_U.shape, Surr_U.shape"
   ]
  },
  {
   "cell_type": "code",
   "execution_count": 80,
   "metadata": {
    "ExecuteTime": {
     "end_time": "2021-01-25T22:28:13.953217Z",
     "start_time": "2021-01-25T22:28:13.468005Z"
    }
   },
   "outputs": [
    {
     "name": "stdout",
     "output_type": "stream",
     "text": [
      "Relative_Error: 4.9489e-01\n",
      "Relative_Error: 1.0032e+00\n",
      "Relative_Error: 1.5342e+00\n",
      "Relative_Error: 2.0919e+00\n",
      "Relative_Error: 2.6747e+00\n",
      "Relative_Error: 3.2826e+00\n",
      "Relative_Error: 3.8922e+00\n",
      "Relative_Error: 4.4489e+00\n",
      "Relative_Error: 4.9310e+00\n",
      "Relative_Error: 5.3430e+00\n",
      "Relative_Error: 5.7022e+00\n",
      "Relative_Error: 6.0399e+00\n",
      "Relative_Error: 6.3829e+00\n",
      "Relative_Error: 6.7598e+00\n",
      "Relative_Error: 7.1896e+00\n",
      "Relative_Error: 7.6804e+00\n",
      "Relative_Error: 8.2370e+00\n",
      "Relative_Error: 8.8879e+00\n",
      "Relative_Error: 9.6477e+00\n",
      "Relative_Error: 1.0514e+01\n",
      "Relative_Error: 1.1483e+01\n",
      "Relative_Error: 1.2571e+01\n",
      "Relative_Error: 1.3815e+01\n",
      "Relative_Error: 1.5234e+01\n",
      "Relative_Error: 1.6783e+01\n",
      "Relative_Error: 1.8536e+01\n",
      "Relative_Error: 2.0476e+01\n",
      "Relative_Error: 2.2609e+01\n",
      "Relative_Error: 2.4922e+01\n",
      "Relative_Error: 2.7441e+01\n",
      "Relative_Error: 3.0172e+01\n",
      "Relative_Error: 3.3145e+01\n",
      "Relative_Error: 3.6383e+01\n",
      "Relative_Error: 3.9870e+01\n",
      "Relative_Error: 4.3655e+01\n",
      "Relative_Error: 4.7784e+01\n",
      "Relative_Error: 5.2299e+01\n",
      "Relative_Error: 5.7219e+01\n",
      "Relative_Error: 6.2597e+01\n",
      "Relative_Error: 6.8536e+01\n",
      "Relative_Error: 7.5059e+01\n",
      "Relative_Error: 8.2190e+01\n",
      "Relative_Error: 8.9979e+01\n",
      "Relative_Error: 9.8427e+01\n",
      "Relative_Error: 1.0768e+02\n",
      "Relative_Error: 1.1753e+02\n",
      "Relative_Error: 1.2816e+02\n",
      "Relative_Error: 1.3951e+02\n",
      "Relative_Error: 1.5169e+02\n",
      "Relative_Error: 1.6474e+02\n",
      "Relative_Error: 1.7873e+02\n",
      "Relative_Error: 1.9379e+02\n",
      "Relative_Error: 2.0966e+02\n",
      "Relative_Error: 2.2618e+02\n",
      "Relative_Error: 2.4342e+02\n",
      "Relative_Error: 2.6193e+02\n",
      "Relative_Error: 2.8129e+02\n",
      "Relative_Error: 3.0207e+02\n",
      "Relative_Error: 3.2349e+02\n",
      "Relative_Error: 3.4576e+02\n",
      "Relative_Error: 3.6926e+02\n",
      "Relative_Error: 3.9423e+02\n",
      "Relative_Error: 4.2113e+02\n",
      "Relative_Error: 4.4947e+02\n",
      "Relative_Error: 4.8015e+02\n",
      "Relative_Error: 5.1278e+02\n",
      "Relative_Error: 5.4776e+02\n",
      "Relative_Error: 5.8497e+02\n",
      "Relative_Error: 6.2404e+02\n",
      "Relative_Error: 6.6573e+02\n",
      "Relative_Error: 7.1254e+02\n",
      "Relative_Error: 7.6357e+02\n",
      "Relative_Error: 8.2086e+02\n",
      "Relative_Error: 8.8387e+02\n",
      "Relative_Error: 9.5350e+02\n",
      "Relative_Error: 1.0316e+03\n",
      "Relative_Error: 1.1179e+03\n",
      "Relative_Error: 1.2079e+03\n",
      "Relative_Error: 1.3054e+03\n",
      "Relative_Error: 1.4117e+03\n",
      "Relative_Error: 1.5290e+03\n",
      "Relative_Error: 1.6549e+03\n",
      "Relative_Error: 1.7901e+03\n",
      "Relative_Error: 1.9341e+03\n",
      "Relative_Error: 2.0861e+03\n",
      "Relative_Error: 2.2607e+03\n",
      "Relative_Error: 2.4669e+03\n",
      "Relative_Error: 2.7015e+03\n",
      "Relative_Error: 2.9644e+03\n",
      "Relative_Error: 3.2995e+03\n",
      "Relative_Error: 3.6638e+03\n",
      "Relative_Error: 4.0749e+03\n",
      "Relative_Error: 4.5092e+03\n",
      "Relative_Error: 5.0178e+03\n",
      "Relative_Error: 5.6095e+03\n",
      "Relative_Error: 6.2074e+03\n",
      "Relative_Error: 6.7568e+03\n",
      "Relative_Error: 7.3261e+03\n",
      "Relative_Error: 7.6215e+03\n",
      "Relative_Error: 7.8558e+03\n",
      "Relative_Error: 8.2647e+03\n",
      "Relative_Error: 8.8125e+03\n",
      "Relative_Error: 9.2216e+03\n",
      "Relative_Error: 9.7704e+03\n",
      "Relative_Error: 1.0458e+04\n",
      "Relative_Error: 1.1107e+04\n",
      "Relative_Error: 1.1812e+04\n",
      "Relative_Error: 1.2455e+04\n",
      "Relative_Error: 1.3221e+04\n",
      "Relative_Error: 1.4087e+04\n",
      "Relative_Error: 1.4990e+04\n",
      "Relative_Error: 1.6040e+04\n",
      "Relative_Error: 1.7150e+04\n",
      "Relative_Error: 1.8364e+04\n",
      "Relative_Error: 1.9713e+04\n",
      "Relative_Error: 2.1188e+04\n",
      "Relative_Error: 2.2826e+04\n",
      "Relative_Error: 2.4593e+04\n",
      "Relative_Error: 2.6502e+04\n",
      "Relative_Error: 2.8557e+04\n",
      "Relative_Error: 3.0756e+04\n",
      "Relative_Error: 3.3180e+04\n",
      "Relative_Error: 3.5804e+04\n",
      "Relative_Error: 3.8663e+04\n",
      "Relative_Error: 4.1721e+04\n",
      "Relative_Error: 4.5025e+04\n",
      "Relative_Error: 4.8552e+04\n",
      "Relative_Error: 5.2376e+04\n",
      "Relative_Error: 5.6537e+04\n",
      "Relative_Error: 6.1031e+04\n",
      "Relative_Error: 6.5840e+04\n",
      "Relative_Error: 7.1050e+04\n",
      "Relative_Error: 7.6735e+04\n",
      "Relative_Error: 8.2866e+04\n",
      "Relative_Error: 8.9367e+04\n",
      "Relative_Error: 9.6207e+04\n",
      "Relative_Error: 1.0398e+05\n",
      "Relative_Error: 1.1227e+05\n",
      "Relative_Error: 1.2139e+05\n",
      "Relative_Error: 1.3120e+05\n",
      "Relative_Error: 1.4147e+05\n",
      "Relative_Error: 1.5271e+05\n",
      "Relative_Error: 1.6494e+05\n",
      "Relative_Error: 1.7843e+05\n",
      "Relative_Error: 1.9319e+05\n",
      "Relative_Error: 2.0919e+05\n",
      "Relative_Error: 2.2631e+05\n",
      "Relative_Error: 2.4541e+05\n",
      "Relative_Error: 2.6488e+05\n",
      "Relative_Error: 2.8596e+05\n",
      "Relative_Error: 3.0812e+05\n",
      "Relative_Error: 3.3217e+05\n",
      "Relative_Error: 3.5795e+05\n",
      "Relative_Error: 3.8677e+05\n",
      "Relative_Error: 4.1684e+05\n",
      "Relative_Error: 4.4995e+05\n",
      "Relative_Error: 4.8505e+05\n",
      "Relative_Error: 5.2463e+05\n",
      "Relative_Error: 5.6880e+05\n",
      "Relative_Error: 6.1900e+05\n",
      "Relative_Error: 6.7152e+05\n",
      "Relative_Error: 7.3436e+05\n",
      "Relative_Error: 7.9665e+05\n",
      "Relative_Error: 8.6694e+05\n",
      "Relative_Error: 9.3630e+05\n",
      "Relative_Error: 9.9942e+05\n",
      "Relative_Error: 1.0746e+06\n",
      "Relative_Error: 1.1393e+06\n",
      "Relative_Error: 1.2116e+06\n",
      "Relative_Error: 1.2883e+06\n",
      "Relative_Error: 1.3785e+06\n",
      "Relative_Error: 1.4598e+06\n",
      "Relative_Error: 1.5434e+06\n",
      "Relative_Error: 1.6456e+06\n",
      "Relative_Error: 1.7397e+06\n",
      "Relative_Error: 1.8427e+06\n",
      "Relative_Error: 1.9604e+06\n",
      "Relative_Error: 2.0839e+06\n",
      "Relative_Error: 2.2297e+06\n",
      "Relative_Error: 2.3678e+06\n",
      "Relative_Error: 2.5108e+06\n",
      "Relative_Error: 2.6858e+06\n",
      "Relative_Error: 2.8571e+06\n",
      "Relative_Error: 3.0451e+06\n",
      "Relative_Error: 3.2402e+06\n",
      "Relative_Error: 3.4223e+06\n",
      "Relative_Error: 3.6579e+06\n",
      "Relative_Error: 3.8864e+06\n",
      "Relative_Error: 4.1345e+06\n",
      "Relative_Error: 4.3909e+06\n",
      "Relative_Error: 4.6787e+06\n",
      "Relative_Error: 5.0053e+06\n",
      "Relative_Error: 5.3744e+06\n",
      "Relative_Error: 5.7559e+06\n",
      "Relative_Error: 6.1648e+06\n",
      "Relative_Error: 6.6015e+06\n",
      "Relative_Error: 7.0553e+06\n",
      "Relative_Error: 7.5432e+06\n",
      "Relative_Error: 8.0610e+06\n",
      "Relative_Error: 8.5913e+06\n",
      "Relative_Error: 9.1940e+06\n",
      "Relative_Error: 9.8229e+06\n",
      "Relative_Error: 1.0509e+07\n",
      "Relative_Error: 1.1230e+07\n",
      "Relative_Error: 1.2011e+07\n",
      "Relative_Error: 1.2858e+07\n",
      "Relative_Error: 1.3770e+07\n",
      "Relative_Error: 1.4729e+07\n",
      "Relative_Error: 1.5729e+07\n",
      "Relative_Error: 1.6755e+07\n",
      "Relative_Error: 1.7900e+07\n",
      "Relative_Error: 1.9168e+07\n",
      "Relative_Error: 2.0526e+07\n",
      "Relative_Error: 2.1992e+07\n",
      "Relative_Error: 2.3500e+07\n",
      "Relative_Error: 2.5145e+07\n",
      "Relative_Error: 2.6942e+07\n",
      "Relative_Error: 2.8866e+07\n",
      "Relative_Error: 3.0911e+07\n",
      "Relative_Error: 3.3142e+07\n",
      "Relative_Error: 3.5544e+07\n",
      "Relative_Error: 3.8101e+07\n",
      "Relative_Error: 4.0957e+07\n",
      "Relative_Error: 4.4036e+07\n",
      "Relative_Error: 4.7403e+07\n",
      "Relative_Error: 5.1142e+07\n",
      "Relative_Error: 5.5180e+07\n",
      "Relative_Error: 5.9700e+07\n",
      "Relative_Error: 6.4472e+07\n",
      "Relative_Error: 7.0110e+07\n",
      "Relative_Error: 7.5706e+07\n",
      "Relative_Error: 8.1314e+07\n",
      "Relative_Error: 8.8123e+07\n",
      "Relative_Error: 9.4185e+07\n",
      "Relative_Error: 1.0195e+08\n",
      "Relative_Error: 1.1022e+08\n",
      "Relative_Error: 1.1791e+08\n",
      "Relative_Error: 1.2466e+08\n",
      "Relative_Error: 1.3352e+08\n",
      "Relative_Error: 1.4275e+08\n",
      "Relative_Error: 1.5324e+08\n",
      "Relative_Error: 1.6735e+08\n",
      "Relative_Error: 1.8033e+08\n",
      "Relative_Error: 1.9453e+08\n",
      "Relative_Error: 2.0648e+08\n",
      "Relative_Error: 2.2069e+08\n",
      "Relative_Error: 2.3563e+08\n",
      "Relative_Error: 2.5265e+08\n",
      "Relative_Error: 2.7069e+08\n",
      "Relative_Error: 2.9000e+08\n",
      "Relative_Error: 3.1014e+08\n",
      "Relative_Error: 3.3276e+08\n",
      "Relative_Error: 3.5733e+08\n",
      "Relative_Error: 3.8385e+08\n",
      "Relative_Error: 4.1374e+08\n",
      "Relative_Error: 4.4457e+08\n",
      "Relative_Error: 4.7664e+08\n",
      "Relative_Error: 5.1143e+08\n",
      "Relative_Error: 5.4951e+08\n",
      "Relative_Error: 5.9181e+08\n",
      "Relative_Error: 6.3466e+08\n",
      "Relative_Error: 6.8274e+08\n",
      "Relative_Error: 7.3234e+08\n",
      "Relative_Error: 7.8543e+08\n",
      "Relative_Error: 8.4375e+08\n",
      "Relative_Error: 9.0799e+08\n",
      "Relative_Error: 9.7619e+08\n",
      "Relative_Error: 1.0473e+09\n",
      "Relative_Error: 1.1201e+09\n",
      "Relative_Error: 1.2010e+09\n",
      "Relative_Error: 1.2869e+09\n",
      "Relative_Error: 1.3791e+09\n",
      "Relative_Error: 1.4770e+09\n",
      "Relative_Error: 1.5810e+09\n",
      "Relative_Error: 1.6962e+09\n",
      "Relative_Error: 1.8229e+09\n",
      "Relative_Error: 1.9538e+09\n",
      "Relative_Error: 2.0942e+09\n",
      "Relative_Error: 2.2444e+09\n",
      "Relative_Error: 2.4077e+09\n",
      "Relative_Error: 2.5809e+09\n",
      "Relative_Error: 2.7647e+09\n",
      "Relative_Error: 2.9597e+09\n",
      "Relative_Error: 3.1702e+09\n",
      "Relative_Error: 3.3939e+09\n",
      "Relative_Error: 3.6384e+09\n",
      "Relative_Error: 3.9005e+09\n",
      "Relative_Error: 4.1649e+09\n",
      "Relative_Error: 4.4587e+09\n",
      "Relative_Error: 4.7834e+09\n",
      "Relative_Error: 5.1253e+09\n",
      "Relative_Error: 5.4964e+09\n",
      "Relative_Error: 5.8838e+09\n",
      "Relative_Error: 6.2906e+09\n",
      "Relative_Error: 6.7472e+09\n",
      "Relative_Error: 7.2273e+09\n",
      "Relative_Error: 7.7358e+09\n",
      "Relative_Error: 8.2932e+09\n",
      "Relative_Error: 8.8785e+09\n",
      "Relative_Error: 9.5389e+09\n",
      "Relative_Error: 1.0219e+10\n",
      "Relative_Error: 1.0950e+10\n",
      "Relative_Error: 1.1864e+10\n",
      "Relative_Error: 1.2722e+10\n",
      "Relative_Error: 1.3517e+10\n",
      "Relative_Error: 1.4394e+10\n",
      "Relative_Error: 1.5203e+10\n",
      "Relative_Error: 1.6342e+10\n",
      "Relative_Error: 1.7515e+10\n",
      "Relative_Error: 1.8759e+10\n",
      "Relative_Error: 1.9992e+10\n",
      "Relative_Error: 2.1252e+10\n",
      "Relative_Error: 2.2469e+10\n",
      "Relative_Error: 2.3866e+10\n",
      "Relative_Error: 2.5330e+10\n",
      "Relative_Error: 2.6971e+10\n",
      "Relative_Error: 2.8518e+10\n",
      "Relative_Error: 3.0223e+10\n",
      "Relative_Error: 3.2104e+10\n",
      "Relative_Error: 3.4159e+10\n",
      "Relative_Error: 3.6238e+10\n",
      "Relative_Error: 3.8484e+10\n",
      "Relative_Error: 4.0863e+10\n",
      "Relative_Error: 4.3497e+10\n",
      "Relative_Error: 4.6439e+10\n",
      "Relative_Error: 4.9513e+10\n",
      "Relative_Error: 5.2743e+10\n",
      "Relative_Error: 5.6247e+10\n",
      "Relative_Error: 6.0135e+10\n",
      "Relative_Error: 6.4201e+10\n",
      "Relative_Error: 6.8489e+10\n",
      "Relative_Error: 7.2941e+10\n",
      "Relative_Error: 7.8498e+10\n",
      "Relative_Error: 8.3827e+10\n",
      "Relative_Error: 8.9557e+10\n",
      "Relative_Error: 9.5753e+10\n",
      "Relative_Error: 1.0246e+11\n",
      "Relative_Error: 1.0964e+11\n",
      "Relative_Error: 1.1746e+11\n",
      "Relative_Error: 1.2601e+11\n",
      "Relative_Error: 1.3517e+11\n",
      "Relative_Error: 1.4495e+11\n",
      "Relative_Error: 1.5553e+11\n",
      "Relative_Error: 1.6682e+11\n",
      "Relative_Error: 1.7896e+11\n",
      "Relative_Error: 1.9259e+11\n",
      "Relative_Error: 2.0663e+11\n",
      "Relative_Error: 2.2207e+11\n",
      "Relative_Error: 2.3887e+11\n",
      "Relative_Error: 2.5648e+11\n",
      "Relative_Error: 2.7584e+11\n",
      "Relative_Error: 2.9684e+11\n",
      "Relative_Error: 3.1936e+11\n",
      "Relative_Error: 3.4326e+11\n",
      "Relative_Error: 3.6930e+11\n",
      "Relative_Error: 3.9783e+11\n",
      "Relative_Error: 4.2841e+11\n",
      "Relative_Error: 4.6177e+11\n",
      "Relative_Error: 4.9680e+11\n",
      "Relative_Error: 5.3495e+11\n",
      "Relative_Error: 5.7620e+11\n",
      "Relative_Error: 6.2100e+11\n",
      "Relative_Error: 6.6790e+11\n",
      "Relative_Error: 7.1681e+11\n",
      "Relative_Error: 7.7153e+11\n",
      "Relative_Error: 8.3208e+11\n",
      "Relative_Error: 8.9955e+11\n",
      "Relative_Error: 9.7389e+11\n",
      "Relative_Error: 1.0530e+12\n",
      "Relative_Error: 1.1354e+12\n",
      "Relative_Error: 1.2239e+12\n",
      "Relative_Error: 1.3202e+12\n",
      "Relative_Error: 1.4067e+12\n",
      "Relative_Error: 1.5142e+12\n",
      "Relative_Error: 1.6249e+12\n",
      "Relative_Error: 1.7414e+12\n",
      "Relative_Error: 1.8728e+12\n",
      "Relative_Error: 2.0023e+12\n",
      "Relative_Error: 2.1435e+12\n",
      "Relative_Error: 2.2945e+12\n",
      "Relative_Error: 2.4747e+12\n",
      "Relative_Error: 2.6709e+12\n",
      "Relative_Error: 2.8531e+12\n",
      "Relative_Error: 3.0578e+12\n",
      "Relative_Error: 3.2821e+12\n",
      "Relative_Error: 3.5042e+12\n",
      "Relative_Error: 3.7359e+12\n",
      "Relative_Error: 3.9554e+12\n",
      "Relative_Error: 4.2050e+12\n",
      "Relative_Error: 4.4899e+12\n",
      "Relative_Error: 4.7590e+12\n",
      "Relative_Error: 5.0911e+12\n",
      "Relative_Error: 5.4250e+12\n",
      "Relative_Error: 5.7926e+12\n",
      "Relative_Error: 6.1830e+12\n",
      "Relative_Error: 6.6029e+12\n",
      "Relative_Error: 7.0556e+12\n",
      "Relative_Error: 7.5393e+12\n",
      "Relative_Error: 8.0552e+12\n",
      "Relative_Error: 8.6132e+12\n",
      "Relative_Error: 9.1993e+12\n",
      "Relative_Error: 9.8145e+12\n",
      "Relative_Error: 1.0463e+13\n",
      "Relative_Error: 1.1179e+13\n",
      "Relative_Error: 1.1902e+13\n",
      "Relative_Error: 1.2661e+13\n",
      "Relative_Error: 1.3489e+13\n",
      "Relative_Error: 1.4397e+13\n",
      "Relative_Error: 1.5366e+13\n",
      "Relative_Error: 1.6395e+13\n",
      "Relative_Error: 1.7504e+13\n",
      "Relative_Error: 1.8684e+13\n",
      "Relative_Error: 1.9952e+13\n",
      "Relative_Error: 2.1288e+13\n",
      "Relative_Error: 2.2670e+13\n",
      "Relative_Error: 2.4168e+13\n",
      "Relative_Error: 2.5792e+13\n",
      "Relative_Error: 2.7476e+13\n",
      "Relative_Error: 2.9302e+13\n",
      "Relative_Error: 3.1229e+13\n"
     ]
    },
    {
     "name": "stdout",
     "output_type": "stream",
     "text": [
      "Relative_Error: 3.3313e+13\n",
      "Relative_Error: 3.5545e+13\n",
      "Relative_Error: 3.7910e+13\n",
      "Relative_Error: 4.0529e+13\n",
      "Relative_Error: 4.3269e+13\n",
      "Relative_Error: 4.6158e+13\n",
      "Relative_Error: 4.9164e+13\n",
      "Relative_Error: 5.2341e+13\n",
      "Relative_Error: 5.5745e+13\n",
      "Relative_Error: 5.9491e+13\n",
      "Relative_Error: 6.3553e+13\n",
      "Relative_Error: 6.7851e+13\n",
      "Relative_Error: 7.2404e+13\n",
      "Relative_Error: 7.7274e+13\n",
      "Relative_Error: 8.2432e+13\n",
      "Relative_Error: 8.8298e+13\n",
      "Relative_Error: 9.4547e+13\n",
      "Relative_Error: 1.0130e+14\n",
      "Relative_Error: 1.0927e+14\n",
      "Relative_Error: 1.1721e+14\n",
      "Relative_Error: 1.2608e+14\n",
      "Relative_Error: 1.3496e+14\n",
      "Relative_Error: 1.4287e+14\n",
      "Relative_Error: 1.5087e+14\n",
      "Relative_Error: 1.6061e+14\n",
      "Relative_Error: 1.7182e+14\n",
      "Relative_Error: 1.8507e+14\n",
      "Relative_Error: 1.9862e+14\n",
      "Relative_Error: 2.1292e+14\n",
      "Relative_Error: 2.2799e+14\n",
      "Relative_Error: 2.4302e+14\n",
      "Relative_Error: 2.5998e+14\n",
      "Relative_Error: 2.7792e+14\n",
      "Relative_Error: 2.9470e+14\n",
      "Relative_Error: 3.1590e+14\n",
      "Relative_Error: 3.3758e+14\n",
      "Relative_Error: 3.6031e+14\n",
      "Relative_Error: 3.8585e+14\n",
      "Relative_Error: 4.1592e+14\n",
      "Relative_Error: 4.4662e+14\n",
      "Relative_Error: 4.7480e+14\n",
      "Relative_Error: 5.1106e+14\n",
      "Relative_Error: 5.4792e+14\n",
      "Relative_Error: 5.8512e+14\n",
      "Relative_Error: 6.2498e+14\n",
      "Relative_Error: 6.7111e+14\n",
      "Relative_Error: 7.2101e+14\n",
      "Relative_Error: 7.7535e+14\n",
      "Relative_Error: 8.3448e+14\n",
      "Relative_Error: 8.9588e+14\n",
      "Relative_Error: 9.5976e+14\n",
      "Relative_Error: 1.0310e+15\n",
      "Relative_Error: 1.1118e+15\n",
      "Relative_Error: 1.1972e+15\n",
      "Relative_Error: 1.2913e+15\n",
      "Relative_Error: 1.3879e+15\n",
      "Relative_Error: 1.4890e+15\n",
      "Relative_Error: 1.6012e+15\n",
      "Relative_Error: 1.7170e+15\n",
      "Relative_Error: 1.8377e+15\n",
      "Relative_Error: 1.9740e+15\n",
      "Relative_Error: 2.1175e+15\n",
      "Relative_Error: 2.2716e+15\n",
      "Relative_Error: 2.4389e+15\n",
      "Relative_Error: 2.6221e+15\n",
      "Relative_Error: 2.8224e+15\n",
      "Relative_Error: 3.0352e+15\n",
      "Relative_Error: 3.2622e+15\n",
      "Relative_Error: 3.5095e+15\n",
      "Relative_Error: 3.7730e+15\n",
      "Relative_Error: 4.0515e+15\n",
      "Relative_Error: 4.3619e+15\n",
      "Relative_Error: 4.6731e+15\n",
      "Relative_Error: 5.0100e+15\n",
      "Relative_Error: 5.3633e+15\n",
      "Relative_Error: 5.7688e+15\n",
      "Relative_Error: 6.1949e+15\n",
      "Relative_Error: 6.6633e+15\n",
      "Relative_Error: 7.1686e+15\n"
     ]
    }
   ],
   "source": [
    "for a,b in zip(*Us,*U_hats):\n",
    "    rel_error = torch.norm(a - b)/torch.norm(a)\n",
    "    writeMessage(\"Relative_Error: {:.4e}\".format(rel_error),versionName)"
   ]
  },
  {
   "cell_type": "code",
   "execution_count": 81,
   "metadata": {
    "ExecuteTime": {
     "end_time": "2021-01-25T22:28:14.193871Z",
     "start_time": "2021-01-25T22:28:14.086886Z"
    }
   },
   "outputs": [
    {
     "name": "stdout",
     "output_type": "stream",
     "text": [
      "0\n"
     ]
    }
   ],
   "source": [
    "sim = -1\n",
    "rel_error_by_sim_and_frame = []\n",
    "for batch_real, batch_surr in zip(Real_U,Surr_U):\n",
    "    sim+=1\n",
    "    rel_error_by_sim_and_frame.append([])\n",
    "    for frame_real, frame_surr in zip(batch_real, batch_surr):\n",
    "        assert frame_real.size()==torch.Size((1,128,128))\n",
    "        rel_error_by_sim_and_frame[sim].append( torch.norm(frame_surr - frame_real)/torch.norm(frame_real))\n",
    "print(sim)"
   ]
  },
  {
   "cell_type": "code",
   "execution_count": 82,
   "metadata": {
    "ExecuteTime": {
     "end_time": "2021-01-25T22:28:15.290914Z",
     "start_time": "2021-01-25T22:28:14.881294Z"
    }
   },
   "outputs": [
    {
     "data": {
      "image/png": "[encoded data removed]",
      "text/plain": [
       "<Figure size 432x288 with 1 Axes>"
      ]
     },
     "metadata": {
      "needs_background": "light"
     },
     "output_type": "display_data"
    },
    {
     "data": {
      "image/png": "[encoded data removed]",
      "text/plain": [
       "<Figure size 432x288 with 1 Axes>"
      ]
     },
     "metadata": {
      "needs_background": "light"
     },
     "output_type": "display_data"
    }
   ],
   "source": [
    "plt.semilogy(np.vstack(rel_error_by_sim_and_frame).T)\n",
    "plt.legend([i for i in range(len(testSimFiles))])\n",
    "plt.show()\n",
    "plt.plot(np.vstack(rel_error_by_sim_and_frame)[:,:50].T)\n",
    "plt.legend([i for i in range(len(testSimFiles))])\n",
    "plt.show()"
   ]
  },
  {
   "cell_type": "code",
   "execution_count": null,
   "metadata": {
    "ExecuteTime": {
     "start_time": "2021-01-25T05:48:11.015Z"
    }
   },
   "outputs": [],
   "source": [
    "\n",
    "Surr_U_img = [torch.rot90(convertSimToImage(s),1,dims=[2,3]) for row in [Surr_U] for s in row]\n",
    "Real_U_img = [torch.rot90(convertSimToImage(s),1,dims=[2,3]) for row in [Real_U] for s in row]\n",
    "triptych = torch.cat([Surr_U_img[0], Real_U_img[sim]], dim=3)\n",
    "triptych=triptych.transpose(1,3)\n",
    "triptych=triptych.transpose(1,2)\n",
    "triptych.shape\n",
    "import imageio\n",
    "#imageio.mimwrite('test.mp4', triptych , fps = 60)"
   ]
  },
  {
   "cell_type": "code",
   "execution_count": null,
   "metadata": {
    "ExecuteTime": {
     "start_time": "2021-01-25T05:48:11.017Z"
    }
   },
   "outputs": [],
   "source": [
    "#pkl_save(Surr_U_img, '08_MLP_surr.pkl')"
   ]
  },
  {
   "cell_type": "code",
   "execution_count": null,
   "metadata": {},
   "outputs": [],
   "source": []
  }
 ],
 "metadata": {
  "kernelspec": {
   "display_name": "Python 3",
   "language": "python",
   "name": "python3"
  },
  "language_info": {
   "codemirror_mode": {
    "name": "ipython",
    "version": 3
   },
   "file_extension": ".py",
   "mimetype": "text/x-python",
   "name": "python",
   "nbconvert_exporter": "python",
   "pygments_lexer": "ipython3",
   "version": "3.8.3"
  }
 },
 "nbformat": 4,
 "nbformat_minor": 2
}
